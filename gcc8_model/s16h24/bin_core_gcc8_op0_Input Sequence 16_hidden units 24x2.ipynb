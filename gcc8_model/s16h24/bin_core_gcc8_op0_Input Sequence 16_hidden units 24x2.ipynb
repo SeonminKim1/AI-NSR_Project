{
 "cells": [
  {
   "cell_type": "markdown",
   "metadata": {},
   "source": [
    "## RNN 모델 N-Byte 방식 (함수정보 포함 vs 미포함 => 1:1 비율)\n",
    "\n",
    "## (1) 데이터로드"
   ]
  },
  {
   "cell_type": "code",
   "execution_count": 1,
   "metadata": {},
   "outputs": [
    {
     "name": "stdout",
     "output_type": "stream",
     "text": [
      "(30111221, 2)\n",
      "shape - (30111221, 2)\n",
      "reset_index 완료\n",
      "input data shape\n"
     ]
    },
    {
     "data": {
      "text/html": [
       "<div>\n",
       "<style scoped>\n",
       "    .dataframe tbody tr th:only-of-type {\n",
       "        vertical-align: middle;\n",
       "    }\n",
       "\n",
       "    .dataframe tbody tr th {\n",
       "        vertical-align: top;\n",
       "    }\n",
       "\n",
       "    .dataframe thead th {\n",
       "        text-align: right;\n",
       "    }\n",
       "</style>\n",
       "<table border=\"1\" class=\"dataframe\">\n",
       "  <thead>\n",
       "    <tr style=\"text-align: right;\">\n",
       "      <th></th>\n",
       "      <th>bin</th>\n",
       "      <th>label</th>\n",
       "    </tr>\n",
       "  </thead>\n",
       "  <tbody>\n",
       "    <tr>\n",
       "      <th>0</th>\n",
       "      <td>47</td>\n",
       "      <td>0</td>\n",
       "    </tr>\n",
       "    <tr>\n",
       "      <th>1</th>\n",
       "      <td>108</td>\n",
       "      <td>0</td>\n",
       "    </tr>\n",
       "    <tr>\n",
       "      <th>2</th>\n",
       "      <td>105</td>\n",
       "      <td>0</td>\n",
       "    </tr>\n",
       "    <tr>\n",
       "      <th>3</th>\n",
       "      <td>98</td>\n",
       "      <td>0</td>\n",
       "    </tr>\n",
       "    <tr>\n",
       "      <th>4</th>\n",
       "      <td>47</td>\n",
       "      <td>0</td>\n",
       "    </tr>\n",
       "  </tbody>\n",
       "</table>\n",
       "</div>"
      ],
      "text/plain": [
       "   bin  label\n",
       "0   47      0\n",
       "1  108      0\n",
       "2  105      0\n",
       "3   98      0\n",
       "4   47      0"
      ]
     },
     "execution_count": 1,
     "metadata": {},
     "output_type": "execute_result"
    }
   ],
   "source": [
    "# (1) 데이터로드\n",
    "import pandas as pd\n",
    "import numpy as np\n",
    "\n",
    "import warnings\n",
    "warnings.filterwarnings(action='ignore')\n",
    "\n",
    "# 여러개 쳐도 나오게\n",
    "from IPython.core.interactiveshell import InteractiveShell\n",
    "InteractiveShell.ast_node_interactivity = \"all\"\n",
    "\n",
    "# 파일읽기\n",
    "bin8_0 = pd.read_csv(\"../../바이너리_최종데이터_1004/gcc8/o0/o0_bincore8.csv\", index_col=0)\n",
    "print(bin8_0.shape)\n",
    "\n",
    "# reset_index (hex processing 하면서 값이 빠졌으니까 + n_gram 에서 index를 다루기 때문에)\n",
    "bin8_0.reset_index(inplace=True, drop=True)\n",
    "\n",
    "print('shape -', bin8_0.shape)\n",
    "print('reset_index 완료')\n",
    "print('input data shape')\n",
    "bin8_0.head()"
   ]
  },
  {
   "cell_type": "code",
   "execution_count": 2,
   "metadata": {},
   "outputs": [
    {
     "name": "stdout",
     "output_type": "stream",
     "text": [
      "256\n",
      "0    30060985\n",
      "1       50236\n",
      "Name: label, dtype: int64\n"
     ]
    }
   ],
   "source": [
    "# (2-1) 데이터체크 1 - hex(16진수)가 256 label을 가져야 dummies 변환 가능 \n",
    "# 16진수 256개 종류가 있어서 pd.get_dummies 사용 가능.\n",
    "print(len(bin8_0['bin'].unique()))\n",
    "\n",
    "# (2-2) 데이터 체크 2 - 1, 0 비율 ==> 1이 함수의 갯수를 뜻함\n",
    "# 정답 데이터 1, 0 비율 확인  ==> 1이 함수의 갯수를 뜻함\n",
    "print(bin8_0['label'].value_counts())"
   ]
  },
  {
   "cell_type": "markdown",
   "metadata": {},
   "source": [
    "## (3) N Byte씩 자르기"
   ]
  },
  {
   "cell_type": "code",
   "execution_count": 3,
   "metadata": {},
   "outputs": [
    {
     "name": "stdout",
     "output_type": "stream",
     "text": [
      "803776\n",
      "나머지 0\n",
      "최종 길이 803776\n",
      "bin8_0 803776\n"
     ]
    }
   ],
   "source": [
    "idx_bin = bin8_0[bin8_0['label']==1].index  # 407, 474 ...\n",
    "ls_bin = list(idx_bin)\n",
    "\n",
    "# 최종 뽑을 행에 대한 index\n",
    "ls_idx_bin = []\n",
    "\n",
    "# n byte 자르기 방식\n",
    "left_idx, right_idx = 0, 16 # 3개씩\n",
    "\n",
    "# n byte 자르기\n",
    "for k in range(left_idx, right_idx):\n",
    "    ls_idx_bin.extend(list(idx_bin + k)) # index 형이라서 가능\n",
    "\n",
    "#ls_idx = list(set(ls_idx)) \n",
    "ls_idx_bin.sort() # 인덱스 정렬\n",
    "\n",
    "# 1차 index 해당범위 초과한 것들 없애기\n",
    "ls_idx_bin = list(filter(lambda x: x<len(bin8_0), ls_idx_bin))\n",
    "print(len(ls_idx_bin))\n",
    "\n",
    "# 2차 남은 index들 중 right_idx 나눈 나머지 없애기\n",
    "sub_bin = len(ls_idx_bin)%(right_idx)\n",
    "print('나머지', sub_bin)\n",
    "\n",
    "ls_idx_bin = ls_idx_bin[:len(ls_idx_bin)-sub_bin]\n",
    "print('최종 길이', len(ls_idx_bin))\n",
    "\n",
    "print('bin8_0', len(ls_idx_bin))\n",
    "\n",
    "# loc 로 수정필요\n",
    "bin8_0_Ngram = bin8_0.loc[ls_idx_bin,:].copy()"
   ]
  },
  {
   "cell_type": "markdown",
   "metadata": {},
   "source": [
    "## (4) false data 만들기"
   ]
  },
  {
   "cell_type": "code",
   "execution_count": 4,
   "metadata": {},
   "outputs": [
    {
     "name": "stdout",
     "output_type": "stream",
     "text": [
      "79730.0\n",
      "0 27893635\n",
      "1000 22113236\n",
      "2000 22810738\n",
      "3000 29763201\n",
      "4000 13487996\n",
      "5000 20028829\n",
      "6000 23212675\n",
      "7000 10043374\n",
      "8000 1870256\n",
      "9000 7717973\n",
      "10000 248140\n",
      "11000 25057245\n",
      "12000 29208168\n",
      "13000 13010507\n",
      "14000 9084269\n",
      "15000 20766201\n",
      "16000 16732068\n",
      "17000 561510\n",
      "18000 23443829\n",
      "19000 14691836\n",
      "20000 25933862\n",
      "21000 21792948\n",
      "22000 7551461\n",
      "23000 8096856\n",
      "24000 23204085\n",
      "25000 24389155\n",
      "26000 6134588\n",
      "27000 3012152\n",
      "28000 19493623\n",
      "29000 23129798\n",
      "30000 25264001\n",
      "31000 23852215\n",
      "32000 23231736\n",
      "33000 9529692\n",
      "34000 11940425\n",
      "35000 3242907\n",
      "36000 2100906\n",
      "37000 15561180\n",
      "38000 4707753\n",
      "39000 19776925\n",
      "40000 28147135\n",
      "41000 365159\n",
      "42000 850681\n",
      "43000 23540147\n",
      "44000 27186345\n",
      "45000 3792810\n",
      "46000 5806374\n",
      "47000 27093561\n",
      "48000 18148488\n",
      "49000 29802770\n",
      "50000 12159098\n",
      "51000 26181526\n",
      "52000 5023832\n",
      "53000 4852134\n",
      "54000 16715359\n",
      "55000 29502015\n",
      "56000 11485799\n",
      "57000 25471396\n",
      "58000 13928870\n",
      "59000 17418161\n",
      "60000 27964220\n",
      "61000 12764441\n",
      "62000 12586889\n",
      "63000 12878814\n",
      "64000 13411087\n",
      "65000 10944994\n",
      "66000 21461672\n",
      "67000 25200687\n",
      "68000 14079694\n",
      "69000 13225738\n",
      "70000 26731971\n",
      "71000 20301969\n",
      "72000 22812694\n",
      "73000 10699816\n",
      "74000 13839505\n",
      "75000 12831256\n",
      "76000 5264167\n",
      "77000 22144075\n",
      "78000 14468036\n",
      "79000 12707674\n",
      "완료\n",
      "79730\n"
     ]
    }
   ],
   "source": [
    "# false data 만들기 - False 데이터 랜덤 생성\n",
    "\n",
    "# 목표치\n",
    "goal_bin = len(bin8_0_Ngram)/right_idx\n",
    "count_bin = 0\n",
    "\n",
    "print(goal_bin)\n",
    "\n",
    "# 최종 데이터 Frame\n",
    "d_bin = pd.DataFrame(columns = bin8_0.columns)\n",
    "\n",
    "binutils_df = []\n",
    "# goal 에 도달할 때까지\n",
    "while True:\n",
    "    if (count_bin == goal_bin):\n",
    "            break\n",
    "    # 진행상황 살펴보기 위함\n",
    "            \n",
    "    # 랜덤 N 바이트씩 뽑음\n",
    "    # random index\n",
    "    random_idx_bin = np.random.randint(len(bin8_0)-right_idx)\n",
    "\n",
    "    if count_bin % 1000==0:\n",
    "        print(count_bin, end=' ')\n",
    "        print(random_idx_bin)\n",
    "\n",
    "    df_bin = bin8_0[random_idx_bin : random_idx_bin + right_idx]\n",
    "    \n",
    "    # 뽑은 index의 N 바이트 중에 1이 없는 경우만\n",
    "    if 1 not in df_bin['label'] and count_bin < goal_bin:\n",
    "        binutils_df.append(df_bin)\n",
    "        count_bin+=1\n",
    "\n",
    "print('완료')\n",
    "print(len(binutils_df))"
   ]
  },
  {
   "cell_type": "code",
   "execution_count": 5,
   "metadata": {},
   "outputs": [
    {
     "name": "stdout",
     "output_type": "stream",
     "text": [
      "79730\n",
      "50236\n"
     ]
    }
   ],
   "source": [
    "# True data와 False Data 같은지 체크\n",
    "print(len(binutils_df))\n",
    "print(bin8_0['label'].value_counts()[1])"
   ]
  },
  {
   "cell_type": "markdown",
   "metadata": {},
   "source": [
    "## (5) False Data + True Data 합치기"
   ]
  },
  {
   "cell_type": "code",
   "execution_count": 6,
   "metadata": {},
   "outputs": [
    {
     "data": {
      "text/plain": [
       "(2551360, 2)"
      ]
     },
     "execution_count": 6,
     "metadata": {},
     "output_type": "execute_result"
    }
   ],
   "source": [
    "f_data = pd.concat(binutils_df)\n",
    "final = pd.concat([f_data, bin8_0_Ngram])\n",
    "final.shape"
   ]
  },
  {
   "cell_type": "markdown",
   "metadata": {},
   "source": [
    "## (6) one hot encoding"
   ]
  },
  {
   "cell_type": "code",
   "execution_count": 7,
   "metadata": {},
   "outputs": [
    {
     "name": "stdout",
     "output_type": "stream",
     "text": [
      "원핫인코딩완료\n",
      "(2551360, 257)\n"
     ]
    }
   ],
   "source": [
    "# 훈련데이터 (gcc 최적화버전 0, 1, 2, 3 one hot encoding)\n",
    "bc8_0_onehot_Ngram = pd.get_dummies(final['bin'])\n",
    "bc8_0_onehot_Ngram = pd.concat([final['label'], bc8_0_onehot_Ngram], axis=1)\n",
    "\n",
    "print('원핫인코딩완료')\n",
    "print(bc8_0_onehot_Ngram.shape)"
   ]
  },
  {
   "cell_type": "code",
   "execution_count": 8,
   "metadata": {},
   "outputs": [
    {
     "name": "stdout",
     "output_type": "stream",
     "text": [
      "(2551360, 256) (2551360, 256)\n",
      "(159460, 16, 256) (159460, 16, 1)\n"
     ]
    }
   ],
   "source": [
    "# 훈련 데이터, 훈련 라벨\n",
    "x_bc8_0 = bc8_0_onehot_Ngram.iloc[:,1:].to_numpy()\n",
    "y_bc8_0 = bc8_0_onehot_Ngram['label'].to_numpy()\n",
    "print(x_bc8_0.shape, x_bc8_0.shape)\n",
    "\n",
    "x_bc8_0 = x_bc8_0.reshape(-1, right_idx, x_bc8_0.shape[1])\n",
    "y_bc8_0 = y_bc8_0.reshape(-1, right_idx, 1)\n",
    "\n",
    "print(x_bc8_0.shape, y_bc8_0.shape)"
   ]
  },
  {
   "cell_type": "code",
   "execution_count": 9,
   "metadata": {},
   "outputs": [
    {
     "name": "stdout",
     "output_type": "stream",
     "text": [
      "(159460, 16, 256) (159460, 16, 1)\n"
     ]
    }
   ],
   "source": [
    "# numpy 행, 열 섞기\n",
    "p = np.random.permutation(x_bc8_0.shape[0])\n",
    "\n",
    "x_bc8_0 = x_bc8_0[p]\n",
    "y_bc8_0 = y_bc8_0[p]\n",
    "\n",
    "print(x_bc8_0.shape, y_bc8_0.shape)"
   ]
  },
  {
   "cell_type": "markdown",
   "metadata": {},
   "source": [
    "## (7) 모델"
   ]
  },
  {
   "cell_type": "code",
   "execution_count": 10,
   "metadata": {},
   "outputs": [],
   "source": [
    "# (10) 양방향 LSTM 모델링 작업\n",
    "from tensorflow.keras import layers, models\n",
    "#from tf.keras.models import Model, Sequential\n",
    "#from tf.keras.layers import SimpleRNN, Input, Dense, LSTM\n",
    "#from tf.keras.layers import Bidirectional, TimeDistributed\n",
    "\n",
    "# 학습\n",
    "from tensorflow.keras.callbacks import EarlyStopping\n",
    "early_stopping = EarlyStopping(patience = 3) # 조기종료 콜백함수 정의\n",
    "\n",
    "xInput = layers.Input(batch_shape=(None,right_idx, 256)) \n",
    "xBiLstm = layers.Bidirectional(layers.LSTM(24, return_sequences=True, stateful=False), merge_mode = 'concat')(xInput)\n",
    "xOutput = layers.TimeDistributed(layers.Dense(1, activation ='sigmoid'))(xBiLstm) # 각 스텝에서 cost가 전송되고, 오류가 다음 step으로 전송됨."
   ]
  },
  {
   "cell_type": "markdown",
   "metadata": {},
   "source": [
    "## (8) 학습 - 10 KFold"
   ]
  },
  {
   "cell_type": "code",
   "execution_count": 11,
   "metadata": {
    "scrolled": false
   },
   "outputs": [
    {
     "name": "stdout",
     "output_type": "stream",
     "text": [
      "Model: \"model\"\n",
      "_________________________________________________________________\n",
      "Layer (type)                 Output Shape              Param #   \n",
      "=================================================================\n",
      "input_1 (InputLayer)         [(None, 16, 256)]         0         \n",
      "_________________________________________________________________\n",
      "bidirectional (Bidirectional (None, 16, 48)            53952     \n",
      "_________________________________________________________________\n",
      "time_distributed (TimeDistri (None, 16, 1)             49        \n",
      "=================================================================\n",
      "Total params: 54,001\n",
      "Trainable params: 54,001\n",
      "Non-trainable params: 0\n",
      "_________________________________________________________________\n",
      "======Training stage======\n",
      "Train on 143514 samples\n",
      "Epoch 1/10\n",
      "143488/143514 [============================>.] - ETA: 0s - loss: 0.0078 - accuracy: 0.9982WARNING:tensorflow:Early stopping conditioned on metric `val_loss` which is not available. Available metrics are: loss,accuracy\n",
      "143514/143514 [==============================] - 103s 718us/sample - loss: 0.0078 - accuracy: 0.9982\n",
      "Epoch 2/10\n",
      "143456/143514 [============================>.] - ETA: 0s - loss: 8.3878e-04 - accuracy: 0.9998 EWARNING:tensorflow:Early stopping conditioned on metric `val_loss` which is not available. Available metrics are: loss,accuracy\n",
      "143514/143514 [==============================] - 99s 693us/sample - loss: 8.3870e-04 - accuracy: 0.9998\n",
      "Epoch 3/10\n",
      "143424/143514 [============================>.] - ETA: 0s - loss: 6.0329e-04 - accuracy: 0.9998WARNING:tensorflow:Early stopping conditioned on metric `val_loss` which is not available. Available metrics are: loss,accuracy\n",
      "143514/143514 [==============================] - 108s 750us/sample - loss: 6.0297e-04 - accuracy: 0.9998\n",
      "Epoch 4/10\n",
      "143456/143514 [============================>.] - ETA: 0s - loss: 4.8860e-04 - accuracy: 0.9999WARNING:tensorflow:Early stopping conditioned on metric `val_loss` which is not available. Available metrics are: loss,accuracy\n",
      "143514/143514 [==============================] - 106s 739us/sample - loss: 4.8843e-04 - accuracy: 0.9999\n",
      "Epoch 5/10\n",
      "143488/143514 [============================>.] - ETA: 0s - loss: 4.4399e-04 - accuracy: 0.9999 ETA: 0s - loss: 4WARNING:tensorflow:Early stopping conditioned on metric `val_loss` which is not available. Available metrics are: loss,accuracy\n",
      "143514/143514 [==============================] - 106s 741us/sample - loss: 4.4391e-04 - accuracy: 0.9999\n",
      "Epoch 6/10\n",
      "143456/143514 [============================>.] - ETA: 0s - loss: 4.0222e-04 - accuracy: 0.9999WARNING:tensorflow:Early stopping conditioned on metric `val_loss` which is not available. Available metrics are: loss,accuracy\n",
      "143514/143514 [==============================] - 86s 596us/sample - loss: 4.0206e-04 - accuracy: 0.9999\n",
      "Epoch 7/10\n",
      "143392/143514 [============================>.] - ETA: 0s - loss: 3.8307e-04 - accuracy: 0.9999WARNING:tensorflow:Early stopping conditioned on metric `val_loss` which is not available. Available metrics are: loss,accuracy\n",
      "143514/143514 [==============================] - 99s 687us/sample - loss: 3.8425e-04 - accuracy: 0.9999\n",
      "Epoch 8/10\n",
      "143424/143514 [============================>.] - ETA: 0s - loss: 3.4740e-04 - accuracy: 0.9999WARNING:tensorflow:Early stopping conditioned on metric `val_loss` which is not available. Available metrics are: loss,accuracy\n",
      "143514/143514 [==============================] - 92s 640us/sample - loss: 3.4719e-04 - accuracy: 0.9999\n",
      "Epoch 9/10\n",
      "143488/143514 [============================>.] - ETA: 0s - loss: 3.5557e-04 - accuracy: 0.9999WARNING:tensorflow:Early stopping conditioned on metric `val_loss` which is not available. Available metrics are: loss,accuracy\n",
      "143514/143514 [==============================] - 97s 674us/sample - loss: 3.5550e-04 - accuracy: 0.9999\n",
      "Epoch 10/10\n",
      "143488/143514 [============================>.] - ETA: 0s - loss: 3.2327e-04 - accuracy: 0.9999 ETA: 0s - loss: 3.2361e-04 - accuracy: 0.WARNING:tensorflow:Early stopping conditioned on metric `val_loss` which is not available. Available metrics are: loss,accuracy\n",
      "143514/143514 [==============================] - 110s 764us/sample - loss: 3.2321e-04 - accuracy: 0.9999\n"
     ]
    },
    {
     "data": {
      "text/plain": [
       "<tensorflow.python.keras.callbacks.History at 0x2ddadd89648>"
      ]
     },
     "execution_count": 11,
     "metadata": {},
     "output_type": "execute_result"
    },
    {
     "name": "stdout",
     "output_type": "stream",
     "text": [
      "accuracy_score 0.999862818261633\n",
      "recall_score 0.9970474257243034\n",
      "precision_score 0.9964957580228698\n",
      "f1_score 0.9967715155428466\n",
      "Model: \"model_1\"\n",
      "_________________________________________________________________\n",
      "Layer (type)                 Output Shape              Param #   \n",
      "=================================================================\n",
      "input_1 (InputLayer)         [(None, 16, 256)]         0         \n",
      "_________________________________________________________________\n",
      "bidirectional (Bidirectional (None, 16, 48)            53952     \n",
      "_________________________________________________________________\n",
      "time_distributed (TimeDistri (None, 16, 1)             49        \n",
      "=================================================================\n",
      "Total params: 54,001\n",
      "Trainable params: 54,001\n",
      "Non-trainable params: 0\n",
      "_________________________________________________________________\n",
      "======Training stage======\n",
      "Train on 143514 samples\n",
      "Epoch 1/10\n",
      "143488/143514 [============================>.] - ETA: 0s - loss: 3.1766e-04 - accuracy: 0.9999WARNING:tensorflow:Early stopping conditioned on metric `val_loss` which is not available. Available metrics are: loss,accuracy\n",
      "143514/143514 [==============================] - 132s 918us/sample - loss: 3.1761e-04 - accuracy: 0.9999\n",
      "Epoch 2/10\n",
      "143456/143514 [============================>.] - ETA: 0s - loss: 2.8974e-04 - accuracy: 0.9999 ETA: 1s - loss: 2.8920e-04 -  -WARNING:tensorflow:Early stopping conditioned on metric `val_loss` which is not available. Available metrics are: loss,accuracy\n",
      "143514/143514 [==============================] - 109s 762us/sample - loss: 2.8963e-04 - accuracy: 0.9999\n",
      "Epoch 3/10\n",
      "143488/143514 [============================>.] - ETA: 0s - loss: 3.0024e-04 - accuracy: 0.9999 ETA: 1s - loss: 3WARNING:tensorflow:Early stopping conditioned on metric `val_loss` which is not available. Available metrics are: loss,accuracy\n",
      "143514/143514 [==============================] - 108s 749us/sample - loss: 3.0019e-04 - accuracy: 0.9999\n",
      "Epoch 4/10\n",
      "143424/143514 [============================>.] - ETA: 0s - loss: 2.7637e-04 - accuracy: 0.9999WARNING:tensorflow:Early stopping conditioned on metric `val_loss` which is not available. Available metrics are: loss,accuracy\n",
      "143514/143514 [==============================] - 92s 641us/sample - loss: 2.7620e-04 - accuracy: 0.9999\n",
      "Epoch 5/10\n",
      "143424/143514 [============================>.] - ETA: 0s - loss: 2.7011e-04 - accuracy: 0.9999WARNING:tensorflow:Early stopping conditioned on metric `val_loss` which is not available. Available metrics are: loss,accuracy\n",
      "143514/143514 [==============================] - 81s 568us/sample - loss: 2.7022e-04 - accuracy: 0.9999\n",
      "Epoch 6/10\n",
      "143488/143514 [============================>.] - ETA: 0s - loss: 2.6156e-04 - accuracy: 0.9999WARNING:tensorflow:Early stopping conditioned on metric `val_loss` which is not available. Available metrics are: loss,accuracy\n",
      "143514/143514 [==============================] - 104s 723us/sample - loss: 2.6151e-04 - accuracy: 0.9999\n",
      "Epoch 7/10\n",
      "143456/143514 [============================>.] - ETA: 0s - loss: 2.4923e-04 - accuracy: 0.9999WARNING:tensorflow:Early stopping conditioned on metric `val_loss` which is not available. Available metrics are: loss,accuracy\n",
      "143514/143514 [==============================] - 110s 768us/sample - loss: 2.4913e-04 - accuracy: 0.9999\n",
      "Epoch 8/10\n",
      "143456/143514 [============================>.] - ETA: 0s - loss: 2.3532e-04 - accuracy: 0.9999WARNING:tensorflow:Early stopping conditioned on metric `val_loss` which is not available. Available metrics are: loss,accuracy\n",
      "143514/143514 [==============================] - 109s 757us/sample - loss: 2.3523e-04 - accuracy: 0.9999\n",
      "Epoch 9/10\n",
      "143456/143514 [============================>.] - ETA: 0s - loss: 2.4901e-04 - accuracy: 0.9999 ETA: 0s - loss: 2.4940e-04 - accuracy: WARNING:tensorflow:Early stopping conditioned on metric `val_loss` which is not available. Available metrics are: loss,accuracy\n",
      "143514/143514 [==============================] - 110s 766us/sample - loss: 2.4947e-04 - accuracy: 0.9999\n",
      "Epoch 10/10\n",
      "143488/143514 [============================>.] - ETA: 0s - loss: 2.4527e-04 - accuracy: 0.9999WARNING:tensorflow:Early stopping conditioned on metric `val_loss` which is not available. Available metrics are: loss,accuracy\n",
      "143514/143514 [==============================] - 109s 763us/sample - loss: 2.4522e-04 - accuracy: 0.9999\n"
     ]
    },
    {
     "data": {
      "text/plain": [
       "<tensorflow.python.keras.callbacks.History at 0x2dd8a4985c8>"
      ]
     },
     "execution_count": 11,
     "metadata": {},
     "output_type": "execute_result"
    },
    {
     "name": "stdout",
     "output_type": "stream",
     "text": [
      "accuracy_score 0.9998667377398721\n",
      "recall_score 0.9959388899632566\n",
      "precision_score 0.9974820840596552\n",
      "f1_score 0.9967098896845364\n",
      "Model: \"model_2\"\n",
      "_________________________________________________________________\n",
      "Layer (type)                 Output Shape              Param #   \n",
      "=================================================================\n",
      "input_1 (InputLayer)         [(None, 16, 256)]         0         \n",
      "_________________________________________________________________\n",
      "bidirectional (Bidirectional (None, 16, 48)            53952     \n",
      "_________________________________________________________________\n",
      "time_distributed (TimeDistri (None, 16, 1)             49        \n",
      "=================================================================\n",
      "Total params: 54,001\n",
      "Trainable params: 54,001\n",
      "Non-trainable params: 0\n",
      "_________________________________________________________________\n",
      "======Training stage======\n",
      "Train on 143514 samples\n",
      "Epoch 1/10\n",
      "143488/143514 [============================>.] - ETA: 0s - loss: 2.7540e-04 - accuracy: 0.9999WARNING:tensorflow:Early stopping conditioned on metric `val_loss` which is not available. Available metrics are: loss,accuracy\n",
      "143514/143514 [==============================] - 107s 744us/sample - loss: 2.7535e-04 - accuracy: 0.9999\n",
      "Epoch 2/10\n",
      "143488/143514 [============================>.] - ETA: 0s - loss: 2.5502e-04 - accuracy: 0.9999WARNING:tensorflow:Early stopping conditioned on metric `val_loss` which is not available. Available metrics are: loss,accuracy\n",
      "143514/143514 [==============================] - 87s 606us/sample - loss: 2.5497e-04 - accuracy: 0.9999\n",
      "Epoch 3/10\n",
      "143456/143514 [============================>.] - ETA: 0s - loss: 2.1555e-04 - accuracy: 0.9999WARNING:tensorflow:Early stopping conditioned on metric `val_loss` which is not available. Available metrics are: loss,accuracy\n",
      "143514/143514 [==============================] - 106s 740us/sample - loss: 2.1547e-04 - accuracy: 0.9999\n",
      "Epoch 4/10\n",
      "143488/143514 [============================>.] - ETA: 0s - loss: 2.3008e-04 - accuracy: 0.9999WARNING:tensorflow:Early stopping conditioned on metric `val_loss` which is not available. Available metrics are: loss,accuracy\n",
      "143514/143514 [==============================] - 110s 767us/sample - loss: 2.3004e-04 - accuracy: 0.9999\n",
      "Epoch 5/10\n",
      "143488/143514 [============================>.] - ETA: 0s - loss: 2.2064e-04 - accuracy: 1.0000WARNING:tensorflow:Early stopping conditioned on metric `val_loss` which is not available. Available metrics are: loss,accuracy\n",
      "143514/143514 [==============================] - 109s 759us/sample - loss: 2.2060e-04 - accuracy: 1.0000\n",
      "Epoch 6/10\n",
      "143424/143514 [============================>.] - ETA: 0s - loss: 2.1385e-04 - accuracy: 1.0000WARNING:tensorflow:Early stopping conditioned on metric `val_loss` which is not available. Available metrics are: loss,accuracy\n",
      "143514/143514 [==============================] - 109s 758us/sample - loss: 2.1372e-04 - accuracy: 1.0000\n",
      "Epoch 7/10\n",
      "143488/143514 [============================>.] - ETA: 0s - loss: 2.0260e-04 - accuracy: 1.0000 ETA: WARNING:tensorflow:Early stopping conditioned on metric `val_loss` which is not available. Available metrics are: loss,accuracy\n",
      "143514/143514 [==============================] - 109s 756us/sample - loss: 2.0257e-04 - accuracy: 1.0000\n",
      "Epoch 8/10\n",
      "143456/143514 [============================>.] - ETA: 0s - loss: 1.9596e-04 - accuracy: 1.0000 ETA: WARNING:tensorflow:Early stopping conditioned on metric `val_loss` which is not available. Available metrics are: loss,accuracy\n",
      "143514/143514 [==============================] - 96s 671us/sample - loss: 1.9588e-04 - accuracy: 1.0000\n",
      "Epoch 9/10\n",
      "143424/143514 [============================>.] - ETA: 0s - loss: 1.9539e-04 - accuracy: 1.0000 ETA: 0s - loss: 1.9580e-04 - accuracyWARNING:tensorflow:Early stopping conditioned on metric `val_loss` which is not available. Available metrics are: loss,accuracy\n",
      "143514/143514 [==============================] - 93s 646us/sample - loss: 1.9527e-04 - accuracy: 1.0000\n",
      "Epoch 10/10\n",
      "143488/143514 [============================>.] - ETA: 0s - loss: 1.9815e-04 - accuracy: 1.0000WARNING:tensorflow:Early stopping conditioned on metric `val_loss` which is not available. Available metrics are: loss,accuracy\n",
      "143514/143514 [==============================] - 99s 688us/sample - loss: 1.9811e-04 - accuracy: 1.0000\n"
     ]
    },
    {
     "data": {
      "text/plain": [
       "<tensorflow.python.keras.callbacks.History at 0x2dd89d1d708>"
      ]
     },
     "execution_count": 11,
     "metadata": {},
     "output_type": "execute_result"
    },
    {
     "name": "stdout",
     "output_type": "stream",
     "text": [
      "accuracy_score 0.9999490467828923\n",
      "recall_score 0.9988704819277109\n",
      "precision_score 0.9986824769433466\n",
      "f1_score 0.9987764705882353\n",
      "Model: \"model_3\"\n",
      "_________________________________________________________________\n",
      "Layer (type)                 Output Shape              Param #   \n",
      "=================================================================\n",
      "input_1 (InputLayer)         [(None, 16, 256)]         0         \n",
      "_________________________________________________________________\n",
      "bidirectional (Bidirectional (None, 16, 48)            53952     \n",
      "_________________________________________________________________\n",
      "time_distributed (TimeDistri (None, 16, 1)             49        \n",
      "=================================================================\n",
      "Total params: 54,001\n",
      "Trainable params: 54,001\n",
      "Non-trainable params: 0\n",
      "_________________________________________________________________\n",
      "======Training stage======\n",
      "Train on 143514 samples\n",
      "Epoch 1/10\n",
      "143488/143514 [============================>.] - ETA: 0s - loss: 1.9548e-04 - accuracy: 1.0000 - ETA: 31s - loss: 1.7116e-0 - ETA: 29s WARNING:tensorflow:Early stopping conditioned on metric `val_loss` which is not available. Available metrics are: loss,accuracy\n",
      "143514/143514 [==============================] - 134s 930us/sample - loss: 1.9544e-04 - accuracy: 1.0000\n",
      "Epoch 2/10\n",
      "143424/143514 [============================>.] - ETA: 0s - loss: 1.8452e-04 - accuracy: 1.0000WARNING:tensorflow:Early stopping conditioned on metric `val_loss` which is not available. Available metrics are: loss,accuracy\n",
      "143514/143514 [==============================] - 104s 727us/sample - loss: 1.8441e-04 - accuracy: 1.0000\n",
      "Epoch 3/10\n",
      "143392/143514 [============================>.] - ETA: 0s - loss: 1.7536e-04 - accuracy: 1.0000WARNING:tensorflow:Early stopping conditioned on metric `val_loss` which is not available. Available metrics are: loss,accuracy\n",
      "143514/143514 [==============================] - 80s 559us/sample - loss: 1.7885e-04 - accuracy: 1.0000\n",
      "Epoch 4/10\n",
      "143488/143514 [============================>.] - ETA: 0s - loss: 1.7193e-04 - accuracy: 1.0000WARNING:tensorflow:Early stopping conditioned on metric `val_loss` which is not available. Available metrics are: loss,accuracy\n",
      "143514/143514 [==============================] - 81s 563us/sample - loss: 1.7190e-04 - accuracy: 1.0000\n",
      "Epoch 5/10\n",
      "143392/143514 [============================>.] - ETA: 0s - loss: 1.5817e-04 - accuracy: 1.0000WARNING:tensorflow:Early stopping conditioned on metric `val_loss` which is not available. Available metrics are: loss,accuracy\n",
      "143514/143514 [==============================] - 80s 557us/sample - loss: 1.5804e-04 - accuracy: 1.0000\n",
      "Epoch 6/10\n",
      "143424/143514 [============================>.] - ETA: 0s - loss: 1.5669e-04 - accuracy: 1.0000 ETA: WARNING:tensorflow:Early stopping conditioned on metric `val_loss` which is not available. Available metrics are: loss,accuracy\n",
      "143514/143514 [==============================] - 75s 520us/sample - loss: 1.5660e-04 - accuracy: 1.0000\n",
      "Epoch 7/10\n",
      "143424/143514 [============================>.] - ETA: 0s - loss: 1.4721e-04 - accuracy: 1.0000WARNING:tensorflow:Early stopping conditioned on metric `val_loss` which is not available. Available metrics are: loss,accuracy\n",
      "143514/143514 [==============================] - 75s 524us/sample - loss: 1.4711e-04 - accuracy: 1.0000\n",
      "Epoch 8/10\n",
      "143488/143514 [============================>.] - ETA: 0s - loss: 1.5627e-04 - accuracy: 1.0000WARNING:tensorflow:Early stopping conditioned on metric `val_loss` which is not available. Available metrics are: loss,accuracy\n",
      "143514/143514 [==============================] - 74s 515us/sample - loss: 1.5625e-04 - accuracy: 1.0000\n",
      "Epoch 9/10\n",
      "143456/143514 [============================>.] - ETA: 0s - loss: 1.3923e-04 - accuracy: 1.0000WARNING:tensorflow:Early stopping conditioned on metric `val_loss` which is not available. Available metrics are: loss,accuracy\n",
      "143514/143514 [==============================] - 78s 546us/sample - loss: 1.3917e-04 - accuracy: 1.0000\n",
      "Epoch 10/10\n",
      "143424/143514 [============================>.] - ETA: 0s - loss: 1.2973e-04 - accuracy: 1.0000 ETA: 0s - loss: 1.2990e-04 - accuracy: 1.WARNING:tensorflow:Early stopping conditioned on metric `val_loss` which is not available. Available metrics are: loss,accuracy\n",
      "143514/143514 [==============================] - 80s 554us/sample - loss: 1.2964e-04 - accuracy: 1.0000\n"
     ]
    },
    {
     "data": {
      "text/plain": [
       "<tensorflow.python.keras.callbacks.History at 0x2dd8a6d5e88>"
      ]
     },
     "execution_count": 11,
     "metadata": {},
     "output_type": "execute_result"
    },
    {
     "name": "stdout",
     "output_type": "stream",
     "text": [
      "accuracy_score 0.999933368869936\n",
      "recall_score 0.99797197640118\n",
      "precision_score 0.9988927846466138\n",
      "f1_score 0.9984321682191276\n",
      "Model: \"model_4\"\n",
      "_________________________________________________________________\n",
      "Layer (type)                 Output Shape              Param #   \n",
      "=================================================================\n",
      "input_1 (InputLayer)         [(None, 16, 256)]         0         \n",
      "_________________________________________________________________\n",
      "bidirectional (Bidirectional (None, 16, 48)            53952     \n",
      "_________________________________________________________________\n",
      "time_distributed (TimeDistri (None, 16, 1)             49        \n",
      "=================================================================\n",
      "Total params: 54,001\n",
      "Trainable params: 54,001\n",
      "Non-trainable params: 0\n",
      "_________________________________________________________________\n",
      "======Training stage======\n",
      "Train on 143514 samples\n",
      "Epoch 1/10\n",
      "143488/143514 [============================>.] - ETA: 0s - loss: 1.7945e-04 - accuracy: 1.0000WARNING:tensorflow:Early stopping conditioned on metric `val_loss` which is not available. Available metrics are: loss,accuracy\n",
      "143514/143514 [==============================] - 99s 689us/sample - loss: 1.7941e-04 - accuracy: 1.0000\n",
      "Epoch 2/10\n",
      "143488/143514 [============================>.] - ETA: 0s - loss: 1.4187e-04 - accuracy: 1.0000 ETA: 0s - loss: 1.4206e-04 - accuracy: 1.WARNING:tensorflow:Early stopping conditioned on metric `val_loss` which is not available. Available metrics are: loss,accuracy\n",
      "143514/143514 [==============================] - 80s 561us/sample - loss: 1.4185e-04 - accuracy: 1.0000\n",
      "Epoch 3/10\n",
      "143456/143514 [============================>.] - ETA: 0s - loss: 1.4468e-04 - accuracy: 1.0000WARNING:tensorflow:Early stopping conditioned on metric `val_loss` which is not available. Available metrics are: loss,accuracy\n",
      "143514/143514 [==============================] - 81s 562us/sample - loss: 1.4463e-04 - accuracy: 1.0000\n",
      "Epoch 4/10\n",
      "143488/143514 [============================>.] - ETA: 0s - loss: 1.1998e-04 - accuracy: 1.0000WARNING:tensorflow:Early stopping conditioned on metric `val_loss` which is not available. Available metrics are: loss,accuracy\n",
      "143514/143514 [==============================] - 77s 537us/sample - loss: 1.1995e-04 - accuracy: 1.0000\n",
      "Epoch 5/10\n",
      "143392/143514 [============================>.] - ETA: 0s - loss: 1.2126e-04 - accuracy: 1.0000WARNING:tensorflow:Early stopping conditioned on metric `val_loss` which is not available. Available metrics are: loss,accuracy\n",
      "143514/143514 [==============================] - 71s 492us/sample - loss: 1.2116e-04 - accuracy: 1.0000\n",
      "Epoch 6/10\n",
      "143392/143514 [============================>.] - ETA: 0s - loss: 1.2698e-04 - accuracy: 1.0000WARNING:tensorflow:Early stopping conditioned on metric `val_loss` which is not available. Available metrics are: loss,accuracy\n",
      "143514/143514 [==============================] - 79s 552us/sample - loss: 1.2687e-04 - accuracy: 1.0000\n",
      "Epoch 7/10\n",
      "143488/143514 [============================>.] - ETA: 0s - loss: 1.1433e-04 - accuracy: 1.0000WARNING:tensorflow:Early stopping conditioned on metric `val_loss` which is not available. Available metrics are: loss,accuracy\n",
      "143514/143514 [==============================] - 80s 559us/sample - loss: 1.1432e-04 - accuracy: 1.0000\n",
      "Epoch 8/10\n",
      "143392/143514 [============================>.] - ETA: 0s - loss: 1.1116e-04 - accuracy: 1.0000WARNING:tensorflow:Early stopping conditioned on metric `val_loss` which is not available. Available metrics are: loss,accuracy\n",
      "143514/143514 [==============================] - 81s 564us/sample - loss: 1.1107e-04 - accuracy: 1.0000\n",
      "Epoch 9/10\n",
      "143488/143514 [============================>.] - ETA: 0s - loss: 1.0707e-04 - accuracy: 1.0000WARNING:tensorflow:Early stopping conditioned on metric `val_loss` which is not available. Available metrics are: loss,accuracy\n",
      "143514/143514 [==============================] - 80s 561us/sample - loss: 1.0705e-04 - accuracy: 1.0000\n",
      "Epoch 10/10\n",
      "143488/143514 [============================>.] - ETA: 0s - loss: 1.0383e-04 - accuracy: 1.0000WARNING:tensorflow:Early stopping conditioned on metric `val_loss` which is not available. Available metrics are: loss,accuracy\n",
      "143514/143514 [==============================] - 80s 561us/sample - loss: 1.0381e-04 - accuracy: 1.0000\n"
     ]
    },
    {
     "data": {
      "text/plain": [
       "<tensorflow.python.keras.callbacks.History at 0x2ddad9e36c8>"
      ]
     },
     "execution_count": 11,
     "metadata": {},
     "output_type": "execute_result"
    },
    {
     "name": "stdout",
     "output_type": "stream",
     "text": [
      "accuracy_score 0.9999647246958485\n",
      "recall_score 0.9998130841121495\n",
      "precision_score 0.9985066268433825\n",
      "f1_score 0.9991594284113197\n",
      "Model: \"model_5\"\n",
      "_________________________________________________________________\n",
      "Layer (type)                 Output Shape              Param #   \n",
      "=================================================================\n",
      "input_1 (InputLayer)         [(None, 16, 256)]         0         \n",
      "_________________________________________________________________\n",
      "bidirectional (Bidirectional (None, 16, 48)            53952     \n",
      "_________________________________________________________________\n",
      "time_distributed (TimeDistri (None, 16, 1)             49        \n",
      "=================================================================\n",
      "Total params: 54,001\n",
      "Trainable params: 54,001\n",
      "Non-trainable params: 0\n",
      "_________________________________________________________________\n",
      "======Training stage======\n",
      "Train on 143514 samples\n",
      "Epoch 1/10\n",
      "143424/143514 [============================>.] - ETA: 0s - loss: 1.1338e-04 - accuracy: 1.0000WARNING:tensorflow:Early stopping conditioned on metric `val_loss` which is not available. Available metrics are: loss,accuracy\n",
      "143514/143514 [==============================] - 90s 629us/sample - loss: 1.1331e-04 - accuracy: 1.0000\n",
      "Epoch 2/10\n",
      "143456/143514 [============================>.] - ETA: 0s - loss: 1.1019e-04 - accuracy: 1.0000 ETA: 0s - losWARNING:tensorflow:Early stopping conditioned on metric `val_loss` which is not available. Available metrics are: loss,accuracy\n",
      "143514/143514 [==============================] - 77s 537us/sample - loss: 1.1014e-04 - accuracy: 1.0000\n",
      "Epoch 3/10\n",
      "143488/143514 [============================>.] - ETA: 0s - loss: 1.0839e-04 - accuracy: 1.0000WARNING:tensorflow:Early stopping conditioned on metric `val_loss` which is not available. Available metrics are: loss,accuracy\n",
      "143514/143514 [==============================] - 68s 471us/sample - loss: 1.0837e-04 - accuracy: 1.0000\n",
      "Epoch 4/10\n",
      "143456/143514 [============================>.] - ETA: 0s - loss: 9.2735e-05 - accuracy: 1.0000WARNING:tensorflow:Early stopping conditioned on metric `val_loss` which is not available. Available metrics are: loss,accuracy\n",
      "143514/143514 [==============================] - 81s 567us/sample - loss: 9.2698e-05 - accuracy: 1.0000\n",
      "Epoch 5/10\n",
      "143456/143514 [============================>.] - ETA: 0s - loss: 9.2264e-05 - accuracy: 1.0000WARNING:tensorflow:Early stopping conditioned on metric `val_loss` which is not available. Available metrics are: loss,accuracy\n",
      "143514/143514 [==============================] - 82s 568us/sample - loss: 9.2227e-05 - accuracy: 1.0000\n",
      "Epoch 6/10\n",
      "143456/143514 [============================>.] - ETA: 0s - loss: 8.9003e-05 - accuracy: 1.0000 ETA: 0s - loss: 8.9120e-05 - accuracy: 1.WARNING:tensorflow:Early stopping conditioned on metric `val_loss` which is not available. Available metrics are: loss,accuracy\n",
      "143514/143514 [==============================] - 88s 612us/sample - loss: 8.8967e-05 - accuracy: 1.0000\n",
      "Epoch 7/10\n",
      "143424/143514 [============================>.] - ETA: 0s - loss: 7.7478e-05 - accuracy: 1.0000WARNING:tensorflow:Early stopping conditioned on metric `val_loss` which is not available. Available metrics are: loss,accuracy\n",
      "143514/143514 [==============================] - 87s 605us/sample - loss: 7.7430e-05 - accuracy: 1.0000\n",
      "Epoch 8/10\n",
      "143488/143514 [============================>.] - ETA: 0s - loss: 8.0581e-05 - accuracy: 1.0000WARNING:tensorflow:Early stopping conditioned on metric `val_loss` which is not available. Available metrics are: loss,accuracy\n",
      "143514/143514 [==============================] - 90s 630us/sample - loss: 8.0567e-05 - accuracy: 1.0000\n",
      "Epoch 9/10\n",
      "143456/143514 [============================>.] - ETA: 0s - loss: 7.4717e-05 - accuracy: 1.0000WARNING:tensorflow:Early stopping conditioned on metric `val_loss` which is not available. Available metrics are: loss,accuracy\n",
      "143514/143514 [==============================] - 90s 624us/sample - loss: 7.4687e-05 - accuracy: 1.0000\n",
      "Epoch 10/10\n",
      "143424/143514 [============================>.] - ETA: 0s - loss: 8.0203e-05 - accuracy: 1.0000WARNING:tensorflow:Early stopping conditioned on metric `val_loss` which is not available. Available metrics are: loss,accuracy\n",
      "143514/143514 [==============================] - 89s 617us/sample - loss: 8.0153e-05 - accuracy: 1.0000\n"
     ]
    },
    {
     "data": {
      "text/plain": [
       "<tensorflow.python.keras.callbacks.History at 0x2dd8b44bd88>"
      ]
     },
     "execution_count": 11,
     "metadata": {},
     "output_type": "execute_result"
    },
    {
     "name": "stdout",
     "output_type": "stream",
     "text": [
      "accuracy_score 0.9999804026088047\n",
      "recall_score 0.9992363497518136\n",
      "precision_score 0.9998089780324737\n",
      "f1_score 0.999522581877208\n",
      "Model: \"model_6\"\n",
      "_________________________________________________________________\n",
      "Layer (type)                 Output Shape              Param #   \n",
      "=================================================================\n",
      "input_1 (InputLayer)         [(None, 16, 256)]         0         \n",
      "_________________________________________________________________\n",
      "bidirectional (Bidirectional (None, 16, 48)            53952     \n",
      "_________________________________________________________________\n",
      "time_distributed (TimeDistri (None, 16, 1)             49        \n",
      "=================================================================\n",
      "Total params: 54,001\n",
      "Trainable params: 54,001\n",
      "Non-trainable params: 0\n",
      "_________________________________________________________________\n",
      "======Training stage======\n",
      "Train on 143514 samples\n",
      "Epoch 1/10\n",
      "143424/143514 [============================>.] - ETA: 0s - loss: 8.7954e-05 - accuracy: 1.0000WARNING:tensorflow:Early stopping conditioned on metric `val_loss` which is not available. Available metrics are: loss,accuracy\n",
      "143514/143514 [==============================] - 102s 711us/sample - loss: 8.7899e-05 - accuracy: 1.0000\n",
      "Epoch 2/10\n",
      "143456/143514 [============================>.] - ETA: 0s - loss: 7.1888e-05 - accuracy: 1.0000 ETA: 1s - loss: 7.2863e-05 - ac - ETA: 0s - loss: 7.2535e-05 - accuracy - ETA: 0s - loss: 7.2356e-0WARNING:tensorflow:Early stopping conditioned on metric `val_loss` which is not available. Available metrics are: loss,accuracy\n",
      "143514/143514 [==============================] - 88s 612us/sample - loss: 7.1859e-05 - accuracy: 1.0000\n",
      "Epoch 3/10\n",
      "143488/143514 [============================>.] - ETA: 0s - loss: 6.2085e-05 - accuracy: 1.0000WARNING:tensorflow:Early stopping conditioned on metric `val_loss` which is not available. Available metrics are: loss,accuracy\n",
      "143514/143514 [==============================] - 95s 660us/sample - loss: 6.2073e-05 - accuracy: 1.0000\n",
      "Epoch 4/10\n",
      "143424/143514 [============================>.] - ETA: 0s - loss: 5.5919e-05 - accuracy: 1.0000WARNING:tensorflow:Early stopping conditioned on metric `val_loss` which is not available. Available metrics are: loss,accuracy\n",
      "143514/143514 [==============================] - 93s 649us/sample - loss: 5.5884e-05 - accuracy: 1.0000\n",
      "Epoch 5/10\n",
      "143456/143514 [============================>.] - ETA: 0s - loss: 5.5563e-05 - accuracy: 1.0000 ETA: 2s - loss: 5.6512e-05 - accuracy - ETA: 2s - loss: - - ETA: 0s - loss: 5.5675e-05 - accuracy: WARNING:tensorflow:Early stopping conditioned on metric `val_loss` which is not available. Available metrics are: loss,accuracy\n",
      "143514/143514 [==============================] - 93s 647us/sample - loss: 5.5541e-05 - accuracy: 1.0000\n",
      "Epoch 6/10\n",
      "143488/143514 [============================>.] - ETA: 0s - loss: 4.3884e-05 - accuracy: 1.0000WARNING:tensorflow:Early stopping conditioned on metric `val_loss` which is not available. Available metrics are: loss,accuracy\n",
      "143514/143514 [==============================] - 93s 651us/sample - loss: 4.3876e-05 - accuracy: 1.0000\n",
      "Epoch 7/10\n",
      "143488/143514 [============================>.] - ETA: 0s - loss: 5.0436e-05 - accuracy: 1.0000 ETA: 0s - loss: 5.0606e-05 - accuraWARNING:tensorflow:Early stopping conditioned on metric `val_loss` which is not available. Available metrics are: loss,accuracy\n",
      "143514/143514 [==============================] - 85s 592us/sample - loss: 5.0427e-05 - accuracy: 1.0000\n",
      "Epoch 8/10\n",
      "143488/143514 [============================>.] - ETA: 0s - loss: 4.7850e-05 - accuracy: 1.0000WARNING:tensorflow:Early stopping conditioned on metric `val_loss` which is not available. Available metrics are: loss,accuracy\n",
      "143514/143514 [==============================] - 88s 610us/sample - loss: 4.7842e-05 - accuracy: 1.0000\n",
      "Epoch 9/10\n",
      "143456/143514 [============================>.] - ETA: 0s - loss: 4.4116e-05 - accuracy: 1.0000WARNING:tensorflow:Early stopping conditioned on metric `val_loss` which is not available. Available metrics are: loss,accuracy\n",
      "143514/143514 [==============================] - 89s 622us/sample - loss: 4.4099e-05 - accuracy: 1.0000\n",
      "Epoch 10/10\n",
      "143424/143514 [============================>.] - ETA: 0s - loss: 4.4624e-05 - accuracy: 1.0000 ETA: 6s - loss: 4.4744e-0 - ETA: 6s - loss: 4.4433e-05 - accuracy:  - ETA: 5s - l - ETA: 4s - loss: 4.3804eWARNING:tensorflow:Early stopping conditioned on metric `val_loss` which is not available. Available metrics are: loss,accuracy\n",
      "143514/143514 [==============================] - 88s 615us/sample - loss: 4.4596e-05 - accuracy: 1.0000\n"
     ]
    },
    {
     "data": {
      "text/plain": [
       "<tensorflow.python.keras.callbacks.History at 0x2dd9e0e65c8>"
      ]
     },
     "execution_count": 11,
     "metadata": {},
     "output_type": "execute_result"
    },
    {
     "name": "stdout",
     "output_type": "stream",
     "text": [
      "accuracy_score 0.9999804026088047\n",
      "recall_score 0.9998122418325197\n",
      "precision_score 0.9992493901294802\n",
      "f1_score 0.9995307367433132\n",
      "Model: \"model_7\"\n",
      "_________________________________________________________________\n",
      "Layer (type)                 Output Shape              Param #   \n",
      "=================================================================\n",
      "input_1 (InputLayer)         [(None, 16, 256)]         0         \n",
      "_________________________________________________________________\n",
      "bidirectional (Bidirectional (None, 16, 48)            53952     \n",
      "_________________________________________________________________\n",
      "time_distributed (TimeDistri (None, 16, 1)             49        \n",
      "=================================================================\n",
      "Total params: 54,001\n",
      "Trainable params: 54,001\n",
      "Non-trainable params: 0\n",
      "_________________________________________________________________\n",
      "======Training stage======\n",
      "Train on 143514 samples\n",
      "Epoch 1/10\n",
      "143424/143514 [============================>.] - ETA: 0s - loss: 6.0344e-05 - accuracy: 1.0000WARNING:tensorflow:Early stopping conditioned on metric `val_loss` which is not available. Available metrics are: loss,accuracy\n",
      "143514/143514 [==============================] - 105s 731us/sample - loss: 6.0306e-05 - accuracy: 1.0000\n",
      "Epoch 2/10\n",
      "143456/143514 [============================>.] - ETA: 0s - loss: 3.9686e-05 - accuracy: 1.0000 ETA: 0s - loss: 3WARNING:tensorflow:Early stopping conditioned on metric `val_loss` which is not available. Available metrics are: loss,accuracy\n",
      "143514/143514 [==============================] - 92s 641us/sample - loss: 3.9670e-05 - accuracy: 1.0000\n",
      "Epoch 3/10\n",
      "143456/143514 [============================>.] - ETA: 0s - loss: 4.0032e-05 - accuracy: 1.0000WARNING:tensorflow:Early stopping conditioned on metric `val_loss` which is not available. Available metrics are: loss,accuracy\n",
      "143514/143514 [==============================] - 91s 635us/sample - loss: 4.0016e-05 - accuracy: 1.0000\n",
      "Epoch 4/10\n",
      "143456/143514 [============================>.] - ETA: 0s - loss: 3.3307e-05 - accuracy: 1.0000WARNING:tensorflow:Early stopping conditioned on metric `val_loss` which is not available. Available metrics are: loss,accuracy\n",
      "143514/143514 [==============================] - 83s 580us/sample - loss: 3.3294e-05 - accuracy: 1.0000\n",
      "Epoch 5/10\n",
      "143456/143514 [============================>.] - ETA: 0s - loss: 3.5256e-05 - accuracy: 1.0000WARNING:tensorflow:Early stopping conditioned on metric `val_loss` which is not available. Available metrics are: loss,accuracy\n",
      "143514/143514 [==============================] - 68s 474us/sample - loss: 3.5242e-05 - accuracy: 1.0000\n",
      "Epoch 6/10\n",
      "143392/143514 [============================>.] - ETA: 0s - loss: 3.3290e-05 - accuracy: 1.0000WARNING:tensorflow:Early stopping conditioned on metric `val_loss` which is not available. Available metrics are: loss,accuracy\n",
      "143514/143514 [==============================] - 58s 406us/sample - loss: 3.3261e-05 - accuracy: 1.0000\n",
      "Epoch 7/10\n",
      "143360/143514 [============================>.] - ETA: 0s - loss: 3.7618e-05 - accuracy: 1.0000WARNING:tensorflow:Early stopping conditioned on metric `val_loss` which is not available. Available metrics are: loss,accuracy\n",
      "143514/143514 [==============================] - 51s 354us/sample - loss: 3.7577e-05 - accuracy: 1.0000\n",
      "Epoch 8/10\n",
      "143424/143514 [============================>.] - ETA: 0s - loss: 3.1815e-05 - accuracy: 1.0000WARNING:tensorflow:Early stopping conditioned on metric `val_loss` which is not available. Available metrics are: loss,accuracy\n",
      "143514/143514 [==============================] - 42s 293us/sample - loss: 3.1795e-05 - accuracy: 1.0000\n",
      "Epoch 9/10\n",
      "143392/143514 [============================>.] - ETA: 0s - loss: 3.4096e-05 - accuracy: 1.0000WARNING:tensorflow:Early stopping conditioned on metric `val_loss` which is not available. Available metrics are: loss,accuracy\n",
      "143514/143514 [==============================] - 38s 266us/sample - loss: 3.4067e-05 - accuracy: 1.0000\n",
      "Epoch 10/10\n",
      "143456/143514 [============================>.] - ETA: 0s - loss: 2.7773e-05 - accuracy: 1.0000WARNING:tensorflow:Early stopping conditioned on metric `val_loss` which is not available. Available metrics are: loss,accuracy\n",
      "143514/143514 [==============================] - 38s 264us/sample - loss: 2.7761e-05 - accuracy: 1.0000\n"
     ]
    },
    {
     "data": {
      "text/plain": [
       "<tensorflow.python.keras.callbacks.History at 0x2dd9d74cd88>"
      ]
     },
     "execution_count": 11,
     "metadata": {},
     "output_type": "execute_result"
    },
    {
     "name": "stdout",
     "output_type": "stream",
     "text": [
      "accuracy_score 0.9999843220870438\n",
      "recall_score 1.0\n",
      "precision_score 0.9992445703493862\n",
      "f1_score 0.9996221424522955\n",
      "Model: \"model_8\"\n",
      "_________________________________________________________________\n",
      "Layer (type)                 Output Shape              Param #   \n",
      "=================================================================\n",
      "input_1 (InputLayer)         [(None, 16, 256)]         0         \n",
      "_________________________________________________________________\n",
      "bidirectional (Bidirectional (None, 16, 48)            53952     \n",
      "_________________________________________________________________\n",
      "time_distributed (TimeDistri (None, 16, 1)             49        \n",
      "=================================================================\n",
      "Total params: 54,001\n",
      "Trainable params: 54,001\n",
      "Non-trainable params: 0\n",
      "_________________________________________________________________\n",
      "======Training stage======\n",
      "Train on 143514 samples\n",
      "Epoch 1/10\n",
      "143360/143514 [============================>.] - ETA: 0s - loss: 3.6476e-05 - accuracy: 1.0000WARNING:tensorflow:Early stopping conditioned on metric `val_loss` which is not available. Available metrics are: loss,accuracy\n",
      "143514/143514 [==============================] - 52s 360us/sample - loss: 3.6437e-05 - accuracy: 1.0000\n",
      "Epoch 2/10\n",
      "143392/143514 [============================>.] - ETA: 0s - loss: 4.0971e-05 - accuracy: 1.0000WARNING:tensorflow:Early stopping conditioned on metric `val_loss` which is not available. Available metrics are: loss,accuracy\n",
      "143514/143514 [==============================] - 45s 313us/sample - loss: 4.0936e-05 - accuracy: 1.0000\n",
      "Epoch 3/10\n",
      "143456/143514 [============================>.] - ETA: 0s - loss: 3.0770e-05 - accuracy: 1.0000WARNING:tensorflow:Early stopping conditioned on metric `val_loss` which is not available. Available metrics are: loss,accuracy\n",
      "143514/143514 [==============================] - 45s 313us/sample - loss: 3.0758e-05 - accuracy: 1.0000\n",
      "Epoch 4/10\n",
      "143424/143514 [============================>.] - ETA: 0s - loss: 3.0182e-05 - accuracy: 1.0000WARNING:tensorflow:Early stopping conditioned on metric `val_loss` which is not available. Available metrics are: loss,accuracy\n",
      "143514/143514 [==============================] - 46s 319us/sample - loss: 3.0163e-05 - accuracy: 1.0000\n",
      "Epoch 5/10\n",
      "143360/143514 [============================>.] - ETA: 0s - loss: 3.7027e-05 - accuracy: 1.0000WARNING:tensorflow:Early stopping conditioned on metric `val_loss` which is not available. Available metrics are: loss,accuracy\n",
      "143514/143514 [==============================] - 45s 313us/sample - loss: 3.6987e-05 - accuracy: 1.0000\n",
      "Epoch 6/10\n",
      "143360/143514 [============================>.] - ETA: 0s - loss: 3.6528e-05 - accuracy: 1.0000WARNING:tensorflow:Early stopping conditioned on metric `val_loss` which is not available. Available metrics are: loss,accuracy\n",
      "143514/143514 [==============================] - 45s 313us/sample - loss: 3.6489e-05 - accuracy: 1.0000\n",
      "Epoch 7/10\n",
      "143488/143514 [============================>.] - ETA: 0s - loss: 3.5779e-05 - accuracy: 1.0000WARNING:tensorflow:Early stopping conditioned on metric `val_loss` which is not available. Available metrics are: loss,accuracy\n",
      "143514/143514 [==============================] - 45s 316us/sample - loss: 3.5772e-05 - accuracy: 1.0000\n",
      "Epoch 8/10\n",
      "143392/143514 [============================>.] - ETA: 0s - loss: 3.4027e-05 - accuracy: 1.0000WARNING:tensorflow:Early stopping conditioned on metric `val_loss` which is not available. Available metrics are: loss,accuracy\n",
      "143514/143514 [==============================] - 45s 316us/sample - loss: 3.3998e-05 - accuracy: 1.0000\n",
      "Epoch 9/10\n",
      "143360/143514 [============================>.] - ETA: 0s - loss: 3.2345e-05 - accuracy: 1.0000WARNING:tensorflow:Early stopping conditioned on metric `val_loss` which is not available. Available metrics are: loss,accuracy\n",
      "143514/143514 [==============================] - 45s 313us/sample - loss: 3.2310e-05 - accuracy: 1.0000\n",
      "Epoch 10/10\n",
      "143456/143514 [============================>.] - ETA: 0s - loss: 2.4317e-05 - accuracy: 1.0000WARNING:tensorflow:Early stopping conditioned on metric `val_loss` which is not available. Available metrics are: loss,accuracy\n",
      "143514/143514 [==============================] - 43s 302us/sample - loss: 2.4309e-05 - accuracy: 1.0000\n"
     ]
    },
    {
     "data": {
      "text/plain": [
       "<tensorflow.python.keras.callbacks.History at 0x2dd8ae759c8>"
      ]
     },
     "execution_count": 11,
     "metadata": {},
     "output_type": "execute_result"
    },
    {
     "name": "stdout",
     "output_type": "stream",
     "text": [
      "accuracy_score 0.9999843220870438\n",
      "recall_score 1.0\n",
      "precision_score 0.9992418498862775\n",
      "f1_score 0.9996207811907472\n",
      "Model: \"model_9\"\n",
      "_________________________________________________________________\n",
      "Layer (type)                 Output Shape              Param #   \n",
      "=================================================================\n",
      "input_1 (InputLayer)         [(None, 16, 256)]         0         \n",
      "_________________________________________________________________\n",
      "bidirectional (Bidirectional (None, 16, 48)            53952     \n",
      "_________________________________________________________________\n",
      "time_distributed (TimeDistri (None, 16, 1)             49        \n",
      "=================================================================\n",
      "Total params: 54,001\n",
      "Trainable params: 54,001\n",
      "Non-trainable params: 0\n",
      "_________________________________________________________________\n",
      "======Training stage======\n",
      "Train on 143514 samples\n",
      "Epoch 1/10\n",
      "143456/143514 [============================>.] - ETA: 0s - loss: 3.7843e-05 - accuracy: 1.0000WARNING:tensorflow:Early stopping conditioned on metric `val_loss` which is not available. Available metrics are: loss,accuracy\n",
      "143514/143514 [==============================] - 51s 356us/sample - loss: 3.7827e-05 - accuracy: 1.0000\n",
      "Epoch 2/10\n",
      "143488/143514 [============================>.] - ETA: 0s - loss: 3.4824e-05 - accuracy: 1.0000WARNING:tensorflow:Early stopping conditioned on metric `val_loss` which is not available. Available metrics are: loss,accuracy\n",
      "143514/143514 [==============================] - 44s 305us/sample - loss: 3.4818e-05 - accuracy: 1.0000\n",
      "Epoch 3/10\n",
      "143424/143514 [============================>.] - ETA: 0s - loss: 2.3903e-05 - accuracy: 1.0000WARNING:tensorflow:Early stopping conditioned on metric `val_loss` which is not available. Available metrics are: loss,accuracy\n",
      "143514/143514 [==============================] - 44s 306us/sample - loss: 2.3888e-05 - accuracy: 1.0000\n",
      "Epoch 4/10\n",
      "143488/143514 [============================>.] - ETA: 0s - loss: 2.2152e-05 - accuracy: 1.0000WARNING:tensorflow:Early stopping conditioned on metric `val_loss` which is not available. Available metrics are: loss,accuracy\n",
      "143514/143514 [==============================] - 44s 307us/sample - loss: 2.2148e-05 - accuracy: 1.0000\n",
      "Epoch 5/10\n",
      "143488/143514 [============================>.] - ETA: 0s - loss: 2.6891e-05 - accuracy: 1.0000WARNING:tensorflow:Early stopping conditioned on metric `val_loss` which is not available. Available metrics are: loss,accuracy\n",
      "143514/143514 [==============================] - 44s 308us/sample - loss: 2.6886e-05 - accuracy: 1.0000\n",
      "Epoch 6/10\n",
      "143392/143514 [============================>.] - ETA: 0s - loss: 2.3825e-05 - accuracy: 1.0000WARNING:tensorflow:Early stopping conditioned on metric `val_loss` which is not available. Available metrics are: loss,accuracy\n",
      "143514/143514 [==============================] - 44s 307us/sample - loss: 2.3805e-05 - accuracy: 1.0000\n",
      "Epoch 7/10\n",
      "143424/143514 [============================>.] - ETA: 0s - loss: 2.1789e-05 - accuracy: 1.0000WARNING:tensorflow:Early stopping conditioned on metric `val_loss` which is not available. Available metrics are: loss,accuracy\n",
      "143514/143514 [==============================] - 44s 306us/sample - loss: 2.1775e-05 - accuracy: 1.0000\n",
      "Epoch 8/10\n",
      "143360/143514 [============================>.] - ETA: 0s - loss: 1.8891e-05 - accuracy: 1.0000WARNING:tensorflow:Early stopping conditioned on metric `val_loss` which is not available. Available metrics are: loss,accuracy\n",
      "143514/143514 [==============================] - 44s 306us/sample - loss: 1.8871e-05 - accuracy: 1.0000\n",
      "Epoch 9/10\n",
      "143328/143514 [============================>.] - ETA: 0s - loss: 2.0156e-05 - accuracy: 1.0000WARNING:tensorflow:Early stopping conditioned on metric `val_loss` which is not available. Available metrics are: loss,accuracy\n",
      "143514/143514 [==============================] - 44s 306us/sample - loss: 2.0130e-05 - accuracy: 1.0000\n",
      "Epoch 10/10\n",
      "143456/143514 [============================>.] - ETA: 0s - loss: 2.0543e-05 - accuracy: 1.0000WARNING:tensorflow:Early stopping conditioned on metric `val_loss` which is not available. Available metrics are: loss,accuracy\n",
      "143514/143514 [==============================] - 43s 299us/sample - loss: 2.0535e-05 - accuracy: 1.0000\n"
     ]
    },
    {
     "data": {
      "text/plain": [
       "<tensorflow.python.keras.callbacks.History at 0x2dd94475c08>"
      ]
     },
     "execution_count": 11,
     "metadata": {},
     "output_type": "execute_result"
    },
    {
     "name": "stdout",
     "output_type": "stream",
     "text": [
      "accuracy_score 0.9999960805217609\n",
      "recall_score 1.0\n",
      "precision_score 0.9998121360135263\n",
      "f1_score 0.999906059182715\n",
      "\n",
      "K-fold cross validation Accuracy: [0.999862818261633, 0.9998667377398721, 0.9999490467828923, 0.999933368869936, 0.9999647246958485, 0.9999804026088047, 0.9999804026088047, 0.9999843220870438, 0.9999843220870438, 0.9999960805217609]\n",
      "\n",
      "K-fold cross validation Recall: [0.9970474257243034, 0.9959388899632566, 0.9988704819277109, 0.99797197640118, 0.9998130841121495, 0.9992363497518136, 0.9998122418325197, 1.0, 1.0, 1.0]\n",
      "\n",
      "K-fold cross validation Precision: [0.9964957580228698, 0.9974820840596552, 0.9986824769433466, 0.9988927846466138, 0.9985066268433825, 0.9998089780324737, 0.9992493901294802, 0.9992445703493862, 0.9992418498862775, 0.9998121360135263]\n",
      "\n",
      "K-fold cross validation F1-Score: [0.9967715155428466, 0.9967098896845364, 0.9987764705882353, 0.9984321682191276, 0.9991594284113197, 0.999522581877208, 0.9995307367433132, 0.9996221424522955, 0.9996207811907472, 0.999906059182715]\n"
     ]
    }
   ],
   "source": [
    "# 교차검증 kfold\n",
    "from sklearn.model_selection import KFold\n",
    "\n",
    "# Accuracy, Precision, Recall, F1-Score\n",
    "from sklearn.metrics import accuracy_score, recall_score, precision_score, f1_score\n",
    "\n",
    "# Confusion Matrix, ROC Curve\n",
    "from sklearn.metrics import confusion_matrix, roc_auc_score\n",
    "\n",
    "# 최종 평가지표들 평균용\n",
    "accuracy, recall, precision, f1score, cm = [], [], [], [], []\n",
    "\n",
    "# 11. 교차검증 kfold - k.split - 10회 / K-Fold 객체 생성\n",
    "# kf = KFold(n_splits=10, shuffle=False, random_state=None) # KFold non shuffle 버전\n",
    "kf = KFold(n_splits=10, shuffle=True, random_state=None) # KFold non shuffle 버전\n",
    "\n",
    "for train, validation in kf.split(x_bc8_0, y_bc8_0):\n",
    "    model1 = models.Model(xInput, xOutput)\n",
    "    model1.compile(loss='binary_crossentropy', optimizer='rmsprop', metrics=['accuracy'])\n",
    "    model1.summary()\n",
    "    print('======Training stage======')\n",
    "    model1.fit(x_bc8_0[train],\n",
    "               y_bc8_0[train],\n",
    "               epochs = 10,\n",
    "               batch_size = 32,\n",
    "               callbacks=[early_stopping])\n",
    "    #k_accuracy = '%.4f' %(model1.evaluate(data_10000x[validation], data_10000y[validation])[1])\n",
    "\n",
    "# 12. 교차검증결과 predict - 검증셋들\n",
    "    # predict 값\n",
    "    k_pr = model1.predict(x_bc8_0[validation])\n",
    "    \n",
    "    # 테스트 predict 결과들 비교 (평가지표 보기위함)\n",
    "    pred = np.round(np.array(k_pr).flatten().tolist())\n",
    "    y_test = np.array(y_bc8_0[validation]).flatten().tolist()\n",
    "    \n",
    "# 13. 평가지표들 출력\n",
    "    ## 평가지표들\n",
    "    k_accuracy = float(accuracy_score(y_test, pred))\n",
    "    k_recall =  float(recall_score(y_test, pred))\n",
    "    k_precision = float(precision_score(y_test, pred))\n",
    "    k_f1_score = float(f1_score(y_test, pred))\n",
    "    #k_cm = float(confusion_matrix(y_test, pred))\n",
    "    \n",
    "    print('accuracy_score', k_accuracy)\n",
    "    print('recall_score', k_recall)\n",
    "    print('precision_score', k_precision)\n",
    "    print('f1_score', k_f1_score)\n",
    "    #print('\\nconfusion_matrix\\n', k_cm)\n",
    "\n",
    "    accuracy.append(k_accuracy)\n",
    "    recall.append(k_recall)\n",
    "    precision.append(k_precision)\n",
    "    f1score.append(k_f1_score)\n",
    "    #cm.append(k_cm)\n",
    "#    print('roc_curve 면적', roc_auc_score(y_test, pred))\n",
    "\n",
    "# 최종 결과지표\n",
    "print('\\nK-fold cross validation Accuracy: {}'.format(accuracy))\n",
    "print('\\nK-fold cross validation Recall: {}'.format(recall))\n",
    "print('\\nK-fold cross validation Precision: {}'.format(precision))\n",
    "print('\\nK-fold cross validation F1-Score: {}'.format(f1score))\n",
    "#print('\\nK-fold cross validation ConfusionMatrix: {}'.format(cm))"
   ]
  },
  {
   "cell_type": "markdown",
   "metadata": {},
   "source": [
    "## (9) 평가지표"
   ]
  },
  {
   "cell_type": "code",
   "execution_count": 12,
   "metadata": {},
   "outputs": [
    {
     "name": "stdout",
     "output_type": "stream",
     "text": [
      "10-Fold Cross_validation. Accuracy : 0.999950222626364\n",
      "10-Fold Cross_validation. Recall : 0.9988690449712934\n",
      "10-Fold Cross_validation. Precision : 0.9987416654927012\n",
      "10-Fold Cross_validation. F1-Score : 0.9988051773892345\n"
     ]
    }
   ],
   "source": [
    "print('10-Fold Cross_validation. Accuracy :', np.mean(accuracy))\n",
    "print('10-Fold Cross_validation. Recall :', np.mean(recall))\n",
    "print('10-Fold Cross_validation. Precision :', np.mean(precision))\n",
    "print('10-Fold Cross_validation. F1-Score :', np.mean(f1score))"
   ]
  },
  {
   "cell_type": "code",
   "execution_count": 13,
   "metadata": {},
   "outputs": [
    {
     "name": "stdout",
     "output_type": "stream",
     "text": [
      "save 완료\n"
     ]
    }
   ],
   "source": [
    "model1.save('gcc8_bin_core_s16_h24_o0.h5')\n",
    "print('save 완료')"
   ]
  }
 ],
 "metadata": {
  "kernelspec": {
   "display_name": "Python 3",
   "language": "python",
   "name": "python3"
  },
  "language_info": {
   "codemirror_mode": {
    "name": "ipython",
    "version": 3
   },
   "file_extension": ".py",
   "mimetype": "text/x-python",
   "name": "python",
   "nbconvert_exporter": "python",
   "pygments_lexer": "ipython3",
   "version": "3.7.9"
  }
 },
 "nbformat": 4,
 "nbformat_minor": 4
}
