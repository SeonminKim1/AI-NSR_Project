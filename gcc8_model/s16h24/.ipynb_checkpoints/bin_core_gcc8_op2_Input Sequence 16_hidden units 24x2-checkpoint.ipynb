{
 "cells": [
  {
   "cell_type": "markdown",
   "metadata": {},
   "source": [
    "## RNN 모델 N-Byte 방식 (함수정보 포함 vs 미포함 => 1:1 비율)\n",
    "\n",
    "## (1) 데이터로드"
   ]
  },
  {
   "cell_type": "code",
   "execution_count": 1,
   "metadata": {},
   "outputs": [
    {
     "name": "stdout",
     "output_type": "stream",
     "text": [
      "(28744700, 2)\n",
      "shape - (28744700, 2)\n",
      "reset_index 완료\n",
      "input data shape\n"
     ]
    },
    {
     "data": {
      "text/html": [
       "<div>\n",
       "<style scoped>\n",
       "    .dataframe tbody tr th:only-of-type {\n",
       "        vertical-align: middle;\n",
       "    }\n",
       "\n",
       "    .dataframe tbody tr th {\n",
       "        vertical-align: top;\n",
       "    }\n",
       "\n",
       "    .dataframe thead th {\n",
       "        text-align: right;\n",
       "    }\n",
       "</style>\n",
       "<table border=\"1\" class=\"dataframe\">\n",
       "  <thead>\n",
       "    <tr style=\"text-align: right;\">\n",
       "      <th></th>\n",
       "      <th>bin</th>\n",
       "      <th>label</th>\n",
       "    </tr>\n",
       "  </thead>\n",
       "  <tbody>\n",
       "    <tr>\n",
       "      <th>0</th>\n",
       "      <td>47</td>\n",
       "      <td>0</td>\n",
       "    </tr>\n",
       "    <tr>\n",
       "      <th>1</th>\n",
       "      <td>108</td>\n",
       "      <td>0</td>\n",
       "    </tr>\n",
       "    <tr>\n",
       "      <th>2</th>\n",
       "      <td>105</td>\n",
       "      <td>0</td>\n",
       "    </tr>\n",
       "    <tr>\n",
       "      <th>3</th>\n",
       "      <td>98</td>\n",
       "      <td>0</td>\n",
       "    </tr>\n",
       "    <tr>\n",
       "      <th>4</th>\n",
       "      <td>47</td>\n",
       "      <td>0</td>\n",
       "    </tr>\n",
       "  </tbody>\n",
       "</table>\n",
       "</div>"
      ],
      "text/plain": [
       "   bin  label\n",
       "0   47      0\n",
       "1  108      0\n",
       "2  105      0\n",
       "3   98      0\n",
       "4   47      0"
      ]
     },
     "execution_count": 1,
     "metadata": {},
     "output_type": "execute_result"
    }
   ],
   "source": [
    "# (1) 데이터로드\n",
    "import pandas as pd\n",
    "import numpy as np\n",
    "\n",
    "import warnings\n",
    "warnings.filterwarnings(action='ignore')\n",
    "\n",
    "# 여러개 쳐도 나오게\n",
    "from IPython.core.interactiveshell import InteractiveShell\n",
    "InteractiveShell.ast_node_interactivity = \"all\"\n",
    "\n",
    "# 파일읽기\n",
    "bin8_2 = pd.read_csv(\"../../바이너리_최종데이터_1004/gcc8/o2/o2_bincore8.csv\", index_col=0)\n",
    "print(bin8_2.shape)\n",
    "\n",
    "# reset_index (hex processing 하면서 값이 빠졌으니까 + n_gram 에서 index를 다루기 때문에)\n",
    "bin8_2.reset_index(inplace=True, drop=True)\n",
    "\n",
    "print('shape -', bin8_2.shape)\n",
    "print('reset_index 완료')\n",
    "print('input data shape')\n",
    "bin8_2.head()"
   ]
  },
  {
   "cell_type": "code",
   "execution_count": 2,
   "metadata": {},
   "outputs": [
    {
     "name": "stdout",
     "output_type": "stream",
     "text": [
      "256\n",
      "0    28706035\n",
      "1       38665\n",
      "Name: label, dtype: int64\n"
     ]
    }
   ],
   "source": [
    "# (2-1) 데이터체크 1 - hex(16진수)가 256 label을 가져야 dummies 변환 가능 \n",
    "# 16진수 256개 종류가 있어서 pd.get_dummies 사용 가능.\n",
    "print(len(bin8_2['bin'].unique()))\n",
    "\n",
    "# (2-2) 데이터 체크 2 - 1, 0 비율 ==> 1이 함수의 갯수를 뜻함\n",
    "# 정답 데이터 1, 0 비율 확인  ==> 1이 함수의 갯수를 뜻함\n",
    "print(bin8_2['label'].value_counts())"
   ]
  },
  {
   "cell_type": "markdown",
   "metadata": {},
   "source": [
    "## (3) N Byte씩 자르기"
   ]
  },
  {
   "cell_type": "code",
   "execution_count": 3,
   "metadata": {},
   "outputs": [
    {
     "name": "stdout",
     "output_type": "stream",
     "text": [
      "618640\n",
      "나머지 0\n",
      "최종 길이 618640\n",
      "bin8_2 618640\n"
     ]
    }
   ],
   "source": [
    "idx_bin = bin8_2[bin8_2['label']==1].index  # 407, 474 ...\n",
    "ls_bin = list(idx_bin)\n",
    "\n",
    "# 최종 뽑을 행에 대한 index\n",
    "ls_idx_bin = []\n",
    "\n",
    "# n byte 자르기 방식\n",
    "left_idx, right_idx = 0, 16 # 3개씩\n",
    "\n",
    "# n byte 자르기\n",
    "for k in range(left_idx, right_idx):\n",
    "    ls_idx_bin.extend(list(idx_bin + k)) # index 형이라서 가능\n",
    "\n",
    "#ls_idx = list(set(ls_idx)) \n",
    "ls_idx_bin.sort() # 인덱스 정렬\n",
    "\n",
    "# 1차 index 해당범위 초과한 것들 없애기\n",
    "ls_idx_bin = list(filter(lambda x: x<len(bin8_2), ls_idx_bin))\n",
    "print(len(ls_idx_bin))\n",
    "\n",
    "# 2차 남은 index들 중 right_idx 나눈 나머지 없애기\n",
    "sub_bin = len(ls_idx_bin)%(right_idx)\n",
    "print('나머지', sub_bin)\n",
    "\n",
    "ls_idx_bin = ls_idx_bin[:len(ls_idx_bin)-sub_bin]\n",
    "print('최종 길이', len(ls_idx_bin))\n",
    "\n",
    "print('bin8_2', len(ls_idx_bin))\n",
    "\n",
    "# loc 로 수정필요\n",
    "bin8_2_Ngram = bin8_2.loc[ls_idx_bin,:].copy()"
   ]
  },
  {
   "cell_type": "markdown",
   "metadata": {},
   "source": [
    "## (4) false data 만들기"
   ]
  },
  {
   "cell_type": "code",
   "execution_count": 4,
   "metadata": {},
   "outputs": [
    {
     "name": "stdout",
     "output_type": "stream",
     "text": [
      "61202.0\n",
      "0 16865252\n",
      "1000 14634078\n",
      "2000 1006465\n",
      "3000 24740403\n",
      "4000 23499391\n",
      "5000 12708635\n",
      "6000 15791542\n",
      "7000 4126182\n",
      "8000 1159586\n",
      "9000 1229493\n",
      "10000 6220577\n",
      "11000 25936301\n",
      "12000 23484260\n",
      "13000 10125522\n",
      "14000 27602874\n",
      "15000 5938225\n",
      "16000 11661521\n",
      "17000 26125788\n",
      "18000 23113329\n",
      "19000 25555242\n",
      "20000 13180624\n",
      "21000 17617143\n",
      "22000 16330579\n",
      "23000 1409415\n",
      "24000 16039669\n",
      "25000 9897156\n",
      "26000 21808436\n",
      "27000 17181023\n",
      "28000 15851753\n",
      "29000 23149876\n",
      "30000 1590054\n",
      "31000 3905898\n",
      "32000 25393602\n",
      "33000 26700890\n",
      "34000 26347897\n",
      "35000 15162697\n",
      "36000 1460018\n",
      "37000 3721894\n",
      "38000 15595297\n",
      "39000 5234517\n",
      "40000 6130607\n",
      "41000 13215244\n",
      "42000 2791882\n",
      "43000 3928689\n",
      "44000 12624766\n",
      "45000 19939218\n",
      "46000 26713682\n",
      "47000 23128245\n",
      "48000 26837562\n",
      "49000 2519368\n",
      "50000 13506565\n",
      "51000 17028086\n",
      "52000 17319918\n",
      "53000 26894612\n",
      "54000 6521539\n",
      "55000 10571784\n",
      "56000 14837922\n",
      "57000 17547632\n",
      "58000 12951286\n",
      "59000 17765565\n",
      "60000 22563033\n",
      "61000 19692180\n",
      "완료\n",
      "61202\n"
     ]
    }
   ],
   "source": [
    "# false data 만들기 - False 데이터 랜덤 생성\n",
    "\n",
    "# 목표치\n",
    "goal_bin = len(bin8_2_Ngram)/right_idx\n",
    "count_bin = 0\n",
    "\n",
    "print(goal_bin)\n",
    "\n",
    "# 최종 데이터 Frame\n",
    "d_bin = pd.DataFrame(columns = bin8_2.columns)\n",
    "\n",
    "binutils_df = []\n",
    "# goal 에 도달할 때까지\n",
    "while True:\n",
    "    if (count_bin == goal_bin):\n",
    "            break\n",
    "    # 진행상황 살펴보기 위함\n",
    "            \n",
    "    # 랜덤 N 바이트씩 뽑음\n",
    "    # random index\n",
    "    random_idx_bin = np.random.randint(len(bin8_2)-right_idx)\n",
    "\n",
    "    if count_bin % 1000==0:\n",
    "        print(count_bin, end=' ')\n",
    "        print(random_idx_bin)\n",
    "\n",
    "    df_bin = bin8_2[random_idx_bin : random_idx_bin + right_idx]\n",
    "    \n",
    "    # 뽑은 index의 N 바이트 중에 1이 없는 경우만\n",
    "    if 1 not in df_bin['label'] and count_bin < goal_bin:\n",
    "        binutils_df.append(df_bin)\n",
    "        count_bin+=1\n",
    "\n",
    "print('완료')\n",
    "print(len(binutils_df))"
   ]
  },
  {
   "cell_type": "code",
   "execution_count": 5,
   "metadata": {},
   "outputs": [
    {
     "name": "stdout",
     "output_type": "stream",
     "text": [
      "61202\n",
      "38665\n"
     ]
    }
   ],
   "source": [
    "# True data와 False Data 같은지 체크\n",
    "print(len(binutils_df))\n",
    "print(bin8_2['label'].value_counts()[1])"
   ]
  },
  {
   "cell_type": "markdown",
   "metadata": {},
   "source": [
    "## (5) False Data + True Data 합치기"
   ]
  },
  {
   "cell_type": "code",
   "execution_count": 6,
   "metadata": {},
   "outputs": [
    {
     "data": {
      "text/plain": [
       "(1958464, 2)"
      ]
     },
     "execution_count": 6,
     "metadata": {},
     "output_type": "execute_result"
    }
   ],
   "source": [
    "f_data = pd.concat(binutils_df)\n",
    "final = pd.concat([f_data, bin8_2_Ngram])\n",
    "final.shape"
   ]
  },
  {
   "cell_type": "markdown",
   "metadata": {},
   "source": [
    "## (6) one hot encoding"
   ]
  },
  {
   "cell_type": "code",
   "execution_count": 7,
   "metadata": {},
   "outputs": [
    {
     "name": "stdout",
     "output_type": "stream",
     "text": [
      "원핫인코딩완료\n",
      "(1958464, 257)\n"
     ]
    }
   ],
   "source": [
    "# 훈련데이터 (gcc 최적화버전 0, 1, 2, 3 one hot encoding)\n",
    "bc8_2_onehot_Ngram = pd.get_dummies(final['bin'])\n",
    "bc8_2_onehot_Ngram = pd.concat([final['label'], bc8_2_onehot_Ngram], axis=1)\n",
    "\n",
    "print('원핫인코딩완료')\n",
    "print(bc8_2_onehot_Ngram.shape)"
   ]
  },
  {
   "cell_type": "code",
   "execution_count": 8,
   "metadata": {},
   "outputs": [
    {
     "name": "stdout",
     "output_type": "stream",
     "text": [
      "(1958464, 256) (1958464, 256)\n",
      "(122404, 16, 256) (122404, 16, 1)\n"
     ]
    }
   ],
   "source": [
    "# 훈련 데이터, 훈련 라벨\n",
    "x_bc8_2 = bc8_2_onehot_Ngram.iloc[:,1:].to_numpy()\n",
    "y_bc8_2 = bc8_2_onehot_Ngram['label'].to_numpy()\n",
    "print(x_bc8_2.shape, x_bc8_2.shape)\n",
    "\n",
    "x_bc8_2 = x_bc8_2.reshape(-1, right_idx, x_bc8_2.shape[1])\n",
    "y_bc8_2 = y_bc8_2.reshape(-1, right_idx, 1)\n",
    "\n",
    "print(x_bc8_2.shape, y_bc8_2.shape)"
   ]
  },
  {
   "cell_type": "code",
   "execution_count": 9,
   "metadata": {},
   "outputs": [
    {
     "name": "stdout",
     "output_type": "stream",
     "text": [
      "(122404, 16, 256) (122404, 16, 1)\n"
     ]
    }
   ],
   "source": [
    "# numpy 행, 열 섞기\n",
    "p = np.random.permutation(x_bc8_2.shape[0])\n",
    "\n",
    "x_bc8_2 = x_bc8_2[p]\n",
    "y_bc8_2 = y_bc8_2[p]\n",
    "\n",
    "print(x_bc8_2.shape, y_bc8_2.shape)"
   ]
  },
  {
   "cell_type": "markdown",
   "metadata": {},
   "source": [
    "## (7) 모델"
   ]
  },
  {
   "cell_type": "code",
   "execution_count": 10,
   "metadata": {},
   "outputs": [],
   "source": [
    "# (10) 양방향 LSTM 모델링 작업\n",
    "from tensorflow.keras import layers, models\n",
    "#from tf.keras.models import Model, Sequential\n",
    "#from tf.keras.layers import SimpleRNN, Input, Dense, LSTM\n",
    "#from tf.keras.layers import Bidirectional, TimeDistributed\n",
    "\n",
    "# 학습\n",
    "from tensorflow.keras.callbacks import EarlyStopping\n",
    "early_stopping = EarlyStopping(patience = 3) # 조기종료 콜백함수 정의\n",
    "\n",
    "xInput = layers.Input(batch_shape=(None,right_idx, 256)) \n",
    "xBiLstm = layers.Bidirectional(layers.LSTM(24, return_sequences=True, stateful=False), merge_mode = 'concat')(xInput)\n",
    "xOutput = layers.TimeDistributed(layers.Dense(1, activation ='sigmoid'))(xBiLstm) # 각 스텝에서 cost가 전송되고, 오류가 다음 step으로 전송됨."
   ]
  },
  {
   "cell_type": "markdown",
   "metadata": {},
   "source": [
    "## (8) 학습 - 10 KFold"
   ]
  },
  {
   "cell_type": "code",
   "execution_count": 11,
   "metadata": {
    "scrolled": false
   },
   "outputs": [
    {
     "name": "stdout",
     "output_type": "stream",
     "text": [
      "Model: \"model\"\n",
      "_________________________________________________________________\n",
      "Layer (type)                 Output Shape              Param #   \n",
      "=================================================================\n",
      "input_1 (InputLayer)         [(None, 16, 256)]         0         \n",
      "_________________________________________________________________\n",
      "bidirectional (Bidirectional (None, 16, 48)            53952     \n",
      "_________________________________________________________________\n",
      "time_distributed (TimeDistri (None, 16, 1)             49        \n",
      "=================================================================\n",
      "Total params: 54,001\n",
      "Trainable params: 54,001\n",
      "Non-trainable params: 0\n",
      "_________________________________________________________________\n",
      "======Training stage======\n",
      "Train on 110163 samples\n",
      "Epoch 1/10\n",
      "110144/110163 [============================>.] - ETA: 0s - loss: 0.0242 - accuracy: 0.9931WARNING:tensorflow:Early stopping conditioned on metric `val_loss` which is not available. Available metrics are: loss,accuracy\n",
      "110163/110163 [==============================] - 60s 545us/sample - loss: 0.0242 - accuracy: 0.9931\n",
      "Epoch 2/10\n",
      "110080/110163 [============================>.] - ETA: 0s - loss: 0.0091 - accuracy: 0.9970WARNING:tensorflow:Early stopping conditioned on metric `val_loss` which is not available. Available metrics are: loss,accuracy\n",
      "110163/110163 [==============================] - 49s 446us/sample - loss: 0.0091 - accuracy: 0.9970\n",
      "Epoch 3/10\n",
      "110112/110163 [============================>.] - ETA: 0s - loss: 0.0075 - accuracy: 0.9976WARNING:tensorflow:Early stopping conditioned on metric `val_loss` which is not available. Available metrics are: loss,accuracy\n",
      "110163/110163 [==============================] - 60s 545us/sample - loss: 0.0075 - accuracy: 0.9976\n",
      "Epoch 4/10\n",
      "110112/110163 [============================>.] - ETA: 0s - loss: 0.0065 - accuracy: 0.9979WARNING:tensorflow:Early stopping conditioned on metric `val_loss` which is not available. Available metrics are: loss,accuracy\n",
      "110163/110163 [==============================] - 66s 600us/sample - loss: 0.0065 - accuracy: 0.9979\n",
      "Epoch 5/10\n",
      "110144/110163 [============================>.] - ETA: 0s - loss: 0.0057 - accuracy: 0.9982 ETA: 0s - loss: 0.0058 - accuracyWARNING:tensorflow:Early stopping conditioned on metric `val_loss` which is not available. Available metrics are: loss,accuracy\n",
      "110163/110163 [==============================] - 71s 642us/sample - loss: 0.0057 - accuracy: 0.9982\n",
      "Epoch 6/10\n",
      "110080/110163 [============================>.] - ETA: 0s - loss: 0.0052 - accuracy: 0.9984WARNING:tensorflow:Early stopping conditioned on metric `val_loss` which is not available. Available metrics are: loss,accuracy\n",
      "110163/110163 [==============================] - 82s 740us/sample - loss: 0.0052 - accuracy: 0.9984\n",
      "Epoch 7/10\n",
      "110112/110163 [============================>.] - ETA: 0s - loss: 0.0047 - accuracy: 0.9985 EWARNING:tensorflow:Early stopping conditioned on metric `val_loss` which is not available. Available metrics are: loss,accuracy\n",
      "110163/110163 [==============================] - 79s 719us/sample - loss: 0.0047 - accuracy: 0.9985\n",
      "Epoch 8/10\n",
      "110112/110163 [============================>.] - ETA: 0s - loss: 0.0044 - accuracy: 0.9986WARNING:tensorflow:Early stopping conditioned on metric `val_loss` which is not available. Available metrics are: loss,accuracy\n",
      "110163/110163 [==============================] - 80s 727us/sample - loss: 0.0044 - accuracy: 0.9986\n",
      "Epoch 9/10\n",
      "110080/110163 [============================>.] - ETA: 0s - loss: 0.0041 - accuracy: 0.9987WARNING:tensorflow:Early stopping conditioned on metric `val_loss` which is not available. Available metrics are: loss,accuracy\n",
      "110163/110163 [==============================] - 80s 728us/sample - loss: 0.0041 - accuracy: 0.9987\n",
      "Epoch 10/10\n",
      "110144/110163 [============================>.] - ETA: 0s - loss: 0.0039 - accuracy: 0.9988WARNING:tensorflow:Early stopping conditioned on metric `val_loss` which is not available. Available metrics are: loss,accuracy\n",
      "110163/110163 [==============================] - 77s 699us/sample - loss: 0.0039 - accuracy: 0.9988\n"
     ]
    },
    {
     "data": {
      "text/plain": [
       "<tensorflow.python.keras.callbacks.History at 0x22a4396ef08>"
      ]
     },
     "execution_count": 11,
     "metadata": {},
     "output_type": "execute_result"
    },
    {
     "name": "stdout",
     "output_type": "stream",
     "text": [
      "accuracy_score 0.9986673882852708\n",
      "recall_score 0.9724770642201835\n",
      "precision_score 0.9647904191616766\n",
      "f1_score 0.9686184922447998\n",
      "Model: \"model_1\"\n",
      "_________________________________________________________________\n",
      "Layer (type)                 Output Shape              Param #   \n",
      "=================================================================\n",
      "input_1 (InputLayer)         [(None, 16, 256)]         0         \n",
      "_________________________________________________________________\n",
      "bidirectional (Bidirectional (None, 16, 48)            53952     \n",
      "_________________________________________________________________\n",
      "time_distributed (TimeDistri (None, 16, 1)             49        \n",
      "=================================================================\n",
      "Total params: 54,001\n",
      "Trainable params: 54,001\n",
      "Non-trainable params: 0\n",
      "_________________________________________________________________\n",
      "======Training stage======\n",
      "Train on 110163 samples\n",
      "Epoch 1/10\n",
      "110112/110163 [============================>.] - ETA: 0s - loss: 0.0037 - accuracy: 0.9988WARNING:tensorflow:Early stopping conditioned on metric `val_loss` which is not available. Available metrics are: loss,accuracy\n",
      "110163/110163 [==============================] - 95s 858us/sample - loss: 0.0037 - accuracy: 0.9988\n",
      "Epoch 2/10\n",
      "110112/110163 [============================>.] - ETA: 0s - loss: 0.0035 - accuracy: 0.9989WARNING:tensorflow:Early stopping conditioned on metric `val_loss` which is not available. Available metrics are: loss,accuracy\n",
      "110163/110163 [==============================] - 73s 660us/sample - loss: 0.0035 - accuracy: 0.9989\n",
      "Epoch 3/10\n",
      "110144/110163 [============================>.] - ETA: 0s - loss: 0.0033 - accuracy: 0.9990WARNING:tensorflow:Early stopping conditioned on metric `val_loss` which is not available. Available metrics are: loss,accuracy\n",
      "110163/110163 [==============================] - 66s 603us/sample - loss: 0.0033 - accuracy: 0.9990\n",
      "Epoch 4/10\n",
      "110112/110163 [============================>.] - ETA: 0s - loss: 0.0032 - accuracy: 0.9990WARNING:tensorflow:Early stopping conditioned on metric `val_loss` which is not available. Available metrics are: loss,accuracy\n",
      "110163/110163 [==============================] - 76s 690us/sample - loss: 0.0032 - accuracy: 0.9990\n",
      "Epoch 5/10\n",
      "110080/110163 [============================>.] - ETA: 0s - loss: 0.0031 - accuracy: 0.9991WARNING:tensorflow:Early stopping conditioned on metric `val_loss` which is not available. Available metrics are: loss,accuracy\n",
      "110163/110163 [==============================] - 82s 745us/sample - loss: 0.0030 - accuracy: 0.9991\n",
      "Epoch 6/10\n",
      "110112/110163 [============================>.] - ETA: 0s - loss: 0.0029 - accuracy: 0.9991 ETA: 0s - loss: 0.0029 - WARNING:tensorflow:Early stopping conditioned on metric `val_loss` which is not available. Available metrics are: loss,accuracy\n",
      "110163/110163 [==============================] - 73s 663us/sample - loss: 0.0029 - accuracy: 0.9991\n",
      "Epoch 7/10\n",
      "110144/110163 [============================>.] - ETA: 0s - loss: 0.0028 - accuracy: 0.9992 ETA: 0s - loss: 0.0WARNING:tensorflow:Early stopping conditioned on metric `val_loss` which is not available. Available metrics are: loss,accuracy\n",
      "110163/110163 [==============================] - 83s 749us/sample - loss: 0.0028 - accuracy: 0.9992\n",
      "Epoch 8/10\n",
      "110144/110163 [============================>.] - ETA: 0s - loss: 0.0027 - accuracy: 0.9992WARNING:tensorflow:Early stopping conditioned on metric `val_loss` which is not available. Available metrics are: loss,accuracy\n",
      "110163/110163 [==============================] - 83s 756us/sample - loss: 0.0027 - accuracy: 0.9992\n",
      "Epoch 9/10\n",
      "110112/110163 [============================>.] - ETA: 0s - loss: 0.0026 - accuracy: 0.9992WARNING:tensorflow:Early stopping conditioned on metric `val_loss` which is not available. Available metrics are: loss,accuracy\n",
      "110163/110163 [==============================] - 84s 765us/sample - loss: 0.0026 - accuracy: 0.9992\n",
      "Epoch 10/10\n",
      "110144/110163 [============================>.] - ETA: 0s - loss: 0.0024 - accuracy: 0.9993 ETA: 0s - loss: 0.0024 - accuracy: 0.99 - ETA: 0s - loss: 0.0024 WARNING:tensorflow:Early stopping conditioned on metric `val_loss` which is not available. Available metrics are: loss,accuracy\n",
      "110163/110163 [==============================] - 82s 742us/sample - loss: 0.0024 - accuracy: 0.9993\n"
     ]
    },
    {
     "data": {
      "text/plain": [
       "<tensorflow.python.keras.callbacks.History at 0x22a81494b48>"
      ]
     },
     "execution_count": 11,
     "metadata": {},
     "output_type": "execute_result"
    },
    {
     "name": "stdout",
     "output_type": "stream",
     "text": [
      "accuracy_score 0.9989226778857937\n",
      "recall_score 0.9715167339188227\n",
      "precision_score 0.9782504780114722\n",
      "f1_score 0.9748719780874121\n",
      "Model: \"model_2\"\n",
      "_________________________________________________________________\n",
      "Layer (type)                 Output Shape              Param #   \n",
      "=================================================================\n",
      "input_1 (InputLayer)         [(None, 16, 256)]         0         \n",
      "_________________________________________________________________\n",
      "bidirectional (Bidirectional (None, 16, 48)            53952     \n",
      "_________________________________________________________________\n",
      "time_distributed (TimeDistri (None, 16, 1)             49        \n",
      "=================================================================\n",
      "Total params: 54,001\n",
      "Trainable params: 54,001\n",
      "Non-trainable params: 0\n",
      "_________________________________________________________________\n",
      "======Training stage======\n",
      "Train on 110163 samples\n",
      "Epoch 1/10\n",
      "110112/110163 [============================>.] - ETA: 0s - loss: 0.0026 - accuracy: 0.9992WARNING:tensorflow:Early stopping conditioned on metric `val_loss` which is not available. Available metrics are: loss,accuracy\n",
      "110163/110163 [==============================] - 96s 868us/sample - loss: 0.0026 - accuracy: 0.9992\n",
      "Epoch 2/10\n",
      "110080/110163 [============================>.] - ETA: 0s - loss: 0.0025 - accuracy: 0.9993 E - ETA: 0s - loss: 0.0025 WARNING:tensorflow:Early stopping conditioned on metric `val_loss` which is not available. Available metrics are: loss,accuracy\n",
      "110163/110163 [==============================] - 65s 589us/sample - loss: 0.0025 - accuracy: 0.9993\n",
      "Epoch 3/10\n",
      "110112/110163 [============================>.] - ETA: 0s - loss: 0.0024 - accuracy: 0.9993WARNING:tensorflow:Early stopping conditioned on metric `val_loss` which is not available. Available metrics are: loss,accuracy\n",
      "110163/110163 [==============================] - 82s 741us/sample - loss: 0.0024 - accuracy: 0.9993\n",
      "Epoch 4/10\n",
      "110112/110163 [============================>.] - ETA: 0s - loss: 0.0023 - accuracy: 0.9993WARNING:tensorflow:Early stopping conditioned on metric `val_loss` which is not available. Available metrics are: loss,accuracy\n",
      "110163/110163 [==============================] - 86s 785us/sample - loss: 0.0023 - accuracy: 0.9993\n",
      "Epoch 5/10\n",
      "110144/110163 [============================>.] - ETA: 0s - loss: 0.0022 - accuracy: 0.9993WARNING:tensorflow:Early stopping conditioned on metric `val_loss` which is not available. Available metrics are: loss,accuracy\n",
      "110163/110163 [==============================] - 85s 773us/sample - loss: 0.0022 - accuracy: 0.9993\n",
      "Epoch 6/10\n",
      "110112/110163 [============================>.] - ETA: 0s - loss: 0.0022 - accuracy: 0.9994WARNING:tensorflow:Early stopping conditioned on metric `val_loss` which is not available. Available metrics are: loss,accuracy\n",
      "110163/110163 [==============================] - 86s 777us/sample - loss: 0.0022 - accuracy: 0.9994\n",
      "Epoch 7/10\n",
      "110144/110163 [============================>.] - ETA: 0s - loss: 0.0021 - accuracy: 0.9994WARNING:tensorflow:Early stopping conditioned on metric `val_loss` which is not available. Available metrics are: loss,accuracy\n",
      "110163/110163 [==============================] - 85s 771us/sample - loss: 0.0021 - accuracy: 0.9994\n",
      "Epoch 8/10\n",
      "110144/110163 [============================>.] - ETA: 0s - loss: 0.0020 - accuracy: 0.9994WARNING:tensorflow:Early stopping conditioned on metric `val_loss` which is not available. Available metrics are: loss,accuracy\n",
      "110163/110163 [==============================] - 86s 778us/sample - loss: 0.0020 - accuracy: 0.9994\n",
      "Epoch 9/10\n",
      "110112/110163 [============================>.] - ETA: 0s - loss: 0.0020 - accuracy: 0.9994WARNING:tensorflow:Early stopping conditioned on metric `val_loss` which is not available. Available metrics are: loss,accuracy\n",
      "110163/110163 [==============================] - 75s 677us/sample - loss: 0.0020 - accuracy: 0.9994\n",
      "Epoch 10/10\n",
      "110144/110163 [============================>.] - ETA: 0s - loss: 0.0019 - accuracy: 0.9994WARNING:tensorflow:Early stopping conditioned on metric `val_loss` which is not available. Available metrics are: loss,accuracy\n",
      "110163/110163 [==============================] - 69s 627us/sample - loss: 0.0019 - accuracy: 0.9994\n"
     ]
    },
    {
     "data": {
      "text/plain": [
       "<tensorflow.python.keras.callbacks.History at 0x22a8cfcd588>"
      ]
     },
     "execution_count": 11,
     "metadata": {},
     "output_type": "execute_result"
    },
    {
     "name": "stdout",
     "output_type": "stream",
     "text": [
      "accuracy_score 0.9991218037742015\n",
      "recall_score 0.9787183165949307\n",
      "precision_score 0.9801245210727969\n",
      "f1_score 0.979420914094281\n",
      "Model: \"model_3\"\n",
      "_________________________________________________________________\n",
      "Layer (type)                 Output Shape              Param #   \n",
      "=================================================================\n",
      "input_1 (InputLayer)         [(None, 16, 256)]         0         \n",
      "_________________________________________________________________\n",
      "bidirectional (Bidirectional (None, 16, 48)            53952     \n",
      "_________________________________________________________________\n",
      "time_distributed (TimeDistri (None, 16, 1)             49        \n",
      "=================================================================\n",
      "Total params: 54,001\n",
      "Trainable params: 54,001\n",
      "Non-trainable params: 0\n",
      "_________________________________________________________________\n",
      "======Training stage======\n",
      "Train on 110163 samples\n",
      "Epoch 1/10\n",
      "110080/110163 [============================>.] - ETA: 0s - loss: 0.0020 - accuracy: 0.9994  - ETA: 4s - los - ETA: 3sWARNING:tensorflow:Early stopping conditioned on metric `val_loss` which is not available. Available metrics are: loss,accuracy\n",
      "110163/110163 [==============================] - 93s 847us/sample - loss: 0.0020 - accuracy: 0.9994\n",
      "Epoch 2/10\n",
      "110144/110163 [============================>.] - ETA: 0s - loss: 0.0019 - accuracy: 0.9995WARNING:tensorflow:Early stopping conditioned on metric `val_loss` which is not available. Available metrics are: loss,accuracy\n",
      "110163/110163 [==============================] - 83s 757us/sample - loss: 0.0019 - accuracy: 0.9995\n",
      "Epoch 3/10\n",
      "110144/110163 [============================>.] - ETA: 0s - loss: 0.0018 - accuracy: 0.9995WARNING:tensorflow:Early stopping conditioned on metric `val_loss` which is not available. Available metrics are: loss,accuracy\n",
      "110163/110163 [==============================] - 83s 752us/sample - loss: 0.0018 - accuracy: 0.9995\n",
      "Epoch 4/10\n",
      "110144/110163 [============================>.] - ETA: 0s - loss: 0.0018 - accuracy: 0.9995WARNING:tensorflow:Early stopping conditioned on metric `val_loss` which is not available. Available metrics are: loss,accuracy\n",
      "110163/110163 [==============================] - 83s 756us/sample - loss: 0.0018 - accuracy: 0.9995\n",
      "Epoch 5/10\n",
      "110112/110163 [============================>.] - ETA: 0s - loss: 0.0017 - accuracy: 0.9995WARNING:tensorflow:Early stopping conditioned on metric `val_loss` which is not available. Available metrics are: loss,accuracy\n",
      "110163/110163 [==============================] - 83s 755us/sample - loss: 0.0017 - accuracy: 0.9995\n",
      "Epoch 6/10\n",
      "110144/110163 [============================>.] - ETA: 0s - loss: 0.0016 - accuracy: 0.9995 ETA: 1s - lWARNING:tensorflow:Early stopping conditioned on metric `val_loss` which is not available. Available metrics are: loss,accuracy\n",
      "110163/110163 [==============================] - 82s 748us/sample - loss: 0.0016 - accuracy: 0.9995\n",
      "Epoch 7/10\n",
      "110112/110163 [============================>.] - ETA: 0s - loss: 0.0016 - accuracy: 0.9996WARNING:tensorflow:Early stopping conditioned on metric `val_loss` which is not available. Available metrics are: loss,accuracy\n",
      "110163/110163 [==============================] - 82s 745us/sample - loss: 0.0016 - accuracy: 0.9996\n",
      "Epoch 8/10\n",
      "110144/110163 [============================>.] - ETA: 0s - loss: 0.0015 - accuracy: 0.9996 ETA: 1sWARNING:tensorflow:Early stopping conditioned on metric `val_loss` which is not available. Available metrics are: loss,accuracy\n",
      "110163/110163 [==============================] - 79s 714us/sample - loss: 0.0015 - accuracy: 0.9996\n",
      "Epoch 9/10\n",
      "110080/110163 [============================>.] - ETA: 0s - loss: 0.0015 - accuracy: 0.9996 ETA: 0s - loss:WARNING:tensorflow:Early stopping conditioned on metric `val_loss` which is not available. Available metrics are: loss,accuracy\n",
      "110163/110163 [==============================] - 70s 640us/sample - loss: 0.0015 - accuracy: 0.9996\n",
      "Epoch 10/10\n",
      "110144/110163 [============================>.] - ETA: 0s - loss: 0.0015 - accuracy: 0.9996 ETA: 0s - loss: 0WARNING:tensorflow:Early stopping conditioned on metric `val_loss` which is not available. Available metrics are: loss,accuracy\n",
      "110163/110163 [==============================] - 72s 649us/sample - loss: 0.0015 - accuracy: 0.9996\n"
     ]
    },
    {
     "data": {
      "text/plain": [
       "<tensorflow.python.keras.callbacks.History at 0x22a8c868d08>"
      ]
     },
     "execution_count": 11,
     "metadata": {},
     "output_type": "execute_result"
    },
    {
     "name": "stdout",
     "output_type": "stream",
     "text": [
      "accuracy_score 0.9991115921901805\n",
      "recall_score 0.9805548968460991\n",
      "precision_score 0.9782351549562337\n",
      "f1_score 0.9793936522974894\n",
      "Model: \"model_4\"\n",
      "_________________________________________________________________\n",
      "Layer (type)                 Output Shape              Param #   \n",
      "=================================================================\n",
      "input_1 (InputLayer)         [(None, 16, 256)]         0         \n",
      "_________________________________________________________________\n",
      "bidirectional (Bidirectional (None, 16, 48)            53952     \n",
      "_________________________________________________________________\n",
      "time_distributed (TimeDistri (None, 16, 1)             49        \n",
      "=================================================================\n",
      "Total params: 54,001\n",
      "Trainable params: 54,001\n",
      "Non-trainable params: 0\n",
      "_________________________________________________________________\n",
      "======Training stage======\n",
      "Train on 110164 samples\n",
      "Epoch 1/10\n",
      "110112/110164 [============================>.] - ETA: 0s - loss: 0.0016 - accuracy: 0.9995 ETA: 1s - loss: 0.0016 - accu - ETA: 0s - loss: 0.0016 - WARNING:tensorflow:Early stopping conditioned on metric `val_loss` which is not available. Available metrics are: loss,accuracy\n",
      "110164/110164 [==============================] - 90s 815us/sample - loss: 0.0016 - accuracy: 0.9995\n",
      "Epoch 2/10\n",
      "110112/110164 [============================>.] - ETA: 0s - loss: 0.0015 - accuracy: 0.9996WARNING:tensorflow:Early stopping conditioned on metric `val_loss` which is not available. Available metrics are: loss,accuracy\n",
      "110164/110164 [==============================] - 72s 652us/sample - loss: 0.0015 - accuracy: 0.9996\n",
      "Epoch 3/10\n",
      "110112/110164 [============================>.] - ETA: 0s - loss: 0.0015 - accuracy: 0.9996 ETA: 4s - loss: 0.0015 - accuracy: 0. - ETA: 4s - loss: 0.0015 - accuracy - ETA: 1s - loss: 0.0015 - accuracy: 0.WARNING:tensorflow:Early stopping conditioned on metric `val_loss` which is not available. Available metrics are: loss,accuracy\n",
      "110164/110164 [==============================] - 83s 753us/sample - loss: 0.0015 - accuracy: 0.9996\n",
      "Epoch 4/10\n",
      "110080/110164 [============================>.] - ETA: 0s - loss: 0.0014 - accuracy: 0.9996WARNING:tensorflow:Early stopping conditioned on metric `val_loss` which is not available. Available metrics are: loss,accuracy\n",
      "110164/110164 [==============================] - 81s 733us/sample - loss: 0.0014 - accuracy: 0.9996\n",
      "Epoch 5/10\n",
      "110144/110164 [============================>.] - ETA: 0s - loss: 0.0014 - accuracy: 0.9996 ETA: 0s - loss: 0.0014 - accuracy: 0.99WARNING:tensorflow:Early stopping conditioned on metric `val_loss` which is not available. Available metrics are: loss,accuracy\n",
      "110164/110164 [==============================] - 61s 551us/sample - loss: 0.0014 - accuracy: 0.9996\n",
      "Epoch 6/10\n",
      "110112/110164 [============================>.] - ETA: 0s - loss: 0.0014 - accuracy: 0.9996 ETA: 0s - loss: 0.0014 - accuracyWARNING:tensorflow:Early stopping conditioned on metric `val_loss` which is not available. Available metrics are: loss,accuracy\n",
      "110164/110164 [==============================] - 61s 551us/sample - loss: 0.0014 - accuracy: 0.9996\n",
      "Epoch 7/10\n",
      "110144/110164 [============================>.] - ETA: 0s - loss: 0.0013 - accuracy: 0.9996WARNING:tensorflow:Early stopping conditioned on metric `val_loss` which is not available. Available metrics are: loss,accuracy\n",
      "110164/110164 [==============================] - 61s 552us/sample - loss: 0.0013 - accuracy: 0.9996\n",
      "Epoch 8/10\n",
      "110080/110164 [============================>.] - ETA: 0s - loss: 0.0013 - accuracy: 0.9997WARNING:tensorflow:Early stopping conditioned on metric `val_loss` which is not available. Available metrics are: loss,accuracy\n",
      "110164/110164 [==============================] - 60s 549us/sample - loss: 0.0013 - accuracy: 0.9997\n",
      "Epoch 9/10\n",
      "110048/110164 [============================>.] - ETA: 0s - loss: 0.0012 - accuracy: 0.9997WARNING:tensorflow:Early stopping conditioned on metric `val_loss` which is not available. Available metrics are: loss,accuracy\n",
      "110164/110164 [==============================] - 58s 528us/sample - loss: 0.0012 - accuracy: 0.9997\n",
      "Epoch 10/10\n",
      "110144/110164 [============================>.] - ETA: 0s - loss: 0.0012 - accuracy: 0.9997WARNING:tensorflow:Early stopping conditioned on metric `val_loss` which is not available. Available metrics are: loss,accuracy\n",
      "110164/110164 [==============================] - 57s 522us/sample - loss: 0.0012 - accuracy: 0.9997\n"
     ]
    },
    {
     "data": {
      "text/plain": [
       "<tensorflow.python.keras.callbacks.History at 0x22a8d360988>"
      ]
     },
     "execution_count": 11,
     "metadata": {},
     "output_type": "execute_result"
    },
    {
     "name": "stdout",
     "output_type": "stream",
     "text": [
      "accuracy_score 0.9990808823529411\n",
      "recall_score 0.9787532103665655\n",
      "precision_score 0.9792104648446625\n",
      "f1_score 0.9789817842129845\n",
      "Model: \"model_5\"\n",
      "_________________________________________________________________\n",
      "Layer (type)                 Output Shape              Param #   \n",
      "=================================================================\n",
      "input_1 (InputLayer)         [(None, 16, 256)]         0         \n",
      "_________________________________________________________________\n",
      "bidirectional (Bidirectional (None, 16, 48)            53952     \n",
      "_________________________________________________________________\n",
      "time_distributed (TimeDistri (None, 16, 1)             49        \n",
      "=================================================================\n",
      "Total params: 54,001\n",
      "Trainable params: 54,001\n",
      "Non-trainable params: 0\n",
      "_________________________________________________________________\n",
      "======Training stage======\n",
      "Train on 110164 samples\n",
      "Epoch 1/10\n",
      "110080/110164 [============================>.] - ETA: 0s - loss: 0.0015 - accuracy: 0.9996WARNING:tensorflow:Early stopping conditioned on metric `val_loss` which is not available. Available metrics are: loss,accuracy\n",
      "110164/110164 [==============================] - 70s 639us/sample - loss: 0.0015 - accuracy: 0.9996\n",
      "Epoch 2/10\n",
      "110112/110164 [============================>.] - ETA: 0s - loss: 0.0013 - accuracy: 0.9996WARNING:tensorflow:Early stopping conditioned on metric `val_loss` which is not available. Available metrics are: loss,accuracy\n",
      "110164/110164 [==============================] - 60s 542us/sample - loss: 0.0013 - accuracy: 0.9996\n",
      "Epoch 3/10\n",
      "110144/110164 [============================>.] - ETA: 0s - loss: 0.0013 - accuracy: 0.9996 ETA: 0s - loss: 0.0013 - accuracy: WARNING:tensorflow:Early stopping conditioned on metric `val_loss` which is not available. Available metrics are: loss,accuracy\n",
      "110164/110164 [==============================] - 62s 561us/sample - loss: 0.0013 - accuracy: 0.9996\n",
      "Epoch 4/10\n",
      "110112/110164 [============================>.] - ETA: 0s - loss: 0.0013 - accuracy: 0.9996 ETA: 0s - losWARNING:tensorflow:Early stopping conditioned on metric `val_loss` which is not available. Available metrics are: loss,accuracy\n",
      "110164/110164 [==============================] - 63s 568us/sample - loss: 0.0013 - accuracy: 0.9996\n",
      "Epoch 5/10\n",
      "110080/110164 [============================>.] - ETA: 0s - loss: 0.0012 - accuracy: 0.9997 ETA: 0s - loss: 0.0012 - accuWARNING:tensorflow:Early stopping conditioned on metric `val_loss` which is not available. Available metrics are: loss,accuracy\n",
      "110164/110164 [==============================] - 56s 505us/sample - loss: 0.0012 - accuracy: 0.9997\n",
      "Epoch 6/10\n",
      "110112/110164 [============================>.] - ETA: 0s - loss: 0.0012 - accuracy: 0.9997WARNING:tensorflow:Early stopping conditioned on metric `val_loss` which is not available. Available metrics are: loss,accuracy\n",
      "110164/110164 [==============================] - 62s 564us/sample - loss: 0.0012 - accuracy: 0.9997\n",
      "Epoch 7/10\n",
      "110112/110164 [============================>.] - ETA: 0s - loss: 0.0012 - accuracy: 0.9997WARNING:tensorflow:Early stopping conditioned on metric `val_loss` which is not available. Available metrics are: loss,accuracy\n",
      "110164/110164 [==============================] - 62s 560us/sample - loss: 0.0012 - accuracy: 0.9997\n",
      "Epoch 8/10\n",
      "110080/110164 [============================>.] - ETA: 0s - loss: 0.0012 - accuracy: 0.9997WARNING:tensorflow:Early stopping conditioned on metric `val_loss` which is not available. Available metrics are: loss,accuracy\n",
      "110164/110164 [==============================] - 62s 564us/sample - loss: 0.0012 - accuracy: 0.9997\n",
      "Epoch 9/10\n",
      "110112/110164 [============================>.] - ETA: 0s - loss: 0.0011 - accuracy: 0.9997 ETA: 0s - loss: 0.0011 - acWARNING:tensorflow:Early stopping conditioned on metric `val_loss` which is not available. Available metrics are: loss,accuracy\n",
      "110164/110164 [==============================] - 63s 571us/sample - loss: 0.0011 - accuracy: 0.9997\n",
      "Epoch 10/10\n",
      "110080/110164 [============================>.] - ETA: 0s - loss: 0.0011 - accuracy: 0.9997WARNING:tensorflow:Early stopping conditioned on metric `val_loss` which is not available. Available metrics are: loss,accuracy\n",
      "110164/110164 [==============================] - 57s 521us/sample - loss: 0.0011 - accuracy: 0.9997\n"
     ]
    },
    {
     "data": {
      "text/plain": [
       "<tensorflow.python.keras.callbacks.History at 0x22add93f288>"
      ]
     },
     "execution_count": 11,
     "metadata": {},
     "output_type": "execute_result"
    },
    {
     "name": "stdout",
     "output_type": "stream",
     "text": [
      "accuracy_score 0.9992800245098039\n",
      "recall_score 0.9834928229665072\n",
      "precision_score 0.9827874731054267\n",
      "f1_score 0.9831400215233768\n",
      "Model: \"model_6\"\n",
      "_________________________________________________________________\n",
      "Layer (type)                 Output Shape              Param #   \n",
      "=================================================================\n",
      "input_1 (InputLayer)         [(None, 16, 256)]         0         \n",
      "_________________________________________________________________\n",
      "bidirectional (Bidirectional (None, 16, 48)            53952     \n",
      "_________________________________________________________________\n",
      "time_distributed (TimeDistri (None, 16, 1)             49        \n",
      "=================================================================\n",
      "Total params: 54,001\n",
      "Trainable params: 54,001\n",
      "Non-trainable params: 0\n",
      "_________________________________________________________________\n",
      "======Training stage======\n",
      "Train on 110164 samples\n",
      "Epoch 1/10\n",
      "110080/110164 [============================>.] - ETA: 0s - loss: 0.0012 - accuracy: 0.9996WARNING:tensorflow:Early stopping conditioned on metric `val_loss` which is not available. Available metrics are: loss,accuracy\n",
      "110164/110164 [==============================] - 78s 704us/sample - loss: 0.0012 - accuracy: 0.9996\n",
      "Epoch 2/10\n",
      "110144/110164 [============================>.] - ETA: 0s - loss: 0.0011 - accuracy: 0.9997WARNING:tensorflow:Early stopping conditioned on metric `val_loss` which is not available. Available metrics are: loss,accuracy\n",
      "110164/110164 [==============================] - 63s 575us/sample - loss: 0.0011 - accuracy: 0.9997\n",
      "Epoch 3/10\n",
      "110112/110164 [============================>.] - ETA: 0s - loss: 0.0011 - accuracy: 0.9997WARNING:tensorflow:Early stopping conditioned on metric `val_loss` which is not available. Available metrics are: loss,accuracy\n",
      "110164/110164 [==============================] - 63s 576us/sample - loss: 0.0011 - accuracy: 0.9997\n",
      "Epoch 4/10\n",
      "110144/110164 [============================>.] - ETA: 0s - loss: 0.0010 - accuracy: 0.9997WARNING:tensorflow:Early stopping conditioned on metric `val_loss` which is not available. Available metrics are: loss,accuracy\n",
      "110164/110164 [==============================] - 64s 579us/sample - loss: 0.0010 - accuracy: 0.9997\n",
      "Epoch 5/10\n",
      "110080/110164 [============================>.] - ETA: 0s - loss: 0.0010 - accuracy: 0.9997WARNING:tensorflow:Early stopping conditioned on metric `val_loss` which is not available. Available metrics are: loss,accuracy\n",
      "110164/110164 [==============================] - 63s 575us/sample - loss: 0.0010 - accuracy: 0.9997\n",
      "Epoch 6/10\n",
      "110112/110164 [============================>.] - ETA: 0s - loss: 9.7848e-04 - accuracy: 0.9997WARNING:tensorflow:Early stopping conditioned on metric `val_loss` which is not available. Available metrics are: loss,accuracy\n",
      "110164/110164 [==============================] - 64s 577us/sample - loss: 9.7815e-04 - accuracy: 0.9997\n",
      "Epoch 7/10\n",
      "110080/110164 [============================>.] - ETA: 0s - loss: 9.4725e-04 - accuracy: 0.9997WARNING:tensorflow:Early stopping conditioned on metric `val_loss` which is not available. Available metrics are: loss,accuracy\n",
      "110164/110164 [==============================] - 64s 577us/sample - loss: 9.4658e-04 - accuracy: 0.9997\n",
      "Epoch 8/10\n",
      "110112/110164 [============================>.] - ETA: 0s - loss: 9.5982e-04 - accuracy: 0.9997 ETA: 0s -WARNING:tensorflow:Early stopping conditioned on metric `val_loss` which is not available. Available metrics are: loss,accuracy\n",
      "110164/110164 [==============================] - 59s 536us/sample - loss: 9.5945e-04 - accuracy: 0.9997\n",
      "Epoch 9/10\n",
      "110144/110164 [============================>.] - ETA: 0s - loss: 9.1902e-04 - accuracy: 0.9998WARNING:tensorflow:Early stopping conditioned on metric `val_loss` which is not available. Available metrics are: loss,accuracy\n",
      "110164/110164 [==============================] - 60s 545us/sample - loss: 9.1885e-04 - accuracy: 0.9998\n",
      "Epoch 10/10\n",
      "110144/110164 [============================>.] - ETA: 0s - loss: 8.5030e-04 - accuracy: 0.9998WARNING:tensorflow:Early stopping conditioned on metric `val_loss` which is not available. Available metrics are: loss,accuracy\n",
      "110164/110164 [==============================] - 63s 574us/sample - loss: 8.5015e-04 - accuracy: 0.9998\n"
     ]
    },
    {
     "data": {
      "text/plain": [
       "<tensorflow.python.keras.callbacks.History at 0x22add1d4a48>"
      ]
     },
     "execution_count": 11,
     "metadata": {},
     "output_type": "execute_result"
    },
    {
     "name": "stdout",
     "output_type": "stream",
     "text": [
      "accuracy_score 0.9992544934640523\n",
      "recall_score 0.9779498006098991\n",
      "precision_score 0.9876806443970623\n",
      "f1_score 0.9827911362564827\n",
      "Model: \"model_7\"\n",
      "_________________________________________________________________\n",
      "Layer (type)                 Output Shape              Param #   \n",
      "=================================================================\n",
      "input_1 (InputLayer)         [(None, 16, 256)]         0         \n",
      "_________________________________________________________________\n",
      "bidirectional (Bidirectional (None, 16, 48)            53952     \n",
      "_________________________________________________________________\n",
      "time_distributed (TimeDistri (None, 16, 1)             49        \n",
      "=================================================================\n",
      "Total params: 54,001\n",
      "Trainable params: 54,001\n",
      "Non-trainable params: 0\n",
      "_________________________________________________________________\n",
      "======Training stage======\n",
      "Train on 110164 samples\n",
      "Epoch 1/10\n",
      "110112/110164 [============================>.] - ETA: 0s - loss: 0.0011 - accuracy: 0.9997WARNING:tensorflow:Early stopping conditioned on metric `val_loss` which is not available. Available metrics are: loss,accuracy\n",
      "110164/110164 [==============================] - 69s 624us/sample - loss: 0.0011 - accuracy: 0.9997\n",
      "Epoch 2/10\n",
      "110080/110164 [============================>.] - ETA: 0s - loss: 0.0010 - accuracy: 0.9997WARNING:tensorflow:Early stopping conditioned on metric `val_loss` which is not available. Available metrics are: loss,accuracy\n",
      "110164/110164 [==============================] - 65s 587us/sample - loss: 0.0010 - accuracy: 0.9997\n",
      "Epoch 3/10\n",
      "110112/110164 [============================>.] - ETA: 0s - loss: 9.5170e-04 - accuracy: 0.9997WARNING:tensorflow:Early stopping conditioned on metric `val_loss` which is not available. Available metrics are: loss,accuracy\n",
      "110164/110164 [==============================] - 65s 586us/sample - loss: 9.5128e-04 - accuracy: 0.9997\n",
      "Epoch 4/10\n",
      "110144/110164 [============================>.] - ETA: 0s - loss: 9.2313e-04 - accuracy: 0.9997 ETA: 0s - loss: 9.2380e-04 - accuraWARNING:tensorflow:Early stopping conditioned on metric `val_loss` which is not available. Available metrics are: loss,accuracy\n",
      "110164/110164 [==============================] - 67s 606us/sample - loss: 9.2418e-04 - accuracy: 0.9997\n",
      "Epoch 5/10\n",
      "110080/110164 [============================>.] - ETA: 0s - loss: 8.9417e-04 - accuracy: 0.9998WARNING:tensorflow:Early stopping conditioned on metric `val_loss` which is not available. Available metrics are: loss,accuracy\n",
      "110164/110164 [==============================] - 70s 634us/sample - loss: 8.9368e-04 - accuracy: 0.9998\n",
      "Epoch 6/10\n",
      "110112/110164 [============================>.] - ETA: 0s - loss: 8.5152e-04 - accuracy: 0.9998WARNING:tensorflow:Early stopping conditioned on metric `val_loss` which is not available. Available metrics are: loss,accuracy\n",
      "110164/110164 [==============================] - 71s 641us/sample - loss: 8.5112e-04 - accuracy: 0.9998\n",
      "Epoch 7/10\n",
      "110112/110164 [============================>.] - ETA: 0s - loss: 8.3579e-04 - accuracy: 0.9998 ETA: 1s - los - ETA: 0s - loss: 8.3994e-04 - WARNING:tensorflow:Early stopping conditioned on metric `val_loss` which is not available. Available metrics are: loss,accuracy\n",
      "110164/110164 [==============================] - 72s 649us/sample - loss: 8.3542e-04 - accuracy: 0.9998\n",
      "Epoch 8/10\n",
      "110144/110164 [============================>.] - ETA: 0s - loss: 7.8937e-04 - accuracy: 0.9998WARNING:tensorflow:Early stopping conditioned on metric `val_loss` which is not available. Available metrics are: loss,accuracy\n",
      "110164/110164 [==============================] - 74s 670us/sample - loss: 7.8930e-04 - accuracy: 0.9998\n",
      "Epoch 9/10\n",
      "110080/110164 [============================>.] - ETA: 0s - loss: 7.7201e-04 - accuracy: 0.9998WARNING:tensorflow:Early stopping conditioned on metric `val_loss` which is not available. Available metrics are: loss,accuracy\n",
      "110164/110164 [==============================] - 67s 610us/sample - loss: 7.7185e-04 - accuracy: 0.9998\n",
      "Epoch 10/10\n",
      "110080/110164 [============================>.] - ETA: 0s - loss: 7.9038e-04 - accuracy: 0.9998 ETA: 1s - loss: 7.9321e-04 - accuracyWARNING:tensorflow:Early stopping conditioned on metric `val_loss` which is not available. Available metrics are: loss,accuracy\n",
      "110164/110164 [==============================] - 68s 613us/sample - loss: 7.8982e-04 - accuracy: 0.9998\n"
     ]
    },
    {
     "data": {
      "text/plain": [
       "<tensorflow.python.keras.callbacks.History at 0x22a43a6fc88>"
      ]
     },
     "execution_count": 11,
     "metadata": {},
     "output_type": "execute_result"
    },
    {
     "name": "stdout",
     "output_type": "stream",
     "text": [
      "accuracy_score 0.9993259803921568\n",
      "recall_score 0.9822686422152053\n",
      "precision_score 0.9856202778454789\n",
      "f1_score 0.983941605839416\n",
      "Model: \"model_8\"\n",
      "_________________________________________________________________\n",
      "Layer (type)                 Output Shape              Param #   \n",
      "=================================================================\n",
      "input_1 (InputLayer)         [(None, 16, 256)]         0         \n",
      "_________________________________________________________________\n",
      "bidirectional (Bidirectional (None, 16, 48)            53952     \n",
      "_________________________________________________________________\n",
      "time_distributed (TimeDistri (None, 16, 1)             49        \n",
      "=================================================================\n",
      "Total params: 54,001\n",
      "Trainable params: 54,001\n",
      "Non-trainable params: 0\n",
      "_________________________________________________________________\n",
      "======Training stage======\n",
      "Train on 110164 samples\n",
      "Epoch 1/10\n",
      "110080/110164 [============================>.] - ETA: 0s - loss: 9.6266e-04 - accuracy: 0.9997WARNING:tensorflow:Early stopping conditioned on metric `val_loss` which is not available. Available metrics are: loss,accuracy\n",
      "110164/110164 [==============================] - 84s 763us/sample - loss: 9.6199e-04 - accuracy: 0.9997\n",
      "Epoch 2/10\n",
      "110080/110164 [============================>.] - ETA: 0s - loss: 8.4656e-04 - accuracy: 0.9997 ETA: 0s - loss: 8.4928e-04 - accuraWARNING:tensorflow:Early stopping conditioned on metric `val_loss` which is not available. Available metrics are: loss,accuracy\n",
      "110164/110164 [==============================] - 65s 586us/sample - loss: 8.4614e-04 - accuracy: 0.9997\n",
      "Epoch 3/10\n",
      "110112/110164 [============================>.] - ETA: 0s - loss: 8.5794e-04 - accuracy: 0.9998 ETA: 0s - loss: 8WARNING:tensorflow:Early stopping conditioned on metric `val_loss` which is not available. Available metrics are: loss,accuracy\n",
      "110164/110164 [==============================] - 71s 645us/sample - loss: 8.5759e-04 - accuracy: 0.9998\n",
      "Epoch 4/10\n",
      "110112/110164 [============================>.] - ETA: 0s - loss: 7.8609e-04 - accuracy: 0.9998WARNING:tensorflow:Early stopping conditioned on metric `val_loss` which is not available. Available metrics are: loss,accuracy\n",
      "110164/110164 [==============================] - 70s 640us/sample - loss: 7.8574e-04 - accuracy: 0.9998\n",
      "Epoch 5/10\n",
      "110080/110164 [============================>.] - ETA: 0s - loss: 7.9077e-04 - accuracy: 0.9998WARNING:tensorflow:Early stopping conditioned on metric `val_loss` which is not available. Available metrics are: loss,accuracy\n",
      "110164/110164 [==============================] - 70s 639us/sample - loss: 7.9025e-04 - accuracy: 0.9998\n",
      "Epoch 6/10\n",
      "110144/110164 [============================>.] - ETA: 0s - loss: 7.5071e-04 - accuracy: 0.9998WARNING:tensorflow:Early stopping conditioned on metric `val_loss` which is not available. Available metrics are: loss,accuracy\n",
      "110164/110164 [==============================] - 70s 635us/sample - loss: 7.5057e-04 - accuracy: 0.9998\n",
      "Epoch 7/10\n",
      "110080/110164 [============================>.] - ETA: 0s - loss: 7.3265e-04 - accuracy: 0.9998WARNING:tensorflow:Early stopping conditioned on metric `val_loss` which is not available. Available metrics are: loss,accuracy\n",
      "110164/110164 [==============================] - 71s 642us/sample - loss: 7.3225e-04 - accuracy: 0.9998\n",
      "Epoch 8/10\n",
      "110048/110164 [============================>.] - ETA: 0s - loss: 7.0199e-04 - accuracy: 0.9998WARNING:tensorflow:Early stopping conditioned on metric `val_loss` which is not available. Available metrics are: loss,accuracy\n",
      "110164/110164 [==============================] - 65s 590us/sample - loss: 7.0137e-04 - accuracy: 0.9998\n",
      "Epoch 9/10\n",
      "110144/110164 [============================>.] - ETA: 0s - loss: 7.0115e-04 - accuracy: 0.9998WARNING:tensorflow:Early stopping conditioned on metric `val_loss` which is not available. Available metrics are: loss,accuracy\n",
      "110164/110164 [==============================] - 67s 607us/sample - loss: 7.0103e-04 - accuracy: 0.9998\n",
      "Epoch 10/10\n",
      "110112/110164 [============================>.] - ETA: 0s - loss: 6.7579e-04 - accuracy: 0.9998WARNING:tensorflow:Early stopping conditioned on metric `val_loss` which is not available. Available metrics are: loss,accuracy\n",
      "110164/110164 [==============================] - 67s 607us/sample - loss: 6.7555e-04 - accuracy: 0.9998\n"
     ]
    },
    {
     "data": {
      "text/plain": [
       "<tensorflow.python.keras.callbacks.History at 0x22a8cf8b488>"
      ]
     },
     "execution_count": 11,
     "metadata": {},
     "output_type": "execute_result"
    },
    {
     "name": "stdout",
     "output_type": "stream",
     "text": [
      "accuracy_score 0.9993923611111111\n",
      "recall_score 0.9836218998596162\n",
      "precision_score 0.9884787209028921\n",
      "f1_score 0.9860443297760056\n",
      "Model: \"model_9\"\n",
      "_________________________________________________________________\n",
      "Layer (type)                 Output Shape              Param #   \n",
      "=================================================================\n",
      "input_1 (InputLayer)         [(None, 16, 256)]         0         \n",
      "_________________________________________________________________\n",
      "bidirectional (Bidirectional (None, 16, 48)            53952     \n",
      "_________________________________________________________________\n",
      "time_distributed (TimeDistri (None, 16, 1)             49        \n",
      "=================================================================\n",
      "Total params: 54,001\n",
      "Trainable params: 54,001\n",
      "Non-trainable params: 0\n",
      "_________________________________________________________________\n",
      "======Training stage======\n",
      "Train on 110164 samples\n",
      "Epoch 1/10\n",
      "110144/110164 [============================>.] - ETA: 0s - loss: 9.3288e-04 - accuracy: 0.9998 ETA: 0s - loss: 9.3616e-04 - accuraWARNING:tensorflow:Early stopping conditioned on metric `val_loss` which is not available. Available metrics are: loss,accuracy\n",
      "110164/110164 [==============================] - 82s 747us/sample - loss: 9.3271e-04 - accuracy: 0.9998\n",
      "Epoch 2/10\n",
      "110112/110164 [============================>.] - ETA: 0s - loss: 8.1224e-04 - accuracy: 0.9998WARNING:tensorflow:Early stopping conditioned on metric `val_loss` which is not available. Available metrics are: loss,accuracy\n",
      "110164/110164 [==============================] - 69s 628us/sample - loss: 8.1196e-04 - accuracy: 0.9998\n",
      "Epoch 3/10\n",
      "110112/110164 [============================>.] - ETA: 0s - loss: 7.3161e-04 - accuracy: 0.9998 ETA: 0s - loss: 7.3190e-04 - accuracyWARNING:tensorflow:Early stopping conditioned on metric `val_loss` which is not available. Available metrics are: loss,accuracy\n",
      "110164/110164 [==============================] - 61s 551us/sample - loss: 7.3205e-04 - accuracy: 0.9998\n",
      "Epoch 4/10\n",
      "110080/110164 [============================>.] - ETA: 0s - loss: 6.6822e-04 - accuracy: 0.9998WARNING:tensorflow:Early stopping conditioned on metric `val_loss` which is not available. Available metrics are: loss,accuracy\n",
      "110164/110164 [==============================] - 69s 627us/sample - loss: 6.6778e-04 - accuracy: 0.9998\n",
      "Epoch 5/10\n",
      "110112/110164 [============================>.] - ETA: 0s - loss: 7.0257e-04 - accuracy: 0.9998 ETA: 0s - loss: 7.0558e - ETA: 0s - loss: 7.0243e-04 - accuracy: 0.9998WARNING:tensorflow:Early stopping conditioned on metric `val_loss` which is not available. Available metrics are: loss,accuracy\n",
      "110164/110164 [==============================] - 71s 641us/sample - loss: 7.0211e-04 - accuracy: 0.9998\n",
      "Epoch 6/10\n",
      "110112/110164 [============================>.] - ETA: 0s - loss: 6.6340e-04 - accuracy: 0.9998WARNING:tensorflow:Early stopping conditioned on metric `val_loss` which is not available. Available metrics are: loss,accuracy\n",
      "110164/110164 [==============================] - 72s 651us/sample - loss: 6.6564e-04 - accuracy: 0.9998\n",
      "Epoch 7/10\n",
      "110112/110164 [============================>.] - ETA: 0s - loss: 6.4928e-04 - accuracy: 0.9998WARNING:tensorflow:Early stopping conditioned on metric `val_loss` which is not available. Available metrics are: loss,accuracy\n",
      "110164/110164 [==============================] - 71s 641us/sample - loss: 6.4899e-04 - accuracy: 0.9998\n",
      "Epoch 8/10\n",
      "110144/110164 [============================>.] - ETA: 0s - loss: 6.3939e-04 - accuracy: 0.9998WARNING:tensorflow:Early stopping conditioned on metric `val_loss` which is not available. Available metrics are: loss,accuracy\n",
      "110164/110164 [==============================] - 67s 607us/sample - loss: 6.3928e-04 - accuracy: 0.9998\n",
      "Epoch 9/10\n",
      "110144/110164 [============================>.] - ETA: 0s - loss: 5.9982e-04 - accuracy: 0.9998 ETA: 0s - loss: 6.0224e-04 - accuWARNING:tensorflow:Early stopping conditioned on metric `val_loss` which is not available. Available metrics are: loss,accuracy\n",
      "110164/110164 [==============================] - 52s 475us/sample - loss: 5.9974e-04 - accuracy: 0.9998\n",
      "Epoch 10/10\n",
      "110144/110164 [============================>.] - ETA: 0s - loss: 5.8017e-04 - accuracy: 0.9998WARNING:tensorflow:Early stopping conditioned on metric `val_loss` which is not available. Available metrics are: loss,accuracy\n",
      "110164/110164 [==============================] - 52s 474us/sample - loss: 5.8010e-04 - accuracy: 0.9998\n"
     ]
    },
    {
     "data": {
      "text/plain": [
       "<tensorflow.python.keras.callbacks.History at 0x22a90b52b48>"
      ]
     },
     "execution_count": 11,
     "metadata": {},
     "output_type": "execute_result"
    },
    {
     "name": "stdout",
     "output_type": "stream",
     "text": [
      "accuracy_score 0.9995302287581699\n",
      "recall_score 0.988909863142992\n",
      "precision_score 0.9893767705382436\n",
      "f1_score 0.9891432617417983\n",
      "\n",
      "K-fold cross validation Accuracy: [0.9986673882852708, 0.9989226778857937, 0.9991218037742015, 0.9991115921901805, 0.9990808823529411, 0.9992800245098039, 0.9992544934640523, 0.9993259803921568, 0.9993923611111111, 0.9995302287581699]\n",
      "\n",
      "K-fold cross validation Recall: [0.9724770642201835, 0.9715167339188227, 0.9787183165949307, 0.9805548968460991, 0.9787532103665655, 0.9834928229665072, 0.9779498006098991, 0.9822686422152053, 0.9836218998596162, 0.988909863142992]\n",
      "\n",
      "K-fold cross validation Precision: [0.9647904191616766, 0.9782504780114722, 0.9801245210727969, 0.9782351549562337, 0.9792104648446625, 0.9827874731054267, 0.9876806443970623, 0.9856202778454789, 0.9884787209028921, 0.9893767705382436]\n",
      "\n",
      "K-fold cross validation F1-Score: [0.9686184922447998, 0.9748719780874121, 0.979420914094281, 0.9793936522974894, 0.9789817842129845, 0.9831400215233768, 0.9827911362564827, 0.983941605839416, 0.9860443297760056, 0.9891432617417983]\n"
     ]
    }
   ],
   "source": [
    "# 교차검증 kfold\n",
    "from sklearn.model_selection import KFold\n",
    "\n",
    "# Accuracy, Precision, Recall, F1-Score\n",
    "from sklearn.metrics import accuracy_score, recall_score, precision_score, f1_score\n",
    "\n",
    "# Confusion Matrix, ROC Curve\n",
    "from sklearn.metrics import confusion_matrix, roc_auc_score\n",
    "\n",
    "# 최종 평가지표들 평균용\n",
    "accuracy, recall, precision, f1score, cm = [], [], [], [], []\n",
    "\n",
    "# 11. 교차검증 kfold - k.split - 10회 / K-Fold 객체 생성\n",
    "# kf = KFold(n_splits=10, shuffle=False, random_state=None) # KFold non shuffle 버전\n",
    "kf = KFold(n_splits=10, shuffle=True, random_state=None) # KFold non shuffle 버전\n",
    "\n",
    "for train, validation in kf.split(x_bc8_2, y_bc8_2):\n",
    "    model1 = models.Model(xInput, xOutput)\n",
    "    model1.compile(loss='binary_crossentropy', optimizer='rmsprop', metrics=['accuracy'])\n",
    "    model1.summary()\n",
    "    print('======Training stage======')\n",
    "    model1.fit(x_bc8_2[train],\n",
    "               y_bc8_2[train],\n",
    "               epochs = 10,\n",
    "               batch_size = 32,\n",
    "               callbacks=[early_stopping])\n",
    "    #k_accuracy = '%.4f' %(model1.evaluate(data_10000x[validation], data_10000y[validation])[1])\n",
    "\n",
    "# 12. 교차검증결과 predict - 검증셋들\n",
    "    # predict 값\n",
    "    k_pr = model1.predict(x_bc8_2[validation])\n",
    "    \n",
    "    # 테스트 predict 결과들 비교 (평가지표 보기위함)\n",
    "    pred = np.round(np.array(k_pr).flatten().tolist())\n",
    "    y_test = np.array(y_bc8_2[validation]).flatten().tolist()\n",
    "    \n",
    "# 13. 평가지표들 출력\n",
    "    ## 평가지표들\n",
    "    k_accuracy = float(accuracy_score(y_test, pred))\n",
    "    k_recall =  float(recall_score(y_test, pred))\n",
    "    k_precision = float(precision_score(y_test, pred))\n",
    "    k_f1_score = float(f1_score(y_test, pred))\n",
    "    #k_cm = float(confusion_matrix(y_test, pred))\n",
    "    \n",
    "    print('accuracy_score', k_accuracy)\n",
    "    print('recall_score', k_recall)\n",
    "    print('precision_score', k_precision)\n",
    "    print('f1_score', k_f1_score)\n",
    "    #print('\\nconfusion_matrix\\n', k_cm)\n",
    "\n",
    "    accuracy.append(k_accuracy)\n",
    "    recall.append(k_recall)\n",
    "    precision.append(k_precision)\n",
    "    f1score.append(k_f1_score)\n",
    "    #cm.append(k_cm)\n",
    "#    print('roc_curve 면적', roc_auc_score(y_test, pred))\n",
    "\n",
    "# 최종 결과지표\n",
    "print('\\nK-fold cross validation Accuracy: {}'.format(accuracy))\n",
    "print('\\nK-fold cross validation Recall: {}'.format(recall))\n",
    "print('\\nK-fold cross validation Precision: {}'.format(precision))\n",
    "print('\\nK-fold cross validation F1-Score: {}'.format(f1score))\n",
    "#print('\\nK-fold cross validation ConfusionMatrix: {}'.format(cm))"
   ]
  },
  {
   "cell_type": "markdown",
   "metadata": {},
   "source": [
    "## (9) 평가지표"
   ]
  },
  {
   "cell_type": "code",
   "execution_count": 12,
   "metadata": {},
   "outputs": [
    {
     "name": "stdout",
     "output_type": "stream",
     "text": [
      "10-Fold Cross_validation. Accuracy : 0.9991687432723682\n",
      "10-Fold Cross_validation. Recall : 0.9798263250740821\n",
      "10-Fold Cross_validation. Precision : 0.9814554924835945\n",
      "10-Fold Cross_validation. F1-Score : 0.9806347176074046\n"
     ]
    }
   ],
   "source": [
    "print('10-Fold Cross_validation. Accuracy :', np.mean(accuracy))\n",
    "print('10-Fold Cross_validation. Recall :', np.mean(recall))\n",
    "print('10-Fold Cross_validation. Precision :', np.mean(precision))\n",
    "print('10-Fold Cross_validation. F1-Score :', np.mean(f1score))"
   ]
  },
  {
   "cell_type": "code",
   "execution_count": 13,
   "metadata": {},
   "outputs": [
    {
     "name": "stdout",
     "output_type": "stream",
     "text": [
      "save 완료\n"
     ]
    }
   ],
   "source": [
    "model1.save('gcc8_bin_core_s16_h24_o2.h5')\n",
    "print('save 완료')"
   ]
  }
 ],
 "metadata": {
  "kernelspec": {
   "display_name": "Python 3",
   "language": "python",
   "name": "python3"
  },
  "language_info": {
   "codemirror_mode": {
    "name": "ipython",
    "version": 3
   },
   "file_extension": ".py",
   "mimetype": "text/x-python",
   "name": "python",
   "nbconvert_exporter": "python",
   "pygments_lexer": "ipython3",
   "version": "3.7.9"
  }
 },
 "nbformat": 4,
 "nbformat_minor": 4
}
