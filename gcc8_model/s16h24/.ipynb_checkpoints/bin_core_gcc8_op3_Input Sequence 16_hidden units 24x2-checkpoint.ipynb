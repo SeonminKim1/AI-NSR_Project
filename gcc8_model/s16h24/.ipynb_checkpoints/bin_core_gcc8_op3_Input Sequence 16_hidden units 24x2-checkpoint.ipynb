{
 "cells": [
  {
   "cell_type": "markdown",
   "metadata": {},
   "source": [
    "## RNN 모델 N-Byte 방식 (함수정보 포함 vs 미포함 => 1:1 비율)\n",
    "\n",
    "## (1) 데이터로드"
   ]
  },
  {
   "cell_type": "code",
   "execution_count": 1,
   "metadata": {},
   "outputs": [
    {
     "name": "stdout",
     "output_type": "stream",
     "text": [
      "(31784379, 2)\n",
      "shape - (31784379, 2)\n",
      "reset_index 완료\n",
      "input data shape\n"
     ]
    },
    {
     "data": {
      "text/html": [
       "<div>\n",
       "<style scoped>\n",
       "    .dataframe tbody tr th:only-of-type {\n",
       "        vertical-align: middle;\n",
       "    }\n",
       "\n",
       "    .dataframe tbody tr th {\n",
       "        vertical-align: top;\n",
       "    }\n",
       "\n",
       "    .dataframe thead th {\n",
       "        text-align: right;\n",
       "    }\n",
       "</style>\n",
       "<table border=\"1\" class=\"dataframe\">\n",
       "  <thead>\n",
       "    <tr style=\"text-align: right;\">\n",
       "      <th></th>\n",
       "      <th>bin</th>\n",
       "      <th>label</th>\n",
       "    </tr>\n",
       "  </thead>\n",
       "  <tbody>\n",
       "    <tr>\n",
       "      <th>0</th>\n",
       "      <td>47</td>\n",
       "      <td>0</td>\n",
       "    </tr>\n",
       "    <tr>\n",
       "      <th>1</th>\n",
       "      <td>108</td>\n",
       "      <td>0</td>\n",
       "    </tr>\n",
       "    <tr>\n",
       "      <th>2</th>\n",
       "      <td>105</td>\n",
       "      <td>0</td>\n",
       "    </tr>\n",
       "    <tr>\n",
       "      <th>3</th>\n",
       "      <td>98</td>\n",
       "      <td>0</td>\n",
       "    </tr>\n",
       "    <tr>\n",
       "      <th>4</th>\n",
       "      <td>47</td>\n",
       "      <td>0</td>\n",
       "    </tr>\n",
       "  </tbody>\n",
       "</table>\n",
       "</div>"
      ],
      "text/plain": [
       "   bin  label\n",
       "0   47      0\n",
       "1  108      0\n",
       "2  105      0\n",
       "3   98      0\n",
       "4   47      0"
      ]
     },
     "execution_count": 1,
     "metadata": {},
     "output_type": "execute_result"
    }
   ],
   "source": [
    "# (1) 데이터로드\n",
    "import pandas as pd\n",
    "import numpy as np\n",
    "\n",
    "import warnings\n",
    "warnings.filterwarnings(action='ignore')\n",
    "\n",
    "# 여러개 쳐도 나오게\n",
    "from IPython.core.interactiveshell import InteractiveShell\n",
    "InteractiveShell.ast_node_interactivity = \"all\"\n",
    "\n",
    "# 파일읽기\n",
    "bin8_3 = pd.read_csv(\"../../바이너리_최종데이터_1004/gcc8/o3/o3_bincore8.csv\", index_col=0)\n",
    "print(bin8_3.shape)\n",
    "\n",
    "# reset_index (hex processing 하면서 값이 빠졌으니까 + n_gram 에서 index를 다루기 때문에)\n",
    "bin8_3.reset_index(inplace=True, drop=True)\n",
    "\n",
    "print('shape -', bin8_3.shape)\n",
    "print('reset_index 완료')\n",
    "print('input data shape')\n",
    "bin8_3.head()"
   ]
  },
  {
   "cell_type": "code",
   "execution_count": 12,
   "metadata": {},
   "outputs": [
    {
     "name": "stdout",
     "output_type": "stream",
     "text": [
      "256\n",
      "0    31747485\n",
      "1       36894\n",
      "Name: label, dtype: int64\n"
     ]
    }
   ],
   "source": [
    "# (2-1) 데이터체크 1 - hex(16진수)가 256 label을 가져야 dummies 변환 가능 \n",
    "# 16진수 256개 종류가 있어서 pd.get_dummies 사용 가능.\n",
    "print(len(bin8_3['bin'].unique()))\n",
    "\n",
    "# (2-2) 데이터 체크 2 - 1, 0 비율 ==> 1이 함수의 갯수를 뜻함\n",
    "# 정답 데이터 1, 0 비율 확인  ==> 1이 함수의 갯수를 뜻함\n",
    "print(bin8_3['label'].value_counts())"
   ]
  },
  {
   "cell_type": "markdown",
   "metadata": {},
   "source": [
    "## (3) N Byte씩 자르기"
   ]
  },
  {
   "cell_type": "code",
   "execution_count": 13,
   "metadata": {},
   "outputs": [
    {
     "name": "stdout",
     "output_type": "stream",
     "text": [
      "590304\n",
      "나머지 0\n",
      "최종 길이 590304\n",
      "bin8_3 590304\n"
     ]
    }
   ],
   "source": [
    "idx_bin = bin8_3[bin8_3['label']==1].index  # 407, 474 ...\n",
    "ls_bin = list(idx_bin)\n",
    "\n",
    "# 최종 뽑을 행에 대한 index\n",
    "ls_idx_bin = []\n",
    "\n",
    "# n byte 자르기 방식\n",
    "left_idx, right_idx = 0, 16 # 3개씩\n",
    "\n",
    "# n byte 자르기\n",
    "for k in range(left_idx, right_idx):\n",
    "    ls_idx_bin.extend(list(idx_bin + k)) # index 형이라서 가능\n",
    "\n",
    "#ls_idx = list(set(ls_idx)) \n",
    "ls_idx_bin.sort() # 인덱스 정렬\n",
    "\n",
    "# 1차 index 해당범위 초과한 것들 없애기\n",
    "ls_idx_bin = list(filter(lambda x: x<len(bin8_3), ls_idx_bin))\n",
    "print(len(ls_idx_bin))\n",
    "\n",
    "# 2차 남은 index들 중 right_idx 나눈 나머지 없애기\n",
    "sub_bin = len(ls_idx_bin)%(right_idx)\n",
    "print('나머지', sub_bin)\n",
    "\n",
    "ls_idx_bin = ls_idx_bin[:len(ls_idx_bin)-sub_bin]\n",
    "print('최종 길이', len(ls_idx_bin))\n",
    "\n",
    "print('bin8_3', len(ls_idx_bin))\n",
    "\n",
    "# loc 로 수정필요\n",
    "bin8_3_Ngram = bin8_3.loc[ls_idx_bin,:].copy()"
   ]
  },
  {
   "cell_type": "markdown",
   "metadata": {},
   "source": [
    "## (4) false data 만들기"
   ]
  },
  {
   "cell_type": "code",
   "execution_count": 14,
   "metadata": {},
   "outputs": [
    {
     "name": "stdout",
     "output_type": "stream",
     "text": [
      "59304.0\n",
      "0 27387511\n",
      "1000 16086943\n",
      "2000 10746324\n",
      "3000 13324932\n",
      "4000 21547591\n",
      "5000 24389343\n",
      "6000 28624969\n",
      "7000 10755937\n",
      "8000 2140375\n",
      "9000 10872346\n",
      "10000 13412273\n",
      "11000 20205603\n",
      "12000 14447846\n",
      "13000 23752932\n",
      "14000 21309297\n",
      "15000 8341823\n",
      "16000 30664255\n",
      "17000 3163102\n",
      "18000 11897603\n",
      "19000 2309165\n",
      "20000 12932436\n",
      "21000 23923892\n",
      "22000 7594265\n",
      "23000 15463833\n",
      "24000 8435093\n",
      "25000 8579234\n",
      "26000 9901853\n",
      "27000 16670892\n",
      "28000 6762683\n",
      "29000 8031949\n",
      "30000 25981789\n",
      "31000 1233433\n",
      "32000 3385510\n",
      "33000 14394919\n",
      "34000 12302448\n",
      "35000 15933774\n",
      "36000 28934881\n",
      "37000 6295957\n",
      "38000 10081105\n",
      "39000 10903722\n",
      "40000 16856385\n",
      "41000 7718005\n",
      "42000 5575660\n",
      "43000 17838951\n",
      "44000 13488506\n",
      "45000 3288155\n",
      "46000 12035062\n",
      "47000 469858\n",
      "48000 14349919\n",
      "49000 29289141\n",
      "50000 6546206\n",
      "51000 3914622\n",
      "52000 3368837\n",
      "53000 4698189\n",
      "54000 31568258\n",
      "55000 26149671\n",
      "56000 24050514\n",
      "57000 29166264\n",
      "58000 5097320\n",
      "59000 18799031\n",
      "완료\n",
      "59304\n"
     ]
    }
   ],
   "source": [
    "# false data 만들기 - False 데이터 랜덤 생성\n",
    "\n",
    "# 목표치\n",
    "goal_bin = len(bin8_3_Ngram)/right_idx\n",
    "count_bin = 0\n",
    "\n",
    "print(goal_bin)\n",
    "\n",
    "# 최종 데이터 Frame\n",
    "d_bin = pd.DataFrame(columns = bin8_3.columns)\n",
    "\n",
    "binutils_df = []\n",
    "# goal 에 도달할 때까지\n",
    "while True:\n",
    "    if (count_bin == goal_bin):\n",
    "            break\n",
    "    # 진행상황 살펴보기 위함\n",
    "            \n",
    "    # 랜덤 N 바이트씩 뽑음\n",
    "    # random index\n",
    "    random_idx_bin = np.random.randint(len(bin8_3)-right_idx)\n",
    "\n",
    "    if count_bin % 1000==0:\n",
    "        print(count_bin, end=' ')\n",
    "        print(random_idx_bin)\n",
    "\n",
    "    df_bin = bin8_3[random_idx_bin : random_idx_bin + right_idx]\n",
    "    \n",
    "    # 뽑은 index의 N 바이트 중에 1이 없는 경우만\n",
    "    if 1 not in df_bin['label'] and count_bin < goal_bin:\n",
    "        binutils_df.append(df_bin)\n",
    "        count_bin+=1\n",
    "\n",
    "print('완료')\n",
    "print(len(binutils_df))"
   ]
  },
  {
   "cell_type": "code",
   "execution_count": 15,
   "metadata": {},
   "outputs": [
    {
     "name": "stdout",
     "output_type": "stream",
     "text": [
      "59304\n",
      "36894\n"
     ]
    }
   ],
   "source": [
    "# True data와 False Data 같은지 체크\n",
    "print(len(binutils_df))\n",
    "print(bin8_3['label'].value_counts()[1])"
   ]
  },
  {
   "cell_type": "markdown",
   "metadata": {},
   "source": [
    "## (5) False Data + True Data 합치기"
   ]
  },
  {
   "cell_type": "code",
   "execution_count": 16,
   "metadata": {},
   "outputs": [
    {
     "data": {
      "text/plain": [
       "(1897728, 2)"
      ]
     },
     "execution_count": 16,
     "metadata": {},
     "output_type": "execute_result"
    }
   ],
   "source": [
    "f_data = pd.concat(binutils_df)\n",
    "final = pd.concat([f_data, bin8_3_Ngram])\n",
    "final.shape"
   ]
  },
  {
   "cell_type": "markdown",
   "metadata": {},
   "source": [
    "## (6) one hot encoding"
   ]
  },
  {
   "cell_type": "code",
   "execution_count": 17,
   "metadata": {},
   "outputs": [
    {
     "name": "stdout",
     "output_type": "stream",
     "text": [
      "원핫인코딩완료\n",
      "(1897728, 257)\n"
     ]
    }
   ],
   "source": [
    "# 훈련데이터 (gcc 최적화버전 0, 1, 2, 3 one hot encoding)\n",
    "bc8_3_onehot_Ngram = pd.get_dummies(final['bin'])\n",
    "bc8_3_onehot_Ngram = pd.concat([final['label'], bc8_3_onehot_Ngram], axis=1)\n",
    "\n",
    "print('원핫인코딩완료')\n",
    "print(bc8_3_onehot_Ngram.shape)"
   ]
  },
  {
   "cell_type": "code",
   "execution_count": 18,
   "metadata": {},
   "outputs": [
    {
     "name": "stdout",
     "output_type": "stream",
     "text": [
      "(1897728, 256) (1897728, 256)\n",
      "(118608, 16, 256) (118608, 16, 1)\n"
     ]
    }
   ],
   "source": [
    "# 훈련 데이터, 훈련 라벨\n",
    "x_bc8_3 = bc8_3_onehot_Ngram.iloc[:,1:].to_numpy()\n",
    "y_bc8_3 = bc8_3_onehot_Ngram['label'].to_numpy()\n",
    "print(x_bc8_3.shape, x_bc8_3.shape)\n",
    "\n",
    "x_bc8_3 = x_bc8_3.reshape(-1, right_idx, x_bc8_3.shape[1])\n",
    "y_bc8_3 = y_bc8_3.reshape(-1, right_idx, 1)\n",
    "\n",
    "print(x_bc8_3.shape, y_bc8_3.shape)"
   ]
  },
  {
   "cell_type": "code",
   "execution_count": 19,
   "metadata": {},
   "outputs": [
    {
     "name": "stdout",
     "output_type": "stream",
     "text": [
      "(118608, 16, 256) (118608, 16, 1)\n"
     ]
    }
   ],
   "source": [
    "# numpy 행, 열 섞기\n",
    "p = np.random.permutation(x_bc8_3.shape[0])\n",
    "\n",
    "x_bc8_3 = x_bc8_3[p]\n",
    "y_bc8_3 = y_bc8_3[p]\n",
    "\n",
    "print(x_bc8_3.shape, y_bc8_3.shape)"
   ]
  },
  {
   "cell_type": "markdown",
   "metadata": {},
   "source": [
    "## (7) 모델"
   ]
  },
  {
   "cell_type": "code",
   "execution_count": 20,
   "metadata": {},
   "outputs": [],
   "source": [
    "# (10) 양방향 LSTM 모델링 작업\n",
    "from tensorflow.keras import layers, models\n",
    "#from tf.keras.models import Model, Sequential\n",
    "#from tf.keras.layers import SimpleRNN, Input, Dense, LSTM\n",
    "#from tf.keras.layers import Bidirectional, TimeDistributed\n",
    "\n",
    "# 학습\n",
    "from tensorflow.keras.callbacks import EarlyStopping\n",
    "early_stopping = EarlyStopping(patience = 3) # 조기종료 콜백함수 정의\n",
    "\n",
    "xInput = layers.Input(batch_shape=(None,right_idx, 256)) \n",
    "xBiLstm = layers.Bidirectional(layers.LSTM(24, return_sequences=True, stateful=False), merge_mode = 'concat')(xInput)\n",
    "xOutput = layers.TimeDistributed(layers.Dense(1, activation ='sigmoid'))(xBiLstm) # 각 스텝에서 cost가 전송되고, 오류가 다음 step으로 전송됨."
   ]
  },
  {
   "cell_type": "markdown",
   "metadata": {},
   "source": [
    "## (8) 학습 - 10 KFold"
   ]
  },
  {
   "cell_type": "code",
   "execution_count": 21,
   "metadata": {
    "scrolled": false
   },
   "outputs": [
    {
     "name": "stdout",
     "output_type": "stream",
     "text": [
      "Model: \"model\"\n",
      "_________________________________________________________________\n",
      "Layer (type)                 Output Shape              Param #   \n",
      "=================================================================\n",
      "input_1 (InputLayer)         [(None, 16, 256)]         0         \n",
      "_________________________________________________________________\n",
      "bidirectional (Bidirectional (None, 16, 48)            53952     \n",
      "_________________________________________________________________\n",
      "time_distributed (TimeDistri (None, 16, 1)             49        \n",
      "=================================================================\n",
      "Total params: 54,001\n",
      "Trainable params: 54,001\n",
      "Non-trainable params: 0\n",
      "_________________________________________________________________\n",
      "======Training stage======\n",
      "Train on 106747 samples\n",
      "Epoch 1/10\n",
      "106656/106747 [============================>.] - ETA: 0s - loss: 0.0231 - accuracy: 0.9935WARNING:tensorflow:Early stopping conditioned on metric `val_loss` which is not available. Available metrics are: loss,accuracy\n",
      "106747/106747 [==============================] - 59s 555us/sample - loss: 0.0231 - accuracy: 0.9935\n",
      "Epoch 2/10\n",
      "106624/106747 [============================>.] - ETA: 0s - loss: 0.0084 - accuracy: 0.9974WARNING:tensorflow:Early stopping conditioned on metric `val_loss` which is not available. Available metrics are: loss,accuracy\n",
      "106747/106747 [==============================] - 48s 451us/sample - loss: 0.0084 - accuracy: 0.9974\n",
      "Epoch 3/10\n",
      "106688/106747 [============================>.] - ETA: 0s - loss: 0.0068 - accuracy: 0.9979WARNING:tensorflow:Early stopping conditioned on metric `val_loss` which is not available. Available metrics are: loss,accuracy\n",
      "106747/106747 [==============================] - 59s 556us/sample - loss: 0.0068 - accuracy: 0.9979\n",
      "Epoch 4/10\n",
      "106656/106747 [============================>.] - ETA: 0s - loss: 0.0059 - accuracy: 0.9982WARNING:tensorflow:Early stopping conditioned on metric `val_loss` which is not available. Available metrics are: loss,accuracy\n",
      "106747/106747 [==============================] - 65s 612us/sample - loss: 0.0059 - accuracy: 0.9982\n",
      "Epoch 5/10\n",
      "106688/106747 [============================>.] - ETA: 0s - loss: 0.0052 - accuracy: 0.9984WARNING:tensorflow:Early stopping conditioned on metric `val_loss` which is not available. Available metrics are: loss,accuracy\n",
      "106747/106747 [==============================] - 69s 647us/sample - loss: 0.0052 - accuracy: 0.9984\n",
      "Epoch 6/10\n",
      "106720/106747 [============================>.] - ETA: 0s - loss: 0.0047 - accuracy: 0.9986 ETA: 0s - loss: 0.0047 - accuracyWARNING:tensorflow:Early stopping conditioned on metric `val_loss` which is not available. Available metrics are: loss,accuracy\n",
      "106747/106747 [==============================] - 80s 748us/sample - loss: 0.0047 - accuracy: 0.9986\n",
      "Epoch 7/10\n",
      "106688/106747 [============================>.] - ETA: 0s - loss: 0.0043 - accuracy: 0.9987WARNING:tensorflow:Early stopping conditioned on metric `val_loss` which is not available. Available metrics are: loss,accuracy\n",
      "106747/106747 [==============================] - 80s 748us/sample - loss: 0.0043 - accuracy: 0.9987\n",
      "Epoch 8/10\n",
      "106688/106747 [============================>.] - ETA: 0s - loss: 0.0040 - accuracy: 0.9988WARNING:tensorflow:Early stopping conditioned on metric `val_loss` which is not available. Available metrics are: loss,accuracy\n",
      "106747/106747 [==============================] - 78s 735us/sample - loss: 0.0040 - accuracy: 0.9988\n",
      "Epoch 9/10\n",
      "106688/106747 [============================>.] - ETA: 0s - loss: 0.0037 - accuracy: 0.9989 ETA: 0s - lWARNING:tensorflow:Early stopping conditioned on metric `val_loss` which is not available. Available metrics are: loss,accuracy\n",
      "106747/106747 [==============================] - 78s 730us/sample - loss: 0.0037 - accuracy: 0.9989\n",
      "Epoch 10/10\n",
      "106656/106747 [============================>.] - ETA: 0s - loss: 0.0035 - accuracy: 0.9990WARNING:tensorflow:Early stopping conditioned on metric `val_loss` which is not available. Available metrics are: loss,accuracy\n",
      "106747/106747 [==============================] - 78s 729us/sample - loss: 0.0035 - accuracy: 0.9990\n"
     ]
    },
    {
     "data": {
      "text/plain": [
       "<tensorflow.python.keras.callbacks.History at 0x1fd2844d3c8>"
      ]
     },
     "execution_count": 21,
     "metadata": {},
     "output_type": "execute_result"
    },
    {
     "name": "stdout",
     "output_type": "stream",
     "text": [
      "accuracy_score 0.9987353511508305\n",
      "recall_score 0.9665200391006843\n",
      "precision_score 0.9746180384425825\n",
      "f1_score 0.9705521472392638\n",
      "Model: \"model_1\"\n",
      "_________________________________________________________________\n",
      "Layer (type)                 Output Shape              Param #   \n",
      "=================================================================\n",
      "input_1 (InputLayer)         [(None, 16, 256)]         0         \n",
      "_________________________________________________________________\n",
      "bidirectional (Bidirectional (None, 16, 48)            53952     \n",
      "_________________________________________________________________\n",
      "time_distributed (TimeDistri (None, 16, 1)             49        \n",
      "=================================================================\n",
      "Total params: 54,001\n",
      "Trainable params: 54,001\n",
      "Non-trainable params: 0\n",
      "_________________________________________________________________\n",
      "======Training stage======\n",
      "Train on 106747 samples\n",
      "Epoch 1/10\n",
      "106688/106747 [============================>.] - ETA: 0s - loss: 0.0034 - accuracy: 0.9990WARNING:tensorflow:Early stopping conditioned on metric `val_loss` which is not available. Available metrics are: loss,accuracy\n",
      "106747/106747 [==============================] - 89s 836us/sample - loss: 0.0034 - accuracy: 0.9990\n",
      "Epoch 2/10\n",
      "106688/106747 [============================>.] - ETA: 0s - loss: 0.0032 - accuracy: 0.9991 ETA: 0s - loss: 0.0032 - accuracy: 0.99WARNING:tensorflow:Early stopping conditioned on metric `val_loss` which is not available. Available metrics are: loss,accuracy\n",
      "106747/106747 [==============================] - 72s 678us/sample - loss: 0.0032 - accuracy: 0.9991\n",
      "Epoch 3/10\n",
      "106720/106747 [============================>.] - ETA: 0s - loss: 0.0030 - accuracy: 0.9991WARNING:tensorflow:Early stopping conditioned on metric `val_loss` which is not available. Available metrics are: loss,accuracy\n",
      "106747/106747 [==============================] - 66s 617us/sample - loss: 0.0030 - accuracy: 0.9991\n",
      "Epoch 4/10\n",
      "106720/106747 [============================>.] - ETA: 0s - loss: 0.0029 - accuracy: 0.9992 - ETA: 0s - loss: 0.0029 -  - ETA: 0s - loss: 0.0029 - accuracy: 0.WARNING:tensorflow:Early stopping conditioned on metric `val_loss` which is not available. Available metrics are: loss,accuracy\n",
      "106747/106747 [==============================] - 69s 643us/sample - loss: 0.0029 - accuracy: 0.9992\n",
      "Epoch 5/10\n",
      "106656/106747 [============================>.] - ETA: 0s - loss: 0.0027 - accuracy: 0.9992WARNING:tensorflow:Early stopping conditioned on metric `val_loss` which is not available. Available metrics are: loss,accuracy\n",
      "106747/106747 [==============================] - 82s 764us/sample - loss: 0.0027 - accuracy: 0.9992\n",
      "Epoch 6/10\n",
      "106688/106747 [============================>.] - ETA: 0s - loss: 0.0026 - accuracy: 0.9992WARNING:tensorflow:Early stopping conditioned on metric `val_loss` which is not available. Available metrics are: loss,accuracy\n",
      "106747/106747 [==============================] - 77s 726us/sample - loss: 0.0026 - accuracy: 0.9992\n",
      "Epoch 7/10\n",
      "106688/106747 [============================>.] - ETA: 0s - loss: 0.0025 - accuracy: 0.9993WARNING:tensorflow:Early stopping conditioned on metric `val_loss` which is not available. Available metrics are: loss,accuracy\n",
      "106747/106747 [==============================] - 78s 729us/sample - loss: 0.0025 - accuracy: 0.9993\n",
      "Epoch 8/10\n",
      "106688/106747 [============================>.] - ETA: 0s - loss: 0.0024 - accuracy: 0.9993 ETA: 2s - loss: 0.0024 WARNING:tensorflow:Early stopping conditioned on metric `val_loss` which is not available. Available metrics are: loss,accuracy\n",
      "106747/106747 [==============================] - 83s 782us/sample - loss: 0.0024 - accuracy: 0.9993\n",
      "Epoch 9/10\n",
      "106688/106747 [============================>.] - ETA: 0s - loss: 0.0023 - accuracy: 0.9993 ETA: 0s - loss: 0WARNING:tensorflow:Early stopping conditioned on metric `val_loss` which is not available. Available metrics are: loss,accuracy\n",
      "106747/106747 [==============================] - 83s 782us/sample - loss: 0.0023 - accuracy: 0.9993\n",
      "Epoch 10/10\n",
      "106656/106747 [============================>.] - ETA: 0s - loss: 0.0022 - accuracy: 0.9994WARNING:tensorflow:Early stopping conditioned on metric `val_loss` which is not available. Available metrics are: loss,accuracy\n",
      "106747/106747 [==============================] - 86s 806us/sample - loss: 0.0022 - accuracy: 0.9994\n"
     ]
    },
    {
     "data": {
      "text/plain": [
       "<tensorflow.python.keras.callbacks.History at 0x1fd304ba6c8>"
      ]
     },
     "execution_count": 21,
     "metadata": {},
     "output_type": "execute_result"
    },
    {
     "name": "stdout",
     "output_type": "stream",
     "text": [
      "accuracy_score 0.9990620521035326\n",
      "recall_score 0.9785344189489267\n",
      "precision_score 0.9775696327335469\n",
      "f1_score 0.9780517879161528\n",
      "Model: \"model_2\"\n",
      "_________________________________________________________________\n",
      "Layer (type)                 Output Shape              Param #   \n",
      "=================================================================\n",
      "input_1 (InputLayer)         [(None, 16, 256)]         0         \n",
      "_________________________________________________________________\n",
      "bidirectional (Bidirectional (None, 16, 48)            53952     \n",
      "_________________________________________________________________\n",
      "time_distributed (TimeDistri (None, 16, 1)             49        \n",
      "=================================================================\n",
      "Total params: 54,001\n",
      "Trainable params: 54,001\n",
      "Non-trainable params: 0\n",
      "_________________________________________________________________\n",
      "======Training stage======\n",
      "Train on 106747 samples\n",
      "Epoch 1/10\n",
      "106720/106747 [============================>.] - ETA: 0s - loss: 0.0022 - accuracy: 0.9994WARNING:tensorflow:Early stopping conditioned on metric `val_loss` which is not available. Available metrics are: loss,accuracy\n",
      "106747/106747 [==============================] - 98s 914us/sample - loss: 0.0022 - accuracy: 0.9994\n",
      "Epoch 2/10\n",
      "106720/106747 [============================>.] - ETA: 0s - loss: 0.0021 - accuracy: 0.9994 ETA: 0s - losWARNING:tensorflow:Early stopping conditioned on metric `val_loss` which is not available. Available metrics are: loss,accuracy\n",
      "106747/106747 [==============================] - 60s 561us/sample - loss: 0.0021 - accuracy: 0.9994\n",
      "Epoch 3/10\n",
      "106720/106747 [============================>.] - ETA: 0s - loss: 0.0020 - accuracy: 0.9994WARNING:tensorflow:Early stopping conditioned on metric `val_loss` which is not available. Available metrics are: loss,accuracy\n",
      "106747/106747 [==============================] - 73s 680us/sample - loss: 0.0020 - accuracy: 0.9994\n",
      "Epoch 4/10\n",
      "106720/106747 [============================>.] - ETA: 0s - loss: 0.0020 - accuracy: 0.9994WARNING:tensorflow:Early stopping conditioned on metric `val_loss` which is not available. Available metrics are: loss,accuracy\n",
      "106747/106747 [==============================] - 83s 780us/sample - loss: 0.0020 - accuracy: 0.9994\n",
      "Epoch 5/10\n",
      "106720/106747 [============================>.] - ETA: 0s - loss: 0.0019 - accuracy: 0.9995WARNING:tensorflow:Early stopping conditioned on metric `val_loss` which is not available. Available metrics are: loss,accuracy\n",
      "106747/106747 [==============================] - 83s 780us/sample - loss: 0.0019 - accuracy: 0.9995\n",
      "Epoch 6/10\n",
      "106688/106747 [============================>.] - ETA: 0s - loss: 0.0018 - accuracy: 0.9995WARNING:tensorflow:Early stopping conditioned on metric `val_loss` which is not available. Available metrics are: loss,accuracy\n",
      "106747/106747 [==============================] - 82s 771us/sample - loss: 0.0018 - accuracy: 0.9995\n",
      "Epoch 7/10\n",
      "106656/106747 [============================>.] - ETA: 0s - loss: 0.0018 - accuracy: 0.9995WARNING:tensorflow:Early stopping conditioned on metric `val_loss` which is not available. Available metrics are: loss,accuracy\n",
      "106747/106747 [==============================] - 83s 781us/sample - loss: 0.0018 - accuracy: 0.9995\n",
      "Epoch 8/10\n",
      "106688/106747 [============================>.] - ETA: 0s - loss: 0.0017 - accuracy: 0.9995WARNING:tensorflow:Early stopping conditioned on metric `val_loss` which is not available. Available metrics are: loss,accuracy\n",
      "106747/106747 [==============================] - 83s 775us/sample - loss: 0.0017 - accuracy: 0.9995\n",
      "Epoch 9/10\n",
      "106656/106747 [============================>.] - ETA: 0s - loss: 0.0017 - accuracy: 0.9995WARNING:tensorflow:Early stopping conditioned on metric `val_loss` which is not available. Available metrics are: loss,accuracy\n",
      "106747/106747 [==============================] - 81s 756us/sample - loss: 0.0017 - accuracy: 0.9995\n",
      "Epoch 10/10\n",
      "106656/106747 [============================>.] - ETA: 0s - loss: 0.0016 - accuracy: 0.9996WARNING:tensorflow:Early stopping conditioned on metric `val_loss` which is not available. Available metrics are: loss,accuracy\n",
      "106747/106747 [==============================] - 75s 704us/sample - loss: 0.0016 - accuracy: 0.9996\n"
     ]
    },
    {
     "data": {
      "text/plain": [
       "<tensorflow.python.keras.callbacks.History at 0x1fd30638f48>"
      ]
     },
     "execution_count": 21,
     "metadata": {},
     "output_type": "execute_result"
    },
    {
     "name": "stdout",
     "output_type": "stream",
     "text": [
      "accuracy_score 0.9992254025798837\n",
      "recall_score 0.9836065573770492\n",
      "precision_score 0.9815078236130867\n",
      "f1_score 0.9825560697757209\n",
      "Model: \"model_3\"\n",
      "_________________________________________________________________\n",
      "Layer (type)                 Output Shape              Param #   \n",
      "=================================================================\n",
      "input_1 (InputLayer)         [(None, 16, 256)]         0         \n",
      "_________________________________________________________________\n",
      "bidirectional (Bidirectional (None, 16, 48)            53952     \n",
      "_________________________________________________________________\n",
      "time_distributed (TimeDistri (None, 16, 1)             49        \n",
      "=================================================================\n",
      "Total params: 54,001\n",
      "Trainable params: 54,001\n",
      "Non-trainable params: 0\n",
      "_________________________________________________________________\n",
      "======Training stage======\n",
      "Train on 106747 samples\n",
      "Epoch 1/10\n",
      "106688/106747 [============================>.] - ETA: 0s - loss: 0.0017 - accuracy: 0.9995 ETA: 0s - loss: 0.0018 - WARNING:tensorflow:Early stopping conditioned on metric `val_loss` which is not available. Available metrics are: loss,accuracy\n",
      "106747/106747 [==============================] - 74s 697us/sample - loss: 0.0017 - accuracy: 0.9995\n",
      "Epoch 2/10\n",
      "106688/106747 [============================>.] - ETA: 0s - loss: 0.0017 - accuracy: 0.9995WARNING:tensorflow:Early stopping conditioned on metric `val_loss` which is not available. Available metrics are: loss,accuracy\n",
      "106747/106747 [==============================] - 72s 672us/sample - loss: 0.0017 - accuracy: 0.9995\n",
      "Epoch 3/10\n",
      "106688/106747 [============================>.] - ETA: 0s - loss: 0.0016 - accuracy: 0.9996WARNING:tensorflow:Early stopping conditioned on metric `val_loss` which is not available. Available metrics are: loss,accuracy\n",
      "106747/106747 [==============================] - 81s 758us/sample - loss: 0.0016 - accuracy: 0.9996\n",
      "Epoch 4/10\n",
      "106720/106747 [============================>.] - ETA: 0s - loss: 0.0016 - accuracy: 0.9996WARNING:tensorflow:Early stopping conditioned on metric `val_loss` which is not available. Available metrics are: loss,accuracy\n",
      "106747/106747 [==============================] - 82s 765us/sample - loss: 0.0016 - accuracy: 0.9996\n",
      "Epoch 5/10\n",
      "106688/106747 [============================>.] - ETA: 0s - loss: 0.0015 - accuracy: 0.9996WARNING:tensorflow:Early stopping conditioned on metric `val_loss` which is not available. Available metrics are: loss,accuracy\n",
      "106747/106747 [==============================] - 81s 760us/sample - loss: 0.0015 - accuracy: 0.9996\n",
      "Epoch 6/10\n",
      "106688/106747 [============================>.] - ETA: 0s - loss: 0.0014 - accuracy: 0.9996WARNING:tensorflow:Early stopping conditioned on metric `val_loss` which is not available. Available metrics are: loss,accuracy\n",
      "106747/106747 [==============================] - 81s 756us/sample - loss: 0.0014 - accuracy: 0.9996\n",
      "Epoch 7/10\n",
      "106656/106747 [============================>.] - ETA: 0s - loss: 0.0014 - accuracy: 0.9996WARNING:tensorflow:Early stopping conditioned on metric `val_loss` which is not available. Available metrics are: loss,accuracy\n",
      "106747/106747 [==============================] - 81s 755us/sample - loss: 0.0014 - accuracy: 0.9996\n",
      "Epoch 8/10\n",
      "106720/106747 [============================>.] - ETA: 0s - loss: 0.0014 - accuracy: 0.9996WARNING:tensorflow:Early stopping conditioned on metric `val_loss` which is not available. Available metrics are: loss,accuracy\n",
      "106747/106747 [==============================] - 80s 751us/sample - loss: 0.0014 - accuracy: 0.9996\n",
      "Epoch 9/10\n",
      "106656/106747 [============================>.] - ETA: 0s - loss: 0.0013 - accuracy: 0.9996WARNING:tensorflow:Early stopping conditioned on metric `val_loss` which is not available. Available metrics are: loss,accuracy\n",
      "106747/106747 [==============================] - 76s 714us/sample - loss: 0.0013 - accuracy: 0.9996\n",
      "Epoch 10/10\n",
      "106656/106747 [============================>.] - ETA: 0s - loss: 0.0013 - accuracy: 0.9996WARNING:tensorflow:Early stopping conditioned on metric `val_loss` which is not available. Available metrics are: loss,accuracy\n",
      "106747/106747 [==============================] - 68s 637us/sample - loss: 0.0013 - accuracy: 0.9996\n"
     ]
    },
    {
     "data": {
      "text/plain": [
       "<tensorflow.python.keras.callbacks.History at 0x1fd294a7e88>"
      ]
     },
     "execution_count": 21,
     "metadata": {},
     "output_type": "execute_result"
    },
    {
     "name": "stdout",
     "output_type": "stream",
     "text": [
      "accuracy_score 0.9992886350223421\n",
      "recall_score 0.9820374015748031\n",
      "precision_score 0.9847026893659018\n",
      "f1_score 0.9833682394973512\n",
      "Model: \"model_4\"\n",
      "_________________________________________________________________\n",
      "Layer (type)                 Output Shape              Param #   \n",
      "=================================================================\n",
      "input_1 (InputLayer)         [(None, 16, 256)]         0         \n",
      "_________________________________________________________________\n",
      "bidirectional (Bidirectional (None, 16, 48)            53952     \n",
      "_________________________________________________________________\n",
      "time_distributed (TimeDistri (None, 16, 1)             49        \n",
      "=================================================================\n",
      "Total params: 54,001\n",
      "Trainable params: 54,001\n",
      "Non-trainable params: 0\n",
      "_________________________________________________________________\n",
      "======Training stage======\n",
      "Train on 106747 samples\n",
      "Epoch 1/10\n",
      "106688/106747 [============================>.] - ETA: 0s - loss: 0.0014 - accuracy: 0.9996 ETA: 0s - loss: 0.0014 - accuracy: 0.WARNING:tensorflow:Early stopping conditioned on metric `val_loss` which is not available. Available metrics are: loss,accuracy\n",
      "106747/106747 [==============================] - 91s 849us/sample - loss: 0.0014 - accuracy: 0.9996\n",
      "Epoch 2/10\n",
      "106688/106747 [============================>.] - ETA: 0s - loss: 0.0013 - accuracy: 0.9996WARNING:tensorflow:Early stopping conditioned on metric `val_loss` which is not available. Available metrics are: loss,accuracy\n",
      "106747/106747 [==============================] - 70s 655us/sample - loss: 0.0013 - accuracy: 0.9996\n",
      "Epoch 3/10\n",
      "106688/106747 [============================>.] - ETA: 0s - loss: 0.0012 - accuracy: 0.9996WARNING:tensorflow:Early stopping conditioned on metric `val_loss` which is not available. Available metrics are: loss,accuracy\n",
      "106747/106747 [==============================] - 69s 650us/sample - loss: 0.0012 - accuracy: 0.9996\n",
      "Epoch 4/10\n",
      "106720/106747 [============================>.] - ETA: 0s - loss: 0.0012 - accuracy: 0.9997 ETA: 0s - loss: 0.0012 - ac - ETA: 0s - loss: 0.0012 - WARNING:tensorflow:Early stopping conditioned on metric `val_loss` which is not available. Available metrics are: loss,accuracy\n",
      "106747/106747 [==============================] - 81s 763us/sample - loss: 0.0012 - accuracy: 0.9997\n",
      "Epoch 5/10\n",
      "106720/106747 [============================>.] - ETA: 0s - loss: 0.0011 - accuracy: 0.9997WARNING:tensorflow:Early stopping conditioned on metric `val_loss` which is not available. Available metrics are: loss,accuracy\n",
      "106747/106747 [==============================] - 81s 762us/sample - loss: 0.0011 - accuracy: 0.9997\n",
      "Epoch 6/10\n",
      "106720/106747 [============================>.] - ETA: 0s - loss: 0.0011 - accuracy: 0.9997WARNING:tensorflow:Early stopping conditioned on metric `val_loss` which is not available. Available metrics are: loss,accuracy\n",
      "106747/106747 [==============================] - 60s 561us/sample - loss: 0.0011 - accuracy: 0.9997\n",
      "Epoch 7/10\n",
      "106688/106747 [============================>.] - ETA: 0s - loss: 0.0011 - accuracy: 0.9997WARNING:tensorflow:Early stopping conditioned on metric `val_loss` which is not available. Available metrics are: loss,accuracy\n",
      "106747/106747 [==============================] - 59s 554us/sample - loss: 0.0011 - accuracy: 0.9997\n",
      "Epoch 8/10\n",
      "106656/106747 [============================>.] - ETA: 0s - loss: 0.0010 - accuracy: 0.9997 ETA: 0s - lWARNING:tensorflow:Early stopping conditioned on metric `val_loss` which is not available. Available metrics are: loss,accuracy\n",
      "106747/106747 [==============================] - 60s 557us/sample - loss: 0.0010 - accuracy: 0.9997\n",
      "Epoch 9/10\n",
      "106720/106747 [============================>.] - ETA: 0s - loss: 0.0010 - accuracy: 0.9997WARNING:tensorflow:Early stopping conditioned on metric `val_loss` which is not available. Available metrics are: loss,accuracy\n",
      "106747/106747 [==============================] - 59s 548us/sample - loss: 0.0010 - accuracy: 0.9997\n",
      "Epoch 10/10\n",
      "106688/106747 [============================>.] - ETA: 0s - loss: 9.6840e-04 - accuracy: 0.9997 ETA: 1s -WARNING:tensorflow:Early stopping conditioned on metric `val_loss` which is not available. Available metrics are: loss,accuracy\n",
      "106747/106747 [==============================] - 58s 548us/sample - loss: 9.6788e-04 - accuracy: 0.9997\n"
     ]
    },
    {
     "data": {
      "text/plain": [
       "<tensorflow.python.keras.callbacks.History at 0x1fe0de6d788>"
      ]
     },
     "execution_count": 21,
     "metadata": {},
     "output_type": "execute_result"
    },
    {
     "name": "stdout",
     "output_type": "stream",
     "text": [
      "accuracy_score 0.9991885169884496\n",
      "recall_score 0.977363184079602\n",
      "precision_score 0.9842184368737475\n",
      "f1_score 0.9807788317523715\n",
      "Model: \"model_5\"\n",
      "_________________________________________________________________\n",
      "Layer (type)                 Output Shape              Param #   \n",
      "=================================================================\n",
      "input_1 (InputLayer)         [(None, 16, 256)]         0         \n",
      "_________________________________________________________________\n",
      "bidirectional (Bidirectional (None, 16, 48)            53952     \n",
      "_________________________________________________________________\n",
      "time_distributed (TimeDistri (None, 16, 1)             49        \n",
      "=================================================================\n",
      "Total params: 54,001\n",
      "Trainable params: 54,001\n",
      "Non-trainable params: 0\n",
      "_________________________________________________________________\n",
      "======Training stage======\n",
      "Train on 106747 samples\n",
      "Epoch 1/10\n",
      "106624/106747 [============================>.] - ETA: 0s - loss: 0.0012 - accuracy: 0.9997WARNING:tensorflow:Early stopping conditioned on metric `val_loss` which is not available. Available metrics are: loss,accuracy\n",
      "106747/106747 [==============================] - 78s 733us/sample - loss: 0.0012 - accuracy: 0.9997\n",
      "Epoch 2/10\n",
      "106656/106747 [============================>.] - ETA: 0s - loss: 0.0011 - accuracy: 0.9997WARNING:tensorflow:Early stopping conditioned on metric `val_loss` which is not available. Available metrics are: loss,accuracy\n",
      "106747/106747 [==============================] - 60s 563us/sample - loss: 0.0011 - accuracy: 0.9997\n",
      "Epoch 3/10\n",
      "106656/106747 [============================>.] - ETA: 0s - loss: 0.0011 - accuracy: 0.9997WARNING:tensorflow:Early stopping conditioned on metric `val_loss` which is not available. Available metrics are: loss,accuracy\n",
      "106747/106747 [==============================] - 60s 565us/sample - loss: 0.0011 - accuracy: 0.9997\n",
      "Epoch 4/10\n",
      "106688/106747 [============================>.] - ETA: 0s - loss: 0.0010 - accuracy: 0.9997WARNING:tensorflow:Early stopping conditioned on metric `val_loss` which is not available. Available metrics are: loss,accuracy\n",
      "106747/106747 [==============================] - 63s 587us/sample - loss: 0.0010 - accuracy: 0.9997\n",
      "Epoch 5/10\n",
      "106656/106747 [============================>.] - ETA: 0s - loss: 9.7526e-04 - accuracy: 0.9997WARNING:tensorflow:Early stopping conditioned on metric `val_loss` which is not available. Available metrics are: loss,accuracy\n",
      "106747/106747 [==============================] - 64s 598us/sample - loss: 9.7445e-04 - accuracy: 0.9997\n",
      "Epoch 6/10\n",
      "106656/106747 [============================>.] - ETA: 0s - loss: 9.9153e-04 - accuracy: 0.9997WARNING:tensorflow:Early stopping conditioned on metric `val_loss` which is not available. Available metrics are: loss,accuracy\n",
      "106747/106747 [==============================] - 57s 531us/sample - loss: 9.9143e-04 - accuracy: 0.9997\n",
      "Epoch 7/10\n",
      "106720/106747 [============================>.] - ETA: 0s - loss: 9.3355e-04 - accuracy: 0.9997WARNING:tensorflow:Early stopping conditioned on metric `val_loss` which is not available. Available metrics are: loss,accuracy\n",
      "106747/106747 [==============================] - 63s 588us/sample - loss: 9.3333e-04 - accuracy: 0.9998\n",
      "Epoch 8/10\n",
      "106720/106747 [============================>.] - ETA: 0s - loss: 9.4644e-04 - accuracy: 0.9997 ETA: 0s - lWARNING:tensorflow:Early stopping conditioned on metric `val_loss` which is not available. Available metrics are: loss,accuracy\n",
      "106747/106747 [==============================] - 62s 585us/sample - loss: 9.4657e-04 - accuracy: 0.9997\n",
      "Epoch 9/10\n",
      "106688/106747 [============================>.] - ETA: 0s - loss: 9.0635e-04 - accuracy: 0.9998WARNING:tensorflow:Early stopping conditioned on metric `val_loss` which is not available. Available metrics are: loss,accuracy\n",
      "106747/106747 [==============================] - 63s 588us/sample - loss: 9.1184e-04 - accuracy: 0.9998\n",
      "Epoch 10/10\n",
      "106720/106747 [============================>.] - ETA: 0s - loss: 8.9775e-04 - accuracy: 0.9997WARNING:tensorflow:Early stopping conditioned on metric `val_loss` which is not available. Available metrics are: loss,accuracy\n",
      "106747/106747 [==============================] - 64s 599us/sample - loss: 8.9754e-04 - accuracy: 0.9997\n"
     ]
    },
    {
     "data": {
      "text/plain": [
       "<tensorflow.python.keras.callbacks.History at 0x1fded6a0ec8>"
      ]
     },
     "execution_count": 21,
     "metadata": {},
     "output_type": "execute_result"
    },
    {
     "name": "stdout",
     "output_type": "stream",
     "text": [
      "accuracy_score 0.9992675575415226\n",
      "recall_score 0.9778325123152709\n",
      "precision_score 0.9878079124160238\n",
      "f1_score 0.9827949003589553\n",
      "Model: \"model_6\"\n",
      "_________________________________________________________________\n",
      "Layer (type)                 Output Shape              Param #   \n",
      "=================================================================\n",
      "input_1 (InputLayer)         [(None, 16, 256)]         0         \n",
      "_________________________________________________________________\n",
      "bidirectional (Bidirectional (None, 16, 48)            53952     \n",
      "_________________________________________________________________\n",
      "time_distributed (TimeDistri (None, 16, 1)             49        \n",
      "=================================================================\n",
      "Total params: 54,001\n",
      "Trainable params: 54,001\n",
      "Non-trainable params: 0\n",
      "_________________________________________________________________\n",
      "======Training stage======\n",
      "Train on 106747 samples\n",
      "Epoch 1/10\n",
      "106720/106747 [============================>.] - ETA: 0s - loss: 0.0011 - accuracy: 0.9997WARNING:tensorflow:Early stopping conditioned on metric `val_loss` which is not available. Available metrics are: loss,accuracy\n",
      "106747/106747 [==============================] - 67s 631us/sample - loss: 0.0011 - accuracy: 0.9997\n",
      "Epoch 2/10\n",
      "106720/106747 [============================>.] - ETA: 0s - loss: 0.0010 - accuracy: 0.9997WARNING:tensorflow:Early stopping conditioned on metric `val_loss` which is not available. Available metrics are: loss,accuracy\n",
      "106747/106747 [==============================] - 56s 520us/sample - loss: 0.0010 - accuracy: 0.9997\n",
      "Epoch 3/10\n",
      "106688/106747 [============================>.] - ETA: 0s - loss: 9.8467e-04 - accuracy: 0.9997WARNING:tensorflow:Early stopping conditioned on metric `val_loss` which is not available. Available metrics are: loss,accuracy\n",
      "106747/106747 [==============================] - 61s 575us/sample - loss: 9.8420e-04 - accuracy: 0.9997\n",
      "Epoch 4/10\n",
      "106720/106747 [============================>.] - ETA: 0s - loss: 9.2539e-04 - accuracy: 0.9998WARNING:tensorflow:Early stopping conditioned on metric `val_loss` which is not available. Available metrics are: loss,accuracy\n",
      "106747/106747 [==============================] - 62s 578us/sample - loss: 9.2533e-04 - accuracy: 0.9998\n",
      "Epoch 5/10\n",
      "106720/106747 [============================>.] - ETA: 0s - loss: 8.8526e-04 - accuracy: 0.9998 ETA: 0s - loss: 8.8722e-04 - accuracyWARNING:tensorflow:Early stopping conditioned on metric `val_loss` which is not available. Available metrics are: loss,accuracy\n",
      "106747/106747 [==============================] - 62s 580us/sample - loss: 8.8504e-04 - accuracy: 0.9998\n",
      "Epoch 6/10\n",
      "106656/106747 [============================>.] - ETA: 0s - loss: 8.8356e-04 - accuracy: 0.9998WARNING:tensorflow:Early stopping conditioned on metric `val_loss` which is not available. Available metrics are: loss,accuracy\n",
      "106747/106747 [==============================] - 61s 575us/sample - loss: 8.8286e-04 - accuracy: 0.9998\n",
      "Epoch 7/10\n",
      "106656/106747 [============================>.] - ETA: 0s - loss: 8.1201e-04 - accuracy: 0.9998WARNING:tensorflow:Early stopping conditioned on metric `val_loss` which is not available. Available metrics are: loss,accuracy\n",
      "106747/106747 [==============================] - 62s 577us/sample - loss: 8.1294e-04 - accuracy: 0.9998\n",
      "Epoch 8/10\n",
      "106688/106747 [============================>.] - ETA: 0s - loss: 8.1512e-04 - accuracy: 0.9998WARNING:tensorflow:Early stopping conditioned on metric `val_loss` which is not available. Available metrics are: loss,accuracy\n",
      "106747/106747 [==============================] - 61s 573us/sample - loss: 8.1479e-04 - accuracy: 0.9998\n",
      "Epoch 9/10\n",
      "106720/106747 [============================>.] - ETA: 0s - loss: 7.9242e-04 - accuracy: 0.9998WARNING:tensorflow:Early stopping conditioned on metric `val_loss` which is not available. Available metrics are: loss,accuracy\n",
      "106747/106747 [==============================] - 57s 535us/sample - loss: 7.9250e-04 - accuracy: 0.9998\n",
      "Epoch 10/10\n",
      "106656/106747 [============================>.] - ETA: 0s - loss: 7.8898e-04 - accuracy: 0.9998WARNING:tensorflow:Early stopping conditioned on metric `val_loss` which is not available. Available metrics are: loss,accuracy\n",
      "106747/106747 [==============================] - 61s 574us/sample - loss: 7.8835e-04 - accuracy: 0.9998\n"
     ]
    },
    {
     "data": {
      "text/plain": [
       "<tensorflow.python.keras.callbacks.History at 0x1fd2c18cfc8>"
      ]
     },
     "execution_count": 21,
     "metadata": {},
     "output_type": "execute_result"
    },
    {
     "name": "stdout",
     "output_type": "stream",
     "text": [
      "accuracy_score 0.9993676755754153\n",
      "recall_score 0.9806146572104019\n",
      "precision_score 0.9909221213569039\n",
      "f1_score 0.9857414448669202\n",
      "Model: \"model_7\"\n",
      "_________________________________________________________________\n",
      "Layer (type)                 Output Shape              Param #   \n",
      "=================================================================\n",
      "input_1 (InputLayer)         [(None, 16, 256)]         0         \n",
      "_________________________________________________________________\n",
      "bidirectional (Bidirectional (None, 16, 48)            53952     \n",
      "_________________________________________________________________\n",
      "time_distributed (TimeDistri (None, 16, 1)             49        \n",
      "=================================================================\n",
      "Total params: 54,001\n",
      "Trainable params: 54,001\n",
      "Non-trainable params: 0\n",
      "_________________________________________________________________\n",
      "======Training stage======\n",
      "Train on 106747 samples\n",
      "Epoch 1/10\n",
      "106688/106747 [============================>.] - ETA: 0s - loss: 9.5231e-04 - accuracy: 0.9997WARNING:tensorflow:Early stopping conditioned on metric `val_loss` which is not available. Available metrics are: loss,accuracy\n",
      "106747/106747 [==============================] - 72s 676us/sample - loss: 9.5185e-04 - accuracy: 0.9997\n",
      "Epoch 2/10\n",
      "106688/106747 [============================>.] - ETA: 0s - loss: 8.8072e-04 - accuracy: 0.9998WARNING:tensorflow:Early stopping conditioned on metric `val_loss` which is not available. Available metrics are: loss,accuracy\n",
      "106747/106747 [==============================] - 48s 448us/sample - loss: 8.8053e-04 - accuracy: 0.9998\n",
      "Epoch 3/10\n",
      "106688/106747 [============================>.] - ETA: 0s - loss: 8.2587e-04 - accuracy: 0.9998WARNING:tensorflow:Early stopping conditioned on metric `val_loss` which is not available. Available metrics are: loss,accuracy\n",
      "106747/106747 [==============================] - 61s 570us/sample - loss: 8.2598e-04 - accuracy: 0.9998\n",
      "Epoch 4/10\n",
      "106656/106747 [============================>.] - ETA: 0s - loss: 7.6265e-04 - accuracy: 0.9998WARNING:tensorflow:Early stopping conditioned on metric `val_loss` which is not available. Available metrics are: loss,accuracy\n",
      "106747/106747 [==============================] - 62s 582us/sample - loss: 7.6201e-04 - accuracy: 0.9998\n",
      "Epoch 5/10\n",
      "106688/106747 [============================>.] - ETA: 0s - loss: 7.4687e-04 - accuracy: 0.9998WARNING:tensorflow:Early stopping conditioned on metric `val_loss` which is not available. Available metrics are: loss,accuracy\n",
      "106747/106747 [==============================] - 62s 580us/sample - loss: 7.4646e-04 - accuracy: 0.9998\n",
      "Epoch 6/10\n",
      "106656/106747 [============================>.] - ETA: 0s - loss: 6.9134e-04 - accuracy: 0.9998WARNING:tensorflow:Early stopping conditioned on metric `val_loss` which is not available. Available metrics are: loss,accuracy\n",
      "106747/106747 [==============================] - 66s 617us/sample - loss: 6.9135e-04 - accuracy: 0.9998\n",
      "Epoch 7/10\n",
      "106688/106747 [============================>.] - ETA: 0s - loss: 6.6642e-04 - accuracy: 0.9998WARNING:tensorflow:Early stopping conditioned on metric `val_loss` which is not available. Available metrics are: loss,accuracy\n",
      "106747/106747 [==============================] - 65s 613us/sample - loss: 6.6620e-04 - accuracy: 0.9998\n",
      "Epoch 8/10\n",
      "106720/106747 [============================>.] - ETA: 0s - loss: 6.8270e-04 - accuracy: 0.9998WARNING:tensorflow:Early stopping conditioned on metric `val_loss` which is not available. Available metrics are: loss,accuracy\n",
      "106747/106747 [==============================] - 67s 627us/sample - loss: 6.8263e-04 - accuracy: 0.9998\n",
      "Epoch 9/10\n",
      "106656/106747 [============================>.] - ETA: 0s - loss: 6.5389e-04 - accuracy: 0.9998WARNING:tensorflow:Early stopping conditioned on metric `val_loss` which is not available. Available metrics are: loss,accuracy\n",
      "106747/106747 [==============================] - 68s 638us/sample - loss: 6.5342e-04 - accuracy: 0.9998\n",
      "Epoch 10/10\n",
      "106720/106747 [============================>.] - ETA: 0s - loss: 6.1773e-04 - accuracy: 0.9998WARNING:tensorflow:Early stopping conditioned on metric `val_loss` which is not available. Available metrics are: loss,accuracy\n",
      "106747/106747 [==============================] - 69s 647us/sample - loss: 6.1758e-04 - accuracy: 0.9998\n"
     ]
    },
    {
     "data": {
      "text/plain": [
       "<tensorflow.python.keras.callbacks.History at 0x1fdea92d5c8>"
      ]
     },
     "execution_count": 21,
     "metadata": {},
     "output_type": "execute_result"
    },
    {
     "name": "stdout",
     "output_type": "stream",
     "text": [
      "accuracy_score 0.9994730629795127\n",
      "recall_score 0.9895478852698104\n",
      "precision_score 0.9861918604651163\n",
      "f1_score 0.9878670225673382\n",
      "Model: \"model_8\"\n",
      "_________________________________________________________________\n",
      "Layer (type)                 Output Shape              Param #   \n",
      "=================================================================\n",
      "input_1 (InputLayer)         [(None, 16, 256)]         0         \n",
      "_________________________________________________________________\n",
      "bidirectional (Bidirectional (None, 16, 48)            53952     \n",
      "_________________________________________________________________\n",
      "time_distributed (TimeDistri (None, 16, 1)             49        \n",
      "=================================================================\n",
      "Total params: 54,001\n",
      "Trainable params: 54,001\n",
      "Non-trainable params: 0\n",
      "_________________________________________________________________\n",
      "======Training stage======\n",
      "Train on 106748 samples\n",
      "Epoch 1/10\n",
      "106656/106748 [============================>.] - ETA: 0s - loss: 8.0298e-04 - accuracy: 0.9998 ETA: 0s - loss: 8.0454e-04 - accuracy - ETA: 0s - loss: 8.0432e-04 - accuracy: 0.9998WARNING:tensorflow:Early stopping conditioned on metric `val_loss` which is not available. Available metrics are: loss,accuracy\n",
      "106748/106748 [==============================] - 81s 760us/sample - loss: 8.0375e-04 - accuracy: 0.9998\n",
      "Epoch 2/10\n",
      "106656/106748 [============================>.] - ETA: 0s - loss: 7.3329e-04 - accuracy: 0.9998WARNING:tensorflow:Early stopping conditioned on metric `val_loss` which is not available. Available metrics are: loss,accuracy\n",
      "106748/106748 [==============================] - 58s 540us/sample - loss: 7.3307e-04 - accuracy: 0.9998\n",
      "Epoch 3/10\n",
      "106688/106748 [============================>.] - ETA: 0s - loss: 6.9091e-04 - accuracy: 0.9998WARNING:tensorflow:Early stopping conditioned on metric `val_loss` which is not available. Available metrics are: loss,accuracy\n",
      "106748/106748 [==============================] - 67s 624us/sample - loss: 6.9060e-04 - accuracy: 0.9998\n",
      "Epoch 4/10\n",
      "106720/106748 [============================>.] - ETA: 0s - loss: 6.8861e-04 - accuracy: 0.9998WARNING:tensorflow:Early stopping conditioned on metric `val_loss` which is not available. Available metrics are: loss,accuracy\n",
      "106748/106748 [==============================] - 62s 578us/sample - loss: 6.8846e-04 - accuracy: 0.9998\n",
      "Epoch 5/10\n",
      "106656/106748 [============================>.] - ETA: 0s - loss: 5.9020e-04 - accuracy: 0.9998WARNING:tensorflow:Early stopping conditioned on metric `val_loss` which is not available. Available metrics are: loss,accuracy\n",
      "106748/106748 [==============================] - 68s 640us/sample - loss: 5.8979e-04 - accuracy: 0.9998\n",
      "Epoch 6/10\n",
      "106688/106748 [============================>.] - ETA: 0s - loss: 6.0366e-04 - accuracy: 0.9999 EWARNING:tensorflow:Early stopping conditioned on metric `val_loss` which is not available. Available metrics are: loss,accuracy\n",
      "106748/106748 [==============================] - 68s 637us/sample - loss: 6.0333e-04 - accuracy: 0.9999\n",
      "Epoch 7/10\n",
      "106720/106748 [============================>.] - ETA: 0s - loss: 6.0179e-04 - accuracy: 0.9999WARNING:tensorflow:Early stopping conditioned on metric `val_loss` which is not available. Available metrics are: loss,accuracy\n",
      "106748/106748 [==============================] - 68s 635us/sample - loss: 6.0164e-04 - accuracy: 0.9999\n",
      "Epoch 8/10\n",
      "106720/106748 [============================>.] - ETA: 0s - loss: 5.2689e-04 - accuracy: 0.9999WARNING:tensorflow:Early stopping conditioned on metric `val_loss` which is not available. Available metrics are: loss,accuracy\n",
      "106748/106748 [==============================] - 68s 633us/sample - loss: 5.2676e-04 - accuracy: 0.9999\n",
      "Epoch 9/10\n",
      "106688/106748 [============================>.] - ETA: 0s - loss: 5.3723e-04 - accuracy: 0.9999WARNING:tensorflow:Early stopping conditioned on metric `val_loss` which is not available. Available metrics are: loss,accuracy\n",
      "106748/106748 [==============================] - 68s 634us/sample - loss: 5.3697e-04 - accuracy: 0.9999\n",
      "Epoch 10/10\n",
      "106656/106748 [============================>.] - ETA: 0s - loss: 5.6247e-04 - accuracy: 0.9999WARNING:tensorflow:Early stopping conditioned on metric `val_loss` which is not available. Available metrics are: loss,accuracy\n",
      "106748/106748 [==============================] - 68s 637us/sample - loss: 5.6209e-04 - accuracy: 0.9999\n"
     ]
    },
    {
     "data": {
      "text/plain": [
       "<tensorflow.python.keras.callbacks.History at 0x1fe20441ec8>"
      ]
     },
     "execution_count": 21,
     "metadata": {},
     "output_type": "execute_result"
    },
    {
     "name": "stdout",
     "output_type": "stream",
     "text": [
      "accuracy_score 0.999552065767285\n",
      "recall_score 0.9902605308010713\n",
      "precision_score 0.9890564202334631\n",
      "f1_score 0.989658109259034\n",
      "Model: \"model_9\"\n",
      "_________________________________________________________________\n",
      "Layer (type)                 Output Shape              Param #   \n",
      "=================================================================\n",
      "input_1 (InputLayer)         [(None, 16, 256)]         0         \n",
      "_________________________________________________________________\n",
      "bidirectional (Bidirectional (None, 16, 48)            53952     \n",
      "_________________________________________________________________\n",
      "time_distributed (TimeDistri (None, 16, 1)             49        \n",
      "=================================================================\n",
      "Total params: 54,001\n",
      "Trainable params: 54,001\n",
      "Non-trainable params: 0\n",
      "_________________________________________________________________\n",
      "======Training stage======\n",
      "Train on 106748 samples\n",
      "Epoch 1/10\n",
      "106720/106748 [============================>.] - ETA: 0s - loss: 7.1892e-04 - accuracy: 0.9998 ETA: 1s - loss: 7.2151e-04 -  - ETA: 0s - loss: 7.1729e-04 - WARNING:tensorflow:Early stopping conditioned on metric `val_loss` which is not available. Available metrics are: loss,accuracy\n",
      "106748/106748 [==============================] - 81s 757us/sample - loss: 7.1878e-04 - accuracy: 0.9998\n",
      "Epoch 2/10\n",
      "106688/106748 [============================>.] - ETA: 0s - loss: 6.3571e-04 - accuracy: 0.9998WARNING:tensorflow:Early stopping conditioned on metric `val_loss` which is not available. Available metrics are: loss,accuracy\n",
      "106748/106748 [==============================] - 66s 622us/sample - loss: 6.3571e-04 - accuracy: 0.9998\n",
      "Epoch 3/10\n",
      "106656/106748 [============================>.] - ETA: 0s - loss: 6.2483e-04 - accuracy: 0.9998WARNING:tensorflow:Early stopping conditioned on metric `val_loss` which is not available. Available metrics are: loss,accuracy\n",
      "106748/106748 [==============================] - 67s 625us/sample - loss: 6.2438e-04 - accuracy: 0.9998\n",
      "Epoch 4/10\n",
      "106720/106748 [============================>.] - ETA: 0s - loss: 6.0333e-04 - accuracy: 0.9999WARNING:tensorflow:Early stopping conditioned on metric `val_loss` which is not available. Available metrics are: loss,accuracy\n",
      "106748/106748 [==============================] - 71s 662us/sample - loss: 6.0318e-04 - accuracy: 0.9999\n",
      "Epoch 5/10\n",
      "106688/106748 [============================>.] - ETA: 0s - loss: 5.8266e-04 - accuracy: 0.9999WARNING:tensorflow:Early stopping conditioned on metric `val_loss` which is not available. Available metrics are: loss,accuracy\n",
      "106748/106748 [==============================] - 62s 581us/sample - loss: 5.8316e-04 - accuracy: 0.9999\n",
      "Epoch 6/10\n",
      "106688/106748 [============================>.] - ETA: 0s - loss: 5.6951e-04 - accuracy: 0.9999WARNING:tensorflow:Early stopping conditioned on metric `val_loss` which is not available. Available metrics are: loss,accuracy\n",
      "106748/106748 [==============================] - 67s 624us/sample - loss: 5.6920e-04 - accuracy: 0.9999\n",
      "Epoch 7/10\n",
      "106656/106748 [============================>.] - ETA: 0s - loss: 5.2862e-04 - accuracy: 0.9999 - ETA: 30s - loss: 5.2859e-04 - - ETA: 20s - loss: 5.2 - ETA: 2s - loss: 5.3100e-04 -  - ETA: 2s - loss: 5.2711e-04 - acWARNING:tensorflow:Early stopping conditioned on metric `val_loss` which is not available. Available metrics are: loss,accuracy\n",
      "106748/106748 [==============================] - 70s 658us/sample - loss: 5.2956e-04 - accuracy: 0.9999\n",
      "Epoch 8/10\n",
      "106720/106748 [============================>.] - ETA: 0s - loss: 5.0324e-04 - accuracy: 0.9999WARNING:tensorflow:Early stopping conditioned on metric `val_loss` which is not available. Available metrics are: loss,accuracy\n",
      "106748/106748 [==============================] - 71s 668us/sample - loss: 5.0311e-04 - accuracy: 0.9999\n",
      "Epoch 9/10\n",
      "106688/106748 [============================>.] - ETA: 0s - loss: 4.8058e-04 - accuracy: 0.9999WARNING:tensorflow:Early stopping conditioned on metric `val_loss` which is not available. Available metrics are: loss,accuracy\n",
      "106748/106748 [==============================] - 70s 659us/sample - loss: 4.8031e-04 - accuracy: 0.9999\n",
      "Epoch 10/10\n",
      "106720/106748 [============================>.] - ETA: 0s - loss: 4.6915e-04 - accuracy: 0.9999WARNING:tensorflow:Early stopping conditioned on metric `val_loss` which is not available. Available metrics are: loss,accuracy\n",
      "106748/106748 [==============================] - 70s 658us/sample - loss: 4.6908e-04 - accuracy: 0.9999\n"
     ]
    },
    {
     "data": {
      "text/plain": [
       "<tensorflow.python.keras.callbacks.History at 0x1fd6e701f88>"
      ]
     },
     "execution_count": 21,
     "metadata": {},
     "output_type": "execute_result"
    },
    {
     "name": "stdout",
     "output_type": "stream",
     "text": [
      "accuracy_score 0.9996363827993254\n",
      "recall_score 0.9927572427572428\n",
      "precision_score 0.9900373599003736\n",
      "f1_score 0.9913954358398802\n",
      "\n",
      "K-fold cross validation Accuracy: [0.9987353511508305, 0.9990620521035326, 0.9992254025798837, 0.9992886350223421, 0.9991885169884496, 0.9992675575415226, 0.9993676755754153, 0.9994730629795127, 0.999552065767285, 0.9996363827993254]\n",
      "\n",
      "K-fold cross validation Recall: [0.9665200391006843, 0.9785344189489267, 0.9836065573770492, 0.9820374015748031, 0.977363184079602, 0.9778325123152709, 0.9806146572104019, 0.9895478852698104, 0.9902605308010713, 0.9927572427572428]\n",
      "\n",
      "K-fold cross validation Precision: [0.9746180384425825, 0.9775696327335469, 0.9815078236130867, 0.9847026893659018, 0.9842184368737475, 0.9878079124160238, 0.9909221213569039, 0.9861918604651163, 0.9890564202334631, 0.9900373599003736]\n",
      "\n",
      "K-fold cross validation F1-Score: [0.9705521472392638, 0.9780517879161528, 0.9825560697757209, 0.9833682394973512, 0.9807788317523715, 0.9827949003589553, 0.9857414448669202, 0.9878670225673382, 0.989658109259034, 0.9913954358398802]\n"
     ]
    }
   ],
   "source": [
    "# 교차검증 kfold\n",
    "from sklearn.model_selection import KFold\n",
    "\n",
    "# Accuracy, Precision, Recall, F1-Score\n",
    "from sklearn.metrics import accuracy_score, recall_score, precision_score, f1_score\n",
    "\n",
    "# Confusion Matrix, ROC Curve\n",
    "from sklearn.metrics import confusion_matrix, roc_auc_score\n",
    "\n",
    "# 최종 평가지표들 평균용\n",
    "accuracy, recall, precision, f1score, cm = [], [], [], [], []\n",
    "\n",
    "# 11. 교차검증 kfold - k.split - 10회 / K-Fold 객체 생성\n",
    "# kf = KFold(n_splits=10, shuffle=False, random_state=None) # KFold non shuffle 버전\n",
    "kf = KFold(n_splits=10, shuffle=True, random_state=None) # KFold non shuffle 버전\n",
    "\n",
    "for train, validation in kf.split(x_bc8_3, y_bc8_3):\n",
    "    model1 = models.Model(xInput, xOutput)\n",
    "    model1.compile(loss='binary_crossentropy', optimizer='rmsprop', metrics=['accuracy'])\n",
    "    model1.summary()\n",
    "    print('======Training stage======')\n",
    "    model1.fit(x_bc8_3[train],\n",
    "               y_bc8_3[train],\n",
    "               epochs = 10,\n",
    "               batch_size = 32,\n",
    "               callbacks=[early_stopping])\n",
    "    #k_accuracy = '%.4f' %(model1.evaluate(data_10000x[validation], data_10000y[validation])[1])\n",
    "\n",
    "# 12. 교차검증결과 predict - 검증셋들\n",
    "    # predict 값\n",
    "    k_pr = model1.predict(x_bc8_3[validation])\n",
    "    \n",
    "    # 테스트 predict 결과들 비교 (평가지표 보기위함)\n",
    "    pred = np.round(np.array(k_pr).flatten().tolist())\n",
    "    y_test = np.array(y_bc8_3[validation]).flatten().tolist()\n",
    "    \n",
    "# 13. 평가지표들 출력\n",
    "    ## 평가지표들\n",
    "    k_accuracy = float(accuracy_score(y_test, pred))\n",
    "    k_recall =  float(recall_score(y_test, pred))\n",
    "    k_precision = float(precision_score(y_test, pred))\n",
    "    k_f1_score = float(f1_score(y_test, pred))\n",
    "    #k_cm = float(confusion_matrix(y_test, pred))\n",
    "    \n",
    "    print('accuracy_score', k_accuracy)\n",
    "    print('recall_score', k_recall)\n",
    "    print('precision_score', k_precision)\n",
    "    print('f1_score', k_f1_score)\n",
    "    #print('\\nconfusion_matrix\\n', k_cm)\n",
    "\n",
    "    accuracy.append(k_accuracy)\n",
    "    recall.append(k_recall)\n",
    "    precision.append(k_precision)\n",
    "    f1score.append(k_f1_score)\n",
    "    #cm.append(k_cm)\n",
    "#    print('roc_curve 면적', roc_auc_score(y_test, pred))\n",
    "\n",
    "# 최종 결과지표\n",
    "print('\\nK-fold cross validation Accuracy: {}'.format(accuracy))\n",
    "print('\\nK-fold cross validation Recall: {}'.format(recall))\n",
    "print('\\nK-fold cross validation Precision: {}'.format(precision))\n",
    "print('\\nK-fold cross validation F1-Score: {}'.format(f1score))\n",
    "#print('\\nK-fold cross validation ConfusionMatrix: {}'.format(cm))"
   ]
  },
  {
   "cell_type": "markdown",
   "metadata": {},
   "source": [
    "## (9) 평가지표"
   ]
  },
  {
   "cell_type": "code",
   "execution_count": 22,
   "metadata": {},
   "outputs": [
    {
     "name": "stdout",
     "output_type": "stream",
     "text": [
      "10-Fold Cross_validation. Accuracy : 0.99927967025081\n",
      "10-Fold Cross_validation. Recall : 0.9819074429434863\n",
      "10-Fold Cross_validation. Precision : 0.9846632295400747\n",
      "10-Fold Cross_validation. F1-Score : 0.9832763989072989\n"
     ]
    }
   ],
   "source": [
    "print('10-Fold Cross_validation. Accuracy :', np.mean(accuracy))\n",
    "print('10-Fold Cross_validation. Recall :', np.mean(recall))\n",
    "print('10-Fold Cross_validation. Precision :', np.mean(precision))\n",
    "print('10-Fold Cross_validation. F1-Score :', np.mean(f1score))"
   ]
  },
  {
   "cell_type": "code",
   "execution_count": 23,
   "metadata": {},
   "outputs": [
    {
     "name": "stdout",
     "output_type": "stream",
     "text": [
      "save 완료\n"
     ]
    }
   ],
   "source": [
    "model1.save('gcc8_bin_core_s16_h24_o3.h5')\n",
    "print('save 완료')"
   ]
  }
 ],
 "metadata": {
  "kernelspec": {
   "display_name": "Python 3",
   "language": "python",
   "name": "python3"
  },
  "language_info": {
   "codemirror_mode": {
    "name": "ipython",
    "version": 3
   },
   "file_extension": ".py",
   "mimetype": "text/x-python",
   "name": "python",
   "nbconvert_exporter": "python",
   "pygments_lexer": "ipython3",
   "version": "3.7.9"
  }
 },
 "nbformat": 4,
 "nbformat_minor": 4
}
