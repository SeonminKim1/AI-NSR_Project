{
 "cells": [
  {
   "cell_type": "markdown",
   "metadata": {},
   "source": [
    "## RNN 모델 N-Byte 방식 (함수정보 포함 vs 미포함 => 1:1 비율)\n",
    "\n",
    "## (1) 데이터로드"
   ]
  },
  {
   "cell_type": "code",
   "execution_count": 1,
   "metadata": {},
   "outputs": [
    {
     "name": "stdout",
     "output_type": "stream",
     "text": [
      "(27667301, 2)\n",
      "shape - (27667301, 2)\n",
      "reset_index 완료\n",
      "input data shape\n"
     ]
    },
    {
     "data": {
      "text/html": [
       "<div>\n",
       "<style scoped>\n",
       "    .dataframe tbody tr th:only-of-type {\n",
       "        vertical-align: middle;\n",
       "    }\n",
       "\n",
       "    .dataframe tbody tr th {\n",
       "        vertical-align: top;\n",
       "    }\n",
       "\n",
       "    .dataframe thead th {\n",
       "        text-align: right;\n",
       "    }\n",
       "</style>\n",
       "<table border=\"1\" class=\"dataframe\">\n",
       "  <thead>\n",
       "    <tr style=\"text-align: right;\">\n",
       "      <th></th>\n",
       "      <th>bin</th>\n",
       "      <th>label</th>\n",
       "    </tr>\n",
       "  </thead>\n",
       "  <tbody>\n",
       "    <tr>\n",
       "      <th>0</th>\n",
       "      <td>47</td>\n",
       "      <td>0</td>\n",
       "    </tr>\n",
       "    <tr>\n",
       "      <th>1</th>\n",
       "      <td>108</td>\n",
       "      <td>0</td>\n",
       "    </tr>\n",
       "    <tr>\n",
       "      <th>2</th>\n",
       "      <td>105</td>\n",
       "      <td>0</td>\n",
       "    </tr>\n",
       "    <tr>\n",
       "      <th>3</th>\n",
       "      <td>98</td>\n",
       "      <td>0</td>\n",
       "    </tr>\n",
       "    <tr>\n",
       "      <th>4</th>\n",
       "      <td>47</td>\n",
       "      <td>0</td>\n",
       "    </tr>\n",
       "  </tbody>\n",
       "</table>\n",
       "</div>"
      ],
      "text/plain": [
       "   bin  label\n",
       "0   47      0\n",
       "1  108      0\n",
       "2  105      0\n",
       "3   98      0\n",
       "4   47      0"
      ]
     },
     "execution_count": 1,
     "metadata": {},
     "output_type": "execute_result"
    }
   ],
   "source": [
    "# (1) 데이터로드\n",
    "import pandas as pd\n",
    "import numpy as np\n",
    "\n",
    "import warnings\n",
    "warnings.filterwarnings(action='ignore')\n",
    "\n",
    "# 여러개 쳐도 나오게\n",
    "from IPython.core.interactiveshell import InteractiveShell\n",
    "InteractiveShell.ast_node_interactivity = \"all\"\n",
    "\n",
    "# 파일읽기\n",
    "bin8_1 = pd.read_csv(\"../../바이너리_최종데이터_1004/gcc8/o1/o1_bincore8.csv\", index_col=0)\n",
    "print(bin8_1.shape)\n",
    "\n",
    "# reset_index (hex processing 하면서 값이 빠졌으니까 + n_gram 에서 index를 다루기 때문에)\n",
    "bin8_1.reset_index(inplace=True, drop=True)\n",
    "\n",
    "print('shape -', bin8_1.shape)\n",
    "print('reset_index 완료')\n",
    "print('input data shape')\n",
    "bin8_1.head()"
   ]
  },
  {
   "cell_type": "code",
   "execution_count": 2,
   "metadata": {},
   "outputs": [
    {
     "name": "stdout",
     "output_type": "stream",
     "text": [
      "256\n",
      "0    27628838\n",
      "1       38463\n",
      "Name: label, dtype: int64\n"
     ]
    }
   ],
   "source": [
    "# (2-1) 데이터체크 1 - hex(16진수)가 256 label을 가져야 dummies 변환 가능 \n",
    "# 16진수 256개 종류가 있어서 pd.get_dummies 사용 가능.\n",
    "print(len(bin8_1['bin'].unique()))\n",
    "\n",
    "# (2-2) 데이터 체크 2 - 1, 0 비율 ==> 1이 함수의 갯수를 뜻함\n",
    "# 정답 데이터 1, 0 비율 확인  ==> 1이 함수의 갯수를 뜻함\n",
    "print(bin8_1['label'].value_counts())"
   ]
  },
  {
   "cell_type": "markdown",
   "metadata": {},
   "source": [
    "## (3) N Byte씩 자르기"
   ]
  },
  {
   "cell_type": "code",
   "execution_count": 3,
   "metadata": {},
   "outputs": [
    {
     "name": "stdout",
     "output_type": "stream",
     "text": [
      "615408\n",
      "나머지 0\n",
      "최종 길이 615408\n",
      "bin8_1 615408\n"
     ]
    }
   ],
   "source": [
    "idx_bin = bin8_1[bin8_1['label']==1].index  # 407, 474 ...\n",
    "ls_bin = list(idx_bin)\n",
    "\n",
    "# 최종 뽑을 행에 대한 index\n",
    "ls_idx_bin = []\n",
    "\n",
    "# n byte 자르기 방식\n",
    "left_idx, right_idx = 0, 16 # 3개씩\n",
    "\n",
    "# n byte 자르기\n",
    "for k in range(left_idx, right_idx):\n",
    "    ls_idx_bin.extend(list(idx_bin + k)) # index 형이라서 가능\n",
    "\n",
    "#ls_idx = list(set(ls_idx)) \n",
    "ls_idx_bin.sort() # 인덱스 정렬\n",
    "\n",
    "# 1차 index 해당범위 초과한 것들 없애기\n",
    "ls_idx_bin = list(filter(lambda x: x<len(bin8_1), ls_idx_bin))\n",
    "print(len(ls_idx_bin))\n",
    "\n",
    "# 2차 남은 index들 중 right_idx 나눈 나머지 없애기\n",
    "sub_bin = len(ls_idx_bin)%(right_idx)\n",
    "print('나머지', sub_bin)\n",
    "\n",
    "ls_idx_bin = ls_idx_bin[:len(ls_idx_bin)-sub_bin]\n",
    "print('최종 길이', len(ls_idx_bin))\n",
    "\n",
    "print('bin8_1', len(ls_idx_bin))\n",
    "\n",
    "# loc 로 수정필요\n",
    "bin8_1_Ngram = bin8_1.loc[ls_idx_bin,:].copy()"
   ]
  },
  {
   "cell_type": "markdown",
   "metadata": {},
   "source": [
    "## (4) false data 만들기"
   ]
  },
  {
   "cell_type": "code",
   "execution_count": 4,
   "metadata": {},
   "outputs": [
    {
     "name": "stdout",
     "output_type": "stream",
     "text": [
      "60531.0\n",
      "0 17407245\n",
      "1000 18978591\n",
      "2000 21876204\n",
      "3000 18773320\n",
      "4000 8354772\n",
      "5000 22117494\n",
      "6000 9063912\n",
      "7000 21845820\n",
      "8000 18718957\n",
      "9000 21193952\n",
      "10000 26615947\n",
      "11000 18192951\n",
      "12000 21063568\n",
      "13000 16702687\n",
      "14000 18909699\n",
      "15000 15429981\n",
      "16000 22169357\n",
      "17000 2945514\n",
      "18000 20016909\n",
      "19000 13519249\n",
      "20000 14674221\n",
      "21000 25903128\n",
      "22000 7336207\n",
      "23000 19280997\n",
      "24000 36116\n",
      "25000 12798394\n",
      "26000 11513982\n",
      "27000 20810777\n",
      "28000 2611518\n",
      "29000 24220863\n",
      "30000 20043514\n",
      "31000 23439625\n",
      "32000 24307524\n",
      "33000 2984630\n",
      "34000 21231921\n",
      "35000 13760956\n",
      "36000 6818762\n",
      "37000 22901979\n",
      "38000 5039634\n",
      "39000 27545121\n",
      "40000 12494152\n",
      "41000 19396251\n",
      "42000 3008273\n",
      "43000 6859421\n",
      "44000 25349938\n",
      "45000 575347\n",
      "46000 18413572\n",
      "47000 9154890\n",
      "48000 115851\n",
      "49000 15289949\n",
      "50000 919035\n",
      "51000 9252588\n",
      "52000 3553334\n",
      "53000 16091221\n",
      "54000 16613573\n",
      "55000 16469465\n",
      "56000 14738574\n",
      "57000 7135892\n",
      "58000 309466\n",
      "59000 26719973\n",
      "60000 19865\n",
      "완료\n",
      "60531\n"
     ]
    }
   ],
   "source": [
    "# false data 만들기 - False 데이터 랜덤 생성\n",
    "\n",
    "# 목표치\n",
    "goal_bin = len(bin8_1_Ngram)/right_idx\n",
    "count_bin = 0\n",
    "\n",
    "print(goal_bin)\n",
    "\n",
    "# 최종 데이터 Frame\n",
    "d_bin = pd.DataFrame(columns = bin8_1.columns)\n",
    "\n",
    "binutils_df = []\n",
    "# goal 에 도달할 때까지\n",
    "while True:\n",
    "    if (count_bin == goal_bin):\n",
    "            break\n",
    "    # 진행상황 살펴보기 위함\n",
    "            \n",
    "    # 랜덤 N 바이트씩 뽑음\n",
    "    # random index\n",
    "    random_idx_bin = np.random.randint(len(bin8_1)-right_idx)\n",
    "\n",
    "    if count_bin % 1000==0:\n",
    "        print(count_bin, end=' ')\n",
    "        print(random_idx_bin)\n",
    "\n",
    "    df_bin = bin8_1[random_idx_bin : random_idx_bin + right_idx]\n",
    "    \n",
    "    # 뽑은 index의 N 바이트 중에 1이 없는 경우만\n",
    "    if 1 not in df_bin['label'] and count_bin < goal_bin:\n",
    "        binutils_df.append(df_bin)\n",
    "        count_bin+=1\n",
    "\n",
    "print('완료')\n",
    "print(len(binutils_df))"
   ]
  },
  {
   "cell_type": "code",
   "execution_count": 5,
   "metadata": {},
   "outputs": [
    {
     "name": "stdout",
     "output_type": "stream",
     "text": [
      "60531\n",
      "38463\n"
     ]
    }
   ],
   "source": [
    "# True data와 False Data 같은지 체크\n",
    "print(len(binutils_df))\n",
    "print(bin8_1['label'].value_counts()[1])"
   ]
  },
  {
   "cell_type": "markdown",
   "metadata": {},
   "source": [
    "## (5) False Data + True Data 합치기"
   ]
  },
  {
   "cell_type": "code",
   "execution_count": 6,
   "metadata": {},
   "outputs": [
    {
     "data": {
      "text/plain": [
       "(1936992, 2)"
      ]
     },
     "execution_count": 6,
     "metadata": {},
     "output_type": "execute_result"
    }
   ],
   "source": [
    "f_data = pd.concat(binutils_df)\n",
    "final = pd.concat([f_data, bin8_1_Ngram])\n",
    "final.shape"
   ]
  },
  {
   "cell_type": "markdown",
   "metadata": {},
   "source": [
    "## (6) one hot encoding"
   ]
  },
  {
   "cell_type": "code",
   "execution_count": 7,
   "metadata": {},
   "outputs": [
    {
     "name": "stdout",
     "output_type": "stream",
     "text": [
      "원핫인코딩완료\n",
      "(1936992, 257)\n"
     ]
    }
   ],
   "source": [
    "# 훈련데이터 (gcc 최적화버전 0, 1, 2, 3 one hot encoding)\n",
    "bc8_1_onehot_Ngram = pd.get_dummies(final['bin'])\n",
    "bc8_1_onehot_Ngram = pd.concat([final['label'], bc8_1_onehot_Ngram], axis=1)\n",
    "\n",
    "print('원핫인코딩완료')\n",
    "print(bc8_1_onehot_Ngram.shape)"
   ]
  },
  {
   "cell_type": "code",
   "execution_count": 8,
   "metadata": {},
   "outputs": [
    {
     "name": "stdout",
     "output_type": "stream",
     "text": [
      "(1936992, 256) (1936992, 256)\n",
      "(121062, 16, 256) (121062, 16, 1)\n"
     ]
    }
   ],
   "source": [
    "# 훈련 데이터, 훈련 라벨\n",
    "x_bc8_1 = bc8_1_onehot_Ngram.iloc[:,1:].to_numpy()\n",
    "y_bc8_1 = bc8_1_onehot_Ngram['label'].to_numpy()\n",
    "print(x_bc8_1.shape, x_bc8_1.shape)\n",
    "\n",
    "x_bc8_1 = x_bc8_1.reshape(-1, right_idx, x_bc8_1.shape[1])\n",
    "y_bc8_1 = y_bc8_1.reshape(-1, right_idx, 1)\n",
    "\n",
    "print(x_bc8_1.shape, y_bc8_1.shape)"
   ]
  },
  {
   "cell_type": "code",
   "execution_count": 9,
   "metadata": {},
   "outputs": [
    {
     "name": "stdout",
     "output_type": "stream",
     "text": [
      "(121062, 16, 256) (121062, 16, 1)\n"
     ]
    }
   ],
   "source": [
    "# numpy 행, 열 섞기\n",
    "p = np.random.permutation(x_bc8_1.shape[0])\n",
    "\n",
    "x_bc8_1 = x_bc8_1[p]\n",
    "y_bc8_1 = y_bc8_1[p]\n",
    "\n",
    "print(x_bc8_1.shape, y_bc8_1.shape)"
   ]
  },
  {
   "cell_type": "markdown",
   "metadata": {},
   "source": [
    "## (7) 모델"
   ]
  },
  {
   "cell_type": "code",
   "execution_count": 10,
   "metadata": {},
   "outputs": [],
   "source": [
    "# (10) 양방향 LSTM 모델링 작업\n",
    "from tensorflow.keras import layers, models\n",
    "#from tf.keras.models import Model, Sequential\n",
    "#from tf.keras.layers import SimpleRNN, Input, Dense, LSTM\n",
    "#from tf.keras.layers import Bidirectional, TimeDistributed\n",
    "\n",
    "# 학습\n",
    "from tensorflow.keras.callbacks import EarlyStopping\n",
    "early_stopping = EarlyStopping(patience = 3) # 조기종료 콜백함수 정의\n",
    "\n",
    "xInput = layers.Input(batch_shape=(None,right_idx, 256)) \n",
    "xBiLstm = layers.Bidirectional(layers.LSTM(24, return_sequences=True, stateful=False), merge_mode = 'concat')(xInput)\n",
    "xOutput = layers.TimeDistributed(layers.Dense(1, activation ='sigmoid'))(xBiLstm) # 각 스텝에서 cost가 전송되고, 오류가 다음 step으로 전송됨."
   ]
  },
  {
   "cell_type": "markdown",
   "metadata": {},
   "source": [
    "## (8) 학습 - 10 KFold"
   ]
  },
  {
   "cell_type": "code",
   "execution_count": 11,
   "metadata": {
    "scrolled": false
   },
   "outputs": [
    {
     "name": "stdout",
     "output_type": "stream",
     "text": [
      "Model: \"model\"\n",
      "_________________________________________________________________\n",
      "Layer (type)                 Output Shape              Param #   \n",
      "=================================================================\n",
      "input_1 (InputLayer)         [(None, 16, 256)]         0         \n",
      "_________________________________________________________________\n",
      "bidirectional (Bidirectional (None, 16, 48)            53952     \n",
      "_________________________________________________________________\n",
      "time_distributed (TimeDistri (None, 16, 1)             49        \n",
      "=================================================================\n",
      "Total params: 54,001\n",
      "Trainable params: 54,001\n",
      "Non-trainable params: 0\n",
      "_________________________________________________________________\n",
      "======Training stage======\n",
      "Train on 108955 samples\n",
      "Epoch 1/10\n",
      "108896/108955 [============================>.] - ETA: 0s - loss: 0.0244 - accuracy: 0.9931WARNING:tensorflow:Early stopping conditioned on metric `val_loss` which is not available. Available metrics are: loss,accuracy\n",
      "108955/108955 [==============================] - 66s 603us/sample - loss: 0.0244 - accuracy: 0.9931\n",
      "Epoch 2/10\n",
      "108896/108955 [============================>.] - ETA: 0s - loss: 0.0086 - accuracy: 0.9973WARNING:tensorflow:Early stopping conditioned on metric `val_loss` which is not available. Available metrics are: loss,accuracy\n",
      "108955/108955 [==============================] - 65s 601us/sample - loss: 0.0086 - accuracy: 0.9973\n",
      "Epoch 3/10\n",
      "108928/108955 [============================>.] - ETA: 0s - loss: 0.0067 - accuracy: 0.9979WARNING:tensorflow:Early stopping conditioned on metric `val_loss` which is not available. Available metrics are: loss,accuracy\n",
      "108955/108955 [==============================] - 68s 626us/sample - loss: 0.0067 - accuracy: 0.9979\n",
      "Epoch 4/10\n",
      "108864/108955 [============================>.] - ETA: 0s - loss: 0.0056 - accuracy: 0.9983WARNING:tensorflow:Early stopping conditioned on metric `val_loss` which is not available. Available metrics are: loss,accuracy\n",
      "108955/108955 [==============================] - 80s 737us/sample - loss: 0.0056 - accuracy: 0.9983\n",
      "Epoch 5/10\n",
      "108896/108955 [============================>.] - ETA: 0s - loss: 0.0049 - accuracy: 0.9985WARNING:tensorflow:Early stopping conditioned on metric `val_loss` which is not available. Available metrics are: loss,accuracy\n",
      "108955/108955 [==============================] - 81s 742us/sample - loss: 0.0049 - accuracy: 0.9985\n",
      "Epoch 6/10\n",
      "108864/108955 [============================>.] - ETA: 0s - loss: 0.0044 - accuracy: 0.9987WARNING:tensorflow:Early stopping conditioned on metric `val_loss` which is not available. Available metrics are: loss,accuracy\n",
      "108955/108955 [==============================] - 80s 731us/sample - loss: 0.0044 - accuracy: 0.9987\n",
      "Epoch 7/10\n",
      "108896/108955 [============================>.] - ETA: 0s - loss: 0.0040 - accuracy: 0.9988WARNING:tensorflow:Early stopping conditioned on metric `val_loss` which is not available. Available metrics are: loss,accuracy\n",
      "108955/108955 [==============================] - 79s 729us/sample - loss: 0.0040 - accuracy: 0.9988\n",
      "Epoch 8/10\n",
      "108928/108955 [============================>.] - ETA: 0s - loss: 0.0037 - accuracy: 0.9989WARNING:tensorflow:Early stopping conditioned on metric `val_loss` which is not available. Available metrics are: loss,accuracy\n",
      "108955/108955 [==============================] - 79s 729us/sample - loss: 0.0037 - accuracy: 0.9989\n",
      "Epoch 9/10\n",
      "108864/108955 [============================>.] - ETA: 0s - loss: 0.0034 - accuracy: 0.9990 ETA: 0s - loss: 0.0034 - accuracy: WARNING:tensorflow:Early stopping conditioned on metric `val_loss` which is not available. Available metrics are: loss,accuracy\n",
      "108955/108955 [==============================] - 61s 557us/sample - loss: 0.0034 - accuracy: 0.9990\n",
      "Epoch 10/10\n",
      "108896/108955 [============================>.] - ETA: 0s - loss: 0.0032 - accuracy: 0.9991WARNING:tensorflow:Early stopping conditioned on metric `val_loss` which is not available. Available metrics are: loss,accuracy\n",
      "108955/108955 [==============================] - 77s 703us/sample - loss: 0.0032 - accuracy: 0.9991\n"
     ]
    },
    {
     "data": {
      "text/plain": [
       "<tensorflow.python.keras.callbacks.History at 0x1a2e69ef408>"
      ]
     },
     "execution_count": 11,
     "metadata": {},
     "output_type": "execute_result"
    },
    {
     "name": "stdout",
     "output_type": "stream",
     "text": [
      "accuracy_score 0.9985648798215908\n",
      "recall_score 0.967391304347826\n",
      "precision_score 0.9669343410486537\n",
      "f1_score 0.9671627687219466\n",
      "Model: \"model_1\"\n",
      "_________________________________________________________________\n",
      "Layer (type)                 Output Shape              Param #   \n",
      "=================================================================\n",
      "input_1 (InputLayer)         [(None, 16, 256)]         0         \n",
      "_________________________________________________________________\n",
      "bidirectional (Bidirectional (None, 16, 48)            53952     \n",
      "_________________________________________________________________\n",
      "time_distributed (TimeDistri (None, 16, 1)             49        \n",
      "=================================================================\n",
      "Total params: 54,001\n",
      "Trainable params: 54,001\n",
      "Non-trainable params: 0\n",
      "_________________________________________________________________\n",
      "======Training stage======\n",
      "Train on 108955 samples\n",
      "Epoch 1/10\n",
      "108864/108955 [============================>.] - ETA: 0s - loss: 0.0031 - accuracy: 0.9991WARNING:tensorflow:Early stopping conditioned on metric `val_loss` which is not available. Available metrics are: loss,accuracy\n",
      "108955/108955 [==============================] - 93s 857us/sample - loss: 0.0031 - accuracy: 0.9991\n",
      "Epoch 2/10\n",
      "108928/108955 [============================>.] - ETA: 0s - loss: 0.0029 - accuracy: 0.9991 ETA: 0s - loss: 0.0029 WARNING:tensorflow:Early stopping conditioned on metric `val_loss` which is not available. Available metrics are: loss,accuracy\n",
      "108955/108955 [==============================] - 67s 619us/sample - loss: 0.0029 - accuracy: 0.9991\n",
      "Epoch 3/10\n",
      "108928/108955 [============================>.] - ETA: 0s - loss: 0.0027 - accuracy: 0.9992 ETA: 1s - loss: 0.002 - ETA: WARNING:tensorflow:Early stopping conditioned on metric `val_loss` which is not available. Available metrics are: loss,accuracy\n",
      "108955/108955 [==============================] - 82s 755us/sample - loss: 0.0027 - accuracy: 0.9992\n",
      "Epoch 4/10\n",
      "108896/108955 [============================>.] - ETA: 0s - loss: 0.0026 - accuracy: 0.9992WARNING:tensorflow:Early stopping conditioned on metric `val_loss` which is not available. Available metrics are: loss,accuracy\n",
      "108955/108955 [==============================] - 82s 757us/sample - loss: 0.0026 - accuracy: 0.9992\n",
      "Epoch 5/10\n",
      "108896/108955 [============================>.] - ETA: 0s - loss: 0.0025 - accuracy: 0.9993 ETA: 0s - loss: 0.0025 - accuracy:  - ETA: 0s - loss: 0.0025 - acWARNING:tensorflow:Early stopping conditioned on metric `val_loss` which is not available. Available metrics are: loss,accuracy\n",
      "108955/108955 [==============================] - 75s 684us/sample - loss: 0.0025 - accuracy: 0.9993\n",
      "Epoch 6/10\n",
      "108928/108955 [============================>.] - ETA: 0s - loss: 0.0023 - accuracy: 0.9993 ETA: 2s - loss: 0.0023 - ac - ETA: 0s - losWARNING:tensorflow:Early stopping conditioned on metric `val_loss` which is not available. Available metrics are: loss,accuracy\n",
      "108955/108955 [==============================] - 85s 783us/sample - loss: 0.0023 - accuracy: 0.9993\n",
      "Epoch 7/10\n",
      "108896/108955 [============================>.] - ETA: 0s - loss: 0.0022 - accuracy: 0.9994WARNING:tensorflow:Early stopping conditioned on metric `val_loss` which is not available. Available metrics are: loss,accuracy\n",
      "108955/108955 [==============================] - 84s 772us/sample - loss: 0.0022 - accuracy: 0.9994\n",
      "Epoch 8/10\n",
      "108864/108955 [============================>.] - ETA: 0s - loss: 0.0021 - accuracy: 0.9994WARNING:tensorflow:Early stopping conditioned on metric `val_loss` which is not available. Available metrics are: loss,accuracy\n",
      "108955/108955 [==============================] - 86s 785us/sample - loss: 0.0021 - accuracy: 0.9994\n",
      "Epoch 9/10\n",
      "108864/108955 [============================>.] - ETA: 0s - loss: 0.0020 - accuracy: 0.9994WARNING:tensorflow:Early stopping conditioned on metric `val_loss` which is not available. Available metrics are: loss,accuracy\n",
      "108955/108955 [==============================] - 65s 599us/sample - loss: 0.0020 - accuracy: 0.9994\n",
      "Epoch 10/10\n",
      "108864/108955 [============================>.] - ETA: 0s - loss: 0.0019 - accuracy: 0.9994WARNING:tensorflow:Early stopping conditioned on metric `val_loss` which is not available. Available metrics are: loss,accuracy\n",
      "108955/108955 [==============================] - 76s 699us/sample - loss: 0.0019 - accuracy: 0.9994\n"
     ]
    },
    {
     "data": {
      "text/plain": [
       "<tensorflow.python.keras.callbacks.History at 0x1a300656f08>"
      ]
     },
     "execution_count": 11,
     "metadata": {},
     "output_type": "execute_result"
    },
    {
     "name": "stdout",
     "output_type": "stream",
     "text": [
      "accuracy_score 0.9990914347071942\n",
      "recall_score 0.9780270084687571\n",
      "precision_score 0.9816218699747301\n",
      "f1_score 0.979821141939922\n",
      "Model: \"model_2\"\n",
      "_________________________________________________________________\n",
      "Layer (type)                 Output Shape              Param #   \n",
      "=================================================================\n",
      "input_1 (InputLayer)         [(None, 16, 256)]         0         \n",
      "_________________________________________________________________\n",
      "bidirectional (Bidirectional (None, 16, 48)            53952     \n",
      "_________________________________________________________________\n",
      "time_distributed (TimeDistri (None, 16, 1)             49        \n",
      "=================================================================\n",
      "Total params: 54,001\n",
      "Trainable params: 54,001\n",
      "Non-trainable params: 0\n",
      "_________________________________________________________________\n",
      "======Training stage======\n",
      "Train on 108956 samples\n",
      "Epoch 1/10\n",
      "108896/108956 [============================>.] - ETA: 0s - loss: 0.0020 - accuracy: 0.9994WARNING:tensorflow:Early stopping conditioned on metric `val_loss` which is not available. Available metrics are: loss,accuracy\n",
      "108956/108956 [==============================] - 82s 754us/sample - loss: 0.0020 - accuracy: 0.9994\n",
      "Epoch 2/10\n",
      "108864/108956 [============================>.] - ETA: 0s - loss: 0.0019 - accuracy: 0.9995WARNING:tensorflow:Early stopping conditioned on metric `val_loss` which is not available. Available metrics are: loss,accuracy\n",
      "108956/108956 [==============================] - 85s 781us/sample - loss: 0.0019 - accuracy: 0.9995\n",
      "Epoch 3/10\n",
      "108896/108956 [============================>.] - ETA: 0s - loss: 0.0018 - accuracy: 0.9995WARNING:tensorflow:Early stopping conditioned on metric `val_loss` which is not available. Available metrics are: loss,accuracy\n",
      "108956/108956 [==============================] - 85s 782us/sample - loss: 0.0018 - accuracy: 0.9995\n",
      "Epoch 4/10\n",
      "108864/108956 [============================>.] - ETA: 0s - loss: 0.0017 - accuracy: 0.9995WARNING:tensorflow:Early stopping conditioned on metric `val_loss` which is not available. Available metrics are: loss,accuracy\n",
      "108956/108956 [==============================] - 83s 766us/sample - loss: 0.0017 - accuracy: 0.9995\n",
      "Epoch 5/10\n",
      "108928/108956 [============================>.] - ETA: 0s - loss: 0.0017 - accuracy: 0.9995WARNING:tensorflow:Early stopping conditioned on metric `val_loss` which is not available. Available metrics are: loss,accuracy\n",
      "108956/108956 [==============================] - 84s 768us/sample - loss: 0.0017 - accuracy: 0.9995\n",
      "Epoch 6/10\n",
      "108896/108956 [============================>.] - ETA: 0s - loss: 0.0016 - accuracy: 0.9995 ETA: 0s - los - ETA: 0s - loss: 0.0016 - accuracy: 0.9995WARNING:tensorflow:Early stopping conditioned on metric `val_loss` which is not available. Available metrics are: loss,accuracy\n",
      "108956/108956 [==============================] - 83s 766us/sample - loss: 0.0016 - accuracy: 0.9995\n",
      "Epoch 7/10\n",
      "108928/108956 [============================>.] - ETA: 0s - loss: 0.0016 - accuracy: 0.9996WARNING:tensorflow:Early stopping conditioned on metric `val_loss` which is not available. Available metrics are: loss,accuracy\n",
      "108956/108956 [==============================] - 84s 769us/sample - loss: 0.0016 - accuracy: 0.9996\n",
      "Epoch 8/10\n",
      "108928/108956 [============================>.] - ETA: 0s - loss: 0.0015 - accuracy: 0.9996 ETA: 3sWARNING:tensorflow:Early stopping conditioned on metric `val_loss` which is not available. Available metrics are: loss,accuracy\n",
      "108956/108956 [==============================] - 74s 681us/sample - loss: 0.0015 - accuracy: 0.9996\n",
      "Epoch 9/10\n",
      "108864/108956 [============================>.] - ETA: 0s - loss: 0.0014 - accuracy: 0.9996WARNING:tensorflow:Early stopping conditioned on metric `val_loss` which is not available. Available metrics are: loss,accuracy\n",
      "108956/108956 [==============================] - 60s 550us/sample - loss: 0.0014 - accuracy: 0.9996\n",
      "Epoch 10/10\n",
      "108896/108956 [============================>.] - ETA: 0s - loss: 0.0014 - accuracy: 0.9996WARNING:tensorflow:Early stopping conditioned on metric `val_loss` which is not available. Available metrics are: loss,accuracy\n",
      "108956/108956 [==============================] - 64s 588us/sample - loss: 0.0014 - accuracy: 0.9996\n"
     ]
    },
    {
     "data": {
      "text/plain": [
       "<tensorflow.python.keras.callbacks.History at 0x1a3007d3508>"
      ]
     },
     "execution_count": 11,
     "metadata": {},
     "output_type": "execute_result"
    },
    {
     "name": "stdout",
     "output_type": "stream",
     "text": [
      "accuracy_score 0.9991068478440442\n",
      "recall_score 0.9721566776781501\n",
      "precision_score 0.9868263473053892\n",
      "f1_score 0.9794365862355878\n",
      "Model: \"model_3\"\n",
      "_________________________________________________________________\n",
      "Layer (type)                 Output Shape              Param #   \n",
      "=================================================================\n",
      "input_1 (InputLayer)         [(None, 16, 256)]         0         \n",
      "_________________________________________________________________\n",
      "bidirectional (Bidirectional (None, 16, 48)            53952     \n",
      "_________________________________________________________________\n",
      "time_distributed (TimeDistri (None, 16, 1)             49        \n",
      "=================================================================\n",
      "Total params: 54,001\n",
      "Trainable params: 54,001\n",
      "Non-trainable params: 0\n",
      "_________________________________________________________________\n",
      "======Training stage======\n",
      "Train on 108956 samples\n",
      "Epoch 1/10\n",
      "108864/108956 [============================>.] - ETA: 0s - loss: 0.0015 - accuracy: 0.9996WARNING:tensorflow:Early stopping conditioned on metric `val_loss` which is not available. Available metrics are: loss,accuracy\n",
      "108956/108956 [==============================] - 102s 938us/sample - loss: 0.0015 - accuracy: 0.9996\n",
      "Epoch 2/10\n",
      "108896/108956 [============================>.] - ETA: 0s - loss: 0.0014 - accuracy: 0.9996WARNING:tensorflow:Early stopping conditioned on metric `val_loss` which is not available. Available metrics are: loss,accuracy\n",
      "108956/108956 [==============================] - 84s 768us/sample - loss: 0.0014 - accuracy: 0.9996\n",
      "Epoch 3/10\n",
      "108864/108956 [============================>.] - ETA: 0s - loss: 0.0014 - accuracy: 0.9996WARNING:tensorflow:Early stopping conditioned on metric `val_loss` which is not available. Available metrics are: loss,accuracy\n",
      "108956/108956 [==============================] - 84s 771us/sample - loss: 0.0014 - accuracy: 0.9996\n",
      "Epoch 4/10\n",
      "108896/108956 [============================>.] - ETA: 0s - loss: 0.0013 - accuracy: 0.9996WARNING:tensorflow:Early stopping conditioned on metric `val_loss` which is not available. Available metrics are: loss,accuracy\n",
      "108956/108956 [==============================] - 83s 765us/sample - loss: 0.0013 - accuracy: 0.9996\n",
      "Epoch 5/10\n",
      "108928/108956 [============================>.] - ETA: 0s - loss: 0.0013 - accuracy: 0.9996WARNING:tensorflow:Early stopping conditioned on metric `val_loss` which is not available. Available metrics are: loss,accuracy\n",
      "108956/108956 [==============================] - 82s 754us/sample - loss: 0.0013 - accuracy: 0.9996\n",
      "Epoch 6/10\n",
      "108896/108956 [============================>.] - ETA: 0s - loss: 0.0012 - accuracy: 0.9996WARNING:tensorflow:Early stopping conditioned on metric `val_loss` which is not available. Available metrics are: loss,accuracy\n",
      "108956/108956 [==============================] - 83s 758us/sample - loss: 0.0012 - accuracy: 0.9996\n",
      "Epoch 7/10\n",
      "108864/108956 [============================>.] - ETA: 0s - loss: 0.0012 - accuracy: 0.9997WARNING:tensorflow:Early stopping conditioned on metric `val_loss` which is not available. Available metrics are: loss,accuracy\n",
      "108956/108956 [==============================] - 79s 722us/sample - loss: 0.0012 - accuracy: 0.9997\n",
      "Epoch 8/10\n",
      "108864/108956 [============================>.] - ETA: 0s - loss: 0.0011 - accuracy: 0.9997 ETA: 0s - loss: 0.0011 - accuracy: 0.WARNING:tensorflow:Early stopping conditioned on metric `val_loss` which is not available. Available metrics are: loss,accuracy\n",
      "108956/108956 [==============================] - 69s 637us/sample - loss: 0.0011 - accuracy: 0.9997\n",
      "Epoch 9/10\n",
      "108896/108956 [============================>.] - ETA: 0s - loss: 0.0011 - accuracy: 0.9997WARNING:tensorflow:Early stopping conditioned on metric `val_loss` which is not available. Available metrics are: loss,accuracy\n",
      "108956/108956 [==============================] - 71s 655us/sample - loss: 0.0011 - accuracy: 0.9997\n",
      "Epoch 10/10\n",
      "108896/108956 [============================>.] - ETA: 0s - loss: 0.0011 - accuracy: 0.9997     - ETWARNING:tensorflow:Early stopping conditioned on metric `val_loss` which is not available. Available metrics are: loss,accuracy\n",
      "108956/108956 [==============================] - 78s 720us/sample - loss: 0.0011 - accuracy: 0.9997\n"
     ]
    },
    {
     "data": {
      "text/plain": [
       "<tensorflow.python.keras.callbacks.History at 0x1a300f49d08>"
      ]
     },
     "execution_count": 11,
     "metadata": {},
     "output_type": "execute_result"
    },
    {
     "name": "stdout",
     "output_type": "stream",
     "text": [
      "accuracy_score 0.9992410788038989\n",
      "recall_score 0.9844108207244383\n",
      "precision_score 0.9819345986736794\n",
      "f1_score 0.9831711505437893\n",
      "Model: \"model_4\"\n",
      "_________________________________________________________________\n",
      "Layer (type)                 Output Shape              Param #   \n",
      "=================================================================\n",
      "input_1 (InputLayer)         [(None, 16, 256)]         0         \n",
      "_________________________________________________________________\n",
      "bidirectional (Bidirectional (None, 16, 48)            53952     \n",
      "_________________________________________________________________\n",
      "time_distributed (TimeDistri (None, 16, 1)             49        \n",
      "=================================================================\n",
      "Total params: 54,001\n",
      "Trainable params: 54,001\n",
      "Non-trainable params: 0\n",
      "_________________________________________________________________\n",
      "======Training stage======\n",
      "Train on 108956 samples\n",
      "Epoch 1/10\n",
      "108928/108956 [============================>.] - ETA: 0s - loss: 0.0012 - accuracy: 0.9997 - ETA: 18s - losWARNING:tensorflow:Early stopping conditioned on metric `val_loss` which is not available. Available metrics are: loss,accuracy\n",
      "108956/108956 [==============================] - 97s 889us/sample - loss: 0.0012 - accuracy: 0.9997\n",
      "Epoch 2/10\n",
      "108928/108956 [============================>.] - ETA: 0s - loss: 0.0011 - accuracy: 0.9997 ETA: 0s - loss: 0.001WARNING:tensorflow:Early stopping conditioned on metric `val_loss` which is not available. Available metrics are: loss,accuracy\n",
      "108956/108956 [==============================] - 84s 770us/sample - loss: 0.0011 - accuracy: 0.9997\n",
      "Epoch 3/10\n",
      "108864/108956 [============================>.] - ETA: 0s - loss: 0.0011 - accuracy: 0.9997WARNING:tensorflow:Early stopping conditioned on metric `val_loss` which is not available. Available metrics are: loss,accuracy\n",
      "108956/108956 [==============================] - 76s 697us/sample - loss: 0.0011 - accuracy: 0.9997\n",
      "Epoch 4/10\n",
      "108896/108956 [============================>.] - ETA: 0s - loss: 0.0010 - accuracy: 0.9997WARNING:tensorflow:Early stopping conditioned on metric `val_loss` which is not available. Available metrics are: loss,accuracy\n",
      "108956/108956 [==============================] - 60s 549us/sample - loss: 0.0010 - accuracy: 0.9997\n",
      "Epoch 5/10\n",
      "108928/108956 [============================>.] - ETA: 0s - loss: 9.7480e-04 - accuracy: 0.9997WARNING:tensorflow:Early stopping conditioned on metric `val_loss` which is not available. Available metrics are: loss,accuracy\n",
      "108956/108956 [==============================] - 61s 556us/sample - loss: 9.7456e-04 - accuracy: 0.9997\n",
      "Epoch 6/10\n",
      "108896/108956 [============================>.] - ETA: 0s - loss: 9.4340e-04 - accuracy: 0.9997WARNING:tensorflow:Early stopping conditioned on metric `val_loss` which is not available. Available metrics are: loss,accuracy\n",
      "108956/108956 [==============================] - 60s 552us/sample - loss: 9.4296e-04 - accuracy: 0.9997\n",
      "Epoch 7/10\n",
      "108896/108956 [============================>.] - ETA: 0s - loss: 9.1388e-04 - accuracy: 0.9997 ETA: 0s - loss:WARNING:tensorflow:Early stopping conditioned on metric `val_loss` which is not available. Available metrics are: loss,accuracy\n",
      "108956/108956 [==============================] - 60s 548us/sample - loss: 9.1348e-04 - accuracy: 0.9997\n",
      "Epoch 8/10\n",
      "108896/108956 [============================>.] - ETA: 0s - loss: 8.9520e-04 - accuracy: 0.9998WARNING:tensorflow:Early stopping conditioned on metric `val_loss` which is not available. Available metrics are: loss,accuracy\n",
      "108956/108956 [==============================] - 56s 515us/sample - loss: 8.9474e-04 - accuracy: 0.9998\n",
      "Epoch 9/10\n",
      "108896/108956 [============================>.] - ETA: 0s - loss: 8.1518e-04 - accuracy: 0.9998WARNING:tensorflow:Early stopping conditioned on metric `val_loss` which is not available. Available metrics are: loss,accuracy\n",
      "108956/108956 [==============================] - 57s 521us/sample - loss: 8.1474e-04 - accuracy: 0.9998\n",
      "Epoch 10/10\n",
      "108832/108956 [============================>.] - ETA: 0s - loss: 8.1590e-04 - accuracy: 0.9998WARNING:tensorflow:Early stopping conditioned on metric `val_loss` which is not available. Available metrics are: loss,accuracy\n",
      "108956/108956 [==============================] - 57s 524us/sample - loss: 8.1521e-04 - accuracy: 0.9998\n"
     ]
    },
    {
     "data": {
      "text/plain": [
       "<tensorflow.python.keras.callbacks.History at 0x1a2e8e1bfc8>"
      ]
     },
     "execution_count": 11,
     "metadata": {},
     "output_type": "execute_result"
    },
    {
     "name": "stdout",
     "output_type": "stream",
     "text": [
      "accuracy_score 0.9993959606806542\n",
      "recall_score 0.9837699976814283\n",
      "precision_score 0.9890442890442891\n",
      "f1_score 0.9864000929908171\n",
      "Model: \"model_5\"\n",
      "_________________________________________________________________\n",
      "Layer (type)                 Output Shape              Param #   \n",
      "=================================================================\n",
      "input_1 (InputLayer)         [(None, 16, 256)]         0         \n",
      "_________________________________________________________________\n",
      "bidirectional (Bidirectional (None, 16, 48)            53952     \n",
      "_________________________________________________________________\n",
      "time_distributed (TimeDistri (None, 16, 1)             49        \n",
      "=================================================================\n",
      "Total params: 54,001\n",
      "Trainable params: 54,001\n",
      "Non-trainable params: 0\n",
      "_________________________________________________________________\n",
      "======Training stage======\n",
      "Train on 108956 samples\n",
      "Epoch 1/10\n",
      "108896/108956 [============================>.] - ETA: 0s - loss: 0.0010 - accuracy: 0.9997WARNING:tensorflow:Early stopping conditioned on metric `val_loss` which is not available. Available metrics are: loss,accuracy\n",
      "108956/108956 [==============================] - 71s 655us/sample - loss: 0.0010 - accuracy: 0.9997\n",
      "Epoch 2/10\n",
      "108928/108956 [============================>.] - ETA: 0s - loss: 9.7148e-04 - accuracy: 0.9997 ETA: WARNING:tensorflow:Early stopping conditioned on metric `val_loss` which is not available. Available metrics are: loss,accuracy\n",
      "108956/108956 [==============================] - 60s 553us/sample - loss: 9.7206e-04 - accuracy: 0.9997\n",
      "Epoch 3/10\n",
      "108864/108956 [============================>.] - ETA: 0s - loss: 8.8164e-04 - accuracy: 0.9998WARNING:tensorflow:Early stopping conditioned on metric `val_loss` which is not available. Available metrics are: loss,accuracy\n",
      "108956/108956 [==============================] - 61s 563us/sample - loss: 8.8185e-04 - accuracy: 0.9998\n",
      "Epoch 4/10\n",
      "108928/108956 [============================>.] - ETA: 0s - loss: 8.4397e-04 - accuracy: 0.9998WARNING:tensorflow:Early stopping conditioned on metric `val_loss` which is not available. Available metrics are: loss,accuracy\n",
      "108956/108956 [==============================] - 55s 503us/sample - loss: 8.4377e-04 - accuracy: 0.9998\n",
      "Epoch 5/10\n",
      "108864/108956 [============================>.] - ETA: 0s - loss: 8.0892e-04 - accuracy: 0.9998WARNING:tensorflow:Early stopping conditioned on metric `val_loss` which is not available. Available metrics are: loss,accuracy\n",
      "108956/108956 [==============================] - 61s 558us/sample - loss: 8.0829e-04 - accuracy: 0.9998\n",
      "Epoch 6/10\n",
      "108928/108956 [============================>.] - ETA: 0s - loss: 7.5092e-04 - accuracy: 0.9998WARNING:tensorflow:Early stopping conditioned on metric `val_loss` which is not available. Available metrics are: loss,accuracy\n",
      "108956/108956 [==============================] - 61s 558us/sample - loss: 7.5073e-04 - accuracy: 0.9998\n",
      "Epoch 7/10\n",
      "108928/108956 [============================>.] - ETA: 0s - loss: 7.8108e-04 - accuracy: 0.9998WARNING:tensorflow:Early stopping conditioned on metric `val_loss` which is not available. Available metrics are: loss,accuracy\n",
      "108956/108956 [==============================] - 60s 555us/sample - loss: 7.8091e-04 - accuracy: 0.9998\n",
      "Epoch 8/10\n",
      "108864/108956 [============================>.] - ETA: 0s - loss: 7.5706e-04 - accuracy: 0.9998WARNING:tensorflow:Early stopping conditioned on metric `val_loss` which is not available. Available metrics are: loss,accuracy\n",
      "108956/108956 [==============================] - 61s 564us/sample - loss: 7.5686e-04 - accuracy: 0.9998\n",
      "Epoch 9/10\n",
      "108832/108956 [============================>.] - ETA: 0s - loss: 6.8694e-04 - accuracy: 0.9998WARNING:tensorflow:Early stopping conditioned on metric `val_loss` which is not available. Available metrics are: loss,accuracy\n",
      "108956/108956 [==============================] - 56s 517us/sample - loss: 6.8623e-04 - accuracy: 0.9998\n",
      "Epoch 10/10\n",
      "108896/108956 [============================>.] - ETA: 0s - loss: 7.1173e-04 - accuracy: 0.9998WARNING:tensorflow:Early stopping conditioned on metric `val_loss` which is not available. Available metrics are: loss,accuracy\n",
      "108956/108956 [==============================] - 55s 501us/sample - loss: 7.1143e-04 - accuracy: 0.9998\n"
     ]
    },
    {
     "data": {
      "text/plain": [
       "<tensorflow.python.keras.callbacks.History at 0x1a3010e8f88>"
      ]
     },
     "execution_count": 11,
     "metadata": {},
     "output_type": "execute_result"
    },
    {
     "name": "stdout",
     "output_type": "stream",
     "text": [
      "accuracy_score 0.9994734016190319\n",
      "recall_score 0.9856301531213192\n",
      "precision_score 0.9902958579881657\n",
      "f1_score 0.9879574970484062\n",
      "Model: \"model_6\"\n",
      "_________________________________________________________________\n",
      "Layer (type)                 Output Shape              Param #   \n",
      "=================================================================\n",
      "input_1 (InputLayer)         [(None, 16, 256)]         0         \n",
      "_________________________________________________________________\n",
      "bidirectional (Bidirectional (None, 16, 48)            53952     \n",
      "_________________________________________________________________\n",
      "time_distributed (TimeDistri (None, 16, 1)             49        \n",
      "=================================================================\n",
      "Total params: 54,001\n",
      "Trainable params: 54,001\n",
      "Non-trainable params: 0\n",
      "_________________________________________________________________\n",
      "======Training stage======\n",
      "Train on 108956 samples\n",
      "Epoch 1/10\n",
      "108864/108956 [============================>.] - ETA: 0s - loss: 8.1198e-04 - accuracy: 0.9998WARNING:tensorflow:Early stopping conditioned on metric `val_loss` which is not available. Available metrics are: loss,accuracy\n",
      "108956/108956 [==============================] - 72s 659us/sample - loss: 8.1145e-04 - accuracy: 0.9998\n",
      "Epoch 2/10\n",
      "108864/108956 [============================>.] - ETA: 0s - loss: 7.5367e-04 - accuracy: 0.9998WARNING:tensorflow:Early stopping conditioned on metric `val_loss` which is not available. Available metrics are: loss,accuracy\n",
      "108956/108956 [==============================] - 60s 554us/sample - loss: 7.5305e-04 - accuracy: 0.9998\n",
      "Epoch 3/10\n",
      "108896/108956 [============================>.] - ETA: 0s - loss: 6.5991e-04 - accuracy: 0.9998WARNING:tensorflow:Early stopping conditioned on metric `val_loss` which is not available. Available metrics are: loss,accuracy\n",
      "108956/108956 [==============================] - 61s 555us/sample - loss: 6.5956e-04 - accuracy: 0.9998\n",
      "Epoch 4/10\n",
      "108896/108956 [============================>.] - ETA: 0s - loss: 6.6630e-04 - accuracy: 0.9998 ETA: 0s - loss: 6.7078e - ETA: 0s - loss: 6.6688e-04 - accuracy: 0.99WARNING:tensorflow:Early stopping conditioned on metric `val_loss` which is not available. Available metrics are: loss,accuracy\n",
      "108956/108956 [==============================] - 60s 554us/sample - loss: 6.6595e-04 - accuracy: 0.9998\n",
      "Epoch 5/10\n",
      "108864/108956 [============================>.] - ETA: 0s - loss: 6.2078e-04 - accuracy: 0.9998WARNING:tensorflow:Early stopping conditioned on metric `val_loss` which is not available. Available metrics are: loss,accuracy\n",
      "108956/108956 [==============================] - 60s 555us/sample - loss: 6.2037e-04 - accuracy: 0.9998\n",
      "Epoch 6/10\n",
      "108896/108956 [============================>.] - ETA: 0s - loss: 5.9350e-04 - accuracy: 0.9998 ETA: 0s - loss:WARNING:tensorflow:Early stopping conditioned on metric `val_loss` which is not available. Available metrics are: loss,accuracy\n",
      "108956/108956 [==============================] - 61s 556us/sample - loss: 5.9395e-04 - accuracy: 0.9998\n",
      "Epoch 7/10\n",
      "108832/108956 [============================>.] - ETA: 0s - loss: 5.5676e-04 - accuracy: 0.9998WARNING:tensorflow:Early stopping conditioned on metric `val_loss` which is not available. Available metrics are: loss,accuracy\n",
      "108956/108956 [==============================] - 56s 515us/sample - loss: 5.5969e-04 - accuracy: 0.9998\n",
      "Epoch 8/10\n",
      "108864/108956 [============================>.] - ETA: 0s - loss: 5.3064e-04 - accuracy: 0.9999WARNING:tensorflow:Early stopping conditioned on metric `val_loss` which is not available. Available metrics are: loss,accuracy\n",
      "108956/108956 [==============================] - 60s 552us/sample - loss: 5.3211e-04 - accuracy: 0.9999\n",
      "Epoch 9/10\n",
      "108928/108956 [============================>.] - ETA: 0s - loss: 5.2257e-04 - accuracy: 0.9999WARNING:tensorflow:Early stopping conditioned on metric `val_loss` which is not available. Available metrics are: loss,accuracy\n",
      "108956/108956 [==============================] - 56s 518us/sample - loss: 5.2244e-04 - accuracy: 0.9999\n",
      "Epoch 10/10\n",
      "108928/108956 [============================>.] - ETA: 0s - loss: 4.9636e-04 - accuracy: 0.9999WARNING:tensorflow:Early stopping conditioned on metric `val_loss` which is not available. Available metrics are: loss,accuracy\n",
      "108956/108956 [==============================] - 57s 524us/sample - loss: 4.9630e-04 - accuracy: 0.9999\n"
     ]
    },
    {
     "data": {
      "text/plain": [
       "<tensorflow.python.keras.callbacks.History at 0x1a3136d98c8>"
      ]
     },
     "execution_count": 11,
     "metadata": {},
     "output_type": "execute_result"
    },
    {
     "name": "stdout",
     "output_type": "stream",
     "text": [
      "accuracy_score 0.9994062861391045\n",
      "recall_score 0.9865850788420805\n",
      "precision_score 0.9863529411764705\n",
      "f1_score 0.9864689963525121\n",
      "Model: \"model_7\"\n",
      "_________________________________________________________________\n",
      "Layer (type)                 Output Shape              Param #   \n",
      "=================================================================\n",
      "input_1 (InputLayer)         [(None, 16, 256)]         0         \n",
      "_________________________________________________________________\n",
      "bidirectional (Bidirectional (None, 16, 48)            53952     \n",
      "_________________________________________________________________\n",
      "time_distributed (TimeDistri (None, 16, 1)             49        \n",
      "=================================================================\n",
      "Total params: 54,001\n",
      "Trainable params: 54,001\n",
      "Non-trainable params: 0\n",
      "_________________________________________________________________\n",
      "======Training stage======\n",
      "Train on 108956 samples\n",
      "Epoch 1/10\n",
      "108864/108956 [============================>.] - ETA: 0s - loss: 7.2874e-04 - accuracy: 0.9998WARNING:tensorflow:Early stopping conditioned on metric `val_loss` which is not available. Available metrics are: loss,accuracy\n",
      "108956/108956 [==============================] - 91s 838us/sample - loss: 7.2839e-04 - accuracy: 0.9998\n",
      "Epoch 2/10\n",
      "108928/108956 [============================>.] - ETA: 0s - loss: 5.7473e-04 - accuracy: 0.9998WARNING:tensorflow:Early stopping conditioned on metric `val_loss` which is not available. Available metrics are: loss,accuracy\n",
      "108956/108956 [==============================] - 73s 670us/sample - loss: 5.7468e-04 - accuracy: 0.9998\n",
      "Epoch 3/10\n",
      "108928/108956 [============================>.] - ETA: 0s - loss: 5.3164e-04 - accuracy: 0.9999WARNING:tensorflow:Early stopping conditioned on metric `val_loss` which is not available. Available metrics are: loss,accuracy\n",
      "108956/108956 [==============================] - 74s 678us/sample - loss: 5.3155e-04 - accuracy: 0.9999\n",
      "Epoch 4/10\n",
      "108896/108956 [============================>.] - ETA: 0s - loss: 5.3076e-04 - accuracy: 0.9999WARNING:tensorflow:Early stopping conditioned on metric `val_loss` which is not available. Available metrics are: loss,accuracy\n",
      "108956/108956 [==============================] - 78s 712us/sample - loss: 5.3048e-04 - accuracy: 0.9999\n",
      "Epoch 5/10\n",
      "108928/108956 [============================>.] - ETA: 0s - loss: 5.1806e-04 - accuracy: 0.9999 ETA: 0s - loss: 5.132WARNING:tensorflow:Early stopping conditioned on metric `val_loss` which is not available. Available metrics are: loss,accuracy\n",
      "108956/108956 [==============================] - 77s 711us/sample - loss: 5.1799e-04 - accuracy: 0.9999\n",
      "Epoch 6/10\n",
      "108896/108956 [============================>.] - ETA: 0s - loss: 5.0533e-04 - accuracy: 0.9999WARNING:tensorflow:Early stopping conditioned on metric `val_loss` which is not available. Available metrics are: loss,accuracy\n",
      "108956/108956 [==============================] - 79s 721us/sample - loss: 5.0508e-04 - accuracy: 0.9999\n",
      "Epoch 7/10\n",
      "108928/108956 [============================>.] - ETA: 0s - loss: 5.1422e-04 - accuracy: 0.9999WARNING:tensorflow:Early stopping conditioned on metric `val_loss` which is not available. Available metrics are: loss,accuracy\n",
      "108956/108956 [==============================] - 79s 726us/sample - loss: 5.1409e-04 - accuracy: 0.9999\n",
      "Epoch 8/10\n",
      "108896/108956 [============================>.] - ETA: 0s - loss: 4.4070e-04 - accuracy: 0.9999 ETA: 0s - loss: 4.4362e-0WARNING:tensorflow:Early stopping conditioned on metric `val_loss` which is not available. Available metrics are: loss,accuracy\n",
      "108956/108956 [==============================] - 76s 702us/sample - loss: 4.4046e-04 - accuracy: 0.9999\n",
      "Epoch 9/10\n",
      "108896/108956 [============================>.] - ETA: 0s - loss: 4.1291e-04 - accuracy: 0.9999WARNING:tensorflow:Early stopping conditioned on metric `val_loss` which is not available. Available metrics are: loss,accuracy\n",
      "108956/108956 [==============================] - 69s 631us/sample - loss: 4.1272e-04 - accuracy: 0.9999\n",
      "Epoch 10/10\n",
      "108896/108956 [============================>.] - ETA: 0s - loss: 4.5234e-04 - accuracy: 0.9999WARNING:tensorflow:Early stopping conditioned on metric `val_loss` which is not available. Available metrics are: loss,accuracy\n",
      "108956/108956 [==============================] - 77s 710us/sample - loss: 4.5210e-04 - accuracy: 0.9999\n"
     ]
    },
    {
     "data": {
      "text/plain": [
       "<tensorflow.python.keras.callbacks.History at 0x1a36dae0e88>"
      ]
     },
     "execution_count": 11,
     "metadata": {},
     "output_type": "execute_result"
    },
    {
     "name": "stdout",
     "output_type": "stream",
     "text": [
      "accuracy_score 0.9996489344126879\n",
      "recall_score 0.9922535211267606\n",
      "precision_score 0.9917878930079774\n",
      "f1_score 0.9920206524290073\n",
      "Model: \"model_8\"\n",
      "_________________________________________________________________\n",
      "Layer (type)                 Output Shape              Param #   \n",
      "=================================================================\n",
      "input_1 (InputLayer)         [(None, 16, 256)]         0         \n",
      "_________________________________________________________________\n",
      "bidirectional (Bidirectional (None, 16, 48)            53952     \n",
      "_________________________________________________________________\n",
      "time_distributed (TimeDistri (None, 16, 1)             49        \n",
      "=================================================================\n",
      "Total params: 54,001\n",
      "Trainable params: 54,001\n",
      "Non-trainable params: 0\n",
      "_________________________________________________________________\n",
      "======Training stage======\n",
      "Train on 108956 samples\n",
      "Epoch 1/10\n",
      "108896/108956 [============================>.] - ETA: 0s - loss: 5.6745e-04 - accuracy: 0.9999 ETA: 0s - loss: 5.7096e-04 WARNING:tensorflow:Early stopping conditioned on metric `val_loss` which is not available. Available metrics are: loss,accuracy\n",
      "108956/108956 [==============================] - 91s 831us/sample - loss: 5.6717e-04 - accuracy: 0.9999\n",
      "Epoch 2/10\n",
      "108928/108956 [============================>.] - ETA: 0s - loss: 5.3708e-04 - accuracy: 0.9999WARNING:tensorflow:Early stopping conditioned on metric `val_loss` which is not available. Available metrics are: loss,accuracy\n",
      "108956/108956 [==============================] - 76s 699us/sample - loss: 5.3694e-04 - accuracy: 0.9999\n",
      "Epoch 3/10\n",
      "108864/108956 [============================>.] - ETA: 0s - loss: 4.5469e-04 - accuracy: 0.9999 ETA: 0s - loss: 4.5751e-04 WARNING:tensorflow:Early stopping conditioned on metric `val_loss` which is not available. Available metrics are: loss,accuracy\n",
      "108956/108956 [==============================] - 76s 699us/sample - loss: 4.5448e-04 - accuracy: 0.9999\n",
      "Epoch 4/10\n",
      "108864/108956 [============================>.] - ETA: 0s - loss: 4.2274e-04 - accuracy: 0.9999WARNING:tensorflow:Early stopping conditioned on metric `val_loss` which is not available. Available metrics are: loss,accuracy\n",
      "108956/108956 [==============================] - 75s 691us/sample - loss: 4.2243e-04 - accuracy: 0.9999\n",
      "Epoch 5/10\n",
      "108928/108956 [============================>.] - ETA: 0s - loss: 4.1270e-04 - accuracy: 0.9999WARNING:tensorflow:Early stopping conditioned on metric `val_loss` which is not available. Available metrics are: loss,accuracy\n",
      "108956/108956 [==============================] - 76s 695us/sample - loss: 4.1259e-04 - accuracy: 0.9999\n",
      "Epoch 6/10\n",
      "108832/108956 [============================>.] - ETA: 0s - loss: 3.7011e-04 - accuracy: 0.9999WARNING:tensorflow:Early stopping conditioned on metric `val_loss` which is not available. Available metrics are: loss,accuracy\n",
      "108956/108956 [==============================] - 71s 653us/sample - loss: 3.6973e-04 - accuracy: 0.9999\n",
      "Epoch 7/10\n",
      "108928/108956 [============================>.] - ETA: 0s - loss: 3.3718e-04 - accuracy: 0.99 - ETA: 0s - loss: 3.3694e-04 - accuracy: 0.9999WARNING:tensorflow:Early stopping conditioned on metric `val_loss` which is not available. Available metrics are: loss,accuracy\n",
      "108956/108956 [==============================] - 72s 660us/sample - loss: 3.3686e-04 - accuracy: 0.9999\n",
      "Epoch 8/10\n",
      "108896/108956 [============================>.] - ETA: 0s - loss: 3.6960e-04 - accuracy: 0.9999WARNING:tensorflow:Early stopping conditioned on metric `val_loss` which is not available. Available metrics are: loss,accuracy\n",
      "108956/108956 [==============================] - 71s 655us/sample - loss: 3.6944e-04 - accuracy: 0.9999\n",
      "Epoch 9/10\n",
      "108864/108956 [============================>.] - ETA: 0s - loss: 3.3840e-04 - accuracy: 0.9999WARNING:tensorflow:Early stopping conditioned on metric `val_loss` which is not available. Available metrics are: loss,accuracy\n",
      "108956/108956 [==============================] - 72s 660us/sample - loss: 3.3847e-04 - accuracy: 0.9999\n",
      "Epoch 10/10\n",
      "108928/108956 [============================>.] - ETA: 0s - loss: 3.5041e-04 - accuracy: 0.9999WARNING:tensorflow:Early stopping conditioned on metric `val_loss` which is not available. Available metrics are: loss,accuracy\n",
      "108956/108956 [==============================] - 77s 705us/sample - loss: 3.5032e-04 - accuracy: 0.9999\n"
     ]
    },
    {
     "data": {
      "text/plain": [
       "<tensorflow.python.keras.callbacks.History at 0x1a318b0e508>"
      ]
     },
     "execution_count": 11,
     "metadata": {},
     "output_type": "execute_result"
    },
    {
     "name": "stdout",
     "output_type": "stream",
     "text": [
      "accuracy_score 0.9995405170989592\n",
      "recall_score 0.987312030075188\n",
      "precision_score 0.9917394382818031\n",
      "f1_score 0.9895207818203227\n",
      "Model: \"model_9\"\n",
      "_________________________________________________________________\n",
      "Layer (type)                 Output Shape              Param #   \n",
      "=================================================================\n",
      "input_1 (InputLayer)         [(None, 16, 256)]         0         \n",
      "_________________________________________________________________\n",
      "bidirectional (Bidirectional (None, 16, 48)            53952     \n",
      "_________________________________________________________________\n",
      "time_distributed (TimeDistri (None, 16, 1)             49        \n",
      "=================================================================\n",
      "Total params: 54,001\n",
      "Trainable params: 54,001\n",
      "Non-trainable params: 0\n",
      "_________________________________________________________________\n",
      "======Training stage======\n",
      "Train on 108956 samples\n",
      "Epoch 1/10\n",
      "108864/108956 [============================>.] - ETA: 0s - loss: 5.1390e-04 - accuracy: 0.9999WARNING:tensorflow:Early stopping conditioned on metric `val_loss` which is not available. Available metrics are: loss,accuracy\n",
      "108956/108956 [==============================] - 77s 710us/sample - loss: 5.1348e-04 - accuracy: 0.9999\n",
      "Epoch 2/10\n",
      "108864/108956 [============================>.] - ETA: 0s - loss: 4.3542e-04 - accuracy: 0.9999 ETA: 0s - loss: 4.3759e-04 - accuWARNING:tensorflow:Early stopping conditioned on metric `val_loss` which is not available. Available metrics are: loss,accuracy\n",
      "108956/108956 [==============================] - 71s 649us/sample - loss: 4.4293e-04 - accuracy: 0.9999\n",
      "Epoch 3/10\n",
      "108928/108956 [============================>.] - ETA: 0s - loss: 4.0886e-04 - accuracy: 0.9999WARNING:tensorflow:Early stopping conditioned on metric `val_loss` which is not available. Available metrics are: loss,accuracy\n",
      "108956/108956 [==============================] - 71s 654us/sample - loss: 4.0882e-04 - accuracy: 0.9999\n",
      "Epoch 4/10\n",
      "108896/108956 [============================>.] - ETA: 0s - loss: 3.4758e-04 - accuracy: 0.9999WARNING:tensorflow:Early stopping conditioned on metric `val_loss` which is not available. Available metrics are: loss,accuracy\n",
      "108956/108956 [==============================] - 72s 658us/sample - loss: 3.4739e-04 - accuracy: 0.9999\n",
      "Epoch 5/10\n",
      "108928/108956 [============================>.] - ETA: 0s - loss: 3.8467e-04 - accuracy: 0.9999WARNING:tensorflow:Early stopping conditioned on metric `val_loss` which is not available. Available metrics are: loss,accuracy\n",
      "108956/108956 [==============================] - 71s 650us/sample - loss: 3.8457e-04 - accuracy: 0.9999\n",
      "Epoch 6/10\n",
      "108928/108956 [============================>.] - ETA: 0s - loss: 3.0446e-04 - accuracy: 0.9999WARNING:tensorflow:Early stopping conditioned on metric `val_loss` which is not available. Available metrics are: loss,accuracy\n",
      "108956/108956 [==============================] - 61s 564us/sample - loss: 3.0439e-04 - accuracy: 0.9999\n",
      "Epoch 7/10\n",
      "108832/108956 [============================>.] - ETA: 0s - loss: 2.9419e-04 - accuracy: 0.9999WARNING:tensorflow:Early stopping conditioned on metric `val_loss` which is not available. Available metrics are: loss,accuracy\n",
      "108956/108956 [==============================] - 53s 490us/sample - loss: 2.9390e-04 - accuracy: 0.9999\n",
      "Epoch 8/10\n",
      "108832/108956 [============================>.] - ETA: 0s - loss: 3.1194e-04 - accuracy: 0.9999 ETA: 1s - loss:WARNING:tensorflow:Early stopping conditioned on metric `val_loss` which is not available. Available metrics are: loss,accuracy\n",
      "108956/108956 [==============================] - 50s 457us/sample - loss: 3.1220e-04 - accuracy: 0.9999\n",
      "Epoch 9/10\n",
      "108832/108956 [============================>.] - ETA: 0s - loss: 2.8248e-04 - accuracy: 0.9999WARNING:tensorflow:Early stopping conditioned on metric `val_loss` which is not available. Available metrics are: loss,accuracy\n",
      "108956/108956 [==============================] - 40s 366us/sample - loss: 2.8274e-04 - accuracy: 0.9999\n",
      "Epoch 10/10\n",
      "108864/108956 [============================>.] - ETA: 0s - loss: 2.4593e-04 - accuracy: 0.9999WARNING:tensorflow:Early stopping conditioned on metric `val_loss` which is not available. Available metrics are: loss,accuracy\n",
      "108956/108956 [==============================] - 40s 366us/sample - loss: 2.4573e-04 - accuracy: 0.9999\n"
     ]
    },
    {
     "data": {
      "text/plain": [
       "<tensorflow.python.keras.callbacks.History at 0x1a309340948>"
      ]
     },
     "execution_count": 11,
     "metadata": {},
     "output_type": "execute_result"
    },
    {
     "name": "stdout",
     "output_type": "stream",
     "text": [
      "accuracy_score 0.9997263753510656\n",
      "recall_score 0.9924152642806352\n",
      "precision_score 0.9950095057034221\n",
      "f1_score 0.9937106918238994\n",
      "\n",
      "K-fold cross validation Accuracy: [0.9985648798215908, 0.9990914347071942, 0.9991068478440442, 0.9992410788038989, 0.9993959606806542, 0.9994734016190319, 0.9994062861391045, 0.9996489344126879, 0.9995405170989592, 0.9997263753510656]\n",
      "\n",
      "K-fold cross validation Recall: [0.967391304347826, 0.9780270084687571, 0.9721566776781501, 0.9844108207244383, 0.9837699976814283, 0.9856301531213192, 0.9865850788420805, 0.9922535211267606, 0.987312030075188, 0.9924152642806352]\n",
      "\n",
      "K-fold cross validation Precision: [0.9669343410486537, 0.9816218699747301, 0.9868263473053892, 0.9819345986736794, 0.9890442890442891, 0.9902958579881657, 0.9863529411764705, 0.9917878930079774, 0.9917394382818031, 0.9950095057034221]\n",
      "\n",
      "K-fold cross validation F1-Score: [0.9671627687219466, 0.979821141939922, 0.9794365862355878, 0.9831711505437893, 0.9864000929908171, 0.9879574970484062, 0.9864689963525121, 0.9920206524290073, 0.9895207818203227, 0.9937106918238994]\n"
     ]
    }
   ],
   "source": [
    "# 교차검증 kfold\n",
    "from sklearn.model_selection import KFold\n",
    "\n",
    "# Accuracy, Precision, Recall, F1-Score\n",
    "from sklearn.metrics import accuracy_score, recall_score, precision_score, f1_score\n",
    "\n",
    "# Confusion Matrix, ROC Curve\n",
    "from sklearn.metrics import confusion_matrix, roc_auc_score\n",
    "\n",
    "# 최종 평가지표들 평균용\n",
    "accuracy, recall, precision, f1score, cm = [], [], [], [], []\n",
    "\n",
    "# 11. 교차검증 kfold - k.split - 10회 / K-Fold 객체 생성\n",
    "# kf = KFold(n_splits=10, shuffle=False, random_state=None) # KFold non shuffle 버전\n",
    "kf = KFold(n_splits=10, shuffle=True, random_state=None) # KFold non shuffle 버전\n",
    "\n",
    "for train, validation in kf.split(x_bc8_1, y_bc8_1):\n",
    "    model1 = models.Model(xInput, xOutput)\n",
    "    model1.compile(loss='binary_crossentropy', optimizer='rmsprop', metrics=['accuracy'])\n",
    "    model1.summary()\n",
    "    print('======Training stage======')\n",
    "    model1.fit(x_bc8_1[train],\n",
    "               y_bc8_1[train],\n",
    "               epochs = 10,\n",
    "               batch_size = 32,\n",
    "               callbacks=[early_stopping])\n",
    "    #k_accuracy = '%.4f' %(model1.evaluate(data_10000x[validation], data_10000y[validation])[1])\n",
    "\n",
    "# 12. 교차검증결과 predict - 검증셋들\n",
    "    # predict 값\n",
    "    k_pr = model1.predict(x_bc8_1[validation])\n",
    "    \n",
    "    # 테스트 predict 결과들 비교 (평가지표 보기위함)\n",
    "    pred = np.round(np.array(k_pr).flatten().tolist())\n",
    "    y_test = np.array(y_bc8_1[validation]).flatten().tolist()\n",
    "    \n",
    "# 13. 평가지표들 출력\n",
    "    ## 평가지표들\n",
    "    k_accuracy = float(accuracy_score(y_test, pred))\n",
    "    k_recall =  float(recall_score(y_test, pred))\n",
    "    k_precision = float(precision_score(y_test, pred))\n",
    "    k_f1_score = float(f1_score(y_test, pred))\n",
    "    #k_cm = float(confusion_matrix(y_test, pred))\n",
    "    \n",
    "    print('accuracy_score', k_accuracy)\n",
    "    print('recall_score', k_recall)\n",
    "    print('precision_score', k_precision)\n",
    "    print('f1_score', k_f1_score)\n",
    "    #print('\\nconfusion_matrix\\n', k_cm)\n",
    "\n",
    "    accuracy.append(k_accuracy)\n",
    "    recall.append(k_recall)\n",
    "    precision.append(k_precision)\n",
    "    f1score.append(k_f1_score)\n",
    "    #cm.append(k_cm)\n",
    "#    print('roc_curve 면적', roc_auc_score(y_test, pred))\n",
    "\n",
    "# 최종 결과지표\n",
    "print('\\nK-fold cross validation Accuracy: {}'.format(accuracy))\n",
    "print('\\nK-fold cross validation Recall: {}'.format(recall))\n",
    "print('\\nK-fold cross validation Precision: {}'.format(precision))\n",
    "print('\\nK-fold cross validation F1-Score: {}'.format(f1score))\n",
    "#print('\\nK-fold cross validation ConfusionMatrix: {}'.format(cm))"
   ]
  },
  {
   "cell_type": "markdown",
   "metadata": {},
   "source": [
    "## (9) 평가지표"
   ]
  },
  {
   "cell_type": "code",
   "execution_count": 12,
   "metadata": {},
   "outputs": [
    {
     "name": "stdout",
     "output_type": "stream",
     "text": [
      "10-Fold Cross_validation. Accuracy : 0.9993195716478229\n",
      "10-Fold Cross_validation. Recall : 0.9829951856346584\n",
      "10-Fold Cross_validation. Precision : 0.986154708220458\n",
      "10-Fold Cross_validation. F1-Score : 0.984567035990621\n"
     ]
    }
   ],
   "source": [
    "print('10-Fold Cross_validation. Accuracy :', np.mean(accuracy))\n",
    "print('10-Fold Cross_validation. Recall :', np.mean(recall))\n",
    "print('10-Fold Cross_validation. Precision :', np.mean(precision))\n",
    "print('10-Fold Cross_validation. F1-Score :', np.mean(f1score))"
   ]
  },
  {
   "cell_type": "code",
   "execution_count": 13,
   "metadata": {},
   "outputs": [
    {
     "name": "stdout",
     "output_type": "stream",
     "text": [
      "save 완료\n"
     ]
    }
   ],
   "source": [
    "model1.save('gcc8_bin_core_s16_h24_o1.h5')\n",
    "print('save 완료')"
   ]
  }
 ],
 "metadata": {
  "kernelspec": {
   "display_name": "Python 3",
   "language": "python",
   "name": "python3"
  },
  "language_info": {
   "codemirror_mode": {
    "name": "ipython",
    "version": 3
   },
   "file_extension": ".py",
   "mimetype": "text/x-python",
   "name": "python",
   "nbconvert_exporter": "python",
   "pygments_lexer": "ipython3",
   "version": "3.7.9"
  }
 },
 "nbformat": 4,
 "nbformat_minor": 4
}
