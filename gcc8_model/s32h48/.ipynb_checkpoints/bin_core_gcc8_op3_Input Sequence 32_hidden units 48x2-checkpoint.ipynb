{
 "cells": [
  {
   "cell_type": "markdown",
   "metadata": {},
   "source": [
    "## RNN 모델 N-Byte 방식 (함수정보 포함 vs 미포함 => 1:1 비율)\n",
    "\n",
    "## (1) 데이터로드"
   ]
  },
  {
   "cell_type": "code",
   "execution_count": 14,
   "metadata": {},
   "outputs": [
    {
     "name": "stdout",
     "output_type": "stream",
     "text": [
      "(31784379, 2)\n",
      "shape - (31784379, 2)\n",
      "reset_index 완료\n",
      "input data shape\n"
     ]
    },
    {
     "data": {
      "text/html": [
       "<div>\n",
       "<style scoped>\n",
       "    .dataframe tbody tr th:only-of-type {\n",
       "        vertical-align: middle;\n",
       "    }\n",
       "\n",
       "    .dataframe tbody tr th {\n",
       "        vertical-align: top;\n",
       "    }\n",
       "\n",
       "    .dataframe thead th {\n",
       "        text-align: right;\n",
       "    }\n",
       "</style>\n",
       "<table border=\"1\" class=\"dataframe\">\n",
       "  <thead>\n",
       "    <tr style=\"text-align: right;\">\n",
       "      <th></th>\n",
       "      <th>bin</th>\n",
       "      <th>label</th>\n",
       "    </tr>\n",
       "  </thead>\n",
       "  <tbody>\n",
       "    <tr>\n",
       "      <th>0</th>\n",
       "      <td>47</td>\n",
       "      <td>0</td>\n",
       "    </tr>\n",
       "    <tr>\n",
       "      <th>1</th>\n",
       "      <td>108</td>\n",
       "      <td>0</td>\n",
       "    </tr>\n",
       "    <tr>\n",
       "      <th>2</th>\n",
       "      <td>105</td>\n",
       "      <td>0</td>\n",
       "    </tr>\n",
       "    <tr>\n",
       "      <th>3</th>\n",
       "      <td>98</td>\n",
       "      <td>0</td>\n",
       "    </tr>\n",
       "    <tr>\n",
       "      <th>4</th>\n",
       "      <td>47</td>\n",
       "      <td>0</td>\n",
       "    </tr>\n",
       "  </tbody>\n",
       "</table>\n",
       "</div>"
      ],
      "text/plain": [
       "   bin  label\n",
       "0   47      0\n",
       "1  108      0\n",
       "2  105      0\n",
       "3   98      0\n",
       "4   47      0"
      ]
     },
     "execution_count": 14,
     "metadata": {},
     "output_type": "execute_result"
    }
   ],
   "source": [
    "# (1) 데이터로드\n",
    "import pandas as pd\n",
    "import numpy as np\n",
    "\n",
    "import warnings\n",
    "warnings.filterwarnings(action='ignore')\n",
    "\n",
    "# 여러개 쳐도 나오게\n",
    "from IPython.core.interactiveshell import InteractiveShell\n",
    "InteractiveShell.ast_node_interactivity = \"all\"\n",
    "\n",
    "# 파일읽기\n",
    "bin8_3 = pd.read_csv(\"../../바이너리_최종데이터_1004/gcc8/o3/o3_bincore8.csv\", index_col=0)\n",
    "print(bin8_3.shape)\n",
    "\n",
    "# reset_index (hex processing 하면서 값이 빠졌으니까 + n_gram 에서 index를 다루기 때문에)\n",
    "bin8_3.reset_index(inplace=True, drop=True)\n",
    "\n",
    "print('shape -', bin8_3.shape)\n",
    "print('reset_index 완료')\n",
    "print('input data shape')\n",
    "bin8_3.head()"
   ]
  },
  {
   "cell_type": "code",
   "execution_count": 15,
   "metadata": {},
   "outputs": [
    {
     "name": "stdout",
     "output_type": "stream",
     "text": [
      "256\n",
      "0    31747485\n",
      "1       36894\n",
      "Name: label, dtype: int64\n"
     ]
    }
   ],
   "source": [
    "# (2-1) 데이터체크 1 - hex(16진수)가 256 label을 가져야 dummies 변환 가능 \n",
    "# 16진수 256개 종류가 있어서 pd.get_dummies 사용 가능.\n",
    "print(len(bin8_3['bin'].unique()))\n",
    "\n",
    "# (2-2) 데이터 체크 2 - 1, 0 비율 ==> 1이 함수의 갯수를 뜻함\n",
    "# 정답 데이터 1, 0 비율 확인  ==> 1이 함수의 갯수를 뜻함\n",
    "print(bin8_3['label'].value_counts())"
   ]
  },
  {
   "cell_type": "markdown",
   "metadata": {},
   "source": [
    "## (3) N Byte씩 자르기"
   ]
  },
  {
   "cell_type": "code",
   "execution_count": 16,
   "metadata": {},
   "outputs": [
    {
     "name": "stdout",
     "output_type": "stream",
     "text": [
      "1180608\n",
      "나머지 0\n",
      "최종 길이 1180608\n",
      "bin8_3 1180608\n"
     ]
    }
   ],
   "source": [
    "idx_bin = bin8_3[bin8_3['label']==1].index  # 407, 474 ...\n",
    "ls_bin = list(idx_bin)\n",
    "\n",
    "# 최종 뽑을 행에 대한 index\n",
    "ls_idx_bin = []\n",
    "\n",
    "# n byte 자르기 방식\n",
    "left_idx, right_idx = 0, 32 # 3개씩\n",
    "\n",
    "# n byte 자르기\n",
    "for k in range(left_idx, right_idx):\n",
    "    ls_idx_bin.extend(list(idx_bin + k)) # index 형이라서 가능\n",
    "\n",
    "#ls_idx = list(set(ls_idx)) \n",
    "ls_idx_bin.sort() # 인덱스 정렬\n",
    "\n",
    "# 1차 index 해당범위 초과한 것들 없애기\n",
    "ls_idx_bin = list(filter(lambda x: x<len(bin8_3), ls_idx_bin))\n",
    "print(len(ls_idx_bin))\n",
    "\n",
    "# 2차 남은 index들 중 right_idx 나눈 나머지 없애기\n",
    "sub_bin = len(ls_idx_bin)%(right_idx)\n",
    "print('나머지', sub_bin)\n",
    "\n",
    "ls_idx_bin = ls_idx_bin[:len(ls_idx_bin)-sub_bin]\n",
    "print('최종 길이', len(ls_idx_bin))\n",
    "\n",
    "print('bin8_3', len(ls_idx_bin))\n",
    "\n",
    "# loc 로 수정필요\n",
    "bin8_3_Ngram = bin8_3.loc[ls_idx_bin,:].copy()"
   ]
  },
  {
   "cell_type": "markdown",
   "metadata": {},
   "source": [
    "## (4) false data 만들기"
   ]
  },
  {
   "cell_type": "code",
   "execution_count": 17,
   "metadata": {},
   "outputs": [
    {
     "name": "stdout",
     "output_type": "stream",
     "text": [
      "36894.0\n",
      "0 9717497\n",
      "1000 28122910\n",
      "2000 26846215\n",
      "3000 617897\n",
      "4000 8609419\n",
      "5000 18411742\n",
      "6000 29873135\n",
      "7000 3486338\n",
      "8000 7247722\n",
      "9000 9145765\n",
      "10000 22704801\n",
      "11000 28910976\n",
      "12000 19445327\n",
      "13000 9819012\n",
      "14000 24359788\n",
      "15000 16386275\n",
      "16000 17146965\n",
      "17000 939242\n",
      "18000 20239301\n",
      "19000 12919340\n",
      "20000 12374161\n",
      "21000 30913546\n",
      "22000 13196854\n",
      "23000 2189409\n",
      "24000 4431500\n",
      "25000 5242615\n",
      "26000 22105933\n",
      "27000 11226745\n",
      "28000 141851\n",
      "29000 30877401\n",
      "30000 21748809\n",
      "31000 14109102\n",
      "32000 23916861\n",
      "33000 20066619\n",
      "34000 11530113\n",
      "35000 3072687\n",
      "36000 8308737\n",
      "완료\n",
      "36894\n"
     ]
    }
   ],
   "source": [
    "# false data 만들기 - False 데이터 랜덤 생성\n",
    "\n",
    "# 목표치\n",
    "goal_bin = len(bin8_3_Ngram)/right_idx\n",
    "count_bin = 0\n",
    "\n",
    "print(goal_bin)\n",
    "\n",
    "# 최종 데이터 Frame\n",
    "d_bin = pd.DataFrame(columns = bin8_3.columns)\n",
    "\n",
    "binutils_df = []\n",
    "# goal 에 도달할 때까지\n",
    "while True:\n",
    "    if (count_bin == goal_bin):\n",
    "            break\n",
    "    # 진행상황 살펴보기 위함\n",
    "            \n",
    "    # 랜덤 N 바이트씩 뽑음\n",
    "    # random index\n",
    "    random_idx_bin = np.random.randint(len(bin8_3)-right_idx)\n",
    "\n",
    "    if count_bin % 1000==0:\n",
    "        print(count_bin, end=' ')\n",
    "        print(random_idx_bin)\n",
    "\n",
    "    df_bin = bin8_3[random_idx_bin : random_idx_bin + right_idx]\n",
    "    \n",
    "    # 뽑은 index의 N 바이트 중에 1이 없는 경우만\n",
    "    if 1 not in df_bin['label'] and count_bin < goal_bin:\n",
    "        binutils_df.append(df_bin)\n",
    "        count_bin+=1\n",
    "\n",
    "print('완료')\n",
    "print(len(binutils_df))"
   ]
  },
  {
   "cell_type": "code",
   "execution_count": 18,
   "metadata": {},
   "outputs": [
    {
     "name": "stdout",
     "output_type": "stream",
     "text": [
      "36894\n",
      "36894\n"
     ]
    }
   ],
   "source": [
    "# True data와 False Data 같은지 체크\n",
    "print(len(binutils_df))\n",
    "print(bin8_3['label'].value_counts()[1])"
   ]
  },
  {
   "cell_type": "markdown",
   "metadata": {},
   "source": [
    "## (5) False Data + True Data 합치기"
   ]
  },
  {
   "cell_type": "code",
   "execution_count": 19,
   "metadata": {},
   "outputs": [
    {
     "data": {
      "text/plain": [
       "(2361216, 2)"
      ]
     },
     "execution_count": 19,
     "metadata": {},
     "output_type": "execute_result"
    }
   ],
   "source": [
    "f_data = pd.concat(binutils_df)\n",
    "final = pd.concat([f_data, bin8_3_Ngram])\n",
    "final.shape"
   ]
  },
  {
   "cell_type": "markdown",
   "metadata": {},
   "source": [
    "## (6) one hot encoding"
   ]
  },
  {
   "cell_type": "code",
   "execution_count": 20,
   "metadata": {},
   "outputs": [
    {
     "name": "stdout",
     "output_type": "stream",
     "text": [
      "원핫인코딩완료\n",
      "(2361216, 257)\n"
     ]
    }
   ],
   "source": [
    "# 훈련데이터 (gcc 최적화버전 0, 1, 2, 3 one hot encoding)\n",
    "bc8_3_onehot_Ngram = pd.get_dummies(final['bin'])\n",
    "bc8_3_onehot_Ngram = pd.concat([final['label'], bc8_3_onehot_Ngram], axis=1)\n",
    "\n",
    "print('원핫인코딩완료')\n",
    "print(bc8_3_onehot_Ngram.shape)"
   ]
  },
  {
   "cell_type": "code",
   "execution_count": 21,
   "metadata": {},
   "outputs": [
    {
     "name": "stdout",
     "output_type": "stream",
     "text": [
      "(2361216, 256) (2361216, 256)\n",
      "(73788, 32, 256) (73788, 32, 1)\n"
     ]
    }
   ],
   "source": [
    "# 훈련 데이터, 훈련 라벨\n",
    "x_bc8_3 = bc8_3_onehot_Ngram.iloc[:,1:].to_numpy()\n",
    "y_bc8_3 = bc8_3_onehot_Ngram['label'].to_numpy()\n",
    "print(x_bc8_3.shape, x_bc8_3.shape)\n",
    "\n",
    "x_bc8_3 = x_bc8_3.reshape(-1, right_idx, x_bc8_3.shape[1])\n",
    "y_bc8_3 = y_bc8_3.reshape(-1, right_idx, 1)\n",
    "\n",
    "print(x_bc8_3.shape, y_bc8_3.shape)"
   ]
  },
  {
   "cell_type": "code",
   "execution_count": 22,
   "metadata": {},
   "outputs": [
    {
     "name": "stdout",
     "output_type": "stream",
     "text": [
      "(73788, 32, 256) (73788, 32, 1)\n"
     ]
    }
   ],
   "source": [
    "# numpy 행, 열 섞기\n",
    "p = np.random.permutation(x_bc8_3.shape[0])\n",
    "\n",
    "x_bc8_3 = x_bc8_3[p]\n",
    "y_bc8_3 = y_bc8_3[p]\n",
    "\n",
    "print(x_bc8_3.shape, y_bc8_3.shape)"
   ]
  },
  {
   "cell_type": "markdown",
   "metadata": {},
   "source": [
    "## (7) 모델"
   ]
  },
  {
   "cell_type": "code",
   "execution_count": 23,
   "metadata": {},
   "outputs": [],
   "source": [
    "# (10) 양방향 LSTM 모델링 작업\n",
    "from tensorflow.keras import layers, models\n",
    "#from tf.keras.models import Model, Sequential\n",
    "#from tf.keras.layers import SimpleRNN, Input, Dense, LSTM\n",
    "#from tf.keras.layers import Bidirectional, TimeDistributed\n",
    "\n",
    "# 학습\n",
    "from tensorflow.keras.callbacks import EarlyStopping\n",
    "early_stopping = EarlyStopping(patience = 3) # 조기종료 콜백함수 정의\n",
    "\n",
    "xInput = layers.Input(batch_shape=(None,right_idx, 256)) \n",
    "xBiLstm = layers.Bidirectional(layers.LSTM(48, return_sequences=True, stateful=False), merge_mode = 'concat')(xInput)\n",
    "xOutput = layers.TimeDistributed(layers.Dense(1, activation ='sigmoid'))(xBiLstm) # 각 스텝에서 cost가 전송되고, 오류가 다음 step으로 전송됨."
   ]
  },
  {
   "cell_type": "markdown",
   "metadata": {},
   "source": [
    "## (8) 학습 - 10 KFold"
   ]
  },
  {
   "cell_type": "code",
   "execution_count": 24,
   "metadata": {
    "scrolled": false
   },
   "outputs": [
    {
     "name": "stdout",
     "output_type": "stream",
     "text": [
      "Model: \"model_10\"\n",
      "_________________________________________________________________\n",
      "Layer (type)                 Output Shape              Param #   \n",
      "=================================================================\n",
      "input_2 (InputLayer)         [(None, 32, 256)]         0         \n",
      "_________________________________________________________________\n",
      "bidirectional_1 (Bidirection (None, 32, 96)            117120    \n",
      "_________________________________________________________________\n",
      "time_distributed_1 (TimeDist (None, 32, 1)             97        \n",
      "=================================================================\n",
      "Total params: 117,217\n",
      "Trainable params: 117,217\n",
      "Non-trainable params: 0\n",
      "_________________________________________________________________\n",
      "======Training stage======\n",
      "Train on 66409 samples\n",
      "Epoch 1/10\n",
      "66336/66409 [============================>.] - ETA: 0s - loss: 0.0149 - accuracy: 0.9961WARNING:tensorflow:Early stopping conditioned on metric `val_loss` which is not available. Available metrics are: loss,accuracy\n",
      "66409/66409 [==============================] - 30s 453us/sample - loss: 0.0149 - accuracy: 0.9961\n",
      "Epoch 2/10\n",
      "66400/66409 [============================>.] - ETA: 0s - loss: 0.0024 - accuracy: 0.9994WARNING:tensorflow:Early stopping conditioned on metric `val_loss` which is not available. Available metrics are: loss,accuracy\n",
      "66409/66409 [==============================] - 21s 319us/sample - loss: 0.0024 - accuracy: 0.9994\n",
      "Epoch 3/10\n",
      "66176/66409 [============================>.] - ETA: 0s - loss: 0.0017 - accuracy: 0.9995WARNING:tensorflow:Early stopping conditioned on metric `val_loss` which is not available. Available metrics are: loss,accuracy\n",
      "66409/66409 [==============================] - 20s 295us/sample - loss: 0.0017 - accuracy: 0.9995\n",
      "Epoch 4/10\n",
      "66304/66409 [============================>.] - ETA: 0s - loss: 0.0013 - accuracy: 0.9996WARNING:tensorflow:Early stopping conditioned on metric `val_loss` which is not available. Available metrics are: loss,accuracy\n",
      "66409/66409 [==============================] - 15s 226us/sample - loss: 0.0013 - accuracy: 0.9996\n",
      "Epoch 5/10\n",
      "66240/66409 [============================>.] - ETA: 0s - loss: 0.0011 - accuracy: 0.9997WARNING:tensorflow:Early stopping conditioned on metric `val_loss` which is not available. Available metrics are: loss,accuracy\n",
      "66409/66409 [==============================] - 15s 223us/sample - loss: 0.0011 - accuracy: 0.9997\n",
      "Epoch 6/10\n",
      "66208/66409 [============================>.] - ETA: 0s - loss: 9.6951e-04 - accuracy: 0.9998WARNING:tensorflow:Early stopping conditioned on metric `val_loss` which is not available. Available metrics are: loss,accuracy\n",
      "66409/66409 [==============================] - 15s 223us/sample - loss: 9.6677e-04 - accuracy: 0.9998\n",
      "Epoch 7/10\n",
      "66240/66409 [============================>.] - ETA: 0s - loss: 8.3891e-04 - accuracy: 0.9998WARNING:tensorflow:Early stopping conditioned on metric `val_loss` which is not available. Available metrics are: loss,accuracy\n",
      "66409/66409 [==============================] - 15s 223us/sample - loss: 8.4114e-04 - accuracy: 0.9998\n",
      "Epoch 8/10\n",
      "66304/66409 [============================>.] - ETA: 0s - loss: 7.6375e-04 - accuracy: 0.9998WARNING:tensorflow:Early stopping conditioned on metric `val_loss` which is not available. Available metrics are: loss,accuracy\n",
      "66409/66409 [==============================] - 15s 223us/sample - loss: 7.6263e-04 - accuracy: 0.9998\n",
      "Epoch 9/10\n",
      "66208/66409 [============================>.] - ETA: 0s - loss: 6.4985e-04 - accuracy: 0.9998WARNING:tensorflow:Early stopping conditioned on metric `val_loss` which is not available. Available metrics are: loss,accuracy\n",
      "66409/66409 [==============================] - 15s 222us/sample - loss: 6.4901e-04 - accuracy: 0.9998\n",
      "Epoch 10/10\n",
      "66208/66409 [============================>.] - ETA: 0s - loss: 5.6343e-04 - accuracy: 0.9999WARNING:tensorflow:Early stopping conditioned on metric `val_loss` which is not available. Available metrics are: loss,accuracy\n",
      "66409/66409 [==============================] - 15s 223us/sample - loss: 5.6300e-04 - accuracy: 0.9999\n"
     ]
    },
    {
     "data": {
      "text/plain": [
       "<tensorflow.python.keras.callbacks.History at 0x286cc4b7448>"
      ]
     },
     "execution_count": 24,
     "metadata": {},
     "output_type": "execute_result"
    },
    {
     "name": "stdout",
     "output_type": "stream",
     "text": [
      "accuracy_score 0.9997077856078059\n",
      "recall_score 0.9930525401650022\n",
      "precision_score 0.9919757102580785\n",
      "f1_score 0.9925138331344255\n",
      "Model: \"model_11\"\n",
      "_________________________________________________________________\n",
      "Layer (type)                 Output Shape              Param #   \n",
      "=================================================================\n",
      "input_2 (InputLayer)         [(None, 32, 256)]         0         \n",
      "_________________________________________________________________\n",
      "bidirectional_1 (Bidirection (None, 32, 96)            117120    \n",
      "_________________________________________________________________\n",
      "time_distributed_1 (TimeDist (None, 32, 1)             97        \n",
      "=================================================================\n",
      "Total params: 117,217\n",
      "Trainable params: 117,217\n",
      "Non-trainable params: 0\n",
      "_________________________________________________________________\n",
      "======Training stage======\n",
      "Train on 66409 samples\n",
      "Epoch 1/10\n",
      "66400/66409 [============================>.] - ETA: 0s - loss: 6.0718e-04 - accuracy: 0.9998WARNING:tensorflow:Early stopping conditioned on metric `val_loss` which is not available. Available metrics are: loss,accuracy\n",
      "66409/66409 [==============================] - 21s 314us/sample - loss: 6.0710e-04 - accuracy: 0.9998\n",
      "Epoch 2/10\n",
      "66272/66409 [============================>.] - ETA: 0s - loss: 4.7048e-04 - accuracy: 0.9999WARNING:tensorflow:Early stopping conditioned on metric `val_loss` which is not available. Available metrics are: loss,accuracy\n",
      "66409/66409 [==============================] - 16s 247us/sample - loss: 4.6979e-04 - accuracy: 0.9999\n",
      "Epoch 3/10\n",
      "66400/66409 [============================>.] - ETA: 0s - loss: 4.8422e-04 - accuracy: 0.9999WARNING:tensorflow:Early stopping conditioned on metric `val_loss` which is not available. Available metrics are: loss,accuracy\n",
      "66409/66409 [==============================] - 15s 233us/sample - loss: 4.8416e-04 - accuracy: 0.9999\n",
      "Epoch 4/10\n",
      "66336/66409 [============================>.] - ETA: 0s - loss: 4.1645e-04 - accuracy: 0.9999WARNING:tensorflow:Early stopping conditioned on metric `val_loss` which is not available. Available metrics are: loss,accuracy\n",
      "66409/66409 [==============================] - 16s 234us/sample - loss: 4.1628e-04 - accuracy: 0.9999\n",
      "Epoch 5/10\n",
      "66208/66409 [============================>.] - ETA: 0s - loss: 3.4463e-04 - accuracy: 0.9999WARNING:tensorflow:Early stopping conditioned on metric `val_loss` which is not available. Available metrics are: loss,accuracy\n",
      "66409/66409 [==============================] - 16s 240us/sample - loss: 3.4360e-04 - accuracy: 0.9999\n",
      "Epoch 6/10\n",
      "66208/66409 [============================>.] - ETA: 0s - loss: 3.3653e-04 - accuracy: 0.9999WARNING:tensorflow:Early stopping conditioned on metric `val_loss` which is not available. Available metrics are: loss,accuracy\n",
      "66409/66409 [==============================] - 15s 230us/sample - loss: 3.4037e-04 - accuracy: 0.9999\n",
      "Epoch 7/10\n",
      "66304/66409 [============================>.] - ETA: 0s - loss: 3.5924e-04 - accuracy: 0.9999WARNING:tensorflow:Early stopping conditioned on metric `val_loss` which is not available. Available metrics are: loss,accuracy\n",
      "66409/66409 [==============================] - 15s 230us/sample - loss: 3.5869e-04 - accuracy: 0.9999\n",
      "Epoch 8/10\n",
      "66240/66409 [============================>.] - ETA: 0s - loss: 3.4231e-04 - accuracy: 0.9999WARNING:tensorflow:Early stopping conditioned on metric `val_loss` which is not available. Available metrics are: loss,accuracy\n",
      "66409/66409 [==============================] - 15s 231us/sample - loss: 3.4146e-04 - accuracy: 0.9999\n",
      "Epoch 9/10\n",
      "66336/66409 [============================>.] - ETA: 0s - loss: 2.8676e-04 - accuracy: 0.9999WARNING:tensorflow:Early stopping conditioned on metric `val_loss` which is not available. Available metrics are: loss,accuracy\n",
      "66409/66409 [==============================] - 16s 238us/sample - loss: 2.8653e-04 - accuracy: 0.9999\n",
      "Epoch 10/10\n",
      "66336/66409 [============================>.] - ETA: 0s - loss: 2.8307e-04 - accuracy: 0.9999WARNING:tensorflow:Early stopping conditioned on metric `val_loss` which is not available. Available metrics are: loss,accuracy\n",
      "66409/66409 [==============================] - 21s 322us/sample - loss: 2.8279e-04 - accuracy: 0.9999\n"
     ]
    },
    {
     "data": {
      "text/plain": [
       "<tensorflow.python.keras.callbacks.History at 0x28881334f48>"
      ]
     },
     "execution_count": 24,
     "metadata": {},
     "output_type": "execute_result"
    },
    {
     "name": "stdout",
     "output_type": "stream",
     "text": [
      "accuracy_score 0.999767075484483\n",
      "recall_score 0.9943107221006564\n",
      "precision_score 0.9936584299147169\n",
      "f1_score 0.993984468992672\n",
      "Model: \"model_12\"\n",
      "_________________________________________________________________\n",
      "Layer (type)                 Output Shape              Param #   \n",
      "=================================================================\n",
      "input_2 (InputLayer)         [(None, 32, 256)]         0         \n",
      "_________________________________________________________________\n",
      "bidirectional_1 (Bidirection (None, 32, 96)            117120    \n",
      "_________________________________________________________________\n",
      "time_distributed_1 (TimeDist (None, 32, 1)             97        \n",
      "=================================================================\n",
      "Total params: 117,217\n",
      "Trainable params: 117,217\n",
      "Non-trainable params: 0\n",
      "_________________________________________________________________\n",
      "======Training stage======\n",
      "Train on 66409 samples\n",
      "Epoch 1/10\n",
      "66336/66409 [============================>.] - ETA: 0s - loss: 3.4549e-04 - accuracy: 0.9999WARNING:tensorflow:Early stopping conditioned on metric `val_loss` which is not available. Available metrics are: loss,accuracy\n",
      "66409/66409 [==============================] - 34s 506us/sample - loss: 3.4568e-04 - accuracy: 0.9999\n",
      "Epoch 2/10\n",
      "66400/66409 [============================>.] - ETA: 0s - loss: 2.3592e-04 - accuracy: 0.9999WARNING:tensorflow:Early stopping conditioned on metric `val_loss` which is not available. Available metrics are: loss,accuracy\n",
      "66409/66409 [==============================] - 21s 321us/sample - loss: 2.3589e-04 - accuracy: 0.9999\n",
      "Epoch 3/10\n",
      "66336/66409 [============================>.] - ETA: 0s - loss: 2.6466e-04 - accuracy: 0.9999WARNING:tensorflow:Early stopping conditioned on metric `val_loss` which is not available. Available metrics are: loss,accuracy\n",
      "66409/66409 [==============================] - 21s 320us/sample - loss: 2.6437e-04 - accuracy: 0.9999\n",
      "Epoch 4/10\n",
      "66272/66409 [============================>.] - ETA: 0s - loss: 2.2680e-04 - accuracy: 0.9999WARNING:tensorflow:Early stopping conditioned on metric `val_loss` which is not available. Available metrics are: loss,accuracy\n",
      "66409/66409 [==============================] - 21s 320us/sample - loss: 2.2634e-04 - accuracy: 0.9999\n",
      "Epoch 5/10\n",
      "66368/66409 [============================>.] - ETA: 0s - loss: 2.2998e-04 - accuracy: 0.9999WARNING:tensorflow:Early stopping conditioned on metric `val_loss` which is not available. Available metrics are: loss,accuracy\n",
      "66409/66409 [==============================] - 21s 320us/sample - loss: 2.2984e-04 - accuracy: 0.9999\n",
      "Epoch 6/10\n",
      "66368/66409 [============================>.] - ETA: 0s - loss: 2.3068e-04 - accuracy: 1.0000WARNING:tensorflow:Early stopping conditioned on metric `val_loss` which is not available. Available metrics are: loss,accuracy\n",
      "66409/66409 [==============================] - 21s 321us/sample - loss: 2.3054e-04 - accuracy: 1.0000\n",
      "Epoch 7/10\n",
      "66368/66409 [============================>.] - ETA: 0s - loss: 1.7034e-04 - accuracy: 1.0000WARNING:tensorflow:Early stopping conditioned on metric `val_loss` which is not available. Available metrics are: loss,accuracy\n",
      "66409/66409 [==============================] - 21s 321us/sample - loss: 1.7023e-04 - accuracy: 1.0000\n",
      "Epoch 8/10\n",
      "66400/66409 [============================>.] - ETA: 0s - loss: 2.0314e-04 - accuracy: 1.0000WARNING:tensorflow:Early stopping conditioned on metric `val_loss` which is not available. Available metrics are: loss,accuracy\n",
      "66409/66409 [==============================] - 21s 321us/sample - loss: 2.0311e-04 - accuracy: 1.0000\n",
      "Epoch 9/10\n",
      "66400/66409 [============================>.] - ETA: 0s - loss: 1.7209e-04 - accuracy: 1.0000WARNING:tensorflow:Early stopping conditioned on metric `val_loss` which is not available. Available metrics are: loss,accuracy\n",
      "66409/66409 [==============================] - 17s 260us/sample - loss: 1.7207e-04 - accuracy: 1.0000\n",
      "Epoch 10/10\n",
      "66272/66409 [============================>.] - ETA: 0s - loss: 1.7204e-04 - accuracy: 1.0000WARNING:tensorflow:Early stopping conditioned on metric `val_loss` which is not available. Available metrics are: loss,accuracy\n",
      "66409/66409 [==============================] - 15s 224us/sample - loss: 1.7168e-04 - accuracy: 1.0000\n"
     ]
    },
    {
     "data": {
      "text/plain": [
       "<tensorflow.python.keras.callbacks.History at 0x286ae607f08>"
      ]
     },
     "execution_count": 24,
     "metadata": {},
     "output_type": "execute_result"
    },
    {
     "name": "stdout",
     "output_type": "stream",
     "text": [
      "accuracy_score 0.9998941252202196\n",
      "recall_score 0.998886910062333\n",
      "precision_score 0.9955624583980475\n",
      "f1_score 0.9972219135459496\n",
      "Model: \"model_13\"\n",
      "_________________________________________________________________\n",
      "Layer (type)                 Output Shape              Param #   \n",
      "=================================================================\n",
      "input_2 (InputLayer)         [(None, 32, 256)]         0         \n",
      "_________________________________________________________________\n",
      "bidirectional_1 (Bidirection (None, 32, 96)            117120    \n",
      "_________________________________________________________________\n",
      "time_distributed_1 (TimeDist (None, 32, 1)             97        \n",
      "=================================================================\n",
      "Total params: 117,217\n",
      "Trainable params: 117,217\n",
      "Non-trainable params: 0\n",
      "_________________________________________________________________\n",
      "======Training stage======\n",
      "Train on 66409 samples\n",
      "Epoch 1/10\n",
      "66304/66409 [============================>.] - ETA: 0s - loss: 2.3130e-04 - accuracy: 1.0000WARNING:tensorflow:Early stopping conditioned on metric `val_loss` which is not available. Available metrics are: loss,accuracy\n",
      "66409/66409 [==============================] - 21s 315us/sample - loss: 2.3093e-04 - accuracy: 1.0000\n",
      "Epoch 2/10\n",
      "66272/66409 [============================>.] - ETA: 0s - loss: 2.3351e-04 - accuracy: 1.0000WARNING:tensorflow:Early stopping conditioned on metric `val_loss` which is not available. Available metrics are: loss,accuracy\n",
      "66409/66409 [==============================] - 15s 223us/sample - loss: 2.3724e-04 - accuracy: 1.0000\n",
      "Epoch 3/10\n",
      "66368/66409 [============================>.] - ETA: 0s - loss: 7.5602e-05 - accuracy: 1.0000WARNING:tensorflow:Early stopping conditioned on metric `val_loss` which is not available. Available metrics are: loss,accuracy\n",
      "66409/66409 [==============================] - 15s 224us/sample - loss: 7.5555e-05 - accuracy: 1.0000\n",
      "Epoch 4/10\n",
      "66208/66409 [============================>.] - ETA: 0s - loss: 1.6424e-04 - accuracy: 1.0000WARNING:tensorflow:Early stopping conditioned on metric `val_loss` which is not available. Available metrics are: loss,accuracy\n",
      "66409/66409 [==============================] - 15s 223us/sample - loss: 1.6374e-04 - accuracy: 1.0000\n",
      "Epoch 5/10\n",
      "66368/66409 [============================>.] - ETA: 0s - loss: 1.0301e-04 - accuracy: 1.0000WARNING:tensorflow:Early stopping conditioned on metric `val_loss` which is not available. Available metrics are: loss,accuracy\n",
      "66409/66409 [==============================] - 15s 223us/sample - loss: 1.0295e-04 - accuracy: 1.0000\n",
      "Epoch 6/10\n",
      "66368/66409 [============================>.] - ETA: 0s - loss: 1.2225e-04 - accuracy: 1.0000WARNING:tensorflow:Early stopping conditioned on metric `val_loss` which is not available. Available metrics are: loss,accuracy\n",
      "66409/66409 [==============================] - 15s 225us/sample - loss: 1.2218e-04 - accuracy: 1.0000\n",
      "Epoch 7/10\n",
      "66272/66409 [============================>.] - ETA: 0s - loss: 6.9311e-05 - accuracy: 1.0000WARNING:tensorflow:Early stopping conditioned on metric `val_loss` which is not available. Available metrics are: loss,accuracy\n",
      "66409/66409 [==============================] - 16s 234us/sample - loss: 6.9169e-05 - accuracy: 1.0000\n",
      "Epoch 8/10\n",
      "66240/66409 [============================>.] - ETA: 0s - loss: 1.5168e-04 - accuracy: 1.0000WARNING:tensorflow:Early stopping conditioned on metric `val_loss` which is not available. Available metrics are: loss,accuracy\n",
      "66409/66409 [==============================] - 15s 231us/sample - loss: 1.5130e-04 - accuracy: 1.0000\n",
      "Epoch 9/10\n",
      "66368/66409 [============================>.] - ETA: 0s - loss: 1.3361e-04 - accuracy: 1.0000WARNING:tensorflow:Early stopping conditioned on metric `val_loss` which is not available. Available metrics are: loss,accuracy\n",
      "66409/66409 [==============================] - 15s 231us/sample - loss: 1.3353e-04 - accuracy: 1.0000\n",
      "Epoch 10/10\n",
      "66240/66409 [============================>.] - ETA: 0s - loss: 7.9605e-05 - accuracy: 1.0000WARNING:tensorflow:Early stopping conditioned on metric `val_loss` which is not available. Available metrics are: loss,accuracy\n",
      "66409/66409 [==============================] - 15s 232us/sample - loss: 7.9403e-05 - accuracy: 1.0000\n"
     ]
    },
    {
     "data": {
      "text/plain": [
       "<tensorflow.python.keras.callbacks.History at 0x286abeb8e48>"
      ]
     },
     "execution_count": 24,
     "metadata": {},
     "output_type": "execute_result"
    },
    {
     "name": "stdout",
     "output_type": "stream",
     "text": [
      "accuracy_score 0.9999534150968966\n",
      "recall_score 1.0\n",
      "precision_score 0.9975555555555555\n",
      "f1_score 0.9987762821225943\n",
      "Model: \"model_14\"\n",
      "_________________________________________________________________\n",
      "Layer (type)                 Output Shape              Param #   \n",
      "=================================================================\n",
      "input_2 (InputLayer)         [(None, 32, 256)]         0         \n",
      "_________________________________________________________________\n",
      "bidirectional_1 (Bidirection (None, 32, 96)            117120    \n",
      "_________________________________________________________________\n",
      "time_distributed_1 (TimeDist (None, 32, 1)             97        \n",
      "=================================================================\n",
      "Total params: 117,217\n",
      "Trainable params: 117,217\n",
      "Non-trainable params: 0\n",
      "_________________________________________________________________\n",
      "======Training stage======\n",
      "Train on 66409 samples\n",
      "Epoch 1/10\n",
      "66240/66409 [============================>.] - ETA: 0s - loss: 1.7967e-04 - accuracy: 1.0000WARNING:tensorflow:Early stopping conditioned on metric `val_loss` which is not available. Available metrics are: loss,accuracy\n",
      "66409/66409 [==============================] - 23s 339us/sample - loss: 1.7921e-04 - accuracy: 1.0000\n",
      "Epoch 2/10\n",
      "66368/66409 [============================>.] - ETA: 0s - loss: 1.2734e-04 - accuracy: 1.0000WARNING:tensorflow:Early stopping conditioned on metric `val_loss` which is not available. Available metrics are: loss,accuracy\n",
      "66409/66409 [==============================] - 16s 240us/sample - loss: 1.2726e-04 - accuracy: 1.0000\n",
      "Epoch 3/10\n",
      "66400/66409 [============================>.] - ETA: 0s - loss: 7.0795e-05 - accuracy: 1.0000WARNING:tensorflow:Early stopping conditioned on metric `val_loss` which is not available. Available metrics are: loss,accuracy\n",
      "66409/66409 [==============================] - 17s 253us/sample - loss: 7.0785e-05 - accuracy: 1.0000\n",
      "Epoch 4/10\n",
      "66304/66409 [============================>.] - ETA: 0s - loss: 8.3090e-05 - accuracy: 1.0000WARNING:tensorflow:Early stopping conditioned on metric `val_loss` which is not available. Available metrics are: loss,accuracy\n",
      "66409/66409 [==============================] - 22s 332us/sample - loss: 8.2959e-05 - accuracy: 1.0000\n",
      "Epoch 5/10\n",
      "66368/66409 [============================>.] - ETA: 0s - loss: 6.8655e-05 - accuracy: 1.0000WARNING:tensorflow:Early stopping conditioned on metric `val_loss` which is not available. Available metrics are: loss,accuracy\n",
      "66409/66409 [==============================] - 21s 323us/sample - loss: 6.8612e-05 - accuracy: 1.0000\n",
      "Epoch 6/10\n",
      "66368/66409 [============================>.] - ETA: 0s - loss: 9.0006e-05 - accuracy: 1.0000WARNING:tensorflow:Early stopping conditioned on metric `val_loss` which is not available. Available metrics are: loss,accuracy\n",
      "66409/66409 [==============================] - 21s 322us/sample - loss: 8.9951e-05 - accuracy: 1.0000\n",
      "Epoch 7/10\n",
      "66368/66409 [============================>.] - ETA: 0s - loss: 2.9107e-05 - accuracy: 1.0000WARNING:tensorflow:Early stopping conditioned on metric `val_loss` which is not available. Available metrics are: loss,accuracy\n",
      "66409/66409 [==============================] - 21s 320us/sample - loss: 2.9089e-05 - accuracy: 1.0000\n",
      "Epoch 8/10\n",
      "66368/66409 [============================>.] - ETA: 0s - loss: 8.5136e-05 - accuracy: 1.0000WARNING:tensorflow:Early stopping conditioned on metric `val_loss` which is not available. Available metrics are: loss,accuracy\n",
      "66409/66409 [==============================] - 21s 321us/sample - loss: 8.5084e-05 - accuracy: 1.0000\n",
      "Epoch 9/10\n",
      "66368/66409 [============================>.] - ETA: 0s - loss: 2.3983e-05 - accuracy: 1.0000WARNING:tensorflow:Early stopping conditioned on metric `val_loss` which is not available. Available metrics are: loss,accuracy\n",
      "66409/66409 [==============================] - 21s 320us/sample - loss: 2.3968e-05 - accuracy: 1.0000\n",
      "Epoch 10/10\n",
      "66368/66409 [============================>.] - ETA: 0s - loss: 6.1189e-05 - accuracy: 1.0000WARNING:tensorflow:Early stopping conditioned on metric `val_loss` which is not available. Available metrics are: loss,accuracy\n",
      "66409/66409 [==============================] - 21s 320us/sample - loss: 6.1151e-05 - accuracy: 1.0000\n"
     ]
    },
    {
     "data": {
      "text/plain": [
       "<tensorflow.python.keras.callbacks.History at 0x286b238b688>"
      ]
     },
     "execution_count": 24,
     "metadata": {},
     "output_type": "execute_result"
    },
    {
     "name": "stdout",
     "output_type": "stream",
     "text": [
      "accuracy_score 0.9999576500880878\n",
      "recall_score 0.9977533138620535\n",
      "precision_score 1.0\n",
      "f1_score 0.9988753936122357\n",
      "Model: \"model_15\"\n",
      "_________________________________________________________________\n",
      "Layer (type)                 Output Shape              Param #   \n",
      "=================================================================\n",
      "input_2 (InputLayer)         [(None, 32, 256)]         0         \n",
      "_________________________________________________________________\n",
      "bidirectional_1 (Bidirection (None, 32, 96)            117120    \n",
      "_________________________________________________________________\n",
      "time_distributed_1 (TimeDist (None, 32, 1)             97        \n",
      "=================================================================\n",
      "Total params: 117,217\n",
      "Trainable params: 117,217\n",
      "Non-trainable params: 0\n",
      "_________________________________________________________________\n",
      "======Training stage======\n",
      "Train on 66409 samples\n",
      "Epoch 1/10\n",
      "66304/66409 [============================>.] - ETA: 0s - loss: 6.0481e-05 - accuracy: 1.0000WARNING:tensorflow:Early stopping conditioned on metric `val_loss` which is not available. Available metrics are: loss,accuracy\n",
      "66409/66409 [==============================] - 29s 432us/sample - loss: 6.0385e-05 - accuracy: 1.0000\n",
      "Epoch 2/10\n",
      "66272/66409 [============================>.] - ETA: 0s - loss: 2.3182e-05 - accuracy: 1.0000WARNING:tensorflow:Early stopping conditioned on metric `val_loss` which is not available. Available metrics are: loss,accuracy\n",
      "66409/66409 [==============================] - 21s 315us/sample - loss: 2.3134e-05 - accuracy: 1.0000\n",
      "Epoch 3/10\n",
      "66272/66409 [============================>.] - ETA: 0s - loss: 2.8191e-05 - accuracy: 1.0000WARNING:tensorflow:Early stopping conditioned on metric `val_loss` which is not available. Available metrics are: loss,accuracy\n",
      "66409/66409 [==============================] - 17s 260us/sample - loss: 2.8133e-05 - accuracy: 1.0000\n",
      "Epoch 4/10\n",
      "66240/66409 [============================>.] - ETA: 0s - loss: 2.7944e-05 - accuracy: 1.0000WARNING:tensorflow:Early stopping conditioned on metric `val_loss` which is not available. Available metrics are: loss,accuracy\n",
      "66409/66409 [==============================] - 15s 221us/sample - loss: 2.7873e-05 - accuracy: 1.0000\n",
      "Epoch 5/10\n",
      "66272/66409 [============================>.] - ETA: 0s - loss: 4.6175e-06 - accuracy: 1.0000WARNING:tensorflow:Early stopping conditioned on metric `val_loss` which is not available. Available metrics are: loss,accuracy\n",
      "66409/66409 [==============================] - 15s 220us/sample - loss: 4.6080e-06 - accuracy: 1.0000\n",
      "Epoch 6/10\n",
      "66240/66409 [============================>.] - ETA: 0s - loss: 4.2659e-06 - accuracy: 1.0000WARNING:tensorflow:Early stopping conditioned on metric `val_loss` which is not available. Available metrics are: loss,accuracy\n",
      "66409/66409 [==============================] - 15s 221us/sample - loss: 4.2551e-06 - accuracy: 1.0000\n",
      "Epoch 7/10\n",
      "66304/66409 [============================>.] - ETA: 0s - loss: 7.3994e-06 - accuracy: 1.0000WARNING:tensorflow:Early stopping conditioned on metric `val_loss` which is not available. Available metrics are: loss,accuracy\n",
      "66409/66409 [==============================] - 15s 221us/sample - loss: 7.3877e-06 - accuracy: 1.0000\n",
      "Epoch 8/10\n",
      "66400/66409 [============================>.] - ETA: 0s - loss: 1.5559e-05 - accuracy: 1.0000WARNING:tensorflow:Early stopping conditioned on metric `val_loss` which is not available. Available metrics are: loss,accuracy\n",
      "66409/66409 [==============================] - 15s 221us/sample - loss: 1.5557e-05 - accuracy: 1.0000\n",
      "Epoch 9/10\n",
      "66272/66409 [============================>.] - ETA: 0s - loss: 4.4159e-06 - accuracy: 1.0000WARNING:tensorflow:Early stopping conditioned on metric `val_loss` which is not available. Available metrics are: loss,accuracy\n",
      "66409/66409 [==============================] - 15s 221us/sample - loss: 4.4068e-06 - accuracy: 1.0000\n",
      "Epoch 10/10\n",
      "66304/66409 [============================>.] - ETA: 0s - loss: 3.4214e-05 - accuracy: 1.0000WARNING:tensorflow:Early stopping conditioned on metric `val_loss` which is not available. Available metrics are: loss,accuracy\n",
      "66409/66409 [==============================] - 15s 221us/sample - loss: 3.4160e-05 - accuracy: 1.0000\n"
     ]
    },
    {
     "data": {
      "text/plain": [
       "<tensorflow.python.keras.callbacks.History at 0x286ab7f7c88>"
      ]
     },
     "execution_count": 24,
     "metadata": {},
     "output_type": "execute_result"
    },
    {
     "name": "stdout",
     "output_type": "stream",
     "text": [
      "accuracy_score 0.9999830600352351\n",
      "recall_score 0.9997731911998186\n",
      "precision_score 0.9993198821128996\n",
      "f1_score 0.999546485260771\n",
      "Model: \"model_16\"\n",
      "_________________________________________________________________\n",
      "Layer (type)                 Output Shape              Param #   \n",
      "=================================================================\n",
      "input_2 (InputLayer)         [(None, 32, 256)]         0         \n",
      "_________________________________________________________________\n",
      "bidirectional_1 (Bidirection (None, 32, 96)            117120    \n",
      "_________________________________________________________________\n",
      "time_distributed_1 (TimeDist (None, 32, 1)             97        \n",
      "=================================================================\n",
      "Total params: 117,217\n",
      "Trainable params: 117,217\n",
      "Non-trainable params: 0\n",
      "_________________________________________________________________\n",
      "======Training stage======\n",
      "Train on 66409 samples\n",
      "Epoch 1/10\n",
      "66240/66409 [============================>.] - ETA: 0s - loss: 4.7790e-05 - accuracy: 1.0000WARNING:tensorflow:Early stopping conditioned on metric `val_loss` which is not available. Available metrics are: loss,accuracy\n",
      "66409/66409 [==============================] - 22s 326us/sample - loss: 4.7669e-05 - accuracy: 1.0000\n",
      "Epoch 2/10\n",
      "66304/66409 [============================>.] - ETA: 0s - loss: 2.4174e-07 - accuracy: 1.0000WARNING:tensorflow:Early stopping conditioned on metric `val_loss` which is not available. Available metrics are: loss,accuracy\n",
      "66409/66409 [==============================] - 16s 237us/sample - loss: 2.4143e-07 - accuracy: 1.0000\n",
      "Epoch 3/10\n",
      "66336/66409 [============================>.] - ETA: 0s - loss: 3.5465e-07 - accuracy: 1.0000WARNING:tensorflow:Early stopping conditioned on metric `val_loss` which is not available. Available metrics are: loss,accuracy\n",
      "66409/66409 [==============================] - 16s 237us/sample - loss: 3.5426e-07 - accuracy: 1.0000\n",
      "Epoch 4/10\n",
      "66336/66409 [============================>.] - ETA: 0s - loss: 1.1806e-06 - accuracy: 1.0000WARNING:tensorflow:Early stopping conditioned on metric `val_loss` which is not available. Available metrics are: loss,accuracy\n",
      "66409/66409 [==============================] - 15s 230us/sample - loss: 1.1793e-06 - accuracy: 1.0000\n",
      "Epoch 5/10\n",
      "66304/66409 [============================>.] - ETA: 0s - loss: 2.9673e-08 - accuracy: 1.0000WARNING:tensorflow:Early stopping conditioned on metric `val_loss` which is not available. Available metrics are: loss,accuracy\n",
      "66409/66409 [==============================] - 15s 230us/sample - loss: 2.9626e-08 - accuracy: 1.0000\n",
      "Epoch 6/10\n",
      "66176/66409 [============================>.] - ETA: 0s - loss: 8.3690e-08 - accuracy: 1.0000WARNING:tensorflow:Early stopping conditioned on metric `val_loss` which is not available. Available metrics are: loss,accuracy\n",
      "66409/66409 [==============================] - 15s 231us/sample - loss: 8.3441e-08 - accuracy: 1.0000\n",
      "Epoch 7/10\n",
      "66272/66409 [============================>.] - ETA: 0s - loss: 1.6230e-08 - accuracy: 1.0000WARNING:tensorflow:Early stopping conditioned on metric `val_loss` which is not available. Available metrics are: loss,accuracy\n",
      "66409/66409 [==============================] - 15s 231us/sample - loss: 1.6263e-08 - accuracy: 1.0000\n",
      "Epoch 8/10\n",
      "66304/66409 [============================>.] - ETA: 0s - loss: 7.1542e-09 - accuracy: 1.0000WARNING:tensorflow:Early stopping conditioned on metric `val_loss` which is not available. Available metrics are: loss,accuracy\n",
      "66409/66409 [==============================] - 16s 247us/sample - loss: 7.1429e-09 - accuracy: 1.0000\n",
      "Epoch 9/10\n",
      "66272/66409 [============================>.] - ETA: 0s - loss: 2.9035e-09 - accuracy: 1.0000WARNING:tensorflow:Early stopping conditioned on metric `val_loss` which is not available. Available metrics are: loss,accuracy\n",
      "66409/66409 [==============================] - 16s 237us/sample - loss: 2.8998e-09 - accuracy: 1.0000\n",
      "Epoch 10/10\n",
      "66272/66409 [============================>.] - ETA: 0s - loss: 3.1864e-08 - accuracy: 1.0000WARNING:tensorflow:Early stopping conditioned on metric `val_loss` which is not available. Available metrics are: loss,accuracy\n",
      "66409/66409 [==============================] - 21s 322us/sample - loss: 3.1802e-08 - accuracy: 1.0000\n"
     ]
    },
    {
     "data": {
      "text/plain": [
       "<tensorflow.python.keras.callbacks.History at 0x286b6d0b488>"
      ]
     },
     "execution_count": 24,
     "metadata": {},
     "output_type": "execute_result"
    },
    {
     "name": "stdout",
     "output_type": "stream",
     "text": [
      "accuracy_score 1.0\n",
      "recall_score 1.0\n",
      "precision_score 1.0\n",
      "f1_score 1.0\n",
      "Model: \"model_17\"\n",
      "_________________________________________________________________\n",
      "Layer (type)                 Output Shape              Param #   \n",
      "=================================================================\n",
      "input_2 (InputLayer)         [(None, 32, 256)]         0         \n",
      "_________________________________________________________________\n",
      "bidirectional_1 (Bidirection (None, 32, 96)            117120    \n",
      "_________________________________________________________________\n",
      "time_distributed_1 (TimeDist (None, 32, 1)             97        \n",
      "=================================================================\n",
      "Total params: 117,217\n",
      "Trainable params: 117,217\n",
      "Non-trainable params: 0\n",
      "_________________________________________________________________\n",
      "======Training stage======\n",
      "Train on 66409 samples\n",
      "Epoch 1/10\n",
      "66304/66409 [============================>.] - ETA: 0s - loss: 1.9691e-05 - accuracy: 1.0000WARNING:tensorflow:Early stopping conditioned on metric `val_loss` which is not available. Available metrics are: loss,accuracy\n",
      "66409/66409 [==============================] - 34s 512us/sample - loss: 1.9660e-05 - accuracy: 1.0000\n",
      "Epoch 2/10\n",
      "66336/66409 [============================>.] - ETA: 0s - loss: 5.3741e-08 - accuracy: 1.0000WARNING:tensorflow:Early stopping conditioned on metric `val_loss` which is not available. Available metrics are: loss,accuracy\n",
      "66409/66409 [==============================] - 22s 328us/sample - loss: 5.3683e-08 - accuracy: 1.0000\n",
      "Epoch 3/10\n",
      "66336/66409 [============================>.] - ETA: 0s - loss: 6.7166e-07 - accuracy: 1.0000WARNING:tensorflow:Early stopping conditioned on metric `val_loss` which is not available. Available metrics are: loss,accuracy\n",
      "66409/66409 [==============================] - 22s 325us/sample - loss: 6.7092e-07 - accuracy: 1.0000\n",
      "Epoch 4/10\n",
      "66368/66409 [============================>.] - ETA: 0s - loss: 1.2340e-07 - accuracy: 1.0000WARNING:tensorflow:Early stopping conditioned on metric `val_loss` which is not available. Available metrics are: loss,accuracy\n",
      "66409/66409 [==============================] - 21s 323us/sample - loss: 1.2332e-07 - accuracy: 1.0000\n",
      "Epoch 5/10\n",
      "66304/66409 [============================>.] - ETA: 0s - loss: 1.2113e-08 - accuracy: 1.0000WARNING:tensorflow:Early stopping conditioned on metric `val_loss` which is not available. Available metrics are: loss,accuracy\n",
      "66409/66409 [==============================] - 22s 324us/sample - loss: 1.2097e-08 - accuracy: 1.0000\n",
      "Epoch 6/10\n",
      "66368/66409 [============================>.] - ETA: 0s - loss: 3.0185e-09 - accuracy: 1.0000WARNING:tensorflow:Early stopping conditioned on metric `val_loss` which is not available. Available metrics are: loss,accuracy\n",
      "66409/66409 [==============================] - 22s 324us/sample - loss: 3.0166e-09 - accuracy: 1.0000\n",
      "Epoch 7/10\n",
      "66272/66409 [============================>.] - ETA: 0s - loss: 1.0563e-08 - accuracy: 1.0000WARNING:tensorflow:Early stopping conditioned on metric `val_loss` which is not available. Available metrics are: loss,accuracy\n",
      "66409/66409 [==============================] - 22s 324us/sample - loss: 1.0541e-08 - accuracy: 1.0000\n",
      "Epoch 8/10\n",
      "66304/66409 [============================>.] - ETA: 0s - loss: 1.6000e-09 - accuracy: 1.0000WARNING:tensorflow:Early stopping conditioned on metric `val_loss` which is not available. Available metrics are: loss,accuracy\n",
      "66409/66409 [==============================] - 22s 325us/sample - loss: 1.5977e-09 - accuracy: 1.0000\n",
      "Epoch 9/10\n",
      "66304/66409 [============================>.] - ETA: 0s - loss: 6.6290e-09 - accuracy: 1.0000WARNING:tensorflow:Early stopping conditioned on metric `val_loss` which is not available. Available metrics are: loss,accuracy\n",
      "66409/66409 [==============================] - 22s 324us/sample - loss: 6.6186e-09 - accuracy: 1.0000\n",
      "Epoch 10/10\n",
      "66400/66409 [============================>.] - ETA: 0s - loss: 1.4461e-09 - accuracy: 1.0000WARNING:tensorflow:Early stopping conditioned on metric `val_loss` which is not available. Available metrics are: loss,accuracy\n",
      "66409/66409 [==============================] - 17s 250us/sample - loss: 1.4459e-09 - accuracy: 1.0000\n"
     ]
    },
    {
     "data": {
      "text/plain": [
       "<tensorflow.python.keras.callbacks.History at 0x286af494bc8>"
      ]
     },
     "execution_count": 24,
     "metadata": {},
     "output_type": "execute_result"
    },
    {
     "name": "stdout",
     "output_type": "stream",
     "text": [
      "accuracy_score 1.0\n",
      "recall_score 1.0\n",
      "precision_score 1.0\n",
      "f1_score 1.0\n",
      "Model: \"model_18\"\n",
      "_________________________________________________________________\n",
      "Layer (type)                 Output Shape              Param #   \n",
      "=================================================================\n",
      "input_2 (InputLayer)         [(None, 32, 256)]         0         \n",
      "_________________________________________________________________\n",
      "bidirectional_1 (Bidirection (None, 32, 96)            117120    \n",
      "_________________________________________________________________\n",
      "time_distributed_1 (TimeDist (None, 32, 1)             97        \n",
      "=================================================================\n",
      "Total params: 117,217\n",
      "Trainable params: 117,217\n",
      "Non-trainable params: 0\n",
      "_________________________________________________________________\n",
      "======Training stage======\n",
      "Train on 66410 samples\n",
      "Epoch 1/10\n",
      "66272/66410 [============================>.] - ETA: 0s - loss: 3.4986e-09 - accuracy: 1.0000WARNING:tensorflow:Early stopping conditioned on metric `val_loss` which is not available. Available metrics are: loss,accuracy\n",
      "66410/66410 [==============================] - 21s 317us/sample - loss: 3.4917e-09 - accuracy: 1.0000\n",
      "Epoch 2/10\n",
      "66176/66410 [============================>.] - ETA: 0s - loss: 2.1519e-08 - accuracy: 1.0000WARNING:tensorflow:Early stopping conditioned on metric `val_loss` which is not available. Available metrics are: loss,accuracy\n",
      "66410/66410 [==============================] - 15s 223us/sample - loss: 2.1446e-08 - accuracy: 1.0000\n",
      "Epoch 3/10\n",
      "66208/66410 [============================>.] - ETA: 0s - loss: 4.1206e-09 - accuracy: 1.0000WARNING:tensorflow:Early stopping conditioned on metric `val_loss` which is not available. Available metrics are: loss,accuracy\n",
      "66410/66410 [==============================] - 15s 223us/sample - loss: 4.1087e-09 - accuracy: 1.0000\n",
      "Epoch 4/10\n",
      "66208/66410 [============================>.] - ETA: 0s - loss: 6.8874e-09 - accuracy: 1.0000WARNING:tensorflow:Early stopping conditioned on metric `val_loss` which is not available. Available metrics are: loss,accuracy\n",
      "66410/66410 [==============================] - 15s 225us/sample - loss: 7.2995e-09 - accuracy: 1.0000\n",
      "Epoch 5/10\n",
      "66400/66410 [============================>.] - ETA: 0s - loss: 1.6406e-06 - accuracy: 1.0000WARNING:tensorflow:Early stopping conditioned on metric `val_loss` which is not available. Available metrics are: loss,accuracy\n",
      "66410/66410 [==============================] - 15s 226us/sample - loss: 1.6403e-06 - accuracy: 1.0000\n",
      "Epoch 6/10\n",
      "66240/66410 [============================>.] - ETA: 0s - loss: 3.2060e-07 - accuracy: 1.0000WARNING:tensorflow:Early stopping conditioned on metric `val_loss` which is not available. Available metrics are: loss,accuracy\n",
      "66410/66410 [==============================] - 15s 224us/sample - loss: 3.1978e-07 - accuracy: 1.0000\n",
      "Epoch 7/10\n",
      "66336/66410 [============================>.] - ETA: 0s - loss: 4.5094e-08 - accuracy: 1.0000WARNING:tensorflow:Early stopping conditioned on metric `val_loss` which is not available. Available metrics are: loss,accuracy\n",
      "66410/66410 [==============================] - 15s 225us/sample - loss: 4.5044e-08 - accuracy: 1.0000\n",
      "Epoch 8/10\n",
      "66272/66410 [============================>.] - ETA: 0s - loss: 3.0768e-07 - accuracy: 1.0000WARNING:tensorflow:Early stopping conditioned on metric `val_loss` which is not available. Available metrics are: loss,accuracy\n",
      "66410/66410 [==============================] - 15s 223us/sample - loss: 3.0705e-07 - accuracy: 1.0000\n",
      "Epoch 9/10\n",
      "66336/66410 [============================>.] - ETA: 0s - loss: 4.7376e-10 - accuracy: 1.0000WARNING:tensorflow:Early stopping conditioned on metric `val_loss` which is not available. Available metrics are: loss,accuracy\n",
      "66410/66410 [==============================] - 16s 236us/sample - loss: 4.7326e-10 - accuracy: 1.0000\n",
      "Epoch 10/10\n",
      "66368/66410 [============================>.] - ETA: 0s - loss: 4.0749e-10 - accuracy: 1.0000WARNING:tensorflow:Early stopping conditioned on metric `val_loss` which is not available. Available metrics are: loss,accuracy\n",
      "66410/66410 [==============================] - 15s 231us/sample - loss: 4.0734e-10 - accuracy: 1.0000\n"
     ]
    },
    {
     "data": {
      "text/plain": [
       "<tensorflow.python.keras.callbacks.History at 0x28883e20648>"
      ]
     },
     "execution_count": 24,
     "metadata": {},
     "output_type": "execute_result"
    },
    {
     "name": "stdout",
     "output_type": "stream",
     "text": [
      "accuracy_score 1.0\n",
      "recall_score 1.0\n",
      "precision_score 1.0\n",
      "f1_score 1.0\n",
      "Model: \"model_19\"\n",
      "_________________________________________________________________\n",
      "Layer (type)                 Output Shape              Param #   \n",
      "=================================================================\n",
      "input_2 (InputLayer)         [(None, 32, 256)]         0         \n",
      "_________________________________________________________________\n",
      "bidirectional_1 (Bidirection (None, 32, 96)            117120    \n",
      "_________________________________________________________________\n",
      "time_distributed_1 (TimeDist (None, 32, 1)             97        \n",
      "=================================================================\n",
      "Total params: 117,217\n",
      "Trainable params: 117,217\n",
      "Non-trainable params: 0\n",
      "_________________________________________________________________\n",
      "======Training stage======\n",
      "Train on 66410 samples\n",
      "Epoch 1/10\n",
      "66304/66410 [============================>.] - ETA: 0s - loss: 3.7978e-10 - accuracy: 1.0000WARNING:tensorflow:Early stopping conditioned on metric `val_loss` which is not available. Available metrics are: loss,accuracy\n",
      "66410/66410 [==============================] - 21s 324us/sample - loss: 3.7918e-10 - accuracy: 1.0000\n",
      "Epoch 2/10\n",
      "66400/66410 [============================>.] - ETA: 0s - loss: 3.4540e-10 - accuracy: 1.0000WARNING:tensorflow:Early stopping conditioned on metric `val_loss` which is not available. Available metrics are: loss,accuracy\n",
      "66410/66410 [==============================] - 15s 233us/sample - loss: 3.4535e-10 - accuracy: 1.0000\n",
      "Epoch 3/10\n",
      "66368/66410 [============================>.] - ETA: 0s - loss: 3.2463e-10 - accuracy: 1.0000WARNING:tensorflow:Early stopping conditioned on metric `val_loss` which is not available. Available metrics are: loss,accuracy\n",
      "66410/66410 [==============================] - 16s 239us/sample - loss: 3.2446e-10 - accuracy: 1.0000\n",
      "Epoch 4/10\n",
      "66304/66410 [============================>.] - ETA: 0s - loss: 3.0834e-10 - accuracy: 1.0000WARNING:tensorflow:Early stopping conditioned on metric `val_loss` which is not available. Available metrics are: loss,accuracy\n",
      "66410/66410 [==============================] - 15s 232us/sample - loss: 3.0802e-10 - accuracy: 1.0000\n",
      "Epoch 5/10\n",
      "66368/66410 [============================>.] - ETA: 0s - loss: 2.9264e-10 - accuracy: 1.0000WARNING:tensorflow:Early stopping conditioned on metric `val_loss` which is not available. Available metrics are: loss,accuracy\n",
      "66410/66410 [==============================] - 15s 231us/sample - loss: 2.9259e-10 - accuracy: 1.0000\n",
      "Epoch 6/10\n",
      "66272/66410 [============================>.] - ETA: 0s - loss: 2.8185e-10 - accuracy: 1.0000WARNING:tensorflow:Early stopping conditioned on metric `val_loss` which is not available. Available metrics are: loss,accuracy\n",
      "66410/66410 [==============================] - 15s 223us/sample - loss: 2.8233e-10 - accuracy: 1.0000\n",
      "Epoch 7/10\n",
      "66176/66410 [============================>.] - ETA: 0s - loss: 2.7167e-10 - accuracy: 1.0000WARNING:tensorflow:Early stopping conditioned on metric `val_loss` which is not available. Available metrics are: loss,accuracy\n",
      "66410/66410 [==============================] - 15s 223us/sample - loss: 2.7100e-10 - accuracy: 1.0000\n",
      "Epoch 8/10\n",
      "66304/66410 [============================>.] - ETA: 0s - loss: 2.6182e-10 - accuracy: 1.0000WARNING:tensorflow:Early stopping conditioned on metric `val_loss` which is not available. Available metrics are: loss,accuracy\n",
      "66410/66410 [==============================] - 15s 224us/sample - loss: 2.6149e-10 - accuracy: 1.0000\n",
      "Epoch 9/10\n",
      "66240/66410 [============================>.] - ETA: 0s - loss: 2.5311e-10 - accuracy: 1.0000WARNING:tensorflow:Early stopping conditioned on metric `val_loss` which is not available. Available metrics are: loss,accuracy\n",
      "66410/66410 [==============================] - 15s 227us/sample - loss: 2.5310e-10 - accuracy: 1.0000\n",
      "Epoch 10/10\n",
      "66272/66410 [============================>.] - ETA: 0s - loss: 2.4331e-10 - accuracy: 1.0000WARNING:tensorflow:Early stopping conditioned on metric `val_loss` which is not available. Available metrics are: loss,accuracy\n",
      "66410/66410 [==============================] - 15s 226us/sample - loss: 2.4404e-10 - accuracy: 1.0000\n"
     ]
    },
    {
     "data": {
      "text/plain": [
       "<tensorflow.python.keras.callbacks.History at 0x286ad889dc8>"
      ]
     },
     "execution_count": 24,
     "metadata": {},
     "output_type": "execute_result"
    },
    {
     "name": "stdout",
     "output_type": "stream",
     "text": [
      "accuracy_score 1.0\n",
      "recall_score 1.0\n",
      "precision_score 1.0\n",
      "f1_score 1.0\n",
      "\n",
      "K-fold cross validation Accuracy: [0.9997077856078059, 0.999767075484483, 0.9998941252202196, 0.9999534150968966, 0.9999576500880878, 0.9999830600352351, 1.0, 1.0, 1.0, 1.0]\n",
      "\n",
      "K-fold cross validation Recall: [0.9930525401650022, 0.9943107221006564, 0.998886910062333, 1.0, 0.9977533138620535, 0.9997731911998186, 1.0, 1.0, 1.0, 1.0]\n",
      "\n",
      "K-fold cross validation Precision: [0.9919757102580785, 0.9936584299147169, 0.9955624583980475, 0.9975555555555555, 1.0, 0.9993198821128996, 1.0, 1.0, 1.0, 1.0]\n",
      "\n",
      "K-fold cross validation F1-Score: [0.9925138331344255, 0.993984468992672, 0.9972219135459496, 0.9987762821225943, 0.9988753936122357, 0.999546485260771, 1.0, 1.0, 1.0, 1.0]\n"
     ]
    }
   ],
   "source": [
    "# 교차검증 kfold\n",
    "from sklearn.model_selection import KFold\n",
    "\n",
    "# Accuracy, Precision, Recall, F1-Score\n",
    "from sklearn.metrics import accuracy_score, recall_score, precision_score, f1_score\n",
    "\n",
    "# Confusion Matrix, ROC Curve\n",
    "from sklearn.metrics import confusion_matrix, roc_auc_score\n",
    "\n",
    "# 최종 평가지표들 평균용\n",
    "accuracy, recall, precision, f1score, cm = [], [], [], [], []\n",
    "\n",
    "# 11. 교차검증 kfold - k.split - 10회 / K-Fold 객체 생성\n",
    "# kf = KFold(n_splits=10, shuffle=False, random_state=None) # KFold non shuffle 버전\n",
    "kf = KFold(n_splits=10, shuffle=True, random_state=None) # KFold non shuffle 버전\n",
    "\n",
    "for train, validation in kf.split(x_bc8_3, y_bc8_3):\n",
    "    model1 = models.Model(xInput, xOutput)\n",
    "    model1.compile(loss='binary_crossentropy', optimizer='rmsprop', metrics=['accuracy'])\n",
    "    model1.summary()\n",
    "    print('======Training stage======')\n",
    "    model1.fit(x_bc8_3[train],\n",
    "               y_bc8_3[train],\n",
    "               epochs = 10,\n",
    "               batch_size = 32,\n",
    "               callbacks=[early_stopping])\n",
    "    #k_accuracy = '%.4f' %(model1.evaluate(data_10000x[validation], data_10000y[validation])[1])\n",
    "\n",
    "# 12. 교차검증결과 predict - 검증셋들\n",
    "    # predict 값\n",
    "    k_pr = model1.predict(x_bc8_3[validation])\n",
    "    \n",
    "    # 테스트 predict 결과들 비교 (평가지표 보기위함)\n",
    "    pred = np.round(np.array(k_pr).flatten().tolist())\n",
    "    y_test = np.array(y_bc8_3[validation]).flatten().tolist()\n",
    "    \n",
    "# 13. 평가지표들 출력\n",
    "    ## 평가지표들\n",
    "    k_accuracy = float(accuracy_score(y_test, pred))\n",
    "    k_recall =  float(recall_score(y_test, pred))\n",
    "    k_precision = float(precision_score(y_test, pred))\n",
    "    k_f1_score = float(f1_score(y_test, pred))\n",
    "    #k_cm = float(confusion_matrix(y_test, pred))\n",
    "    \n",
    "    print('accuracy_score', k_accuracy)\n",
    "    print('recall_score', k_recall)\n",
    "    print('precision_score', k_precision)\n",
    "    print('f1_score', k_f1_score)\n",
    "    #print('\\nconfusion_matrix\\n', k_cm)\n",
    "\n",
    "    accuracy.append(k_accuracy)\n",
    "    recall.append(k_recall)\n",
    "    precision.append(k_precision)\n",
    "    f1score.append(k_f1_score)\n",
    "    #cm.append(k_cm)\n",
    "#    print('roc_curve 면적', roc_auc_score(y_test, pred))\n",
    "\n",
    "# 최종 결과지표\n",
    "print('\\nK-fold cross validation Accuracy: {}'.format(accuracy))\n",
    "print('\\nK-fold cross validation Recall: {}'.format(recall))\n",
    "print('\\nK-fold cross validation Precision: {}'.format(precision))\n",
    "print('\\nK-fold cross validation F1-Score: {}'.format(f1score))\n",
    "#print('\\nK-fold cross validation ConfusionMatrix: {}'.format(cm))"
   ]
  },
  {
   "cell_type": "markdown",
   "metadata": {},
   "source": [
    "## (9) 평가지표"
   ]
  },
  {
   "cell_type": "code",
   "execution_count": 25,
   "metadata": {},
   "outputs": [
    {
     "name": "stdout",
     "output_type": "stream",
     "text": [
      "10-Fold Cross_validation. Accuracy : 0.9999263111532727\n",
      "10-Fold Cross_validation. Recall : 0.9983776677389864\n",
      "10-Fold Cross_validation. Precision : 0.9978072036239297\n",
      "10-Fold Cross_validation. F1-Score : 0.9980918376668647\n"
     ]
    }
   ],
   "source": [
    "print('10-Fold Cross_validation. Accuracy :', np.mean(accuracy))\n",
    "print('10-Fold Cross_validation. Recall :', np.mean(recall))\n",
    "print('10-Fold Cross_validation. Precision :', np.mean(precision))\n",
    "print('10-Fold Cross_validation. F1-Score :', np.mean(f1score))"
   ]
  },
  {
   "cell_type": "code",
   "execution_count": 26,
   "metadata": {},
   "outputs": [
    {
     "name": "stdout",
     "output_type": "stream",
     "text": [
      "save 완료\n"
     ]
    }
   ],
   "source": [
    "model1.save('gcc8_bin_core_s32_h48_o3.h5')\n",
    "print('save 완료')"
   ]
  }
 ],
 "metadata": {
  "kernelspec": {
   "display_name": "Python 3",
   "language": "python",
   "name": "python3"
  },
  "language_info": {
   "codemirror_mode": {
    "name": "ipython",
    "version": 3
   },
   "file_extension": ".py",
   "mimetype": "text/x-python",
   "name": "python",
   "nbconvert_exporter": "python",
   "pygments_lexer": "ipython3",
   "version": "3.7.7"
  }
 },
 "nbformat": 4,
 "nbformat_minor": 4
}
