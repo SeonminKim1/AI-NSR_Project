{
 "cells": [
  {
   "cell_type": "markdown",
   "metadata": {},
   "source": [
    "## RNN 모델 N-Byte 방식 (함수정보 포함 vs 미포함 => 1:1 비율)\n",
    "\n",
    "## (1) 데이터로드"
   ]
  },
  {
   "cell_type": "code",
   "execution_count": 2,
   "metadata": {},
   "outputs": [
    {
     "name": "stdout",
     "output_type": "stream",
     "text": [
      "(22459287, 2) (7651934, 2)\n",
      "bin - core concat\n",
      "shape - (30111221, 2)\n",
      "reset_index 완료\n",
      "input data shape\n"
     ]
    },
    {
     "data": {
      "text/html": [
       "<div>\n",
       "<style scoped>\n",
       "    .dataframe tbody tr th:only-of-type {\n",
       "        vertical-align: middle;\n",
       "    }\n",
       "\n",
       "    .dataframe tbody tr th {\n",
       "        vertical-align: top;\n",
       "    }\n",
       "\n",
       "    .dataframe thead th {\n",
       "        text-align: right;\n",
       "    }\n",
       "</style>\n",
       "<table border=\"1\" class=\"dataframe\">\n",
       "  <thead>\n",
       "    <tr style=\"text-align: right;\">\n",
       "      <th></th>\n",
       "      <th>bin</th>\n",
       "      <th>label</th>\n",
       "    </tr>\n",
       "  </thead>\n",
       "  <tbody>\n",
       "    <tr>\n",
       "      <th>0</th>\n",
       "      <td>47</td>\n",
       "      <td>0</td>\n",
       "    </tr>\n",
       "    <tr>\n",
       "      <th>1</th>\n",
       "      <td>108</td>\n",
       "      <td>0</td>\n",
       "    </tr>\n",
       "    <tr>\n",
       "      <th>2</th>\n",
       "      <td>105</td>\n",
       "      <td>0</td>\n",
       "    </tr>\n",
       "    <tr>\n",
       "      <th>3</th>\n",
       "      <td>98</td>\n",
       "      <td>0</td>\n",
       "    </tr>\n",
       "    <tr>\n",
       "      <th>4</th>\n",
       "      <td>47</td>\n",
       "      <td>0</td>\n",
       "    </tr>\n",
       "  </tbody>\n",
       "</table>\n",
       "</div>"
      ],
      "text/plain": [
       "   bin  label\n",
       "0   47      0\n",
       "1  108      0\n",
       "2  105      0\n",
       "3   98      0\n",
       "4   47      0"
      ]
     },
     "execution_count": 2,
     "metadata": {},
     "output_type": "execute_result"
    }
   ],
   "source": [
    "# (1) 데이터로드\n",
    "import pandas as pd\n",
    "import numpy as np\n",
    "\n",
    "import warnings\n",
    "warnings.filterwarnings(action='ignore')\n",
    "\n",
    "# 여러개 쳐도 나오게\n",
    "from IPython.core.interactiveshell import InteractiveShell\n",
    "InteractiveShell.ast_node_interactivity = \"all\"\n",
    "\n",
    "# 파일읽기\n",
    "bin8_0 = pd.read_csv(\"../../바이너리_최종데이터_1004/gcc8/o0/o0_bincore8.csv\", index_col=0)\n",
    "print(bin8_0.shape)\n",
    "\n",
    "# reset_index (hex processing 하면서 값이 빠졌으니까 + n_gram 에서 index를 다루기 때문에)\n",
    "bin8_0.reset_index(inplace=True, drop=True)\n",
    "\n",
    "print('shape -', bin8_0.shape)\n",
    "print('reset_index 완료')\n",
    "print('input data shape')\n",
    "bin8_0.head()"
   ]
  },
  {
   "cell_type": "code",
   "execution_count": 3,
   "metadata": {},
   "outputs": [
    {
     "name": "stdout",
     "output_type": "stream",
     "text": [
      "256\n",
      "0    30060985\n",
      "1       50236\n",
      "Name: label, dtype: int64\n"
     ]
    }
   ],
   "source": [
    "# (2-1) 데이터체크 1 - hex(16진수)가 256 label을 가져야 dummies 변환 가능 \n",
    "# 16진수 256개 종류가 있어서 pd.get_dummies 사용 가능.\n",
    "print(len(bin8_0['bin'].unique()))\n",
    "\n",
    "# (2-2) 데이터 체크 2 - 1, 0 비율 ==> 1이 함수의 갯수를 뜻함\n",
    "# 정답 데이터 1, 0 비율 확인  ==> 1이 함수의 갯수를 뜻함\n",
    "print(bin8_0['label'].value_counts())"
   ]
  },
  {
   "cell_type": "markdown",
   "metadata": {},
   "source": [
    "## (3) N Byte씩 자르기"
   ]
  },
  {
   "cell_type": "code",
   "execution_count": 4,
   "metadata": {},
   "outputs": [
    {
     "name": "stdout",
     "output_type": "stream",
     "text": [
      "1607552\n",
      "나머지 0\n",
      "최종 길이 1607552\n",
      "bin8_0 1607552\n"
     ]
    }
   ],
   "source": [
    "idx_bin = bin8_0[bin8_0['label']==1].index  # 407, 474 ...\n",
    "ls_bin = list(idx_bin)\n",
    "\n",
    "# 최종 뽑을 행에 대한 index\n",
    "ls_idx_bin = []\n",
    "\n",
    "# n byte 자르기 방식\n",
    "left_idx, right_idx = 0, 32 # 3개씩\n",
    "\n",
    "# n byte 자르기\n",
    "for k in range(left_idx, right_idx):\n",
    "    ls_idx_bin.extend(list(idx_bin + k)) # index 형이라서 가능\n",
    "\n",
    "#ls_idx = list(set(ls_idx)) \n",
    "ls_idx_bin.sort() # 인덱스 정렬\n",
    "\n",
    "# 1차 index 해당범위 초과한 것들 없애기\n",
    "ls_idx_bin = list(filter(lambda x: x<len(bin8_0), ls_idx_bin))\n",
    "print(len(ls_idx_bin))\n",
    "\n",
    "# 2차 남은 index들 중 right_idx 나눈 나머지 없애기\n",
    "sub_bin = len(ls_idx_bin)%(right_idx)\n",
    "print('나머지', sub_bin)\n",
    "\n",
    "ls_idx_bin = ls_idx_bin[:len(ls_idx_bin)-sub_bin]\n",
    "print('최종 길이', len(ls_idx_bin))\n",
    "\n",
    "print('bin8_0', len(ls_idx_bin))\n",
    "\n",
    "# loc 로 수정필요\n",
    "bin8_0_Ngram = bin8_0.loc[ls_idx_bin,:].copy()"
   ]
  },
  {
   "cell_type": "markdown",
   "metadata": {},
   "source": [
    "## (4) false data 만들기"
   ]
  },
  {
   "cell_type": "code",
   "execution_count": 5,
   "metadata": {},
   "outputs": [
    {
     "name": "stdout",
     "output_type": "stream",
     "text": [
      "79730.0\n",
      "0 3921410\n",
      "1000 16506259\n",
      "2000 10690157\n",
      "3000 29609676\n",
      "4000 6548859\n",
      "5000 19642312\n",
      "6000 3494053\n",
      "7000 24726310\n",
      "8000 26637051\n",
      "9000 29206116\n",
      "10000 24207739\n",
      "11000 23873191\n",
      "12000 7546867\n",
      "13000 26707276\n",
      "14000 6435133\n",
      "15000 1186544\n",
      "16000 1144639\n",
      "17000 11175863\n",
      "18000 12905527\n",
      "19000 6725049\n",
      "20000 12062965\n",
      "21000 11907480\n",
      "22000 3548298\n",
      "23000 1797704\n",
      "24000 6107715\n",
      "25000 12869785\n",
      "26000 17160316\n",
      "27000 18271149\n",
      "28000 97301\n",
      "29000 11539523\n",
      "30000 1606489\n",
      "31000 17132411\n",
      "32000 23176911\n",
      "33000 23715084\n",
      "34000 8221123\n",
      "35000 11672321\n",
      "36000 20427516\n",
      "37000 7826810\n",
      "38000 22343980\n",
      "39000 6378052\n",
      "40000 7078186\n",
      "41000 9402546\n",
      "42000 2812503\n",
      "43000 2443202\n",
      "44000 19290372\n",
      "45000 3800424\n",
      "46000 15615910\n",
      "47000 18793925\n",
      "48000 26969786\n",
      "49000 20752673\n",
      "50000 10658342\n",
      "51000 9827857\n",
      "52000 1795828\n",
      "53000 19475504\n",
      "54000 7266147\n",
      "55000 12909671\n",
      "56000 6733053\n",
      "57000 1654260\n",
      "58000 9633854\n",
      "59000 18683943\n",
      "60000 19122650\n",
      "61000 18457535\n",
      "62000 15442641\n",
      "63000 29557399\n",
      "64000 12772279\n",
      "65000 26632343\n",
      "66000 21654553\n",
      "67000 4783973\n",
      "68000 10913957\n",
      "69000 5483173\n",
      "70000 7252280\n",
      "71000 9127308\n",
      "72000 15788319\n",
      "73000 10673534\n",
      "74000 25819051\n",
      "75000 6562921\n",
      "76000 6683825\n",
      "77000 13301096\n",
      "78000 999377\n",
      "79000 24155680\n",
      "완료\n",
      "79730\n"
     ]
    }
   ],
   "source": [
    "# false data 만들기 - False 데이터 랜덤 생성\n",
    "\n",
    "# 목표치\n",
    "goal_bin = len(bin8_0_Ngram)/right_idx\n",
    "count_bin = 0\n",
    "\n",
    "print(goal_bin)\n",
    "\n",
    "# 최종 데이터 Frame\n",
    "d_bin = pd.DataFrame(columns = bin8_0.columns)\n",
    "\n",
    "binutils_df = []\n",
    "# goal 에 도달할 때까지\n",
    "while True:\n",
    "    if (count_bin == goal_bin):\n",
    "            break\n",
    "    # 진행상황 살펴보기 위함\n",
    "            \n",
    "    # 랜덤 N 바이트씩 뽑음\n",
    "    # random index\n",
    "    random_idx_bin = np.random.randint(len(bin8_0)-right_idx)\n",
    "\n",
    "    if count_bin % 1000==0:\n",
    "        print(count_bin, end=' ')\n",
    "        print(random_idx_bin)\n",
    "\n",
    "    df_bin = bin8_0[random_idx_bin : random_idx_bin + right_idx]\n",
    "    \n",
    "    # 뽑은 index의 N 바이트 중에 1이 없는 경우만\n",
    "    if 1 not in df_bin['label'] and count_bin < goal_bin:\n",
    "        binutils_df.append(df_bin)\n",
    "        count_bin+=1\n",
    "\n",
    "print('완료')\n",
    "print(len(binutils_df))"
   ]
  },
  {
   "cell_type": "code",
   "execution_count": 6,
   "metadata": {},
   "outputs": [
    {
     "name": "stdout",
     "output_type": "stream",
     "text": [
      "79730\n",
      "50236\n"
     ]
    }
   ],
   "source": [
    "# True data와 False Data 같은지 체크\n",
    "print(len(binutils_df))\n",
    "print(bin8_0['label'].value_counts()[1])"
   ]
  },
  {
   "cell_type": "markdown",
   "metadata": {},
   "source": [
    "## (5) False Data + True Data 합치기"
   ]
  },
  {
   "cell_type": "code",
   "execution_count": 7,
   "metadata": {},
   "outputs": [
    {
     "data": {
      "text/plain": [
       "(5102720, 2)"
      ]
     },
     "execution_count": 7,
     "metadata": {},
     "output_type": "execute_result"
    }
   ],
   "source": [
    "f_data = pd.concat(binutils_df)\n",
    "final = pd.concat([f_data, bin8_0_Ngram])\n",
    "final.shape"
   ]
  },
  {
   "cell_type": "markdown",
   "metadata": {},
   "source": [
    "## (6) one hot encoding"
   ]
  },
  {
   "cell_type": "code",
   "execution_count": 8,
   "metadata": {},
   "outputs": [
    {
     "name": "stdout",
     "output_type": "stream",
     "text": [
      "원핫인코딩완료\n",
      "(5102720, 257)\n"
     ]
    }
   ],
   "source": [
    "# 훈련데이터 (gcc 최적화버전 0, 1, 2, 3 one hot encoding)\n",
    "bc8_0_onehot_Ngram = pd.get_dummies(final['bin'])\n",
    "bc8_0_onehot_Ngram = pd.concat([final['label'], bc8_0_onehot_Ngram], axis=1)\n",
    "\n",
    "print('원핫인코딩완료')\n",
    "print(bc8_0_onehot_Ngram.shape)"
   ]
  },
  {
   "cell_type": "code",
   "execution_count": 9,
   "metadata": {},
   "outputs": [
    {
     "name": "stdout",
     "output_type": "stream",
     "text": [
      "(5102720, 256) (5102720, 256)\n",
      "(159460, 32, 256) (159460, 32, 1)\n"
     ]
    }
   ],
   "source": [
    "# 훈련 데이터, 훈련 라벨\n",
    "x_bc8_0 = bc8_0_onehot_Ngram.iloc[:,1:].to_numpy()\n",
    "y_bc8_0 = bc8_0_onehot_Ngram['label'].to_numpy()\n",
    "print(x_bc8_0.shape, x_bc8_0.shape)\n",
    "\n",
    "x_bc8_0 = x_bc8_0.reshape(-1, right_idx, x_bc8_0.shape[1])\n",
    "y_bc8_0 = y_bc8_0.reshape(-1, right_idx, 1)\n",
    "\n",
    "print(x_bc8_0.shape, y_bc8_0.shape)"
   ]
  },
  {
   "cell_type": "code",
   "execution_count": 10,
   "metadata": {},
   "outputs": [
    {
     "name": "stdout",
     "output_type": "stream",
     "text": [
      "(159460, 32, 256) (159460, 32, 1)\n"
     ]
    }
   ],
   "source": [
    "# numpy 행, 열 섞기\n",
    "p = np.random.permutation(x_bc8_0.shape[0])\n",
    "\n",
    "x_bc8_0 = x_bc8_0[p]\n",
    "y_bc8_0 = y_bc8_0[p]\n",
    "\n",
    "print(x_bc8_0.shape, y_bc8_0.shape)"
   ]
  },
  {
   "cell_type": "markdown",
   "metadata": {},
   "source": [
    "## (7) 모델"
   ]
  },
  {
   "cell_type": "code",
   "execution_count": 11,
   "metadata": {},
   "outputs": [],
   "source": [
    "# (10) 양방향 LSTM 모델링 작업\n",
    "from tensorflow.keras import layers, models\n",
    "#from tf.keras.models import Model, Sequential\n",
    "#from tf.keras.layers import SimpleRNN, Input, Dense, LSTM\n",
    "#from tf.keras.layers import Bidirectional, TimeDistributed\n",
    "\n",
    "# 학습\n",
    "from tensorflow.keras.callbacks import EarlyStopping\n",
    "early_stopping = EarlyStopping(patience = 3) # 조기종료 콜백함수 정의\n",
    "\n",
    "xInput = layers.Input(batch_shape=(None,right_idx, 256)) \n",
    "xBiLstm = layers.Bidirectional(layers.LSTM(48, return_sequences=True, stateful=False), merge_mode = 'concat')(xInput)\n",
    "xOutput = layers.TimeDistributed(layers.Dense(1, activation ='sigmoid'))(xBiLstm) # 각 스텝에서 cost가 전송되고, 오류가 다음 step으로 전송됨."
   ]
  },
  {
   "cell_type": "markdown",
   "metadata": {},
   "source": [
    "## (8) 학습 - 10 KFold"
   ]
  },
  {
   "cell_type": "code",
   "execution_count": 12,
   "metadata": {
    "scrolled": false
   },
   "outputs": [
    {
     "name": "stdout",
     "output_type": "stream",
     "text": [
      "Model: \"model\"\n",
      "_________________________________________________________________\n",
      "Layer (type)                 Output Shape              Param #   \n",
      "=================================================================\n",
      "input_1 (InputLayer)         [(None, 32, 256)]         0         \n",
      "_________________________________________________________________\n",
      "bidirectional (Bidirectional (None, 32, 96)            117120    \n",
      "_________________________________________________________________\n",
      "time_distributed (TimeDistri (None, 32, 1)             97        \n",
      "=================================================================\n",
      "Total params: 117,217\n",
      "Trainable params: 117,217\n",
      "Non-trainable params: 0\n",
      "_________________________________________________________________\n",
      "======Training stage======\n",
      "Train on 143514 samples\n",
      "Epoch 1/10\n",
      "143456/143514 [============================>.] - ETA: 0s - loss: 0.0040 - accuracy: 0.9991 ETA - EWARNING:tensorflow:Early stopping conditioned on metric `val_loss` which is not available. Available metrics are: loss,accuracy\n",
      "143514/143514 [==============================] - 121s 846us/sample - loss: 0.0040 - accuracy: 0.9991\n",
      "Epoch 2/10\n",
      "143456/143514 [============================>.] - ETA: 0s - loss: 4.8157e-04 - accuracy: 0.9999WARNING:tensorflow:Early stopping conditioned on metric `val_loss` which is not available. Available metrics are: loss,accuracy\n",
      "143514/143514 [==============================] - 100s 695us/sample - loss: 4.8301e-04 - accuracy: 0.9999\n",
      "Epoch 3/10\n",
      "143424/143514 [============================>.] - ETA: 0s - loss: 3.5907e-04 - accuracy: 0.9999 ETA: 0s - loss: 3.5970e-04 - accuracy: WARNING:tensorflow:Early stopping conditioned on metric `val_loss` which is not available. Available metrics are: loss,accuracy\n",
      "143514/143514 [==============================] - 96s 666us/sample - loss: 3.5885e-04 - accuracy: 0.9999\n",
      "Epoch 4/10\n",
      "143424/143514 [============================>.] - ETA: 0s - loss: 3.0669e-04 - accuracy: 0.9999WARNING:tensorflow:Early stopping conditioned on metric `val_loss` which is not available. Available metrics are: loss,accuracy\n",
      "143514/143514 [==============================] - 91s 631us/sample - loss: 3.0650e-04 - accuracy: 0.9999\n",
      "Epoch 5/10\n",
      "143456/143514 [============================>.] - ETA: 0s - loss: 2.7493e-04 - accuracy: 0.9999WARNING:tensorflow:Early stopping conditioned on metric `val_loss` which is not available. Available metrics are: loss,accuracy\n",
      "143514/143514 [==============================] - 94s 655us/sample - loss: 2.7482e-04 - accuracy: 0.9999\n",
      "Epoch 6/10\n",
      "143488/143514 [============================>.] - ETA: 0s - loss: 2.4354e-04 - accuracy: 0.9999WARNING:tensorflow:Early stopping conditioned on metric `val_loss` which is not available. Available metrics are: loss,accuracy\n",
      "143514/143514 [==============================] - 100s 695us/sample - loss: 2.4349e-04 - accuracy: 0.9999\n",
      "Epoch 7/10\n",
      "143424/143514 [============================>.] - ETA: 0s - loss: 2.2608e-04 - accuracy: 0.9999WARNING:tensorflow:Early stopping conditioned on metric `val_loss` which is not available. Available metrics are: loss,accuracy\n",
      "143514/143514 [==============================] - 98s 683us/sample - loss: 2.2596e-04 - accuracy: 0.9999\n",
      "Epoch 8/10\n",
      "143424/143514 [============================>.] - ETA: 0s - loss: 2.1100e-04 - accuracy: 0.9999WARNING:tensorflow:Early stopping conditioned on metric `val_loss` which is not available. Available metrics are: loss,accuracy\n",
      "143514/143514 [==============================] - 98s 680us/sample - loss: 2.1086e-04 - accuracy: 0.9999\n",
      "Epoch 9/10\n",
      "143456/143514 [============================>.] - ETA: 0s - loss: 2.0187e-04 - accuracy: 0.9999WARNING:tensorflow:Early stopping conditioned on metric `val_loss` which is not available. Available metrics are: loss,accuracy\n",
      "143514/143514 [==============================] - 98s 684us/sample - loss: 2.0179e-04 - accuracy: 0.9999\n",
      "Epoch 10/10\n",
      "143488/143514 [============================>.] - ETA: 0s - loss: 1.8776e-04 - accuracy: 1.0000WARNING:tensorflow:Early stopping conditioned on metric `val_loss` which is not available. Available metrics are: loss,accuracy\n",
      "143514/143514 [==============================] - 92s 642us/sample - loss: 1.8772e-04 - accuracy: 1.0000\n"
     ]
    },
    {
     "data": {
      "text/plain": [
       "<tensorflow.python.keras.callbacks.History at 0x24c5fd829c8>"
      ]
     },
     "execution_count": 12,
     "metadata": {},
     "output_type": "execute_result"
    },
    {
     "name": "stdout",
     "output_type": "stream",
     "text": [
      "accuracy_score 0.9998980935657845\n",
      "recall_score 0.9946790250600756\n",
      "precision_score 0.9963892709766162\n",
      "f1_score 0.9955334135028344\n",
      "Model: \"model_1\"\n",
      "_________________________________________________________________\n",
      "Layer (type)                 Output Shape              Param #   \n",
      "=================================================================\n",
      "input_1 (InputLayer)         [(None, 32, 256)]         0         \n",
      "_________________________________________________________________\n",
      "bidirectional (Bidirectional (None, 32, 96)            117120    \n",
      "_________________________________________________________________\n",
      "time_distributed (TimeDistri (None, 32, 1)             97        \n",
      "=================================================================\n",
      "Total params: 117,217\n",
      "Trainable params: 117,217\n",
      "Non-trainable params: 0\n",
      "_________________________________________________________________\n",
      "======Training stage======\n",
      "Train on 143514 samples\n",
      "Epoch 1/10\n",
      "143488/143514 [============================>.] - ETA: 0s - loss: 1.8508e-04 - accuracy: 1.0000WARNING:tensorflow:Early stopping conditioned on metric `val_loss` which is not available. Available metrics are: loss,accuracy\n",
      "143514/143514 [==============================] - 109s 760us/sample - loss: 1.8505e-04 - accuracy: 1.0000\n",
      "Epoch 2/10\n",
      "143456/143514 [============================>.] - ETA: 0s - loss: 1.7627e-04 - accuracy: 1.0000 ETA: 5s - loss: 1.7750e-0 - ETA: 4s - l - ETA: 3s - loss: 1.762 - ETA: 2s - lWARNING:tensorflow:Early stopping conditioned on metric `val_loss` which is not available. Available metrics are: loss,accuracy\n",
      "143514/143514 [==============================] - 96s 668us/sample - loss: 1.7621e-04 - accuracy: 1.0000\n",
      "Epoch 3/10\n",
      "143456/143514 [============================>.] - ETA: 0s - loss: 1.6739e-04 - accuracy: 1.0000WARNING:tensorflow:Early stopping conditioned on metric `val_loss` which is not available. Available metrics are: loss,accuracy\n",
      "143514/143514 [==============================] - 95s 662us/sample - loss: 1.6781e-04 - accuracy: 1.0000\n",
      "Epoch 4/10\n",
      "143488/143514 [============================>.] - ETA: 0s - loss: 1.5413e-04 - accuracy: 1.0000WARNING:tensorflow:Early stopping conditioned on metric `val_loss` which is not available. Available metrics are: loss,accuracy\n",
      "143514/143514 [==============================] - 101s 704us/sample - loss: 1.5410e-04 - accuracy: 1.0000\n",
      "Epoch 5/10\n",
      "143424/143514 [============================>.] - ETA: 0s - loss: 1.3906e-04 - accuracy: 1.0000WARNING:tensorflow:Early stopping conditioned on metric `val_loss` which is not available. Available metrics are: loss,accuracy\n",
      "143514/143514 [==============================] - 101s 706us/sample - loss: 1.3897e-04 - accuracy: 1.0000\n",
      "Epoch 6/10\n",
      "143424/143514 [============================>.] - ETA: 0s - loss: 1.2008e-04 - accuracy: 1.0000 ETA: 0s - loss: 1.2029e-04 - acWARNING:tensorflow:Early stopping conditioned on metric `val_loss` which is not available. Available metrics are: loss,accuracy\n",
      "143514/143514 [==============================] - 96s 666us/sample - loss: 1.2003e-04 - accuracy: 1.0000\n",
      "Epoch 7/10\n",
      "143488/143514 [============================>.] - ETA: 0s - loss: 1.1535e-04 - accuracy: 1.0000WARNING:tensorflow:Early stopping conditioned on metric `val_loss` which is not available. Available metrics are: loss,accuracy\n",
      "143514/143514 [==============================] - 80s 557us/sample - loss: 1.1533e-04 - accuracy: 1.0000\n",
      "Epoch 8/10\n",
      "143392/143514 [============================>.] - ETA: 0s - loss: 1.0939e-04 - accuracy: 1.0000WARNING:tensorflow:Early stopping conditioned on metric `val_loss` which is not available. Available metrics are: loss,accuracy\n",
      "143514/143514 [==============================] - 66s 460us/sample - loss: 1.0930e-04 - accuracy: 1.0000\n",
      "Epoch 9/10\n",
      "143360/143514 [============================>.] - ETA: 0s - loss: 1.0295e-04 - accuracy: 1.0000WARNING:tensorflow:Early stopping conditioned on metric `val_loss` which is not available. Available metrics are: loss,accuracy\n",
      "143514/143514 [==============================] - 58s 402us/sample - loss: 1.0290e-04 - accuracy: 1.0000\n",
      "Epoch 10/10\n",
      "143488/143514 [============================>.] - ETA: 0s - loss: 8.8368e-05 - accuracy: 1.0000WARNING:tensorflow:Early stopping conditioned on metric `val_loss` which is not available. Available metrics are: loss,accuracy\n",
      "143514/143514 [==============================] - 46s 318us/sample - loss: 8.8352e-05 - accuracy: 1.0000\n"
     ]
    },
    {
     "data": {
      "text/plain": [
       "<tensorflow.python.keras.callbacks.History at 0x24c21acab08>"
      ]
     },
     "execution_count": 12,
     "metadata": {},
     "output_type": "execute_result"
    },
    {
     "name": "stdout",
     "output_type": "stream",
     "text": [
      "accuracy_score 0.9999353286090555\n",
      "recall_score 0.9967736457802683\n",
      "precision_score 0.9976206662134602\n",
      "f1_score 0.9971969761318271\n",
      "Model: \"model_2\"\n",
      "_________________________________________________________________\n",
      "Layer (type)                 Output Shape              Param #   \n",
      "=================================================================\n",
      "input_1 (InputLayer)         [(None, 32, 256)]         0         \n",
      "_________________________________________________________________\n",
      "bidirectional (Bidirectional (None, 32, 96)            117120    \n",
      "_________________________________________________________________\n",
      "time_distributed (TimeDistri (None, 32, 1)             97        \n",
      "=================================================================\n",
      "Total params: 117,217\n",
      "Trainable params: 117,217\n",
      "Non-trainable params: 0\n",
      "_________________________________________________________________\n",
      "======Training stage======\n",
      "Train on 143514 samples\n",
      "Epoch 1/10\n",
      "143360/143514 [============================>.] - ETA: 0s - loss: 1.1922e-04 - accuracy: 1.0000WARNING:tensorflow:Early stopping conditioned on metric `val_loss` which is not available. Available metrics are: loss,accuracy\n",
      "143514/143514 [==============================] - 52s 361us/sample - loss: 1.1909e-04 - accuracy: 1.0000\n",
      "Epoch 2/10\n",
      "143360/143514 [============================>.] - ETA: 0s - loss: 1.1360e-04 - accuracy: 1.0000WARNING:tensorflow:Early stopping conditioned on metric `val_loss` which is not available. Available metrics are: loss,accuracy\n",
      "143514/143514 [==============================] - 45s 315us/sample - loss: 1.1348e-04 - accuracy: 1.0000\n",
      "Epoch 3/10\n",
      "143424/143514 [============================>.] - ETA: 0s - loss: 8.4762e-05 - accuracy: 1.0000WARNING:tensorflow:Early stopping conditioned on metric `val_loss` which is not available. Available metrics are: loss,accuracy\n",
      "143514/143514 [==============================] - 46s 317us/sample - loss: 8.4709e-05 - accuracy: 1.0000\n",
      "Epoch 4/10\n",
      "143488/143514 [============================>.] - ETA: 0s - loss: 8.1760e-05 - accuracy: 1.0000WARNING:tensorflow:Early stopping conditioned on metric `val_loss` which is not available. Available metrics are: loss,accuracy\n",
      "143514/143514 [==============================] - 46s 318us/sample - loss: 8.1745e-05 - accuracy: 1.0000\n",
      "Epoch 5/10\n",
      "143424/143514 [============================>.] - ETA: 0s - loss: 7.0316e-05 - accuracy: 1.0000WARNING:tensorflow:Early stopping conditioned on metric `val_loss` which is not available. Available metrics are: loss,accuracy\n",
      "143514/143514 [==============================] - 47s 326us/sample - loss: 7.0272e-05 - accuracy: 1.0000\n",
      "Epoch 6/10\n",
      "143456/143514 [============================>.] - ETA: 0s - loss: 6.3824e-05 - accuracy: 1.0000WARNING:tensorflow:Early stopping conditioned on metric `val_loss` which is not available. Available metrics are: loss,accuracy\n",
      "143514/143514 [==============================] - 46s 318us/sample - loss: 6.3798e-05 - accuracy: 1.0000\n",
      "Epoch 7/10\n",
      "143424/143514 [============================>.] - ETA: 0s - loss: 6.4732e-05 - accuracy: 1.0000WARNING:tensorflow:Early stopping conditioned on metric `val_loss` which is not available. Available metrics are: loss,accuracy\n",
      "143514/143514 [==============================] - 46s 318us/sample - loss: 6.4691e-05 - accuracy: 1.0000\n",
      "Epoch 8/10\n",
      "143360/143514 [============================>.] - ETA: 0s - loss: 5.5986e-05 - accuracy: 1.0000WARNING:tensorflow:Early stopping conditioned on metric `val_loss` which is not available. Available metrics are: loss,accuracy\n",
      "143514/143514 [==============================] - 46s 322us/sample - loss: 5.5926e-05 - accuracy: 1.0000\n",
      "Epoch 9/10\n",
      "143456/143514 [============================>.] - ETA: 0s - loss: 4.3103e-05 - accuracy: 1.0000WARNING:tensorflow:Early stopping conditioned on metric `val_loss` which is not available. Available metrics are: loss,accuracy\n",
      "143514/143514 [==============================] - 46s 322us/sample - loss: 4.3085e-05 - accuracy: 1.0000\n",
      "Epoch 10/10\n",
      "143424/143514 [============================>.] - ETA: 0s - loss: 4.0754e-05 - accuracy: 1.0000WARNING:tensorflow:Early stopping conditioned on metric `val_loss` which is not available. Available metrics are: loss,accuracy\n",
      "143514/143514 [==============================] - 46s 318us/sample - loss: 4.0729e-05 - accuracy: 1.0000\n"
     ]
    },
    {
     "data": {
      "text/plain": [
       "<tensorflow.python.keras.callbacks.History at 0x24ea8a05e08>"
      ]
     },
     "execution_count": 12,
     "metadata": {},
     "output_type": "execute_result"
    },
    {
     "name": "stdout",
     "output_type": "stream",
     "text": [
      "accuracy_score 0.9999725636523266\n",
      "recall_score 0.9993162393162394\n",
      "precision_score 0.9982923497267759\n",
      "f1_score 0.9988040321202801\n",
      "Model: \"model_3\"\n",
      "_________________________________________________________________\n",
      "Layer (type)                 Output Shape              Param #   \n",
      "=================================================================\n",
      "input_1 (InputLayer)         [(None, 32, 256)]         0         \n",
      "_________________________________________________________________\n",
      "bidirectional (Bidirectional (None, 32, 96)            117120    \n",
      "_________________________________________________________________\n",
      "time_distributed (TimeDistri (None, 32, 1)             97        \n",
      "=================================================================\n",
      "Total params: 117,217\n",
      "Trainable params: 117,217\n",
      "Non-trainable params: 0\n",
      "_________________________________________________________________\n",
      "======Training stage======\n",
      "Train on 143514 samples\n",
      "Epoch 1/10\n",
      "143456/143514 [============================>.] - ETA: 0s - loss: 5.7026e-05 - accuracy: 1.0000WARNING:tensorflow:Early stopping conditioned on metric `val_loss` which is not available. Available metrics are: loss,accuracy\n",
      "143514/143514 [==============================] - 48s 335us/sample - loss: 5.7003e-05 - accuracy: 1.0000\n",
      "Epoch 2/10\n",
      "143488/143514 [============================>.] - ETA: 0s - loss: 4.7075e-05 - accuracy: 1.0000WARNING:tensorflow:Early stopping conditioned on metric `val_loss` which is not available. Available metrics are: loss,accuracy\n",
      "143514/143514 [==============================] - 46s 319us/sample - loss: 4.7066e-05 - accuracy: 1.0000\n",
      "Epoch 3/10\n",
      "143392/143514 [============================>.] - ETA: 0s - loss: 4.2449e-05 - accuracy: 1.0000WARNING:tensorflow:Early stopping conditioned on metric `val_loss` which is not available. Available metrics are: loss,accuracy\n",
      "143514/143514 [==============================] - 47s 325us/sample - loss: 4.2413e-05 - accuracy: 1.0000\n",
      "Epoch 4/10\n",
      "143360/143514 [============================>.] - ETA: 0s - loss: 3.5716e-05 - accuracy: 1.0000WARNING:tensorflow:Early stopping conditioned on metric `val_loss` which is not available. Available metrics are: loss,accuracy\n",
      "143514/143514 [==============================] - 47s 326us/sample - loss: 3.5678e-05 - accuracy: 1.0000\n",
      "Epoch 5/10\n",
      "143424/143514 [============================>.] - ETA: 0s - loss: 4.0965e-05 - accuracy: 1.0000WARNING:tensorflow:Early stopping conditioned on metric `val_loss` which is not available. Available metrics are: loss,accuracy\n",
      "143514/143514 [==============================] - 47s 327us/sample - loss: 4.0939e-05 - accuracy: 1.0000\n",
      "Epoch 6/10\n",
      "143424/143514 [============================>.] - ETA: 0s - loss: 3.9576e-05 - accuracy: 1.0000WARNING:tensorflow:Early stopping conditioned on metric `val_loss` which is not available. Available metrics are: loss,accuracy\n",
      "143514/143514 [==============================] - 47s 330us/sample - loss: 3.9552e-05 - accuracy: 1.0000\n",
      "Epoch 7/10\n",
      "143392/143514 [============================>.] - ETA: 0s - loss: 2.6216e-05 - accuracy: 1.0000WARNING:tensorflow:Early stopping conditioned on metric `val_loss` which is not available. Available metrics are: loss,accuracy\n",
      "143514/143514 [==============================] - 47s 326us/sample - loss: 2.6194e-05 - accuracy: 1.0000\n",
      "Epoch 8/10\n",
      "143392/143514 [============================>.] - ETA: 0s - loss: 1.9064e-05 - accuracy: 1.0000WARNING:tensorflow:Early stopping conditioned on metric `val_loss` which is not available. Available metrics are: loss,accuracy\n",
      "143514/143514 [==============================] - 47s 326us/sample - loss: 1.9048e-05 - accuracy: 1.0000\n",
      "Epoch 9/10\n",
      "143456/143514 [============================>.] - ETA: 0s - loss: 1.6210e-05 - accuracy: 1.0000WARNING:tensorflow:Early stopping conditioned on metric `val_loss` which is not available. Available metrics are: loss,accuracy\n",
      "143514/143514 [==============================] - 47s 326us/sample - loss: 1.6204e-05 - accuracy: 1.0000\n",
      "Epoch 10/10\n",
      "143392/143514 [============================>.] - ETA: 0s - loss: 1.4408e-05 - accuracy: 1.0000WARNING:tensorflow:Early stopping conditioned on metric `val_loss` which is not available. Available metrics are: loss,accuracy\n",
      "143514/143514 [==============================] - 47s 326us/sample - loss: 1.4396e-05 - accuracy: 1.0000\n"
     ]
    },
    {
     "data": {
      "text/plain": [
       "<tensorflow.python.keras.callbacks.History at 0x24e9f793b88>"
      ]
     },
     "execution_count": 12,
     "metadata": {},
     "output_type": "execute_result"
    },
    {
     "name": "stdout",
     "output_type": "stream",
     "text": [
      "accuracy_score 0.9999823623479243\n",
      "recall_score 1.0\n",
      "precision_score 0.998470168281489\n",
      "f1_score 0.9992344985965809\n",
      "Model: \"model_4\"\n",
      "_________________________________________________________________\n",
      "Layer (type)                 Output Shape              Param #   \n",
      "=================================================================\n",
      "input_1 (InputLayer)         [(None, 32, 256)]         0         \n",
      "_________________________________________________________________\n",
      "bidirectional (Bidirectional (None, 32, 96)            117120    \n",
      "_________________________________________________________________\n",
      "time_distributed (TimeDistri (None, 32, 1)             97        \n",
      "=================================================================\n",
      "Total params: 117,217\n",
      "Trainable params: 117,217\n",
      "Non-trainable params: 0\n",
      "_________________________________________________________________\n",
      "======Training stage======\n",
      "Train on 143514 samples\n",
      "Epoch 1/10\n",
      "143488/143514 [============================>.] - ETA: 0s - loss: 2.6264e-05 - accuracy: 1.0000WARNING:tensorflow:Early stopping conditioned on metric `val_loss` which is not available. Available metrics are: loss,accuracy\n",
      "143514/143514 [==============================] - 39s 269us/sample - loss: 2.6259e-05 - accuracy: 1.0000\n",
      "Epoch 2/10\n",
      "143424/143514 [============================>.] - ETA: 0s - loss: 2.4387e-05 - accuracy: 1.0000WARNING:tensorflow:Early stopping conditioned on metric `val_loss` which is not available. Available metrics are: loss,accuracy\n",
      "143514/143514 [==============================] - 31s 215us/sample - loss: 2.4376e-05 - accuracy: 1.0000\n",
      "Epoch 3/10\n",
      "143456/143514 [============================>.] - ETA: 0s - loss: 1.5985e-05 - accuracy: 1.0000WARNING:tensorflow:Early stopping conditioned on metric `val_loss` which is not available. Available metrics are: loss,accuracy\n",
      "143514/143514 [==============================] - 30s 212us/sample - loss: 1.5979e-05 - accuracy: 1.0000\n",
      "Epoch 4/10\n",
      "143424/143514 [============================>.] - ETA: 0s - loss: 1.6409e-05 - accuracy: 1.0000WARNING:tensorflow:Early stopping conditioned on metric `val_loss` which is not available. Available metrics are: loss,accuracy\n",
      "143514/143514 [==============================] - 30s 211us/sample - loss: 1.6399e-05 - accuracy: 1.0000\n",
      "Epoch 5/10\n",
      "143424/143514 [============================>.] - ETA: 0s - loss: 1.5223e-05 - accuracy: 1.0000WARNING:tensorflow:Early stopping conditioned on metric `val_loss` which is not available. Available metrics are: loss,accuracy\n",
      "143514/143514 [==============================] - 32s 220us/sample - loss: 1.5213e-05 - accuracy: 1.0000\n",
      "Epoch 6/10\n",
      "143296/143514 [============================>.] - ETA: 0s - loss: 2.0616e-05 - accuracy: 1.0000WARNING:tensorflow:Early stopping conditioned on metric `val_loss` which is not available. Available metrics are: loss,accuracy\n",
      "143514/143514 [==============================] - 30s 212us/sample - loss: 2.0585e-05 - accuracy: 1.0000\n",
      "Epoch 7/10\n",
      "143264/143514 [============================>.] - ETA: 0s - loss: 1.0297e-05 - accuracy: 1.0000WARNING:tensorflow:Early stopping conditioned on metric `val_loss` which is not available. Available metrics are: loss,accuracy\n",
      "143514/143514 [==============================] - 30s 211us/sample - loss: 1.0279e-05 - accuracy: 1.0000\n",
      "Epoch 8/10\n",
      "143264/143514 [============================>.] - ETA: 0s - loss: 1.0187e-05 - accuracy: 1.0000WARNING:tensorflow:Early stopping conditioned on metric `val_loss` which is not available. Available metrics are: loss,accuracy\n",
      "143514/143514 [==============================] - 31s 216us/sample - loss: 1.0169e-05 - accuracy: 1.0000\n",
      "Epoch 9/10\n",
      "143424/143514 [============================>.] - ETA: 0s - loss: 1.0054e-05 - accuracy: 1.0000WARNING:tensorflow:Early stopping conditioned on metric `val_loss` which is not available. Available metrics are: loss,accuracy\n",
      "143514/143514 [==============================] - 31s 214us/sample - loss: 1.0048e-05 - accuracy: 1.0000\n",
      "Epoch 10/10\n",
      "143488/143514 [============================>.] - ETA: 0s - loss: 9.8542e-06 - accuracy: 1.0000WARNING:tensorflow:Early stopping conditioned on metric `val_loss` which is not available. Available metrics are: loss,accuracy\n",
      "143514/143514 [==============================] - 30s 211us/sample - loss: 9.8525e-06 - accuracy: 1.0000\n"
     ]
    },
    {
     "data": {
      "text/plain": [
       "<tensorflow.python.keras.callbacks.History at 0x24ea32723c8>"
      ]
     },
     "execution_count": 12,
     "metadata": {},
     "output_type": "execute_result"
    },
    {
     "name": "stdout",
     "output_type": "stream",
     "text": [
      "accuracy_score 0.9999941207826414\n",
      "recall_score 1.0\n",
      "precision_score 0.9995007488766849\n",
      "f1_score 0.9997503121098626\n",
      "Model: \"model_5\"\n",
      "_________________________________________________________________\n",
      "Layer (type)                 Output Shape              Param #   \n",
      "=================================================================\n",
      "input_1 (InputLayer)         [(None, 32, 256)]         0         \n",
      "_________________________________________________________________\n",
      "bidirectional (Bidirectional (None, 32, 96)            117120    \n",
      "_________________________________________________________________\n",
      "time_distributed (TimeDistri (None, 32, 1)             97        \n",
      "=================================================================\n",
      "Total params: 117,217\n",
      "Trainable params: 117,217\n",
      "Non-trainable params: 0\n",
      "_________________________________________________________________\n",
      "======Training stage======\n",
      "Train on 143514 samples\n",
      "Epoch 1/10\n",
      "143488/143514 [============================>.] - ETA: 0s - loss: 1.1706e-05 - accuracy: 1.0000WARNING:tensorflow:Early stopping conditioned on metric `val_loss` which is not available. Available metrics are: loss,accuracy\n",
      "143514/143514 [==============================] - 39s 272us/sample - loss: 1.1704e-05 - accuracy: 1.0000\n",
      "Epoch 2/10\n",
      "143488/143514 [============================>.] - ETA: 0s - loss: 7.5866e-06 - accuracy: 1.0000WARNING:tensorflow:Early stopping conditioned on metric `val_loss` which is not available. Available metrics are: loss,accuracy\n",
      "143514/143514 [==============================] - 31s 215us/sample - loss: 7.5853e-06 - accuracy: 1.0000\n",
      "Epoch 3/10\n",
      "143392/143514 [============================>.] - ETA: 0s - loss: 7.8996e-06 - accuracy: 1.0000WARNING:tensorflow:Early stopping conditioned on metric `val_loss` which is not available. Available metrics are: loss,accuracy\n",
      "143514/143514 [==============================] - 31s 216us/sample - loss: 7.8928e-06 - accuracy: 1.0000\n",
      "Epoch 4/10\n",
      "143328/143514 [============================>.] - ETA: 0s - loss: 6.7404e-06 - accuracy: 1.0000WARNING:tensorflow:Early stopping conditioned on metric `val_loss` which is not available. Available metrics are: loss,accuracy\n",
      "143514/143514 [==============================] - 31s 216us/sample - loss: 6.7319e-06 - accuracy: 1.0000\n",
      "Epoch 5/10\n",
      "143456/143514 [============================>.] - ETA: 0s - loss: 6.6753e-06 - accuracy: 1.0000WARNING:tensorflow:Early stopping conditioned on metric `val_loss` which is not available. Available metrics are: loss,accuracy\n",
      "143514/143514 [==============================] - 31s 218us/sample - loss: 6.6726e-06 - accuracy: 1.0000\n",
      "Epoch 6/10\n",
      "143392/143514 [============================>.] - ETA: 0s - loss: 6.6472e-06 - accuracy: 1.0000WARNING:tensorflow:Early stopping conditioned on metric `val_loss` which is not available. Available metrics are: loss,accuracy\n",
      "143514/143514 [==============================] - 32s 220us/sample - loss: 6.6416e-06 - accuracy: 1.0000\n",
      "Epoch 7/10\n",
      "143328/143514 [============================>.] - ETA: 0s - loss: 6.6499e-06 - accuracy: 1.0000WARNING:tensorflow:Early stopping conditioned on metric `val_loss` which is not available. Available metrics are: loss,accuracy\n",
      "143514/143514 [==============================] - 31s 215us/sample - loss: 6.6413e-06 - accuracy: 1.0000\n",
      "Epoch 8/10\n",
      "143488/143514 [============================>.] - ETA: 0s - loss: 6.6424e-06 - accuracy: 1.0000WARNING:tensorflow:Early stopping conditioned on metric `val_loss` which is not available. Available metrics are: loss,accuracy\n",
      "143514/143514 [==============================] - 31s 215us/sample - loss: 6.6412e-06 - accuracy: 1.0000\n",
      "Epoch 9/10\n",
      "143264/143514 [============================>.] - ETA: 0s - loss: 6.6528e-06 - accuracy: 1.0000WARNING:tensorflow:Early stopping conditioned on metric `val_loss` which is not available. Available metrics are: loss,accuracy\n",
      "143514/143514 [==============================] - 31s 217us/sample - loss: 6.6412e-06 - accuracy: 1.0000\n",
      "Epoch 10/10\n",
      "143392/143514 [============================>.] - ETA: 0s - loss: 6.6468e-06 - accuracy: 1.0000WARNING:tensorflow:Early stopping conditioned on metric `val_loss` which is not available. Available metrics are: loss,accuracy\n",
      "143514/143514 [==============================] - 33s 227us/sample - loss: 6.6412e-06 - accuracy: 1.0000\n"
     ]
    },
    {
     "data": {
      "text/plain": [
       "<tensorflow.python.keras.callbacks.History at 0x24ea8da7c88>"
      ]
     },
     "execution_count": 12,
     "metadata": {},
     "output_type": "execute_result"
    },
    {
     "name": "stdout",
     "output_type": "stream",
     "text": [
      "accuracy_score 1.0\n",
      "recall_score 1.0\n",
      "precision_score 1.0\n",
      "f1_score 1.0\n",
      "Model: \"model_6\"\n",
      "_________________________________________________________________\n",
      "Layer (type)                 Output Shape              Param #   \n",
      "=================================================================\n",
      "input_1 (InputLayer)         [(None, 32, 256)]         0         \n",
      "_________________________________________________________________\n",
      "bidirectional (Bidirectional (None, 32, 96)            117120    \n",
      "_________________________________________________________________\n",
      "time_distributed (TimeDistri (None, 32, 1)             97        \n",
      "=================================================================\n",
      "Total params: 117,217\n",
      "Trainable params: 117,217\n",
      "Non-trainable params: 0\n",
      "_________________________________________________________________\n",
      "======Training stage======\n",
      "Train on 143514 samples\n",
      "Epoch 1/10\n",
      "143360/143514 [============================>.] - ETA: 0s - loss: 3.3244e-06 - accuracy: 1.0000WARNING:tensorflow:Early stopping conditioned on metric `val_loss` which is not available. Available metrics are: loss,accuracy\n",
      "143514/143514 [==============================] - 53s 372us/sample - loss: 3.3208e-06 - accuracy: 1.0000\n",
      "Epoch 2/10\n",
      "143360/143514 [============================>.] - ETA: 0s - loss: 3.3242e-06 - accuracy: 1.0000WARNING:tensorflow:Early stopping conditioned on metric `val_loss` which is not available. Available metrics are: loss,accuracy\n",
      "143514/143514 [==============================] - 43s 298us/sample - loss: 3.3207e-06 - accuracy: 1.0000\n",
      "Epoch 3/10\n",
      "143456/143514 [============================>.] - ETA: 0s - loss: 3.3220e-06 - accuracy: 1.0000WARNING:tensorflow:Early stopping conditioned on metric `val_loss` which is not available. Available metrics are: loss,accuracy\n",
      "143514/143514 [==============================] - 43s 300us/sample - loss: 3.3206e-06 - accuracy: 1.0000\n",
      "Epoch 4/10\n",
      "143328/143514 [============================>.] - ETA: 0s - loss: 3.3249e-06 - accuracy: 1.0000WARNING:tensorflow:Early stopping conditioned on metric `val_loss` which is not available. Available metrics are: loss,accuracy\n",
      "143514/143514 [==============================] - 37s 258us/sample - loss: 3.3206e-06 - accuracy: 1.0000\n",
      "Epoch 5/10\n",
      "143392/143514 [============================>.] - ETA: 0s - loss: 3.3234e-06 - accuracy: 1.0000WARNING:tensorflow:Early stopping conditioned on metric `val_loss` which is not available. Available metrics are: loss,accuracy\n",
      "143514/143514 [==============================] - 31s 217us/sample - loss: 3.3206e-06 - accuracy: 1.0000\n",
      "Epoch 6/10\n",
      "143264/143514 [============================>.] - ETA: 0s - loss: 3.3264e-06 - accuracy: 1.0000WARNING:tensorflow:Early stopping conditioned on metric `val_loss` which is not available. Available metrics are: loss,accuracy\n",
      "143514/143514 [==============================] - 31s 218us/sample - loss: 3.3206e-06 - accuracy: 1.0000\n",
      "Epoch 7/10\n",
      "143488/143514 [============================>.] - ETA: 0s - loss: 3.3212e-06 - accuracy: 1.0000WARNING:tensorflow:Early stopping conditioned on metric `val_loss` which is not available. Available metrics are: loss,accuracy\n",
      "143514/143514 [==============================] - 31s 219us/sample - loss: 3.3206e-06 - accuracy: 1.0000\n",
      "Epoch 8/10\n",
      "143296/143514 [============================>.] - ETA: 0s - loss: 3.3257e-06 - accuracy: 1.0000WARNING:tensorflow:Early stopping conditioned on metric `val_loss` which is not available. Available metrics are: loss,accuracy\n",
      "143514/143514 [==============================] - 32s 225us/sample - loss: 3.3206e-06 - accuracy: 1.0000\n",
      "Epoch 9/10\n",
      "143296/143514 [============================>.] - ETA: 0s - loss: 3.3256e-06 - accuracy: 1.0000WARNING:tensorflow:Early stopping conditioned on metric `val_loss` which is not available. Available metrics are: loss,accuracy\n",
      "143514/143514 [==============================] - 33s 227us/sample - loss: 3.3206e-06 - accuracy: 1.0000\n",
      "Epoch 10/10\n",
      "143424/143514 [============================>.] - ETA: 0s - loss: 3.3227e-06 - accuracy: 1.0000WARNING:tensorflow:Early stopping conditioned on metric `val_loss` which is not available. Available metrics are: loss,accuracy\n",
      "143514/143514 [==============================] - 32s 224us/sample - loss: 3.3206e-06 - accuracy: 1.0000\n"
     ]
    },
    {
     "data": {
      "text/plain": [
       "<tensorflow.python.keras.callbacks.History at 0x24e9d128988>"
      ]
     },
     "execution_count": 12,
     "metadata": {},
     "output_type": "execute_result"
    },
    {
     "name": "stdout",
     "output_type": "stream",
     "text": [
      "accuracy_score 0.9999980402608805\n",
      "recall_score 1.0\n",
      "precision_score 0.99983119513842\n",
      "f1_score 0.9999155904448384\n",
      "Model: \"model_7\"\n",
      "_________________________________________________________________\n",
      "Layer (type)                 Output Shape              Param #   \n",
      "=================================================================\n",
      "input_1 (InputLayer)         [(None, 32, 256)]         0         \n",
      "_________________________________________________________________\n",
      "bidirectional (Bidirectional (None, 32, 96)            117120    \n",
      "_________________________________________________________________\n",
      "time_distributed (TimeDistri (None, 32, 1)             97        \n",
      "=================================================================\n",
      "Total params: 117,217\n",
      "Trainable params: 117,217\n",
      "Non-trainable params: 0\n",
      "_________________________________________________________________\n",
      "======Training stage======\n",
      "Train on 143514 samples\n",
      "Epoch 1/10\n",
      "143360/143514 [============================>.] - ETA: 0s - loss: 6.6482e-06 - accuracy: 1.0000WARNING:tensorflow:Early stopping conditioned on metric `val_loss` which is not available. Available metrics are: loss,accuracy\n",
      "143514/143514 [==============================] - 38s 264us/sample - loss: 6.6411e-06 - accuracy: 1.0000\n",
      "Epoch 2/10\n",
      "143456/143514 [============================>.] - ETA: 0s - loss: 6.6438e-06 - accuracy: 1.0000WARNING:tensorflow:Early stopping conditioned on metric `val_loss` which is not available. Available metrics are: loss,accuracy\n",
      "143514/143514 [==============================] - 31s 213us/sample - loss: 6.6411e-06 - accuracy: 1.0000\n",
      "Epoch 3/10\n",
      "143456/143514 [============================>.] - ETA: 0s - loss: 6.6438e-06 - accuracy: 1.0000WARNING:tensorflow:Early stopping conditioned on metric `val_loss` which is not available. Available metrics are: loss,accuracy\n",
      "143514/143514 [==============================] - 32s 225us/sample - loss: 6.6411e-06 - accuracy: 1.0000\n",
      "Epoch 4/10\n",
      "143296/143514 [============================>.] - ETA: 0s - loss: 6.6512e-06 - accuracy: 1.0000WARNING:tensorflow:Early stopping conditioned on metric `val_loss` which is not available. Available metrics are: loss,accuracy\n",
      "143514/143514 [==============================] - 33s 233us/sample - loss: 6.6411e-06 - accuracy: 1.0000\n",
      "Epoch 5/10\n",
      "143456/143514 [============================>.] - ETA: 0s - loss: 6.6438e-06 - accuracy: 1.0000WARNING:tensorflow:Early stopping conditioned on metric `val_loss` which is not available. Available metrics are: loss,accuracy\n",
      "143514/143514 [==============================] - 40s 280us/sample - loss: 6.6411e-06 - accuracy: 1.0000\n",
      "Epoch 6/10\n",
      "143392/143514 [============================>.] - ETA: 0s - loss: 6.6467e-06 - accuracy: 1.0000WARNING:tensorflow:Early stopping conditioned on metric `val_loss` which is not available. Available metrics are: loss,accuracy\n",
      "143514/143514 [==============================] - 45s 312us/sample - loss: 6.6411e-06 - accuracy: 1.0000\n",
      "Epoch 7/10\n",
      "143424/143514 [============================>.] - ETA: 0s - loss: 6.6452e-06 - accuracy: 1.0000WARNING:tensorflow:Early stopping conditioned on metric `val_loss` which is not available. Available metrics are: loss,accuracy\n",
      "143514/143514 [==============================] - 44s 306us/sample - loss: 6.6411e-06 - accuracy: 1.0000\n",
      "Epoch 8/10\n",
      "143456/143514 [============================>.] - ETA: 0s - loss: 6.6438e-06 - accuracy: 1.0000WARNING:tensorflow:Early stopping conditioned on metric `val_loss` which is not available. Available metrics are: loss,accuracy\n",
      "143514/143514 [==============================] - 44s 305us/sample - loss: 6.6411e-06 - accuracy: 1.0000\n",
      "Epoch 9/10\n",
      "143424/143514 [============================>.] - ETA: 0s - loss: 6.6452e-06 - accuracy: 1.0000WARNING:tensorflow:Early stopping conditioned on metric `val_loss` which is not available. Available metrics are: loss,accuracy\n",
      "143514/143514 [==============================] - 36s 253us/sample - loss: 6.6411e-06 - accuracy: 1.0000\n",
      "Epoch 10/10\n",
      "143424/143514 [============================>.] - ETA: 0s - loss: 6.6452e-06 - accuracy: 1.0000WARNING:tensorflow:Early stopping conditioned on metric `val_loss` which is not available. Available metrics are: loss,accuracy\n",
      "143514/143514 [==============================] - 32s 223us/sample - loss: 6.6411e-06 - accuracy: 1.0000\n"
     ]
    },
    {
     "data": {
      "text/plain": [
       "<tensorflow.python.keras.callbacks.History at 0x24ea5007f48>"
      ]
     },
     "execution_count": 12,
     "metadata": {},
     "output_type": "execute_result"
    },
    {
     "name": "stdout",
     "output_type": "stream",
     "text": [
      "accuracy_score 1.0\n",
      "recall_score 1.0\n",
      "precision_score 1.0\n",
      "f1_score 1.0\n",
      "Model: \"model_8\"\n",
      "_________________________________________________________________\n",
      "Layer (type)                 Output Shape              Param #   \n",
      "=================================================================\n",
      "input_1 (InputLayer)         [(None, 32, 256)]         0         \n",
      "_________________________________________________________________\n",
      "bidirectional (Bidirectional (None, 32, 96)            117120    \n",
      "_________________________________________________________________\n",
      "time_distributed (TimeDistri (None, 32, 1)             97        \n",
      "=================================================================\n",
      "Total params: 117,217\n",
      "Trainable params: 117,217\n",
      "Non-trainable params: 0\n",
      "_________________________________________________________________\n",
      "======Training stage======\n",
      "Train on 143514 samples\n",
      "Epoch 1/10\n",
      "143360/143514 [============================>.] - ETA: 0s - loss: 6.6482e-06 - accuracy: 1.0000WARNING:tensorflow:Early stopping conditioned on metric `val_loss` which is not available. Available metrics are: loss,accuracy\n",
      "143514/143514 [==============================] - 39s 273us/sample - loss: 6.6411e-06 - accuracy: 1.0000\n",
      "Epoch 2/10\n",
      "143456/143514 [============================>.] - ETA: 0s - loss: 6.6438e-06 - accuracy: 1.0000WARNING:tensorflow:Early stopping conditioned on metric `val_loss` which is not available. Available metrics are: loss,accuracy\n",
      "143514/143514 [==============================] - 33s 230us/sample - loss: 6.6411e-06 - accuracy: 1.0000\n",
      "Epoch 3/10\n",
      "143488/143514 [============================>.] - ETA: 0s - loss: 6.6423e-06 - accuracy: 1.0000WARNING:tensorflow:Early stopping conditioned on metric `val_loss` which is not available. Available metrics are: loss,accuracy\n",
      "143514/143514 [==============================] - 33s 227us/sample - loss: 6.6411e-06 - accuracy: 1.0000\n",
      "Epoch 4/10\n",
      "143360/143514 [============================>.] - ETA: 0s - loss: 6.6482e-06 - accuracy: 1.0000WARNING:tensorflow:Early stopping conditioned on metric `val_loss` which is not available. Available metrics are: loss,accuracy\n",
      "143514/143514 [==============================] - 33s 227us/sample - loss: 6.6411e-06 - accuracy: 1.0000\n",
      "Epoch 5/10\n",
      "143360/143514 [============================>.] - ETA: 0s - loss: 6.6482e-06 - accuracy: 1.0000WARNING:tensorflow:Early stopping conditioned on metric `val_loss` which is not available. Available metrics are: loss,accuracy\n",
      "143514/143514 [==============================] - 34s 237us/sample - loss: 6.6411e-06 - accuracy: 1.0000\n",
      "Epoch 6/10\n",
      "143392/143514 [============================>.] - ETA: 0s - loss: 6.6467e-06 - accuracy: 1.0000WARNING:tensorflow:Early stopping conditioned on metric `val_loss` which is not available. Available metrics are: loss,accuracy\n",
      "143514/143514 [==============================] - 39s 273us/sample - loss: 6.6411e-06 - accuracy: 1.0000\n",
      "Epoch 7/10\n",
      "143456/143514 [============================>.] - ETA: 0s - loss: 6.6437e-06 - accuracy: 1.0000 ETA: 0s - loss: 6.7066e-06 - acWARNING:tensorflow:Early stopping conditioned on metric `val_loss` which is not available. Available metrics are: loss,accuracy\n",
      "143514/143514 [==============================] - 44s 304us/sample - loss: 6.6411e-06 - accuracy: 1.0000\n",
      "Epoch 8/10\n",
      "143488/143514 [============================>.] - ETA: 0s - loss: 6.6423e-06 - accuracy: 1.0000WARNING:tensorflow:Early stopping conditioned on metric `val_loss` which is not available. Available metrics are: loss,accuracy\n",
      "143514/143514 [==============================] - 43s 301us/sample - loss: 6.6411e-06 - accuracy: 1.0000\n",
      "Epoch 9/10\n",
      "143424/143514 [============================>.] - ETA: 0s - loss: 6.6452e-06 - accuracy: 1.0000WARNING:tensorflow:Early stopping conditioned on metric `val_loss` which is not available. Available metrics are: loss,accuracy\n",
      "143514/143514 [==============================] - 43s 300us/sample - loss: 6.6411e-06 - accuracy: 1.0000\n",
      "Epoch 10/10\n",
      "143360/143514 [============================>.] - ETA: 0s - loss: 6.6482e-06 - accuracy: 1.0000WARNING:tensorflow:Early stopping conditioned on metric `val_loss` which is not available. Available metrics are: loss,accuracy\n",
      "143514/143514 [==============================] - 36s 252us/sample - loss: 6.6411e-06 - accuracy: 1.0000\n"
     ]
    },
    {
     "data": {
      "text/plain": [
       "<tensorflow.python.keras.callbacks.History at 0x24eb8cbd248>"
      ]
     },
     "execution_count": 12,
     "metadata": {},
     "output_type": "execute_result"
    },
    {
     "name": "stdout",
     "output_type": "stream",
     "text": [
      "accuracy_score 1.0\n",
      "recall_score 1.0\n",
      "precision_score 1.0\n",
      "f1_score 1.0\n",
      "Model: \"model_9\"\n",
      "_________________________________________________________________\n",
      "Layer (type)                 Output Shape              Param #   \n",
      "=================================================================\n",
      "input_1 (InputLayer)         [(None, 32, 256)]         0         \n",
      "_________________________________________________________________\n",
      "bidirectional (Bidirectional (None, 32, 96)            117120    \n",
      "_________________________________________________________________\n",
      "time_distributed (TimeDistri (None, 32, 1)             97        \n",
      "=================================================================\n",
      "Total params: 117,217\n",
      "Trainable params: 117,217\n",
      "Non-trainable params: 0\n",
      "_________________________________________________________________\n",
      "======Training stage======\n",
      "Train on 143514 samples\n",
      "Epoch 1/10\n",
      "143424/143514 [============================>.] - ETA: 0s - loss: 6.6452e-06 - accuracy: 1.0000WARNING:tensorflow:Early stopping conditioned on metric `val_loss` which is not available. Available metrics are: loss,accuracy\n",
      "143514/143514 [==============================] - 46s 323us/sample - loss: 6.6411e-06 - accuracy: 1.0000\n",
      "Epoch 2/10\n",
      "143264/143514 [============================>.] - ETA: 0s - loss: 6.6526e-06 - accuracy: 1.0000WARNING:tensorflow:Early stopping conditioned on metric `val_loss` which is not available. Available metrics are: loss,accuracy\n",
      "143514/143514 [==============================] - 33s 227us/sample - loss: 6.6411e-06 - accuracy: 1.0000\n",
      "Epoch 3/10\n",
      "143392/143514 [============================>.] - ETA: 0s - loss: 6.6467e-06 - accuracy: 1.0000WARNING:tensorflow:Early stopping conditioned on metric `val_loss` which is not available. Available metrics are: loss,accuracy\n",
      "143514/143514 [==============================] - 33s 229us/sample - loss: 6.6411e-06 - accuracy: 1.0000\n",
      "Epoch 4/10\n",
      "143296/143514 [============================>.] - ETA: 0s - loss: 6.6512e-06 - accuracy: 1.0000WARNING:tensorflow:Early stopping conditioned on metric `val_loss` which is not available. Available metrics are: loss,accuracy\n",
      "143514/143514 [==============================] - 33s 230us/sample - loss: 6.6411e-06 - accuracy: 1.0000\n",
      "Epoch 5/10\n",
      "143424/143514 [============================>.] - ETA: 0s - loss: 6.6452e-06 - accuracy: 1.0000WARNING:tensorflow:Early stopping conditioned on metric `val_loss` which is not available. Available metrics are: loss,accuracy\n",
      "143514/143514 [==============================] - 33s 232us/sample - loss: 6.6411e-06 - accuracy: 1.0000\n",
      "Epoch 6/10\n",
      "143488/143514 [============================>.] - ETA: 0s - loss: 6.6423e-06 - accuracy: 1.0000WARNING:tensorflow:Early stopping conditioned on metric `val_loss` which is not available. Available metrics are: loss,accuracy\n",
      "143514/143514 [==============================] - 43s 299us/sample - loss: 6.6411e-06 - accuracy: 1.0000\n",
      "Epoch 7/10\n",
      "143424/143514 [============================>.] - ETA: 0s - loss: 6.6452e-06 - accuracy: 1.0000WARNING:tensorflow:Early stopping conditioned on metric `val_loss` which is not available. Available metrics are: loss,accuracy\n",
      "143514/143514 [==============================] - 45s 314us/sample - loss: 6.6411e-06 - accuracy: 1.0000\n",
      "Epoch 8/10\n",
      "143424/143514 [============================>.] - ETA: 0s - loss: 6.6452e-06 - accuracy: 1.0000WARNING:tensorflow:Early stopping conditioned on metric `val_loss` which is not available. Available metrics are: loss,accuracy\n",
      "143514/143514 [==============================] - 45s 314us/sample - loss: 6.6410e-06 - accuracy: 1.0000\n",
      "Epoch 9/10\n",
      "143456/143514 [============================>.] - ETA: 0s - loss: 6.6437e-06 - accuracy: 1.0000WARNING:tensorflow:Early stopping conditioned on metric `val_loss` which is not available. Available metrics are: loss,accuracy\n",
      "143514/143514 [==============================] - 46s 318us/sample - loss: 6.6410e-06 - accuracy: 1.0000\n",
      "Epoch 10/10\n",
      "143392/143514 [============================>.] - ETA: 0s - loss: 6.6467e-06 - accuracy: 1.0000WARNING:tensorflow:Early stopping conditioned on metric `val_loss` which is not available. Available metrics are: loss,accuracy\n",
      "143514/143514 [==============================] - 45s 312us/sample - loss: 6.6410e-06 - accuracy: 1.0000\n"
     ]
    },
    {
     "data": {
      "text/plain": [
       "<tensorflow.python.keras.callbacks.History at 0x24eba1451c8>"
      ]
     },
     "execution_count": 12,
     "metadata": {},
     "output_type": "execute_result"
    },
    {
     "name": "stdout",
     "output_type": "stream",
     "text": [
      "accuracy_score 1.0\n",
      "recall_score 1.0\n",
      "precision_score 1.0\n",
      "f1_score 1.0\n",
      "\n",
      "K-fold cross validation Accuracy: [0.9998980935657845, 0.9999353286090555, 0.9999725636523266, 0.9999823623479243, 0.9999941207826414, 1.0, 0.9999980402608805, 1.0, 1.0, 1.0]\n",
      "\n",
      "K-fold cross validation Recall: [0.9946790250600756, 0.9967736457802683, 0.9993162393162394, 1.0, 1.0, 1.0, 1.0, 1.0, 1.0, 1.0]\n",
      "\n",
      "K-fold cross validation Precision: [0.9963892709766162, 0.9976206662134602, 0.9982923497267759, 0.998470168281489, 0.9995007488766849, 1.0, 0.99983119513842, 1.0, 1.0, 1.0]\n",
      "\n",
      "K-fold cross validation F1-Score: [0.9955334135028344, 0.9971969761318271, 0.9988040321202801, 0.9992344985965809, 0.9997503121098626, 1.0, 0.9999155904448384, 1.0, 1.0, 1.0]\n"
     ]
    }
   ],
   "source": [
    "# 교차검증 kfold\n",
    "from sklearn.model_selection import KFold\n",
    "\n",
    "# Accuracy, Precision, Recall, F1-Score\n",
    "from sklearn.metrics import accuracy_score, recall_score, precision_score, f1_score\n",
    "\n",
    "# Confusion Matrix, ROC Curve\n",
    "from sklearn.metrics import confusion_matrix, roc_auc_score\n",
    "\n",
    "# 최종 평가지표들 평균용\n",
    "accuracy, recall, precision, f1score, cm = [], [], [], [], []\n",
    "\n",
    "# 11. 교차검증 kfold - k.split - 10회 / K-Fold 객체 생성\n",
    "# kf = KFold(n_splits=10, shuffle=False, random_state=None) # KFold non shuffle 버전\n",
    "kf = KFold(n_splits=10, shuffle=True, random_state=None) # KFold non shuffle 버전\n",
    "\n",
    "for train, validation in kf.split(x_bc8_0, y_bc8_0):\n",
    "    model1 = models.Model(xInput, xOutput)\n",
    "    model1.compile(loss='binary_crossentropy', optimizer='rmsprop', metrics=['accuracy'])\n",
    "    model1.summary()\n",
    "    print('======Training stage======')\n",
    "    model1.fit(x_bc8_0[train],\n",
    "               y_bc8_0[train],\n",
    "               epochs = 10,\n",
    "               batch_size = 32,\n",
    "               callbacks=[early_stopping])\n",
    "    #k_accuracy = '%.4f' %(model1.evaluate(data_10000x[validation], data_10000y[validation])[1])\n",
    "\n",
    "# 12. 교차검증결과 predict - 검증셋들\n",
    "    # predict 값\n",
    "    k_pr = model1.predict(x_bc8_0[validation])\n",
    "    \n",
    "    # 테스트 predict 결과들 비교 (평가지표 보기위함)\n",
    "    pred = np.round(np.array(k_pr).flatten().tolist())\n",
    "    y_test = np.array(y_bc8_0[validation]).flatten().tolist()\n",
    "    \n",
    "# 13. 평가지표들 출력\n",
    "    ## 평가지표들\n",
    "    k_accuracy = float(accuracy_score(y_test, pred))\n",
    "    k_recall =  float(recall_score(y_test, pred))\n",
    "    k_precision = float(precision_score(y_test, pred))\n",
    "    k_f1_score = float(f1_score(y_test, pred))\n",
    "    #k_cm = float(confusion_matrix(y_test, pred))\n",
    "    \n",
    "    print('accuracy_score', k_accuracy)\n",
    "    print('recall_score', k_recall)\n",
    "    print('precision_score', k_precision)\n",
    "    print('f1_score', k_f1_score)\n",
    "    #print('\\nconfusion_matrix\\n', k_cm)\n",
    "\n",
    "    accuracy.append(k_accuracy)\n",
    "    recall.append(k_recall)\n",
    "    precision.append(k_precision)\n",
    "    f1score.append(k_f1_score)\n",
    "    #cm.append(k_cm)\n",
    "#    print('roc_curve 면적', roc_auc_score(y_test, pred))\n",
    "\n",
    "# 최종 결과지표\n",
    "print('\\nK-fold cross validation Accuracy: {}'.format(accuracy))\n",
    "print('\\nK-fold cross validation Recall: {}'.format(recall))\n",
    "print('\\nK-fold cross validation Precision: {}'.format(precision))\n",
    "print('\\nK-fold cross validation F1-Score: {}'.format(f1score))\n",
    "#print('\\nK-fold cross validation ConfusionMatrix: {}'.format(cm))"
   ]
  },
  {
   "cell_type": "markdown",
   "metadata": {},
   "source": [
    "## (9) 평가지표"
   ]
  },
  {
   "cell_type": "code",
   "execution_count": 13,
   "metadata": {},
   "outputs": [
    {
     "name": "stdout",
     "output_type": "stream",
     "text": [
      "10-Fold Cross_validation. Accuracy : 0.9999780509218613\n",
      "10-Fold Cross_validation. Recall : 0.9990768910156582\n",
      "10-Fold Cross_validation. Precision : 0.9990104399213446\n",
      "10-Fold Cross_validation. F1-Score : 0.9990434822906223\n"
     ]
    }
   ],
   "source": [
    "print('10-Fold Cross_validation. Accuracy :', np.mean(accuracy))\n",
    "print('10-Fold Cross_validation. Recall :', np.mean(recall))\n",
    "print('10-Fold Cross_validation. Precision :', np.mean(precision))\n",
    "print('10-Fold Cross_validation. F1-Score :', np.mean(f1score))"
   ]
  },
  {
   "cell_type": "code",
   "execution_count": 14,
   "metadata": {},
   "outputs": [
    {
     "name": "stdout",
     "output_type": "stream",
     "text": [
      "save 완료\n"
     ]
    }
   ],
   "source": [
    "model1.save('gcc8_bin_core_s32_h48_o0.h5')\n",
    "print('save 완료')"
   ]
  }
 ],
 "metadata": {
  "kernelspec": {
   "display_name": "Python 3",
   "language": "python",
   "name": "python3"
  },
  "language_info": {
   "codemirror_mode": {
    "name": "ipython",
    "version": 3
   },
   "file_extension": ".py",
   "mimetype": "text/x-python",
   "name": "python",
   "nbconvert_exporter": "python",
   "pygments_lexer": "ipython3",
   "version": "3.7.9"
  }
 },
 "nbformat": 4,
 "nbformat_minor": 4
}
