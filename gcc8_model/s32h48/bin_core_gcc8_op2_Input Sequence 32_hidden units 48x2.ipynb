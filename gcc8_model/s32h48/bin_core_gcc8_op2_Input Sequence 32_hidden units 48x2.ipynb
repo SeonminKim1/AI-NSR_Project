{
 "cells": [
  {
   "cell_type": "markdown",
   "metadata": {},
   "source": [
    "## RNN 모델 N-Byte 방식 (함수정보 포함 vs 미포함 => 1:1 비율)\n",
    "\n",
    "## (1) 데이터로드"
   ]
  },
  {
   "cell_type": "code",
   "execution_count": 1,
   "metadata": {},
   "outputs": [
    {
     "name": "stdout",
     "output_type": "stream",
     "text": [
      "(28744700, 2)\n",
      "shape - (28744700, 2)\n",
      "reset_index 완료\n",
      "input data shape\n"
     ]
    },
    {
     "data": {
      "text/html": [
       "<div>\n",
       "<style scoped>\n",
       "    .dataframe tbody tr th:only-of-type {\n",
       "        vertical-align: middle;\n",
       "    }\n",
       "\n",
       "    .dataframe tbody tr th {\n",
       "        vertical-align: top;\n",
       "    }\n",
       "\n",
       "    .dataframe thead th {\n",
       "        text-align: right;\n",
       "    }\n",
       "</style>\n",
       "<table border=\"1\" class=\"dataframe\">\n",
       "  <thead>\n",
       "    <tr style=\"text-align: right;\">\n",
       "      <th></th>\n",
       "      <th>bin</th>\n",
       "      <th>label</th>\n",
       "    </tr>\n",
       "  </thead>\n",
       "  <tbody>\n",
       "    <tr>\n",
       "      <th>0</th>\n",
       "      <td>47</td>\n",
       "      <td>0</td>\n",
       "    </tr>\n",
       "    <tr>\n",
       "      <th>1</th>\n",
       "      <td>108</td>\n",
       "      <td>0</td>\n",
       "    </tr>\n",
       "    <tr>\n",
       "      <th>2</th>\n",
       "      <td>105</td>\n",
       "      <td>0</td>\n",
       "    </tr>\n",
       "    <tr>\n",
       "      <th>3</th>\n",
       "      <td>98</td>\n",
       "      <td>0</td>\n",
       "    </tr>\n",
       "    <tr>\n",
       "      <th>4</th>\n",
       "      <td>47</td>\n",
       "      <td>0</td>\n",
       "    </tr>\n",
       "  </tbody>\n",
       "</table>\n",
       "</div>"
      ],
      "text/plain": [
       "   bin  label\n",
       "0   47      0\n",
       "1  108      0\n",
       "2  105      0\n",
       "3   98      0\n",
       "4   47      0"
      ]
     },
     "execution_count": 1,
     "metadata": {},
     "output_type": "execute_result"
    }
   ],
   "source": [
    "# (1) 데이터로드\n",
    "import pandas as pd\n",
    "import numpy as np\n",
    "\n",
    "import warnings\n",
    "warnings.filterwarnings(action='ignore')\n",
    "\n",
    "# 여러개 쳐도 나오게\n",
    "from IPython.core.interactiveshell import InteractiveShell\n",
    "InteractiveShell.ast_node_interactivity = \"all\"\n",
    "\n",
    "# 파일읽기\n",
    "bin8_2 = pd.read_csv(\"../../바이너리_최종데이터_1004/gcc8/o2/o2_bincore8.csv\", index_col=0)\n",
    "print(bin8_2.shape)\n",
    "\n",
    "# reset_index (hex processing 하면서 값이 빠졌으니까 + n_gram 에서 index를 다루기 때문에)\n",
    "bin8_2.reset_index(inplace=True, drop=True)\n",
    "\n",
    "print('shape -', bin8_2.shape)\n",
    "print('reset_index 완료')\n",
    "print('input data shape')\n",
    "bin8_2.head()"
   ]
  },
  {
   "cell_type": "code",
   "execution_count": 2,
   "metadata": {},
   "outputs": [
    {
     "name": "stdout",
     "output_type": "stream",
     "text": [
      "256\n",
      "0    28706035\n",
      "1       38665\n",
      "Name: label, dtype: int64\n"
     ]
    }
   ],
   "source": [
    "# (2-1) 데이터체크 1 - hex(16진수)가 256 label을 가져야 dummies 변환 가능 \n",
    "# 16진수 256개 종류가 있어서 pd.get_dummies 사용 가능.\n",
    "print(len(bin8_2['bin'].unique()))\n",
    "\n",
    "# (2-2) 데이터 체크 2 - 1, 0 비율 ==> 1이 함수의 갯수를 뜻함\n",
    "# 정답 데이터 1, 0 비율 확인  ==> 1이 함수의 갯수를 뜻함\n",
    "print(bin8_2['label'].value_counts())"
   ]
  },
  {
   "cell_type": "markdown",
   "metadata": {},
   "source": [
    "## (3) N Byte씩 자르기"
   ]
  },
  {
   "cell_type": "code",
   "execution_count": 3,
   "metadata": {},
   "outputs": [
    {
     "name": "stdout",
     "output_type": "stream",
     "text": [
      "1237280\n",
      "나머지 0\n",
      "최종 길이 1237280\n",
      "bin8_2 1237280\n"
     ]
    }
   ],
   "source": [
    "idx_bin = bin8_2[bin8_2['label']==1].index  # 407, 474 ...\n",
    "ls_bin = list(idx_bin)\n",
    "\n",
    "# 최종 뽑을 행에 대한 index\n",
    "ls_idx_bin = []\n",
    "\n",
    "# n byte 자르기 방식\n",
    "left_idx, right_idx = 0, 32 # 3개씩\n",
    "\n",
    "# n byte 자르기\n",
    "for k in range(left_idx, right_idx):\n",
    "    ls_idx_bin.extend(list(idx_bin + k)) # index 형이라서 가능\n",
    "\n",
    "#ls_idx = list(set(ls_idx)) \n",
    "ls_idx_bin.sort() # 인덱스 정렬\n",
    "\n",
    "# 1차 index 해당범위 초과한 것들 없애기\n",
    "ls_idx_bin = list(filter(lambda x: x<len(bin8_2), ls_idx_bin))\n",
    "print(len(ls_idx_bin))\n",
    "\n",
    "# 2차 남은 index들 중 right_idx 나눈 나머지 없애기\n",
    "sub_bin = len(ls_idx_bin)%(right_idx)\n",
    "print('나머지', sub_bin)\n",
    "\n",
    "ls_idx_bin = ls_idx_bin[:len(ls_idx_bin)-sub_bin]\n",
    "print('최종 길이', len(ls_idx_bin))\n",
    "\n",
    "print('bin8_2', len(ls_idx_bin))\n",
    "\n",
    "# loc 로 수정필요\n",
    "bin8_2_Ngram = bin8_2.loc[ls_idx_bin,:].copy()"
   ]
  },
  {
   "cell_type": "markdown",
   "metadata": {},
   "source": [
    "## (4) false data 만들기"
   ]
  },
  {
   "cell_type": "code",
   "execution_count": 4,
   "metadata": {},
   "outputs": [
    {
     "name": "stdout",
     "output_type": "stream",
     "text": [
      "38665.0\n",
      "0 13293519\n",
      "1000 800224\n",
      "2000 25174221\n",
      "3000 359537\n",
      "4000 7142748\n",
      "5000 21232651\n",
      "6000 27461404\n",
      "7000 22697614\n",
      "8000 22565176\n",
      "9000 5110123\n",
      "10000 27419453\n",
      "11000 21509015\n",
      "12000 4819624\n",
      "13000 25713622\n",
      "14000 17843023\n",
      "15000 2339151\n",
      "16000 21636542\n",
      "17000 28246601\n",
      "18000 7070957\n",
      "19000 18927471\n",
      "20000 15842946\n",
      "21000 27220502\n",
      "22000 829611\n",
      "23000 23261120\n",
      "24000 25865726\n",
      "25000 23091101\n",
      "26000 4310968\n",
      "27000 1561335\n",
      "28000 15307483\n",
      "29000 20544474\n",
      "30000 8749070\n",
      "31000 27328753\n",
      "32000 24988068\n",
      "33000 25433291\n",
      "34000 15742807\n",
      "35000 17108130\n",
      "36000 1359566\n",
      "37000 8938540\n",
      "38000 27880417\n",
      "완료\n",
      "38665\n"
     ]
    }
   ],
   "source": [
    "# false data 만들기 - False 데이터 랜덤 생성\n",
    "\n",
    "# 목표치\n",
    "goal_bin = len(bin8_2_Ngram)/right_idx\n",
    "count_bin = 0\n",
    "\n",
    "print(goal_bin)\n",
    "\n",
    "# 최종 데이터 Frame\n",
    "d_bin = pd.DataFrame(columns = bin8_2.columns)\n",
    "\n",
    "binutils_df = []\n",
    "# goal 에 도달할 때까지\n",
    "while True:\n",
    "    if (count_bin == goal_bin):\n",
    "            break\n",
    "    # 진행상황 살펴보기 위함\n",
    "            \n",
    "    # 랜덤 N 바이트씩 뽑음\n",
    "    # random index\n",
    "    random_idx_bin = np.random.randint(len(bin8_2)-right_idx)\n",
    "\n",
    "    if count_bin % 1000==0:\n",
    "        print(count_bin, end=' ')\n",
    "        print(random_idx_bin)\n",
    "\n",
    "    df_bin = bin8_2[random_idx_bin : random_idx_bin + right_idx]\n",
    "    \n",
    "    # 뽑은 index의 N 바이트 중에 1이 없는 경우만\n",
    "    if 1 not in df_bin['label'] and count_bin < goal_bin:\n",
    "        binutils_df.append(df_bin)\n",
    "        count_bin+=1\n",
    "\n",
    "print('완료')\n",
    "print(len(binutils_df))"
   ]
  },
  {
   "cell_type": "code",
   "execution_count": 5,
   "metadata": {},
   "outputs": [
    {
     "name": "stdout",
     "output_type": "stream",
     "text": [
      "38665\n",
      "38665\n"
     ]
    }
   ],
   "source": [
    "# True data와 False Data 같은지 체크\n",
    "print(len(binutils_df))\n",
    "print(bin8_2['label'].value_counts()[1])"
   ]
  },
  {
   "cell_type": "markdown",
   "metadata": {},
   "source": [
    "## (5) False Data + True Data 합치기"
   ]
  },
  {
   "cell_type": "code",
   "execution_count": 6,
   "metadata": {},
   "outputs": [
    {
     "data": {
      "text/plain": [
       "(2474560, 2)"
      ]
     },
     "execution_count": 6,
     "metadata": {},
     "output_type": "execute_result"
    }
   ],
   "source": [
    "f_data = pd.concat(binutils_df)\n",
    "final = pd.concat([f_data, bin8_2_Ngram])\n",
    "final.shape"
   ]
  },
  {
   "cell_type": "markdown",
   "metadata": {},
   "source": [
    "## (6) one hot encoding"
   ]
  },
  {
   "cell_type": "code",
   "execution_count": 7,
   "metadata": {},
   "outputs": [
    {
     "name": "stdout",
     "output_type": "stream",
     "text": [
      "원핫인코딩완료\n",
      "(2474560, 257)\n"
     ]
    }
   ],
   "source": [
    "# 훈련데이터 (gcc 최적화버전 0, 1, 2, 3 one hot encoding)\n",
    "bc8_2_onehot_Ngram = pd.get_dummies(final['bin'])\n",
    "bc8_2_onehot_Ngram = pd.concat([final['label'], bc8_2_onehot_Ngram], axis=1)\n",
    "\n",
    "print('원핫인코딩완료')\n",
    "print(bc8_2_onehot_Ngram.shape)"
   ]
  },
  {
   "cell_type": "code",
   "execution_count": 8,
   "metadata": {},
   "outputs": [
    {
     "name": "stdout",
     "output_type": "stream",
     "text": [
      "(2474560, 256) (2474560, 256)\n",
      "(77330, 32, 256) (77330, 32, 1)\n"
     ]
    }
   ],
   "source": [
    "# 훈련 데이터, 훈련 라벨\n",
    "x_bc8_2 = bc8_2_onehot_Ngram.iloc[:,1:].to_numpy()\n",
    "y_bc8_2 = bc8_2_onehot_Ngram['label'].to_numpy()\n",
    "print(x_bc8_2.shape, x_bc8_2.shape)\n",
    "\n",
    "x_bc8_2 = x_bc8_2.reshape(-1, right_idx, x_bc8_2.shape[1])\n",
    "y_bc8_2 = y_bc8_2.reshape(-1, right_idx, 1)\n",
    "\n",
    "print(x_bc8_2.shape, y_bc8_2.shape)"
   ]
  },
  {
   "cell_type": "code",
   "execution_count": 9,
   "metadata": {},
   "outputs": [
    {
     "name": "stdout",
     "output_type": "stream",
     "text": [
      "(77330, 32, 256) (77330, 32, 1)\n"
     ]
    }
   ],
   "source": [
    "# numpy 행, 열 섞기\n",
    "p = np.random.permutation(x_bc8_2.shape[0])\n",
    "\n",
    "x_bc8_2 = x_bc8_2[p]\n",
    "y_bc8_2 = y_bc8_2[p]\n",
    "\n",
    "print(x_bc8_2.shape, y_bc8_2.shape)"
   ]
  },
  {
   "cell_type": "markdown",
   "metadata": {},
   "source": [
    "## (7) 모델"
   ]
  },
  {
   "cell_type": "code",
   "execution_count": 10,
   "metadata": {},
   "outputs": [],
   "source": [
    "# (10) 양방향 LSTM 모델링 작업\n",
    "from tensorflow.keras import layers, models\n",
    "#from tf.keras.models import Model, Sequential\n",
    "#from tf.keras.layers import SimpleRNN, Input, Dense, LSTM\n",
    "#from tf.keras.layers import Bidirectional, TimeDistributed\n",
    "\n",
    "# 학습\n",
    "from tensorflow.keras.callbacks import EarlyStopping\n",
    "early_stopping = EarlyStopping(patience = 3) # 조기종료 콜백함수 정의\n",
    "\n",
    "xInput = layers.Input(batch_shape=(None,right_idx, 256)) \n",
    "xBiLstm = layers.Bidirectional(layers.LSTM(48, return_sequences=True, stateful=False), merge_mode = 'concat')(xInput)\n",
    "xOutput = layers.TimeDistributed(layers.Dense(1, activation ='sigmoid'))(xBiLstm) # 각 스텝에서 cost가 전송되고, 오류가 다음 step으로 전송됨."
   ]
  },
  {
   "cell_type": "markdown",
   "metadata": {},
   "source": [
    "## (8) 학습 - 10 KFold"
   ]
  },
  {
   "cell_type": "code",
   "execution_count": 11,
   "metadata": {
    "scrolled": false
   },
   "outputs": [
    {
     "name": "stdout",
     "output_type": "stream",
     "text": [
      "Model: \"model\"\n",
      "_________________________________________________________________\n",
      "Layer (type)                 Output Shape              Param #   \n",
      "=================================================================\n",
      "input_1 (InputLayer)         [(None, 32, 256)]         0         \n",
      "_________________________________________________________________\n",
      "bidirectional (Bidirectional (None, 32, 96)            117120    \n",
      "_________________________________________________________________\n",
      "time_distributed (TimeDistri (None, 32, 1)             97        \n",
      "=================================================================\n",
      "Total params: 117,217\n",
      "Trainable params: 117,217\n",
      "Non-trainable params: 0\n",
      "_________________________________________________________________\n",
      "======Training stage======\n",
      "Train on 69597 samples\n",
      "Epoch 1/10\n",
      "69536/69597 [============================>.] - ETA: 0s - loss: 0.0141 - accuracy: 0.9960WARNING:tensorflow:Early stopping conditioned on metric `val_loss` which is not available. Available metrics are: loss,accuracy\n",
      "69597/69597 [==============================] - 104s 1ms/sample - loss: 0.0141 - accuracy: 0.9960\n",
      "Epoch 2/10\n",
      "69504/69597 [============================>.] - ETA: 0s - loss: 0.0025 - accuracy: 0.9993WARNING:tensorflow:Early stopping conditioned on metric `val_loss` which is not available. Available metrics are: loss,accuracy\n",
      "69597/69597 [==============================] - 47s 680us/sample - loss: 0.0025 - accuracy: 0.9993\n",
      "Epoch 3/10\n",
      "69504/69597 [============================>.] - ETA: 0s - loss: 0.0018 - accuracy: 0.9995WARNING:tensorflow:Early stopping conditioned on metric `val_loss` which is not available. Available metrics are: loss,accuracy\n",
      "69597/69597 [==============================] - 47s 676us/sample - loss: 0.0018 - accuracy: 0.9995\n",
      "Epoch 4/10\n",
      "69568/69597 [============================>.] - ETA: 0s - loss: 0.0014 - accuracy: 0.9996WARNING:tensorflow:Early stopping conditioned on metric `val_loss` which is not available. Available metrics are: loss,accuracy\n",
      "69597/69597 [==============================] - 46s 668us/sample - loss: 0.0014 - accuracy: 0.9996\n",
      "Epoch 5/10\n",
      "69536/69597 [============================>.] - ETA: 0s - loss: 0.0012 - accuracy: 0.9997WARNING:tensorflow:Early stopping conditioned on metric `val_loss` which is not available. Available metrics are: loss,accuracy\n",
      "69597/69597 [==============================] - 47s 670us/sample - loss: 0.0012 - accuracy: 0.9997\n",
      "Epoch 6/10\n",
      "69568/69597 [============================>.] - ETA: 0s - loss: 0.0010 - accuracy: 0.9997 ETA: 0s - losWARNING:tensorflow:Early stopping conditioned on metric `val_loss` which is not available. Available metrics are: loss,accuracy\n",
      "69597/69597 [==============================] - 47s 670us/sample - loss: 0.0010 - accuracy: 0.9997\n",
      "Epoch 7/10\n",
      "69504/69597 [============================>.] - ETA: 0s - loss: 8.7446e-04 - accuracy: 0.9998 ETAWARNING:tensorflow:Early stopping conditioned on metric `val_loss` which is not available. Available metrics are: loss,accuracy\n",
      "69597/69597 [==============================] - 46s 663us/sample - loss: 8.7346e-04 - accuracy: 0.9998\n",
      "Epoch 8/10\n",
      "69568/69597 [============================>.] - ETA: 0s - loss: 7.9531e-04 - accuracy: 0.9998WARNING:tensorflow:Early stopping conditioned on metric `val_loss` which is not available. Available metrics are: loss,accuracy\n",
      "69597/69597 [==============================] - 46s 662us/sample - loss: 7.9499e-04 - accuracy: 0.9998\n",
      "Epoch 9/10\n",
      "69568/69597 [============================>.] - ETA: 0s - loss: 7.3032e-04 - accuracy: 0.9998WARNING:tensorflow:Early stopping conditioned on metric `val_loss` which is not available. Available metrics are: loss,accuracy\n",
      "69597/69597 [==============================] - 47s 672us/sample - loss: 7.3044e-04 - accuracy: 0.9998\n",
      "Epoch 10/10\n",
      "69504/69597 [============================>.] - ETA: 0s - loss: 5.6258e-04 - accuracy: 0.9999WARNING:tensorflow:Early stopping conditioned on metric `val_loss` which is not available. Available metrics are: loss,accuracy\n",
      "69597/69597 [==============================] - 45s 652us/sample - loss: 5.6188e-04 - accuracy: 0.9999\n"
     ]
    },
    {
     "data": {
      "text/plain": [
       "<tensorflow.python.keras.callbacks.History at 0x1a21f2fe548>"
      ]
     },
     "execution_count": 11,
     "metadata": {},
     "output_type": "execute_result"
    },
    {
     "name": "stdout",
     "output_type": "stream",
     "text": [
      "accuracy_score 0.9997696560196561\n",
      "recall_score 0.9927216585796207\n",
      "precision_score 0.9946961325966851\n",
      "f1_score 0.9937079147808808\n",
      "Model: \"model_1\"\n",
      "_________________________________________________________________\n",
      "Layer (type)                 Output Shape              Param #   \n",
      "=================================================================\n",
      "input_1 (InputLayer)         [(None, 32, 256)]         0         \n",
      "_________________________________________________________________\n",
      "bidirectional (Bidirectional (None, 32, 96)            117120    \n",
      "_________________________________________________________________\n",
      "time_distributed (TimeDistri (None, 32, 1)             97        \n",
      "=================================================================\n",
      "Total params: 117,217\n",
      "Trainable params: 117,217\n",
      "Non-trainable params: 0\n",
      "_________________________________________________________________\n",
      "======Training stage======\n",
      "Train on 69597 samples\n",
      "Epoch 1/10\n",
      "69536/69597 [============================>.] - ETA: 0s - loss: 5.9980e-04 - accuracy: 0.9998WARNING:tensorflow:Early stopping conditioned on metric `val_loss` which is not available. Available metrics are: loss,accuracy\n",
      "69597/69597 [==============================] - 82s 1ms/sample - loss: 5.9928e-04 - accuracy: 0.9998\n",
      "Epoch 2/10\n",
      "69536/69597 [============================>.] - ETA: 0s - loss: 5.0859e-04 - accuracy: 0.9999WARNING:tensorflow:Early stopping conditioned on metric `val_loss` which is not available. Available metrics are: loss,accuracy\n",
      "69597/69597 [==============================] - 43s 625us/sample - loss: 5.0815e-04 - accuracy: 0.9999\n",
      "Epoch 3/10\n",
      "69504/69597 [============================>.] - ETA: 0s - loss: 4.7507e-04 - accuracy: 0.9999WARNING:tensorflow:Early stopping conditioned on metric `val_loss` which is not available. Available metrics are: loss,accuracy\n",
      "69597/69597 [==============================] - 45s 646us/sample - loss: 4.7448e-04 - accuracy: 0.9999\n",
      "Epoch 4/10\n",
      "69536/69597 [============================>.] - ETA: 0s - loss: 4.0028e-04 - accuracy: 0.9999WARNING:tensorflow:Early stopping conditioned on metric `val_loss` which is not available. Available metrics are: loss,accuracy\n",
      "69597/69597 [==============================] - 45s 654us/sample - loss: 4.0009e-04 - accuracy: 0.9999\n",
      "Epoch 5/10\n",
      "69568/69597 [============================>.] - ETA: 0s - loss: 3.4619e-04 - accuracy: 0.9999 ETA: 1sWARNING:tensorflow:Early stopping conditioned on metric `val_loss` which is not available. Available metrics are: loss,accuracy\n",
      "69597/69597 [==============================] - 44s 638us/sample - loss: 3.4605e-04 - accuracy: 0.9999\n",
      "Epoch 6/10\n",
      "69504/69597 [============================>.] - ETA: 0s - loss: 3.2202e-04 - accuracy: 0.9999 ETA: 1sWARNING:tensorflow:Early stopping conditioned on metric `val_loss` which is not available. Available metrics are: loss,accuracy\n",
      "69597/69597 [==============================] - 46s 662us/sample - loss: 3.2161e-04 - accuracy: 0.9999\n",
      "Epoch 7/10\n",
      "69568/69597 [============================>.] - ETA: 0s - loss: 2.9848e-04 - accuracy: 0.9999WARNING:tensorflow:Early stopping conditioned on metric `val_loss` which is not available. Available metrics are: loss,accuracy\n",
      "69597/69597 [==============================] - 46s 660us/sample - loss: 2.9836e-04 - accuracy: 0.9999\n",
      "Epoch 8/10\n",
      "69568/69597 [============================>.] - ETA: 0s - loss: 2.5623e-04 - accuracy: 0.9999 WARNING:tensorflow:Early stopping conditioned on metric `val_loss` which is not available. Available metrics are: loss,accuracy\n",
      "69597/69597 [==============================] - 45s 648us/sample - loss: 2.5612e-04 - accuracy: 0.9999\n",
      "Epoch 9/10\n",
      "69568/69597 [============================>.] - ETA: 0s - loss: 2.1127e-04 - accuracy: 0.9999WARNING:tensorflow:Early stopping conditioned on metric `val_loss` which is not available. Available metrics are: loss,accuracy\n",
      "69597/69597 [==============================] - 45s 653us/sample - loss: 2.1119e-04 - accuracy: 0.9999\n",
      "Epoch 10/10\n",
      "69568/69597 [============================>.] - ETA: 0s - loss: 1.8822e-04 - accuracy: 1.0000 ETA: 3s - ETA: 2s - loss: 1.8373e - EWARNING:tensorflow:Early stopping conditioned on metric `val_loss` which is not available. Available metrics are: loss,accuracy\n",
      "69597/69597 [==============================] - 45s 652us/sample - loss: 1.8814e-04 - accuracy: 1.0000\n"
     ]
    },
    {
     "data": {
      "text/plain": [
       "<tensorflow.python.keras.callbacks.History at 0x1a1fcb32148>"
      ]
     },
     "execution_count": 11,
     "metadata": {},
     "output_type": "execute_result"
    },
    {
     "name": "stdout",
     "output_type": "stream",
     "text": [
      "accuracy_score 0.9998626018362861\n",
      "recall_score 0.9954819277108434\n",
      "precision_score 0.997198275862069\n",
      "f1_score 0.9963393626184325\n",
      "Model: \"model_2\"\n",
      "_________________________________________________________________\n",
      "Layer (type)                 Output Shape              Param #   \n",
      "=================================================================\n",
      "input_1 (InputLayer)         [(None, 32, 256)]         0         \n",
      "_________________________________________________________________\n",
      "bidirectional (Bidirectional (None, 32, 96)            117120    \n",
      "_________________________________________________________________\n",
      "time_distributed (TimeDistri (None, 32, 1)             97        \n",
      "=================================================================\n",
      "Total params: 117,217\n",
      "Trainable params: 117,217\n",
      "Non-trainable params: 0\n",
      "_________________________________________________________________\n",
      "======Training stage======\n",
      "Train on 69597 samples\n",
      "Epoch 1/10\n",
      "69568/69597 [============================>.] - ETA: 0s - loss: 2.5163e-04 - accuracy: 0.9999WARNING:tensorflow:Early stopping conditioned on metric `val_loss` which is not available. Available metrics are: loss,accuracy\n",
      "69597/69597 [==============================] - 80s 1ms/sample - loss: 2.5154e-04 - accuracy: 0.9999\n",
      "Epoch 2/10\n",
      "69536/69597 [============================>.] - ETA: 0s - loss: 2.1862e-04 - accuracy: 0.9999WARNING:tensorflow:Early stopping conditioned on metric `val_loss` which is not available. Available metrics are: loss,accuracy\n",
      "69597/69597 [==============================] - 33s 474us/sample - loss: 2.1843e-04 - accuracy: 0.9999\n",
      "Epoch 3/10\n",
      "69568/69597 [============================>.] - ETA: 0s - loss: 1.5900e-04 - accuracy: 1.0000WARNING:tensorflow:Early stopping conditioned on metric `val_loss` which is not available. Available metrics are: loss,accuracy\n",
      "69597/69597 [==============================] - 31s 453us/sample - loss: 1.5894e-04 - accuracy: 1.0000\n",
      "Epoch 4/10\n",
      "69568/69597 [============================>.] - ETA: 0s - loss: 1.1676e-04 - accuracy: 1.0000 ETA: 0s - loss: 1.1752e-04 WARNING:tensorflow:Early stopping conditioned on metric `val_loss` which is not available. Available metrics are: loss,accuracy\n",
      "69597/69597 [==============================] - 43s 616us/sample - loss: 1.1671e-04 - accuracy: 1.0000\n",
      "Epoch 5/10\n",
      "69536/69597 [============================>.] - ETA: 0s - loss: 9.5569e-05 - accuracy: 1.0000 ETA: 0s - loss: 9.5293e-05  - ETA: 0s - loss: 9.5450e-05 - accuracy: 1.0000WARNING:tensorflow:Early stopping conditioned on metric `val_loss` which is not available. Available metrics are: loss,accuracy\n",
      "69597/69597 [==============================] - 47s 670us/sample - loss: 9.5366e-05 - accuracy: 1.0000\n",
      "Epoch 6/10\n",
      "69504/69597 [============================>.] - ETA: 0s - loss: 1.2498e-04 - accuracy: 1.0000 ETA: 0s - loss: 1.2599e-04 - acWARNING:tensorflow:Early stopping conditioned on metric `val_loss` which is not available. Available metrics are: loss,accuracy\n",
      "69597/69597 [==============================] - 47s 669us/sample - loss: 1.2482e-04 - accuracy: 1.0000\n",
      "Epoch 7/10\n",
      "69568/69597 [============================>.] - ETA: 0s - loss: 6.5636e-05 - accuracy: 1.0000WARNING:tensorflow:Early stopping conditioned on metric `val_loss` which is not available. Available metrics are: loss,accuracy\n",
      "69597/69597 [==============================] - 47s 672us/sample - loss: 6.5616e-05 - accuracy: 1.0000\n",
      "Epoch 8/10\n",
      "69568/69597 [============================>.] - ETA: 0s - loss: 7.8277e-05 - accuracy: 1.0000WARNING:tensorflow:Early stopping conditioned on metric `val_loss` which is not available. Available metrics are: loss,accuracy\n",
      "69597/69597 [==============================] - 47s 675us/sample - loss: 7.8244e-05 - accuracy: 1.0000\n",
      "Epoch 9/10\n",
      "69568/69597 [============================>.] - ETA: 0s - loss: 5.1140e-05 - accuracy: 1.0000WARNING:tensorflow:Early stopping conditioned on metric `val_loss` which is not available. Available metrics are: loss,accuracy\n",
      "69597/69597 [==============================] - 47s 673us/sample - loss: 5.1118e-05 - accuracy: 1.0000\n",
      "Epoch 10/10\n",
      "69536/69597 [============================>.] - ETA: 0s - loss: 6.1557e-05 - accuracy: 1.0000WARNING:tensorflow:Early stopping conditioned on metric `val_loss` which is not available. Available metrics are: loss,accuracy\n",
      "69597/69597 [==============================] - 46s 667us/sample - loss: 6.1508e-05 - accuracy: 1.0000\n"
     ]
    },
    {
     "data": {
      "text/plain": [
       "<tensorflow.python.keras.callbacks.History at 0x1a205974d08>"
      ]
     },
     "execution_count": 11,
     "metadata": {},
     "output_type": "execute_result"
    },
    {
     "name": "stdout",
     "output_type": "stream",
     "text": [
      "accuracy_score 0.9998908896935212\n",
      "recall_score 0.9971258014592085\n",
      "precision_score 0.9969053934571176\n",
      "f1_score 0.9970155852768874\n",
      "Model: \"model_3\"\n",
      "_________________________________________________________________\n",
      "Layer (type)                 Output Shape              Param #   \n",
      "=================================================================\n",
      "input_1 (InputLayer)         [(None, 32, 256)]         0         \n",
      "_________________________________________________________________\n",
      "bidirectional (Bidirectional (None, 32, 96)            117120    \n",
      "_________________________________________________________________\n",
      "time_distributed (TimeDistri (None, 32, 1)             97        \n",
      "=================================================================\n",
      "Total params: 117,217\n",
      "Trainable params: 117,217\n",
      "Non-trainable params: 0\n",
      "_________________________________________________________________\n",
      "======Training stage======\n",
      "Train on 69597 samples\n",
      "Epoch 1/10\n",
      "69536/69597 [============================>.] - ETA: 0s - loss: 1.0807e-04 - accuracy: 1.0000WARNING:tensorflow:Early stopping conditioned on metric `val_loss` which is not available. Available metrics are: loss,accuracy\n",
      "69597/69597 [==============================] - 89s 1ms/sample - loss: 1.0798e-04 - accuracy: 1.0000\n",
      "Epoch 2/10\n",
      "69536/69597 [============================>.] - ETA: 0s - loss: 4.4884e-05 - accuracy: 1.0000 ETA: 7s - loss: 4 - ETA - ETA:  - ETA: 3s - loss: 4.399 - ETA: 2s - loss: 4.6472e-05 - accura - ETA: 2s - loss: 4.6145eWARNING:tensorflow:Early stopping conditioned on metric `val_loss` which is not available. Available metrics are: loss,accuracy\n",
      "69597/69597 [==============================] - 46s 668us/sample - loss: 4.4844e-05 - accuracy: 1.0000\n",
      "Epoch 3/10\n",
      "69504/69597 [============================>.] - ETA: 0s - loss: 4.2546e-05 - accuracy: 1.0000 - ETA: 44s - loss: 4.5032e-07 - accur - ETA - ETA: 3 - ETA: 1s - loss: 4.1740e-05  - ETA: 0s - loss: 4.127WARNING:tensorflow:Early stopping conditioned on metric `val_loss` which is not available. Available metrics are: loss,accuracy\n",
      "69597/69597 [==============================] - 46s 662us/sample - loss: 4.2489e-05 - accuracy: 1.0000\n",
      "Epoch 4/10\n",
      "69504/69597 [============================>.] - ETA: 0s - loss: 2.5913e-05 - accuracy: 1.0000 ETA: 1s - ETA: 0s - loss: 2.4555e-05 - WARNING:tensorflow:Early stopping conditioned on metric `val_loss` which is not available. Available metrics are: loss,accuracy\n",
      "69597/69597 [==============================] - 46s 657us/sample - loss: 2.5878e-05 - accuracy: 1.0000\n",
      "Epoch 5/10\n",
      "69568/69597 [============================>.] - ETA: 0s - loss: 3.6780e-05 - accuracy: 1.0000WARNING:tensorflow:Early stopping conditioned on metric `val_loss` which is not available. Available metrics are: loss,accuracy\n",
      "69597/69597 [==============================] - 46s 662us/sample - loss: 3.6764e-05 - accuracy: 1.0000\n",
      "Epoch 6/10\n",
      "69568/69597 [============================>.] - ETA: 0s - loss: 3.7824e-05 - accuracy: 1.0000WARNING:tensorflow:Early stopping conditioned on metric `val_loss` which is not available. Available metrics are: loss,accuracy\n",
      "69597/69597 [==============================] - 46s 661us/sample - loss: 3.7808e-05 - accuracy: 1.0000\n",
      "Epoch 7/10\n",
      "69536/69597 [============================>.] - ETA: 0s - loss: 2.8162e-05 - accuracy: 1.0000WARNING:tensorflow:Early stopping conditioned on metric `val_loss` which is not available. Available metrics are: loss,accuracy\n",
      "69597/69597 [==============================] - 46s 663us/sample - loss: 2.8151e-05 - accuracy: 1.0000\n",
      "Epoch 8/10\n",
      "69536/69597 [============================>.] - ETA: 0s - loss: 4.6659e-05 - accuracy: 1.0000WARNING:tensorflow:Early stopping conditioned on metric `val_loss` which is not available. Available metrics are: loss,accuracy\n",
      "69597/69597 [==============================] - 46s 661us/sample - loss: 4.6618e-05 - accuracy: 1.0000\n",
      "Epoch 9/10\n",
      "69568/69597 [============================>.] - ETA: 0s - loss: 2.4021e-05 - accuracy: 1.0000WARNING:tensorflow:Early stopping conditioned on metric `val_loss` which is not available. Available metrics are: loss,accuracy\n",
      "69597/69597 [==============================] - 46s 661us/sample - loss: 2.4017e-05 - accuracy: 1.0000\n",
      "Epoch 10/10\n",
      "69504/69597 [============================>.] - ETA: 0s - loss: 3.7260e-05 - accuracy: 1.0000 ETA: 0s - loss: 3.7376e-05 - accuWARNING:tensorflow:Early stopping conditioned on metric `val_loss` which is not available. Available metrics are: loss,accuracy\n",
      "69597/69597 [==============================] - 46s 658us/sample - loss: 3.7212e-05 - accuracy: 1.0000\n"
     ]
    },
    {
     "data": {
      "text/plain": [
       "<tensorflow.python.keras.callbacks.History at 0x1a205174548>"
      ]
     },
     "execution_count": 11,
     "metadata": {},
     "output_type": "execute_result"
    },
    {
     "name": "stdout",
     "output_type": "stream",
     "text": [
      "accuracy_score 0.999951506530454\n",
      "recall_score 0.9982650184341791\n",
      "precision_score 0.9991317560234426\n",
      "f1_score 0.9986981991755263\n",
      "Model: \"model_4\"\n",
      "_________________________________________________________________\n",
      "Layer (type)                 Output Shape              Param #   \n",
      "=================================================================\n",
      "input_1 (InputLayer)         [(None, 32, 256)]         0         \n",
      "_________________________________________________________________\n",
      "bidirectional (Bidirectional (None, 32, 96)            117120    \n",
      "_________________________________________________________________\n",
      "time_distributed (TimeDistri (None, 32, 1)             97        \n",
      "=================================================================\n",
      "Total params: 117,217\n",
      "Trainable params: 117,217\n",
      "Non-trainable params: 0\n",
      "_________________________________________________________________\n",
      "======Training stage======\n",
      "Train on 69597 samples\n",
      "Epoch 1/10\n",
      "69504/69597 [============================>.] - ETA: 0s - loss: 5.8366e-05 - accuracy: 1.0000WARNING:tensorflow:Early stopping conditioned on metric `val_loss` which is not available. Available metrics are: loss,accuracy\n",
      "69597/69597 [==============================] - 80s 1ms/sample - loss: 5.8288e-05 - accuracy: 1.0000\n",
      "Epoch 2/10\n",
      "69504/69597 [============================>.] - ETA: 0s - loss: 3.0814e-05 - accuracy: 1.0000 - ETA: 27s - loss: 1 - ETA: 0s - loss: 3.1028e-05 - accuracy - ETA: 0s - loss: 3.0857e-05 - accuracy: 1.00WARNING:tensorflow:Early stopping conditioned on metric `val_loss` which is not available. Available metrics are: loss,accuracy\n",
      "69597/69597 [==============================] - 46s 665us/sample - loss: 3.0783e-05 - accuracy: 1.0000\n",
      "Epoch 3/10\n",
      "69504/69597 [============================>.] - ETA: 0s - loss: 4.4020e-05 - accuracy: 1.0000WARNING:tensorflow:Early stopping conditioned on metric `val_loss` which is not available. Available metrics are: loss,accuracy\n",
      "69597/69597 [==============================] - 46s 664us/sample - loss: 4.3988e-05 - accuracy: 1.0000\n",
      "Epoch 4/10\n",
      "69504/69597 [============================>.] - ETA: 0s - loss: 6.8730e-05 - accuracy: 1.0000 ETA: 4s -WARNING:tensorflow:Early stopping conditioned on metric `val_loss` which is not available. Available metrics are: loss,accuracy\n",
      "69597/69597 [==============================] - 46s 661us/sample - loss: 6.8638e-05 - accuracy: 1.0000\n",
      "Epoch 5/10\n",
      "69504/69597 [============================>.] - ETA: 0s - loss: 2.3011e-05 - accuracy: 1.0000WARNING:tensorflow:Early stopping conditioned on metric `val_loss` which is not available. Available metrics are: loss,accuracy\n",
      "69597/69597 [==============================] - 46s 666us/sample - loss: 2.2980e-05 - accuracy: 1.0000\n",
      "Epoch 6/10\n",
      "69568/69597 [============================>.] - ETA: 0s - loss: 2.2166e-05 - accuracy: 1.0000 ETA: 8s - loss: 2.0943e-05 -  - E - ETA: 6s - loss: 2.002WARNING:tensorflow:Early stopping conditioned on metric `val_loss` which is not available. Available metrics are: loss,accuracy\n",
      "69597/69597 [==============================] - 46s 666us/sample - loss: 2.2156e-05 - accuracy: 1.0000\n",
      "Epoch 7/10\n",
      "69568/69597 [============================>.] - ETA: 0s - loss: 7.1961e-06 - accuracy: 1.0000WARNING:tensorflow:Early stopping conditioned on metric `val_loss` which is not available. Available metrics are: loss,accuracy\n",
      "69597/69597 [==============================] - 46s 664us/sample - loss: 7.1931e-06 - accuracy: 1.0000\n",
      "Epoch 8/10\n",
      "69472/69597 [============================>.] - ETA: 0s - loss: 1.5085e-05 - accuracy: 1.0000WARNING:tensorflow:Early stopping conditioned on metric `val_loss` which is not available. Available metrics are: loss,accuracy\n",
      "69597/69597 [==============================] - 36s 518us/sample - loss: 1.5058e-05 - accuracy: 1.0000\n",
      "Epoch 9/10\n",
      "69568/69597 [============================>.] - ETA: 0s - loss: 2.2139e-06 - accuracy: 1.0000WARNING:tensorflow:Early stopping conditioned on metric `val_loss` which is not available. Available metrics are: loss,accuracy\n",
      "69597/69597 [==============================] - 35s 502us/sample - loss: 2.2129e-06 - accuracy: 1.0000\n",
      "Epoch 10/10\n",
      "69568/69597 [============================>.] - ETA: 0s - loss: 3.2908e-06 - accuracy: 1.0000WARNING:tensorflow:Early stopping conditioned on metric `val_loss` which is not available. Available metrics are: loss,accuracy\n",
      "69597/69597 [==============================] - 43s 614us/sample - loss: 3.2894e-06 - accuracy: 1.0000\n"
     ]
    },
    {
     "data": {
      "text/plain": [
       "<tensorflow.python.keras.callbacks.History at 0x1a20c965508>"
      ]
     },
     "execution_count": 11,
     "metadata": {},
     "output_type": "execute_result"
    },
    {
     "name": "stdout",
     "output_type": "stream",
     "text": [
      "accuracy_score 0.9999959588775378\n",
      "recall_score 1.0\n",
      "precision_score 0.9997825141365811\n",
      "f1_score 0.9998912452419794\n",
      "Model: \"model_5\"\n",
      "_________________________________________________________________\n",
      "Layer (type)                 Output Shape              Param #   \n",
      "=================================================================\n",
      "input_1 (InputLayer)         [(None, 32, 256)]         0         \n",
      "_________________________________________________________________\n",
      "bidirectional (Bidirectional (None, 32, 96)            117120    \n",
      "_________________________________________________________________\n",
      "time_distributed (TimeDistri (None, 32, 1)             97        \n",
      "=================================================================\n",
      "Total params: 117,217\n",
      "Trainable params: 117,217\n",
      "Non-trainable params: 0\n",
      "_________________________________________________________________\n",
      "======Training stage======\n",
      "Train on 69597 samples\n",
      "Epoch 1/10\n",
      "69504/69597 [============================>.] - ETA: 0s - loss: 6.0087e-06 - accuracy: 1.0000 - ETA:  - ETA: 40s - loss: 4.2690e-06  - ETA: 1s - loss: 6.103WARNING:tensorflow:Early stopping conditioned on metric `val_loss` which is not available. Available metrics are: loss,accuracy\n",
      "69597/69597 [==============================] - 110s 2ms/sample - loss: 6.0006e-06 - accuracy: 1.0000\n",
      "Epoch 2/10\n",
      "69536/69597 [============================>.] - ETA: 0s - loss: 1.1441e-05 - accuracy: 1.00 - ETA: 0s - loss: 1.1456e-05 - accuracy: 1.0000WARNING:tensorflow:Early stopping conditioned on metric `val_loss` which is not available. Available metrics are: loss,accuracy\n",
      "69597/69597 [==============================] - 47s 675us/sample - loss: 1.1446e-05 - accuracy: 1.0000\n",
      "Epoch 3/10\n",
      "69568/69597 [============================>.] - ETA: 0s - loss: 5.0348e-05 - accuracy: 1.0000WARNING:tensorflow:Early stopping conditioned on metric `val_loss` which is not available. Available metrics are: loss,accuracy\n",
      "69597/69597 [==============================] - 47s 676us/sample - loss: 5.0327e-05 - accuracy: 1.0000\n",
      "Epoch 4/10\n",
      "69568/69597 [============================>.] - ETA: 0s - loss: 3.9922e-07 - accuracy: 1.0000 ETA: 0s - loss: 4.0006e-07 - accuracy: 1.WARNING:tensorflow:Early stopping conditioned on metric `val_loss` which is not available. Available metrics are: loss,accuracy\n",
      "69597/69597 [==============================] - 46s 665us/sample - loss: 3.9906e-07 - accuracy: 1.0000\n",
      "Epoch 5/10\n",
      "69504/69597 [============================>.] - ETA: 0s - loss: 3.1054e-06 - accuracy: 1.0000WARNING:tensorflow:Early stopping conditioned on metric `val_loss` which is not available. Available metrics are: loss,accuracy\n",
      "69597/69597 [==============================] - 45s 652us/sample - loss: 3.1013e-06 - accuracy: 1.0000\n",
      "Epoch 6/10\n",
      "69568/69597 [============================>.] - ETA: 0s - loss: 2.6612e-05 - accuracy: 1.00 - ETA: 0s - loss: 2.6587e-05 - accuracy: 1.0000WARNING:tensorflow:Early stopping conditioned on metric `val_loss` which is not available. Available metrics are: loss,accuracy\n",
      "69597/69597 [==============================] - 44s 632us/sample - loss: 2.6576e-05 - accuracy: 1.0000\n",
      "Epoch 7/10\n",
      "69568/69597 [============================>.] - ETA: 0s - loss: 1.4990e-07 - accuracy: 1.0000WARNING:tensorflow:Early stopping conditioned on metric `val_loss` which is not available. Available metrics are: loss,accuracy\n",
      "69597/69597 [==============================] - 44s 631us/sample - loss: 1.4984e-07 - accuracy: 1.0000\n",
      "Epoch 8/10\n",
      "69568/69597 [============================>.] - ETA: 0s - loss: 1.4892e-06 - accuracy: 1.0000 ETA: 0s - loss: 1.515WARNING:tensorflow:Early stopping conditioned on metric `val_loss` which is not available. Available metrics are: loss,accuracy\n",
      "69597/69597 [==============================] - 40s 574us/sample - loss: 1.4886e-06 - accuracy: 1.0000\n",
      "Epoch 9/10\n",
      "69536/69597 [============================>.] - ETA: 0s - loss: 8.6764e-08 - accuracy: 1.0000WARNING:tensorflow:Early stopping conditioned on metric `val_loss` which is not available. Available metrics are: loss,accuracy\n",
      "69597/69597 [==============================] - 40s 575us/sample - loss: 8.6689e-08 - accuracy: 1.0000\n",
      "Epoch 10/10\n",
      "69504/69597 [============================>.] - ETA: 0s - loss: 3.4086e-07 - accuracy: 1.0000WARNING:tensorflow:Early stopping conditioned on metric `val_loss` which is not available. Available metrics are: loss,accuracy\n",
      "69597/69597 [==============================] - 40s 572us/sample - loss: 3.4041e-07 - accuracy: 1.0000\n"
     ]
    },
    {
     "data": {
      "text/plain": [
       "<tensorflow.python.keras.callbacks.History at 0x1a21cf9cd48>"
      ]
     },
     "execution_count": 11,
     "metadata": {},
     "output_type": "execute_result"
    },
    {
     "name": "stdout",
     "output_type": "stream",
     "text": [
      "accuracy_score 1.0\n",
      "recall_score 1.0\n",
      "precision_score 1.0\n",
      "f1_score 1.0\n",
      "Model: \"model_6\"\n",
      "_________________________________________________________________\n",
      "Layer (type)                 Output Shape              Param #   \n",
      "=================================================================\n",
      "input_1 (InputLayer)         [(None, 32, 256)]         0         \n",
      "_________________________________________________________________\n",
      "bidirectional (Bidirectional (None, 32, 96)            117120    \n",
      "_________________________________________________________________\n",
      "time_distributed (TimeDistri (None, 32, 1)             97        \n",
      "=================================================================\n",
      "Total params: 117,217\n",
      "Trainable params: 117,217\n",
      "Non-trainable params: 0\n",
      "_________________________________________________________________\n",
      "======Training stage======\n",
      "Train on 69597 samples\n",
      "Epoch 1/10\n",
      "69568/69597 [============================>.] - ETA: 0s - loss: 3.3575e-06 - accuracy: 1.0000WARNING:tensorflow:Early stopping conditioned on metric `val_loss` which is not available. Available metrics are: loss,accuracy\n",
      "69597/69597 [==============================] - 66s 950us/sample - loss: 3.3561e-06 - accuracy: 1.0000\n",
      "Epoch 2/10\n",
      "69568/69597 [============================>.] - ETA: 0s - loss: 2.2890e-06 - accuracy: 1.0000WARNING:tensorflow:Early stopping conditioned on metric `val_loss` which is not available. Available metrics are: loss,accuracy\n",
      "69597/69597 [==============================] - 46s 655us/sample - loss: 2.2881e-06 - accuracy: 1.0000\n",
      "Epoch 3/10\n",
      "69568/69597 [============================>.] - ETA: 0s - loss: 2.8552e-05 - accuracy: 1.0000WARNING:tensorflow:Early stopping conditioned on metric `val_loss` which is not available. Available metrics are: loss,accuracy\n",
      "69597/69597 [==============================] - 44s 632us/sample - loss: 2.8540e-05 - accuracy: 1.0000\n",
      "Epoch 4/10\n",
      "69536/69597 [============================>.] - ETA: 0s - loss: 2.2195e-07 - accuracy: 1.0000 ETA: 0s - loss: 2.2474e-0WARNING:tensorflow:Early stopping conditioned on metric `val_loss` which is not available. Available metrics are: loss,accuracy\n",
      "69597/69597 [==============================] - 46s 654us/sample - loss: 2.2176e-07 - accuracy: 1.0000\n",
      "Epoch 5/10\n",
      "69568/69597 [============================>.] - ETA: 0s - loss: 7.9964e-06 - accuracy: 1.0000 ETA: 0s - loss: 8.0074e-06 - accuracy: 1.00WARNING:tensorflow:Early stopping conditioned on metric `val_loss` which is not available. Available metrics are: loss,accuracy\n",
      "69597/69597 [==============================] - 45s 649us/sample - loss: 7.9930e-06 - accuracy: 1.0000\n",
      "Epoch 6/10\n",
      "69536/69597 [============================>.] - ETA: 0s - loss: 5.0421e-07 - accuracy: 1.0000WARNING:tensorflow:Early stopping conditioned on metric `val_loss` which is not available. Available metrics are: loss,accuracy\n",
      "69597/69597 [==============================] - 45s 645us/sample - loss: 5.0377e-07 - accuracy: 1.0000\n",
      "Epoch 7/10\n",
      "69536/69597 [============================>.] - ETA: 0s - loss: 2.6277e-07 - accuracy: 1.0000 ETA: 2s - loss: 2.7528e -WARNING:tensorflow:Early stopping conditioned on metric `val_loss` which is not available. Available metrics are: loss,accuracy\n",
      "69597/69597 [==============================] - 45s 648us/sample - loss: 2.6254e-07 - accuracy: 1.0000\n",
      "Epoch 8/10\n",
      "69536/69597 [============================>.] - ETA: 0s - loss: 1.2951e-06 - accuracy: 1.0000WARNING:tensorflow:Early stopping conditioned on metric `val_loss` which is not available. Available metrics are: loss,accuracy\n",
      "69597/69597 [==============================] - 45s 648us/sample - loss: 1.2940e-06 - accuracy: 1.0000\n",
      "Epoch 9/10\n",
      "69504/69597 [============================>.] - ETA: 0s - loss: 1.6114e-08 - accuracy: 1.0000 ETA: 1sWARNING:tensorflow:Early stopping conditioned on metric `val_loss` which is not available. Available metrics are: loss,accuracy\n",
      "69597/69597 [==============================] - 45s 648us/sample - loss: 1.6095e-08 - accuracy: 1.0000\n",
      "Epoch 10/10\n",
      "69504/69597 [============================>.] - ETA: 0s - loss: 1.3446e-06 - accuracy: 1.0000WARNING:tensorflow:Early stopping conditioned on metric `val_loss` which is not available. Available metrics are: loss,accuracy\n",
      "69597/69597 [==============================] - 45s 650us/sample - loss: 1.3428e-06 - accuracy: 1.0000\n"
     ]
    },
    {
     "data": {
      "text/plain": [
       "<tensorflow.python.keras.callbacks.History at 0x1a1fcc90b08>"
      ]
     },
     "execution_count": 11,
     "metadata": {},
     "output_type": "execute_result"
    },
    {
     "name": "stdout",
     "output_type": "stream",
     "text": [
      "accuracy_score 1.0\n",
      "recall_score 1.0\n",
      "precision_score 1.0\n",
      "f1_score 1.0\n",
      "Model: \"model_7\"\n",
      "_________________________________________________________________\n",
      "Layer (type)                 Output Shape              Param #   \n",
      "=================================================================\n",
      "input_1 (InputLayer)         [(None, 32, 256)]         0         \n",
      "_________________________________________________________________\n",
      "bidirectional (Bidirectional (None, 32, 96)            117120    \n",
      "_________________________________________________________________\n",
      "time_distributed (TimeDistri (None, 32, 1)             97        \n",
      "=================================================================\n",
      "Total params: 117,217\n",
      "Trainable params: 117,217\n",
      "Non-trainable params: 0\n",
      "_________________________________________________________________\n",
      "======Training stage======\n",
      "Train on 69597 samples\n",
      "Epoch 1/10\n",
      "69504/69597 [============================>.] - ETA: 0s - loss: 6.1970e-09 - accuracy: 1.0000WARNING:tensorflow:Early stopping conditioned on metric `val_loss` which is not available. Available metrics are: loss,accuracy\n",
      "69597/69597 [==============================] - 55s 793us/sample - loss: 6.2135e-09 - accuracy: 1.0000\n",
      "Epoch 2/10\n",
      "69504/69597 [============================>.] - ETA: 0s - loss: 1.1439e-06 - accuracy: 1.0000WARNING:tensorflow:Early stopping conditioned on metric `val_loss` which is not available. Available metrics are: loss,accuracy\n",
      "69597/69597 [==============================] - 31s 439us/sample - loss: 1.1424e-06 - accuracy: 1.0000\n",
      "Epoch 3/10\n",
      "69504/69597 [============================>.] - ETA: 0s - loss: 8.4375e-09 - accuracy: 1.0000WARNING:tensorflow:Early stopping conditioned on metric `val_loss` which is not available. Available metrics are: loss,accuracy\n",
      "69597/69597 [==============================] - 30s 435us/sample - loss: 8.4264e-09 - accuracy: 1.0000\n",
      "Epoch 4/10\n",
      "69568/69597 [============================>.] - ETA: 0s - loss: 3.3999e-07 - accuracy: 1.0000WARNING:tensorflow:Early stopping conditioned on metric `val_loss` which is not available. Available metrics are: loss,accuracy\n",
      "69597/69597 [==============================] - 31s 440us/sample - loss: 3.3985e-07 - accuracy: 1.0000\n",
      "Epoch 5/10\n",
      "69568/69597 [============================>.] - ETA: 0s - loss: 1.3877e-07 - accuracy: 1.0000WARNING:tensorflow:Early stopping conditioned on metric `val_loss` which is not available. Available metrics are: loss,accuracy\n",
      "69597/69597 [==============================] - 30s 435us/sample - loss: 1.3872e-07 - accuracy: 1.0000\n",
      "Epoch 6/10\n",
      "69504/69597 [============================>.] - ETA: 0s - loss: 6.0426e-09 - accuracy: 1.0000 ETAWARNING:tensorflow:Early stopping conditioned on metric `val_loss` which is not available. Available metrics are: loss,accuracy\n",
      "69597/69597 [==============================] - 30s 434us/sample - loss: 6.0348e-09 - accuracy: 1.0000\n",
      "Epoch 7/10\n",
      "69536/69597 [============================>.] - ETA: 0s - loss: 3.0010e-08 - accuracy: 1.0000WARNING:tensorflow:Early stopping conditioned on metric `val_loss` which is not available. Available metrics are: loss,accuracy\n",
      "69597/69597 [==============================] - 30s 434us/sample - loss: 2.9984e-08 - accuracy: 1.0000\n",
      "Epoch 8/10\n",
      "69536/69597 [============================>.] - ETA: 0s - loss: 3.9510e-08 - accuracy: 1.0000WARNING:tensorflow:Early stopping conditioned on metric `val_loss` which is not available. Available metrics are: loss,accuracy\n",
      "69597/69597 [==============================] - 30s 435us/sample - loss: 3.9476e-08 - accuracy: 1.0000\n",
      "Epoch 9/10\n",
      "69536/69597 [============================>.] - ETA: 0s - loss: 9.5942e-10 - accuracy: 1.0000WARNING:tensorflow:Early stopping conditioned on metric `val_loss` which is not available. Available metrics are: loss,accuracy\n",
      "69597/69597 [==============================] - 30s 433us/sample - loss: 9.5920e-10 - accuracy: 1.0000\n",
      "Epoch 10/10\n",
      "69504/69597 [============================>.] - ETA: 0s - loss: 1.1774e-09 - accuracy: 1.0000WARNING:tensorflow:Early stopping conditioned on metric `val_loss` which is not available. Available metrics are: loss,accuracy\n",
      "69597/69597 [==============================] - 30s 433us/sample - loss: 1.1758e-09 - accuracy: 1.0000\n"
     ]
    },
    {
     "data": {
      "text/plain": [
       "<tensorflow.python.keras.callbacks.History at 0x1a211e822c8>"
      ]
     },
     "execution_count": 11,
     "metadata": {},
     "output_type": "execute_result"
    },
    {
     "name": "stdout",
     "output_type": "stream",
     "text": [
      "accuracy_score 1.0\n",
      "recall_score 1.0\n",
      "precision_score 1.0\n",
      "f1_score 1.0\n",
      "Model: \"model_8\"\n",
      "_________________________________________________________________\n",
      "Layer (type)                 Output Shape              Param #   \n",
      "=================================================================\n",
      "input_1 (InputLayer)         [(None, 32, 256)]         0         \n",
      "_________________________________________________________________\n",
      "bidirectional (Bidirectional (None, 32, 96)            117120    \n",
      "_________________________________________________________________\n",
      "time_distributed (TimeDistri (None, 32, 1)             97        \n",
      "=================================================================\n",
      "Total params: 117,217\n",
      "Trainable params: 117,217\n",
      "Non-trainable params: 0\n",
      "_________________________________________________________________\n",
      "======Training stage======\n",
      "Train on 69597 samples\n",
      "Epoch 1/10\n",
      "69568/69597 [============================>.] - ETA: 0s - loss: 1.9198e-06 - accuracy: 1.0000WARNING:tensorflow:Early stopping conditioned on metric `val_loss` which is not available. Available metrics are: loss,accuracy\n",
      "69597/69597 [==============================] - 42s 602us/sample - loss: 1.9190e-06 - accuracy: 1.0000\n",
      "Epoch 2/10\n",
      "69504/69597 [============================>.] - ETA: 0s - loss: 8.1700e-10 - accuracy: 1.0000WARNING:tensorflow:Early stopping conditioned on metric `val_loss` which is not available. Available metrics are: loss,accuracy\n",
      "69597/69597 [==============================] - 30s 430us/sample - loss: 8.1591e-10 - accuracy: 1.0000\n",
      "Epoch 3/10\n",
      "69536/69597 [============================>.] - ETA: 0s - loss: 1.3324e-09 - accuracy: 1.0000WARNING:tensorflow:Early stopping conditioned on metric `val_loss` which is not available. Available metrics are: loss,accuracy\n",
      "69597/69597 [==============================] - 30s 430us/sample - loss: 1.3312e-09 - accuracy: 1.0000\n",
      "Epoch 4/10\n",
      "69504/69597 [============================>.] - ETA: 0s - loss: 2.0331e-09 - accuracy: 1.0000WARNING:tensorflow:Early stopping conditioned on metric `val_loss` which is not available. Available metrics are: loss,accuracy\n",
      "69597/69597 [==============================] - 30s 430us/sample - loss: 2.0304e-09 - accuracy: 1.0000\n",
      "Epoch 5/10\n",
      "69536/69597 [============================>.] - ETA: 0s - loss: 3.4846e-08 - accuracy: 1.0000WARNING:tensorflow:Early stopping conditioned on metric `val_loss` which is not available. Available metrics are: loss,accuracy\n",
      "69597/69597 [==============================] - 30s 430us/sample - loss: 3.4815e-08 - accuracy: 1.0000\n",
      "Epoch 6/10\n",
      "69504/69597 [============================>.] - ETA: 0s - loss: 7.8892e-10 - accuracy: 1.0000WARNING:tensorflow:Early stopping conditioned on metric `val_loss` which is not available. Available metrics are: loss,accuracy\n",
      "69597/69597 [==============================] - 30s 430us/sample - loss: 7.8797e-10 - accuracy: 1.0000\n",
      "Epoch 7/10\n",
      "69472/69597 [============================>.] - ETA: 0s - loss: 3.5386e-08 - accuracy: 1.0000WARNING:tensorflow:Early stopping conditioned on metric `val_loss` which is not available. Available metrics are: loss,accuracy\n",
      "69597/69597 [==============================] - 30s 429us/sample - loss: 3.5323e-08 - accuracy: 1.0000\n",
      "Epoch 8/10\n",
      "69472/69597 [============================>.] - ETA: 0s - loss: 5.9284e-10 - accuracy: 1.0000WARNING:tensorflow:Early stopping conditioned on metric `val_loss` which is not available. Available metrics are: loss,accuracy\n",
      "69597/69597 [==============================] - 30s 430us/sample - loss: 5.9304e-10 - accuracy: 1.0000\n",
      "Epoch 9/10\n",
      "69504/69597 [============================>.] - ETA: 0s - loss: 4.4509e-10 - accuracy: 1.0000WARNING:tensorflow:Early stopping conditioned on metric `val_loss` which is not available. Available metrics are: loss,accuracy\n",
      "69597/69597 [==============================] - 30s 429us/sample - loss: 4.4509e-10 - accuracy: 1.0000\n",
      "Epoch 10/10\n",
      "69536/69597 [============================>.] - ETA: 0s - loss: 5.2254e-10 - accuracy: 1.0000WARNING:tensorflow:Early stopping conditioned on metric `val_loss` which is not available. Available metrics are: loss,accuracy\n",
      "69597/69597 [==============================] - 30s 430us/sample - loss: 5.2224e-10 - accuracy: 1.0000\n"
     ]
    },
    {
     "data": {
      "text/plain": [
       "<tensorflow.python.keras.callbacks.History at 0x1a245a5b648>"
      ]
     },
     "execution_count": 11,
     "metadata": {},
     "output_type": "execute_result"
    },
    {
     "name": "stdout",
     "output_type": "stream",
     "text": [
      "accuracy_score 1.0\n",
      "recall_score 1.0\n",
      "precision_score 1.0\n",
      "f1_score 1.0\n",
      "Model: \"model_9\"\n",
      "_________________________________________________________________\n",
      "Layer (type)                 Output Shape              Param #   \n",
      "=================================================================\n",
      "input_1 (InputLayer)         [(None, 32, 256)]         0         \n",
      "_________________________________________________________________\n",
      "bidirectional (Bidirectional (None, 32, 96)            117120    \n",
      "_________________________________________________________________\n",
      "time_distributed (TimeDistri (None, 32, 1)             97        \n",
      "=================================================================\n",
      "Total params: 117,217\n",
      "Trainable params: 117,217\n",
      "Non-trainable params: 0\n",
      "_________________________________________________________________\n",
      "======Training stage======\n",
      "Train on 69597 samples\n",
      "Epoch 1/10\n",
      "69504/69597 [============================>.] - ETA: 0s - loss: 3.8291e-10 - accuracy: 1.0000WARNING:tensorflow:Early stopping conditioned on metric `val_loss` which is not available. Available metrics are: loss,accuracy\n",
      "69597/69597 [==============================] - 42s 602us/sample - loss: 3.8361e-10 - accuracy: 1.0000\n",
      "Epoch 2/10\n",
      "69536/69597 [============================>.] - ETA: 0s - loss: 3.2075e-10 - accuracy: 1.0000WARNING:tensorflow:Early stopping conditioned on metric `val_loss` which is not available. Available metrics are: loss,accuracy\n",
      "69597/69597 [==============================] - 30s 430us/sample - loss: 3.2060e-10 - accuracy: 1.0000\n",
      "Epoch 3/10\n",
      "69568/69597 [============================>.] - ETA: 0s - loss: 2.9795e-10 - accuracy: 1.0000WARNING:tensorflow:Early stopping conditioned on metric `val_loss` which is not available. Available metrics are: loss,accuracy\n",
      "69597/69597 [==============================] - 30s 431us/sample - loss: 2.9793e-10 - accuracy: 1.0000\n",
      "Epoch 4/10\n",
      "69568/69597 [============================>.] - ETA: 0s - loss: 2.7939e-10 - accuracy: 1.0000WARNING:tensorflow:Early stopping conditioned on metric `val_loss` which is not available. Available metrics are: loss,accuracy\n",
      "69597/69597 [==============================] - 30s 432us/sample - loss: 2.7928e-10 - accuracy: 1.0000\n",
      "Epoch 5/10\n",
      "69536/69597 [============================>.] - ETA: 0s - loss: 2.6685e-10 - accuracy: 1.0000WARNING:tensorflow:Early stopping conditioned on metric `val_loss` which is not available. Available metrics are: loss,accuracy\n",
      "69597/69597 [==============================] - 30s 432us/sample - loss: 2.6662e-10 - accuracy: 1.0000\n",
      "Epoch 6/10\n",
      "69536/69597 [============================>.] - ETA: 0s - loss: 2.5244e-10 - accuracy: 1.0000WARNING:tensorflow:Early stopping conditioned on metric `val_loss` which is not available. Available metrics are: loss,accuracy\n",
      "69597/69597 [==============================] - 30s 431us/sample - loss: 2.5297e-10 - accuracy: 1.0000\n",
      "Epoch 7/10\n",
      "69536/69597 [============================>.] - ETA: 0s - loss: 2.4325e-10 - accuracy: 1.0000WARNING:tensorflow:Early stopping conditioned on metric `val_loss` which is not available. Available metrics are: loss,accuracy\n",
      "69597/69597 [==============================] - 30s 431us/sample - loss: 2.4317e-10 - accuracy: 1.0000\n",
      "Epoch 8/10\n",
      "69472/69597 [============================>.] - ETA: 0s - loss: 2.3393e-10 - accuracy: 1.0000 ETA: 0s - loss: 2.376 - ETA: 0s - loss: 2.3469e-10 - accuracy: 1.WARNING:tensorflow:Early stopping conditioned on metric `val_loss` which is not available. Available metrics are: loss,accuracy\n",
      "69597/69597 [==============================] - 30s 438us/sample - loss: 2.3354e-10 - accuracy: 1.0000\n",
      "Epoch 9/10\n",
      "69504/69597 [============================>.] - ETA: 0s - loss: 2.2986e-10 - accuracy: 1.0000WARNING:tensorflow:Early stopping conditioned on metric `val_loss` which is not available. Available metrics are: loss,accuracy\n",
      "69597/69597 [==============================] - 30s 434us/sample - loss: 2.2977e-10 - accuracy: 1.0000\n",
      "Epoch 10/10\n",
      "69536/69597 [============================>.] - ETA: 0s - loss: 2.2239e-10 - accuracy: 1.0000WARNING:tensorflow:Early stopping conditioned on metric `val_loss` which is not available. Available metrics are: loss,accuracy\n",
      "69597/69597 [==============================] - 30s 430us/sample - loss: 2.2219e-10 - accuracy: 1.0000\n"
     ]
    },
    {
     "data": {
      "text/plain": [
       "<tensorflow.python.keras.callbacks.History at 0x1a2081ec408>"
      ]
     },
     "execution_count": 11,
     "metadata": {},
     "output_type": "execute_result"
    },
    {
     "name": "stdout",
     "output_type": "stream",
     "text": [
      "accuracy_score 1.0\n",
      "recall_score 1.0\n",
      "precision_score 1.0\n",
      "f1_score 1.0\n",
      "\n",
      "K-fold cross validation Accuracy: [0.9997696560196561, 0.9998626018362861, 0.9998908896935212, 0.999951506530454, 0.9999959588775378, 1.0, 1.0, 1.0, 1.0, 1.0]\n",
      "\n",
      "K-fold cross validation Recall: [0.9927216585796207, 0.9954819277108434, 0.9971258014592085, 0.9982650184341791, 1.0, 1.0, 1.0, 1.0, 1.0, 1.0]\n",
      "\n",
      "K-fold cross validation Precision: [0.9946961325966851, 0.997198275862069, 0.9969053934571176, 0.9991317560234426, 0.9997825141365811, 1.0, 1.0, 1.0, 1.0, 1.0]\n",
      "\n",
      "K-fold cross validation F1-Score: [0.9937079147808808, 0.9963393626184325, 0.9970155852768874, 0.9986981991755263, 0.9998912452419794, 1.0, 1.0, 1.0, 1.0, 1.0]\n"
     ]
    }
   ],
   "source": [
    "# 교차검증 kfold\n",
    "from sklearn.model_selection import KFold\n",
    "\n",
    "# Accuracy, Precision, Recall, F1-Score\n",
    "from sklearn.metrics import accuracy_score, recall_score, precision_score, f1_score\n",
    "\n",
    "# Confusion Matrix, ROC Curve\n",
    "from sklearn.metrics import confusion_matrix, roc_auc_score\n",
    "\n",
    "# 최종 평가지표들 평균용\n",
    "accuracy, recall, precision, f1score, cm = [], [], [], [], []\n",
    "\n",
    "# 11. 교차검증 kfold - k.split - 10회 / K-Fold 객체 생성\n",
    "# kf = KFold(n_splits=10, shuffle=False, random_state=None) # KFold non shuffle 버전\n",
    "kf = KFold(n_splits=10, shuffle=True, random_state=None) # KFold non shuffle 버전\n",
    "\n",
    "for train, validation in kf.split(x_bc8_2, y_bc8_2):\n",
    "    model1 = models.Model(xInput, xOutput)\n",
    "    model1.compile(loss='binary_crossentropy', optimizer='rmsprop', metrics=['accuracy'])\n",
    "    model1.summary()\n",
    "    print('======Training stage======')\n",
    "    model1.fit(x_bc8_2[train],\n",
    "               y_bc8_2[train],\n",
    "               epochs = 10,\n",
    "               batch_size = 32,\n",
    "               callbacks=[early_stopping])\n",
    "    #k_accuracy = '%.4f' %(model1.evaluate(data_10000x[validation], data_10000y[validation])[1])\n",
    "\n",
    "# 12. 교차검증결과 predict - 검증셋들\n",
    "    # predict 값\n",
    "    k_pr = model1.predict(x_bc8_2[validation])\n",
    "    \n",
    "    # 테스트 predict 결과들 비교 (평가지표 보기위함)\n",
    "    pred = np.round(np.array(k_pr).flatten().tolist())\n",
    "    y_test = np.array(y_bc8_2[validation]).flatten().tolist()\n",
    "    \n",
    "# 13. 평가지표들 출력\n",
    "    ## 평가지표들\n",
    "    k_accuracy = float(accuracy_score(y_test, pred))\n",
    "    k_recall =  float(recall_score(y_test, pred))\n",
    "    k_precision = float(precision_score(y_test, pred))\n",
    "    k_f1_score = float(f1_score(y_test, pred))\n",
    "    #k_cm = float(confusion_matrix(y_test, pred))\n",
    "    \n",
    "    print('accuracy_score', k_accuracy)\n",
    "    print('recall_score', k_recall)\n",
    "    print('precision_score', k_precision)\n",
    "    print('f1_score', k_f1_score)\n",
    "    #print('\\nconfusion_matrix\\n', k_cm)\n",
    "\n",
    "    accuracy.append(k_accuracy)\n",
    "    recall.append(k_recall)\n",
    "    precision.append(k_precision)\n",
    "    f1score.append(k_f1_score)\n",
    "    #cm.append(k_cm)\n",
    "#    print('roc_curve 면적', roc_auc_score(y_test, pred))\n",
    "\n",
    "# 최종 결과지표\n",
    "print('\\nK-fold cross validation Accuracy: {}'.format(accuracy))\n",
    "print('\\nK-fold cross validation Recall: {}'.format(recall))\n",
    "print('\\nK-fold cross validation Precision: {}'.format(precision))\n",
    "print('\\nK-fold cross validation F1-Score: {}'.format(f1score))\n",
    "#print('\\nK-fold cross validation ConfusionMatrix: {}'.format(cm))"
   ]
  },
  {
   "cell_type": "markdown",
   "metadata": {},
   "source": [
    "## (9) 평가지표"
   ]
  },
  {
   "cell_type": "code",
   "execution_count": 12,
   "metadata": {},
   "outputs": [
    {
     "name": "stdout",
     "output_type": "stream",
     "text": [
      "10-Fold Cross_validation. Accuracy : 0.9999470612957454\n",
      "10-Fold Cross_validation. Recall : 0.9983594406183851\n",
      "10-Fold Cross_validation. Precision : 0.9987714072075896\n",
      "10-Fold Cross_validation. F1-Score : 0.9985652307093706\n"
     ]
    }
   ],
   "source": [
    "print('10-Fold Cross_validation. Accuracy :', np.mean(accuracy))\n",
    "print('10-Fold Cross_validation. Recall :', np.mean(recall))\n",
    "print('10-Fold Cross_validation. Precision :', np.mean(precision))\n",
    "print('10-Fold Cross_validation. F1-Score :', np.mean(f1score))"
   ]
  },
  {
   "cell_type": "code",
   "execution_count": 13,
   "metadata": {},
   "outputs": [
    {
     "name": "stdout",
     "output_type": "stream",
     "text": [
      "save 완료\n"
     ]
    }
   ],
   "source": [
    "model1.save('gcc8_bin_core_s32_h48_o2.h5')\n",
    "print('save 완료')"
   ]
  }
 ],
 "metadata": {
  "kernelspec": {
   "display_name": "Python 3",
   "language": "python",
   "name": "python3"
  },
  "language_info": {
   "codemirror_mode": {
    "name": "ipython",
    "version": 3
   },
   "file_extension": ".py",
   "mimetype": "text/x-python",
   "name": "python",
   "nbconvert_exporter": "python",
   "pygments_lexer": "ipython3",
   "version": "3.7.7"
  }
 },
 "nbformat": 4,
 "nbformat_minor": 4
}
