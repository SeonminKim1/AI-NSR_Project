{
 "cells": [
  {
   "cell_type": "markdown",
   "metadata": {},
   "source": [
    "## RNN 모델 N-Byte 방식 (함수정보 포함 vs 미포함 => 1:1 비율)\n",
    "\n",
    "## (1) 데이터로드"
   ]
  },
  {
   "cell_type": "code",
   "execution_count": 1,
   "metadata": {},
   "outputs": [
    {
     "name": "stdout",
     "output_type": "stream",
     "text": [
      "(27667301, 2)\n",
      "shape - (27667301, 2)\n",
      "reset_index 완료\n",
      "input data shape\n"
     ]
    },
    {
     "data": {
      "text/html": [
       "<div>\n",
       "<style scoped>\n",
       "    .dataframe tbody tr th:only-of-type {\n",
       "        vertical-align: middle;\n",
       "    }\n",
       "\n",
       "    .dataframe tbody tr th {\n",
       "        vertical-align: top;\n",
       "    }\n",
       "\n",
       "    .dataframe thead th {\n",
       "        text-align: right;\n",
       "    }\n",
       "</style>\n",
       "<table border=\"1\" class=\"dataframe\">\n",
       "  <thead>\n",
       "    <tr style=\"text-align: right;\">\n",
       "      <th></th>\n",
       "      <th>bin</th>\n",
       "      <th>label</th>\n",
       "    </tr>\n",
       "  </thead>\n",
       "  <tbody>\n",
       "    <tr>\n",
       "      <th>0</th>\n",
       "      <td>47</td>\n",
       "      <td>0</td>\n",
       "    </tr>\n",
       "    <tr>\n",
       "      <th>1</th>\n",
       "      <td>108</td>\n",
       "      <td>0</td>\n",
       "    </tr>\n",
       "    <tr>\n",
       "      <th>2</th>\n",
       "      <td>105</td>\n",
       "      <td>0</td>\n",
       "    </tr>\n",
       "    <tr>\n",
       "      <th>3</th>\n",
       "      <td>98</td>\n",
       "      <td>0</td>\n",
       "    </tr>\n",
       "    <tr>\n",
       "      <th>4</th>\n",
       "      <td>47</td>\n",
       "      <td>0</td>\n",
       "    </tr>\n",
       "  </tbody>\n",
       "</table>\n",
       "</div>"
      ],
      "text/plain": [
       "   bin  label\n",
       "0   47      0\n",
       "1  108      0\n",
       "2  105      0\n",
       "3   98      0\n",
       "4   47      0"
      ]
     },
     "execution_count": 1,
     "metadata": {},
     "output_type": "execute_result"
    }
   ],
   "source": [
    "# (1) 데이터로드\n",
    "import pandas as pd\n",
    "import numpy as np\n",
    "\n",
    "import warnings\n",
    "warnings.filterwarnings(action='ignore')\n",
    "\n",
    "# 여러개 쳐도 나오게\n",
    "from IPython.core.interactiveshell import InteractiveShell\n",
    "InteractiveShell.ast_node_interactivity = \"all\"\n",
    "\n",
    "# 파일읽기\n",
    "bin8_1 = pd.read_csv(\"../../바이너리_최종데이터_1004/gcc8/o1/o1_bincore8.csv\", index_col=0)\n",
    "print(bin8_1.shape)\n",
    "\n",
    "# reset_index (hex processing 하면서 값이 빠졌으니까 + n_gram 에서 index를 다루기 때문에)\n",
    "bin8_1.reset_index(inplace=True, drop=True)\n",
    "\n",
    "print('shape -', bin8_1.shape)\n",
    "print('reset_index 완료')\n",
    "print('input data shape')\n",
    "bin8_1.head()"
   ]
  },
  {
   "cell_type": "code",
   "execution_count": 2,
   "metadata": {},
   "outputs": [
    {
     "name": "stdout",
     "output_type": "stream",
     "text": [
      "256\n",
      "0    27628838\n",
      "1       38463\n",
      "Name: label, dtype: int64\n"
     ]
    }
   ],
   "source": [
    "# (2-1) 데이터체크 1 - hex(16진수)가 256 label을 가져야 dummies 변환 가능 \n",
    "# 16진수 256개 종류가 있어서 pd.get_dummies 사용 가능.\n",
    "print(len(bin8_1['bin'].unique()))\n",
    "\n",
    "# (2-2) 데이터 체크 2 - 1, 0 비율 ==> 1이 함수의 갯수를 뜻함\n",
    "# 정답 데이터 1, 0 비율 확인  ==> 1이 함수의 갯수를 뜻함\n",
    "print(bin8_1['label'].value_counts())"
   ]
  },
  {
   "cell_type": "markdown",
   "metadata": {},
   "source": [
    "## (3) N Byte씩 자르기"
   ]
  },
  {
   "cell_type": "code",
   "execution_count": 3,
   "metadata": {},
   "outputs": [
    {
     "name": "stdout",
     "output_type": "stream",
     "text": [
      "1230816\n",
      "나머지 0\n",
      "최종 길이 1230816\n",
      "bin8_1 1230816\n"
     ]
    }
   ],
   "source": [
    "idx_bin = bin8_1[bin8_1['label']==1].index  # 407, 474 ...\n",
    "ls_bin = list(idx_bin)\n",
    "\n",
    "# 최종 뽑을 행에 대한 index\n",
    "ls_idx_bin = []\n",
    "\n",
    "# n byte 자르기 방식\n",
    "left_idx, right_idx = 0, 32 # 3개씩\n",
    "\n",
    "# n byte 자르기\n",
    "for k in range(left_idx, right_idx):\n",
    "    ls_idx_bin.extend(list(idx_bin + k)) # index 형이라서 가능\n",
    "\n",
    "#ls_idx = list(set(ls_idx)) \n",
    "ls_idx_bin.sort() # 인덱스 정렬\n",
    "\n",
    "# 1차 index 해당범위 초과한 것들 없애기\n",
    "ls_idx_bin = list(filter(lambda x: x<len(bin8_1), ls_idx_bin))\n",
    "print(len(ls_idx_bin))\n",
    "\n",
    "# 2차 남은 index들 중 right_idx 나눈 나머지 없애기\n",
    "sub_bin = len(ls_idx_bin)%(right_idx)\n",
    "print('나머지', sub_bin)\n",
    "\n",
    "ls_idx_bin = ls_idx_bin[:len(ls_idx_bin)-sub_bin]\n",
    "print('최종 길이', len(ls_idx_bin))\n",
    "\n",
    "print('bin8_1', len(ls_idx_bin))\n",
    "\n",
    "# loc 로 수정필요\n",
    "bin8_1_Ngram = bin8_1.loc[ls_idx_bin,:].copy()"
   ]
  },
  {
   "cell_type": "markdown",
   "metadata": {},
   "source": [
    "## (4) false data 만들기"
   ]
  },
  {
   "cell_type": "code",
   "execution_count": 4,
   "metadata": {},
   "outputs": [
    {
     "name": "stdout",
     "output_type": "stream",
     "text": [
      "38463.0\n",
      "0 150536\n",
      "1000 17310233\n",
      "2000 16164413\n",
      "3000 16751654\n",
      "4000 25986866\n",
      "5000 11544382\n",
      "6000 16837160\n",
      "7000 15851052\n",
      "8000 22500926\n",
      "9000 11656610\n",
      "10000 20648104\n",
      "11000 14896371\n",
      "12000 5220955\n",
      "13000 20380664\n",
      "14000 22734594\n",
      "15000 265437\n",
      "16000 20236924\n",
      "17000 2574092\n",
      "18000 5658087\n",
      "19000 16673995\n",
      "20000 141863\n",
      "21000 24521297\n",
      "22000 10763987\n",
      "23000 15068494\n",
      "24000 21898565\n",
      "25000 15243658\n",
      "26000 1019024\n",
      "27000 24398087\n",
      "28000 14575330\n",
      "29000 1066026\n",
      "30000 5425698\n",
      "31000 345597\n",
      "32000 2552784\n",
      "33000 3016742\n",
      "34000 12508799\n",
      "35000 23789287\n",
      "36000 19771613\n",
      "37000 6232359\n",
      "38000 9376716\n",
      "완료\n",
      "38463\n"
     ]
    }
   ],
   "source": [
    "# false data 만들기 - False 데이터 랜덤 생성\n",
    "\n",
    "# 목표치\n",
    "goal_bin = len(bin8_1_Ngram)/right_idx\n",
    "count_bin = 0\n",
    "\n",
    "print(goal_bin)\n",
    "\n",
    "# 최종 데이터 Frame\n",
    "d_bin = pd.DataFrame(columns = bin8_1.columns)\n",
    "\n",
    "binutils_df = []\n",
    "# goal 에 도달할 때까지\n",
    "while True:\n",
    "    if (count_bin == goal_bin):\n",
    "            break\n",
    "    # 진행상황 살펴보기 위함\n",
    "            \n",
    "    # 랜덤 N 바이트씩 뽑음\n",
    "    # random index\n",
    "    random_idx_bin = np.random.randint(len(bin8_1)-right_idx)\n",
    "\n",
    "    if count_bin % 1000==0:\n",
    "        print(count_bin, end=' ')\n",
    "        print(random_idx_bin)\n",
    "\n",
    "    df_bin = bin8_1[random_idx_bin : random_idx_bin + right_idx]\n",
    "    \n",
    "    # 뽑은 index의 N 바이트 중에 1이 없는 경우만\n",
    "    if 1 not in df_bin['label'] and count_bin < goal_bin:\n",
    "        binutils_df.append(df_bin)\n",
    "        count_bin+=1\n",
    "\n",
    "print('완료')\n",
    "print(len(binutils_df))"
   ]
  },
  {
   "cell_type": "code",
   "execution_count": 5,
   "metadata": {},
   "outputs": [
    {
     "name": "stdout",
     "output_type": "stream",
     "text": [
      "38463\n",
      "38463\n"
     ]
    }
   ],
   "source": [
    "# True data와 False Data 같은지 체크\n",
    "print(len(binutils_df))\n",
    "print(bin8_1['label'].value_counts()[1])"
   ]
  },
  {
   "cell_type": "markdown",
   "metadata": {},
   "source": [
    "## (5) False Data + True Data 합치기"
   ]
  },
  {
   "cell_type": "code",
   "execution_count": 6,
   "metadata": {},
   "outputs": [
    {
     "data": {
      "text/plain": [
       "(2461632, 2)"
      ]
     },
     "execution_count": 6,
     "metadata": {},
     "output_type": "execute_result"
    }
   ],
   "source": [
    "f_data = pd.concat(binutils_df)\n",
    "final = pd.concat([f_data, bin8_1_Ngram])\n",
    "final.shape"
   ]
  },
  {
   "cell_type": "markdown",
   "metadata": {},
   "source": [
    "## (6) one hot encoding"
   ]
  },
  {
   "cell_type": "code",
   "execution_count": 7,
   "metadata": {},
   "outputs": [
    {
     "name": "stdout",
     "output_type": "stream",
     "text": [
      "원핫인코딩완료\n",
      "(2461632, 257)\n"
     ]
    }
   ],
   "source": [
    "# 훈련데이터 (gcc 최적화버전 0, 1, 2, 3 one hot encoding)\n",
    "bc8_1_onehot_Ngram = pd.get_dummies(final['bin'])\n",
    "bc8_1_onehot_Ngram = pd.concat([final['label'], bc8_1_onehot_Ngram], axis=1)\n",
    "\n",
    "print('원핫인코딩완료')\n",
    "print(bc8_1_onehot_Ngram.shape)"
   ]
  },
  {
   "cell_type": "code",
   "execution_count": 8,
   "metadata": {},
   "outputs": [
    {
     "name": "stdout",
     "output_type": "stream",
     "text": [
      "(2461632, 256) (2461632, 256)\n",
      "(76926, 32, 256) (76926, 32, 1)\n"
     ]
    }
   ],
   "source": [
    "# 훈련 데이터, 훈련 라벨\n",
    "x_bc8_1 = bc8_1_onehot_Ngram.iloc[:,1:].to_numpy()\n",
    "y_bc8_1 = bc8_1_onehot_Ngram['label'].to_numpy()\n",
    "print(x_bc8_1.shape, x_bc8_1.shape)\n",
    "\n",
    "x_bc8_1 = x_bc8_1.reshape(-1, right_idx, x_bc8_1.shape[1])\n",
    "y_bc8_1 = y_bc8_1.reshape(-1, right_idx, 1)\n",
    "\n",
    "print(x_bc8_1.shape, y_bc8_1.shape)"
   ]
  },
  {
   "cell_type": "code",
   "execution_count": 9,
   "metadata": {},
   "outputs": [
    {
     "name": "stdout",
     "output_type": "stream",
     "text": [
      "(76926, 32, 256) (76926, 32, 1)\n"
     ]
    }
   ],
   "source": [
    "# numpy 행, 열 섞기\n",
    "p = np.random.permutation(x_bc8_1.shape[0])\n",
    "\n",
    "x_bc8_1 = x_bc8_1[p]\n",
    "y_bc8_1 = y_bc8_1[p]\n",
    "\n",
    "print(x_bc8_1.shape, y_bc8_1.shape)"
   ]
  },
  {
   "cell_type": "markdown",
   "metadata": {},
   "source": [
    "## (7) 모델"
   ]
  },
  {
   "cell_type": "code",
   "execution_count": 10,
   "metadata": {},
   "outputs": [],
   "source": [
    "# (10) 양방향 LSTM 모델링 작업\n",
    "from tensorflow.keras import layers, models\n",
    "#from tf.keras.models import Model, Sequential\n",
    "#from tf.keras.layers import SimpleRNN, Input, Dense, LSTM\n",
    "#from tf.keras.layers import Bidirectional, TimeDistributed\n",
    "\n",
    "# 학습\n",
    "from tensorflow.keras.callbacks import EarlyStopping\n",
    "early_stopping = EarlyStopping(patience = 3) # 조기종료 콜백함수 정의\n",
    "\n",
    "xInput = layers.Input(batch_shape=(None,right_idx, 256)) \n",
    "xBiLstm = layers.Bidirectional(layers.LSTM(48, return_sequences=True, stateful=False), merge_mode = 'concat')(xInput)\n",
    "xOutput = layers.TimeDistributed(layers.Dense(1, activation ='sigmoid'))(xBiLstm) # 각 스텝에서 cost가 전송되고, 오류가 다음 step으로 전송됨."
   ]
  },
  {
   "cell_type": "markdown",
   "metadata": {},
   "source": [
    "## (8) 학습 - 10 KFold"
   ]
  },
  {
   "cell_type": "code",
   "execution_count": 11,
   "metadata": {
    "scrolled": false
   },
   "outputs": [
    {
     "name": "stdout",
     "output_type": "stream",
     "text": [
      "Model: \"model\"\n",
      "_________________________________________________________________\n",
      "Layer (type)                 Output Shape              Param #   \n",
      "=================================================================\n",
      "input_1 (InputLayer)         [(None, 32, 256)]         0         \n",
      "_________________________________________________________________\n",
      "bidirectional (Bidirectional (None, 32, 96)            117120    \n",
      "_________________________________________________________________\n",
      "time_distributed (TimeDistri (None, 32, 1)             97        \n",
      "=================================================================\n",
      "Total params: 117,217\n",
      "Trainable params: 117,217\n",
      "Non-trainable params: 0\n",
      "_________________________________________________________________\n",
      "======Training stage======\n",
      "Train on 69233 samples\n",
      "Epoch 1/10\n",
      "69120/69233 [============================>.] - ETA: 0s - loss: 0.0158 - accuracy: 0.9957WARNING:tensorflow:Early stopping conditioned on metric `val_loss` which is not available. Available metrics are: loss,accuracy\n",
      "69233/69233 [==============================] - 100s 1ms/sample - loss: 0.0158 - accuracy: 0.9957\n",
      "Epoch 2/10\n",
      "69216/69233 [============================>.] - ETA: 0s - loss: 0.0029 - accuracy: 0.9991WARNING:tensorflow:Early stopping conditioned on metric `val_loss` which is not available. Available metrics are: loss,accuracy\n",
      "69233/69233 [==============================] - 32s 461us/sample - loss: 0.0029 - accuracy: 0.9991\n",
      "Epoch 3/10\n",
      "69152/69233 [============================>.] - ETA: 0s - loss: 0.0018 - accuracy: 0.9994WARNING:tensorflow:Early stopping conditioned on metric `val_loss` which is not available. Available metrics are: loss,accuracy\n",
      "69233/69233 [==============================] - 39s 563us/sample - loss: 0.0018 - accuracy: 0.9994\n",
      "Epoch 4/10\n",
      "69152/69233 [============================>.] - ETA: 0s - loss: 0.0013 - accuracy: 0.9996WARNING:tensorflow:Early stopping conditioned on metric `val_loss` which is not available. Available metrics are: loss,accuracy\n",
      "69233/69233 [==============================] - 46s 671us/sample - loss: 0.0013 - accuracy: 0.9996\n",
      "Epoch 5/10\n",
      "69184/69233 [============================>.] - ETA: 0s - loss: 0.0010 - accuracy: 0.9997WARNING:tensorflow:Early stopping conditioned on metric `val_loss` which is not available. Available metrics are: loss,accuracy\n",
      "69233/69233 [==============================] - 47s 677us/sample - loss: 0.0010 - accuracy: 0.9997\n",
      "Epoch 6/10\n",
      "69216/69233 [============================>.] - ETA: 0s - loss: 8.4700e-04 - accuracy: 0.9997 ETA: 4s - loss: 8 - ETA: 3s - loss: 8.6510e-04 - accuracy: 0.99 - ETA - ETA: 2s - loss: 8.6284eWARNING:tensorflow:Early stopping conditioned on metric `val_loss` which is not available. Available metrics are: loss,accuracy\n",
      "69233/69233 [==============================] - 47s 672us/sample - loss: 8.4680e-04 - accuracy: 0.9997\n",
      "Epoch 7/10\n",
      "69184/69233 [============================>.] - ETA: 0s - loss: 7.1621e-04 - accuracy: 0.9998WARNING:tensorflow:Early stopping conditioned on metric `val_loss` which is not available. Available metrics are: loss,accuracy\n",
      "69233/69233 [==============================] - 47s 673us/sample - loss: 7.1572e-04 - accuracy: 0.9998\n",
      "Epoch 8/10\n",
      "69184/69233 [============================>.] - ETA: 0s - loss: 6.1392e-04 - accuracy: 0.9998 ETA: 1s - loss: 6.0816e-0 - ETA: 0s - loss: 6.1163eWARNING:tensorflow:Early stopping conditioned on metric `val_loss` which is not available. Available metrics are: loss,accuracy\n",
      "69233/69233 [==============================] - 46s 667us/sample - loss: 6.1463e-04 - accuracy: 0.9998\n",
      "Epoch 9/10\n",
      "69216/69233 [============================>.] - ETA: 0s - loss: 5.1939e-04 - accuracy: 0.9999 ETA: 1sWARNING:tensorflow:Early stopping conditioned on metric `val_loss` which is not available. Available metrics are: loss,accuracy\n",
      "69233/69233 [==============================] - 46s 669us/sample - loss: 5.1930e-04 - accuracy: 0.9999\n",
      "Epoch 10/10\n",
      "69152/69233 [============================>.] - ETA: 0s - loss: 4.4399e-04 - accuracy: 0.9999 ETA: 1sWARNING:tensorflow:Early stopping conditioned on metric `val_loss` which is not available. Available metrics are: loss,accuracy\n",
      "69233/69233 [==============================] - 46s 664us/sample - loss: 4.4528e-04 - accuracy: 0.9999\n"
     ]
    },
    {
     "data": {
      "text/plain": [
       "<tensorflow.python.keras.callbacks.History at 0x12c9ce5ae88>"
      ]
     },
     "execution_count": 11,
     "metadata": {},
     "output_type": "execute_result"
    },
    {
     "name": "stdout",
     "output_type": "stream",
     "text": [
      "accuracy_score 0.9997318991290783\n",
      "recall_score 0.9894823674984533\n",
      "precision_score 0.9968834406814876\n",
      "f1_score 0.9931691161250259\n",
      "Model: \"model_1\"\n",
      "_________________________________________________________________\n",
      "Layer (type)                 Output Shape              Param #   \n",
      "=================================================================\n",
      "input_1 (InputLayer)         [(None, 32, 256)]         0         \n",
      "_________________________________________________________________\n",
      "bidirectional (Bidirectional (None, 32, 96)            117120    \n",
      "_________________________________________________________________\n",
      "time_distributed (TimeDistri (None, 32, 1)             97        \n",
      "=================================================================\n",
      "Total params: 117,217\n",
      "Trainable params: 117,217\n",
      "Non-trainable params: 0\n",
      "_________________________________________________________________\n",
      "======Training stage======\n",
      "Train on 69233 samples\n",
      "Epoch 1/10\n",
      "69184/69233 [============================>.] - ETA: 0s - loss: 4.6518e-04 - accuracy: 0.9999WARNING:tensorflow:Early stopping conditioned on metric `val_loss` which is not available. Available metrics are: loss,accuracy\n",
      "69233/69233 [==============================] - 85s 1ms/sample - loss: 4.6489e-04 - accuracy: 0.9999\n",
      "Epoch 2/10\n",
      "69184/69233 [============================>.] - ETA: 0s - loss: 4.0231e-04 - accuracy: 0.9999WARNING:tensorflow:Early stopping conditioned on metric `val_loss` which is not available. Available metrics are: loss,accuracy\n",
      "69233/69233 [==============================] - 46s 669us/sample - loss: 4.0208e-04 - accuracy: 0.9999\n",
      "Epoch 3/10\n",
      "69216/69233 [============================>.] - ETA: 0s - loss: 3.6574e-04 - accuracy: 0.9999WARNING:tensorflow:Early stopping conditioned on metric `val_loss` which is not available. Available metrics are: loss,accuracy\n",
      "69233/69233 [==============================] - 46s 664us/sample - loss: 3.6565e-04 - accuracy: 0.9999\n",
      "Epoch 4/10\n",
      "69216/69233 [============================>.] - ETA: 0s - loss: 3.0657e-04 - accuracy: 0.9999 ETA: 0s - loss: 3.0622e-04 - accuracy: 0.99 - ETA: 0s - loss: 3.0581e-04 - accuracy: 0.99WARNING:tensorflow:Early stopping conditioned on metric `val_loss` which is not available. Available metrics are: loss,accuracy\n",
      "69233/69233 [==============================] - 46s 664us/sample - loss: 3.0661e-04 - accuracy: 0.9999\n",
      "Epoch 5/10\n",
      "69216/69233 [============================>.] - ETA: 0s - loss: 2.8287e-04 - accuracy: 0.9999WARNING:tensorflow:Early stopping conditioned on metric `val_loss` which is not available. Available metrics are: loss,accuracy\n",
      "69233/69233 [==============================] - 46s 661us/sample - loss: 2.8281e-04 - accuracy: 0.9999\n",
      "Epoch 6/10\n",
      "69216/69233 [============================>.] - ETA: 0s - loss: 2.5336e-04 - accuracy: 0.9999WARNING:tensorflow:Early stopping conditioned on metric `val_loss` which is not available. Available metrics are: loss,accuracy\n",
      "69233/69233 [==============================] - 45s 655us/sample - loss: 2.5330e-04 - accuracy: 0.9999\n",
      "Epoch 7/10\n",
      "69216/69233 [============================>.] - ETA: 0s - loss: 2.2879e-04 - accuracy: 0.9999 ETA: 2s - loss: 2.3 - ETA: 2s - loss: 2.3359eWARNING:tensorflow:Early stopping conditioned on metric `val_loss` which is not available. Available metrics are: loss,accuracy\n",
      "69233/69233 [==============================] - 45s 657us/sample - loss: 2.2873e-04 - accuracy: 0.9999\n",
      "Epoch 8/10\n",
      "69216/69233 [============================>.] - ETA: 0s - loss: 2.1182e-04 - accuracy: 1.0000 - ETA:WARNING:tensorflow:Early stopping conditioned on metric `val_loss` which is not available. Available metrics are: loss,accuracy\n",
      "69233/69233 [==============================] - 45s 655us/sample - loss: 2.1177e-04 - accuracy: 1.0000\n",
      "Epoch 9/10\n",
      "69152/69233 [============================>.] - ETA: 0s - loss: 1.7838e-04 - accuracy: 1.0000WARNING:tensorflow:Early stopping conditioned on metric `val_loss` which is not available. Available metrics are: loss,accuracy\n",
      "69233/69233 [==============================] - 45s 656us/sample - loss: 1.7817e-04 - accuracy: 1.0000\n",
      "Epoch 10/10\n",
      "69216/69233 [============================>.] - ETA: 0s - loss: 1.7556e-04 - accuracy: 1.0000WARNING:tensorflow:Early stopping conditioned on metric `val_loss` which is not available. Available metrics are: loss,accuracy\n",
      "69233/69233 [==============================] - 46s 658us/sample - loss: 1.7574e-04 - accuracy: 1.0000\n"
     ]
    },
    {
     "data": {
      "text/plain": [
       "<tensorflow.python.keras.callbacks.History at 0x12c7a04de08>"
      ]
     },
     "execution_count": 11,
     "metadata": {},
     "output_type": "execute_result"
    },
    {
     "name": "stdout",
     "output_type": "stream",
     "text": [
      "accuracy_score 0.9998618874301313\n",
      "recall_score 0.9957627118644068\n",
      "precision_score 0.9970301230377598\n",
      "f1_score 0.9963960144159424\n",
      "Model: \"model_2\"\n",
      "_________________________________________________________________\n",
      "Layer (type)                 Output Shape              Param #   \n",
      "=================================================================\n",
      "input_1 (InputLayer)         [(None, 32, 256)]         0         \n",
      "_________________________________________________________________\n",
      "bidirectional (Bidirectional (None, 32, 96)            117120    \n",
      "_________________________________________________________________\n",
      "time_distributed (TimeDistri (None, 32, 1)             97        \n",
      "=================================================================\n",
      "Total params: 117,217\n",
      "Trainable params: 117,217\n",
      "Non-trainable params: 0\n",
      "_________________________________________________________________\n",
      "======Training stage======\n",
      "Train on 69233 samples\n",
      "Epoch 1/10\n",
      "69184/69233 [============================>.] - ETA: 0s - loss: 2.2372e-04 - accuracy: 0.9999 ETA: 0s - loss: 2.2423e-04 - accuracy: 0.WARNING:tensorflow:Early stopping conditioned on metric `val_loss` which is not available. Available metrics are: loss,accuracy\n",
      "69233/69233 [==============================] - 79s 1ms/sample - loss: 2.2357e-04 - accuracy: 0.9999\n",
      "Epoch 2/10\n",
      "69152/69233 [============================>.] - ETA: 0s - loss: 1.5758e-04 - accuracy: 1.0000WARNING:tensorflow:Early stopping conditioned on metric `val_loss` which is not available. Available metrics are: loss,accuracy\n",
      "69233/69233 [==============================] - 45s 652us/sample - loss: 1.5740e-04 - accuracy: 1.0000\n",
      "Epoch 3/10\n",
      "69184/69233 [============================>.] - ETA: 0s - loss: 1.6656e-04 - accuracy: 1.0000WARNING:tensorflow:Early stopping conditioned on metric `val_loss` which is not available. Available metrics are: loss,accuracy\n",
      "69233/69233 [==============================] - 45s 646us/sample - loss: 1.6645e-04 - accuracy: 1.0000\n",
      "Epoch 4/10\n",
      "69216/69233 [============================>.] - ETA: 0s - loss: 1.2613e-04 - accuracy: 1.0000WARNING:tensorflow:Early stopping conditioned on metric `val_loss` which is not available. Available metrics are: loss,accuracy\n",
      "69233/69233 [==============================] - 45s 655us/sample - loss: 1.2610e-04 - accuracy: 1.0000\n",
      "Epoch 5/10\n",
      "69184/69233 [============================>.] - ETA: 0s - loss: 1.1412e-04 - accuracy: 1.0000WARNING:tensorflow:Early stopping conditioned on metric `val_loss` which is not available. Available metrics are: loss,accuracy\n",
      "69233/69233 [==============================] - 44s 633us/sample - loss: 1.1404e-04 - accuracy: 1.0000\n",
      "Epoch 6/10\n",
      "69152/69233 [============================>.] - ETA: 0s - loss: 1.0080e-04 - accuracy: 1.0000WARNING:tensorflow:Early stopping conditioned on metric `val_loss` which is not available. Available metrics are: loss,accuracy\n",
      "69233/69233 [==============================] - 33s 475us/sample - loss: 1.0068e-04 - accuracy: 1.0000\n",
      "Epoch 7/10\n",
      "69184/69233 [============================>.] - ETA: 0s - loss: 1.0581e-04 - accuracy: 1.0000WARNING:tensorflow:Early stopping conditioned on metric `val_loss` which is not available. Available metrics are: loss,accuracy\n",
      "69233/69233 [==============================] - 47s 672us/sample - loss: 1.0574e-04 - accuracy: 1.0000\n",
      "Epoch 8/10\n",
      "69216/69233 [============================>.] - ETA: 0s - loss: 8.4014e-05 - accuracy: 1.0000WARNING:tensorflow:Early stopping conditioned on metric `val_loss` which is not available. Available metrics are: loss,accuracy\n",
      "69233/69233 [==============================] - 46s 671us/sample - loss: 8.3994e-05 - accuracy: 1.0000\n",
      "Epoch 9/10\n",
      "69152/69233 [============================>.] - ETA: 0s - loss: 9.3437e-05 - accuracy: 1.0000WARNING:tensorflow:Early stopping conditioned on metric `val_loss` which is not available. Available metrics are: loss,accuracy\n",
      "69233/69233 [==============================] - 47s 676us/sample - loss: 9.3328e-05 - accuracy: 1.0000\n",
      "Epoch 10/10\n",
      "69184/69233 [============================>.] - ETA: 0s - loss: 7.1649e-05 - accuracy: 1.0000 ETA: 1s - losWARNING:tensorflow:Early stopping conditioned on metric `val_loss` which is not available. Available metrics are: loss,accuracy\n",
      "69233/69233 [==============================] - 47s 672us/sample - loss: 7.1599e-05 - accuracy: 1.0000\n"
     ]
    },
    {
     "data": {
      "text/plain": [
       "<tensorflow.python.keras.callbacks.History at 0x12c7a20bb88>"
      ]
     },
     "execution_count": 11,
     "metadata": {},
     "output_type": "execute_result"
    },
    {
     "name": "stdout",
     "output_type": "stream",
     "text": [
      "accuracy_score 0.999914695177434\n",
      "recall_score 0.9987824675324676\n",
      "precision_score 0.9969617176422929\n",
      "f1_score 0.9978712620375063\n",
      "Model: \"model_3\"\n",
      "_________________________________________________________________\n",
      "Layer (type)                 Output Shape              Param #   \n",
      "=================================================================\n",
      "input_1 (InputLayer)         [(None, 32, 256)]         0         \n",
      "_________________________________________________________________\n",
      "bidirectional (Bidirectional (None, 32, 96)            117120    \n",
      "_________________________________________________________________\n",
      "time_distributed (TimeDistri (None, 32, 1)             97        \n",
      "=================================================================\n",
      "Total params: 117,217\n",
      "Trainable params: 117,217\n",
      "Non-trainable params: 0\n",
      "_________________________________________________________________\n",
      "======Training stage======\n",
      "Train on 69233 samples\n",
      "Epoch 1/10\n",
      "69152/69233 [============================>.] - ETA: 0s - loss: 1.0383e-04 - accuracy: 1.0000   ETA: 1:10 - loss: 8.9968e-05 WARNING:tensorflow:Early stopping conditioned on metric `val_loss` which is not available. Available metrics are: loss,accuracy\n",
      "69233/69233 [==============================] - 91s 1ms/sample - loss: 1.0371e-04 - accuracy: 1.0000\n",
      "Epoch 2/10\n",
      "69152/69233 [============================>.] - ETA: 0s - loss: 7.5307e-05 - accuracy: 1.0000WARNING:tensorflow:Early stopping conditioned on metric `val_loss` which is not available. Available metrics are: loss,accuracy\n",
      "69233/69233 [==============================] - 47s 679us/sample - loss: 7.5222e-05 - accuracy: 1.0000\n",
      "Epoch 3/10\n",
      "69216/69233 [============================>.] - ETA: 0s - loss: 8.6877e-05 - accuracy: 1.0000 ETA: 0s - loss: 8.7117e-05 - accuracy: 1.WARNING:tensorflow:Early stopping conditioned on metric `val_loss` which is not available. Available metrics are: loss,accuracy\n",
      "69233/69233 [==============================] - 46s 670us/sample - loss: 8.6856e-05 - accuracy: 1.0000\n",
      "Epoch 4/10\n",
      "69184/69233 [============================>.] - ETA: 0s - loss: 5.4564e-05 - accuracy: 1.0000WARNING:tensorflow:Early stopping conditioned on metric `val_loss` which is not available. Available metrics are: loss,accuracy\n",
      "69233/69233 [==============================] - 43s 624us/sample - loss: 5.4525e-05 - accuracy: 1.0000\n",
      "Epoch 5/10\n",
      "69184/69233 [============================>.] - ETA: 0s - loss: 5.5663e-05 - accuracy: 1.0000 ETAWARNING:tensorflow:Early stopping conditioned on metric `val_loss` which is not available. Available metrics are: loss,accuracy\n",
      "69233/69233 [==============================] - 45s 644us/sample - loss: 5.5648e-05 - accuracy: 1.0000\n",
      "Epoch 6/10\n",
      "69184/69233 [============================>.] - ETA: 0s - loss: 5.6627e-05 - accuracy: 1.0000WARNING:tensorflow:Early stopping conditioned on metric `val_loss` which is not available. Available metrics are: loss,accuracy\n",
      "69233/69233 [==============================] - 43s 622us/sample - loss: 5.6587e-05 - accuracy: 1.0000\n",
      "Epoch 7/10\n",
      "69184/69233 [============================>.] - ETA: 0s - loss: 3.9249e-05 - accuracy: 1.0000WARNING:tensorflow:Early stopping conditioned on metric `val_loss` which is not available. Available metrics are: loss,accuracy\n",
      "69233/69233 [==============================] - 45s 646us/sample - loss: 3.9222e-05 - accuracy: 1.0000\n",
      "Epoch 8/10\n",
      "69184/69233 [============================>.] - ETA: 0s - loss: 4.0317e-05 - accuracy: 1.0000 ETA: 0s - loss: 4.040WARNING:tensorflow:Early stopping conditioned on metric `val_loss` which is not available. Available metrics are: loss,accuracy\n",
      "69233/69233 [==============================] - 46s 665us/sample - loss: 4.0289e-05 - accuracy: 1.0000\n",
      "Epoch 9/10\n",
      "69184/69233 [============================>.] - ETA: 0s - loss: 3.4495e-05 - accuracy: 1.0000WARNING:tensorflow:Early stopping conditioned on metric `val_loss` which is not available. Available metrics are: loss,accuracy\n",
      "69233/69233 [==============================] - 44s 638us/sample - loss: 3.4470e-05 - accuracy: 1.0000\n",
      "Epoch 10/10\n",
      "69152/69233 [============================>.] - ETA: 0s - loss: 3.4178e-05 - accuracy: 1.0000 ETA: WARNING:tensorflow:Early stopping conditioned on metric `val_loss` which is not available. Available metrics are: loss,accuracy\n",
      "69233/69233 [==============================] - 45s 654us/sample - loss: 3.4138e-05 - accuracy: 1.0000\n"
     ]
    },
    {
     "data": {
      "text/plain": [
       "<tensorflow.python.keras.callbacks.History at 0x12c8e167388>"
      ]
     },
     "execution_count": 11,
     "metadata": {},
     "output_type": "execute_result"
    },
    {
     "name": "stdout",
     "output_type": "stream",
     "text": [
      "accuracy_score 0.9999796893279604\n",
      "recall_score 0.999580800670719\n",
      "precision_score 0.9993713327745181\n",
      "f1_score 0.9994760557476684\n",
      "Model: \"model_4\"\n",
      "_________________________________________________________________\n",
      "Layer (type)                 Output Shape              Param #   \n",
      "=================================================================\n",
      "input_1 (InputLayer)         [(None, 32, 256)]         0         \n",
      "_________________________________________________________________\n",
      "bidirectional (Bidirectional (None, 32, 96)            117120    \n",
      "_________________________________________________________________\n",
      "time_distributed (TimeDistri (None, 32, 1)             97        \n",
      "=================================================================\n",
      "Total params: 117,217\n",
      "Trainable params: 117,217\n",
      "Non-trainable params: 0\n",
      "_________________________________________________________________\n",
      "======Training stage======\n",
      "Train on 69233 samples\n",
      "Epoch 1/10\n",
      "69216/69233 [============================>.] - ETA: 0s - loss: 4.7831e-05 - accuracy: 1.0000 - ETA:  -WARNING:tensorflow:Early stopping conditioned on metric `val_loss` which is not available. Available metrics are: loss,accuracy\n",
      "69233/69233 [==============================] - 103s 1ms/sample - loss: 4.7820e-05 - accuracy: 1.0000\n",
      "Epoch 2/10\n",
      "69152/69233 [============================>.] - ETA: 0s - loss: 4.1951e-05 - accuracy: 1.0000WARNING:tensorflow:Early stopping conditioned on metric `val_loss` which is not available. Available metrics are: loss,accuracy\n",
      "69233/69233 [==============================] - 45s 656us/sample - loss: 4.1902e-05 - accuracy: 1.0000\n",
      "Epoch 3/10\n",
      "69152/69233 [============================>.] - ETA: 0s - loss: 3.2082e-05 - accuracy: 1.0000WARNING:tensorflow:Early stopping conditioned on metric `val_loss` which is not available. Available metrics are: loss,accuracy\n",
      "69233/69233 [==============================] - 46s 659us/sample - loss: 3.2045e-05 - accuracy: 1.0000\n",
      "Epoch 4/10\n",
      "69216/69233 [============================>.] - ETA: 0s - loss: 2.4617e-05 - accuracy: 1.0000WARNING:tensorflow:Early stopping conditioned on metric `val_loss` which is not available. Available metrics are: loss,accuracy\n",
      "69233/69233 [==============================] - 46s 659us/sample - loss: 2.4611e-05 - accuracy: 1.0000\n",
      "Epoch 5/10\n",
      "69184/69233 [============================>.] - ETA: 0s - loss: 2.0323e-05 - accuracy: 1.0000 ETA: 1s - loss: 2.0566e-05 - accuracy - ETA: 1s - loss: 2.0465e-05 - accuracy: 1. - ETA: WARNING:tensorflow:Early stopping conditioned on metric `val_loss` which is not available. Available metrics are: loss,accuracy\n",
      "69233/69233 [==============================] - 46s 660us/sample - loss: 2.0308e-05 - accuracy: 1.0000\n",
      "Epoch 6/10\n",
      "69152/69233 [============================>.] - ETA: 0s - loss: 1.8510e-05 - accuracy: 1.0000WARNING:tensorflow:Early stopping conditioned on metric `val_loss` which is not available. Available metrics are: loss,accuracy\n",
      "69233/69233 [==============================] - 46s 658us/sample - loss: 1.8488e-05 - accuracy: 1.0000\n",
      "Epoch 7/10\n",
      "69216/69233 [============================>.] - ETA: 0s - loss: 2.7976e-05 - accuracy: 1.0000WARNING:tensorflow:Early stopping conditioned on metric `val_loss` which is not available. Available metrics are: loss,accuracy\n",
      "69233/69233 [==============================] - 37s 541us/sample - loss: 2.7969e-05 - accuracy: 1.0000\n",
      "Epoch 8/10\n",
      "69216/69233 [============================>.] - ETA: 0s - loss: 2.1512e-05 - accuracy: 1.0000 ETAWARNING:tensorflow:Early stopping conditioned on metric `val_loss` which is not available. Available metrics are: loss,accuracy\n",
      "69233/69233 [==============================] - 32s 465us/sample - loss: 2.1507e-05 - accuracy: 1.0000\n",
      "Epoch 9/10\n",
      "69152/69233 [============================>.] - ETA: 0s - loss: 1.7523e-05 - accuracy: 1.0000 ETA: 1s - loss: 1.7780e-05 -  -WARNING:tensorflow:Early stopping conditioned on metric `val_loss` which is not available. Available metrics are: loss,accuracy\n",
      "69233/69233 [==============================] - 40s 574us/sample - loss: 1.7502e-05 - accuracy: 1.0000\n",
      "Epoch 10/10\n",
      "69184/69233 [============================>.] - ETA: 0s - loss: 1.5288e-05 - accuracy: 1.0000WARNING:tensorflow:Early stopping conditioned on metric `val_loss` which is not available. Available metrics are: loss,accuracy\n",
      "69233/69233 [==============================] - 46s 671us/sample - loss: 1.5278e-05 - accuracy: 1.0000\n"
     ]
    },
    {
     "data": {
      "text/plain": [
       "<tensorflow.python.keras.callbacks.History at 0x12c8a6c9388>"
      ]
     },
     "execution_count": 11,
     "metadata": {},
     "output_type": "execute_result"
    },
    {
     "name": "stdout",
     "output_type": "stream",
     "text": [
      "accuracy_score 0.9999756271935526\n",
      "recall_score 0.9993893751272135\n",
      "precision_score 0.9993893751272135\n",
      "f1_score 0.9993893751272135\n",
      "Model: \"model_5\"\n",
      "_________________________________________________________________\n",
      "Layer (type)                 Output Shape              Param #   \n",
      "=================================================================\n",
      "input_1 (InputLayer)         [(None, 32, 256)]         0         \n",
      "_________________________________________________________________\n",
      "bidirectional (Bidirectional (None, 32, 96)            117120    \n",
      "_________________________________________________________________\n",
      "time_distributed (TimeDistri (None, 32, 1)             97        \n",
      "=================================================================\n",
      "Total params: 117,217\n",
      "Trainable params: 117,217\n",
      "Non-trainable params: 0\n",
      "_________________________________________________________________\n",
      "======Training stage======\n",
      "Train on 69233 samples\n",
      "Epoch 1/10\n",
      "69184/69233 [============================>.] - ETA: 0s - loss: 3.5293e-05 - accuracy: 1.0000WARNING:tensorflow:Early stopping conditioned on metric `val_loss` which is not available. Available metrics are: loss,accuracy\n",
      "69233/69233 [==============================] - 115s 2ms/sample - loss: 3.5268e-05 - accuracy: 1.0000\n",
      "Epoch 2/10\n",
      "69152/69233 [============================>.] - ETA: 0s - loss: 2.8094e-05 - accuracy: 1.0000 ETA: 0s - loss: 2.8279e-05 - accuWARNING:tensorflow:Early stopping conditioned on metric `val_loss` which is not available. Available metrics are: loss,accuracy\n",
      "69233/69233 [==============================] - 47s 677us/sample - loss: 2.8074e-05 - accuracy: 1.0000\n",
      "Epoch 3/10\n",
      "69216/69233 [============================>.] - ETA: 0s - loss: 2.3704e-05 - accuracy: 1.0000WARNING:tensorflow:Early stopping conditioned on metric `val_loss` which is not available. Available metrics are: loss,accuracy\n",
      "69233/69233 [==============================] - 48s 693us/sample - loss: 2.3698e-05 - accuracy: 1.0000\n",
      "Epoch 4/10\n",
      "69152/69233 [============================>.] - ETA: 0s - loss: 2.0056e-05 - accuracy: 1.0000 ETA: WARNING:tensorflow:Early stopping conditioned on metric `val_loss` which is not available. Available metrics are: loss,accuracy\n",
      "69233/69233 [==============================] - 47s 676us/sample - loss: 2.0033e-05 - accuracy: 1.0000\n",
      "Epoch 5/10\n",
      "69216/69233 [============================>.] - ETA: 0s - loss: 1.9484e-05 - accuracy: 1.0000WARNING:tensorflow:Early stopping conditioned on metric `val_loss` which is not available. Available metrics are: loss,accuracy\n",
      "69233/69233 [==============================] - 47s 674us/sample - loss: 1.9479e-05 - accuracy: 1.0000\n",
      "Epoch 6/10\n",
      "69216/69233 [============================>.] - ETA: 0s - loss: 2.3404e-05 - accuracy: 1.0000 ETA: 0s - loss: 2.375WARNING:tensorflow:Early stopping conditioned on metric `val_loss` which is not available. Available metrics are: loss,accuracy\n",
      "69233/69233 [==============================] - 46s 664us/sample - loss: 2.3398e-05 - accuracy: 1.0000\n",
      "Epoch 7/10\n",
      "69184/69233 [============================>.] - ETA: 0s - loss: 1.7251e-05 - accuracy: 1.0000WARNING:tensorflow:Early stopping conditioned on metric `val_loss` which is not available. Available metrics are: loss,accuracy\n",
      "69233/69233 [==============================] - 46s 668us/sample - loss: 1.7238e-05 - accuracy: 1.0000\n",
      "Epoch 8/10\n",
      "69184/69233 [============================>.] - ETA: 0s - loss: 1.7604e-05 - accuracy: 1.0000WARNING:tensorflow:Early stopping conditioned on metric `val_loss` which is not available. Available metrics are: loss,accuracy\n",
      "69233/69233 [==============================] - 46s 671us/sample - loss: 1.7592e-05 - accuracy: 1.0000\n",
      "Epoch 9/10\n",
      "69152/69233 [============================>.] - ETA: 0s - loss: 2.2065e-05 - accuracy: 1.0000WARNING:tensorflow:Early stopping conditioned on metric `val_loss` which is not available. Available metrics are: loss,accuracy\n",
      "69233/69233 [==============================] - 46s 668us/sample - loss: 2.2041e-05 - accuracy: 1.0000\n",
      "Epoch 10/10\n",
      "69216/69233 [============================>.] - ETA: 0s - loss: 1.6490e-05 - accuracy: 1.0000WARNING:tensorflow:Early stopping conditioned on metric `val_loss` which is not available. Available metrics are: loss,accuracy\n",
      "69233/69233 [==============================] - 47s 673us/sample - loss: 1.6486e-05 - accuracy: 1.0000\n"
     ]
    },
    {
     "data": {
      "text/plain": [
       "<tensorflow.python.keras.callbacks.History at 0x12c9ad41c48>"
      ]
     },
     "execution_count": 11,
     "metadata": {},
     "output_type": "execute_result"
    },
    {
     "name": "stdout",
     "output_type": "stream",
     "text": [
      "accuracy_score 0.999995937865592\n",
      "recall_score 1.0\n",
      "precision_score 0.9997918834547347\n",
      "f1_score 0.9998959308981163\n",
      "Model: \"model_6\"\n",
      "_________________________________________________________________\n",
      "Layer (type)                 Output Shape              Param #   \n",
      "=================================================================\n",
      "input_1 (InputLayer)         [(None, 32, 256)]         0         \n",
      "_________________________________________________________________\n",
      "bidirectional (Bidirectional (None, 32, 96)            117120    \n",
      "_________________________________________________________________\n",
      "time_distributed (TimeDistri (None, 32, 1)             97        \n",
      "=================================================================\n",
      "Total params: 117,217\n",
      "Trainable params: 117,217\n",
      "Non-trainable params: 0\n",
      "_________________________________________________________________\n",
      "======Training stage======\n",
      "Train on 69234 samples\n",
      "Epoch 1/10\n",
      "69184/69234 [============================>.] - ETA: 0s - loss: 1.8205e-05 - accuracy: 1.0000WARNING:tensorflow:Early stopping conditioned on metric `val_loss` which is not available. Available metrics are: loss,accuracy\n",
      "69234/69234 [==============================] - 105s 2ms/sample - loss: 1.8192e-05 - accuracy: 1.0000\n",
      "Epoch 2/10\n",
      "69120/69234 [============================>.] - ETA: 0s - loss: 1.5548e-05 - accuracy: 1.0000WARNING:tensorflow:Early stopping conditioned on metric `val_loss` which is not available. Available metrics are: loss,accuracy\n",
      "69234/69234 [==============================] - 45s 651us/sample - loss: 1.5522e-05 - accuracy: 1.0000\n",
      "Epoch 3/10\n",
      "69184/69234 [============================>.] - ETA: 0s - loss: 1.5371e-05 - accuracy: 1.0000WARNING:tensorflow:Early stopping conditioned on metric `val_loss` which is not available. Available metrics are: loss,accuracy\n",
      "69234/69234 [==============================] - 46s 661us/sample - loss: 1.5360e-05 - accuracy: 1.0000\n",
      "Epoch 4/10\n",
      "69120/69234 [============================>.] - ETA: 0s - loss: 1.5743e-05 - accuracy: 1.0000WARNING:tensorflow:Early stopping conditioned on metric `val_loss` which is not available. Available metrics are: loss,accuracy\n",
      "69234/69234 [==============================] - 46s 659us/sample - loss: 1.5717e-05 - accuracy: 1.0000\n",
      "Epoch 5/10\n",
      "69184/69234 [============================>.] - ETA: 0s - loss: 1.4297e-05 - accuracy: 1.0000 ETA: 0s - loss: 1.4410e-05 - accuWARNING:tensorflow:Early stopping conditioned on metric `val_loss` which is not available. Available metrics are: loss,accuracy\n",
      "69234/69234 [==============================] - 46s 664us/sample - loss: 1.4287e-05 - accuracy: 1.0000\n",
      "Epoch 6/10\n",
      "69184/69234 [============================>.] - ETA: 0s - loss: 1.5055e-05 - accuracy: 1.0000WARNING:tensorflow:Early stopping conditioned on metric `val_loss` which is not available. Available metrics are: loss,accuracy\n",
      "69234/69234 [==============================] - 46s 660us/sample - loss: 1.5044e-05 - accuracy: 1.0000\n",
      "Epoch 7/10\n",
      "69184/69234 [============================>.] - ETA: 0s - loss: 1.4094e-05 - accuracy: 1.0000WARNING:tensorflow:Early stopping conditioned on metric `val_loss` which is not available. Available metrics are: loss,accuracy\n",
      "69234/69234 [==============================] - 46s 670us/sample - loss: 1.4084e-05 - accuracy: 1.0000\n",
      "Epoch 8/10\n",
      "69216/69234 [============================>.] - ETA: 0s - loss: 1.4645e-05 - accuracy: 1.0000WARNING:tensorflow:Early stopping conditioned on metric `val_loss` which is not available. Available metrics are: loss,accuracy\n",
      "69234/69234 [==============================] - 46s 667us/sample - loss: 1.4641e-05 - accuracy: 1.0000\n",
      "Epoch 9/10\n",
      "69152/69234 [============================>.] - ETA: 0s - loss: 1.4196e-05 - accuracy: 1.0000WARNING:tensorflow:Early stopping conditioned on metric `val_loss` which is not available. Available metrics are: loss,accuracy\n",
      "69234/69234 [==============================] - 34s 484us/sample - loss: 1.4179e-05 - accuracy: 1.0000\n",
      "Epoch 10/10\n",
      "69216/69234 [============================>.] - ETA: 0s - loss: 1.4055e-05 - accuracy: 1.0000WARNING:tensorflow:Early stopping conditioned on metric `val_loss` which is not available. Available metrics are: loss,accuracy\n",
      "69234/69234 [==============================] - 45s 656us/sample - loss: 1.4051e-05 - accuracy: 1.0000\n"
     ]
    },
    {
     "data": {
      "text/plain": [
       "<tensorflow.python.keras.callbacks.History at 0x12c7d20f948>"
      ]
     },
     "execution_count": 11,
     "metadata": {},
     "output_type": "execute_result"
    },
    {
     "name": "stdout",
     "output_type": "stream",
     "text": [
      "accuracy_score 1.0\n",
      "recall_score 1.0\n",
      "precision_score 1.0\n",
      "f1_score 1.0\n",
      "Model: \"model_7\"\n",
      "_________________________________________________________________\n",
      "Layer (type)                 Output Shape              Param #   \n",
      "=================================================================\n",
      "input_1 (InputLayer)         [(None, 32, 256)]         0         \n",
      "_________________________________________________________________\n",
      "bidirectional (Bidirectional (None, 32, 96)            117120    \n",
      "_________________________________________________________________\n",
      "time_distributed (TimeDistri (None, 32, 1)             97        \n",
      "=================================================================\n",
      "Total params: 117,217\n",
      "Trainable params: 117,217\n",
      "Non-trainable params: 0\n",
      "_________________________________________________________________\n",
      "======Training stage======\n",
      "Train on 69234 samples\n",
      "Epoch 1/10\n",
      "69184/69234 [============================>.] - ETA: 0s - loss: 1.4491e-05 - accuracy: 1.0000WARNING:tensorflow:Early stopping conditioned on metric `val_loss` which is not available. Available metrics are: loss,accuracy\n",
      "69234/69234 [==============================] - 119s 2ms/sample - loss: 1.4480e-05 - accuracy: 1.0000\n",
      "Epoch 2/10\n",
      "69184/69234 [============================>.] - ETA: 0s - loss: 1.3974e-05 - accuracy: 1.0000 ETA: 2s - l - EWARNING:tensorflow:Early stopping conditioned on metric `val_loss` which is not available. Available metrics are: loss,accuracy\n",
      "69234/69234 [==============================] - 46s 670us/sample - loss: 1.3964e-05 - accuracy: 1.0000\n",
      "Epoch 3/10\n",
      "69216/69234 [============================>.] - ETA: 0s - loss: 1.4112e-05 - accuracy: 1.0000WARNING:tensorflow:Early stopping conditioned on metric `val_loss` which is not available. Available metrics are: loss,accuracy\n",
      "69234/69234 [==============================] - 46s 666us/sample - loss: 1.4109e-05 - accuracy: 1.0000\n",
      "Epoch 4/10\n",
      "69216/69234 [============================>.] - ETA: 0s - loss: 1.5852e-05 - accuracy: 1.0000WARNING:tensorflow:Early stopping conditioned on metric `val_loss` which is not available. Available metrics are: loss,accuracy\n",
      "69234/69234 [==============================] - 47s 672us/sample - loss: 1.5848e-05 - accuracy: 1.0000\n",
      "Epoch 5/10\n",
      "69216/69234 [============================>.] - ETA: 0s - loss: 1.3973e-05 - accuracy: 1.0000 ETA: 1s - loss: - ETA: 0s - loss: 1.4077e-05 - accuWARNING:tensorflow:Early stopping conditioned on metric `val_loss` which is not available. Available metrics are: loss,accuracy\n",
      "69234/69234 [==============================] - 47s 672us/sample - loss: 1.3970e-05 - accuracy: 1.0000\n",
      "Epoch 6/10\n",
      "69184/69234 [============================>.] - ETA: 0s - loss: 1.4043e-05 - accuracy: 1.0000WARNING:tensorflow:Early stopping conditioned on metric `val_loss` which is not available. Available metrics are: loss,accuracy\n",
      "69234/69234 [==============================] - 46s 668us/sample - loss: 1.4033e-05 - accuracy: 1.0000\n",
      "Epoch 7/10\n",
      "69184/69234 [============================>.] - ETA: 0s - loss: 1.3956e-05 - accuracy: 1.0000 ETA: 0s - loss: 1.4034e-05 - accuracyWARNING:tensorflow:Early stopping conditioned on metric `val_loss` which is not available. Available metrics are: loss,accuracy\n",
      "69234/69234 [==============================] - 47s 673us/sample - loss: 1.3946e-05 - accuracy: 1.0000\n",
      "Epoch 8/10\n",
      "69184/69234 [============================>.] - ETA: 0s - loss: 1.4719e-05 - accuracy: 1.0000WARNING:tensorflow:Early stopping conditioned on metric `val_loss` which is not available. Available metrics are: loss,accuracy\n",
      "69234/69234 [==============================] - 46s 668us/sample - loss: 1.4708e-05 - accuracy: 1.0000\n",
      "Epoch 9/10\n",
      "69184/69234 [============================>.] - ETA: 0s - loss: 1.3959e-05 - accuracy: 1.0000 ETA: 0s - loss: 1.3978e-05 - accuracy: 1.00WARNING:tensorflow:Early stopping conditioned on metric `val_loss` which is not available. Available metrics are: loss,accuracy\n",
      "69234/69234 [==============================] - 46s 668us/sample - loss: 1.3949e-05 - accuracy: 1.0000\n",
      "Epoch 10/10\n",
      "69184/69234 [============================>.] - ETA: 0s - loss: 1.4136e-05 - accuracy: 1.0000 ETA: 0s - loss: 1.4295e-05 - WARNING:tensorflow:Early stopping conditioned on metric `val_loss` which is not available. Available metrics are: loss,accuracy\n",
      "69234/69234 [==============================] - 44s 638us/sample - loss: 1.4126e-05 - accuracy: 1.0000\n"
     ]
    },
    {
     "data": {
      "text/plain": [
       "<tensorflow.python.keras.callbacks.History at 0x12c9aa8eec8>"
      ]
     },
     "execution_count": 11,
     "metadata": {},
     "output_type": "execute_result"
    },
    {
     "name": "stdout",
     "output_type": "stream",
     "text": [
      "accuracy_score 1.0\n",
      "recall_score 1.0\n",
      "precision_score 1.0\n",
      "f1_score 1.0\n",
      "Model: \"model_8\"\n",
      "_________________________________________________________________\n",
      "Layer (type)                 Output Shape              Param #   \n",
      "=================================================================\n",
      "input_1 (InputLayer)         [(None, 32, 256)]         0         \n",
      "_________________________________________________________________\n",
      "bidirectional (Bidirectional (None, 32, 96)            117120    \n",
      "_________________________________________________________________\n",
      "time_distributed (TimeDistri (None, 32, 1)             97        \n",
      "=================================================================\n",
      "Total params: 117,217\n",
      "Trainable params: 117,217\n",
      "Non-trainable params: 0\n",
      "_________________________________________________________________\n",
      "======Training stage======\n",
      "Train on 69234 samples\n",
      "Epoch 1/10\n",
      "69216/69234 [============================>.] - ETA: 0s - loss: 1.3949e-05 - accuracy: 1.0000 ETA:  - ETA: 1s - loss: 1.415WARNING:tensorflow:Early stopping conditioned on metric `val_loss` which is not available. Available metrics are: loss,accuracy\n",
      "69234/69234 [==============================] - 106s 2ms/sample - loss: 1.3945e-05 - accuracy: 1.0000\n",
      "Epoch 2/10\n",
      "69216/69234 [============================>.] - ETA: 0s - loss: 1.3957e-05 - accuracy: 1.0000WARNING:tensorflow:Early stopping conditioned on metric `val_loss` which is not available. Available metrics are: loss,accuracy\n",
      "69234/69234 [==============================] - 47s 672us/sample - loss: 1.3954e-05 - accuracy: 1.0000\n",
      "Epoch 3/10\n",
      "69216/69234 [============================>.] - ETA: 0s - loss: 1.4359e-05 - accuracy: 1.0000WARNING:tensorflow:Early stopping conditioned on metric `val_loss` which is not available. Available metrics are: loss,accuracy\n",
      "69234/69234 [==============================] - 46s 671us/sample - loss: 1.4355e-05 - accuracy: 1.0000\n",
      "Epoch 4/10\n",
      "69152/69234 [============================>.] - ETA: 0s - loss: 1.3950e-05 - accuracy: 1.0000WARNING:tensorflow:Early stopping conditioned on metric `val_loss` which is not available. Available metrics are: loss,accuracy\n",
      "69234/69234 [==============================] - 47s 678us/sample - loss: 1.3933e-05 - accuracy: 1.0000\n",
      "Epoch 5/10\n",
      "69216/69234 [============================>.] - ETA: 0s - loss: 1.4183e-05 - accuracy: 1.0000 ETA: 0s - loss: 1WARNING:tensorflow:Early stopping conditioned on metric `val_loss` which is not available. Available metrics are: loss,accuracy\n",
      "69234/69234 [==============================] - 47s 682us/sample - loss: 1.4179e-05 - accuracy: 1.0000\n",
      "Epoch 6/10\n",
      "69184/69234 [============================>.] - ETA: 0s - loss: 1.3953e-05 - accuracy: 1.0000 ETA: 0s - loss: 1.418WARNING:tensorflow:Early stopping conditioned on metric `val_loss` which is not available. Available metrics are: loss,accuracy\n",
      "69234/69234 [==============================] - 46s 665us/sample - loss: 1.3943e-05 - accuracy: 1.0000\n",
      "Epoch 7/10\n",
      "69152/69234 [============================>.] - ETA: 0s - loss: 1.4500e-05 - accuracy: 1.0000WARNING:tensorflow:Early stopping conditioned on metric `val_loss` which is not available. Available metrics are: loss,accuracy\n",
      "69234/69234 [==============================] - 47s 678us/sample - loss: 1.4483e-05 - accuracy: 1.0000\n",
      "Epoch 8/10\n",
      "69216/69234 [============================>.] - ETA: 0s - loss: 1.3936e-05 - accuracy: 1.0000WARNING:tensorflow:Early stopping conditioned on metric `val_loss` which is not available. Available metrics are: loss,accuracy\n",
      "69234/69234 [==============================] - 47s 675us/sample - loss: 1.3932e-05 - accuracy: 1.0000\n",
      "Epoch 9/10\n",
      "69216/69234 [============================>.] - ETA: 0s - loss: 1.4179e-05 - accuracy: 1.0000 EWARNING:tensorflow:Early stopping conditioned on metric `val_loss` which is not available. Available metrics are: loss,accuracy\n",
      "69234/69234 [==============================] - 47s 674us/sample - loss: 1.4176e-05 - accuracy: 1.0000\n",
      "Epoch 10/10\n",
      "69120/69234 [============================>.] - ETA: 0s - loss: 1.3953e-05 - accuracy: 1.0000WARNING:tensorflow:Early stopping conditioned on metric `val_loss` which is not available. Available metrics are: loss,accuracy\n",
      "69234/69234 [==============================] - 32s 468us/sample - loss: 1.3930e-05 - accuracy: 1.0000\n"
     ]
    },
    {
     "data": {
      "text/plain": [
       "<tensorflow.python.keras.callbacks.History at 0x12c87dcfe88>"
      ]
     },
     "execution_count": 11,
     "metadata": {},
     "output_type": "execute_result"
    },
    {
     "name": "stdout",
     "output_type": "stream",
     "text": [
      "accuracy_score 1.0\n",
      "recall_score 1.0\n",
      "precision_score 1.0\n",
      "f1_score 1.0\n",
      "Model: \"model_9\"\n",
      "_________________________________________________________________\n",
      "Layer (type)                 Output Shape              Param #   \n",
      "=================================================================\n",
      "input_1 (InputLayer)         [(None, 32, 256)]         0         \n",
      "_________________________________________________________________\n",
      "bidirectional (Bidirectional (None, 32, 96)            117120    \n",
      "_________________________________________________________________\n",
      "time_distributed (TimeDistri (None, 32, 1)             97        \n",
      "=================================================================\n",
      "Total params: 117,217\n",
      "Trainable params: 117,217\n",
      "Non-trainable params: 0\n",
      "_________________________________________________________________\n",
      "======Training stage======\n",
      "Train on 69234 samples\n",
      "Epoch 1/10\n",
      "69184/69234 [============================>.] - ETA: 0s - loss: 1.4133e-05 - accuracy: 1.0000 - E - ETA: 0s - loss: 1.4298e-05 - accuracy: 1.00 - ETA: 0s - loss: 1.4278e-05 - WARNING:tensorflow:Early stopping conditioned on metric `val_loss` which is not available. Available metrics are: loss,accuracy\n",
      "69234/69234 [==============================] - 62s 899us/sample - loss: 1.4122e-05 - accuracy: 1.0000\n",
      "Epoch 2/10\n",
      "69184/69234 [============================>.] - ETA: 0s - loss: 1.3940e-05 - accuracy: 1.0000WARNING:tensorflow:Early stopping conditioned on metric `val_loss` which is not available. Available metrics are: loss,accuracy\n",
      "69234/69234 [==============================] - 47s 681us/sample - loss: 1.3930e-05 - accuracy: 1.0000\n",
      "Epoch 3/10\n",
      "69216/69234 [============================>.] - ETA: 0s - loss: 1.4330e-05 - accuracy: 1.0000WARNING:tensorflow:Early stopping conditioned on metric `val_loss` which is not available. Available metrics are: loss,accuracy\n",
      "69234/69234 [==============================] - 47s 686us/sample - loss: 1.4326e-05 - accuracy: 1.0000\n",
      "Epoch 4/10\n",
      "69216/69234 [============================>.] - ETA: 0s - loss: 1.3937e-05 - accuracy: 1.0000WARNING:tensorflow:Early stopping conditioned on metric `val_loss` which is not available. Available metrics are: loss,accuracy\n",
      "69234/69234 [==============================] - 47s 679us/sample - loss: 1.3933e-05 - accuracy: 1.0000\n",
      "Epoch 5/10\n",
      "69184/69234 [============================>.] - ETA: 0s - loss: 1.4032e-05 - accuracy: 1.0000WARNING:tensorflow:Early stopping conditioned on metric `val_loss` which is not available. Available metrics are: loss,accuracy\n",
      "69234/69234 [==============================] - 47s 683us/sample - loss: 1.4022e-05 - accuracy: 1.0000\n",
      "Epoch 6/10\n",
      "69184/69234 [============================>.] - ETA: 0s - loss: 1.3939e-05 - accuracy: 1.0000WARNING:tensorflow:Early stopping conditioned on metric `val_loss` which is not available. Available metrics are: loss,accuracy\n",
      "69234/69234 [==============================] - 47s 676us/sample - loss: 1.3929e-05 - accuracy: 1.0000\n",
      "Epoch 7/10\n",
      "69216/69234 [============================>.] - ETA: 0s - loss: 2.2883e-05 - accuracy: 1.0000WARNING:tensorflow:Early stopping conditioned on metric `val_loss` which is not available. Available metrics are: loss,accuracy\n",
      "69234/69234 [==============================] - 47s 672us/sample - loss: 2.2877e-05 - accuracy: 1.0000\n",
      "Epoch 8/10\n",
      "69216/69234 [============================>.] - ETA: 0s - loss: 1.4110e-05 - accuracy: 1.0000WARNING:tensorflow:Early stopping conditioned on metric `val_loss` which is not available. Available metrics are: loss,accuracy\n",
      "69234/69234 [==============================] - 47s 676us/sample - loss: 1.4106e-05 - accuracy: 1.0000\n",
      "Epoch 9/10\n",
      "69216/69234 [============================>.] - ETA: 0s - loss: 1.3932e-05 - accuracy: 1.0000WARNING:tensorflow:Early stopping conditioned on metric `val_loss` which is not available. Available metrics are: loss,accuracy\n",
      "69234/69234 [==============================] - 46s 661us/sample - loss: 1.3929e-05 - accuracy: 1.0000\n",
      "Epoch 10/10\n",
      "69184/69234 [============================>.] - ETA: 0s - loss: 1.3997e-05 - accuracy: 1.0000WARNING:tensorflow:Early stopping conditioned on metric `val_loss` which is not available. Available metrics are: loss,accuracy\n",
      "69234/69234 [==============================] - 45s 651us/sample - loss: 1.3987e-05 - accuracy: 1.0000\n"
     ]
    },
    {
     "data": {
      "text/plain": [
       "<tensorflow.python.keras.callbacks.History at 0x12c831c6508>"
      ]
     },
     "execution_count": 11,
     "metadata": {},
     "output_type": "execute_result"
    },
    {
     "name": "stdout",
     "output_type": "stream",
     "text": [
      "accuracy_score 1.0\n",
      "recall_score 1.0\n",
      "precision_score 1.0\n",
      "f1_score 1.0\n",
      "\n",
      "K-fold cross validation Accuracy: [0.9997318991290783, 0.9998618874301313, 0.999914695177434, 0.9999796893279604, 0.9999756271935526, 0.999995937865592, 1.0, 1.0, 1.0, 1.0]\n",
      "\n",
      "K-fold cross validation Recall: [0.9894823674984533, 0.9957627118644068, 0.9987824675324676, 0.999580800670719, 0.9993893751272135, 1.0, 1.0, 1.0, 1.0, 1.0]\n",
      "\n",
      "K-fold cross validation Precision: [0.9968834406814876, 0.9970301230377598, 0.9969617176422929, 0.9993713327745181, 0.9993893751272135, 0.9997918834547347, 1.0, 1.0, 1.0, 1.0]\n",
      "\n",
      "K-fold cross validation F1-Score: [0.9931691161250259, 0.9963960144159424, 0.9978712620375063, 0.9994760557476684, 0.9993893751272135, 0.9998959308981163, 1.0, 1.0, 1.0, 1.0]\n"
     ]
    }
   ],
   "source": [
    "# 교차검증 kfold\n",
    "from sklearn.model_selection import KFold\n",
    "\n",
    "# Accuracy, Precision, Recall, F1-Score\n",
    "from sklearn.metrics import accuracy_score, recall_score, precision_score, f1_score\n",
    "\n",
    "# Confusion Matrix, ROC Curve\n",
    "from sklearn.metrics import confusion_matrix, roc_auc_score\n",
    "\n",
    "# 최종 평가지표들 평균용\n",
    "accuracy, recall, precision, f1score, cm = [], [], [], [], []\n",
    "\n",
    "# 11. 교차검증 kfold - k.split - 10회 / K-Fold 객체 생성\n",
    "# kf = KFold(n_splits=10, shuffle=False, random_state=None) # KFold non shuffle 버전\n",
    "kf = KFold(n_splits=10, shuffle=True, random_state=None) # KFold non shuffle 버전\n",
    "\n",
    "for train, validation in kf.split(x_bc8_1, y_bc8_1):\n",
    "    model1 = models.Model(xInput, xOutput)\n",
    "    model1.compile(loss='binary_crossentropy', optimizer='rmsprop', metrics=['accuracy'])\n",
    "    model1.summary()\n",
    "    print('======Training stage======')\n",
    "    model1.fit(x_bc8_1[train],\n",
    "               y_bc8_1[train],\n",
    "               epochs = 10,\n",
    "               batch_size = 32,\n",
    "               callbacks=[early_stopping])\n",
    "    #k_accuracy = '%.4f' %(model1.evaluate(data_10000x[validation], data_10000y[validation])[1])\n",
    "\n",
    "# 12. 교차검증결과 predict - 검증셋들\n",
    "    # predict 값\n",
    "    k_pr = model1.predict(x_bc8_1[validation])\n",
    "    \n",
    "    # 테스트 predict 결과들 비교 (평가지표 보기위함)\n",
    "    pred = np.round(np.array(k_pr).flatten().tolist())\n",
    "    y_test = np.array(y_bc8_1[validation]).flatten().tolist()\n",
    "    \n",
    "# 13. 평가지표들 출력\n",
    "    ## 평가지표들\n",
    "    k_accuracy = float(accuracy_score(y_test, pred))\n",
    "    k_recall =  float(recall_score(y_test, pred))\n",
    "    k_precision = float(precision_score(y_test, pred))\n",
    "    k_f1_score = float(f1_score(y_test, pred))\n",
    "    #k_cm = float(confusion_matrix(y_test, pred))\n",
    "    \n",
    "    print('accuracy_score', k_accuracy)\n",
    "    print('recall_score', k_recall)\n",
    "    print('precision_score', k_precision)\n",
    "    print('f1_score', k_f1_score)\n",
    "    #print('\\nconfusion_matrix\\n', k_cm)\n",
    "\n",
    "    accuracy.append(k_accuracy)\n",
    "    recall.append(k_recall)\n",
    "    precision.append(k_precision)\n",
    "    f1score.append(k_f1_score)\n",
    "    #cm.append(k_cm)\n",
    "#    print('roc_curve 면적', roc_auc_score(y_test, pred))\n",
    "\n",
    "# 최종 결과지표\n",
    "print('\\nK-fold cross validation Accuracy: {}'.format(accuracy))\n",
    "print('\\nK-fold cross validation Recall: {}'.format(recall))\n",
    "print('\\nK-fold cross validation Precision: {}'.format(precision))\n",
    "print('\\nK-fold cross validation F1-Score: {}'.format(f1score))\n",
    "#print('\\nK-fold cross validation ConfusionMatrix: {}'.format(cm))"
   ]
  },
  {
   "cell_type": "markdown",
   "metadata": {},
   "source": [
    "## (9) 평가지표"
   ]
  },
  {
   "cell_type": "code",
   "execution_count": 12,
   "metadata": {},
   "outputs": [
    {
     "name": "stdout",
     "output_type": "stream",
     "text": [
      "10-Fold Cross_validation. Accuracy : 0.9999459736123748\n",
      "10-Fold Cross_validation. Recall : 0.9982997722693261\n",
      "10-Fold Cross_validation. Precision : 0.9989427872718007\n",
      "10-Fold Cross_validation. F1-Score : 0.9986197754351472\n"
     ]
    }
   ],
   "source": [
    "print('10-Fold Cross_validation. Accuracy :', np.mean(accuracy))\n",
    "print('10-Fold Cross_validation. Recall :', np.mean(recall))\n",
    "print('10-Fold Cross_validation. Precision :', np.mean(precision))\n",
    "print('10-Fold Cross_validation. F1-Score :', np.mean(f1score))"
   ]
  },
  {
   "cell_type": "code",
   "execution_count": 13,
   "metadata": {},
   "outputs": [
    {
     "name": "stdout",
     "output_type": "stream",
     "text": [
      "save 완료\n"
     ]
    }
   ],
   "source": [
    "model1.save('gcc8_bin_core_s32_h48_o1.h5')\n",
    "print('save 완료')"
   ]
  }
 ],
 "metadata": {
  "kernelspec": {
   "display_name": "Python 3",
   "language": "python",
   "name": "python3"
  },
  "language_info": {
   "codemirror_mode": {
    "name": "ipython",
    "version": 3
   },
   "file_extension": ".py",
   "mimetype": "text/x-python",
   "name": "python",
   "nbconvert_exporter": "python",
   "pygments_lexer": "ipython3",
   "version": "3.7.7"
  }
 },
 "nbformat": 4,
 "nbformat_minor": 4
}
