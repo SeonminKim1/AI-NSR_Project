{
 "cells": [
  {
   "cell_type": "markdown",
   "metadata": {},
   "source": [
    "## RNN 모델 N-Byte 방식 (함수정보 포함 vs 미포함 => 1:1 비율)\n",
    "\n",
    "## (1) 데이터로드"
   ]
  },
  {
   "cell_type": "code",
   "execution_count": 1,
   "metadata": {},
   "outputs": [
    {
     "name": "stdout",
     "output_type": "stream",
     "text": [
      "(28456104, 2)\n",
      "reset_index 완료\n",
      "input data shape\n"
     ]
    },
    {
     "data": {
      "text/html": [
       "<div>\n",
       "<style scoped>\n",
       "    .dataframe tbody tr th:only-of-type {\n",
       "        vertical-align: middle;\n",
       "    }\n",
       "\n",
       "    .dataframe tbody tr th {\n",
       "        vertical-align: top;\n",
       "    }\n",
       "\n",
       "    .dataframe thead th {\n",
       "        text-align: right;\n",
       "    }\n",
       "</style>\n",
       "<table border=\"1\" class=\"dataframe\">\n",
       "  <thead>\n",
       "    <tr style=\"text-align: right;\">\n",
       "      <th></th>\n",
       "      <th>bin</th>\n",
       "      <th>label</th>\n",
       "    </tr>\n",
       "  </thead>\n",
       "  <tbody>\n",
       "    <tr>\n",
       "      <th>0</th>\n",
       "      <td>47</td>\n",
       "      <td>0</td>\n",
       "    </tr>\n",
       "    <tr>\n",
       "      <th>1</th>\n",
       "      <td>108</td>\n",
       "      <td>0</td>\n",
       "    </tr>\n",
       "    <tr>\n",
       "      <th>2</th>\n",
       "      <td>105</td>\n",
       "      <td>0</td>\n",
       "    </tr>\n",
       "    <tr>\n",
       "      <th>3</th>\n",
       "      <td>98</td>\n",
       "      <td>0</td>\n",
       "    </tr>\n",
       "    <tr>\n",
       "      <th>4</th>\n",
       "      <td>47</td>\n",
       "      <td>0</td>\n",
       "    </tr>\n",
       "  </tbody>\n",
       "</table>\n",
       "</div>"
      ],
      "text/plain": [
       "   bin  label\n",
       "0   47      0\n",
       "1  108      0\n",
       "2  105      0\n",
       "3   98      0\n",
       "4   47      0"
      ]
     },
     "execution_count": 1,
     "metadata": {},
     "output_type": "execute_result"
    }
   ],
   "source": [
    "# (1) 데이터로드\n",
    "import pandas as pd\n",
    "import numpy as np\n",
    "\n",
    "import warnings\n",
    "warnings.filterwarnings(action='ignore')\n",
    "\n",
    "# 여러개 쳐도 나오게\n",
    "from IPython.core.interactiveshell import InteractiveShell\n",
    "InteractiveShell.ast_node_interactivity = \"all\"\n",
    "\n",
    "# 파일읽기\n",
    "bin6_2 = pd.read_csv(\"data/bin+core_answer/\"+'bin+core_answer_2.csv', index_col=0)\n",
    "print(bin6_2.shape)\n",
    "\n",
    "# reset_index (hex processing 하면서 값이 빠졌으니까 + n_gram 에서 index를 다루기 때문에)\n",
    "bin6_2.reset_index(inplace=True, drop=True)\n",
    "\n",
    "print('reset_index 완료')\n",
    "print('input data shape')\n",
    "bin6_2.head()"
   ]
  },
  {
   "cell_type": "code",
   "execution_count": 2,
   "metadata": {},
   "outputs": [
    {
     "name": "stdout",
     "output_type": "stream",
     "text": [
      "256\n",
      "0    28418383\n",
      "1       37721\n",
      "Name: label, dtype: int64\n"
     ]
    }
   ],
   "source": [
    "# (2-1) 데이터체크 1 - hex(16진수)가 256 label을 가져야 dummies 변환 가능 \n",
    "# 16진수 256개 종류가 있어서 pd.get_dummies 사용 가능.\n",
    "print(len(bin6_2['bin'].unique()))\n",
    "\n",
    "# (2-2) 데이터 체크 2 - 1, 0 비율 ==> 1이 함수의 갯수를 뜻함\n",
    "# 정답 데이터 1, 0 비율 확인  ==> 1이 함수의 갯수를 뜻함\n",
    "print(bin6_2['label'].value_counts())"
   ]
  },
  {
   "cell_type": "markdown",
   "metadata": {},
   "source": [
    "## (3) N Byte씩 자르기"
   ]
  },
  {
   "cell_type": "code",
   "execution_count": 3,
   "metadata": {},
   "outputs": [
    {
     "name": "stdout",
     "output_type": "stream",
     "text": [
      "1207072\n",
      "나머지 0\n",
      "최종 길이 1207072\n",
      "bin6_2 1207072\n"
     ]
    }
   ],
   "source": [
    "idx_bin = bin6_2[bin6_2['label']==1].index  # 407, 474 ...\n",
    "ls_bin = list(idx_bin)\n",
    "\n",
    "# 최종 뽑을 행에 대한 index\n",
    "ls_idx_bin = []\n",
    "\n",
    "# n byte 자르기 방식\n",
    "left_idx, right_idx = 0, 32 # 3개씩\n",
    "\n",
    "# n byte 자르기\n",
    "for k in range(left_idx, right_idx):\n",
    "    ls_idx_bin.extend(list(idx_bin + k)) # index 형이라서 가능\n",
    "\n",
    "#ls_idx = list(set(ls_idx)) \n",
    "ls_idx_bin.sort() # 인덱스 정렬\n",
    "\n",
    "# 1차 index 해당범위 초과한 것들 없애기\n",
    "ls_idx_bin = list(filter(lambda x: x<len(bin6_2), ls_idx_bin))\n",
    "print(len(ls_idx_bin))\n",
    "\n",
    "# 2차 남은 index들 중 right_idx 나눈 나머지 없애기\n",
    "sub_bin = len(ls_idx_bin)%(right_idx)\n",
    "print('나머지', sub_bin)\n",
    "\n",
    "ls_idx_bin = ls_idx_bin[:len(ls_idx_bin)-sub_bin]\n",
    "print('최종 길이', len(ls_idx_bin))\n",
    "\n",
    "print('bin6_2', len(ls_idx_bin))\n",
    "\n",
    "# loc 로 수정필요\n",
    "bin6_2_Ngram = bin6_2.loc[ls_idx_bin,:].copy()"
   ]
  },
  {
   "cell_type": "markdown",
   "metadata": {},
   "source": [
    "## (4) false data 만들기"
   ]
  },
  {
   "cell_type": "code",
   "execution_count": 4,
   "metadata": {},
   "outputs": [
    {
     "name": "stdout",
     "output_type": "stream",
     "text": [
      "37721.0\n",
      "0 27443753\n",
      "1000 8234983\n",
      "2000 9025216\n",
      "3000 7927542\n",
      "4000 14713188\n",
      "5000 22056097\n",
      "6000 10539384\n",
      "7000 2737143\n",
      "8000 3586896\n",
      "9000 2064289\n",
      "10000 19901120\n",
      "11000 7545708\n",
      "12000 11642014\n",
      "13000 13710185\n",
      "14000 11296052\n",
      "15000 9329436\n",
      "16000 3231858\n",
      "17000 14747966\n",
      "18000 20099700\n",
      "19000 4820255\n",
      "20000 12038066\n",
      "21000 20555462\n",
      "22000 816760\n",
      "23000 24961632\n",
      "24000 8600585\n",
      "25000 25121400\n",
      "26000 23388344\n",
      "27000 9592342\n",
      "28000 27993097\n",
      "29000 6442780\n",
      "30000 26819942\n",
      "31000 15504857\n",
      "32000 11958533\n",
      "33000 17540084\n",
      "34000 19354436\n",
      "35000 7214921\n",
      "36000 16871993\n",
      "37000 19434705\n",
      "완료\n",
      "37721\n"
     ]
    }
   ],
   "source": [
    "# false data 만들기 - False 데이터 랜덤 생성\n",
    "\n",
    "# 목표치\n",
    "goal_bin = len(bin6_2_Ngram)/right_idx\n",
    "count_bin = 0\n",
    "\n",
    "print(goal_bin)\n",
    "\n",
    "# 최종 데이터 Frame\n",
    "d_bin = pd.DataFrame(columns = bin6_2.columns)\n",
    "\n",
    "binutils_df = []\n",
    "# goal 에 도달할 때까지\n",
    "while True:\n",
    "    if (count_bin == goal_bin):\n",
    "            break\n",
    "    # 진행상황 살펴보기 위함\n",
    "            \n",
    "    # 랜덤 N 바이트씩 뽑음\n",
    "    # random index\n",
    "    random_idx_bin = np.random.randint(len(bin6_2)-right_idx)\n",
    "\n",
    "    if count_bin % 1000==0:\n",
    "        print(count_bin, end=' ')\n",
    "        print(random_idx_bin)\n",
    "\n",
    "    df_bin = bin6_2[random_idx_bin : random_idx_bin + right_idx]\n",
    "    \n",
    "    # 뽑은 index의 N 바이트 중에 1이 없는 경우만\n",
    "    if 1 not in df_bin['label'] and count_bin < goal_bin:\n",
    "        binutils_df.append(df_bin)\n",
    "        count_bin+=1\n",
    "\n",
    "print('완료')\n",
    "print(len(binutils_df))"
   ]
  },
  {
   "cell_type": "code",
   "execution_count": 5,
   "metadata": {},
   "outputs": [
    {
     "name": "stdout",
     "output_type": "stream",
     "text": [
      "37721\n",
      "37721\n"
     ]
    }
   ],
   "source": [
    "# True data와 False Data 같은지 체크\n",
    "print(len(binutils_df))\n",
    "print(bin6_2['label'].value_counts()[1])"
   ]
  },
  {
   "cell_type": "markdown",
   "metadata": {},
   "source": [
    "## (5) False Data + True Data 합치기"
   ]
  },
  {
   "cell_type": "code",
   "execution_count": 6,
   "metadata": {},
   "outputs": [
    {
     "data": {
      "text/plain": [
       "(2414144, 2)"
      ]
     },
     "execution_count": 6,
     "metadata": {},
     "output_type": "execute_result"
    }
   ],
   "source": [
    "f_data = pd.concat(binutils_df)\n",
    "final = pd.concat([f_data, bin6_2_Ngram])\n",
    "final.shape"
   ]
  },
  {
   "cell_type": "markdown",
   "metadata": {},
   "source": [
    "## (6) one hot encoding"
   ]
  },
  {
   "cell_type": "code",
   "execution_count": 7,
   "metadata": {},
   "outputs": [
    {
     "name": "stdout",
     "output_type": "stream",
     "text": [
      "원핫인코딩완료\n",
      "(2414144, 257)\n"
     ]
    }
   ],
   "source": [
    "# 훈련데이터 (gcc 최적화버전 0, 1, 2, 3 one hot encoding)\n",
    "bc6_2_onehot_Ngram = pd.get_dummies(final['bin'])\n",
    "bc6_2_onehot_Ngram = pd.concat([final['label'], bc6_2_onehot_Ngram], axis=1)\n",
    "\n",
    "print('원핫인코딩완료')\n",
    "print(bc6_2_onehot_Ngram.shape)"
   ]
  },
  {
   "cell_type": "code",
   "execution_count": 8,
   "metadata": {},
   "outputs": [
    {
     "name": "stdout",
     "output_type": "stream",
     "text": [
      "(2414144, 256) (2414144, 256)\n",
      "(75442, 32, 256) (75442, 32, 1)\n"
     ]
    }
   ],
   "source": [
    "# 훈련 데이터, 훈련 라벨\n",
    "x_bc6_2 = bc6_2_onehot_Ngram.iloc[:,1:].to_numpy()\n",
    "y_bc6_2 = bc6_2_onehot_Ngram['label'].to_numpy()\n",
    "print(x_bc6_2.shape, x_bc6_2.shape)\n",
    "\n",
    "x_bc6_2 = x_bc6_2.reshape(-1, right_idx, x_bc6_2.shape[1])\n",
    "y_bc6_2 = y_bc6_2.reshape(-1, right_idx, 1)\n",
    "\n",
    "print(x_bc6_2.shape, y_bc6_2.shape)"
   ]
  },
  {
   "cell_type": "code",
   "execution_count": 9,
   "metadata": {},
   "outputs": [
    {
     "name": "stdout",
     "output_type": "stream",
     "text": [
      "(75442, 32, 256) (75442, 32, 1)\n"
     ]
    }
   ],
   "source": [
    "# numpy 행, 열 섞기\n",
    "p = np.random.permutation(x_bc6_2.shape[0])\n",
    "\n",
    "x_bc6_2 = x_bc6_2[p]\n",
    "y_bc6_2 = y_bc6_2[p]\n",
    "\n",
    "print(x_bc6_2.shape, y_bc6_2.shape)"
   ]
  },
  {
   "cell_type": "markdown",
   "metadata": {},
   "source": [
    "## (7) 모델"
   ]
  },
  {
   "cell_type": "code",
   "execution_count": 10,
   "metadata": {},
   "outputs": [],
   "source": [
    "# (10) 양방향 LSTM 모델링 작업\n",
    "from tensorflow.keras import layers, models\n",
    "#from tf.keras.models import Model, Sequential\n",
    "#from tf.keras.layers import SimpleRNN, Input, Dense, LSTM\n",
    "#from tf.keras.layers import Bidirectional, TimeDistributed\n",
    "\n",
    "# 학습\n",
    "from tensorflow.keras.callbacks import EarlyStopping\n",
    "early_stopping = EarlyStopping(patience = 3) # 조기종료 콜백함수 정의\n",
    "\n",
    "xInput = layers.Input(batch_shape=(None,right_idx, 256)) \n",
    "xBiLstm = layers.Bidirectional(layers.LSTM(48, return_sequences=True, stateful=False), merge_mode = 'concat')(xInput)\n",
    "xOutput = layers.TimeDistributed(layers.Dense(1, activation ='sigmoid'))(xBiLstm) # 각 스텝에서 cost가 전송되고, 오류가 다음 step으로 전송됨."
   ]
  },
  {
   "cell_type": "markdown",
   "metadata": {},
   "source": [
    "## (8) 학습 - 10 KFold"
   ]
  },
  {
   "cell_type": "code",
   "execution_count": 11,
   "metadata": {
    "scrolled": false
   },
   "outputs": [
    {
     "name": "stdout",
     "output_type": "stream",
     "text": [
      "Model: \"model\"\n",
      "_________________________________________________________________\n",
      "Layer (type)                 Output Shape              Param #   \n",
      "=================================================================\n",
      "input_1 (InputLayer)         [(None, 32, 256)]         0         \n",
      "_________________________________________________________________\n",
      "bidirectional (Bidirectional (None, 32, 96)            117120    \n",
      "_________________________________________________________________\n",
      "time_distributed (TimeDistri (None, 32, 1)             97        \n",
      "=================================================================\n",
      "Total params: 117,217\n",
      "Trainable params: 117,217\n",
      "Non-trainable params: 0\n",
      "_________________________________________________________________\n",
      "======Training stage======\n",
      "Train on 67897 samples\n",
      "Epoch 1/10\n",
      "67840/67897 [============================>.] - ETA: 0s - loss: 0.0338 - accuracy: 0.9906WARNING:tensorflow:Early stopping conditioned on metric `val_loss` which is not available. Available metrics are: loss,accuracy\n",
      "67897/67897 [==============================] - 20s 299us/sample - loss: 0.0337 - accuracy: 0.9906\n",
      "Epoch 2/10\n",
      "67840/67897 [============================>.] - ETA: 0s - loss: 0.0032 - accuracy: 0.9992WARNING:tensorflow:Early stopping conditioned on metric `val_loss` which is not available. Available metrics are: loss,accuracy\n",
      "67897/67897 [==============================] - 5s 80us/sample - loss: 0.0032 - accuracy: 0.9992\n",
      "Epoch 3/10\n",
      "67712/67897 [============================>.] - ETA: 0s - loss: 0.0015 - accuracy: 0.9996WARNING:tensorflow:Early stopping conditioned on metric `val_loss` which is not available. Available metrics are: loss,accuracy\n",
      "67897/67897 [==============================] - 5s 78us/sample - loss: 0.0015 - accuracy: 0.9996\n",
      "Epoch 4/10\n",
      "67200/67897 [============================>.] - ETA: 0s - loss: 0.0011 - accuracy: 0.9997WARNING:tensorflow:Early stopping conditioned on metric `val_loss` which is not available. Available metrics are: loss,accuracy\n",
      "67897/67897 [==============================] - 5s 78us/sample - loss: 0.0011 - accuracy: 0.9997\n",
      "Epoch 5/10\n",
      "67584/67897 [============================>.] - ETA: 0s - loss: 8.7943e-04 - accuracy: 0.9997WARNING:tensorflow:Early stopping conditioned on metric `val_loss` which is not available. Available metrics are: loss,accuracy\n",
      "67897/67897 [==============================] - 5s 76us/sample - loss: 8.8031e-04 - accuracy: 0.9997\n",
      "Epoch 6/10\n",
      "67200/67897 [============================>.] - ETA: 0s - loss: 7.1907e-04 - accuracy: 0.9998WARNING:tensorflow:Early stopping conditioned on metric `val_loss` which is not available. Available metrics are: loss,accuracy\n",
      "67897/67897 [==============================] - 5s 76us/sample - loss: 7.2759e-04 - accuracy: 0.9998\n",
      "Epoch 7/10\n",
      "67328/67897 [============================>.] - ETA: 0s - loss: 6.0947e-04 - accuracy: 0.9998WARNING:tensorflow:Early stopping conditioned on metric `val_loss` which is not available. Available metrics are: loss,accuracy\n",
      "67897/67897 [==============================] - 5s 73us/sample - loss: 6.1039e-04 - accuracy: 0.9998\n",
      "Epoch 8/10\n",
      "67712/67897 [============================>.] - ETA: 0s - loss: 5.3706e-04 - accuracy: 0.9998WARNING:tensorflow:Early stopping conditioned on metric `val_loss` which is not available. Available metrics are: loss,accuracy\n",
      "67897/67897 [==============================] - 5s 74us/sample - loss: 5.3598e-04 - accuracy: 0.9998\n",
      "Epoch 9/10\n",
      "67840/67897 [============================>.] - ETA: 0s - loss: 4.6156e-04 - accuracy: 0.9999WARNING:tensorflow:Early stopping conditioned on metric `val_loss` which is not available. Available metrics are: loss,accuracy\n",
      "67897/67897 [==============================] - 5s 74us/sample - loss: 4.6125e-04 - accuracy: 0.9999\n",
      "Epoch 10/10\n",
      "67840/67897 [============================>.] - ETA: 0s - loss: 3.9030e-04 - accuracy: 0.9999WARNING:tensorflow:Early stopping conditioned on metric `val_loss` which is not available. Available metrics are: loss,accuracy\n",
      "67897/67897 [==============================] - 5s 77us/sample - loss: 3.9017e-04 - accuracy: 0.9999\n"
     ]
    },
    {
     "data": {
      "text/plain": [
       "<tensorflow.python.keras.callbacks.History at 0x2882a496388>"
      ]
     },
     "execution_count": 11,
     "metadata": {},
     "output_type": "execute_result"
    },
    {
     "name": "stdout",
     "output_type": "stream",
     "text": [
      "accuracy_score 0.9997804837640821\n",
      "recall_score 0.992283578490475\n",
      "precision_score 0.9949226305609284\n",
      "f1_score 0.9936013521670892\n",
      "Model: \"model_1\"\n",
      "_________________________________________________________________\n",
      "Layer (type)                 Output Shape              Param #   \n",
      "=================================================================\n",
      "input_1 (InputLayer)         [(None, 32, 256)]         0         \n",
      "_________________________________________________________________\n",
      "bidirectional (Bidirectional (None, 32, 96)            117120    \n",
      "_________________________________________________________________\n",
      "time_distributed (TimeDistri (None, 32, 1)             97        \n",
      "=================================================================\n",
      "Total params: 117,217\n",
      "Trainable params: 117,217\n",
      "Non-trainable params: 0\n",
      "_________________________________________________________________\n",
      "======Training stage======\n",
      "Train on 67897 samples\n",
      "Epoch 1/10\n",
      "67456/67897 [============================>.] - ETA: 0s - loss: 4.1029e-04 - accuracy: 0.9999WARNING:tensorflow:Early stopping conditioned on metric `val_loss` which is not available. Available metrics are: loss,accuracy\n",
      "67897/67897 [==============================] - 16s 234us/sample - loss: 4.0806e-04 - accuracy: 0.9999\n",
      "Epoch 2/10\n",
      "67456/67897 [============================>.] - ETA: 0s - loss: 3.3655e-04 - accuracy: 0.9999WARNING:tensorflow:Early stopping conditioned on metric `val_loss` which is not available. Available metrics are: loss,accuracy\n",
      "67897/67897 [==============================] - 5s 76us/sample - loss: 3.3763e-04 - accuracy: 0.9999\n",
      "Epoch 3/10\n",
      "67328/67897 [============================>.] - ETA: 0s - loss: 2.9251e-04 - accuracy: 0.9999WARNING:tensorflow:Early stopping conditioned on metric `val_loss` which is not available. Available metrics are: loss,accuracy\n",
      "67897/67897 [==============================] - 5s 77us/sample - loss: 2.9300e-04 - accuracy: 0.9999\n",
      "Epoch 4/10\n",
      "67200/67897 [============================>.] - ETA: 0s - loss: 2.4699e-04 - accuracy: 0.9999WARNING:tensorflow:Early stopping conditioned on metric `val_loss` which is not available. Available metrics are: loss,accuracy\n",
      "67897/67897 [==============================] - 5s 75us/sample - loss: 2.5377e-04 - accuracy: 0.9999\n",
      "Epoch 5/10\n",
      "67456/67897 [============================>.] - ETA: 0s - loss: 2.2347e-04 - accuracy: 0.9999WARNING:tensorflow:Early stopping conditioned on metric `val_loss` which is not available. Available metrics are: loss,accuracy\n",
      "67897/67897 [==============================] - 5s 80us/sample - loss: 2.2264e-04 - accuracy: 0.9999\n",
      "Epoch 6/10\n",
      "67456/67897 [============================>.] - ETA: 0s - loss: 1.9180e-04 - accuracy: 0.9999WARNING:tensorflow:Early stopping conditioned on metric `val_loss` which is not available. Available metrics are: loss,accuracy\n",
      "67897/67897 [==============================] - 5s 76us/sample - loss: 1.9147e-04 - accuracy: 0.9999\n",
      "Epoch 7/10\n",
      "67328/67897 [============================>.] - ETA: 0s - loss: 1.6624e-04 - accuracy: 1.0000WARNING:tensorflow:Early stopping conditioned on metric `val_loss` which is not available. Available metrics are: loss,accuracy\n",
      "67897/67897 [==============================] - 5s 76us/sample - loss: 1.6612e-04 - accuracy: 1.0000\n",
      "Epoch 8/10\n",
      "67328/67897 [============================>.] - ETA: 0s - loss: 1.5194e-04 - accuracy: 1.0000WARNING:tensorflow:Early stopping conditioned on metric `val_loss` which is not available. Available metrics are: loss,accuracy\n",
      "67897/67897 [==============================] - 5s 80us/sample - loss: 1.5133e-04 - accuracy: 1.0000\n",
      "Epoch 9/10\n",
      "67840/67897 [============================>.] - ETA: 0s - loss: 1.2949e-04 - accuracy: 1.0000WARNING:tensorflow:Early stopping conditioned on metric `val_loss` which is not available. Available metrics are: loss,accuracy\n",
      "67897/67897 [==============================] - 5s 75us/sample - loss: 1.2940e-04 - accuracy: 1.0000\n",
      "Epoch 10/10\n",
      "67456/67897 [============================>.] - ETA: 0s - loss: 1.1964e-04 - accuracy: 1.0000WARNING:tensorflow:Early stopping conditioned on metric `val_loss` which is not available. Available metrics are: loss,accuracy\n",
      "67897/67897 [==============================] - 5s 74us/sample - loss: 1.1915e-04 - accuracy: 1.0000\n"
     ]
    },
    {
     "data": {
      "text/plain": [
       "<tensorflow.python.keras.callbacks.History at 0x28a81ff23c8>"
      ]
     },
     "execution_count": 11,
     "metadata": {},
     "output_type": "execute_result"
    },
    {
     "name": "stdout",
     "output_type": "stream",
     "text": [
      "accuracy_score 0.9999171636845593\n",
      "recall_score 0.9975955758595816\n",
      "precision_score 0.9975955758595816\n",
      "f1_score 0.9975955758595816\n",
      "Model: \"model_2\"\n",
      "_________________________________________________________________\n",
      "Layer (type)                 Output Shape              Param #   \n",
      "=================================================================\n",
      "input_1 (InputLayer)         [(None, 32, 256)]         0         \n",
      "_________________________________________________________________\n",
      "bidirectional (Bidirectional (None, 32, 96)            117120    \n",
      "_________________________________________________________________\n",
      "time_distributed (TimeDistri (None, 32, 1)             97        \n",
      "=================================================================\n",
      "Total params: 117,217\n",
      "Trainable params: 117,217\n",
      "Non-trainable params: 0\n",
      "_________________________________________________________________\n",
      "======Training stage======\n",
      "Train on 67898 samples\n",
      "Epoch 1/10\n",
      "67328/67898 [============================>.] - ETA: 0s - loss: 1.3929e-04 - accuracy: 1.0000WARNING:tensorflow:Early stopping conditioned on metric `val_loss` which is not available. Available metrics are: loss,accuracy\n",
      "67898/67898 [==============================] - 13s 190us/sample - loss: 1.3880e-04 - accuracy: 1.0000\n",
      "Epoch 2/10\n",
      "67584/67898 [============================>.] - ETA: 0s - loss: 9.9123e-05 - accuracy: 1.0000WARNING:tensorflow:Early stopping conditioned on metric `val_loss` which is not available. Available metrics are: loss,accuracy\n",
      "67898/67898 [==============================] - 5s 77us/sample - loss: 9.8932e-05 - accuracy: 1.0000\n",
      "Epoch 3/10\n",
      "67712/67898 [============================>.] - ETA: 0s - loss: 8.7281e-05 - accuracy: 1.0000WARNING:tensorflow:Early stopping conditioned on metric `val_loss` which is not available. Available metrics are: loss,accuracy\n",
      "67898/67898 [==============================] - 5s 77us/sample - loss: 9.1252e-05 - accuracy: 1.0000\n",
      "Epoch 4/10\n",
      "67456/67898 [============================>.] - ETA: 0s - loss: 6.3678e-05 - accuracy: 1.0000WARNING:tensorflow:Early stopping conditioned on metric `val_loss` which is not available. Available metrics are: loss,accuracy\n",
      "67898/67898 [==============================] - 5s 78us/sample - loss: 6.3366e-05 - accuracy: 1.0000\n",
      "Epoch 5/10\n",
      "67584/67898 [============================>.] - ETA: 0s - loss: 6.1862e-05 - accuracy: 1.0000WARNING:tensorflow:Early stopping conditioned on metric `val_loss` which is not available. Available metrics are: loss,accuracy\n",
      "67898/67898 [==============================] - 5s 79us/sample - loss: 6.1734e-05 - accuracy: 1.0000\n",
      "Epoch 6/10\n",
      "67840/67898 [============================>.] - ETA: 0s - loss: 5.4726e-05 - accuracy: 1.0000WARNING:tensorflow:Early stopping conditioned on metric `val_loss` which is not available. Available metrics are: loss,accuracy\n",
      "67898/67898 [==============================] - 5s 77us/sample - loss: 5.4956e-05 - accuracy: 1.0000\n",
      "Epoch 7/10\n",
      "67200/67898 [============================>.] - ETA: 0s - loss: 4.1257e-05 - accuracy: 1.0000WARNING:tensorflow:Early stopping conditioned on metric `val_loss` which is not available. Available metrics are: loss,accuracy\n",
      "67898/67898 [==============================] - 5s 76us/sample - loss: 4.1444e-05 - accuracy: 1.0000\n",
      "Epoch 8/10\n",
      "67840/67898 [============================>.] - ETA: 0s - loss: 3.8344e-05 - accuracy: 1.0000WARNING:tensorflow:Early stopping conditioned on metric `val_loss` which is not available. Available metrics are: loss,accuracy\n",
      "67898/67898 [==============================] - 5s 74us/sample - loss: 3.8329e-05 - accuracy: 1.0000\n",
      "Epoch 9/10\n",
      "67712/67898 [============================>.] - ETA: 0s - loss: 3.1883e-05 - accuracy: 1.0000WARNING:tensorflow:Early stopping conditioned on metric `val_loss` which is not available. Available metrics are: loss,accuracy\n",
      "67898/67898 [==============================] - 5s 72us/sample - loss: 3.1823e-05 - accuracy: 1.0000\n",
      "Epoch 10/10\n",
      "67456/67898 [============================>.] - ETA: 0s - loss: 2.6897e-05 - accuracy: 1.0000WARNING:tensorflow:Early stopping conditioned on metric `val_loss` which is not available. Available metrics are: loss,accuracy\n",
      "67898/67898 [==============================] - 5s 72us/sample - loss: 2.7277e-05 - accuracy: 1.0000\n"
     ]
    },
    {
     "data": {
      "text/plain": [
       "<tensorflow.python.keras.callbacks.History at 0x28a804dc588>"
      ]
     },
     "execution_count": 11,
     "metadata": {},
     "output_type": "execute_result"
    },
    {
     "name": "stdout",
     "output_type": "stream",
     "text": [
      "accuracy_score 0.9999337221633086\n",
      "recall_score 0.9992769342010123\n",
      "precision_score 0.9968742486174561\n",
      "f1_score 0.9980741454020222\n",
      "Model: \"model_3\"\n",
      "_________________________________________________________________\n",
      "Layer (type)                 Output Shape              Param #   \n",
      "=================================================================\n",
      "input_1 (InputLayer)         [(None, 32, 256)]         0         \n",
      "_________________________________________________________________\n",
      "bidirectional (Bidirectional (None, 32, 96)            117120    \n",
      "_________________________________________________________________\n",
      "time_distributed (TimeDistri (None, 32, 1)             97        \n",
      "=================================================================\n",
      "Total params: 117,217\n",
      "Trainable params: 117,217\n",
      "Non-trainable params: 0\n",
      "_________________________________________________________________\n",
      "======Training stage======\n",
      "Train on 67898 samples\n",
      "Epoch 1/10\n",
      "67712/67898 [============================>.] - ETA: 0s - loss: 5.7096e-05 - accuracy: 1.0000WARNING:tensorflow:Early stopping conditioned on metric `val_loss` which is not available. Available metrics are: loss,accuracy\n",
      "67898/67898 [==============================] - 18s 270us/sample - loss: 5.6955e-05 - accuracy: 1.0000\n",
      "Epoch 2/10\n",
      "67712/67898 [============================>.] - ETA: 0s - loss: 3.6265e-05 - accuracy: 1.0000WARNING:tensorflow:Early stopping conditioned on metric `val_loss` which is not available. Available metrics are: loss,accuracy\n",
      "67898/67898 [==============================] - 5s 79us/sample - loss: 3.6169e-05 - accuracy: 1.0000\n",
      "Epoch 3/10\n",
      "67712/67898 [============================>.] - ETA: 0s - loss: 2.4396e-05 - accuracy: 1.0000WARNING:tensorflow:Early stopping conditioned on metric `val_loss` which is not available. Available metrics are: loss,accuracy\n",
      "67898/67898 [==============================] - 5s 78us/sample - loss: 2.4334e-05 - accuracy: 1.0000\n",
      "Epoch 4/10\n",
      "67840/67898 [============================>.] - ETA: 0s - loss: 4.1806e-05 - accuracy: 1.0000WARNING:tensorflow:Early stopping conditioned on metric `val_loss` which is not available. Available metrics are: loss,accuracy\n",
      "67898/67898 [==============================] - 5s 76us/sample - loss: 4.1771e-05 - accuracy: 1.0000\n",
      "Epoch 5/10\n",
      "67584/67898 [============================>.] - ETA: 0s - loss: 2.2576e-05 - accuracy: 1.0000WARNING:tensorflow:Early stopping conditioned on metric `val_loss` which is not available. Available metrics are: loss,accuracy\n",
      "67898/67898 [==============================] - 5s 78us/sample - loss: 2.2487e-05 - accuracy: 1.0000\n",
      "Epoch 6/10\n",
      "67456/67898 [============================>.] - ETA: 0s - loss: 2.0747e-05 - accuracy: 1.0000WARNING:tensorflow:Early stopping conditioned on metric `val_loss` which is not available. Available metrics are: loss,accuracy\n",
      "67898/67898 [==============================] - 5s 80us/sample - loss: 2.0631e-05 - accuracy: 1.0000\n",
      "Epoch 7/10\n",
      "67712/67898 [============================>.] - ETA: 0s - loss: 1.2398e-05 - accuracy: 1.0000WARNING:tensorflow:Early stopping conditioned on metric `val_loss` which is not available. Available metrics are: loss,accuracy\n",
      "67898/67898 [==============================] - 5s 76us/sample - loss: 1.2365e-05 - accuracy: 1.0000\n",
      "Epoch 8/10\n",
      "67328/67898 [============================>.] - ETA: 0s - loss: 1.1592e-05 - accuracy: 1.0000WARNING:tensorflow:Early stopping conditioned on metric `val_loss` which is not available. Available metrics are: loss,accuracy\n",
      "67898/67898 [==============================] - 5s 75us/sample - loss: 1.1571e-05 - accuracy: 1.0000\n",
      "Epoch 9/10\n",
      "67712/67898 [============================>.] - ETA: 0s - loss: 8.9205e-06 - accuracy: 1.0000WARNING:tensorflow:Early stopping conditioned on metric `val_loss` which is not available. Available metrics are: loss,accuracy\n",
      "67898/67898 [==============================] - 5s 74us/sample - loss: 8.8996e-06 - accuracy: 1.0000\n",
      "Epoch 10/10\n",
      "67456/67898 [============================>.] - ETA: 0s - loss: 7.2074e-06 - accuracy: 1.0000WARNING:tensorflow:Early stopping conditioned on metric `val_loss` which is not available. Available metrics are: loss,accuracy\n",
      "67898/67898 [==============================] - 5s 73us/sample - loss: 7.1725e-06 - accuracy: 1.0000\n"
     ]
    },
    {
     "data": {
      "text/plain": [
       "<tensorflow.python.keras.callbacks.History at 0x28a7fbd4a88>"
      ]
     },
     "execution_count": 11,
     "metadata": {},
     "output_type": "execute_result"
    },
    {
     "name": "stdout",
     "output_type": "stream",
     "text": [
      "accuracy_score 0.9999875729056203\n",
      "recall_score 0.9995319447694828\n",
      "precision_score 0.9997659176029963\n",
      "f1_score 0.9996489174956115\n",
      "Model: \"model_4\"\n",
      "_________________________________________________________________\n",
      "Layer (type)                 Output Shape              Param #   \n",
      "=================================================================\n",
      "input_1 (InputLayer)         [(None, 32, 256)]         0         \n",
      "_________________________________________________________________\n",
      "bidirectional (Bidirectional (None, 32, 96)            117120    \n",
      "_________________________________________________________________\n",
      "time_distributed (TimeDistri (None, 32, 1)             97        \n",
      "=================================================================\n",
      "Total params: 117,217\n",
      "Trainable params: 117,217\n",
      "Non-trainable params: 0\n",
      "_________________________________________________________________\n",
      "======Training stage======\n",
      "Train on 67898 samples\n",
      "Epoch 1/10\n",
      "67840/67898 [============================>.] - ETA: 0s - loss: 3.7354e-05 - accuracy: 1.0000WARNING:tensorflow:Early stopping conditioned on metric `val_loss` which is not available. Available metrics are: loss,accuracy\n",
      "67898/67898 [==============================] - 14s 209us/sample - loss: 3.7322e-05 - accuracy: 1.0000\n",
      "Epoch 2/10\n",
      "67328/67898 [============================>.] - ETA: 0s - loss: 1.6452e-05 - accuracy: 1.0000WARNING:tensorflow:Early stopping conditioned on metric `val_loss` which is not available. Available metrics are: loss,accuracy\n",
      "67898/67898 [==============================] - 6s 83us/sample - loss: 1.6340e-05 - accuracy: 1.0000\n",
      "Epoch 3/10\n",
      "67584/67898 [============================>.] - ETA: 0s - loss: 1.2045e-05 - accuracy: 1.0000WARNING:tensorflow:Early stopping conditioned on metric `val_loss` which is not available. Available metrics are: loss,accuracy\n",
      "67898/67898 [==============================] - 6s 81us/sample - loss: 1.2044e-05 - accuracy: 1.0000\n",
      "Epoch 4/10\n",
      "67840/67898 [============================>.] - ETA: 0s - loss: 1.4658e-05 - accuracy: 1.0000WARNING:tensorflow:Early stopping conditioned on metric `val_loss` which is not available. Available metrics are: loss,accuracy\n",
      "67898/67898 [==============================] - 5s 81us/sample - loss: 1.4648e-05 - accuracy: 1.0000\n",
      "Epoch 5/10\n",
      "67840/67898 [============================>.] - ETA: 0s - loss: 1.2465e-05 - accuracy: 1.0000WARNING:tensorflow:Early stopping conditioned on metric `val_loss` which is not available. Available metrics are: loss,accuracy\n",
      "67898/67898 [==============================] - 5s 78us/sample - loss: 1.2454e-05 - accuracy: 1.0000\n",
      "Epoch 6/10\n",
      "67584/67898 [============================>.] - ETA: 0s - loss: 1.2605e-05 - accuracy: 1.0000WARNING:tensorflow:Early stopping conditioned on metric `val_loss` which is not available. Available metrics are: loss,accuracy\n",
      "67898/67898 [==============================] - 5s 77us/sample - loss: 1.2547e-05 - accuracy: 1.0000\n",
      "Epoch 7/10\n",
      "67200/67898 [============================>.] - ETA: 0s - loss: 9.7678e-06 - accuracy: 1.0000WARNING:tensorflow:Early stopping conditioned on metric `val_loss` which is not available. Available metrics are: loss,accuracy\n",
      "67898/67898 [==============================] - 5s 79us/sample - loss: 9.6741e-06 - accuracy: 1.0000\n",
      "Epoch 8/10\n",
      "67328/67898 [============================>.] - ETA: 0s - loss: 7.9520e-06 - accuracy: 1.0000WARNING:tensorflow:Early stopping conditioned on metric `val_loss` which is not available. Available metrics are: loss,accuracy\n",
      "67898/67898 [==============================] - 5s 79us/sample - loss: 7.8951e-06 - accuracy: 1.0000\n",
      "Epoch 9/10\n",
      "67584/67898 [============================>.] - ETA: 0s - loss: 5.0861e-06 - accuracy: 1.0000WARNING:tensorflow:Early stopping conditioned on metric `val_loss` which is not available. Available metrics are: loss,accuracy\n",
      "67898/67898 [==============================] - 5s 77us/sample - loss: 5.0630e-06 - accuracy: 1.0000\n",
      "Epoch 10/10\n",
      "67840/67898 [============================>.] - ETA: 0s - loss: 5.0261e-06 - accuracy: 1.0000WARNING:tensorflow:Early stopping conditioned on metric `val_loss` which is not available. Available metrics are: loss,accuracy\n",
      "67898/67898 [==============================] - 5s 76us/sample - loss: 5.0218e-06 - accuracy: 1.0000\n"
     ]
    },
    {
     "data": {
      "text/plain": [
       "<tensorflow.python.keras.callbacks.History at 0x28a88688608>"
      ]
     },
     "execution_count": 11,
     "metadata": {},
     "output_type": "execute_result"
    },
    {
     "name": "stdout",
     "output_type": "stream",
     "text": [
      "accuracy_score 0.9999917152704135\n",
      "recall_score 0.9997632575757576\n",
      "precision_score 0.9997632575757576\n",
      "f1_score 0.9997632575757576\n",
      "Model: \"model_5\"\n",
      "_________________________________________________________________\n",
      "Layer (type)                 Output Shape              Param #   \n",
      "=================================================================\n",
      "input_1 (InputLayer)         [(None, 32, 256)]         0         \n",
      "_________________________________________________________________\n",
      "bidirectional (Bidirectional (None, 32, 96)            117120    \n",
      "_________________________________________________________________\n",
      "time_distributed (TimeDistri (None, 32, 1)             97        \n",
      "=================================================================\n",
      "Total params: 117,217\n",
      "Trainable params: 117,217\n",
      "Non-trainable params: 0\n",
      "_________________________________________________________________\n",
      "======Training stage======\n",
      "Train on 67898 samples\n",
      "Epoch 1/10\n",
      "67328/67898 [============================>.] - ETA: 0s - loss: 1.3408e-05 - accuracy: 1.0000WARNING:tensorflow:Early stopping conditioned on metric `val_loss` which is not available. Available metrics are: loss,accuracy\n",
      "67898/67898 [==============================] - 17s 243us/sample - loss: 1.3298e-05 - accuracy: 1.0000\n",
      "Epoch 2/10\n",
      "67712/67898 [============================>.] - ETA: 0s - loss: 9.3452e-06 - accuracy: 1.0000WARNING:tensorflow:Early stopping conditioned on metric `val_loss` which is not available. Available metrics are: loss,accuracy\n",
      "67898/67898 [==============================] - 5s 70us/sample - loss: 9.3237e-06 - accuracy: 1.0000\n",
      "Epoch 3/10\n",
      "67328/67898 [============================>.] - ETA: 0s - loss: 1.0233e-05 - accuracy: 1.0000WARNING:tensorflow:Early stopping conditioned on metric `val_loss` which is not available. Available metrics are: loss,accuracy\n",
      "67898/67898 [==============================] - 5s 75us/sample - loss: 1.0148e-05 - accuracy: 1.0000\n",
      "Epoch 4/10\n",
      "67328/67898 [============================>.] - ETA: 0s - loss: 6.0179e-06 - accuracy: 1.0000WARNING:tensorflow:Early stopping conditioned on metric `val_loss` which is not available. Available metrics are: loss,accuracy\n",
      "67898/67898 [==============================] - 6s 83us/sample - loss: 5.9698e-06 - accuracy: 1.0000\n",
      "Epoch 5/10\n",
      "67712/67898 [============================>.] - ETA: 0s - loss: 5.5809e-06 - accuracy: 1.0000WARNING:tensorflow:Early stopping conditioned on metric `val_loss` which is not available. Available metrics are: loss,accuracy\n",
      "67898/67898 [==============================] - 6s 82us/sample - loss: 5.5658e-06 - accuracy: 1.0000\n",
      "Epoch 6/10\n",
      "67712/67898 [============================>.] - ETA: 0s - loss: 6.4509e-06 - accuracy: 1.0000WARNING:tensorflow:Early stopping conditioned on metric `val_loss` which is not available. Available metrics are: loss,accuracy\n",
      "67898/67898 [==============================] - 5s 81us/sample - loss: 6.4374e-06 - accuracy: 1.0000\n",
      "Epoch 7/10\n",
      "67712/67898 [============================>.] - ETA: 0s - loss: 5.0329e-06 - accuracy: 1.0000WARNING:tensorflow:Early stopping conditioned on metric `val_loss` which is not available. Available metrics are: loss,accuracy\n",
      "67898/67898 [==============================] - 5s 80us/sample - loss: 5.0192e-06 - accuracy: 1.0000\n",
      "Epoch 8/10\n",
      "67712/67898 [============================>.] - ETA: 0s - loss: 2.1001e-06 - accuracy: 1.0000WARNING:tensorflow:Early stopping conditioned on metric `val_loss` which is not available. Available metrics are: loss,accuracy\n",
      "67898/67898 [==============================] - 6s 81us/sample - loss: 2.0944e-06 - accuracy: 1.0000\n",
      "Epoch 9/10\n",
      "67584/67898 [============================>.] - ETA: 0s - loss: 6.5461e-07 - accuracy: 1.0000WARNING:tensorflow:Early stopping conditioned on metric `val_loss` which is not available. Available metrics are: loss,accuracy\n",
      "67898/67898 [==============================] - 6s 81us/sample - loss: 6.6020e-07 - accuracy: 1.0000\n",
      "Epoch 10/10\n",
      "67840/67898 [============================>.] - ETA: 0s - loss: 2.0600e-06 - accuracy: 1.0000WARNING:tensorflow:Early stopping conditioned on metric `val_loss` which is not available. Available metrics are: loss,accuracy\n",
      "67898/67898 [==============================] - 5s 80us/sample - loss: 2.0587e-06 - accuracy: 1.0000\n"
     ]
    },
    {
     "data": {
      "text/plain": [
       "<tensorflow.python.keras.callbacks.History at 0x28a929308c8>"
      ]
     },
     "execution_count": 11,
     "metadata": {},
     "output_type": "execute_result"
    },
    {
     "name": "stdout",
     "output_type": "stream",
     "text": [
      "accuracy_score 1.0\n",
      "recall_score 1.0\n",
      "precision_score 1.0\n",
      "f1_score 1.0\n",
      "Model: \"model_6\"\n",
      "_________________________________________________________________\n",
      "Layer (type)                 Output Shape              Param #   \n",
      "=================================================================\n",
      "input_1 (InputLayer)         [(None, 32, 256)]         0         \n",
      "_________________________________________________________________\n",
      "bidirectional (Bidirectional (None, 32, 96)            117120    \n",
      "_________________________________________________________________\n",
      "time_distributed (TimeDistri (None, 32, 1)             97        \n",
      "=================================================================\n",
      "Total params: 117,217\n",
      "Trainable params: 117,217\n",
      "Non-trainable params: 0\n",
      "_________________________________________________________________\n",
      "======Training stage======\n",
      "Train on 67898 samples\n",
      "Epoch 1/10\n",
      "67840/67898 [============================>.] - ETA: 0s - loss: 2.1280e-06 - accuracy: 1.0000WARNING:tensorflow:Early stopping conditioned on metric `val_loss` which is not available. Available metrics are: loss,accuracy\n",
      "67898/67898 [==============================] - 13s 196us/sample - loss: 2.1262e-06 - accuracy: 1.0000\n",
      "Epoch 2/10\n",
      "67456/67898 [============================>.] - ETA: 0s - loss: 1.1037e-05 - accuracy: 1.0000WARNING:tensorflow:Early stopping conditioned on metric `val_loss` which is not available. Available metrics are: loss,accuracy\n",
      "67898/67898 [==============================] - 6s 86us/sample - loss: 1.0966e-05 - accuracy: 1.0000\n",
      "Epoch 3/10\n",
      "67584/67898 [============================>.] - ETA: 0s - loss: 2.1656e-06 - accuracy: 1.0000WARNING:tensorflow:Early stopping conditioned on metric `val_loss` which is not available. Available metrics are: loss,accuracy\n",
      "67898/67898 [==============================] - 6s 83us/sample - loss: 2.1567e-06 - accuracy: 1.0000\n",
      "Epoch 4/10\n",
      "67328/67898 [============================>.] - ETA: 0s - loss: 1.4066e-07 - accuracy: 1.0000WARNING:tensorflow:Early stopping conditioned on metric `val_loss` which is not available. Available metrics are: loss,accuracy\n",
      "67898/67898 [==============================] - 6s 84us/sample - loss: 1.4095e-07 - accuracy: 1.0000\n",
      "Epoch 5/10\n",
      "67840/67898 [============================>.] - ETA: 0s - loss: 3.2769e-07 - accuracy: 1.0000WARNING:tensorflow:Early stopping conditioned on metric `val_loss` which is not available. Available metrics are: loss,accuracy\n",
      "67898/67898 [==============================] - 6s 85us/sample - loss: 3.2741e-07 - accuracy: 1.0000\n",
      "Epoch 6/10\n",
      "67584/67898 [============================>.] - ETA: 0s - loss: 4.5839e-06 - accuracy: 1.0000WARNING:tensorflow:Early stopping conditioned on metric `val_loss` which is not available. Available metrics are: loss,accuracy\n",
      "67898/67898 [==============================] - 6s 83us/sample - loss: 4.5628e-06 - accuracy: 1.0000\n",
      "Epoch 7/10\n",
      "67712/67898 [============================>.] - ETA: 0s - loss: 5.1415e-07 - accuracy: 1.0000WARNING:tensorflow:Early stopping conditioned on metric `val_loss` which is not available. Available metrics are: loss,accuracy\n",
      "67898/67898 [==============================] - 6s 81us/sample - loss: 5.1278e-07 - accuracy: 1.0000\n",
      "Epoch 8/10\n",
      "67584/67898 [============================>.] - ETA: 0s - loss: 1.7696e-06 - accuracy: 1.0000WARNING:tensorflow:Early stopping conditioned on metric `val_loss` which is not available. Available metrics are: loss,accuracy\n",
      "67898/67898 [==============================] - 6s 82us/sample - loss: 1.7629e-06 - accuracy: 1.0000\n",
      "Epoch 9/10\n",
      "67840/67898 [============================>.] - ETA: 0s - loss: 1.7157e-07 - accuracy: 1.0000WARNING:tensorflow:Early stopping conditioned on metric `val_loss` which is not available. Available metrics are: loss,accuracy\n",
      "67898/67898 [==============================] - 6s 81us/sample - loss: 1.7154e-07 - accuracy: 1.0000\n",
      "Epoch 10/10\n",
      "67328/67898 [============================>.] - ETA: 0s - loss: 6.1956e-08 - accuracy: 1.0000WARNING:tensorflow:Early stopping conditioned on metric `val_loss` which is not available. Available metrics are: loss,accuracy\n",
      "67898/67898 [==============================] - 6s 82us/sample - loss: 6.1656e-08 - accuracy: 1.0000\n"
     ]
    },
    {
     "data": {
      "text/plain": [
       "<tensorflow.python.keras.callbacks.History at 0x28a7b247148>"
      ]
     },
     "execution_count": 11,
     "metadata": {},
     "output_type": "execute_result"
    },
    {
     "name": "stdout",
     "output_type": "stream",
     "text": [
      "accuracy_score 1.0\n",
      "recall_score 1.0\n",
      "precision_score 1.0\n",
      "f1_score 1.0\n",
      "Model: \"model_7\"\n",
      "_________________________________________________________________\n",
      "Layer (type)                 Output Shape              Param #   \n",
      "=================================================================\n",
      "input_1 (InputLayer)         [(None, 32, 256)]         0         \n",
      "_________________________________________________________________\n",
      "bidirectional (Bidirectional (None, 32, 96)            117120    \n",
      "_________________________________________________________________\n",
      "time_distributed (TimeDistri (None, 32, 1)             97        \n",
      "=================================================================\n",
      "Total params: 117,217\n",
      "Trainable params: 117,217\n",
      "Non-trainable params: 0\n",
      "_________________________________________________________________\n",
      "======Training stage======\n",
      "Train on 67898 samples\n",
      "Epoch 1/10\n",
      "67840/67898 [============================>.] - ETA: 0s - loss: 2.9213e-06 - accuracy: 1.0000WARNING:tensorflow:Early stopping conditioned on metric `val_loss` which is not available. Available metrics are: loss,accuracy\n",
      "67898/67898 [==============================] - 19s 273us/sample - loss: 2.9191e-06 - accuracy: 1.0000\n",
      "Epoch 2/10\n",
      "67840/67898 [============================>.] - ETA: 0s - loss: 3.2901e-07 - accuracy: 1.0000WARNING:tensorflow:Early stopping conditioned on metric `val_loss` which is not available. Available metrics are: loss,accuracy\n",
      "67898/67898 [==============================] - 5s 80us/sample - loss: 3.2876e-07 - accuracy: 1.0000\n",
      "Epoch 3/10\n",
      "67328/67898 [============================>.] - ETA: 0s - loss: 1.5778e-07 - accuracy: 1.0000WARNING:tensorflow:Early stopping conditioned on metric `val_loss` which is not available. Available metrics are: loss,accuracy\n",
      "67898/67898 [==============================] - 5s 78us/sample - loss: 1.5680e-07 - accuracy: 1.0000\n",
      "Epoch 4/10\n",
      "67584/67898 [============================>.] - ETA: 0s - loss: 2.9989e-06 - accuracy: 1.0000WARNING:tensorflow:Early stopping conditioned on metric `val_loss` which is not available. Available metrics are: loss,accuracy\n",
      "67898/67898 [==============================] - 5s 77us/sample - loss: 2.9850e-06 - accuracy: 1.0000\n",
      "Epoch 5/10\n",
      "67584/67898 [============================>.] - ETA: 0s - loss: 4.2532e-07 - accuracy: 1.0000WARNING:tensorflow:Early stopping conditioned on metric `val_loss` which is not available. Available metrics are: loss,accuracy\n",
      "67898/67898 [==============================] - 5s 77us/sample - loss: 4.2339e-07 - accuracy: 1.0000\n",
      "Epoch 6/10\n",
      "67584/67898 [============================>.] - ETA: 0s - loss: 6.6540e-09 - accuracy: 1.0000WARNING:tensorflow:Early stopping conditioned on metric `val_loss` which is not available. Available metrics are: loss,accuracy\n",
      "67898/67898 [==============================] - 5s 78us/sample - loss: 6.6753e-09 - accuracy: 1.0000\n",
      "Epoch 7/10\n",
      "67200/67898 [============================>.] - ETA: 0s - loss: 4.5948e-09 - accuracy: 1.0000WARNING:tensorflow:Early stopping conditioned on metric `val_loss` which is not available. Available metrics are: loss,accuracy\n",
      "67898/67898 [==============================] - 5s 77us/sample - loss: 4.5579e-09 - accuracy: 1.0000\n",
      "Epoch 8/10\n",
      "67712/67898 [============================>.] - ETA: 0s - loss: 2.9025e-09 - accuracy: 1.0000WARNING:tensorflow:Early stopping conditioned on metric `val_loss` which is not available. Available metrics are: loss,accuracy\n",
      "67898/67898 [==============================] - 5s 77us/sample - loss: 2.8969e-09 - accuracy: 1.0000\n",
      "Epoch 9/10\n",
      "67200/67898 [============================>.] - ETA: 0s - loss: 2.2662e-09 - accuracy: 1.0000WARNING:tensorflow:Early stopping conditioned on metric `val_loss` which is not available. Available metrics are: loss,accuracy\n",
      "67898/67898 [==============================] - 5s 76us/sample - loss: 2.2556e-09 - accuracy: 1.0000\n",
      "Epoch 10/10\n",
      "67200/67898 [============================>.] - ETA: 0s - loss: 1.9414e-09 - accuracy: 1.0000WARNING:tensorflow:Early stopping conditioned on metric `val_loss` which is not available. Available metrics are: loss,accuracy\n",
      "67898/67898 [==============================] - 5s 75us/sample - loss: 1.9295e-09 - accuracy: 1.0000\n"
     ]
    },
    {
     "data": {
      "text/plain": [
       "<tensorflow.python.keras.callbacks.History at 0x28a8ea26f48>"
      ]
     },
     "execution_count": 11,
     "metadata": {},
     "output_type": "execute_result"
    },
    {
     "name": "stdout",
     "output_type": "stream",
     "text": [
      "accuracy_score 1.0\n",
      "recall_score 1.0\n",
      "precision_score 1.0\n",
      "f1_score 1.0\n",
      "Model: \"model_8\"\n",
      "_________________________________________________________________\n",
      "Layer (type)                 Output Shape              Param #   \n",
      "=================================================================\n",
      "input_1 (InputLayer)         [(None, 32, 256)]         0         \n",
      "_________________________________________________________________\n",
      "bidirectional (Bidirectional (None, 32, 96)            117120    \n",
      "_________________________________________________________________\n",
      "time_distributed (TimeDistri (None, 32, 1)             97        \n",
      "=================================================================\n",
      "Total params: 117,217\n",
      "Trainable params: 117,217\n",
      "Non-trainable params: 0\n",
      "_________________________________________________________________\n",
      "======Training stage======\n",
      "Train on 67898 samples\n",
      "Epoch 1/10\n",
      "67456/67898 [============================>.] - ETA: 0s - loss: 2.2584e-09 - accuracy: 1.0000WARNING:tensorflow:Early stopping conditioned on metric `val_loss` which is not available. Available metrics are: loss,accuracy\n",
      "67898/67898 [==============================] - 13s 189us/sample - loss: 2.2517e-09 - accuracy: 1.0000\n",
      "Epoch 2/10\n",
      "67456/67898 [============================>.] - ETA: 0s - loss: 1.9018e-09 - accuracy: 1.0000WARNING:tensorflow:Early stopping conditioned on metric `val_loss` which is not available. Available metrics are: loss,accuracy\n",
      "67898/67898 [==============================] - 6s 91us/sample - loss: 1.8943e-09 - accuracy: 1.0000\n",
      "Epoch 3/10\n",
      "67712/67898 [============================>.] - ETA: 0s - loss: 1.8398e-09 - accuracy: 1.0000WARNING:tensorflow:Early stopping conditioned on metric `val_loss` which is not available. Available metrics are: loss,accuracy\n",
      "67898/67898 [==============================] - 6s 83us/sample - loss: 1.8398e-09 - accuracy: 1.0000\n",
      "Epoch 4/10\n",
      "67840/67898 [============================>.] - ETA: 0s - loss: 1.6555e-09 - accuracy: 1.0000WARNING:tensorflow:Early stopping conditioned on metric `val_loss` which is not available. Available metrics are: loss,accuracy\n",
      "67898/67898 [==============================] - 6s 83us/sample - loss: 1.6541e-09 - accuracy: 1.0000\n",
      "Epoch 5/10\n",
      "67712/67898 [============================>.] - ETA: 0s - loss: 1.5785e-09 - accuracy: 1.0000WARNING:tensorflow:Early stopping conditioned on metric `val_loss` which is not available. Available metrics are: loss,accuracy\n",
      "67898/67898 [==============================] - 5s 81us/sample - loss: 1.5745e-09 - accuracy: 1.0000\n",
      "Epoch 6/10\n",
      "67328/67898 [============================>.] - ETA: 0s - loss: 1.4364e-09 - accuracy: 1.0000WARNING:tensorflow:Early stopping conditioned on metric `val_loss` which is not available. Available metrics are: loss,accuracy\n",
      "67898/67898 [==============================] - 6s 83us/sample - loss: 1.4342e-09 - accuracy: 1.0000\n",
      "Epoch 7/10\n",
      "67712/67898 [============================>.] - ETA: 0s - loss: 1.3821e-09 - accuracy: 1.0000WARNING:tensorflow:Early stopping conditioned on metric `val_loss` which is not available. Available metrics are: loss,accuracy\n",
      "67898/67898 [==============================] - 5s 80us/sample - loss: 1.3786e-09 - accuracy: 1.0000\n",
      "Epoch 8/10\n",
      "67200/67898 [============================>.] - ETA: 0s - loss: 1.3374e-09 - accuracy: 1.0000WARNING:tensorflow:Early stopping conditioned on metric `val_loss` which is not available. Available metrics are: loss,accuracy\n",
      "67898/67898 [==============================] - 5s 78us/sample - loss: 1.3356e-09 - accuracy: 1.0000\n",
      "Epoch 9/10\n",
      "67200/67898 [============================>.] - ETA: 0s - loss: 1.2717e-09 - accuracy: 1.0000WARNING:tensorflow:Early stopping conditioned on metric `val_loss` which is not available. Available metrics are: loss,accuracy\n",
      "67898/67898 [==============================] - 5s 77us/sample - loss: 1.2692e-09 - accuracy: 1.0000\n",
      "Epoch 10/10\n",
      "67200/67898 [============================>.] - ETA: 0s - loss: 1.2478e-09 - accuracy: 1.0000WARNING:tensorflow:Early stopping conditioned on metric `val_loss` which is not available. Available metrics are: loss,accuracy\n",
      "67898/67898 [==============================] - 5s 76us/sample - loss: 1.2411e-09 - accuracy: 1.0000\n"
     ]
    },
    {
     "data": {
      "text/plain": [
       "<tensorflow.python.keras.callbacks.History at 0x28ac0f6a788>"
      ]
     },
     "execution_count": 11,
     "metadata": {},
     "output_type": "execute_result"
    },
    {
     "name": "stdout",
     "output_type": "stream",
     "text": [
      "accuracy_score 1.0\n",
      "recall_score 1.0\n",
      "precision_score 1.0\n",
      "f1_score 1.0\n",
      "Model: \"model_9\"\n",
      "_________________________________________________________________\n",
      "Layer (type)                 Output Shape              Param #   \n",
      "=================================================================\n",
      "input_1 (InputLayer)         [(None, 32, 256)]         0         \n",
      "_________________________________________________________________\n",
      "bidirectional (Bidirectional (None, 32, 96)            117120    \n",
      "_________________________________________________________________\n",
      "time_distributed (TimeDistri (None, 32, 1)             97        \n",
      "=================================================================\n",
      "Total params: 117,217\n",
      "Trainable params: 117,217\n",
      "Non-trainable params: 0\n",
      "_________________________________________________________________\n",
      "======Training stage======\n",
      "Train on 67898 samples\n",
      "Epoch 1/10\n",
      "67584/67898 [============================>.] - ETA: 0s - loss: 1.2488e-09 - accuracy: 1.0000WARNING:tensorflow:Early stopping conditioned on metric `val_loss` which is not available. Available metrics are: loss,accuracy\n",
      "67898/67898 [==============================] - 13s 188us/sample - loss: 1.2483e-09 - accuracy: 1.0000\n",
      "Epoch 2/10\n",
      "67328/67898 [============================>.] - ETA: 0s - loss: 1.1605e-09 - accuracy: 1.0000WARNING:tensorflow:Early stopping conditioned on metric `val_loss` which is not available. Available metrics are: loss,accuracy\n",
      "67898/67898 [==============================] - 6s 85us/sample - loss: 1.1530e-09 - accuracy: 1.0000\n",
      "Epoch 3/10\n",
      "67328/67898 [============================>.] - ETA: 0s - loss: 1.1208e-09 - accuracy: 1.0000WARNING:tensorflow:Early stopping conditioned on metric `val_loss` which is not available. Available metrics are: loss,accuracy\n",
      "67898/67898 [==============================] - 6s 84us/sample - loss: 1.1164e-09 - accuracy: 1.0000\n",
      "Epoch 4/10\n",
      "67584/67898 [============================>.] - ETA: 0s - loss: 1.0769e-09 - accuracy: 1.0000WARNING:tensorflow:Early stopping conditioned on metric `val_loss` which is not available. Available metrics are: loss,accuracy\n",
      "67898/67898 [==============================] - 6s 82us/sample - loss: 1.0806e-09 - accuracy: 1.0000\n",
      "Epoch 5/10\n",
      "67840/67898 [============================>.] - ETA: 0s - loss: 1.0370e-09 - accuracy: 1.0000WARNING:tensorflow:Early stopping conditioned on metric `val_loss` which is not available. Available metrics are: loss,accuracy\n",
      "67898/67898 [==============================] - 6s 82us/sample - loss: 1.0387e-09 - accuracy: 1.0000\n",
      "Epoch 6/10\n",
      "67584/67898 [============================>.] - ETA: 0s - loss: 1.0004e-09 - accuracy: 1.0000WARNING:tensorflow:Early stopping conditioned on metric `val_loss` which is not available. Available metrics are: loss,accuracy\n",
      "67898/67898 [==============================] - 5s 81us/sample - loss: 1.0031e-09 - accuracy: 1.0000\n",
      "Epoch 7/10\n",
      "67328/67898 [============================>.] - ETA: 0s - loss: 9.7457e-10 - accuracy: 1.0000WARNING:tensorflow:Early stopping conditioned on metric `val_loss` which is not available. Available metrics are: loss,accuracy\n",
      "67898/67898 [==============================] - 6s 81us/sample - loss: 9.8156e-10 - accuracy: 1.0000\n",
      "Epoch 8/10\n",
      "67328/67898 [============================>.] - ETA: 0s - loss: 9.6162e-10 - accuracy: 1.0000WARNING:tensorflow:Early stopping conditioned on metric `val_loss` which is not available. Available metrics are: loss,accuracy\n",
      "67898/67898 [==============================] - 5s 80us/sample - loss: 9.6153e-10 - accuracy: 1.0000\n",
      "Epoch 9/10\n",
      "67200/67898 [============================>.] - ETA: 0s - loss: 9.6836e-10 - accuracy: 1.0000WARNING:tensorflow:Early stopping conditioned on metric `val_loss` which is not available. Available metrics are: loss,accuracy\n",
      "67898/67898 [==============================] - 5s 78us/sample - loss: 9.6578e-10 - accuracy: 1.0000\n",
      "Epoch 10/10\n",
      "67584/67898 [============================>.] - ETA: 0s - loss: 9.8496e-10 - accuracy: 1.0000WARNING:tensorflow:Early stopping conditioned on metric `val_loss` which is not available. Available metrics are: loss,accuracy\n",
      "67898/67898 [==============================] - 5s 77us/sample - loss: 9.8290e-10 - accuracy: 1.0000\n"
     ]
    },
    {
     "data": {
      "text/plain": [
       "<tensorflow.python.keras.callbacks.History at 0x28a7a6f3c48>"
      ]
     },
     "execution_count": 11,
     "metadata": {},
     "output_type": "execute_result"
    },
    {
     "name": "stdout",
     "output_type": "stream",
     "text": [
      "accuracy_score 1.0\n",
      "recall_score 1.0\n",
      "precision_score 1.0\n",
      "f1_score 1.0\n",
      "\n",
      "K-fold cross validation Accuracy: [0.9997804837640821, 0.9999171636845593, 0.9999337221633086, 0.9999875729056203, 0.9999917152704135, 1.0, 1.0, 1.0, 1.0, 1.0]\n",
      "\n",
      "K-fold cross validation Recall: [0.992283578490475, 0.9975955758595816, 0.9992769342010123, 0.9995319447694828, 0.9997632575757576, 1.0, 1.0, 1.0, 1.0, 1.0]\n",
      "\n",
      "K-fold cross validation Precision: [0.9949226305609284, 0.9975955758595816, 0.9968742486174561, 0.9997659176029963, 0.9997632575757576, 1.0, 1.0, 1.0, 1.0, 1.0]\n",
      "\n",
      "K-fold cross validation F1-Score: [0.9936013521670892, 0.9975955758595816, 0.9980741454020222, 0.9996489174956115, 0.9997632575757576, 1.0, 1.0, 1.0, 1.0, 1.0]\n"
     ]
    }
   ],
   "source": [
    "# 교차검증 kfold\n",
    "from sklearn.model_selection import KFold\n",
    "\n",
    "# Accuracy, Precision, Recall, F1-Score\n",
    "from sklearn.metrics import accuracy_score, recall_score, precision_score, f1_score\n",
    "\n",
    "# Confusion Matrix, ROC Curve\n",
    "from sklearn.metrics import confusion_matrix, roc_auc_score\n",
    "\n",
    "# 최종 평가지표들 평균용\n",
    "accuracy, recall, precision, f1score, cm = [], [], [], [], []\n",
    "\n",
    "# 11. 교차검증 kfold - k.split - 10회 / K-Fold 객체 생성\n",
    "# kf = KFold(n_splits=10, shuffle=False, random_state=None) # KFold non shuffle 버전\n",
    "kf = KFold(n_splits=10, shuffle=True, random_state=None) # KFold non shuffle 버전\n",
    "\n",
    "for train, validation in kf.split(x_bc6_2, y_bc6_2):\n",
    "    model1 = models.Model(xInput, xOutput)\n",
    "    model1.compile(loss='binary_crossentropy', optimizer='rmsprop', metrics=['accuracy'])\n",
    "    model1.summary()\n",
    "    print('======Training stage======')\n",
    "    model1.fit(x_bc6_2[train],\n",
    "               y_bc6_2[train],\n",
    "               epochs = 10,\n",
    "               batch_size = 128,\n",
    "               callbacks=[early_stopping])\n",
    "    #k_accuracy = '%.4f' %(model1.evaluate(data_10000x[validation], data_10000y[validation])[1])\n",
    "\n",
    "# 12. 교차검증결과 predict - 검증셋들\n",
    "    # predict 값\n",
    "    k_pr = model1.predict(x_bc6_2[validation])\n",
    "    \n",
    "    # 테스트 predict 결과들 비교 (평가지표 보기위함)\n",
    "    pred = np.round(np.array(k_pr).flatten().tolist())\n",
    "    y_test = np.array(y_bc6_2[validation]).flatten().tolist()\n",
    "    \n",
    "# 13. 평가지표들 출력\n",
    "    ## 평가지표들\n",
    "    k_accuracy = float(accuracy_score(y_test, pred))\n",
    "    k_recall =  float(recall_score(y_test, pred))\n",
    "    k_precision = float(precision_score(y_test, pred))\n",
    "    k_f1_score = float(f1_score(y_test, pred))\n",
    "    #k_cm = float(confusion_matrix(y_test, pred))\n",
    "    \n",
    "    print('accuracy_score', k_accuracy)\n",
    "    print('recall_score', k_recall)\n",
    "    print('precision_score', k_precision)\n",
    "    print('f1_score', k_f1_score)\n",
    "    #print('\\nconfusion_matrix\\n', k_cm)\n",
    "\n",
    "    accuracy.append(k_accuracy)\n",
    "    recall.append(k_recall)\n",
    "    precision.append(k_precision)\n",
    "    f1score.append(k_f1_score)\n",
    "    #cm.append(k_cm)\n",
    "#    print('roc_curve 면적', roc_auc_score(y_test, pred))\n",
    "\n",
    "# 최종 결과지표\n",
    "print('\\nK-fold cross validation Accuracy: {}'.format(accuracy))\n",
    "print('\\nK-fold cross validation Recall: {}'.format(recall))\n",
    "print('\\nK-fold cross validation Precision: {}'.format(precision))\n",
    "print('\\nK-fold cross validation F1-Score: {}'.format(f1score))\n",
    "#print('\\nK-fold cross validation ConfusionMatrix: {}'.format(cm))"
   ]
  },
  {
   "cell_type": "markdown",
   "metadata": {},
   "source": [
    "## (9) 평가지표"
   ]
  },
  {
   "cell_type": "code",
   "execution_count": 12,
   "metadata": {},
   "outputs": [
    {
     "name": "stdout",
     "output_type": "stream",
     "text": [
      "10-Fold Cross_validation. Accuracy : 0.9999610657787985\n",
      "10-Fold Cross_validation. Recall : 0.998845129089631\n",
      "10-Fold Cross_validation. Precision : 0.9988921630216719\n",
      "10-Fold Cross_validation. F1-Score : 0.9988683248500063\n"
     ]
    }
   ],
   "source": [
    "print('10-Fold Cross_validation. Accuracy :', np.mean(accuracy))\n",
    "print('10-Fold Cross_validation. Recall :', np.mean(recall))\n",
    "print('10-Fold Cross_validation. Precision :', np.mean(precision))\n",
    "print('10-Fold Cross_validation. F1-Score :', np.mean(f1score))"
   ]
  },
  {
   "cell_type": "code",
   "execution_count": 13,
   "metadata": {},
   "outputs": [
    {
     "name": "stdout",
     "output_type": "stream",
     "text": [
      "save 완료\n"
     ]
    }
   ],
   "source": [
    "model1.save('gcc6_bin_core_s32_h48_o2.h5')\n",
    "print('save 완료')"
   ]
  },
  {
   "cell_type": "code",
   "execution_count": 14,
   "metadata": {},
   "outputs": [
    {
     "name": "stdout",
     "output_type": "stream",
     "text": [
      "2414144 2414144\n",
      "accuracy_score 1.0\n",
      "recall_score 1.0\n",
      "precision_score 1.0\n",
      "f1_score 1.0\n"
     ]
    }
   ],
   "source": [
    "from tensorflow.keras.models import load_model\n",
    "model_path = 'gcc6_bin_core_s32_h48_o2.h5'\n",
    "\n",
    "model = load_model(model_path)\n",
    "\n",
    "# 12. 교차검증결과 predict - 검증셋들\n",
    "# predict 값\n",
    "k_pr = model.predict(x_bc6_2)\n",
    "\n",
    "# 테스트 predict 결과들 비교 (평가지표 보기위함)\n",
    "pred = np.round(np.array(k_pr).flatten().tolist())\n",
    "y_test = np.array(y_bc6_2).flatten().tolist()\n",
    "print(len(pred), len(y_test))\n",
    "\n",
    "# 13. 평가지표들 출력\n",
    "## 평가지표들\n",
    "k_accuracy = float(accuracy_score(y_test, pred))\n",
    "k_recall =  float(recall_score(y_test, pred))\n",
    "k_precision = float(precision_score(y_test, pred))\n",
    "k_f1_score = float(f1_score(y_test, pred))\n",
    "#k_cm = float(confusion_matrix(y_test, pred))\n",
    "\n",
    "print('accuracy_score', k_accuracy)\n",
    "print('recall_score', k_recall)\n",
    "print('precision_score', k_precision)\n",
    "print('f1_score', k_f1_score)\n",
    "#print('\\nconfusion_matrix\\n', k_cm)"
   ]
  }
 ],
 "metadata": {
  "kernelspec": {
   "display_name": "Python 3",
   "language": "python",
   "name": "python3"
  },
  "language_info": {
   "codemirror_mode": {
    "name": "ipython",
    "version": 3
   },
   "file_extension": ".py",
   "mimetype": "text/x-python",
   "name": "python",
   "nbconvert_exporter": "python",
   "pygments_lexer": "ipython3",
   "version": "3.7.7"
  }
 },
 "nbformat": 4,
 "nbformat_minor": 4
}
