{
 "cells": [
  {
   "cell_type": "markdown",
   "metadata": {},
   "source": [
    "## RNN 모델 N-Byte 방식 (함수정보 포함 vs 미포함 => 1:1 비율)\n",
    "\n",
    "## (1) 데이터로드"
   ]
  },
  {
   "cell_type": "code",
   "execution_count": 1,
   "metadata": {},
   "outputs": [
    {
     "name": "stdout",
     "output_type": "stream",
     "text": [
      "(21033568, 2)\n",
      "reset_index 완료\n",
      "input data shape\n"
     ]
    },
    {
     "data": {
      "text/html": [
       "<div>\n",
       "<style scoped>\n",
       "    .dataframe tbody tr th:only-of-type {\n",
       "        vertical-align: middle;\n",
       "    }\n",
       "\n",
       "    .dataframe tbody tr th {\n",
       "        vertical-align: top;\n",
       "    }\n",
       "\n",
       "    .dataframe thead th {\n",
       "        text-align: right;\n",
       "    }\n",
       "</style>\n",
       "<table border=\"1\" class=\"dataframe\">\n",
       "  <thead>\n",
       "    <tr style=\"text-align: right;\">\n",
       "      <th></th>\n",
       "      <th>bin</th>\n",
       "      <th>label</th>\n",
       "    </tr>\n",
       "  </thead>\n",
       "  <tbody>\n",
       "    <tr>\n",
       "      <th>0</th>\n",
       "      <td>47</td>\n",
       "      <td>0</td>\n",
       "    </tr>\n",
       "    <tr>\n",
       "      <th>1</th>\n",
       "      <td>108</td>\n",
       "      <td>0</td>\n",
       "    </tr>\n",
       "    <tr>\n",
       "      <th>2</th>\n",
       "      <td>105</td>\n",
       "      <td>0</td>\n",
       "    </tr>\n",
       "    <tr>\n",
       "      <th>3</th>\n",
       "      <td>98</td>\n",
       "      <td>0</td>\n",
       "    </tr>\n",
       "    <tr>\n",
       "      <th>4</th>\n",
       "      <td>47</td>\n",
       "      <td>0</td>\n",
       "    </tr>\n",
       "  </tbody>\n",
       "</table>\n",
       "</div>"
      ],
      "text/plain": [
       "   bin  label\n",
       "0   47      0\n",
       "1  108      0\n",
       "2  105      0\n",
       "3   98      0\n",
       "4   47      0"
      ]
     },
     "execution_count": 1,
     "metadata": {},
     "output_type": "execute_result"
    }
   ],
   "source": [
    "# (1) 데이터로드\n",
    "import pandas as pd\n",
    "import numpy as np\n",
    "\n",
    "import warnings\n",
    "warnings.filterwarnings(action='ignore')\n",
    "\n",
    "# 여러개 쳐도 나오게\n",
    "from IPython.core.interactiveshell import InteractiveShell\n",
    "InteractiveShell.ast_node_interactivity = \"all\"\n",
    "\n",
    "# 파일읽기\n",
    "bin6_2 = pd.read_csv(\"data/\"+'answer_2.csv', index_col=0)\n",
    "print(bin6_2.shape)\n",
    "\n",
    "# reset_index (hex processing 하면서 값이 빠졌으니까 + n_gram 에서 index를 다루기 때문에)\n",
    "bin6_2.reset_index(inplace=True, drop=True)\n",
    "\n",
    "print('reset_index 완료')\n",
    "print('input data shape')\n",
    "bin6_2.head()"
   ]
  },
  {
   "cell_type": "code",
   "execution_count": 2,
   "metadata": {},
   "outputs": [
    {
     "name": "stdout",
     "output_type": "stream",
     "text": [
      "256\n",
      "0    21007896\n",
      "1       25672\n",
      "Name: label, dtype: int64\n"
     ]
    }
   ],
   "source": [
    "# (2-1) 데이터체크 1 - hex(16진수)가 256 label을 가져야 dummies 변환 가능 \n",
    "# 16진수 256개 종류가 있어서 pd.get_dummies 사용 가능.\n",
    "print(len(bin6_2['bin'].unique()))\n",
    "\n",
    "# (2-2) 데이터 체크 2 - 1, 0 비율 ==> 1이 함수의 갯수를 뜻함\n",
    "# 정답 데이터 1, 0 비율 확인  ==> 1이 함수의 갯수를 뜻함\n",
    "print(bin6_2['label'].value_counts())"
   ]
  },
  {
   "cell_type": "markdown",
   "metadata": {},
   "source": [
    "## (3) N Byte씩 자르기"
   ]
  },
  {
   "cell_type": "code",
   "execution_count": 3,
   "metadata": {},
   "outputs": [
    {
     "name": "stdout",
     "output_type": "stream",
     "text": [
      "821504\n",
      "나머지 0\n",
      "최종 길이 821504\n",
      "bin6_2 821504\n"
     ]
    }
   ],
   "source": [
    "idx_bin = bin6_2[bin6_2['label']==1].index  # 407, 474 ...\n",
    "ls_bin = list(idx_bin)\n",
    "\n",
    "# 최종 뽑을 행에 대한 index\n",
    "ls_idx_bin = []\n",
    "\n",
    "# n byte 자르기 방식\n",
    "left_idx, right_idx = 0, 32 # 3개씩\n",
    "\n",
    "# n byte 자르기\n",
    "for k in range(left_idx, right_idx):\n",
    "    ls_idx_bin.extend(list(idx_bin + k)) # index 형이라서 가능\n",
    "\n",
    "#ls_idx = list(set(ls_idx)) \n",
    "ls_idx_bin.sort() # 인덱스 정렬\n",
    "\n",
    "# 1차 index 해당범위 초과한 것들 없애기\n",
    "ls_idx_bin = list(filter(lambda x: x<len(bin6_2), ls_idx_bin))\n",
    "print(len(ls_idx_bin))\n",
    "\n",
    "# 2차 남은 index들 중 right_idx 나눈 나머지 없애기\n",
    "sub_bin = len(ls_idx_bin)%(right_idx)\n",
    "print('나머지', sub_bin)\n",
    "\n",
    "ls_idx_bin = ls_idx_bin[:len(ls_idx_bin)-sub_bin]\n",
    "print('최종 길이', len(ls_idx_bin))\n",
    "\n",
    "print('bin6_2', len(ls_idx_bin))\n",
    "\n",
    "# loc 로 수정필요\n",
    "bin6_2_Ngram = bin6_2.loc[ls_idx_bin,:].copy()"
   ]
  },
  {
   "cell_type": "markdown",
   "metadata": {},
   "source": [
    "## (4) false data 만들기"
   ]
  },
  {
   "cell_type": "code",
   "execution_count": 4,
   "metadata": {},
   "outputs": [
    {
     "name": "stdout",
     "output_type": "stream",
     "text": [
      "25672.0\n",
      "0 12775243\n",
      "1000 18322669\n",
      "2000 3498504\n",
      "3000 17832316\n",
      "4000 9857233\n",
      "5000 15859659\n",
      "6000 7275246\n",
      "7000 2757030\n",
      "8000 11707505\n",
      "9000 8168429\n",
      "10000 2460153\n",
      "11000 10931056\n",
      "12000 20978162\n",
      "13000 8146384\n",
      "14000 9287154\n",
      "15000 14231361\n",
      "16000 8774132\n",
      "17000 19378870\n",
      "18000 673061\n",
      "19000 279871\n",
      "20000 17855193\n",
      "21000 12647334\n",
      "22000 8625968\n",
      "23000 10702996\n",
      "24000 2258967\n",
      "25000 5434327\n",
      "완료\n",
      "25672\n"
     ]
    }
   ],
   "source": [
    "# false data 만들기 - False 데이터 랜덤 생성\n",
    "\n",
    "# 목표치\n",
    "goal_bin = len(bin6_2_Ngram)/right_idx\n",
    "count_bin = 0\n",
    "\n",
    "print(goal_bin)\n",
    "\n",
    "# 최종 데이터 Frame\n",
    "d_bin = pd.DataFrame(columns = bin6_2.columns)\n",
    "\n",
    "binutils_df = []\n",
    "# goal 에 도달할 때까지\n",
    "while True:\n",
    "    if (count_bin == goal_bin):\n",
    "            break\n",
    "    # 진행상황 살펴보기 위함\n",
    "            \n",
    "    # 랜덤 N 바이트씩 뽑음\n",
    "    # random index\n",
    "    random_idx_bin = np.random.randint(len(bin6_2)-right_idx)\n",
    "\n",
    "    if count_bin % 1000==0:\n",
    "        print(count_bin, end=' ')\n",
    "        print(random_idx_bin)\n",
    "\n",
    "    df_bin = bin6_2[random_idx_bin : random_idx_bin + right_idx]\n",
    "    \n",
    "    # 뽑은 index의 N 바이트 중에 1이 없는 경우만\n",
    "    if 1 not in df_bin['label'] and count_bin < goal_bin:\n",
    "        binutils_df.append(df_bin)\n",
    "        count_bin+=1\n",
    "\n",
    "print('완료')\n",
    "print(len(binutils_df))"
   ]
  },
  {
   "cell_type": "code",
   "execution_count": 5,
   "metadata": {},
   "outputs": [
    {
     "name": "stdout",
     "output_type": "stream",
     "text": [
      "25672\n",
      "25672\n"
     ]
    }
   ],
   "source": [
    "# True data와 False Data 같은지 체크\n",
    "print(len(binutils_df))\n",
    "print(bin6_2['label'].value_counts()[1])"
   ]
  },
  {
   "cell_type": "markdown",
   "metadata": {},
   "source": [
    "## (5) False Data + True Data 합치기"
   ]
  },
  {
   "cell_type": "code",
   "execution_count": 6,
   "metadata": {},
   "outputs": [
    {
     "data": {
      "text/plain": [
       "(1643008, 2)"
      ]
     },
     "execution_count": 6,
     "metadata": {},
     "output_type": "execute_result"
    }
   ],
   "source": [
    "f_data = pd.concat(binutils_df)\n",
    "final = pd.concat([f_data, bin6_2_Ngram])\n",
    "final.shape"
   ]
  },
  {
   "cell_type": "markdown",
   "metadata": {},
   "source": [
    "## (6) one hot encoding"
   ]
  },
  {
   "cell_type": "code",
   "execution_count": 7,
   "metadata": {},
   "outputs": [
    {
     "name": "stdout",
     "output_type": "stream",
     "text": [
      "원핫인코딩완료\n",
      "(1643008, 257)\n"
     ]
    }
   ],
   "source": [
    "# 훈련데이터 (gcc 최적화버전 0, 1, 2, 3 one hot encoding)\n",
    "bc6_2_onehot_Ngram = pd.get_dummies(final['bin'])\n",
    "bc6_2_onehot_Ngram = pd.concat([final['label'], bc6_2_onehot_Ngram], axis=1)\n",
    "\n",
    "print('원핫인코딩완료')\n",
    "print(bc6_2_onehot_Ngram.shape)"
   ]
  },
  {
   "cell_type": "code",
   "execution_count": 8,
   "metadata": {},
   "outputs": [
    {
     "name": "stdout",
     "output_type": "stream",
     "text": [
      "(1643008, 256) (1643008, 256)\n",
      "(51344, 32, 256) (51344, 32, 1)\n"
     ]
    }
   ],
   "source": [
    "# 훈련 데이터, 훈련 라벨\n",
    "x_bc6_2 = bc6_2_onehot_Ngram.iloc[:,1:].to_numpy()\n",
    "y_bc6_2 = bc6_2_onehot_Ngram['label'].to_numpy()\n",
    "print(x_bc6_2.shape, x_bc6_2.shape)\n",
    "\n",
    "x_bc6_2 = x_bc6_2.reshape(-1, right_idx, x_bc6_2.shape[1])\n",
    "y_bc6_2 = y_bc6_2.reshape(-1, right_idx, 1)\n",
    "\n",
    "print(x_bc6_2.shape, y_bc6_2.shape)"
   ]
  },
  {
   "cell_type": "code",
   "execution_count": 9,
   "metadata": {},
   "outputs": [
    {
     "name": "stdout",
     "output_type": "stream",
     "text": [
      "(51344, 32, 256) (51344, 32, 1)\n"
     ]
    }
   ],
   "source": [
    "# numpy 행, 열 섞기\n",
    "p = np.random.permutation(x_bc6_2.shape[0])\n",
    "\n",
    "x_bc6_2 = x_bc6_2[p]\n",
    "y_bc6_2 = y_bc6_2[p]\n",
    "\n",
    "print(x_bc6_2.shape, y_bc6_2.shape)"
   ]
  },
  {
   "cell_type": "markdown",
   "metadata": {},
   "source": [
    "## (7) 모델"
   ]
  },
  {
   "cell_type": "code",
   "execution_count": 10,
   "metadata": {},
   "outputs": [],
   "source": [
    "# (10) 양방향 LSTM 모델링 작업\n",
    "from tensorflow.keras import layers, models\n",
    "#from tf.keras.models import Model, Sequential\n",
    "#from tf.keras.layers import SimpleRNN, Input, Dense, LSTM\n",
    "#from tf.keras.layers import Bidirectional, TimeDistributed\n",
    "\n",
    "# 학습\n",
    "from tensorflow.keras.callbacks import EarlyStopping\n",
    "early_stopping = EarlyStopping(patience = 3) # 조기종료 콜백함수 정의\n",
    "\n",
    "xInput = layers.Input(batch_shape=(None,right_idx, 256)) \n",
    "xBiLstm = layers.Bidirectional(layers.LSTM(48, return_sequences=True, stateful=False), merge_mode = 'concat')(xInput)\n",
    "xOutput = layers.TimeDistributed(layers.Dense(1, activation ='sigmoid'))(xBiLstm) # 각 스텝에서 cost가 전송되고, 오류가 다음 step으로 전송됨."
   ]
  },
  {
   "cell_type": "markdown",
   "metadata": {},
   "source": [
    "## (8) 학습 - 10 KFold"
   ]
  },
  {
   "cell_type": "code",
   "execution_count": 11,
   "metadata": {
    "scrolled": false
   },
   "outputs": [
    {
     "name": "stdout",
     "output_type": "stream",
     "text": [
      "Model: \"model\"\n",
      "_________________________________________________________________\n",
      "Layer (type)                 Output Shape              Param #   \n",
      "=================================================================\n",
      "input_1 (InputLayer)         [(None, 32, 256)]         0         \n",
      "_________________________________________________________________\n",
      "bidirectional (Bidirectional (None, 32, 96)            117120    \n",
      "_________________________________________________________________\n",
      "time_distributed (TimeDistri (None, 32, 1)             97        \n",
      "=================================================================\n",
      "Total params: 117,217\n",
      "Trainable params: 117,217\n",
      "Non-trainable params: 0\n",
      "_________________________________________________________________\n",
      "======Training stage======\n",
      "Train on 46209 samples\n",
      "Epoch 1/10\n",
      "46080/46209 [============================>.] - ETA: 0s - loss: 0.0448 - accuracy: 0.9879WARNING:tensorflow:Early stopping conditioned on metric `val_loss` which is not available. Available metrics are: loss,accuracy\n",
      "46209/46209 [==============================] - 10s 218us/sample - loss: 0.0447 - accuracy: 0.9879\n",
      "Epoch 2/10\n",
      "45568/46209 [============================>.] - ETA: 0s - loss: 0.0061 - accuracy: 0.9985WARNING:tensorflow:Early stopping conditioned on metric `val_loss` which is not available. Available metrics are: loss,accuracy\n",
      "46209/46209 [==============================] - 3s 62us/sample - loss: 0.0060 - accuracy: 0.9986\n",
      "Epoch 3/10\n",
      "45568/46209 [============================>.] - ETA: 0s - loss: 0.0020 - accuracy: 0.9994WARNING:tensorflow:Early stopping conditioned on metric `val_loss` which is not available. Available metrics are: loss,accuracy\n",
      "46209/46209 [==============================] - 3s 62us/sample - loss: 0.0020 - accuracy: 0.9994\n",
      "Epoch 4/10\n",
      "45568/46209 [============================>.] - ETA: 0s - loss: 0.0013 - accuracy: 0.9996WARNING:tensorflow:Early stopping conditioned on metric `val_loss` which is not available. Available metrics are: loss,accuracy\n",
      "46209/46209 [==============================] - 3s 62us/sample - loss: 0.0013 - accuracy: 0.9996\n",
      "Epoch 5/10\n",
      "45696/46209 [============================>.] - ETA: 0s - loss: 0.0010 - accuracy: 0.9997WARNING:tensorflow:Early stopping conditioned on metric `val_loss` which is not available. Available metrics are: loss,accuracy\n",
      "46209/46209 [==============================] - 3s 62us/sample - loss: 0.0010 - accuracy: 0.9997\n",
      "Epoch 6/10\n",
      "45440/46209 [============================>.] - ETA: 0s - loss: 8.3578e-04 - accuracy: 0.9998WARNING:tensorflow:Early stopping conditioned on metric `val_loss` which is not available. Available metrics are: loss,accuracy\n",
      "46209/46209 [==============================] - 3s 62us/sample - loss: 8.2664e-04 - accuracy: 0.9998\n",
      "Epoch 7/10\n",
      "45696/46209 [============================>.] - ETA: 0s - loss: 7.2384e-04 - accuracy: 0.9998WARNING:tensorflow:Early stopping conditioned on metric `val_loss` which is not available. Available metrics are: loss,accuracy\n",
      "46209/46209 [==============================] - 3s 62us/sample - loss: 7.2302e-04 - accuracy: 0.9998\n",
      "Epoch 8/10\n",
      "45568/46209 [============================>.] - ETA: 0s - loss: 6.1319e-04 - accuracy: 0.9998WARNING:tensorflow:Early stopping conditioned on metric `val_loss` which is not available. Available metrics are: loss,accuracy\n",
      "46209/46209 [==============================] - 3s 62us/sample - loss: 6.0969e-04 - accuracy: 0.9998\n",
      "Epoch 9/10\n",
      "45696/46209 [============================>.] - ETA: 0s - loss: 5.3927e-04 - accuracy: 0.9998WARNING:tensorflow:Early stopping conditioned on metric `val_loss` which is not available. Available metrics are: loss,accuracy\n",
      "46209/46209 [==============================] - 3s 62us/sample - loss: 5.3937e-04 - accuracy: 0.9998\n",
      "Epoch 10/10\n",
      "45568/46209 [============================>.] - ETA: 0s - loss: 4.6070e-04 - accuracy: 0.9999WARNING:tensorflow:Early stopping conditioned on metric `val_loss` which is not available. Available metrics are: loss,accuracy\n",
      "46209/46209 [==============================] - 3s 62us/sample - loss: 4.6667e-04 - accuracy: 0.9999\n"
     ]
    },
    {
     "data": {
      "text/plain": [
       "<tensorflow.python.keras.callbacks.History at 0x2d27e86eac8>"
      ]
     },
     "execution_count": 11,
     "metadata": {},
     "output_type": "execute_result"
    },
    {
     "name": "stdout",
     "output_type": "stream",
     "text": [
      "accuracy_score 0.99972005842259\n",
      "recall_score 0.9939148073022313\n",
      "precision_score 0.9905660377358491\n",
      "f1_score 0.9922375970300371\n",
      "Model: \"model_1\"\n",
      "_________________________________________________________________\n",
      "Layer (type)                 Output Shape              Param #   \n",
      "=================================================================\n",
      "input_1 (InputLayer)         [(None, 32, 256)]         0         \n",
      "_________________________________________________________________\n",
      "bidirectional (Bidirectional (None, 32, 96)            117120    \n",
      "_________________________________________________________________\n",
      "time_distributed (TimeDistri (None, 32, 1)             97        \n",
      "=================================================================\n",
      "Total params: 117,217\n",
      "Trainable params: 117,217\n",
      "Non-trainable params: 0\n",
      "_________________________________________________________________\n",
      "======Training stage======\n",
      "Train on 46209 samples\n",
      "Epoch 1/10\n",
      "45440/46209 [============================>.] - ETA: 0s - loss: 4.9635e-04 - accuracy: 0.9999WARNING:tensorflow:Early stopping conditioned on metric `val_loss` which is not available. Available metrics are: loss,accuracy\n",
      "46209/46209 [==============================] - 6s 129us/sample - loss: 4.9587e-04 - accuracy: 0.9999\n",
      "Epoch 2/10\n",
      "45440/46209 [============================>.] - ETA: 0s - loss: 4.0920e-04 - accuracy: 0.9999WARNING:tensorflow:Early stopping conditioned on metric `val_loss` which is not available. Available metrics are: loss,accuracy\n",
      "46209/46209 [==============================] - 3s 62us/sample - loss: 4.0815e-04 - accuracy: 0.9999\n",
      "Epoch 3/10\n",
      "45568/46209 [============================>.] - ETA: 0s - loss: 3.7788e-04 - accuracy: 0.9999WARNING:tensorflow:Early stopping conditioned on metric `val_loss` which is not available. Available metrics are: loss,accuracy\n",
      "46209/46209 [==============================] - 3s 62us/sample - loss: 3.7426e-04 - accuracy: 0.9999\n",
      "Epoch 4/10\n",
      "45696/46209 [============================>.] - ETA: 0s - loss: 3.0506e-04 - accuracy: 0.9999WARNING:tensorflow:Early stopping conditioned on metric `val_loss` which is not available. Available metrics are: loss,accuracy\n",
      "46209/46209 [==============================] - 3s 62us/sample - loss: 3.0759e-04 - accuracy: 0.9999\n",
      "Epoch 5/10\n",
      "45568/46209 [============================>.] - ETA: 0s - loss: 2.7029e-04 - accuracy: 0.9999WARNING:tensorflow:Early stopping conditioned on metric `val_loss` which is not available. Available metrics are: loss,accuracy\n",
      "46209/46209 [==============================] - 3s 62us/sample - loss: 2.7150e-04 - accuracy: 0.9999\n",
      "Epoch 6/10\n",
      "45568/46209 [============================>.] - ETA: 0s - loss: 2.3798e-04 - accuracy: 0.9999WARNING:tensorflow:Early stopping conditioned on metric `val_loss` which is not available. Available metrics are: loss,accuracy\n",
      "46209/46209 [==============================] - 3s 62us/sample - loss: 2.3894e-04 - accuracy: 0.9999\n",
      "Epoch 7/10\n",
      "45568/46209 [============================>.] - ETA: 0s - loss: 2.0721e-04 - accuracy: 0.9999WARNING:tensorflow:Early stopping conditioned on metric `val_loss` which is not available. Available metrics are: loss,accuracy\n",
      "46209/46209 [==============================] - 3s 62us/sample - loss: 2.1008e-04 - accuracy: 0.9999\n",
      "Epoch 8/10\n",
      "46208/46209 [============================>.] - ETA: 0s - loss: 1.8377e-04 - accuracy: 0.9999WARNING:tensorflow:Early stopping conditioned on metric `val_loss` which is not available. Available metrics are: loss,accuracy\n",
      "46209/46209 [==============================] - 3s 62us/sample - loss: 1.8377e-04 - accuracy: 0.9999\n",
      "Epoch 9/10\n",
      "45696/46209 [============================>.] - ETA: 0s - loss: 1.5465e-04 - accuracy: 1.0000WARNING:tensorflow:Early stopping conditioned on metric `val_loss` which is not available. Available metrics are: loss,accuracy\n",
      "46209/46209 [==============================] - 3s 62us/sample - loss: 1.5377e-04 - accuracy: 1.0000\n",
      "Epoch 10/10\n",
      "45952/46209 [============================>.] - ETA: 0s - loss: 1.1889e-04 - accuracy: 1.0000WARNING:tensorflow:Early stopping conditioned on metric `val_loss` which is not available. Available metrics are: loss,accuracy\n",
      "46209/46209 [==============================] - 3s 63us/sample - loss: 1.2304e-04 - accuracy: 1.0000\n"
     ]
    },
    {
     "data": {
      "text/plain": [
       "<tensorflow.python.keras.callbacks.History at 0x2d250bf5788>"
      ]
     },
     "execution_count": 11,
     "metadata": {},
     "output_type": "execute_result"
    },
    {
     "name": "stdout",
     "output_type": "stream",
     "text": [
      "accuracy_score 0.9998235150925024\n",
      "recall_score 0.9951640759930915\n",
      "precision_score 0.9948204419889503\n",
      "f1_score 0.9949922293213607\n",
      "Model: \"model_2\"\n",
      "_________________________________________________________________\n",
      "Layer (type)                 Output Shape              Param #   \n",
      "=================================================================\n",
      "input_1 (InputLayer)         [(None, 32, 256)]         0         \n",
      "_________________________________________________________________\n",
      "bidirectional (Bidirectional (None, 32, 96)            117120    \n",
      "_________________________________________________________________\n",
      "time_distributed (TimeDistri (None, 32, 1)             97        \n",
      "=================================================================\n",
      "Total params: 117,217\n",
      "Trainable params: 117,217\n",
      "Non-trainable params: 0\n",
      "_________________________________________________________________\n",
      "======Training stage======\n",
      "Train on 46209 samples\n",
      "Epoch 1/10\n",
      "46208/46209 [============================>.] - ETA: 0s - loss: 2.0232e-04 - accuracy: 0.9999WARNING:tensorflow:Early stopping conditioned on metric `val_loss` which is not available. Available metrics are: loss,accuracy\n",
      "46209/46209 [==============================] - 5s 117us/sample - loss: 2.0232e-04 - accuracy: 0.9999\n",
      "Epoch 2/10\n",
      "45696/46209 [============================>.] - ETA: 0s - loss: 1.4518e-04 - accuracy: 1.0000WARNING:tensorflow:Early stopping conditioned on metric `val_loss` which is not available. Available metrics are: loss,accuracy\n",
      "46209/46209 [==============================] - 3s 63us/sample - loss: 1.4445e-04 - accuracy: 1.0000\n",
      "Epoch 3/10\n",
      "45440/46209 [============================>.] - ETA: 0s - loss: 1.1928e-04 - accuracy: 1.0000WARNING:tensorflow:Early stopping conditioned on metric `val_loss` which is not available. Available metrics are: loss,accuracy\n",
      "46209/46209 [==============================] - 3s 62us/sample - loss: 1.2119e-04 - accuracy: 1.0000\n",
      "Epoch 4/10\n",
      "45696/46209 [============================>.] - ETA: 0s - loss: 9.2468e-05 - accuracy: 1.0000WARNING:tensorflow:Early stopping conditioned on metric `val_loss` which is not available. Available metrics are: loss,accuracy\n",
      "46209/46209 [==============================] - 3s 62us/sample - loss: 9.6741e-05 - accuracy: 1.0000\n",
      "Epoch 5/10\n",
      "45568/46209 [============================>.] - ETA: 0s - loss: 9.1570e-05 - accuracy: 1.0000WARNING:tensorflow:Early stopping conditioned on metric `val_loss` which is not available. Available metrics are: loss,accuracy\n",
      "46209/46209 [==============================] - 3s 63us/sample - loss: 9.0800e-05 - accuracy: 1.0000\n",
      "Epoch 6/10\n",
      "45568/46209 [============================>.] - ETA: 0s - loss: 6.8704e-05 - accuracy: 1.0000WARNING:tensorflow:Early stopping conditioned on metric `val_loss` which is not available. Available metrics are: loss,accuracy\n",
      "46209/46209 [==============================] - 3s 63us/sample - loss: 6.8741e-05 - accuracy: 1.0000\n",
      "Epoch 7/10\n",
      "45824/46209 [============================>.] - ETA: 0s - loss: 5.9267e-05 - accuracy: 1.0000WARNING:tensorflow:Early stopping conditioned on metric `val_loss` which is not available. Available metrics are: loss,accuracy\n",
      "46209/46209 [==============================] - 3s 62us/sample - loss: 5.9013e-05 - accuracy: 1.0000\n",
      "Epoch 8/10\n",
      "45952/46209 [============================>.] - ETA: 0s - loss: 4.1615e-05 - accuracy: 1.0000WARNING:tensorflow:Early stopping conditioned on metric `val_loss` which is not available. Available metrics are: loss,accuracy\n",
      "46209/46209 [==============================] - 3s 63us/sample - loss: 4.1403e-05 - accuracy: 1.0000\n",
      "Epoch 9/10\n",
      "45824/46209 [============================>.] - ETA: 0s - loss: 4.2606e-05 - accuracy: 1.0000WARNING:tensorflow:Early stopping conditioned on metric `val_loss` which is not available. Available metrics are: loss,accuracy\n",
      "46209/46209 [==============================] - 3s 64us/sample - loss: 4.2309e-05 - accuracy: 1.0000\n",
      "Epoch 10/10\n",
      "45440/46209 [============================>.] - ETA: 0s - loss: 3.6254e-05 - accuracy: 1.0000WARNING:tensorflow:Early stopping conditioned on metric `val_loss` which is not available. Available metrics are: loss,accuracy\n",
      "46209/46209 [==============================] - 3s 62us/sample - loss: 3.7904e-05 - accuracy: 1.0000\n"
     ]
    },
    {
     "data": {
      "text/plain": [
       "<tensorflow.python.keras.callbacks.History at 0x2d250aa1a08>"
      ]
     },
     "execution_count": 11,
     "metadata": {},
     "output_type": "execute_result"
    },
    {
     "name": "stdout",
     "output_type": "stream",
     "text": [
      "accuracy_score 0.9999452288218111\n",
      "recall_score 0.9996564754379939\n",
      "precision_score 0.9972583961617546\n",
      "f1_score 0.9984559958826557\n",
      "Model: \"model_3\"\n",
      "_________________________________________________________________\n",
      "Layer (type)                 Output Shape              Param #   \n",
      "=================================================================\n",
      "input_1 (InputLayer)         [(None, 32, 256)]         0         \n",
      "_________________________________________________________________\n",
      "bidirectional (Bidirectional (None, 32, 96)            117120    \n",
      "_________________________________________________________________\n",
      "time_distributed (TimeDistri (None, 32, 1)             97        \n",
      "=================================================================\n",
      "Total params: 117,217\n",
      "Trainable params: 117,217\n",
      "Non-trainable params: 0\n",
      "_________________________________________________________________\n",
      "======Training stage======\n",
      "Train on 46209 samples\n",
      "Epoch 1/10\n",
      "46080/46209 [============================>.] - ETA: 0s - loss: 4.5504e-05 - accuracy: 1.0000WARNING:tensorflow:Early stopping conditioned on metric `val_loss` which is not available. Available metrics are: loss,accuracy\n",
      "46209/46209 [==============================] - 5s 115us/sample - loss: 4.5414e-05 - accuracy: 1.0000\n",
      "Epoch 2/10\n",
      "45440/46209 [============================>.] - ETA: 0s - loss: 2.5563e-05 - accuracy: 1.0000WARNING:tensorflow:Early stopping conditioned on metric `val_loss` which is not available. Available metrics are: loss,accuracy\n",
      "46209/46209 [==============================] - 3s 62us/sample - loss: 2.5220e-05 - accuracy: 1.0000\n",
      "Epoch 3/10\n",
      "45440/46209 [============================>.] - ETA: 0s - loss: 3.4960e-05 - accuracy: 1.0000WARNING:tensorflow:Early stopping conditioned on metric `val_loss` which is not available. Available metrics are: loss,accuracy\n",
      "46209/46209 [==============================] - 3s 62us/sample - loss: 3.4833e-05 - accuracy: 1.0000\n",
      "Epoch 4/10\n",
      "46208/46209 [============================>.] - ETA: 0s - loss: 2.0676e-05 - accuracy: 1.0000WARNING:tensorflow:Early stopping conditioned on metric `val_loss` which is not available. Available metrics are: loss,accuracy\n",
      "46209/46209 [==============================] - 3s 62us/sample - loss: 2.0676e-05 - accuracy: 1.0000\n",
      "Epoch 5/10\n",
      "45696/46209 [============================>.] - ETA: 0s - loss: 1.7310e-05 - accuracy: 1.0000WARNING:tensorflow:Early stopping conditioned on metric `val_loss` which is not available. Available metrics are: loss,accuracy\n",
      "46209/46209 [==============================] - 3s 62us/sample - loss: 1.7640e-05 - accuracy: 1.0000\n",
      "Epoch 6/10\n",
      "45824/46209 [============================>.] - ETA: 0s - loss: 1.3217e-05 - accuracy: 1.0000WARNING:tensorflow:Early stopping conditioned on metric `val_loss` which is not available. Available metrics are: loss,accuracy\n",
      "46209/46209 [==============================] - 3s 62us/sample - loss: 1.3740e-05 - accuracy: 1.0000\n",
      "Epoch 7/10\n",
      "45440/46209 [============================>.] - ETA: 0s - loss: 1.3395e-05 - accuracy: 1.0000WARNING:tensorflow:Early stopping conditioned on metric `val_loss` which is not available. Available metrics are: loss,accuracy\n",
      "46209/46209 [==============================] - 3s 64us/sample - loss: 1.3181e-05 - accuracy: 1.0000\n",
      "Epoch 8/10\n",
      "45824/46209 [============================>.] - ETA: 0s - loss: 1.2153e-05 - accuracy: 1.0000WARNING:tensorflow:Early stopping conditioned on metric `val_loss` which is not available. Available metrics are: loss,accuracy\n",
      "46209/46209 [==============================] - 3s 63us/sample - loss: 1.2070e-05 - accuracy: 1.0000\n",
      "Epoch 9/10\n",
      "45440/46209 [============================>.] - ETA: 0s - loss: 1.8594e-05 - accuracy: 1.0000WARNING:tensorflow:Early stopping conditioned on metric `val_loss` which is not available. Available metrics are: loss,accuracy\n",
      "46209/46209 [==============================] - 3s 62us/sample - loss: 1.8295e-05 - accuracy: 1.0000\n",
      "Epoch 10/10\n",
      "45440/46209 [============================>.] - ETA: 0s - loss: 8.1756e-06 - accuracy: 1.0000WARNING:tensorflow:Early stopping conditioned on metric `val_loss` which is not available. Available metrics are: loss,accuracy\n",
      "46209/46209 [==============================] - 3s 62us/sample - loss: 8.0743e-06 - accuracy: 1.0000\n"
     ]
    },
    {
     "data": {
      "text/plain": [
       "<tensorflow.python.keras.callbacks.History at 0x2d251aa7f08>"
      ]
     },
     "execution_count": 11,
     "metadata": {},
     "output_type": "execute_result"
    },
    {
     "name": "stdout",
     "output_type": "stream",
     "text": [
      "accuracy_score 0.9999878286270691\n",
      "recall_score 0.9996436208125445\n",
      "precision_score 0.9996436208125445\n",
      "f1_score 0.9996436208125445\n",
      "Model: \"model_4\"\n",
      "_________________________________________________________________\n",
      "Layer (type)                 Output Shape              Param #   \n",
      "=================================================================\n",
      "input_1 (InputLayer)         [(None, 32, 256)]         0         \n",
      "_________________________________________________________________\n",
      "bidirectional (Bidirectional (None, 32, 96)            117120    \n",
      "_________________________________________________________________\n",
      "time_distributed (TimeDistri (None, 32, 1)             97        \n",
      "=================================================================\n",
      "Total params: 117,217\n",
      "Trainable params: 117,217\n",
      "Non-trainable params: 0\n",
      "_________________________________________________________________\n",
      "======Training stage======\n",
      "Train on 46210 samples\n",
      "Epoch 1/10\n",
      "46080/46210 [============================>.] - ETA: 0s - loss: 2.5888e-05 - accuracy: 1.0000WARNING:tensorflow:Early stopping conditioned on metric `val_loss` which is not available. Available metrics are: loss,accuracy\n",
      "46210/46210 [==============================] - 6s 140us/sample - loss: 2.5817e-05 - accuracy: 1.0000\n",
      "Epoch 2/10\n",
      "45440/46210 [============================>.] - ETA: 0s - loss: 1.9267e-05 - accuracy: 1.0000WARNING:tensorflow:Early stopping conditioned on metric `val_loss` which is not available. Available metrics are: loss,accuracy\n",
      "46210/46210 [==============================] - 3s 65us/sample - loss: 1.8974e-05 - accuracy: 1.0000\n",
      "Epoch 3/10\n",
      "45440/46210 [============================>.] - ETA: 0s - loss: 1.2319e-05 - accuracy: 1.0000WARNING:tensorflow:Early stopping conditioned on metric `val_loss` which is not available. Available metrics are: loss,accuracy\n",
      "46210/46210 [==============================] - 3s 62us/sample - loss: 1.2171e-05 - accuracy: 1.0000\n",
      "Epoch 4/10\n",
      "45952/46210 [============================>.] - ETA: 0s - loss: 8.2208e-06 - accuracy: 1.0000WARNING:tensorflow:Early stopping conditioned on metric `val_loss` which is not available. Available metrics are: loss,accuracy\n",
      "46210/46210 [==============================] - 3s 63us/sample - loss: 8.1793e-06 - accuracy: 1.0000\n",
      "Epoch 5/10\n",
      "46208/46210 [============================>.] - ETA: 0s - loss: 6.0619e-06 - accuracy: 1.0000WARNING:tensorflow:Early stopping conditioned on metric `val_loss` which is not available. Available metrics are: loss,accuracy\n",
      "46210/46210 [==============================] - 3s 62us/sample - loss: 6.0616e-06 - accuracy: 1.0000\n",
      "Epoch 6/10\n",
      "45696/46210 [============================>.] - ETA: 0s - loss: 8.0504e-06 - accuracy: 1.0000WARNING:tensorflow:Early stopping conditioned on metric `val_loss` which is not available. Available metrics are: loss,accuracy\n",
      "46210/46210 [==============================] - 3s 64us/sample - loss: 7.9683e-06 - accuracy: 1.0000\n",
      "Epoch 7/10\n",
      "45440/46210 [============================>.] - ETA: 0s - loss: 2.7146e-06 - accuracy: 1.0000WARNING:tensorflow:Early stopping conditioned on metric `val_loss` which is not available. Available metrics are: loss,accuracy\n",
      "46210/46210 [==============================] - 3s 62us/sample - loss: 2.6715e-06 - accuracy: 1.0000\n",
      "Epoch 8/10\n",
      "45696/46210 [============================>.] - ETA: 0s - loss: 3.9487e-06 - accuracy: 1.0000WARNING:tensorflow:Early stopping conditioned on metric `val_loss` which is not available. Available metrics are: loss,accuracy\n",
      "46210/46210 [==============================] - 3s 62us/sample - loss: 3.9088e-06 - accuracy: 1.0000\n",
      "Epoch 9/10\n",
      "45696/46210 [============================>.] - ETA: 0s - loss: 3.4705e-06 - accuracy: 1.0000WARNING:tensorflow:Early stopping conditioned on metric `val_loss` which is not available. Available metrics are: loss,accuracy\n",
      "46210/46210 [==============================] - 3s 62us/sample - loss: 3.4351e-06 - accuracy: 1.0000\n",
      "Epoch 10/10\n",
      "45568/46210 [============================>.] - ETA: 0s - loss: 8.9802e-06 - accuracy: 1.0000WARNING:tensorflow:Early stopping conditioned on metric `val_loss` which is not available. Available metrics are: loss,accuracy\n",
      "46210/46210 [==============================] - 3s 62us/sample - loss: 8.8665e-06 - accuracy: 1.0000\n"
     ]
    },
    {
     "data": {
      "text/plain": [
       "<tensorflow.python.keras.callbacks.History at 0x2d2515bcd88>"
      ]
     },
     "execution_count": 11,
     "metadata": {},
     "output_type": "execute_result"
    },
    {
     "name": "stdout",
     "output_type": "stream",
     "text": [
      "accuracy_score 0.9999939131281652\n",
      "recall_score 0.9996596324029953\n",
      "precision_score 1.0\n",
      "f1_score 0.9998297872340426\n",
      "Model: \"model_5\"\n",
      "_________________________________________________________________\n",
      "Layer (type)                 Output Shape              Param #   \n",
      "=================================================================\n",
      "input_1 (InputLayer)         [(None, 32, 256)]         0         \n",
      "_________________________________________________________________\n",
      "bidirectional (Bidirectional (None, 32, 96)            117120    \n",
      "_________________________________________________________________\n",
      "time_distributed (TimeDistri (None, 32, 1)             97        \n",
      "=================================================================\n",
      "Total params: 117,217\n",
      "Trainable params: 117,217\n",
      "Non-trainable params: 0\n",
      "_________________________________________________________________\n",
      "======Training stage======\n",
      "Train on 46210 samples\n",
      "Epoch 1/10\n",
      "45952/46210 [============================>.] - ETA: 0s - loss: 1.5151e-05 - accuracy: 1.0000WARNING:tensorflow:Early stopping conditioned on metric `val_loss` which is not available. Available metrics are: loss,accuracy\n",
      "46210/46210 [==============================] - 5s 118us/sample - loss: 1.5069e-05 - accuracy: 1.0000\n",
      "Epoch 2/10\n",
      "45568/46210 [============================>.] - ETA: 0s - loss: 8.1265e-06 - accuracy: 1.0000WARNING:tensorflow:Early stopping conditioned on metric `val_loss` which is not available. Available metrics are: loss,accuracy\n",
      "46210/46210 [==============================] - 3s 62us/sample - loss: 8.0164e-06 - accuracy: 1.0000\n",
      "Epoch 3/10\n",
      "46208/46210 [============================>.] - ETA: 0s - loss: 6.0960e-06 - accuracy: 1.0000WARNING:tensorflow:Early stopping conditioned on metric `val_loss` which is not available. Available metrics are: loss,accuracy\n",
      "46210/46210 [==============================] - 3s 63us/sample - loss: 6.0958e-06 - accuracy: 1.0000\n",
      "Epoch 4/10\n",
      "45440/46210 [============================>.] - ETA: 0s - loss: 4.4323e-06 - accuracy: 1.0000WARNING:tensorflow:Early stopping conditioned on metric `val_loss` which is not available. Available metrics are: loss,accuracy\n",
      "46210/46210 [==============================] - 3s 63us/sample - loss: 4.3598e-06 - accuracy: 1.0000\n",
      "Epoch 5/10\n",
      "45824/46210 [============================>.] - ETA: 0s - loss: 2.3938e-06 - accuracy: 1.0000WARNING:tensorflow:Early stopping conditioned on metric `val_loss` which is not available. Available metrics are: loss,accuracy\n",
      "46210/46210 [==============================] - 3s 63us/sample - loss: 2.3740e-06 - accuracy: 1.0000\n",
      "Epoch 6/10\n",
      "45568/46210 [============================>.] - ETA: 0s - loss: 2.5777e-06 - accuracy: 1.0000WARNING:tensorflow:Early stopping conditioned on metric `val_loss` which is not available. Available metrics are: loss,accuracy\n",
      "46210/46210 [==============================] - 3s 62us/sample - loss: 2.5474e-06 - accuracy: 1.0000\n",
      "Epoch 7/10\n",
      "45696/46210 [============================>.] - ETA: 0s - loss: 9.6552e-06 - accuracy: 1.0000WARNING:tensorflow:Early stopping conditioned on metric `val_loss` which is not available. Available metrics are: loss,accuracy\n",
      "46210/46210 [==============================] - 3s 62us/sample - loss: 9.5525e-06 - accuracy: 1.0000\n",
      "Epoch 8/10\n",
      "45696/46210 [============================>.] - ETA: 0s - loss: 7.2258e-06 - accuracy: 1.0000WARNING:tensorflow:Early stopping conditioned on metric `val_loss` which is not available. Available metrics are: loss,accuracy\n",
      "46210/46210 [==============================] - 3s 62us/sample - loss: 7.1463e-06 - accuracy: 1.0000\n",
      "Epoch 9/10\n",
      "45824/46210 [============================>.] - ETA: 0s - loss: 2.5903e-06 - accuracy: 1.0000WARNING:tensorflow:Early stopping conditioned on metric `val_loss` which is not available. Available metrics are: loss,accuracy\n",
      "46210/46210 [==============================] - 3s 62us/sample - loss: 2.5691e-06 - accuracy: 1.0000\n",
      "Epoch 10/10\n",
      "45440/46210 [============================>.] - ETA: 0s - loss: 1.5517e-06 - accuracy: 1.0000WARNING:tensorflow:Early stopping conditioned on metric `val_loss` which is not available. Available metrics are: loss,accuracy\n",
      "46210/46210 [==============================] - 3s 62us/sample - loss: 1.5288e-06 - accuracy: 1.0000\n"
     ]
    },
    {
     "data": {
      "text/plain": [
       "<tensorflow.python.keras.callbacks.History at 0x2d255dcb508>"
      ]
     },
     "execution_count": 11,
     "metadata": {},
     "output_type": "execute_result"
    },
    {
     "name": "stdout",
     "output_type": "stream",
     "text": [
      "accuracy_score 1.0\n",
      "recall_score 1.0\n",
      "precision_score 1.0\n",
      "f1_score 1.0\n",
      "Model: \"model_6\"\n",
      "_________________________________________________________________\n",
      "Layer (type)                 Output Shape              Param #   \n",
      "=================================================================\n",
      "input_1 (InputLayer)         [(None, 32, 256)]         0         \n",
      "_________________________________________________________________\n",
      "bidirectional (Bidirectional (None, 32, 96)            117120    \n",
      "_________________________________________________________________\n",
      "time_distributed (TimeDistri (None, 32, 1)             97        \n",
      "=================================================================\n",
      "Total params: 117,217\n",
      "Trainable params: 117,217\n",
      "Non-trainable params: 0\n",
      "_________________________________________________________________\n",
      "======Training stage======\n",
      "Train on 46210 samples\n",
      "Epoch 1/10\n",
      "46080/46210 [============================>.] - ETA: 0s - loss: 1.2339e-06 - accuracy: 1.0000WARNING:tensorflow:Early stopping conditioned on metric `val_loss` which is not available. Available metrics are: loss,accuracy\n",
      "46210/46210 [==============================] - 7s 157us/sample - loss: 1.2305e-06 - accuracy: 1.0000\n",
      "Epoch 2/10\n",
      "46208/46210 [============================>.] - ETA: 0s - loss: 4.1857e-06 - accuracy: 1.0000WARNING:tensorflow:Early stopping conditioned on metric `val_loss` which is not available. Available metrics are: loss,accuracy\n",
      "46210/46210 [==============================] - 3s 63us/sample - loss: 4.1855e-06 - accuracy: 1.0000\n",
      "Epoch 3/10\n",
      "45696/46210 [============================>.] - ETA: 0s - loss: 4.5661e-07 - accuracy: 1.0000WARNING:tensorflow:Early stopping conditioned on metric `val_loss` which is not available. Available metrics are: loss,accuracy\n",
      "46210/46210 [==============================] - 3s 64us/sample - loss: 4.5204e-07 - accuracy: 1.0000\n",
      "Epoch 4/10\n",
      "45824/46210 [============================>.] - ETA: 0s - loss: 4.6303e-07 - accuracy: 1.0000WARNING:tensorflow:Early stopping conditioned on metric `val_loss` which is not available. Available metrics are: loss,accuracy\n",
      "46210/46210 [==============================] - 3s 63us/sample - loss: 6.1309e-07 - accuracy: 1.0000\n",
      "Epoch 5/10\n",
      "45696/46210 [============================>.] - ETA: 0s - loss: 7.0602e-06 - accuracy: 1.0000WARNING:tensorflow:Early stopping conditioned on metric `val_loss` which is not available. Available metrics are: loss,accuracy\n",
      "46210/46210 [==============================] - 3s 67us/sample - loss: 6.9833e-06 - accuracy: 1.0000\n",
      "Epoch 6/10\n",
      "46208/46210 [============================>.] - ETA: 0s - loss: 2.2803e-06 - accuracy: 1.0000WARNING:tensorflow:Early stopping conditioned on metric `val_loss` which is not available. Available metrics are: loss,accuracy\n",
      "46210/46210 [==============================] - 4s 78us/sample - loss: 2.2802e-06 - accuracy: 1.0000\n",
      "Epoch 7/10\n",
      "45952/46210 [============================>.] - ETA: 0s - loss: 4.0108e-06 - accuracy: 1.0000WARNING:tensorflow:Early stopping conditioned on metric `val_loss` which is not available. Available metrics are: loss,accuracy\n",
      "46210/46210 [==============================] - 3s 72us/sample - loss: 3.9885e-06 - accuracy: 1.0000\n",
      "Epoch 8/10\n",
      "46208/46210 [============================>.] - ETA: 0s - loss: 9.8330e-07 - accuracy: 1.0000WARNING:tensorflow:Early stopping conditioned on metric `val_loss` which is not available. Available metrics are: loss,accuracy\n",
      "46210/46210 [==============================] - 3s 70us/sample - loss: 9.8326e-07 - accuracy: 1.0000\n",
      "Epoch 9/10\n",
      "45952/46210 [============================>.] - ETA: 0s - loss: 2.2740e-06 - accuracy: 1.0000WARNING:tensorflow:Early stopping conditioned on metric `val_loss` which is not available. Available metrics are: loss,accuracy\n",
      "46210/46210 [==============================] - 3s 71us/sample - loss: 2.2614e-06 - accuracy: 1.0000\n",
      "Epoch 10/10\n",
      "45568/46210 [============================>.] - ETA: 0s - loss: 1.2097e-07 - accuracy: 1.0000WARNING:tensorflow:Early stopping conditioned on metric `val_loss` which is not available. Available metrics are: loss,accuracy\n",
      "46210/46210 [==============================] - 3s 70us/sample - loss: 1.1944e-07 - accuracy: 1.0000\n"
     ]
    },
    {
     "data": {
      "text/plain": [
       "<tensorflow.python.keras.callbacks.History at 0x2d26dab2a48>"
      ]
     },
     "execution_count": 11,
     "metadata": {},
     "output_type": "execute_result"
    },
    {
     "name": "stdout",
     "output_type": "stream",
     "text": [
      "accuracy_score 1.0\n",
      "recall_score 1.0\n",
      "precision_score 1.0\n",
      "f1_score 1.0\n",
      "Model: \"model_7\"\n",
      "_________________________________________________________________\n",
      "Layer (type)                 Output Shape              Param #   \n",
      "=================================================================\n",
      "input_1 (InputLayer)         [(None, 32, 256)]         0         \n",
      "_________________________________________________________________\n",
      "bidirectional (Bidirectional (None, 32, 96)            117120    \n",
      "_________________________________________________________________\n",
      "time_distributed (TimeDistri (None, 32, 1)             97        \n",
      "=================================================================\n",
      "Total params: 117,217\n",
      "Trainable params: 117,217\n",
      "Non-trainable params: 0\n",
      "_________________________________________________________________\n",
      "======Training stage======\n",
      "Train on 46210 samples\n",
      "Epoch 1/10\n",
      "45952/46210 [============================>.] - ETA: 0s - loss: 8.4544e-07 - accuracy: 1.0000WARNING:tensorflow:Early stopping conditioned on metric `val_loss` which is not available. Available metrics are: loss,accuracy\n",
      "46210/46210 [==============================] - 6s 134us/sample - loss: 8.4090e-07 - accuracy: 1.0000\n",
      "Epoch 2/10\n",
      "46208/46210 [============================>.] - ETA: 0s - loss: 1.1369e-07 - accuracy: 1.0000WARNING:tensorflow:Early stopping conditioned on metric `val_loss` which is not available. Available metrics are: loss,accuracy\n",
      "46210/46210 [==============================] - 3s 70us/sample - loss: 1.1369e-07 - accuracy: 1.0000\n",
      "Epoch 3/10\n",
      "46208/46210 [============================>.] - ETA: 0s - loss: 7.5893e-07 - accuracy: 1.0000WARNING:tensorflow:Early stopping conditioned on metric `val_loss` which is not available. Available metrics are: loss,accuracy\n",
      "46210/46210 [==============================] - 3s 69us/sample - loss: 7.5889e-07 - accuracy: 1.0000\n",
      "Epoch 4/10\n",
      "46080/46210 [============================>.] - ETA: 0s - loss: 5.2350e-07 - accuracy: 1.0000WARNING:tensorflow:Early stopping conditioned on metric `val_loss` which is not available. Available metrics are: loss,accuracy\n",
      "46210/46210 [==============================] - 3s 71us/sample - loss: 5.2203e-07 - accuracy: 1.0000\n",
      "Epoch 5/10\n",
      "45824/46210 [============================>.] - ETA: 0s - loss: 7.6834e-09 - accuracy: 1.0000WARNING:tensorflow:Early stopping conditioned on metric `val_loss` which is not available. Available metrics are: loss,accuracy\n",
      "46210/46210 [==============================] - 3s 71us/sample - loss: 7.7197e-09 - accuracy: 1.0000\n",
      "Epoch 6/10\n",
      "46208/46210 [============================>.] - ETA: 0s - loss: 4.7299e-09 - accuracy: 1.0000WARNING:tensorflow:Early stopping conditioned on metric `val_loss` which is not available. Available metrics are: loss,accuracy\n",
      "46210/46210 [==============================] - 3s 70us/sample - loss: 4.7297e-09 - accuracy: 1.0000\n",
      "Epoch 7/10\n",
      "46080/46210 [============================>.] - ETA: 0s - loss: 4.1545e-09 - accuracy: 1.0000WARNING:tensorflow:Early stopping conditioned on metric `val_loss` which is not available. Available metrics are: loss,accuracy\n",
      "46210/46210 [==============================] - 3s 71us/sample - loss: 4.1521e-09 - accuracy: 1.0000\n",
      "Epoch 8/10\n",
      "45824/46210 [============================>.] - ETA: 0s - loss: 3.5740e-09 - accuracy: 1.0000WARNING:tensorflow:Early stopping conditioned on metric `val_loss` which is not available. Available metrics are: loss,accuracy\n",
      "46210/46210 [==============================] - 3s 72us/sample - loss: 3.5541e-09 - accuracy: 1.0000\n",
      "Epoch 9/10\n",
      "46080/46210 [============================>.] - ETA: 0s - loss: 3.2977e-09 - accuracy: 1.0000WARNING:tensorflow:Early stopping conditioned on metric `val_loss` which is not available. Available metrics are: loss,accuracy\n",
      "46210/46210 [==============================] - 3s 72us/sample - loss: 3.2899e-09 - accuracy: 1.0000\n",
      "Epoch 10/10\n",
      "45568/46210 [============================>.] - ETA: 0s - loss: 3.1644e-09 - accuracy: 1.0000WARNING:tensorflow:Early stopping conditioned on metric `val_loss` which is not available. Available metrics are: loss,accuracy\n",
      "46210/46210 [==============================] - 3s 70us/sample - loss: 3.2041e-09 - accuracy: 1.0000\n"
     ]
    },
    {
     "data": {
      "text/plain": [
       "<tensorflow.python.keras.callbacks.History at 0x2d255cca1c8>"
      ]
     },
     "execution_count": 11,
     "metadata": {},
     "output_type": "execute_result"
    },
    {
     "name": "stdout",
     "output_type": "stream",
     "text": [
      "accuracy_score 1.0\n",
      "recall_score 1.0\n",
      "precision_score 1.0\n",
      "f1_score 1.0\n",
      "Model: \"model_8\"\n",
      "_________________________________________________________________\n",
      "Layer (type)                 Output Shape              Param #   \n",
      "=================================================================\n",
      "input_1 (InputLayer)         [(None, 32, 256)]         0         \n",
      "_________________________________________________________________\n",
      "bidirectional (Bidirectional (None, 32, 96)            117120    \n",
      "_________________________________________________________________\n",
      "time_distributed (TimeDistri (None, 32, 1)             97        \n",
      "=================================================================\n",
      "Total params: 117,217\n",
      "Trainable params: 117,217\n",
      "Non-trainable params: 0\n",
      "_________________________________________________________________\n",
      "======Training stage======\n",
      "Train on 46210 samples\n",
      "Epoch 1/10\n",
      "46208/46210 [============================>.] - ETA: 0s - loss: 3.1509e-09 - accuracy: 1.0000WARNING:tensorflow:Early stopping conditioned on metric `val_loss` which is not available. Available metrics are: loss,accuracy\n",
      "46210/46210 [==============================] - 6s 130us/sample - loss: 3.1508e-09 - accuracy: 1.0000\n",
      "Epoch 2/10\n",
      "45568/46210 [============================>.] - ETA: 0s - loss: 2.7823e-09 - accuracy: 1.0000WARNING:tensorflow:Early stopping conditioned on metric `val_loss` which is not available. Available metrics are: loss,accuracy\n",
      "46210/46210 [==============================] - 3s 71us/sample - loss: 2.7844e-09 - accuracy: 1.0000\n",
      "Epoch 3/10\n",
      "45824/46210 [============================>.] - ETA: 0s - loss: 2.6474e-09 - accuracy: 1.0000WARNING:tensorflow:Early stopping conditioned on metric `val_loss` which is not available. Available metrics are: loss,accuracy\n",
      "46210/46210 [==============================] - 3s 70us/sample - loss: 2.6390e-09 - accuracy: 1.0000\n",
      "Epoch 4/10\n",
      "46208/46210 [============================>.] - ETA: 0s - loss: 2.4933e-09 - accuracy: 1.0000WARNING:tensorflow:Early stopping conditioned on metric `val_loss` which is not available. Available metrics are: loss,accuracy\n",
      "46210/46210 [==============================] - 3s 69us/sample - loss: 2.4932e-09 - accuracy: 1.0000\n",
      "Epoch 5/10\n",
      "46208/46210 [============================>.] - ETA: 0s - loss: 2.3939e-09 - accuracy: 1.0000WARNING:tensorflow:Early stopping conditioned on metric `val_loss` which is not available. Available metrics are: loss,accuracy\n",
      "46210/46210 [==============================] - 3s 69us/sample - loss: 2.3938e-09 - accuracy: 1.0000\n",
      "Epoch 6/10\n",
      "46080/46210 [============================>.] - ETA: 0s - loss: 2.2729e-09 - accuracy: 1.0000WARNING:tensorflow:Early stopping conditioned on metric `val_loss` which is not available. Available metrics are: loss,accuracy\n",
      "46210/46210 [==============================] - 3s 69us/sample - loss: 2.2816e-09 - accuracy: 1.0000\n",
      "Epoch 7/10\n",
      "46208/46210 [============================>.] - ETA: 0s - loss: 2.2018e-09 - accuracy: 1.0000WARNING:tensorflow:Early stopping conditioned on metric `val_loss` which is not available. Available metrics are: loss,accuracy\n",
      "46210/46210 [==============================] - 3s 70us/sample - loss: 2.2017e-09 - accuracy: 1.0000\n",
      "Epoch 8/10\n",
      "46080/46210 [============================>.] - ETA: 0s - loss: 2.1279e-09 - accuracy: 1.0000WARNING:tensorflow:Early stopping conditioned on metric `val_loss` which is not available. Available metrics are: loss,accuracy\n",
      "46210/46210 [==============================] - 3s 69us/sample - loss: 2.1240e-09 - accuracy: 1.0000\n",
      "Epoch 9/10\n",
      "46208/46210 [============================>.] - ETA: 0s - loss: 2.0325e-09 - accuracy: 1.0000WARNING:tensorflow:Early stopping conditioned on metric `val_loss` which is not available. Available metrics are: loss,accuracy\n",
      "46210/46210 [==============================] - 3s 69us/sample - loss: 2.0324e-09 - accuracy: 1.0000\n",
      "Epoch 10/10\n",
      "45568/46210 [============================>.] - ETA: 0s - loss: 2.0046e-09 - accuracy: 1.0000WARNING:tensorflow:Early stopping conditioned on metric `val_loss` which is not available. Available metrics are: loss,accuracy\n",
      "46210/46210 [==============================] - 3s 69us/sample - loss: 1.9896e-09 - accuracy: 1.0000\n"
     ]
    },
    {
     "data": {
      "text/plain": [
       "<tensorflow.python.keras.callbacks.History at 0x2d25117d808>"
      ]
     },
     "execution_count": 11,
     "metadata": {},
     "output_type": "execute_result"
    },
    {
     "name": "stdout",
     "output_type": "stream",
     "text": [
      "accuracy_score 1.0\n",
      "recall_score 1.0\n",
      "precision_score 1.0\n",
      "f1_score 1.0\n",
      "Model: \"model_9\"\n",
      "_________________________________________________________________\n",
      "Layer (type)                 Output Shape              Param #   \n",
      "=================================================================\n",
      "input_1 (InputLayer)         [(None, 32, 256)]         0         \n",
      "_________________________________________________________________\n",
      "bidirectional (Bidirectional (None, 32, 96)            117120    \n",
      "_________________________________________________________________\n",
      "time_distributed (TimeDistri (None, 32, 1)             97        \n",
      "=================================================================\n",
      "Total params: 117,217\n",
      "Trainable params: 117,217\n",
      "Non-trainable params: 0\n",
      "_________________________________________________________________\n",
      "======Training stage======\n",
      "Train on 46210 samples\n",
      "Epoch 1/10\n",
      "46208/46210 [============================>.] - ETA: 0s - loss: 1.9987e-09 - accuracy: 1.0000WARNING:tensorflow:Early stopping conditioned on metric `val_loss` which is not available. Available metrics are: loss,accuracy\n",
      "46210/46210 [==============================] - 8s 180us/sample - loss: 1.9987e-09 - accuracy: 1.0000\n",
      "Epoch 2/10\n",
      "46208/46210 [============================>.] - ETA: 0s - loss: 1.9266e-09 - accuracy: 1.0000WARNING:tensorflow:Early stopping conditioned on metric `val_loss` which is not available. Available metrics are: loss,accuracy\n",
      "46210/46210 [==============================] - 3s 69us/sample - loss: 1.9265e-09 - accuracy: 1.0000\n",
      "Epoch 3/10\n",
      "46208/46210 [============================>.] - ETA: 0s - loss: 1.8612e-09 - accuracy: 1.0000WARNING:tensorflow:Early stopping conditioned on metric `val_loss` which is not available. Available metrics are: loss,accuracy\n",
      "46210/46210 [==============================] - 3s 69us/sample - loss: 1.8612e-09 - accuracy: 1.0000\n",
      "Epoch 4/10\n",
      "45952/46210 [============================>.] - ETA: 0s - loss: 1.8043e-09 - accuracy: 1.0000WARNING:tensorflow:Early stopping conditioned on metric `val_loss` which is not available. Available metrics are: loss,accuracy\n",
      "46210/46210 [==============================] - 3s 70us/sample - loss: 1.7992e-09 - accuracy: 1.0000\n",
      "Epoch 5/10\n",
      "46208/46210 [============================>.] - ETA: 0s - loss: 1.7236e-09 - accuracy: 1.0000WARNING:tensorflow:Early stopping conditioned on metric `val_loss` which is not available. Available metrics are: loss,accuracy\n",
      "46210/46210 [==============================] - 3s 70us/sample - loss: 1.7235e-09 - accuracy: 1.0000\n",
      "Epoch 6/10\n",
      "46208/46210 [============================>.] - ETA: 0s - loss: 1.6815e-09 - accuracy: 1.0000WARNING:tensorflow:Early stopping conditioned on metric `val_loss` which is not available. Available metrics are: loss,accuracy\n",
      "46210/46210 [==============================] - 3s 69us/sample - loss: 1.6814e-09 - accuracy: 1.0000\n",
      "Epoch 7/10\n",
      "46080/46210 [============================>.] - ETA: 0s - loss: 1.6565e-09 - accuracy: 1.0000WARNING:tensorflow:Early stopping conditioned on metric `val_loss` which is not available. Available metrics are: loss,accuracy\n",
      "46210/46210 [==============================] - 3s 69us/sample - loss: 1.6535e-09 - accuracy: 1.0000\n",
      "Epoch 8/10\n",
      "46208/46210 [============================>.] - ETA: 0s - loss: 1.6076e-09 - accuracy: 1.0000WARNING:tensorflow:Early stopping conditioned on metric `val_loss` which is not available. Available metrics are: loss,accuracy\n",
      "46210/46210 [==============================] - 3s 69us/sample - loss: 1.6075e-09 - accuracy: 1.0000\n",
      "Epoch 9/10\n",
      "46208/46210 [============================>.] - ETA: 0s - loss: 1.5473e-09 - accuracy: 1.0000WARNING:tensorflow:Early stopping conditioned on metric `val_loss` which is not available. Available metrics are: loss,accuracy\n",
      "46210/46210 [==============================] - 3s 69us/sample - loss: 1.5473e-09 - accuracy: 1.0000\n",
      "Epoch 10/10\n",
      "45568/46210 [============================>.] - ETA: 0s - loss: 1.5374e-09 - accuracy: 1.0000WARNING:tensorflow:Early stopping conditioned on metric `val_loss` which is not available. Available metrics are: loss,accuracy\n",
      "46210/46210 [==============================] - 3s 69us/sample - loss: 1.5357e-09 - accuracy: 1.0000\n"
     ]
    },
    {
     "data": {
      "text/plain": [
       "<tensorflow.python.keras.callbacks.History at 0x2d27e5eaec8>"
      ]
     },
     "execution_count": 11,
     "metadata": {},
     "output_type": "execute_result"
    },
    {
     "name": "stdout",
     "output_type": "stream",
     "text": [
      "accuracy_score 1.0\n",
      "recall_score 1.0\n",
      "precision_score 1.0\n",
      "f1_score 1.0\n",
      "\n",
      "K-fold cross validation Accuracy: [0.99972005842259, 0.9998235150925024, 0.9999452288218111, 0.9999878286270691, 0.9999939131281652, 1.0, 1.0, 1.0, 1.0, 1.0]\n",
      "\n",
      "K-fold cross validation Recall: [0.9939148073022313, 0.9951640759930915, 0.9996564754379939, 0.9996436208125445, 0.9996596324029953, 1.0, 1.0, 1.0, 1.0, 1.0]\n",
      "\n",
      "K-fold cross validation Precision: [0.9905660377358491, 0.9948204419889503, 0.9972583961617546, 0.9996436208125445, 1.0, 1.0, 1.0, 1.0, 1.0, 1.0]\n",
      "\n",
      "K-fold cross validation F1-Score: [0.9922375970300371, 0.9949922293213607, 0.9984559958826557, 0.9996436208125445, 0.9998297872340426, 1.0, 1.0, 1.0, 1.0, 1.0]\n"
     ]
    }
   ],
   "source": [
    "# 교차검증 kfold\n",
    "from sklearn.model_selection import KFold\n",
    "\n",
    "# Accuracy, Precision, Recall, F1-Score\n",
    "from sklearn.metrics import accuracy_score, recall_score, precision_score, f1_score\n",
    "\n",
    "# Confusion Matrix, ROC Curve\n",
    "from sklearn.metrics import confusion_matrix, roc_auc_score\n",
    "\n",
    "# 최종 평가지표들 평균용\n",
    "accuracy, recall, precision, f1score, cm = [], [], [], [], []\n",
    "\n",
    "# 11. 교차검증 kfold - k.split - 10회 / K-Fold 객체 생성\n",
    "# kf = KFold(n_splits=10, shuffle=False, random_state=None) # KFold non shuffle 버전\n",
    "kf = KFold(n_splits=10, shuffle=True, random_state=None) # KFold non shuffle 버전\n",
    "\n",
    "for train, validation in kf.split(x_bc6_2, y_bc6_2):\n",
    "    model1 = models.Model(xInput, xOutput)\n",
    "    model1.compile(loss='binary_crossentropy', optimizer='rmsprop', metrics=['accuracy'])\n",
    "    model1.summary()\n",
    "    print('======Training stage======')\n",
    "    model1.fit(x_bc6_2[train],\n",
    "               y_bc6_2[train],\n",
    "               epochs = 10,\n",
    "               batch_size = 128,\n",
    "               callbacks=[early_stopping])\n",
    "    #k_accuracy = '%.4f' %(model1.evaluate(data_10000x[validation], data_10000y[validation])[1])\n",
    "\n",
    "# 12. 교차검증결과 predict - 검증셋들\n",
    "    # predict 값\n",
    "    k_pr = model1.predict(x_bc6_2[validation])\n",
    "    \n",
    "    # 테스트 predict 결과들 비교 (평가지표 보기위함)\n",
    "    pred = np.round(np.array(k_pr).flatten().tolist())\n",
    "    y_test = np.array(y_bc6_2[validation]).flatten().tolist()\n",
    "    \n",
    "# 13. 평가지표들 출력\n",
    "    ## 평가지표들\n",
    "    k_accuracy = float(accuracy_score(y_test, pred))\n",
    "    k_recall =  float(recall_score(y_test, pred))\n",
    "    k_precision = float(precision_score(y_test, pred))\n",
    "    k_f1_score = float(f1_score(y_test, pred))\n",
    "    #k_cm = float(confusion_matrix(y_test, pred))\n",
    "    \n",
    "    print('accuracy_score', k_accuracy)\n",
    "    print('recall_score', k_recall)\n",
    "    print('precision_score', k_precision)\n",
    "    print('f1_score', k_f1_score)\n",
    "    #print('\\nconfusion_matrix\\n', k_cm)\n",
    "\n",
    "    accuracy.append(k_accuracy)\n",
    "    recall.append(k_recall)\n",
    "    precision.append(k_precision)\n",
    "    f1score.append(k_f1_score)\n",
    "    #cm.append(k_cm)\n",
    "#    print('roc_curve 면적', roc_auc_score(y_test, pred))\n",
    "\n",
    "# 최종 결과지표\n",
    "print('\\nK-fold cross validation Accuracy: {}'.format(accuracy))\n",
    "print('\\nK-fold cross validation Recall: {}'.format(recall))\n",
    "print('\\nK-fold cross validation Precision: {}'.format(precision))\n",
    "print('\\nK-fold cross validation F1-Score: {}'.format(f1score))\n",
    "#print('\\nK-fold cross validation ConfusionMatrix: {}'.format(cm))"
   ]
  },
  {
   "cell_type": "markdown",
   "metadata": {},
   "source": [
    "## (9) 평가지표"
   ]
  },
  {
   "cell_type": "code",
   "execution_count": 12,
   "metadata": {},
   "outputs": [
    {
     "name": "stdout",
     "output_type": "stream",
     "text": [
      "10-Fold Cross_validation. Accuracy : 0.9999470544092137\n",
      "10-Fold Cross_validation. Recall : 0.9988038611948855\n",
      "10-Fold Cross_validation. Precision : 0.9982288496699099\n",
      "10-Fold Cross_validation. F1-Score : 0.998515923028064\n"
     ]
    }
   ],
   "source": [
    "print('10-Fold Cross_validation. Accuracy :', np.mean(accuracy))\n",
    "print('10-Fold Cross_validation. Recall :', np.mean(recall))\n",
    "print('10-Fold Cross_validation. Precision :', np.mean(precision))\n",
    "print('10-Fold Cross_validation. F1-Score :', np.mean(f1score))"
   ]
  },
  {
   "cell_type": "code",
   "execution_count": 15,
   "metadata": {},
   "outputs": [
    {
     "name": "stdout",
     "output_type": "stream",
     "text": [
      "save 완료\n"
     ]
    }
   ],
   "source": [
    "model1.save('gcc6_bin_s32_h48_o2.h5')\n",
    "print('save 완료')"
   ]
  },
  {
   "cell_type": "code",
   "execution_count": 16,
   "metadata": {},
   "outputs": [
    {
     "name": "stdout",
     "output_type": "stream",
     "text": [
      "1643008 1643008\n",
      "accuracy_score 1.0\n",
      "recall_score 1.0\n",
      "precision_score 1.0\n",
      "f1_score 1.0\n"
     ]
    }
   ],
   "source": [
    "from tensorflow.keras.models import load_model\n",
    "model_path = 'gcc6_bin_s32_h48_o2.h5'\n",
    "\n",
    "model = load_model(model_path)\n",
    "\n",
    "# 12. 교차검증결과 predict - 검증셋들\n",
    "# predict 값\n",
    "k_pr = model.predict(x_bc6_2)\n",
    "\n",
    "# 테스트 predict 결과들 비교 (평가지표 보기위함)\n",
    "pred = np.round(np.array(k_pr).flatten().tolist())\n",
    "y_test = np.array(y_bc6_2).flatten().tolist()\n",
    "print(len(pred), len(y_test))\n",
    "\n",
    "# 13. 평가지표들 출력\n",
    "## 평가지표들\n",
    "k_accuracy = float(accuracy_score(y_test, pred))\n",
    "k_recall =  float(recall_score(y_test, pred))\n",
    "k_precision = float(precision_score(y_test, pred))\n",
    "k_f1_score = float(f1_score(y_test, pred))\n",
    "#k_cm = float(confusion_matrix(y_test, pred))\n",
    "\n",
    "print('accuracy_score', k_accuracy)\n",
    "print('recall_score', k_recall)\n",
    "print('precision_score', k_precision)\n",
    "print('f1_score', k_f1_score)\n",
    "#print('\\nconfusion_matrix\\n', k_cm)"
   ]
  }
 ],
 "metadata": {
  "kernelspec": {
   "display_name": "Python 3",
   "language": "python",
   "name": "python3"
  },
  "language_info": {
   "codemirror_mode": {
    "name": "ipython",
    "version": 3
   },
   "file_extension": ".py",
   "mimetype": "text/x-python",
   "name": "python",
   "nbconvert_exporter": "python",
   "pygments_lexer": "ipython3",
   "version": "3.7.5"
  }
 },
 "nbformat": 4,
 "nbformat_minor": 4
}
