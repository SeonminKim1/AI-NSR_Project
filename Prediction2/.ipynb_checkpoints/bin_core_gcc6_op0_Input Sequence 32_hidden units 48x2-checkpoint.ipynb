{
 "cells": [
  {
   "cell_type": "markdown",
   "metadata": {},
   "source": [
    "## RNN 모델 N-Byte 방식 (함수정보 포함 vs 미포함 => 1:1 비율)\n",
    "\n",
    "## (1) 데이터로드"
   ]
  },
  {
   "cell_type": "code",
   "execution_count": 3,
   "metadata": {},
   "outputs": [
    {
     "name": "stdout",
     "output_type": "stream",
     "text": [
      "(22418305, 2)\n",
      "reset_index 완료\n",
      "input data shape\n"
     ]
    },
    {
     "data": {
      "text/html": [
       "<div>\n",
       "<style scoped>\n",
       "    .dataframe tbody tr th:only-of-type {\n",
       "        vertical-align: middle;\n",
       "    }\n",
       "\n",
       "    .dataframe tbody tr th {\n",
       "        vertical-align: top;\n",
       "    }\n",
       "\n",
       "    .dataframe thead th {\n",
       "        text-align: right;\n",
       "    }\n",
       "</style>\n",
       "<table border=\"1\" class=\"dataframe\">\n",
       "  <thead>\n",
       "    <tr style=\"text-align: right;\">\n",
       "      <th></th>\n",
       "      <th>bin</th>\n",
       "      <th>label</th>\n",
       "    </tr>\n",
       "  </thead>\n",
       "  <tbody>\n",
       "    <tr>\n",
       "      <th>0</th>\n",
       "      <td>47</td>\n",
       "      <td>0</td>\n",
       "    </tr>\n",
       "    <tr>\n",
       "      <th>1</th>\n",
       "      <td>108</td>\n",
       "      <td>0</td>\n",
       "    </tr>\n",
       "    <tr>\n",
       "      <th>2</th>\n",
       "      <td>105</td>\n",
       "      <td>0</td>\n",
       "    </tr>\n",
       "    <tr>\n",
       "      <th>3</th>\n",
       "      <td>98</td>\n",
       "      <td>0</td>\n",
       "    </tr>\n",
       "    <tr>\n",
       "      <th>4</th>\n",
       "      <td>47</td>\n",
       "      <td>0</td>\n",
       "    </tr>\n",
       "  </tbody>\n",
       "</table>\n",
       "</div>"
      ],
      "text/plain": [
       "   bin  label\n",
       "0   47      0\n",
       "1  108      0\n",
       "2  105      0\n",
       "3   98      0\n",
       "4   47      0"
      ]
     },
     "execution_count": 3,
     "metadata": {},
     "output_type": "execute_result"
    }
   ],
   "source": [
    "# (1) 데이터로드\n",
    "import pandas as pd\n",
    "import numpy as np\n",
    "\n",
    "import warnings\n",
    "warnings.filterwarnings(action='ignore')\n",
    "\n",
    "# 여러개 쳐도 나오게\n",
    "from IPython.core.interactiveshell import InteractiveShell\n",
    "InteractiveShell.ast_node_interactivity = \"all\"\n",
    "\n",
    "# 파일읽기\n",
    "bin6_0 = pd.read_csv(\"data/\"+'answer_0.csv', index_col=0)\n",
    "print(bin6_0.shape)\n",
    "\n",
    "# reset_index (hex processing 하면서 값이 빠졌으니까 + n_gram 에서 index를 다루기 때문에)\n",
    "bin6_0.reset_index(inplace=True, drop=True)\n",
    "\n",
    "print('reset_index 완료')\n",
    "print('input data shape')\n",
    "bin6_0.head()"
   ]
  },
  {
   "cell_type": "code",
   "execution_count": 4,
   "metadata": {},
   "outputs": [
    {
     "name": "stdout",
     "output_type": "stream",
     "text": [
      "256\n",
      "0    22385212\n",
      "1       33093\n",
      "Name: label, dtype: int64\n"
     ]
    }
   ],
   "source": [
    "# (2-1) 데이터체크 1 - hex(16진수)가 256 label을 가져야 dummies 변환 가능 \n",
    "# 16진수 256개 종류가 있어서 pd.get_dummies 사용 가능.\n",
    "print(len(bin6_0['bin'].unique()))\n",
    "\n",
    "# (2-2) 데이터 체크 2 - 1, 0 비율 ==> 1이 함수의 갯수를 뜻함\n",
    "# 정답 데이터 1, 0 비율 확인  ==> 1이 함수의 갯수를 뜻함\n",
    "print(bin6_0['label'].value_counts())"
   ]
  },
  {
   "cell_type": "markdown",
   "metadata": {},
   "source": [
    "## (3) N Byte씩 자르기"
   ]
  },
  {
   "cell_type": "code",
   "execution_count": 5,
   "metadata": {},
   "outputs": [
    {
     "name": "stdout",
     "output_type": "stream",
     "text": [
      "1058976\n",
      "나머지 0\n",
      "최종 길이 1058976\n",
      "bin6_0 1058976\n"
     ]
    }
   ],
   "source": [
    "idx_bin = bin6_0[bin6_0['label']==1].index  # 407, 474 ...\n",
    "ls_bin = list(idx_bin)\n",
    "\n",
    "# 최종 뽑을 행에 대한 index\n",
    "ls_idx_bin = []\n",
    "\n",
    "# n byte 자르기 방식\n",
    "left_idx, right_idx = 0, 32 # 3개씩\n",
    "\n",
    "# n byte 자르기\n",
    "for k in range(left_idx, right_idx):\n",
    "    ls_idx_bin.extend(list(idx_bin + k)) # index 형이라서 가능\n",
    "\n",
    "#ls_idx = list(set(ls_idx)) \n",
    "ls_idx_bin.sort() # 인덱스 정렬\n",
    "\n",
    "# 1차 index 해당범위 초과한 것들 없애기\n",
    "ls_idx_bin = list(filter(lambda x: x<len(bin6_0), ls_idx_bin))\n",
    "print(len(ls_idx_bin))\n",
    "\n",
    "# 2차 남은 index들 중 right_idx 나눈 나머지 없애기\n",
    "sub_bin = len(ls_idx_bin)%(right_idx)\n",
    "print('나머지', sub_bin)\n",
    "\n",
    "ls_idx_bin = ls_idx_bin[:len(ls_idx_bin)-sub_bin]\n",
    "print('최종 길이', len(ls_idx_bin))\n",
    "\n",
    "print('bin6_0', len(ls_idx_bin))\n",
    "\n",
    "# loc 로 수정필요\n",
    "bin6_0_Ngram = bin6_0.loc[ls_idx_bin,:].copy()"
   ]
  },
  {
   "cell_type": "markdown",
   "metadata": {},
   "source": [
    "## (4) false data 만들기"
   ]
  },
  {
   "cell_type": "code",
   "execution_count": 6,
   "metadata": {},
   "outputs": [
    {
     "name": "stdout",
     "output_type": "stream",
     "text": [
      "33093.0\n",
      "0 2473898\n",
      "1000 15539737\n",
      "2000 4024302\n",
      "3000 19989734\n",
      "4000 15102197\n",
      "5000 3122718\n",
      "6000 9289879\n",
      "7000 12664168\n",
      "8000 10081865\n",
      "9000 12836117\n",
      "10000 11394214\n",
      "11000 11795377\n",
      "12000 9372242\n",
      "13000 19541752\n",
      "14000 13755513\n",
      "15000 2224250\n",
      "16000 16825408\n",
      "17000 18048221\n",
      "18000 18227870\n",
      "19000 47118\n",
      "20000 4089675\n",
      "21000 3127754\n",
      "22000 14877526\n",
      "23000 8185023\n",
      "24000 10940306\n",
      "25000 9855637\n",
      "26000 9649197\n",
      "27000 17037980\n",
      "28000 192784\n",
      "29000 20193445\n",
      "30000 17253309\n",
      "31000 12034246\n",
      "32000 1856497\n",
      "33000 12365143\n",
      "완료\n",
      "33093\n"
     ]
    }
   ],
   "source": [
    "# false data 만들기 - False 데이터 랜덤 생성\n",
    "\n",
    "# 목표치\n",
    "goal_bin = len(bin6_0_Ngram)/right_idx\n",
    "count_bin = 0\n",
    "\n",
    "print(goal_bin)\n",
    "\n",
    "# 최종 데이터 Frame\n",
    "d_bin = pd.DataFrame(columns = bin6_0.columns)\n",
    "\n",
    "binutils_df = []\n",
    "# goal 에 도달할 때까지\n",
    "while True:\n",
    "    if (count_bin == goal_bin):\n",
    "            break\n",
    "    # 진행상황 살펴보기 위함\n",
    "            \n",
    "    # 랜덤 N 바이트씩 뽑음\n",
    "    # random index\n",
    "    random_idx_bin = np.random.randint(len(bin6_0)-right_idx)\n",
    "\n",
    "    if count_bin % 1000==0:\n",
    "        print(count_bin, end=' ')\n",
    "        print(random_idx_bin)\n",
    "\n",
    "    df_bin = bin6_0[random_idx_bin : random_idx_bin + right_idx]\n",
    "    \n",
    "    # 뽑은 index의 N 바이트 중에 1이 없는 경우만\n",
    "    if 1 not in df_bin['label'] and count_bin < goal_bin:\n",
    "        binutils_df.append(df_bin)\n",
    "        count_bin+=1\n",
    "\n",
    "print('완료')\n",
    "print(len(binutils_df))"
   ]
  },
  {
   "cell_type": "code",
   "execution_count": 7,
   "metadata": {},
   "outputs": [
    {
     "name": "stdout",
     "output_type": "stream",
     "text": [
      "33093\n",
      "33093\n"
     ]
    }
   ],
   "source": [
    "# True data와 False Data 같은지 체크\n",
    "print(len(binutils_df))\n",
    "print(bin6_0['label'].value_counts()[1])"
   ]
  },
  {
   "cell_type": "markdown",
   "metadata": {},
   "source": [
    "## (5) False Data + True Data 합치기"
   ]
  },
  {
   "cell_type": "code",
   "execution_count": 8,
   "metadata": {},
   "outputs": [
    {
     "data": {
      "text/plain": [
       "(2117952, 2)"
      ]
     },
     "execution_count": 8,
     "metadata": {},
     "output_type": "execute_result"
    }
   ],
   "source": [
    "f_data = pd.concat(binutils_df)\n",
    "final = pd.concat([f_data, bin6_0_Ngram])\n",
    "final.shape"
   ]
  },
  {
   "cell_type": "markdown",
   "metadata": {},
   "source": [
    "## (6) one hot encoding"
   ]
  },
  {
   "cell_type": "code",
   "execution_count": 9,
   "metadata": {},
   "outputs": [
    {
     "name": "stdout",
     "output_type": "stream",
     "text": [
      "원핫인코딩완료\n",
      "(2117952, 257)\n"
     ]
    }
   ],
   "source": [
    "# 훈련데이터 (gcc 최적화버전 0, 1, 2, 3 one hot encoding)\n",
    "bc6_0_onehot_Ngram = pd.get_dummies(final['bin'])\n",
    "bc6_0_onehot_Ngram = pd.concat([final['label'], bc6_0_onehot_Ngram], axis=1)\n",
    "\n",
    "print('원핫인코딩완료')\n",
    "print(bc6_0_onehot_Ngram.shape)"
   ]
  },
  {
   "cell_type": "code",
   "execution_count": 10,
   "metadata": {},
   "outputs": [
    {
     "name": "stdout",
     "output_type": "stream",
     "text": [
      "(2117952, 256) (2117952, 256)\n",
      "(66186, 32, 256) (66186, 32, 1)\n"
     ]
    }
   ],
   "source": [
    "# 훈련 데이터, 훈련 라벨\n",
    "x_bc6_0 = bc6_0_onehot_Ngram.iloc[:,1:].to_numpy()\n",
    "y_bc6_0 = bc6_0_onehot_Ngram['label'].to_numpy()\n",
    "print(x_bc6_0.shape, x_bc6_0.shape)\n",
    "\n",
    "x_bc6_0 = x_bc6_0.reshape(-1, right_idx, x_bc6_0.shape[1])\n",
    "y_bc6_0 = y_bc6_0.reshape(-1, right_idx, 1)\n",
    "\n",
    "print(x_bc6_0.shape, y_bc6_0.shape)"
   ]
  },
  {
   "cell_type": "code",
   "execution_count": 11,
   "metadata": {},
   "outputs": [
    {
     "name": "stdout",
     "output_type": "stream",
     "text": [
      "(66186, 32, 256) (66186, 32, 1)\n"
     ]
    }
   ],
   "source": [
    "# numpy 행, 열 섞기\n",
    "p = np.random.permutation(x_bc6_0.shape[0])\n",
    "\n",
    "x_bc6_0 = x_bc6_0[p]\n",
    "y_bc6_0 = y_bc6_0[p]\n",
    "\n",
    "print(x_bc6_0.shape, y_bc6_0.shape)"
   ]
  },
  {
   "cell_type": "markdown",
   "metadata": {},
   "source": [
    "## (7) 모델"
   ]
  },
  {
   "cell_type": "code",
   "execution_count": 11,
   "metadata": {},
   "outputs": [],
   "source": [
    "# (10) 양방향 LSTM 모델링 작업\n",
    "from tensorflow.keras import layers, models\n",
    "#from tf.keras.models import Model, Sequential\n",
    "#from tf.keras.layers import SimpleRNN, Input, Dense, LSTM\n",
    "#from tf.keras.layers import Bidirectional, TimeDistributed\n",
    "\n",
    "# 학습\n",
    "from tensorflow.keras.callbacks import EarlyStopping\n",
    "early_stopping = EarlyStopping(patience = 3) # 조기종료 콜백함수 정의\n",
    "\n",
    "xInput = layers.Input(batch_shape=(None,right_idx, 256)) \n",
    "xBiLstm = layers.Bidirectional(layers.LSTM(48, return_sequences=True, stateful=False), merge_mode = 'concat')(xInput)\n",
    "xOutput = layers.TimeDistributed(layers.Dense(1, activation ='sigmoid'))(xBiLstm) # 각 스텝에서 cost가 전송되고, 오류가 다음 step으로 전송됨."
   ]
  },
  {
   "cell_type": "markdown",
   "metadata": {},
   "source": [
    "## (8) 학습 - 10 KFold"
   ]
  },
  {
   "cell_type": "code",
   "execution_count": 12,
   "metadata": {
    "scrolled": false
   },
   "outputs": [
    {
     "name": "stdout",
     "output_type": "stream",
     "text": [
      "Model: \"model\"\n",
      "_________________________________________________________________\n",
      "Layer (type)                 Output Shape              Param #   \n",
      "=================================================================\n",
      "input_1 (InputLayer)         [(None, 32, 256)]         0         \n",
      "_________________________________________________________________\n",
      "bidirectional (Bidirectional (None, 32, 96)            117120    \n",
      "_________________________________________________________________\n",
      "time_distributed (TimeDistri (None, 32, 1)             97        \n",
      "=================================================================\n",
      "Total params: 117,217\n",
      "Trainable params: 117,217\n",
      "Non-trainable params: 0\n",
      "_________________________________________________________________\n",
      "======Training stage======\n",
      "Train on 59567 samples\n",
      "Epoch 1/10\n",
      "59520/59567 [============================>.] - ETA: 0s - loss: 0.0275 - accuracy: 0.9934WARNING:tensorflow:Early stopping conditioned on metric `val_loss` which is not available. Available metrics are: loss,accuracy\n",
      "59567/59567 [==============================] - 11s 189us/sample - loss: 0.0275 - accuracy: 0.9934\n",
      "Epoch 2/10\n",
      "59264/59567 [============================>.] - ETA: 0s - loss: 6.8103e-04 - accuracy: 0.9998WARNING:tensorflow:Early stopping conditioned on metric `val_loss` which is not available. Available metrics are: loss,accuracy\n",
      "59567/59567 [==============================] - 4s 60us/sample - loss: 6.8243e-04 - accuracy: 0.9998\n",
      "Epoch 3/10\n",
      "59264/59567 [============================>.] - ETA: 0s - loss: 3.3220e-04 - accuracy: 0.9999WARNING:tensorflow:Early stopping conditioned on metric `val_loss` which is not available. Available metrics are: loss,accuracy\n",
      "59567/59567 [==============================] - 4s 60us/sample - loss: 3.3211e-04 - accuracy: 0.9999\n",
      "Epoch 4/10\n",
      "58752/59567 [============================>.] - ETA: 0s - loss: 2.7275e-04 - accuracy: 0.9999WARNING:tensorflow:Early stopping conditioned on metric `val_loss` which is not available. Available metrics are: loss,accuracy\n",
      "59567/59567 [==============================] - 4s 62us/sample - loss: 2.6967e-04 - accuracy: 0.9999\n",
      "Epoch 5/10\n",
      "59264/59567 [============================>.] - ETA: 0s - loss: 2.4135e-04 - accuracy: 0.9999WARNING:tensorflow:Early stopping conditioned on metric `val_loss` which is not available. Available metrics are: loss,accuracy\n",
      "59567/59567 [==============================] - 4s 61us/sample - loss: 2.4052e-04 - accuracy: 0.9999\n",
      "Epoch 6/10\n",
      "59264/59567 [============================>.] - ETA: 0s - loss: 2.1843e-04 - accuracy: 0.9999WARNING:tensorflow:Early stopping conditioned on metric `val_loss` which is not available. Available metrics are: loss,accuracy\n",
      "59567/59567 [==============================] - 4s 61us/sample - loss: 2.1925e-04 - accuracy: 0.9999\n",
      "Epoch 7/10\n",
      "59264/59567 [============================>.] - ETA: 0s - loss: 2.0519e-04 - accuracy: 0.9999WARNING:tensorflow:Early stopping conditioned on metric `val_loss` which is not available. Available metrics are: loss,accuracy\n",
      "59567/59567 [==============================] - 4s 60us/sample - loss: 2.0442e-04 - accuracy: 0.9999\n",
      "Epoch 8/10\n",
      "59264/59567 [============================>.] - ETA: 0s - loss: 1.8225e-04 - accuracy: 0.9999WARNING:tensorflow:Early stopping conditioned on metric `val_loss` which is not available. Available metrics are: loss,accuracy\n",
      "59567/59567 [==============================] - 4s 60us/sample - loss: 1.8509e-04 - accuracy: 0.9999\n",
      "Epoch 9/10\n",
      "59264/59567 [============================>.] - ETA: 0s - loss: 1.6358e-04 - accuracy: 1.0000WARNING:tensorflow:Early stopping conditioned on metric `val_loss` which is not available. Available metrics are: loss,accuracy\n",
      "59567/59567 [==============================] - 4s 61us/sample - loss: 1.6345e-04 - accuracy: 1.0000\n",
      "Epoch 10/10\n",
      "59136/59567 [============================>.] - ETA: 0s - loss: 1.7540e-04 - accuracy: 0.9999WARNING:tensorflow:Early stopping conditioned on metric `val_loss` which is not available. Available metrics are: loss,accuracy\n",
      "59567/59567 [==============================] - 4s 60us/sample - loss: 1.7470e-04 - accuracy: 0.9999\n"
     ]
    },
    {
     "data": {
      "text/plain": [
       "<tensorflow.python.keras.callbacks.History at 0x21018791148>"
      ]
     },
     "execution_count": 12,
     "metadata": {},
     "output_type": "execute_result"
    },
    {
     "name": "stdout",
     "output_type": "stream",
     "text": [
      "accuracy_score 0.999938623659163\n",
      "recall_score 0.9972260748959778\n",
      "precision_score 0.9991662034463591\n",
      "f1_score 0.9981951964459254\n",
      "Model: \"model_1\"\n",
      "_________________________________________________________________\n",
      "Layer (type)                 Output Shape              Param #   \n",
      "=================================================================\n",
      "input_1 (InputLayer)         [(None, 32, 256)]         0         \n",
      "_________________________________________________________________\n",
      "bidirectional (Bidirectional (None, 32, 96)            117120    \n",
      "_________________________________________________________________\n",
      "time_distributed (TimeDistri (None, 32, 1)             97        \n",
      "=================================================================\n",
      "Total params: 117,217\n",
      "Trainable params: 117,217\n",
      "Non-trainable params: 0\n",
      "_________________________________________________________________\n",
      "======Training stage======\n",
      "Train on 59567 samples\n",
      "Epoch 1/10\n",
      "58880/59567 [============================>.] - ETA: 0s - loss: 1.5432e-04 - accuracy: 1.0000WARNING:tensorflow:Early stopping conditioned on metric `val_loss` which is not available. Available metrics are: loss,accuracy\n",
      "59567/59567 [==============================] - 6s 106us/sample - loss: 1.5729e-04 - accuracy: 1.0000\n",
      "Epoch 2/10\n",
      "59264/59567 [============================>.] - ETA: 0s - loss: 1.5588e-04 - accuracy: 1.0000WARNING:tensorflow:Early stopping conditioned on metric `val_loss` which is not available. Available metrics are: loss,accuracy\n",
      "59567/59567 [==============================] - 4s 61us/sample - loss: 1.5625e-04 - accuracy: 1.0000\n",
      "Epoch 3/10\n",
      "59136/59567 [============================>.] - ETA: 0s - loss: 1.3249e-04 - accuracy: 1.0000WARNING:tensorflow:Early stopping conditioned on metric `val_loss` which is not available. Available metrics are: loss,accuracy\n",
      "59567/59567 [==============================] - 4s 61us/sample - loss: 1.3159e-04 - accuracy: 1.0000\n",
      "Epoch 4/10\n",
      "59264/59567 [============================>.] - ETA: 0s - loss: 1.2880e-04 - accuracy: 1.0000WARNING:tensorflow:Early stopping conditioned on metric `val_loss` which is not available. Available metrics are: loss,accuracy\n",
      "59567/59567 [==============================] - 4s 61us/sample - loss: 1.2861e-04 - accuracy: 1.0000\n",
      "Epoch 5/10\n",
      "59264/59567 [============================>.] - ETA: 0s - loss: 1.2015e-04 - accuracy: 1.0000WARNING:tensorflow:Early stopping conditioned on metric `val_loss` which is not available. Available metrics are: loss,accuracy\n",
      "59567/59567 [==============================] - 4s 60us/sample - loss: 1.2361e-04 - accuracy: 1.0000\n",
      "Epoch 6/10\n",
      "59264/59567 [============================>.] - ETA: 0s - loss: 1.0882e-04 - accuracy: 1.0000WARNING:tensorflow:Early stopping conditioned on metric `val_loss` which is not available. Available metrics are: loss,accuracy\n",
      "59567/59567 [==============================] - 4s 61us/sample - loss: 1.0832e-04 - accuracy: 1.0000\n",
      "Epoch 7/10\n",
      "59264/59567 [============================>.] - ETA: 0s - loss: 9.6457e-05 - accuracy: 1.0000WARNING:tensorflow:Early stopping conditioned on metric `val_loss` which is not available. Available metrics are: loss,accuracy\n",
      "59567/59567 [==============================] - 4s 61us/sample - loss: 9.6062e-05 - accuracy: 1.0000\n",
      "Epoch 8/10\n",
      "59264/59567 [============================>.] - ETA: 0s - loss: 9.1468e-05 - accuracy: 1.0000WARNING:tensorflow:Early stopping conditioned on metric `val_loss` which is not available. Available metrics are: loss,accuracy\n",
      "59567/59567 [==============================] - 4s 61us/sample - loss: 9.1101e-05 - accuracy: 1.0000\n",
      "Epoch 9/10\n",
      "59136/59567 [============================>.] - ETA: 0s - loss: 7.8851e-05 - accuracy: 1.0000WARNING:tensorflow:Early stopping conditioned on metric `val_loss` which is not available. Available metrics are: loss,accuracy\n",
      "59567/59567 [==============================] - 4s 61us/sample - loss: 7.8383e-05 - accuracy: 1.0000\n",
      "Epoch 10/10\n",
      "59264/59567 [============================>.] - ETA: 0s - loss: 6.8962e-05 - accuracy: 1.0000WARNING:tensorflow:Early stopping conditioned on metric `val_loss` which is not available. Available metrics are: loss,accuracy\n",
      "59567/59567 [==============================] - 4s 61us/sample - loss: 6.8821e-05 - accuracy: 1.0000\n"
     ]
    },
    {
     "data": {
      "text/plain": [
       "<tensorflow.python.keras.callbacks.History at 0x20ffa743c08>"
      ]
     },
     "execution_count": 12,
     "metadata": {},
     "output_type": "execute_result"
    },
    {
     "name": "stdout",
     "output_type": "stream",
     "text": [
      "accuracy_score 0.9999622299441003\n",
      "recall_score 0.9983753046303818\n",
      "precision_score 0.9994578476551911\n",
      "f1_score 0.9989162828501761\n",
      "Model: \"model_2\"\n",
      "_________________________________________________________________\n",
      "Layer (type)                 Output Shape              Param #   \n",
      "=================================================================\n",
      "input_1 (InputLayer)         [(None, 32, 256)]         0         \n",
      "_________________________________________________________________\n",
      "bidirectional (Bidirectional (None, 32, 96)            117120    \n",
      "_________________________________________________________________\n",
      "time_distributed (TimeDistri (None, 32, 1)             97        \n",
      "=================================================================\n",
      "Total params: 117,217\n",
      "Trainable params: 117,217\n",
      "Non-trainable params: 0\n",
      "_________________________________________________________________\n",
      "======Training stage======\n",
      "Train on 59567 samples\n",
      "Epoch 1/10\n",
      "59136/59567 [============================>.] - ETA: 0s - loss: 8.4276e-05 - accuracy: 1.0000WARNING:tensorflow:Early stopping conditioned on metric `val_loss` which is not available. Available metrics are: loss,accuracy\n",
      "59567/59567 [==============================] - 8s 137us/sample - loss: 8.3703e-05 - accuracy: 1.0000\n",
      "Epoch 2/10\n",
      "59264/59567 [============================>.] - ETA: 0s - loss: 7.1793e-05 - accuracy: 1.0000WARNING:tensorflow:Early stopping conditioned on metric `val_loss` which is not available. Available metrics are: loss,accuracy\n",
      "59567/59567 [==============================] - 4s 60us/sample - loss: 7.1564e-05 - accuracy: 1.0000\n",
      "Epoch 3/10\n",
      "59264/59567 [============================>.] - ETA: 0s - loss: 6.4327e-05 - accuracy: 1.0000WARNING:tensorflow:Early stopping conditioned on metric `val_loss` which is not available. Available metrics are: loss,accuracy\n",
      "59567/59567 [==============================] - 4s 60us/sample - loss: 6.4025e-05 - accuracy: 1.0000\n",
      "Epoch 4/10\n",
      "59136/59567 [============================>.] - ETA: 0s - loss: 6.2996e-05 - accuracy: 1.0000WARNING:tensorflow:Early stopping conditioned on metric `val_loss` which is not available. Available metrics are: loss,accuracy\n",
      "59567/59567 [==============================] - 4s 61us/sample - loss: 6.2544e-05 - accuracy: 1.0000\n",
      "Epoch 5/10\n",
      "59008/59567 [============================>.] - ETA: 0s - loss: 4.6935e-05 - accuracy: 1.0000WARNING:tensorflow:Early stopping conditioned on metric `val_loss` which is not available. Available metrics are: loss,accuracy\n",
      "59567/59567 [==============================] - 4s 61us/sample - loss: 5.1145e-05 - accuracy: 1.0000\n",
      "Epoch 6/10\n",
      "59264/59567 [============================>.] - ETA: 0s - loss: 4.4846e-05 - accuracy: 1.0000WARNING:tensorflow:Early stopping conditioned on metric `val_loss` which is not available. Available metrics are: loss,accuracy\n",
      "59567/59567 [==============================] - 4s 61us/sample - loss: 4.4630e-05 - accuracy: 1.0000\n",
      "Epoch 7/10\n",
      "59264/59567 [============================>.] - ETA: 0s - loss: 4.0413e-05 - accuracy: 1.0000WARNING:tensorflow:Early stopping conditioned on metric `val_loss` which is not available. Available metrics are: loss,accuracy\n",
      "59567/59567 [==============================] - 4s 60us/sample - loss: 4.0859e-05 - accuracy: 1.0000\n",
      "Epoch 8/10\n",
      "59136/59567 [============================>.] - ETA: 0s - loss: 3.4098e-05 - accuracy: 1.0000WARNING:tensorflow:Early stopping conditioned on metric `val_loss` which is not available. Available metrics are: loss,accuracy\n",
      "59567/59567 [==============================] - 4s 61us/sample - loss: 3.4099e-05 - accuracy: 1.0000\n",
      "Epoch 9/10\n",
      "59264/59567 [============================>.] - ETA: 0s - loss: 3.3588e-05 - accuracy: 1.0000WARNING:tensorflow:Early stopping conditioned on metric `val_loss` which is not available. Available metrics are: loss,accuracy\n",
      "59567/59567 [==============================] - 4s 60us/sample - loss: 3.3468e-05 - accuracy: 1.0000\n",
      "Epoch 10/10\n",
      "59264/59567 [============================>.] - ETA: 0s - loss: 3.9106e-05 - accuracy: 1.0000WARNING:tensorflow:Early stopping conditioned on metric `val_loss` which is not available. Available metrics are: loss,accuracy\n",
      "59567/59567 [==============================] - 4s 60us/sample - loss: 3.9002e-05 - accuracy: 1.0000\n"
     ]
    },
    {
     "data": {
      "text/plain": [
       "<tensorflow.python.keras.callbacks.History at 0x20ffa8c8f48>"
      ]
     },
     "execution_count": 12,
     "metadata": {},
     "output_type": "execute_result"
    },
    {
     "name": "stdout",
     "output_type": "stream",
     "text": [
      "accuracy_score 0.9999669512010878\n",
      "recall_score 0.9994568169473113\n",
      "precision_score 0.9986431478968792\n",
      "f1_score 0.9990498167503733\n",
      "Model: \"model_3\"\n",
      "_________________________________________________________________\n",
      "Layer (type)                 Output Shape              Param #   \n",
      "=================================================================\n",
      "input_1 (InputLayer)         [(None, 32, 256)]         0         \n",
      "_________________________________________________________________\n",
      "bidirectional (Bidirectional (None, 32, 96)            117120    \n",
      "_________________________________________________________________\n",
      "time_distributed (TimeDistri (None, 32, 1)             97        \n",
      "=================================================================\n",
      "Total params: 117,217\n",
      "Trainable params: 117,217\n",
      "Non-trainable params: 0\n",
      "_________________________________________________________________\n",
      "======Training stage======\n",
      "Train on 59567 samples\n",
      "Epoch 1/10\n",
      "58880/59567 [============================>.] - ETA: 0s - loss: 4.5900e-05 - accuracy: 1.0000WARNING:tensorflow:Early stopping conditioned on metric `val_loss` which is not available. Available metrics are: loss,accuracy\n",
      "59567/59567 [==============================] - 6s 104us/sample - loss: 4.5493e-05 - accuracy: 1.0000\n",
      "Epoch 2/10\n",
      "59136/59567 [============================>.] - ETA: 0s - loss: 3.6178e-05 - accuracy: 1.0000WARNING:tensorflow:Early stopping conditioned on metric `val_loss` which is not available. Available metrics are: loss,accuracy\n",
      "59567/59567 [==============================] - 4s 61us/sample - loss: 3.5947e-05 - accuracy: 1.0000\n",
      "Epoch 3/10\n",
      "59520/59567 [============================>.] - ETA: 0s - loss: 2.6347e-05 - accuracy: 1.0000WARNING:tensorflow:Early stopping conditioned on metric `val_loss` which is not available. Available metrics are: loss,accuracy\n",
      "59567/59567 [==============================] - 4s 62us/sample - loss: 2.6328e-05 - accuracy: 1.0000\n",
      "Epoch 4/10\n",
      "59264/59567 [============================>.] - ETA: 0s - loss: 2.6818e-05 - accuracy: 1.0000WARNING:tensorflow:Early stopping conditioned on metric `val_loss` which is not available. Available metrics are: loss,accuracy\n",
      "59567/59567 [==============================] - 4s 61us/sample - loss: 2.6684e-05 - accuracy: 1.0000\n",
      "Epoch 5/10\n",
      "59264/59567 [============================>.] - ETA: 0s - loss: 2.9979e-05 - accuracy: 1.0000WARNING:tensorflow:Early stopping conditioned on metric `val_loss` which is not available. Available metrics are: loss,accuracy\n",
      "59567/59567 [==============================] - 4s 61us/sample - loss: 2.9848e-05 - accuracy: 1.0000\n",
      "Epoch 6/10\n",
      "59264/59567 [============================>.] - ETA: 0s - loss: 2.2839e-05 - accuracy: 1.0000WARNING:tensorflow:Early stopping conditioned on metric `val_loss` which is not available. Available metrics are: loss,accuracy\n",
      "59567/59567 [==============================] - 4s 61us/sample - loss: 2.2725e-05 - accuracy: 1.0000\n",
      "Epoch 7/10\n",
      "59264/59567 [============================>.] - ETA: 0s - loss: 1.6532e-05 - accuracy: 1.0000WARNING:tensorflow:Early stopping conditioned on metric `val_loss` which is not available. Available metrics are: loss,accuracy\n",
      "59567/59567 [==============================] - 4s 61us/sample - loss: 1.6465e-05 - accuracy: 1.0000\n",
      "Epoch 8/10\n",
      "59264/59567 [============================>.] - ETA: 0s - loss: 1.8211e-05 - accuracy: 1.0000WARNING:tensorflow:Early stopping conditioned on metric `val_loss` which is not available. Available metrics are: loss,accuracy\n",
      "59567/59567 [==============================] - 4s 61us/sample - loss: 1.8119e-05 - accuracy: 1.0000\n",
      "Epoch 9/10\n",
      "59264/59567 [============================>.] - ETA: 0s - loss: 1.4165e-05 - accuracy: 1.0000WARNING:tensorflow:Early stopping conditioned on metric `val_loss` which is not available. Available metrics are: loss,accuracy\n",
      "59567/59567 [==============================] - 4s 61us/sample - loss: 1.4096e-05 - accuracy: 1.0000\n",
      "Epoch 10/10\n",
      "58880/59567 [============================>.] - ETA: 0s - loss: 1.5938e-05 - accuracy: 1.0000WARNING:tensorflow:Early stopping conditioned on metric `val_loss` which is not available. Available metrics are: loss,accuracy\n",
      "59567/59567 [==============================] - 4s 62us/sample - loss: 1.6087e-05 - accuracy: 1.0000\n"
     ]
    },
    {
     "data": {
      "text/plain": [
       "<tensorflow.python.keras.callbacks.History at 0x210006e1f48>"
      ]
     },
     "execution_count": 12,
     "metadata": {},
     "output_type": "execute_result"
    },
    {
     "name": "stdout",
     "output_type": "stream",
     "text": [
      "accuracy_score 0.9999858362290376\n",
      "recall_score 1.0\n",
      "precision_score 0.9991645781119465\n",
      "f1_score 0.9995821145006268\n",
      "Model: \"model_4\"\n",
      "_________________________________________________________________\n",
      "Layer (type)                 Output Shape              Param #   \n",
      "=================================================================\n",
      "input_1 (InputLayer)         [(None, 32, 256)]         0         \n",
      "_________________________________________________________________\n",
      "bidirectional (Bidirectional (None, 32, 96)            117120    \n",
      "_________________________________________________________________\n",
      "time_distributed (TimeDistri (None, 32, 1)             97        \n",
      "=================================================================\n",
      "Total params: 117,217\n",
      "Trainable params: 117,217\n",
      "Non-trainable params: 0\n",
      "_________________________________________________________________\n",
      "======Training stage======\n",
      "Train on 59567 samples\n",
      "Epoch 1/10\n",
      "59392/59567 [============================>.] - ETA: 0s - loss: 2.8396e-05 - accuracy: 1.0000WARNING:tensorflow:Early stopping conditioned on metric `val_loss` which is not available. Available metrics are: loss,accuracy\n",
      "59567/59567 [==============================] - 6s 103us/sample - loss: 2.8313e-05 - accuracy: 1.0000\n",
      "Epoch 2/10\n",
      "59136/59567 [============================>.] - ETA: 0s - loss: 1.1090e-05 - accuracy: 1.0000WARNING:tensorflow:Early stopping conditioned on metric `val_loss` which is not available. Available metrics are: loss,accuracy\n",
      "59567/59567 [==============================] - 4s 61us/sample - loss: 1.1021e-05 - accuracy: 1.0000\n",
      "Epoch 3/10\n",
      "59264/59567 [============================>.] - ETA: 0s - loss: 1.4420e-05 - accuracy: 1.0000WARNING:tensorflow:Early stopping conditioned on metric `val_loss` which is not available. Available metrics are: loss,accuracy\n",
      "59567/59567 [==============================] - 4s 61us/sample - loss: 1.4349e-05 - accuracy: 1.0000\n",
      "Epoch 4/10\n",
      "59136/59567 [============================>.] - ETA: 0s - loss: 1.4080e-05 - accuracy: 1.0000WARNING:tensorflow:Early stopping conditioned on metric `val_loss` which is not available. Available metrics are: loss,accuracy\n",
      "59567/59567 [==============================] - 4s 61us/sample - loss: 1.3980e-05 - accuracy: 1.0000\n",
      "Epoch 5/10\n",
      "59264/59567 [============================>.] - ETA: 0s - loss: 6.8819e-06 - accuracy: 1.0000WARNING:tensorflow:Early stopping conditioned on metric `val_loss` which is not available. Available metrics are: loss,accuracy\n",
      "59567/59567 [==============================] - 4s 61us/sample - loss: 6.8481e-06 - accuracy: 1.0000\n",
      "Epoch 6/10\n",
      "59264/59567 [============================>.] - ETA: 0s - loss: 8.6397e-06 - accuracy: 1.0000WARNING:tensorflow:Early stopping conditioned on metric `val_loss` which is not available. Available metrics are: loss,accuracy\n",
      "59567/59567 [==============================] - 4s 61us/sample - loss: 8.6030e-06 - accuracy: 1.0000\n",
      "Epoch 7/10\n",
      "59264/59567 [============================>.] - ETA: 0s - loss: 1.0280e-05 - accuracy: 1.0000WARNING:tensorflow:Early stopping conditioned on metric `val_loss` which is not available. Available metrics are: loss,accuracy\n",
      "59567/59567 [==============================] - 4s 61us/sample - loss: 1.0232e-05 - accuracy: 1.0000\n",
      "Epoch 8/10\n",
      "59264/59567 [============================>.] - ETA: 0s - loss: 8.7842e-06 - accuracy: 1.0000WARNING:tensorflow:Early stopping conditioned on metric `val_loss` which is not available. Available metrics are: loss,accuracy\n",
      "59567/59567 [==============================] - 4s 61us/sample - loss: 8.7403e-06 - accuracy: 1.0000\n",
      "Epoch 9/10\n",
      "59136/59567 [============================>.] - ETA: 0s - loss: 1.2578e-05 - accuracy: 1.0000WARNING:tensorflow:Early stopping conditioned on metric `val_loss` which is not available. Available metrics are: loss,accuracy\n",
      "59567/59567 [==============================] - 4s 61us/sample - loss: 1.2487e-05 - accuracy: 1.0000\n",
      "Epoch 10/10\n",
      "59264/59567 [============================>.] - ETA: 0s - loss: 2.5749e-06 - accuracy: 1.0000WARNING:tensorflow:Early stopping conditioned on metric `val_loss` which is not available. Available metrics are: loss,accuracy\n",
      "59567/59567 [==============================] - 4s 61us/sample - loss: 2.5622e-06 - accuracy: 1.0000\n"
     ]
    },
    {
     "data": {
      "text/plain": [
       "<tensorflow.python.keras.callbacks.History at 0x21038881288>"
      ]
     },
     "execution_count": 12,
     "metadata": {},
     "output_type": "execute_result"
    },
    {
     "name": "stdout",
     "output_type": "stream",
     "text": [
      "accuracy_score 1.0\n",
      "recall_score 1.0\n",
      "precision_score 1.0\n",
      "f1_score 1.0\n",
      "Model: \"model_5\"\n",
      "_________________________________________________________________\n",
      "Layer (type)                 Output Shape              Param #   \n",
      "=================================================================\n",
      "input_1 (InputLayer)         [(None, 32, 256)]         0         \n",
      "_________________________________________________________________\n",
      "bidirectional (Bidirectional (None, 32, 96)            117120    \n",
      "_________________________________________________________________\n",
      "time_distributed (TimeDistri (None, 32, 1)             97        \n",
      "=================================================================\n",
      "Total params: 117,217\n",
      "Trainable params: 117,217\n",
      "Non-trainable params: 0\n",
      "_________________________________________________________________\n",
      "======Training stage======\n",
      "Train on 59567 samples\n",
      "Epoch 1/10\n",
      "59008/59567 [============================>.] - ETA: 0s - loss: 1.5390e-05 - accuracy: 1.0000WARNING:tensorflow:Early stopping conditioned on metric `val_loss` which is not available. Available metrics are: loss,accuracy\n",
      "59567/59567 [==============================] - 6s 105us/sample - loss: 1.5247e-05 - accuracy: 1.0000\n",
      "Epoch 2/10\n",
      "59008/59567 [============================>.] - ETA: 0s - loss: 5.2867e-06 - accuracy: 1.0000WARNING:tensorflow:Early stopping conditioned on metric `val_loss` which is not available. Available metrics are: loss,accuracy\n",
      "59567/59567 [==============================] - 4s 62us/sample - loss: 5.2383e-06 - accuracy: 1.0000\n",
      "Epoch 3/10\n",
      "59264/59567 [============================>.] - ETA: 0s - loss: 1.1977e-05 - accuracy: 1.0000WARNING:tensorflow:Early stopping conditioned on metric `val_loss` which is not available. Available metrics are: loss,accuracy\n",
      "59567/59567 [==============================] - 4s 61us/sample - loss: 1.1917e-05 - accuracy: 1.0000\n",
      "Epoch 4/10\n",
      "59008/59567 [============================>.] - ETA: 0s - loss: 8.0714e-06 - accuracy: 1.0000WARNING:tensorflow:Early stopping conditioned on metric `val_loss` which is not available. Available metrics are: loss,accuracy\n",
      "59567/59567 [==============================] - 4s 66us/sample - loss: 8.0005e-06 - accuracy: 1.0000\n",
      "Epoch 5/10\n",
      "59136/59567 [============================>.] - ETA: 0s - loss: 1.1603e-05 - accuracy: 1.0000WARNING:tensorflow:Early stopping conditioned on metric `val_loss` which is not available. Available metrics are: loss,accuracy\n",
      "59567/59567 [==============================] - 4s 61us/sample - loss: 1.1520e-05 - accuracy: 1.0000\n",
      "Epoch 6/10\n",
      "59264/59567 [============================>.] - ETA: 0s - loss: 9.1502e-07 - accuracy: 1.0000WARNING:tensorflow:Early stopping conditioned on metric `val_loss` which is not available. Available metrics are: loss,accuracy\n",
      "59567/59567 [==============================] - 4s 61us/sample - loss: 9.1047e-07 - accuracy: 1.0000\n",
      "Epoch 7/10\n",
      "59264/59567 [============================>.] - ETA: 0s - loss: 2.6648e-06 - accuracy: 1.0000WARNING:tensorflow:Early stopping conditioned on metric `val_loss` which is not available. Available metrics are: loss,accuracy\n",
      "59567/59567 [==============================] - 4s 61us/sample - loss: 2.7058e-06 - accuracy: 1.0000\n",
      "Epoch 8/10\n",
      "59264/59567 [============================>.] - ETA: 0s - loss: 1.7353e-06 - accuracy: 1.0000WARNING:tensorflow:Early stopping conditioned on metric `val_loss` which is not available. Available metrics are: loss,accuracy\n",
      "59567/59567 [==============================] - 4s 61us/sample - loss: 1.7265e-06 - accuracy: 1.0000\n",
      "Epoch 9/10\n",
      "59264/59567 [============================>.] - ETA: 0s - loss: 2.3311e-06 - accuracy: 1.0000WARNING:tensorflow:Early stopping conditioned on metric `val_loss` which is not available. Available metrics are: loss,accuracy\n",
      "59567/59567 [==============================] - 4s 61us/sample - loss: 2.3231e-06 - accuracy: 1.0000\n",
      "Epoch 10/10\n",
      "59264/59567 [============================>.] - ETA: 0s - loss: 1.5768e-06 - accuracy: 1.0000WARNING:tensorflow:Early stopping conditioned on metric `val_loss` which is not available. Available metrics are: loss,accuracy\n",
      "59567/59567 [==============================] - 4s 61us/sample - loss: 1.5689e-06 - accuracy: 1.0000\n"
     ]
    },
    {
     "data": {
      "text/plain": [
       "<tensorflow.python.keras.callbacks.History at 0x2100fed1e48>"
      ]
     },
     "execution_count": 12,
     "metadata": {},
     "output_type": "execute_result"
    },
    {
     "name": "stdout",
     "output_type": "stream",
     "text": [
      "accuracy_score 1.0\n",
      "recall_score 1.0\n",
      "precision_score 1.0\n",
      "f1_score 1.0\n",
      "Model: \"model_6\"\n",
      "_________________________________________________________________\n",
      "Layer (type)                 Output Shape              Param #   \n",
      "=================================================================\n",
      "input_1 (InputLayer)         [(None, 32, 256)]         0         \n",
      "_________________________________________________________________\n",
      "bidirectional (Bidirectional (None, 32, 96)            117120    \n",
      "_________________________________________________________________\n",
      "time_distributed (TimeDistri (None, 32, 1)             97        \n",
      "=================================================================\n",
      "Total params: 117,217\n",
      "Trainable params: 117,217\n",
      "Non-trainable params: 0\n",
      "_________________________________________________________________\n",
      "======Training stage======\n",
      "Train on 59568 samples\n",
      "Epoch 1/10\n",
      "59520/59568 [============================>.] - ETA: 0s - loss: 6.6627e-06 - accuracy: 1.0000WARNING:tensorflow:Early stopping conditioned on metric `val_loss` which is not available. Available metrics are: loss,accuracy\n",
      "59568/59568 [==============================] - 8s 127us/sample - loss: 6.6573e-06 - accuracy: 1.0000\n",
      "Epoch 2/10\n",
      "59264/59568 [============================>.] - ETA: 0s - loss: 1.3526e-05 - accuracy: 1.0000WARNING:tensorflow:Early stopping conditioned on metric `val_loss` which is not available. Available metrics are: loss,accuracy\n",
      "59568/59568 [==============================] - 4s 61us/sample - loss: 1.3458e-05 - accuracy: 1.0000\n",
      "Epoch 3/10\n",
      "59264/59568 [============================>.] - ETA: 0s - loss: 2.1528e-06 - accuracy: 1.0000WARNING:tensorflow:Early stopping conditioned on metric `val_loss` which is not available. Available metrics are: loss,accuracy\n",
      "59568/59568 [==============================] - 4s 61us/sample - loss: 2.1418e-06 - accuracy: 1.0000\n",
      "Epoch 4/10\n",
      "59136/59568 [============================>.] - ETA: 0s - loss: 1.3650e-06 - accuracy: 1.0000WARNING:tensorflow:Early stopping conditioned on metric `val_loss` which is not available. Available metrics are: loss,accuracy\n",
      "59568/59568 [==============================] - 4s 61us/sample - loss: 1.3552e-06 - accuracy: 1.0000\n",
      "Epoch 5/10\n",
      "59264/59568 [============================>.] - ETA: 0s - loss: 5.8131e-06 - accuracy: 1.0000WARNING:tensorflow:Early stopping conditioned on metric `val_loss` which is not available. Available metrics are: loss,accuracy\n",
      "59568/59568 [==============================] - 4s 61us/sample - loss: 5.7834e-06 - accuracy: 1.0000\n",
      "Epoch 6/10\n",
      "59264/59568 [============================>.] - ETA: 0s - loss: 1.4912e-06 - accuracy: 1.0000WARNING:tensorflow:Early stopping conditioned on metric `val_loss` which is not available. Available metrics are: loss,accuracy\n",
      "59568/59568 [==============================] - 4s 61us/sample - loss: 1.4852e-06 - accuracy: 1.0000\n",
      "Epoch 7/10\n",
      "59264/59568 [============================>.] - ETA: 0s - loss: 5.4639e-07 - accuracy: 1.0000WARNING:tensorflow:Early stopping conditioned on metric `val_loss` which is not available. Available metrics are: loss,accuracy\n",
      "59568/59568 [==============================] - 4s 61us/sample - loss: 5.4362e-07 - accuracy: 1.0000\n",
      "Epoch 8/10\n",
      "59264/59568 [============================>.] - ETA: 0s - loss: 3.5209e-07 - accuracy: 1.0000WARNING:tensorflow:Early stopping conditioned on metric `val_loss` which is not available. Available metrics are: loss,accuracy\n",
      "59568/59568 [==============================] - 4s 61us/sample - loss: 3.5111e-07 - accuracy: 1.0000\n",
      "Epoch 9/10\n",
      "59008/59568 [============================>.] - ETA: 0s - loss: 2.1732e-07 - accuracy: 1.0000WARNING:tensorflow:Early stopping conditioned on metric `val_loss` which is not available. Available metrics are: loss,accuracy\n",
      "59568/59568 [==============================] - 4s 62us/sample - loss: 2.1539e-07 - accuracy: 1.0000\n",
      "Epoch 10/10\n",
      "59264/59568 [============================>.] - ETA: 0s - loss: 3.2786e-06 - accuracy: 1.0000WARNING:tensorflow:Early stopping conditioned on metric `val_loss` which is not available. Available metrics are: loss,accuracy\n",
      "59568/59568 [==============================] - 4s 61us/sample - loss: 3.2661e-06 - accuracy: 1.0000\n"
     ]
    },
    {
     "data": {
      "text/plain": [
       "<tensorflow.python.keras.callbacks.History at 0x2100c0ed848>"
      ]
     },
     "execution_count": 12,
     "metadata": {},
     "output_type": "execute_result"
    },
    {
     "name": "stdout",
     "output_type": "stream",
     "text": [
      "accuracy_score 1.0\n",
      "recall_score 1.0\n",
      "precision_score 1.0\n",
      "f1_score 1.0\n",
      "Model: \"model_7\"\n",
      "_________________________________________________________________\n",
      "Layer (type)                 Output Shape              Param #   \n",
      "=================================================================\n",
      "input_1 (InputLayer)         [(None, 32, 256)]         0         \n",
      "_________________________________________________________________\n",
      "bidirectional (Bidirectional (None, 32, 96)            117120    \n",
      "_________________________________________________________________\n",
      "time_distributed (TimeDistri (None, 32, 1)             97        \n",
      "=================================================================\n",
      "Total params: 117,217\n",
      "Trainable params: 117,217\n",
      "Non-trainable params: 0\n",
      "_________________________________________________________________\n",
      "======Training stage======\n",
      "Train on 59568 samples\n",
      "Epoch 1/10\n",
      "58752/59568 [============================>.] - ETA: 0s - loss: 4.5234e-07 - accuracy: 1.0000WARNING:tensorflow:Early stopping conditioned on metric `val_loss` which is not available. Available metrics are: loss,accuracy\n",
      "59568/59568 [==============================] - 6s 103us/sample - loss: 1.2329e-06 - accuracy: 1.0000\n",
      "Epoch 2/10\n",
      "59264/59568 [============================>.] - ETA: 0s - loss: 2.6442e-07 - accuracy: 1.0000WARNING:tensorflow:Early stopping conditioned on metric `val_loss` which is not available. Available metrics are: loss,accuracy\n",
      "59568/59568 [==============================] - 4s 61us/sample - loss: 2.6308e-07 - accuracy: 1.0000\n",
      "Epoch 3/10\n",
      "59136/59568 [============================>.] - ETA: 0s - loss: 3.4208e-07 - accuracy: 1.0000WARNING:tensorflow:Early stopping conditioned on metric `val_loss` which is not available. Available metrics are: loss,accuracy\n",
      "59568/59568 [==============================] - 4s 61us/sample - loss: 3.4429e-07 - accuracy: 1.0000\n",
      "Epoch 4/10\n",
      "59264/59568 [============================>.] - ETA: 0s - loss: 1.4785e-08 - accuracy: 1.0000WARNING:tensorflow:Early stopping conditioned on metric `val_loss` which is not available. Available metrics are: loss,accuracy\n",
      "59568/59568 [==============================] - 4s 61us/sample - loss: 1.4726e-08 - accuracy: 1.0000\n",
      "Epoch 5/10\n",
      "59136/59568 [============================>.] - ETA: 0s - loss: 1.5189e-07 - accuracy: 1.0000WARNING:tensorflow:Early stopping conditioned on metric `val_loss` which is not available. Available metrics are: loss,accuracy\n",
      "59568/59568 [==============================] - 4s 61us/sample - loss: 1.5080e-07 - accuracy: 1.0000\n",
      "Epoch 6/10\n",
      "59136/59568 [============================>.] - ETA: 0s - loss: 5.4703e-08 - accuracy: 1.0000WARNING:tensorflow:Early stopping conditioned on metric `val_loss` which is not available. Available metrics are: loss,accuracy\n",
      "59568/59568 [==============================] - 4s 62us/sample - loss: 5.4390e-08 - accuracy: 1.0000\n",
      "Epoch 7/10\n",
      "59264/59568 [============================>.] - ETA: 0s - loss: 1.1944e-07 - accuracy: 1.0000WARNING:tensorflow:Early stopping conditioned on metric `val_loss` which is not available. Available metrics are: loss,accuracy\n",
      "59568/59568 [==============================] - 4s 61us/sample - loss: 1.1884e-07 - accuracy: 1.0000\n",
      "Epoch 8/10\n",
      "59264/59568 [============================>.] - ETA: 0s - loss: 4.5167e-07 - accuracy: 1.0000WARNING:tensorflow:Early stopping conditioned on metric `val_loss` which is not available. Available metrics are: loss,accuracy\n",
      "59568/59568 [==============================] - 4s 61us/sample - loss: 4.4938e-07 - accuracy: 1.0000\n",
      "Epoch 9/10\n",
      "59264/59568 [============================>.] - ETA: 0s - loss: 8.2044e-08 - accuracy: 1.0000WARNING:tensorflow:Early stopping conditioned on metric `val_loss` which is not available. Available metrics are: loss,accuracy\n",
      "59568/59568 [==============================] - 4s 61us/sample - loss: 8.1697e-08 - accuracy: 1.0000\n",
      "Epoch 10/10\n",
      "59264/59568 [============================>.] - ETA: 0s - loss: 5.9197e-09 - accuracy: 1.0000WARNING:tensorflow:Early stopping conditioned on metric `val_loss` which is not available. Available metrics are: loss,accuracy\n",
      "59568/59568 [==============================] - 4s 61us/sample - loss: 5.9071e-09 - accuracy: 1.0000\n"
     ]
    },
    {
     "data": {
      "text/plain": [
       "<tensorflow.python.keras.callbacks.History at 0x2100ca01bc8>"
      ]
     },
     "execution_count": 12,
     "metadata": {},
     "output_type": "execute_result"
    },
    {
     "name": "stdout",
     "output_type": "stream",
     "text": [
      "accuracy_score 1.0\n",
      "recall_score 1.0\n",
      "precision_score 1.0\n",
      "f1_score 1.0\n",
      "Model: \"model_8\"\n",
      "_________________________________________________________________\n",
      "Layer (type)                 Output Shape              Param #   \n",
      "=================================================================\n",
      "input_1 (InputLayer)         [(None, 32, 256)]         0         \n",
      "_________________________________________________________________\n",
      "bidirectional (Bidirectional (None, 32, 96)            117120    \n",
      "_________________________________________________________________\n",
      "time_distributed (TimeDistri (None, 32, 1)             97        \n",
      "=================================================================\n",
      "Total params: 117,217\n",
      "Trainable params: 117,217\n",
      "Non-trainable params: 0\n",
      "_________________________________________________________________\n",
      "======Training stage======\n",
      "Train on 59568 samples\n",
      "Epoch 1/10\n",
      "59136/59568 [============================>.] - ETA: 0s - loss: 8.2857e-09 - accuracy: 1.0000WARNING:tensorflow:Early stopping conditioned on metric `val_loss` which is not available. Available metrics are: loss,accuracy\n",
      "59568/59568 [==============================] - 7s 124us/sample - loss: 8.2280e-09 - accuracy: 1.0000\n",
      "Epoch 2/10\n",
      "59264/59568 [============================>.] - ETA: 0s - loss: 1.5936e-08 - accuracy: 1.0000WARNING:tensorflow:Early stopping conditioned on metric `val_loss` which is not available. Available metrics are: loss,accuracy\n",
      "59568/59568 [==============================] - 4s 62us/sample - loss: 1.5865e-08 - accuracy: 1.0000\n",
      "Epoch 3/10\n",
      "59136/59568 [============================>.] - ETA: 0s - loss: 5.2832e-09 - accuracy: 1.0000WARNING:tensorflow:Early stopping conditioned on metric `val_loss` which is not available. Available metrics are: loss,accuracy\n",
      "59568/59568 [==============================] - 4s 61us/sample - loss: 5.2482e-09 - accuracy: 1.0000\n",
      "Epoch 4/10\n",
      "59136/59568 [============================>.] - ETA: 0s - loss: 4.7756e-09 - accuracy: 1.0000WARNING:tensorflow:Early stopping conditioned on metric `val_loss` which is not available. Available metrics are: loss,accuracy\n",
      "59568/59568 [==============================] - 4s 61us/sample - loss: 4.7634e-09 - accuracy: 1.0000\n",
      "Epoch 5/10\n",
      "59264/59568 [============================>.] - ETA: 0s - loss: 3.5889e-09 - accuracy: 1.0000WARNING:tensorflow:Early stopping conditioned on metric `val_loss` which is not available. Available metrics are: loss,accuracy\n",
      "59568/59568 [==============================] - 4s 61us/sample - loss: 3.6506e-09 - accuracy: 1.0000\n",
      "Epoch 6/10\n",
      "59136/59568 [============================>.] - ETA: 0s - loss: 2.7527e-09 - accuracy: 1.0000WARNING:tensorflow:Early stopping conditioned on metric `val_loss` which is not available. Available metrics are: loss,accuracy\n",
      "59568/59568 [==============================] - 4s 61us/sample - loss: 3.8085e-09 - accuracy: 1.0000\n",
      "Epoch 7/10\n",
      "59136/59568 [============================>.] - ETA: 0s - loss: 3.2354e-09 - accuracy: 1.0000WARNING:tensorflow:Early stopping conditioned on metric `val_loss` which is not available. Available metrics are: loss,accuracy\n",
      "59568/59568 [==============================] - 4s 61us/sample - loss: 3.2127e-09 - accuracy: 1.0000\n",
      "Epoch 8/10\n",
      "59264/59568 [============================>.] - ETA: 0s - loss: 2.9950e-09 - accuracy: 1.0000WARNING:tensorflow:Early stopping conditioned on metric `val_loss` which is not available. Available metrics are: loss,accuracy\n",
      "59568/59568 [==============================] - 4s 61us/sample - loss: 2.9901e-09 - accuracy: 1.0000\n",
      "Epoch 9/10\n",
      "59264/59568 [============================>.] - ETA: 0s - loss: 2.6658e-09 - accuracy: 1.0000WARNING:tensorflow:Early stopping conditioned on metric `val_loss` which is not available. Available metrics are: loss,accuracy\n",
      "59568/59568 [==============================] - 4s 61us/sample - loss: 2.6547e-09 - accuracy: 1.0000\n",
      "Epoch 10/10\n",
      "59136/59568 [============================>.] - ETA: 0s - loss: 2.5072e-09 - accuracy: 1.0000WARNING:tensorflow:Early stopping conditioned on metric `val_loss` which is not available. Available metrics are: loss,accuracy\n",
      "59568/59568 [==============================] - 4s 61us/sample - loss: 2.4965e-09 - accuracy: 1.0000\n"
     ]
    },
    {
     "data": {
      "text/plain": [
       "<tensorflow.python.keras.callbacks.History at 0x2101acd2f08>"
      ]
     },
     "execution_count": 12,
     "metadata": {},
     "output_type": "execute_result"
    },
    {
     "name": "stdout",
     "output_type": "stream",
     "text": [
      "accuracy_score 1.0\n",
      "recall_score 1.0\n",
      "precision_score 1.0\n",
      "f1_score 1.0\n",
      "Model: \"model_9\"\n",
      "_________________________________________________________________\n",
      "Layer (type)                 Output Shape              Param #   \n",
      "=================================================================\n",
      "input_1 (InputLayer)         [(None, 32, 256)]         0         \n",
      "_________________________________________________________________\n",
      "bidirectional (Bidirectional (None, 32, 96)            117120    \n",
      "_________________________________________________________________\n",
      "time_distributed (TimeDistri (None, 32, 1)             97        \n",
      "=================================================================\n",
      "Total params: 117,217\n",
      "Trainable params: 117,217\n",
      "Non-trainable params: 0\n",
      "_________________________________________________________________\n",
      "======Training stage======\n",
      "Train on 59568 samples\n",
      "Epoch 1/10\n",
      "59008/59568 [============================>.] - ETA: 0s - loss: 5.3487e-09 - accuracy: 1.0000WARNING:tensorflow:Early stopping conditioned on metric `val_loss` which is not available. Available metrics are: loss,accuracy\n",
      "59568/59568 [==============================] - 6s 103us/sample - loss: 5.3088e-09 - accuracy: 1.0000\n",
      "Epoch 2/10\n",
      "59264/59568 [============================>.] - ETA: 0s - loss: 2.7919e-09 - accuracy: 1.0000WARNING:tensorflow:Early stopping conditioned on metric `val_loss` which is not available. Available metrics are: loss,accuracy\n",
      "59568/59568 [==============================] - 4s 61us/sample - loss: 2.7842e-09 - accuracy: 1.0000\n",
      "Epoch 3/10\n",
      "59136/59568 [============================>.] - ETA: 0s - loss: 3.0194e-09 - accuracy: 1.0000WARNING:tensorflow:Early stopping conditioned on metric `val_loss` which is not available. Available metrics are: loss,accuracy\n",
      "59568/59568 [==============================] - 4s 61us/sample - loss: 3.0133e-09 - accuracy: 1.0000\n",
      "Epoch 4/10\n",
      "59264/59568 [============================>.] - ETA: 0s - loss: 2.5420e-09 - accuracy: 1.0000WARNING:tensorflow:Early stopping conditioned on metric `val_loss` which is not available. Available metrics are: loss,accuracy\n",
      "59568/59568 [==============================] - 4s 61us/sample - loss: 2.5309e-09 - accuracy: 1.0000\n",
      "Epoch 5/10\n",
      "58752/59568 [============================>.] - ETA: 0s - loss: 2.1838e-09 - accuracy: 1.0000WARNING:tensorflow:Early stopping conditioned on metric `val_loss` which is not available. Available metrics are: loss,accuracy\n",
      "59568/59568 [==============================] - 4s 62us/sample - loss: 2.1793e-09 - accuracy: 1.0000\n",
      "Epoch 6/10\n",
      "59264/59568 [============================>.] - ETA: 0s - loss: 1.9645e-09 - accuracy: 1.0000WARNING:tensorflow:Early stopping conditioned on metric `val_loss` which is not available. Available metrics are: loss,accuracy\n",
      "59568/59568 [==============================] - 4s 61us/sample - loss: 1.9597e-09 - accuracy: 1.0000\n",
      "Epoch 7/10\n",
      "59264/59568 [============================>.] - ETA: 0s - loss: 2.0110e-09 - accuracy: 1.0000WARNING:tensorflow:Early stopping conditioned on metric `val_loss` which is not available. Available metrics are: loss,accuracy\n",
      "59568/59568 [==============================] - 4s 61us/sample - loss: 2.0064e-09 - accuracy: 1.0000\n",
      "Epoch 8/10\n",
      "59520/59568 [============================>.] - ETA: 0s - loss: 1.8437e-09 - accuracy: 1.0000WARNING:tensorflow:Early stopping conditioned on metric `val_loss` which is not available. Available metrics are: loss,accuracy\n",
      "59568/59568 [==============================] - 4s 62us/sample - loss: 1.8423e-09 - accuracy: 1.0000\n",
      "Epoch 9/10\n",
      "59264/59568 [============================>.] - ETA: 0s - loss: 1.7713e-09 - accuracy: 1.0000WARNING:tensorflow:Early stopping conditioned on metric `val_loss` which is not available. Available metrics are: loss,accuracy\n",
      "59568/59568 [==============================] - 4s 61us/sample - loss: 1.7679e-09 - accuracy: 1.0000\n",
      "Epoch 10/10\n",
      "59264/59568 [============================>.] - ETA: 0s - loss: 1.7436e-09 - accuracy: 1.0000WARNING:tensorflow:Early stopping conditioned on metric `val_loss` which is not available. Available metrics are: loss,accuracy\n",
      "59568/59568 [==============================] - 4s 61us/sample - loss: 1.7374e-09 - accuracy: 1.0000\n"
     ]
    },
    {
     "data": {
      "text/plain": [
       "<tensorflow.python.keras.callbacks.History at 0x21038ace2c8>"
      ]
     },
     "execution_count": 12,
     "metadata": {},
     "output_type": "execute_result"
    },
    {
     "name": "stdout",
     "output_type": "stream",
     "text": [
      "accuracy_score 1.0\n",
      "recall_score 1.0\n",
      "precision_score 1.0\n",
      "f1_score 1.0\n",
      "\n",
      "K-fold cross validation Accuracy: [0.999938623659163, 0.9999622299441003, 0.9999669512010878, 0.9999858362290376, 1.0, 1.0, 1.0, 1.0, 1.0, 1.0]\n",
      "\n",
      "K-fold cross validation Recall: [0.9972260748959778, 0.9983753046303818, 0.9994568169473113, 1.0, 1.0, 1.0, 1.0, 1.0, 1.0, 1.0]\n",
      "\n",
      "K-fold cross validation Precision: [0.9991662034463591, 0.9994578476551911, 0.9986431478968792, 0.9991645781119465, 1.0, 1.0, 1.0, 1.0, 1.0, 1.0]\n",
      "\n",
      "K-fold cross validation F1-Score: [0.9981951964459254, 0.9989162828501761, 0.9990498167503733, 0.9995821145006268, 1.0, 1.0, 1.0, 1.0, 1.0, 1.0]\n"
     ]
    }
   ],
   "source": [
    "# 교차검증 kfold\n",
    "from sklearn.model_selection import KFold\n",
    "\n",
    "# Accuracy, Precision, Recall, F1-Score\n",
    "from sklearn.metrics import accuracy_score, recall_score, precision_score, f1_score\n",
    "\n",
    "# Confusion Matrix, ROC Curve\n",
    "from sklearn.metrics import confusion_matrix, roc_auc_score\n",
    "\n",
    "# 최종 평가지표들 평균용\n",
    "accuracy, recall, precision, f1score, cm = [], [], [], [], []\n",
    "\n",
    "# 11. 교차검증 kfold - k.split - 10회 / K-Fold 객체 생성\n",
    "# kf = KFold(n_splits=10, shuffle=False, random_state=None) # KFold non shuffle 버전\n",
    "kf = KFold(n_splits=10, shuffle=True, random_state=None) # KFold non shuffle 버전\n",
    "\n",
    "for train, validation in kf.split(x_bc6_0, y_bc6_0):\n",
    "    model1 = models.Model(xInput, xOutput)\n",
    "    model1.compile(loss='binary_crossentropy', optimizer='rmsprop', metrics=['accuracy'])\n",
    "    model1.summary()\n",
    "    print('======Training stage======')\n",
    "    model1.fit(x_bc6_0[train],\n",
    "               y_bc6_0[train],\n",
    "               epochs = 10,\n",
    "               batch_size = 128,\n",
    "               callbacks=[early_stopping])\n",
    "    #k_accuracy = '%.4f' %(model1.evaluate(data_10000x[validation], data_10000y[validation])[1])\n",
    "\n",
    "# 12. 교차검증결과 predict - 검증셋들\n",
    "    # predict 값\n",
    "    k_pr = model1.predict(x_bc6_0[validation])\n",
    "    \n",
    "    # 테스트 predict 결과들 비교 (평가지표 보기위함)\n",
    "    pred = np.round(np.array(k_pr).flatten().tolist())\n",
    "    y_test = np.array(y_bc6_0[validation]).flatten().tolist()\n",
    "    \n",
    "# 13. 평가지표들 출력\n",
    "    ## 평가지표들\n",
    "    k_accuracy = float(accuracy_score(y_test, pred))\n",
    "    k_recall =  float(recall_score(y_test, pred))\n",
    "    k_precision = float(precision_score(y_test, pred))\n",
    "    k_f1_score = float(f1_score(y_test, pred))\n",
    "    #k_cm = float(confusion_matrix(y_test, pred))\n",
    "    \n",
    "    print('accuracy_score', k_accuracy)\n",
    "    print('recall_score', k_recall)\n",
    "    print('precision_score', k_precision)\n",
    "    print('f1_score', k_f1_score)\n",
    "    #print('\\nconfusion_matrix\\n', k_cm)\n",
    "\n",
    "    accuracy.append(k_accuracy)\n",
    "    recall.append(k_recall)\n",
    "    precision.append(k_precision)\n",
    "    f1score.append(k_f1_score)\n",
    "    #cm.append(k_cm)\n",
    "#    print('roc_curve 면적', roc_auc_score(y_test, pred))\n",
    "\n",
    "# 최종 결과지표\n",
    "print('\\nK-fold cross validation Accuracy: {}'.format(accuracy))\n",
    "print('\\nK-fold cross validation Recall: {}'.format(recall))\n",
    "print('\\nK-fold cross validation Precision: {}'.format(precision))\n",
    "print('\\nK-fold cross validation F1-Score: {}'.format(f1score))\n",
    "#print('\\nK-fold cross validation ConfusionMatrix: {}'.format(cm))"
   ]
  },
  {
   "cell_type": "markdown",
   "metadata": {},
   "source": [
    "## (9) 평가지표"
   ]
  },
  {
   "cell_type": "code",
   "execution_count": 13,
   "metadata": {},
   "outputs": [
    {
     "name": "stdout",
     "output_type": "stream",
     "text": [
      "10-Fold Cross_validation. Accuracy : 0.9999853641033389\n",
      "10-Fold Cross_validation. Recall : 0.9995058196473672\n",
      "10-Fold Cross_validation. Precision : 0.9996431777110375\n",
      "10-Fold Cross_validation. F1-Score : 0.9995743410547101\n"
     ]
    }
   ],
   "source": [
    "print('10-Fold Cross_validation. Accuracy :', np.mean(accuracy))\n",
    "print('10-Fold Cross_validation. Recall :', np.mean(recall))\n",
    "print('10-Fold Cross_validation. Precision :', np.mean(precision))\n",
    "print('10-Fold Cross_validation. F1-Score :', np.mean(f1score))"
   ]
  },
  {
   "cell_type": "code",
   "execution_count": 14,
   "metadata": {},
   "outputs": [
    {
     "name": "stdout",
     "output_type": "stream",
     "text": [
      "save 완료\n"
     ]
    }
   ],
   "source": [
    "model1.save('gcc6_bin_s32_h48_o0.h5')\n",
    "print('save 완료')"
   ]
  }
 ],
 "metadata": {
  "kernelspec": {
   "display_name": "Python 3",
   "language": "python",
   "name": "python3"
  },
  "language_info": {
   "codemirror_mode": {
    "name": "ipython",
    "version": 3
   },
   "file_extension": ".py",
   "mimetype": "text/x-python",
   "name": "python",
   "nbconvert_exporter": "python",
   "pygments_lexer": "ipython3",
   "version": "3.7.5"
  }
 },
 "nbformat": 4,
 "nbformat_minor": 4
}
