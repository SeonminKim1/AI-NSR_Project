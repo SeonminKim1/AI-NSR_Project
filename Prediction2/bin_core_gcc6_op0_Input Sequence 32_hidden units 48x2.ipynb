{
 "cells": [
  {
   "cell_type": "markdown",
   "metadata": {},
   "source": [
    "## RNN 모델 N-Byte 방식 (함수정보 포함 vs 미포함 => 1:1 비율)\n",
    "\n",
    "## (1) 데이터로드"
   ]
  },
  {
   "cell_type": "code",
   "execution_count": 3,
   "metadata": {},
   "outputs": [
    {
     "name": "stdout",
     "output_type": "stream",
     "text": [
      "(30092946, 2)\n",
      "reset_index 완료\n",
      "input data shape\n"
     ]
    },
    {
     "data": {
      "text/html": [
       "<div>\n",
       "<style scoped>\n",
       "    .dataframe tbody tr th:only-of-type {\n",
       "        vertical-align: middle;\n",
       "    }\n",
       "\n",
       "    .dataframe tbody tr th {\n",
       "        vertical-align: top;\n",
       "    }\n",
       "\n",
       "    .dataframe thead th {\n",
       "        text-align: right;\n",
       "    }\n",
       "</style>\n",
       "<table border=\"1\" class=\"dataframe\">\n",
       "  <thead>\n",
       "    <tr style=\"text-align: right;\">\n",
       "      <th></th>\n",
       "      <th>bin</th>\n",
       "      <th>label</th>\n",
       "    </tr>\n",
       "  </thead>\n",
       "  <tbody>\n",
       "    <tr>\n",
       "      <th>0</th>\n",
       "      <td>47</td>\n",
       "      <td>0</td>\n",
       "    </tr>\n",
       "    <tr>\n",
       "      <th>1</th>\n",
       "      <td>108</td>\n",
       "      <td>0</td>\n",
       "    </tr>\n",
       "    <tr>\n",
       "      <th>2</th>\n",
       "      <td>105</td>\n",
       "      <td>0</td>\n",
       "    </tr>\n",
       "    <tr>\n",
       "      <th>3</th>\n",
       "      <td>98</td>\n",
       "      <td>0</td>\n",
       "    </tr>\n",
       "    <tr>\n",
       "      <th>4</th>\n",
       "      <td>47</td>\n",
       "      <td>0</td>\n",
       "    </tr>\n",
       "  </tbody>\n",
       "</table>\n",
       "</div>"
      ],
      "text/plain": [
       "   bin  label\n",
       "0   47      0\n",
       "1  108      0\n",
       "2  105      0\n",
       "3   98      0\n",
       "4   47      0"
      ]
     },
     "execution_count": 3,
     "metadata": {},
     "output_type": "execute_result"
    }
   ],
   "source": [
    "# (1) 데이터로드\n",
    "import pandas as pd\n",
    "import numpy as np\n",
    "\n",
    "import warnings\n",
    "warnings.filterwarnings(action='ignore')\n",
    "\n",
    "# 여러개 쳐도 나오게\n",
    "from IPython.core.interactiveshell import InteractiveShell\n",
    "InteractiveShell.ast_node_interactivity = \"all\"\n",
    "\n",
    "# 파일읽기\n",
    "bin6_0 = pd.read_csv(\"data/bin+core_answer/\"+'bin+core_answer_0.csv', index_col=0)\n",
    "print(bin6_0.shape)\n",
    "\n",
    "# reset_index (hex processing 하면서 값이 빠졌으니까 + n_gram 에서 index를 다루기 때문에)\n",
    "bin6_0.reset_index(inplace=True, drop=True)\n",
    "\n",
    "print('reset_index 완료')\n",
    "print('input data shape')\n",
    "bin6_0.head()"
   ]
  },
  {
   "cell_type": "code",
   "execution_count": 4,
   "metadata": {},
   "outputs": [
    {
     "name": "stdout",
     "output_type": "stream",
     "text": [
      "256\n",
      "0    30042688\n",
      "1       50258\n",
      "Name: label, dtype: int64\n"
     ]
    }
   ],
   "source": [
    "# (2-1) 데이터체크 1 - hex(16진수)가 256 label을 가져야 dummies 변환 가능 \n",
    "# 16진수 256개 종류가 있어서 pd.get_dummies 사용 가능.\n",
    "print(len(bin6_0['bin'].unique()))\n",
    "\n",
    "# (2-2) 데이터 체크 2 - 1, 0 비율 ==> 1이 함수의 갯수를 뜻함\n",
    "# 정답 데이터 1, 0 비율 확인  ==> 1이 함수의 갯수를 뜻함\n",
    "print(bin6_0['label'].value_counts())"
   ]
  },
  {
   "cell_type": "markdown",
   "metadata": {},
   "source": [
    "## (3) N Byte씩 자르기"
   ]
  },
  {
   "cell_type": "code",
   "execution_count": 5,
   "metadata": {},
   "outputs": [
    {
     "name": "stdout",
     "output_type": "stream",
     "text": [
      "1608256\n",
      "나머지 0\n",
      "최종 길이 1608256\n",
      "bin6_0 1608256\n"
     ]
    }
   ],
   "source": [
    "idx_bin = bin6_0[bin6_0['label']==1].index  # 407, 474 ...\n",
    "ls_bin = list(idx_bin)\n",
    "\n",
    "# 최종 뽑을 행에 대한 index\n",
    "ls_idx_bin = []\n",
    "\n",
    "# n byte 자르기 방식\n",
    "left_idx, right_idx = 0, 32 # 3개씩\n",
    "\n",
    "# n byte 자르기\n",
    "for k in range(left_idx, right_idx):\n",
    "    ls_idx_bin.extend(list(idx_bin + k)) # index 형이라서 가능\n",
    "\n",
    "#ls_idx = list(set(ls_idx)) \n",
    "ls_idx_bin.sort() # 인덱스 정렬\n",
    "\n",
    "# 1차 index 해당범위 초과한 것들 없애기\n",
    "ls_idx_bin = list(filter(lambda x: x<len(bin6_0), ls_idx_bin))\n",
    "print(len(ls_idx_bin))\n",
    "\n",
    "# 2차 남은 index들 중 right_idx 나눈 나머지 없애기\n",
    "sub_bin = len(ls_idx_bin)%(right_idx)\n",
    "print('나머지', sub_bin)\n",
    "\n",
    "ls_idx_bin = ls_idx_bin[:len(ls_idx_bin)-sub_bin]\n",
    "print('최종 길이', len(ls_idx_bin))\n",
    "\n",
    "print('bin6_0', len(ls_idx_bin))\n",
    "\n",
    "# loc 로 수정필요\n",
    "bin6_0_Ngram = bin6_0.loc[ls_idx_bin,:].copy()"
   ]
  },
  {
   "cell_type": "markdown",
   "metadata": {},
   "source": [
    "## (4) false data 만들기"
   ]
  },
  {
   "cell_type": "code",
   "execution_count": 6,
   "metadata": {},
   "outputs": [
    {
     "name": "stdout",
     "output_type": "stream",
     "text": [
      "50258.0\n",
      "0 7667433\n",
      "1000 20296320\n",
      "2000 9302448\n",
      "3000 14095508\n",
      "4000 11150226\n",
      "5000 8103839\n",
      "6000 14168904\n",
      "7000 25010267\n",
      "8000 28749788\n",
      "9000 7300523\n",
      "10000 6771769\n",
      "11000 18031361\n",
      "12000 28367227\n",
      "13000 24219159\n",
      "14000 307353\n",
      "15000 10302573\n",
      "16000 440086\n",
      "17000 23209342\n",
      "18000 26781539\n",
      "19000 11849275\n",
      "20000 16811976\n",
      "21000 13414996\n",
      "22000 10148714\n",
      "23000 12925773\n",
      "24000 16272318\n",
      "25000 28877847\n",
      "26000 26838729\n",
      "27000 5004694\n",
      "28000 27927497\n",
      "29000 23504863\n",
      "30000 54190\n",
      "31000 26436546\n",
      "32000 1704470\n",
      "33000 6678168\n",
      "34000 8005989\n",
      "35000 24822182\n",
      "36000 23819021\n",
      "37000 356838\n",
      "38000 27954823\n",
      "39000 16635900\n",
      "40000 9188353\n",
      "41000 18199930\n",
      "42000 27571673\n",
      "43000 10509981\n",
      "44000 6419364\n",
      "45000 14206527\n",
      "46000 19710272\n",
      "47000 22750668\n",
      "48000 25900287\n",
      "49000 2119122\n",
      "50000 2557090\n",
      "완료\n",
      "50258\n"
     ]
    }
   ],
   "source": [
    "# false data 만들기 - False 데이터 랜덤 생성\n",
    "\n",
    "# 목표치\n",
    "goal_bin = len(bin6_0_Ngram)/right_idx\n",
    "count_bin = 0\n",
    "\n",
    "print(goal_bin)\n",
    "\n",
    "# 최종 데이터 Frame\n",
    "d_bin = pd.DataFrame(columns = bin6_0.columns)\n",
    "\n",
    "binutils_df = []\n",
    "# goal 에 도달할 때까지\n",
    "while True:\n",
    "    if (count_bin == goal_bin):\n",
    "            break\n",
    "    # 진행상황 살펴보기 위함\n",
    "            \n",
    "    # 랜덤 N 바이트씩 뽑음\n",
    "    # random index\n",
    "    random_idx_bin = np.random.randint(len(bin6_0)-right_idx)\n",
    "\n",
    "    if count_bin % 1000==0:\n",
    "        print(count_bin, end=' ')\n",
    "        print(random_idx_bin)\n",
    "\n",
    "    df_bin = bin6_0[random_idx_bin : random_idx_bin + right_idx]\n",
    "    \n",
    "    # 뽑은 index의 N 바이트 중에 1이 없는 경우만\n",
    "    if 1 not in df_bin['label'] and count_bin < goal_bin:\n",
    "        binutils_df.append(df_bin)\n",
    "        count_bin+=1\n",
    "\n",
    "print('완료')\n",
    "print(len(binutils_df))"
   ]
  },
  {
   "cell_type": "code",
   "execution_count": 7,
   "metadata": {},
   "outputs": [
    {
     "name": "stdout",
     "output_type": "stream",
     "text": [
      "50258\n",
      "50258\n"
     ]
    }
   ],
   "source": [
    "# True data와 False Data 같은지 체크\n",
    "print(len(binutils_df))\n",
    "print(bin6_0['label'].value_counts()[1])"
   ]
  },
  {
   "cell_type": "markdown",
   "metadata": {},
   "source": [
    "## (5) False Data + True Data 합치기"
   ]
  },
  {
   "cell_type": "code",
   "execution_count": 8,
   "metadata": {},
   "outputs": [
    {
     "data": {
      "text/plain": [
       "(3216512, 2)"
      ]
     },
     "execution_count": 8,
     "metadata": {},
     "output_type": "execute_result"
    }
   ],
   "source": [
    "f_data = pd.concat(binutils_df)\n",
    "final = pd.concat([f_data, bin6_0_Ngram])\n",
    "final.shape"
   ]
  },
  {
   "cell_type": "markdown",
   "metadata": {},
   "source": [
    "## (6) one hot encoding"
   ]
  },
  {
   "cell_type": "code",
   "execution_count": 9,
   "metadata": {},
   "outputs": [
    {
     "name": "stdout",
     "output_type": "stream",
     "text": [
      "원핫인코딩완료\n",
      "(3216512, 257)\n"
     ]
    }
   ],
   "source": [
    "# 훈련데이터 (gcc 최적화버전 0, 1, 2, 3 one hot encoding)\n",
    "bc6_0_onehot_Ngram = pd.get_dummies(final['bin'])\n",
    "bc6_0_onehot_Ngram = pd.concat([final['label'], bc6_0_onehot_Ngram], axis=1)\n",
    "\n",
    "print('원핫인코딩완료')\n",
    "print(bc6_0_onehot_Ngram.shape)"
   ]
  },
  {
   "cell_type": "code",
   "execution_count": 10,
   "metadata": {},
   "outputs": [
    {
     "name": "stdout",
     "output_type": "stream",
     "text": [
      "(3216512, 256) (3216512, 256)\n",
      "(100516, 32, 256) (100516, 32, 1)\n"
     ]
    }
   ],
   "source": [
    "# 훈련 데이터, 훈련 라벨\n",
    "x_bc6_0 = bc6_0_onehot_Ngram.iloc[:,1:].to_numpy()\n",
    "y_bc6_0 = bc6_0_onehot_Ngram['label'].to_numpy()\n",
    "print(x_bc6_0.shape, x_bc6_0.shape)\n",
    "\n",
    "x_bc6_0 = x_bc6_0.reshape(-1, right_idx, x_bc6_0.shape[1])\n",
    "y_bc6_0 = y_bc6_0.reshape(-1, right_idx, 1)\n",
    "\n",
    "print(x_bc6_0.shape, y_bc6_0.shape)"
   ]
  },
  {
   "cell_type": "code",
   "execution_count": 11,
   "metadata": {},
   "outputs": [
    {
     "name": "stdout",
     "output_type": "stream",
     "text": [
      "(100516, 32, 256) (100516, 32, 1)\n"
     ]
    }
   ],
   "source": [
    "# numpy 행, 열 섞기\n",
    "p = np.random.permutation(x_bc6_0.shape[0])\n",
    "\n",
    "x_bc6_0 = x_bc6_0[p]\n",
    "y_bc6_0 = y_bc6_0[p]\n",
    "\n",
    "print(x_bc6_0.shape, y_bc6_0.shape)"
   ]
  },
  {
   "cell_type": "markdown",
   "metadata": {},
   "source": [
    "## (7) 모델"
   ]
  },
  {
   "cell_type": "code",
   "execution_count": 12,
   "metadata": {},
   "outputs": [],
   "source": [
    "# (10) 양방향 LSTM 모델링 작업\n",
    "from tensorflow.keras import layers, models\n",
    "#from tf.keras.models import Model, Sequential\n",
    "#from tf.keras.layers import SimpleRNN, Input, Dense, LSTM\n",
    "#from tf.keras.layers import Bidirectional, TimeDistributed\n",
    "\n",
    "# 학습\n",
    "from tensorflow.keras.callbacks import EarlyStopping\n",
    "early_stopping = EarlyStopping(patience = 3) # 조기종료 콜백함수 정의\n",
    "\n",
    "xInput = layers.Input(batch_shape=(None,right_idx, 256)) \n",
    "xBiLstm = layers.Bidirectional(layers.LSTM(48, return_sequences=True, stateful=False), merge_mode = 'concat')(xInput)\n",
    "xOutput = layers.TimeDistributed(layers.Dense(1, activation ='sigmoid'))(xBiLstm) # 각 스텝에서 cost가 전송되고, 오류가 다음 step으로 전송됨."
   ]
  },
  {
   "cell_type": "markdown",
   "metadata": {},
   "source": [
    "## (8) 학습 - 10 KFold"
   ]
  },
  {
   "cell_type": "code",
   "execution_count": 13,
   "metadata": {
    "scrolled": false
   },
   "outputs": [
    {
     "name": "stdout",
     "output_type": "stream",
     "text": [
      "Model: \"model\"\n",
      "_________________________________________________________________\n",
      "Layer (type)                 Output Shape              Param #   \n",
      "=================================================================\n",
      "input_1 (InputLayer)         [(None, 32, 256)]         0         \n",
      "_________________________________________________________________\n",
      "bidirectional (Bidirectional (None, 32, 96)            117120    \n",
      "_________________________________________________________________\n",
      "time_distributed (TimeDistri (None, 32, 1)             97        \n",
      "=================================================================\n",
      "Total params: 117,217\n",
      "Trainable params: 117,217\n",
      "Non-trainable params: 0\n",
      "_________________________________________________________________\n",
      "======Training stage======\n",
      "Train on 90464 samples\n",
      "Epoch 1/10\n",
      "89984/90464 [============================>.] - ETA: 0s - loss: 0.0193 - accuracy: 0.9956WARNING:tensorflow:Early stopping conditioned on metric `val_loss` which is not available. Available metrics are: loss,accuracy\n",
      "90464/90464 [==============================] - 19s 207us/sample - loss: 0.0192 - accuracy: 0.9956\n",
      "Epoch 2/10\n",
      "89856/90464 [============================>.] - ETA: 0s - loss: 3.9053e-04 - accuracy: 0.9999WARNING:tensorflow:Early stopping conditioned on metric `val_loss` which is not available. Available metrics are: loss,accuracy\n",
      "90464/90464 [==============================] - 6s 64us/sample - loss: 3.8933e-04 - accuracy: 0.9999\n",
      "Epoch 3/10\n",
      "90112/90464 [============================>.] - ETA: 0s - loss: 2.6396e-04 - accuracy: 0.9999WARNING:tensorflow:Early stopping conditioned on metric `val_loss` which is not available. Available metrics are: loss,accuracy\n",
      "90464/90464 [==============================] - 6s 66us/sample - loss: 2.6348e-04 - accuracy: 0.9999\n",
      "Epoch 4/10\n",
      "89984/90464 [============================>.] - ETA: 0s - loss: 2.3122e-04 - accuracy: 0.9999WARNING:tensorflow:Early stopping conditioned on metric `val_loss` which is not available. Available metrics are: loss,accuracy\n",
      "90464/90464 [==============================] - 6s 64us/sample - loss: 2.3095e-04 - accuracy: 0.9999\n",
      "Epoch 5/10\n",
      "89984/90464 [============================>.] - ETA: 0s - loss: 1.9710e-04 - accuracy: 0.9999WARNING:tensorflow:Early stopping conditioned on metric `val_loss` which is not available. Available metrics are: loss,accuracy\n",
      "90464/90464 [==============================] - 6s 65us/sample - loss: 1.9759e-04 - accuracy: 0.9999\n",
      "Epoch 6/10\n",
      "89984/90464 [============================>.] - ETA: 0s - loss: 1.8363e-04 - accuracy: 0.9999WARNING:tensorflow:Early stopping conditioned on metric `val_loss` which is not available. Available metrics are: loss,accuracy\n",
      "90464/90464 [==============================] - 6s 65us/sample - loss: 1.8272e-04 - accuracy: 0.9999\n",
      "Epoch 7/10\n",
      "89856/90464 [============================>.] - ETA: 0s - loss: 1.6212e-04 - accuracy: 0.9999WARNING:tensorflow:Early stopping conditioned on metric `val_loss` which is not available. Available metrics are: loss,accuracy\n",
      "90464/90464 [==============================] - 6s 65us/sample - loss: 1.6253e-04 - accuracy: 0.9999\n",
      "Epoch 8/10\n",
      "90240/90464 [============================>.] - ETA: 0s - loss: 1.4738e-04 - accuracy: 1.0000WARNING:tensorflow:Early stopping conditioned on metric `val_loss` which is not available. Available metrics are: loss,accuracy\n",
      "90464/90464 [==============================] - 6s 65us/sample - loss: 1.4703e-04 - accuracy: 1.0000\n",
      "Epoch 9/10\n",
      "89728/90464 [============================>.] - ETA: 0s - loss: 1.3859e-04 - accuracy: 1.0000WARNING:tensorflow:Early stopping conditioned on metric `val_loss` which is not available. Available metrics are: loss,accuracy\n",
      "90464/90464 [==============================] - 6s 66us/sample - loss: 1.3755e-04 - accuracy: 1.0000\n",
      "Epoch 10/10\n",
      "90112/90464 [============================>.] - ETA: 0s - loss: 1.2307e-04 - accuracy: 1.0000WARNING:tensorflow:Early stopping conditioned on metric `val_loss` which is not available. Available metrics are: loss,accuracy\n",
      "90464/90464 [==============================] - 6s 66us/sample - loss: 1.2268e-04 - accuracy: 1.0000\n"
     ]
    },
    {
     "data": {
      "text/plain": [
       "<tensorflow.python.keras.callbacks.History at 0x19594540a88>"
      ]
     },
     "execution_count": 13,
     "metadata": {},
     "output_type": "execute_result"
    },
    {
     "name": "stdout",
     "output_type": "stream",
     "text": [
      "accuracy_score 0.9999564763231198\n",
      "recall_score 0.9994548428130111\n",
      "precision_score 0.998003992015968\n",
      "f1_score 0.9987288905029961\n",
      "Model: \"model_1\"\n",
      "_________________________________________________________________\n",
      "Layer (type)                 Output Shape              Param #   \n",
      "=================================================================\n",
      "input_1 (InputLayer)         [(None, 32, 256)]         0         \n",
      "_________________________________________________________________\n",
      "bidirectional (Bidirectional (None, 32, 96)            117120    \n",
      "_________________________________________________________________\n",
      "time_distributed (TimeDistri (None, 32, 1)             97        \n",
      "=================================================================\n",
      "Total params: 117,217\n",
      "Trainable params: 117,217\n",
      "Non-trainable params: 0\n",
      "_________________________________________________________________\n",
      "======Training stage======\n",
      "Train on 90464 samples\n",
      "Epoch 1/10\n",
      "90368/90464 [============================>.] - ETA: 0s - loss: 1.2474e-04 - accuracy: 1.0000WARNING:tensorflow:Early stopping conditioned on metric `val_loss` which is not available. Available metrics are: loss,accuracy\n",
      "90464/90464 [==============================] - 13s 140us/sample - loss: 1.2462e-04 - accuracy: 1.0000\n",
      "Epoch 2/10\n",
      "89728/90464 [============================>.] - ETA: 0s - loss: 1.1954e-04 - accuracy: 1.0000WARNING:tensorflow:Early stopping conditioned on metric `val_loss` which is not available. Available metrics are: loss,accuracy\n",
      "90464/90464 [==============================] - 6s 63us/sample - loss: 1.1986e-04 - accuracy: 1.0000\n",
      "Epoch 3/10\n",
      "89856/90464 [============================>.] - ETA: 0s - loss: 1.0838e-04 - accuracy: 1.0000WARNING:tensorflow:Early stopping conditioned on metric `val_loss` which is not available. Available metrics are: loss,accuracy\n",
      "90464/90464 [==============================] - 6s 63us/sample - loss: 1.0780e-04 - accuracy: 1.0000\n",
      "Epoch 4/10\n",
      "90112/90464 [============================>.] - ETA: 0s - loss: 1.0166e-04 - accuracy: 1.0000WARNING:tensorflow:Early stopping conditioned on metric `val_loss` which is not available. Available metrics are: loss,accuracy\n",
      "90464/90464 [==============================] - 6s 64us/sample - loss: 1.0138e-04 - accuracy: 1.0000\n",
      "Epoch 5/10\n",
      "89600/90464 [============================>.] - ETA: 0s - loss: 9.4788e-05 - accuracy: 1.0000WARNING:tensorflow:Early stopping conditioned on metric `val_loss` which is not available. Available metrics are: loss,accuracy\n",
      "90464/90464 [==============================] - 6s 64us/sample - loss: 9.4127e-05 - accuracy: 1.0000\n",
      "Epoch 6/10\n",
      "90240/90464 [============================>.] - ETA: 0s - loss: 8.7750e-05 - accuracy: 1.0000WARNING:tensorflow:Early stopping conditioned on metric `val_loss` which is not available. Available metrics are: loss,accuracy\n",
      "90464/90464 [==============================] - 6s 64us/sample - loss: 8.7820e-05 - accuracy: 1.0000\n",
      "Epoch 7/10\n",
      "90240/90464 [============================>.] - ETA: 0s - loss: 8.1246e-05 - accuracy: 1.0000WARNING:tensorflow:Early stopping conditioned on metric `val_loss` which is not available. Available metrics are: loss,accuracy\n",
      "90464/90464 [==============================] - 6s 63us/sample - loss: 8.1059e-05 - accuracy: 1.0000\n",
      "Epoch 8/10\n",
      "90368/90464 [============================>.] - ETA: 0s - loss: 8.4561e-05 - accuracy: 1.0000WARNING:tensorflow:Early stopping conditioned on metric `val_loss` which is not available. Available metrics are: loss,accuracy\n",
      "90464/90464 [==============================] - 6s 64us/sample - loss: 8.4473e-05 - accuracy: 1.0000\n",
      "Epoch 9/10\n",
      "89600/90464 [============================>.] - ETA: 0s - loss: 7.2130e-05 - accuracy: 1.0000WARNING:tensorflow:Early stopping conditioned on metric `val_loss` which is not available. Available metrics are: loss,accuracy\n",
      "90464/90464 [==============================] - 6s 64us/sample - loss: 7.2197e-05 - accuracy: 1.0000\n",
      "Epoch 10/10\n",
      "89984/90464 [============================>.] - ETA: 0s - loss: 6.7099e-05 - accuracy: 1.0000WARNING:tensorflow:Early stopping conditioned on metric `val_loss` which is not available. Available metrics are: loss,accuracy\n",
      "90464/90464 [==============================] - 6s 63us/sample - loss: 6.6752e-05 - accuracy: 1.0000\n"
     ]
    },
    {
     "data": {
      "text/plain": [
       "<tensorflow.python.keras.callbacks.History at 0x1930e0ca808>"
      ]
     },
     "execution_count": 13,
     "metadata": {},
     "output_type": "execute_result"
    },
    {
     "name": "stdout",
     "output_type": "stream",
     "text": [
      "accuracy_score 0.9999595851571826\n",
      "recall_score 0.9989266547406083\n",
      "precision_score 0.9987479878375961\n",
      "f1_score 0.9988373132993471\n",
      "Model: \"model_2\"\n",
      "_________________________________________________________________\n",
      "Layer (type)                 Output Shape              Param #   \n",
      "=================================================================\n",
      "input_1 (InputLayer)         [(None, 32, 256)]         0         \n",
      "_________________________________________________________________\n",
      "bidirectional (Bidirectional (None, 32, 96)            117120    \n",
      "_________________________________________________________________\n",
      "time_distributed (TimeDistri (None, 32, 1)             97        \n",
      "=================================================================\n",
      "Total params: 117,217\n",
      "Trainable params: 117,217\n",
      "Non-trainable params: 0\n",
      "_________________________________________________________________\n",
      "======Training stage======\n",
      "Train on 90464 samples\n",
      "Epoch 1/10\n",
      "90368/90464 [============================>.] - ETA: 0s - loss: 8.3783e-05 - accuracy: 1.0000WARNING:tensorflow:Early stopping conditioned on metric `val_loss` which is not available. Available metrics are: loss,accuracy\n",
      "90464/90464 [==============================] - 12s 136us/sample - loss: 8.3696e-05 - accuracy: 1.0000\n",
      "Epoch 2/10\n",
      "89856/90464 [============================>.] - ETA: 0s - loss: 6.6984e-05 - accuracy: 1.0000WARNING:tensorflow:Early stopping conditioned on metric `val_loss` which is not available. Available metrics are: loss,accuracy\n",
      "90464/90464 [==============================] - 6s 65us/sample - loss: 7.2365e-05 - accuracy: 1.0000\n",
      "Epoch 3/10\n",
      "89984/90464 [============================>.] - ETA: 0s - loss: 7.6352e-05 - accuracy: 1.0000WARNING:tensorflow:Early stopping conditioned on metric `val_loss` which is not available. Available metrics are: loss,accuracy\n",
      "90464/90464 [==============================] - 6s 64us/sample - loss: 7.5958e-05 - accuracy: 1.0000\n",
      "Epoch 4/10\n",
      "90368/90464 [============================>.] - ETA: 0s - loss: 6.1492e-05 - accuracy: 1.0000WARNING:tensorflow:Early stopping conditioned on metric `val_loss` which is not available. Available metrics are: loss,accuracy\n",
      "90464/90464 [==============================] - 6s 63us/sample - loss: 6.1428e-05 - accuracy: 1.0000\n",
      "Epoch 5/10\n",
      "90368/90464 [============================>.] - ETA: 0s - loss: 6.0686e-05 - accuracy: 1.0000WARNING:tensorflow:Early stopping conditioned on metric `val_loss` which is not available. Available metrics are: loss,accuracy\n",
      "90464/90464 [==============================] - 6s 63us/sample - loss: 6.0622e-05 - accuracy: 1.0000\n",
      "Epoch 6/10\n",
      "89728/90464 [============================>.] - ETA: 0s - loss: 6.1241e-05 - accuracy: 1.0000WARNING:tensorflow:Early stopping conditioned on metric `val_loss` which is not available. Available metrics are: loss,accuracy\n",
      "90464/90464 [==============================] - 6s 62us/sample - loss: 6.0942e-05 - accuracy: 1.0000\n",
      "Epoch 7/10\n",
      "89856/90464 [============================>.] - ETA: 0s - loss: 6.1891e-05 - accuracy: 1.0000WARNING:tensorflow:Early stopping conditioned on metric `val_loss` which is not available. Available metrics are: loss,accuracy\n",
      "90464/90464 [==============================] - 6s 64us/sample - loss: 6.1500e-05 - accuracy: 1.0000\n",
      "Epoch 8/10\n",
      "89856/90464 [============================>.] - ETA: 0s - loss: 5.3922e-05 - accuracy: 1.0000WARNING:tensorflow:Early stopping conditioned on metric `val_loss` which is not available. Available metrics are: loss,accuracy\n",
      "90464/90464 [==============================] - 6s 63us/sample - loss: 5.3565e-05 - accuracy: 1.0000\n",
      "Epoch 9/10\n",
      "89600/90464 [============================>.] - ETA: 0s - loss: 4.4335e-05 - accuracy: 1.0000WARNING:tensorflow:Early stopping conditioned on metric `val_loss` which is not available. Available metrics are: loss,accuracy\n",
      "90464/90464 [==============================] - 6s 63us/sample - loss: 4.4477e-05 - accuracy: 1.0000\n",
      "Epoch 10/10\n",
      "90368/90464 [============================>.] - ETA: 0s - loss: 4.9534e-05 - accuracy: 1.0000WARNING:tensorflow:Early stopping conditioned on metric `val_loss` which is not available. Available metrics are: loss,accuracy\n",
      "90464/90464 [==============================] - 6s 63us/sample - loss: 4.9481e-05 - accuracy: 1.0000\n"
     ]
    },
    {
     "data": {
      "text/plain": [
       "<tensorflow.python.keras.callbacks.History at 0x1953baa4e08>"
      ]
     },
     "execution_count": 13,
     "metadata": {},
     "output_type": "execute_result"
    },
    {
     "name": "stdout",
     "output_type": "stream",
     "text": [
      "accuracy_score 0.999975129327497\n",
      "recall_score 0.9990982867448152\n",
      "precision_score 0.9994587768356485\n",
      "f1_score 0.9992784992784992\n",
      "Model: \"model_3\"\n",
      "_________________________________________________________________\n",
      "Layer (type)                 Output Shape              Param #   \n",
      "=================================================================\n",
      "input_1 (InputLayer)         [(None, 32, 256)]         0         \n",
      "_________________________________________________________________\n",
      "bidirectional (Bidirectional (None, 32, 96)            117120    \n",
      "_________________________________________________________________\n",
      "time_distributed (TimeDistri (None, 32, 1)             97        \n",
      "=================================================================\n",
      "Total params: 117,217\n",
      "Trainable params: 117,217\n",
      "Non-trainable params: 0\n",
      "_________________________________________________________________\n",
      "======Training stage======\n",
      "Train on 90464 samples\n",
      "Epoch 1/10\n",
      "90368/90464 [============================>.] - ETA: 0s - loss: 5.8010e-05 - accuracy: 1.0000WARNING:tensorflow:Early stopping conditioned on metric `val_loss` which is not available. Available metrics are: loss,accuracy\n",
      "90464/90464 [==============================] - 13s 139us/sample - loss: 5.8040e-05 - accuracy: 1.0000\n",
      "Epoch 2/10\n",
      "90112/90464 [============================>.] - ETA: 0s - loss: 4.6912e-05 - accuracy: 1.0000WARNING:tensorflow:Early stopping conditioned on metric `val_loss` which is not available. Available metrics are: loss,accuracy\n",
      "90464/90464 [==============================] - 6s 67us/sample - loss: 4.6756e-05 - accuracy: 1.0000\n",
      "Epoch 3/10\n",
      "90368/90464 [============================>.] - ETA: 0s - loss: 4.6517e-05 - accuracy: 1.0000WARNING:tensorflow:Early stopping conditioned on metric `val_loss` which is not available. Available metrics are: loss,accuracy\n",
      "90464/90464 [==============================] - 6s 72us/sample - loss: 4.6468e-05 - accuracy: 1.0000\n",
      "Epoch 4/10\n",
      "89984/90464 [============================>.] - ETA: 0s - loss: 3.4927e-05 - accuracy: 1.0000WARNING:tensorflow:Early stopping conditioned on metric `val_loss` which is not available. Available metrics are: loss,accuracy\n",
      "90464/90464 [==============================] - 6s 70us/sample - loss: 3.5050e-05 - accuracy: 1.0000\n",
      "Epoch 5/10\n",
      "89984/90464 [============================>.] - ETA: 0s - loss: 4.0625e-05 - accuracy: 1.0000WARNING:tensorflow:Early stopping conditioned on metric `val_loss` which is not available. Available metrics are: loss,accuracy\n",
      "90464/90464 [==============================] - 6s 70us/sample - loss: 4.0417e-05 - accuracy: 1.0000\n",
      "Epoch 6/10\n",
      "90240/90464 [============================>.] - ETA: 0s - loss: 3.7970e-05 - accuracy: 1.0000WARNING:tensorflow:Early stopping conditioned on metric `val_loss` which is not available. Available metrics are: loss,accuracy\n",
      "90464/90464 [==============================] - 6s 69us/sample - loss: 3.7876e-05 - accuracy: 1.0000\n",
      "Epoch 7/10\n",
      "90112/90464 [============================>.] - ETA: 0s - loss: 3.3720e-05 - accuracy: 1.0000WARNING:tensorflow:Early stopping conditioned on metric `val_loss` which is not available. Available metrics are: loss,accuracy\n",
      "90464/90464 [==============================] - 6s 69us/sample - loss: 3.3617e-05 - accuracy: 1.0000\n",
      "Epoch 8/10\n",
      "90240/90464 [============================>.] - ETA: 0s - loss: 3.4565e-05 - accuracy: 1.0000WARNING:tensorflow:Early stopping conditioned on metric `val_loss` which is not available. Available metrics are: loss,accuracy\n",
      "90464/90464 [==============================] - 6s 70us/sample - loss: 3.4487e-05 - accuracy: 1.0000\n",
      "Epoch 9/10\n",
      "89984/90464 [============================>.] - ETA: 0s - loss: 3.3418e-05 - accuracy: 1.0000WARNING:tensorflow:Early stopping conditioned on metric `val_loss` which is not available. Available metrics are: loss,accuracy\n",
      "90464/90464 [==============================] - 6s 69us/sample - loss: 3.3300e-05 - accuracy: 1.0000\n",
      "Epoch 10/10\n",
      "90112/90464 [============================>.] - ETA: 0s - loss: 3.4147e-05 - accuracy: 1.0000WARNING:tensorflow:Early stopping conditioned on metric `val_loss` which is not available. Available metrics are: loss,accuracy\n",
      "90464/90464 [==============================] - 6s 71us/sample - loss: 3.4017e-05 - accuracy: 1.0000\n"
     ]
    },
    {
     "data": {
      "text/plain": [
       "<tensorflow.python.keras.callbacks.History at 0x1953ba97948>"
      ]
     },
     "execution_count": 13,
     "metadata": {},
     "output_type": "execute_result"
    },
    {
     "name": "stdout",
     "output_type": "stream",
     "text": [
      "accuracy_score 0.9999844558296856\n",
      "recall_score 0.9992932862190813\n",
      "precision_score 0.9998232278592893\n",
      "f1_score 0.9995581867986215\n",
      "Model: \"model_4\"\n",
      "_________________________________________________________________\n",
      "Layer (type)                 Output Shape              Param #   \n",
      "=================================================================\n",
      "input_1 (InputLayer)         [(None, 32, 256)]         0         \n",
      "_________________________________________________________________\n",
      "bidirectional (Bidirectional (None, 32, 96)            117120    \n",
      "_________________________________________________________________\n",
      "time_distributed (TimeDistri (None, 32, 1)             97        \n",
      "=================================================================\n",
      "Total params: 117,217\n",
      "Trainable params: 117,217\n",
      "Non-trainable params: 0\n",
      "_________________________________________________________________\n",
      "======Training stage======\n",
      "Train on 90464 samples\n",
      "Epoch 1/10\n",
      "89856/90464 [============================>.] - ETA: 0s - loss: 4.0961e-05 - accuracy: 1.0000WARNING:tensorflow:Early stopping conditioned on metric `val_loss` which is not available. Available metrics are: loss,accuracy\n",
      "90464/90464 [==============================] - 13s 143us/sample - loss: 4.0694e-05 - accuracy: 1.0000\n",
      "Epoch 2/10\n",
      "89856/90464 [============================>.] - ETA: 0s - loss: 3.4561e-05 - accuracy: 1.0000WARNING:tensorflow:Early stopping conditioned on metric `val_loss` which is not available. Available metrics are: loss,accuracy\n",
      "90464/90464 [==============================] - 6s 71us/sample - loss: 3.4345e-05 - accuracy: 1.0000\n",
      "Epoch 3/10\n",
      "90112/90464 [============================>.] - ETA: 0s - loss: 2.3806e-05 - accuracy: 1.0000WARNING:tensorflow:Early stopping conditioned on metric `val_loss` which is not available. Available metrics are: loss,accuracy\n",
      "90464/90464 [==============================] - 6s 69us/sample - loss: 2.3715e-05 - accuracy: 1.0000\n",
      "Epoch 4/10\n",
      "89856/90464 [============================>.] - ETA: 0s - loss: 2.3161e-05 - accuracy: 1.0000WARNING:tensorflow:Early stopping conditioned on metric `val_loss` which is not available. Available metrics are: loss,accuracy\n",
      "90464/90464 [==============================] - 6s 70us/sample - loss: 2.3013e-05 - accuracy: 1.0000\n",
      "Epoch 5/10\n",
      "89984/90464 [============================>.] - ETA: 0s - loss: 3.0734e-05 - accuracy: 1.0000WARNING:tensorflow:Early stopping conditioned on metric `val_loss` which is not available. Available metrics are: loss,accuracy\n",
      "90464/90464 [==============================] - 6s 69us/sample - loss: 3.0577e-05 - accuracy: 1.0000\n",
      "Epoch 6/10\n",
      "90368/90464 [============================>.] - ETA: 0s - loss: 2.4977e-05 - accuracy: 1.0000WARNING:tensorflow:Early stopping conditioned on metric `val_loss` which is not available. Available metrics are: loss,accuracy\n",
      "90464/90464 [==============================] - 6s 69us/sample - loss: 2.4951e-05 - accuracy: 1.0000\n",
      "Epoch 7/10\n",
      "90368/90464 [============================>.] - ETA: 0s - loss: 1.8170e-05 - accuracy: 1.0000WARNING:tensorflow:Early stopping conditioned on metric `val_loss` which is not available. Available metrics are: loss,accuracy\n",
      "90464/90464 [==============================] - 6s 70us/sample - loss: 1.8152e-05 - accuracy: 1.0000\n",
      "Epoch 8/10\n",
      "89984/90464 [============================>.] - ETA: 0s - loss: 2.1018e-05 - accuracy: 1.0000WARNING:tensorflow:Early stopping conditioned on metric `val_loss` which is not available. Available metrics are: loss,accuracy\n",
      "90464/90464 [==============================] - 6s 69us/sample - loss: 2.0918e-05 - accuracy: 1.0000\n",
      "Epoch 9/10\n",
      "89728/90464 [============================>.] - ETA: 0s - loss: 1.8657e-05 - accuracy: 1.0000WARNING:tensorflow:Early stopping conditioned on metric `val_loss` which is not available. Available metrics are: loss,accuracy\n",
      "90464/90464 [==============================] - 6s 69us/sample - loss: 1.8578e-05 - accuracy: 1.0000\n",
      "Epoch 10/10\n",
      "89856/90464 [============================>.] - ETA: 0s - loss: 1.4455e-05 - accuracy: 1.0000WARNING:tensorflow:Early stopping conditioned on metric `val_loss` which is not available. Available metrics are: loss,accuracy\n",
      "90464/90464 [==============================] - 6s 69us/sample - loss: 1.4360e-05 - accuracy: 1.0000\n"
     ]
    },
    {
     "data": {
      "text/plain": [
       "<tensorflow.python.keras.callbacks.History at 0x19596459048>"
      ]
     },
     "execution_count": 13,
     "metadata": {},
     "output_type": "execute_result"
    },
    {
     "name": "stdout",
     "output_type": "stream",
     "text": [
      "accuracy_score 0.9999844558296856\n",
      "recall_score 1.0\n",
      "precision_score 0.999091899745732\n",
      "f1_score 0.9995457436176978\n",
      "Model: \"model_5\"\n",
      "_________________________________________________________________\n",
      "Layer (type)                 Output Shape              Param #   \n",
      "=================================================================\n",
      "input_1 (InputLayer)         [(None, 32, 256)]         0         \n",
      "_________________________________________________________________\n",
      "bidirectional (Bidirectional (None, 32, 96)            117120    \n",
      "_________________________________________________________________\n",
      "time_distributed (TimeDistri (None, 32, 1)             97        \n",
      "=================================================================\n",
      "Total params: 117,217\n",
      "Trainable params: 117,217\n",
      "Non-trainable params: 0\n",
      "_________________________________________________________________\n",
      "======Training stage======\n",
      "Train on 90464 samples\n",
      "Epoch 1/10\n",
      "89856/90464 [============================>.] - ETA: 0s - loss: 2.3150e-05 - accuracy: 1.0000WARNING:tensorflow:Early stopping conditioned on metric `val_loss` which is not available. Available metrics are: loss,accuracy\n",
      "90464/90464 [==============================] - 13s 149us/sample - loss: 2.2997e-05 - accuracy: 1.0000\n",
      "Epoch 2/10\n",
      "90240/90464 [============================>.] - ETA: 0s - loss: 2.5094e-05 - accuracy: 1.0000WARNING:tensorflow:Early stopping conditioned on metric `val_loss` which is not available. Available metrics are: loss,accuracy\n",
      "90464/90464 [==============================] - 6s 70us/sample - loss: 2.5032e-05 - accuracy: 1.0000\n",
      "Epoch 3/10\n",
      "90368/90464 [============================>.] - ETA: 0s - loss: 2.0696e-05 - accuracy: 1.0000WARNING:tensorflow:Early stopping conditioned on metric `val_loss` which is not available. Available metrics are: loss,accuracy\n",
      "90464/90464 [==============================] - 6s 69us/sample - loss: 2.0698e-05 - accuracy: 1.0000\n",
      "Epoch 4/10\n",
      "89984/90464 [============================>.] - ETA: 0s - loss: 1.7596e-05 - accuracy: 1.0000WARNING:tensorflow:Early stopping conditioned on metric `val_loss` which is not available. Available metrics are: loss,accuracy\n",
      "90464/90464 [==============================] - 6s 69us/sample - loss: 1.7505e-05 - accuracy: 1.0000\n",
      "Epoch 5/10\n",
      "89856/90464 [============================>.] - ETA: 0s - loss: 1.1270e-05 - accuracy: 1.0000WARNING:tensorflow:Early stopping conditioned on metric `val_loss` which is not available. Available metrics are: loss,accuracy\n",
      "90464/90464 [==============================] - 6s 69us/sample - loss: 1.1197e-05 - accuracy: 1.0000\n",
      "Epoch 6/10\n",
      "90240/90464 [============================>.] - ETA: 0s - loss: 1.5256e-05 - accuracy: 1.0000WARNING:tensorflow:Early stopping conditioned on metric `val_loss` which is not available. Available metrics are: loss,accuracy\n",
      "90464/90464 [==============================] - 6s 69us/sample - loss: 1.5219e-05 - accuracy: 1.0000\n",
      "Epoch 7/10\n",
      "89856/90464 [============================>.] - ETA: 0s - loss: 1.7724e-05 - accuracy: 1.0000WARNING:tensorflow:Early stopping conditioned on metric `val_loss` which is not available. Available metrics are: loss,accuracy\n",
      "90464/90464 [==============================] - 6s 68us/sample - loss: 1.8643e-05 - accuracy: 1.0000\n",
      "Epoch 8/10\n",
      "90368/90464 [============================>.] - ETA: 0s - loss: 1.7360e-05 - accuracy: 1.0000WARNING:tensorflow:Early stopping conditioned on metric `val_loss` which is not available. Available metrics are: loss,accuracy\n",
      "90464/90464 [==============================] - 6s 67us/sample - loss: 1.7342e-05 - accuracy: 1.0000\n",
      "Epoch 9/10\n",
      "89856/90464 [============================>.] - ETA: 0s - loss: 1.5137e-05 - accuracy: 1.0000WARNING:tensorflow:Early stopping conditioned on metric `val_loss` which is not available. Available metrics are: loss,accuracy\n",
      "90464/90464 [==============================] - 6s 64us/sample - loss: 1.5035e-05 - accuracy: 1.0000\n",
      "Epoch 10/10\n",
      "90368/90464 [============================>.] - ETA: 0s - loss: 1.1576e-05 - accuracy: 1.0000WARNING:tensorflow:Early stopping conditioned on metric `val_loss` which is not available. Available metrics are: loss,accuracy\n",
      "90464/90464 [==============================] - 6s 69us/sample - loss: 1.1564e-05 - accuracy: 1.0000\n"
     ]
    },
    {
     "data": {
      "text/plain": [
       "<tensorflow.python.keras.callbacks.History at 0x1953fa23788>"
      ]
     },
     "execution_count": 13,
     "metadata": {},
     "output_type": "execute_result"
    },
    {
     "name": "stdout",
     "output_type": "stream",
     "text": [
      "accuracy_score 0.9999968911659372\n",
      "recall_score 0.999822883457315\n",
      "precision_score 1.0\n",
      "f1_score 0.9999114338853955\n",
      "Model: \"model_6\"\n",
      "_________________________________________________________________\n",
      "Layer (type)                 Output Shape              Param #   \n",
      "=================================================================\n",
      "input_1 (InputLayer)         [(None, 32, 256)]         0         \n",
      "_________________________________________________________________\n",
      "bidirectional (Bidirectional (None, 32, 96)            117120    \n",
      "_________________________________________________________________\n",
      "time_distributed (TimeDistri (None, 32, 1)             97        \n",
      "=================================================================\n",
      "Total params: 117,217\n",
      "Trainable params: 117,217\n",
      "Non-trainable params: 0\n",
      "_________________________________________________________________\n",
      "======Training stage======\n",
      "Train on 90465 samples\n",
      "Epoch 1/10\n",
      "90112/90465 [============================>.] - ETA: 0s - loss: 1.3179e-05 - accuracy: 1.0000WARNING:tensorflow:Early stopping conditioned on metric `val_loss` which is not available. Available metrics are: loss,accuracy\n",
      "90465/90465 [==============================] - 17s 188us/sample - loss: 1.3129e-05 - accuracy: 1.0000\n",
      "Epoch 2/10\n",
      "90112/90465 [============================>.] - ETA: 0s - loss: 1.3576e-05 - accuracy: 1.0000WARNING:tensorflow:Early stopping conditioned on metric `val_loss` which is not available. Available metrics are: loss,accuracy\n",
      "90465/90465 [==============================] - 6s 70us/sample - loss: 1.3572e-05 - accuracy: 1.0000\n",
      "Epoch 3/10\n",
      "89856/90465 [============================>.] - ETA: 0s - loss: 1.3144e-05 - accuracy: 1.0000WARNING:tensorflow:Early stopping conditioned on metric `val_loss` which is not available. Available metrics are: loss,accuracy\n",
      "90465/90465 [==============================] - 6s 69us/sample - loss: 1.3059e-05 - accuracy: 1.0000\n",
      "Epoch 4/10\n",
      "90368/90465 [============================>.] - ETA: 0s - loss: 8.1779e-06 - accuracy: 1.0000WARNING:tensorflow:Early stopping conditioned on metric `val_loss` which is not available. Available metrics are: loss,accuracy\n",
      "90465/90465 [==============================] - 6s 69us/sample - loss: 8.1691e-06 - accuracy: 1.0000\n",
      "Epoch 5/10\n",
      "90240/90465 [============================>.] - ETA: 0s - loss: 9.7519e-06 - accuracy: 1.0000WARNING:tensorflow:Early stopping conditioned on metric `val_loss` which is not available. Available metrics are: loss,accuracy\n",
      "90465/90465 [==============================] - 6s 70us/sample - loss: 9.7308e-06 - accuracy: 1.0000\n",
      "Epoch 6/10\n",
      "90112/90465 [============================>.] - ETA: 0s - loss: 4.4659e-06 - accuracy: 1.0000WARNING:tensorflow:Early stopping conditioned on metric `val_loss` which is not available. Available metrics are: loss,accuracy\n",
      "90465/90465 [==============================] - 6s 69us/sample - loss: 4.4489e-06 - accuracy: 1.0000\n",
      "Epoch 7/10\n",
      "89728/90465 [============================>.] - ETA: 0s - loss: 1.5130e-05 - accuracy: 1.0000WARNING:tensorflow:Early stopping conditioned on metric `val_loss` which is not available. Available metrics are: loss,accuracy\n",
      "90465/90465 [==============================] - 6s 67us/sample - loss: 1.5019e-05 - accuracy: 1.0000\n",
      "Epoch 8/10\n",
      "90240/90465 [============================>.] - ETA: 0s - loss: 7.9296e-06 - accuracy: 1.0000WARNING:tensorflow:Early stopping conditioned on metric `val_loss` which is not available. Available metrics are: loss,accuracy\n",
      "90465/90465 [==============================] - 6s 66us/sample - loss: 7.9099e-06 - accuracy: 1.0000\n",
      "Epoch 9/10\n",
      "90240/90465 [============================>.] - ETA: 0s - loss: 5.8106e-06 - accuracy: 1.0000WARNING:tensorflow:Early stopping conditioned on metric `val_loss` which is not available. Available metrics are: loss,accuracy\n",
      "90465/90465 [==============================] - 6s 66us/sample - loss: 5.7963e-06 - accuracy: 1.0000\n",
      "Epoch 10/10\n",
      "89856/90465 [============================>.] - ETA: 0s - loss: 8.7717e-06 - accuracy: 1.0000WARNING:tensorflow:Early stopping conditioned on metric `val_loss` which is not available. Available metrics are: loss,accuracy\n",
      "90465/90465 [==============================] - 6s 65us/sample - loss: 8.7155e-06 - accuracy: 1.0000\n"
     ]
    },
    {
     "data": {
      "text/plain": [
       "<tensorflow.python.keras.callbacks.History at 0x1955e9f9dc8>"
      ]
     },
     "execution_count": 13,
     "metadata": {},
     "output_type": "execute_result"
    },
    {
     "name": "stdout",
     "output_type": "stream",
     "text": [
      "accuracy_score 0.9999968908566311\n",
      "recall_score 1.0\n",
      "precision_score 0.9998167827042873\n",
      "f1_score 0.9999083829592305\n",
      "Model: \"model_7\"\n",
      "_________________________________________________________________\n",
      "Layer (type)                 Output Shape              Param #   \n",
      "=================================================================\n",
      "input_1 (InputLayer)         [(None, 32, 256)]         0         \n",
      "_________________________________________________________________\n",
      "bidirectional (Bidirectional (None, 32, 96)            117120    \n",
      "_________________________________________________________________\n",
      "time_distributed (TimeDistri (None, 32, 1)             97        \n",
      "=================================================================\n",
      "Total params: 117,217\n",
      "Trainable params: 117,217\n",
      "Non-trainable params: 0\n",
      "_________________________________________________________________\n",
      "======Training stage======\n",
      "Train on 90465 samples\n",
      "Epoch 1/10\n",
      "89984/90465 [============================>.] - ETA: 0s - loss: 6.4403e-06 - accuracy: 1.0000WARNING:tensorflow:Early stopping conditioned on metric `val_loss` which is not available. Available metrics are: loss,accuracy\n",
      "90465/90465 [==============================] - 13s 145us/sample - loss: 6.4101e-06 - accuracy: 1.0000\n",
      "Epoch 2/10\n",
      "89728/90465 [============================>.] - ETA: 0s - loss: 1.2300e-05 - accuracy: 1.0000WARNING:tensorflow:Early stopping conditioned on metric `val_loss` which is not available. Available metrics are: loss,accuracy\n",
      "90465/90465 [==============================] - 6s 70us/sample - loss: 1.2201e-05 - accuracy: 1.0000\n",
      "Epoch 3/10\n",
      "89984/90465 [============================>.] - ETA: 0s - loss: 4.4856e-06 - accuracy: 1.0000WARNING:tensorflow:Early stopping conditioned on metric `val_loss` which is not available. Available metrics are: loss,accuracy\n",
      "90465/90465 [==============================] - 6s 66us/sample - loss: 4.4620e-06 - accuracy: 1.0000\n",
      "Epoch 4/10\n",
      "90112/90465 [============================>.] - ETA: 0s - loss: 7.9357e-06 - accuracy: 1.0000WARNING:tensorflow:Early stopping conditioned on metric `val_loss` which is not available. Available metrics are: loss,accuracy\n",
      "90465/90465 [==============================] - 6s 66us/sample - loss: 7.9060e-06 - accuracy: 1.0000\n",
      "Epoch 5/10\n",
      "90112/90465 [============================>.] - ETA: 0s - loss: 7.4093e-06 - accuracy: 1.0000WARNING:tensorflow:Early stopping conditioned on metric `val_loss` which is not available. Available metrics are: loss,accuracy\n",
      "90465/90465 [==============================] - 6s 66us/sample - loss: 7.3804e-06 - accuracy: 1.0000\n",
      "Epoch 6/10\n",
      "90368/90465 [============================>.] - ETA: 0s - loss: 4.7560e-06 - accuracy: 1.0000WARNING:tensorflow:Early stopping conditioned on metric `val_loss` which is not available. Available metrics are: loss,accuracy\n",
      "90465/90465 [==============================] - 6s 66us/sample - loss: 4.7509e-06 - accuracy: 1.0000\n",
      "Epoch 7/10\n",
      "90240/90465 [============================>.] - ETA: 0s - loss: 1.5019e-06 - accuracy: 1.0000WARNING:tensorflow:Early stopping conditioned on metric `val_loss` which is not available. Available metrics are: loss,accuracy\n",
      "90465/90465 [==============================] - 6s 67us/sample - loss: 1.4983e-06 - accuracy: 1.0000\n",
      "Epoch 8/10\n",
      "89600/90465 [============================>.] - ETA: 0s - loss: 4.1476e-06 - accuracy: 1.0000WARNING:tensorflow:Early stopping conditioned on metric `val_loss` which is not available. Available metrics are: loss,accuracy\n",
      "90465/90465 [==============================] - 6s 69us/sample - loss: 4.1088e-06 - accuracy: 1.0000\n",
      "Epoch 9/10\n",
      "90240/90465 [============================>.] - ETA: 0s - loss: 1.7728e-06 - accuracy: 1.0000WARNING:tensorflow:Early stopping conditioned on metric `val_loss` which is not available. Available metrics are: loss,accuracy\n",
      "90465/90465 [==============================] - 6s 67us/sample - loss: 1.7685e-06 - accuracy: 1.0000\n",
      "Epoch 10/10\n",
      "90240/90465 [============================>.] - ETA: 0s - loss: 4.4704e-06 - accuracy: 1.0000WARNING:tensorflow:Early stopping conditioned on metric `val_loss` which is not available. Available metrics are: loss,accuracy\n",
      "90465/90465 [==============================] - 6s 66us/sample - loss: 4.4592e-06 - accuracy: 1.0000\n"
     ]
    },
    {
     "data": {
      "text/plain": [
       "<tensorflow.python.keras.callbacks.History at 0x1953f31e548>"
      ]
     },
     "execution_count": 13,
     "metadata": {},
     "output_type": "execute_result"
    },
    {
     "name": "stdout",
     "output_type": "stream",
     "text": [
      "accuracy_score 1.0\n",
      "recall_score 1.0\n",
      "precision_score 1.0\n",
      "f1_score 1.0\n",
      "Model: \"model_8\"\n",
      "_________________________________________________________________\n",
      "Layer (type)                 Output Shape              Param #   \n",
      "=================================================================\n",
      "input_1 (InputLayer)         [(None, 32, 256)]         0         \n",
      "_________________________________________________________________\n",
      "bidirectional (Bidirectional (None, 32, 96)            117120    \n",
      "_________________________________________________________________\n",
      "time_distributed (TimeDistri (None, 32, 1)             97        \n",
      "=================================================================\n",
      "Total params: 117,217\n",
      "Trainable params: 117,217\n",
      "Non-trainable params: 0\n",
      "_________________________________________________________________\n",
      "======Training stage======\n",
      "Train on 90465 samples\n",
      "Epoch 1/10\n",
      "89856/90465 [============================>.] - ETA: 0s - loss: 3.4484e-06 - accuracy: 1.0000WARNING:tensorflow:Early stopping conditioned on metric `val_loss` which is not available. Available metrics are: loss,accuracy\n",
      "90465/90465 [==============================] - 13s 148us/sample - loss: 3.4253e-06 - accuracy: 1.0000\n",
      "Epoch 2/10\n",
      "90368/90465 [============================>.] - ETA: 0s - loss: 1.1015e-06 - accuracy: 1.0000WARNING:tensorflow:Early stopping conditioned on metric `val_loss` which is not available. Available metrics are: loss,accuracy\n",
      "90465/90465 [==============================] - 6s 66us/sample - loss: 1.1003e-06 - accuracy: 1.0000\n",
      "Epoch 3/10\n",
      "90368/90465 [============================>.] - ETA: 0s - loss: 9.1715e-06 - accuracy: 1.0000WARNING:tensorflow:Early stopping conditioned on metric `val_loss` which is not available. Available metrics are: loss,accuracy\n",
      "90465/90465 [==============================] - 6s 66us/sample - loss: 9.1617e-06 - accuracy: 1.0000\n",
      "Epoch 4/10\n",
      "89984/90465 [============================>.] - ETA: 0s - loss: 2.4628e-06 - accuracy: 1.0000WARNING:tensorflow:Early stopping conditioned on metric `val_loss` which is not available. Available metrics are: loss,accuracy\n",
      "90465/90465 [==============================] - 6s 64us/sample - loss: 2.4497e-06 - accuracy: 1.0000\n",
      "Epoch 5/10\n",
      "89984/90465 [============================>.] - ETA: 0s - loss: 1.4535e-06 - accuracy: 1.0000WARNING:tensorflow:Early stopping conditioned on metric `val_loss` which is not available. Available metrics are: loss,accuracy\n",
      "90465/90465 [==============================] - 6s 65us/sample - loss: 1.4458e-06 - accuracy: 1.0000\n",
      "Epoch 6/10\n",
      "90368/90465 [============================>.] - ETA: 0s - loss: 2.8587e-06 - accuracy: 1.0000WARNING:tensorflow:Early stopping conditioned on metric `val_loss` which is not available. Available metrics are: loss,accuracy\n",
      "90465/90465 [==============================] - 6s 65us/sample - loss: 2.8557e-06 - accuracy: 1.0000\n",
      "Epoch 7/10\n",
      "89984/90465 [============================>.] - ETA: 0s - loss: 1.3437e-06 - accuracy: 1.0000WARNING:tensorflow:Early stopping conditioned on metric `val_loss` which is not available. Available metrics are: loss,accuracy\n",
      "90465/90465 [==============================] - 6s 65us/sample - loss: 1.3366e-06 - accuracy: 1.0000\n",
      "Epoch 8/10\n",
      "89856/90465 [============================>.] - ETA: 0s - loss: 5.9523e-06 - accuracy: 1.0000WARNING:tensorflow:Early stopping conditioned on metric `val_loss` which is not available. Available metrics are: loss,accuracy\n",
      "90465/90465 [==============================] - 6s 66us/sample - loss: 5.9125e-06 - accuracy: 1.0000\n",
      "Epoch 9/10\n",
      "89728/90465 [============================>.] - ETA: 0s - loss: 3.5863e-06 - accuracy: 1.0000 ETA: 0s - loss: 3.9007e-06 WARNING:tensorflow:Early stopping conditioned on metric `val_loss` which is not available. Available metrics are: loss,accuracy\n",
      "90465/90465 [==============================] - 6s 64us/sample - loss: 3.5573e-06 - accuracy: 1.0000\n",
      "Epoch 10/10\n",
      "90240/90465 [============================>.] - ETA: 0s - loss: 5.6433e-08 - accuracy: 1.0000WARNING:tensorflow:Early stopping conditioned on metric `val_loss` which is not available. Available metrics are: loss,accuracy\n",
      "90465/90465 [==============================] - 6s 65us/sample - loss: 5.6308e-08 - accuracy: 1.0000\n"
     ]
    },
    {
     "data": {
      "text/plain": [
       "<tensorflow.python.keras.callbacks.History at 0x1953b1bcd08>"
      ]
     },
     "execution_count": 13,
     "metadata": {},
     "output_type": "execute_result"
    },
    {
     "name": "stdout",
     "output_type": "stream",
     "text": [
      "accuracy_score 0.9999968908566311\n",
      "recall_score 1.0\n",
      "precision_score 0.9998215560314061\n",
      "f1_score 0.9999107700544303\n",
      "Model: \"model_9\"\n",
      "_________________________________________________________________\n",
      "Layer (type)                 Output Shape              Param #   \n",
      "=================================================================\n",
      "input_1 (InputLayer)         [(None, 32, 256)]         0         \n",
      "_________________________________________________________________\n",
      "bidirectional (Bidirectional (None, 32, 96)            117120    \n",
      "_________________________________________________________________\n",
      "time_distributed (TimeDistri (None, 32, 1)             97        \n",
      "=================================================================\n",
      "Total params: 117,217\n",
      "Trainable params: 117,217\n",
      "Non-trainable params: 0\n",
      "_________________________________________________________________\n",
      "======Training stage======\n",
      "Train on 90465 samples\n",
      "Epoch 1/10\n",
      "89984/90465 [============================>.] - ETA: 0s - loss: 4.9845e-06 - accuracy: 1.0000WARNING:tensorflow:Early stopping conditioned on metric `val_loss` which is not available. Available metrics are: loss,accuracy\n",
      "90465/90465 [==============================] - 18s 194us/sample - loss: 4.9580e-06 - accuracy: 1.0000\n",
      "Epoch 2/10\n",
      "90368/90465 [============================>.] - ETA: 0s - loss: 2.2371e-06 - accuracy: 1.0000WARNING:tensorflow:Early stopping conditioned on metric `val_loss` which is not available. Available metrics are: loss,accuracy\n",
      "90465/90465 [==============================] - 6s 63us/sample - loss: 2.2347e-06 - accuracy: 1.0000\n",
      "Epoch 3/10\n",
      "89728/90465 [============================>.] - ETA: 0s - loss: 7.5379e-07 - accuracy: 1.0000WARNING:tensorflow:Early stopping conditioned on metric `val_loss` which is not available. Available metrics are: loss,accuracy\n",
      "90465/90465 [==============================] - 6s 62us/sample - loss: 7.4772e-07 - accuracy: 1.0000\n",
      "Epoch 4/10\n",
      "89600/90465 [============================>.] - ETA: 0s - loss: 8.5725e-07 - accuracy: 1.0000WARNING:tensorflow:Early stopping conditioned on metric `val_loss` which is not available. Available metrics are: loss,accuracy\n",
      "90465/90465 [==============================] - 6s 62us/sample - loss: 8.4919e-07 - accuracy: 1.0000\n",
      "Epoch 5/10\n",
      "89600/90465 [============================>.] - ETA: 0s - loss: 2.4457e-07 - accuracy: 1.0000WARNING:tensorflow:Early stopping conditioned on metric `val_loss` which is not available. Available metrics are: loss,accuracy\n",
      "90465/90465 [==============================] - 6s 63us/sample - loss: 2.4463e-07 - accuracy: 1.0000\n",
      "Epoch 6/10\n",
      "90368/90465 [============================>.] - ETA: 0s - loss: 6.0859e-07 - accuracy: 1.0000WARNING:tensorflow:Early stopping conditioned on metric `val_loss` which is not available. Available metrics are: loss,accuracy\n",
      "90465/90465 [==============================] - 6s 63us/sample - loss: 6.0798e-07 - accuracy: 1.0000\n",
      "Epoch 7/10\n",
      "89856/90465 [============================>.] - ETA: 0s - loss: 1.1478e-07 - accuracy: 1.0000WARNING:tensorflow:Early stopping conditioned on metric `val_loss` which is not available. Available metrics are: loss,accuracy\n",
      "90465/90465 [==============================] - 6s 67us/sample - loss: 1.1406e-07 - accuracy: 1.0000\n",
      "Epoch 8/10\n",
      "90240/90465 [============================>.] - ETA: 0s - loss: 4.6907e-07 - accuracy: 1.0000WARNING:tensorflow:Early stopping conditioned on metric `val_loss` which is not available. Available metrics are: loss,accuracy\n",
      "90465/90465 [==============================] - 6s 70us/sample - loss: 4.6791e-07 - accuracy: 1.0000\n",
      "Epoch 9/10\n",
      "90240/90465 [============================>.] - ETA: 0s - loss: 3.7486e-07 - accuracy: 1.0000WARNING:tensorflow:Early stopping conditioned on metric `val_loss` which is not available. Available metrics are: loss,accuracy\n",
      "90465/90465 [==============================] - 6s 69us/sample - loss: 3.7392e-07 - accuracy: 1.0000\n",
      "Epoch 10/10\n",
      "90112/90465 [============================>.] - ETA: 0s - loss: 4.1178e-07 - accuracy: 1.0000WARNING:tensorflow:Early stopping conditioned on metric `val_loss` which is not available. Available metrics are: loss,accuracy\n",
      "90465/90465 [==============================] - 6s 68us/sample - loss: 4.1020e-07 - accuracy: 1.0000\n"
     ]
    },
    {
     "data": {
      "text/plain": [
       "<tensorflow.python.keras.callbacks.History at 0x19567f043c8>"
      ]
     },
     "execution_count": 13,
     "metadata": {},
     "output_type": "execute_result"
    },
    {
     "name": "stdout",
     "output_type": "stream",
     "text": [
      "accuracy_score 1.0\n",
      "recall_score 1.0\n",
      "precision_score 1.0\n",
      "f1_score 1.0\n",
      "\n",
      "K-fold cross validation Accuracy: [0.9999564763231198, 0.9999595851571826, 0.999975129327497, 0.9999844558296856, 0.9999844558296856, 0.9999968911659372, 0.9999968908566311, 1.0, 0.9999968908566311, 1.0]\n",
      "\n",
      "K-fold cross validation Recall: [0.9994548428130111, 0.9989266547406083, 0.9990982867448152, 0.9992932862190813, 1.0, 0.999822883457315, 1.0, 1.0, 1.0, 1.0]\n",
      "\n",
      "K-fold cross validation Precision: [0.998003992015968, 0.9987479878375961, 0.9994587768356485, 0.9998232278592893, 0.999091899745732, 1.0, 0.9998167827042873, 1.0, 0.9998215560314061, 1.0]\n",
      "\n",
      "K-fold cross validation F1-Score: [0.9987288905029961, 0.9988373132993471, 0.9992784992784992, 0.9995581867986215, 0.9995457436176978, 0.9999114338853955, 0.9999083829592305, 1.0, 0.9999107700544303, 1.0]\n"
     ]
    }
   ],
   "source": [
    "# 교차검증 kfold\n",
    "from sklearn.model_selection import KFold\n",
    "\n",
    "# Accuracy, Precision, Recall, F1-Score\n",
    "from sklearn.metrics import accuracy_score, recall_score, precision_score, f1_score\n",
    "\n",
    "# Confusion Matrix, ROC Curve\n",
    "from sklearn.metrics import confusion_matrix, roc_auc_score\n",
    "\n",
    "# 최종 평가지표들 평균용\n",
    "accuracy, recall, precision, f1score, cm = [], [], [], [], []\n",
    "\n",
    "# 11. 교차검증 kfold - k.split - 10회 / K-Fold 객체 생성\n",
    "# kf = KFold(n_splits=10, shuffle=False, random_state=None) # KFold non shuffle 버전\n",
    "kf = KFold(n_splits=10, shuffle=True, random_state=None) # KFold non shuffle 버전\n",
    "\n",
    "for train, validation in kf.split(x_bc6_0, y_bc6_0):\n",
    "    model1 = models.Model(xInput, xOutput)\n",
    "    model1.compile(loss='binary_crossentropy', optimizer='rmsprop', metrics=['accuracy'])\n",
    "    model1.summary()\n",
    "    print('======Training stage======')\n",
    "    model1.fit(x_bc6_0[train],\n",
    "               y_bc6_0[train],\n",
    "               epochs = 10,\n",
    "               batch_size = 128,\n",
    "               callbacks=[early_stopping])\n",
    "    #k_accuracy = '%.4f' %(model1.evaluate(data_10000x[validation], data_10000y[validation])[1])\n",
    "\n",
    "# 12. 교차검증결과 predict - 검증셋들\n",
    "    # predict 값\n",
    "    k_pr = model1.predict(x_bc6_0[validation])\n",
    "    \n",
    "    # 테스트 predict 결과들 비교 (평가지표 보기위함)\n",
    "    pred = np.round(np.array(k_pr).flatten().tolist())\n",
    "    y_test = np.array(y_bc6_0[validation]).flatten().tolist()\n",
    "    \n",
    "# 13. 평가지표들 출력\n",
    "    ## 평가지표들\n",
    "    k_accuracy = float(accuracy_score(y_test, pred))\n",
    "    k_recall =  float(recall_score(y_test, pred))\n",
    "    k_precision = float(precision_score(y_test, pred))\n",
    "    k_f1_score = float(f1_score(y_test, pred))\n",
    "    #k_cm = float(confusion_matrix(y_test, pred))\n",
    "    \n",
    "    print('accuracy_score', k_accuracy)\n",
    "    print('recall_score', k_recall)\n",
    "    print('precision_score', k_precision)\n",
    "    print('f1_score', k_f1_score)\n",
    "    #print('\\nconfusion_matrix\\n', k_cm)\n",
    "\n",
    "    accuracy.append(k_accuracy)\n",
    "    recall.append(k_recall)\n",
    "    precision.append(k_precision)\n",
    "    f1score.append(k_f1_score)\n",
    "    #cm.append(k_cm)\n",
    "#    print('roc_curve 면적', roc_auc_score(y_test, pred))\n",
    "\n",
    "# 최종 결과지표\n",
    "print('\\nK-fold cross validation Accuracy: {}'.format(accuracy))\n",
    "print('\\nK-fold cross validation Recall: {}'.format(recall))\n",
    "print('\\nK-fold cross validation Precision: {}'.format(precision))\n",
    "print('\\nK-fold cross validation F1-Score: {}'.format(f1score))\n",
    "#print('\\nK-fold cross validation ConfusionMatrix: {}'.format(cm))"
   ]
  },
  {
   "cell_type": "markdown",
   "metadata": {},
   "source": [
    "## (9) 평가지표"
   ]
  },
  {
   "cell_type": "code",
   "execution_count": 14,
   "metadata": {},
   "outputs": [
    {
     "name": "stdout",
     "output_type": "stream",
     "text": [
      "10-Fold Cross_validation. Accuracy : 0.9999850775346371\n",
      "10-Fold Cross_validation. Recall : 0.9996595953974831\n",
      "10-Fold Cross_validation. Precision : 0.9994764223029927\n",
      "10-Fold Cross_validation. F1-Score : 0.9995679220396217\n"
     ]
    }
   ],
   "source": [
    "print('10-Fold Cross_validation. Accuracy :', np.mean(accuracy))\n",
    "print('10-Fold Cross_validation. Recall :', np.mean(recall))\n",
    "print('10-Fold Cross_validation. Precision :', np.mean(precision))\n",
    "print('10-Fold Cross_validation. F1-Score :', np.mean(f1score))"
   ]
  },
  {
   "cell_type": "code",
   "execution_count": 15,
   "metadata": {},
   "outputs": [
    {
     "name": "stdout",
     "output_type": "stream",
     "text": [
      "save 완료\n"
     ]
    }
   ],
   "source": [
    "model1.save('gcc6_bin_core_s32_h48_o0.h5')\n",
    "print('save 완료')"
   ]
  }
 ],
 "metadata": {
  "kernelspec": {
   "display_name": "Python 3",
   "language": "python",
   "name": "python3"
  },
  "language_info": {
   "codemirror_mode": {
    "name": "ipython",
    "version": 3
   },
   "file_extension": ".py",
   "mimetype": "text/x-python",
   "name": "python",
   "nbconvert_exporter": "python",
   "pygments_lexer": "ipython3",
   "version": "3.7.7"
  }
 },
 "nbformat": 4,
 "nbformat_minor": 4
}
