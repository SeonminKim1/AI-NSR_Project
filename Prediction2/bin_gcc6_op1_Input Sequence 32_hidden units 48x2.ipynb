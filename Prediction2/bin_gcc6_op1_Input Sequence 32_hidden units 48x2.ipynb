{
 "cells": [
  {
   "cell_type": "markdown",
   "metadata": {},
   "source": [
    "## RNN 모델 N-Byte 방식 (함수정보 포함 vs 미포함 => 1:1 비율)\n",
    "\n",
    "## (1) 데이터로드"
   ]
  },
  {
   "cell_type": "code",
   "execution_count": 3,
   "metadata": {},
   "outputs": [
    {
     "name": "stdout",
     "output_type": "stream",
     "text": [
      "(20426327, 2)\n",
      "reset_index 완료\n",
      "input data shape\n"
     ]
    },
    {
     "data": {
      "text/html": [
       "<div>\n",
       "<style scoped>\n",
       "    .dataframe tbody tr th:only-of-type {\n",
       "        vertical-align: middle;\n",
       "    }\n",
       "\n",
       "    .dataframe tbody tr th {\n",
       "        vertical-align: top;\n",
       "    }\n",
       "\n",
       "    .dataframe thead th {\n",
       "        text-align: right;\n",
       "    }\n",
       "</style>\n",
       "<table border=\"1\" class=\"dataframe\">\n",
       "  <thead>\n",
       "    <tr style=\"text-align: right;\">\n",
       "      <th></th>\n",
       "      <th>bin</th>\n",
       "      <th>label</th>\n",
       "    </tr>\n",
       "  </thead>\n",
       "  <tbody>\n",
       "    <tr>\n",
       "      <th>0</th>\n",
       "      <td>47</td>\n",
       "      <td>0</td>\n",
       "    </tr>\n",
       "    <tr>\n",
       "      <th>1</th>\n",
       "      <td>108</td>\n",
       "      <td>0</td>\n",
       "    </tr>\n",
       "    <tr>\n",
       "      <th>2</th>\n",
       "      <td>105</td>\n",
       "      <td>0</td>\n",
       "    </tr>\n",
       "    <tr>\n",
       "      <th>3</th>\n",
       "      <td>98</td>\n",
       "      <td>0</td>\n",
       "    </tr>\n",
       "    <tr>\n",
       "      <th>4</th>\n",
       "      <td>47</td>\n",
       "      <td>0</td>\n",
       "    </tr>\n",
       "  </tbody>\n",
       "</table>\n",
       "</div>"
      ],
      "text/plain": [
       "   bin  label\n",
       "0   47      0\n",
       "1  108      0\n",
       "2  105      0\n",
       "3   98      0\n",
       "4   47      0"
      ]
     },
     "execution_count": 3,
     "metadata": {},
     "output_type": "execute_result"
    }
   ],
   "source": [
    "# (1) 데이터로드\n",
    "import pandas as pd\n",
    "import numpy as np\n",
    "\n",
    "import warnings\n",
    "warnings.filterwarnings(action='ignore')\n",
    "\n",
    "# 여러개 쳐도 나오게\n",
    "from IPython.core.interactiveshell import InteractiveShell\n",
    "InteractiveShell.ast_node_interactivity = \"all\"\n",
    "\n",
    "# 파일읽기\n",
    "bin6_1 = pd.read_csv(\"data/\"+'answer_1.csv', index_col=0)\n",
    "print(bin6_1.shape)\n",
    "\n",
    "# reset_index (hex processing 하면서 값이 빠졌으니까 + n_gram 에서 index를 다루기 때문에)\n",
    "bin6_1.reset_index(inplace=True, drop=True)\n",
    "\n",
    "print('reset_index 완료')\n",
    "print('input data shape')\n",
    "bin6_1.head()"
   ]
  },
  {
   "cell_type": "code",
   "execution_count": 4,
   "metadata": {},
   "outputs": [
    {
     "name": "stdout",
     "output_type": "stream",
     "text": [
      "256\n",
      "0    20400031\n",
      "1       26296\n",
      "Name: label, dtype: int64\n"
     ]
    }
   ],
   "source": [
    "# (2-1) 데이터체크 1 - hex(16진수)가 256 label을 가져야 dummies 변환 가능 \n",
    "# 16진수 256개 종류가 있어서 pd.get_dummies 사용 가능.\n",
    "print(len(bin6_1['bin'].unique()))\n",
    "\n",
    "# (2-2) 데이터 체크 2 - 1, 0 비율 ==> 1이 함수의 갯수를 뜻함\n",
    "# 정답 데이터 1, 0 비율 확인  ==> 1이 함수의 갯수를 뜻함\n",
    "print(bin6_1['label'].value_counts())"
   ]
  },
  {
   "cell_type": "markdown",
   "metadata": {},
   "source": [
    "## (3) N Byte씩 자르기"
   ]
  },
  {
   "cell_type": "code",
   "execution_count": 5,
   "metadata": {},
   "outputs": [
    {
     "name": "stdout",
     "output_type": "stream",
     "text": [
      "841472\n",
      "나머지 0\n",
      "최종 길이 841472\n",
      "bin6_1 841472\n"
     ]
    }
   ],
   "source": [
    "idx_bin = bin6_1[bin6_1['label']==1].index  # 407, 474 ...\n",
    "ls_bin = list(idx_bin)\n",
    "\n",
    "# 최종 뽑을 행에 대한 index\n",
    "ls_idx_bin = []\n",
    "\n",
    "# n byte 자르기 방식\n",
    "left_idx, right_idx = 0, 32 # 3개씩\n",
    "\n",
    "# n byte 자르기\n",
    "for k in range(left_idx, right_idx):\n",
    "    ls_idx_bin.extend(list(idx_bin + k)) # index 형이라서 가능\n",
    "\n",
    "#ls_idx = list(set(ls_idx)) \n",
    "ls_idx_bin.sort() # 인덱스 정렬\n",
    "\n",
    "# 1차 index 해당범위 초과한 것들 없애기\n",
    "ls_idx_bin = list(filter(lambda x: x<len(bin6_1), ls_idx_bin))\n",
    "print(len(ls_idx_bin))\n",
    "\n",
    "# 2차 남은 index들 중 right_idx 나눈 나머지 없애기\n",
    "sub_bin = len(ls_idx_bin)%(right_idx)\n",
    "print('나머지', sub_bin)\n",
    "\n",
    "ls_idx_bin = ls_idx_bin[:len(ls_idx_bin)-sub_bin]\n",
    "print('최종 길이', len(ls_idx_bin))\n",
    "\n",
    "print('bin6_1', len(ls_idx_bin))\n",
    "\n",
    "# loc 로 수정필요\n",
    "bin6_1_Ngram = bin6_1.loc[ls_idx_bin,:].copy()"
   ]
  },
  {
   "cell_type": "markdown",
   "metadata": {},
   "source": [
    "## (4) false data 만들기"
   ]
  },
  {
   "cell_type": "code",
   "execution_count": 6,
   "metadata": {},
   "outputs": [
    {
     "name": "stdout",
     "output_type": "stream",
     "text": [
      "26296.0\n",
      "0 6566678\n",
      "1000 4417354\n",
      "2000 19679744\n",
      "3000 5020177\n",
      "4000 17688399\n",
      "5000 350083\n",
      "6000 3265024\n",
      "7000 14336692\n",
      "8000 7539562\n",
      "9000 13624554\n",
      "10000 205404\n",
      "11000 1741573\n",
      "12000 4312786\n",
      "13000 3805460\n",
      "14000 2992500\n",
      "15000 15683914\n",
      "16000 15362705\n",
      "17000 18012471\n",
      "18000 5948344\n",
      "19000 13168149\n",
      "20000 18327623\n",
      "21000 3133530\n",
      "22000 794506\n",
      "23000 11520885\n",
      "24000 5574063\n",
      "25000 1690105\n",
      "26000 16851022\n",
      "완료\n",
      "26296\n"
     ]
    }
   ],
   "source": [
    "# false data 만들기 - False 데이터 랜덤 생성\n",
    "\n",
    "# 목표치\n",
    "goal_bin = len(bin6_1_Ngram)/right_idx\n",
    "count_bin = 0\n",
    "\n",
    "print(goal_bin)\n",
    "\n",
    "# 최종 데이터 Frame\n",
    "d_bin = pd.DataFrame(columns = bin6_1.columns)\n",
    "\n",
    "binutils_df = []\n",
    "# goal 에 도달할 때까지\n",
    "while True:\n",
    "    if (count_bin == goal_bin):\n",
    "            break\n",
    "    # 진행상황 살펴보기 위함\n",
    "            \n",
    "    # 랜덤 N 바이트씩 뽑음\n",
    "    # random index\n",
    "    random_idx_bin = np.random.randint(len(bin6_1)-right_idx)\n",
    "\n",
    "    if count_bin % 1000==0:\n",
    "        print(count_bin, end=' ')\n",
    "        print(random_idx_bin)\n",
    "\n",
    "    df_bin = bin6_1[random_idx_bin : random_idx_bin + right_idx]\n",
    "    \n",
    "    # 뽑은 index의 N 바이트 중에 1이 없는 경우만\n",
    "    if 1 not in df_bin['label'] and count_bin < goal_bin:\n",
    "        binutils_df.append(df_bin)\n",
    "        count_bin+=1\n",
    "\n",
    "print('완료')\n",
    "print(len(binutils_df))"
   ]
  },
  {
   "cell_type": "code",
   "execution_count": 7,
   "metadata": {},
   "outputs": [
    {
     "name": "stdout",
     "output_type": "stream",
     "text": [
      "26296\n",
      "26296\n"
     ]
    }
   ],
   "source": [
    "# True data와 False Data 같은지 체크\n",
    "print(len(binutils_df))\n",
    "print(bin6_1['label'].value_counts()[1])"
   ]
  },
  {
   "cell_type": "markdown",
   "metadata": {},
   "source": [
    "## (5) False Data + True Data 합치기"
   ]
  },
  {
   "cell_type": "code",
   "execution_count": 8,
   "metadata": {},
   "outputs": [
    {
     "data": {
      "text/plain": [
       "(1682944, 2)"
      ]
     },
     "execution_count": 8,
     "metadata": {},
     "output_type": "execute_result"
    }
   ],
   "source": [
    "f_data = pd.concat(binutils_df)\n",
    "final = pd.concat([f_data, bin6_1_Ngram])\n",
    "final.shape"
   ]
  },
  {
   "cell_type": "markdown",
   "metadata": {},
   "source": [
    "## (6) one hot encoding"
   ]
  },
  {
   "cell_type": "code",
   "execution_count": 9,
   "metadata": {},
   "outputs": [
    {
     "name": "stdout",
     "output_type": "stream",
     "text": [
      "원핫인코딩완료\n",
      "(1682944, 257)\n"
     ]
    }
   ],
   "source": [
    "# 훈련데이터 (gcc 최적화버전 0, 1, 2, 3 one hot encoding)\n",
    "bc6_1_onehot_Ngram = pd.get_dummies(final['bin'])\n",
    "bc6_1_onehot_Ngram = pd.concat([final['label'], bc6_1_onehot_Ngram], axis=1)\n",
    "\n",
    "print('원핫인코딩완료')\n",
    "print(bc6_1_onehot_Ngram.shape)"
   ]
  },
  {
   "cell_type": "code",
   "execution_count": 10,
   "metadata": {},
   "outputs": [
    {
     "name": "stdout",
     "output_type": "stream",
     "text": [
      "(1682944, 256) (1682944, 256)\n",
      "(52592, 32, 256) (52592, 32, 1)\n"
     ]
    }
   ],
   "source": [
    "# 훈련 데이터, 훈련 라벨\n",
    "x_bc6_1 = bc6_1_onehot_Ngram.iloc[:,1:].to_numpy()\n",
    "y_bc6_1 = bc6_1_onehot_Ngram['label'].to_numpy()\n",
    "print(x_bc6_1.shape, x_bc6_1.shape)\n",
    "\n",
    "x_bc6_1 = x_bc6_1.reshape(-1, right_idx, x_bc6_1.shape[1])\n",
    "y_bc6_1 = y_bc6_1.reshape(-1, right_idx, 1)\n",
    "\n",
    "print(x_bc6_1.shape, y_bc6_1.shape)"
   ]
  },
  {
   "cell_type": "code",
   "execution_count": 11,
   "metadata": {},
   "outputs": [
    {
     "name": "stdout",
     "output_type": "stream",
     "text": [
      "(52592, 32, 256) (52592, 32, 1)\n"
     ]
    }
   ],
   "source": [
    "# numpy 행, 열 섞기\n",
    "p = np.random.permutation(x_bc6_1.shape[0])\n",
    "\n",
    "x_bc6_1 = x_bc6_1[p]\n",
    "y_bc6_1 = y_bc6_1[p]\n",
    "\n",
    "print(x_bc6_1.shape, y_bc6_1.shape)"
   ]
  },
  {
   "cell_type": "markdown",
   "metadata": {},
   "source": [
    "## (7) 모델"
   ]
  },
  {
   "cell_type": "code",
   "execution_count": 12,
   "metadata": {},
   "outputs": [],
   "source": [
    "# (10) 양방향 LSTM 모델링 작업\n",
    "from tensorflow.keras import layers, models\n",
    "#from tf.keras.models import Model, Sequential\n",
    "#from tf.keras.layers import SimpleRNN, Input, Dense, LSTM\n",
    "#from tf.keras.layers import Bidirectional, TimeDistributed\n",
    "\n",
    "# 학습\n",
    "from tensorflow.keras.callbacks import EarlyStopping\n",
    "early_stopping = EarlyStopping(patience = 3) # 조기종료 콜백함수 정의\n",
    "\n",
    "xInput = layers.Input(batch_shape=(None,right_idx, 256)) \n",
    "xBiLstm = layers.Bidirectional(layers.LSTM(48, return_sequences=True, stateful=False), merge_mode = 'concat')(xInput)\n",
    "xOutput = layers.TimeDistributed(layers.Dense(1, activation ='sigmoid'))(xBiLstm) # 각 스텝에서 cost가 전송되고, 오류가 다음 step으로 전송됨."
   ]
  },
  {
   "cell_type": "markdown",
   "metadata": {},
   "source": [
    "## (8) 학습 - 10 KFold"
   ]
  },
  {
   "cell_type": "code",
   "execution_count": 13,
   "metadata": {
    "scrolled": false
   },
   "outputs": [
    {
     "name": "stdout",
     "output_type": "stream",
     "text": [
      "Model: \"model\"\n",
      "_________________________________________________________________\n",
      "Layer (type)                 Output Shape              Param #   \n",
      "=================================================================\n",
      "input_1 (InputLayer)         [(None, 32, 256)]         0         \n",
      "_________________________________________________________________\n",
      "bidirectional (Bidirectional (None, 32, 96)            117120    \n",
      "_________________________________________________________________\n",
      "time_distributed (TimeDistri (None, 32, 1)             97        \n",
      "=================================================================\n",
      "Total params: 117,217\n",
      "Trainable params: 117,217\n",
      "Non-trainable params: 0\n",
      "_________________________________________________________________\n",
      "======Training stage======\n",
      "Train on 47332 samples\n",
      "Epoch 1/10\n",
      "46976/47332 [============================>.] - ETA: 0s - loss: 0.0509 - accuracy: 0.9867WARNING:tensorflow:Early stopping conditioned on metric `val_loss` which is not available. Available metrics are: loss,accuracy\n",
      "47332/47332 [==============================] - 10s 211us/sample - loss: 0.0506 - accuracy: 0.9868\n",
      "Epoch 2/10\n",
      "46592/47332 [============================>.] - ETA: 0s - loss: 0.0087 - accuracy: 0.9976WARNING:tensorflow:Early stopping conditioned on metric `val_loss` which is not available. Available metrics are: loss,accuracy\n",
      "47332/47332 [==============================] - 3s 60us/sample - loss: 0.0086 - accuracy: 0.9976\n",
      "Epoch 3/10\n",
      "46720/47332 [============================>.] - ETA: 0s - loss: 0.0037 - accuracy: 0.9989WARNING:tensorflow:Early stopping conditioned on metric `val_loss` which is not available. Available metrics are: loss,accuracy\n",
      "47332/47332 [==============================] - 3s 60us/sample - loss: 0.0037 - accuracy: 0.9989\n",
      "Epoch 4/10\n",
      "46720/47332 [============================>.] - ETA: 0s - loss: 0.0024 - accuracy: 0.9993WARNING:tensorflow:Early stopping conditioned on metric `val_loss` which is not available. Available metrics are: loss,accuracy\n",
      "47332/47332 [==============================] - 3s 60us/sample - loss: 0.0024 - accuracy: 0.9993\n",
      "Epoch 5/10\n",
      "46720/47332 [============================>.] - ETA: 0s - loss: 0.0018 - accuracy: 0.9995WARNING:tensorflow:Early stopping conditioned on metric `val_loss` which is not available. Available metrics are: loss,accuracy\n",
      "47332/47332 [==============================] - 3s 60us/sample - loss: 0.0018 - accuracy: 0.9995\n",
      "Epoch 6/10\n",
      "46720/47332 [============================>.] - ETA: 0s - loss: 0.0014 - accuracy: 0.9996WARNING:tensorflow:Early stopping conditioned on metric `val_loss` which is not available. Available metrics are: loss,accuracy\n",
      "47332/47332 [==============================] - 3s 60us/sample - loss: 0.0014 - accuracy: 0.9996\n",
      "Epoch 7/10\n",
      "46720/47332 [============================>.] - ETA: 0s - loss: 0.0012 - accuracy: 0.9997WARNING:tensorflow:Early stopping conditioned on metric `val_loss` which is not available. Available metrics are: loss,accuracy\n",
      "47332/47332 [==============================] - 3s 60us/sample - loss: 0.0012 - accuracy: 0.9997\n",
      "Epoch 8/10\n",
      "46592/47332 [============================>.] - ETA: 0s - loss: 0.0010 - accuracy: 0.9997WARNING:tensorflow:Early stopping conditioned on metric `val_loss` which is not available. Available metrics are: loss,accuracy\n",
      "47332/47332 [==============================] - 3s 60us/sample - loss: 0.0010 - accuracy: 0.9997\n",
      "Epoch 9/10\n",
      "46592/47332 [============================>.] - ETA: 0s - loss: 8.7232e-04 - accuracy: 0.9997WARNING:tensorflow:Early stopping conditioned on metric `val_loss` which is not available. Available metrics are: loss,accuracy\n",
      "47332/47332 [==============================] - 3s 61us/sample - loss: 8.6688e-04 - accuracy: 0.9997\n",
      "Epoch 10/10\n",
      "46848/47332 [============================>.] - ETA: 0s - loss: 7.7829e-04 - accuracy: 0.9998WARNING:tensorflow:Early stopping conditioned on metric `val_loss` which is not available. Available metrics are: loss,accuracy\n",
      "47332/47332 [==============================] - 3s 63us/sample - loss: 7.7516e-04 - accuracy: 0.9998\n"
     ]
    },
    {
     "data": {
      "text/plain": [
       "<tensorflow.python.keras.callbacks.History at 0x13b138739c8>"
      ]
     },
     "execution_count": 13,
     "metadata": {},
     "output_type": "execute_result"
    },
    {
     "name": "stdout",
     "output_type": "stream",
     "text": [
      "accuracy_score 0.9994831273764259\n",
      "recall_score 0.9933514656996071\n",
      "precision_score 0.9806085918854416\n",
      "f1_score 0.9869388980633539\n",
      "Model: \"model_1\"\n",
      "_________________________________________________________________\n",
      "Layer (type)                 Output Shape              Param #   \n",
      "=================================================================\n",
      "input_1 (InputLayer)         [(None, 32, 256)]         0         \n",
      "_________________________________________________________________\n",
      "bidirectional (Bidirectional (None, 32, 96)            117120    \n",
      "_________________________________________________________________\n",
      "time_distributed (TimeDistri (None, 32, 1)             97        \n",
      "=================================================================\n",
      "Total params: 117,217\n",
      "Trainable params: 117,217\n",
      "Non-trainable params: 0\n",
      "_________________________________________________________________\n",
      "======Training stage======\n",
      "Train on 47332 samples\n",
      "Epoch 1/10\n",
      "46592/47332 [============================>.] - ETA: 0s - loss: 7.5353e-04 - accuracy: 0.9998WARNING:tensorflow:Early stopping conditioned on metric `val_loss` which is not available. Available metrics are: loss,accuracy\n",
      "47332/47332 [==============================] - 6s 135us/sample - loss: 7.5366e-04 - accuracy: 0.9998\n",
      "Epoch 2/10\n",
      "46720/47332 [============================>.] - ETA: 0s - loss: 6.3721e-04 - accuracy: 0.9998WARNING:tensorflow:Early stopping conditioned on metric `val_loss` which is not available. Available metrics are: loss,accuracy\n",
      "47332/47332 [==============================] - 3s 60us/sample - loss: 6.4108e-04 - accuracy: 0.9998\n",
      "Epoch 3/10\n",
      "46720/47332 [============================>.] - ETA: 0s - loss: 5.5800e-04 - accuracy: 0.9998WARNING:tensorflow:Early stopping conditioned on metric `val_loss` which is not available. Available metrics are: loss,accuracy\n",
      "47332/47332 [==============================] - 3s 60us/sample - loss: 5.5927e-04 - accuracy: 0.9998\n",
      "Epoch 4/10\n",
      "46720/47332 [============================>.] - ETA: 0s - loss: 4.7950e-04 - accuracy: 0.9999WARNING:tensorflow:Early stopping conditioned on metric `val_loss` which is not available. Available metrics are: loss,accuracy\n",
      "47332/47332 [==============================] - 3s 60us/sample - loss: 4.7667e-04 - accuracy: 0.9999\n",
      "Epoch 5/10\n",
      "46720/47332 [============================>.] - ETA: 0s - loss: 4.3222e-04 - accuracy: 0.9999WARNING:tensorflow:Early stopping conditioned on metric `val_loss` which is not available. Available metrics are: loss,accuracy\n",
      "47332/47332 [==============================] - 3s 60us/sample - loss: 4.3022e-04 - accuracy: 0.9999\n",
      "Epoch 6/10\n",
      "46720/47332 [============================>.] - ETA: 0s - loss: 3.5272e-04 - accuracy: 0.9999WARNING:tensorflow:Early stopping conditioned on metric `val_loss` which is not available. Available metrics are: loss,accuracy\n",
      "47332/47332 [==============================] - 3s 60us/sample - loss: 3.5075e-04 - accuracy: 0.9999\n",
      "Epoch 7/10\n",
      "46720/47332 [============================>.] - ETA: 0s - loss: 3.3192e-04 - accuracy: 0.9999WARNING:tensorflow:Early stopping conditioned on metric `val_loss` which is not available. Available metrics are: loss,accuracy\n",
      "47332/47332 [==============================] - 3s 61us/sample - loss: 3.3323e-04 - accuracy: 0.9999\n",
      "Epoch 8/10\n",
      "46720/47332 [============================>.] - ETA: 0s - loss: 2.8679e-04 - accuracy: 0.9999WARNING:tensorflow:Early stopping conditioned on metric `val_loss` which is not available. Available metrics are: loss,accuracy\n",
      "47332/47332 [==============================] - 3s 60us/sample - loss: 2.8367e-04 - accuracy: 0.9999\n",
      "Epoch 9/10\n",
      "46720/47332 [============================>.] - ETA: 0s - loss: 2.3984e-04 - accuracy: 0.9999WARNING:tensorflow:Early stopping conditioned on metric `val_loss` which is not available. Available metrics are: loss,accuracy\n",
      "47332/47332 [==============================] - 3s 60us/sample - loss: 2.3992e-04 - accuracy: 0.9999\n",
      "Epoch 10/10\n",
      "46720/47332 [============================>.] - ETA: 0s - loss: 2.2734e-04 - accuracy: 0.9999WARNING:tensorflow:Early stopping conditioned on metric `val_loss` which is not available. Available metrics are: loss,accuracy\n",
      "47332/47332 [==============================] - 3s 60us/sample - loss: 2.2482e-04 - accuracy: 0.9999\n"
     ]
    },
    {
     "data": {
      "text/plain": [
       "<tensorflow.python.keras.callbacks.History at 0x13afbad1508>"
      ]
     },
     "execution_count": 13,
     "metadata": {},
     "output_type": "execute_result"
    },
    {
     "name": "stdout",
     "output_type": "stream",
     "text": [
      "accuracy_score 0.9998217680608364\n",
      "recall_score 0.9950980392156863\n",
      "precision_score 0.9957081545064378\n",
      "f1_score 0.9954030033711309\n",
      "Model: \"model_2\"\n",
      "_________________________________________________________________\n",
      "Layer (type)                 Output Shape              Param #   \n",
      "=================================================================\n",
      "input_1 (InputLayer)         [(None, 32, 256)]         0         \n",
      "_________________________________________________________________\n",
      "bidirectional (Bidirectional (None, 32, 96)            117120    \n",
      "_________________________________________________________________\n",
      "time_distributed (TimeDistri (None, 32, 1)             97        \n",
      "=================================================================\n",
      "Total params: 117,217\n",
      "Trainable params: 117,217\n",
      "Non-trainable params: 0\n",
      "_________________________________________________________________\n",
      "======Training stage======\n",
      "Train on 47333 samples\n",
      "Epoch 1/10\n",
      "47232/47333 [============================>.] - ETA: 0s - loss: 2.6742e-04 - accuracy: 0.9999WARNING:tensorflow:Early stopping conditioned on metric `val_loss` which is not available. Available metrics are: loss,accuracy\n",
      "47333/47333 [==============================] - 5s 115us/sample - loss: 2.6696e-04 - accuracy: 0.9999\n",
      "Epoch 2/10\n",
      "46720/47333 [============================>.] - ETA: 0s - loss: 2.0266e-04 - accuracy: 0.9999WARNING:tensorflow:Early stopping conditioned on metric `val_loss` which is not available. Available metrics are: loss,accuracy\n",
      "47333/47333 [==============================] - 3s 61us/sample - loss: 2.0193e-04 - accuracy: 0.9999\n",
      "Epoch 3/10\n",
      "46720/47333 [============================>.] - ETA: 0s - loss: 1.7612e-04 - accuracy: 1.0000WARNING:tensorflow:Early stopping conditioned on metric `val_loss` which is not available. Available metrics are: loss,accuracy\n",
      "47333/47333 [==============================] - 3s 61us/sample - loss: 1.7412e-04 - accuracy: 1.0000\n",
      "Epoch 4/10\n",
      "46720/47333 [============================>.] - ETA: 0s - loss: 1.4003e-04 - accuracy: 1.0000WARNING:tensorflow:Early stopping conditioned on metric `val_loss` which is not available. Available metrics are: loss,accuracy\n",
      "47333/47333 [==============================] - 3s 61us/sample - loss: 1.3919e-04 - accuracy: 1.0000\n",
      "Epoch 5/10\n",
      "46720/47333 [============================>.] - ETA: 0s - loss: 1.2981e-04 - accuracy: 1.0000WARNING:tensorflow:Early stopping conditioned on metric `val_loss` which is not available. Available metrics are: loss,accuracy\n",
      "47333/47333 [==============================] - 3s 61us/sample - loss: 1.2841e-04 - accuracy: 1.0000\n",
      "Epoch 6/10\n",
      "46720/47333 [============================>.] - ETA: 0s - loss: 1.0343e-04 - accuracy: 1.0000WARNING:tensorflow:Early stopping conditioned on metric `val_loss` which is not available. Available metrics are: loss,accuracy\n",
      "47333/47333 [==============================] - 3s 61us/sample - loss: 1.0247e-04 - accuracy: 1.0000\n",
      "Epoch 7/10\n",
      "46720/47333 [============================>.] - ETA: 0s - loss: 9.3835e-05 - accuracy: 1.0000WARNING:tensorflow:Early stopping conditioned on metric `val_loss` which is not available. Available metrics are: loss,accuracy\n",
      "47333/47333 [==============================] - 3s 61us/sample - loss: 9.5169e-05 - accuracy: 1.0000\n",
      "Epoch 8/10\n",
      "46720/47333 [============================>.] - ETA: 0s - loss: 9.8963e-05 - accuracy: 1.0000WARNING:tensorflow:Early stopping conditioned on metric `val_loss` which is not available. Available metrics are: loss,accuracy\n",
      "47333/47333 [==============================] - 3s 61us/sample - loss: 9.7967e-05 - accuracy: 1.0000\n",
      "Epoch 9/10\n",
      "46720/47333 [============================>.] - ETA: 0s - loss: 9.8223e-05 - accuracy: 1.0000WARNING:tensorflow:Early stopping conditioned on metric `val_loss` which is not available. Available metrics are: loss,accuracy\n",
      "47333/47333 [==============================] - 3s 61us/sample - loss: 9.7691e-05 - accuracy: 1.0000\n",
      "Epoch 10/10\n",
      "46720/47333 [============================>.] - ETA: 0s - loss: 6.8343e-05 - accuracy: 1.0000WARNING:tensorflow:Early stopping conditioned on metric `val_loss` which is not available. Available metrics are: loss,accuracy\n",
      "47333/47333 [==============================] - 3s 61us/sample - loss: 6.9028e-05 - accuracy: 1.0000\n"
     ]
    },
    {
     "data": {
      "text/plain": [
       "<tensorflow.python.keras.callbacks.History at 0x13afbc116c8>"
      ]
     },
     "execution_count": 13,
     "metadata": {},
     "output_type": "execute_result"
    },
    {
     "name": "stdout",
     "output_type": "stream",
     "text": [
      "accuracy_score 0.9998455029473284\n",
      "recall_score 0.9949374627754616\n",
      "precision_score 0.9973134328358209\n",
      "f1_score 0.9961240310077519\n",
      "Model: \"model_3\"\n",
      "_________________________________________________________________\n",
      "Layer (type)                 Output Shape              Param #   \n",
      "=================================================================\n",
      "input_1 (InputLayer)         [(None, 32, 256)]         0         \n",
      "_________________________________________________________________\n",
      "bidirectional (Bidirectional (None, 32, 96)            117120    \n",
      "_________________________________________________________________\n",
      "time_distributed (TimeDistri (None, 32, 1)             97        \n",
      "=================================================================\n",
      "Total params: 117,217\n",
      "Trainable params: 117,217\n",
      "Non-trainable params: 0\n",
      "_________________________________________________________________\n",
      "======Training stage======\n",
      "Train on 47333 samples\n",
      "Epoch 1/10\n",
      "47232/47333 [============================>.] - ETA: 0s - loss: 1.0391e-04 - accuracy: 1.0000WARNING:tensorflow:Early stopping conditioned on metric `val_loss` which is not available. Available metrics are: loss,accuracy\n",
      "47333/47333 [==============================] - 5s 114us/sample - loss: 1.0369e-04 - accuracy: 1.0000\n",
      "Epoch 2/10\n",
      "46592/47333 [============================>.] - ETA: 0s - loss: 7.6097e-05 - accuracy: 1.0000WARNING:tensorflow:Early stopping conditioned on metric `val_loss` which is not available. Available metrics are: loss,accuracy\n",
      "47333/47333 [==============================] - 3s 60us/sample - loss: 7.5473e-05 - accuracy: 1.0000\n",
      "Epoch 3/10\n",
      "46720/47333 [============================>.] - ETA: 0s - loss: 6.5831e-05 - accuracy: 1.0000WARNING:tensorflow:Early stopping conditioned on metric `val_loss` which is not available. Available metrics are: loss,accuracy\n",
      "47333/47333 [==============================] - 3s 60us/sample - loss: 6.5038e-05 - accuracy: 1.0000\n",
      "Epoch 4/10\n",
      "47104/47333 [============================>.] - ETA: 0s - loss: 5.4129e-05 - accuracy: 1.0000WARNING:tensorflow:Early stopping conditioned on metric `val_loss` which is not available. Available metrics are: loss,accuracy\n",
      "47333/47333 [==============================] - 3s 63us/sample - loss: 5.3884e-05 - accuracy: 1.0000\n",
      "Epoch 5/10\n",
      "46720/47333 [============================>.] - ETA: 0s - loss: 5.1713e-05 - accuracy: 1.0000WARNING:tensorflow:Early stopping conditioned on metric `val_loss` which is not available. Available metrics are: loss,accuracy\n",
      "47333/47333 [==============================] - 3s 62us/sample - loss: 5.1537e-05 - accuracy: 1.0000\n",
      "Epoch 6/10\n",
      "46720/47333 [============================>.] - ETA: 0s - loss: 5.3651e-05 - accuracy: 1.0000WARNING:tensorflow:Early stopping conditioned on metric `val_loss` which is not available. Available metrics are: loss,accuracy\n",
      "47333/47333 [==============================] - 3s 61us/sample - loss: 5.3054e-05 - accuracy: 1.0000\n",
      "Epoch 7/10\n",
      "46720/47333 [============================>.] - ETA: 0s - loss: 5.8267e-05 - accuracy: 1.0000WARNING:tensorflow:Early stopping conditioned on metric `val_loss` which is not available. Available metrics are: loss,accuracy\n",
      "47333/47333 [==============================] - 3s 61us/sample - loss: 5.7550e-05 - accuracy: 1.0000\n",
      "Epoch 8/10\n",
      "46720/47333 [============================>.] - ETA: 0s - loss: 4.0859e-05 - accuracy: 1.0000WARNING:tensorflow:Early stopping conditioned on metric `val_loss` which is not available. Available metrics are: loss,accuracy\n",
      "47333/47333 [==============================] - 3s 61us/sample - loss: 4.0358e-05 - accuracy: 1.0000\n",
      "Epoch 9/10\n",
      "46720/47333 [============================>.] - ETA: 0s - loss: 3.8915e-05 - accuracy: 1.0000WARNING:tensorflow:Early stopping conditioned on metric `val_loss` which is not available. Available metrics are: loss,accuracy\n",
      "47333/47333 [==============================] - 3s 61us/sample - loss: 3.8455e-05 - accuracy: 1.0000\n",
      "Epoch 10/10\n",
      "46720/47333 [============================>.] - ETA: 0s - loss: 3.7670e-05 - accuracy: 1.0000WARNING:tensorflow:Early stopping conditioned on metric `val_loss` which is not available. Available metrics are: loss,accuracy\n",
      "47333/47333 [==============================] - 3s 60us/sample - loss: 3.7293e-05 - accuracy: 1.0000\n"
     ]
    },
    {
     "data": {
      "text/plain": [
       "<tensorflow.python.keras.callbacks.History at 0x13afcd69208>"
      ]
     },
     "execution_count": 13,
     "metadata": {},
     "output_type": "execute_result"
    },
    {
     "name": "stdout",
     "output_type": "stream",
     "text": [
      "accuracy_score 0.9999584046396653\n",
      "recall_score 0.999054820415879\n",
      "precision_score 0.998740157480315\n",
      "f1_score 0.9988974641675854\n",
      "Model: \"model_4\"\n",
      "_________________________________________________________________\n",
      "Layer (type)                 Output Shape              Param #   \n",
      "=================================================================\n",
      "input_1 (InputLayer)         [(None, 32, 256)]         0         \n",
      "_________________________________________________________________\n",
      "bidirectional (Bidirectional (None, 32, 96)            117120    \n",
      "_________________________________________________________________\n",
      "time_distributed (TimeDistri (None, 32, 1)             97        \n",
      "=================================================================\n",
      "Total params: 117,217\n",
      "Trainable params: 117,217\n",
      "Non-trainable params: 0\n",
      "_________________________________________________________________\n",
      "======Training stage======\n",
      "Train on 47333 samples\n",
      "Epoch 1/10\n",
      "46720/47333 [============================>.] - ETA: 0s - loss: 5.8949e-05 - accuracy: 1.0000WARNING:tensorflow:Early stopping conditioned on metric `val_loss` which is not available. Available metrics are: loss,accuracy\n",
      "47333/47333 [==============================] - 6s 129us/sample - loss: 5.8328e-05 - accuracy: 1.0000\n",
      "Epoch 2/10\n",
      "46720/47333 [============================>.] - ETA: 0s - loss: 3.6907e-05 - accuracy: 1.0000WARNING:tensorflow:Early stopping conditioned on metric `val_loss` which is not available. Available metrics are: loss,accuracy\n",
      "47333/47333 [==============================] - 3s 61us/sample - loss: 3.6660e-05 - accuracy: 1.0000\n",
      "Epoch 3/10\n",
      "46592/47333 [============================>.] - ETA: 0s - loss: 3.1941e-05 - accuracy: 1.0000WARNING:tensorflow:Early stopping conditioned on metric `val_loss` which is not available. Available metrics are: loss,accuracy\n",
      "47333/47333 [==============================] - 3s 61us/sample - loss: 3.1458e-05 - accuracy: 1.0000\n",
      "Epoch 4/10\n",
      "46720/47333 [============================>.] - ETA: 0s - loss: 3.1789e-05 - accuracy: 1.0000WARNING:tensorflow:Early stopping conditioned on metric `val_loss` which is not available. Available metrics are: loss,accuracy\n",
      "47333/47333 [==============================] - 3s 61us/sample - loss: 3.1915e-05 - accuracy: 1.0000\n",
      "Epoch 5/10\n",
      "46720/47333 [============================>.] - ETA: 0s - loss: 3.8232e-05 - accuracy: 1.0000WARNING:tensorflow:Early stopping conditioned on metric `val_loss` which is not available. Available metrics are: loss,accuracy\n",
      "47333/47333 [==============================] - 3s 61us/sample - loss: 3.7747e-05 - accuracy: 1.0000\n",
      "Epoch 6/10\n",
      "46720/47333 [============================>.] - ETA: 0s - loss: 4.0372e-05 - accuracy: 1.0000WARNING:tensorflow:Early stopping conditioned on metric `val_loss` which is not available. Available metrics are: loss,accuracy\n",
      "47333/47333 [==============================] - 3s 61us/sample - loss: 3.9867e-05 - accuracy: 1.0000\n",
      "Epoch 7/10\n",
      "46720/47333 [============================>.] - ETA: 0s - loss: 3.7861e-05 - accuracy: 1.0000WARNING:tensorflow:Early stopping conditioned on metric `val_loss` which is not available. Available metrics are: loss,accuracy\n",
      "47333/47333 [==============================] - 3s 61us/sample - loss: 3.7509e-05 - accuracy: 1.0000\n",
      "Epoch 8/10\n",
      "46720/47333 [============================>.] - ETA: 0s - loss: 2.6696e-05 - accuracy: 1.0000WARNING:tensorflow:Early stopping conditioned on metric `val_loss` which is not available. Available metrics are: loss,accuracy\n",
      "47333/47333 [==============================] - 3s 61us/sample - loss: 2.6361e-05 - accuracy: 1.0000\n",
      "Epoch 9/10\n",
      "46720/47333 [============================>.] - ETA: 0s - loss: 3.1830e-05 - accuracy: 1.0000WARNING:tensorflow:Early stopping conditioned on metric `val_loss` which is not available. Available metrics are: loss,accuracy\n",
      "47333/47333 [==============================] - 3s 61us/sample - loss: 3.1435e-05 - accuracy: 1.0000\n",
      "Epoch 10/10\n",
      "46720/47333 [============================>.] - ETA: 0s - loss: 3.2658e-05 - accuracy: 1.0000WARNING:tensorflow:Early stopping conditioned on metric `val_loss` which is not available. Available metrics are: loss,accuracy\n",
      "47333/47333 [==============================] - 3s 61us/sample - loss: 3.2457e-05 - accuracy: 1.0000\n"
     ]
    },
    {
     "data": {
      "text/plain": [
       "<tensorflow.python.keras.callbacks.History at 0x13b0fc17a88>"
      ]
     },
     "execution_count": 13,
     "metadata": {},
     "output_type": "execute_result"
    },
    {
     "name": "stdout",
     "output_type": "stream",
     "text": [
      "accuracy_score 0.9999940578056665\n",
      "recall_score 0.9996958637469586\n",
      "precision_score 1.0\n",
      "f1_score 0.9998479087452471\n",
      "Model: \"model_5\"\n",
      "_________________________________________________________________\n",
      "Layer (type)                 Output Shape              Param #   \n",
      "=================================================================\n",
      "input_1 (InputLayer)         [(None, 32, 256)]         0         \n",
      "_________________________________________________________________\n",
      "bidirectional (Bidirectional (None, 32, 96)            117120    \n",
      "_________________________________________________________________\n",
      "time_distributed (TimeDistri (None, 32, 1)             97        \n",
      "=================================================================\n",
      "Total params: 117,217\n",
      "Trainable params: 117,217\n",
      "Non-trainable params: 0\n",
      "_________________________________________________________________\n",
      "======Training stage======\n",
      "Train on 47333 samples\n",
      "Epoch 1/10\n",
      "46464/47333 [============================>.] - ETA: 0s - loss: 3.7272e-05 - accuracy: 1.0000WARNING:tensorflow:Early stopping conditioned on metric `val_loss` which is not available. Available metrics are: loss,accuracy\n",
      "47333/47333 [==============================] - 5s 114us/sample - loss: 3.6808e-05 - accuracy: 1.0000\n",
      "Epoch 2/10\n",
      "46592/47333 [============================>.] - ETA: 0s - loss: 4.0984e-05 - accuracy: 1.0000WARNING:tensorflow:Early stopping conditioned on metric `val_loss` which is not available. Available metrics are: loss,accuracy\n",
      "47333/47333 [==============================] - 3s 62us/sample - loss: 4.2927e-05 - accuracy: 1.0000\n",
      "Epoch 3/10\n",
      "46720/47333 [============================>.] - ETA: 0s - loss: 3.2596e-05 - accuracy: 1.0000WARNING:tensorflow:Early stopping conditioned on metric `val_loss` which is not available. Available metrics are: loss,accuracy\n",
      "47333/47333 [==============================] - 3s 61us/sample - loss: 3.2229e-05 - accuracy: 1.0000\n",
      "Epoch 4/10\n",
      "46720/47333 [============================>.] - ETA: 0s - loss: 2.5972e-05 - accuracy: 1.0000WARNING:tensorflow:Early stopping conditioned on metric `val_loss` which is not available. Available metrics are: loss,accuracy\n",
      "47333/47333 [==============================] - 3s 61us/sample - loss: 2.5727e-05 - accuracy: 1.0000\n",
      "Epoch 5/10\n",
      "46720/47333 [============================>.] - ETA: 0s - loss: 3.2359e-05 - accuracy: 1.0000WARNING:tensorflow:Early stopping conditioned on metric `val_loss` which is not available. Available metrics are: loss,accuracy\n",
      "47333/47333 [==============================] - 3s 61us/sample - loss: 3.1943e-05 - accuracy: 1.0000\n",
      "Epoch 6/10\n",
      "46720/47333 [============================>.] - ETA: 0s - loss: 3.3044e-05 - accuracy: 1.0000WARNING:tensorflow:Early stopping conditioned on metric `val_loss` which is not available. Available metrics are: loss,accuracy\n",
      "47333/47333 [==============================] - 3s 61us/sample - loss: 3.2618e-05 - accuracy: 1.0000\n",
      "Epoch 7/10\n",
      "46720/47333 [============================>.] - ETA: 0s - loss: 2.7438e-05 - accuracy: 1.0000WARNING:tensorflow:Early stopping conditioned on metric `val_loss` which is not available. Available metrics are: loss,accuracy\n",
      "47333/47333 [==============================] - 3s 61us/sample - loss: 2.7087e-05 - accuracy: 1.0000\n",
      "Epoch 8/10\n",
      "46720/47333 [============================>.] - ETA: 0s - loss: 2.3880e-05 - accuracy: 1.0000WARNING:tensorflow:Early stopping conditioned on metric `val_loss` which is not available. Available metrics are: loss,accuracy\n",
      "47333/47333 [==============================] - 3s 61us/sample - loss: 2.3684e-05 - accuracy: 1.0000\n",
      "Epoch 9/10\n",
      "46720/47333 [============================>.] - ETA: 0s - loss: 2.2568e-05 - accuracy: 1.0000WARNING:tensorflow:Early stopping conditioned on metric `val_loss` which is not available. Available metrics are: loss,accuracy\n",
      "47333/47333 [==============================] - 3s 61us/sample - loss: 2.2277e-05 - accuracy: 1.0000\n",
      "Epoch 10/10\n",
      "46720/47333 [============================>.] - ETA: 0s - loss: 2.2346e-05 - accuracy: 1.0000WARNING:tensorflow:Early stopping conditioned on metric `val_loss` which is not available. Available metrics are: loss,accuracy\n",
      "47333/47333 [==============================] - 3s 61us/sample - loss: 2.2058e-05 - accuracy: 1.0000\n"
     ]
    },
    {
     "data": {
      "text/plain": [
       "<tensorflow.python.keras.callbacks.History at 0x13b2ac1ed88>"
      ]
     },
     "execution_count": 13,
     "metadata": {},
     "output_type": "execute_result"
    },
    {
     "name": "stdout",
     "output_type": "stream",
     "text": [
      "accuracy_score 1.0\n",
      "recall_score 1.0\n",
      "precision_score 1.0\n",
      "f1_score 1.0\n",
      "Model: \"model_6\"\n",
      "_________________________________________________________________\n",
      "Layer (type)                 Output Shape              Param #   \n",
      "=================================================================\n",
      "input_1 (InputLayer)         [(None, 32, 256)]         0         \n",
      "_________________________________________________________________\n",
      "bidirectional (Bidirectional (None, 32, 96)            117120    \n",
      "_________________________________________________________________\n",
      "time_distributed (TimeDistri (None, 32, 1)             97        \n",
      "=================================================================\n",
      "Total params: 117,217\n",
      "Trainable params: 117,217\n",
      "Non-trainable params: 0\n",
      "_________________________________________________________________\n",
      "======Training stage======\n",
      "Train on 47333 samples\n",
      "Epoch 1/10\n",
      "46592/47333 [============================>.] - ETA: 0s - loss: 2.5856e-05 - accuracy: 1.0000WARNING:tensorflow:Early stopping conditioned on metric `val_loss` which is not available. Available metrics are: loss,accuracy\n",
      "47333/47333 [==============================] - 6s 137us/sample - loss: 2.5463e-05 - accuracy: 1.0000\n",
      "Epoch 2/10\n",
      "46592/47333 [============================>.] - ETA: 0s - loss: 2.4612e-05 - accuracy: 1.0000WARNING:tensorflow:Early stopping conditioned on metric `val_loss` which is not available. Available metrics are: loss,accuracy\n",
      "47333/47333 [==============================] - 3s 61us/sample - loss: 2.4228e-05 - accuracy: 1.0000\n",
      "Epoch 3/10\n",
      "46720/47333 [============================>.] - ETA: 0s - loss: 2.3824e-05 - accuracy: 1.0000WARNING:tensorflow:Early stopping conditioned on metric `val_loss` which is not available. Available metrics are: loss,accuracy\n",
      "47333/47333 [==============================] - 3s 61us/sample - loss: 2.3517e-05 - accuracy: 1.0000\n",
      "Epoch 4/10\n",
      "47232/47333 [============================>.] - ETA: 0s - loss: 2.1909e-05 - accuracy: 1.0000WARNING:tensorflow:Early stopping conditioned on metric `val_loss` which is not available. Available metrics are: loss,accuracy\n",
      "47333/47333 [==============================] - 3s 65us/sample - loss: 2.1863e-05 - accuracy: 1.0000\n",
      "Epoch 5/10\n",
      "47232/47333 [============================>.] - ETA: 0s - loss: 2.5181e-05 - accuracy: 1.0000WARNING:tensorflow:Early stopping conditioned on metric `val_loss` which is not available. Available metrics are: loss,accuracy\n",
      "47333/47333 [==============================] - 3s 66us/sample - loss: 2.5127e-05 - accuracy: 1.0000\n",
      "Epoch 6/10\n",
      "46720/47333 [============================>.] - ETA: 0s - loss: 2.6865e-05 - accuracy: 1.0000WARNING:tensorflow:Early stopping conditioned on metric `val_loss` which is not available. Available metrics are: loss,accuracy\n",
      "47333/47333 [==============================] - 3s 66us/sample - loss: 2.6518e-05 - accuracy: 1.0000\n",
      "Epoch 7/10\n",
      "47104/47333 [============================>.] - ETA: 0s - loss: 2.4819e-05 - accuracy: 1.0000WARNING:tensorflow:Early stopping conditioned on metric `val_loss` which is not available. Available metrics are: loss,accuracy\n",
      "47333/47333 [==============================] - 3s 65us/sample - loss: 2.4699e-05 - accuracy: 1.0000\n",
      "Epoch 8/10\n",
      "46464/47333 [============================>.] - ETA: 0s - loss: 2.1036e-05 - accuracy: 1.0000WARNING:tensorflow:Early stopping conditioned on metric `val_loss` which is not available. Available metrics are: loss,accuracy\n",
      "47333/47333 [==============================] - 3s 65us/sample - loss: 2.0651e-05 - accuracy: 1.0000\n",
      "Epoch 9/10\n",
      "46976/47333 [============================>.] - ETA: 0s - loss: 3.2065e-05 - accuracy: 1.0000WARNING:tensorflow:Early stopping conditioned on metric `val_loss` which is not available. Available metrics are: loss,accuracy\n",
      "47333/47333 [==============================] - 3s 66us/sample - loss: 3.1825e-05 - accuracy: 1.0000\n",
      "Epoch 10/10\n",
      "46848/47333 [============================>.] - ETA: 0s - loss: 2.1748e-05 - accuracy: 1.0000WARNING:tensorflow:Early stopping conditioned on metric `val_loss` which is not available. Available metrics are: loss,accuracy\n",
      "47333/47333 [==============================] - 3s 67us/sample - loss: 2.1525e-05 - accuracy: 1.0000\n"
     ]
    },
    {
     "data": {
      "text/plain": [
       "<tensorflow.python.keras.callbacks.History at 0x13b1c134348>"
      ]
     },
     "execution_count": 13,
     "metadata": {},
     "output_type": "execute_result"
    },
    {
     "name": "stdout",
     "output_type": "stream",
     "text": [
      "accuracy_score 1.0\n",
      "recall_score 1.0\n",
      "precision_score 1.0\n",
      "f1_score 1.0\n",
      "Model: \"model_7\"\n",
      "_________________________________________________________________\n",
      "Layer (type)                 Output Shape              Param #   \n",
      "=================================================================\n",
      "input_1 (InputLayer)         [(None, 32, 256)]         0         \n",
      "_________________________________________________________________\n",
      "bidirectional (Bidirectional (None, 32, 96)            117120    \n",
      "_________________________________________________________________\n",
      "time_distributed (TimeDistri (None, 32, 1)             97        \n",
      "=================================================================\n",
      "Total params: 117,217\n",
      "Trainable params: 117,217\n",
      "Non-trainable params: 0\n",
      "_________________________________________________________________\n",
      "======Training stage======\n",
      "Train on 47333 samples\n",
      "Epoch 1/10\n",
      "46976/47333 [============================>.] - ETA: 0s - loss: 2.5316e-05 - accuracy: 1.0000WARNING:tensorflow:Early stopping conditioned on metric `val_loss` which is not available. Available metrics are: loss,accuracy\n",
      "47333/47333 [==============================] - 6s 121us/sample - loss: 2.5126e-05 - accuracy: 1.0000\n",
      "Epoch 2/10\n",
      "46720/47333 [============================>.] - ETA: 0s - loss: 2.2660e-05 - accuracy: 1.0000WARNING:tensorflow:Early stopping conditioned on metric `val_loss` which is not available. Available metrics are: loss,accuracy\n",
      "47333/47333 [==============================] - 3s 70us/sample - loss: 2.2367e-05 - accuracy: 1.0000\n",
      "Epoch 3/10\n",
      "47232/47333 [============================>.] - ETA: 0s - loss: 2.6505e-05 - accuracy: 1.0000WARNING:tensorflow:Early stopping conditioned on metric `val_loss` which is not available. Available metrics are: loss,accuracy\n",
      "47333/47333 [==============================] - 3s 70us/sample - loss: 2.6449e-05 - accuracy: 1.0000\n",
      "Epoch 4/10\n",
      "46976/47333 [============================>.] - ETA: 0s - loss: 2.8375e-05 - accuracy: 1.0000WARNING:tensorflow:Early stopping conditioned on metric `val_loss` which is not available. Available metrics are: loss,accuracy\n",
      "47333/47333 [==============================] - 3s 69us/sample - loss: 2.8161e-05 - accuracy: 1.0000\n",
      "Epoch 5/10\n",
      "47104/47333 [============================>.] - ETA: 0s - loss: 2.1188e-05 - accuracy: 1.0000WARNING:tensorflow:Early stopping conditioned on metric `val_loss` which is not available. Available metrics are: loss,accuracy\n",
      "47333/47333 [==============================] - 3s 67us/sample - loss: 2.1086e-05 - accuracy: 1.0000\n",
      "Epoch 6/10\n",
      "47232/47333 [============================>.] - ETA: 0s - loss: 2.1536e-05 - accuracy: 1.0000WARNING:tensorflow:Early stopping conditioned on metric `val_loss` which is not available. Available metrics are: loss,accuracy\n",
      "47333/47333 [==============================] - 3s 66us/sample - loss: 2.1490e-05 - accuracy: 1.0000\n",
      "Epoch 7/10\n",
      "46720/47333 [============================>.] - ETA: 0s - loss: 2.1644e-05 - accuracy: 1.0000WARNING:tensorflow:Early stopping conditioned on metric `val_loss` which is not available. Available metrics are: loss,accuracy\n",
      "47333/47333 [==============================] - 3s 66us/sample - loss: 2.1364e-05 - accuracy: 1.0000\n",
      "Epoch 8/10\n",
      "46848/47333 [============================>.] - ETA: 0s - loss: 2.0619e-05 - accuracy: 1.0000WARNING:tensorflow:Early stopping conditioned on metric `val_loss` which is not available. Available metrics are: loss,accuracy\n",
      "47333/47333 [==============================] - 3s 67us/sample - loss: 2.0408e-05 - accuracy: 1.0000\n",
      "Epoch 9/10\n",
      "47232/47333 [============================>.] - ETA: 0s - loss: 2.0655e-05 - accuracy: 1.0000WARNING:tensorflow:Early stopping conditioned on metric `val_loss` which is not available. Available metrics are: loss,accuracy\n",
      "47333/47333 [==============================] - 3s 66us/sample - loss: 2.0611e-05 - accuracy: 1.0000\n",
      "Epoch 10/10\n",
      "46976/47333 [============================>.] - ETA: 0s - loss: 2.0636e-05 - accuracy: 1.0000WARNING:tensorflow:Early stopping conditioned on metric `val_loss` which is not available. Available metrics are: loss,accuracy\n",
      "47333/47333 [==============================] - 3s 66us/sample - loss: 2.0481e-05 - accuracy: 1.0000\n"
     ]
    },
    {
     "data": {
      "text/plain": [
       "<tensorflow.python.keras.callbacks.History at 0x13b0074a4c8>"
      ]
     },
     "execution_count": 13,
     "metadata": {},
     "output_type": "execute_result"
    },
    {
     "name": "stdout",
     "output_type": "stream",
     "text": [
      "accuracy_score 1.0\n",
      "recall_score 1.0\n",
      "precision_score 1.0\n",
      "f1_score 1.0\n",
      "Model: \"model_8\"\n",
      "_________________________________________________________________\n",
      "Layer (type)                 Output Shape              Param #   \n",
      "=================================================================\n",
      "input_1 (InputLayer)         [(None, 32, 256)]         0         \n",
      "_________________________________________________________________\n",
      "bidirectional (Bidirectional (None, 32, 96)            117120    \n",
      "_________________________________________________________________\n",
      "time_distributed (TimeDistri (None, 32, 1)             97        \n",
      "=================================================================\n",
      "Total params: 117,217\n",
      "Trainable params: 117,217\n",
      "Non-trainable params: 0\n",
      "_________________________________________________________________\n",
      "======Training stage======\n",
      "Train on 47333 samples\n",
      "Epoch 1/10\n",
      "47232/47333 [============================>.] - ETA: 0s - loss: 2.0513e-05 - accuracy: 1.0000WARNING:tensorflow:Early stopping conditioned on metric `val_loss` which is not available. Available metrics are: loss,accuracy\n",
      "47333/47333 [==============================] - 6s 124us/sample - loss: 2.0470e-05 - accuracy: 1.0000\n",
      "Epoch 2/10\n",
      "46592/47333 [============================>.] - ETA: 0s - loss: 2.1355e-05 - accuracy: 1.0000WARNING:tensorflow:Early stopping conditioned on metric `val_loss` which is not available. Available metrics are: loss,accuracy\n",
      "47333/47333 [==============================] - 3s 67us/sample - loss: 2.1021e-05 - accuracy: 1.0000\n",
      "Epoch 3/10\n",
      "46592/47333 [============================>.] - ETA: 0s - loss: 2.2174e-05 - accuracy: 1.0000WARNING:tensorflow:Early stopping conditioned on metric `val_loss` which is not available. Available metrics are: loss,accuracy\n",
      "47333/47333 [==============================] - 3s 67us/sample - loss: 2.1827e-05 - accuracy: 1.0000\n",
      "Epoch 4/10\n",
      "46848/47333 [============================>.] - ETA: 0s - loss: 2.0608e-05 - accuracy: 1.0000WARNING:tensorflow:Early stopping conditioned on metric `val_loss` which is not available. Available metrics are: loss,accuracy\n",
      "47333/47333 [==============================] - 3s 67us/sample - loss: 2.0397e-05 - accuracy: 1.0000\n",
      "Epoch 5/10\n",
      "46848/47333 [============================>.] - ETA: 0s - loss: 2.0625e-05 - accuracy: 1.0000WARNING:tensorflow:Early stopping conditioned on metric `val_loss` which is not available. Available metrics are: loss,accuracy\n",
      "47333/47333 [==============================] - 3s 66us/sample - loss: 2.0414e-05 - accuracy: 1.0000\n",
      "Epoch 6/10\n",
      "46464/47333 [============================>.] - ETA: 0s - loss: 2.0785e-05 - accuracy: 1.0000WARNING:tensorflow:Early stopping conditioned on metric `val_loss` which is not available. Available metrics are: loss,accuracy\n",
      "47333/47333 [==============================] - 3s 63us/sample - loss: 2.0404e-05 - accuracy: 1.0000\n",
      "Epoch 7/10\n",
      "46592/47333 [============================>.] - ETA: 0s - loss: 2.0715e-05 - accuracy: 1.0000WARNING:tensorflow:Early stopping conditioned on metric `val_loss` which is not available. Available metrics are: loss,accuracy\n",
      "47333/47333 [==============================] - 3s 61us/sample - loss: 2.0391e-05 - accuracy: 1.0000\n",
      "Epoch 8/10\n",
      "47104/47333 [============================>.] - ETA: 0s - loss: 2.0487e-05 - accuracy: 1.0000WARNING:tensorflow:Early stopping conditioned on metric `val_loss` which is not available. Available metrics are: loss,accuracy\n",
      "47333/47333 [==============================] - 3s 62us/sample - loss: 2.0388e-05 - accuracy: 1.0000\n",
      "Epoch 9/10\n",
      "46720/47333 [============================>.] - ETA: 0s - loss: 2.8534e-05 - accuracy: 1.0000WARNING:tensorflow:Early stopping conditioned on metric `val_loss` which is not available. Available metrics are: loss,accuracy\n",
      "47333/47333 [==============================] - 3s 61us/sample - loss: 2.8165e-05 - accuracy: 1.0000\n",
      "Epoch 10/10\n",
      "46720/47333 [============================>.] - ETA: 0s - loss: 2.5490e-05 - accuracy: 1.0000WARNING:tensorflow:Early stopping conditioned on metric `val_loss` which is not available. Available metrics are: loss,accuracy\n",
      "47333/47333 [==============================] - 3s 61us/sample - loss: 2.5161e-05 - accuracy: 1.0000\n"
     ]
    },
    {
     "data": {
      "text/plain": [
       "<tensorflow.python.keras.callbacks.History at 0x13b05c2a148>"
      ]
     },
     "execution_count": 13,
     "metadata": {},
     "output_type": "execute_result"
    },
    {
     "name": "stdout",
     "output_type": "stream",
     "text": [
      "accuracy_score 1.0\n",
      "recall_score 1.0\n",
      "precision_score 1.0\n",
      "f1_score 1.0\n",
      "Model: \"model_9\"\n",
      "_________________________________________________________________\n",
      "Layer (type)                 Output Shape              Param #   \n",
      "=================================================================\n",
      "input_1 (InputLayer)         [(None, 32, 256)]         0         \n",
      "_________________________________________________________________\n",
      "bidirectional (Bidirectional (None, 32, 96)            117120    \n",
      "_________________________________________________________________\n",
      "time_distributed (TimeDistri (None, 32, 1)             97        \n",
      "=================================================================\n",
      "Total params: 117,217\n",
      "Trainable params: 117,217\n",
      "Non-trainable params: 0\n",
      "_________________________________________________________________\n",
      "======Training stage======\n",
      "Train on 47333 samples\n",
      "Epoch 1/10\n",
      "47104/47333 [============================>.] - ETA: 0s - loss: 2.1829e-05 - accuracy: 1.0000WARNING:tensorflow:Early stopping conditioned on metric `val_loss` which is not available. Available metrics are: loss,accuracy\n",
      "47333/47333 [==============================] - 5s 114us/sample - loss: 2.1723e-05 - accuracy: 1.0000\n",
      "Epoch 2/10\n",
      "46720/47333 [============================>.] - ETA: 0s - loss: 2.4640e-05 - accuracy: 1.0000WARNING:tensorflow:Early stopping conditioned on metric `val_loss` which is not available. Available metrics are: loss,accuracy\n",
      "47333/47333 [==============================] - 3s 61us/sample - loss: 2.4352e-05 - accuracy: 1.0000\n",
      "Epoch 3/10\n",
      "46464/47333 [============================>.] - ETA: 0s - loss: 2.0854e-05 - accuracy: 1.0000WARNING:tensorflow:Early stopping conditioned on metric `val_loss` which is not available. Available metrics are: loss,accuracy\n",
      "47333/47333 [==============================] - 3s 62us/sample - loss: 2.0471e-05 - accuracy: 1.0000\n",
      "Epoch 4/10\n",
      "46464/47333 [============================>.] - ETA: 0s - loss: 2.0755e-05 - accuracy: 1.0000WARNING:tensorflow:Early stopping conditioned on metric `val_loss` which is not available. Available metrics are: loss,accuracy\n",
      "47333/47333 [==============================] - 3s 62us/sample - loss: 2.0374e-05 - accuracy: 1.0000\n",
      "Epoch 5/10\n",
      "47104/47333 [============================>.] - ETA: 0s - loss: 2.0477e-05 - accuracy: 1.0000WARNING:tensorflow:Early stopping conditioned on metric `val_loss` which is not available. Available metrics are: loss,accuracy\n",
      "47333/47333 [==============================] - 3s 62us/sample - loss: 2.0378e-05 - accuracy: 1.0000\n",
      "Epoch 6/10\n",
      "46720/47333 [============================>.] - ETA: 0s - loss: 2.0640e-05 - accuracy: 1.0000WARNING:tensorflow:Early stopping conditioned on metric `val_loss` which is not available. Available metrics are: loss,accuracy\n",
      "47333/47333 [==============================] - 3s 61us/sample - loss: 2.0373e-05 - accuracy: 1.0000\n",
      "Epoch 7/10\n",
      "46720/47333 [============================>.] - ETA: 0s - loss: 2.0641e-05 - accuracy: 1.0000WARNING:tensorflow:Early stopping conditioned on metric `val_loss` which is not available. Available metrics are: loss,accuracy\n",
      "47333/47333 [==============================] - 3s 61us/sample - loss: 2.0374e-05 - accuracy: 1.0000\n",
      "Epoch 8/10\n",
      "46720/47333 [============================>.] - ETA: 0s - loss: 2.0644e-05 - accuracy: 1.0000WARNING:tensorflow:Early stopping conditioned on metric `val_loss` which is not available. Available metrics are: loss,accuracy\n",
      "47333/47333 [==============================] - 3s 61us/sample - loss: 2.0377e-05 - accuracy: 1.0000\n",
      "Epoch 9/10\n",
      "46720/47333 [============================>.] - ETA: 0s - loss: 2.0647e-05 - accuracy: 1.0000WARNING:tensorflow:Early stopping conditioned on metric `val_loss` which is not available. Available metrics are: loss,accuracy\n",
      "47333/47333 [==============================] - 3s 61us/sample - loss: 2.0380e-05 - accuracy: 1.0000\n",
      "Epoch 10/10\n",
      "46720/47333 [============================>.] - ETA: 0s - loss: 2.0648e-05 - accuracy: 1.0000WARNING:tensorflow:Early stopping conditioned on metric `val_loss` which is not available. Available metrics are: loss,accuracy\n",
      "47333/47333 [==============================] - 3s 61us/sample - loss: 2.0381e-05 - accuracy: 1.0000\n"
     ]
    },
    {
     "data": {
      "text/plain": [
       "<tensorflow.python.keras.callbacks.History at 0x13afc461d08>"
      ]
     },
     "execution_count": 13,
     "metadata": {},
     "output_type": "execute_result"
    },
    {
     "name": "stdout",
     "output_type": "stream",
     "text": [
      "accuracy_score 1.0\n",
      "recall_score 1.0\n",
      "precision_score 1.0\n",
      "f1_score 1.0\n",
      "\n",
      "K-fold cross validation Accuracy: [0.9994831273764259, 0.9998217680608364, 0.9998455029473284, 0.9999584046396653, 0.9999940578056665, 1.0, 1.0, 1.0, 1.0, 1.0]\n",
      "\n",
      "K-fold cross validation Recall: [0.9933514656996071, 0.9950980392156863, 0.9949374627754616, 0.999054820415879, 0.9996958637469586, 1.0, 1.0, 1.0, 1.0, 1.0]\n",
      "\n",
      "K-fold cross validation Precision: [0.9806085918854416, 0.9957081545064378, 0.9973134328358209, 0.998740157480315, 1.0, 1.0, 1.0, 1.0, 1.0, 1.0]\n",
      "\n",
      "K-fold cross validation F1-Score: [0.9869388980633539, 0.9954030033711309, 0.9961240310077519, 0.9988974641675854, 0.9998479087452471, 1.0, 1.0, 1.0, 1.0, 1.0]\n"
     ]
    }
   ],
   "source": [
    "# 교차검증 kfold\n",
    "from sklearn.model_selection import KFold\n",
    "\n",
    "# Accuracy, Precision, Recall, F1-Score\n",
    "from sklearn.metrics import accuracy_score, recall_score, precision_score, f1_score\n",
    "\n",
    "# Confusion Matrix, ROC Curve\n",
    "from sklearn.metrics import confusion_matrix, roc_auc_score\n",
    "\n",
    "# 최종 평가지표들 평균용\n",
    "accuracy, recall, precision, f1score, cm = [], [], [], [], []\n",
    "\n",
    "# 11. 교차검증 kfold - k.split - 10회 / K-Fold 객체 생성\n",
    "# kf = KFold(n_splits=10, shuffle=False, random_state=None) # KFold non shuffle 버전\n",
    "kf = KFold(n_splits=10, shuffle=True, random_state=None) # KFold non shuffle 버전\n",
    "\n",
    "for train, validation in kf.split(x_bc6_1, y_bc6_1):\n",
    "    model1 = models.Model(xInput, xOutput)\n",
    "    model1.compile(loss='binary_crossentropy', optimizer='rmsprop', metrics=['accuracy'])\n",
    "    model1.summary()\n",
    "    print('======Training stage======')\n",
    "    model1.fit(x_bc6_1[train],\n",
    "               y_bc6_1[train],\n",
    "               epochs = 10,\n",
    "               batch_size = 128,\n",
    "               callbacks=[early_stopping])\n",
    "    #k_accuracy = '%.4f' %(model1.evaluate(data_10000x[validation], data_10000y[validation])[1])\n",
    "\n",
    "# 12. 교차검증결과 predict - 검증셋들\n",
    "    # predict 값\n",
    "    k_pr = model1.predict(x_bc6_1[validation])\n",
    "    \n",
    "    # 테스트 predict 결과들 비교 (평가지표 보기위함)\n",
    "    pred = np.round(np.array(k_pr).flatten().tolist())\n",
    "    y_test = np.array(y_bc6_1[validation]).flatten().tolist()\n",
    "    \n",
    "# 13. 평가지표들 출력\n",
    "    ## 평가지표들\n",
    "    k_accuracy = float(accuracy_score(y_test, pred))\n",
    "    k_recall =  float(recall_score(y_test, pred))\n",
    "    k_precision = float(precision_score(y_test, pred))\n",
    "    k_f1_score = float(f1_score(y_test, pred))\n",
    "    #k_cm = float(confusion_matrix(y_test, pred))\n",
    "    \n",
    "    print('accuracy_score', k_accuracy)\n",
    "    print('recall_score', k_recall)\n",
    "    print('precision_score', k_precision)\n",
    "    print('f1_score', k_f1_score)\n",
    "    #print('\\nconfusion_matrix\\n', k_cm)\n",
    "\n",
    "    accuracy.append(k_accuracy)\n",
    "    recall.append(k_recall)\n",
    "    precision.append(k_precision)\n",
    "    f1score.append(k_f1_score)\n",
    "    #cm.append(k_cm)\n",
    "#    print('roc_curve 면적', roc_auc_score(y_test, pred))\n",
    "\n",
    "# 최종 결과지표\n",
    "print('\\nK-fold cross validation Accuracy: {}'.format(accuracy))\n",
    "print('\\nK-fold cross validation Recall: {}'.format(recall))\n",
    "print('\\nK-fold cross validation Precision: {}'.format(precision))\n",
    "print('\\nK-fold cross validation F1-Score: {}'.format(f1score))\n",
    "#print('\\nK-fold cross validation ConfusionMatrix: {}'.format(cm))"
   ]
  },
  {
   "cell_type": "markdown",
   "metadata": {},
   "source": [
    "## (9) 평가지표"
   ]
  },
  {
   "cell_type": "code",
   "execution_count": 14,
   "metadata": {},
   "outputs": [
    {
     "name": "stdout",
     "output_type": "stream",
     "text": [
      "10-Fold Cross_validation. Accuracy : 0.9999102860829922\n",
      "10-Fold Cross_validation. Recall : 0.9982137651853591\n",
      "10-Fold Cross_validation. Precision : 0.9972370336708014\n",
      "10-Fold Cross_validation. F1-Score : 0.9977211305355069\n"
     ]
    }
   ],
   "source": [
    "print('10-Fold Cross_validation. Accuracy :', np.mean(accuracy))\n",
    "print('10-Fold Cross_validation. Recall :', np.mean(recall))\n",
    "print('10-Fold Cross_validation. Precision :', np.mean(precision))\n",
    "print('10-Fold Cross_validation. F1-Score :', np.mean(f1score))"
   ]
  },
  {
   "cell_type": "code",
   "execution_count": 15,
   "metadata": {},
   "outputs": [
    {
     "name": "stdout",
     "output_type": "stream",
     "text": [
      "save 완료\n"
     ]
    }
   ],
   "source": [
    "model1.save('gcc6_bin_s32_h48_o1.h5')\n",
    "print('save 완료')"
   ]
  },
  {
   "cell_type": "code",
   "execution_count": 16,
   "metadata": {},
   "outputs": [
    {
     "name": "stdout",
     "output_type": "stream",
     "text": [
      "accuracy_score 0.999998811606328\n",
      "recall_score 0.9999390355422788\n",
      "precision_score 1.0\n",
      "f1_score 0.9999695168419448\n"
     ]
    }
   ],
   "source": [
    "from tensorflow.keras.models import load_model\n",
    "model_path = 'gcc6_bin_s32_h48_o1.h5'\n",
    "\n",
    "model = load_model(model_path)\n",
    "\n",
    "# 12. 교차검증결과 predict - 검증셋들\n",
    "# predict 값\n",
    "k_pr = model.predict(x_bc6_1)\n",
    "\n",
    "# 테스트 predict 결과들 비교 (평가지표 보기위함)\n",
    "pred = np.round(np.array(k_pr).flatten().tolist())\n",
    "y_test = np.array(y_bc6_1).flatten().tolist()\n",
    "\n",
    "# 13. 평가지표들 출력\n",
    "## 평가지표들\n",
    "k_accuracy = float(accuracy_score(y_test, pred))\n",
    "k_recall =  float(recall_score(y_test, pred))\n",
    "k_precision = float(precision_score(y_test, pred))\n",
    "k_f1_score = float(f1_score(y_test, pred))\n",
    "#k_cm = float(confusion_matrix(y_test, pred))\n",
    "\n",
    "print('accuracy_score', k_accuracy)\n",
    "print('recall_score', k_recall)\n",
    "print('precision_score', k_precision)\n",
    "print('f1_score', k_f1_score)\n",
    "#print('\\nconfusion_matrix\\n', k_cm)"
   ]
  }
 ],
 "metadata": {
  "kernelspec": {
   "display_name": "Python 3",
   "language": "python",
   "name": "python3"
  },
  "language_info": {
   "codemirror_mode": {
    "name": "ipython",
    "version": 3
   },
   "file_extension": ".py",
   "mimetype": "text/x-python",
   "name": "python",
   "nbconvert_exporter": "python",
   "pygments_lexer": "ipython3",
   "version": "3.7.7"
  }
 },
 "nbformat": 4,
 "nbformat_minor": 4
}
