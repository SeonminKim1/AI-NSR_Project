{
 "cells": [
  {
   "cell_type": "markdown",
   "metadata": {},
   "source": [
    "## RNN 모델 N-Byte 방식 (함수정보 포함 vs 미포함 => 1:1 비율)\n",
    "\n",
    "## (1) 데이터로드"
   ]
  },
  {
   "cell_type": "code",
   "execution_count": 3,
   "metadata": {},
   "outputs": [
    {
     "name": "stdout",
     "output_type": "stream",
     "text": [
      "(27602871, 2)\n",
      "reset_index 완료\n",
      "input data shape\n"
     ]
    },
    {
     "data": {
      "text/html": [
       "<div>\n",
       "<style scoped>\n",
       "    .dataframe tbody tr th:only-of-type {\n",
       "        vertical-align: middle;\n",
       "    }\n",
       "\n",
       "    .dataframe tbody tr th {\n",
       "        vertical-align: top;\n",
       "    }\n",
       "\n",
       "    .dataframe thead th {\n",
       "        text-align: right;\n",
       "    }\n",
       "</style>\n",
       "<table border=\"1\" class=\"dataframe\">\n",
       "  <thead>\n",
       "    <tr style=\"text-align: right;\">\n",
       "      <th></th>\n",
       "      <th>bin</th>\n",
       "      <th>label</th>\n",
       "    </tr>\n",
       "  </thead>\n",
       "  <tbody>\n",
       "    <tr>\n",
       "      <th>0</th>\n",
       "      <td>47</td>\n",
       "      <td>0</td>\n",
       "    </tr>\n",
       "    <tr>\n",
       "      <th>1</th>\n",
       "      <td>108</td>\n",
       "      <td>0</td>\n",
       "    </tr>\n",
       "    <tr>\n",
       "      <th>2</th>\n",
       "      <td>105</td>\n",
       "      <td>0</td>\n",
       "    </tr>\n",
       "    <tr>\n",
       "      <th>3</th>\n",
       "      <td>98</td>\n",
       "      <td>0</td>\n",
       "    </tr>\n",
       "    <tr>\n",
       "      <th>4</th>\n",
       "      <td>47</td>\n",
       "      <td>0</td>\n",
       "    </tr>\n",
       "  </tbody>\n",
       "</table>\n",
       "</div>"
      ],
      "text/plain": [
       "   bin  label\n",
       "0   47      0\n",
       "1  108      0\n",
       "2  105      0\n",
       "3   98      0\n",
       "4   47      0"
      ]
     },
     "execution_count": 3,
     "metadata": {},
     "output_type": "execute_result"
    }
   ],
   "source": [
    "# (1) 데이터로드\n",
    "import pandas as pd\n",
    "import numpy as np\n",
    "\n",
    "import warnings\n",
    "warnings.filterwarnings(action='ignore')\n",
    "\n",
    "# 여러개 쳐도 나오게\n",
    "from IPython.core.interactiveshell import InteractiveShell\n",
    "InteractiveShell.ast_node_interactivity = \"all\"\n",
    "\n",
    "# 파일읽기\n",
    "bin6_1 = pd.read_csv(\"data/bin+core_answer/\"+'bin+core_answer_1.csv', index_col=0)\n",
    "print(bin6_1.shape)\n",
    "\n",
    "# reset_index (hex processing 하면서 값이 빠졌으니까 + n_gram 에서 index를 다루기 때문에)\n",
    "bin6_1.reset_index(inplace=True, drop=True)\n",
    "\n",
    "print('reset_index 완료')\n",
    "print('input data shape')\n",
    "bin6_1.head()"
   ]
  },
  {
   "cell_type": "code",
   "execution_count": 4,
   "metadata": {},
   "outputs": [
    {
     "name": "stdout",
     "output_type": "stream",
     "text": [
      "256\n",
      "0    27564156\n",
      "1       38715\n",
      "Name: label, dtype: int64\n"
     ]
    }
   ],
   "source": [
    "# (2-1) 데이터체크 1 - hex(16진수)가 256 label을 가져야 dummies 변환 가능 \n",
    "# 16진수 256개 종류가 있어서 pd.get_dummies 사용 가능.\n",
    "print(len(bin6_1['bin'].unique()))\n",
    "\n",
    "# (2-2) 데이터 체크 2 - 1, 0 비율 ==> 1이 함수의 갯수를 뜻함\n",
    "# 정답 데이터 1, 0 비율 확인  ==> 1이 함수의 갯수를 뜻함\n",
    "print(bin6_1['label'].value_counts())"
   ]
  },
  {
   "cell_type": "markdown",
   "metadata": {},
   "source": [
    "## (3) N Byte씩 자르기"
   ]
  },
  {
   "cell_type": "code",
   "execution_count": 5,
   "metadata": {},
   "outputs": [
    {
     "name": "stdout",
     "output_type": "stream",
     "text": [
      "1238880\n",
      "나머지 0\n",
      "최종 길이 1238880\n",
      "bin6_1 1238880\n"
     ]
    }
   ],
   "source": [
    "idx_bin = bin6_1[bin6_1['label']==1].index  # 407, 474 ...\n",
    "ls_bin = list(idx_bin)\n",
    "\n",
    "# 최종 뽑을 행에 대한 index\n",
    "ls_idx_bin = []\n",
    "\n",
    "# n byte 자르기 방식\n",
    "left_idx, right_idx = 0, 32 # 3개씩\n",
    "\n",
    "# n byte 자르기\n",
    "for k in range(left_idx, right_idx):\n",
    "    ls_idx_bin.extend(list(idx_bin + k)) # index 형이라서 가능\n",
    "\n",
    "#ls_idx = list(set(ls_idx)) \n",
    "ls_idx_bin.sort() # 인덱스 정렬\n",
    "\n",
    "# 1차 index 해당범위 초과한 것들 없애기\n",
    "ls_idx_bin = list(filter(lambda x: x<len(bin6_1), ls_idx_bin))\n",
    "print(len(ls_idx_bin))\n",
    "\n",
    "# 2차 남은 index들 중 right_idx 나눈 나머지 없애기\n",
    "sub_bin = len(ls_idx_bin)%(right_idx)\n",
    "print('나머지', sub_bin)\n",
    "\n",
    "ls_idx_bin = ls_idx_bin[:len(ls_idx_bin)-sub_bin]\n",
    "print('최종 길이', len(ls_idx_bin))\n",
    "\n",
    "print('bin6_1', len(ls_idx_bin))\n",
    "\n",
    "# loc 로 수정필요\n",
    "bin6_1_Ngram = bin6_1.loc[ls_idx_bin,:].copy()"
   ]
  },
  {
   "cell_type": "markdown",
   "metadata": {},
   "source": [
    "## (4) false data 만들기"
   ]
  },
  {
   "cell_type": "code",
   "execution_count": 6,
   "metadata": {},
   "outputs": [
    {
     "name": "stdout",
     "output_type": "stream",
     "text": [
      "38715.0\n",
      "0 7098818\n",
      "1000 3258690\n",
      "2000 674727\n",
      "3000 27600840\n",
      "4000 21567027\n",
      "5000 26963819\n",
      "6000 20868708\n",
      "7000 11862443\n",
      "8000 18255740\n",
      "9000 18734608\n",
      "10000 10321813\n",
      "11000 336551\n",
      "12000 3000643\n",
      "13000 23988864\n",
      "14000 428397\n",
      "15000 27110440\n",
      "16000 15832909\n",
      "17000 16135843\n",
      "18000 19610561\n",
      "19000 19430494\n",
      "20000 5298823\n",
      "21000 20005343\n",
      "22000 19194510\n",
      "23000 21038667\n",
      "24000 3720021\n",
      "25000 1005629\n",
      "26000 19866246\n",
      "27000 3781675\n",
      "28000 6812243\n",
      "29000 22879506\n",
      "30000 5497238\n",
      "31000 11496725\n",
      "32000 24355066\n",
      "33000 3927037\n",
      "34000 21601086\n",
      "35000 8733659\n",
      "36000 14927459\n",
      "37000 2085541\n",
      "38000 24808521\n",
      "완료\n",
      "38715\n"
     ]
    }
   ],
   "source": [
    "# false data 만들기 - False 데이터 랜덤 생성\n",
    "\n",
    "# 목표치\n",
    "goal_bin = len(bin6_1_Ngram)/right_idx\n",
    "count_bin = 0\n",
    "\n",
    "print(goal_bin)\n",
    "\n",
    "# 최종 데이터 Frame\n",
    "d_bin = pd.DataFrame(columns = bin6_1.columns)\n",
    "\n",
    "binutils_df = []\n",
    "# goal 에 도달할 때까지\n",
    "while True:\n",
    "    if (count_bin == goal_bin):\n",
    "            break\n",
    "    # 진행상황 살펴보기 위함\n",
    "            \n",
    "    # 랜덤 N 바이트씩 뽑음\n",
    "    # random index\n",
    "    random_idx_bin = np.random.randint(len(bin6_1)-right_idx)\n",
    "\n",
    "    if count_bin % 1000==0:\n",
    "        print(count_bin, end=' ')\n",
    "        print(random_idx_bin)\n",
    "\n",
    "    df_bin = bin6_1[random_idx_bin : random_idx_bin + right_idx]\n",
    "    \n",
    "    # 뽑은 index의 N 바이트 중에 1이 없는 경우만\n",
    "    if 1 not in df_bin['label'] and count_bin < goal_bin:\n",
    "        binutils_df.append(df_bin)\n",
    "        count_bin+=1\n",
    "\n",
    "print('완료')\n",
    "print(len(binutils_df))"
   ]
  },
  {
   "cell_type": "code",
   "execution_count": 7,
   "metadata": {},
   "outputs": [
    {
     "name": "stdout",
     "output_type": "stream",
     "text": [
      "38715\n",
      "38715\n"
     ]
    }
   ],
   "source": [
    "# True data와 False Data 같은지 체크\n",
    "print(len(binutils_df))\n",
    "print(bin6_1['label'].value_counts()[1])"
   ]
  },
  {
   "cell_type": "markdown",
   "metadata": {},
   "source": [
    "## (5) False Data + True Data 합치기"
   ]
  },
  {
   "cell_type": "code",
   "execution_count": 8,
   "metadata": {},
   "outputs": [
    {
     "data": {
      "text/plain": [
       "(2477760, 2)"
      ]
     },
     "execution_count": 8,
     "metadata": {},
     "output_type": "execute_result"
    }
   ],
   "source": [
    "f_data = pd.concat(binutils_df)\n",
    "final = pd.concat([f_data, bin6_1_Ngram])\n",
    "final.shape"
   ]
  },
  {
   "cell_type": "markdown",
   "metadata": {},
   "source": [
    "## (6) one hot encoding"
   ]
  },
  {
   "cell_type": "code",
   "execution_count": 9,
   "metadata": {},
   "outputs": [
    {
     "name": "stdout",
     "output_type": "stream",
     "text": [
      "원핫인코딩완료\n",
      "(2477760, 257)\n"
     ]
    }
   ],
   "source": [
    "# 훈련데이터 (gcc 최적화버전 0, 1, 2, 3 one hot encoding)\n",
    "bc6_1_onehot_Ngram = pd.get_dummies(final['bin'])\n",
    "bc6_1_onehot_Ngram = pd.concat([final['label'], bc6_1_onehot_Ngram], axis=1)\n",
    "\n",
    "print('원핫인코딩완료')\n",
    "print(bc6_1_onehot_Ngram.shape)"
   ]
  },
  {
   "cell_type": "code",
   "execution_count": 10,
   "metadata": {},
   "outputs": [
    {
     "name": "stdout",
     "output_type": "stream",
     "text": [
      "(2477760, 256) (2477760, 256)\n",
      "(77430, 32, 256) (77430, 32, 1)\n"
     ]
    }
   ],
   "source": [
    "# 훈련 데이터, 훈련 라벨\n",
    "x_bc6_1 = bc6_1_onehot_Ngram.iloc[:,1:].to_numpy()\n",
    "y_bc6_1 = bc6_1_onehot_Ngram['label'].to_numpy()\n",
    "print(x_bc6_1.shape, x_bc6_1.shape)\n",
    "\n",
    "x_bc6_1 = x_bc6_1.reshape(-1, right_idx, x_bc6_1.shape[1])\n",
    "y_bc6_1 = y_bc6_1.reshape(-1, right_idx, 1)\n",
    "\n",
    "print(x_bc6_1.shape, y_bc6_1.shape)"
   ]
  },
  {
   "cell_type": "code",
   "execution_count": 11,
   "metadata": {},
   "outputs": [
    {
     "name": "stdout",
     "output_type": "stream",
     "text": [
      "(77430, 32, 256) (77430, 32, 1)\n"
     ]
    }
   ],
   "source": [
    "# numpy 행, 열 섞기\n",
    "p = np.random.permutation(x_bc6_1.shape[0])\n",
    "\n",
    "x_bc6_1 = x_bc6_1[p]\n",
    "y_bc6_1 = y_bc6_1[p]\n",
    "\n",
    "print(x_bc6_1.shape, y_bc6_1.shape)"
   ]
  },
  {
   "cell_type": "markdown",
   "metadata": {},
   "source": [
    "## (7) 모델"
   ]
  },
  {
   "cell_type": "code",
   "execution_count": 12,
   "metadata": {},
   "outputs": [],
   "source": [
    "# (10) 양방향 LSTM 모델링 작업\n",
    "from tensorflow.keras import layers, models\n",
    "#from tf.keras.models import Model, Sequential\n",
    "#from tf.keras.layers import SimpleRNN, Input, Dense, LSTM\n",
    "#from tf.keras.layers import Bidirectional, TimeDistributed\n",
    "\n",
    "# 학습\n",
    "from tensorflow.keras.callbacks import EarlyStopping\n",
    "early_stopping = EarlyStopping(patience = 3) # 조기종료 콜백함수 정의\n",
    "\n",
    "xInput = layers.Input(batch_shape=(None,right_idx, 256)) \n",
    "xBiLstm = layers.Bidirectional(layers.LSTM(48, return_sequences=True, stateful=False), merge_mode = 'concat')(xInput)\n",
    "xOutput = layers.TimeDistributed(layers.Dense(1, activation ='sigmoid'))(xBiLstm) # 각 스텝에서 cost가 전송되고, 오류가 다음 step으로 전송됨."
   ]
  },
  {
   "cell_type": "markdown",
   "metadata": {},
   "source": [
    "## (8) 학습 - 10 KFold"
   ]
  },
  {
   "cell_type": "code",
   "execution_count": 13,
   "metadata": {
    "scrolled": false
   },
   "outputs": [
    {
     "name": "stdout",
     "output_type": "stream",
     "text": [
      "Model: \"model\"\n",
      "_________________________________________________________________\n",
      "Layer (type)                 Output Shape              Param #   \n",
      "=================================================================\n",
      "input_1 (InputLayer)         [(None, 32, 256)]         0         \n",
      "_________________________________________________________________\n",
      "bidirectional (Bidirectional (None, 32, 96)            117120    \n",
      "_________________________________________________________________\n",
      "time_distributed (TimeDistri (None, 32, 1)             97        \n",
      "=================================================================\n",
      "Total params: 117,217\n",
      "Trainable params: 117,217\n",
      "Non-trainable params: 0\n",
      "_________________________________________________________________\n",
      "======Training stage======\n",
      "Train on 69687 samples\n",
      "Epoch 1/10\n",
      "69632/69687 [============================>.] - ETA: 0s - loss: 0.0392 - accuracy: 0.9893WARNING:tensorflow:Early stopping conditioned on metric `val_loss` which is not available. Available metrics are: loss,accuracy\n",
      "69687/69687 [==============================] - 16s 236us/sample - loss: 0.0392 - accuracy: 0.9893\n",
      "Epoch 2/10\n",
      "69632/69687 [============================>.] - ETA: 0s - loss: 0.0046 - accuracy: 0.9987WARNING:tensorflow:Early stopping conditioned on metric `val_loss` which is not available. Available metrics are: loss,accuracy\n",
      "69687/69687 [==============================] - 4s 60us/sample - loss: 0.0046 - accuracy: 0.9987\n",
      "Epoch 3/10\n",
      "69248/69687 [============================>.] - ETA: 0s - loss: 0.0025 - accuracy: 0.9993WARNING:tensorflow:Early stopping conditioned on metric `val_loss` which is not available. Available metrics are: loss,accuracy\n",
      "69687/69687 [==============================] - 4s 62us/sample - loss: 0.0024 - accuracy: 0.9993\n",
      "Epoch 4/10\n",
      "69632/69687 [============================>.] - ETA: 0s - loss: 0.0017 - accuracy: 0.9995WARNING:tensorflow:Early stopping conditioned on metric `val_loss` which is not available. Available metrics are: loss,accuracy\n",
      "69687/69687 [==============================] - 4s 63us/sample - loss: 0.0017 - accuracy: 0.9995\n",
      "Epoch 5/10\n",
      "69376/69687 [============================>.] - ETA: 0s - loss: 0.0013 - accuracy: 0.9996WARNING:tensorflow:Early stopping conditioned on metric `val_loss` which is not available. Available metrics are: loss,accuracy\n",
      "69687/69687 [==============================] - 5s 65us/sample - loss: 0.0013 - accuracy: 0.9996\n",
      "Epoch 6/10\n",
      "69632/69687 [============================>.] - ETA: 0s - loss: 0.0011 - accuracy: 0.9997WARNING:tensorflow:Early stopping conditioned on metric `val_loss` which is not available. Available metrics are: loss,accuracy\n",
      "69687/69687 [==============================] - 4s 64us/sample - loss: 0.0011 - accuracy: 0.9997\n",
      "Epoch 7/10\n",
      "69632/69687 [============================>.] - ETA: 0s - loss: 8.5586e-04 - accuracy: 0.9998WARNING:tensorflow:Early stopping conditioned on metric `val_loss` which is not available. Available metrics are: loss,accuracy\n",
      "69687/69687 [==============================] - 4s 62us/sample - loss: 8.5534e-04 - accuracy: 0.9998\n",
      "Epoch 8/10\n",
      "69248/69687 [============================>.] - ETA: 0s - loss: 7.0526e-04 - accuracy: 0.9998WARNING:tensorflow:Early stopping conditioned on metric `val_loss` which is not available. Available metrics are: loss,accuracy\n",
      "69687/69687 [==============================] - 4s 61us/sample - loss: 7.0379e-04 - accuracy: 0.9998\n",
      "Epoch 9/10\n",
      "69504/69687 [============================>.] - ETA: 0s - loss: 5.9268e-04 - accuracy: 0.9998WARNING:tensorflow:Early stopping conditioned on metric `val_loss` which is not available. Available metrics are: loss,accuracy\n",
      "69687/69687 [==============================] - 4s 59us/sample - loss: 5.9195e-04 - accuracy: 0.9998\n",
      "Epoch 10/10\n",
      "68992/69687 [============================>.] - ETA: 0s - loss: 4.9645e-04 - accuracy: 0.9998WARNING:tensorflow:Early stopping conditioned on metric `val_loss` which is not available. Available metrics are: loss,accuracy\n",
      "69687/69687 [==============================] - 4s 64us/sample - loss: 4.9460e-04 - accuracy: 0.9999\n"
     ]
    },
    {
     "data": {
      "text/plain": [
       "<tensorflow.python.keras.callbacks.History at 0x2055a390f08>"
      ]
     },
     "execution_count": 13,
     "metadata": {},
     "output_type": "execute_result"
    },
    {
     "name": "stdout",
     "output_type": "stream",
     "text": [
      "accuracy_score 0.9997457380860132\n",
      "recall_score 0.9958497613612782\n",
      "precision_score 0.9911193721602644\n",
      "f1_score 0.9934789359279578\n",
      "Model: \"model_1\"\n",
      "_________________________________________________________________\n",
      "Layer (type)                 Output Shape              Param #   \n",
      "=================================================================\n",
      "input_1 (InputLayer)         [(None, 32, 256)]         0         \n",
      "_________________________________________________________________\n",
      "bidirectional (Bidirectional (None, 32, 96)            117120    \n",
      "_________________________________________________________________\n",
      "time_distributed (TimeDistri (None, 32, 1)             97        \n",
      "=================================================================\n",
      "Total params: 117,217\n",
      "Trainable params: 117,217\n",
      "Non-trainable params: 0\n",
      "_________________________________________________________________\n",
      "======Training stage======\n",
      "Train on 69687 samples\n",
      "Epoch 1/10\n",
      "69248/69687 [============================>.] - ETA: 0s - loss: 4.8096e-04 - accuracy: 0.9999WARNING:tensorflow:Early stopping conditioned on metric `val_loss` which is not available. Available metrics are: loss,accuracy\n",
      "69687/69687 [==============================] - 14s 206us/sample - loss: 4.7925e-04 - accuracy: 0.9999\n",
      "Epoch 2/10\n",
      "68992/69687 [============================>.] - ETA: 0s - loss: 3.9410e-04 - accuracy: 0.9999WARNING:tensorflow:Early stopping conditioned on metric `val_loss` which is not available. Available metrics are: loss,accuracy\n",
      "69687/69687 [==============================] - 5s 70us/sample - loss: 3.9411e-04 - accuracy: 0.9999\n",
      "Epoch 3/10\n",
      "69248/69687 [============================>.] - ETA: 0s - loss: 3.3617e-04 - accuracy: 0.9999WARNING:tensorflow:Early stopping conditioned on metric `val_loss` which is not available. Available metrics are: loss,accuracy\n",
      "69687/69687 [==============================] - 5s 70us/sample - loss: 3.3516e-04 - accuracy: 0.9999\n",
      "Epoch 4/10\n",
      "69376/69687 [============================>.] - ETA: 0s - loss: 3.0363e-04 - accuracy: 0.9999WARNING:tensorflow:Early stopping conditioned on metric `val_loss` which is not available. Available metrics are: loss,accuracy\n",
      "69687/69687 [==============================] - 5s 66us/sample - loss: 3.0299e-04 - accuracy: 0.9999\n",
      "Epoch 5/10\n",
      "69248/69687 [============================>.] - ETA: 0s - loss: 2.4370e-04 - accuracy: 0.9999WARNING:tensorflow:Early stopping conditioned on metric `val_loss` which is not available. Available metrics are: loss,accuracy\n",
      "69687/69687 [==============================] - 4s 64us/sample - loss: 2.4396e-04 - accuracy: 0.9999\n",
      "Epoch 6/10\n",
      "69504/69687 [============================>.] - ETA: 0s - loss: 2.1697e-04 - accuracy: 0.9999WARNING:tensorflow:Early stopping conditioned on metric `val_loss` which is not available. Available metrics are: loss,accuracy\n",
      "69687/69687 [==============================] - 5s 71us/sample - loss: 2.1718e-04 - accuracy: 0.9999\n",
      "Epoch 7/10\n",
      "69120/69687 [============================>.] - ETA: 0s - loss: 1.8265e-04 - accuracy: 0.9999WARNING:tensorflow:Early stopping conditioned on metric `val_loss` which is not available. Available metrics are: loss,accuracy\n",
      "69687/69687 [==============================] - 5s 77us/sample - loss: 1.8594e-04 - accuracy: 0.9999\n",
      "Epoch 8/10\n",
      "68992/69687 [============================>.] - ETA: 0s - loss: 1.5551e-04 - accuracy: 1.0000WARNING:tensorflow:Early stopping conditioned on metric `val_loss` which is not available. Available metrics are: loss,accuracy\n",
      "69687/69687 [==============================] - 5s 72us/sample - loss: 1.5669e-04 - accuracy: 1.0000\n",
      "Epoch 9/10\n",
      "69120/69687 [============================>.] - ETA: 0s - loss: 1.3628e-04 - accuracy: 1.0000WARNING:tensorflow:Early stopping conditioned on metric `val_loss` which is not available. Available metrics are: loss,accuracy\n",
      "69687/69687 [==============================] - 5s 71us/sample - loss: 1.3564e-04 - accuracy: 1.0000\n",
      "Epoch 10/10\n",
      "68864/69687 [============================>.] - ETA: 0s - loss: 1.2185e-04 - accuracy: 1.0000WARNING:tensorflow:Early stopping conditioned on metric `val_loss` which is not available. Available metrics are: loss,accuracy\n",
      "69687/69687 [==============================] - 5s 71us/sample - loss: 1.2301e-04 - accuracy: 1.0000\n"
     ]
    },
    {
     "data": {
      "text/plain": [
       "<tensorflow.python.keras.callbacks.History at 0x202f46f9c88>"
      ]
     },
     "execution_count": 13,
     "metadata": {},
     "output_type": "execute_result"
    },
    {
     "name": "stdout",
     "output_type": "stream",
     "text": [
      "accuracy_score 0.9998466356709286\n",
      "recall_score 0.9962809917355372\n",
      "precision_score 0.9958694754233788\n",
      "f1_score 0.9960751910762239\n",
      "Model: \"model_2\"\n",
      "_________________________________________________________________\n",
      "Layer (type)                 Output Shape              Param #   \n",
      "=================================================================\n",
      "input_1 (InputLayer)         [(None, 32, 256)]         0         \n",
      "_________________________________________________________________\n",
      "bidirectional (Bidirectional (None, 32, 96)            117120    \n",
      "_________________________________________________________________\n",
      "time_distributed (TimeDistri (None, 32, 1)             97        \n",
      "=================================================================\n",
      "Total params: 117,217\n",
      "Trainable params: 117,217\n",
      "Non-trainable params: 0\n",
      "_________________________________________________________________\n",
      "======Training stage======\n",
      "Train on 69687 samples\n",
      "Epoch 1/10\n",
      "69248/69687 [============================>.] - ETA: 0s - loss: 1.7072e-04 - accuracy: 1.0000WARNING:tensorflow:Early stopping conditioned on metric `val_loss` which is not available. Available metrics are: loss,accuracy\n",
      "69687/69687 [==============================] - 12s 177us/sample - loss: 1.6980e-04 - accuracy: 1.0000\n",
      "Epoch 2/10\n",
      "69504/69687 [============================>.] - ETA: 0s - loss: 1.4975e-04 - accuracy: 1.0000WARNING:tensorflow:Early stopping conditioned on metric `val_loss` which is not available. Available metrics are: loss,accuracy\n",
      "69687/69687 [==============================] - 5s 71us/sample - loss: 1.4939e-04 - accuracy: 1.0000\n",
      "Epoch 3/10\n",
      "69120/69687 [============================>.] - ETA: 0s - loss: 1.0799e-04 - accuracy: 1.0000WARNING:tensorflow:Early stopping conditioned on metric `val_loss` which is not available. Available metrics are: loss,accuracy\n",
      "69687/69687 [==============================] - 5s 77us/sample - loss: 1.0723e-04 - accuracy: 1.0000\n",
      "Epoch 4/10\n",
      "69120/69687 [============================>.] - ETA: 0s - loss: 1.0333e-04 - accuracy: 1.0000WARNING:tensorflow:Early stopping conditioned on metric `val_loss` which is not available. Available metrics are: loss,accuracy\n",
      "69687/69687 [==============================] - 6s 80us/sample - loss: 1.0271e-04 - accuracy: 1.0000\n",
      "Epoch 5/10\n",
      "69376/69687 [============================>.] - ETA: 0s - loss: 8.4473e-05 - accuracy: 1.0000WARNING:tensorflow:Early stopping conditioned on metric `val_loss` which is not available. Available metrics are: loss,accuracy\n",
      "69687/69687 [==============================] - 6s 81us/sample - loss: 8.4255e-05 - accuracy: 1.0000\n",
      "Epoch 6/10\n",
      "69504/69687 [============================>.] - ETA: 0s - loss: 6.6570e-05 - accuracy: 1.0000WARNING:tensorflow:Early stopping conditioned on metric `val_loss` which is not available. Available metrics are: loss,accuracy\n",
      "69687/69687 [==============================] - 5s 78us/sample - loss: 6.6413e-05 - accuracy: 1.0000\n",
      "Epoch 7/10\n",
      "69504/69687 [============================>.] - ETA: 0s - loss: 5.7383e-05 - accuracy: 1.0000WARNING:tensorflow:Early stopping conditioned on metric `val_loss` which is not available. Available metrics are: loss,accuracy\n",
      "69687/69687 [==============================] - 5s 73us/sample - loss: 5.7369e-05 - accuracy: 1.0000\n",
      "Epoch 8/10\n",
      "69376/69687 [============================>.] - ETA: 0s - loss: 4.9866e-05 - accuracy: 1.0000 ETA: 0s - loss: 4.4678e-05 - acWARNING:tensorflow:Early stopping conditioned on metric `val_loss` which is not available. Available metrics are: loss,accuracy\n",
      "69687/69687 [==============================] - 5s 73us/sample - loss: 4.9719e-05 - accuracy: 1.0000\n",
      "Epoch 9/10\n",
      "69248/69687 [============================>.] - ETA: 0s - loss: 4.8892e-05 - accuracy: 1.0000WARNING:tensorflow:Early stopping conditioned on metric `val_loss` which is not available. Available metrics are: loss,accuracy\n",
      "69687/69687 [==============================] - 5s 74us/sample - loss: 5.0784e-05 - accuracy: 1.0000\n",
      "Epoch 10/10\n",
      "68864/69687 [============================>.] - ETA: 0s - loss: 4.2456e-05 - accuracy: 1.0000WARNING:tensorflow:Early stopping conditioned on metric `val_loss` which is not available. Available metrics are: loss,accuracy\n",
      "69687/69687 [==============================] - 5s 72us/sample - loss: 4.2016e-05 - accuracy: 1.0000\n"
     ]
    },
    {
     "data": {
      "text/plain": [
       "<tensorflow.python.keras.callbacks.History at 0x205172b7408>"
      ]
     },
     "execution_count": 13,
     "metadata": {},
     "output_type": "execute_result"
    },
    {
     "name": "stdout",
     "output_type": "stream",
     "text": [
      "accuracy_score 0.9998991024150846\n",
      "recall_score 0.9963555375582102\n",
      "precision_score 0.9985795454545454\n",
      "f1_score 0.9974663018141279\n",
      "Model: \"model_3\"\n",
      "_________________________________________________________________\n",
      "Layer (type)                 Output Shape              Param #   \n",
      "=================================================================\n",
      "input_1 (InputLayer)         [(None, 32, 256)]         0         \n",
      "_________________________________________________________________\n",
      "bidirectional (Bidirectional (None, 32, 96)            117120    \n",
      "_________________________________________________________________\n",
      "time_distributed (TimeDistri (None, 32, 1)             97        \n",
      "=================================================================\n",
      "Total params: 117,217\n",
      "Trainable params: 117,217\n",
      "Non-trainable params: 0\n",
      "_________________________________________________________________\n",
      "======Training stage======\n",
      "Train on 69687 samples\n",
      "Epoch 1/10\n",
      "69376/69687 [============================>.] - ETA: 0s - loss: 6.9351e-05 - accuracy: 1.0000WARNING:tensorflow:Early stopping conditioned on metric `val_loss` which is not available. Available metrics are: loss,accuracy\n",
      "69687/69687 [==============================] - 16s 229us/sample - loss: 6.9060e-05 - accuracy: 1.0000\n",
      "Epoch 2/10\n",
      "69376/69687 [============================>.] - ETA: 0s - loss: 4.4474e-05 - accuracy: 1.0000WARNING:tensorflow:Early stopping conditioned on metric `val_loss` which is not available. Available metrics are: loss,accuracy\n",
      "69687/69687 [==============================] - 5s 73us/sample - loss: 4.4350e-05 - accuracy: 1.0000\n",
      "Epoch 3/10\n",
      "69632/69687 [============================>.] - ETA: 0s - loss: 3.7536e-05 - accuracy: 1.0000WARNING:tensorflow:Early stopping conditioned on metric `val_loss` which is not available. Available metrics are: loss,accuracy\n",
      "69687/69687 [==============================] - 5s 72us/sample - loss: 3.7507e-05 - accuracy: 1.0000\n",
      "Epoch 4/10\n",
      "69248/69687 [============================>.] - ETA: 0s - loss: 3.1868e-05 - accuracy: 1.0000WARNING:tensorflow:Early stopping conditioned on metric `val_loss` which is not available. Available metrics are: loss,accuracy\n",
      "69687/69687 [==============================] - 5s 73us/sample - loss: 3.1689e-05 - accuracy: 1.0000\n",
      "Epoch 5/10\n",
      "69120/69687 [============================>.] - ETA: 0s - loss: 2.2415e-05 - accuracy: 1.0000WARNING:tensorflow:Early stopping conditioned on metric `val_loss` which is not available. Available metrics are: loss,accuracy\n",
      "69687/69687 [==============================] - 5s 73us/sample - loss: 2.2251e-05 - accuracy: 1.0000\n",
      "Epoch 6/10\n",
      "69632/69687 [============================>.] - ETA: 0s - loss: 2.1007e-05 - accuracy: 1.0000WARNING:tensorflow:Early stopping conditioned on metric `val_loss` which is not available. Available metrics are: loss,accuracy\n",
      "69687/69687 [==============================] - 5s 72us/sample - loss: 2.1006e-05 - accuracy: 1.0000\n",
      "Epoch 7/10\n",
      "68992/69687 [============================>.] - ETA: 0s - loss: 1.5003e-05 - accuracy: 1.0000WARNING:tensorflow:Early stopping conditioned on metric `val_loss` which is not available. Available metrics are: loss,accuracy\n",
      "69687/69687 [==============================] - 5s 72us/sample - loss: 1.6365e-05 - accuracy: 1.0000\n",
      "Epoch 8/10\n",
      "68992/69687 [============================>.] - ETA: 0s - loss: 1.7359e-05 - accuracy: 1.0000WARNING:tensorflow:Early stopping conditioned on metric `val_loss` which is not available. Available metrics are: loss,accuracy\n",
      "69687/69687 [==============================] - 5s 72us/sample - loss: 1.7200e-05 - accuracy: 1.0000\n",
      "Epoch 9/10\n",
      "69376/69687 [============================>.] - ETA: 0s - loss: 9.6817e-06 - accuracy: 1.0000WARNING:tensorflow:Early stopping conditioned on metric `val_loss` which is not available. Available metrics are: loss,accuracy\n",
      "69687/69687 [==============================] - 5s 72us/sample - loss: 9.6586e-06 - accuracy: 1.0000\n",
      "Epoch 10/10\n",
      "68992/69687 [============================>.] - ETA: 0s - loss: 1.7527e-05 - accuracy: 1.0000WARNING:tensorflow:Early stopping conditioned on metric `val_loss` which is not available. Available metrics are: loss,accuracy\n",
      "69687/69687 [==============================] - 5s 72us/sample - loss: 1.7365e-05 - accuracy: 1.0000\n"
     ]
    },
    {
     "data": {
      "text/plain": [
       "<tensorflow.python.keras.callbacks.History at 0x2051a77f3c8>"
      ]
     },
     "execution_count": 13,
     "metadata": {},
     "output_type": "execute_result"
    },
    {
     "name": "stdout",
     "output_type": "stream",
     "text": [
      "accuracy_score 0.9999838563864135\n",
      "recall_score 0.9995917534190651\n",
      "precision_score 0.9995917534190651\n",
      "f1_score 0.9995917534190651\n",
      "Model: \"model_4\"\n",
      "_________________________________________________________________\n",
      "Layer (type)                 Output Shape              Param #   \n",
      "=================================================================\n",
      "input_1 (InputLayer)         [(None, 32, 256)]         0         \n",
      "_________________________________________________________________\n",
      "bidirectional (Bidirectional (None, 32, 96)            117120    \n",
      "_________________________________________________________________\n",
      "time_distributed (TimeDistri (None, 32, 1)             97        \n",
      "=================================================================\n",
      "Total params: 117,217\n",
      "Trainable params: 117,217\n",
      "Non-trainable params: 0\n",
      "_________________________________________________________________\n",
      "======Training stage======\n",
      "Train on 69687 samples\n",
      "Epoch 1/10\n",
      "69504/69687 [============================>.] - ETA: 0s - loss: 3.3160e-05 - accuracy: 1.0000WARNING:tensorflow:Early stopping conditioned on metric `val_loss` which is not available. Available metrics are: loss,accuracy\n",
      "69687/69687 [==============================] - 12s 176us/sample - loss: 3.3074e-05 - accuracy: 1.0000\n",
      "Epoch 2/10\n",
      "68992/69687 [============================>.] - ETA: 0s - loss: 1.6394e-05 - accuracy: 1.0000WARNING:tensorflow:Early stopping conditioned on metric `val_loss` which is not available. Available metrics are: loss,accuracy\n",
      "69687/69687 [==============================] - 5s 74us/sample - loss: 1.6375e-05 - accuracy: 1.0000\n",
      "Epoch 3/10\n",
      "68992/69687 [============================>.] - ETA: 0s - loss: 1.2750e-05 - accuracy: 1.0000WARNING:tensorflow:Early stopping conditioned on metric `val_loss` which is not available. Available metrics are: loss,accuracy\n",
      "69687/69687 [==============================] - 5s 72us/sample - loss: 1.2648e-05 - accuracy: 1.0000\n",
      "Epoch 4/10\n",
      "69248/69687 [============================>.] - ETA: 0s - loss: 1.0180e-05 - accuracy: 1.0000WARNING:tensorflow:Early stopping conditioned on metric `val_loss` which is not available. Available metrics are: loss,accuracy\n",
      "69687/69687 [==============================] - 5s 71us/sample - loss: 1.0119e-05 - accuracy: 1.0000\n",
      "Epoch 5/10\n",
      "68992/69687 [============================>.] - ETA: 0s - loss: 1.1138e-05 - accuracy: 1.0000WARNING:tensorflow:Early stopping conditioned on metric `val_loss` which is not available. Available metrics are: loss,accuracy\n",
      "69687/69687 [==============================] - 5s 70us/sample - loss: 1.1038e-05 - accuracy: 1.0000\n",
      "Epoch 6/10\n",
      "68864/69687 [============================>.] - ETA: 0s - loss: 1.2471e-05 - accuracy: 1.0000WARNING:tensorflow:Early stopping conditioned on metric `val_loss` which is not available. Available metrics are: loss,accuracy\n",
      "69687/69687 [==============================] - 5s 70us/sample - loss: 1.2339e-05 - accuracy: 1.0000\n",
      "Epoch 7/10\n",
      "69504/69687 [============================>.] - ETA: 0s - loss: 6.7644e-06 - accuracy: 1.0000 ETA: 0s - loss: 7.0509e-06 - accuWARNING:tensorflow:Early stopping conditioned on metric `val_loss` which is not available. Available metrics are: loss,accuracy\n",
      "69687/69687 [==============================] - 5s 69us/sample - loss: 6.7668e-06 - accuracy: 1.0000\n",
      "Epoch 8/10\n",
      "69120/69687 [============================>.] - ETA: 0s - loss: 2.6004e-06 - accuracy: 1.0000WARNING:tensorflow:Early stopping conditioned on metric `val_loss` which is not available. Available metrics are: loss,accuracy\n",
      "69687/69687 [==============================] - 5s 73us/sample - loss: 2.5857e-06 - accuracy: 1.0000\n",
      "Epoch 9/10\n",
      "69376/69687 [============================>.] - ETA: 0s - loss: 4.7840e-06 - accuracy: 1.0000WARNING:tensorflow:Early stopping conditioned on metric `val_loss` which is not available. Available metrics are: loss,accuracy\n",
      "69687/69687 [==============================] - 5s 74us/sample - loss: 4.7653e-06 - accuracy: 1.0000\n",
      "Epoch 10/10\n",
      "69632/69687 [============================>.] - ETA: 0s - loss: 3.7546e-06 - accuracy: 1.0000WARNING:tensorflow:Early stopping conditioned on metric `val_loss` which is not available. Available metrics are: loss,accuracy\n",
      "69687/69687 [==============================] - 5s 71us/sample - loss: 3.7524e-06 - accuracy: 1.0000\n"
     ]
    },
    {
     "data": {
      "text/plain": [
       "<tensorflow.python.keras.callbacks.History at 0x2052119de48>"
      ]
     },
     "execution_count": 13,
     "metadata": {},
     "output_type": "execute_result"
    },
    {
     "name": "stdout",
     "output_type": "stream",
     "text": [
      "accuracy_score 0.9999959640966034\n",
      "recall_score 1.0\n",
      "precision_score 0.9997956264050685\n",
      "f1_score 0.9998978027593255\n",
      "Model: \"model_5\"\n",
      "_________________________________________________________________\n",
      "Layer (type)                 Output Shape              Param #   \n",
      "=================================================================\n",
      "input_1 (InputLayer)         [(None, 32, 256)]         0         \n",
      "_________________________________________________________________\n",
      "bidirectional (Bidirectional (None, 32, 96)            117120    \n",
      "_________________________________________________________________\n",
      "time_distributed (TimeDistri (None, 32, 1)             97        \n",
      "=================================================================\n",
      "Total params: 117,217\n",
      "Trainable params: 117,217\n",
      "Non-trainable params: 0\n",
      "_________________________________________________________________\n",
      "======Training stage======\n",
      "Train on 69687 samples\n",
      "Epoch 1/10\n",
      "69120/69687 [============================>.] - ETA: 0s - loss: 7.7870e-06 - accuracy: 1.0000WARNING:tensorflow:Early stopping conditioned on metric `val_loss` which is not available. Available metrics are: loss,accuracy\n",
      "69687/69687 [==============================] - 18s 254us/sample - loss: 7.7339e-06 - accuracy: 1.0000\n",
      "Epoch 2/10\n",
      "69504/69687 [============================>.] - ETA: 0s - loss: 4.7688e-06 - accuracy: 1.0000WARNING:tensorflow:Early stopping conditioned on metric `val_loss` which is not available. Available metrics are: loss,accuracy\n",
      "69687/69687 [==============================] - 5s 76us/sample - loss: 4.7576e-06 - accuracy: 1.0000\n",
      "Epoch 3/10\n",
      "68992/69687 [============================>.] - ETA: 0s - loss: 3.9652e-06 - accuracy: 1.0000WARNING:tensorflow:Early stopping conditioned on metric `val_loss` which is not available. Available metrics are: loss,accuracy\n",
      "69687/69687 [==============================] - 5s 77us/sample - loss: 4.0020e-06 - accuracy: 1.0000\n",
      "Epoch 4/10\n",
      "69504/69687 [============================>.] - ETA: 0s - loss: 6.2629e-06 - accuracy: 1.0000WARNING:tensorflow:Early stopping conditioned on metric `val_loss` which is not available. Available metrics are: loss,accuracy\n",
      "69687/69687 [==============================] - 6s 80us/sample - loss: 6.2467e-06 - accuracy: 1.0000\n",
      "Epoch 5/10\n",
      "69120/69687 [============================>.] - ETA: 0s - loss: 3.4082e-06 - accuracy: 1.0000WARNING:tensorflow:Early stopping conditioned on metric `val_loss` which is not available. Available metrics are: loss,accuracy\n",
      "69687/69687 [==============================] - 5s 77us/sample - loss: 3.3828e-06 - accuracy: 1.0000\n",
      "Epoch 6/10\n",
      "69376/69687 [============================>.] - ETA: 0s - loss: 3.7849e-06 - accuracy: 1.0000WARNING:tensorflow:Early stopping conditioned on metric `val_loss` which is not available. Available metrics are: loss,accuracy\n",
      "69687/69687 [==============================] - 5s 77us/sample - loss: 3.7682e-06 - accuracy: 1.0000\n",
      "Epoch 7/10\n",
      "69376/69687 [============================>.] - ETA: 0s - loss: 6.1890e-06 - accuracy: 1.0000WARNING:tensorflow:Early stopping conditioned on metric `val_loss` which is not available. Available metrics are: loss,accuracy\n",
      "69687/69687 [==============================] - 5s 73us/sample - loss: 6.1626e-06 - accuracy: 1.0000\n",
      "Epoch 8/10\n",
      "69504/69687 [============================>.] - ETA: 0s - loss: 7.2262e-06 - accuracy: 1.0000WARNING:tensorflow:Early stopping conditioned on metric `val_loss` which is not available. Available metrics are: loss,accuracy\n",
      "69687/69687 [==============================] - 5s 73us/sample - loss: 7.2073e-06 - accuracy: 1.0000\n",
      "Epoch 9/10\n",
      "69632/69687 [============================>.] - ETA: 0s - loss: 4.5472e-06 - accuracy: 1.0000WARNING:tensorflow:Early stopping conditioned on metric `val_loss` which is not available. Available metrics are: loss,accuracy\n",
      "69687/69687 [==============================] - 5s 73us/sample - loss: 4.5436e-06 - accuracy: 1.0000\n",
      "Epoch 10/10\n",
      "69248/69687 [============================>.] - ETA: 0s - loss: 8.0287e-07 - accuracy: 1.0000WARNING:tensorflow:Early stopping conditioned on metric `val_loss` which is not available. Available metrics are: loss,accuracy\n",
      "69687/69687 [==============================] - 5s 74us/sample - loss: 7.9851e-07 - accuracy: 1.0000\n"
     ]
    },
    {
     "data": {
      "text/plain": [
       "<tensorflow.python.keras.callbacks.History at 0x2052caff2c8>"
      ]
     },
     "execution_count": 13,
     "metadata": {},
     "output_type": "execute_result"
    },
    {
     "name": "stdout",
     "output_type": "stream",
     "text": [
      "accuracy_score 1.0\n",
      "recall_score 1.0\n",
      "precision_score 1.0\n",
      "f1_score 1.0\n",
      "Model: \"model_6\"\n",
      "_________________________________________________________________\n",
      "Layer (type)                 Output Shape              Param #   \n",
      "=================================================================\n",
      "input_1 (InputLayer)         [(None, 32, 256)]         0         \n",
      "_________________________________________________________________\n",
      "bidirectional (Bidirectional (None, 32, 96)            117120    \n",
      "_________________________________________________________________\n",
      "time_distributed (TimeDistri (None, 32, 1)             97        \n",
      "=================================================================\n",
      "Total params: 117,217\n",
      "Trainable params: 117,217\n",
      "Non-trainable params: 0\n",
      "_________________________________________________________________\n",
      "======Training stage======\n",
      "Train on 69687 samples\n",
      "Epoch 1/10\n",
      "69248/69687 [============================>.] - ETA: 0s - loss: 4.3988e-06 - accuracy: 1.0000WARNING:tensorflow:Early stopping conditioned on metric `val_loss` which is not available. Available metrics are: loss,accuracy\n",
      "69687/69687 [==============================] - 13s 190us/sample - loss: 4.3857e-06 - accuracy: 1.0000\n",
      "Epoch 2/10\n",
      "69248/69687 [============================>.] - ETA: 0s - loss: 6.9489e-06 - accuracy: 1.0000WARNING:tensorflow:Early stopping conditioned on metric `val_loss` which is not available. Available metrics are: loss,accuracy\n",
      "69687/69687 [==============================] - 5s 74us/sample - loss: 6.9067e-06 - accuracy: 1.0000\n",
      "Epoch 3/10\n",
      "69504/69687 [============================>.] - ETA: 0s - loss: 1.5616e-06 - accuracy: 1.0000WARNING:tensorflow:Early stopping conditioned on metric `val_loss` which is not available. Available metrics are: loss,accuracy\n",
      "69687/69687 [==============================] - 5s 73us/sample - loss: 1.5576e-06 - accuracy: 1.0000\n",
      "Epoch 4/10\n",
      "69120/69687 [============================>.] - ETA: 0s - loss: 4.7697e-06 - accuracy: 1.0000WARNING:tensorflow:Early stopping conditioned on metric `val_loss` which is not available. Available metrics are: loss,accuracy\n",
      "69687/69687 [==============================] - 5s 73us/sample - loss: 4.7314e-06 - accuracy: 1.0000\n",
      "Epoch 5/10\n",
      "69632/69687 [============================>.] - ETA: 0s - loss: 1.1952e-06 - accuracy: 1.0000WARNING:tensorflow:Early stopping conditioned on metric `val_loss` which is not available. Available metrics are: loss,accuracy\n",
      "69687/69687 [==============================] - 5s 72us/sample - loss: 1.1943e-06 - accuracy: 1.0000\n",
      "Epoch 6/10\n",
      "69120/69687 [============================>.] - ETA: 0s - loss: 6.6224e-08 - accuracy: 1.0000WARNING:tensorflow:Early stopping conditioned on metric `val_loss` which is not available. Available metrics are: loss,accuracy\n",
      "69687/69687 [==============================] - 5s 72us/sample - loss: 6.5907e-08 - accuracy: 1.0000\n",
      "Epoch 7/10\n",
      "69504/69687 [============================>.] - ETA: 0s - loss: 3.3920e-06 - accuracy: 1.0000WARNING:tensorflow:Early stopping conditioned on metric `val_loss` which is not available. Available metrics are: loss,accuracy\n",
      "69687/69687 [==============================] - 5s 75us/sample - loss: 3.3831e-06 - accuracy: 1.0000\n",
      "Epoch 8/10\n",
      "69632/69687 [============================>.] - ETA: 0s - loss: 3.3374e-08 - accuracy: 1.0000WARNING:tensorflow:Early stopping conditioned on metric `val_loss` which is not available. Available metrics are: loss,accuracy\n",
      "69687/69687 [==============================] - 5s 73us/sample - loss: 3.3349e-08 - accuracy: 1.0000\n",
      "Epoch 9/10\n",
      "69376/69687 [============================>.] - ETA: 0s - loss: 1.7686e-08 - accuracy: 1.0000WARNING:tensorflow:Early stopping conditioned on metric `val_loss` which is not available. Available metrics are: loss,accuracy\n",
      "69687/69687 [==============================] - 5s 72us/sample - loss: 1.7625e-08 - accuracy: 1.0000\n",
      "Epoch 10/10\n",
      "69632/69687 [============================>.] - ETA: 0s - loss: 1.9375e-08 - accuracy: 1.0000WARNING:tensorflow:Early stopping conditioned on metric `val_loss` which is not available. Available metrics are: loss,accuracy\n",
      "69687/69687 [==============================] - 5s 72us/sample - loss: 1.9361e-08 - accuracy: 1.0000\n"
     ]
    },
    {
     "data": {
      "text/plain": [
       "<tensorflow.python.keras.callbacks.History at 0x202f4c061c8>"
      ]
     },
     "execution_count": 13,
     "metadata": {},
     "output_type": "execute_result"
    },
    {
     "name": "stdout",
     "output_type": "stream",
     "text": [
      "accuracy_score 1.0\n",
      "recall_score 1.0\n",
      "precision_score 1.0\n",
      "f1_score 1.0\n",
      "Model: \"model_7\"\n",
      "_________________________________________________________________\n",
      "Layer (type)                 Output Shape              Param #   \n",
      "=================================================================\n",
      "input_1 (InputLayer)         [(None, 32, 256)]         0         \n",
      "_________________________________________________________________\n",
      "bidirectional (Bidirectional (None, 32, 96)            117120    \n",
      "_________________________________________________________________\n",
      "time_distributed (TimeDistri (None, 32, 1)             97        \n",
      "=================================================================\n",
      "Total params: 117,217\n",
      "Trainable params: 117,217\n",
      "Non-trainable params: 0\n",
      "_________________________________________________________________\n",
      "======Training stage======\n",
      "Train on 69687 samples\n",
      "Epoch 1/10\n",
      "69504/69687 [============================>.] - ETA: 0s - loss: 1.7175e-07 - accuracy: 1.0000WARNING:tensorflow:Early stopping conditioned on metric `val_loss` which is not available. Available metrics are: loss,accuracy\n",
      "69687/69687 [==============================] - 17s 244us/sample - loss: 1.7145e-07 - accuracy: 1.0000\n",
      "Epoch 2/10\n",
      "69120/69687 [============================>.] - ETA: 0s - loss: 2.5087e-06 - accuracy: 1.0000WARNING:tensorflow:Early stopping conditioned on metric `val_loss` which is not available. Available metrics are: loss,accuracy\n",
      "69687/69687 [==============================] - 5s 73us/sample - loss: 2.4887e-06 - accuracy: 1.0000\n",
      "Epoch 3/10\n",
      "69504/69687 [============================>.] - ETA: 0s - loss: 2.6570e-06 - accuracy: 1.0000WARNING:tensorflow:Early stopping conditioned on metric `val_loss` which is not available. Available metrics are: loss,accuracy\n",
      "69687/69687 [==============================] - 5s 72us/sample - loss: 2.6514e-06 - accuracy: 1.0000\n",
      "Epoch 4/10\n",
      "69376/69687 [============================>.] - ETA: 0s - loss: 1.5314e-06 - accuracy: 1.0000WARNING:tensorflow:Early stopping conditioned on metric `val_loss` which is not available. Available metrics are: loss,accuracy\n",
      "69687/69687 [==============================] - 5s 72us/sample - loss: 1.5247e-06 - accuracy: 1.0000\n",
      "Epoch 5/10\n",
      "69632/69687 [============================>.] - ETA: 0s - loss: 5.4499e-07 - accuracy: 1.0000WARNING:tensorflow:Early stopping conditioned on metric `val_loss` which is not available. Available metrics are: loss,accuracy\n",
      "69687/69687 [==============================] - 5s 72us/sample - loss: 5.4457e-07 - accuracy: 1.0000\n",
      "Epoch 6/10\n",
      "69120/69687 [============================>.] - ETA: 0s - loss: 5.1169e-08 - accuracy: 1.0000WARNING:tensorflow:Early stopping conditioned on metric `val_loss` which is not available. Available metrics are: loss,accuracy\n",
      "69687/69687 [==============================] - 5s 72us/sample - loss: 5.0787e-08 - accuracy: 1.0000\n",
      "Epoch 7/10\n",
      "69120/69687 [============================>.] - ETA: 0s - loss: 1.2524e-08 - accuracy: 1.0000WARNING:tensorflow:Early stopping conditioned on metric `val_loss` which is not available. Available metrics are: loss,accuracy\n",
      "69687/69687 [==============================] - 5s 70us/sample - loss: 1.2461e-08 - accuracy: 1.0000\n",
      "Epoch 8/10\n",
      "68992/69687 [============================>.] - ETA: 0s - loss: 1.7614e-08 - accuracy: 1.0000WARNING:tensorflow:Early stopping conditioned on metric `val_loss` which is not available. Available metrics are: loss,accuracy\n",
      "69687/69687 [==============================] - 5s 67us/sample - loss: 1.7509e-08 - accuracy: 1.0000\n",
      "Epoch 9/10\n",
      "68992/69687 [============================>.] - ETA: 0s - loss: 5.1974e-08 - accuracy: 1.0000WARNING:tensorflow:Early stopping conditioned on metric `val_loss` which is not available. Available metrics are: loss,accuracy\n",
      "69687/69687 [==============================] - 5s 67us/sample - loss: 5.1517e-08 - accuracy: 1.0000\n",
      "Epoch 10/10\n",
      "69376/69687 [============================>.] - ETA: 0s - loss: 2.0631e-08 - accuracy: 1.0000WARNING:tensorflow:Early stopping conditioned on metric `val_loss` which is not available. Available metrics are: loss,accuracy\n",
      "69687/69687 [==============================] - 5s 73us/sample - loss: 2.0642e-08 - accuracy: 1.0000\n"
     ]
    },
    {
     "data": {
      "text/plain": [
       "<tensorflow.python.keras.callbacks.History at 0x2055ea07708>"
      ]
     },
     "execution_count": 13,
     "metadata": {},
     "output_type": "execute_result"
    },
    {
     "name": "stdout",
     "output_type": "stream",
     "text": [
      "accuracy_score 1.0\n",
      "recall_score 1.0\n",
      "precision_score 1.0\n",
      "f1_score 1.0\n",
      "Model: \"model_8\"\n",
      "_________________________________________________________________\n",
      "Layer (type)                 Output Shape              Param #   \n",
      "=================================================================\n",
      "input_1 (InputLayer)         [(None, 32, 256)]         0         \n",
      "_________________________________________________________________\n",
      "bidirectional (Bidirectional (None, 32, 96)            117120    \n",
      "_________________________________________________________________\n",
      "time_distributed (TimeDistri (None, 32, 1)             97        \n",
      "=================================================================\n",
      "Total params: 117,217\n",
      "Trainable params: 117,217\n",
      "Non-trainable params: 0\n",
      "_________________________________________________________________\n",
      "======Training stage======\n",
      "Train on 69687 samples\n",
      "Epoch 1/10\n",
      "69248/69687 [============================>.] - ETA: 0s - loss: 2.5763e-08 - accuracy: 1.0000WARNING:tensorflow:Early stopping conditioned on metric `val_loss` which is not available. Available metrics are: loss,accuracy\n",
      "69687/69687 [==============================] - 13s 194us/sample - loss: 2.5662e-08 - accuracy: 1.0000\n",
      "Epoch 2/10\n",
      "69632/69687 [============================>.] - ETA: 0s - loss: 1.0656e-08 - accuracy: 1.0000WARNING:tensorflow:Early stopping conditioned on metric `val_loss` which is not available. Available metrics are: loss,accuracy\n",
      "69687/69687 [==============================] - 5s 71us/sample - loss: 1.0648e-08 - accuracy: 1.0000\n",
      "Epoch 3/10\n",
      "69376/69687 [============================>.] - ETA: 0s - loss: 3.9605e-08 - accuracy: 1.0000WARNING:tensorflow:Early stopping conditioned on metric `val_loss` which is not available. Available metrics are: loss,accuracy\n",
      "69687/69687 [==============================] - 5s 71us/sample - loss: 3.9467e-08 - accuracy: 1.0000\n",
      "Epoch 4/10\n",
      "69248/69687 [============================>.] - ETA: 0s - loss: 1.3770e-08 - accuracy: 1.0000WARNING:tensorflow:Early stopping conditioned on metric `val_loss` which is not available. Available metrics are: loss,accuracy\n",
      "69687/69687 [==============================] - 5s 73us/sample - loss: 1.3699e-08 - accuracy: 1.0000\n",
      "Epoch 5/10\n",
      "69248/69687 [============================>.] - ETA: 0s - loss: 1.7539e-08 - accuracy: 1.0000WARNING:tensorflow:Early stopping conditioned on metric `val_loss` which is not available. Available metrics are: loss,accuracy\n",
      "69687/69687 [==============================] - 6s 82us/sample - loss: 1.7449e-08 - accuracy: 1.0000\n",
      "Epoch 6/10\n",
      "68992/69687 [============================>.] - ETA: 0s - loss: 1.7164e-08 - accuracy: 1.0000WARNING:tensorflow:Early stopping conditioned on metric `val_loss` which is not available. Available metrics are: loss,accuracy\n",
      "69687/69687 [==============================] - 5s 78us/sample - loss: 1.7015e-08 - accuracy: 1.0000\n",
      "Epoch 7/10\n",
      "68992/69687 [============================>.] - ETA: 0s - loss: 5.7227e-09 - accuracy: 1.0000WARNING:tensorflow:Early stopping conditioned on metric `val_loss` which is not available. Available metrics are: loss,accuracy\n",
      "69687/69687 [==============================] - 5s 74us/sample - loss: 5.6947e-09 - accuracy: 1.0000\n",
      "Epoch 8/10\n",
      "69504/69687 [============================>.] - ETA: 0s - loss: 2.4315e-08 - accuracy: 1.0000WARNING:tensorflow:Early stopping conditioned on metric `val_loss` which is not available. Available metrics are: loss,accuracy\n",
      "69687/69687 [==============================] - 5s 75us/sample - loss: 2.4253e-08 - accuracy: 1.0000\n",
      "Epoch 9/10\n",
      "69504/69687 [============================>.] - ETA: 0s - loss: 4.0907e-08 - accuracy: 1.0000WARNING:tensorflow:Early stopping conditioned on metric `val_loss` which is not available. Available metrics are: loss,accuracy\n",
      "69687/69687 [==============================] - 5s 76us/sample - loss: 4.0802e-08 - accuracy: 1.0000\n",
      "Epoch 10/10\n",
      "69632/69687 [============================>.] - ETA: 0s - loss: 4.7277e-09 - accuracy: 1.0000WARNING:tensorflow:Early stopping conditioned on metric `val_loss` which is not available. Available metrics are: loss,accuracy\n",
      "69687/69687 [==============================] - 5s 73us/sample - loss: 4.7275e-09 - accuracy: 1.0000\n"
     ]
    },
    {
     "data": {
      "text/plain": [
       "<tensorflow.python.keras.callbacks.History at 0x2055bba3dc8>"
      ]
     },
     "execution_count": 13,
     "metadata": {},
     "output_type": "execute_result"
    },
    {
     "name": "stdout",
     "output_type": "stream",
     "text": [
      "accuracy_score 1.0\n",
      "recall_score 1.0\n",
      "precision_score 1.0\n",
      "f1_score 1.0\n",
      "Model: \"model_9\"\n",
      "_________________________________________________________________\n",
      "Layer (type)                 Output Shape              Param #   \n",
      "=================================================================\n",
      "input_1 (InputLayer)         [(None, 32, 256)]         0         \n",
      "_________________________________________________________________\n",
      "bidirectional (Bidirectional (None, 32, 96)            117120    \n",
      "_________________________________________________________________\n",
      "time_distributed (TimeDistri (None, 32, 1)             97        \n",
      "=================================================================\n",
      "Total params: 117,217\n",
      "Trainable params: 117,217\n",
      "Non-trainable params: 0\n",
      "_________________________________________________________________\n",
      "======Training stage======\n",
      "Train on 69687 samples\n",
      "Epoch 1/10\n",
      "69120/69687 [============================>.] - ETA: 0s - loss: 3.4562e-09 - accuracy: 1.0000WARNING:tensorflow:Early stopping conditioned on metric `val_loss` which is not available. Available metrics are: loss,accuracy\n",
      "69687/69687 [==============================] - 14s 199us/sample - loss: 3.7844e-09 - accuracy: 1.0000\n",
      "Epoch 2/10\n",
      "69248/69687 [============================>.] - ETA: 0s - loss: 3.7371e-09 - accuracy: 1.0000WARNING:tensorflow:Early stopping conditioned on metric `val_loss` which is not available. Available metrics are: loss,accuracy\n",
      "69687/69687 [==============================] - 5s 75us/sample - loss: 3.7178e-09 - accuracy: 1.0000\n",
      "Epoch 3/10\n",
      "69248/69687 [============================>.] - ETA: 0s - loss: 3.6261e-09 - accuracy: 1.0000WARNING:tensorflow:Early stopping conditioned on metric `val_loss` which is not available. Available metrics are: loss,accuracy\n",
      "69687/69687 [==============================] - 5s 74us/sample - loss: 3.6117e-09 - accuracy: 1.0000\n",
      "Epoch 4/10\n",
      "69376/69687 [============================>.] - ETA: 0s - loss: 2.9849e-09 - accuracy: 1.0000WARNING:tensorflow:Early stopping conditioned on metric `val_loss` which is not available. Available metrics are: loss,accuracy\n",
      "69687/69687 [==============================] - 5s 73us/sample - loss: 3.0039e-09 - accuracy: 1.0000\n",
      "Epoch 5/10\n",
      "69248/69687 [============================>.] - ETA: 0s - loss: 2.7492e-09 - accuracy: 1.0000WARNING:tensorflow:Early stopping conditioned on metric `val_loss` which is not available. Available metrics are: loss,accuracy\n",
      "69687/69687 [==============================] - 5s 75us/sample - loss: 2.7406e-09 - accuracy: 1.0000\n",
      "Epoch 6/10\n",
      "68992/69687 [============================>.] - ETA: 0s - loss: 2.4479e-09 - accuracy: 1.0000WARNING:tensorflow:Early stopping conditioned on metric `val_loss` which is not available. Available metrics are: loss,accuracy\n",
      "69687/69687 [==============================] - 6s 80us/sample - loss: 2.4415e-09 - accuracy: 1.0000\n",
      "Epoch 7/10\n",
      "69120/69687 [============================>.] - ETA: 0s - loss: 2.5667e-09 - accuracy: 1.0000WARNING:tensorflow:Early stopping conditioned on metric `val_loss` which is not available. Available metrics are: loss,accuracy\n",
      "69687/69687 [==============================] - 5s 76us/sample - loss: 2.5554e-09 - accuracy: 1.0000\n",
      "Epoch 8/10\n",
      "69632/69687 [============================>.] - ETA: 0s - loss: 2.4373e-09 - accuracy: 1.0000WARNING:tensorflow:Early stopping conditioned on metric `val_loss` which is not available. Available metrics are: loss,accuracy\n",
      "69687/69687 [==============================] - 5s 75us/sample - loss: 2.4362e-09 - accuracy: 1.0000\n",
      "Epoch 9/10\n",
      "69376/69687 [============================>.] - ETA: 0s - loss: 2.1319e-09 - accuracy: 1.0000WARNING:tensorflow:Early stopping conditioned on metric `val_loss` which is not available. Available metrics are: loss,accuracy\n",
      "69687/69687 [==============================] - 6s 79us/sample - loss: 2.1262e-09 - accuracy: 1.0000\n",
      "Epoch 10/10\n",
      "69248/69687 [============================>.] - ETA: 0s - loss: 1.9941e-09 - accuracy: 1.0000WARNING:tensorflow:Early stopping conditioned on metric `val_loss` which is not available. Available metrics are: loss,accuracy\n",
      "69687/69687 [==============================] - 5s 75us/sample - loss: 1.9869e-09 - accuracy: 1.0000\n"
     ]
    },
    {
     "data": {
      "text/plain": [
       "<tensorflow.python.keras.callbacks.History at 0x20515bb38c8>"
      ]
     },
     "execution_count": 13,
     "metadata": {},
     "output_type": "execute_result"
    },
    {
     "name": "stdout",
     "output_type": "stream",
     "text": [
      "accuracy_score 1.0\n",
      "recall_score 1.0\n",
      "precision_score 1.0\n",
      "f1_score 1.0\n",
      "\n",
      "K-fold cross validation Accuracy: [0.9997457380860132, 0.9998466356709286, 0.9998991024150846, 0.9999838563864135, 0.9999959640966034, 1.0, 1.0, 1.0, 1.0, 1.0]\n",
      "\n",
      "K-fold cross validation Recall: [0.9958497613612782, 0.9962809917355372, 0.9963555375582102, 0.9995917534190651, 1.0, 1.0, 1.0, 1.0, 1.0, 1.0]\n",
      "\n",
      "K-fold cross validation Precision: [0.9911193721602644, 0.9958694754233788, 0.9985795454545454, 0.9995917534190651, 0.9997956264050685, 1.0, 1.0, 1.0, 1.0, 1.0]\n",
      "\n",
      "K-fold cross validation F1-Score: [0.9934789359279578, 0.9960751910762239, 0.9974663018141279, 0.9995917534190651, 0.9998978027593255, 1.0, 1.0, 1.0, 1.0, 1.0]\n"
     ]
    }
   ],
   "source": [
    "# 교차검증 kfold\n",
    "from sklearn.model_selection import KFold\n",
    "\n",
    "# Accuracy, Precision, Recall, F1-Score\n",
    "from sklearn.metrics import accuracy_score, recall_score, precision_score, f1_score\n",
    "\n",
    "# Confusion Matrix, ROC Curve\n",
    "from sklearn.metrics import confusion_matrix, roc_auc_score\n",
    "\n",
    "# 최종 평가지표들 평균용\n",
    "accuracy, recall, precision, f1score, cm = [], [], [], [], []\n",
    "\n",
    "# 11. 교차검증 kfold - k.split - 10회 / K-Fold 객체 생성\n",
    "# kf = KFold(n_splits=10, shuffle=False, random_state=None) # KFold non shuffle 버전\n",
    "kf = KFold(n_splits=10, shuffle=True, random_state=None) # KFold non shuffle 버전\n",
    "\n",
    "for train, validation in kf.split(x_bc6_1, y_bc6_1):\n",
    "    model1 = models.Model(xInput, xOutput)\n",
    "    model1.compile(loss='binary_crossentropy', optimizer='rmsprop', metrics=['accuracy'])\n",
    "    model1.summary()\n",
    "    print('======Training stage======')\n",
    "    model1.fit(x_bc6_1[train],\n",
    "               y_bc6_1[train],\n",
    "               epochs = 10,\n",
    "               batch_size = 128,\n",
    "               callbacks=[early_stopping])\n",
    "    #k_accuracy = '%.4f' %(model1.evaluate(data_10000x[validation], data_10000y[validation])[1])\n",
    "\n",
    "# 12. 교차검증결과 predict - 검증셋들\n",
    "    # predict 값\n",
    "    k_pr = model1.predict(x_bc6_1[validation])\n",
    "    \n",
    "    # 테스트 predict 결과들 비교 (평가지표 보기위함)\n",
    "    pred = np.round(np.array(k_pr).flatten().tolist())\n",
    "    y_test = np.array(y_bc6_1[validation]).flatten().tolist()\n",
    "    \n",
    "# 13. 평가지표들 출력\n",
    "    ## 평가지표들\n",
    "    k_accuracy = float(accuracy_score(y_test, pred))\n",
    "    k_recall =  float(recall_score(y_test, pred))\n",
    "    k_precision = float(precision_score(y_test, pred))\n",
    "    k_f1_score = float(f1_score(y_test, pred))\n",
    "    #k_cm = float(confusion_matrix(y_test, pred))\n",
    "    \n",
    "    print('accuracy_score', k_accuracy)\n",
    "    print('recall_score', k_recall)\n",
    "    print('precision_score', k_precision)\n",
    "    print('f1_score', k_f1_score)\n",
    "    #print('\\nconfusion_matrix\\n', k_cm)\n",
    "\n",
    "    accuracy.append(k_accuracy)\n",
    "    recall.append(k_recall)\n",
    "    precision.append(k_precision)\n",
    "    f1score.append(k_f1_score)\n",
    "    #cm.append(k_cm)\n",
    "#    print('roc_curve 면적', roc_auc_score(y_test, pred))\n",
    "\n",
    "# 최종 결과지표\n",
    "print('\\nK-fold cross validation Accuracy: {}'.format(accuracy))\n",
    "print('\\nK-fold cross validation Recall: {}'.format(recall))\n",
    "print('\\nK-fold cross validation Precision: {}'.format(precision))\n",
    "print('\\nK-fold cross validation F1-Score: {}'.format(f1score))\n",
    "#print('\\nK-fold cross validation ConfusionMatrix: {}'.format(cm))"
   ]
  },
  {
   "cell_type": "markdown",
   "metadata": {},
   "source": [
    "## (9) 평가지표"
   ]
  },
  {
   "cell_type": "code",
   "execution_count": 14,
   "metadata": {},
   "outputs": [
    {
     "name": "stdout",
     "output_type": "stream",
     "text": [
      "10-Fold Cross_validation. Accuracy : 0.9999471296655044\n",
      "10-Fold Cross_validation. Recall : 0.998807804407409\n",
      "10-Fold Cross_validation. Precision : 0.9984955772862321\n",
      "10-Fold Cross_validation. F1-Score : 0.9986509984996701\n"
     ]
    }
   ],
   "source": [
    "print('10-Fold Cross_validation. Accuracy :', np.mean(accuracy))\n",
    "print('10-Fold Cross_validation. Recall :', np.mean(recall))\n",
    "print('10-Fold Cross_validation. Precision :', np.mean(precision))\n",
    "print('10-Fold Cross_validation. F1-Score :', np.mean(f1score))"
   ]
  },
  {
   "cell_type": "code",
   "execution_count": 15,
   "metadata": {},
   "outputs": [
    {
     "name": "stdout",
     "output_type": "stream",
     "text": [
      "save 완료\n"
     ]
    }
   ],
   "source": [
    "model1.save('gcc6_bin_core_s32_h48_o1.h5')\n",
    "print('save 완료')"
   ]
  },
  {
   "cell_type": "code",
   "execution_count": 17,
   "metadata": {},
   "outputs": [
    {
     "name": "stdout",
     "output_type": "stream",
     "text": [
      "accuracy_score 1.0\n",
      "recall_score 1.0\n",
      "precision_score 1.0\n",
      "f1_score 1.0\n"
     ]
    }
   ],
   "source": [
    "from tensorflow.keras.models import load_model\n",
    "model_path = 'gcc6_bin_core_s32_h48_o1.h5'\n",
    "\n",
    "model = load_model(model_path)\n",
    "\n",
    "# 12. 교차검증결과 predict - 검증셋들\n",
    "# predict 값\n",
    "k_pr = model.predict(x_bc6_1)\n",
    "\n",
    "# 테스트 predict 결과들 비교 (평가지표 보기위함)\n",
    "pred = np.round(np.array(k_pr).flatten().tolist())\n",
    "y_test = np.array(y_bc6_1).flatten().tolist()\n",
    "\n",
    "# 13. 평가지표들 출력\n",
    "## 평가지표들\n",
    "k_accuracy = float(accuracy_score(y_test, pred))\n",
    "k_recall =  float(recall_score(y_test, pred))\n",
    "k_precision = float(precision_score(y_test, pred))\n",
    "k_f1_score = float(f1_score(y_test, pred))\n",
    "#k_cm = float(confusion_matrix(y_test, pred))\n",
    "\n",
    "print('accuracy_score', k_accuracy)\n",
    "print('recall_score', k_recall)\n",
    "print('precision_score', k_precision)\n",
    "print('f1_score', k_f1_score)\n",
    "#print('\\nconfusion_matrix\\n', k_cm)"
   ]
  }
 ],
 "metadata": {
  "kernelspec": {
   "display_name": "Python 3",
   "language": "python",
   "name": "python3"
  },
  "language_info": {
   "codemirror_mode": {
    "name": "ipython",
    "version": 3
   },
   "file_extension": ".py",
   "mimetype": "text/x-python",
   "name": "python",
   "nbconvert_exporter": "python",
   "pygments_lexer": "ipython3",
   "version": "3.7.7"
  }
 },
 "nbformat": 4,
 "nbformat_minor": 4
}
