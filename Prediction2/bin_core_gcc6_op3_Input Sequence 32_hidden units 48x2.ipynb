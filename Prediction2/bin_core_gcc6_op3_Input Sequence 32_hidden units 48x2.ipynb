{
 "cells": [
  {
   "cell_type": "markdown",
   "metadata": {},
   "source": [
    "## RNN 모델 N-Byte 방식 (함수정보 포함 vs 미포함 => 1:1 비율)\n",
    "\n",
    "## (1) 데이터로드"
   ]
  },
  {
   "cell_type": "code",
   "execution_count": 1,
   "metadata": {},
   "outputs": [
    {
     "name": "stdout",
     "output_type": "stream",
     "text": [
      "(33250757, 2)\n",
      "reset_index 완료\n",
      "input data shape\n"
     ]
    },
    {
     "data": {
      "text/html": [
       "<div>\n",
       "<style scoped>\n",
       "    .dataframe tbody tr th:only-of-type {\n",
       "        vertical-align: middle;\n",
       "    }\n",
       "\n",
       "    .dataframe tbody tr th {\n",
       "        vertical-align: top;\n",
       "    }\n",
       "\n",
       "    .dataframe thead th {\n",
       "        text-align: right;\n",
       "    }\n",
       "</style>\n",
       "<table border=\"1\" class=\"dataframe\">\n",
       "  <thead>\n",
       "    <tr style=\"text-align: right;\">\n",
       "      <th></th>\n",
       "      <th>bin</th>\n",
       "      <th>label</th>\n",
       "    </tr>\n",
       "  </thead>\n",
       "  <tbody>\n",
       "    <tr>\n",
       "      <th>0</th>\n",
       "      <td>47</td>\n",
       "      <td>0</td>\n",
       "    </tr>\n",
       "    <tr>\n",
       "      <th>1</th>\n",
       "      <td>108</td>\n",
       "      <td>0</td>\n",
       "    </tr>\n",
       "    <tr>\n",
       "      <th>2</th>\n",
       "      <td>105</td>\n",
       "      <td>0</td>\n",
       "    </tr>\n",
       "    <tr>\n",
       "      <th>3</th>\n",
       "      <td>98</td>\n",
       "      <td>0</td>\n",
       "    </tr>\n",
       "    <tr>\n",
       "      <th>4</th>\n",
       "      <td>47</td>\n",
       "      <td>0</td>\n",
       "    </tr>\n",
       "  </tbody>\n",
       "</table>\n",
       "</div>"
      ],
      "text/plain": [
       "   bin  label\n",
       "0   47      0\n",
       "1  108      0\n",
       "2  105      0\n",
       "3   98      0\n",
       "4   47      0"
      ]
     },
     "execution_count": 1,
     "metadata": {},
     "output_type": "execute_result"
    }
   ],
   "source": [
    "# (1) 데이터로드\n",
    "import pandas as pd\n",
    "import numpy as np\n",
    "\n",
    "import warnings\n",
    "warnings.filterwarnings(action='ignore')\n",
    "\n",
    "# 여러개 쳐도 나오게\n",
    "from IPython.core.interactiveshell import InteractiveShell\n",
    "InteractiveShell.ast_node_interactivity = \"all\"\n",
    "\n",
    "# 파일읽기\n",
    "bin6_3 = pd.read_csv(\"data/bin+core_answer/\"+'bin+core_answer_3.csv', index_col=0)\n",
    "print(bin6_3.shape)\n",
    "\n",
    "# reset_index (hex processing 하면서 값이 빠졌으니까 + n_gram 에서 index를 다루기 때문에)\n",
    "bin6_3.reset_index(inplace=True, drop=True)\n",
    "\n",
    "print('reset_index 완료')\n",
    "print('input data shape')\n",
    "bin6_3.head()"
   ]
  },
  {
   "cell_type": "code",
   "execution_count": 2,
   "metadata": {},
   "outputs": [
    {
     "name": "stdout",
     "output_type": "stream",
     "text": [
      "256\n",
      "0    33215560\n",
      "1       35197\n",
      "Name: label, dtype: int64\n"
     ]
    }
   ],
   "source": [
    "# (2-1) 데이터체크 1 - hex(16진수)가 256 label을 가져야 dummies 변환 가능 \n",
    "# 16진수 256개 종류가 있어서 pd.get_dummies 사용 가능.\n",
    "print(len(bin6_3['bin'].unique()))\n",
    "\n",
    "# (2-2) 데이터 체크 2 - 1, 0 비율 ==> 1이 함수의 갯수를 뜻함\n",
    "# 정답 데이터 1, 0 비율 확인  ==> 1이 함수의 갯수를 뜻함\n",
    "print(bin6_3['label'].value_counts())"
   ]
  },
  {
   "cell_type": "markdown",
   "metadata": {},
   "source": [
    "## (3) N Byte씩 자르기"
   ]
  },
  {
   "cell_type": "code",
   "execution_count": 3,
   "metadata": {},
   "outputs": [
    {
     "name": "stdout",
     "output_type": "stream",
     "text": [
      "1126304\n",
      "나머지 0\n",
      "최종 길이 1126304\n",
      "bin6_3 1126304\n"
     ]
    }
   ],
   "source": [
    "idx_bin = bin6_3[bin6_3['label']==1].index  # 407, 474 ...\n",
    "ls_bin = list(idx_bin)\n",
    "\n",
    "# 최종 뽑을 행에 대한 index\n",
    "ls_idx_bin = []\n",
    "\n",
    "# n byte 자르기 방식\n",
    "left_idx, right_idx = 0, 32 # 3개씩\n",
    "\n",
    "# n byte 자르기\n",
    "for k in range(left_idx, right_idx):\n",
    "    ls_idx_bin.extend(list(idx_bin + k)) # index 형이라서 가능\n",
    "\n",
    "#ls_idx = list(set(ls_idx)) \n",
    "ls_idx_bin.sort() # 인덱스 정렬\n",
    "\n",
    "# 1차 index 해당범위 초과한 것들 없애기\n",
    "ls_idx_bin = list(filter(lambda x: x<len(bin6_3), ls_idx_bin))\n",
    "print(len(ls_idx_bin))\n",
    "\n",
    "# 2차 남은 index들 중 right_idx 나눈 나머지 없애기\n",
    "sub_bin = len(ls_idx_bin)%(right_idx)\n",
    "print('나머지', sub_bin)\n",
    "\n",
    "ls_idx_bin = ls_idx_bin[:len(ls_idx_bin)-sub_bin]\n",
    "print('최종 길이', len(ls_idx_bin))\n",
    "\n",
    "print('bin6_3', len(ls_idx_bin))\n",
    "\n",
    "# loc 로 수정필요\n",
    "bin6_3_Ngram = bin6_3.loc[ls_idx_bin,:].copy()"
   ]
  },
  {
   "cell_type": "markdown",
   "metadata": {},
   "source": [
    "## (4) false data 만들기"
   ]
  },
  {
   "cell_type": "code",
   "execution_count": 4,
   "metadata": {},
   "outputs": [
    {
     "name": "stdout",
     "output_type": "stream",
     "text": [
      "35197.0\n",
      "0 30484859\n",
      "1000 22452495\n",
      "2000 18242423\n",
      "3000 28817886\n",
      "4000 19303399\n",
      "5000 15941014\n",
      "6000 11215150\n",
      "7000 29358344\n",
      "8000 29329142\n",
      "9000 19743585\n",
      "10000 25289147\n",
      "11000 15922786\n",
      "12000 13207087\n",
      "13000 13694291\n",
      "14000 28152807\n",
      "15000 32189883\n",
      "16000 13345159\n",
      "17000 1867256\n",
      "18000 14174804\n",
      "19000 10910412\n",
      "20000 27889012\n",
      "21000 31630091\n",
      "22000 33139302\n",
      "23000 2752341\n",
      "24000 13994215\n",
      "25000 6745860\n",
      "26000 31778620\n",
      "27000 32781413\n",
      "28000 26892702\n",
      "29000 13566142\n",
      "30000 8432230\n",
      "31000 15314223\n",
      "32000 11510002\n",
      "33000 6071716\n",
      "34000 6552517\n",
      "35000 6941725\n",
      "완료\n",
      "35197\n"
     ]
    }
   ],
   "source": [
    "# false data 만들기 - False 데이터 랜덤 생성\n",
    "\n",
    "# 목표치\n",
    "goal_bin = len(bin6_3_Ngram)/right_idx\n",
    "count_bin = 0\n",
    "\n",
    "print(goal_bin)\n",
    "\n",
    "# 최종 데이터 Frame\n",
    "d_bin = pd.DataFrame(columns = bin6_3.columns)\n",
    "\n",
    "binutils_df = []\n",
    "# goal 에 도달할 때까지\n",
    "while True:\n",
    "    if (count_bin == goal_bin):\n",
    "            break\n",
    "    # 진행상황 살펴보기 위함\n",
    "            \n",
    "    # 랜덤 N 바이트씩 뽑음\n",
    "    # random index\n",
    "    random_idx_bin = np.random.randint(len(bin6_3)-right_idx)\n",
    "\n",
    "    if count_bin % 1000==0:\n",
    "        print(count_bin, end=' ')\n",
    "        print(random_idx_bin)\n",
    "\n",
    "    df_bin = bin6_3[random_idx_bin : random_idx_bin + right_idx]\n",
    "    \n",
    "    # 뽑은 index의 N 바이트 중에 1이 없는 경우만\n",
    "    if 1 not in df_bin['label'] and count_bin < goal_bin:\n",
    "        binutils_df.append(df_bin)\n",
    "        count_bin+=1\n",
    "\n",
    "print('완료')\n",
    "print(len(binutils_df))"
   ]
  },
  {
   "cell_type": "code",
   "execution_count": 5,
   "metadata": {},
   "outputs": [
    {
     "name": "stdout",
     "output_type": "stream",
     "text": [
      "35197\n",
      "35197\n"
     ]
    }
   ],
   "source": [
    "# True data와 False Data 같은지 체크\n",
    "print(len(binutils_df))\n",
    "print(bin6_3['label'].value_counts()[1])"
   ]
  },
  {
   "cell_type": "markdown",
   "metadata": {},
   "source": [
    "## (5) False Data + True Data 합치기"
   ]
  },
  {
   "cell_type": "code",
   "execution_count": 6,
   "metadata": {},
   "outputs": [
    {
     "data": {
      "text/plain": [
       "(2252608, 2)"
      ]
     },
     "execution_count": 6,
     "metadata": {},
     "output_type": "execute_result"
    }
   ],
   "source": [
    "f_data = pd.concat(binutils_df)\n",
    "final = pd.concat([f_data, bin6_3_Ngram])\n",
    "final.shape"
   ]
  },
  {
   "cell_type": "markdown",
   "metadata": {},
   "source": [
    "## (6) one hot encoding"
   ]
  },
  {
   "cell_type": "code",
   "execution_count": 7,
   "metadata": {},
   "outputs": [
    {
     "name": "stdout",
     "output_type": "stream",
     "text": [
      "원핫인코딩완료\n",
      "(2252608, 257)\n"
     ]
    }
   ],
   "source": [
    "# 훈련데이터 (gcc 최적화버전 0, 1, 2, 3 one hot encoding)\n",
    "bc6_3_onehot_Ngram = pd.get_dummies(final['bin'])\n",
    "bc6_3_onehot_Ngram = pd.concat([final['label'], bc6_3_onehot_Ngram], axis=1)\n",
    "\n",
    "print('원핫인코딩완료')\n",
    "print(bc6_3_onehot_Ngram.shape)"
   ]
  },
  {
   "cell_type": "code",
   "execution_count": 8,
   "metadata": {},
   "outputs": [
    {
     "name": "stdout",
     "output_type": "stream",
     "text": [
      "(2252608, 256) (2252608, 256)\n",
      "(70394, 32, 256) (70394, 32, 1)\n"
     ]
    }
   ],
   "source": [
    "# 훈련 데이터, 훈련 라벨\n",
    "x_bc6_3 = bc6_3_onehot_Ngram.iloc[:,1:].to_numpy()\n",
    "y_bc6_3 = bc6_3_onehot_Ngram['label'].to_numpy()\n",
    "print(x_bc6_3.shape, x_bc6_3.shape)\n",
    "\n",
    "x_bc6_3 = x_bc6_3.reshape(-1, right_idx, x_bc6_3.shape[1])\n",
    "y_bc6_3 = y_bc6_3.reshape(-1, right_idx, 1)\n",
    "\n",
    "print(x_bc6_3.shape, y_bc6_3.shape)"
   ]
  },
  {
   "cell_type": "code",
   "execution_count": 9,
   "metadata": {},
   "outputs": [
    {
     "name": "stdout",
     "output_type": "stream",
     "text": [
      "(70394, 32, 256) (70394, 32, 1)\n"
     ]
    }
   ],
   "source": [
    "# numpy 행, 열 섞기\n",
    "p = np.random.permutation(x_bc6_3.shape[0])\n",
    "\n",
    "x_bc6_3 = x_bc6_3[p]\n",
    "y_bc6_3 = y_bc6_3[p]\n",
    "\n",
    "print(x_bc6_3.shape, y_bc6_3.shape)"
   ]
  },
  {
   "cell_type": "markdown",
   "metadata": {},
   "source": [
    "## (7) 모델"
   ]
  },
  {
   "cell_type": "code",
   "execution_count": 10,
   "metadata": {},
   "outputs": [],
   "source": [
    "# (10) 양방향 LSTM 모델링 작업\n",
    "from tensorflow.keras import layers, models\n",
    "#from tf.keras.models import Model, Sequential\n",
    "#from tf.keras.layers import SimpleRNN, Input, Dense, LSTM\n",
    "#from tf.keras.layers import Bidirectional, TimeDistributed\n",
    "\n",
    "# 학습\n",
    "from tensorflow.keras.callbacks import EarlyStopping\n",
    "early_stopping = EarlyStopping(patience = 3) # 조기종료 콜백함수 정의\n",
    "\n",
    "xInput = layers.Input(batch_shape=(None,right_idx, 256)) \n",
    "xBiLstm = layers.Bidirectional(layers.LSTM(48, return_sequences=True, stateful=False), merge_mode = 'concat')(xInput)\n",
    "xOutput = layers.TimeDistributed(layers.Dense(1, activation ='sigmoid'))(xBiLstm) # 각 스텝에서 cost가 전송되고, 오류가 다음 step으로 전송됨."
   ]
  },
  {
   "cell_type": "markdown",
   "metadata": {},
   "source": [
    "## (8) 학습 - 10 KFold"
   ]
  },
  {
   "cell_type": "code",
   "execution_count": 11,
   "metadata": {
    "scrolled": false
   },
   "outputs": [
    {
     "name": "stdout",
     "output_type": "stream",
     "text": [
      "Model: \"model\"\n",
      "_________________________________________________________________\n",
      "Layer (type)                 Output Shape              Param #   \n",
      "=================================================================\n",
      "input_1 (InputLayer)         [(None, 32, 256)]         0         \n",
      "_________________________________________________________________\n",
      "bidirectional (Bidirectional (None, 32, 96)            117120    \n",
      "_________________________________________________________________\n",
      "time_distributed (TimeDistri (None, 32, 1)             97        \n",
      "=================================================================\n",
      "Total params: 117,217\n",
      "Trainable params: 117,217\n",
      "Non-trainable params: 0\n",
      "_________________________________________________________________\n",
      "======Training stage======\n",
      "Train on 63354 samples\n",
      "Epoch 1/10\n",
      "62848/63354 [============================>.] - ETA: 0s - loss: 0.0340 - accuracy: 0.9912WARNING:tensorflow:Early stopping conditioned on metric `val_loss` which is not available. Available metrics are: loss,accuracy\n",
      "63354/63354 [==============================] - 29s 461us/sample - loss: 0.0338 - accuracy: 0.9912\n",
      "Epoch 2/10\n",
      "62720/63354 [============================>.] - ETA: 0s - loss: 0.0030 - accuracy: 0.9993WARNING:tensorflow:Early stopping conditioned on metric `val_loss` which is not available. Available metrics are: loss,accuracy\n",
      "63354/63354 [==============================] - 4s 62us/sample - loss: 0.0029 - accuracy: 0.9993\n",
      "Epoch 3/10\n",
      "62592/63354 [============================>.] - ETA: 0s - loss: 0.0011 - accuracy: 0.9997WARNING:tensorflow:Early stopping conditioned on metric `val_loss` which is not available. Available metrics are: loss,accuracy\n",
      "63354/63354 [==============================] - 4s 61us/sample - loss: 0.0011 - accuracy: 0.9997\n",
      "Epoch 4/10\n",
      "62720/63354 [============================>.] - ETA: 0s - loss: 7.4390e-04 - accuracy: 0.9998WARNING:tensorflow:Early stopping conditioned on metric `val_loss` which is not available. Available metrics are: loss,accuracy\n",
      "63354/63354 [==============================] - 4s 62us/sample - loss: 7.4306e-04 - accuracy: 0.9998\n",
      "Epoch 5/10\n",
      "62464/63354 [============================>.] - ETA: 0s - loss: 5.7017e-04 - accuracy: 0.9998WARNING:tensorflow:Early stopping conditioned on metric `val_loss` which is not available. Available metrics are: loss,accuracy\n",
      "63354/63354 [==============================] - 4s 62us/sample - loss: 5.6751e-04 - accuracy: 0.9998\n",
      "Epoch 6/10\n",
      "62720/63354 [============================>.] - ETA: 0s - loss: 4.7846e-04 - accuracy: 0.9999WARNING:tensorflow:Early stopping conditioned on metric `val_loss` which is not available. Available metrics are: loss,accuracy\n",
      "63354/63354 [==============================] - 4s 62us/sample - loss: 4.7618e-04 - accuracy: 0.9999\n",
      "Epoch 7/10\n",
      "62464/63354 [============================>.] - ETA: 0s - loss: 4.1006e-04 - accuracy: 0.9999WARNING:tensorflow:Early stopping conditioned on metric `val_loss` which is not available. Available metrics are: loss,accuracy\n",
      "63354/63354 [==============================] - 4s 63us/sample - loss: 4.0848e-04 - accuracy: 0.9999\n",
      "Epoch 8/10\n",
      "62720/63354 [============================>.] - ETA: 0s - loss: 3.4216e-04 - accuracy: 0.9999WARNING:tensorflow:Early stopping conditioned on metric `val_loss` which is not available. Available metrics are: loss,accuracy\n",
      "63354/63354 [==============================] - 4s 61us/sample - loss: 3.3954e-04 - accuracy: 0.9999\n",
      "Epoch 9/10\n",
      "62592/63354 [============================>.] - ETA: 0s - loss: 3.0420e-04 - accuracy: 0.9999WARNING:tensorflow:Early stopping conditioned on metric `val_loss` which is not available. Available metrics are: loss,accuracy\n",
      "63354/63354 [==============================] - 4s 62us/sample - loss: 3.0619e-04 - accuracy: 0.9999\n",
      "Epoch 10/10\n",
      "62592/63354 [============================>.] - ETA: 0s - loss: 2.5834e-04 - accuracy: 0.9999WARNING:tensorflow:Early stopping conditioned on metric `val_loss` which is not available. Available metrics are: loss,accuracy\n",
      "63354/63354 [==============================] - 4s 62us/sample - loss: 2.6158e-04 - accuracy: 0.9999\n"
     ]
    },
    {
     "data": {
      "text/plain": [
       "<tensorflow.python.keras.callbacks.History at 0x24ae2818a08>"
      ]
     },
     "execution_count": 11,
     "metadata": {},
     "output_type": "execute_result"
    },
    {
     "name": "stdout",
     "output_type": "stream",
     "text": [
      "accuracy_score 0.9998757102272727\n",
      "recall_score 0.9969765684051398\n",
      "precision_score 0.9959728165114523\n",
      "f1_score 0.996474439687736\n",
      "Model: \"model_1\"\n",
      "_________________________________________________________________\n",
      "Layer (type)                 Output Shape              Param #   \n",
      "=================================================================\n",
      "input_1 (InputLayer)         [(None, 32, 256)]         0         \n",
      "_________________________________________________________________\n",
      "bidirectional (Bidirectional (None, 32, 96)            117120    \n",
      "_________________________________________________________________\n",
      "time_distributed (TimeDistri (None, 32, 1)             97        \n",
      "=================================================================\n",
      "Total params: 117,217\n",
      "Trainable params: 117,217\n",
      "Non-trainable params: 0\n",
      "_________________________________________________________________\n",
      "======Training stage======\n",
      "Train on 63354 samples\n",
      "Epoch 1/10\n",
      "62464/63354 [============================>.] - ETA: 0s - loss: 2.7931e-04 - accuracy: 0.9999WARNING:tensorflow:Early stopping conditioned on metric `val_loss` which is not available. Available metrics are: loss,accuracy\n",
      "63354/63354 [==============================] - 11s 167us/sample - loss: 2.8102e-04 - accuracy: 0.9999\n",
      "Epoch 2/10\n",
      "62848/63354 [============================>.] - ETA: 0s - loss: 2.3313e-04 - accuracy: 0.9999WARNING:tensorflow:Early stopping conditioned on metric `val_loss` which is not available. Available metrics are: loss,accuracy\n",
      "63354/63354 [==============================] - 4s 63us/sample - loss: 2.3162e-04 - accuracy: 0.9999\n",
      "Epoch 3/10\n",
      "62976/63354 [============================>.] - ETA: 0s - loss: 1.8310e-04 - accuracy: 1.0000WARNING:tensorflow:Early stopping conditioned on metric `val_loss` which is not available. Available metrics are: loss,accuracy\n",
      "63354/63354 [==============================] - 4s 64us/sample - loss: 1.8219e-04 - accuracy: 1.0000\n",
      "Epoch 4/10\n",
      "62976/63354 [============================>.] - ETA: 0s - loss: 1.5448e-04 - accuracy: 1.0000WARNING:tensorflow:Early stopping conditioned on metric `val_loss` which is not available. Available metrics are: loss,accuracy\n",
      "63354/63354 [==============================] - 4s 63us/sample - loss: 1.5400e-04 - accuracy: 1.0000\n",
      "Epoch 5/10\n",
      "62464/63354 [============================>.] - ETA: 0s - loss: 1.3742e-04 - accuracy: 1.0000WARNING:tensorflow:Early stopping conditioned on metric `val_loss` which is not available. Available metrics are: loss,accuracy\n",
      "63354/63354 [==============================] - 4s 63us/sample - loss: 1.3696e-04 - accuracy: 1.0000\n",
      "Epoch 6/10\n",
      "63104/63354 [============================>.] - ETA: 0s - loss: 1.1588e-04 - accuracy: 1.0000WARNING:tensorflow:Early stopping conditioned on metric `val_loss` which is not available. Available metrics are: loss,accuracy\n",
      "63354/63354 [==============================] - 4s 63us/sample - loss: 1.1613e-04 - accuracy: 1.0000\n",
      "Epoch 7/10\n",
      "62464/63354 [============================>.] - ETA: 0s - loss: 9.8132e-05 - accuracy: 1.0000WARNING:tensorflow:Early stopping conditioned on metric `val_loss` which is not available. Available metrics are: loss,accuracy\n",
      "63354/63354 [==============================] - 4s 63us/sample - loss: 9.7165e-05 - accuracy: 1.0000\n",
      "Epoch 8/10\n",
      "63104/63354 [============================>.] - ETA: 0s - loss: 8.2651e-05 - accuracy: 1.0000WARNING:tensorflow:Early stopping conditioned on metric `val_loss` which is not available. Available metrics are: loss,accuracy\n",
      "63354/63354 [==============================] - 4s 63us/sample - loss: 8.2448e-05 - accuracy: 1.0000\n",
      "Epoch 9/10\n",
      "63232/63354 [============================>.] - ETA: 0s - loss: 7.5171e-05 - accuracy: 1.0000WARNING:tensorflow:Early stopping conditioned on metric `val_loss` which is not available. Available metrics are: loss,accuracy\n",
      "63354/63354 [==============================] - 4s 63us/sample - loss: 7.5033e-05 - accuracy: 1.0000\n",
      "Epoch 10/10\n",
      "62592/63354 [============================>.] - ETA: 0s - loss: 6.2960e-05 - accuracy: 1.0000WARNING:tensorflow:Early stopping conditioned on metric `val_loss` which is not available. Available metrics are: loss,accuracy\n",
      "63354/63354 [==============================] - 4s 62us/sample - loss: 6.2315e-05 - accuracy: 1.0000\n"
     ]
    },
    {
     "data": {
      "text/plain": [
       "<tensorflow.python.keras.callbacks.History at 0x24af2bed708>"
      ]
     },
     "execution_count": 11,
     "metadata": {},
     "output_type": "execute_result"
    },
    {
     "name": "stdout",
     "output_type": "stream",
     "text": [
      "accuracy_score 0.999951171875\n",
      "recall_score 0.9984591679506933\n",
      "precision_score 0.9987156434626252\n",
      "f1_score 0.9985873892384743\n",
      "Model: \"model_2\"\n",
      "_________________________________________________________________\n",
      "Layer (type)                 Output Shape              Param #   \n",
      "=================================================================\n",
      "input_1 (InputLayer)         [(None, 32, 256)]         0         \n",
      "_________________________________________________________________\n",
      "bidirectional (Bidirectional (None, 32, 96)            117120    \n",
      "_________________________________________________________________\n",
      "time_distributed (TimeDistri (None, 32, 1)             97        \n",
      "=================================================================\n",
      "Total params: 117,217\n",
      "Trainable params: 117,217\n",
      "Non-trainable params: 0\n",
      "_________________________________________________________________\n",
      "======Training stage======\n",
      "Train on 63354 samples\n",
      "Epoch 1/10\n",
      "62592/63354 [============================>.] - ETA: 0s - loss: 7.2323e-05 - accuracy: 1.0000WARNING:tensorflow:Early stopping conditioned on metric `val_loss` which is not available. Available metrics are: loss,accuracy\n",
      "63354/63354 [==============================] - 10s 158us/sample - loss: 7.1944e-05 - accuracy: 1.0000\n",
      "Epoch 2/10\n",
      "62592/63354 [============================>.] - ETA: 0s - loss: 4.8813e-05 - accuracy: 1.0000WARNING:tensorflow:Early stopping conditioned on metric `val_loss` which is not available. Available metrics are: loss,accuracy\n",
      "63354/63354 [==============================] - 4s 64us/sample - loss: 4.8531e-05 - accuracy: 1.0000\n",
      "Epoch 3/10\n",
      "63232/63354 [============================>.] - ETA: 0s - loss: 4.5744e-05 - accuracy: 1.0000WARNING:tensorflow:Early stopping conditioned on metric `val_loss` which is not available. Available metrics are: loss,accuracy\n",
      "63354/63354 [==============================] - 4s 64us/sample - loss: 4.5657e-05 - accuracy: 1.0000\n",
      "Epoch 4/10\n",
      "62592/63354 [============================>.] - ETA: 0s - loss: 3.3921e-05 - accuracy: 1.0000WARNING:tensorflow:Early stopping conditioned on metric `val_loss` which is not available. Available metrics are: loss,accuracy\n",
      "63354/63354 [==============================] - 4s 63us/sample - loss: 3.3846e-05 - accuracy: 1.0000\n",
      "Epoch 5/10\n",
      "63104/63354 [============================>.] - ETA: 0s - loss: 2.8976e-05 - accuracy: 1.0000WARNING:tensorflow:Early stopping conditioned on metric `val_loss` which is not available. Available metrics are: loss,accuracy\n",
      "63354/63354 [==============================] - 4s 63us/sample - loss: 2.8869e-05 - accuracy: 1.0000\n",
      "Epoch 6/10\n",
      "62720/63354 [============================>.] - ETA: 0s - loss: 1.8992e-05 - accuracy: 1.0000WARNING:tensorflow:Early stopping conditioned on metric `val_loss` which is not available. Available metrics are: loss,accuracy\n",
      "63354/63354 [==============================] - 4s 64us/sample - loss: 1.8887e-05 - accuracy: 1.0000\n",
      "Epoch 7/10\n",
      "63232/63354 [============================>.] - ETA: 0s - loss: 1.6839e-05 - accuracy: 1.0000WARNING:tensorflow:Early stopping conditioned on metric `val_loss` which is not available. Available metrics are: loss,accuracy\n",
      "63354/63354 [==============================] - 4s 63us/sample - loss: 1.6820e-05 - accuracy: 1.0000\n",
      "Epoch 8/10\n",
      "63104/63354 [============================>.] - ETA: 0s - loss: 1.1157e-05 - accuracy: 1.0000WARNING:tensorflow:Early stopping conditioned on metric `val_loss` which is not available. Available metrics are: loss,accuracy\n",
      "63354/63354 [==============================] - 4s 63us/sample - loss: 1.1114e-05 - accuracy: 1.0000\n",
      "Epoch 9/10\n",
      "63104/63354 [============================>.] - ETA: 0s - loss: 1.8015e-05 - accuracy: 1.0000WARNING:tensorflow:Early stopping conditioned on metric `val_loss` which is not available. Available metrics are: loss,accuracy\n",
      "63354/63354 [==============================] - 4s 63us/sample - loss: 1.7951e-05 - accuracy: 1.0000\n",
      "Epoch 10/10\n",
      "62976/63354 [============================>.] - ETA: 0s - loss: 8.7622e-06 - accuracy: 1.0000WARNING:tensorflow:Early stopping conditioned on metric `val_loss` which is not available. Available metrics are: loss,accuracy\n",
      "63354/63354 [==============================] - 4s 63us/sample - loss: 8.7187e-06 - accuracy: 1.0000\n"
     ]
    },
    {
     "data": {
      "text/plain": [
       "<tensorflow.python.keras.callbacks.History at 0x24ae1c0c5c8>"
      ]
     },
     "execution_count": 11,
     "metadata": {},
     "output_type": "execute_result"
    },
    {
     "name": "stdout",
     "output_type": "stream",
     "text": [
      "accuracy_score 0.9999778053977273\n",
      "recall_score 0.9992387718853083\n",
      "precision_score 0.999492385786802\n",
      "f1_score 0.9993655627458444\n",
      "Model: \"model_3\"\n",
      "_________________________________________________________________\n",
      "Layer (type)                 Output Shape              Param #   \n",
      "=================================================================\n",
      "input_1 (InputLayer)         [(None, 32, 256)]         0         \n",
      "_________________________________________________________________\n",
      "bidirectional (Bidirectional (None, 32, 96)            117120    \n",
      "_________________________________________________________________\n",
      "time_distributed (TimeDistri (None, 32, 1)             97        \n",
      "=================================================================\n",
      "Total params: 117,217\n",
      "Trainable params: 117,217\n",
      "Non-trainable params: 0\n",
      "_________________________________________________________________\n",
      "======Training stage======\n",
      "Train on 63354 samples\n",
      "Epoch 1/10\n",
      "62720/63354 [============================>.] - ETA: 0s - loss: 1.5494e-05 - accuracy: 1.0000WARNING:tensorflow:Early stopping conditioned on metric `val_loss` which is not available. Available metrics are: loss,accuracy\n",
      "63354/63354 [==============================] - 11s 167us/sample - loss: 1.5401e-05 - accuracy: 1.0000\n",
      "Epoch 2/10\n",
      "63232/63354 [============================>.] - ETA: 0s - loss: 1.7951e-05 - accuracy: 1.0000WARNING:tensorflow:Early stopping conditioned on metric `val_loss` which is not available. Available metrics are: loss,accuracy\n",
      "63354/63354 [==============================] - 4s 62us/sample - loss: 1.7917e-05 - accuracy: 1.0000\n",
      "Epoch 3/10\n",
      "62464/63354 [============================>.] - ETA: 0s - loss: 1.2837e-05 - accuracy: 1.0000WARNING:tensorflow:Early stopping conditioned on metric `val_loss` which is not available. Available metrics are: loss,accuracy\n",
      "63354/63354 [==============================] - 4s 62us/sample - loss: 1.2685e-05 - accuracy: 1.0000\n",
      "Epoch 4/10\n",
      "63104/63354 [============================>.] - ETA: 0s - loss: 1.4424e-05 - accuracy: 1.0000WARNING:tensorflow:Early stopping conditioned on metric `val_loss` which is not available. Available metrics are: loss,accuracy\n",
      "63354/63354 [==============================] - 4s 63us/sample - loss: 1.4368e-05 - accuracy: 1.0000\n",
      "Epoch 5/10\n",
      "62592/63354 [============================>.] - ETA: 0s - loss: 5.4805e-06 - accuracy: 1.0000WARNING:tensorflow:Early stopping conditioned on metric `val_loss` which is not available. Available metrics are: loss,accuracy\n",
      "63354/63354 [==============================] - 4s 63us/sample - loss: 5.4221e-06 - accuracy: 1.0000\n",
      "Epoch 6/10\n",
      "62848/63354 [============================>.] - ETA: 0s - loss: 1.0399e-05 - accuracy: 1.0000WARNING:tensorflow:Early stopping conditioned on metric `val_loss` which is not available. Available metrics are: loss,accuracy\n",
      "63354/63354 [==============================] - 4s 63us/sample - loss: 1.0329e-05 - accuracy: 1.0000\n",
      "Epoch 7/10\n",
      "62720/63354 [============================>.] - ETA: 0s - loss: 5.4883e-06 - accuracy: 1.0000WARNING:tensorflow:Early stopping conditioned on metric `val_loss` which is not available. Available metrics are: loss,accuracy\n",
      "63354/63354 [==============================] - 4s 63us/sample - loss: 5.4434e-06 - accuracy: 1.0000\n",
      "Epoch 8/10\n",
      "63232/63354 [============================>.] - ETA: 0s - loss: 2.9612e-06 - accuracy: 1.0000WARNING:tensorflow:Early stopping conditioned on metric `val_loss` which is not available. Available metrics are: loss,accuracy\n",
      "63354/63354 [==============================] - 4s 63us/sample - loss: 2.9559e-06 - accuracy: 1.0000\n",
      "Epoch 9/10\n",
      "62464/63354 [============================>.] - ETA: 0s - loss: 3.3052e-06 - accuracy: 1.0000WARNING:tensorflow:Early stopping conditioned on metric `val_loss` which is not available. Available metrics are: loss,accuracy\n",
      "63354/63354 [==============================] - 4s 63us/sample - loss: 3.2601e-06 - accuracy: 1.0000\n",
      "Epoch 10/10\n",
      "62976/63354 [============================>.] - ETA: 0s - loss: 9.0611e-06 - accuracy: 1.0000WARNING:tensorflow:Early stopping conditioned on metric `val_loss` which is not available. Available metrics are: loss,accuracy\n",
      "63354/63354 [==============================] - 4s 63us/sample - loss: 9.0075e-06 - accuracy: 1.0000\n"
     ]
    },
    {
     "data": {
      "text/plain": [
       "<tensorflow.python.keras.callbacks.History at 0x24ae1de3388>"
      ]
     },
     "execution_count": 11,
     "metadata": {},
     "output_type": "execute_result"
    },
    {
     "name": "stdout",
     "output_type": "stream",
     "text": [
      "accuracy_score 0.9999911221590909\n",
      "recall_score 1.0\n",
      "precision_score 0.999475890985325\n",
      "f1_score 0.999737876802097\n",
      "Model: \"model_4\"\n",
      "_________________________________________________________________\n",
      "Layer (type)                 Output Shape              Param #   \n",
      "=================================================================\n",
      "input_1 (InputLayer)         [(None, 32, 256)]         0         \n",
      "_________________________________________________________________\n",
      "bidirectional (Bidirectional (None, 32, 96)            117120    \n",
      "_________________________________________________________________\n",
      "time_distributed (TimeDistri (None, 32, 1)             97        \n",
      "=================================================================\n",
      "Total params: 117,217\n",
      "Trainable params: 117,217\n",
      "Non-trainable params: 0\n",
      "_________________________________________________________________\n",
      "======Training stage======\n",
      "Train on 63355 samples\n",
      "Epoch 1/10\n",
      "62848/63355 [============================>.] - ETA: 0s - loss: 1.0585e-05 - accuracy: 1.0000WARNING:tensorflow:Early stopping conditioned on metric `val_loss` which is not available. Available metrics are: loss,accuracy\n",
      "63355/63355 [==============================] - 10s 159us/sample - loss: 1.0501e-05 - accuracy: 1.0000\n",
      "Epoch 2/10\n",
      "62720/63355 [============================>.] - ETA: 0s - loss: 1.0253e-05 - accuracy: 1.0000WARNING:tensorflow:Early stopping conditioned on metric `val_loss` which is not available. Available metrics are: loss,accuracy\n",
      "63355/63355 [==============================] - 4s 63us/sample - loss: 1.0156e-05 - accuracy: 1.0000\n",
      "Epoch 3/10\n",
      "62848/63355 [============================>.] - ETA: 0s - loss: 1.0283e-05 - accuracy: 1.0000WARNING:tensorflow:Early stopping conditioned on metric `val_loss` which is not available. Available metrics are: loss,accuracy\n",
      "63355/63355 [==============================] - 4s 64us/sample - loss: 1.0355e-05 - accuracy: 1.0000\n",
      "Epoch 4/10\n",
      "62720/63355 [============================>.] - ETA: 0s - loss: 2.1234e-06 - accuracy: 1.0000WARNING:tensorflow:Early stopping conditioned on metric `val_loss` which is not available. Available metrics are: loss,accuracy\n",
      "63355/63355 [==============================] - 4s 64us/sample - loss: 2.1024e-06 - accuracy: 1.0000\n",
      "Epoch 5/10\n",
      "62592/63355 [============================>.] - ETA: 0s - loss: 4.6043e-06 - accuracy: 1.0000WARNING:tensorflow:Early stopping conditioned on metric `val_loss` which is not available. Available metrics are: loss,accuracy\n",
      "63355/63355 [==============================] - 4s 64us/sample - loss: 4.5499e-06 - accuracy: 1.0000\n",
      "Epoch 6/10\n",
      "62976/63355 [============================>.] - ETA: 0s - loss: 2.2003e-06 - accuracy: 1.0000WARNING:tensorflow:Early stopping conditioned on metric `val_loss` which is not available. Available metrics are: loss,accuracy\n",
      "63355/63355 [==============================] - 4s 64us/sample - loss: 2.1875e-06 - accuracy: 1.0000\n",
      "Epoch 7/10\n",
      "62592/63355 [============================>.] - ETA: 0s - loss: 3.1551e-06 - accuracy: 1.0000WARNING:tensorflow:Early stopping conditioned on metric `val_loss` which is not available. Available metrics are: loss,accuracy\n",
      "63355/63355 [==============================] - 4s 64us/sample - loss: 3.1412e-06 - accuracy: 1.0000\n",
      "Epoch 8/10\n",
      "62848/63355 [============================>.] - ETA: 0s - loss: 6.5316e-06 - accuracy: 1.0000WARNING:tensorflow:Early stopping conditioned on metric `val_loss` which is not available. Available metrics are: loss,accuracy\n",
      "63355/63355 [==============================] - 4s 64us/sample - loss: 6.4793e-06 - accuracy: 1.0000\n",
      "Epoch 9/10\n",
      "62464/63355 [============================>.] - ETA: 0s - loss: 3.7455e-06 - accuracy: 1.0000WARNING:tensorflow:Early stopping conditioned on metric `val_loss` which is not available. Available metrics are: loss,accuracy\n",
      "63355/63355 [==============================] - 4s 64us/sample - loss: 3.6933e-06 - accuracy: 1.0000\n",
      "Epoch 10/10\n",
      "62592/63355 [============================>.] - ETA: 0s - loss: 1.8738e-06 - accuracy: 1.0000WARNING:tensorflow:Early stopping conditioned on metric `val_loss` which is not available. Available metrics are: loss,accuracy\n",
      "63355/63355 [==============================] - 4s 64us/sample - loss: 1.8515e-06 - accuracy: 1.0000\n"
     ]
    },
    {
     "data": {
      "text/plain": [
       "<tensorflow.python.keras.callbacks.History at 0x24af8150a88>"
      ]
     },
     "execution_count": 11,
     "metadata": {},
     "output_type": "execute_result"
    },
    {
     "name": "stdout",
     "output_type": "stream",
     "text": [
      "accuracy_score 1.0\n",
      "recall_score 1.0\n",
      "precision_score 1.0\n",
      "f1_score 1.0\n",
      "Model: \"model_5\"\n",
      "_________________________________________________________________\n",
      "Layer (type)                 Output Shape              Param #   \n",
      "=================================================================\n",
      "input_1 (InputLayer)         [(None, 32, 256)]         0         \n",
      "_________________________________________________________________\n",
      "bidirectional (Bidirectional (None, 32, 96)            117120    \n",
      "_________________________________________________________________\n",
      "time_distributed (TimeDistri (None, 32, 1)             97        \n",
      "=================================================================\n",
      "Total params: 117,217\n",
      "Trainable params: 117,217\n",
      "Non-trainable params: 0\n",
      "_________________________________________________________________\n",
      "======Training stage======\n",
      "Train on 63355 samples\n",
      "Epoch 1/10\n",
      "63232/63355 [============================>.] - ETA: 0s - loss: 1.8658e-06 - accuracy: 1.0000WARNING:tensorflow:Early stopping conditioned on metric `val_loss` which is not available. Available metrics are: loss,accuracy\n",
      "63355/63355 [==============================] - 11s 180us/sample - loss: 1.8622e-06 - accuracy: 1.0000\n",
      "Epoch 2/10\n",
      "62848/63355 [============================>.] - ETA: 0s - loss: 7.1658e-06 - accuracy: 1.0000WARNING:tensorflow:Early stopping conditioned on metric `val_loss` which is not available. Available metrics are: loss,accuracy\n",
      "63355/63355 [==============================] - 4s 64us/sample - loss: 7.1106e-06 - accuracy: 1.0000\n",
      "Epoch 3/10\n",
      "62848/63355 [============================>.] - ETA: 0s - loss: 3.9124e-06 - accuracy: 1.0000WARNING:tensorflow:Early stopping conditioned on metric `val_loss` which is not available. Available metrics are: loss,accuracy\n",
      "63355/63355 [==============================] - 4s 64us/sample - loss: 3.8813e-06 - accuracy: 1.0000\n",
      "Epoch 4/10\n",
      "63104/63355 [============================>.] - ETA: 0s - loss: 2.2948e-06 - accuracy: 1.0000WARNING:tensorflow:Early stopping conditioned on metric `val_loss` which is not available. Available metrics are: loss,accuracy\n",
      "63355/63355 [==============================] - 4s 64us/sample - loss: 2.2859e-06 - accuracy: 1.0000\n",
      "Epoch 5/10\n",
      "62848/63355 [============================>.] - ETA: 0s - loss: 3.6448e-07 - accuracy: 1.0000WARNING:tensorflow:Early stopping conditioned on metric `val_loss` which is not available. Available metrics are: loss,accuracy\n",
      "63355/63355 [==============================] - 4s 63us/sample - loss: 3.6159e-07 - accuracy: 1.0000\n",
      "Epoch 6/10\n",
      "63232/63355 [============================>.] - ETA: 0s - loss: 2.9090e-08 - accuracy: 1.0000WARNING:tensorflow:Early stopping conditioned on metric `val_loss` which is not available. Available metrics are: loss,accuracy\n",
      "63355/63355 [==============================] - 4s 63us/sample - loss: 2.9050e-08 - accuracy: 1.0000\n",
      "Epoch 7/10\n",
      "63104/63355 [============================>.] - ETA: 0s - loss: 2.4512e-07 - accuracy: 1.0000WARNING:tensorflow:Early stopping conditioned on metric `val_loss` which is not available. Available metrics are: loss,accuracy\n",
      "63355/63355 [==============================] - 4s 67us/sample - loss: 2.5771e-07 - accuracy: 1.0000\n",
      "Epoch 8/10\n",
      "62976/63355 [============================>.] - ETA: 0s - loss: 2.7927e-08 - accuracy: 1.0000WARNING:tensorflow:Early stopping conditioned on metric `val_loss` which is not available. Available metrics are: loss,accuracy\n",
      "63355/63355 [==============================] - 4s 63us/sample - loss: 2.7792e-08 - accuracy: 1.0000\n",
      "Epoch 9/10\n",
      "62976/63355 [============================>.] - ETA: 0s - loss: 1.2073e-08 - accuracy: 1.0000WARNING:tensorflow:Early stopping conditioned on metric `val_loss` which is not available. Available metrics are: loss,accuracy\n",
      "63355/63355 [==============================] - 4s 63us/sample - loss: 1.2095e-08 - accuracy: 1.0000\n",
      "Epoch 10/10\n",
      "62848/63355 [============================>.] - ETA: 0s - loss: 1.2532e-08 - accuracy: 1.0000WARNING:tensorflow:Early stopping conditioned on metric `val_loss` which is not available. Available metrics are: loss,accuracy\n",
      "63355/63355 [==============================] - 4s 63us/sample - loss: 1.2459e-08 - accuracy: 1.0000\n"
     ]
    },
    {
     "data": {
      "text/plain": [
       "<tensorflow.python.keras.callbacks.History at 0x24b03ea4cc8>"
      ]
     },
     "execution_count": 11,
     "metadata": {},
     "output_type": "execute_result"
    },
    {
     "name": "stdout",
     "output_type": "stream",
     "text": [
      "accuracy_score 1.0\n",
      "recall_score 1.0\n",
      "precision_score 1.0\n",
      "f1_score 1.0\n",
      "Model: \"model_6\"\n",
      "_________________________________________________________________\n",
      "Layer (type)                 Output Shape              Param #   \n",
      "=================================================================\n",
      "input_1 (InputLayer)         [(None, 32, 256)]         0         \n",
      "_________________________________________________________________\n",
      "bidirectional (Bidirectional (None, 32, 96)            117120    \n",
      "_________________________________________________________________\n",
      "time_distributed (TimeDistri (None, 32, 1)             97        \n",
      "=================================================================\n",
      "Total params: 117,217\n",
      "Trainable params: 117,217\n",
      "Non-trainable params: 0\n",
      "_________________________________________________________________\n",
      "======Training stage======\n",
      "Train on 63355 samples\n",
      "Epoch 1/10\n",
      "62592/63355 [============================>.] - ETA: 0s - loss: 1.5582e-06 - accuracy: 1.0000WARNING:tensorflow:Early stopping conditioned on metric `val_loss` which is not available. Available metrics are: loss,accuracy\n",
      "63355/63355 [==============================] - 10s 160us/sample - loss: 1.5396e-06 - accuracy: 1.0000\n",
      "Epoch 2/10\n",
      "62976/63355 [============================>.] - ETA: 0s - loss: 2.7577e-08 - accuracy: 1.0000WARNING:tensorflow:Early stopping conditioned on metric `val_loss` which is not available. Available metrics are: loss,accuracy\n",
      "63355/63355 [==============================] - 4s 65us/sample - loss: 2.7456e-08 - accuracy: 1.0000\n",
      "Epoch 3/10\n",
      "63104/63355 [============================>.] - ETA: 0s - loss: 5.4074e-09 - accuracy: 1.0000WARNING:tensorflow:Early stopping conditioned on metric `val_loss` which is not available. Available metrics are: loss,accuracy\n",
      "63355/63355 [==============================] - 4s 63us/sample - loss: 5.3890e-09 - accuracy: 1.0000\n",
      "Epoch 4/10\n",
      "62592/63355 [============================>.] - ETA: 0s - loss: 3.6102e-09 - accuracy: 1.0000WARNING:tensorflow:Early stopping conditioned on metric `val_loss` which is not available. Available metrics are: loss,accuracy\n",
      "63355/63355 [==============================] - 4s 63us/sample - loss: 3.6009e-09 - accuracy: 1.0000\n",
      "Epoch 5/10\n",
      "62464/63355 [============================>.] - ETA: 0s - loss: 2.8409e-09 - accuracy: 1.0000WARNING:tensorflow:Early stopping conditioned on metric `val_loss` which is not available. Available metrics are: loss,accuracy\n",
      "63355/63355 [==============================] - 4s 63us/sample - loss: 2.9090e-09 - accuracy: 1.0000\n",
      "Epoch 6/10\n",
      "62720/63355 [============================>.] - ETA: 0s - loss: 2.5835e-09 - accuracy: 1.0000WARNING:tensorflow:Early stopping conditioned on metric `val_loss` which is not available. Available metrics are: loss,accuracy\n",
      "63355/63355 [==============================] - 4s 66us/sample - loss: 2.5713e-09 - accuracy: 1.0000\n",
      "Epoch 7/10\n",
      "62592/63355 [============================>.] - ETA: 0s - loss: 2.2570e-09 - accuracy: 1.0000WARNING:tensorflow:Early stopping conditioned on metric `val_loss` which is not available. Available metrics are: loss,accuracy\n",
      "63355/63355 [==============================] - 4s 65us/sample - loss: 2.2450e-09 - accuracy: 1.0000\n",
      "Epoch 8/10\n",
      "62720/63355 [============================>.] - ETA: 0s - loss: 2.1152e-09 - accuracy: 1.0000WARNING:tensorflow:Early stopping conditioned on metric `val_loss` which is not available. Available metrics are: loss,accuracy\n",
      "63355/63355 [==============================] - 4s 64us/sample - loss: 2.1259e-09 - accuracy: 1.0000\n",
      "Epoch 9/10\n",
      "62976/63355 [============================>.] - ETA: 0s - loss: 1.9181e-09 - accuracy: 1.0000WARNING:tensorflow:Early stopping conditioned on metric `val_loss` which is not available. Available metrics are: loss,accuracy\n",
      "63355/63355 [==============================] - 4s 64us/sample - loss: 1.9193e-09 - accuracy: 1.0000\n",
      "Epoch 10/10\n",
      "62976/63355 [============================>.] - ETA: 0s - loss: 1.8335e-09 - accuracy: 1.0000WARNING:tensorflow:Early stopping conditioned on metric `val_loss` which is not available. Available metrics are: loss,accuracy\n",
      "63355/63355 [==============================] - 4s 64us/sample - loss: 1.8309e-09 - accuracy: 1.0000\n"
     ]
    },
    {
     "data": {
      "text/plain": [
       "<tensorflow.python.keras.callbacks.History at 0x24af9ac14c8>"
      ]
     },
     "execution_count": 11,
     "metadata": {},
     "output_type": "execute_result"
    },
    {
     "name": "stdout",
     "output_type": "stream",
     "text": [
      "accuracy_score 1.0\n",
      "recall_score 1.0\n",
      "precision_score 1.0\n",
      "f1_score 1.0\n",
      "Model: \"model_7\"\n",
      "_________________________________________________________________\n",
      "Layer (type)                 Output Shape              Param #   \n",
      "=================================================================\n",
      "input_1 (InputLayer)         [(None, 32, 256)]         0         \n",
      "_________________________________________________________________\n",
      "bidirectional (Bidirectional (None, 32, 96)            117120    \n",
      "_________________________________________________________________\n",
      "time_distributed (TimeDistri (None, 32, 1)             97        \n",
      "=================================================================\n",
      "Total params: 117,217\n",
      "Trainable params: 117,217\n",
      "Non-trainable params: 0\n",
      "_________________________________________________________________\n",
      "======Training stage======\n",
      "Train on 63355 samples\n",
      "Epoch 1/10\n",
      "62848/63355 [============================>.] - ETA: 0s - loss: 3.1757e-09 - accuracy: 1.0000WARNING:tensorflow:Early stopping conditioned on metric `val_loss` which is not available. Available metrics are: loss,accuracy\n",
      "63355/63355 [==============================] - 10s 161us/sample - loss: 3.1579e-09 - accuracy: 1.0000\n",
      "Epoch 2/10\n",
      "62464/63355 [============================>.] - ETA: 0s - loss: 1.8236e-09 - accuracy: 1.0000WARNING:tensorflow:Early stopping conditioned on metric `val_loss` which is not available. Available metrics are: loss,accuracy\n",
      "63355/63355 [==============================] - 4s 63us/sample - loss: 1.8212e-09 - accuracy: 1.0000\n",
      "Epoch 3/10\n",
      "62720/63355 [============================>.] - ETA: 0s - loss: 1.7199e-09 - accuracy: 1.0000WARNING:tensorflow:Early stopping conditioned on metric `val_loss` which is not available. Available metrics are: loss,accuracy\n",
      "63355/63355 [==============================] - 4s 63us/sample - loss: 1.7123e-09 - accuracy: 1.0000\n",
      "Epoch 4/10\n",
      "63104/63355 [============================>.] - ETA: 0s - loss: 1.4527e-09 - accuracy: 1.0000WARNING:tensorflow:Early stopping conditioned on metric `val_loss` which is not available. Available metrics are: loss,accuracy\n",
      "63355/63355 [==============================] - 4s 63us/sample - loss: 1.4781e-09 - accuracy: 1.0000\n",
      "Epoch 5/10\n",
      "63104/63355 [============================>.] - ETA: 0s - loss: 1.3956e-09 - accuracy: 1.0000WARNING:tensorflow:Early stopping conditioned on metric `val_loss` which is not available. Available metrics are: loss,accuracy\n",
      "63355/63355 [==============================] - 4s 63us/sample - loss: 1.3922e-09 - accuracy: 1.0000\n",
      "Epoch 6/10\n",
      "63104/63355 [============================>.] - ETA: 0s - loss: 1.3880e-09 - accuracy: 1.0000WARNING:tensorflow:Early stopping conditioned on metric `val_loss` which is not available. Available metrics are: loss,accuracy\n",
      "63355/63355 [==============================] - 4s 63us/sample - loss: 1.3854e-09 - accuracy: 1.0000\n",
      "Epoch 7/10\n",
      "62976/63355 [============================>.] - ETA: 0s - loss: 1.2807e-09 - accuracy: 1.0000WARNING:tensorflow:Early stopping conditioned on metric `val_loss` which is not available. Available metrics are: loss,accuracy\n",
      "63355/63355 [==============================] - 4s 63us/sample - loss: 1.2826e-09 - accuracy: 1.0000\n",
      "Epoch 8/10\n",
      "63104/63355 [============================>.] - ETA: 0s - loss: 1.2366e-09 - accuracy: 1.0000WARNING:tensorflow:Early stopping conditioned on metric `val_loss` which is not available. Available metrics are: loss,accuracy\n",
      "63355/63355 [==============================] - 4s 63us/sample - loss: 1.2359e-09 - accuracy: 1.0000\n",
      "Epoch 9/10\n",
      "62464/63355 [============================>.] - ETA: 0s - loss: 1.1937e-09 - accuracy: 1.0000WARNING:tensorflow:Early stopping conditioned on metric `val_loss` which is not available. Available metrics are: loss,accuracy\n",
      "63355/63355 [==============================] - 4s 63us/sample - loss: 1.1876e-09 - accuracy: 1.0000\n",
      "Epoch 10/10\n",
      "62464/63355 [============================>.] - ETA: 0s - loss: 1.1562e-09 - accuracy: 1.0000WARNING:tensorflow:Early stopping conditioned on metric `val_loss` which is not available. Available metrics are: loss,accuracy\n",
      "63355/63355 [==============================] - 4s 63us/sample - loss: 1.1586e-09 - accuracy: 1.0000\n"
     ]
    },
    {
     "data": {
      "text/plain": [
       "<tensorflow.python.keras.callbacks.History at 0x24af5cc0dc8>"
      ]
     },
     "execution_count": 11,
     "metadata": {},
     "output_type": "execute_result"
    },
    {
     "name": "stdout",
     "output_type": "stream",
     "text": [
      "accuracy_score 1.0\n",
      "recall_score 1.0\n",
      "precision_score 1.0\n",
      "f1_score 1.0\n",
      "Model: \"model_8\"\n",
      "_________________________________________________________________\n",
      "Layer (type)                 Output Shape              Param #   \n",
      "=================================================================\n",
      "input_1 (InputLayer)         [(None, 32, 256)]         0         \n",
      "_________________________________________________________________\n",
      "bidirectional (Bidirectional (None, 32, 96)            117120    \n",
      "_________________________________________________________________\n",
      "time_distributed (TimeDistri (None, 32, 1)             97        \n",
      "=================================================================\n",
      "Total params: 117,217\n",
      "Trainable params: 117,217\n",
      "Non-trainable params: 0\n",
      "_________________________________________________________________\n",
      "======Training stage======\n",
      "Train on 63355 samples\n",
      "Epoch 1/10\n",
      "63104/63355 [============================>.] - ETA: 0s - loss: 1.1912e-09 - accuracy: 1.0000WARNING:tensorflow:Early stopping conditioned on metric `val_loss` which is not available. Available metrics are: loss,accuracy\n",
      "63355/63355 [==============================] - 13s 209us/sample - loss: 1.2130e-09 - accuracy: 1.0000\n",
      "Epoch 2/10\n",
      "62464/63355 [============================>.] - ETA: 0s - loss: 1.0915e-09 - accuracy: 1.0000WARNING:tensorflow:Early stopping conditioned on metric `val_loss` which is not available. Available metrics are: loss,accuracy\n",
      "63355/63355 [==============================] - 4s 68us/sample - loss: 1.0857e-09 - accuracy: 1.0000\n",
      "Epoch 3/10\n",
      "63232/63355 [============================>.] - ETA: 0s - loss: 1.0471e-09 - accuracy: 1.0000WARNING:tensorflow:Early stopping conditioned on metric `val_loss` which is not available. Available metrics are: loss,accuracy\n",
      "63355/63355 [==============================] - 4s 63us/sample - loss: 1.0454e-09 - accuracy: 1.0000\n",
      "Epoch 4/10\n",
      "62976/63355 [============================>.] - ETA: 0s - loss: 1.0058e-09 - accuracy: 1.0000WARNING:tensorflow:Early stopping conditioned on metric `val_loss` which is not available. Available metrics are: loss,accuracy\n",
      "63355/63355 [==============================] - 4s 64us/sample - loss: 1.0149e-09 - accuracy: 1.0000\n",
      "Epoch 5/10\n",
      "63232/63355 [============================>.] - ETA: 0s - loss: 9.7207e-10 - accuracy: 1.0000WARNING:tensorflow:Early stopping conditioned on metric `val_loss` which is not available. Available metrics are: loss,accuracy\n",
      "63355/63355 [==============================] - 4s 64us/sample - loss: 9.7097e-10 - accuracy: 1.0000\n",
      "Epoch 6/10\n",
      "63104/63355 [============================>.] - ETA: 0s - loss: 9.5308e-10 - accuracy: 1.0000WARNING:tensorflow:Early stopping conditioned on metric `val_loss` which is not available. Available metrics are: loss,accuracy\n",
      "63355/63355 [==============================] - 4s 64us/sample - loss: 9.5022e-10 - accuracy: 1.0000\n",
      "Epoch 7/10\n",
      "62720/63355 [============================>.] - ETA: 0s - loss: 8.9316e-10 - accuracy: 1.0000WARNING:tensorflow:Early stopping conditioned on metric `val_loss` which is not available. Available metrics are: loss,accuracy\n",
      "63355/63355 [==============================] - 4s 64us/sample - loss: 9.0626e-10 - accuracy: 1.0000\n",
      "Epoch 8/10\n",
      "62720/63355 [============================>.] - ETA: 0s - loss: 8.9792e-10 - accuracy: 1.0000WARNING:tensorflow:Early stopping conditioned on metric `val_loss` which is not available. Available metrics are: loss,accuracy\n",
      "63355/63355 [==============================] - 4s 63us/sample - loss: 8.9556e-10 - accuracy: 1.0000\n",
      "Epoch 9/10\n",
      "63232/63355 [============================>.] - ETA: 0s - loss: 8.6770e-10 - accuracy: 1.0000WARNING:tensorflow:Early stopping conditioned on metric `val_loss` which is not available. Available metrics are: loss,accuracy\n",
      "63355/63355 [==============================] - 4s 63us/sample - loss: 8.6604e-10 - accuracy: 1.0000\n",
      "Epoch 10/10\n",
      "63104/63355 [============================>.] - ETA: 0s - loss: 8.6955e-10 - accuracy: 1.0000WARNING:tensorflow:Early stopping conditioned on metric `val_loss` which is not available. Available metrics are: loss,accuracy\n",
      "63355/63355 [==============================] - 4s 63us/sample - loss: 8.6695e-10 - accuracy: 1.0000\n"
     ]
    },
    {
     "data": {
      "text/plain": [
       "<tensorflow.python.keras.callbacks.History at 0x24b04cad588>"
      ]
     },
     "execution_count": 11,
     "metadata": {},
     "output_type": "execute_result"
    },
    {
     "name": "stdout",
     "output_type": "stream",
     "text": [
      "accuracy_score 1.0\n",
      "recall_score 1.0\n",
      "precision_score 1.0\n",
      "f1_score 1.0\n",
      "Model: \"model_9\"\n",
      "_________________________________________________________________\n",
      "Layer (type)                 Output Shape              Param #   \n",
      "=================================================================\n",
      "input_1 (InputLayer)         [(None, 32, 256)]         0         \n",
      "_________________________________________________________________\n",
      "bidirectional (Bidirectional (None, 32, 96)            117120    \n",
      "_________________________________________________________________\n",
      "time_distributed (TimeDistri (None, 32, 1)             97        \n",
      "=================================================================\n",
      "Total params: 117,217\n",
      "Trainable params: 117,217\n",
      "Non-trainable params: 0\n",
      "_________________________________________________________________\n",
      "======Training stage======\n",
      "Train on 63355 samples\n",
      "Epoch 1/10\n",
      "62848/63355 [============================>.] - ETA: 0s - loss: 9.3156e-10 - accuracy: 1.0000WARNING:tensorflow:Early stopping conditioned on metric `val_loss` which is not available. Available metrics are: loss,accuracy\n",
      "63355/63355 [==============================] - 10s 157us/sample - loss: 9.3358e-10 - accuracy: 1.0000\n",
      "Epoch 2/10\n",
      "62592/63355 [============================>.] - ETA: 0s - loss: 9.3862e-10 - accuracy: 1.0000WARNING:tensorflow:Early stopping conditioned on metric `val_loss` which is not available. Available metrics are: loss,accuracy\n",
      "63355/63355 [==============================] - 4s 63us/sample - loss: 9.3205e-10 - accuracy: 1.0000\n",
      "Epoch 3/10\n",
      "63104/63355 [============================>.] - ETA: 0s - loss: 9.0205e-10 - accuracy: 1.0000WARNING:tensorflow:Early stopping conditioned on metric `val_loss` which is not available. Available metrics are: loss,accuracy\n",
      "63355/63355 [==============================] - 4s 63us/sample - loss: 9.0368e-10 - accuracy: 1.0000\n",
      "Epoch 4/10\n",
      "63232/63355 [============================>.] - ETA: 0s - loss: 8.7212e-10 - accuracy: 1.0000WARNING:tensorflow:Early stopping conditioned on metric `val_loss` which is not available. Available metrics are: loss,accuracy\n",
      "63355/63355 [==============================] - 4s 63us/sample - loss: 8.7042e-10 - accuracy: 1.0000\n",
      "Epoch 5/10\n",
      "62976/63355 [============================>.] - ETA: 0s - loss: 8.6501e-10 - accuracy: 1.0000WARNING:tensorflow:Early stopping conditioned on metric `val_loss` which is not available. Available metrics are: loss,accuracy\n",
      "63355/63355 [==============================] - 4s 63us/sample - loss: 8.7213e-10 - accuracy: 1.0000\n",
      "Epoch 6/10\n",
      "62976/63355 [============================>.] - ETA: 0s - loss: 8.2464e-10 - accuracy: 1.0000WARNING:tensorflow:Early stopping conditioned on metric `val_loss` which is not available. Available metrics are: loss,accuracy\n",
      "63355/63355 [==============================] - 4s 63us/sample - loss: 8.2141e-10 - accuracy: 1.0000\n",
      "Epoch 7/10\n",
      "62720/63355 [============================>.] - ETA: 0s - loss: 8.1749e-10 - accuracy: 1.0000WARNING:tensorflow:Early stopping conditioned on metric `val_loss` which is not available. Available metrics are: loss,accuracy\n",
      "63355/63355 [==============================] - 4s 63us/sample - loss: 8.1392e-10 - accuracy: 1.0000\n",
      "Epoch 8/10\n",
      "62976/63355 [============================>.] - ETA: 0s - loss: 7.8705e-10 - accuracy: 1.0000WARNING:tensorflow:Early stopping conditioned on metric `val_loss` which is not available. Available metrics are: loss,accuracy\n",
      "63355/63355 [==============================] - 4s 64us/sample - loss: 7.9225e-10 - accuracy: 1.0000\n",
      "Epoch 9/10\n",
      "62976/63355 [============================>.] - ETA: 0s - loss: 7.6924e-10 - accuracy: 1.0000WARNING:tensorflow:Early stopping conditioned on metric `val_loss` which is not available. Available metrics are: loss,accuracy\n",
      "63355/63355 [==============================] - 4s 63us/sample - loss: 7.6905e-10 - accuracy: 1.0000\n",
      "Epoch 10/10\n",
      "62720/63355 [============================>.] - ETA: 0s - loss: 7.5501e-10 - accuracy: 1.0000WARNING:tensorflow:Early stopping conditioned on metric `val_loss` which is not available. Available metrics are: loss,accuracy\n",
      "63355/63355 [==============================] - 4s 63us/sample - loss: 7.5376e-10 - accuracy: 1.0000\n"
     ]
    },
    {
     "data": {
      "text/plain": [
       "<tensorflow.python.keras.callbacks.History at 0x24af2db7708>"
      ]
     },
     "execution_count": 11,
     "metadata": {},
     "output_type": "execute_result"
    },
    {
     "name": "stdout",
     "output_type": "stream",
     "text": [
      "accuracy_score 1.0\n",
      "recall_score 1.0\n",
      "precision_score 1.0\n",
      "f1_score 1.0\n",
      "\n",
      "K-fold cross validation Accuracy: [0.9998757102272727, 0.999951171875, 0.9999778053977273, 0.9999911221590909, 1.0, 1.0, 1.0, 1.0, 1.0, 1.0]\n",
      "\n",
      "K-fold cross validation Recall: [0.9969765684051398, 0.9984591679506933, 0.9992387718853083, 1.0, 1.0, 1.0, 1.0, 1.0, 1.0, 1.0]\n",
      "\n",
      "K-fold cross validation Precision: [0.9959728165114523, 0.9987156434626252, 0.999492385786802, 0.999475890985325, 1.0, 1.0, 1.0, 1.0, 1.0, 1.0]\n",
      "\n",
      "K-fold cross validation F1-Score: [0.996474439687736, 0.9985873892384743, 0.9993655627458444, 0.999737876802097, 1.0, 1.0, 1.0, 1.0, 1.0, 1.0]\n"
     ]
    }
   ],
   "source": [
    "# 교차검증 kfold\n",
    "from sklearn.model_selection import KFold\n",
    "\n",
    "# Accuracy, Precision, Recall, F1-Score\n",
    "from sklearn.metrics import accuracy_score, recall_score, precision_score, f1_score\n",
    "\n",
    "# Confusion Matrix, ROC Curve\n",
    "from sklearn.metrics import confusion_matrix, roc_auc_score\n",
    "\n",
    "# 최종 평가지표들 평균용\n",
    "accuracy, recall, precision, f1score, cm = [], [], [], [], []\n",
    "\n",
    "# 11. 교차검증 kfold - k.split - 10회 / K-Fold 객체 생성\n",
    "# kf = KFold(n_splits=10, shuffle=False, random_state=None) # KFold non shuffle 버전\n",
    "kf = KFold(n_splits=10, shuffle=True, random_state=None) # KFold non shuffle 버전\n",
    "\n",
    "for train, validation in kf.split(x_bc6_3, y_bc6_3):\n",
    "    model1 = models.Model(xInput, xOutput)\n",
    "    model1.compile(loss='binary_crossentropy', optimizer='rmsprop', metrics=['accuracy'])\n",
    "    model1.summary()\n",
    "    print('======Training stage======')\n",
    "    model1.fit(x_bc6_3[train],\n",
    "               y_bc6_3[train],\n",
    "               epochs = 10,\n",
    "               batch_size = 128,\n",
    "               callbacks=[early_stopping])\n",
    "    #k_accuracy = '%.4f' %(model1.evaluate(data_10000x[validation], data_10000y[validation])[1])\n",
    "\n",
    "# 12. 교차검증결과 predict - 검증셋들\n",
    "    # predict 값\n",
    "    k_pr = model1.predict(x_bc6_3[validation])\n",
    "    \n",
    "    # 테스트 predict 결과들 비교 (평가지표 보기위함)\n",
    "    pred = np.round(np.array(k_pr).flatten().tolist())\n",
    "    y_test = np.array(y_bc6_3[validation]).flatten().tolist()\n",
    "    \n",
    "# 13. 평가지표들 출력\n",
    "    ## 평가지표들\n",
    "    k_accuracy = float(accuracy_score(y_test, pred))\n",
    "    k_recall =  float(recall_score(y_test, pred))\n",
    "    k_precision = float(precision_score(y_test, pred))\n",
    "    k_f1_score = float(f1_score(y_test, pred))\n",
    "    #k_cm = float(confusion_matrix(y_test, pred))\n",
    "    \n",
    "    print('accuracy_score', k_accuracy)\n",
    "    print('recall_score', k_recall)\n",
    "    print('precision_score', k_precision)\n",
    "    print('f1_score', k_f1_score)\n",
    "    #print('\\nconfusion_matrix\\n', k_cm)\n",
    "\n",
    "    accuracy.append(k_accuracy)\n",
    "    recall.append(k_recall)\n",
    "    precision.append(k_precision)\n",
    "    f1score.append(k_f1_score)\n",
    "    #cm.append(k_cm)\n",
    "#    print('roc_curve 면적', roc_auc_score(y_test, pred))\n",
    "\n",
    "# 최종 결과지표\n",
    "print('\\nK-fold cross validation Accuracy: {}'.format(accuracy))\n",
    "print('\\nK-fold cross validation Recall: {}'.format(recall))\n",
    "print('\\nK-fold cross validation Precision: {}'.format(precision))\n",
    "print('\\nK-fold cross validation F1-Score: {}'.format(f1score))\n",
    "#print('\\nK-fold cross validation ConfusionMatrix: {}'.format(cm))"
   ]
  },
  {
   "cell_type": "markdown",
   "metadata": {},
   "source": [
    "## (9) 평가지표"
   ]
  },
  {
   "cell_type": "code",
   "execution_count": 12,
   "metadata": {},
   "outputs": [
    {
     "name": "stdout",
     "output_type": "stream",
     "text": [
      "10-Fold Cross_validation. Accuracy : 0.9999795809659091\n",
      "10-Fold Cross_validation. Recall : 0.9994674508241141\n",
      "10-Fold Cross_validation. Precision : 0.9993656736746205\n",
      "10-Fold Cross_validation. F1-Score : 0.9994165268474152\n"
     ]
    }
   ],
   "source": [
    "print('10-Fold Cross_validation. Accuracy :', np.mean(accuracy))\n",
    "print('10-Fold Cross_validation. Recall :', np.mean(recall))\n",
    "print('10-Fold Cross_validation. Precision :', np.mean(precision))\n",
    "print('10-Fold Cross_validation. F1-Score :', np.mean(f1score))"
   ]
  },
  {
   "cell_type": "code",
   "execution_count": 13,
   "metadata": {},
   "outputs": [
    {
     "name": "stdout",
     "output_type": "stream",
     "text": [
      "save 완료\n"
     ]
    }
   ],
   "source": [
    "model1.save('gcc6_bin_core_s32_h48_o3.h5')\n",
    "print('save 완료')"
   ]
  },
  {
   "cell_type": "code",
   "execution_count": 14,
   "metadata": {},
   "outputs": [
    {
     "name": "stdout",
     "output_type": "stream",
     "text": [
      "accuracy_score 1.0\n",
      "recall_score 1.0\n",
      "precision_score 1.0\n",
      "f1_score 1.0\n"
     ]
    }
   ],
   "source": [
    "from tensorflow.keras.models import load_model\n",
    "model_path = 'gcc6_bin_core_s32_h48_o3.h5'\n",
    "\n",
    "model = load_model(model_path)\n",
    "\n",
    "# 12. 교차검증결과 predict - 검증셋들\n",
    "# predict 값\n",
    "k_pr = model.predict(x_bc6_3)\n",
    "\n",
    "# 테스트 predict 결과들 비교 (평가지표 보기위함)\n",
    "pred = np.round(np.array(k_pr).flatten().tolist())\n",
    "y_test = np.array(y_bc6_3).flatten().tolist()\n",
    "\n",
    "# 13. 평가지표들 출력\n",
    "## 평가지표들\n",
    "k_accuracy = float(accuracy_score(y_test, pred))\n",
    "k_recall =  float(recall_score(y_test, pred))\n",
    "k_precision = float(precision_score(y_test, pred))\n",
    "k_f1_score = float(f1_score(y_test, pred))\n",
    "#k_cm = float(confusion_matrix(y_test, pred))\n",
    "\n",
    "print('accuracy_score', k_accuracy)\n",
    "print('recall_score', k_recall)\n",
    "print('precision_score', k_precision)\n",
    "print('f1_score', k_f1_score)\n",
    "#print('\\nconfusion_matrix\\n', k_cm)"
   ]
  }
 ],
 "metadata": {
  "kernelspec": {
   "display_name": "Python 3",
   "language": "python",
   "name": "python3"
  },
  "language_info": {
   "codemirror_mode": {
    "name": "ipython",
    "version": 3
   },
   "file_extension": ".py",
   "mimetype": "text/x-python",
   "name": "python",
   "nbconvert_exporter": "python",
   "pygments_lexer": "ipython3",
   "version": "3.7.7"
  }
 },
 "nbformat": 4,
 "nbformat_minor": 4
}
