{
 "cells": [
  {
   "cell_type": "code",
   "execution_count": 1,
   "metadata": {},
   "outputs": [
    {
     "name": "stderr",
     "output_type": "stream",
     "text": [
      "Using TensorFlow backend.\n"
     ]
    },
    {
     "name": "stdout",
     "output_type": "stream",
     "text": [
      "(2156208, 2) (1724990, 2) (1773289, 2) (2224199, 2)\n",
      "reset_index 완료\n"
     ]
    },
    {
     "data": {
      "text/html": [
       "<div>\n",
       "<style scoped>\n",
       "    .dataframe tbody tr th:only-of-type {\n",
       "        vertical-align: middle;\n",
       "    }\n",
       "\n",
       "    .dataframe tbody tr th {\n",
       "        vertical-align: top;\n",
       "    }\n",
       "\n",
       "    .dataframe thead th {\n",
       "        text-align: right;\n",
       "    }\n",
       "</style>\n",
       "<table border=\"1\" class=\"dataframe\">\n",
       "  <thead>\n",
       "    <tr style=\"text-align: right;\">\n",
       "      <th></th>\n",
       "      <th>bin</th>\n",
       "      <th>label</th>\n",
       "    </tr>\n",
       "  </thead>\n",
       "  <tbody>\n",
       "    <tr>\n",
       "      <th>0</th>\n",
       "      <td>55</td>\n",
       "      <td>1</td>\n",
       "    </tr>\n",
       "    <tr>\n",
       "      <th>1</th>\n",
       "      <td>89</td>\n",
       "      <td>0</td>\n",
       "    </tr>\n",
       "    <tr>\n",
       "      <th>2</th>\n",
       "      <td>e5</td>\n",
       "      <td>0</td>\n",
       "    </tr>\n",
       "    <tr>\n",
       "      <th>3</th>\n",
       "      <td>53</td>\n",
       "      <td>0</td>\n",
       "    </tr>\n",
       "    <tr>\n",
       "      <th>4</th>\n",
       "      <td>83</td>\n",
       "      <td>0</td>\n",
       "    </tr>\n",
       "  </tbody>\n",
       "</table>\n",
       "</div>"
      ],
      "text/plain": [
       "  bin  label\n",
       "0  55      1\n",
       "1  89      0\n",
       "2  e5      0\n",
       "3  53      0\n",
       "4  83      0"
      ]
     },
     "execution_count": 1,
     "metadata": {},
     "output_type": "execute_result"
    }
   ],
   "source": [
    "# (1) 데이터로드\n",
    "import pandas as pd\n",
    "import numpy as np\n",
    "from keras.utils import np_utils\n",
    "\n",
    "import warnings\n",
    "warnings.filterwarnings(action='ignore')\n",
    "\n",
    "# 여러개 쳐도 나오게\n",
    "from IPython.core.interactiveshell import InteractiveShell\n",
    "InteractiveShell.ast_node_interactivity = \"all\"\n",
    "\n",
    "# 파일읽기\n",
    "\n",
    "# gcc4_0~3\n",
    "gcc_version = 'gcc4'\n",
    "gcc4_0_32 = pd.read_csv(\"binutils_gcc3~9_op0~4_csv/\"+gcc_version+\"_0_32.csv\", index_col=0)\n",
    "gcc4_1_32 = pd.read_csv(\"binutils_gcc3~9_op0~4_csv/\"+gcc_version+\"_1_32.csv\", index_col=0)\n",
    "gcc4_2_32 = pd.read_csv(\"binutils_gcc3~9_op0~4_csv/\"+gcc_version+\"_2_32.csv\", index_col=0)\n",
    "gcc4_3_32 = pd.read_csv(\"binutils_gcc3~9_op0~4_csv/\"+gcc_version+\"_3_32.csv\", index_col=0)\n",
    "\n",
    "# 형태 출력\n",
    "print(gcc4_0_32.shape, gcc4_1_32.shape, gcc4_2_32.shape, gcc4_3_32.shape) # train\n",
    "\n",
    "# reset_index (hex processing 하면서 값이 빠졌으니까 + n_gram 에서 index를 다루기 때문에)\n",
    "gcc4_0_32.reset_index(inplace=True, drop=True)\n",
    "gcc4_1_32.reset_index(inplace=True, drop=True)\n",
    "gcc4_2_32.reset_index(inplace=True, drop=True)\n",
    "gcc4_3_32.reset_index(inplace=True, drop=True)\n",
    "\n",
    "print('reset_index 완료')\n",
    "gcc4_0_32.head()"
   ]
  },
  {
   "cell_type": "code",
   "execution_count": 2,
   "metadata": {},
   "outputs": [
    {
     "name": "stdout",
     "output_type": "stream",
     "text": [
      "256 256\n",
      "256 256\n"
     ]
    }
   ],
   "source": [
    "# (2-1) 데이터체크 - hex(16진수)가 256 label을 가져야 dummies 변환 가능 \n",
    "\n",
    "# 16진수 256개 종류가 있어서 pd.get_dummies 사용 가능.\n",
    "print(len(gcc4_0_32['bin'].unique()),len(gcc4_1_32['bin'].unique()))\n",
    "print(len(gcc4_2_32['bin'].unique()),len(gcc4_3_32['bin'].unique()))"
   ]
  },
  {
   "cell_type": "markdown",
   "metadata": {},
   "source": [
    "## 원 핫 인코딩 (16진수 256 = 00 ~ ff -> 000000... 1 ...0000) "
   ]
  },
  {
   "cell_type": "code",
   "execution_count": 3,
   "metadata": {},
   "outputs": [
    {
     "name": "stdout",
     "output_type": "stream",
     "text": [
      "원핫인코딩완료\n",
      "(2156208, 257) (1724990, 257) (1773289, 257) (2224199, 257)\n"
     ]
    }
   ],
   "source": [
    "# (3) get_dummies 변환 - onehot encoding\n",
    "\n",
    "# 훈련데이터 (gcc 최적화버전 0, 1, 2, 3 one hot encoding)\n",
    "gcc4_0_32_onehot = pd.get_dummies(gcc4_0_32)\n",
    "gcc4_1_32_onehot = pd.get_dummies(gcc4_1_32)\n",
    "gcc4_2_32_onehot = pd.get_dummies(gcc4_2_32)\n",
    "gcc4_3_32_onehot = pd.get_dummies(gcc4_3_32)\n",
    "print('원핫인코딩완료')\n",
    "\n",
    "print(gcc4_0_32_onehot.shape, gcc4_1_32_onehot.shape, gcc4_2_32_onehot.shape, gcc4_3_32_onehot.shape)"
   ]
  },
  {
   "cell_type": "code",
   "execution_count": 4,
   "metadata": {
    "scrolled": true
   },
   "outputs": [
    {
     "name": "stdout",
     "output_type": "stream",
     "text": [
      "0    2151901\n",
      "1       4307\n",
      "Name: label, dtype: int64 \n",
      " 0    1721737\n",
      "1       3253\n",
      "Name: label, dtype: int64\n",
      "0    1770091\n",
      "1       3198\n",
      "Name: label, dtype: int64 \n",
      " 0    2221208\n",
      "1       2991\n",
      "Name: label, dtype: int64\n"
     ]
    }
   ],
   "source": [
    "# (4) 데이터 체크 - 1, 0 비율 ==> 1이 함수의 갯수를 뜻함\n",
    "\n",
    "# 정답 데이터 1, 0 비율 확인  ==> 1이 함수의 갯수를 뜻함\n",
    "print(gcc4_0_32_onehot['label'].value_counts(), '\\n', gcc4_1_32_onehot['label'].value_counts())\n",
    "print(gcc4_2_32_onehot['label'].value_counts(), '\\n', gcc4_3_32_onehot['label'].value_counts())"
   ]
  },
  {
   "cell_type": "code",
   "execution_count": 5,
   "metadata": {},
   "outputs": [
    {
     "data": {
      "text/plain": [
       "00    322630\n",
       "ff    186095\n",
       "8b    155808\n",
       "45    113507\n",
       "89    100993\n",
       "       ...  \n",
       "a9       269\n",
       "9e       266\n",
       "b1       252\n",
       "96       252\n",
       "a6       239\n",
       "Name: bin, Length: 256, dtype: int64"
      ]
     },
     "execution_count": 5,
     "metadata": {},
     "output_type": "execute_result"
    }
   ],
   "source": [
    "# 전체 행렬에 대한 value_counts()\n",
    "gcc4_0_32['bin'].value_counts()"
   ]
  },
  {
   "cell_type": "markdown",
   "metadata": {},
   "source": [
    "## 함수의 시작 '1' 기준 앞뒤 10gram 잘라내기 (O0 ~ O4)"
   ]
  },
  {
   "cell_type": "code",
   "execution_count": 6,
   "metadata": {},
   "outputs": [
    {
     "name": "stdout",
     "output_type": "stream",
     "text": [
      "gcc4_0_32 87572\n"
     ]
    }
   ],
   "source": [
    "# (5-1) gcc4 - 함수의 시작 기준 앞뒤 10gram\n",
    "######################## gcc4_0_32\n",
    "idx0 = gcc4_0_32_onehot[gcc4_0_32_onehot['label']==1].index  # 407, 474 ...\n",
    "ls0 = list(idx0)\n",
    "\n",
    "# 최종 뽑을 행에 대한 index\n",
    "ls_idx0 = [] \n",
    "left_idx, right_idx = -10, 11 # 앞뒤 10개씩\n",
    "\n",
    "# 전체 index에 -10더한 index들 -9 더한 인덱스들, ~~~ 10더한 index들 다 합침.(extend)\n",
    "for k in range(left_idx, right_idx):\n",
    "    ls_idx0.extend(list(idx0 + k)) # index 형이라서 가능\n",
    "\n",
    "ls_idx0 = list(set(ls_idx0))    \n",
    "# print(len(ls_idx0))\n",
    "\n",
    "ls_idx0.sort() # 인덱스 정렬\n",
    "ls_idx0 = list(filter(lambda x: x>0, ls_idx0)) # 0이상인 값들만 \n",
    "ls_idx0 = list(filter(lambda x: x<len(gcc4_0_32_onehot), ls_idx0))\n",
    "\n",
    "print('gcc4_0_32', len(ls_idx0))\n",
    "\n",
    "# loc 로 수정필요\n",
    "gcc4_0_32_onehot_30gram = gcc4_0_32_onehot.loc[ls_idx0,:].copy()"
   ]
  },
  {
   "cell_type": "code",
   "execution_count": 7,
   "metadata": {},
   "outputs": [
    {
     "name": "stdout",
     "output_type": "stream",
     "text": [
      "gcc4_1_32 65777\n"
     ]
    }
   ],
   "source": [
    "# (5-2) gcc4 - 함수의 시작 기준 앞뒤 10gram\n",
    "######################## gcc4_1_32\n",
    "idx1 = gcc4_1_32_onehot[gcc4_1_32_onehot['label']==1].index  # 407, 474 ...\n",
    "ls1 = list(idx1)\n",
    "\n",
    "# 최종 뽑을 행에 대한 index\n",
    "ls_idx1 = [] \n",
    "\n",
    "# 전체 index에 -10더한 index들 -9 더한 인덱스들, ~~~ 10더한 index들 다 합침.(extend)\n",
    "for k in range(left_idx, right_idx):\n",
    "    ls_idx1.extend(list(idx1 + k)) # index 형이라서 가능\n",
    "\n",
    "ls_idx1 = list(set(ls_idx1))    \n",
    "# print(len(ls_idx0))\n",
    "\n",
    "ls_idx1.sort() # 인덱스 정렬\n",
    "ls_idx1 = list(filter(lambda x: x>0, ls_idx1)) # 0이상인 값들만 \n",
    "ls_idx1 = list(filter(lambda x: x<len(gcc4_1_32_onehot), ls_idx1))\n",
    "\n",
    "print('gcc4_1_32', len(ls_idx1))\n",
    "\n",
    "# loc 로 수정필요\n",
    "gcc4_1_32_onehot_30gram = gcc4_1_32_onehot.loc[ls_idx1,:].copy()\n"
   ]
  },
  {
   "cell_type": "code",
   "execution_count": 8,
   "metadata": {},
   "outputs": [
    {
     "name": "stdout",
     "output_type": "stream",
     "text": [
      "gcc4_2_32 65474\n"
     ]
    }
   ],
   "source": [
    "# (5-3) gcc4 - 함수의 시작 기준 앞뒤 10gram\n",
    "######################## gcc4_2_32\n",
    "idx2 = gcc4_2_32_onehot[gcc4_2_32_onehot['label']==1].index  # 407, 474 ...\n",
    "ls2 = list(idx2)\n",
    "\n",
    "# 최종 뽑을 행에 대한 index\n",
    "ls_idx2 = [] \n",
    "\n",
    "# 전체 index에 -10더한 index들 -9 더한 인덱스들, ~~~ 10더한 index들 다 합침.(extend)\n",
    "for k in range(left_idx, right_idx):\n",
    "    ls_idx2.extend(list(idx2 + k)) # index 형이라서 가능\n",
    "\n",
    "ls_idx2 = list(set(ls_idx2))    \n",
    "# print(len(ls_idx0))\n",
    "\n",
    "ls_idx2.sort() # 인덱스 정렬\n",
    "ls_idx2 = list(filter(lambda x: x>0, ls_idx2)) # 0이상인 값들만 \n",
    "ls_idx2 = list(filter(lambda x: x<len(gcc4_2_32_onehot), ls_idx2))\n",
    "\n",
    "print('gcc4_2_32', len(ls_idx2))\n",
    "\n",
    "# loc 로 수정필요\n",
    "gcc4_2_32_onehot_30gram = gcc4_2_32_onehot.loc[ls_idx2,:].copy()\n"
   ]
  },
  {
   "cell_type": "code",
   "execution_count": 9,
   "metadata": {},
   "outputs": [
    {
     "name": "stdout",
     "output_type": "stream",
     "text": [
      "gcc4_3_32 61356\n"
     ]
    }
   ],
   "source": [
    "\n",
    "# (5-3) gcc4 - 함수의 시작 기준 앞뒤 10gram\n",
    "######################## gcc4_3_32\n",
    "idx3 = gcc4_3_32_onehot[gcc4_3_32_onehot['label']==1].index  # 407, 474 ...\n",
    "ls3 = list(idx3)\n",
    "\n",
    "# 최종 뽑을 행에 대한 index\n",
    "ls_idx3 = [] \n",
    "\n",
    "# 전체 index에 -10더한 index들 -9 더한 인덱스들, ~~~ 10더한 index들 다 합침.(extend)\n",
    "for k in range(left_idx, right_idx):\n",
    "    ls_idx3.extend(list(idx3 + k)) # index 형이라서 가능\n",
    "\n",
    "ls_idx3 = list(set(ls_idx3))    \n",
    "# print(len(ls_idx0))\n",
    "\n",
    "ls_idx3.sort() # 인덱스 정렬\n",
    "ls_idx3 = list(filter(lambda x: x>0, ls_idx3)) # 0이상인 값들만 \n",
    "ls_idx3 = list(filter(lambda x: x<len(gcc4_3_32_onehot), ls_idx3))\n",
    "\n",
    "print('gcc4_3_32', len(ls_idx3))\n",
    "\n",
    "# loc 로 수정필요\n",
    "gcc4_3_32_onehot_30gram = gcc4_3_32_onehot.loc[ls_idx3,:].copy()\n"
   ]
  },
  {
   "cell_type": "markdown",
   "metadata": {},
   "source": [
    "## Train, Test Label split"
   ]
  },
  {
   "cell_type": "code",
   "execution_count": 10,
   "metadata": {},
   "outputs": [
    {
     "name": "stdout",
     "output_type": "stream",
     "text": [
      "(87572, 256) (87572,)\n",
      "(65777, 256) (65777,)\n",
      "(65474, 256) (65474,)\n",
      "(61356, 256) (61356,)\n"
     ]
    }
   ],
   "source": [
    "# (7) 훈련데이터, 훈련라벨 분리 012\n",
    "\n",
    "# 훈련 데이터, 훈련 라벨\n",
    "x_gcc4_0_32 = gcc4_0_32_onehot_30gram.iloc[:,1:].to_numpy()\n",
    "y_gcc4_0_32 = gcc4_0_32_onehot_30gram['label'].to_numpy()\n",
    "\n",
    "x_gcc4_1_32 = gcc4_1_32_onehot_30gram.iloc[:,1:].to_numpy()\n",
    "y_gcc4_1_32 = gcc4_1_32_onehot_30gram['label'].to_numpy()\n",
    "\n",
    "x_gcc4_2_32 = gcc4_2_32_onehot_30gram.iloc[:,1:].to_numpy()\n",
    "y_gcc4_2_32 = gcc4_2_32_onehot_30gram['label'].to_numpy()\n",
    "\n",
    "# 테스트 데이터, 테스트 라벨\n",
    "x_gcc4_3_32 = gcc4_3_32_onehot_30gram.iloc[:,1:].to_numpy()\n",
    "y_gcc4_3_32 = gcc4_3_32_onehot_30gram['label'].to_numpy()\n",
    "\n",
    "# train\n",
    "print(x_gcc4_0_32.shape, y_gcc4_0_32.shape)\n",
    "print(x_gcc4_1_32.shape, y_gcc4_1_32.shape)\n",
    "print(x_gcc4_2_32.shape, y_gcc4_2_32.shape)\n",
    "\n",
    "# test\n",
    "print(x_gcc4_3_32.shape, y_gcc4_3_32.shape)"
   ]
  },
  {
   "cell_type": "markdown",
   "metadata": {},
   "source": [
    "## Reshape"
   ]
  },
  {
   "cell_type": "code",
   "execution_count": 11,
   "metadata": {},
   "outputs": [
    {
     "name": "stdout",
     "output_type": "stream",
     "text": [
      "(87572, 1, 256) (87572, 1, 1)\n",
      "(65777, 1, 256) (65777, 1, 1)\n",
      "(65474, 1, 256) (65474, 1, 1)\n",
      "(61356, 1, 256) (61356, 1, 1)\n"
     ]
    }
   ],
   "source": [
    "# (8) 훈련데이터, 훈련라벨 reshape 작업 => # ex - (605, 1, 256)\n",
    "\n",
    "## gcc6_0_32\n",
    "x_gcc4_0_32 = x_gcc4_0_32.reshape(x_gcc4_0_32.shape[0], 1, x_gcc4_0_32.shape[1])\n",
    "y_gcc4_0_32 = y_gcc4_0_32.reshape(y_gcc4_0_32.shape[0], 1, 1)\n",
    "\n",
    "## gcc6_1_32\n",
    "x_gcc4_1_32 = x_gcc4_1_32.reshape(x_gcc4_1_32.shape[0], 1, x_gcc4_1_32.shape[1])\n",
    "y_gcc4_1_32 = y_gcc4_1_32.reshape(y_gcc4_1_32.shape[0], 1, 1)\n",
    "\n",
    "## gcc6_2_32\n",
    "x_gcc4_2_32 = x_gcc4_2_32.reshape(x_gcc4_2_32.shape[0], 1, x_gcc4_2_32.shape[1])\n",
    "y_gcc4_2_32 = y_gcc4_2_32.reshape(y_gcc4_2_32.shape[0], 1, 1)\n",
    "\n",
    "### test data\n",
    "## gcc6_3_32\n",
    "x_gcc4_3_32 = x_gcc4_3_32.reshape(x_gcc4_3_32.shape[0], 1, x_gcc4_3_32.shape[1])\n",
    "y_gcc4_3_32 = y_gcc4_3_32.reshape(y_gcc4_3_32.shape[0], 1, 1)\n",
    "\n",
    "print(x_gcc4_0_32.shape, y_gcc4_0_32.shape)\n",
    "print(x_gcc4_1_32.shape, y_gcc4_1_32.shape)\n",
    "print(x_gcc4_2_32.shape, y_gcc4_2_32.shape)\n",
    "\n",
    "## test data\n",
    "print(x_gcc4_3_32.shape, y_gcc4_3_32.shape)"
   ]
  },
  {
   "cell_type": "markdown",
   "metadata": {},
   "source": [
    "## 전체 Model O0 ~ O4 다 합치기 np.concatenate"
   ]
  },
  {
   "cell_type": "code",
   "execution_count": 12,
   "metadata": {},
   "outputs": [
    {
     "name": "stdout",
     "output_type": "stream",
     "text": [
      "(280179, 1, 256) (280179, 1, 1)\n"
     ]
    }
   ],
   "source": [
    "# (9) 최종 훈련데이터, 훈련라벨 concatenate 작업\n",
    "# 0123 / 3\n",
    "x_gcc4_0123_32 = np.concatenate((x_gcc4_0_32, x_gcc4_1_32, x_gcc4_2_32, x_gcc4_3_32), axis=0)\n",
    "y_gcc4_0123_32 = np.concatenate((y_gcc4_0_32, y_gcc4_1_32, y_gcc4_2_32, y_gcc4_3_32), axis=0)\n",
    "print(x_gcc4_0123_32.shape, y_gcc4_0123_32.shape)"
   ]
  },
  {
   "cell_type": "markdown",
   "metadata": {},
   "source": [
    "## Modeling"
   ]
  },
  {
   "cell_type": "code",
   "execution_count": 13,
   "metadata": {},
   "outputs": [
    {
     "name": "stdout",
     "output_type": "stream",
     "text": [
      "WARNING:tensorflow:From c:\\users\\urse\\anaconda3\\envs\\untitled\\lib\\site-packages\\tensorflow_core\\python\\ops\\resource_variable_ops.py:1630: calling BaseResourceVariable.__init__ (from tensorflow.python.ops.resource_variable_ops) with constraint is deprecated and will be removed in a future version.\n",
      "Instructions for updating:\n",
      "If using Keras pass *_constraint arguments to layers.\n",
      "Model: \"model_1\"\n",
      "_________________________________________________________________\n",
      "Layer (type)                 Output Shape              Param #   \n",
      "=================================================================\n",
      "input_1 (InputLayer)         (None, 1, 256)            0         \n",
      "_________________________________________________________________\n",
      "bidirectional_1 (Bidirection (None, 1, 32)             34944     \n",
      "_________________________________________________________________\n",
      "time_distributed_1 (TimeDist (None, 1, 1)              33        \n",
      "=================================================================\n",
      "Total params: 34,977\n",
      "Trainable params: 34,977\n",
      "Non-trainable params: 0\n",
      "_________________________________________________________________\n"
     ]
    }
   ],
   "source": [
    "# (10) 양방향 LSTM 모델링 작업\n",
    "from keras.models import Model, Sequential\n",
    "from keras.layers import SimpleRNN, Input, Dense, LSTM\n",
    "from keras.layers import Bidirectional, TimeDistributed\n",
    "\n",
    "# 학습\n",
    "from keras.callbacks import EarlyStopping\n",
    "early_stopping = EarlyStopping(patience = 3) # 조기종료 콜백함수 정의\n",
    "\n",
    "xInput = Input(batch_shape=(None, 1, 256)) \n",
    "xBiLstm = Bidirectional(LSTM(16, return_sequences=True), merge_mode = 'concat')(xInput)\n",
    "xOutput = TimeDistributed(Dense(1, activation ='sigmoid'))(xBiLstm) # 각 스텝에서 cost가 전송되고, 오류가 다음 step으로 전송됨.\n",
    "\n",
    "model1 = Model(xInput, xOutput)\n",
    "model1.compile(loss='binary_crossentropy', optimizer='rmsprop', metrics=['accuracy'])\n",
    "model1.summary()"
   ]
  },
  {
   "cell_type": "markdown",
   "metadata": {},
   "source": [
    "## 교차 검증 (10 - Kfold) & 평가지표"
   ]
  },
  {
   "cell_type": "code",
   "execution_count": 14,
   "metadata": {
    "scrolled": false
   },
   "outputs": [
    {
     "name": "stdout",
     "output_type": "stream",
     "text": [
      "======Training stage======\n",
      "WARNING:tensorflow:From c:\\users\\urse\\anaconda3\\envs\\untitled\\lib\\site-packages\\tensorflow_core\\python\\ops\\math_grad.py:1424: where (from tensorflow.python.ops.array_ops) is deprecated and will be removed in a future version.\n",
      "Instructions for updating:\n",
      "Use tf.where in 2.0, which has the same broadcast rule as np.where\n",
      "WARNING:tensorflow:From c:\\users\\urse\\anaconda3\\envs\\untitled\\lib\\site-packages\\keras\\backend\\tensorflow_backend.py:422: The name tf.global_variables is deprecated. Please use tf.compat.v1.global_variables instead.\n",
      "\n",
      "Epoch 1/3\n",
      "252161/252161 [==============================] - 17s 66us/step - loss: 0.0929 - accuracy: 0.9743\n",
      "Epoch 2/3\n",
      "252161/252161 [==============================] - 17s 66us/step - loss: 0.0806 - accuracy: 0.9757\n",
      "Epoch 3/3\n",
      "252161/252161 [==============================] - 17s 69us/step - loss: 0.0806 - accuracy: 0.9757\n"
     ]
    },
    {
     "data": {
      "text/plain": [
       "<keras.callbacks.callbacks.History at 0x184d4d41ac8>"
      ]
     },
     "execution_count": 14,
     "metadata": {},
     "output_type": "execute_result"
    },
    {
     "name": "stdout",
     "output_type": "stream",
     "text": [
      "accuracy_score 0.9750874437861374\n",
      "recall_score 0.5220216606498195\n",
      "precision_score 0.9525691699604744\n",
      "f1_score 0.6744402985074627\n",
      "======Training stage======\n",
      "Epoch 1/3\n",
      "252161/252161 [==============================] - 22s 87us/step - loss: 0.0813 - accuracy: 0.9754\n",
      "Epoch 2/3\n",
      "252161/252161 [==============================] - 19s 74us/step - loss: 0.0815 - accuracy: 0.9754\n",
      "Epoch 3/3\n",
      "252161/252161 [==============================] - 20s 79us/step - loss: 0.0810 - accuracy: 0.9754\n"
     ]
    },
    {
     "data": {
      "text/plain": [
       "<keras.callbacks.callbacks.History at 0x184d80317c8>"
      ]
     },
     "execution_count": 14,
     "metadata": {},
     "output_type": "execute_result"
    },
    {
     "name": "stdout",
     "output_type": "stream",
     "text": [
      "accuracy_score 0.9782639731601114\n",
      "recall_score 0.558667676003028\n",
      "precision_score 0.9659685863874345\n",
      "f1_score 0.7079136690647482\n",
      "======Training stage======\n",
      "Epoch 1/3\n",
      "252161/252161 [==============================] - 18s 70us/step - loss: 0.0806 - accuracy: 0.9757\n",
      "Epoch 2/3\n",
      "252161/252161 [==============================] - 22s 87us/step - loss: 0.0808 - accuracy: 0.9757\n",
      "Epoch 3/3\n",
      "252161/252161 [==============================] - 19s 74us/step - loss: 0.0811 - accuracy: 0.9757\n"
     ]
    },
    {
     "data": {
      "text/plain": [
       "<keras.callbacks.callbacks.History at 0x184d80316c8>"
      ]
     },
     "execution_count": 14,
     "metadata": {},
     "output_type": "execute_result"
    },
    {
     "name": "stdout",
     "output_type": "stream",
     "text": [
      "accuracy_score 0.975587122564066\n",
      "recall_score 0.5388489208633094\n",
      "precision_score 0.9457070707070707\n",
      "f1_score 0.6865261228230981\n",
      "======Training stage======\n",
      "Epoch 1/3\n",
      "252161/252161 [==============================] - 19s 75us/step - loss: 0.0808 - accuracy: 0.9758\n",
      "Epoch 2/3\n",
      "252161/252161 [==============================] - 18s 71us/step - loss: 0.0808 - accuracy: 0.9758\n",
      "Epoch 3/3\n",
      "252161/252161 [==============================] - 21s 82us/step - loss: 0.0802 - accuracy: 0.9758\n"
     ]
    },
    {
     "data": {
      "text/plain": [
       "<keras.callbacks.callbacks.History at 0x184d806f388>"
      ]
     },
     "execution_count": 14,
     "metadata": {},
     "output_type": "execute_result"
    },
    {
     "name": "stdout",
     "output_type": "stream",
     "text": [
      "accuracy_score 0.9749089870797345\n",
      "recall_score 0.521551724137931\n",
      "precision_score 0.9515072083879423\n",
      "f1_score 0.6737819025522042\n",
      "======Training stage======\n",
      "Epoch 1/3\n",
      "252161/252161 [==============================] - 19s 75us/step - loss: 0.0803 - accuracy: 0.9758\n",
      "Epoch 2/3\n",
      "252161/252161 [==============================] - 19s 74us/step - loss: 0.0808 - accuracy: 0.9758\n",
      "Epoch 3/3\n",
      "252161/252161 [==============================] - 18s 73us/step - loss: 0.0807 - accuracy: 0.9758\n"
     ]
    },
    {
     "data": {
      "text/plain": [
       "<keras.callbacks.callbacks.History at 0x184d8080748>"
      ]
     },
     "execution_count": 14,
     "metadata": {},
     "output_type": "execute_result"
    },
    {
     "name": "stdout",
     "output_type": "stream",
     "text": [
      "accuracy_score 0.974766221714612\n",
      "recall_score 0.5087847730600292\n",
      "precision_score 0.9507523939808481\n",
      "f1_score 0.6628516928946113\n",
      "======Training stage======\n",
      "Epoch 1/3\n",
      "252161/252161 [==============================] - 19s 74us/step - loss: 0.0803 - accuracy: 0.9757\n",
      "Epoch 2/3\n",
      "252161/252161 [==============================] - 19s 76us/step - loss: 0.0805 - accuracy: 0.9757\n",
      "Epoch 3/3\n",
      "252161/252161 [==============================] - 19s 77us/step - loss: 0.0807 - accuracy: 0.9757\n"
     ]
    },
    {
     "data": {
      "text/plain": [
       "<keras.callbacks.callbacks.History at 0x184d4c08988>"
      ]
     },
     "execution_count": 14,
     "metadata": {},
     "output_type": "execute_result"
    },
    {
     "name": "stdout",
     "output_type": "stream",
     "text": [
      "accuracy_score 0.9751231351274181\n",
      "recall_score 0.5253256150506512\n",
      "precision_score 0.9465449804432855\n",
      "f1_score 0.6756630991158677\n",
      "======Training stage======\n",
      "Epoch 1/3\n",
      "252161/252161 [==============================] - 19s 75us/step - loss: 0.0805 - accuracy: 0.9758\n",
      "Epoch 2/3\n",
      "252161/252161 [==============================] - 18s 72us/step - loss: 0.0808 - accuracy: 0.9758\n",
      "Epoch 3/3\n",
      "252161/252161 [==============================] - 18s 71us/step - loss: 0.0808 - accuracy: 0.9758\n"
     ]
    },
    {
     "data": {
      "text/plain": [
       "<keras.callbacks.callbacks.History at 0x184d814d508>"
      ]
     },
     "execution_count": 14,
     "metadata": {},
     "output_type": "execute_result"
    },
    {
     "name": "stdout",
     "output_type": "stream",
     "text": [
      "accuracy_score 0.9748376043971733\n",
      "recall_score 0.5271317829457365\n",
      "precision_score 0.9565217391304348\n",
      "f1_score 0.6796910495229441\n",
      "======Training stage======\n",
      "Epoch 1/3\n",
      "252161/252161 [==============================] - 18s 70us/step - loss: 0.0803 - accuracy: 0.9758\n",
      "Epoch 2/3\n",
      "252161/252161 [==============================] - 18s 70us/step - loss: 0.0802 - accuracy: 0.9758\n",
      "Epoch 3/3\n",
      "252161/252161 [==============================] - 18s 70us/step - loss: 0.0803 - accuracy: 0.9758\n"
     ]
    },
    {
     "data": {
      "text/plain": [
       "<keras.callbacks.callbacks.History at 0x184d4c08088>"
      ]
     },
     "execution_count": 14,
     "metadata": {},
     "output_type": "execute_result"
    },
    {
     "name": "stdout",
     "output_type": "stream",
     "text": [
      "accuracy_score 0.9746234563494897\n",
      "recall_score 0.508400292184076\n",
      "precision_score 0.9482288828337875\n",
      "f1_score 0.6619115549215406\n",
      "======Training stage======\n",
      "Epoch 1/3\n",
      "252161/252161 [==============================] - 18s 69us/step - loss: 0.0812 - accuracy: 0.9754\n",
      "Epoch 2/3\n",
      "252161/252161 [==============================] - 19s 73us/step - loss: 0.0809 - accuracy: 0.9754\n",
      "Epoch 3/3\n",
      "252161/252161 [==============================] - 19s 76us/step - loss: 0.0809 - accuracy: 0.9754\n"
     ]
    },
    {
     "data": {
      "text/plain": [
       "<keras.callbacks.callbacks.History at 0x184d4c08688>"
      ]
     },
     "execution_count": 14,
     "metadata": {},
     "output_type": "execute_result"
    },
    {
     "name": "stdout",
     "output_type": "stream",
     "text": [
      "accuracy_score 0.9781568991362696\n",
      "recall_score 0.5456656346749226\n",
      "precision_score 0.9657534246575342\n",
      "f1_score 0.6973293768545994\n",
      "======Training stage======\n",
      "Epoch 1/3\n",
      "252162/252162 [==============================] - 19s 76us/step - loss: 0.0801 - accuracy: 0.9757\n",
      "Epoch 2/3\n",
      "252162/252162 [==============================] - 19s 74us/step - loss: 0.0804 - accuracy: 0.9757\n",
      "Epoch 3/3\n",
      "252162/252162 [==============================] - 19s 75us/step - loss: 0.0802 - accuracy: 0.9757\n"
     ]
    },
    {
     "data": {
      "text/plain": [
       "<keras.callbacks.callbacks.History at 0x184d7d3ab88>"
      ]
     },
     "execution_count": 14,
     "metadata": {},
     "output_type": "execute_result"
    },
    {
     "name": "stdout",
     "output_type": "stream",
     "text": [
      "accuracy_score 0.9753720955134383\n",
      "recall_score 0.5472358292512246\n",
      "precision_score 0.9478787878787879\n",
      "f1_score 0.6938775510204082\n",
      "\n",
      "K-fold cross validation Accuracy: [0.9750874437861374, 0.9782639731601114, 0.975587122564066, 0.9749089870797345, 0.974766221714612, 0.9751231351274181, 0.9748376043971733, 0.9746234563494897, 0.9781568991362696, 0.9753720955134383]\n",
      "\n",
      "K-fold cross validation Recall: [0.5220216606498195, 0.558667676003028, 0.5388489208633094, 0.521551724137931, 0.5087847730600292, 0.5253256150506512, 0.5271317829457365, 0.508400292184076, 0.5456656346749226, 0.5472358292512246]\n",
      "\n",
      "K-fold cross validation Precision: [0.9525691699604744, 0.9659685863874345, 0.9457070707070707, 0.9515072083879423, 0.9507523939808481, 0.9465449804432855, 0.9565217391304348, 0.9482288828337875, 0.9657534246575342, 0.9478787878787879]\n",
      "\n",
      "K-fold cross validation F1-Score: [0.6744402985074627, 0.7079136690647482, 0.6865261228230981, 0.6737819025522042, 0.6628516928946113, 0.6756630991158677, 0.6796910495229441, 0.6619115549215406, 0.6973293768545994, 0.6938775510204082]\n"
     ]
    }
   ],
   "source": [
    "# 교차검증 kfold\n",
    "from sklearn.model_selection import KFold\n",
    "\n",
    "# Accuracy, Precision, Recall, F1-Score\n",
    "from sklearn.metrics import accuracy_score, recall_score, precision_score, f1_score\n",
    "\n",
    "# Confusion Matrix, ROC Curve\n",
    "from sklearn.metrics import confusion_matrix, roc_auc_score\n",
    "\n",
    "# 최종 평가지표들 평균용\n",
    "accuracy, recall, precision, f1score, cm = [], [], [], [], []\n",
    "\n",
    "# 11. 교차검증 kfold - k.split - 10회 / K-Fold 객체 생성\n",
    "# kf = KFold(n_splits=10, shuffle=False, random_state=None) # KFold non shuffle 버전\n",
    "kf = KFold(n_splits=10, shuffle=True, random_state=None) # KFold non shuffle 버전\n",
    "\n",
    "for train, validation in kf.split(x_gcc4_0123_32, y_gcc4_0123_32):\n",
    "    print('======Training stage======')\n",
    "    model1.fit(x_gcc4_0123_32[train],\n",
    "               y_gcc4_0123_32[train],\n",
    "               epochs = 3,\n",
    "               batch_size = 32,\n",
    "               callbacks=[early_stopping])\n",
    "    #k_accuracy = '%.4f' %(model1.evaluate(data_10000x[validation], data_10000y[validation])[1])\n",
    "\n",
    "# 12. 교차검증결과 predict - 검증셋들\n",
    "    # predict 값\n",
    "    k_pr = model1.predict(x_gcc4_0123_32[validation])\n",
    "    \n",
    "    # 테스트 predict 결과들 비교 (평가지표 보기위함)\n",
    "    pred = np.round(np.array(k_pr).flatten().tolist())\n",
    "    y_test = np.array(y_gcc4_0123_32[validation]).flatten().tolist()\n",
    "    \n",
    "# 13. 평가지표들 출력\n",
    "    ## 평가지표들\n",
    "    k_accuracy = float(accuracy_score(y_test, pred))\n",
    "    k_recall =  float(recall_score(y_test, pred))\n",
    "    k_precision = float(precision_score(y_test, pred))\n",
    "    k_f1_score = float(f1_score(y_test, pred))\n",
    "    #k_cm = float(confusion_matrix(y_test, pred))\n",
    "    \n",
    "    print('accuracy_score', k_accuracy)\n",
    "    print('recall_score', k_recall)\n",
    "    print('precision_score', k_precision)\n",
    "    print('f1_score', k_f1_score)\n",
    "    #print('\\nconfusion_matrix\\n', k_cm)\n",
    "\n",
    "    accuracy.append(k_accuracy)\n",
    "    recall.append(k_recall)\n",
    "    precision.append(k_precision)\n",
    "    f1score.append(k_f1_score)\n",
    "    #cm.append(k_cm)\n",
    "#    print('roc_curve 면적', roc_auc_score(y_test, pred))\n",
    "\n",
    "# 14. 최종 결과지표\n",
    "print('\\nK-fold cross validation Accuracy: {}'.format(accuracy))\n",
    "print('\\nK-fold cross validation Recall: {}'.format(recall))\n",
    "print('\\nK-fold cross validation Precision: {}'.format(precision))\n",
    "print('\\nK-fold cross validation F1-Score: {}'.format(f1score))\n",
    "#print('\\nK-fold cross validation ConfusionMatrix: {}'.format(cm))"
   ]
  },
  {
   "cell_type": "code",
   "execution_count": 18,
   "metadata": {},
   "outputs": [
    {
     "name": "stdout",
     "output_type": "stream",
     "text": [
      "10-Fold Cross_validation. Accuracy : 0.9756726740097349\n",
      "10-Fold Cross_validation. Recall : 0.529789968837877\n",
      "10-Fold Cross_validation. Precision : 0.969602268630877\n",
      "10-Fold Cross_validation. F1-Score : 0.6323657927482637\n"
     ]
    }
   ],
   "source": [
    "print('10-Fold Cross_validation. Accuracy :', np.mean(accuracy))\n",
    "print('10-Fold Cross_validation. Recall :', np.mean(recall))\n",
    "print('10-Fold Cross_validation. Precision :', np.mean(precision))\n",
    "print('10-Fold Cross_validation. F1-Score :', np.mean(f1score))"
   ]
  },
  {
   "cell_type": "code",
   "execution_count": null,
   "metadata": {},
   "outputs": [],
   "source": []
  }
 ],
 "metadata": {
  "kernelspec": {
   "display_name": "Python 3",
   "language": "python",
   "name": "python3"
  },
  "language_info": {
   "codemirror_mode": {
    "name": "ipython",
    "version": 3
   },
   "file_extension": ".py",
   "mimetype": "text/x-python",
   "name": "python",
   "nbconvert_exporter": "python",
   "pygments_lexer": "ipython3",
   "version": "3.7.5"
  }
 },
 "nbformat": 4,
 "nbformat_minor": 4
}
