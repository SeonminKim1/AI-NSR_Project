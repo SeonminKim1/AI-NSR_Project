{
 "cells": [
  {
   "cell_type": "code",
   "execution_count": 15,
   "metadata": {},
   "outputs": [
    {
     "name": "stdout",
     "output_type": "stream",
     "text": [
      "(2686650, 2) (1878528, 2) (1957461, 2) (2416238, 2)\n",
      "reset_index 완료\n"
     ]
    },
    {
     "data": {
      "text/html": [
       "<div>\n",
       "<style scoped>\n",
       "    .dataframe tbody tr th:only-of-type {\n",
       "        vertical-align: middle;\n",
       "    }\n",
       "\n",
       "    .dataframe tbody tr th {\n",
       "        vertical-align: top;\n",
       "    }\n",
       "\n",
       "    .dataframe thead th {\n",
       "        text-align: right;\n",
       "    }\n",
       "</style>\n",
       "<table border=\"1\" class=\"dataframe\">\n",
       "  <thead>\n",
       "    <tr style=\"text-align: right;\">\n",
       "      <th></th>\n",
       "      <th>bin</th>\n",
       "      <th>label</th>\n",
       "    </tr>\n",
       "  </thead>\n",
       "  <tbody>\n",
       "    <tr>\n",
       "      <th>0</th>\n",
       "      <td>55</td>\n",
       "      <td>1</td>\n",
       "    </tr>\n",
       "    <tr>\n",
       "      <th>1</th>\n",
       "      <td>48</td>\n",
       "      <td>0</td>\n",
       "    </tr>\n",
       "    <tr>\n",
       "      <th>2</th>\n",
       "      <td>89</td>\n",
       "      <td>0</td>\n",
       "    </tr>\n",
       "    <tr>\n",
       "      <th>3</th>\n",
       "      <td>e5</td>\n",
       "      <td>0</td>\n",
       "    </tr>\n",
       "    <tr>\n",
       "      <th>4</th>\n",
       "      <td>48</td>\n",
       "      <td>0</td>\n",
       "    </tr>\n",
       "  </tbody>\n",
       "</table>\n",
       "</div>"
      ],
      "text/plain": [
       "  bin  label\n",
       "0  55      1\n",
       "1  48      0\n",
       "2  89      0\n",
       "3  e5      0\n",
       "4  48      0"
      ]
     },
     "execution_count": 15,
     "metadata": {},
     "output_type": "execute_result"
    }
   ],
   "source": [
    "# (1) 데이터로드\n",
    "import pandas as pd\n",
    "import numpy as np\n",
    "from keras.utils import np_utils\n",
    "\n",
    "import warnings\n",
    "warnings.filterwarnings(action='ignore')\n",
    "\n",
    "# 여러개 쳐도 나오게\n",
    "from IPython.core.interactiveshell import InteractiveShell\n",
    "InteractiveShell.ast_node_interactivity = \"all\"\n",
    "\n",
    "# 파일읽기\n",
    "\n",
    "# gcc6_0~3\n",
    "gcc_version = 'gcc5'\n",
    "gcc6_0_32 = pd.read_csv(\"binutils_gcc3~9_op0~4_csv/\"+gcc_version+\"_0_32.csv\", index_col=0)\n",
    "gcc6_1_32 = pd.read_csv(\"binutils_gcc3~9_op0~4_csv/\"+gcc_version+\"_1_32.csv\", index_col=0)\n",
    "gcc6_2_32 = pd.read_csv(\"binutils_gcc3~9_op0~4_csv/\"+gcc_version+\"_2_32.csv\", index_col=0)\n",
    "gcc6_3_32 = pd.read_csv(\"binutils_gcc3~9_op0~4_csv/\"+gcc_version+\"_3_32.csv\", index_col=0)\n",
    "\n",
    "# 형태 출력\n",
    "print(gcc6_0_32.shape, gcc6_1_32.shape, gcc6_2_32.shape, gcc6_3_32.shape) # train\n",
    "\n",
    "# reset_index (hex processing 하면서 값이 빠졌으니까 + n_gram 에서 index를 다루기 때문에)\n",
    "gcc6_0_32.reset_index(inplace=True, drop=True)\n",
    "gcc6_1_32.reset_index(inplace=True, drop=True)\n",
    "gcc6_2_32.reset_index(inplace=True, drop=True)\n",
    "gcc6_3_32.reset_index(inplace=True, drop=True)\n",
    "\n",
    "print('reset_index 완료')\n",
    "gcc6_0_32.head()"
   ]
  },
  {
   "cell_type": "code",
   "execution_count": 16,
   "metadata": {},
   "outputs": [
    {
     "name": "stdout",
     "output_type": "stream",
     "text": [
      "256 256\n",
      "256 256\n"
     ]
    }
   ],
   "source": [
    "# (2-1) 데이터체크 - hex(16진수)가 256 label을 가져야 dummies 변환 가능 \n",
    "\n",
    "# 16진수 256개 종류가 있어서 pd.get_dummies 사용 가능.\n",
    "print(len(gcc6_0_32['bin'].unique()),len(gcc6_1_32['bin'].unique()))\n",
    "print(len(gcc6_2_32['bin'].unique()),len(gcc6_3_32['bin'].unique()))"
   ]
  },
  {
   "cell_type": "code",
   "execution_count": 17,
   "metadata": {},
   "outputs": [
    {
     "name": "stdout",
     "output_type": "stream",
     "text": [
      "원핫인코딩완료\n",
      "(2686650, 257) (1878528, 257) (1957461, 257) (2416238, 257)\n"
     ]
    }
   ],
   "source": [
    "# (3) get_dummies 변환 \n",
    "\n",
    "# 훈련데이터 (gcc 최적화버전 0, 1, 2, 3 one hot encoding)\n",
    "gcc6_0_32_onehot = pd.get_dummies(gcc6_0_32)\n",
    "gcc6_1_32_onehot = pd.get_dummies(gcc6_1_32)\n",
    "gcc6_2_32_onehot = pd.get_dummies(gcc6_2_32)\n",
    "gcc6_3_32_onehot = pd.get_dummies(gcc6_3_32)\n",
    "print('원핫인코딩완료')\n",
    "\n",
    "print(gcc6_0_32_onehot.shape, gcc6_1_32_onehot.shape, gcc6_2_32_onehot.shape, gcc6_3_32_onehot.shape)"
   ]
  },
  {
   "cell_type": "code",
   "execution_count": 18,
   "metadata": {},
   "outputs": [
    {
     "name": "stdout",
     "output_type": "stream",
     "text": [
      "0    2682208\n",
      "1       4442\n",
      "Name: label, dtype: int64 \n",
      " 0    1875181\n",
      "1       3347\n",
      "Name: label, dtype: int64\n",
      "0    1954180\n",
      "1       3281\n",
      "Name: label, dtype: int64 \n",
      " 0    2413218\n",
      "1       3020\n",
      "Name: label, dtype: int64\n"
     ]
    }
   ],
   "source": [
    "# (4) 데이터 체크 - 1, 0 비율 ==> 1이 함수의 갯수를 뜻함\n",
    "\n",
    "# 정답 데이터 1, 0 비율 확인  ==> 1이 함수의 갯수를 뜻함\n",
    "print(gcc6_0_32_onehot['label'].value_counts(), '\\n', gcc6_1_32_onehot['label'].value_counts())\n",
    "print(gcc6_2_32_onehot['label'].value_counts(), '\\n', gcc6_3_32_onehot['label'].value_counts())"
   ]
  },
  {
   "cell_type": "code",
   "execution_count": 19,
   "metadata": {},
   "outputs": [
    {
     "data": {
      "text/plain": [
       "00    563504\n",
       "48    337916\n",
       "8b    176237\n",
       "ff    170570\n",
       "89    115546\n",
       "       ...  \n",
       "93       238\n",
       "b1       222\n",
       "a6       206\n",
       "9e       181\n",
       "a9       180\n",
       "Name: bin, Length: 256, dtype: int64"
      ]
     },
     "execution_count": 19,
     "metadata": {},
     "output_type": "execute_result"
    }
   ],
   "source": [
    "# 전체 행렬에 대한 value_counts()\n",
    "gcc6_0_32['bin'].value_counts()"
   ]
  },
  {
   "cell_type": "code",
   "execution_count": 6,
   "metadata": {},
   "outputs": [
    {
     "name": "stdout",
     "output_type": "stream",
     "text": [
      "gcc6_0_32 92464\n"
     ]
    }
   ],
   "source": [
    "# (5-1) gcc6 - 30gram(앞뒤로 3개씩) - 함수의 시작\n",
    "######################## gcc6_0_32\n",
    "idx0 = gcc6_0_32_onehot[gcc6_0_32_onehot['label']==1].index  # 407, 474 ...\n",
    "ls0 = list(idx0)\n",
    "\n",
    "# value_counts()\n",
    "# 0    2151901\n",
    "# 1       4307\n",
    "\n",
    "# 최종 뽑을 행에 대한 index\n",
    "ls_idx0 = [] \n",
    "# left_idx, right_idx = -3, 4  # 3개씩\n",
    "left_idx, right_idx = -5, 11 # 10개씩\n",
    "# left_idx, right_idx = -30, 31 # 30개씩\n",
    "# left_idx, right_idx = -90, 91 # 90개씩\n",
    "\n",
    "\n",
    "# 전체 index에 -10더한 index들 -9 더한 인덱스들, ~~~ 10더한 index들 다 합침.(extend)\n",
    "for k in range(left_idx, right_idx):\n",
    "    ls_idx0.extend(list(idx0 + k)) # index 형이라서 가능\n",
    "\n",
    "ls_idx0 = list(set(ls_idx0))    \n",
    "# print(len(ls_idx0))\n",
    "\n",
    "ls_idx0.sort() # 인덱스 정렬\n",
    "ls_idx0 = list(filter(lambda x: x>0, ls_idx0)) # 0이상인 값들만 \n",
    "ls_idx0 = list(filter(lambda x: x<len(gcc6_0_32_onehot), ls_idx0))\n",
    "\n",
    "print('gcc6_0_32', len(ls_idx0))\n",
    "\n",
    "# loc 로 수정필요\n",
    "gcc6_0_32_onehot_30gram = gcc6_0_32_onehot.loc[ls_idx0,:].copy()"
   ]
  },
  {
   "cell_type": "code",
   "execution_count": 7,
   "metadata": {},
   "outputs": [
    {
     "name": "stdout",
     "output_type": "stream",
     "text": [
      "gcc6_1_32 66823\n"
     ]
    }
   ],
   "source": [
    "# (5-2) gcc6 - 30gram(앞뒤로 3개씩) - 함수의 시작\n",
    "######################## gcc6_0_32\n",
    "idx1 = gcc6_1_32_onehot[gcc6_1_32_onehot['label']==1].index  # 407, 474 ...\n",
    "ls1 = list(idx1)\n",
    "\n",
    "# value_counts()\n",
    "# 0    2151901\n",
    "# 1       4307\n",
    "\n",
    "# 최종 뽑을 행에 대한 index\n",
    "ls_idx1 = [] \n",
    "\n",
    "# 전체 index에 -10더한 index들 -9 더한 인덱스들, ~~~ 10더한 index들 다 합침.(extend)\n",
    "for k in range(left_idx, right_idx):\n",
    "    ls_idx1.extend(list(idx1 + k)) # index 형이라서 가능\n",
    "\n",
    "ls_idx1 = list(set(ls_idx1))    \n",
    "# print(len(ls_idx0))\n",
    "\n",
    "ls_idx1.sort() # 인덱스 정렬\n",
    "ls_idx1 = list(filter(lambda x: x>0, ls_idx1)) # 0이상인 값들만 \n",
    "ls_idx1 = list(filter(lambda x: x<len(gcc6_1_32_onehot), ls_idx1))\n",
    "\n",
    "print('gcc6_1_32', len(ls_idx1))\n",
    "\n",
    "# loc 로 수정필요\n",
    "gcc6_1_32_onehot_30gram = gcc6_1_32_onehot.loc[ls_idx1,:].copy()\n"
   ]
  },
  {
   "cell_type": "code",
   "execution_count": 8,
   "metadata": {},
   "outputs": [
    {
     "name": "stdout",
     "output_type": "stream",
     "text": [
      "gcc6_2_32 66460\n"
     ]
    }
   ],
   "source": [
    "\n",
    "# (5-3) gcc6 - 30gram(앞뒤로 3개씩) - 함수의 시작\n",
    "######################## gcc6_0_32\n",
    "idx2 = gcc6_2_32_onehot[gcc6_2_32_onehot['label']==1].index  # 407, 474 ...\n",
    "ls2 = list(idx2)\n",
    "\n",
    "# value_counts()\n",
    "# 0    2151901\n",
    "# 1       4307\n",
    "\n",
    "# 최종 뽑을 행에 대한 index\n",
    "ls_idx2 = [] \n",
    "\n",
    "# 전체 index에 -10더한 index들 -9 더한 인덱스들, ~~~ 10더한 index들 다 합침.(extend)\n",
    "for k in range(left_idx, right_idx):\n",
    "    ls_idx2.extend(list(idx2 + k)) # index 형이라서 가능\n",
    "\n",
    "ls_idx2 = list(set(ls_idx2))    \n",
    "# print(len(ls_idx0))\n",
    "\n",
    "ls_idx2.sort() # 인덱스 정렬\n",
    "ls_idx2 = list(filter(lambda x: x>0, ls_idx2)) # 0이상인 값들만 \n",
    "ls_idx2 = list(filter(lambda x: x<len(gcc6_2_32_onehot), ls_idx2))\n",
    "\n",
    "print('gcc6_2_32', len(ls_idx2))\n",
    "\n",
    "# loc 로 수정필요\n",
    "gcc6_2_32_onehot_30gram = gcc6_2_32_onehot.loc[ls_idx2,:].copy()\n"
   ]
  },
  {
   "cell_type": "code",
   "execution_count": 9,
   "metadata": {},
   "outputs": [
    {
     "name": "stdout",
     "output_type": "stream",
     "text": [
      "gcc6_3_32 61412\n"
     ]
    }
   ],
   "source": [
    "\n",
    "# (5-3) gcc6 - 30gram(앞뒤로 3개씩) - 함수의 시작\n",
    "######################## gcc6_0_32\n",
    "idx3 = gcc6_3_32_onehot[gcc6_3_32_onehot['label']==1].index  # 407, 474 ...\n",
    "ls3 = list(idx3)\n",
    "\n",
    "# value_counts()\n",
    "# 0    2151901\n",
    "# 1       4307\n",
    "\n",
    "# 최종 뽑을 행에 대한 index\n",
    "ls_idx3 = [] \n",
    "\n",
    "# 전체 index에 -10더한 index들 -9 더한 인덱스들, ~~~ 10더한 index들 다 합침.(extend)\n",
    "for k in range(left_idx, right_idx):\n",
    "    ls_idx3.extend(list(idx3 + k)) # index 형이라서 가능\n",
    "\n",
    "ls_idx3 = list(set(ls_idx3))    \n",
    "# print(len(ls_idx0))\n",
    "\n",
    "ls_idx3.sort() # 인덱스 정렬\n",
    "ls_idx3 = list(filter(lambda x: x>0, ls_idx3)) # 0이상인 값들만 \n",
    "ls_idx3 = list(filter(lambda x: x<len(gcc6_3_32_onehot), ls_idx3))\n",
    "\n",
    "print('gcc6_3_32', len(ls_idx3))\n",
    "\n",
    "# loc 로 수정필요\n",
    "gcc6_3_32_onehot_30gram = gcc6_3_32_onehot.loc[ls_idx3,:].copy()\n"
   ]
  },
  {
   "cell_type": "code",
   "execution_count": 10,
   "metadata": {},
   "outputs": [
    {
     "name": "stdout",
     "output_type": "stream",
     "text": [
      "(92464, 256) (92464,)\n",
      "(66823, 256) (66823,)\n",
      "(66460, 256) (66460,)\n",
      "(61412, 256) (61412,)\n"
     ]
    }
   ],
   "source": [
    "# (7) 훈련데이터, 훈련라벨 분리 012\n",
    "\n",
    "# 훈련 데이터, 훈련 라벨\n",
    "x_gcc6_0_32 = gcc6_0_32_onehot_30gram.iloc[:,1:].to_numpy()\n",
    "y_gcc6_0_32 = gcc6_0_32_onehot_30gram['label'].to_numpy()\n",
    "\n",
    "x_gcc6_1_32 = gcc6_1_32_onehot_30gram.iloc[:,1:].to_numpy()\n",
    "y_gcc6_1_32 = gcc6_1_32_onehot_30gram['label'].to_numpy()\n",
    "\n",
    "x_gcc6_2_32 = gcc6_2_32_onehot_30gram.iloc[:,1:].to_numpy()\n",
    "y_gcc6_2_32 = gcc6_2_32_onehot_30gram['label'].to_numpy()\n",
    "\n",
    "# 테스트 데이터, 테스트 라벨\n",
    "x_gcc6_3_32 = gcc6_3_32_onehot_30gram.iloc[:,1:].to_numpy()\n",
    "y_gcc6_3_32 = gcc6_3_32_onehot_30gram['label'].to_numpy()\n",
    "\n",
    "# train\n",
    "print(x_gcc6_0_32.shape, y_gcc6_0_32.shape)\n",
    "print(x_gcc6_1_32.shape, y_gcc6_1_32.shape)\n",
    "print(x_gcc6_2_32.shape, y_gcc6_2_32.shape)\n",
    "\n",
    "# test\n",
    "print(x_gcc6_3_32.shape, y_gcc6_3_32.shape)"
   ]
  },
  {
   "cell_type": "code",
   "execution_count": 11,
   "metadata": {},
   "outputs": [
    {
     "name": "stdout",
     "output_type": "stream",
     "text": [
      "(92464, 1, 256) (92464, 1, 1)\n",
      "(66823, 1, 256) (66823, 1, 1)\n",
      "(66460, 1, 256) (66460, 1, 1)\n",
      "(61412, 1, 256) (61412, 1, 1)\n"
     ]
    }
   ],
   "source": [
    "# (8) 훈련데이터, 훈련라벨 reshape 작업 => # ex - (605, 1, 256)\n",
    "\n",
    "## gcc6_0_32\n",
    "x_gcc6_0_32 = x_gcc6_0_32.reshape(x_gcc6_0_32.shape[0], 1, x_gcc6_0_32.shape[1])\n",
    "y_gcc6_0_32 = y_gcc6_0_32.reshape(y_gcc6_0_32.shape[0], 1, 1)\n",
    "\n",
    "## gcc6_1_32\n",
    "x_gcc6_1_32 = x_gcc6_1_32.reshape(x_gcc6_1_32.shape[0], 1, x_gcc6_1_32.shape[1])\n",
    "y_gcc6_1_32 = y_gcc6_1_32.reshape(y_gcc6_1_32.shape[0], 1, 1)\n",
    "\n",
    "## gcc6_2_32\n",
    "x_gcc6_2_32 = x_gcc6_2_32.reshape(x_gcc6_2_32.shape[0], 1, x_gcc6_2_32.shape[1])\n",
    "y_gcc6_2_32 = y_gcc6_2_32.reshape(y_gcc6_2_32.shape[0], 1, 1)\n",
    "\n",
    "### test data\n",
    "## gcc6_3_32\n",
    "x_gcc6_3_32 = x_gcc6_3_32.reshape(x_gcc6_3_32.shape[0], 1, x_gcc6_3_32.shape[1])\n",
    "y_gcc6_3_32 = y_gcc6_3_32.reshape(y_gcc6_3_32.shape[0], 1, 1)\n",
    "\n",
    "print(x_gcc6_0_32.shape, y_gcc6_0_32.shape)\n",
    "print(x_gcc6_1_32.shape, y_gcc6_1_32.shape)\n",
    "print(x_gcc6_2_32.shape, y_gcc6_2_32.shape)\n",
    "\n",
    "## test data\n",
    "print(x_gcc6_3_32.shape, y_gcc6_3_32.shape)"
   ]
  },
  {
   "cell_type": "code",
   "execution_count": 12,
   "metadata": {},
   "outputs": [
    {
     "name": "stdout",
     "output_type": "stream",
     "text": [
      "(287159, 1, 256) (287159, 1, 1)\n"
     ]
    }
   ],
   "source": [
    "# (9) 최종 훈련데이터, 훈련라벨 concatenate 작업\n",
    "# 0123 / 3\n",
    "x_gcc6_0123_32 = np.concatenate((x_gcc6_0_32, x_gcc6_1_32, x_gcc6_2_32, x_gcc6_3_32), axis=0)\n",
    "y_gcc6_0123_32 = np.concatenate((y_gcc6_0_32, y_gcc6_1_32, y_gcc6_2_32, y_gcc6_3_32), axis=0)\n",
    "print(x_gcc6_0123_32.shape, y_gcc6_0123_32.shape)"
   ]
  },
  {
   "cell_type": "code",
   "execution_count": 13,
   "metadata": {
    "scrolled": false
   },
   "outputs": [
    {
     "name": "stdout",
     "output_type": "stream",
     "text": [
      "WARNING:tensorflow:From c:\\users\\urse\\anaconda3\\envs\\untitled\\lib\\site-packages\\tensorflow_core\\python\\ops\\resource_variable_ops.py:1630: calling BaseResourceVariable.__init__ (from tensorflow.python.ops.resource_variable_ops) with constraint is deprecated and will be removed in a future version.\n",
      "Instructions for updating:\n",
      "If using Keras pass *_constraint arguments to layers.\n",
      "======Training stage======\n",
      "WARNING:tensorflow:From c:\\users\\urse\\anaconda3\\envs\\untitled\\lib\\site-packages\\tensorflow_core\\python\\ops\\math_grad.py:1424: where (from tensorflow.python.ops.array_ops) is deprecated and will be removed in a future version.\n",
      "Instructions for updating:\n",
      "Use tf.where in 2.0, which has the same broadcast rule as np.where\n",
      "WARNING:tensorflow:From c:\\users\\urse\\anaconda3\\envs\\untitled\\lib\\site-packages\\keras\\backend\\tensorflow_backend.py:422: The name tf.global_variables is deprecated. Please use tf.compat.v1.global_variables instead.\n",
      "\n",
      "Epoch 1/3\n",
      "258443/258443 [==============================] - 25s 98us/step - loss: 0.1437 - accuracy: 0.9506\n",
      "Epoch 2/3\n",
      "258443/258443 [==============================] - 24s 94us/step - loss: 0.1341 - accuracy: 0.9508\n",
      "Epoch 3/3\n",
      "258443/258443 [==============================] - 24s 92us/step - loss: 0.1349 - accuracy: 0.9508\n"
     ]
    },
    {
     "data": {
      "text/plain": [
       "<keras.callbacks.callbacks.History at 0x25240699988>"
      ]
     },
     "execution_count": 13,
     "metadata": {},
     "output_type": "execute_result"
    },
    {
     "name": "stdout",
     "output_type": "stream",
     "text": [
      "accuracy_score 0.9519779913636996\n",
      "recall_score 0.0\n",
      "precision_score 0.0\n",
      "f1_score 0.0\n",
      "======Training stage======\n",
      "Epoch 1/3\n",
      "258443/258443 [==============================] - 24s 94us/step - loss: 0.1442 - accuracy: 0.9507\n",
      "Epoch 2/3\n",
      "258443/258443 [==============================] - 26s 99us/step - loss: 0.1341 - accuracy: 0.9509\n",
      "Epoch 3/3\n",
      "258443/258443 [==============================] - 23s 90us/step - loss: 0.1349 - accuracy: 0.9509\n"
     ]
    },
    {
     "data": {
      "text/plain": [
       "<keras.callbacks.callbacks.History at 0x25240709848>"
      ]
     },
     "execution_count": 13,
     "metadata": {},
     "output_type": "execute_result"
    },
    {
     "name": "stdout",
     "output_type": "stream",
     "text": [
      "accuracy_score 0.9517342248223987\n",
      "recall_score 0.0\n",
      "precision_score 0.0\n",
      "f1_score 0.0\n",
      "======Training stage======\n",
      "Epoch 1/3\n",
      "258443/258443 [==============================] - 26s 101us/step - loss: 0.1442 - accuracy: 0.9507\n",
      "Epoch 2/3\n",
      "258443/258443 [==============================] - 27s 104us/step - loss: 0.1339 - accuracy: 0.9508\n",
      "Epoch 3/3\n",
      "258443/258443 [==============================] - 27s 103us/step - loss: 0.1340 - accuracy: 0.9508\n"
     ]
    },
    {
     "data": {
      "text/plain": [
       "<keras.callbacks.callbacks.History at 0x252421671c8>"
      ]
     },
     "execution_count": 13,
     "metadata": {},
     "output_type": "execute_result"
    },
    {
     "name": "stdout",
     "output_type": "stream",
     "text": [
      "accuracy_score 0.9521521103217718\n",
      "recall_score 0.0\n",
      "precision_score 0.0\n",
      "f1_score 0.0\n",
      "======Training stage======\n",
      "Epoch 1/3\n",
      "258443/258443 [==============================] - 27s 103us/step - loss: 0.1354 - accuracy: 0.9508\n",
      "Epoch 2/3\n",
      "258443/258443 [==============================] - 26s 99us/step - loss: 0.1257 - accuracy: 0.9509\n",
      "Epoch 3/3\n",
      "258443/258443 [==============================] - 26s 100us/step - loss: 0.1266 - accuracy: 0.9507\n"
     ]
    },
    {
     "data": {
      "text/plain": [
       "<keras.callbacks.callbacks.History at 0x2524246da08>"
      ]
     },
     "execution_count": 13,
     "metadata": {},
     "output_type": "execute_result"
    },
    {
     "name": "stdout",
     "output_type": "stream",
     "text": [
      "accuracy_score 0.9504805683242792\n",
      "recall_score 0.0\n",
      "precision_score 0.0\n",
      "f1_score 0.0\n",
      "======Training stage======\n",
      "Epoch 1/3\n",
      "258443/258443 [==============================] - 26s 99us/step - loss: 0.1327 - accuracy: 0.9516\n",
      "Epoch 2/3\n",
      "258443/258443 [==============================] - 25s 97us/step - loss: 0.1232 - accuracy: 0.9522\n",
      "Epoch 3/3\n",
      "258443/258443 [==============================] - 25s 98us/step - loss: 0.1239 - accuracy: 0.9525\n"
     ]
    },
    {
     "data": {
      "text/plain": [
       "<keras.callbacks.callbacks.History at 0x252455a9908>"
      ]
     },
     "execution_count": 13,
     "metadata": {},
     "output_type": "execute_result"
    },
    {
     "name": "stdout",
     "output_type": "stream",
     "text": [
      "accuracy_score 0.9246064911547569\n",
      "recall_score 0.10083449235048679\n",
      "precision_score 0.14257620452310718\n",
      "f1_score 0.11812627291242363\n",
      "======Training stage======\n",
      "Epoch 1/3\n",
      "258443/258443 [==============================] - 26s 101us/step - loss: 0.1344 - accuracy: 0.9518\n",
      "Epoch 2/3\n",
      "258443/258443 [==============================] - 28s 110us/step - loss: 0.1242 - accuracy: 0.9517\n",
      "Epoch 3/3\n",
      "258443/258443 [==============================] - 29s 113us/step - loss: 0.1249 - accuracy: 0.9521\n"
     ]
    },
    {
     "data": {
      "text/plain": [
       "<keras.callbacks.callbacks.History at 0x25245c52488>"
      ]
     },
     "execution_count": 13,
     "metadata": {},
     "output_type": "execute_result"
    },
    {
     "name": "stdout",
     "output_type": "stream",
     "text": [
      "accuracy_score 0.9500278590332916\n",
      "recall_score 0.0\n",
      "precision_score 0.0\n",
      "f1_score 0.0\n",
      "======Training stage======\n",
      "Epoch 1/3\n",
      "258443/258443 [==============================] - 28s 107us/step - loss: 0.1357 - accuracy: 0.9506\n",
      "Epoch 2/3\n",
      "258443/258443 [==============================] - 31s 120us/step - loss: 0.1251 - accuracy: 0.9512\n",
      "Epoch 3/3\n",
      "258443/258443 [==============================] - 29s 111us/step - loss: 0.1255 - accuracy: 0.9515\n"
     ]
    },
    {
     "data": {
      "text/plain": [
       "<keras.callbacks.callbacks.History at 0x25249952cc8>"
      ]
     },
     "execution_count": 13,
     "metadata": {},
     "output_type": "execute_result"
    },
    {
     "name": "stdout",
     "output_type": "stream",
     "text": [
      "accuracy_score 0.9506198634907369\n",
      "recall_score 0.0\n",
      "precision_score 0.0\n",
      "f1_score 0.0\n",
      "======Training stage======\n",
      "Epoch 1/3\n",
      "258443/258443 [==============================] - 30s 116us/step - loss: 0.1351 - accuracy: 0.9515\n",
      "Epoch 2/3\n",
      "258443/258443 [==============================] - 28s 109us/step - loss: 0.1251 - accuracy: 0.9515\n",
      "Epoch 3/3\n",
      "258443/258443 [==============================] - 28s 108us/step - loss: 0.1248 - accuracy: 0.9520\n"
     ]
    },
    {
     "data": {
      "text/plain": [
       "<keras.callbacks.callbacks.History at 0x25249d91908>"
      ]
     },
     "execution_count": 13,
     "metadata": {},
     "output_type": "execute_result"
    },
    {
     "name": "stdout",
     "output_type": "stream",
     "text": [
      "accuracy_score 0.9271834517342248\n",
      "recall_score 0.0862190812720848\n",
      "precision_score 0.13260869565217392\n",
      "f1_score 0.10449678800856532\n",
      "======Training stage======\n",
      "Epoch 1/3\n",
      "258443/258443 [==============================] - 28s 110us/step - loss: 0.1350 - accuracy: 0.9519\n",
      "Epoch 2/3\n",
      "258443/258443 [==============================] - 30s 115us/step - loss: 0.1251 - accuracy: 0.9517\n",
      "Epoch 3/3\n",
      "258443/258443 [==============================] - 25s 96us/step - loss: 0.1257 - accuracy: 0.9520\n"
     ]
    },
    {
     "data": {
      "text/plain": [
       "<keras.callbacks.callbacks.History at 0x2524a1a3b48>"
      ]
     },
     "execution_count": 13,
     "metadata": {},
     "output_type": "execute_result"
    },
    {
     "name": "stdout",
     "output_type": "stream",
     "text": [
      "accuracy_score 0.9508984538236523\n",
      "recall_score 0.0\n",
      "precision_score 0.0\n",
      "f1_score 0.0\n",
      "======Training stage======\n",
      "Epoch 1/3\n",
      "258444/258444 [==============================] - 25s 97us/step - loss: 0.1353 - accuracy: 0.9517\n",
      "Epoch 2/3\n",
      "258444/258444 [==============================] - 23s 88us/step - loss: 0.1249 - accuracy: 0.9526\n",
      "Epoch 3/3\n",
      "258444/258444 [==============================] - 22s 84us/step - loss: 0.1247 - accuracy: 0.9525\n"
     ]
    },
    {
     "data": {
      "text/plain": [
       "<keras.callbacks.callbacks.History at 0x2524a62bb08>"
      ]
     },
     "execution_count": 13,
     "metadata": {},
     "output_type": "execute_result"
    },
    {
     "name": "stdout",
     "output_type": "stream",
     "text": [
      "accuracy_score 0.9236984154623019\n",
      "recall_score 0.0766501064584812\n",
      "precision_score 0.10821643286573146\n",
      "f1_score 0.08973826339842128\n",
      "\n",
      "K-fold cross validation Accuracy: [0.9519779913636996, 0.9517342248223987, 0.9521521103217718, 0.9504805683242792, 0.9246064911547569, 0.9500278590332916, 0.9506198634907369, 0.9271834517342248, 0.9508984538236523, 0.9236984154623019]\n",
      "\n",
      "K-fold cross validation Recall: [0.0, 0.0, 0.0, 0.0, 0.10083449235048679, 0.0, 0.0, 0.0862190812720848, 0.0, 0.0766501064584812]\n",
      "\n",
      "K-fold cross validation Precision: [0.0, 0.0, 0.0, 0.0, 0.14257620452310718, 0.0, 0.0, 0.13260869565217392, 0.0, 0.10821643286573146]\n",
      "\n",
      "K-fold cross validation F1-Score: [0.0, 0.0, 0.0, 0.0, 0.11812627291242363, 0.0, 0.0, 0.10449678800856532, 0.0, 0.08973826339842128]\n"
     ]
    }
   ],
   "source": [
    "# (10) 양방향 LSTM 모델링 작업\n",
    "from keras.models import Model, Sequential\n",
    "from keras.layers import SimpleRNN, Input, Dense, LSTM\n",
    "from keras.layers import Bidirectional, TimeDistributed\n",
    "\n",
    "# 교차검증 kfold\n",
    "from sklearn.model_selection import KFold\n",
    "\n",
    "# 학습\n",
    "from keras.callbacks import EarlyStopping\n",
    "early_stopping = EarlyStopping(patience = 3) # 조기종료 콜백함수 정의\n",
    "\n",
    "# Accuracy, Precision, Recall, F1-Score\n",
    "from sklearn.metrics import accuracy_score, recall_score, precision_score, f1_score\n",
    "\n",
    "# K-Fold 객체 생성\n",
    "kf = KFold(n_splits=10, shuffle=False, random_state=None) # KFold non shuffle 버전\n",
    "\n",
    "# Confusion Matrix\n",
    "from sklearn.metrics import confusion_matrix\n",
    "\n",
    "# ROC Curve\n",
    "from sklearn.metrics import roc_auc_score\n",
    "\n",
    "# 최종 평가지표들 평균용\n",
    "accuracy, recall, precision, f1score, cm = [], [], [], [], []\n",
    "\n",
    "# 11. 교차검증 kfold - k.split - 10회\n",
    "for train, validation in kf.split(x_gcc6_0123_32, y_gcc6_0123_32):\n",
    "    \n",
    "    xInput = Input(batch_shape=(None, 1, 256)) # \n",
    "    xBiLstm = Bidirectional(LSTM(16, return_sequences=True), merge_mode = 'concat')(xInput)\n",
    "    xOutput = TimeDistributed(Dense(1, activation ='sigmoid'))(xBiLstm) # 각 스텝에서 cost가 전송되고, 오류가 다음 step으로 전송됨.\n",
    "\n",
    "    model1 = Model(xInput, xOutput)\n",
    "    model1.compile(loss='binary_crossentropy', optimizer='rmsprop', metrics=['accuracy'])\n",
    "    #print(model1.summary())\n",
    "    print('======Training stage======')\n",
    "    model1.fit(x_gcc6_0123_32[train],\n",
    "               y_gcc6_0123_32[train],\n",
    "               epochs = 3,\n",
    "               batch_size = 32,\n",
    "               callbacks=[early_stopping])\n",
    "    #k_accuracy = '%.4f' %(model1.evaluate(data_10000x[validation], data_10000y[validation])[1])\n",
    "\n",
    "# 12. 교차검증결과 predict    \n",
    "    # predict 값\n",
    "    k_pr = model1.predict(x_gcc6_0123_32[validation])\n",
    "    \n",
    "    # 테스트 predict 결과들 비교 (평가지표 보기위함)\n",
    "    pred = np.round(np.array(k_pr).flatten().tolist())\n",
    "    y_test = np.array(y_gcc6_0123_32[validation]).flatten().tolist()\n",
    "    \n",
    "# 13. 평가지표들 출력\n",
    "    ## 평가지표들\n",
    "    k_accuracy = float(accuracy_score(y_test, pred))\n",
    "    k_recall =  float(recall_score(y_test, pred))\n",
    "    k_precision = float(precision_score(y_test, pred))\n",
    "    k_f1_score = float(f1_score(y_test, pred))\n",
    "    #k_cm = float(confusion_matrix(y_test, pred))\n",
    "    \n",
    "    print('accuracy_score', k_accuracy)\n",
    "    print('recall_score', k_recall)\n",
    "    print('precision_score', k_precision)\n",
    "    print('f1_score', k_f1_score)\n",
    "    #print('\\nconfusion_matrix\\n', k_cm)\n",
    "\n",
    "    accuracy.append(k_accuracy)\n",
    "    recall.append(k_recall)\n",
    "    precision.append(k_precision)\n",
    "    f1score.append(k_f1_score)\n",
    "    #cm.append(k_cm)\n",
    "#    print('roc_curve 면적', roc_auc_score(y_test, pred))\n",
    "\n",
    "# 14. 최종 결과지표\n",
    "print('\\nK-fold cross validation Accuracy: {}'.format(accuracy))\n",
    "print('\\nK-fold cross validation Recall: {}'.format(recall))\n",
    "print('\\nK-fold cross validation Precision: {}'.format(precision))\n",
    "print('\\nK-fold cross validation F1-Score: {}'.format(f1score))\n",
    "#print('\\nK-fold cross validation ConfusionMatrix: {}'.format(cm))"
   ]
  },
  {
   "cell_type": "code",
   "execution_count": 14,
   "metadata": {},
   "outputs": [
    {
     "name": "stdout",
     "output_type": "stream",
     "text": [
      "10-Fold Cross_validation. Accuracy : 0.9433379429531115\n",
      "10-Fold Cross_validation. Recall : 0.02637036800810528\n",
      "10-Fold Cross_validation. Precision : 0.038340133304101257\n",
      "10-Fold Cross_validation. F1-Score : 0.03123613243194102\n"
     ]
    }
   ],
   "source": [
    "print('10-Fold Cross_validation. Accuracy :', np.mean(accuracy))\n",
    "print('10-Fold Cross_validation. Recall :', np.mean(recall))\n",
    "print('10-Fold Cross_validation. Precision :', np.mean(precision))\n",
    "print('10-Fold Cross_validation. F1-Score :', np.mean(f1score))"
   ]
  },
  {
   "cell_type": "code",
   "execution_count": null,
   "metadata": {},
   "outputs": [],
   "source": []
  }
 ],
 "metadata": {
  "kernelspec": {
   "display_name": "Python 3",
   "language": "python",
   "name": "python3"
  },
  "language_info": {
   "codemirror_mode": {
    "name": "ipython",
    "version": 3
   },
   "file_extension": ".py",
   "mimetype": "text/x-python",
   "name": "python",
   "nbconvert_exporter": "python",
   "pygments_lexer": "ipython3",
   "version": "3.7.5"
  }
 },
 "nbformat": 4,
 "nbformat_minor": 4
}
