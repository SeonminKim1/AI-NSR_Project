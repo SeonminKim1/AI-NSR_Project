{
 "cells": [
  {
   "cell_type": "code",
   "execution_count": 1,
   "metadata": {},
   "outputs": [
    {
     "name": "stderr",
     "output_type": "stream",
     "text": [
      "Using TensorFlow backend.\n"
     ]
    },
    {
     "name": "stdout",
     "output_type": "stream",
     "text": [
      "(2686650, 2) (1878528, 2) (1957461, 2) (2416238, 2)\n",
      "reset_index 완료\n"
     ]
    },
    {
     "data": {
      "text/html": [
       "<div>\n",
       "<style scoped>\n",
       "    .dataframe tbody tr th:only-of-type {\n",
       "        vertical-align: middle;\n",
       "    }\n",
       "\n",
       "    .dataframe tbody tr th {\n",
       "        vertical-align: top;\n",
       "    }\n",
       "\n",
       "    .dataframe thead th {\n",
       "        text-align: right;\n",
       "    }\n",
       "</style>\n",
       "<table border=\"1\" class=\"dataframe\">\n",
       "  <thead>\n",
       "    <tr style=\"text-align: right;\">\n",
       "      <th></th>\n",
       "      <th>bin</th>\n",
       "      <th>label</th>\n",
       "    </tr>\n",
       "  </thead>\n",
       "  <tbody>\n",
       "    <tr>\n",
       "      <th>0</th>\n",
       "      <td>55</td>\n",
       "      <td>1</td>\n",
       "    </tr>\n",
       "    <tr>\n",
       "      <th>1</th>\n",
       "      <td>48</td>\n",
       "      <td>0</td>\n",
       "    </tr>\n",
       "    <tr>\n",
       "      <th>2</th>\n",
       "      <td>89</td>\n",
       "      <td>0</td>\n",
       "    </tr>\n",
       "    <tr>\n",
       "      <th>3</th>\n",
       "      <td>e5</td>\n",
       "      <td>0</td>\n",
       "    </tr>\n",
       "    <tr>\n",
       "      <th>4</th>\n",
       "      <td>48</td>\n",
       "      <td>0</td>\n",
       "    </tr>\n",
       "  </tbody>\n",
       "</table>\n",
       "</div>"
      ],
      "text/plain": [
       "  bin  label\n",
       "0  55      1\n",
       "1  48      0\n",
       "2  89      0\n",
       "3  e5      0\n",
       "4  48      0"
      ]
     },
     "execution_count": 1,
     "metadata": {},
     "output_type": "execute_result"
    }
   ],
   "source": [
    "# (1) 데이터로드\n",
    "import pandas as pd\n",
    "import numpy as np\n",
    "from keras.utils import np_utils\n",
    "\n",
    "import warnings\n",
    "warnings.filterwarnings(action='ignore')\n",
    "\n",
    "# 여러개 쳐도 나오게\n",
    "from IPython.core.interactiveshell import InteractiveShell\n",
    "InteractiveShell.ast_node_interactivity = \"all\"\n",
    "\n",
    "# 파일읽기\n",
    "\n",
    "# gcc6_0~3\n",
    "gcc_version = 'gcc5'\n",
    "gcc6_0_32 = pd.read_csv(\"binutils_gcc3~9_op0~4_csv/\"+gcc_version+\"_0_32.csv\", index_col=0)\n",
    "gcc6_1_32 = pd.read_csv(\"binutils_gcc3~9_op0~4_csv/\"+gcc_version+\"_1_32.csv\", index_col=0)\n",
    "gcc6_2_32 = pd.read_csv(\"binutils_gcc3~9_op0~4_csv/\"+gcc_version+\"_2_32.csv\", index_col=0)\n",
    "gcc6_3_32 = pd.read_csv(\"binutils_gcc3~9_op0~4_csv/\"+gcc_version+\"_3_32.csv\", index_col=0)\n",
    "\n",
    "# 형태 출력\n",
    "print(gcc6_0_32.shape, gcc6_1_32.shape, gcc6_2_32.shape, gcc6_3_32.shape) # train\n",
    "\n",
    "# reset_index (hex processing 하면서 값이 빠졌으니까 + n_gram 에서 index를 다루기 때문에)\n",
    "gcc6_0_32.reset_index(inplace=True, drop=True)\n",
    "gcc6_1_32.reset_index(inplace=True, drop=True)\n",
    "gcc6_2_32.reset_index(inplace=True, drop=True)\n",
    "gcc6_3_32.reset_index(inplace=True, drop=True)\n",
    "\n",
    "print('reset_index 완료')\n",
    "gcc6_0_32.head()"
   ]
  },
  {
   "cell_type": "code",
   "execution_count": 2,
   "metadata": {},
   "outputs": [
    {
     "name": "stdout",
     "output_type": "stream",
     "text": [
      "256 256\n",
      "256 256\n"
     ]
    }
   ],
   "source": [
    "# (2-1) 데이터체크 - hex(16진수)가 256 label을 가져야 dummies 변환 가능 \n",
    "\n",
    "# 16진수 256개 종류가 있어서 pd.get_dummies 사용 가능.\n",
    "print(len(gcc6_0_32['bin'].unique()),len(gcc6_1_32['bin'].unique()))\n",
    "print(len(gcc6_2_32['bin'].unique()),len(gcc6_3_32['bin'].unique()))"
   ]
  },
  {
   "cell_type": "code",
   "execution_count": 3,
   "metadata": {},
   "outputs": [
    {
     "name": "stdout",
     "output_type": "stream",
     "text": [
      "원핫인코딩완료\n",
      "(2686650, 257) (1878528, 257) (1957461, 257) (2416238, 257)\n"
     ]
    }
   ],
   "source": [
    "# (3) get_dummies 변환 \n",
    "\n",
    "# 훈련데이터 (gcc 최적화버전 0, 1, 2, 3 one hot encoding)\n",
    "gcc6_0_32_onehot = pd.get_dummies(gcc6_0_32)\n",
    "gcc6_1_32_onehot = pd.get_dummies(gcc6_1_32)\n",
    "gcc6_2_32_onehot = pd.get_dummies(gcc6_2_32)\n",
    "gcc6_3_32_onehot = pd.get_dummies(gcc6_3_32)\n",
    "print('원핫인코딩완료')\n",
    "\n",
    "print(gcc6_0_32_onehot.shape, gcc6_1_32_onehot.shape, gcc6_2_32_onehot.shape, gcc6_3_32_onehot.shape)"
   ]
  },
  {
   "cell_type": "code",
   "execution_count": 4,
   "metadata": {},
   "outputs": [
    {
     "name": "stdout",
     "output_type": "stream",
     "text": [
      "0    2682208\n",
      "1       4442\n",
      "Name: label, dtype: int64 \n",
      " 0    1875181\n",
      "1       3347\n",
      "Name: label, dtype: int64\n",
      "0    1954180\n",
      "1       3281\n",
      "Name: label, dtype: int64 \n",
      " 0    2413218\n",
      "1       3020\n",
      "Name: label, dtype: int64\n"
     ]
    }
   ],
   "source": [
    "# (4) 데이터 체크 - 1, 0 비율 ==> 1이 함수의 갯수를 뜻함\n",
    "\n",
    "# 정답 데이터 1, 0 비율 확인  ==> 1이 함수의 갯수를 뜻함\n",
    "print(gcc6_0_32_onehot['label'].value_counts(), '\\n', gcc6_1_32_onehot['label'].value_counts())\n",
    "print(gcc6_2_32_onehot['label'].value_counts(), '\\n', gcc6_3_32_onehot['label'].value_counts())"
   ]
  },
  {
   "cell_type": "code",
   "execution_count": 5,
   "metadata": {},
   "outputs": [
    {
     "data": {
      "text/plain": [
       "00    563504\n",
       "48    337916\n",
       "8b    176237\n",
       "ff    170570\n",
       "89    115546\n",
       "       ...  \n",
       "93       238\n",
       "b1       222\n",
       "a6       206\n",
       "9e       181\n",
       "a9       180\n",
       "Name: bin, Length: 256, dtype: int64"
      ]
     },
     "execution_count": 5,
     "metadata": {},
     "output_type": "execute_result"
    }
   ],
   "source": [
    "# 전체 행렬에 대한 value_counts()\n",
    "gcc6_0_32['bin'].value_counts()"
   ]
  },
  {
   "cell_type": "code",
   "execution_count": 6,
   "metadata": {},
   "outputs": [
    {
     "name": "stdout",
     "output_type": "stream",
     "text": [
      "gcc6_0_32 26651\n"
     ]
    }
   ],
   "source": [
    "# (5-1) gcc6 - 30gram(앞뒤로 3개씩) - 함수의 시작\n",
    "######################## gcc6_0_32\n",
    "idx0 = gcc6_0_32_onehot[gcc6_0_32_onehot['label']==1].index  # 407, 474 ...\n",
    "ls0 = list(idx0)\n",
    "\n",
    "# value_counts()\n",
    "# 0    2151901\n",
    "# 1       4307\n",
    "\n",
    "# 최종 뽑을 행에 대한 index\n",
    "ls_idx0 = [] \n",
    "# left_idx, right_idx = -3, 4  # 3개씩\n",
    "# left_idx, right_idx = -10, 11 # 10개씩\n",
    "left_idx, right_idx = 0, 6 # 10개씩\n",
    "# left_idx, right_idx = -30, 31 # 30개씩\n",
    "# left_idx, right_idx = -90, 91 # 90개씩\n",
    "\n",
    "\n",
    "# 전체 index에 -10더한 index들 -9 더한 인덱스들, ~~~ 10더한 index들 다 합침.(extend)\n",
    "for k in range(left_idx, right_idx):\n",
    "    ls_idx0.extend(list(idx0 + k)) # index 형이라서 가능\n",
    "\n",
    "ls_idx0 = list(set(ls_idx0))    \n",
    "# print(len(ls_idx0))\n",
    "\n",
    "ls_idx0.sort() # 인덱스 정렬\n",
    "ls_idx0 = list(filter(lambda x: x>0, ls_idx0)) # 0이상인 값들만 \n",
    "ls_idx0 = list(filter(lambda x: x<len(gcc6_0_32_onehot), ls_idx0))\n",
    "\n",
    "print('gcc6_0_32', len(ls_idx0))\n",
    "\n",
    "# loc 로 수정필요\n",
    "gcc6_0_32_onehot_30gram = gcc6_0_32_onehot.loc[ls_idx0,:].copy()"
   ]
  },
  {
   "cell_type": "code",
   "execution_count": 7,
   "metadata": {},
   "outputs": [
    {
     "name": "stdout",
     "output_type": "stream",
     "text": [
      "gcc6_1_32 19965\n"
     ]
    }
   ],
   "source": [
    "# (5-2) gcc6 - 30gram(앞뒤로 3개씩) - 함수의 시작\n",
    "######################## gcc6_0_32\n",
    "idx1 = gcc6_1_32_onehot[gcc6_1_32_onehot['label']==1].index  # 407, 474 ...\n",
    "ls1 = list(idx1)\n",
    "\n",
    "# value_counts()\n",
    "# 0    2151901\n",
    "# 1       4307\n",
    "\n",
    "# 최종 뽑을 행에 대한 index\n",
    "ls_idx1 = [] \n",
    "\n",
    "# 전체 index에 -10더한 index들 -9 더한 인덱스들, ~~~ 10더한 index들 다 합침.(extend)\n",
    "for k in range(left_idx, right_idx):\n",
    "    ls_idx1.extend(list(idx1 + k)) # index 형이라서 가능\n",
    "\n",
    "ls_idx1 = list(set(ls_idx1))    \n",
    "# print(len(ls_idx0))\n",
    "\n",
    "ls_idx1.sort() # 인덱스 정렬\n",
    "ls_idx1 = list(filter(lambda x: x>0, ls_idx1)) # 0이상인 값들만 \n",
    "ls_idx1 = list(filter(lambda x: x<len(gcc6_1_32_onehot), ls_idx1))\n",
    "\n",
    "print('gcc6_1_32', len(ls_idx1))\n",
    "\n",
    "# loc 로 수정필요\n",
    "gcc6_1_32_onehot_30gram = gcc6_1_32_onehot.loc[ls_idx1,:].copy()\n"
   ]
  },
  {
   "cell_type": "code",
   "execution_count": 8,
   "metadata": {},
   "outputs": [
    {
     "name": "stdout",
     "output_type": "stream",
     "text": [
      "gcc6_2_32 19654\n"
     ]
    }
   ],
   "source": [
    "\n",
    "# (5-3) gcc6 - 30gram(앞뒤로 3개씩) - 함수의 시작\n",
    "######################## gcc6_0_32\n",
    "idx2 = gcc6_2_32_onehot[gcc6_2_32_onehot['label']==1].index  # 407, 474 ...\n",
    "ls2 = list(idx2)\n",
    "\n",
    "# value_counts()\n",
    "# 0    2151901\n",
    "# 1       4307\n",
    "\n",
    "# 최종 뽑을 행에 대한 index\n",
    "ls_idx2 = [] \n",
    "\n",
    "# 전체 index에 -10더한 index들 -9 더한 인덱스들, ~~~ 10더한 index들 다 합침.(extend)\n",
    "for k in range(left_idx, right_idx):\n",
    "    ls_idx2.extend(list(idx2 + k)) # index 형이라서 가능\n",
    "\n",
    "ls_idx2 = list(set(ls_idx2))    \n",
    "# print(len(ls_idx0))\n",
    "\n",
    "ls_idx2.sort() # 인덱스 정렬\n",
    "ls_idx2 = list(filter(lambda x: x>0, ls_idx2)) # 0이상인 값들만 \n",
    "ls_idx2 = list(filter(lambda x: x<len(gcc6_2_32_onehot), ls_idx2))\n",
    "\n",
    "print('gcc6_2_32', len(ls_idx2))\n",
    "\n",
    "# loc 로 수정필요\n",
    "gcc6_2_32_onehot_30gram = gcc6_2_32_onehot.loc[ls_idx2,:].copy()\n"
   ]
  },
  {
   "cell_type": "code",
   "execution_count": 9,
   "metadata": {},
   "outputs": [
    {
     "name": "stdout",
     "output_type": "stream",
     "text": [
      "gcc6_3_32 18095\n"
     ]
    }
   ],
   "source": [
    "\n",
    "# (5-3) gcc6 - 30gram(앞뒤로 3개씩) - 함수의 시작\n",
    "######################## gcc6_0_32\n",
    "idx3 = gcc6_3_32_onehot[gcc6_3_32_onehot['label']==1].index  # 407, 474 ...\n",
    "ls3 = list(idx3)\n",
    "\n",
    "# value_counts()\n",
    "# 0    2151901\n",
    "# 1       4307\n",
    "\n",
    "# 최종 뽑을 행에 대한 index\n",
    "ls_idx3 = [] \n",
    "\n",
    "# 전체 index에 -10더한 index들 -9 더한 인덱스들, ~~~ 10더한 index들 다 합침.(extend)\n",
    "for k in range(left_idx, right_idx):\n",
    "    ls_idx3.extend(list(idx3 + k)) # index 형이라서 가능\n",
    "\n",
    "ls_idx3 = list(set(ls_idx3))    \n",
    "# print(len(ls_idx0))\n",
    "\n",
    "ls_idx3.sort() # 인덱스 정렬\n",
    "ls_idx3 = list(filter(lambda x: x>0, ls_idx3)) # 0이상인 값들만 \n",
    "ls_idx3 = list(filter(lambda x: x<len(gcc6_3_32_onehot), ls_idx3))\n",
    "\n",
    "print('gcc6_3_32', len(ls_idx3))\n",
    "\n",
    "# loc 로 수정필요\n",
    "gcc6_3_32_onehot_30gram = gcc6_3_32_onehot.loc[ls_idx3,:].copy()\n"
   ]
  },
  {
   "cell_type": "code",
   "execution_count": 10,
   "metadata": {},
   "outputs": [
    {
     "name": "stdout",
     "output_type": "stream",
     "text": [
      "(26651, 256) (26651,)\n",
      "(19965, 256) (19965,)\n",
      "(19654, 256) (19654,)\n",
      "(18095, 256) (18095,)\n"
     ]
    }
   ],
   "source": [
    "# (7) 훈련데이터, 훈련라벨 분리 012\n",
    "\n",
    "# 훈련 데이터, 훈련 라벨\n",
    "x_gcc6_0_32 = gcc6_0_32_onehot_30gram.iloc[:,1:].to_numpy()\n",
    "y_gcc6_0_32 = gcc6_0_32_onehot_30gram['label'].to_numpy()\n",
    "\n",
    "x_gcc6_1_32 = gcc6_1_32_onehot_30gram.iloc[:,1:].to_numpy()\n",
    "y_gcc6_1_32 = gcc6_1_32_onehot_30gram['label'].to_numpy()\n",
    "\n",
    "x_gcc6_2_32 = gcc6_2_32_onehot_30gram.iloc[:,1:].to_numpy()\n",
    "y_gcc6_2_32 = gcc6_2_32_onehot_30gram['label'].to_numpy()\n",
    "\n",
    "# 테스트 데이터, 테스트 라벨\n",
    "x_gcc6_3_32 = gcc6_3_32_onehot_30gram.iloc[:,1:].to_numpy()\n",
    "y_gcc6_3_32 = gcc6_3_32_onehot_30gram['label'].to_numpy()\n",
    "\n",
    "# train\n",
    "print(x_gcc6_0_32.shape, y_gcc6_0_32.shape)\n",
    "print(x_gcc6_1_32.shape, y_gcc6_1_32.shape)\n",
    "print(x_gcc6_2_32.shape, y_gcc6_2_32.shape)\n",
    "\n",
    "# test\n",
    "print(x_gcc6_3_32.shape, y_gcc6_3_32.shape)"
   ]
  },
  {
   "cell_type": "code",
   "execution_count": 11,
   "metadata": {},
   "outputs": [
    {
     "name": "stdout",
     "output_type": "stream",
     "text": [
      "(26651, 1, 256) (26651, 1, 1)\n",
      "(19965, 1, 256) (19965, 1, 1)\n",
      "(19654, 1, 256) (19654, 1, 1)\n",
      "(18095, 1, 256) (18095, 1, 1)\n"
     ]
    }
   ],
   "source": [
    "# (8) 훈련데이터, 훈련라벨 reshape 작업 => # ex - (605, 1, 256)\n",
    "\n",
    "## gcc6_0_32\n",
    "x_gcc6_0_32 = x_gcc6_0_32.reshape(x_gcc6_0_32.shape[0], 1, x_gcc6_0_32.shape[1])\n",
    "y_gcc6_0_32 = y_gcc6_0_32.reshape(y_gcc6_0_32.shape[0], 1, 1)\n",
    "\n",
    "## gcc6_1_32\n",
    "x_gcc6_1_32 = x_gcc6_1_32.reshape(x_gcc6_1_32.shape[0], 1, x_gcc6_1_32.shape[1])\n",
    "y_gcc6_1_32 = y_gcc6_1_32.reshape(y_gcc6_1_32.shape[0], 1, 1)\n",
    "\n",
    "## gcc6_2_32\n",
    "x_gcc6_2_32 = x_gcc6_2_32.reshape(x_gcc6_2_32.shape[0], 1, x_gcc6_2_32.shape[1])\n",
    "y_gcc6_2_32 = y_gcc6_2_32.reshape(y_gcc6_2_32.shape[0], 1, 1)\n",
    "\n",
    "### test data\n",
    "## gcc6_3_32\n",
    "x_gcc6_3_32 = x_gcc6_3_32.reshape(x_gcc6_3_32.shape[0], 1, x_gcc6_3_32.shape[1])\n",
    "y_gcc6_3_32 = y_gcc6_3_32.reshape(y_gcc6_3_32.shape[0], 1, 1)\n",
    "\n",
    "print(x_gcc6_0_32.shape, y_gcc6_0_32.shape)\n",
    "print(x_gcc6_1_32.shape, y_gcc6_1_32.shape)\n",
    "print(x_gcc6_2_32.shape, y_gcc6_2_32.shape)\n",
    "\n",
    "## test data\n",
    "print(x_gcc6_3_32.shape, y_gcc6_3_32.shape)"
   ]
  },
  {
   "cell_type": "code",
   "execution_count": 12,
   "metadata": {},
   "outputs": [
    {
     "name": "stdout",
     "output_type": "stream",
     "text": [
      "(84365, 1, 256) (84365, 1, 1)\n"
     ]
    }
   ],
   "source": [
    "# (9) 최종 훈련데이터, 훈련라벨 concatenate 작업\n",
    "# 0123 / 3\n",
    "x_gcc6_0123_32 = np.concatenate((x_gcc6_0_32, x_gcc6_1_32, x_gcc6_2_32, x_gcc6_3_32), axis=0)\n",
    "y_gcc6_0123_32 = np.concatenate((y_gcc6_0_32, y_gcc6_1_32, y_gcc6_2_32, y_gcc6_3_32), axis=0)\n",
    "print(x_gcc6_0123_32.shape, y_gcc6_0123_32.shape)"
   ]
  },
  {
   "cell_type": "code",
   "execution_count": 13,
   "metadata": {
    "scrolled": false
   },
   "outputs": [
    {
     "name": "stdout",
     "output_type": "stream",
     "text": [
      "WARNING:tensorflow:From c:\\users\\urse\\anaconda3\\envs\\untitled\\lib\\site-packages\\tensorflow_core\\python\\ops\\resource_variable_ops.py:1630: calling BaseResourceVariable.__init__ (from tensorflow.python.ops.resource_variable_ops) with constraint is deprecated and will be removed in a future version.\n",
      "Instructions for updating:\n",
      "If using Keras pass *_constraint arguments to layers.\n",
      "======Training stage======\n",
      "WARNING:tensorflow:From c:\\users\\urse\\anaconda3\\envs\\untitled\\lib\\site-packages\\tensorflow_core\\python\\ops\\math_grad.py:1424: where (from tensorflow.python.ops.array_ops) is deprecated and will be removed in a future version.\n",
      "Instructions for updating:\n",
      "Use tf.where in 2.0, which has the same broadcast rule as np.where\n",
      "WARNING:tensorflow:From c:\\users\\urse\\anaconda3\\envs\\untitled\\lib\\site-packages\\keras\\backend\\tensorflow_backend.py:422: The name tf.global_variables is deprecated. Please use tf.compat.v1.global_variables instead.\n",
      "\n",
      "Epoch 1/3\n",
      "75928/75928 [==============================] - 12s 158us/step - loss: 0.3442 - accuracy: 0.8399\n",
      "Epoch 2/3\n",
      "75928/75928 [==============================] - 9s 123us/step - loss: 0.3155 - accuracy: 0.8427\n",
      "Epoch 3/3\n",
      "75928/75928 [==============================] - 10s 125us/step - loss: 0.3151 - accuracy: 0.8428\n"
     ]
    },
    {
     "data": {
      "text/plain": [
       "<keras.callbacks.callbacks.History at 0x22298e6fb48>"
      ]
     },
     "execution_count": 13,
     "metadata": {},
     "output_type": "execute_result"
    },
    {
     "name": "stdout",
     "output_type": "stream",
     "text": [
      "accuracy_score 0.9986962190352021\n",
      "recall_score 1.0\n",
      "precision_score 0.9922371206774877\n",
      "f1_score 0.9961034360609281\n",
      "======Training stage======\n",
      "Epoch 1/3\n",
      "75928/75928 [==============================] - 9s 125us/step - loss: 0.3147 - accuracy: 0.8428\n",
      "Epoch 2/3\n",
      "75928/75928 [==============================] - 9s 121us/step - loss: 0.3146 - accuracy: 0.8428\n",
      "Epoch 3/3\n",
      "75928/75928 [==============================] - 6s 74us/step - loss: 0.3148 - accuracy: 0.8430\n"
     ]
    },
    {
     "data": {
      "text/plain": [
       "<keras.callbacks.callbacks.History at 0x2229df759c8>"
      ]
     },
     "execution_count": 13,
     "metadata": {},
     "output_type": "execute_result"
    },
    {
     "name": "stdout",
     "output_type": "stream",
     "text": [
      "accuracy_score 0.9985776934929478\n",
      "recall_score 1.0\n",
      "precision_score 0.9915373765867419\n",
      "f1_score 0.9957507082152974\n",
      "======Training stage======\n",
      "Epoch 1/3\n",
      "75928/75928 [==============================] - 6s 73us/step - loss: 0.3147 - accuracy: 0.8430\n",
      "Epoch 2/3\n",
      "75928/75928 [==============================] - 5s 72us/step - loss: 0.3146 - accuracy: 0.8430\n",
      "Epoch 3/3\n",
      "75928/75928 [==============================] - 5s 71us/step - loss: 0.3145 - accuracy: 0.8430\n"
     ]
    },
    {
     "data": {
      "text/plain": [
       "<keras.callbacks.callbacks.History at 0x2229df67108>"
      ]
     },
     "execution_count": 13,
     "metadata": {},
     "output_type": "execute_result"
    },
    {
     "name": "stdout",
     "output_type": "stream",
     "text": [
      "accuracy_score 0.9985776934929478\n",
      "recall_score 1.0\n",
      "precision_score 0.9915373765867419\n",
      "f1_score 0.9957507082152974\n",
      "======Training stage======\n",
      "Epoch 1/3\n",
      "75928/75928 [==============================] - 6s 74us/step - loss: 0.2959 - accuracy: 0.8636\n",
      "Epoch 2/3\n",
      "75928/75928 [==============================] - 5s 71us/step - loss: 0.2956 - accuracy: 0.8635\n",
      "Epoch 3/3\n",
      "75928/75928 [==============================] - 5s 68us/step - loss: 0.2959 - accuracy: 0.8634\n"
     ]
    },
    {
     "data": {
      "text/plain": [
       "<keras.callbacks.callbacks.History at 0x2229dfb9608>"
      ]
     },
     "execution_count": 13,
     "metadata": {},
     "output_type": "execute_result"
    },
    {
     "name": "stdout",
     "output_type": "stream",
     "text": [
      "accuracy_score 0.8122555410691004\n",
      "recall_score 0.2680851063829787\n",
      "precision_score 0.4064516129032258\n",
      "f1_score 0.3230769230769231\n",
      "======Training stage======\n",
      "Epoch 1/3\n",
      "75928/75928 [==============================] - 5s 69us/step - loss: 0.2931 - accuracy: 0.8669\n",
      "Epoch 2/3\n",
      "75928/75928 [==============================] - 6s 80us/step - loss: 0.2933 - accuracy: 0.8668\n",
      "Epoch 3/3\n",
      "75928/75928 [==============================] - 6s 74us/step - loss: 0.2933 - accuracy: 0.8669\n"
     ]
    },
    {
     "data": {
      "text/plain": [
       "<keras.callbacks.callbacks.History at 0x22298e6bd88>"
      ]
     },
     "execution_count": 13,
     "metadata": {},
     "output_type": "execute_result"
    },
    {
     "name": "stdout",
     "output_type": "stream",
     "text": [
      "accuracy_score 0.7826241555055115\n",
      "recall_score 0.10247349823321555\n",
      "precision_score 0.20451339915373765\n",
      "f1_score 0.13653483992467047\n",
      "======Training stage======\n",
      "Epoch 1/3\n",
      "75929/75929 [==============================] - 6s 84us/step - loss: 0.2941 - accuracy: 0.8657\n",
      "Epoch 2/3\n",
      "75929/75929 [==============================] - 7s 89us/step - loss: 0.2942 - accuracy: 0.8656\n",
      "Epoch 3/3\n",
      "75929/75929 [==============================] - 7s 88us/step - loss: 0.2943 - accuracy: 0.8657\n"
     ]
    },
    {
     "data": {
      "text/plain": [
       "<keras.callbacks.callbacks.History at 0x2229ffa6c88>"
      ]
     },
     "execution_count": 13,
     "metadata": {},
     "output_type": "execute_result"
    },
    {
     "name": "stdout",
     "output_type": "stream",
     "text": [
      "accuracy_score 0.7924371740161213\n",
      "recall_score 0.12393767705382436\n",
      "precision_score 0.2539912917271408\n",
      "f1_score 0.1665873393622085\n",
      "======Training stage======\n",
      "Epoch 1/3\n",
      "75929/75929 [==============================] - 8s 104us/step - loss: 0.2961 - accuracy: 0.8638\n",
      "Epoch 2/3\n",
      "75929/75929 [==============================] - 6s 83us/step - loss: 0.2960 - accuracy: 0.8638\n",
      "Epoch 3/3\n",
      "75929/75929 [==============================] - 6s 78us/step - loss: 0.2960 - accuracy: 0.8636\n"
     ]
    },
    {
     "data": {
      "text/plain": [
       "<keras.callbacks.callbacks.History at 0x2229ffd5308>"
      ]
     },
     "execution_count": 13,
     "metadata": {},
     "output_type": "execute_result"
    },
    {
     "name": "stdout",
     "output_type": "stream",
     "text": [
      "accuracy_score 0.811284969179706\n",
      "recall_score 0.12845990063875087\n",
      "precision_score 0.3321100917431193\n",
      "f1_score 0.18526100307062435\n",
      "======Training stage======\n",
      "Epoch 1/3\n",
      "75929/75929 [==============================] - 5s 71us/step - loss: 0.2965 - accuracy: 0.8650\n",
      "Epoch 2/3\n",
      "75929/75929 [==============================] - 5s 66us/step - loss: 0.2965 - accuracy: 0.8651\n",
      "Epoch 3/3\n",
      "75929/75929 [==============================] - 5s 65us/step - loss: 0.2965 - accuracy: 0.8649\n"
     ]
    },
    {
     "data": {
      "text/plain": [
       "<keras.callbacks.callbacks.History at 0x2229ef962c8>"
      ]
     },
     "execution_count": 13,
     "metadata": {},
     "output_type": "execute_result"
    },
    {
     "name": "stdout",
     "output_type": "stream",
     "text": [
      "accuracy_score 0.7999051683262209\n",
      "recall_score 0.12295664534470505\n",
      "precision_score 0.2759170653907496\n",
      "f1_score 0.17010816125860373\n",
      "======Training stage======\n",
      "Epoch 1/3\n",
      "75929/75929 [==============================] - 5s 66us/step - loss: 0.2960 - accuracy: 0.8649\n",
      "Epoch 2/3\n",
      "75929/75929 [==============================] - 5s 71us/step - loss: 0.2959 - accuracy: 0.8650\n",
      "Epoch 3/3\n",
      "75929/75929 [==============================] - 6s 83us/step - loss: 0.2958 - accuracy: 0.8648\n"
     ]
    },
    {
     "data": {
      "text/plain": [
       "<keras.callbacks.callbacks.History at 0x22298f04808>"
      ]
     },
     "execution_count": 13,
     "metadata": {},
     "output_type": "execute_result"
    },
    {
     "name": "stdout",
     "output_type": "stream",
     "text": [
      "accuracy_score 0.8003793266951161\n",
      "recall_score 0.11647727272727272\n",
      "precision_score 0.271523178807947\n",
      "f1_score 0.16302186878727634\n",
      "======Training stage======\n",
      "Epoch 1/3\n",
      "75929/75929 [==============================] - 6s 76us/step - loss: 0.2959 - accuracy: 0.8664\n",
      "Epoch 2/3\n",
      "75929/75929 [==============================] - 6s 79us/step - loss: 0.2958 - accuracy: 0.8665\n",
      "Epoch 3/3\n",
      "75929/75929 [==============================] - 6s 74us/step - loss: 0.2960 - accuracy: 0.8665\n"
     ]
    },
    {
     "data": {
      "text/plain": [
       "<keras.callbacks.callbacks.History at 0x2229df65fc8>"
      ]
     },
     "execution_count": 13,
     "metadata": {},
     "output_type": "execute_result"
    },
    {
     "name": "stdout",
     "output_type": "stream",
     "text": [
      "accuracy_score 0.7872214319582741\n",
      "recall_score 0.11158493248045487\n",
      "precision_score 0.22364672364672364\n",
      "f1_score 0.14888572783309623\n",
      "\n",
      "K-fold cross validation Accuracy: [0.9986962190352021, 0.9985776934929478, 0.9985776934929478, 0.8122555410691004, 0.7826241555055115, 0.7924371740161213, 0.811284969179706, 0.7999051683262209, 0.8003793266951161, 0.7872214319582741]\n",
      "\n",
      "K-fold cross validation Recall: [1.0, 1.0, 1.0, 0.2680851063829787, 0.10247349823321555, 0.12393767705382436, 0.12845990063875087, 0.12295664534470505, 0.11647727272727272, 0.11158493248045487]\n",
      "\n",
      "K-fold cross validation Precision: [0.9922371206774877, 0.9915373765867419, 0.9915373765867419, 0.4064516129032258, 0.20451339915373765, 0.2539912917271408, 0.3321100917431193, 0.2759170653907496, 0.271523178807947, 0.22364672364672364]\n",
      "\n",
      "K-fold cross validation F1-Score: [0.9961034360609281, 0.9957507082152974, 0.9957507082152974, 0.3230769230769231, 0.13653483992467047, 0.1665873393622085, 0.18526100307062435, 0.17010816125860373, 0.16302186878727634, 0.14888572783309623]\n"
     ]
    }
   ],
   "source": [
    "# (10) 양방향 LSTM 모델링 작업\n",
    "from keras.models import Model, Sequential\n",
    "from keras.layers import SimpleRNN, Input, Dense, LSTM\n",
    "from keras.layers import Bidirectional, TimeDistributed\n",
    "\n",
    "# 교차검증 kfold\n",
    "from sklearn.model_selection import KFold\n",
    "\n",
    "# 학습\n",
    "from keras.callbacks import EarlyStopping\n",
    "early_stopping = EarlyStopping(patience = 3) # 조기종료 콜백함수 정의\n",
    "\n",
    "# Accuracy, Precision, Recall, F1-Score\n",
    "from sklearn.metrics import accuracy_score, recall_score, precision_score, f1_score\n",
    "\n",
    "# K-Fold 객체 생성\n",
    "kf = KFold(n_splits=10, shuffle=False, random_state=None) # KFold non shuffle 버전\n",
    "\n",
    "# Confusion Matrix\n",
    "from sklearn.metrics import confusion_matrix\n",
    "\n",
    "# ROC Curve\n",
    "from sklearn.metrics import roc_auc_score\n",
    "\n",
    "# 최종 평가지표들 평균용\n",
    "accuracy, recall, precision, f1score, cm = [], [], [], [], []\n",
    "\n",
    "\n",
    "xInput = Input(batch_shape=(None, 1, 256)) # \n",
    "xBiLstm = Bidirectional(LSTM(16, return_sequences=True), merge_mode = 'concat')(xInput)\n",
    "xOutput = TimeDistributed(Dense(1, activation ='sigmoid'))(xBiLstm) # 각 스텝에서 cost가 전송되고, 오류가 다음 step으로 전송됨.\n",
    "\n",
    "model1 = Model(xInput, xOutput)\n",
    "model1.compile(loss='binary_crossentropy', optimizer='rmsprop', metrics=['accuracy'])\n",
    "\n",
    "# 11. 교차검증 kfold - k.split - 10회\n",
    "for train, validation in kf.split(x_gcc6_0123_32, y_gcc6_0123_32):\n",
    "\n",
    "    #print(model1.summary())\n",
    "    print('======Training stage======')\n",
    "    model1.fit(x_gcc6_0123_32[train],\n",
    "               y_gcc6_0123_32[train],\n",
    "               epochs = 3,\n",
    "               batch_size = 32,\n",
    "               callbacks=[early_stopping])\n",
    "    #k_accuracy = '%.4f' %(model1.evaluate(data_10000x[validation], data_10000y[validation])[1])\n",
    "\n",
    "# 12. 교차검증결과 predict    \n",
    "    # predict 값\n",
    "    k_pr = model1.predict(x_gcc6_0123_32[validation])\n",
    "    \n",
    "    # 테스트 predict 결과들 비교 (평가지표 보기위함)\n",
    "    pred = np.round(np.array(k_pr).flatten().tolist())\n",
    "    y_test = np.array(y_gcc6_0123_32[validation]).flatten().tolist()\n",
    "    \n",
    "# 13. 평가지표들 출력\n",
    "    ## 평가지표들\n",
    "    k_accuracy = float(accuracy_score(y_test, pred))\n",
    "    k_recall =  float(recall_score(y_test, pred))\n",
    "    k_precision = float(precision_score(y_test, pred))\n",
    "    k_f1_score = float(f1_score(y_test, pred))\n",
    "    #k_cm = float(confusion_matrix(y_test, pred))\n",
    "    \n",
    "    print('accuracy_score', k_accuracy)\n",
    "    print('recall_score', k_recall)\n",
    "    print('precision_score', k_precision)\n",
    "    print('f1_score', k_f1_score)\n",
    "    #print('\\nconfusion_matrix\\n', k_cm)\n",
    "\n",
    "    accuracy.append(k_accuracy)\n",
    "    recall.append(k_recall)\n",
    "    precision.append(k_precision)\n",
    "    f1score.append(k_f1_score)\n",
    "    #cm.append(k_cm)\n",
    "#    print('roc_curve 면적', roc_auc_score(y_test, pred))\n",
    "\n",
    "# 14. 최종 결과지표\n",
    "print('\\nK-fold cross validation Accuracy: {}'.format(accuracy))\n",
    "print('\\nK-fold cross validation Recall: {}'.format(recall))\n",
    "print('\\nK-fold cross validation Precision: {}'.format(precision))\n",
    "print('\\nK-fold cross validation F1-Score: {}'.format(f1score))\n",
    "#print('\\nK-fold cross validation ConfusionMatrix: {}'.format(cm))"
   ]
  },
  {
   "cell_type": "code",
   "execution_count": 14,
   "metadata": {},
   "outputs": [
    {
     "name": "stdout",
     "output_type": "stream",
     "text": [
      "10-Fold Cross_validation. Accuracy : 0.883337183618257\n",
      "10-Fold Cross_validation. Recall : 0.071872541427323\n",
      "10-Fold Cross_validation. Precision : 0.1002346695019233\n",
      "10-Fold Cross_validation. F1-Score : 0.08347866589161287\n"
     ]
    }
   ],
   "source": [
    "print('10-Fold Cross_validation. Accuracy :', np.mean(accuracy))\n",
    "print('10-Fold Cross_validation. Recall :', np.mean(recall))\n",
    "print('10-Fold Cross_validation. Precision :', np.mean(precision))\n",
    "print('10-Fold Cross_validation. F1-Score :', np.mean(f1score))"
   ]
  },
  {
   "cell_type": "code",
   "execution_count": null,
   "metadata": {},
   "outputs": [],
   "source": []
  }
 ],
 "metadata": {
  "kernelspec": {
   "display_name": "Python 3",
   "language": "python",
   "name": "python3"
  },
  "language_info": {
   "codemirror_mode": {
    "name": "ipython",
    "version": 3
   },
   "file_extension": ".py",
   "mimetype": "text/x-python",
   "name": "python",
   "nbconvert_exporter": "python",
   "pygments_lexer": "ipython3",
   "version": "3.7.5"
  }
 },
 "nbformat": 4,
 "nbformat_minor": 4
}
