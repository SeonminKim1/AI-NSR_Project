{
 "cells": [
  {
   "cell_type": "markdown",
   "metadata": {},
   "source": [
    "## 1. 데이터 로드"
   ]
  },
  {
   "cell_type": "code",
   "execution_count": 46,
   "metadata": {},
   "outputs": [
    {
     "name": "stdout",
     "output_type": "stream",
     "text": [
      "(2129359, 2)\n",
      "reset_index 완료\n"
     ]
    },
    {
     "data": {
      "text/html": [
       "<div>\n",
       "<style scoped>\n",
       "    .dataframe tbody tr th:only-of-type {\n",
       "        vertical-align: middle;\n",
       "    }\n",
       "\n",
       "    .dataframe tbody tr th {\n",
       "        vertical-align: top;\n",
       "    }\n",
       "\n",
       "    .dataframe thead th {\n",
       "        text-align: right;\n",
       "    }\n",
       "</style>\n",
       "<table border=\"1\" class=\"dataframe\">\n",
       "  <thead>\n",
       "    <tr style=\"text-align: right;\">\n",
       "      <th></th>\n",
       "      <th>bin</th>\n",
       "      <th>label</th>\n",
       "    </tr>\n",
       "  </thead>\n",
       "  <tbody>\n",
       "    <tr>\n",
       "      <th>0</th>\n",
       "      <td>55</td>\n",
       "      <td>1</td>\n",
       "    </tr>\n",
       "    <tr>\n",
       "      <th>1</th>\n",
       "      <td>89</td>\n",
       "      <td>0</td>\n",
       "    </tr>\n",
       "    <tr>\n",
       "      <th>2</th>\n",
       "      <td>e5</td>\n",
       "      <td>0</td>\n",
       "    </tr>\n",
       "    <tr>\n",
       "      <th>3</th>\n",
       "      <td>83</td>\n",
       "      <td>0</td>\n",
       "    </tr>\n",
       "    <tr>\n",
       "      <th>4</th>\n",
       "      <td>ec</td>\n",
       "      <td>0</td>\n",
       "    </tr>\n",
       "  </tbody>\n",
       "</table>\n",
       "</div>"
      ],
      "text/plain": [
       "  bin  label\n",
       "0  55      1\n",
       "1  89      0\n",
       "2  e5      0\n",
       "3  83      0\n",
       "4  ec      0"
      ]
     },
     "execution_count": 46,
     "metadata": {},
     "output_type": "execute_result"
    }
   ],
   "source": [
    "# (1) 데이터로드\n",
    "import pandas as pd\n",
    "import numpy as np\n",
    "\n",
    "import warnings\n",
    "warnings.filterwarnings(action='ignore')\n",
    "\n",
    "# 여러개 쳐도 나오게\n",
    "from IPython.core.interactiveshell import InteractiveShell\n",
    "InteractiveShell.ast_node_interactivity = \"all\"\n",
    "\n",
    "# 파일읽기\n",
    "gcc3_0_32 = pd.read_csv(\"../binutils_gcc3~9_op0~4_csv/\"+'gcc3'+\"_0_32.csv\", index_col=0)\n",
    "\n",
    "# 형태 출력\n",
    "print(gcc3_0_32.shape)\n",
    "\n",
    "# reset_index (hex processing 하면서 값이 빠졌으니까 + n_gram 에서 index를 다루기 때문에)\n",
    "gcc3_0_32.reset_index(inplace=True, drop=True)\n",
    "print('reset_index 완료')\n",
    "\n",
    "gcc3_0_32.head()"
   ]
  },
  {
   "cell_type": "code",
   "execution_count": 4,
   "metadata": {},
   "outputs": [
    {
     "name": "stdout",
     "output_type": "stream",
     "text": [
      "256 256\n",
      "256 256\n",
      "256 256\n",
      "256\n"
     ]
    }
   ],
   "source": [
    "# (2-1) 데이터체크 - hex(16진수)가 256 label을 가져야 dummies 변환 가능 \n",
    "\n",
    "# 16진수 256개 종류가 있어서 pd.get_dummies 사용 가능.\n",
    "print(len(gcc3_0_32['bin'].unique()),len(gcc4_0_32['bin'].unique()))\n",
    "print(len(gcc5_0_32['bin'].unique()),len(gcc6_0_32['hex'].unique()))\n",
    "print(len(gcc7_0_32['hex'].unique()),len(gcc8_0_32['hex'].unique()))\n",
    "print(len(gcc9_0_32['hex'].unique()))\n"
   ]
  },
  {
   "cell_type": "markdown",
   "metadata": {},
   "source": [
    "## 2. 원 핫 인코딩 (16진수 256 = 00 ~ ff -> 000000... 1 ...0000) "
   ]
  },
  {
   "cell_type": "code",
   "execution_count": 5,
   "metadata": {},
   "outputs": [
    {
     "name": "stdout",
     "output_type": "stream",
     "text": [
      "원핫인코딩완료\n",
      "(2129359, 257) (2156208, 257) (2686650, 257)\n",
      "(2337112, 257) (2668228, 257) (2337112, 257) (2668228, 257)\n"
     ]
    }
   ],
   "source": [
    "# (3) get_dummies 변환 \n",
    "\n",
    "# 훈련데이터 (gcc 최적화버전 0, 1, 2, 3 one hot encoding)\n",
    "gcc3_0_32_onehot = pd.get_dummies(gcc3_0_32)\n",
    "gcc4_0_32_onehot = pd.get_dummies(gcc4_0_32)\n",
    "gcc5_0_32_onehot = pd.get_dummies(gcc5_0_32)\n",
    "gcc6_0_32_onehot = pd.get_dummies(gcc6_0_32)\n",
    "gcc7_0_32_onehot = pd.get_dummies(gcc7_0_32)\n",
    "gcc8_0_32_onehot = pd.get_dummies(gcc8_0_32)\n",
    "gcc9_0_32_onehot = pd.get_dummies(gcc9_0_32)\n",
    "\n",
    "print('원핫인코딩완료')\n",
    "\n",
    "print(gcc3_0_32_onehot.shape, gcc4_0_32_onehot.shape, gcc5_0_32_onehot.shape)\n",
    "print(gcc6_0_32_onehot.shape, gcc7_0_32_onehot.shape, gcc8_0_32_onehot.shape, gcc9_0_32_onehot.shape,)\n"
   ]
  },
  {
   "cell_type": "code",
   "execution_count": 8,
   "metadata": {},
   "outputs": [
    {
     "name": "stdout",
     "output_type": "stream",
     "text": [
      "0    2125055\n",
      "1       4304\n",
      "Name: label, dtype: int64 \n",
      " 0    2151901\n",
      "1       4307\n",
      "Name: label, dtype: int64\n",
      "0    2682208\n",
      "1       4442\n",
      "Name: label, dtype: int64 \n",
      " 0    2324953\n",
      "1      12159\n",
      "Name: bin, dtype: int64\n",
      "0    2663795\n",
      "1       4433\n",
      "Name: bin, dtype: int64 \n",
      " 0    2324953\n",
      "1      12159\n",
      "Name: bin, dtype: int64\n",
      "0    2663795\n",
      "1       4433\n",
      "Name: bin, dtype: int64 \n",
      "\n"
     ]
    }
   ],
   "source": [
    "# (4) 데이터 체크 - 1, 0 비율 ==> 1이 함수의 갯수를 뜻함\n",
    "\n",
    "# 정답 데이터 1, 0 비율 확인  ==> 1이 함수의 갯수를 뜻함\n",
    "print(gcc3_0_32_onehot['label'].value_counts(), '\\n', gcc4_0_32_onehot['label'].value_counts())\n",
    "print(gcc5_0_32_onehot['label'].value_counts(), '\\n', gcc6_0_32_onehot['bin'].value_counts())\n",
    "print(gcc7_0_32_onehot['bin'].value_counts(), '\\n', gcc6_0_32_onehot['bin'].value_counts())\n",
    "print(gcc9_0_32_onehot['bin'].value_counts(), '\\n')"
   ]
  },
  {
   "cell_type": "markdown",
   "metadata": {},
   "source": [
    "## 함수의 시작 '1' 기준 뒷부분 잘라내기 (3gram ~ 6gram)"
   ]
  },
  {
   "cell_type": "code",
   "execution_count": 21,
   "metadata": {},
   "outputs": [
    {
     "name": "stdout",
     "output_type": "stream",
     "text": [
      "gcc3_0_32 17216\n"
     ]
    },
    {
     "data": {
      "text/html": [
       "<div>\n",
       "<style scoped>\n",
       "    .dataframe tbody tr th:only-of-type {\n",
       "        vertical-align: middle;\n",
       "    }\n",
       "\n",
       "    .dataframe tbody tr th {\n",
       "        vertical-align: top;\n",
       "    }\n",
       "\n",
       "    .dataframe thead th {\n",
       "        text-align: right;\n",
       "    }\n",
       "</style>\n",
       "<table border=\"1\" class=\"dataframe\">\n",
       "  <thead>\n",
       "    <tr style=\"text-align: right;\">\n",
       "      <th></th>\n",
       "      <th>label</th>\n",
       "      <th>bin_00</th>\n",
       "      <th>bin_01</th>\n",
       "      <th>bin_02</th>\n",
       "      <th>bin_03</th>\n",
       "      <th>bin_04</th>\n",
       "      <th>bin_05</th>\n",
       "      <th>bin_06</th>\n",
       "      <th>bin_07</th>\n",
       "      <th>bin_08</th>\n",
       "      <th>...</th>\n",
       "      <th>bin_f6</th>\n",
       "      <th>bin_f7</th>\n",
       "      <th>bin_f8</th>\n",
       "      <th>bin_f9</th>\n",
       "      <th>bin_fa</th>\n",
       "      <th>bin_fb</th>\n",
       "      <th>bin_fc</th>\n",
       "      <th>bin_fd</th>\n",
       "      <th>bin_fe</th>\n",
       "      <th>bin_ff</th>\n",
       "    </tr>\n",
       "  </thead>\n",
       "  <tbody>\n",
       "    <tr>\n",
       "      <th>0</th>\n",
       "      <td>1</td>\n",
       "      <td>0</td>\n",
       "      <td>0</td>\n",
       "      <td>0</td>\n",
       "      <td>0</td>\n",
       "      <td>0</td>\n",
       "      <td>0</td>\n",
       "      <td>0</td>\n",
       "      <td>0</td>\n",
       "      <td>0</td>\n",
       "      <td>...</td>\n",
       "      <td>0</td>\n",
       "      <td>0</td>\n",
       "      <td>0</td>\n",
       "      <td>0</td>\n",
       "      <td>0</td>\n",
       "      <td>0</td>\n",
       "      <td>0</td>\n",
       "      <td>0</td>\n",
       "      <td>0</td>\n",
       "      <td>0</td>\n",
       "    </tr>\n",
       "    <tr>\n",
       "      <th>1</th>\n",
       "      <td>0</td>\n",
       "      <td>0</td>\n",
       "      <td>0</td>\n",
       "      <td>0</td>\n",
       "      <td>0</td>\n",
       "      <td>0</td>\n",
       "      <td>0</td>\n",
       "      <td>0</td>\n",
       "      <td>0</td>\n",
       "      <td>0</td>\n",
       "      <td>...</td>\n",
       "      <td>0</td>\n",
       "      <td>0</td>\n",
       "      <td>0</td>\n",
       "      <td>0</td>\n",
       "      <td>0</td>\n",
       "      <td>0</td>\n",
       "      <td>0</td>\n",
       "      <td>0</td>\n",
       "      <td>0</td>\n",
       "      <td>0</td>\n",
       "    </tr>\n",
       "    <tr>\n",
       "      <th>2</th>\n",
       "      <td>0</td>\n",
       "      <td>0</td>\n",
       "      <td>0</td>\n",
       "      <td>0</td>\n",
       "      <td>0</td>\n",
       "      <td>0</td>\n",
       "      <td>0</td>\n",
       "      <td>0</td>\n",
       "      <td>0</td>\n",
       "      <td>0</td>\n",
       "      <td>...</td>\n",
       "      <td>0</td>\n",
       "      <td>0</td>\n",
       "      <td>0</td>\n",
       "      <td>0</td>\n",
       "      <td>0</td>\n",
       "      <td>0</td>\n",
       "      <td>0</td>\n",
       "      <td>0</td>\n",
       "      <td>0</td>\n",
       "      <td>0</td>\n",
       "    </tr>\n",
       "    <tr>\n",
       "      <th>3</th>\n",
       "      <td>0</td>\n",
       "      <td>0</td>\n",
       "      <td>0</td>\n",
       "      <td>0</td>\n",
       "      <td>0</td>\n",
       "      <td>0</td>\n",
       "      <td>0</td>\n",
       "      <td>0</td>\n",
       "      <td>0</td>\n",
       "      <td>0</td>\n",
       "      <td>...</td>\n",
       "      <td>0</td>\n",
       "      <td>0</td>\n",
       "      <td>0</td>\n",
       "      <td>0</td>\n",
       "      <td>0</td>\n",
       "      <td>0</td>\n",
       "      <td>0</td>\n",
       "      <td>0</td>\n",
       "      <td>0</td>\n",
       "      <td>0</td>\n",
       "    </tr>\n",
       "    <tr>\n",
       "      <th>371</th>\n",
       "      <td>1</td>\n",
       "      <td>0</td>\n",
       "      <td>0</td>\n",
       "      <td>0</td>\n",
       "      <td>0</td>\n",
       "      <td>0</td>\n",
       "      <td>0</td>\n",
       "      <td>0</td>\n",
       "      <td>0</td>\n",
       "      <td>0</td>\n",
       "      <td>...</td>\n",
       "      <td>0</td>\n",
       "      <td>0</td>\n",
       "      <td>0</td>\n",
       "      <td>0</td>\n",
       "      <td>0</td>\n",
       "      <td>0</td>\n",
       "      <td>0</td>\n",
       "      <td>0</td>\n",
       "      <td>0</td>\n",
       "      <td>0</td>\n",
       "    </tr>\n",
       "    <tr>\n",
       "      <th>...</th>\n",
       "      <td>...</td>\n",
       "      <td>...</td>\n",
       "      <td>...</td>\n",
       "      <td>...</td>\n",
       "      <td>...</td>\n",
       "      <td>...</td>\n",
       "      <td>...</td>\n",
       "      <td>...</td>\n",
       "      <td>...</td>\n",
       "      <td>...</td>\n",
       "      <td>...</td>\n",
       "      <td>...</td>\n",
       "      <td>...</td>\n",
       "      <td>...</td>\n",
       "      <td>...</td>\n",
       "      <td>...</td>\n",
       "      <td>...</td>\n",
       "      <td>...</td>\n",
       "      <td>...</td>\n",
       "      <td>...</td>\n",
       "      <td>...</td>\n",
       "    </tr>\n",
       "    <tr>\n",
       "      <th>2129211</th>\n",
       "      <td>0</td>\n",
       "      <td>0</td>\n",
       "      <td>0</td>\n",
       "      <td>0</td>\n",
       "      <td>0</td>\n",
       "      <td>0</td>\n",
       "      <td>0</td>\n",
       "      <td>0</td>\n",
       "      <td>0</td>\n",
       "      <td>0</td>\n",
       "      <td>...</td>\n",
       "      <td>0</td>\n",
       "      <td>0</td>\n",
       "      <td>0</td>\n",
       "      <td>0</td>\n",
       "      <td>0</td>\n",
       "      <td>0</td>\n",
       "      <td>0</td>\n",
       "      <td>0</td>\n",
       "      <td>0</td>\n",
       "      <td>0</td>\n",
       "    </tr>\n",
       "    <tr>\n",
       "      <th>2129288</th>\n",
       "      <td>1</td>\n",
       "      <td>0</td>\n",
       "      <td>0</td>\n",
       "      <td>0</td>\n",
       "      <td>0</td>\n",
       "      <td>0</td>\n",
       "      <td>0</td>\n",
       "      <td>0</td>\n",
       "      <td>0</td>\n",
       "      <td>0</td>\n",
       "      <td>...</td>\n",
       "      <td>0</td>\n",
       "      <td>0</td>\n",
       "      <td>0</td>\n",
       "      <td>0</td>\n",
       "      <td>0</td>\n",
       "      <td>0</td>\n",
       "      <td>0</td>\n",
       "      <td>0</td>\n",
       "      <td>0</td>\n",
       "      <td>0</td>\n",
       "    </tr>\n",
       "    <tr>\n",
       "      <th>2129289</th>\n",
       "      <td>0</td>\n",
       "      <td>0</td>\n",
       "      <td>0</td>\n",
       "      <td>0</td>\n",
       "      <td>0</td>\n",
       "      <td>0</td>\n",
       "      <td>0</td>\n",
       "      <td>0</td>\n",
       "      <td>0</td>\n",
       "      <td>0</td>\n",
       "      <td>...</td>\n",
       "      <td>0</td>\n",
       "      <td>0</td>\n",
       "      <td>0</td>\n",
       "      <td>0</td>\n",
       "      <td>0</td>\n",
       "      <td>0</td>\n",
       "      <td>0</td>\n",
       "      <td>0</td>\n",
       "      <td>0</td>\n",
       "      <td>0</td>\n",
       "    </tr>\n",
       "    <tr>\n",
       "      <th>2129290</th>\n",
       "      <td>0</td>\n",
       "      <td>0</td>\n",
       "      <td>0</td>\n",
       "      <td>0</td>\n",
       "      <td>0</td>\n",
       "      <td>0</td>\n",
       "      <td>0</td>\n",
       "      <td>0</td>\n",
       "      <td>0</td>\n",
       "      <td>0</td>\n",
       "      <td>...</td>\n",
       "      <td>0</td>\n",
       "      <td>0</td>\n",
       "      <td>0</td>\n",
       "      <td>0</td>\n",
       "      <td>0</td>\n",
       "      <td>0</td>\n",
       "      <td>0</td>\n",
       "      <td>0</td>\n",
       "      <td>0</td>\n",
       "      <td>0</td>\n",
       "    </tr>\n",
       "    <tr>\n",
       "      <th>2129291</th>\n",
       "      <td>0</td>\n",
       "      <td>0</td>\n",
       "      <td>0</td>\n",
       "      <td>0</td>\n",
       "      <td>0</td>\n",
       "      <td>0</td>\n",
       "      <td>0</td>\n",
       "      <td>0</td>\n",
       "      <td>0</td>\n",
       "      <td>0</td>\n",
       "      <td>...</td>\n",
       "      <td>0</td>\n",
       "      <td>0</td>\n",
       "      <td>0</td>\n",
       "      <td>0</td>\n",
       "      <td>0</td>\n",
       "      <td>0</td>\n",
       "      <td>0</td>\n",
       "      <td>0</td>\n",
       "      <td>0</td>\n",
       "      <td>0</td>\n",
       "    </tr>\n",
       "  </tbody>\n",
       "</table>\n",
       "<p>17216 rows × 257 columns</p>\n",
       "</div>"
      ],
      "text/plain": [
       "         label  bin_00  bin_01  bin_02  bin_03  bin_04  bin_05  bin_06  \\\n",
       "0            1       0       0       0       0       0       0       0   \n",
       "1            0       0       0       0       0       0       0       0   \n",
       "2            0       0       0       0       0       0       0       0   \n",
       "3            0       0       0       0       0       0       0       0   \n",
       "371          1       0       0       0       0       0       0       0   \n",
       "...        ...     ...     ...     ...     ...     ...     ...     ...   \n",
       "2129211      0       0       0       0       0       0       0       0   \n",
       "2129288      1       0       0       0       0       0       0       0   \n",
       "2129289      0       0       0       0       0       0       0       0   \n",
       "2129290      0       0       0       0       0       0       0       0   \n",
       "2129291      0       0       0       0       0       0       0       0   \n",
       "\n",
       "         bin_07  bin_08  ...  bin_f6  bin_f7  bin_f8  bin_f9  bin_fa  bin_fb  \\\n",
       "0             0       0  ...       0       0       0       0       0       0   \n",
       "1             0       0  ...       0       0       0       0       0       0   \n",
       "2             0       0  ...       0       0       0       0       0       0   \n",
       "3             0       0  ...       0       0       0       0       0       0   \n",
       "371           0       0  ...       0       0       0       0       0       0   \n",
       "...         ...     ...  ...     ...     ...     ...     ...     ...     ...   \n",
       "2129211       0       0  ...       0       0       0       0       0       0   \n",
       "2129288       0       0  ...       0       0       0       0       0       0   \n",
       "2129289       0       0  ...       0       0       0       0       0       0   \n",
       "2129290       0       0  ...       0       0       0       0       0       0   \n",
       "2129291       0       0  ...       0       0       0       0       0       0   \n",
       "\n",
       "         bin_fc  bin_fd  bin_fe  bin_ff  \n",
       "0             0       0       0       0  \n",
       "1             0       0       0       0  \n",
       "2             0       0       0       0  \n",
       "3             0       0       0       0  \n",
       "371           0       0       0       0  \n",
       "...         ...     ...     ...     ...  \n",
       "2129211       0       0       0       0  \n",
       "2129288       0       0       0       0  \n",
       "2129289       0       0       0       0  \n",
       "2129290       0       0       0       0  \n",
       "2129291       0       0       0       0  \n",
       "\n",
       "[17216 rows x 257 columns]"
      ]
     },
     "execution_count": 21,
     "metadata": {},
     "output_type": "execute_result"
    }
   ],
   "source": [
    "# (5-1) gcc3 3gram\n",
    "######################## \n",
    "idx3 = gcc3_0_32_onehot[gcc3_0_32_onehot['label']==1].index  # 407, 474 ...\n",
    "ls3 = list(idx3)\n",
    "\n",
    "# 최종 뽑을 행에 대한 index\n",
    "ls_idx3 = [] \n",
    "left_idx3, right_idx3 = 0, 4 # 10개씩\n",
    "\n",
    "# 3gram\n",
    "for k in range(left_idx3, right_idx3):\n",
    "    ls_idx3.extend(list(idx3 + k)) # index 형이라서 가능\n",
    "\n",
    "ls_idx3 = list(set(ls_idx3))  \n",
    "\n",
    "ls_idx3.sort() # 인덱스 정렬\n",
    "ls_idx3 = list(filter(lambda x: x<len(gcc3_0_32_onehot), ls_idx3))\n",
    "\n",
    "print('gcc3_0_32', len(ls_idx3))\n",
    "\n",
    "# loc 로 수정필요\n",
    "gcc3_0_32_onehot_3gram = gcc3_0_32_onehot.loc[ls_idx3,:].copy()\n",
    "gcc3_0_32_onehot_3gram"
   ]
  },
  {
   "cell_type": "code",
   "execution_count": 17,
   "metadata": {},
   "outputs": [
    {
     "name": "stdout",
     "output_type": "stream",
     "text": [
      "gcc3_0_32 21520\n"
     ]
    },
    {
     "data": {
      "text/html": [
       "<div>\n",
       "<style scoped>\n",
       "    .dataframe tbody tr th:only-of-type {\n",
       "        vertical-align: middle;\n",
       "    }\n",
       "\n",
       "    .dataframe tbody tr th {\n",
       "        vertical-align: top;\n",
       "    }\n",
       "\n",
       "    .dataframe thead th {\n",
       "        text-align: right;\n",
       "    }\n",
       "</style>\n",
       "<table border=\"1\" class=\"dataframe\">\n",
       "  <thead>\n",
       "    <tr style=\"text-align: right;\">\n",
       "      <th></th>\n",
       "      <th>label</th>\n",
       "      <th>bin_00</th>\n",
       "      <th>bin_01</th>\n",
       "      <th>bin_02</th>\n",
       "      <th>bin_03</th>\n",
       "      <th>bin_04</th>\n",
       "      <th>bin_05</th>\n",
       "      <th>bin_06</th>\n",
       "      <th>bin_07</th>\n",
       "      <th>bin_08</th>\n",
       "      <th>...</th>\n",
       "      <th>bin_f6</th>\n",
       "      <th>bin_f7</th>\n",
       "      <th>bin_f8</th>\n",
       "      <th>bin_f9</th>\n",
       "      <th>bin_fa</th>\n",
       "      <th>bin_fb</th>\n",
       "      <th>bin_fc</th>\n",
       "      <th>bin_fd</th>\n",
       "      <th>bin_fe</th>\n",
       "      <th>bin_ff</th>\n",
       "    </tr>\n",
       "  </thead>\n",
       "  <tbody>\n",
       "    <tr>\n",
       "      <th>0</th>\n",
       "      <td>1</td>\n",
       "      <td>0</td>\n",
       "      <td>0</td>\n",
       "      <td>0</td>\n",
       "      <td>0</td>\n",
       "      <td>0</td>\n",
       "      <td>0</td>\n",
       "      <td>0</td>\n",
       "      <td>0</td>\n",
       "      <td>0</td>\n",
       "      <td>...</td>\n",
       "      <td>0</td>\n",
       "      <td>0</td>\n",
       "      <td>0</td>\n",
       "      <td>0</td>\n",
       "      <td>0</td>\n",
       "      <td>0</td>\n",
       "      <td>0</td>\n",
       "      <td>0</td>\n",
       "      <td>0</td>\n",
       "      <td>0</td>\n",
       "    </tr>\n",
       "    <tr>\n",
       "      <th>1</th>\n",
       "      <td>0</td>\n",
       "      <td>0</td>\n",
       "      <td>0</td>\n",
       "      <td>0</td>\n",
       "      <td>0</td>\n",
       "      <td>0</td>\n",
       "      <td>0</td>\n",
       "      <td>0</td>\n",
       "      <td>0</td>\n",
       "      <td>0</td>\n",
       "      <td>...</td>\n",
       "      <td>0</td>\n",
       "      <td>0</td>\n",
       "      <td>0</td>\n",
       "      <td>0</td>\n",
       "      <td>0</td>\n",
       "      <td>0</td>\n",
       "      <td>0</td>\n",
       "      <td>0</td>\n",
       "      <td>0</td>\n",
       "      <td>0</td>\n",
       "    </tr>\n",
       "    <tr>\n",
       "      <th>2</th>\n",
       "      <td>0</td>\n",
       "      <td>0</td>\n",
       "      <td>0</td>\n",
       "      <td>0</td>\n",
       "      <td>0</td>\n",
       "      <td>0</td>\n",
       "      <td>0</td>\n",
       "      <td>0</td>\n",
       "      <td>0</td>\n",
       "      <td>0</td>\n",
       "      <td>...</td>\n",
       "      <td>0</td>\n",
       "      <td>0</td>\n",
       "      <td>0</td>\n",
       "      <td>0</td>\n",
       "      <td>0</td>\n",
       "      <td>0</td>\n",
       "      <td>0</td>\n",
       "      <td>0</td>\n",
       "      <td>0</td>\n",
       "      <td>0</td>\n",
       "    </tr>\n",
       "    <tr>\n",
       "      <th>3</th>\n",
       "      <td>0</td>\n",
       "      <td>0</td>\n",
       "      <td>0</td>\n",
       "      <td>0</td>\n",
       "      <td>0</td>\n",
       "      <td>0</td>\n",
       "      <td>0</td>\n",
       "      <td>0</td>\n",
       "      <td>0</td>\n",
       "      <td>0</td>\n",
       "      <td>...</td>\n",
       "      <td>0</td>\n",
       "      <td>0</td>\n",
       "      <td>0</td>\n",
       "      <td>0</td>\n",
       "      <td>0</td>\n",
       "      <td>0</td>\n",
       "      <td>0</td>\n",
       "      <td>0</td>\n",
       "      <td>0</td>\n",
       "      <td>0</td>\n",
       "    </tr>\n",
       "    <tr>\n",
       "      <th>4</th>\n",
       "      <td>0</td>\n",
       "      <td>0</td>\n",
       "      <td>0</td>\n",
       "      <td>0</td>\n",
       "      <td>0</td>\n",
       "      <td>0</td>\n",
       "      <td>0</td>\n",
       "      <td>0</td>\n",
       "      <td>0</td>\n",
       "      <td>0</td>\n",
       "      <td>...</td>\n",
       "      <td>0</td>\n",
       "      <td>0</td>\n",
       "      <td>0</td>\n",
       "      <td>0</td>\n",
       "      <td>0</td>\n",
       "      <td>0</td>\n",
       "      <td>0</td>\n",
       "      <td>0</td>\n",
       "      <td>0</td>\n",
       "      <td>0</td>\n",
       "    </tr>\n",
       "    <tr>\n",
       "      <th>...</th>\n",
       "      <td>...</td>\n",
       "      <td>...</td>\n",
       "      <td>...</td>\n",
       "      <td>...</td>\n",
       "      <td>...</td>\n",
       "      <td>...</td>\n",
       "      <td>...</td>\n",
       "      <td>...</td>\n",
       "      <td>...</td>\n",
       "      <td>...</td>\n",
       "      <td>...</td>\n",
       "      <td>...</td>\n",
       "      <td>...</td>\n",
       "      <td>...</td>\n",
       "      <td>...</td>\n",
       "      <td>...</td>\n",
       "      <td>...</td>\n",
       "      <td>...</td>\n",
       "      <td>...</td>\n",
       "      <td>...</td>\n",
       "      <td>...</td>\n",
       "    </tr>\n",
       "    <tr>\n",
       "      <th>2129288</th>\n",
       "      <td>1</td>\n",
       "      <td>0</td>\n",
       "      <td>0</td>\n",
       "      <td>0</td>\n",
       "      <td>0</td>\n",
       "      <td>0</td>\n",
       "      <td>0</td>\n",
       "      <td>0</td>\n",
       "      <td>0</td>\n",
       "      <td>0</td>\n",
       "      <td>...</td>\n",
       "      <td>0</td>\n",
       "      <td>0</td>\n",
       "      <td>0</td>\n",
       "      <td>0</td>\n",
       "      <td>0</td>\n",
       "      <td>0</td>\n",
       "      <td>0</td>\n",
       "      <td>0</td>\n",
       "      <td>0</td>\n",
       "      <td>0</td>\n",
       "    </tr>\n",
       "    <tr>\n",
       "      <th>2129289</th>\n",
       "      <td>0</td>\n",
       "      <td>0</td>\n",
       "      <td>0</td>\n",
       "      <td>0</td>\n",
       "      <td>0</td>\n",
       "      <td>0</td>\n",
       "      <td>0</td>\n",
       "      <td>0</td>\n",
       "      <td>0</td>\n",
       "      <td>0</td>\n",
       "      <td>...</td>\n",
       "      <td>0</td>\n",
       "      <td>0</td>\n",
       "      <td>0</td>\n",
       "      <td>0</td>\n",
       "      <td>0</td>\n",
       "      <td>0</td>\n",
       "      <td>0</td>\n",
       "      <td>0</td>\n",
       "      <td>0</td>\n",
       "      <td>0</td>\n",
       "    </tr>\n",
       "    <tr>\n",
       "      <th>2129290</th>\n",
       "      <td>0</td>\n",
       "      <td>0</td>\n",
       "      <td>0</td>\n",
       "      <td>0</td>\n",
       "      <td>0</td>\n",
       "      <td>0</td>\n",
       "      <td>0</td>\n",
       "      <td>0</td>\n",
       "      <td>0</td>\n",
       "      <td>0</td>\n",
       "      <td>...</td>\n",
       "      <td>0</td>\n",
       "      <td>0</td>\n",
       "      <td>0</td>\n",
       "      <td>0</td>\n",
       "      <td>0</td>\n",
       "      <td>0</td>\n",
       "      <td>0</td>\n",
       "      <td>0</td>\n",
       "      <td>0</td>\n",
       "      <td>0</td>\n",
       "    </tr>\n",
       "    <tr>\n",
       "      <th>2129291</th>\n",
       "      <td>0</td>\n",
       "      <td>0</td>\n",
       "      <td>0</td>\n",
       "      <td>0</td>\n",
       "      <td>0</td>\n",
       "      <td>0</td>\n",
       "      <td>0</td>\n",
       "      <td>0</td>\n",
       "      <td>0</td>\n",
       "      <td>0</td>\n",
       "      <td>...</td>\n",
       "      <td>0</td>\n",
       "      <td>0</td>\n",
       "      <td>0</td>\n",
       "      <td>0</td>\n",
       "      <td>0</td>\n",
       "      <td>0</td>\n",
       "      <td>0</td>\n",
       "      <td>0</td>\n",
       "      <td>0</td>\n",
       "      <td>0</td>\n",
       "    </tr>\n",
       "    <tr>\n",
       "      <th>2129292</th>\n",
       "      <td>0</td>\n",
       "      <td>0</td>\n",
       "      <td>0</td>\n",
       "      <td>0</td>\n",
       "      <td>0</td>\n",
       "      <td>0</td>\n",
       "      <td>0</td>\n",
       "      <td>0</td>\n",
       "      <td>0</td>\n",
       "      <td>0</td>\n",
       "      <td>...</td>\n",
       "      <td>0</td>\n",
       "      <td>0</td>\n",
       "      <td>0</td>\n",
       "      <td>0</td>\n",
       "      <td>0</td>\n",
       "      <td>0</td>\n",
       "      <td>0</td>\n",
       "      <td>0</td>\n",
       "      <td>0</td>\n",
       "      <td>0</td>\n",
       "    </tr>\n",
       "  </tbody>\n",
       "</table>\n",
       "<p>21520 rows × 257 columns</p>\n",
       "</div>"
      ],
      "text/plain": [
       "         label  bin_00  bin_01  bin_02  bin_03  bin_04  bin_05  bin_06  \\\n",
       "0            1       0       0       0       0       0       0       0   \n",
       "1            0       0       0       0       0       0       0       0   \n",
       "2            0       0       0       0       0       0       0       0   \n",
       "3            0       0       0       0       0       0       0       0   \n",
       "4            0       0       0       0       0       0       0       0   \n",
       "...        ...     ...     ...     ...     ...     ...     ...     ...   \n",
       "2129288      1       0       0       0       0       0       0       0   \n",
       "2129289      0       0       0       0       0       0       0       0   \n",
       "2129290      0       0       0       0       0       0       0       0   \n",
       "2129291      0       0       0       0       0       0       0       0   \n",
       "2129292      0       0       0       0       0       0       0       0   \n",
       "\n",
       "         bin_07  bin_08  ...  bin_f6  bin_f7  bin_f8  bin_f9  bin_fa  bin_fb  \\\n",
       "0             0       0  ...       0       0       0       0       0       0   \n",
       "1             0       0  ...       0       0       0       0       0       0   \n",
       "2             0       0  ...       0       0       0       0       0       0   \n",
       "3             0       0  ...       0       0       0       0       0       0   \n",
       "4             0       0  ...       0       0       0       0       0       0   \n",
       "...         ...     ...  ...     ...     ...     ...     ...     ...     ...   \n",
       "2129288       0       0  ...       0       0       0       0       0       0   \n",
       "2129289       0       0  ...       0       0       0       0       0       0   \n",
       "2129290       0       0  ...       0       0       0       0       0       0   \n",
       "2129291       0       0  ...       0       0       0       0       0       0   \n",
       "2129292       0       0  ...       0       0       0       0       0       0   \n",
       "\n",
       "         bin_fc  bin_fd  bin_fe  bin_ff  \n",
       "0             0       0       0       0  \n",
       "1             0       0       0       0  \n",
       "2             0       0       0       0  \n",
       "3             0       0       0       0  \n",
       "4             0       0       0       0  \n",
       "...         ...     ...     ...     ...  \n",
       "2129288       0       0       0       0  \n",
       "2129289       0       0       0       0  \n",
       "2129290       0       0       0       0  \n",
       "2129291       0       0       0       0  \n",
       "2129292       0       0       0       0  \n",
       "\n",
       "[21520 rows x 257 columns]"
      ]
     },
     "execution_count": 17,
     "metadata": {},
     "output_type": "execute_result"
    }
   ],
   "source": [
    "# (5-1) gcc3 4gram\n",
    "######################## \n",
    "idx4 = gcc3_0_32_onehot[gcc3_0_32_onehot['label']==1].index  # 407, 474 ...\n",
    "ls4 = list(idx4)\n",
    "\n",
    "# 최종 뽑을 행에 대한 index\n",
    "ls_idx4 = [] \n",
    "left_idx4, right_idx4 = 0, 5 # 4개씩\n",
    "\n",
    "# 4gram\n",
    "for k in range(left_idx4, right_idx4):\n",
    "    ls_idx4.extend(list(idx4 + k)) # index 형이라서 가능\n",
    "\n",
    "ls_idx4 = list(set(ls_idx4)) \n",
    "\n",
    "ls_idx4.sort() # 인덱스 정렬\n",
    "ls_idx4 = list(filter(lambda x: x<len(gcc3_0_32_onehot), ls_idx4))\n",
    "\n",
    "print('gcc3_0_32', len(ls_idx4))\n",
    "\n",
    "# loc 로 수정필요\n",
    "gcc3_0_32_onehot_4gram = gcc3_0_32_onehot.loc[ls_idx4,:].copy()\n",
    "gcc3_0_32_onehot_4gram"
   ]
  },
  {
   "cell_type": "markdown",
   "metadata": {},
   "source": [
    "## 4. 함수 빈공간에 함수별로 한줄씩 값 대입"
   ]
  },
  {
   "cell_type": "code",
   "execution_count": 18,
   "metadata": {},
   "outputs": [
    {
     "name": "stdout",
     "output_type": "stream",
     "text": [
      "gcc3_0_32 25795\n"
     ]
    }
   ],
   "source": [
    "# (5-1) gcc3 5gram\n",
    "######################## \n",
    "idx5 = gcc3_0_32_onehot[gcc3_0_32_onehot['label']==1].index  # 407, 474 ...\n",
    "ls5 = list(idx5)\n",
    "\n",
    "# 최종 뽑을 행에 대한 index\n",
    "ls_idx5 = [] \n",
    "left_idx5, right_idx5 = 0, 6 # 5개씩\n",
    "\n",
    "# 5gram\n",
    "for k in range(left_idx5, right_idx5):\n",
    "    ls_idx5.extend(list(idx5 + k)) # index 형이라서 가능\n",
    "\n",
    "ls_idx5 = list(set(ls_idx5)) \n",
    "\n",
    "ls_idx5.sort() # 인덱스 정렬\n",
    "ls_idx5 = list(filter(lambda x: x<len(gcc3_0_32_onehot), ls_idx5))\n",
    "\n",
    "print('gcc3_0_32', len(ls_idx5))\n",
    "\n",
    "# loc 로 수정필요\n",
    "gcc3_0_32_onehot_5gram = gcc3_0_32_onehot.loc[ls_idx5,:].copy()"
   ]
  },
  {
   "cell_type": "code",
   "execution_count": 19,
   "metadata": {},
   "outputs": [
    {
     "data": {
      "text/html": [
       "<div>\n",
       "<style scoped>\n",
       "    .dataframe tbody tr th:only-of-type {\n",
       "        vertical-align: middle;\n",
       "    }\n",
       "\n",
       "    .dataframe tbody tr th {\n",
       "        vertical-align: top;\n",
       "    }\n",
       "\n",
       "    .dataframe thead th {\n",
       "        text-align: right;\n",
       "    }\n",
       "</style>\n",
       "<table border=\"1\" class=\"dataframe\">\n",
       "  <thead>\n",
       "    <tr style=\"text-align: right;\">\n",
       "      <th></th>\n",
       "      <th>label</th>\n",
       "      <th>bin_00</th>\n",
       "      <th>bin_01</th>\n",
       "      <th>bin_02</th>\n",
       "      <th>bin_03</th>\n",
       "      <th>bin_04</th>\n",
       "      <th>bin_05</th>\n",
       "      <th>bin_06</th>\n",
       "      <th>bin_07</th>\n",
       "      <th>bin_08</th>\n",
       "      <th>...</th>\n",
       "      <th>bin_f6</th>\n",
       "      <th>bin_f7</th>\n",
       "      <th>bin_f8</th>\n",
       "      <th>bin_f9</th>\n",
       "      <th>bin_fa</th>\n",
       "      <th>bin_fb</th>\n",
       "      <th>bin_fc</th>\n",
       "      <th>bin_fd</th>\n",
       "      <th>bin_fe</th>\n",
       "      <th>bin_ff</th>\n",
       "    </tr>\n",
       "  </thead>\n",
       "  <tbody>\n",
       "    <tr>\n",
       "      <th>0</th>\n",
       "      <td>1</td>\n",
       "      <td>0</td>\n",
       "      <td>0</td>\n",
       "      <td>0</td>\n",
       "      <td>0</td>\n",
       "      <td>0</td>\n",
       "      <td>0</td>\n",
       "      <td>0</td>\n",
       "      <td>0</td>\n",
       "      <td>0</td>\n",
       "      <td>...</td>\n",
       "      <td>0</td>\n",
       "      <td>0</td>\n",
       "      <td>0</td>\n",
       "      <td>0</td>\n",
       "      <td>0</td>\n",
       "      <td>0</td>\n",
       "      <td>0</td>\n",
       "      <td>0</td>\n",
       "      <td>0</td>\n",
       "      <td>0</td>\n",
       "    </tr>\n",
       "    <tr>\n",
       "      <th>1</th>\n",
       "      <td>0</td>\n",
       "      <td>0</td>\n",
       "      <td>0</td>\n",
       "      <td>0</td>\n",
       "      <td>0</td>\n",
       "      <td>0</td>\n",
       "      <td>0</td>\n",
       "      <td>0</td>\n",
       "      <td>0</td>\n",
       "      <td>0</td>\n",
       "      <td>...</td>\n",
       "      <td>0</td>\n",
       "      <td>0</td>\n",
       "      <td>0</td>\n",
       "      <td>0</td>\n",
       "      <td>0</td>\n",
       "      <td>0</td>\n",
       "      <td>0</td>\n",
       "      <td>0</td>\n",
       "      <td>0</td>\n",
       "      <td>0</td>\n",
       "    </tr>\n",
       "    <tr>\n",
       "      <th>2</th>\n",
       "      <td>0</td>\n",
       "      <td>0</td>\n",
       "      <td>0</td>\n",
       "      <td>0</td>\n",
       "      <td>0</td>\n",
       "      <td>0</td>\n",
       "      <td>0</td>\n",
       "      <td>0</td>\n",
       "      <td>0</td>\n",
       "      <td>0</td>\n",
       "      <td>...</td>\n",
       "      <td>0</td>\n",
       "      <td>0</td>\n",
       "      <td>0</td>\n",
       "      <td>0</td>\n",
       "      <td>0</td>\n",
       "      <td>0</td>\n",
       "      <td>0</td>\n",
       "      <td>0</td>\n",
       "      <td>0</td>\n",
       "      <td>0</td>\n",
       "    </tr>\n",
       "    <tr>\n",
       "      <th>3</th>\n",
       "      <td>0</td>\n",
       "      <td>0</td>\n",
       "      <td>0</td>\n",
       "      <td>0</td>\n",
       "      <td>0</td>\n",
       "      <td>0</td>\n",
       "      <td>0</td>\n",
       "      <td>0</td>\n",
       "      <td>0</td>\n",
       "      <td>0</td>\n",
       "      <td>...</td>\n",
       "      <td>0</td>\n",
       "      <td>0</td>\n",
       "      <td>0</td>\n",
       "      <td>0</td>\n",
       "      <td>0</td>\n",
       "      <td>0</td>\n",
       "      <td>0</td>\n",
       "      <td>0</td>\n",
       "      <td>0</td>\n",
       "      <td>0</td>\n",
       "    </tr>\n",
       "    <tr>\n",
       "      <th>4</th>\n",
       "      <td>0</td>\n",
       "      <td>0</td>\n",
       "      <td>0</td>\n",
       "      <td>0</td>\n",
       "      <td>0</td>\n",
       "      <td>0</td>\n",
       "      <td>0</td>\n",
       "      <td>0</td>\n",
       "      <td>0</td>\n",
       "      <td>0</td>\n",
       "      <td>...</td>\n",
       "      <td>0</td>\n",
       "      <td>0</td>\n",
       "      <td>0</td>\n",
       "      <td>0</td>\n",
       "      <td>0</td>\n",
       "      <td>0</td>\n",
       "      <td>0</td>\n",
       "      <td>0</td>\n",
       "      <td>0</td>\n",
       "      <td>0</td>\n",
       "    </tr>\n",
       "    <tr>\n",
       "      <th>...</th>\n",
       "      <td>...</td>\n",
       "      <td>...</td>\n",
       "      <td>...</td>\n",
       "      <td>...</td>\n",
       "      <td>...</td>\n",
       "      <td>...</td>\n",
       "      <td>...</td>\n",
       "      <td>...</td>\n",
       "      <td>...</td>\n",
       "      <td>...</td>\n",
       "      <td>...</td>\n",
       "      <td>...</td>\n",
       "      <td>...</td>\n",
       "      <td>...</td>\n",
       "      <td>...</td>\n",
       "      <td>...</td>\n",
       "      <td>...</td>\n",
       "      <td>...</td>\n",
       "      <td>...</td>\n",
       "      <td>...</td>\n",
       "      <td>...</td>\n",
       "    </tr>\n",
       "    <tr>\n",
       "      <th>2129289</th>\n",
       "      <td>0</td>\n",
       "      <td>0</td>\n",
       "      <td>0</td>\n",
       "      <td>0</td>\n",
       "      <td>0</td>\n",
       "      <td>0</td>\n",
       "      <td>0</td>\n",
       "      <td>0</td>\n",
       "      <td>0</td>\n",
       "      <td>0</td>\n",
       "      <td>...</td>\n",
       "      <td>0</td>\n",
       "      <td>0</td>\n",
       "      <td>0</td>\n",
       "      <td>0</td>\n",
       "      <td>0</td>\n",
       "      <td>0</td>\n",
       "      <td>0</td>\n",
       "      <td>0</td>\n",
       "      <td>0</td>\n",
       "      <td>0</td>\n",
       "    </tr>\n",
       "    <tr>\n",
       "      <th>2129290</th>\n",
       "      <td>0</td>\n",
       "      <td>0</td>\n",
       "      <td>0</td>\n",
       "      <td>0</td>\n",
       "      <td>0</td>\n",
       "      <td>0</td>\n",
       "      <td>0</td>\n",
       "      <td>0</td>\n",
       "      <td>0</td>\n",
       "      <td>0</td>\n",
       "      <td>...</td>\n",
       "      <td>0</td>\n",
       "      <td>0</td>\n",
       "      <td>0</td>\n",
       "      <td>0</td>\n",
       "      <td>0</td>\n",
       "      <td>0</td>\n",
       "      <td>0</td>\n",
       "      <td>0</td>\n",
       "      <td>0</td>\n",
       "      <td>0</td>\n",
       "    </tr>\n",
       "    <tr>\n",
       "      <th>2129291</th>\n",
       "      <td>0</td>\n",
       "      <td>0</td>\n",
       "      <td>0</td>\n",
       "      <td>0</td>\n",
       "      <td>0</td>\n",
       "      <td>0</td>\n",
       "      <td>0</td>\n",
       "      <td>0</td>\n",
       "      <td>0</td>\n",
       "      <td>0</td>\n",
       "      <td>...</td>\n",
       "      <td>0</td>\n",
       "      <td>0</td>\n",
       "      <td>0</td>\n",
       "      <td>0</td>\n",
       "      <td>0</td>\n",
       "      <td>0</td>\n",
       "      <td>0</td>\n",
       "      <td>0</td>\n",
       "      <td>0</td>\n",
       "      <td>0</td>\n",
       "    </tr>\n",
       "    <tr>\n",
       "      <th>2129292</th>\n",
       "      <td>0</td>\n",
       "      <td>0</td>\n",
       "      <td>0</td>\n",
       "      <td>0</td>\n",
       "      <td>0</td>\n",
       "      <td>0</td>\n",
       "      <td>0</td>\n",
       "      <td>0</td>\n",
       "      <td>0</td>\n",
       "      <td>0</td>\n",
       "      <td>...</td>\n",
       "      <td>0</td>\n",
       "      <td>0</td>\n",
       "      <td>0</td>\n",
       "      <td>0</td>\n",
       "      <td>0</td>\n",
       "      <td>0</td>\n",
       "      <td>0</td>\n",
       "      <td>0</td>\n",
       "      <td>0</td>\n",
       "      <td>0</td>\n",
       "    </tr>\n",
       "    <tr>\n",
       "      <th>2129293</th>\n",
       "      <td>0</td>\n",
       "      <td>0</td>\n",
       "      <td>0</td>\n",
       "      <td>0</td>\n",
       "      <td>0</td>\n",
       "      <td>0</td>\n",
       "      <td>0</td>\n",
       "      <td>0</td>\n",
       "      <td>0</td>\n",
       "      <td>0</td>\n",
       "      <td>...</td>\n",
       "      <td>0</td>\n",
       "      <td>0</td>\n",
       "      <td>0</td>\n",
       "      <td>0</td>\n",
       "      <td>0</td>\n",
       "      <td>0</td>\n",
       "      <td>0</td>\n",
       "      <td>0</td>\n",
       "      <td>0</td>\n",
       "      <td>0</td>\n",
       "    </tr>\n",
       "  </tbody>\n",
       "</table>\n",
       "<p>25795 rows × 257 columns</p>\n",
       "</div>"
      ],
      "text/plain": [
       "         label  bin_00  bin_01  bin_02  bin_03  bin_04  bin_05  bin_06  \\\n",
       "0            1       0       0       0       0       0       0       0   \n",
       "1            0       0       0       0       0       0       0       0   \n",
       "2            0       0       0       0       0       0       0       0   \n",
       "3            0       0       0       0       0       0       0       0   \n",
       "4            0       0       0       0       0       0       0       0   \n",
       "...        ...     ...     ...     ...     ...     ...     ...     ...   \n",
       "2129289      0       0       0       0       0       0       0       0   \n",
       "2129290      0       0       0       0       0       0       0       0   \n",
       "2129291      0       0       0       0       0       0       0       0   \n",
       "2129292      0       0       0       0       0       0       0       0   \n",
       "2129293      0       0       0       0       0       0       0       0   \n",
       "\n",
       "         bin_07  bin_08  ...  bin_f6  bin_f7  bin_f8  bin_f9  bin_fa  bin_fb  \\\n",
       "0             0       0  ...       0       0       0       0       0       0   \n",
       "1             0       0  ...       0       0       0       0       0       0   \n",
       "2             0       0  ...       0       0       0       0       0       0   \n",
       "3             0       0  ...       0       0       0       0       0       0   \n",
       "4             0       0  ...       0       0       0       0       0       0   \n",
       "...         ...     ...  ...     ...     ...     ...     ...     ...     ...   \n",
       "2129289       0       0  ...       0       0       0       0       0       0   \n",
       "2129290       0       0  ...       0       0       0       0       0       0   \n",
       "2129291       0       0  ...       0       0       0       0       0       0   \n",
       "2129292       0       0  ...       0       0       0       0       0       0   \n",
       "2129293       0       0  ...       0       0       0       0       0       0   \n",
       "\n",
       "         bin_fc  bin_fd  bin_fe  bin_ff  \n",
       "0             0       0       0       0  \n",
       "1             0       0       0       0  \n",
       "2             0       0       0       0  \n",
       "3             0       0       0       0  \n",
       "4             0       0       0       0  \n",
       "...         ...     ...     ...     ...  \n",
       "2129289       0       0       0       0  \n",
       "2129290       0       0       0       0  \n",
       "2129291       0       0       0       0  \n",
       "2129292       0       0       0       0  \n",
       "2129293       0       0       0       0  \n",
       "\n",
       "[25795 rows x 257 columns]"
      ]
     },
     "execution_count": 19,
     "metadata": {},
     "output_type": "execute_result"
    }
   ],
   "source": [
    "gcc3_0_32_onehot_5gram"
   ]
  },
  {
   "cell_type": "code",
   "execution_count": 22,
   "metadata": {},
   "outputs": [
    {
     "name": "stdout",
     "output_type": "stream",
     "text": [
      "gcc3_0_32 30070\n"
     ]
    }
   ],
   "source": [
    "# (5-1) gcc3 6gram\n",
    "######################## \n",
    "idx6 = gcc3_0_32_onehot[gcc3_0_32_onehot['label']==1].index  # 407, 474 ...\n",
    "ls6 = list(idx6)\n",
    "\n",
    "# 최종 뽑을 행에 대한 index\n",
    "ls_idx6 = [] \n",
    "left_idx6, right_idx6 = 0, 7 # 6개씩\n",
    "\n",
    "# 6gram\n",
    "for k in range(left_idx6, right_idx6):\n",
    "    ls_idx6.extend(list(idx6 + k)) # index 형이라서 가능\n",
    "\n",
    "ls_idx6 = list(set(ls_idx6)) \n",
    "\n",
    "ls_idx6.sort() # 인덱스 정렬\n",
    "ls_idx6 = list(filter(lambda x: x<len(gcc3_0_32_onehot), ls_idx6))\n",
    "\n",
    "print('gcc3_0_32', len(ls_idx6))\n",
    "\n",
    "# loc 로 수정필요\n",
    "gcc3_0_32_onehot_6gram = gcc3_0_32_onehot.loc[ls_idx6,:].copy()"
   ]
  },
  {
   "cell_type": "markdown",
   "metadata": {},
   "source": [
    "## Train, Test Label split"
   ]
  },
  {
   "cell_type": "code",
   "execution_count": 31,
   "metadata": {},
   "outputs": [
    {
     "name": "stdout",
     "output_type": "stream",
     "text": [
      "(17216, 256) (17216,)\n",
      "(21520, 256) (21520,)\n",
      "(25795, 256) (25795,)\n",
      "(30070, 256) (30070,)\n"
     ]
    }
   ],
   "source": [
    "# (7) 훈련데이터, 훈련라벨 분리 012\n",
    "\n",
    "# 훈련 데이터, 훈련 라벨\n",
    "x_gcc3_0_32_3 = gcc3_0_32_onehot_3gram.iloc[:,1:].to_numpy()\n",
    "y_gcc3_0_32_3 = gcc3_0_32_onehot_3gram['label'].to_numpy()\n",
    "\n",
    "x_gcc3_0_32_4 = gcc3_0_32_onehot_4gram.iloc[:,1:].to_numpy()\n",
    "y_gcc3_0_32_4 = gcc3_0_32_onehot_4gram['label'].to_numpy()\n",
    "\n",
    "x_gcc3_0_32_5 = gcc3_0_32_onehot_5gram.iloc[:,1:].to_numpy()\n",
    "y_gcc3_0_32_5 = gcc3_0_32_onehot_5gram['label'].to_numpy()\n",
    "\n",
    "# 테스트 데이터, 테스트 라벨\n",
    "x_gcc3_0_32_6 = gcc3_0_32_onehot_6gram.iloc[:,1:].to_numpy()\n",
    "y_gcc3_0_32_6 = gcc3_0_32_onehot_6gram['label'].to_numpy()\n",
    "\n",
    "# train\n",
    "print(x_gcc3_0_32_3.shape, y_gcc3_0_32_3.shape)\n",
    "print(x_gcc3_0_32_4.shape, y_gcc3_0_32_4.shape)\n",
    "print(x_gcc3_0_32_5.shape, y_gcc3_0_32_5.shape)\n",
    "print(x_gcc3_0_32_6.shape, y_gcc3_0_32_6.shape)"
   ]
  },
  {
   "cell_type": "markdown",
   "metadata": {},
   "source": [
    "## Reshape"
   ]
  },
  {
   "cell_type": "code",
   "execution_count": 32,
   "metadata": {},
   "outputs": [
    {
     "name": "stdout",
     "output_type": "stream",
     "text": [
      "(17216, 1, 256) (17216, 1, 1)\n",
      "(21520, 1, 256) (21520, 1, 1)\n",
      "(25795, 1, 1) (25795, 1, 1)\n",
      "(30070, 1, 256) (30070, 1, 1)\n"
     ]
    }
   ],
   "source": [
    "# (8) 훈련데이터, 훈련라벨 reshape 작업 => # ex - (605, 1, 256)\n",
    "\n",
    "## 3gram\n",
    "x_gcc3_0_32_3 = x_gcc3_0_32_3.reshape(x_gcc3_0_32_3.shape[0], 1, x_gcc3_0_32_3.shape[1])\n",
    "y_gcc3_0_32_3 = y_gcc3_0_32_3.reshape(y_gcc3_0_32_3.shape[0], 1, 1)\n",
    "\n",
    "## 4gram\n",
    "x_gcc3_0_32_4 = x_gcc3_0_32_4.reshape(x_gcc3_0_32_4.shape[0], 1, x_gcc3_0_32_4.shape[1])\n",
    "y_gcc3_0_32_4 = y_gcc3_0_32_4.reshape(y_gcc3_0_32_4.shape[0], 1, 1)\n",
    "\n",
    "## 5gram\n",
    "x_gcc3_0_32_5 = x_gcc3_0_32_5.reshape(x_gcc3_0_32_5.shape[0], 1, x_gcc3_0_32_5.shape[1])\n",
    "y_gcc3_0_32_5 = y_gcc3_0_32_5.reshape(y_gcc3_0_32_5.shape[0], 1, 1)\n",
    "\n",
    "## 6gram\n",
    "x_gcc3_0_32_6 = x_gcc3_0_32_6.reshape(x_gcc3_0_32_6.shape[0], 1, x_gcc3_0_32_6.shape[1])\n",
    "y_gcc3_0_32_6 = y_gcc3_0_32_6.reshape(y_gcc3_0_32_6.shape[0], 1, 1)\n",
    "\n",
    "# 3gram, 4gram, 5gram, 6gram\n",
    "print(x_gcc3_0_32_3.shape, y_gcc3_0_32_3.shape)\n",
    "print(x_gcc3_0_32_4.shape, y_gcc3_0_32_4.shape)\n",
    "print(y_gcc3_0_32_5.shape, y_gcc3_0_32_5.shape)\n",
    "print(x_gcc3_0_32_6.shape, y_gcc3_0_32_6.shape)"
   ]
  },
  {
   "cell_type": "markdown",
   "metadata": {},
   "source": [
    "## 전체 Model O0 ~ O4 다 합치기 np.concatenate"
   ]
  },
  {
   "cell_type": "code",
   "execution_count": 34,
   "metadata": {},
   "outputs": [
    {
     "name": "stdout",
     "output_type": "stream",
     "text": [
      "(94601, 1, 256) (94601, 1, 1)\n"
     ]
    }
   ],
   "source": [
    "# (9) 최종 훈련데이터, 훈련라벨 concatenate 작업\n",
    "# 0123 / 3\n",
    "x_gcc3_0123_32 = np.concatenate((x_gcc3_0_32_3, x_gcc3_0_32_4,\n",
    "                                 x_gcc3_0_32_5, x_gcc3_0_32_6), axis=0)\n",
    "y_gcc3_0123_32 = np.concatenate((y_gcc3_0_32_3, y_gcc3_0_32_4, \n",
    "                                 y_gcc3_0_32_5, y_gcc3_0_32_6), axis=0)\n",
    "print(x_gcc3_0123_32.shape, y_gcc3_0123_32.shape)"
   ]
  },
  {
   "cell_type": "markdown",
   "metadata": {},
   "source": [
    "## Modeling"
   ]
  },
  {
   "cell_type": "code",
   "execution_count": 36,
   "metadata": {},
   "outputs": [
    {
     "name": "stdout",
     "output_type": "stream",
     "text": [
      "WARNING:tensorflow:From c:\\users\\urse\\anaconda3\\envs\\untitled\\lib\\site-packages\\tensorflow_core\\python\\ops\\resource_variable_ops.py:1630: calling BaseResourceVariable.__init__ (from tensorflow.python.ops.resource_variable_ops) with constraint is deprecated and will be removed in a future version.\n",
      "Instructions for updating:\n",
      "If using Keras pass *_constraint arguments to layers.\n",
      "Model: \"model_1\"\n",
      "_________________________________________________________________\n",
      "Layer (type)                 Output Shape              Param #   \n",
      "=================================================================\n",
      "input_1 (InputLayer)         (None, 1, 256)            0         \n",
      "_________________________________________________________________\n",
      "bidirectional_1 (Bidirection (None, 1, 32)             34944     \n",
      "_________________________________________________________________\n",
      "time_distributed_1 (TimeDist (None, 1, 1)              33        \n",
      "=================================================================\n",
      "Total params: 34,977\n",
      "Trainable params: 34,977\n",
      "Non-trainable params: 0\n",
      "_________________________________________________________________\n"
     ]
    }
   ],
   "source": [
    "# (10) 양방향 LSTM 모델링 작업\n",
    "from keras.models import Model, Sequential\n",
    "from keras.layers import SimpleRNN, Input, Dense, LSTM\n",
    "from keras.layers import Bidirectional, TimeDistributed\n",
    "\n",
    "# 학습\n",
    "from keras.callbacks import EarlyStopping\n",
    "early_stopping = EarlyStopping(patience = 3) # 조기종료 콜백함수 정의\n",
    "\n",
    "xInput = Input(batch_shape=(None, 1, 256)) \n",
    "xBiLstm = Bidirectional(LSTM(16, return_sequences=True), merge_mode = 'concat')(xInput)\n",
    "xOutput = TimeDistributed(Dense(1, activation ='sigmoid'))(xBiLstm) # 각 스텝에서 cost가 전송되고, 오류가 다음 step으로 전송됨.\n",
    "\n",
    "model1 = Model(xInput, xOutput)\n",
    "model1.compile(loss='binary_crossentropy', optimizer='rmsprop', metrics=['accuracy'])\n",
    "model1.summary()"
   ]
  },
  {
   "cell_type": "markdown",
   "metadata": {},
   "source": [
    "## 교차 검증 (10 - Kfold) & 평가지표"
   ]
  },
  {
   "cell_type": "code",
   "execution_count": 37,
   "metadata": {},
   "outputs": [
    {
     "name": "stdout",
     "output_type": "stream",
     "text": [
      "======Training stage======\n",
      "WARNING:tensorflow:From c:\\users\\urse\\anaconda3\\envs\\untitled\\lib\\site-packages\\tensorflow_core\\python\\ops\\math_grad.py:1424: where (from tensorflow.python.ops.array_ops) is deprecated and will be removed in a future version.\n",
      "Instructions for updating:\n",
      "Use tf.where in 2.0, which has the same broadcast rule as np.where\n",
      "WARNING:tensorflow:From c:\\users\\urse\\anaconda3\\envs\\untitled\\lib\\site-packages\\keras\\backend\\tensorflow_backend.py:422: The name tf.global_variables is deprecated. Please use tf.compat.v1.global_variables instead.\n",
      "\n",
      "Epoch 1/3\n",
      "15494/15494 [==============================] - 2s 110us/step - loss: 0.2479 - accuracy: 0.9417\n",
      "Epoch 2/3\n",
      "15494/15494 [==============================] - 1s 64us/step - loss: 0.0020 - accuracy: 1.0000\n",
      "Epoch 3/3\n",
      "15494/15494 [==============================] - 1s 65us/step - loss: 5.7464e-06 - accuracy: 1.0000\n"
     ]
    },
    {
     "data": {
      "text/plain": [
       "<keras.callbacks.callbacks.History at 0x23482bbfb08>"
      ]
     },
     "execution_count": 37,
     "metadata": {},
     "output_type": "execute_result"
    },
    {
     "name": "stdout",
     "output_type": "stream",
     "text": [
      "accuracy_score 1.0\n",
      "recall_score 1.0\n",
      "precision_score 1.0\n",
      "f1_score 1.0\n",
      "======Training stage======\n",
      "Epoch 1/3\n",
      "15494/15494 [==============================] - 1s 66us/step - loss: 1.7718e-07 - accuracy: 1.0000\n",
      "Epoch 2/3\n",
      "15494/15494 [==============================] - 1s 80us/step - loss: 3.7425e-08 - accuracy: 1.0000\n",
      "Epoch 3/3\n",
      "15494/15494 [==============================] - 1s 72us/step - loss: 1.9632e-08 - accuracy: 1.0000\n"
     ]
    },
    {
     "data": {
      "text/plain": [
       "<keras.callbacks.callbacks.History at 0x234b222dd48>"
      ]
     },
     "execution_count": 37,
     "metadata": {},
     "output_type": "execute_result"
    },
    {
     "name": "stdout",
     "output_type": "stream",
     "text": [
      "accuracy_score 1.0\n",
      "recall_score 1.0\n",
      "precision_score 1.0\n",
      "f1_score 1.0\n",
      "======Training stage======\n",
      "Epoch 1/3\n",
      "15494/15494 [==============================] - 1s 71us/step - loss: 1.1976e-08 - accuracy: 1.0000\n",
      "Epoch 2/3\n",
      "15494/15494 [==============================] - 1s 68us/step - loss: 8.0979e-09 - accuracy: 1.0000\n",
      "Epoch 3/3\n",
      "15494/15494 [==============================] - 1s 64us/step - loss: 5.7936e-09 - accuracy: 1.0000\n"
     ]
    },
    {
     "data": {
      "text/plain": [
       "<keras.callbacks.callbacks.History at 0x234b22187c8>"
      ]
     },
     "execution_count": 37,
     "metadata": {},
     "output_type": "execute_result"
    },
    {
     "name": "stdout",
     "output_type": "stream",
     "text": [
      "accuracy_score 1.0\n",
      "recall_score 1.0\n",
      "precision_score 1.0\n",
      "f1_score 1.0\n",
      "======Training stage======\n",
      "Epoch 1/3\n",
      "15494/15494 [==============================] - 1s 70us/step - loss: 2.9929e-09 - accuracy: 1.0000\n",
      "Epoch 2/3\n",
      "15494/15494 [==============================] - 1s 78us/step - loss: 2.5044e-09 - accuracy: 1.0000\n",
      "Epoch 3/3\n",
      "15494/15494 [==============================] - 1s 92us/step - loss: 1.9466e-09 - accuracy: 1.0000\n"
     ]
    },
    {
     "data": {
      "text/plain": [
       "<keras.callbacks.callbacks.History at 0x234b2218048>"
      ]
     },
     "execution_count": 37,
     "metadata": {},
     "output_type": "execute_result"
    },
    {
     "name": "stdout",
     "output_type": "stream",
     "text": [
      "accuracy_score 1.0\n",
      "recall_score 1.0\n",
      "precision_score 1.0\n",
      "f1_score 1.0\n",
      "======Training stage======\n",
      "Epoch 1/3\n",
      "15494/15494 [==============================] - 1s 83us/step - loss: 2.8352e-09 - accuracy: 1.0000\n",
      "Epoch 2/3\n",
      "15494/15494 [==============================] - 1s 78us/step - loss: 2.3928e-09 - accuracy: 1.0000\n",
      "Epoch 3/3\n",
      "15494/15494 [==============================] - 1s 80us/step - loss: 2.0274e-09 - accuracy: 1.0000\n"
     ]
    },
    {
     "data": {
      "text/plain": [
       "<keras.callbacks.callbacks.History at 0x234b22180c8>"
      ]
     },
     "execution_count": 37,
     "metadata": {},
     "output_type": "execute_result"
    },
    {
     "name": "stdout",
     "output_type": "stream",
     "text": [
      "accuracy_score 1.0\n",
      "recall_score 1.0\n",
      "precision_score 1.0\n",
      "f1_score 1.0\n",
      "======Training stage======\n",
      "Epoch 1/3\n",
      "15494/15494 [==============================] - 1s 74us/step - loss: 1.7811e-09 - accuracy: 1.0000\n",
      "Epoch 2/3\n",
      "15494/15494 [==============================] - 1s 80us/step - loss: 1.5542e-09 - accuracy: 1.0000\n",
      "Epoch 3/3\n",
      "15494/15494 [==============================] - 1s 78us/step - loss: 1.4003e-09 - accuracy: 1.0000\n"
     ]
    },
    {
     "data": {
      "text/plain": [
       "<keras.callbacks.callbacks.History at 0x234b222d908>"
      ]
     },
     "execution_count": 37,
     "metadata": {},
     "output_type": "execute_result"
    },
    {
     "name": "stdout",
     "output_type": "stream",
     "text": [
      "accuracy_score 1.0\n",
      "recall_score 1.0\n",
      "precision_score 1.0\n",
      "f1_score 1.0\n",
      "======Training stage======\n",
      "Epoch 1/3\n",
      "15495/15495 [==============================] - 1s 69us/step - loss: 1.2733e-09 - accuracy: 1.0000\n",
      "Epoch 2/3\n",
      "15495/15495 [==============================] - 1s 78us/step - loss: 1.2002e-09 - accuracy: 1.0000\n",
      "Epoch 3/3\n",
      "15495/15495 [==============================] - 1s 70us/step - loss: 1.0155e-09 - accuracy: 1.0000\n"
     ]
    },
    {
     "data": {
      "text/plain": [
       "<keras.callbacks.callbacks.History at 0x234b222d4c8>"
      ]
     },
     "execution_count": 37,
     "metadata": {},
     "output_type": "execute_result"
    },
    {
     "name": "stdout",
     "output_type": "stream",
     "text": [
      "accuracy_score 1.0\n",
      "recall_score 1.0\n",
      "precision_score 1.0\n",
      "f1_score 1.0\n",
      "======Training stage======\n",
      "Epoch 1/3\n",
      "15495/15495 [==============================] - 1s 71us/step - loss: 9.7322e-10 - accuracy: 1.0000\n",
      "Epoch 2/3\n",
      "15495/15495 [==============================] - 1s 80us/step - loss: 9.1167e-10 - accuracy: 1.0000\n",
      "Epoch 3/3\n",
      "15495/15495 [==============================] - 1s 73us/step - loss: 8.4628e-10 - accuracy: 1.0000\n"
     ]
    },
    {
     "data": {
      "text/plain": [
       "<keras.callbacks.callbacks.History at 0x234b222d548>"
      ]
     },
     "execution_count": 37,
     "metadata": {},
     "output_type": "execute_result"
    },
    {
     "name": "stdout",
     "output_type": "stream",
     "text": [
      "accuracy_score 1.0\n",
      "recall_score 1.0\n",
      "precision_score 1.0\n",
      "f1_score 1.0\n",
      "======Training stage======\n",
      "Epoch 1/3\n",
      "15495/15495 [==============================] - 1s 74us/step - loss: 5.5393e-10 - accuracy: 1.0000\n",
      "Epoch 2/3\n",
      "15495/15495 [==============================] - 1s 72us/step - loss: 5.3469e-10 - accuracy: 1.0000\n",
      "Epoch 3/3\n",
      "15495/15495 [==============================] - 1s 75us/step - loss: 5.5008e-10 - accuracy: 1.0000\n"
     ]
    },
    {
     "data": {
      "text/plain": [
       "<keras.callbacks.callbacks.History at 0x234b2230308>"
      ]
     },
     "execution_count": 37,
     "metadata": {},
     "output_type": "execute_result"
    },
    {
     "name": "stdout",
     "output_type": "stream",
     "text": [
      "accuracy_score 1.0\n",
      "recall_score 1.0\n",
      "precision_score 1.0\n",
      "f1_score 1.0\n",
      "======Training stage======\n",
      "Epoch 1/3\n",
      "15495/15495 [==============================] - 1s 74us/step - loss: 5.2315e-10 - accuracy: 1.0000\n",
      "Epoch 2/3\n",
      "15495/15495 [==============================] - 1s 75us/step - loss: 5.1161e-10 - accuracy: 1.0000\n",
      "Epoch 3/3\n",
      "15495/15495 [==============================] - 1s 72us/step - loss: 4.7699e-10 - accuracy: 1.0000\n"
     ]
    },
    {
     "data": {
      "text/plain": [
       "<keras.callbacks.callbacks.History at 0x234b2230548>"
      ]
     },
     "execution_count": 37,
     "metadata": {},
     "output_type": "execute_result"
    },
    {
     "name": "stdout",
     "output_type": "stream",
     "text": [
      "accuracy_score 1.0\n",
      "recall_score 1.0\n",
      "precision_score 1.0\n",
      "f1_score 1.0\n",
      "\n",
      "K-fold cross validation Accuracy: [1.0, 1.0, 1.0, 1.0, 1.0, 1.0, 1.0, 1.0, 1.0, 1.0]\n",
      "\n",
      "K-fold cross validation Recall: [1.0, 1.0, 1.0, 1.0, 1.0, 1.0, 1.0, 1.0, 1.0, 1.0]\n",
      "\n",
      "K-fold cross validation Precision: [1.0, 1.0, 1.0, 1.0, 1.0, 1.0, 1.0, 1.0, 1.0, 1.0]\n",
      "\n",
      "K-fold cross validation F1-Score: [1.0, 1.0, 1.0, 1.0, 1.0, 1.0, 1.0, 1.0, 1.0, 1.0]\n"
     ]
    }
   ],
   "source": [
    "########## 3gram\n",
    "\n",
    "# 교차검증 kfold\n",
    "from sklearn.model_selection import KFold\n",
    "\n",
    "# Accuracy, Precision, Recall, F1-Score\n",
    "from sklearn.metrics import accuracy_score, recall_score, precision_score, f1_score\n",
    "\n",
    "# Confusion Matrix, ROC Curve\n",
    "from sklearn.metrics import confusion_matrix, roc_auc_score\n",
    "\n",
    "# 최종 평가지표들 평균용\n",
    "accuracy, recall, precision, f1score, cm = [], [], [], [], []\n",
    "\n",
    "# 11. 교차검증 kfold - k.split - 10회 / K-Fold 객체 생성\n",
    "# kf = KFold(n_splits=10, shuffle=False, random_state=None) # KFold non shuffle 버전\n",
    "kf = KFold(n_splits=10, shuffle=False, random_state=None) # KFold non shuffle 버전\n",
    "\n",
    "for train, validation in kf.split(x_gcc3_0_32_3, y_gcc3_0_32_3):\n",
    "    print('======Training stage======')\n",
    "    model1.fit(x_gcc3_0_32_3[train],\n",
    "               y_gcc3_0_32_3[train],\n",
    "               epochs = 3,\n",
    "               batch_size = 32,\n",
    "               callbacks=[early_stopping])\n",
    "    #k_accuracy = '%.4f' %(model1.evaluate(data_10000x[validation], data_10000y[validation])[1])\n",
    "\n",
    "# 12. 교차검증결과 predict - 검증셋들\n",
    "    # predict 값\n",
    "    k_pr = model1.predict(x_gcc3_0_32_3[validation])\n",
    "    \n",
    "    # 테스트 predict 결과들 비교 (평가지표 보기위함)\n",
    "    pred = np.round(np.array(k_pr).flatten().tolist())\n",
    "    y_test = np.array(y_gcc3_0_32_3[validation]).flatten().tolist()\n",
    "    \n",
    "# 13. 평가지표들 출력\n",
    "    ## 평가지표들\n",
    "    k_accuracy = float(accuracy_score(y_test, pred))\n",
    "    k_recall =  float(recall_score(y_test, pred))\n",
    "    k_precision = float(precision_score(y_test, pred))\n",
    "    k_f1_score = float(f1_score(y_test, pred))\n",
    "    #k_cm = float(confusion_matrix(y_test, pred))\n",
    "    \n",
    "    print('accuracy_score', k_accuracy)\n",
    "    print('recall_score', k_recall)\n",
    "    print('precision_score', k_precision)\n",
    "    print('f1_score', k_f1_score)\n",
    "    #print('\\nconfusion_matrix\\n', k_cm)\n",
    "\n",
    "    accuracy.append(k_accuracy)\n",
    "    recall.append(k_recall)\n",
    "    precision.append(k_precision)\n",
    "    f1score.append(k_f1_score)\n",
    "    #cm.append(k_cm)\n",
    "#    print('roc_curve 면적', roc_auc_score(y_test, pred))\n",
    "\n",
    "# 14. 최종 결과지표\n",
    "print('\\nK-fold cross validation Accuracy: {}'.format(accuracy))\n",
    "print('\\nK-fold cross validation Recall: {}'.format(recall))\n",
    "print('\\nK-fold cross validation Precision: {}'.format(precision))\n",
    "print('\\nK-fold cross validation F1-Score: {}'.format(f1score))\n",
    "#print('\\nK-fold cross validation ConfusionMatrix: {}'.format(cm))"
   ]
  },
  {
   "cell_type": "code",
   "execution_count": 38,
   "metadata": {},
   "outputs": [
    {
     "name": "stdout",
     "output_type": "stream",
     "text": [
      "10-Fold Cross_validation. Accuracy : 1.0\n",
      "10-Fold Cross_validation. Recall : 1.0\n",
      "10-Fold Cross_validation. Precision : 1.0\n",
      "10-Fold Cross_validation. F1-Score : 1.0\n"
     ]
    }
   ],
   "source": [
    "# 3gram 평가지표\n",
    "print('10-Fold Cross_validation. Accuracy :', np.mean(accuracy))\n",
    "print('10-Fold Cross_validation. Recall :', np.mean(recall))\n",
    "print('10-Fold Cross_validation. Precision :', np.mean(precision))\n",
    "print('10-Fold Cross_validation. F1-Score :', np.mean(f1score))"
   ]
  },
  {
   "cell_type": "code",
   "execution_count": 39,
   "metadata": {},
   "outputs": [
    {
     "name": "stdout",
     "output_type": "stream",
     "text": [
      "======Training stage======\n",
      "Epoch 1/3\n",
      "19368/19368 [==============================] - 2s 79us/step - loss: 0.0198 - accuracy: 0.9987\n",
      "Epoch 2/3\n",
      "19368/19368 [==============================] - 1s 68us/step - loss: 0.0170 - accuracy: 0.9987\n",
      "Epoch 3/3\n",
      "19368/19368 [==============================] - 1s 67us/step - loss: 0.0121 - accuracy: 0.9987\n"
     ]
    },
    {
     "data": {
      "text/plain": [
       "<keras.callbacks.callbacks.History at 0x234b0bc0ac8>"
      ]
     },
     "execution_count": 39,
     "metadata": {},
     "output_type": "execute_result"
    },
    {
     "name": "stdout",
     "output_type": "stream",
     "text": [
      "accuracy_score 0.9995353159851301\n",
      "recall_score 1.0\n",
      "precision_score 0.9976851851851852\n",
      "f1_score 0.9988412514484357\n",
      "======Training stage======\n",
      "Epoch 1/3\n",
      "19368/19368 [==============================] - 1s 68us/step - loss: 0.0076 - accuracy: 0.9990\n",
      "Epoch 2/3\n",
      "19368/19368 [==============================] - 1s 66us/step - loss: 0.0091 - accuracy: 0.9990\n",
      "Epoch 3/3\n",
      "19368/19368 [==============================] - 1s 72us/step - loss: 0.0077 - accuracy: 0.9990\n"
     ]
    },
    {
     "data": {
      "text/plain": [
       "<keras.callbacks.callbacks.History at 0x234b0ba3e48>"
      ]
     },
     "execution_count": 39,
     "metadata": {},
     "output_type": "execute_result"
    },
    {
     "name": "stdout",
     "output_type": "stream",
     "text": [
      "accuracy_score 0.9972118959107806\n",
      "recall_score 1.0\n",
      "precision_score 0.9862385321100917\n",
      "f1_score 0.9930715935334873\n",
      "======Training stage======\n",
      "Epoch 1/3\n",
      "19368/19368 [==============================] - 1s 68us/step - loss: 0.0113 - accuracy: 0.9987\n",
      "Epoch 2/3\n",
      "19368/19368 [==============================] - 1s 68us/step - loss: 0.0095 - accuracy: 0.9987\n",
      "Epoch 3/3\n",
      "19368/19368 [==============================] - 1s 68us/step - loss: 0.0100 - accuracy: 0.9987\n"
     ]
    },
    {
     "data": {
      "text/plain": [
       "<keras.callbacks.callbacks.History at 0x234b0a08988>"
      ]
     },
     "execution_count": 39,
     "metadata": {},
     "output_type": "execute_result"
    },
    {
     "name": "stdout",
     "output_type": "stream",
     "text": [
      "accuracy_score 1.0\n",
      "recall_score 1.0\n",
      "precision_score 1.0\n",
      "f1_score 1.0\n",
      "======Training stage======\n",
      "Epoch 1/3\n",
      "19368/19368 [==============================] - 1s 72us/step - loss: 0.0087 - accuracy: 0.9988\n",
      "Epoch 2/3\n",
      "19368/19368 [==============================] - 1s 77us/step - loss: 0.0087 - accuracy: 0.9988\n",
      "Epoch 3/3\n",
      "19368/19368 [==============================] - 1s 76us/step - loss: 0.0085 - accuracy: 0.9988\n"
     ]
    },
    {
     "data": {
      "text/plain": [
       "<keras.callbacks.callbacks.History at 0x234b0ba3d48>"
      ]
     },
     "execution_count": 39,
     "metadata": {},
     "output_type": "execute_result"
    },
    {
     "name": "stdout",
     "output_type": "stream",
     "text": [
      "accuracy_score 0.9990706319702602\n",
      "recall_score 1.0\n",
      "precision_score 0.9953703703703703\n",
      "f1_score 0.9976798143851509\n",
      "======Training stage======\n",
      "Epoch 1/3\n",
      "19368/19368 [==============================] - 1s 72us/step - loss: 0.0086 - accuracy: 0.9987\n",
      "Epoch 2/3\n",
      "19368/19368 [==============================] - 2s 79us/step - loss: 0.0091 - accuracy: 0.9987\n",
      "Epoch 3/3\n",
      "19368/19368 [==============================] - 1s 76us/step - loss: 0.0096 - accuracy: 0.9987\n"
     ]
    },
    {
     "data": {
      "text/plain": [
       "<keras.callbacks.callbacks.History at 0x234817d4fc8>"
      ]
     },
     "execution_count": 39,
     "metadata": {},
     "output_type": "execute_result"
    },
    {
     "name": "stdout",
     "output_type": "stream",
     "text": [
      "accuracy_score 0.9995353159851301\n",
      "recall_score 1.0\n",
      "precision_score 0.9976798143851509\n",
      "f1_score 0.9988385598141696\n",
      "======Training stage======\n",
      "Epoch 1/3\n",
      "19368/19368 [==============================] - 1s 73us/step - loss: 0.0090 - accuracy: 0.9987\n",
      "Epoch 2/3\n",
      "19368/19368 [==============================] - 2s 81us/step - loss: 0.0093 - accuracy: 0.9987\n",
      "Epoch 3/3\n",
      "19368/19368 [==============================] - 2s 79us/step - loss: 0.0091 - accuracy: 0.9987\n"
     ]
    },
    {
     "data": {
      "text/plain": [
       "<keras.callbacks.callbacks.History at 0x234b2230048>"
      ]
     },
     "execution_count": 39,
     "metadata": {},
     "output_type": "execute_result"
    },
    {
     "name": "stdout",
     "output_type": "stream",
     "text": [
      "accuracy_score 0.9995353159851301\n",
      "recall_score 1.0\n",
      "precision_score 0.9976851851851852\n",
      "f1_score 0.9988412514484357\n",
      "======Training stage======\n",
      "Epoch 1/3\n",
      "19368/19368 [==============================] - 1s 76us/step - loss: 0.0094 - accuracy: 0.9988\n",
      "Epoch 2/3\n",
      "19368/19368 [==============================] - 1s 71us/step - loss: 0.0088 - accuracy: 0.9988\n",
      "Epoch 3/3\n",
      "19368/19368 [==============================] - 2s 80us/step - loss: 0.0090 - accuracy: 0.9988\n"
     ]
    },
    {
     "data": {
      "text/plain": [
       "<keras.callbacks.callbacks.History at 0x234b2230d08>"
      ]
     },
     "execution_count": 39,
     "metadata": {},
     "output_type": "execute_result"
    },
    {
     "name": "stdout",
     "output_type": "stream",
     "text": [
      "accuracy_score 0.9986059479553904\n",
      "recall_score 1.0\n",
      "precision_score 0.9930715935334873\n",
      "f1_score 0.996523754345307\n",
      "======Training stage======\n",
      "Epoch 1/3\n",
      "19368/19368 [==============================] - 2s 78us/step - loss: 0.0094 - accuracy: 0.9987\n",
      "Epoch 2/3\n",
      "19368/19368 [==============================] - 2s 83us/step - loss: 0.0095 - accuracy: 0.9987\n",
      "Epoch 3/3\n",
      "19368/19368 [==============================] - 2s 82us/step - loss: 0.0089 - accuracy: 0.9987\n"
     ]
    },
    {
     "data": {
      "text/plain": [
       "<keras.callbacks.callbacks.History at 0x234b22302c8>"
      ]
     },
     "execution_count": 39,
     "metadata": {},
     "output_type": "execute_result"
    },
    {
     "name": "stdout",
     "output_type": "stream",
     "text": [
      "accuracy_score 1.0\n",
      "recall_score 1.0\n",
      "precision_score 1.0\n",
      "f1_score 1.0\n",
      "======Training stage======\n",
      "Epoch 1/3\n",
      "19368/19368 [==============================] - 1s 77us/step - loss: 0.0062 - accuracy: 0.9992\n",
      "Epoch 2/3\n",
      "19368/19368 [==============================] - 1s 73us/step - loss: 0.0079 - accuracy: 0.9992\n",
      "Epoch 3/3\n",
      "19368/19368 [==============================] - 2s 80us/step - loss: 0.0072 - accuracy: 0.9992\n"
     ]
    },
    {
     "data": {
      "text/plain": [
       "<keras.callbacks.callbacks.History at 0x234b222db48>"
      ]
     },
     "execution_count": 39,
     "metadata": {},
     "output_type": "execute_result"
    },
    {
     "name": "stdout",
     "output_type": "stream",
     "text": [
      "accuracy_score 0.9948884758364313\n",
      "recall_score 1.0\n",
      "precision_score 0.9750566893424036\n",
      "f1_score 0.9873708381171068\n",
      "======Training stage======\n",
      "Epoch 1/3\n",
      "19368/19368 [==============================] - 1s 72us/step - loss: 0.0101 - accuracy: 0.9987\n",
      "Epoch 2/3\n",
      "19368/19368 [==============================] - 1s 77us/step - loss: 0.0091 - accuracy: 0.9987\n",
      "Epoch 3/3\n",
      "19368/19368 [==============================] - 1s 73us/step - loss: 0.0092 - accuracy: 0.9987\n"
     ]
    },
    {
     "data": {
      "text/plain": [
       "<keras.callbacks.callbacks.History at 0x234b222d688>"
      ]
     },
     "execution_count": 39,
     "metadata": {},
     "output_type": "execute_result"
    },
    {
     "name": "stdout",
     "output_type": "stream",
     "text": [
      "accuracy_score 0.9995353159851301\n",
      "recall_score 1.0\n",
      "precision_score 0.9976798143851509\n",
      "f1_score 0.9988385598141696\n",
      "\n",
      "K-fold cross validation Accuracy: [0.9995353159851301, 0.9972118959107806, 1.0, 0.9990706319702602, 0.9995353159851301, 0.9995353159851301, 0.9986059479553904, 1.0, 0.9948884758364313, 0.9995353159851301]\n",
      "\n",
      "K-fold cross validation Recall: [1.0, 1.0, 1.0, 1.0, 1.0, 1.0, 1.0, 1.0, 1.0, 1.0]\n",
      "\n",
      "K-fold cross validation Precision: [0.9976851851851852, 0.9862385321100917, 1.0, 0.9953703703703703, 0.9976798143851509, 0.9976851851851852, 0.9930715935334873, 1.0, 0.9750566893424036, 0.9976798143851509]\n",
      "\n",
      "K-fold cross validation F1-Score: [0.9988412514484357, 0.9930715935334873, 1.0, 0.9976798143851509, 0.9988385598141696, 0.9988412514484357, 0.996523754345307, 1.0, 0.9873708381171068, 0.9988385598141696]\n"
     ]
    }
   ],
   "source": [
    "########## 4gram\n",
    "\n",
    "# 교차검증 kfold\n",
    "from sklearn.model_selection import KFold\n",
    "\n",
    "# Accuracy, Precision, Recall, F1-Score\n",
    "from sklearn.metrics import accuracy_score, recall_score, precision_score, f1_score\n",
    "\n",
    "# Confusion Matrix, ROC Curve\n",
    "from sklearn.metrics import confusion_matrix, roc_auc_score\n",
    "\n",
    "# 최종 평가지표들 평균용\n",
    "accuracy, recall, precision, f1score, cm = [], [], [], [], []\n",
    "\n",
    "# 11. 교차검증 kfold - k.split - 10회 / K-Fold 객체 생성\n",
    "# kf = KFold(n_splits=10, shuffle=False, random_state=None) # KFold non shuffle 버전\n",
    "kf = KFold(n_splits=10, shuffle=False, random_state=None) # KFold non shuffle 버전\n",
    "\n",
    "for train, validation in kf.split(x_gcc3_0_32_4, y_gcc3_0_32_4):\n",
    "    print('======Training stage======')\n",
    "    model1.fit(x_gcc3_0_32_4[train],\n",
    "               y_gcc3_0_32_4[train],\n",
    "               epochs = 3,\n",
    "               batch_size = 32,\n",
    "               callbacks=[early_stopping])\n",
    "    #k_accuracy = '%.4f' %(model1.evaluate(data_10000x[validation], data_10000y[validation])[1])\n",
    "\n",
    "# 12. 교차검증결과 predict - 검증셋들\n",
    "    # predict 값\n",
    "    k_pr = model1.predict(x_gcc3_0_32_4[validation])\n",
    "    \n",
    "    # 테스트 predict 결과들 비교 (평가지표 보기위함)\n",
    "    pred = np.round(np.array(k_pr).flatten().tolist())\n",
    "    y_test = np.array(y_gcc3_0_32_4[validation]).flatten().tolist()\n",
    "    \n",
    "# 13. 평가지표들 출력\n",
    "    ## 평가지표들\n",
    "    k_accuracy = float(accuracy_score(y_test, pred))\n",
    "    k_recall =  float(recall_score(y_test, pred))\n",
    "    k_precision = float(precision_score(y_test, pred))\n",
    "    k_f1_score = float(f1_score(y_test, pred))\n",
    "    #k_cm = float(confusion_matrix(y_test, pred))\n",
    "    \n",
    "    print('accuracy_score', k_accuracy)\n",
    "    print('recall_score', k_recall)\n",
    "    print('precision_score', k_precision)\n",
    "    print('f1_score', k_f1_score)\n",
    "    #print('\\nconfusion_matrix\\n', k_cm)\n",
    "\n",
    "    accuracy.append(k_accuracy)\n",
    "    recall.append(k_recall)\n",
    "    precision.append(k_precision)\n",
    "    f1score.append(k_f1_score)\n",
    "    #cm.append(k_cm)\n",
    "#    print('roc_curve 면적', roc_auc_score(y_test, pred))\n",
    "\n",
    "# 14. 최종 결과지표\n",
    "print('\\nK-fold cross validation Accuracy: {}'.format(accuracy))\n",
    "print('\\nK-fold cross validation Recall: {}'.format(recall))\n",
    "print('\\nK-fold cross validation Precision: {}'.format(precision))\n",
    "print('\\nK-fold cross validation F1-Score: {}'.format(f1score))\n",
    "#print('\\nK-fold cross validation ConfusionMatrix: {}'.format(cm))"
   ]
  },
  {
   "cell_type": "code",
   "execution_count": 42,
   "metadata": {},
   "outputs": [
    {
     "name": "stdout",
     "output_type": "stream",
     "text": [
      "10-Fold Cross_validation. Accuracy : 0.9990355836381776\n",
      "10-Fold Cross_validation. Recall : 1.0\n",
      "10-Fold Cross_validation. Precision : 0.9933611468021993\n",
      "10-Fold Cross_validation. F1-Score : 0.9966560998615412\n"
     ]
    }
   ],
   "source": [
    "# 4gram 평가지표\n",
    "print('10-Fold Cross_validation. Accuracy :', np.mean(accuracy))\n",
    "print('10-Fold Cross_validation. Recall :', np.mean(recall))\n",
    "print('10-Fold Cross_validation. Precision :', np.mean(precision))\n",
    "print('10-Fold Cross_validation. F1-Score :', np.mean(f1score))"
   ]
  },
  {
   "cell_type": "code",
   "execution_count": 40,
   "metadata": {},
   "outputs": [
    {
     "name": "stdout",
     "output_type": "stream",
     "text": [
      "======Training stage======\n",
      "Epoch 1/3\n",
      "23215/23215 [==============================] - 2s 69us/step - loss: 0.0085 - accuracy: 0.9988\n",
      "Epoch 2/3\n",
      "23215/23215 [==============================] - 2s 69us/step - loss: 0.0080 - accuracy: 0.9988\n",
      "Epoch 3/3\n",
      "23215/23215 [==============================] - 2s 70us/step - loss: 0.0093 - accuracy: 0.9988\n"
     ]
    },
    {
     "data": {
      "text/plain": [
       "<keras.callbacks.callbacks.History at 0x234b122bd48>"
      ]
     },
     "execution_count": 40,
     "metadata": {},
     "output_type": "execute_result"
    },
    {
     "name": "stdout",
     "output_type": "stream",
     "text": [
      "accuracy_score 0.9996124031007751\n",
      "recall_score 1.0\n",
      "precision_score 0.9976851851851852\n",
      "f1_score 0.9988412514484357\n",
      "======Training stage======\n",
      "Epoch 1/3\n",
      "23215/23215 [==============================] - 2s 69us/step - loss: 0.0071 - accuracy: 0.9990\n",
      "Epoch 2/3\n",
      "23215/23215 [==============================] - 2s 72us/step - loss: 0.0123 - accuracy: 0.9990\n",
      "Epoch 3/3\n",
      "23215/23215 [==============================] - 2s 75us/step - loss: 0.0086 - accuracy: 0.9990\n"
     ]
    },
    {
     "data": {
      "text/plain": [
       "<keras.callbacks.callbacks.History at 0x23482cfc288>"
      ]
     },
     "execution_count": 40,
     "metadata": {},
     "output_type": "execute_result"
    },
    {
     "name": "stdout",
     "output_type": "stream",
     "text": [
      "accuracy_score 0.9976744186046511\n",
      "recall_score 1.0\n",
      "precision_score 0.9862385321100917\n",
      "f1_score 0.9930715935334873\n",
      "======Training stage======\n",
      "Epoch 1/3\n",
      "23215/23215 [==============================] - 2s 72us/step - loss: 0.0089 - accuracy: 0.9988\n",
      "Epoch 2/3\n",
      "23215/23215 [==============================] - 2s 74us/step - loss: 0.0086 - accuracy: 0.9988\n",
      "Epoch 3/3\n",
      "23215/23215 [==============================] - 2s 77us/step - loss: 0.0080 - accuracy: 0.9988\n"
     ]
    },
    {
     "data": {
      "text/plain": [
       "<keras.callbacks.callbacks.History at 0x2348194e108>"
      ]
     },
     "execution_count": 40,
     "metadata": {},
     "output_type": "execute_result"
    },
    {
     "name": "stdout",
     "output_type": "stream",
     "text": [
      "accuracy_score 1.0\n",
      "recall_score 1.0\n",
      "precision_score 1.0\n",
      "f1_score 1.0\n",
      "======Training stage======\n",
      "Epoch 1/3\n",
      "23215/23215 [==============================] - 2s 73us/step - loss: 0.0077 - accuracy: 0.9989\n",
      "Epoch 2/3\n",
      "23215/23215 [==============================] - 2s 72us/step - loss: 0.0077 - accuracy: 0.9989\n",
      "Epoch 3/3\n",
      "23215/23215 [==============================] - 2s 74us/step - loss: 0.0084 - accuracy: 0.9989\n"
     ]
    },
    {
     "data": {
      "text/plain": [
       "<keras.callbacks.callbacks.History at 0x234b122b808>"
      ]
     },
     "execution_count": 40,
     "metadata": {},
     "output_type": "execute_result"
    },
    {
     "name": "stdout",
     "output_type": "stream",
     "text": [
      "accuracy_score 0.9988372093023256\n",
      "recall_score 1.0\n",
      "precision_score 0.9930875576036866\n",
      "f1_score 0.9965317919075144\n",
      "======Training stage======\n",
      "Epoch 1/3\n",
      "23215/23215 [==============================] - 2s 82us/step - loss: 0.0081 - accuracy: 0.9988\n",
      "Epoch 2/3\n",
      "23215/23215 [==============================] - 2s 82us/step - loss: 0.0088 - accuracy: 0.9988\n",
      "Epoch 3/3\n",
      "23215/23215 [==============================] - 2s 81us/step - loss: 0.0088 - accuracy: 0.9988\n"
     ]
    },
    {
     "data": {
      "text/plain": [
       "<keras.callbacks.callbacks.History at 0x23482cee788>"
      ]
     },
     "execution_count": 40,
     "metadata": {},
     "output_type": "execute_result"
    },
    {
     "name": "stdout",
     "output_type": "stream",
     "text": [
      "accuracy_score 0.9996124031007751\n",
      "recall_score 1.0\n",
      "precision_score 0.9976798143851509\n",
      "f1_score 0.9988385598141696\n",
      "======Training stage======\n",
      "Epoch 1/3\n",
      "23216/23216 [==============================] - 2s 80us/step - loss: 0.0087 - accuracy: 0.9989\n",
      "Epoch 2/3\n",
      "23216/23216 [==============================] - 2s 75us/step - loss: 0.0098 - accuracy: 0.9989\n",
      "Epoch 3/3\n",
      "23216/23216 [==============================] - 2s 72us/step - loss: 0.0079 - accuracy: 0.9989\n"
     ]
    },
    {
     "data": {
      "text/plain": [
       "<keras.callbacks.callbacks.History at 0x234b0bc0888>"
      ]
     },
     "execution_count": 40,
     "metadata": {},
     "output_type": "execute_result"
    },
    {
     "name": "stdout",
     "output_type": "stream",
     "text": [
      "accuracy_score 0.9988367584335014\n",
      "recall_score 1.0\n",
      "precision_score 0.9930875576036866\n",
      "f1_score 0.9965317919075144\n",
      "======Training stage======\n",
      "Epoch 1/3\n",
      "23216/23216 [==============================] - 2s 81us/step - loss: 0.0081 - accuracy: 0.9989\n",
      "Epoch 2/3\n",
      "23216/23216 [==============================] - 2s 88us/step - loss: 0.0087 - accuracy: 0.9989\n",
      "Epoch 3/3\n",
      "23216/23216 [==============================] - 2s 77us/step - loss: 0.0087 - accuracy: 0.9989\n"
     ]
    },
    {
     "data": {
      "text/plain": [
       "<keras.callbacks.callbacks.History at 0x234b0bc0c48>"
      ]
     },
     "execution_count": 40,
     "metadata": {},
     "output_type": "execute_result"
    },
    {
     "name": "stdout",
     "output_type": "stream",
     "text": [
      "accuracy_score 0.9988367584335014\n",
      "recall_score 1.0\n",
      "precision_score 0.9930715935334873\n",
      "f1_score 0.996523754345307\n",
      "======Training stage======\n",
      "Epoch 1/3\n",
      "23216/23216 [==============================] - 2s 76us/step - loss: 0.0084 - accuracy: 0.9988\n",
      "Epoch 2/3\n",
      "23216/23216 [==============================] - 2s 79us/step - loss: 0.0086 - accuracy: 0.9988\n",
      "Epoch 3/3\n",
      "23216/23216 [==============================] - 2s 82us/step - loss: 0.0101 - accuracy: 0.9988\n"
     ]
    },
    {
     "data": {
      "text/plain": [
       "<keras.callbacks.callbacks.History at 0x234b2230648>"
      ]
     },
     "execution_count": 40,
     "metadata": {},
     "output_type": "execute_result"
    },
    {
     "name": "stdout",
     "output_type": "stream",
     "text": [
      "accuracy_score 1.0\n",
      "recall_score 1.0\n",
      "precision_score 1.0\n",
      "f1_score 1.0\n",
      "======Training stage======\n",
      "Epoch 1/3\n",
      "23216/23216 [==============================] - 2s 75us/step - loss: 0.0068 - accuracy: 0.9992\n",
      "Epoch 2/3\n",
      "23216/23216 [==============================] - 2s 75us/step - loss: 0.0063 - accuracy: 0.9992\n",
      "Epoch 3/3\n",
      "23216/23216 [==============================] - 2s 84us/step - loss: 0.0062 - accuracy: 0.9992\n"
     ]
    },
    {
     "data": {
      "text/plain": [
       "<keras.callbacks.callbacks.History at 0x234b2230088>"
      ]
     },
     "execution_count": 40,
     "metadata": {},
     "output_type": "execute_result"
    },
    {
     "name": "stdout",
     "output_type": "stream",
     "text": [
      "accuracy_score 0.9957347809228383\n",
      "recall_score 1.0\n",
      "precision_score 0.9751131221719457\n",
      "f1_score 0.9873997709049255\n",
      "======Training stage======\n",
      "Epoch 1/3\n",
      "23216/23216 [==============================] - 2s 88us/step - loss: 0.0098 - accuracy: 0.9988\n",
      "Epoch 2/3\n",
      "23216/23216 [==============================] - 2s 76us/step - loss: 0.0088 - accuracy: 0.9988\n",
      "Epoch 3/3\n",
      "23216/23216 [==============================] - 2s 81us/step - loss: 0.0090 - accuracy: 0.9988\n"
     ]
    },
    {
     "data": {
      "text/plain": [
       "<keras.callbacks.callbacks.History at 0x2348194e888>"
      ]
     },
     "execution_count": 40,
     "metadata": {},
     "output_type": "execute_result"
    },
    {
     "name": "stdout",
     "output_type": "stream",
     "text": [
      "accuracy_score 0.9996122528111672\n",
      "recall_score 1.0\n",
      "precision_score 0.9976798143851509\n",
      "f1_score 0.9988385598141696\n",
      "\n",
      "K-fold cross validation Accuracy: [0.9996124031007751, 0.9976744186046511, 1.0, 0.9988372093023256, 0.9996124031007751, 0.9988367584335014, 0.9988367584335014, 1.0, 0.9957347809228383, 0.9996122528111672]\n",
      "\n",
      "K-fold cross validation Recall: [1.0, 1.0, 1.0, 1.0, 1.0, 1.0, 1.0, 1.0, 1.0, 1.0]\n",
      "\n",
      "K-fold cross validation Precision: [0.9976851851851852, 0.9862385321100917, 1.0, 0.9930875576036866, 0.9976798143851509, 0.9930875576036866, 0.9930715935334873, 1.0, 0.9751131221719457, 0.9976798143851509]\n",
      "\n",
      "K-fold cross validation F1-Score: [0.9988412514484357, 0.9930715935334873, 1.0, 0.9965317919075144, 0.9988385598141696, 0.9965317919075144, 0.996523754345307, 1.0, 0.9873997709049255, 0.9988385598141696]\n"
     ]
    }
   ],
   "source": [
    "########## 5gram\n",
    "\n",
    "# 교차검증 kfold\n",
    "from sklearn.model_selection import KFold\n",
    "\n",
    "# Accuracy, Precision, Recall, F1-Score\n",
    "from sklearn.metrics import accuracy_score, recall_score, precision_score, f1_score\n",
    "\n",
    "# Confusion Matrix, ROC Curve\n",
    "from sklearn.metrics import confusion_matrix, roc_auc_score\n",
    "\n",
    "# 최종 평가지표들 평균용\n",
    "accuracy, recall, precision, f1score, cm = [], [], [], [], []\n",
    "\n",
    "# 11. 교차검증 kfold - k.split - 10회 / K-Fold 객체 생성\n",
    "# kf = KFold(n_splits=10, shuffle=False, random_state=None) # KFold non shuffle 버전\n",
    "kf = KFold(n_splits=10, shuffle=False, random_state=None) # KFold non shuffle 버전\n",
    "\n",
    "for train, validation in kf.split(x_gcc3_0_32_5, y_gcc3_0_32_5):\n",
    "    print('======Training stage======')\n",
    "    model1.fit(x_gcc3_0_32_5[train],\n",
    "               y_gcc3_0_32_5[train],\n",
    "               epochs = 3,\n",
    "               batch_size = 32,\n",
    "               callbacks=[early_stopping])\n",
    "    #k_accuracy = '%.4f' %(model1.evaluate(data_10000x[validation], data_10000y[validation])[1])\n",
    "\n",
    "# 12. 교차검증결과 predict - 검증셋들\n",
    "    # predict 값\n",
    "    k_pr = model1.predict(x_gcc3_0_32_5[validation])\n",
    "    \n",
    "    # 테스트 predict 결과들 비교 (평가지표 보기위함)\n",
    "    pred = np.round(np.array(k_pr).flatten().tolist())\n",
    "    y_test = np.array(y_gcc3_0_32_5[validation]).flatten().tolist()\n",
    "    \n",
    "# 13. 평가지표들 출력\n",
    "    ## 평가지표들\n",
    "    k_accuracy = float(accuracy_score(y_test, pred))\n",
    "    k_recall =  float(recall_score(y_test, pred))\n",
    "    k_precision = float(precision_score(y_test, pred))\n",
    "    k_f1_score = float(f1_score(y_test, pred))\n",
    "    #k_cm = float(confusion_matrix(y_test, pred))\n",
    "    \n",
    "    print('accuracy_score', k_accuracy)\n",
    "    print('recall_score', k_recall)\n",
    "    print('precision_score', k_precision)\n",
    "    print('f1_score', k_f1_score)\n",
    "    #print('\\nconfusion_matrix\\n', k_cm)\n",
    "\n",
    "    accuracy.append(k_accuracy)\n",
    "    recall.append(k_recall)\n",
    "    precision.append(k_precision)\n",
    "    f1score.append(k_f1_score)\n",
    "    #cm.append(k_cm)\n",
    "#    print('roc_curve 면적', roc_auc_score(y_test, pred))\n",
    "\n",
    "# 14. 최종 결과지표\n",
    "print('\\nK-fold cross validation Accuracy: {}'.format(accuracy))\n",
    "print('\\nK-fold cross validation Recall: {}'.format(recall))\n",
    "print('\\nK-fold cross validation Precision: {}'.format(precision))\n",
    "print('\\nK-fold cross validation F1-Score: {}'.format(f1score))\n",
    "#print('\\nK-fold cross validation ConfusionMatrix: {}'.format(cm))"
   ]
  },
  {
   "cell_type": "code",
   "execution_count": 43,
   "metadata": {},
   "outputs": [
    {
     "name": "stdout",
     "output_type": "stream",
     "text": [
      "10-Fold Cross_validation. Accuracy : 0.9990355836381776\n",
      "10-Fold Cross_validation. Recall : 1.0\n",
      "10-Fold Cross_validation. Precision : 0.9933611468021993\n",
      "10-Fold Cross_validation. F1-Score : 0.9966560998615412\n"
     ]
    }
   ],
   "source": [
    "# 5gram 평가지표\n",
    "print('10-Fold Cross_validation. Accuracy :', np.mean(accuracy))\n",
    "print('10-Fold Cross_validation. Recall :', np.mean(recall))\n",
    "print('10-Fold Cross_validation. Precision :', np.mean(precision))\n",
    "print('10-Fold Cross_validation. F1-Score :', np.mean(f1score))"
   ]
  },
  {
   "cell_type": "code",
   "execution_count": 41,
   "metadata": {},
   "outputs": [
    {
     "name": "stdout",
     "output_type": "stream",
     "text": [
      "======Training stage======\n",
      "Epoch 1/3\n",
      "27063/27063 [==============================] - 2s 85us/step - loss: 0.0083 - accuracy: 0.9990\n",
      "Epoch 2/3\n",
      "27063/27063 [==============================] - 2s 81us/step - loss: 0.0079 - accuracy: 0.9990\n",
      "Epoch 3/3\n",
      "27063/27063 [==============================] - 2s 78us/step - loss: 0.0070 - accuracy: 0.9990\n"
     ]
    },
    {
     "data": {
      "text/plain": [
       "<keras.callbacks.callbacks.History at 0x234b0b71988>"
      ]
     },
     "execution_count": 41,
     "metadata": {},
     "output_type": "execute_result"
    },
    {
     "name": "stdout",
     "output_type": "stream",
     "text": [
      "accuracy_score 0.9996674426338543\n",
      "recall_score 1.0\n",
      "precision_score 0.9976851851851852\n",
      "f1_score 0.9988412514484357\n",
      "======Training stage======\n",
      "Epoch 1/3\n",
      "27063/27063 [==============================] - 2s 76us/step - loss: 0.0067 - accuracy: 0.9992\n",
      "Epoch 2/3\n",
      "27063/27063 [==============================] - 2s 76us/step - loss: 0.0063 - accuracy: 0.9992\n",
      "Epoch 3/3\n",
      "27063/27063 [==============================] - 2s 74us/step - loss: 0.0071 - accuracy: 0.9992\n"
     ]
    },
    {
     "data": {
      "text/plain": [
       "<keras.callbacks.callbacks.History at 0x234b0bce948>"
      ]
     },
     "execution_count": 41,
     "metadata": {},
     "output_type": "execute_result"
    },
    {
     "name": "stdout",
     "output_type": "stream",
     "text": [
      "accuracy_score 0.998004655803126\n",
      "recall_score 1.0\n",
      "precision_score 0.9862068965517241\n",
      "f1_score 0.9930555555555556\n",
      "======Training stage======\n",
      "Epoch 1/3\n",
      "27063/27063 [==============================] - 2s 72us/step - loss: 0.0074 - accuracy: 0.9989\n",
      "Epoch 2/3\n",
      "27063/27063 [==============================] - 2s 75us/step - loss: 0.0075 - accuracy: 0.9989\n",
      "Epoch 3/3\n",
      "27063/27063 [==============================] - 2s 74us/step - loss: 0.0079 - accuracy: 0.9989\n"
     ]
    },
    {
     "data": {
      "text/plain": [
       "<keras.callbacks.callbacks.History at 0x234b0bced88>"
      ]
     },
     "execution_count": 41,
     "metadata": {},
     "output_type": "execute_result"
    },
    {
     "name": "stdout",
     "output_type": "stream",
     "text": [
      "accuracy_score 1.0\n",
      "recall_score 1.0\n",
      "precision_score 1.0\n",
      "f1_score 1.0\n",
      "======Training stage======\n",
      "Epoch 1/3\n",
      "27063/27063 [==============================] - 2s 73us/step - loss: 0.0067 - accuracy: 0.9990\n",
      "Epoch 2/3\n",
      "27063/27063 [==============================] - 2s 73us/step - loss: 0.0085 - accuracy: 0.9990\n",
      "Epoch 3/3\n",
      "27063/27063 [==============================] - 2s 76us/step - loss: 0.0074 - accuracy: 0.9990\n"
     ]
    },
    {
     "data": {
      "text/plain": [
       "<keras.callbacks.callbacks.History at 0x234b0bcec48>"
      ]
     },
     "execution_count": 41,
     "metadata": {},
     "output_type": "execute_result"
    },
    {
     "name": "stdout",
     "output_type": "stream",
     "text": [
      "accuracy_score 0.9990023279015631\n",
      "recall_score 1.0\n",
      "precision_score 0.9930715935334873\n",
      "f1_score 0.996523754345307\n",
      "======Training stage======\n",
      "Epoch 1/3\n",
      "27063/27063 [==============================] - 2s 78us/step - loss: 0.0072 - accuracy: 0.9990\n",
      "Epoch 2/3\n",
      "27063/27063 [==============================] - 2s 76us/step - loss: 0.0083 - accuracy: 0.9990\n",
      "Epoch 3/3\n",
      "27063/27063 [==============================] - 2s 76us/step - loss: 0.0074 - accuracy: 0.9990\n"
     ]
    },
    {
     "data": {
      "text/plain": [
       "<keras.callbacks.callbacks.History at 0x234b0bce908>"
      ]
     },
     "execution_count": 41,
     "metadata": {},
     "output_type": "execute_result"
    },
    {
     "name": "stdout",
     "output_type": "stream",
     "text": [
      "accuracy_score 0.9996674426338543\n",
      "recall_score 1.0\n",
      "precision_score 0.9976798143851509\n",
      "f1_score 0.9988385598141696\n",
      "======Training stage======\n",
      "Epoch 1/3\n",
      "27063/27063 [==============================] - 2s 75us/step - loss: 0.0069 - accuracy: 0.9990\n",
      "Epoch 2/3\n",
      "27063/27063 [==============================] - 2s 75us/step - loss: 0.0087 - accuracy: 0.9990\n",
      "Epoch 3/3\n",
      "27063/27063 [==============================] - 2s 74us/step - loss: 0.0070 - accuracy: 0.9990\n"
     ]
    },
    {
     "data": {
      "text/plain": [
       "<keras.callbacks.callbacks.History at 0x234b0bcedc8>"
      ]
     },
     "execution_count": 41,
     "metadata": {},
     "output_type": "execute_result"
    },
    {
     "name": "stdout",
     "output_type": "stream",
     "text": [
      "accuracy_score 0.9990023279015631\n",
      "recall_score 1.0\n",
      "precision_score 0.993103448275862\n",
      "f1_score 0.9965397923875432\n",
      "======Training stage======\n",
      "Epoch 1/3\n",
      "27063/27063 [==============================] - 2s 76us/step - loss: 0.0073 - accuracy: 0.9990\n",
      "Epoch 2/3\n",
      "27063/27063 [==============================] - 2s 76us/step - loss: 0.0069 - accuracy: 0.9990\n",
      "Epoch 3/3\n",
      "27063/27063 [==============================] - 2s 83us/step - loss: 0.0070 - accuracy: 0.9990\n"
     ]
    },
    {
     "data": {
      "text/plain": [
       "<keras.callbacks.callbacks.History at 0x234b0bce9c8>"
      ]
     },
     "execution_count": 41,
     "metadata": {},
     "output_type": "execute_result"
    },
    {
     "name": "stdout",
     "output_type": "stream",
     "text": [
      "accuracy_score 0.9990023279015631\n",
      "recall_score 1.0\n",
      "precision_score 0.9930715935334873\n",
      "f1_score 0.996523754345307\n",
      "======Training stage======\n",
      "Epoch 1/3\n",
      "27063/27063 [==============================] - 2s 85us/step - loss: 0.0073 - accuracy: 0.9989\n",
      "Epoch 2/3\n",
      "27063/27063 [==============================] - 2s 79us/step - loss: 0.0074 - accuracy: 0.9989\n",
      "Epoch 3/3\n",
      "27063/27063 [==============================] - 2s 82us/step - loss: 0.0074 - accuracy: 0.9989\n"
     ]
    },
    {
     "data": {
      "text/plain": [
       "<keras.callbacks.callbacks.History at 0x234b0b71b48>"
      ]
     },
     "execution_count": 41,
     "metadata": {},
     "output_type": "execute_result"
    },
    {
     "name": "stdout",
     "output_type": "stream",
     "text": [
      "accuracy_score 1.0\n",
      "recall_score 1.0\n",
      "precision_score 1.0\n",
      "f1_score 1.0\n",
      "======Training stage======\n",
      "Epoch 1/3\n",
      "27063/27063 [==============================] - 2s 79us/step - loss: 0.0068 - accuracy: 0.9993\n",
      "Epoch 2/3\n",
      "27063/27063 [==============================] - 2s 74us/step - loss: 0.0075 - accuracy: 0.9993\n",
      "Epoch 3/3\n",
      "27063/27063 [==============================] - 2s 77us/step - loss: 0.0064 - accuracy: 0.9993\n"
     ]
    },
    {
     "data": {
      "text/plain": [
       "<keras.callbacks.callbacks.History at 0x234b22304c8>"
      ]
     },
     "execution_count": 41,
     "metadata": {},
     "output_type": "execute_result"
    },
    {
     "name": "stdout",
     "output_type": "stream",
     "text": [
      "accuracy_score 0.9963418689723977\n",
      "recall_score 1.0\n",
      "precision_score 0.9751131221719457\n",
      "f1_score 0.9873997709049255\n",
      "======Training stage======\n",
      "Epoch 1/3\n",
      "27063/27063 [==============================] - 2s 77us/step - loss: 0.0081 - accuracy: 0.9990\n",
      "Epoch 2/3\n",
      "27063/27063 [==============================] - 2s 82us/step - loss: 0.0078 - accuracy: 0.9990\n",
      "Epoch 3/3\n",
      "27063/27063 [==============================] - 2s 83us/step - loss: 0.0078 - accuracy: 0.9990\n"
     ]
    },
    {
     "data": {
      "text/plain": [
       "<keras.callbacks.callbacks.History at 0x234b0b20988>"
      ]
     },
     "execution_count": 41,
     "metadata": {},
     "output_type": "execute_result"
    },
    {
     "name": "stdout",
     "output_type": "stream",
     "text": [
      "accuracy_score 0.9996674426338543\n",
      "recall_score 1.0\n",
      "precision_score 0.9976798143851509\n",
      "f1_score 0.9988385598141696\n",
      "\n",
      "K-fold cross validation Accuracy: [0.9996674426338543, 0.998004655803126, 1.0, 0.9990023279015631, 0.9996674426338543, 0.9990023279015631, 0.9990023279015631, 1.0, 0.9963418689723977, 0.9996674426338543]\n",
      "\n",
      "K-fold cross validation Recall: [1.0, 1.0, 1.0, 1.0, 1.0, 1.0, 1.0, 1.0, 1.0, 1.0]\n",
      "\n",
      "K-fold cross validation Precision: [0.9976851851851852, 0.9862068965517241, 1.0, 0.9930715935334873, 0.9976798143851509, 0.993103448275862, 0.9930715935334873, 1.0, 0.9751131221719457, 0.9976798143851509]\n",
      "\n",
      "K-fold cross validation F1-Score: [0.9988412514484357, 0.9930555555555556, 1.0, 0.996523754345307, 0.9988385598141696, 0.9965397923875432, 0.996523754345307, 1.0, 0.9873997709049255, 0.9988385598141696]\n"
     ]
    }
   ],
   "source": [
    "########## 6gram\n",
    "\n",
    "# 교차검증 kfold\n",
    "from sklearn.model_selection import KFold\n",
    "\n",
    "# Accuracy, Precision, Recall, F1-Score\n",
    "from sklearn.metrics import accuracy_score, recall_score, precision_score, f1_score\n",
    "\n",
    "# Confusion Matrix, ROC Curve\n",
    "from sklearn.metrics import confusion_matrix, roc_auc_score\n",
    "\n",
    "# 최종 평가지표들 평균용\n",
    "accuracy, recall, precision, f1score, cm = [], [], [], [], []\n",
    "\n",
    "# 11. 교차검증 kfold - k.split - 10회 / K-Fold 객체 생성\n",
    "# kf = KFold(n_splits=10, shuffle=False, random_state=None) # KFold non shuffle 버전\n",
    "kf = KFold(n_splits=10, shuffle=False, random_state=None) # KFold non shuffle 버전\n",
    "\n",
    "for train, validation in kf.split(x_gcc3_0_32_6, y_gcc3_0_32_6):\n",
    "    print('======Training stage======')\n",
    "    model1.fit(x_gcc3_0_32_6[train],\n",
    "               y_gcc3_0_32_6[train],\n",
    "               epochs = 3,\n",
    "               batch_size = 32,\n",
    "               callbacks=[early_stopping])\n",
    "    #k_accuracy = '%.4f' %(model1.evaluate(data_10000x[validation], data_10000y[validation])[1])\n",
    "\n",
    "# 12. 교차검증결과 predict - 검증셋들\n",
    "    # predict 값\n",
    "    k_pr = model1.predict(x_gcc3_0_32_6[validation])\n",
    "    \n",
    "    # 테스트 predict 결과들 비교 (평가지표 보기위함)\n",
    "    pred = np.round(np.array(k_pr).flatten().tolist())\n",
    "    y_test = np.array(y_gcc3_0_32_6[validation]).flatten().tolist()\n",
    "    \n",
    "# 13. 평가지표들 출력\n",
    "    ## 평가지표들\n",
    "    k_accuracy = float(accuracy_score(y_test, pred))\n",
    "    k_recall =  float(recall_score(y_test, pred))\n",
    "    k_precision = float(precision_score(y_test, pred))\n",
    "    k_f1_score = float(f1_score(y_test, pred))\n",
    "    #k_cm = float(confusion_matrix(y_test, pred))\n",
    "    \n",
    "    print('accuracy_score', k_accuracy)\n",
    "    print('recall_score', k_recall)\n",
    "    print('precision_score', k_precision)\n",
    "    print('f1_score', k_f1_score)\n",
    "    #print('\\nconfusion_matrix\\n', k_cm)\n",
    "\n",
    "    accuracy.append(k_accuracy)\n",
    "    recall.append(k_recall)\n",
    "    precision.append(k_precision)\n",
    "    f1score.append(k_f1_score)\n",
    "    #cm.append(k_cm)\n",
    "#    print('roc_curve 면적', roc_auc_score(y_test, pred))\n",
    "\n",
    "# 14. 최종 결과지표\n",
    "print('\\nK-fold cross validation Accuracy: {}'.format(accuracy))\n",
    "print('\\nK-fold cross validation Recall: {}'.format(recall))\n",
    "print('\\nK-fold cross validation Precision: {}'.format(precision))\n",
    "print('\\nK-fold cross validation F1-Score: {}'.format(f1score))\n",
    "#print('\\nK-fold cross validation ConfusionMatrix: {}'.format(cm))"
   ]
  },
  {
   "cell_type": "code",
   "execution_count": 44,
   "metadata": {},
   "outputs": [
    {
     "name": "stdout",
     "output_type": "stream",
     "text": [
      "10-Fold Cross_validation. Accuracy : 0.9990355836381776\n",
      "10-Fold Cross_validation. Recall : 1.0\n",
      "10-Fold Cross_validation. Precision : 0.9933611468021993\n",
      "10-Fold Cross_validation. F1-Score : 0.9966560998615412\n"
     ]
    }
   ],
   "source": [
    "# 6gram 평가지표\n",
    "print('10-Fold Cross_validation. Accuracy :', np.mean(accuracy))\n",
    "print('10-Fold Cross_validation. Recall :', np.mean(recall))\n",
    "print('10-Fold Cross_validation. Precision :', np.mean(precision))\n",
    "print('10-Fold Cross_validation. F1-Score :', np.mean(f1score))"
   ]
  }
 ],
 "metadata": {
  "kernelspec": {
   "display_name": "Python 3",
   "language": "python",
   "name": "python3"
  },
  "language_info": {
   "codemirror_mode": {
    "name": "ipython",
    "version": 3
   },
   "file_extension": ".py",
   "mimetype": "text/x-python",
   "name": "python",
   "nbconvert_exporter": "python",
   "pygments_lexer": "ipython3",
   "version": "3.7.5"
  }
 },
 "nbformat": 4,
 "nbformat_minor": 4
}
