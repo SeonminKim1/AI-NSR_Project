{
 "cells": [
  {
   "cell_type": "markdown",
   "metadata": {},
   "source": [
    "## RNN 모델 N-Byte 방식 (함수정보 포함 vs 미포함 => 1:1 비율)\n",
    "\n",
    "## (1) 데이터로드"
   ]
  },
  {
   "cell_type": "code",
   "execution_count": 1,
   "metadata": {},
   "outputs": [
    {
     "name": "stdout",
     "output_type": "stream",
     "text": [
      "(21129497, 2) (7615203, 2)\n",
      "bin - core concat\n",
      "shape - (28744700, 2)\n",
      "reset_index 완료\n",
      "input data shape\n"
     ]
    },
    {
     "data": {
      "text/html": [
       "<div>\n",
       "<style scoped>\n",
       "    .dataframe tbody tr th:only-of-type {\n",
       "        vertical-align: middle;\n",
       "    }\n",
       "\n",
       "    .dataframe tbody tr th {\n",
       "        vertical-align: top;\n",
       "    }\n",
       "\n",
       "    .dataframe thead th {\n",
       "        text-align: right;\n",
       "    }\n",
       "</style>\n",
       "<table border=\"1\" class=\"dataframe\">\n",
       "  <thead>\n",
       "    <tr style=\"text-align: right;\">\n",
       "      <th></th>\n",
       "      <th>bin</th>\n",
       "      <th>label</th>\n",
       "    </tr>\n",
       "  </thead>\n",
       "  <tbody>\n",
       "    <tr>\n",
       "      <th>0</th>\n",
       "      <td>47</td>\n",
       "      <td>0</td>\n",
       "    </tr>\n",
       "    <tr>\n",
       "      <th>1</th>\n",
       "      <td>108</td>\n",
       "      <td>0</td>\n",
       "    </tr>\n",
       "    <tr>\n",
       "      <th>2</th>\n",
       "      <td>105</td>\n",
       "      <td>0</td>\n",
       "    </tr>\n",
       "    <tr>\n",
       "      <th>3</th>\n",
       "      <td>98</td>\n",
       "      <td>0</td>\n",
       "    </tr>\n",
       "    <tr>\n",
       "      <th>4</th>\n",
       "      <td>47</td>\n",
       "      <td>0</td>\n",
       "    </tr>\n",
       "  </tbody>\n",
       "</table>\n",
       "</div>"
      ],
      "text/plain": [
       "   bin  label\n",
       "0   47      0\n",
       "1  108      0\n",
       "2  105      0\n",
       "3   98      0\n",
       "4   47      0"
      ]
     },
     "execution_count": 1,
     "metadata": {},
     "output_type": "execute_result"
    }
   ],
   "source": [
    "# (1) 데이터로드\n",
    "import pandas as pd\n",
    "import numpy as np\n",
    "\n",
    "import warnings\n",
    "warnings.filterwarnings(action='ignore')\n",
    "\n",
    "# 여러개 쳐도 나오게\n",
    "from IPython.core.interactiveshell import InteractiveShell\n",
    "InteractiveShell.ast_node_interactivity = \"all\"\n",
    "\n",
    "# 파일읽기\n",
    "bin8_2 = pd.read_csv(\"../data/gcc8/o0123합본/o2/o2_gcc8.csv\", index_col=0)\n",
    "core8_2 = pd.read_csv(\"../data/gcc8/o0123합본/o2/o2_core8.csv\", index_col=0)\n",
    "print(bin8_2.shape, core8_2.shape)\n",
    "\n",
    "# reset_index (hex processing 하면서 값이 빠졌으니까 + n_gram 에서 index를 다루기 때문에)\n",
    "bin8_2.reset_index(inplace=True, drop=True)\n",
    "core8_2.reset_index(inplace=True, drop=True)\n",
    "\n",
    "print('bin - core concat')\n",
    "bin8_2 = pd.concat([bin8_2, core8_2], axis=0)\n",
    "print('shape -', bin8_2.shape)\n",
    "print('reset_index 완료')\n",
    "print('input data shape')\n",
    "bin8_2.head()"
   ]
  },
  {
   "cell_type": "code",
   "execution_count": 2,
   "metadata": {},
   "outputs": [
    {
     "name": "stdout",
     "output_type": "stream",
     "text": [
      "256\n",
      "0    28706035\n",
      "1       38665\n",
      "Name: label, dtype: int64\n"
     ]
    }
   ],
   "source": [
    "# (2-1) 데이터체크 1 - hex(16진수)가 256 label을 가져야 dummies 변환 가능 \n",
    "# 16진수 256개 종류가 있어서 pd.get_dummies 사용 가능.\n",
    "print(len(bin8_2['bin'].unique()))\n",
    "\n",
    "# (2-2) 데이터 체크 2 - 1, 0 비율 ==> 1이 함수의 갯수를 뜻함\n",
    "# 정답 데이터 1, 0 비율 확인  ==> 1이 함수의 갯수를 뜻함\n",
    "print(bin8_2['label'].value_counts())"
   ]
  },
  {
   "cell_type": "markdown",
   "metadata": {},
   "source": [
    "## (3) N Byte씩 자르기"
   ]
  },
  {
   "cell_type": "code",
   "execution_count": 3,
   "metadata": {},
   "outputs": [
    {
     "name": "stdout",
     "output_type": "stream",
     "text": [
      "1237280\n",
      "나머지 0\n",
      "최종 길이 1237280\n",
      "bin8_2 1237280\n"
     ]
    }
   ],
   "source": [
    "idx_bin = bin8_2[bin8_2['label']==1].index  # 407, 474 ...\n",
    "ls_bin = list(idx_bin)\n",
    "\n",
    "# 최종 뽑을 행에 대한 index\n",
    "ls_idx_bin = []\n",
    "\n",
    "# n byte 자르기 방식\n",
    "left_idx, right_idx = 0, 32 # 3개씩\n",
    "\n",
    "# n byte 자르기\n",
    "for k in range(left_idx, right_idx):\n",
    "    ls_idx_bin.extend(list(idx_bin + k)) # index 형이라서 가능\n",
    "\n",
    "#ls_idx = list(set(ls_idx)) \n",
    "ls_idx_bin.sort() # 인덱스 정렬\n",
    "\n",
    "# 1차 index 해당범위 초과한 것들 없애기\n",
    "ls_idx_bin = list(filter(lambda x: x<len(bin8_2), ls_idx_bin))\n",
    "print(len(ls_idx_bin))\n",
    "\n",
    "# 2차 남은 index들 중 right_idx 나눈 나머지 없애기\n",
    "sub_bin = len(ls_idx_bin)%(right_idx)\n",
    "print('나머지', sub_bin)\n",
    "\n",
    "ls_idx_bin = ls_idx_bin[:len(ls_idx_bin)-sub_bin]\n",
    "print('최종 길이', len(ls_idx_bin))\n",
    "\n",
    "print('bin8_2', len(ls_idx_bin))\n",
    "\n",
    "# loc 로 수정필요\n",
    "bin8_2_Ngram = bin8_2.loc[ls_idx_bin,:].copy()"
   ]
  },
  {
   "cell_type": "markdown",
   "metadata": {},
   "source": [
    "## (4) false data 만들기"
   ]
  },
  {
   "cell_type": "code",
   "execution_count": 4,
   "metadata": {},
   "outputs": [
    {
     "name": "stdout",
     "output_type": "stream",
     "text": [
      "61202.0\n",
      "0 11194137\n",
      "1000 13707423\n",
      "2000 1204184\n",
      "3000 15175726\n",
      "4000 8436997\n",
      "5000 23867767\n",
      "6000 17865476\n",
      "7000 3410575\n",
      "8000 23738651\n",
      "9000 15651481\n",
      "10000 8308557\n",
      "11000 11094019\n",
      "12000 9676867\n",
      "13000 7367917\n",
      "14000 19047549\n",
      "15000 5915394\n",
      "16000 3819799\n",
      "17000 18123803\n",
      "18000 24702489\n",
      "19000 12300999\n",
      "20000 5020131\n",
      "21000 13850170\n",
      "22000 6955185\n",
      "23000 13690173\n",
      "24000 9144428\n",
      "25000 25567588\n",
      "26000 16182011\n",
      "27000 14365765\n",
      "28000 12034638\n",
      "29000 10089321\n",
      "30000 18290396\n",
      "31000 6631020\n",
      "32000 11324555\n",
      "33000 3237198\n",
      "34000 13952662\n",
      "35000 5157734\n",
      "36000 24690952\n",
      "37000 356997\n",
      "38000 13161408\n",
      "39000 20861069\n",
      "40000 21516870\n",
      "41000 21921554\n",
      "42000 1421332\n",
      "43000 8106098\n",
      "44000 19748373\n",
      "45000 16384134\n",
      "46000 25579802\n",
      "47000 8458456\n",
      "48000 17090122\n",
      "49000 25016332\n",
      "50000 20951940\n",
      "51000 14052821\n",
      "52000 5023210\n",
      "53000 27562185\n",
      "54000 3492722\n",
      "55000 18251106\n",
      "56000 4726712\n",
      "57000 19593222\n",
      "58000 3004539\n",
      "59000 25207396\n",
      "60000 20790288\n",
      "61000 23913945\n",
      "완료\n",
      "61202\n"
     ]
    }
   ],
   "source": [
    "# false data 만들기 - False 데이터 랜덤 생성\n",
    "\n",
    "# 목표치\n",
    "goal_bin = len(bin8_2_Ngram)/right_idx\n",
    "count_bin = 0\n",
    "\n",
    "print(goal_bin)\n",
    "\n",
    "# 최종 데이터 Frame\n",
    "d_bin = pd.DataFrame(columns = bin8_2.columns)\n",
    "\n",
    "binutils_df = []\n",
    "# goal 에 도달할 때까지\n",
    "while True:\n",
    "    if (count_bin == goal_bin):\n",
    "            break\n",
    "    # 진행상황 살펴보기 위함\n",
    "            \n",
    "    # 랜덤 N 바이트씩 뽑음\n",
    "    # random index\n",
    "    random_idx_bin = np.random.randint(len(bin8_2)-right_idx)\n",
    "\n",
    "    if count_bin % 1000==0:\n",
    "        print(count_bin, end=' ')\n",
    "        print(random_idx_bin)\n",
    "\n",
    "    df_bin = bin8_2[random_idx_bin : random_idx_bin + right_idx]\n",
    "    \n",
    "    # 뽑은 index의 N 바이트 중에 1이 없는 경우만\n",
    "    if 1 not in df_bin['label'] and count_bin < goal_bin:\n",
    "        binutils_df.append(df_bin)\n",
    "        count_bin+=1\n",
    "\n",
    "print('완료')\n",
    "print(len(binutils_df))"
   ]
  },
  {
   "cell_type": "code",
   "execution_count": 5,
   "metadata": {},
   "outputs": [
    {
     "name": "stdout",
     "output_type": "stream",
     "text": [
      "61202\n",
      "38665\n"
     ]
    }
   ],
   "source": [
    "# True data와 False Data 같은지 체크\n",
    "print(len(binutils_df))\n",
    "print(bin8_2['label'].value_counts()[1])"
   ]
  },
  {
   "cell_type": "markdown",
   "metadata": {},
   "source": [
    "## (5) False Data + True Data 합치기"
   ]
  },
  {
   "cell_type": "code",
   "execution_count": 6,
   "metadata": {},
   "outputs": [
    {
     "data": {
      "text/plain": [
       "(3916928, 2)"
      ]
     },
     "execution_count": 6,
     "metadata": {},
     "output_type": "execute_result"
    }
   ],
   "source": [
    "f_data = pd.concat(binutils_df)\n",
    "final = pd.concat([f_data, bin8_2_Ngram])\n",
    "final.shape"
   ]
  },
  {
   "cell_type": "markdown",
   "metadata": {},
   "source": [
    "## (6) one hot encoding"
   ]
  },
  {
   "cell_type": "code",
   "execution_count": 7,
   "metadata": {},
   "outputs": [
    {
     "name": "stdout",
     "output_type": "stream",
     "text": [
      "원핫인코딩완료\n",
      "(3916928, 257)\n"
     ]
    }
   ],
   "source": [
    "# 훈련데이터 (gcc 최적화버전 0, 1, 2, 3 one hot encoding)\n",
    "bc8_2_onehot_Ngram = pd.get_dummies(final['bin'])\n",
    "bc8_2_onehot_Ngram = pd.concat([final['label'], bc8_2_onehot_Ngram], axis=1)\n",
    "\n",
    "print('원핫인코딩완료')\n",
    "print(bc8_2_onehot_Ngram.shape)"
   ]
  },
  {
   "cell_type": "code",
   "execution_count": 8,
   "metadata": {},
   "outputs": [
    {
     "name": "stdout",
     "output_type": "stream",
     "text": [
      "(3916928, 256) (3916928, 256)\n",
      "(122404, 32, 256) (122404, 32, 1)\n"
     ]
    }
   ],
   "source": [
    "# 훈련 데이터, 훈련 라벨\n",
    "x_bc8_2 = bc8_2_onehot_Ngram.iloc[:,1:].to_numpy()\n",
    "y_bc8_2 = bc8_2_onehot_Ngram['label'].to_numpy()\n",
    "print(x_bc8_2.shape, x_bc8_2.shape)\n",
    "\n",
    "x_bc8_2 = x_bc8_2.reshape(-1, right_idx, x_bc8_2.shape[1])\n",
    "y_bc8_2 = y_bc8_2.reshape(-1, right_idx, 1)\n",
    "\n",
    "print(x_bc8_2.shape, y_bc8_2.shape)"
   ]
  },
  {
   "cell_type": "code",
   "execution_count": 9,
   "metadata": {},
   "outputs": [
    {
     "name": "stdout",
     "output_type": "stream",
     "text": [
      "(122404, 32, 256) (122404, 32, 1)\n"
     ]
    }
   ],
   "source": [
    "# numpy 행, 열 섞기\n",
    "p = np.random.permutation(x_bc8_2.shape[0])\n",
    "\n",
    "x_bc8_2 = x_bc8_2[p]\n",
    "y_bc8_2 = y_bc8_2[p]\n",
    "\n",
    "print(x_bc8_2.shape, y_bc8_2.shape)"
   ]
  },
  {
   "cell_type": "markdown",
   "metadata": {},
   "source": [
    "## (7) 모델"
   ]
  },
  {
   "cell_type": "code",
   "execution_count": 10,
   "metadata": {},
   "outputs": [],
   "source": [
    "# (10) 양방향 LSTM 모델링 작업\n",
    "from tensorflow.keras import layers, models\n",
    "#from tf.keras.models import Model, Sequential\n",
    "#from tf.keras.layers import SimpleRNN, Input, Dense, LSTM\n",
    "#from tf.keras.layers import Bidirectional, TimeDistributed\n",
    "\n",
    "# 학습\n",
    "from tensorflow.keras.callbacks import EarlyStopping\n",
    "early_stopping = EarlyStopping(patience = 3) # 조기종료 콜백함수 정의\n",
    "\n",
    "xInput = layers.Input(batch_shape=(None,right_idx, 256)) \n",
    "xBiLstm = layers.Bidirectional(layers.LSTM(48, return_sequences=True, stateful=False), merge_mode = 'concat')(xInput)\n",
    "xOutput = layers.TimeDistributed(layers.Dense(1, activation ='sigmoid'))(xBiLstm) # 각 스텝에서 cost가 전송되고, 오류가 다음 step으로 전송됨."
   ]
  },
  {
   "cell_type": "markdown",
   "metadata": {},
   "source": [
    "## (8) 학습 - 10 KFold"
   ]
  },
  {
   "cell_type": "code",
   "execution_count": 11,
   "metadata": {
    "scrolled": false
   },
   "outputs": [
    {
     "name": "stdout",
     "output_type": "stream",
     "text": [
      "Model: \"model\"\n",
      "_________________________________________________________________\n",
      "Layer (type)                 Output Shape              Param #   \n",
      "=================================================================\n",
      "input_1 (InputLayer)         [(None, 32, 256)]         0         \n",
      "_________________________________________________________________\n",
      "bidirectional (Bidirectional (None, 32, 96)            117120    \n",
      "_________________________________________________________________\n",
      "time_distributed (TimeDistri (None, 32, 1)             97        \n",
      "=================================================================\n",
      "Total params: 117,217\n",
      "Trainable params: 117,217\n",
      "Non-trainable params: 0\n",
      "_________________________________________________________________\n",
      "======Training stage======\n",
      "Train on 110163 samples\n",
      "Epoch 1/10\n",
      "109568/110163 [============================>.] - ETA: 0s - loss: 0.0265 - accuracy: 0.9929WARNING:tensorflow:Early stopping conditioned on metric `val_loss` which is not available. Available metrics are: loss,accuracy\n",
      "110163/110163 [==============================] - 10s 95us/sample - loss: 0.0264 - accuracy: 0.9929\n",
      "Epoch 2/10\n",
      "109440/110163 [============================>.] - ETA: 0s - loss: 0.0077 - accuracy: 0.9975WARNING:tensorflow:Early stopping conditioned on metric `val_loss` which is not available. Available metrics are: loss,accuracy\n",
      "110163/110163 [==============================] - 6s 58us/sample - loss: 0.0077 - accuracy: 0.9975\n",
      "Epoch 3/10\n",
      "109440/110163 [============================>.] - ETA: 0s - loss: 0.0060 - accuracy: 0.9981WARNING:tensorflow:Early stopping conditioned on metric `val_loss` which is not available. Available metrics are: loss,accuracy\n",
      "110163/110163 [==============================] - 6s 58us/sample - loss: 0.0060 - accuracy: 0.9981\n",
      "Epoch 4/10\n",
      "109440/110163 [============================>.] - ETA: 0s - loss: 0.0050 - accuracy: 0.9984WARNING:tensorflow:Early stopping conditioned on metric `val_loss` which is not available. Available metrics are: loss,accuracy\n",
      "110163/110163 [==============================] - 6s 58us/sample - loss: 0.0050 - accuracy: 0.9984\n",
      "Epoch 5/10\n",
      "109696/110163 [============================>.] - ETA: 0s - loss: 0.0043 - accuracy: 0.9987WARNING:tensorflow:Early stopping conditioned on metric `val_loss` which is not available. Available metrics are: loss,accuracy\n",
      "110163/110163 [==============================] - 6s 58us/sample - loss: 0.0042 - accuracy: 0.9987\n",
      "Epoch 6/10\n",
      "109440/110163 [============================>.] - ETA: 0s - loss: 0.0036 - accuracy: 0.9989WARNING:tensorflow:Early stopping conditioned on metric `val_loss` which is not available. Available metrics are: loss,accuracy\n",
      "110163/110163 [==============================] - 6s 58us/sample - loss: 0.0036 - accuracy: 0.9988\n",
      "Epoch 7/10\n",
      "109440/110163 [============================>.] - ETA: 0s - loss: 0.0031 - accuracy: 0.9990WARNING:tensorflow:Early stopping conditioned on metric `val_loss` which is not available. Available metrics are: loss,accuracy\n",
      "110163/110163 [==============================] - 6s 58us/sample - loss: 0.0031 - accuracy: 0.9990\n",
      "Epoch 8/10\n",
      "109568/110163 [============================>.] - ETA: 0s - loss: 0.0027 - accuracy: 0.9992WARNING:tensorflow:Early stopping conditioned on metric `val_loss` which is not available. Available metrics are: loss,accuracy\n",
      "110163/110163 [==============================] - 6s 58us/sample - loss: 0.0027 - accuracy: 0.9992\n",
      "Epoch 9/10\n",
      "109440/110163 [============================>.] - ETA: 0s - loss: 0.0023 - accuracy: 0.9993WARNING:tensorflow:Early stopping conditioned on metric `val_loss` which is not available. Available metrics are: loss,accuracy\n",
      "110163/110163 [==============================] - 6s 58us/sample - loss: 0.0023 - accuracy: 0.9993\n",
      "Epoch 10/10\n",
      "109440/110163 [============================>.] - ETA: 0s - loss: 0.0021 - accuracy: 0.9994WARNING:tensorflow:Early stopping conditioned on metric `val_loss` which is not available. Available metrics are: loss,accuracy\n",
      "110163/110163 [==============================] - 6s 58us/sample - loss: 0.0021 - accuracy: 0.9994\n"
     ]
    },
    {
     "data": {
      "text/plain": [
       "<tensorflow.python.keras.callbacks.History at 0x208d2297788>"
      ]
     },
     "execution_count": 11,
     "metadata": {},
     "output_type": "execute_result"
    },
    {
     "name": "stdout",
     "output_type": "stream",
     "text": [
      "accuracy_score 0.9989124663017728\n",
      "recall_score 0.9564397905759162\n",
      "precision_score 0.9544409613375131\n",
      "f1_score 0.955439330543933\n",
      "Model: \"model_1\"\n",
      "_________________________________________________________________\n",
      "Layer (type)                 Output Shape              Param #   \n",
      "=================================================================\n",
      "input_1 (InputLayer)         [(None, 32, 256)]         0         \n",
      "_________________________________________________________________\n",
      "bidirectional (Bidirectional (None, 32, 96)            117120    \n",
      "_________________________________________________________________\n",
      "time_distributed (TimeDistri (None, 32, 1)             97        \n",
      "=================================================================\n",
      "Total params: 117,217\n",
      "Trainable params: 117,217\n",
      "Non-trainable params: 0\n",
      "_________________________________________________________________\n",
      "======Training stage======\n",
      "Train on 110163 samples\n",
      "Epoch 1/10\n",
      "109440/110163 [============================>.] - ETA: 0s - loss: 0.0020 - accuracy: 0.9994WARNING:tensorflow:Early stopping conditioned on metric `val_loss` which is not available. Available metrics are: loss,accuracy\n",
      "110163/110163 [==============================] - 9s 81us/sample - loss: 0.0020 - accuracy: 0.9994\n",
      "Epoch 2/10\n",
      "109568/110163 [============================>.] - ETA: 0s - loss: 0.0017 - accuracy: 0.9995WARNING:tensorflow:Early stopping conditioned on metric `val_loss` which is not available. Available metrics are: loss,accuracy\n",
      "110163/110163 [==============================] - 6s 58us/sample - loss: 0.0017 - accuracy: 0.9994\n",
      "Epoch 3/10\n",
      "109568/110163 [============================>.] - ETA: 0s - loss: 0.0015 - accuracy: 0.9995WARNING:tensorflow:Early stopping conditioned on metric `val_loss` which is not available. Available metrics are: loss,accuracy\n",
      "110163/110163 [==============================] - 6s 58us/sample - loss: 0.0015 - accuracy: 0.9995\n",
      "Epoch 4/10\n",
      "109440/110163 [============================>.] - ETA: 0s - loss: 0.0013 - accuracy: 0.9996WARNING:tensorflow:Early stopping conditioned on metric `val_loss` which is not available. Available metrics are: loss,accuracy\n",
      "110163/110163 [==============================] - 6s 59us/sample - loss: 0.0013 - accuracy: 0.9996\n",
      "Epoch 5/10\n",
      "109440/110163 [============================>.] - ETA: 0s - loss: 0.0012 - accuracy: 0.9996WARNING:tensorflow:Early stopping conditioned on metric `val_loss` which is not available. Available metrics are: loss,accuracy\n",
      "110163/110163 [==============================] - 6s 58us/sample - loss: 0.0012 - accuracy: 0.9996\n",
      "Epoch 6/10\n",
      "109440/110163 [============================>.] - ETA: 0s - loss: 0.0011 - accuracy: 0.9997WARNING:tensorflow:Early stopping conditioned on metric `val_loss` which is not available. Available metrics are: loss,accuracy\n",
      "110163/110163 [==============================] - 6s 58us/sample - loss: 0.0011 - accuracy: 0.9997\n",
      "Epoch 7/10\n",
      "109440/110163 [============================>.] - ETA: 0s - loss: 9.3492e-04 - accuracy: 0.9997WARNING:tensorflow:Early stopping conditioned on metric `val_loss` which is not available. Available metrics are: loss,accuracy\n",
      "110163/110163 [==============================] - 6s 59us/sample - loss: 9.3419e-04 - accuracy: 0.9997\n",
      "Epoch 8/10\n",
      "109440/110163 [============================>.] - ETA: 0s - loss: 8.4515e-04 - accuracy: 0.9997WARNING:tensorflow:Early stopping conditioned on metric `val_loss` which is not available. Available metrics are: loss,accuracy\n",
      "110163/110163 [==============================] - 6s 58us/sample - loss: 8.4277e-04 - accuracy: 0.9997\n",
      "Epoch 9/10\n",
      "109440/110163 [============================>.] - ETA: 0s - loss: 7.3908e-04 - accuracy: 0.9998WARNING:tensorflow:Early stopping conditioned on metric `val_loss` which is not available. Available metrics are: loss,accuracy\n",
      "110163/110163 [==============================] - 6s 59us/sample - loss: 7.3864e-04 - accuracy: 0.9998\n",
      "Epoch 10/10\n",
      "109440/110163 [============================>.] - ETA: 0s - loss: 6.6453e-04 - accuracy: 0.9998WARNING:tensorflow:Early stopping conditioned on metric `val_loss` which is not available. Available metrics are: loss,accuracy\n",
      "110163/110163 [==============================] - 6s 59us/sample - loss: 6.6354e-04 - accuracy: 0.9998\n"
     ]
    },
    {
     "data": {
      "text/plain": [
       "<tensorflow.python.keras.callbacks.History at 0x20865e3aec8>"
      ]
     },
     "execution_count": 11,
     "metadata": {},
     "output_type": "execute_result"
    },
    {
     "name": "stdout",
     "output_type": "stream",
     "text": [
      "accuracy_score 0.9993924107507557\n",
      "recall_score 0.9700949686805416\n",
      "precision_score 0.9815988550398691\n",
      "f1_score 0.9758130081300813\n",
      "Model: \"model_2\"\n",
      "_________________________________________________________________\n",
      "Layer (type)                 Output Shape              Param #   \n",
      "=================================================================\n",
      "input_1 (InputLayer)         [(None, 32, 256)]         0         \n",
      "_________________________________________________________________\n",
      "bidirectional (Bidirectional (None, 32, 96)            117120    \n",
      "_________________________________________________________________\n",
      "time_distributed (TimeDistri (None, 32, 1)             97        \n",
      "=================================================================\n",
      "Total params: 117,217\n",
      "Trainable params: 117,217\n",
      "Non-trainable params: 0\n",
      "_________________________________________________________________\n",
      "======Training stage======\n",
      "Train on 110163 samples\n",
      "Epoch 1/10\n",
      "109440/110163 [============================>.] - ETA: 0s - loss: 7.6434e-04 - accuracy: 0.9998WARNING:tensorflow:Early stopping conditioned on metric `val_loss` which is not available. Available metrics are: loss,accuracy\n",
      "110163/110163 [==============================] - 9s 81us/sample - loss: 7.6496e-04 - accuracy: 0.9998\n",
      "Epoch 2/10\n",
      "109568/110163 [============================>.] - ETA: 0s - loss: 6.6502e-04 - accuracy: 0.9998WARNING:tensorflow:Early stopping conditioned on metric `val_loss` which is not available. Available metrics are: loss,accuracy\n",
      "110163/110163 [==============================] - 6s 58us/sample - loss: 6.6386e-04 - accuracy: 0.9998\n",
      "Epoch 3/10\n",
      "109440/110163 [============================>.] - ETA: 0s - loss: 5.5044e-04 - accuracy: 0.9998WARNING:tensorflow:Early stopping conditioned on metric `val_loss` which is not available. Available metrics are: loss,accuracy\n",
      "110163/110163 [==============================] - 6s 58us/sample - loss: 5.5271e-04 - accuracy: 0.9998\n",
      "Epoch 4/10\n",
      "109440/110163 [============================>.] - ETA: 0s - loss: 4.8577e-04 - accuracy: 0.9999WARNING:tensorflow:Early stopping conditioned on metric `val_loss` which is not available. Available metrics are: loss,accuracy\n",
      "110163/110163 [==============================] - 6s 58us/sample - loss: 4.8446e-04 - accuracy: 0.9999\n",
      "Epoch 5/10\n",
      "109440/110163 [============================>.] - ETA: 0s - loss: 4.1240e-04 - accuracy: 0.9999WARNING:tensorflow:Early stopping conditioned on metric `val_loss` which is not available. Available metrics are: loss,accuracy\n",
      "110163/110163 [==============================] - 6s 58us/sample - loss: 4.1206e-04 - accuracy: 0.9999\n",
      "Epoch 6/10\n",
      "109440/110163 [============================>.] - ETA: 0s - loss: 3.7359e-04 - accuracy: 0.9999WARNING:tensorflow:Early stopping conditioned on metric `val_loss` which is not available. Available metrics are: loss,accuracy\n",
      "110163/110163 [==============================] - 6s 58us/sample - loss: 3.7213e-04 - accuracy: 0.9999\n",
      "Epoch 7/10\n",
      "109440/110163 [============================>.] - ETA: 0s - loss: 3.4010e-04 - accuracy: 0.9999WARNING:tensorflow:Early stopping conditioned on metric `val_loss` which is not available. Available metrics are: loss,accuracy\n",
      "110163/110163 [==============================] - 6s 58us/sample - loss: 3.4278e-04 - accuracy: 0.9999\n",
      "Epoch 8/10\n",
      "109440/110163 [============================>.] - ETA: 0s - loss: 2.9216e-04 - accuracy: 0.9999WARNING:tensorflow:Early stopping conditioned on metric `val_loss` which is not available. Available metrics are: loss,accuracy\n",
      "110163/110163 [==============================] - 6s 58us/sample - loss: 2.9351e-04 - accuracy: 0.9999\n",
      "Epoch 9/10\n",
      "109440/110163 [============================>.] - ETA: 0s - loss: 2.5323e-04 - accuracy: 0.9999WARNING:tensorflow:Early stopping conditioned on metric `val_loss` which is not available. Available metrics are: loss,accuracy\n",
      "110163/110163 [==============================] - 6s 58us/sample - loss: 2.5326e-04 - accuracy: 0.9999\n",
      "Epoch 10/10\n",
      "109440/110163 [============================>.] - ETA: 0s - loss: 2.1991e-04 - accuracy: 0.9999WARNING:tensorflow:Early stopping conditioned on metric `val_loss` which is not available. Available metrics are: loss,accuracy\n",
      "110163/110163 [==============================] - 6s 58us/sample - loss: 2.2046e-04 - accuracy: 0.9999\n"
     ]
    },
    {
     "data": {
      "text/plain": [
       "<tensorflow.python.keras.callbacks.History at 0x208650b8bc8>"
      ]
     },
     "execution_count": 11,
     "metadata": {},
     "output_type": "execute_result"
    },
    {
     "name": "stdout",
     "output_type": "stream",
     "text": [
      "accuracy_score 0.9995940895351687\n",
      "recall_score 0.9872375463153561\n",
      "precision_score 0.9801757612916411\n",
      "f1_score 0.9836939801046046\n",
      "Model: \"model_3\"\n",
      "_________________________________________________________________\n",
      "Layer (type)                 Output Shape              Param #   \n",
      "=================================================================\n",
      "input_1 (InputLayer)         [(None, 32, 256)]         0         \n",
      "_________________________________________________________________\n",
      "bidirectional (Bidirectional (None, 32, 96)            117120    \n",
      "_________________________________________________________________\n",
      "time_distributed (TimeDistri (None, 32, 1)             97        \n",
      "=================================================================\n",
      "Total params: 117,217\n",
      "Trainable params: 117,217\n",
      "Non-trainable params: 0\n",
      "_________________________________________________________________\n",
      "======Training stage======\n",
      "Train on 110163 samples\n",
      "Epoch 1/10\n",
      "109440/110163 [============================>.] - ETA: 0s - loss: 3.4092e-04 - accuracy: 0.9999WARNING:tensorflow:Early stopping conditioned on metric `val_loss` which is not available. Available metrics are: loss,accuracy\n",
      "110163/110163 [==============================] - 10s 90us/sample - loss: 3.4076e-04 - accuracy: 0.9999\n",
      "Epoch 2/10\n",
      "109440/110163 [============================>.] - ETA: 0s - loss: 2.4848e-04 - accuracy: 0.9999WARNING:tensorflow:Early stopping conditioned on metric `val_loss` which is not available. Available metrics are: loss,accuracy\n",
      "110163/110163 [==============================] - 6s 59us/sample - loss: 2.4990e-04 - accuracy: 0.9999\n",
      "Epoch 3/10\n",
      "109312/110163 [============================>.] - ETA: 0s - loss: 2.1541e-04 - accuracy: 0.9999WARNING:tensorflow:Early stopping conditioned on metric `val_loss` which is not available. Available metrics are: loss,accuracy\n",
      "110163/110163 [==============================] - 7s 59us/sample - loss: 2.1597e-04 - accuracy: 0.9999\n",
      "Epoch 4/10\n",
      "109440/110163 [============================>.] - ETA: 0s - loss: 1.9382e-04 - accuracy: 0.9999WARNING:tensorflow:Early stopping conditioned on metric `val_loss` which is not available. Available metrics are: loss,accuracy\n",
      "110163/110163 [==============================] - 6s 59us/sample - loss: 1.9329e-04 - accuracy: 0.9999\n",
      "Epoch 5/10\n",
      "109440/110163 [============================>.] - ETA: 0s - loss: 1.4311e-04 - accuracy: 1.0000WARNING:tensorflow:Early stopping conditioned on metric `val_loss` which is not available. Available metrics are: loss,accuracy\n",
      "110163/110163 [==============================] - 6s 59us/sample - loss: 1.4582e-04 - accuracy: 1.0000\n",
      "Epoch 6/10\n",
      "109312/110163 [============================>.] - ETA: 0s - loss: 1.3794e-04 - accuracy: 1.0000WARNING:tensorflow:Early stopping conditioned on metric `val_loss` which is not available. Available metrics are: loss,accuracy\n",
      "110163/110163 [==============================] - 7s 59us/sample - loss: 1.3794e-04 - accuracy: 1.0000\n",
      "Epoch 7/10\n",
      "109440/110163 [============================>.] - ETA: 0s - loss: 1.2268e-04 - accuracy: 1.0000WARNING:tensorflow:Early stopping conditioned on metric `val_loss` which is not available. Available metrics are: loss,accuracy\n",
      "110163/110163 [==============================] - 7s 59us/sample - loss: 1.2212e-04 - accuracy: 1.0000\n",
      "Epoch 8/10\n",
      "109440/110163 [============================>.] - ETA: 0s - loss: 1.1905e-04 - accuracy: 1.0000WARNING:tensorflow:Early stopping conditioned on metric `val_loss` which is not available. Available metrics are: loss,accuracy\n",
      "110163/110163 [==============================] - 6s 59us/sample - loss: 1.1986e-04 - accuracy: 1.0000\n",
      "Epoch 9/10\n",
      "109440/110163 [============================>.] - ETA: 0s - loss: 1.0079e-04 - accuracy: 1.0000WARNING:tensorflow:Early stopping conditioned on metric `val_loss` which is not available. Available metrics are: loss,accuracy\n",
      "110163/110163 [==============================] - 6s 59us/sample - loss: 1.0035e-04 - accuracy: 1.0000\n",
      "Epoch 10/10\n",
      "109568/110163 [============================>.] - ETA: 0s - loss: 9.7789e-05 - accuracy: 1.0000WARNING:tensorflow:Early stopping conditioned on metric `val_loss` which is not available. Available metrics are: loss,accuracy\n",
      "110163/110163 [==============================] - 7s 63us/sample - loss: 9.7881e-05 - accuracy: 1.0000\n"
     ]
    },
    {
     "data": {
      "text/plain": [
       "<tensorflow.python.keras.callbacks.History at 0x208743c1ec8>"
      ]
     },
     "execution_count": 11,
     "metadata": {},
     "output_type": "execute_result"
    },
    {
     "name": "stdout",
     "output_type": "stream",
     "text": [
      "accuracy_score 0.999765133567519\n",
      "recall_score 0.9879492145470196\n",
      "precision_score 0.99221958072185\n",
      "f1_score 0.9900797929695924\n",
      "Model: \"model_4\"\n",
      "_________________________________________________________________\n",
      "Layer (type)                 Output Shape              Param #   \n",
      "=================================================================\n",
      "input_1 (InputLayer)         [(None, 32, 256)]         0         \n",
      "_________________________________________________________________\n",
      "bidirectional (Bidirectional (None, 32, 96)            117120    \n",
      "_________________________________________________________________\n",
      "time_distributed (TimeDistri (None, 32, 1)             97        \n",
      "=================================================================\n",
      "Total params: 117,217\n",
      "Trainable params: 117,217\n",
      "Non-trainable params: 0\n",
      "_________________________________________________________________\n",
      "======Training stage======\n",
      "Train on 110164 samples\n",
      "Epoch 1/10\n",
      "109440/110164 [============================>.] - ETA: 0s - loss: 1.6851e-04 - accuracy: 0.9999WARNING:tensorflow:Early stopping conditioned on metric `val_loss` which is not available. Available metrics are: loss,accuracy\n",
      "110164/110164 [==============================] - 9s 81us/sample - loss: 1.6940e-04 - accuracy: 0.9999\n",
      "Epoch 2/10\n",
      "109440/110164 [============================>.] - ETA: 0s - loss: 1.4561e-04 - accuracy: 1.0000WARNING:tensorflow:Early stopping conditioned on metric `val_loss` which is not available. Available metrics are: loss,accuracy\n",
      "110164/110164 [==============================] - 6s 59us/sample - loss: 1.4743e-04 - accuracy: 1.0000\n",
      "Epoch 3/10\n",
      "109440/110164 [============================>.] - ETA: 0s - loss: 1.1282e-04 - accuracy: 1.0000WARNING:tensorflow:Early stopping conditioned on metric `val_loss` which is not available. Available metrics are: loss,accuracy\n",
      "110164/110164 [==============================] - 7s 59us/sample - loss: 1.1339e-04 - accuracy: 1.0000\n",
      "Epoch 4/10\n",
      "109440/110164 [============================>.] - ETA: 0s - loss: 1.0479e-04 - accuracy: 1.0000WARNING:tensorflow:Early stopping conditioned on metric `val_loss` which is not available. Available metrics are: loss,accuracy\n",
      "110164/110164 [==============================] - 7s 59us/sample - loss: 1.0429e-04 - accuracy: 1.0000\n",
      "Epoch 5/10\n",
      "109440/110164 [============================>.] - ETA: 0s - loss: 8.3886e-05 - accuracy: 1.0000WARNING:tensorflow:Early stopping conditioned on metric `val_loss` which is not available. Available metrics are: loss,accuracy\n",
      "110164/110164 [==============================] - 7s 59us/sample - loss: 8.3815e-05 - accuracy: 1.0000\n",
      "Epoch 6/10\n",
      "109440/110164 [============================>.] - ETA: 0s - loss: 7.4830e-05 - accuracy: 1.0000WARNING:tensorflow:Early stopping conditioned on metric `val_loss` which is not available. Available metrics are: loss,accuracy\n",
      "110164/110164 [==============================] - 7s 59us/sample - loss: 7.5872e-05 - accuracy: 1.0000\n",
      "Epoch 7/10\n",
      "109440/110164 [============================>.] - ETA: 0s - loss: 7.5840e-05 - accuracy: 1.0000WARNING:tensorflow:Early stopping conditioned on metric `val_loss` which is not available. Available metrics are: loss,accuracy\n",
      "110164/110164 [==============================] - 7s 59us/sample - loss: 7.5756e-05 - accuracy: 1.0000\n",
      "Epoch 8/10\n",
      "109440/110164 [============================>.] - ETA: 0s - loss: 6.3451e-05 - accuracy: 1.0000WARNING:tensorflow:Early stopping conditioned on metric `val_loss` which is not available. Available metrics are: loss,accuracy\n",
      "110164/110164 [==============================] - 7s 59us/sample - loss: 6.3086e-05 - accuracy: 1.0000\n",
      "Epoch 9/10\n",
      "109440/110164 [============================>.] - ETA: 0s - loss: 6.7696e-05 - accuracy: 1.0000WARNING:tensorflow:Early stopping conditioned on metric `val_loss` which is not available. Available metrics are: loss,accuracy\n",
      "110164/110164 [==============================] - 7s 62us/sample - loss: 6.7350e-05 - accuracy: 1.0000\n",
      "Epoch 10/10\n",
      "109952/110164 [============================>.] - ETA: 0s - loss: 6.2480e-05 - accuracy: 1.0000WARNING:tensorflow:Early stopping conditioned on metric `val_loss` which is not available. Available metrics are: loss,accuracy\n",
      "110164/110164 [==============================] - 7s 63us/sample - loss: 6.2373e-05 - accuracy: 1.0000\n"
     ]
    },
    {
     "data": {
      "text/plain": [
       "<tensorflow.python.keras.callbacks.History at 0x2086d8852c8>"
      ]
     },
     "execution_count": 11,
     "metadata": {},
     "output_type": "execute_result"
    },
    {
     "name": "stdout",
     "output_type": "stream",
     "text": [
      "accuracy_score 0.9999157475490196\n",
      "recall_score 0.9966237602869804\n",
      "precision_score 0.9964135021097047\n",
      "f1_score 0.9965186201076064\n",
      "Model: \"model_5\"\n",
      "_________________________________________________________________\n",
      "Layer (type)                 Output Shape              Param #   \n",
      "=================================================================\n",
      "input_1 (InputLayer)         [(None, 32, 256)]         0         \n",
      "_________________________________________________________________\n",
      "bidirectional (Bidirectional (None, 32, 96)            117120    \n",
      "_________________________________________________________________\n",
      "time_distributed (TimeDistri (None, 32, 1)             97        \n",
      "=================================================================\n",
      "Total params: 117,217\n",
      "Trainable params: 117,217\n",
      "Non-trainable params: 0\n",
      "_________________________________________________________________\n",
      "======Training stage======\n",
      "Train on 110164 samples\n",
      "Epoch 1/10\n",
      "109440/110164 [============================>.] - ETA: 0s - loss: 1.0577e-04 - accuracy: 1.0000WARNING:tensorflow:Early stopping conditioned on metric `val_loss` which is not available. Available metrics are: loss,accuracy\n",
      "110164/110164 [==============================] - 9s 83us/sample - loss: 1.0857e-04 - accuracy: 1.0000\n",
      "Epoch 2/10\n",
      "109440/110164 [============================>.] - ETA: 0s - loss: 7.5309e-05 - accuracy: 1.0000WARNING:tensorflow:Early stopping conditioned on metric `val_loss` which is not available. Available metrics are: loss,accuracy\n",
      "110164/110164 [==============================] - 7s 59us/sample - loss: 7.4886e-05 - accuracy: 1.0000\n",
      "Epoch 3/10\n",
      "109440/110164 [============================>.] - ETA: 0s - loss: 7.9392e-05 - accuracy: 1.0000WARNING:tensorflow:Early stopping conditioned on metric `val_loss` which is not available. Available metrics are: loss,accuracy\n",
      "110164/110164 [==============================] - 6s 59us/sample - loss: 7.8924e-05 - accuracy: 1.0000\n",
      "Epoch 4/10\n",
      "109440/110164 [============================>.] - ETA: 0s - loss: 4.9822e-05 - accuracy: 1.0000WARNING:tensorflow:Early stopping conditioned on metric `val_loss` which is not available. Available metrics are: loss,accuracy\n",
      "110164/110164 [==============================] - 6s 59us/sample - loss: 4.9746e-05 - accuracy: 1.0000\n",
      "Epoch 5/10\n",
      "109440/110164 [============================>.] - ETA: 0s - loss: 6.2033e-05 - accuracy: 1.0000WARNING:tensorflow:Early stopping conditioned on metric `val_loss` which is not available. Available metrics are: loss,accuracy\n",
      "110164/110164 [==============================] - 6s 59us/sample - loss: 6.1658e-05 - accuracy: 1.0000\n",
      "Epoch 6/10\n",
      "109440/110164 [============================>.] - ETA: 0s - loss: 6.4034e-05 - accuracy: 1.0000WARNING:tensorflow:Early stopping conditioned on metric `val_loss` which is not available. Available metrics are: loss,accuracy\n",
      "110164/110164 [==============================] - 7s 59us/sample - loss: 6.3647e-05 - accuracy: 1.0000\n",
      "Epoch 7/10\n",
      "109440/110164 [============================>.] - ETA: 0s - loss: 3.9650e-05 - accuracy: 1.0000WARNING:tensorflow:Early stopping conditioned on metric `val_loss` which is not available. Available metrics are: loss,accuracy\n",
      "110164/110164 [==============================] - 6s 59us/sample - loss: 3.9477e-05 - accuracy: 1.0000\n",
      "Epoch 8/10\n",
      "109440/110164 [============================>.] - ETA: 0s - loss: 4.2944e-05 - accuracy: 1.0000WARNING:tensorflow:Early stopping conditioned on metric `val_loss` which is not available. Available metrics are: loss,accuracy\n",
      "110164/110164 [==============================] - 6s 59us/sample - loss: 4.2843e-05 - accuracy: 1.0000\n",
      "Epoch 9/10\n",
      "109440/110164 [============================>.] - ETA: 0s - loss: 4.1500e-05 - accuracy: 1.0000WARNING:tensorflow:Early stopping conditioned on metric `val_loss` which is not available. Available metrics are: loss,accuracy\n",
      "110164/110164 [==============================] - 6s 59us/sample - loss: 4.1473e-05 - accuracy: 1.0000\n",
      "Epoch 10/10\n",
      "109440/110164 [============================>.] - ETA: 0s - loss: 3.1286e-05 - accuracy: 1.0000WARNING:tensorflow:Early stopping conditioned on metric `val_loss` which is not available. Available metrics are: loss,accuracy\n",
      "110164/110164 [==============================] - 6s 59us/sample - loss: 3.1090e-05 - accuracy: 1.0000\n"
     ]
    },
    {
     "data": {
      "text/plain": [
       "<tensorflow.python.keras.callbacks.History at 0x2086d71eb88>"
      ]
     },
     "execution_count": 11,
     "metadata": {},
     "output_type": "execute_result"
    },
    {
     "name": "stdout",
     "output_type": "stream",
     "text": [
      "accuracy_score 0.9999591503267974\n",
      "recall_score 0.9991793188346327\n",
      "precision_score 0.9975419909873003\n",
      "f1_score 0.998359983599836\n",
      "Model: \"model_6\"\n",
      "_________________________________________________________________\n",
      "Layer (type)                 Output Shape              Param #   \n",
      "=================================================================\n",
      "input_1 (InputLayer)         [(None, 32, 256)]         0         \n",
      "_________________________________________________________________\n",
      "bidirectional (Bidirectional (None, 32, 96)            117120    \n",
      "_________________________________________________________________\n",
      "time_distributed (TimeDistri (None, 32, 1)             97        \n",
      "=================================================================\n",
      "Total params: 117,217\n",
      "Trainable params: 117,217\n",
      "Non-trainable params: 0\n",
      "_________________________________________________________________\n",
      "======Training stage======\n",
      "Train on 110164 samples\n",
      "Epoch 1/10\n",
      "109440/110164 [============================>.] - ETA: 0s - loss: 6.1803e-05 - accuracy: 1.0000WARNING:tensorflow:Early stopping conditioned on metric `val_loss` which is not available. Available metrics are: loss,accuracy\n",
      "110164/110164 [==============================] - 10s 94us/sample - loss: 6.3473e-05 - accuracy: 1.0000\n",
      "Epoch 2/10\n",
      "109440/110164 [============================>.] - ETA: 0s - loss: 4.9196e-05 - accuracy: 1.0000WARNING:tensorflow:Early stopping conditioned on metric `val_loss` which is not available. Available metrics are: loss,accuracy\n",
      "110164/110164 [==============================] - 6s 59us/sample - loss: 4.8901e-05 - accuracy: 1.0000\n",
      "Epoch 3/10\n",
      "109440/110164 [============================>.] - ETA: 0s - loss: 4.1541e-05 - accuracy: 1.0000WARNING:tensorflow:Early stopping conditioned on metric `val_loss` which is not available. Available metrics are: loss,accuracy\n",
      "110164/110164 [==============================] - 6s 59us/sample - loss: 4.1895e-05 - accuracy: 1.0000\n",
      "Epoch 4/10\n",
      "109440/110164 [============================>.] - ETA: 0s - loss: 4.8000e-05 - accuracy: 1.0000WARNING:tensorflow:Early stopping conditioned on metric `val_loss` which is not available. Available metrics are: loss,accuracy\n",
      "110164/110164 [==============================] - 6s 59us/sample - loss: 4.7837e-05 - accuracy: 1.0000\n",
      "Epoch 5/10\n",
      "109440/110164 [============================>.] - ETA: 0s - loss: 3.2222e-05 - accuracy: 1.0000WARNING:tensorflow:Early stopping conditioned on metric `val_loss` which is not available. Available metrics are: loss,accuracy\n",
      "110164/110164 [==============================] - 6s 59us/sample - loss: 3.2031e-05 - accuracy: 1.0000\n",
      "Epoch 6/10\n",
      "109440/110164 [============================>.] - ETA: 0s - loss: 4.4335e-05 - accuracy: 1.0000WARNING:tensorflow:Early stopping conditioned on metric `val_loss` which is not available. Available metrics are: loss,accuracy\n",
      "110164/110164 [==============================] - 6s 59us/sample - loss: 4.4234e-05 - accuracy: 1.0000\n",
      "Epoch 7/10\n",
      "109440/110164 [============================>.] - ETA: 0s - loss: 3.0658e-05 - accuracy: 1.0000WARNING:tensorflow:Early stopping conditioned on metric `val_loss` which is not available. Available metrics are: loss,accuracy\n",
      "110164/110164 [==============================] - 6s 59us/sample - loss: 3.0468e-05 - accuracy: 1.0000\n",
      "Epoch 8/10\n",
      "109440/110164 [============================>.] - ETA: 0s - loss: 3.6214e-05 - accuracy: 1.0000WARNING:tensorflow:Early stopping conditioned on metric `val_loss` which is not available. Available metrics are: loss,accuracy\n",
      "110164/110164 [==============================] - 6s 59us/sample - loss: 3.6189e-05 - accuracy: 1.0000\n",
      "Epoch 9/10\n",
      "109440/110164 [============================>.] - ETA: 0s - loss: 3.2515e-05 - accuracy: 1.0000WARNING:tensorflow:Early stopping conditioned on metric `val_loss` which is not available. Available metrics are: loss,accuracy\n",
      "110164/110164 [==============================] - 7s 59us/sample - loss: 3.2308e-05 - accuracy: 1.0000\n",
      "Epoch 10/10\n",
      "109568/110164 [============================>.] - ETA: 0s - loss: 3.1824e-05 - accuracy: 1.0000WARNING:tensorflow:Early stopping conditioned on metric `val_loss` which is not available. Available metrics are: loss,accuracy\n",
      "110164/110164 [==============================] - 6s 59us/sample - loss: 3.1671e-05 - accuracy: 1.0000\n"
     ]
    },
    {
     "data": {
      "text/plain": [
       "<tensorflow.python.keras.callbacks.History at 0x2087d6673c8>"
      ]
     },
     "execution_count": 11,
     "metadata": {},
     "output_type": "execute_result"
    },
    {
     "name": "stdout",
     "output_type": "stream",
     "text": [
      "accuracy_score 0.9999821282679738\n",
      "recall_score 0.9995760915642221\n",
      "precision_score 0.9989409023511968\n",
      "f1_score 0.9992583960165272\n",
      "Model: \"model_7\"\n",
      "_________________________________________________________________\n",
      "Layer (type)                 Output Shape              Param #   \n",
      "=================================================================\n",
      "input_1 (InputLayer)         [(None, 32, 256)]         0         \n",
      "_________________________________________________________________\n",
      "bidirectional (Bidirectional (None, 32, 96)            117120    \n",
      "_________________________________________________________________\n",
      "time_distributed (TimeDistri (None, 32, 1)             97        \n",
      "=================================================================\n",
      "Total params: 117,217\n",
      "Trainable params: 117,217\n",
      "Non-trainable params: 0\n",
      "_________________________________________________________________\n",
      "======Training stage======\n",
      "Train on 110164 samples\n",
      "Epoch 1/10\n",
      "109440/110164 [============================>.] - ETA: 0s - loss: 4.5289e-05 - accuracy: 1.0000WARNING:tensorflow:Early stopping conditioned on metric `val_loss` which is not available. Available metrics are: loss,accuracy\n",
      "110164/110164 [==============================] - 9s 81us/sample - loss: 4.5000e-05 - accuracy: 1.0000\n",
      "Epoch 2/10\n",
      "109440/110164 [============================>.] - ETA: 0s - loss: 2.7119e-05 - accuracy: 1.0000WARNING:tensorflow:Early stopping conditioned on metric `val_loss` which is not available. Available metrics are: loss,accuracy\n",
      "110164/110164 [==============================] - 6s 59us/sample - loss: 2.6959e-05 - accuracy: 1.0000\n",
      "Epoch 3/10\n",
      "109440/110164 [============================>.] - ETA: 0s - loss: 2.9923e-05 - accuracy: 1.0000WARNING:tensorflow:Early stopping conditioned on metric `val_loss` which is not available. Available metrics are: loss,accuracy\n",
      "110164/110164 [==============================] - 7s 59us/sample - loss: 3.0138e-05 - accuracy: 1.0000\n",
      "Epoch 4/10\n",
      "109440/110164 [============================>.] - ETA: 0s - loss: 5.6816e-05 - accuracy: 1.0000WARNING:tensorflow:Early stopping conditioned on metric `val_loss` which is not available. Available metrics are: loss,accuracy\n",
      "110164/110164 [==============================] - 7s 59us/sample - loss: 5.6494e-05 - accuracy: 1.0000\n",
      "Epoch 5/10\n",
      "109440/110164 [============================>.] - ETA: 0s - loss: 2.6360e-05 - accuracy: 1.0000WARNING:tensorflow:Early stopping conditioned on metric `val_loss` which is not available. Available metrics are: loss,accuracy\n",
      "110164/110164 [==============================] - 7s 59us/sample - loss: 2.6190e-05 - accuracy: 1.0000\n",
      "Epoch 6/10\n",
      "109952/110164 [============================>.] - ETA: 0s - loss: 2.4909e-05 - accuracy: 1.0000WARNING:tensorflow:Early stopping conditioned on metric `val_loss` which is not available. Available metrics are: loss,accuracy\n",
      "110164/110164 [==============================] - 7s 59us/sample - loss: 2.6076e-05 - accuracy: 1.0000\n",
      "Epoch 7/10\n",
      "109440/110164 [============================>.] - ETA: 0s - loss: 2.8886e-05 - accuracy: 1.0000WARNING:tensorflow:Early stopping conditioned on metric `val_loss` which is not available. Available metrics are: loss,accuracy\n",
      "110164/110164 [==============================] - 7s 59us/sample - loss: 2.8711e-05 - accuracy: 1.0000\n",
      "Epoch 8/10\n",
      "110080/110164 [============================>.] - ETA: 0s - loss: 2.5414e-05 - accuracy: 1.0000WARNING:tensorflow:Early stopping conditioned on metric `val_loss` which is not available. Available metrics are: loss,accuracy\n",
      "110164/110164 [==============================] - 7s 59us/sample - loss: 2.5395e-05 - accuracy: 1.0000\n",
      "Epoch 9/10\n",
      "109440/110164 [============================>.] - ETA: 0s - loss: 2.7035e-05 - accuracy: 1.0000WARNING:tensorflow:Early stopping conditioned on metric `val_loss` which is not available. Available metrics are: loss,accuracy\n",
      "110164/110164 [==============================] - 7s 59us/sample - loss: 2.6926e-05 - accuracy: 1.0000\n",
      "Epoch 10/10\n",
      "109440/110164 [============================>.] - ETA: 0s - loss: 3.8279e-05 - accuracy: 1.0000WARNING:tensorflow:Early stopping conditioned on metric `val_loss` which is not available. Available metrics are: loss,accuracy\n",
      "110164/110164 [==============================] - 7s 59us/sample - loss: 3.9934e-05 - accuracy: 1.0000\n"
     ]
    },
    {
     "data": {
      "text/plain": [
       "<tensorflow.python.keras.callbacks.History at 0x208660c9a08>"
      ]
     },
     "execution_count": 11,
     "metadata": {},
     "output_type": "execute_result"
    },
    {
     "name": "stdout",
     "output_type": "stream",
     "text": [
      "accuracy_score 0.9999770220588236\n",
      "recall_score 0.9997840639170805\n",
      "precision_score 0.9982751185855973\n",
      "f1_score 0.9990290214694141\n",
      "Model: \"model_8\"\n",
      "_________________________________________________________________\n",
      "Layer (type)                 Output Shape              Param #   \n",
      "=================================================================\n",
      "input_1 (InputLayer)         [(None, 32, 256)]         0         \n",
      "_________________________________________________________________\n",
      "bidirectional (Bidirectional (None, 32, 96)            117120    \n",
      "_________________________________________________________________\n",
      "time_distributed (TimeDistri (None, 32, 1)             97        \n",
      "=================================================================\n",
      "Total params: 117,217\n",
      "Trainable params: 117,217\n",
      "Non-trainable params: 0\n",
      "_________________________________________________________________\n",
      "======Training stage======\n",
      "Train on 110164 samples\n",
      "Epoch 1/10\n",
      "109440/110164 [============================>.] - ETA: 0s - loss: 4.5548e-05 - accuracy: 1.0000WARNING:tensorflow:Early stopping conditioned on metric `val_loss` which is not available. Available metrics are: loss,accuracy\n",
      "110164/110164 [==============================] - 9s 81us/sample - loss: 4.5267e-05 - accuracy: 1.0000\n",
      "Epoch 2/10\n",
      "109440/110164 [============================>.] - ETA: 0s - loss: 2.8799e-05 - accuracy: 1.0000WARNING:tensorflow:Early stopping conditioned on metric `val_loss` which is not available. Available metrics are: loss,accuracy\n",
      "110164/110164 [==============================] - 6s 59us/sample - loss: 2.8725e-05 - accuracy: 1.0000\n",
      "Epoch 3/10\n",
      "109440/110164 [============================>.] - ETA: 0s - loss: 2.4796e-05 - accuracy: 1.0000WARNING:tensorflow:Early stopping conditioned on metric `val_loss` which is not available. Available metrics are: loss,accuracy\n",
      "110164/110164 [==============================] - 6s 59us/sample - loss: 2.4643e-05 - accuracy: 1.0000\n",
      "Epoch 4/10\n",
      "109440/110164 [============================>.] - ETA: 0s - loss: 2.5569e-05 - accuracy: 1.0000WARNING:tensorflow:Early stopping conditioned on metric `val_loss` which is not available. Available metrics are: loss,accuracy\n",
      "110164/110164 [==============================] - 6s 59us/sample - loss: 2.5435e-05 - accuracy: 1.0000\n",
      "Epoch 5/10\n",
      "109440/110164 [============================>.] - ETA: 0s - loss: 2.6555e-05 - accuracy: 1.0000WARNING:tensorflow:Early stopping conditioned on metric `val_loss` which is not available. Available metrics are: loss,accuracy\n",
      "110164/110164 [==============================] - 6s 59us/sample - loss: 2.6386e-05 - accuracy: 1.0000\n",
      "Epoch 6/10\n",
      "109440/110164 [============================>.] - ETA: 0s - loss: 2.0273e-05 - accuracy: 1.0000WARNING:tensorflow:Early stopping conditioned on metric `val_loss` which is not available. Available metrics are: loss,accuracy\n",
      "110164/110164 [==============================] - 6s 59us/sample - loss: 2.0141e-05 - accuracy: 1.0000\n",
      "Epoch 7/10\n",
      "110080/110164 [============================>.] - ETA: 0s - loss: 3.5836e-05 - accuracy: 1.0000WARNING:tensorflow:Early stopping conditioned on metric `val_loss` which is not available. Available metrics are: loss,accuracy\n",
      "110164/110164 [==============================] - 7s 59us/sample - loss: 3.5808e-05 - accuracy: 1.0000\n",
      "Epoch 8/10\n",
      "109440/110164 [============================>.] - ETA: 0s - loss: 2.4461e-05 - accuracy: 1.0000WARNING:tensorflow:Early stopping conditioned on metric `val_loss` which is not available. Available metrics are: loss,accuracy\n",
      "110164/110164 [==============================] - 7s 60us/sample - loss: 2.4340e-05 - accuracy: 1.0000\n",
      "Epoch 9/10\n",
      "109440/110164 [============================>.] - ETA: 0s - loss: 2.2017e-05 - accuracy: 1.0000WARNING:tensorflow:Early stopping conditioned on metric `val_loss` which is not available. Available metrics are: loss,accuracy\n",
      "110164/110164 [==============================] - 7s 59us/sample - loss: 2.1883e-05 - accuracy: 1.0000\n",
      "Epoch 10/10\n",
      "109440/110164 [============================>.] - ETA: 0s - loss: 1.8980e-05 - accuracy: 1.0000WARNING:tensorflow:Early stopping conditioned on metric `val_loss` which is not available. Available metrics are: loss,accuracy\n",
      "110164/110164 [==============================] - 6s 59us/sample - loss: 1.8858e-05 - accuracy: 1.0000\n"
     ]
    },
    {
     "data": {
      "text/plain": [
       "<tensorflow.python.keras.callbacks.History at 0x2086ad1b2c8>"
      ]
     },
     "execution_count": 11,
     "metadata": {},
     "output_type": "execute_result"
    },
    {
     "name": "stdout",
     "output_type": "stream",
     "text": [
      "accuracy_score 0.9999821282679738\n",
      "recall_score 0.9995773457311918\n",
      "precision_score 0.9989440337909187\n",
      "f1_score 0.9992605894158656\n",
      "Model: \"model_9\"\n",
      "_________________________________________________________________\n",
      "Layer (type)                 Output Shape              Param #   \n",
      "=================================================================\n",
      "input_1 (InputLayer)         [(None, 32, 256)]         0         \n",
      "_________________________________________________________________\n",
      "bidirectional (Bidirectional (None, 32, 96)            117120    \n",
      "_________________________________________________________________\n",
      "time_distributed (TimeDistri (None, 32, 1)             97        \n",
      "=================================================================\n",
      "Total params: 117,217\n",
      "Trainable params: 117,217\n",
      "Non-trainable params: 0\n",
      "_________________________________________________________________\n",
      "======Training stage======\n",
      "Train on 110164 samples\n",
      "Epoch 1/10\n",
      "109312/110164 [============================>.] - ETA: 0s - loss: 3.0551e-05 - accuracy: 1.0000WARNING:tensorflow:Early stopping conditioned on metric `val_loss` which is not available. Available metrics are: loss,accuracy\n",
      "110164/110164 [==============================] - 9s 82us/sample - loss: 3.0399e-05 - accuracy: 1.0000\n",
      "Epoch 2/10\n",
      "109440/110164 [============================>.] - ETA: 0s - loss: 3.2060e-05 - accuracy: 1.0000WARNING:tensorflow:Early stopping conditioned on metric `val_loss` which is not available. Available metrics are: loss,accuracy\n",
      "110164/110164 [==============================] - 6s 59us/sample - loss: 3.1906e-05 - accuracy: 1.0000\n",
      "Epoch 3/10\n",
      "109440/110164 [============================>.] - ETA: 0s - loss: 3.4667e-05 - accuracy: 1.0000WARNING:tensorflow:Early stopping conditioned on metric `val_loss` which is not available. Available metrics are: loss,accuracy\n",
      "110164/110164 [==============================] - 6s 59us/sample - loss: 3.4450e-05 - accuracy: 1.0000\n",
      "Epoch 4/10\n",
      "109440/110164 [============================>.] - ETA: 0s - loss: 2.0748e-05 - accuracy: 1.0000WARNING:tensorflow:Early stopping conditioned on metric `val_loss` which is not available. Available metrics are: loss,accuracy\n",
      "110164/110164 [==============================] - 6s 59us/sample - loss: 2.0620e-05 - accuracy: 1.0000\n",
      "Epoch 5/10\n",
      "110080/110164 [============================>.] - ETA: 0s - loss: 2.2895e-05 - accuracy: 1.0000WARNING:tensorflow:Early stopping conditioned on metric `val_loss` which is not available. Available metrics are: loss,accuracy\n",
      "110164/110164 [==============================] - 7s 59us/sample - loss: 2.2878e-05 - accuracy: 1.0000\n",
      "Epoch 6/10\n",
      "109440/110164 [============================>.] - ETA: 0s - loss: 3.1074e-05 - accuracy: 1.0000WARNING:tensorflow:Early stopping conditioned on metric `val_loss` which is not available. Available metrics are: loss,accuracy\n",
      "110164/110164 [==============================] - 6s 59us/sample - loss: 3.0880e-05 - accuracy: 1.0000\n",
      "Epoch 7/10\n",
      "109440/110164 [============================>.] - ETA: 0s - loss: 2.4062e-05 - accuracy: 1.0000WARNING:tensorflow:Early stopping conditioned on metric `val_loss` which is not available. Available metrics are: loss,accuracy\n",
      "110164/110164 [==============================] - 7s 59us/sample - loss: 2.3906e-05 - accuracy: 1.0000\n",
      "Epoch 8/10\n",
      "109440/110164 [============================>.] - ETA: 0s - loss: 2.3191e-05 - accuracy: 1.0000WARNING:tensorflow:Early stopping conditioned on metric `val_loss` which is not available. Available metrics are: loss,accuracy\n",
      "110164/110164 [==============================] - 7s 59us/sample - loss: 2.3044e-05 - accuracy: 1.0000\n",
      "Epoch 9/10\n",
      "109440/110164 [============================>.] - ETA: 0s - loss: 2.5361e-05 - accuracy: 1.0000WARNING:tensorflow:Early stopping conditioned on metric `val_loss` which is not available. Available metrics are: loss,accuracy\n",
      "110164/110164 [==============================] - 7s 59us/sample - loss: 2.5233e-05 - accuracy: 1.0000\n",
      "Epoch 10/10\n",
      "109568/110164 [============================>.] - ETA: 0s - loss: 2.4546e-05 - accuracy: 1.0000WARNING:tensorflow:Early stopping conditioned on metric `val_loss` which is not available. Available metrics are: loss,accuracy\n",
      "110164/110164 [==============================] - 7s 59us/sample - loss: 2.4414e-05 - accuracy: 1.0000\n"
     ]
    },
    {
     "data": {
      "text/plain": [
       "<tensorflow.python.keras.callbacks.History at 0x2086f1d5988>"
      ]
     },
     "execution_count": 11,
     "metadata": {},
     "output_type": "execute_result"
    },
    {
     "name": "stdout",
     "output_type": "stream",
     "text": [
      "accuracy_score 0.9999923406862745\n",
      "recall_score 0.9997948717948718\n",
      "precision_score 0.9995898277276456\n",
      "f1_score 0.9996923392472568\n",
      "\n",
      "K-fold cross validation Accuracy: [0.9989124663017728, 0.9993924107507557, 0.9995940895351687, 0.999765133567519, 0.9999157475490196, 0.9999591503267974, 0.9999821282679738, 0.9999770220588236, 0.9999821282679738, 0.9999923406862745]\n",
      "\n",
      "K-fold cross validation Recall: [0.9564397905759162, 0.9700949686805416, 0.9872375463153561, 0.9879492145470196, 0.9966237602869804, 0.9991793188346327, 0.9995760915642221, 0.9997840639170805, 0.9995773457311918, 0.9997948717948718]\n",
      "\n",
      "K-fold cross validation Precision: [0.9544409613375131, 0.9815988550398691, 0.9801757612916411, 0.99221958072185, 0.9964135021097047, 0.9975419909873003, 0.9989409023511968, 0.9982751185855973, 0.9989440337909187, 0.9995898277276456]\n",
      "\n",
      "K-fold cross validation F1-Score: [0.955439330543933, 0.9758130081300813, 0.9836939801046046, 0.9900797929695924, 0.9965186201076064, 0.998359983599836, 0.9992583960165272, 0.9990290214694141, 0.9992605894158656, 0.9996923392472568]\n"
     ]
    }
   ],
   "source": [
    "# 교차검증 kfold\n",
    "from sklearn.model_selection import KFold\n",
    "\n",
    "# Accuracy, Precision, Recall, F1-Score\n",
    "from sklearn.metrics import accuracy_score, recall_score, precision_score, f1_score\n",
    "\n",
    "# Confusion Matrix, ROC Curve\n",
    "from sklearn.metrics import confusion_matrix, roc_auc_score\n",
    "\n",
    "# 최종 평가지표들 평균용\n",
    "accuracy, recall, precision, f1score, cm = [], [], [], [], []\n",
    "\n",
    "# 11. 교차검증 kfold - k.split - 10회 / K-Fold 객체 생성\n",
    "# kf = KFold(n_splits=10, shuffle=False, random_state=None) # KFold non shuffle 버전\n",
    "kf = KFold(n_splits=10, shuffle=True, random_state=None) # KFold non shuffle 버전\n",
    "\n",
    "for train, validation in kf.split(x_bc8_2, y_bc8_2):\n",
    "    model1 = models.Model(xInput, xOutput)\n",
    "    model1.compile(loss='binary_crossentropy', optimizer='rmsprop', metrics=['accuracy'])\n",
    "    model1.summary()\n",
    "    print('======Training stage======')\n",
    "    model1.fit(x_bc8_2[train],\n",
    "               y_bc8_2[train],\n",
    "               epochs = 10,\n",
    "               batch_size = 128,\n",
    "               callbacks=[early_stopping])\n",
    "    #k_accuracy = '%.4f' %(model1.evaluate(data_10000x[validation], data_10000y[validation])[1])\n",
    "\n",
    "# 12. 교차검증결과 predict - 검증셋들\n",
    "    # predict 값\n",
    "    k_pr = model1.predict(x_bc8_2[validation])\n",
    "    \n",
    "    # 테스트 predict 결과들 비교 (평가지표 보기위함)\n",
    "    pred = np.round(np.array(k_pr).flatten().tolist())\n",
    "    y_test = np.array(y_bc8_2[validation]).flatten().tolist()\n",
    "    \n",
    "# 13. 평가지표들 출력\n",
    "    ## 평가지표들\n",
    "    k_accuracy = float(accuracy_score(y_test, pred))\n",
    "    k_recall =  float(recall_score(y_test, pred))\n",
    "    k_precision = float(precision_score(y_test, pred))\n",
    "    k_f1_score = float(f1_score(y_test, pred))\n",
    "    #k_cm = float(confusion_matrix(y_test, pred))\n",
    "    \n",
    "    print('accuracy_score', k_accuracy)\n",
    "    print('recall_score', k_recall)\n",
    "    print('precision_score', k_precision)\n",
    "    print('f1_score', k_f1_score)\n",
    "    #print('\\nconfusion_matrix\\n', k_cm)\n",
    "\n",
    "    accuracy.append(k_accuracy)\n",
    "    recall.append(k_recall)\n",
    "    precision.append(k_precision)\n",
    "    f1score.append(k_f1_score)\n",
    "    #cm.append(k_cm)\n",
    "#    print('roc_curve 면적', roc_auc_score(y_test, pred))\n",
    "\n",
    "# 최종 결과지표\n",
    "print('\\nK-fold cross validation Accuracy: {}'.format(accuracy))\n",
    "print('\\nK-fold cross validation Recall: {}'.format(recall))\n",
    "print('\\nK-fold cross validation Precision: {}'.format(precision))\n",
    "print('\\nK-fold cross validation F1-Score: {}'.format(f1score))\n",
    "#print('\\nK-fold cross validation ConfusionMatrix: {}'.format(cm))"
   ]
  },
  {
   "cell_type": "markdown",
   "metadata": {},
   "source": [
    "## (9) 평가지표"
   ]
  },
  {
   "cell_type": "code",
   "execution_count": 12,
   "metadata": {},
   "outputs": [
    {
     "name": "stdout",
     "output_type": "stream",
     "text": [
      "10-Fold Cross_validation. Accuracy : 0.9997472617312079\n",
      "10-Fold Cross_validation. Recall : 0.9896256972247814\n",
      "10-Fold Cross_validation. Precision : 0.9898140533943236\n",
      "10-Fold Cross_validation. F1-Score : 0.9897145061604717\n"
     ]
    }
   ],
   "source": [
    "print('10-Fold Cross_validation. Accuracy :', np.mean(accuracy))\n",
    "print('10-Fold Cross_validation. Recall :', np.mean(recall))\n",
    "print('10-Fold Cross_validation. Precision :', np.mean(precision))\n",
    "print('10-Fold Cross_validation. F1-Score :', np.mean(f1score))"
   ]
  },
  {
   "cell_type": "code",
   "execution_count": 13,
   "metadata": {},
   "outputs": [
    {
     "name": "stdout",
     "output_type": "stream",
     "text": [
      "save 완료\n"
     ]
    }
   ],
   "source": [
    "model1.save('gcc8_bin_core_s32_h48_o2.h5')\n",
    "print('save 완료')"
   ]
  }
 ],
 "metadata": {
  "kernelspec": {
   "display_name": "Python 3",
   "language": "python",
   "name": "python3"
  },
  "language_info": {
   "codemirror_mode": {
    "name": "ipython",
    "version": 3
   },
   "file_extension": ".py",
   "mimetype": "text/x-python",
   "name": "python",
   "nbconvert_exporter": "python",
   "pygments_lexer": "ipython3",
   "version": "3.7.7"
  }
 },
 "nbformat": 4,
 "nbformat_minor": 4
}
