{
 "cells": [
  {
   "cell_type": "markdown",
   "metadata": {},
   "source": [
    "## RNN 모델 N-Byte 방식 (함수정보 포함 vs 미포함 => 1:1 비율)\n",
    "\n",
    "## (1) 데이터로드"
   ]
  },
  {
   "cell_type": "code",
   "execution_count": 5,
   "metadata": {},
   "outputs": [
    {
     "name": "stdout",
     "output_type": "stream",
     "text": [
      "(22459287, 2) (7651934, 2)\n",
      "bin - core concat\n",
      "shape - (30111221, 2)\n",
      "reset_index 완료\n",
      "input data shape\n"
     ]
    },
    {
     "data": {
      "text/html": [
       "<div>\n",
       "<style scoped>\n",
       "    .dataframe tbody tr th:only-of-type {\n",
       "        vertical-align: middle;\n",
       "    }\n",
       "\n",
       "    .dataframe tbody tr th {\n",
       "        vertical-align: top;\n",
       "    }\n",
       "\n",
       "    .dataframe thead th {\n",
       "        text-align: right;\n",
       "    }\n",
       "</style>\n",
       "<table border=\"1\" class=\"dataframe\">\n",
       "  <thead>\n",
       "    <tr style=\"text-align: right;\">\n",
       "      <th></th>\n",
       "      <th>bin</th>\n",
       "      <th>label</th>\n",
       "    </tr>\n",
       "  </thead>\n",
       "  <tbody>\n",
       "    <tr>\n",
       "      <th>0</th>\n",
       "      <td>47</td>\n",
       "      <td>0</td>\n",
       "    </tr>\n",
       "    <tr>\n",
       "      <th>1</th>\n",
       "      <td>108</td>\n",
       "      <td>0</td>\n",
       "    </tr>\n",
       "    <tr>\n",
       "      <th>2</th>\n",
       "      <td>105</td>\n",
       "      <td>0</td>\n",
       "    </tr>\n",
       "    <tr>\n",
       "      <th>3</th>\n",
       "      <td>98</td>\n",
       "      <td>0</td>\n",
       "    </tr>\n",
       "    <tr>\n",
       "      <th>4</th>\n",
       "      <td>47</td>\n",
       "      <td>0</td>\n",
       "    </tr>\n",
       "  </tbody>\n",
       "</table>\n",
       "</div>"
      ],
      "text/plain": [
       "   bin  label\n",
       "0   47      0\n",
       "1  108      0\n",
       "2  105      0\n",
       "3   98      0\n",
       "4   47      0"
      ]
     },
     "execution_count": 5,
     "metadata": {},
     "output_type": "execute_result"
    }
   ],
   "source": [
    "# (1) 데이터로드\n",
    "import pandas as pd\n",
    "import numpy as np\n",
    "\n",
    "import warnings\n",
    "warnings.filterwarnings(action='ignore')\n",
    "\n",
    "# 여러개 쳐도 나오게\n",
    "from IPython.core.interactiveshell import InteractiveShell\n",
    "InteractiveShell.ast_node_interactivity = \"all\"\n",
    "\n",
    "# 파일읽기\n",
    "bin8_0 = pd.read_csv(\"../data/gcc8/o0123합본/o0/o0_gcc8.csv\", index_col=0)\n",
    "core8_0 = pd.read_csv(\"../data/gcc8/o0123합본/o0/o0_core8.csv\", index_col=0)\n",
    "print(bin8_0.shape, core8_0.shape)\n",
    "\n",
    "# reset_index (hex processing 하면서 값이 빠졌으니까 + n_gram 에서 index를 다루기 때문에)\n",
    "bin8_0.reset_index(inplace=True, drop=True)\n",
    "core8_0.reset_index(inplace=True, drop=True)\n",
    "\n",
    "print('bin - core concat')\n",
    "bin8_0 = pd.concat([bin8_0, core8_0], axis=0)\n",
    "print('shape -', bin8_0.shape)\n",
    "print('reset_index 완료')\n",
    "print('input data shape')\n",
    "bin8_0.head()"
   ]
  },
  {
   "cell_type": "code",
   "execution_count": 6,
   "metadata": {},
   "outputs": [
    {
     "name": "stdout",
     "output_type": "stream",
     "text": [
      "256\n",
      "0    30060985\n",
      "1       50236\n",
      "Name: label, dtype: int64\n"
     ]
    }
   ],
   "source": [
    "# (2-1) 데이터체크 1 - hex(16진수)가 256 label을 가져야 dummies 변환 가능 \n",
    "# 16진수 256개 종류가 있어서 pd.get_dummies 사용 가능.\n",
    "print(len(bin8_0['bin'].unique()))\n",
    "\n",
    "# (2-2) 데이터 체크 2 - 1, 0 비율 ==> 1이 함수의 갯수를 뜻함\n",
    "# 정답 데이터 1, 0 비율 확인  ==> 1이 함수의 갯수를 뜻함\n",
    "print(bin8_0['label'].value_counts())"
   ]
  },
  {
   "cell_type": "markdown",
   "metadata": {},
   "source": [
    "## (3) N Byte씩 자르기"
   ]
  },
  {
   "cell_type": "code",
   "execution_count": 8,
   "metadata": {},
   "outputs": [
    {
     "name": "stdout",
     "output_type": "stream",
     "text": [
      "1607552\n",
      "나머지 0\n",
      "최종 길이 1607552\n",
      "bin8_0 1607552\n"
     ]
    }
   ],
   "source": [
    "idx_bin = bin8_0[bin8_0['label']==1].index  # 407, 474 ...\n",
    "ls_bin = list(idx_bin)\n",
    "\n",
    "# 최종 뽑을 행에 대한 index\n",
    "ls_idx_bin = []\n",
    "\n",
    "# n byte 자르기 방식\n",
    "left_idx, right_idx = 0, 32 # 3개씩\n",
    "\n",
    "# n byte 자르기\n",
    "for k in range(left_idx, right_idx):\n",
    "    ls_idx_bin.extend(list(idx_bin + k)) # index 형이라서 가능\n",
    "\n",
    "#ls_idx = list(set(ls_idx)) \n",
    "ls_idx_bin.sort() # 인덱스 정렬\n",
    "\n",
    "# 1차 index 해당범위 초과한 것들 없애기\n",
    "ls_idx_bin = list(filter(lambda x: x<len(bin8_0), ls_idx_bin))\n",
    "print(len(ls_idx_bin))\n",
    "\n",
    "# 2차 남은 index들 중 right_idx 나눈 나머지 없애기\n",
    "sub_bin = len(ls_idx_bin)%(right_idx)\n",
    "print('나머지', sub_bin)\n",
    "\n",
    "ls_idx_bin = ls_idx_bin[:len(ls_idx_bin)-sub_bin]\n",
    "print('최종 길이', len(ls_idx_bin))\n",
    "\n",
    "print('bin8_0', len(ls_idx_bin))\n",
    "\n",
    "# loc 로 수정필요\n",
    "bin8_0_Ngram = bin8_0.loc[ls_idx_bin,:].copy()"
   ]
  },
  {
   "cell_type": "markdown",
   "metadata": {},
   "source": [
    "## (4) false data 만들기"
   ]
  },
  {
   "cell_type": "code",
   "execution_count": 9,
   "metadata": {},
   "outputs": [
    {
     "name": "stdout",
     "output_type": "stream",
     "text": [
      "79730.0\n",
      "0 5641357\n",
      "1000 20617765\n",
      "2000 3135837\n",
      "3000 296860\n",
      "4000 6991429\n",
      "5000 3321161\n",
      "6000 16696849\n",
      "7000 11277614\n",
      "8000 19343386\n",
      "9000 3540677\n",
      "10000 5987687\n",
      "11000 19196370\n",
      "12000 4417180\n",
      "13000 30053811\n",
      "14000 13704746\n",
      "15000 29541214\n",
      "16000 2507364\n",
      "17000 20060781\n",
      "18000 2566294\n",
      "19000 20765284\n",
      "20000 5954604\n",
      "21000 11556967\n",
      "22000 5699246\n",
      "23000 25996872\n",
      "24000 22175628\n",
      "25000 91623\n",
      "26000 19856690\n",
      "27000 29734071\n",
      "28000 22428227\n",
      "29000 28230694\n",
      "30000 6566694\n",
      "31000 29705924\n",
      "32000 25450380\n",
      "33000 10923060\n",
      "34000 3185192\n",
      "35000 22576347\n",
      "36000 17372758\n",
      "37000 22984726\n",
      "38000 5417476\n",
      "39000 27536697\n",
      "40000 4207880\n",
      "41000 21251463\n",
      "42000 1906844\n",
      "43000 26063241\n",
      "44000 15901862\n",
      "45000 22789383\n",
      "46000 29879886\n",
      "47000 10332272\n",
      "48000 13366881\n",
      "49000 18588849\n",
      "50000 11726448\n",
      "51000 22865145\n",
      "52000 1587284\n",
      "53000 23536007\n",
      "54000 14844321\n",
      "55000 8737843\n",
      "56000 27997288\n",
      "57000 7765528\n",
      "58000 28311167\n",
      "59000 8519618\n",
      "60000 20269516\n",
      "61000 27450386\n",
      "62000 12592714\n",
      "63000 24232252\n",
      "64000 12950\n",
      "65000 25134962\n",
      "66000 20969053\n",
      "67000 21602444\n",
      "68000 1729012\n",
      "69000 26584638\n",
      "70000 7741203\n",
      "71000 16779760\n",
      "72000 16005361\n",
      "73000 27373131\n",
      "74000 24577761\n",
      "75000 612306\n",
      "76000 12052503\n",
      "77000 2064748\n",
      "78000 29405247\n",
      "79000 16942024\n",
      "완료\n",
      "79730\n"
     ]
    }
   ],
   "source": [
    "# false data 만들기 - False 데이터 랜덤 생성\n",
    "\n",
    "# 목표치\n",
    "goal_bin = len(bin8_0_Ngram)/right_idx\n",
    "count_bin = 0\n",
    "\n",
    "print(goal_bin)\n",
    "\n",
    "# 최종 데이터 Frame\n",
    "d_bin = pd.DataFrame(columns = bin8_0.columns)\n",
    "\n",
    "binutils_df = []\n",
    "# goal 에 도달할 때까지\n",
    "while True:\n",
    "    if (count_bin == goal_bin):\n",
    "            break\n",
    "    # 진행상황 살펴보기 위함\n",
    "            \n",
    "    # 랜덤 N 바이트씩 뽑음\n",
    "    # random index\n",
    "    random_idx_bin = np.random.randint(len(bin8_0)-right_idx)\n",
    "\n",
    "    if count_bin % 1000==0:\n",
    "        print(count_bin, end=' ')\n",
    "        print(random_idx_bin)\n",
    "\n",
    "    df_bin = bin8_0[random_idx_bin : random_idx_bin + right_idx]\n",
    "    \n",
    "    # 뽑은 index의 N 바이트 중에 1이 없는 경우만\n",
    "    if 1 not in df_bin['label'] and count_bin < goal_bin:\n",
    "        binutils_df.append(df_bin)\n",
    "        count_bin+=1\n",
    "\n",
    "print('완료')\n",
    "print(len(binutils_df))"
   ]
  },
  {
   "cell_type": "code",
   "execution_count": 10,
   "metadata": {},
   "outputs": [
    {
     "name": "stdout",
     "output_type": "stream",
     "text": [
      "79730\n",
      "50236\n"
     ]
    }
   ],
   "source": [
    "# True data와 False Data 같은지 체크\n",
    "print(len(binutils_df))\n",
    "print(bin8_0['label'].value_counts()[1])"
   ]
  },
  {
   "cell_type": "markdown",
   "metadata": {},
   "source": [
    "## (5) False Data + True Data 합치기"
   ]
  },
  {
   "cell_type": "code",
   "execution_count": 11,
   "metadata": {},
   "outputs": [
    {
     "data": {
      "text/plain": [
       "(5102720, 2)"
      ]
     },
     "execution_count": 11,
     "metadata": {},
     "output_type": "execute_result"
    }
   ],
   "source": [
    "f_data = pd.concat(binutils_df)\n",
    "final = pd.concat([f_data, bin8_0_Ngram])\n",
    "final.shape"
   ]
  },
  {
   "cell_type": "markdown",
   "metadata": {},
   "source": [
    "## (6) one hot encoding"
   ]
  },
  {
   "cell_type": "code",
   "execution_count": 12,
   "metadata": {},
   "outputs": [
    {
     "name": "stdout",
     "output_type": "stream",
     "text": [
      "원핫인코딩완료\n",
      "(5102720, 257)\n"
     ]
    }
   ],
   "source": [
    "# 훈련데이터 (gcc 최적화버전 0, 1, 2, 3 one hot encoding)\n",
    "bc8_0_onehot_Ngram = pd.get_dummies(final['bin'])\n",
    "bc8_0_onehot_Ngram = pd.concat([final['label'], bc8_0_onehot_Ngram], axis=1)\n",
    "\n",
    "print('원핫인코딩완료')\n",
    "print(bc8_0_onehot_Ngram.shape)"
   ]
  },
  {
   "cell_type": "code",
   "execution_count": 13,
   "metadata": {},
   "outputs": [
    {
     "name": "stdout",
     "output_type": "stream",
     "text": [
      "(5102720, 256) (5102720, 256)\n",
      "(159460, 32, 256) (159460, 32, 1)\n"
     ]
    }
   ],
   "source": [
    "# 훈련 데이터, 훈련 라벨\n",
    "x_bc8_0 = bc8_0_onehot_Ngram.iloc[:,1:].to_numpy()\n",
    "y_bc8_0 = bc8_0_onehot_Ngram['label'].to_numpy()\n",
    "print(x_bc8_0.shape, x_bc8_0.shape)\n",
    "\n",
    "x_bc8_0 = x_bc8_0.reshape(-1, right_idx, x_bc8_0.shape[1])\n",
    "y_bc8_0 = y_bc8_0.reshape(-1, right_idx, 1)\n",
    "\n",
    "print(x_bc8_0.shape, y_bc8_0.shape)"
   ]
  },
  {
   "cell_type": "code",
   "execution_count": 14,
   "metadata": {},
   "outputs": [
    {
     "name": "stdout",
     "output_type": "stream",
     "text": [
      "(159460, 32, 256) (159460, 32, 1)\n"
     ]
    }
   ],
   "source": [
    "# numpy 행, 열 섞기\n",
    "p = np.random.permutation(x_bc8_0.shape[0])\n",
    "\n",
    "x_bc8_0 = x_bc8_0[p]\n",
    "y_bc8_0 = y_bc8_0[p]\n",
    "\n",
    "print(x_bc8_0.shape, y_bc8_0.shape)"
   ]
  },
  {
   "cell_type": "markdown",
   "metadata": {},
   "source": [
    "## (7) 모델"
   ]
  },
  {
   "cell_type": "code",
   "execution_count": 15,
   "metadata": {},
   "outputs": [],
   "source": [
    "# (10) 양방향 LSTM 모델링 작업\n",
    "from tensorflow.keras import layers, models\n",
    "#from tf.keras.models import Model, Sequential\n",
    "#from tf.keras.layers import SimpleRNN, Input, Dense, LSTM\n",
    "#from tf.keras.layers import Bidirectional, TimeDistributed\n",
    "\n",
    "# 학습\n",
    "from tensorflow.keras.callbacks import EarlyStopping\n",
    "early_stopping = EarlyStopping(patience = 3) # 조기종료 콜백함수 정의\n",
    "\n",
    "xInput = layers.Input(batch_shape=(None,right_idx, 256)) \n",
    "xBiLstm = layers.Bidirectional(layers.LSTM(48, return_sequences=True, stateful=False), merge_mode = 'concat')(xInput)\n",
    "xOutput = layers.TimeDistributed(layers.Dense(1, activation ='sigmoid'))(xBiLstm) # 각 스텝에서 cost가 전송되고, 오류가 다음 step으로 전송됨."
   ]
  },
  {
   "cell_type": "markdown",
   "metadata": {},
   "source": [
    "## (8) 학습 - 10 KFold"
   ]
  },
  {
   "cell_type": "code",
   "execution_count": 16,
   "metadata": {
    "scrolled": false
   },
   "outputs": [
    {
     "name": "stdout",
     "output_type": "stream",
     "text": [
      "Model: \"model\"\n",
      "_________________________________________________________________\n",
      "Layer (type)                 Output Shape              Param #   \n",
      "=================================================================\n",
      "input_1 (InputLayer)         [(None, 32, 256)]         0         \n",
      "_________________________________________________________________\n",
      "bidirectional (Bidirectional (None, 32, 96)            117120    \n",
      "_________________________________________________________________\n",
      "time_distributed (TimeDistri (None, 32, 1)             97        \n",
      "=================================================================\n",
      "Total params: 117,217\n",
      "Trainable params: 117,217\n",
      "Non-trainable params: 0\n",
      "_________________________________________________________________\n",
      "======Training stage======\n",
      "Train on 143514 samples\n",
      "Epoch 1/10\n",
      "143232/143514 [============================>.] - ETA: 0s - loss: 0.0128 - accuracy: 0.9970WARNING:tensorflow:Early stopping conditioned on metric `val_loss` which is not available. Available metrics are: loss,accuracy\n",
      "143514/143514 [==============================] - 20s 137us/sample - loss: 0.0128 - accuracy: 0.9970\n",
      "Epoch 2/10\n",
      "143488/143514 [============================>.] - ETA: 0s - loss: 7.0217e-04 - accuracy: 0.9998WARNING:tensorflow:Early stopping conditioned on metric `val_loss` which is not available. Available metrics are: loss,accuracy\n",
      "143514/143514 [==============================] - 9s 59us/sample - loss: 7.0204e-04 - accuracy: 0.9998\n",
      "Epoch 3/10\n",
      "143232/143514 [============================>.] - ETA: 0s - loss: 4.8260e-04 - accuracy: 0.9999WARNING:tensorflow:Early stopping conditioned on metric `val_loss` which is not available. Available metrics are: loss,accuracy\n",
      "143514/143514 [==============================] - 9s 61us/sample - loss: 4.8180e-04 - accuracy: 0.9999\n",
      "Epoch 4/10\n",
      "143488/143514 [============================>.] - ETA: 0s - loss: 3.7406e-04 - accuracy: 0.9999WARNING:tensorflow:Early stopping conditioned on metric `val_loss` which is not available. Available metrics are: loss,accuracy\n",
      "143514/143514 [==============================] - 9s 60us/sample - loss: 3.7400e-04 - accuracy: 0.9999\n",
      "Epoch 5/10\n",
      "143488/143514 [============================>.] - ETA: 0s - loss: 3.0801e-04 - accuracy: 0.9999WARNING:tensorflow:Early stopping conditioned on metric `val_loss` which is not available. Available metrics are: loss,accuracy\n",
      "143514/143514 [==============================] - 9s 60us/sample - loss: 3.0898e-04 - accuracy: 0.9999\n",
      "Epoch 6/10\n",
      "143488/143514 [============================>.] - ETA: 0s - loss: 2.7523e-04 - accuracy: 0.9999WARNING:tensorflow:Early stopping conditioned on metric `val_loss` which is not available. Available metrics are: loss,accuracy\n",
      "143514/143514 [==============================] - 9s 60us/sample - loss: 2.7519e-04 - accuracy: 0.9999\n",
      "Epoch 7/10\n",
      "143232/143514 [============================>.] - ETA: 0s - loss: 2.5168e-04 - accuracy: 0.9999WARNING:tensorflow:Early stopping conditioned on metric `val_loss` which is not available. Available metrics are: loss,accuracy\n",
      "143514/143514 [==============================] - 9s 60us/sample - loss: 2.5124e-04 - accuracy: 0.9999\n",
      "Epoch 8/10\n",
      "143488/143514 [============================>.] - ETA: 0s - loss: 2.2515e-04 - accuracy: 0.9999WARNING:tensorflow:Early stopping conditioned on metric `val_loss` which is not available. Available metrics are: loss,accuracy\n",
      "143514/143514 [==============================] - 9s 60us/sample - loss: 2.2512e-04 - accuracy: 0.9999\n",
      "Epoch 9/10\n",
      "143488/143514 [============================>.] - ETA: 0s - loss: 2.0297e-04 - accuracy: 0.9999WARNING:tensorflow:Early stopping conditioned on metric `val_loss` which is not available. Available metrics are: loss,accuracy\n",
      "143514/143514 [==============================] - 9s 60us/sample - loss: 2.0294e-04 - accuracy: 0.9999\n",
      "Epoch 10/10\n",
      "143488/143514 [============================>.] - ETA: 0s - loss: 1.9745e-04 - accuracy: 0.9999WARNING:tensorflow:Early stopping conditioned on metric `val_loss` which is not available. Available metrics are: loss,accuracy\n",
      "143514/143514 [==============================] - 9s 60us/sample - loss: 1.9741e-04 - accuracy: 0.9999\n"
     ]
    },
    {
     "data": {
      "text/plain": [
       "<tensorflow.python.keras.callbacks.History at 0x1d8cafd7c88>"
      ]
     },
     "execution_count": 16,
     "metadata": {},
     "output_type": "execute_result"
    },
    {
     "name": "stdout",
     "output_type": "stream",
     "text": [
      "accuracy_score 0.9999392480872946\n",
      "recall_score 0.9982864976010967\n",
      "precision_score 0.9964084145715751\n",
      "f1_score 0.9973465719421382\n",
      "Model: \"model_1\"\n",
      "_________________________________________________________________\n",
      "Layer (type)                 Output Shape              Param #   \n",
      "=================================================================\n",
      "input_1 (InputLayer)         [(None, 32, 256)]         0         \n",
      "_________________________________________________________________\n",
      "bidirectional (Bidirectional (None, 32, 96)            117120    \n",
      "_________________________________________________________________\n",
      "time_distributed (TimeDistri (None, 32, 1)             97        \n",
      "=================================================================\n",
      "Total params: 117,217\n",
      "Trainable params: 117,217\n",
      "Non-trainable params: 0\n",
      "_________________________________________________________________\n",
      "======Training stage======\n",
      "Train on 143514 samples\n",
      "Epoch 1/10\n",
      "143488/143514 [============================>.] - ETA: 0s - loss: 1.8435e-04 - accuracy: 0.9999WARNING:tensorflow:Early stopping conditioned on metric `val_loss` which is not available. Available metrics are: loss,accuracy\n",
      "143514/143514 [==============================] - 16s 110us/sample - loss: 1.8432e-04 - accuracy: 0.9999\n",
      "Epoch 2/10\n",
      "143488/143514 [============================>.] - ETA: 0s - loss: 1.6743e-04 - accuracy: 1.0000WARNING:tensorflow:Early stopping conditioned on metric `val_loss` which is not available. Available metrics are: loss,accuracy\n",
      "143514/143514 [==============================] - 9s 60us/sample - loss: 1.6740e-04 - accuracy: 1.0000\n",
      "Epoch 3/10\n",
      "143488/143514 [============================>.] - ETA: 0s - loss: 1.5366e-04 - accuracy: 1.0000WARNING:tensorflow:Early stopping conditioned on metric `val_loss` which is not available. Available metrics are: loss,accuracy\n",
      "143514/143514 [==============================] - 9s 60us/sample - loss: 1.5363e-04 - accuracy: 1.0000\n",
      "Epoch 4/10\n",
      "143488/143514 [============================>.] - ETA: 0s - loss: 1.4155e-04 - accuracy: 1.0000WARNING:tensorflow:Early stopping conditioned on metric `val_loss` which is not available. Available metrics are: loss,accuracy\n",
      "143514/143514 [==============================] - 9s 60us/sample - loss: 1.4153e-04 - accuracy: 1.0000\n",
      "Epoch 5/10\n",
      "143488/143514 [============================>.] - ETA: 0s - loss: 1.2795e-04 - accuracy: 1.0000WARNING:tensorflow:Early stopping conditioned on metric `val_loss` which is not available. Available metrics are: loss,accuracy\n",
      "143514/143514 [==============================] - 9s 60us/sample - loss: 1.2793e-04 - accuracy: 1.0000\n",
      "Epoch 6/10\n",
      "143488/143514 [============================>.] - ETA: 0s - loss: 1.3288e-04 - accuracy: 1.0000WARNING:tensorflow:Early stopping conditioned on metric `val_loss` which is not available. Available metrics are: loss,accuracy\n",
      "143514/143514 [==============================] - 9s 60us/sample - loss: 1.3285e-04 - accuracy: 1.0000\n",
      "Epoch 7/10\n",
      "143232/143514 [============================>.] - ETA: 0s - loss: 1.2174e-04 - accuracy: 1.0000WARNING:tensorflow:Early stopping conditioned on metric `val_loss` which is not available. Available metrics are: loss,accuracy\n",
      "143514/143514 [==============================] - 9s 61us/sample - loss: 1.2167e-04 - accuracy: 1.0000\n",
      "Epoch 8/10\n",
      "143488/143514 [============================>.] - ETA: 0s - loss: 9.9272e-05 - accuracy: 1.0000WARNING:tensorflow:Early stopping conditioned on metric `val_loss` which is not available. Available metrics are: loss,accuracy\n",
      "143514/143514 [==============================] - 9s 60us/sample - loss: 9.9254e-05 - accuracy: 1.0000\n",
      "Epoch 9/10\n",
      "143488/143514 [============================>.] - ETA: 0s - loss: 1.0755e-04 - accuracy: 1.0000WARNING:tensorflow:Early stopping conditioned on metric `val_loss` which is not available. Available metrics are: loss,accuracy\n",
      "143514/143514 [==============================] - 9s 60us/sample - loss: 1.0753e-04 - accuracy: 1.0000\n",
      "Epoch 10/10\n",
      "143488/143514 [============================>.] - ETA: 0s - loss: 8.8164e-05 - accuracy: 1.0000WARNING:tensorflow:Early stopping conditioned on metric `val_loss` which is not available. Available metrics are: loss,accuracy\n",
      "143514/143514 [==============================] - 9s 60us/sample - loss: 8.8149e-05 - accuracy: 1.0000\n"
     ]
    },
    {
     "data": {
      "text/plain": [
       "<tensorflow.python.keras.callbacks.History at 0x1d88def0e48>"
      ]
     },
     "execution_count": 16,
     "metadata": {},
     "output_type": "execute_result"
    },
    {
     "name": "stdout",
     "output_type": "stream",
     "text": [
      "accuracy_score 0.9999470870437728\n",
      "recall_score 0.9986089375760737\n",
      "precision_score 0.9967025338424158\n",
      "f1_score 0.9976548249804568\n",
      "Model: \"model_2\"\n",
      "_________________________________________________________________\n",
      "Layer (type)                 Output Shape              Param #   \n",
      "=================================================================\n",
      "input_1 (InputLayer)         [(None, 32, 256)]         0         \n",
      "_________________________________________________________________\n",
      "bidirectional (Bidirectional (None, 32, 96)            117120    \n",
      "_________________________________________________________________\n",
      "time_distributed (TimeDistri (None, 32, 1)             97        \n",
      "=================================================================\n",
      "Total params: 117,217\n",
      "Trainable params: 117,217\n",
      "Non-trainable params: 0\n",
      "_________________________________________________________________\n",
      "======Training stage======\n",
      "Train on 143514 samples\n",
      "Epoch 1/10\n",
      "143488/143514 [============================>.] - ETA: 0s - loss: 1.1811e-04 - accuracy: 1.0000WARNING:tensorflow:Early stopping conditioned on metric `val_loss` which is not available. Available metrics are: loss,accuracy\n",
      "143514/143514 [==============================] - 15s 102us/sample - loss: 1.1810e-04 - accuracy: 1.0000\n",
      "Epoch 2/10\n",
      "143360/143514 [============================>.] - ETA: 0s - loss: 9.3741e-05 - accuracy: 1.0000WARNING:tensorflow:Early stopping conditioned on metric `val_loss` which is not available. Available metrics are: loss,accuracy\n",
      "143514/143514 [==============================] - 9s 60us/sample - loss: 9.3682e-05 - accuracy: 1.0000\n",
      "Epoch 3/10\n",
      "143488/143514 [============================>.] - ETA: 0s - loss: 8.4459e-05 - accuracy: 1.0000WARNING:tensorflow:Early stopping conditioned on metric `val_loss` which is not available. Available metrics are: loss,accuracy\n",
      "143514/143514 [==============================] - 9s 60us/sample - loss: 8.4444e-05 - accuracy: 1.0000\n",
      "Epoch 4/10\n",
      "143488/143514 [============================>.] - ETA: 0s - loss: 7.7396e-05 - accuracy: 1.0000WARNING:tensorflow:Early stopping conditioned on metric `val_loss` which is not available. Available metrics are: loss,accuracy\n",
      "143514/143514 [==============================] - 9s 60us/sample - loss: 7.7382e-05 - accuracy: 1.0000\n",
      "Epoch 5/10\n",
      "143360/143514 [============================>.] - ETA: 0s - loss: 7.5410e-05 - accuracy: 1.0000WARNING:tensorflow:Early stopping conditioned on metric `val_loss` which is not available. Available metrics are: loss,accuracy\n",
      "143514/143514 [==============================] - 9s 60us/sample - loss: 7.5331e-05 - accuracy: 1.0000\n",
      "Epoch 6/10\n",
      "143488/143514 [============================>.] - ETA: 0s - loss: 6.5681e-05 - accuracy: 1.0000WARNING:tensorflow:Early stopping conditioned on metric `val_loss` which is not available. Available metrics are: loss,accuracy\n",
      "143514/143514 [==============================] - 9s 60us/sample - loss: 6.5669e-05 - accuracy: 1.0000\n",
      "Epoch 7/10\n",
      "143488/143514 [============================>.] - ETA: 0s - loss: 5.9419e-05 - accuracy: 1.0000WARNING:tensorflow:Early stopping conditioned on metric `val_loss` which is not available. Available metrics are: loss,accuracy\n",
      "143514/143514 [==============================] - 9s 60us/sample - loss: 5.9409e-05 - accuracy: 1.0000\n",
      "Epoch 8/10\n",
      "143488/143514 [============================>.] - ETA: 0s - loss: 6.1313e-05 - accuracy: 1.0000WARNING:tensorflow:Early stopping conditioned on metric `val_loss` which is not available. Available metrics are: loss,accuracy\n",
      "143514/143514 [==============================] - 9s 60us/sample - loss: 6.1302e-05 - accuracy: 1.0000\n",
      "Epoch 9/10\n",
      "143488/143514 [============================>.] - ETA: 0s - loss: 6.0296e-05 - accuracy: 1.0000WARNING:tensorflow:Early stopping conditioned on metric `val_loss` which is not available. Available metrics are: loss,accuracy\n",
      "143514/143514 [==============================] - 9s 60us/sample - loss: 6.0285e-05 - accuracy: 1.0000\n",
      "Epoch 10/10\n",
      "143488/143514 [============================>.] - ETA: 0s - loss: 4.1924e-05 - accuracy: 1.0000WARNING:tensorflow:Early stopping conditioned on metric `val_loss` which is not available. Available metrics are: loss,accuracy\n",
      "143514/143514 [==============================] - 9s 60us/sample - loss: 4.1917e-05 - accuracy: 1.0000\n"
     ]
    },
    {
     "data": {
      "text/plain": [
       "<tensorflow.python.keras.callbacks.History at 0x1d88dcece08>"
      ]
     },
     "execution_count": 16,
     "metadata": {},
     "output_type": "execute_result"
    },
    {
     "name": "stdout",
     "output_type": "stream",
     "text": [
      "accuracy_score 0.9999686441740876\n",
      "recall_score 0.9979825151311366\n",
      "precision_score 0.9993265993265993\n",
      "f1_score 0.9986541049798117\n",
      "Model: \"model_3\"\n",
      "_________________________________________________________________\n",
      "Layer (type)                 Output Shape              Param #   \n",
      "=================================================================\n",
      "input_1 (InputLayer)         [(None, 32, 256)]         0         \n",
      "_________________________________________________________________\n",
      "bidirectional (Bidirectional (None, 32, 96)            117120    \n",
      "_________________________________________________________________\n",
      "time_distributed (TimeDistri (None, 32, 1)             97        \n",
      "=================================================================\n",
      "Total params: 117,217\n",
      "Trainable params: 117,217\n",
      "Non-trainable params: 0\n",
      "_________________________________________________________________\n",
      "======Training stage======\n",
      "Train on 143514 samples\n",
      "Epoch 1/10\n",
      "143488/143514 [============================>.] - ETA: 0s - loss: 6.3637e-05 - accuracy: 1.0000WARNING:tensorflow:Early stopping conditioned on metric `val_loss` which is not available. Available metrics are: loss,accuracy\n",
      "143514/143514 [==============================] - 15s 102us/sample - loss: 6.3626e-05 - accuracy: 1.0000\n",
      "Epoch 2/10\n",
      "143104/143514 [============================>.] - ETA: 0s - loss: 4.9017e-05 - accuracy: 1.0000WARNING:tensorflow:Early stopping conditioned on metric `val_loss` which is not available. Available metrics are: loss,accuracy\n",
      "143514/143514 [==============================] - 9s 61us/sample - loss: 4.8891e-05 - accuracy: 1.0000\n",
      "Epoch 3/10\n",
      "142720/143514 [============================>.] - ETA: 0s - loss: 4.2087e-05 - accuracy: 1.0000WARNING:tensorflow:Early stopping conditioned on metric `val_loss` which is not available. Available metrics are: loss,accuracy\n",
      "143514/143514 [==============================] - 9s 62us/sample - loss: 4.1895e-05 - accuracy: 1.0000\n",
      "Epoch 4/10\n",
      "143488/143514 [============================>.] - ETA: 0s - loss: 3.8737e-05 - accuracy: 1.0000WARNING:tensorflow:Early stopping conditioned on metric `val_loss` which is not available. Available metrics are: loss,accuracy\n",
      "143514/143514 [==============================] - 9s 60us/sample - loss: 3.8730e-05 - accuracy: 1.0000\n",
      "Epoch 5/10\n",
      "143488/143514 [============================>.] - ETA: 0s - loss: 3.3329e-05 - accuracy: 1.0000WARNING:tensorflow:Early stopping conditioned on metric `val_loss` which is not available. Available metrics are: loss,accuracy\n",
      "143514/143514 [==============================] - 9s 60us/sample - loss: 3.3323e-05 - accuracy: 1.0000\n",
      "Epoch 6/10\n",
      "143488/143514 [============================>.] - ETA: 0s - loss: 3.2421e-05 - accuracy: 1.0000WARNING:tensorflow:Early stopping conditioned on metric `val_loss` which is not available. Available metrics are: loss,accuracy\n",
      "143514/143514 [==============================] - 9s 60us/sample - loss: 3.2416e-05 - accuracy: 1.0000\n",
      "Epoch 7/10\n",
      "143232/143514 [============================>.] - ETA: 0s - loss: 2.9298e-05 - accuracy: 1.0000WARNING:tensorflow:Early stopping conditioned on metric `val_loss` which is not available. Available metrics are: loss,accuracy\n",
      "143514/143514 [==============================] - 9s 61us/sample - loss: 2.9244e-05 - accuracy: 1.0000\n",
      "Epoch 8/10\n",
      "142720/143514 [============================>.] - ETA: 0s - loss: 2.8748e-05 - accuracy: 1.0000WARNING:tensorflow:Early stopping conditioned on metric `val_loss` which is not available. Available metrics are: loss,accuracy\n",
      "143514/143514 [==============================] - 9s 63us/sample - loss: 2.8612e-05 - accuracy: 1.0000\n",
      "Epoch 9/10\n",
      "143488/143514 [============================>.] - ETA: 0s - loss: 2.0435e-05 - accuracy: 1.0000WARNING:tensorflow:Early stopping conditioned on metric `val_loss` which is not available. Available metrics are: loss,accuracy\n",
      "143514/143514 [==============================] - 9s 60us/sample - loss: 2.0431e-05 - accuracy: 1.0000\n",
      "Epoch 10/10\n",
      "143488/143514 [============================>.] - ETA: 0s - loss: 1.9647e-05 - accuracy: 1.0000WARNING:tensorflow:Early stopping conditioned on metric `val_loss` which is not available. Available metrics are: loss,accuracy\n",
      "143514/143514 [==============================] - 9s 60us/sample - loss: 1.9643e-05 - accuracy: 1.0000\n"
     ]
    },
    {
     "data": {
      "text/plain": [
       "<tensorflow.python.keras.callbacks.History at 0x1db1b323f08>"
      ]
     },
     "execution_count": 16,
     "metadata": {},
     "output_type": "execute_result"
    },
    {
     "name": "stdout",
     "output_type": "stream",
     "text": [
      "accuracy_score 0.9999745233914461\n",
      "recall_score 0.9998297292695386\n",
      "precision_score 0.9979605710401088\n",
      "f1_score 0.9988942757506166\n",
      "Model: \"model_4\"\n",
      "_________________________________________________________________\n",
      "Layer (type)                 Output Shape              Param #   \n",
      "=================================================================\n",
      "input_1 (InputLayer)         [(None, 32, 256)]         0         \n",
      "_________________________________________________________________\n",
      "bidirectional (Bidirectional (None, 32, 96)            117120    \n",
      "_________________________________________________________________\n",
      "time_distributed (TimeDistri (None, 32, 1)             97        \n",
      "=================================================================\n",
      "Total params: 117,217\n",
      "Trainable params: 117,217\n",
      "Non-trainable params: 0\n",
      "_________________________________________________________________\n",
      "======Training stage======\n",
      "Train on 143514 samples\n",
      "Epoch 1/10\n",
      "143232/143514 [============================>.] - ETA: 0s - loss: 3.2138e-05 - accuracy: 1.0000WARNING:tensorflow:Early stopping conditioned on metric `val_loss` which is not available. Available metrics are: loss,accuracy\n",
      "143514/143514 [==============================] - 16s 112us/sample - loss: 3.2075e-05 - accuracy: 1.0000\n",
      "Epoch 2/10\n",
      "143488/143514 [============================>.] - ETA: 0s - loss: 1.7963e-05 - accuracy: 1.0000WARNING:tensorflow:Early stopping conditioned on metric `val_loss` which is not available. Available metrics are: loss,accuracy\n",
      "143514/143514 [==============================] - 9s 61us/sample - loss: 1.7960e-05 - accuracy: 1.0000\n",
      "Epoch 3/10\n",
      "143488/143514 [============================>.] - ETA: 0s - loss: 1.6478e-05 - accuracy: 1.0000WARNING:tensorflow:Early stopping conditioned on metric `val_loss` which is not available. Available metrics are: loss,accuracy\n",
      "143514/143514 [==============================] - 9s 60us/sample - loss: 1.6475e-05 - accuracy: 1.0000\n",
      "Epoch 4/10\n",
      "143488/143514 [============================>.] - ETA: 0s - loss: 1.3069e-05 - accuracy: 1.0000WARNING:tensorflow:Early stopping conditioned on metric `val_loss` which is not available. Available metrics are: loss,accuracy\n",
      "143514/143514 [==============================] - 9s 60us/sample - loss: 1.3067e-05 - accuracy: 1.0000\n",
      "Epoch 5/10\n",
      "143360/143514 [============================>.] - ETA: 0s - loss: 9.1307e-06 - accuracy: 1.0000WARNING:tensorflow:Early stopping conditioned on metric `val_loss` which is not available. Available metrics are: loss,accuracy\n",
      "143514/143514 [==============================] - 9s 60us/sample - loss: 9.1209e-06 - accuracy: 1.0000\n",
      "Epoch 6/10\n",
      "143488/143514 [============================>.] - ETA: 0s - loss: 6.3436e-06 - accuracy: 1.0000WARNING:tensorflow:Early stopping conditioned on metric `val_loss` which is not available. Available metrics are: loss,accuracy\n",
      "143514/143514 [==============================] - 9s 60us/sample - loss: 6.3425e-06 - accuracy: 1.0000\n",
      "Epoch 7/10\n",
      "143360/143514 [============================>.] - ETA: 0s - loss: 6.5375e-06 - accuracy: 1.0000WARNING:tensorflow:Early stopping conditioned on metric `val_loss` which is not available. Available metrics are: loss,accuracy\n",
      "143514/143514 [==============================] - 9s 60us/sample - loss: 6.5306e-06 - accuracy: 1.0000\n",
      "Epoch 8/10\n",
      "143488/143514 [============================>.] - ETA: 0s - loss: 6.5635e-06 - accuracy: 1.0000WARNING:tensorflow:Early stopping conditioned on metric `val_loss` which is not available. Available metrics are: loss,accuracy\n",
      "143514/143514 [==============================] - 9s 60us/sample - loss: 6.5623e-06 - accuracy: 1.0000\n",
      "Epoch 9/10\n",
      "143488/143514 [============================>.] - ETA: 0s - loss: 5.9971e-06 - accuracy: 1.0000WARNING:tensorflow:Early stopping conditioned on metric `val_loss` which is not available. Available metrics are: loss,accuracy\n",
      "143514/143514 [==============================] - 9s 60us/sample - loss: 5.9960e-06 - accuracy: 1.0000\n",
      "Epoch 10/10\n",
      "143488/143514 [============================>.] - ETA: 0s - loss: 3.1913e-06 - accuracy: 1.0000WARNING:tensorflow:Early stopping conditioned on metric `val_loss` which is not available. Available metrics are: loss,accuracy\n",
      "143514/143514 [==============================] - 9s 60us/sample - loss: 3.1907e-06 - accuracy: 1.0000\n"
     ]
    },
    {
     "data": {
      "text/plain": [
       "<tensorflow.python.keras.callbacks.History at 0x1db11130748>"
      ]
     },
     "execution_count": 16,
     "metadata": {},
     "output_type": "execute_result"
    },
    {
     "name": "stdout",
     "output_type": "stream",
     "text": [
      "accuracy_score 0.9999921610435218\n",
      "recall_score 0.9998293515358362\n",
      "precision_score 0.9994882292732856\n",
      "f1_score 0.9996587613035318\n",
      "Model: \"model_5\"\n",
      "_________________________________________________________________\n",
      "Layer (type)                 Output Shape              Param #   \n",
      "=================================================================\n",
      "input_1 (InputLayer)         [(None, 32, 256)]         0         \n",
      "_________________________________________________________________\n",
      "bidirectional (Bidirectional (None, 32, 96)            117120    \n",
      "_________________________________________________________________\n",
      "time_distributed (TimeDistri (None, 32, 1)             97        \n",
      "=================================================================\n",
      "Total params: 117,217\n",
      "Trainable params: 117,217\n",
      "Non-trainable params: 0\n",
      "_________________________________________________________________\n",
      "======Training stage======\n",
      "Train on 143514 samples\n",
      "Epoch 1/10\n",
      "143360/143514 [============================>.] - ETA: 0s - loss: 1.5033e-05 - accuracy: 1.0000WARNING:tensorflow:Early stopping conditioned on metric `val_loss` which is not available. Available metrics are: loss,accuracy\n",
      "143514/143514 [==============================] - 15s 103us/sample - loss: 1.5017e-05 - accuracy: 1.0000\n",
      "Epoch 2/10\n",
      "142976/143514 [============================>.] - ETA: 0s - loss: 1.3961e-05 - accuracy: 1.0000WARNING:tensorflow:Early stopping conditioned on metric `val_loss` which is not available. Available metrics are: loss,accuracy\n",
      "143514/143514 [==============================] - 9s 61us/sample - loss: 1.3912e-05 - accuracy: 1.0000\n",
      "Epoch 3/10\n",
      "143488/143514 [============================>.] - ETA: 0s - loss: 7.0501e-06 - accuracy: 1.0000WARNING:tensorflow:Early stopping conditioned on metric `val_loss` which is not available. Available metrics are: loss,accuracy\n",
      "143514/143514 [==============================] - 9s 61us/sample - loss: 7.0488e-06 - accuracy: 1.0000\n",
      "Epoch 4/10\n",
      "143360/143514 [============================>.] - ETA: 0s - loss: 1.1719e-05 - accuracy: 1.0000WARNING:tensorflow:Early stopping conditioned on metric `val_loss` which is not available. Available metrics are: loss,accuracy\n",
      "143514/143514 [==============================] - 9s 61us/sample - loss: 1.1707e-05 - accuracy: 1.0000\n",
      "Epoch 5/10\n",
      "143360/143514 [============================>.] - ETA: 0s - loss: 7.9401e-06 - accuracy: 1.0000WARNING:tensorflow:Early stopping conditioned on metric `val_loss` which is not available. Available metrics are: loss,accuracy\n",
      "143514/143514 [==============================] - 9s 61us/sample - loss: 7.9317e-06 - accuracy: 1.0000\n",
      "Epoch 6/10\n",
      "143488/143514 [============================>.] - ETA: 0s - loss: 1.2381e-05 - accuracy: 1.0000WARNING:tensorflow:Early stopping conditioned on metric `val_loss` which is not available. Available metrics are: loss,accuracy\n",
      "143514/143514 [==============================] - 9s 61us/sample - loss: 1.2378e-05 - accuracy: 1.0000\n",
      "Epoch 7/10\n",
      "143360/143514 [============================>.] - ETA: 0s - loss: 1.1641e-05 - accuracy: 1.0000WARNING:tensorflow:Early stopping conditioned on metric `val_loss` which is not available. Available metrics are: loss,accuracy\n",
      "143514/143514 [==============================] - 9s 61us/sample - loss: 1.1629e-05 - accuracy: 1.0000\n",
      "Epoch 8/10\n",
      "143488/143514 [============================>.] - ETA: 0s - loss: 4.2381e-06 - accuracy: 1.0000WARNING:tensorflow:Early stopping conditioned on metric `val_loss` which is not available. Available metrics are: loss,accuracy\n",
      "143514/143514 [==============================] - 9s 61us/sample - loss: 4.2373e-06 - accuracy: 1.0000\n",
      "Epoch 9/10\n",
      "143360/143514 [============================>.] - ETA: 0s - loss: 3.4199e-06 - accuracy: 1.0000WARNING:tensorflow:Early stopping conditioned on metric `val_loss` which is not available. Available metrics are: loss,accuracy\n",
      "143514/143514 [==============================] - 9s 61us/sample - loss: 3.4163e-06 - accuracy: 1.0000\n",
      "Epoch 10/10\n",
      "143360/143514 [============================>.] - ETA: 0s - loss: 7.4212e-06 - accuracy: 1.0000WARNING:tensorflow:Early stopping conditioned on metric `val_loss` which is not available. Available metrics are: loss,accuracy\n",
      "143514/143514 [==============================] - 9s 61us/sample - loss: 7.4132e-06 - accuracy: 1.0000\n"
     ]
    },
    {
     "data": {
      "text/plain": [
       "<tensorflow.python.keras.callbacks.History at 0x1db92eadc88>"
      ]
     },
     "execution_count": 16,
     "metadata": {},
     "output_type": "execute_result"
    },
    {
     "name": "stdout",
     "output_type": "stream",
     "text": [
      "accuracy_score 0.9999921610435218\n",
      "recall_score 0.999663242970197\n",
      "precision_score 0.999663242970197\n",
      "f1_score 0.999663242970197\n",
      "Model: \"model_6\"\n",
      "_________________________________________________________________\n",
      "Layer (type)                 Output Shape              Param #   \n",
      "=================================================================\n",
      "input_1 (InputLayer)         [(None, 32, 256)]         0         \n",
      "_________________________________________________________________\n",
      "bidirectional (Bidirectional (None, 32, 96)            117120    \n",
      "_________________________________________________________________\n",
      "time_distributed (TimeDistri (None, 32, 1)             97        \n",
      "=================================================================\n",
      "Total params: 117,217\n",
      "Trainable params: 117,217\n",
      "Non-trainable params: 0\n",
      "_________________________________________________________________\n",
      "======Training stage======\n",
      "Train on 143514 samples\n",
      "Epoch 1/10\n",
      "143488/143514 [============================>.] - ETA: 0s - loss: 8.1232e-06 - accuracy: 1.0000WARNING:tensorflow:Early stopping conditioned on metric `val_loss` which is not available. Available metrics are: loss,accuracy\n",
      "143514/143514 [==============================] - 15s 103us/sample - loss: 8.1217e-06 - accuracy: 1.0000\n",
      "Epoch 2/10\n",
      "143360/143514 [============================>.] - ETA: 0s - loss: 4.1063e-06 - accuracy: 1.0000WARNING:tensorflow:Early stopping conditioned on metric `val_loss` which is not available. Available metrics are: loss,accuracy\n",
      "143514/143514 [==============================] - 9s 61us/sample - loss: 4.1019e-06 - accuracy: 1.0000\n",
      "Epoch 3/10\n",
      "143360/143514 [============================>.] - ETA: 0s - loss: 3.9016e-06 - accuracy: 1.0000WARNING:tensorflow:Early stopping conditioned on metric `val_loss` which is not available. Available metrics are: loss,accuracy\n",
      "143514/143514 [==============================] - 9s 61us/sample - loss: 3.8974e-06 - accuracy: 1.0000\n",
      "Epoch 4/10\n",
      "143488/143514 [============================>.] - ETA: 0s - loss: 3.5119e-06 - accuracy: 1.0000WARNING:tensorflow:Early stopping conditioned on metric `val_loss` which is not available. Available metrics are: loss,accuracy\n",
      "143514/143514 [==============================] - 9s 61us/sample - loss: 3.5112e-06 - accuracy: 1.0000\n",
      "Epoch 5/10\n",
      "143488/143514 [============================>.] - ETA: 0s - loss: 4.0133e-06 - accuracy: 1.0000WARNING:tensorflow:Early stopping conditioned on metric `val_loss` which is not available. Available metrics are: loss,accuracy\n",
      "143514/143514 [==============================] - 9s 61us/sample - loss: 4.0125e-06 - accuracy: 1.0000\n",
      "Epoch 6/10\n",
      "143232/143514 [============================>.] - ETA: 0s - loss: 3.3340e-06 - accuracy: 1.0000WARNING:tensorflow:Early stopping conditioned on metric `val_loss` which is not available. Available metrics are: loss,accuracy\n",
      "143514/143514 [==============================] - 9s 61us/sample - loss: 3.3275e-06 - accuracy: 1.0000\n",
      "Epoch 7/10\n",
      "143488/143514 [============================>.] - ETA: 0s - loss: 3.3233e-06 - accuracy: 1.0000WARNING:tensorflow:Early stopping conditioned on metric `val_loss` which is not available. Available metrics are: loss,accuracy\n",
      "143514/143514 [==============================] - 9s 61us/sample - loss: 3.3227e-06 - accuracy: 1.0000\n",
      "Epoch 8/10\n",
      "143232/143514 [============================>.] - ETA: 0s - loss: 3.3287e-06 - accuracy: 1.0000WARNING:tensorflow:Early stopping conditioned on metric `val_loss` which is not available. Available metrics are: loss,accuracy\n",
      "143514/143514 [==============================] - 9s 61us/sample - loss: 3.3222e-06 - accuracy: 1.0000\n",
      "Epoch 9/10\n",
      "143360/143514 [============================>.] - ETA: 0s - loss: 3.3255e-06 - accuracy: 1.0000WARNING:tensorflow:Early stopping conditioned on metric `val_loss` which is not available. Available metrics are: loss,accuracy\n",
      "143514/143514 [==============================] - 9s 61us/sample - loss: 3.3219e-06 - accuracy: 1.0000\n",
      "Epoch 10/10\n",
      "143488/143514 [============================>.] - ETA: 0s - loss: 3.3224e-06 - accuracy: 1.0000WARNING:tensorflow:Early stopping conditioned on metric `val_loss` which is not available. Available metrics are: loss,accuracy\n",
      "143514/143514 [==============================] - 9s 62us/sample - loss: 3.3218e-06 - accuracy: 1.0000\n"
     ]
    },
    {
     "data": {
      "text/plain": [
       "<tensorflow.python.keras.callbacks.History at 0x1db23554488>"
      ]
     },
     "execution_count": 16,
     "metadata": {},
     "output_type": "execute_result"
    },
    {
     "name": "stdout",
     "output_type": "stream",
     "text": [
      "accuracy_score 1.0\n",
      "recall_score 1.0\n",
      "precision_score 1.0\n",
      "f1_score 1.0\n",
      "Model: \"model_7\"\n",
      "_________________________________________________________________\n",
      "Layer (type)                 Output Shape              Param #   \n",
      "=================================================================\n",
      "input_1 (InputLayer)         [(None, 32, 256)]         0         \n",
      "_________________________________________________________________\n",
      "bidirectional (Bidirectional (None, 32, 96)            117120    \n",
      "_________________________________________________________________\n",
      "time_distributed (TimeDistri (None, 32, 1)             97        \n",
      "=================================================================\n",
      "Total params: 117,217\n",
      "Trainable params: 117,217\n",
      "Non-trainable params: 0\n",
      "_________________________________________________________________\n",
      "======Training stage======\n",
      "Train on 143514 samples\n",
      "Epoch 1/10\n",
      "143360/143514 [============================>.] - ETA: 0s - loss: 3.6268e-06 - accuracy: 1.0000WARNING:tensorflow:Early stopping conditioned on metric `val_loss` which is not available. Available metrics are: loss,accuracy\n",
      "143514/143514 [==============================] - 15s 104us/sample - loss: 3.6230e-06 - accuracy: 1.0000\n",
      "Epoch 2/10\n",
      "143232/143514 [============================>.] - ETA: 0s - loss: 5.3478e-06 - accuracy: 1.0000WARNING:tensorflow:Early stopping conditioned on metric `val_loss` which is not available. Available metrics are: loss,accuracy\n",
      "143514/143514 [==============================] - 9s 61us/sample - loss: 5.3373e-06 - accuracy: 1.0000\n",
      "Epoch 3/10\n",
      "142976/143514 [============================>.] - ETA: 0s - loss: 3.6001e-06 - accuracy: 1.0000WARNING:tensorflow:Early stopping conditioned on metric `val_loss` which is not available. Available metrics are: loss,accuracy\n",
      "143514/143514 [==============================] - 9s 62us/sample - loss: 3.5866e-06 - accuracy: 1.0000\n",
      "Epoch 4/10\n",
      "142976/143514 [============================>.] - ETA: 0s - loss: 3.3345e-06 - accuracy: 1.0000WARNING:tensorflow:Early stopping conditioned on metric `val_loss` which is not available. Available metrics are: loss,accuracy\n",
      "143514/143514 [==============================] - 9s 61us/sample - loss: 3.3221e-06 - accuracy: 1.0000\n",
      "Epoch 5/10\n",
      "143360/143514 [============================>.] - ETA: 0s - loss: 3.3251e-06 - accuracy: 1.0000WARNING:tensorflow:Early stopping conditioned on metric `val_loss` which is not available. Available metrics are: loss,accuracy\n",
      "143514/143514 [==============================] - 9s 61us/sample - loss: 3.3216e-06 - accuracy: 1.0000\n",
      "Epoch 6/10\n",
      "143488/143514 [============================>.] - ETA: 0s - loss: 3.3220e-06 - accuracy: 1.0000WARNING:tensorflow:Early stopping conditioned on metric `val_loss` which is not available. Available metrics are: loss,accuracy\n",
      "143514/143514 [==============================] - 9s 61us/sample - loss: 3.3214e-06 - accuracy: 1.0000\n",
      "Epoch 7/10\n",
      "143360/143514 [============================>.] - ETA: 0s - loss: 3.3249e-06 - accuracy: 1.0000WARNING:tensorflow:Early stopping conditioned on metric `val_loss` which is not available. Available metrics are: loss,accuracy\n",
      "143514/143514 [==============================] - 9s 61us/sample - loss: 3.3214e-06 - accuracy: 1.0000\n",
      "Epoch 8/10\n",
      "143488/143514 [============================>.] - ETA: 0s - loss: 3.3219e-06 - accuracy: 1.0000WARNING:tensorflow:Early stopping conditioned on metric `val_loss` which is not available. Available metrics are: loss,accuracy\n",
      "143514/143514 [==============================] - 9s 61us/sample - loss: 3.3213e-06 - accuracy: 1.0000\n",
      "Epoch 9/10\n",
      "143488/143514 [============================>.] - ETA: 0s - loss: 3.3219e-06 - accuracy: 1.0000WARNING:tensorflow:Early stopping conditioned on metric `val_loss` which is not available. Available metrics are: loss,accuracy\n",
      "143514/143514 [==============================] - 9s 61us/sample - loss: 3.3213e-06 - accuracy: 1.0000\n",
      "Epoch 10/10\n",
      "143488/143514 [============================>.] - ETA: 0s - loss: 3.3218e-06 - accuracy: 1.0000WARNING:tensorflow:Early stopping conditioned on metric `val_loss` which is not available. Available metrics are: loss,accuracy\n",
      "143514/143514 [==============================] - 9s 61us/sample - loss: 3.3212e-06 - accuracy: 1.0000\n"
     ]
    },
    {
     "data": {
      "text/plain": [
       "<tensorflow.python.keras.callbacks.History at 0x1db21789c08>"
      ]
     },
     "execution_count": 16,
     "metadata": {},
     "output_type": "execute_result"
    },
    {
     "name": "stdout",
     "output_type": "stream",
     "text": [
      "accuracy_score 1.0\n",
      "recall_score 1.0\n",
      "precision_score 1.0\n",
      "f1_score 1.0\n",
      "Model: \"model_8\"\n",
      "_________________________________________________________________\n",
      "Layer (type)                 Output Shape              Param #   \n",
      "=================================================================\n",
      "input_1 (InputLayer)         [(None, 32, 256)]         0         \n",
      "_________________________________________________________________\n",
      "bidirectional (Bidirectional (None, 32, 96)            117120    \n",
      "_________________________________________________________________\n",
      "time_distributed (TimeDistri (None, 32, 1)             97        \n",
      "=================================================================\n",
      "Total params: 117,217\n",
      "Trainable params: 117,217\n",
      "Non-trainable params: 0\n",
      "_________________________________________________________________\n",
      "======Training stage======\n",
      "Train on 143514 samples\n",
      "Epoch 1/10\n",
      "143232/143514 [============================>.] - ETA: 0s - loss: 3.3278e-06 - accuracy: 1.0000WARNING:tensorflow:Early stopping conditioned on metric `val_loss` which is not available. Available metrics are: loss,accuracy\n",
      "143514/143514 [==============================] - 17s 119us/sample - loss: 3.3213e-06 - accuracy: 1.0000\n",
      "Epoch 2/10\n",
      "143232/143514 [============================>.] - ETA: 0s - loss: 3.3277e-06 - accuracy: 1.0000WARNING:tensorflow:Early stopping conditioned on metric `val_loss` which is not available. Available metrics are: loss,accuracy\n",
      "143514/143514 [==============================] - 9s 61us/sample - loss: 3.3212e-06 - accuracy: 1.0000\n",
      "Epoch 3/10\n",
      "143104/143514 [============================>.] - ETA: 0s - loss: 3.3307e-06 - accuracy: 1.0000WARNING:tensorflow:Early stopping conditioned on metric `val_loss` which is not available. Available metrics are: loss,accuracy\n",
      "143514/143514 [==============================] - 9s 61us/sample - loss: 3.3211e-06 - accuracy: 1.0000\n",
      "Epoch 4/10\n",
      "143232/143514 [============================>.] - ETA: 0s - loss: 3.3276e-06 - accuracy: 1.0000WARNING:tensorflow:Early stopping conditioned on metric `val_loss` which is not available. Available metrics are: loss,accuracy\n",
      "143514/143514 [==============================] - 9s 61us/sample - loss: 3.3211e-06 - accuracy: 1.0000\n",
      "Epoch 5/10\n",
      "143488/143514 [============================>.] - ETA: 0s - loss: 3.3217e-06 - accuracy: 1.0000WARNING:tensorflow:Early stopping conditioned on metric `val_loss` which is not available. Available metrics are: loss,accuracy\n",
      "143514/143514 [==============================] - 9s 60us/sample - loss: 3.3211e-06 - accuracy: 1.0000\n",
      "Epoch 6/10\n",
      "143488/143514 [============================>.] - ETA: 0s - loss: 3.3217e-06 - accuracy: 1.0000WARNING:tensorflow:Early stopping conditioned on metric `val_loss` which is not available. Available metrics are: loss,accuracy\n",
      "143514/143514 [==============================] - 9s 61us/sample - loss: 3.3211e-06 - accuracy: 1.0000\n",
      "Epoch 7/10\n",
      "143360/143514 [============================>.] - ETA: 0s - loss: 3.3246e-06 - accuracy: 1.0000WARNING:tensorflow:Early stopping conditioned on metric `val_loss` which is not available. Available metrics are: loss,accuracy\n",
      "143514/143514 [==============================] - 9s 61us/sample - loss: 3.3210e-06 - accuracy: 1.0000\n",
      "Epoch 8/10\n",
      "143232/143514 [============================>.] - ETA: 0s - loss: 3.3276e-06 - accuracy: 1.0000WARNING:tensorflow:Early stopping conditioned on metric `val_loss` which is not available. Available metrics are: loss,accuracy\n",
      "143514/143514 [==============================] - 9s 61us/sample - loss: 3.3210e-06 - accuracy: 1.0000\n",
      "Epoch 9/10\n",
      "143488/143514 [============================>.] - ETA: 0s - loss: 3.3216e-06 - accuracy: 1.0000WARNING:tensorflow:Early stopping conditioned on metric `val_loss` which is not available. Available metrics are: loss,accuracy\n",
      "143514/143514 [==============================] - 9s 61us/sample - loss: 3.3210e-06 - accuracy: 1.0000\n",
      "Epoch 10/10\n",
      "143488/143514 [============================>.] - ETA: 0s - loss: 3.3216e-06 - accuracy: 1.0000WARNING:tensorflow:Early stopping conditioned on metric `val_loss` which is not available. Available metrics are: loss,accuracy\n",
      "143514/143514 [==============================] - 9s 61us/sample - loss: 3.3210e-06 - accuracy: 1.0000\n"
     ]
    },
    {
     "data": {
      "text/plain": [
       "<tensorflow.python.keras.callbacks.History at 0x1db29706448>"
      ]
     },
     "execution_count": 16,
     "metadata": {},
     "output_type": "execute_result"
    },
    {
     "name": "stdout",
     "output_type": "stream",
     "text": [
      "accuracy_score 1.0\n",
      "recall_score 1.0\n",
      "precision_score 1.0\n",
      "f1_score 1.0\n",
      "Model: \"model_9\"\n",
      "_________________________________________________________________\n",
      "Layer (type)                 Output Shape              Param #   \n",
      "=================================================================\n",
      "input_1 (InputLayer)         [(None, 32, 256)]         0         \n",
      "_________________________________________________________________\n",
      "bidirectional (Bidirectional (None, 32, 96)            117120    \n",
      "_________________________________________________________________\n",
      "time_distributed (TimeDistri (None, 32, 1)             97        \n",
      "=================================================================\n",
      "Total params: 117,217\n",
      "Trainable params: 117,217\n",
      "Non-trainable params: 0\n",
      "_________________________________________________________________\n",
      "======Training stage======\n",
      "Train on 143514 samples\n",
      "Epoch 1/10\n",
      "143488/143514 [============================>.] - ETA: 0s - loss: 3.3216e-06 - accuracy: 1.0000WARNING:tensorflow:Early stopping conditioned on metric `val_loss` which is not available. Available metrics are: loss,accuracy\n",
      "143514/143514 [==============================] - 15s 102us/sample - loss: 3.3210e-06 - accuracy: 1.0000\n",
      "Epoch 2/10\n",
      "143360/143514 [============================>.] - ETA: 0s - loss: 3.3245e-06 - accuracy: 1.0000WARNING:tensorflow:Early stopping conditioned on metric `val_loss` which is not available. Available metrics are: loss,accuracy\n",
      "143514/143514 [==============================] - 9s 61us/sample - loss: 3.3210e-06 - accuracy: 1.0000\n",
      "Epoch 3/10\n",
      "143488/143514 [============================>.] - ETA: 0s - loss: 3.3215e-06 - accuracy: 1.0000WARNING:tensorflow:Early stopping conditioned on metric `val_loss` which is not available. Available metrics are: loss,accuracy\n",
      "143514/143514 [==============================] - 9s 61us/sample - loss: 3.3209e-06 - accuracy: 1.0000\n",
      "Epoch 4/10\n",
      "143488/143514 [============================>.] - ETA: 0s - loss: 3.3215e-06 - accuracy: 1.0000WARNING:tensorflow:Early stopping conditioned on metric `val_loss` which is not available. Available metrics are: loss,accuracy\n",
      "143514/143514 [==============================] - 9s 61us/sample - loss: 3.3209e-06 - accuracy: 1.0000\n",
      "Epoch 5/10\n",
      "143488/143514 [============================>.] - ETA: 0s - loss: 3.3215e-06 - accuracy: 1.0000WARNING:tensorflow:Early stopping conditioned on metric `val_loss` which is not available. Available metrics are: loss,accuracy\n",
      "143514/143514 [==============================] - 9s 61us/sample - loss: 3.3209e-06 - accuracy: 1.0000\n",
      "Epoch 6/10\n",
      "143488/143514 [============================>.] - ETA: 0s - loss: 3.3215e-06 - accuracy: 1.0000WARNING:tensorflow:Early stopping conditioned on metric `val_loss` which is not available. Available metrics are: loss,accuracy\n",
      "143514/143514 [==============================] - 9s 61us/sample - loss: 3.3209e-06 - accuracy: 1.0000\n",
      "Epoch 7/10\n",
      "143360/143514 [============================>.] - ETA: 0s - loss: 3.3245e-06 - accuracy: 1.0000WARNING:tensorflow:Early stopping conditioned on metric `val_loss` which is not available. Available metrics are: loss,accuracy\n",
      "143514/143514 [==============================] - 9s 61us/sample - loss: 3.3209e-06 - accuracy: 1.0000\n",
      "Epoch 8/10\n",
      "143488/143514 [============================>.] - ETA: 0s - loss: 3.3215e-06 - accuracy: 1.0000WARNING:tensorflow:Early stopping conditioned on metric `val_loss` which is not available. Available metrics are: loss,accuracy\n",
      "143514/143514 [==============================] - 9s 61us/sample - loss: 3.3209e-06 - accuracy: 1.0000\n",
      "Epoch 9/10\n",
      "143360/143514 [============================>.] - ETA: 0s - loss: 3.3244e-06 - accuracy: 1.0000WARNING:tensorflow:Early stopping conditioned on metric `val_loss` which is not available. Available metrics are: loss,accuracy\n",
      "143514/143514 [==============================] - 9s 60us/sample - loss: 3.3209e-06 - accuracy: 1.0000\n",
      "Epoch 10/10\n",
      "143360/143514 [============================>.] - ETA: 0s - loss: 3.3244e-06 - accuracy: 1.0000WARNING:tensorflow:Early stopping conditioned on metric `val_loss` which is not available. Available metrics are: loss,accuracy\n",
      "143514/143514 [==============================] - 9s 61us/sample - loss: 3.3209e-06 - accuracy: 1.0000\n"
     ]
    },
    {
     "data": {
      "text/plain": [
       "<tensorflow.python.keras.callbacks.History at 0x1d8cb163188>"
      ]
     },
     "execution_count": 16,
     "metadata": {},
     "output_type": "execute_result"
    },
    {
     "name": "stdout",
     "output_type": "stream",
     "text": [
      "accuracy_score 1.0\n",
      "recall_score 1.0\n",
      "precision_score 1.0\n",
      "f1_score 1.0\n",
      "\n",
      "K-fold cross validation Accuracy: [0.9999392480872946, 0.9999470870437728, 0.9999686441740876, 0.9999745233914461, 0.9999921610435218, 0.9999921610435218, 1.0, 1.0, 1.0, 1.0]\n",
      "\n",
      "K-fold cross validation Recall: [0.9982864976010967, 0.9986089375760737, 0.9979825151311366, 0.9998297292695386, 0.9998293515358362, 0.999663242970197, 1.0, 1.0, 1.0, 1.0]\n",
      "\n",
      "K-fold cross validation Precision: [0.9964084145715751, 0.9967025338424158, 0.9993265993265993, 0.9979605710401088, 0.9994882292732856, 0.999663242970197, 1.0, 1.0, 1.0, 1.0]\n",
      "\n",
      "K-fold cross validation F1-Score: [0.9973465719421382, 0.9976548249804568, 0.9986541049798117, 0.9988942757506166, 0.9996587613035318, 0.999663242970197, 1.0, 1.0, 1.0, 1.0]\n"
     ]
    }
   ],
   "source": [
    "# 교차검증 kfold\n",
    "from sklearn.model_selection import KFold\n",
    "\n",
    "# Accuracy, Precision, Recall, F1-Score\n",
    "from sklearn.metrics import accuracy_score, recall_score, precision_score, f1_score\n",
    "\n",
    "# Confusion Matrix, ROC Curve\n",
    "from sklearn.metrics import confusion_matrix, roc_auc_score\n",
    "\n",
    "# 최종 평가지표들 평균용\n",
    "accuracy, recall, precision, f1score, cm = [], [], [], [], []\n",
    "\n",
    "# 11. 교차검증 kfold - k.split - 10회 / K-Fold 객체 생성\n",
    "# kf = KFold(n_splits=10, shuffle=False, random_state=None) # KFold non shuffle 버전\n",
    "kf = KFold(n_splits=10, shuffle=True, random_state=None) # KFold non shuffle 버전\n",
    "\n",
    "for train, validation in kf.split(x_bc8_0, y_bc8_0):\n",
    "    model1 = models.Model(xInput, xOutput)\n",
    "    model1.compile(loss='binary_crossentropy', optimizer='rmsprop', metrics=['accuracy'])\n",
    "    model1.summary()\n",
    "    print('======Training stage======')\n",
    "    model1.fit(x_bc8_0[train],\n",
    "               y_bc8_0[train],\n",
    "               epochs = 10,\n",
    "               batch_size = 128,\n",
    "               callbacks=[early_stopping])\n",
    "    #k_accuracy = '%.4f' %(model1.evaluate(data_10000x[validation], data_10000y[validation])[1])\n",
    "\n",
    "# 12. 교차검증결과 predict - 검증셋들\n",
    "    # predict 값\n",
    "    k_pr = model1.predict(x_bc8_0[validation])\n",
    "    \n",
    "    # 테스트 predict 결과들 비교 (평가지표 보기위함)\n",
    "    pred = np.round(np.array(k_pr).flatten().tolist())\n",
    "    y_test = np.array(y_bc8_0[validation]).flatten().tolist()\n",
    "    \n",
    "# 13. 평가지표들 출력\n",
    "    ## 평가지표들\n",
    "    k_accuracy = float(accuracy_score(y_test, pred))\n",
    "    k_recall =  float(recall_score(y_test, pred))\n",
    "    k_precision = float(precision_score(y_test, pred))\n",
    "    k_f1_score = float(f1_score(y_test, pred))\n",
    "    #k_cm = float(confusion_matrix(y_test, pred))\n",
    "    \n",
    "    print('accuracy_score', k_accuracy)\n",
    "    print('recall_score', k_recall)\n",
    "    print('precision_score', k_precision)\n",
    "    print('f1_score', k_f1_score)\n",
    "    #print('\\nconfusion_matrix\\n', k_cm)\n",
    "\n",
    "    accuracy.append(k_accuracy)\n",
    "    recall.append(k_recall)\n",
    "    precision.append(k_precision)\n",
    "    f1score.append(k_f1_score)\n",
    "    #cm.append(k_cm)\n",
    "#    print('roc_curve 면적', roc_auc_score(y_test, pred))\n",
    "\n",
    "# 최종 결과지표\n",
    "print('\\nK-fold cross validation Accuracy: {}'.format(accuracy))\n",
    "print('\\nK-fold cross validation Recall: {}'.format(recall))\n",
    "print('\\nK-fold cross validation Precision: {}'.format(precision))\n",
    "print('\\nK-fold cross validation F1-Score: {}'.format(f1score))\n",
    "#print('\\nK-fold cross validation ConfusionMatrix: {}'.format(cm))"
   ]
  },
  {
   "cell_type": "markdown",
   "metadata": {},
   "source": [
    "## (9) 평가지표"
   ]
  },
  {
   "cell_type": "code",
   "execution_count": 17,
   "metadata": {},
   "outputs": [
    {
     "name": "stdout",
     "output_type": "stream",
     "text": [
      "10-Fold Cross_validation. Accuracy : 0.9999813824783643\n",
      "10-Fold Cross_validation. Recall : 0.9994200274083879\n",
      "10-Fold Cross_validation. Precision : 0.9989549591024183\n",
      "10-Fold Cross_validation. F1-Score : 0.9991871781926752\n"
     ]
    }
   ],
   "source": [
    "print('10-Fold Cross_validation. Accuracy :', np.mean(accuracy))\n",
    "print('10-Fold Cross_validation. Recall :', np.mean(recall))\n",
    "print('10-Fold Cross_validation. Precision :', np.mean(precision))\n",
    "print('10-Fold Cross_validation. F1-Score :', np.mean(f1score))"
   ]
  },
  {
   "cell_type": "code",
   "execution_count": 18,
   "metadata": {},
   "outputs": [
    {
     "name": "stdout",
     "output_type": "stream",
     "text": [
      "save 완료\n"
     ]
    }
   ],
   "source": [
    "model1.save('gcc8_bin_core_s32_h48_o0.h5')\n",
    "print('save 완료')"
   ]
  }
 ],
 "metadata": {
  "kernelspec": {
   "display_name": "Python 3",
   "language": "python",
   "name": "python3"
  },
  "language_info": {
   "codemirror_mode": {
    "name": "ipython",
    "version": 3
   },
   "file_extension": ".py",
   "mimetype": "text/x-python",
   "name": "python",
   "nbconvert_exporter": "python",
   "pygments_lexer": "ipython3",
   "version": "3.7.7"
  }
 },
 "nbformat": 4,
 "nbformat_minor": 4
}
