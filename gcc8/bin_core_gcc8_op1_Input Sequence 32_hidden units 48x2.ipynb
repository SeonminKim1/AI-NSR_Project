{
 "cells": [
  {
   "cell_type": "markdown",
   "metadata": {},
   "source": [
    "## RNN 모델 N-Byte 방식 (함수정보 포함 vs 미포함 => 1:1 비율)\n",
    "\n",
    "## (1) 데이터로드"
   ]
  },
  {
   "cell_type": "code",
   "execution_count": 1,
   "metadata": {},
   "outputs": [
    {
     "name": "stdout",
     "output_type": "stream",
     "text": [
      "(20380454, 2) (7286847, 2)\n",
      "bin - core concat\n",
      "shape - (27667301, 2)\n",
      "reset_index 완료\n",
      "input data shape\n"
     ]
    },
    {
     "data": {
      "text/html": [
       "<div>\n",
       "<style scoped>\n",
       "    .dataframe tbody tr th:only-of-type {\n",
       "        vertical-align: middle;\n",
       "    }\n",
       "\n",
       "    .dataframe tbody tr th {\n",
       "        vertical-align: top;\n",
       "    }\n",
       "\n",
       "    .dataframe thead th {\n",
       "        text-align: right;\n",
       "    }\n",
       "</style>\n",
       "<table border=\"1\" class=\"dataframe\">\n",
       "  <thead>\n",
       "    <tr style=\"text-align: right;\">\n",
       "      <th></th>\n",
       "      <th>bin</th>\n",
       "      <th>label</th>\n",
       "    </tr>\n",
       "  </thead>\n",
       "  <tbody>\n",
       "    <tr>\n",
       "      <th>0</th>\n",
       "      <td>47</td>\n",
       "      <td>0</td>\n",
       "    </tr>\n",
       "    <tr>\n",
       "      <th>1</th>\n",
       "      <td>108</td>\n",
       "      <td>0</td>\n",
       "    </tr>\n",
       "    <tr>\n",
       "      <th>2</th>\n",
       "      <td>105</td>\n",
       "      <td>0</td>\n",
       "    </tr>\n",
       "    <tr>\n",
       "      <th>3</th>\n",
       "      <td>98</td>\n",
       "      <td>0</td>\n",
       "    </tr>\n",
       "    <tr>\n",
       "      <th>4</th>\n",
       "      <td>47</td>\n",
       "      <td>0</td>\n",
       "    </tr>\n",
       "  </tbody>\n",
       "</table>\n",
       "</div>"
      ],
      "text/plain": [
       "   bin  label\n",
       "0   47      0\n",
       "1  108      0\n",
       "2  105      0\n",
       "3   98      0\n",
       "4   47      0"
      ]
     },
     "execution_count": 1,
     "metadata": {},
     "output_type": "execute_result"
    }
   ],
   "source": [
    "# (1) 데이터로드\n",
    "import pandas as pd\n",
    "import numpy as np\n",
    "\n",
    "import warnings\n",
    "warnings.filterwarnings(action='ignore')\n",
    "\n",
    "# 여러개 쳐도 나오게\n",
    "from IPython.core.interactiveshell import InteractiveShell\n",
    "InteractiveShell.ast_node_interactivity = \"all\"\n",
    "\n",
    "# 파일읽기\n",
    "bin8_1 = pd.read_csv(\"../data/gcc8/o0123합본/o1/o1_gcc8.csv\", index_col=0)\n",
    "core8_1 = pd.read_csv(\"../data/gcc8/o0123합본/o1/o1_core8.csv\", index_col=0)\n",
    "print(bin8_1.shape, core8_1.shape)\n",
    "\n",
    "# reset_index (hex processing 하면서 값이 빠졌으니까 + n_gram 에서 index를 다루기 때문에)\n",
    "bin8_1.reset_index(inplace=True, drop=True)\n",
    "core8_1.reset_index(inplace=True, drop=True)\n",
    "\n",
    "print('bin - core concat')\n",
    "bin8_1 = pd.concat([bin8_1, core8_1], axis=0)\n",
    "print('shape -', bin8_1.shape)\n",
    "print('reset_index 완료')\n",
    "print('input data shape')\n",
    "bin8_1.head()"
   ]
  },
  {
   "cell_type": "code",
   "execution_count": 2,
   "metadata": {},
   "outputs": [
    {
     "name": "stdout",
     "output_type": "stream",
     "text": [
      "256\n",
      "0    27628838\n",
      "1       38463\n",
      "Name: label, dtype: int64\n"
     ]
    }
   ],
   "source": [
    "# (2-1) 데이터체크 1 - hex(16진수)가 256 label을 가져야 dummies 변환 가능 \n",
    "# 16진수 256개 종류가 있어서 pd.get_dummies 사용 가능.\n",
    "print(len(bin8_1['bin'].unique()))\n",
    "\n",
    "# (2-2) 데이터 체크 2 - 1, 0 비율 ==> 1이 함수의 갯수를 뜻함\n",
    "# 정답 데이터 1, 0 비율 확인  ==> 1이 함수의 갯수를 뜻함\n",
    "print(bin8_1['label'].value_counts())"
   ]
  },
  {
   "cell_type": "markdown",
   "metadata": {},
   "source": [
    "## (3) N Byte씩 자르기"
   ]
  },
  {
   "cell_type": "code",
   "execution_count": 3,
   "metadata": {},
   "outputs": [
    {
     "name": "stdout",
     "output_type": "stream",
     "text": [
      "1230816\n",
      "나머지 0\n",
      "최종 길이 1230816\n",
      "bin8_1 1230816\n"
     ]
    }
   ],
   "source": [
    "idx_bin = bin8_1[bin8_1['label']==1].index  # 407, 474 ...\n",
    "ls_bin = list(idx_bin)\n",
    "\n",
    "# 최종 뽑을 행에 대한 index\n",
    "ls_idx_bin = []\n",
    "\n",
    "# n byte 자르기 방식\n",
    "left_idx, right_idx = 0, 32 # 3개씩\n",
    "\n",
    "# n byte 자르기\n",
    "for k in range(left_idx, right_idx):\n",
    "    ls_idx_bin.extend(list(idx_bin + k)) # index 형이라서 가능\n",
    "\n",
    "#ls_idx = list(set(ls_idx)) \n",
    "ls_idx_bin.sort() # 인덱스 정렬\n",
    "\n",
    "# 1차 index 해당범위 초과한 것들 없애기\n",
    "ls_idx_bin = list(filter(lambda x: x<len(bin8_1), ls_idx_bin))\n",
    "print(len(ls_idx_bin))\n",
    "\n",
    "# 2차 남은 index들 중 right_idx 나눈 나머지 없애기\n",
    "sub_bin = len(ls_idx_bin)%(right_idx)\n",
    "print('나머지', sub_bin)\n",
    "\n",
    "ls_idx_bin = ls_idx_bin[:len(ls_idx_bin)-sub_bin]\n",
    "print('최종 길이', len(ls_idx_bin))\n",
    "\n",
    "print('bin8_1', len(ls_idx_bin))\n",
    "\n",
    "# loc 로 수정필요\n",
    "bin8_1_Ngram = bin8_1.loc[ls_idx_bin,:].copy()"
   ]
  },
  {
   "cell_type": "markdown",
   "metadata": {},
   "source": [
    "## (4) false data 만들기"
   ]
  },
  {
   "cell_type": "code",
   "execution_count": 4,
   "metadata": {},
   "outputs": [
    {
     "name": "stdout",
     "output_type": "stream",
     "text": [
      "60531.0\n",
      "0 19424608\n",
      "1000 5093078\n",
      "2000 17699137\n",
      "3000 6751742\n",
      "4000 27152945\n",
      "5000 27522718\n",
      "6000 20337190\n",
      "7000 25416428\n",
      "8000 8021659\n",
      "9000 2548471\n",
      "10000 8336910\n",
      "11000 21314356\n",
      "12000 18938224\n",
      "13000 18910524\n",
      "14000 4491786\n",
      "15000 11317485\n",
      "16000 19742431\n",
      "17000 5974617\n",
      "18000 881873\n",
      "19000 7239362\n",
      "20000 27072766\n",
      "21000 21334776\n",
      "22000 15372939\n",
      "23000 14298245\n",
      "24000 5201653\n",
      "25000 10882994\n",
      "26000 7189866\n",
      "27000 27274700\n",
      "28000 25541856\n",
      "29000 25864857\n",
      "30000 21588013\n",
      "31000 16197718\n",
      "32000 9920594\n",
      "33000 21507437\n",
      "34000 4687342\n",
      "35000 22762190\n",
      "36000 372260\n",
      "37000 12427885\n",
      "38000 27284242\n",
      "39000 16160669\n",
      "40000 14245228\n",
      "41000 15148240\n",
      "42000 21725610\n",
      "43000 13523464\n",
      "44000 9316936\n",
      "45000 16064795\n",
      "46000 23612339\n",
      "47000 1311782\n",
      "48000 19021458\n",
      "49000 19947481\n",
      "50000 20534070\n",
      "51000 26794895\n",
      "52000 16939254\n",
      "53000 27635452\n",
      "54000 7226228\n",
      "55000 25958695\n",
      "56000 5281839\n",
      "57000 27447494\n",
      "58000 108216\n",
      "59000 16979976\n",
      "60000 15254769\n",
      "완료\n",
      "60531\n"
     ]
    }
   ],
   "source": [
    "# false data 만들기 - False 데이터 랜덤 생성\n",
    "\n",
    "# 목표치\n",
    "goal_bin = len(bin8_1_Ngram)/right_idx\n",
    "count_bin = 0\n",
    "\n",
    "print(goal_bin)\n",
    "\n",
    "# 최종 데이터 Frame\n",
    "d_bin = pd.DataFrame(columns = bin8_1.columns)\n",
    "\n",
    "binutils_df = []\n",
    "# goal 에 도달할 때까지\n",
    "while True:\n",
    "    if (count_bin == goal_bin):\n",
    "            break\n",
    "    # 진행상황 살펴보기 위함\n",
    "            \n",
    "    # 랜덤 N 바이트씩 뽑음\n",
    "    # random index\n",
    "    random_idx_bin = np.random.randint(len(bin8_1)-right_idx)\n",
    "\n",
    "    if count_bin % 1000==0:\n",
    "        print(count_bin, end=' ')\n",
    "        print(random_idx_bin)\n",
    "\n",
    "    df_bin = bin8_1[random_idx_bin : random_idx_bin + right_idx]\n",
    "    \n",
    "    # 뽑은 index의 N 바이트 중에 1이 없는 경우만\n",
    "    if 1 not in df_bin['label'] and count_bin < goal_bin:\n",
    "        binutils_df.append(df_bin)\n",
    "        count_bin+=1\n",
    "\n",
    "print('완료')\n",
    "print(len(binutils_df))"
   ]
  },
  {
   "cell_type": "code",
   "execution_count": 5,
   "metadata": {},
   "outputs": [
    {
     "name": "stdout",
     "output_type": "stream",
     "text": [
      "60531\n",
      "38463\n"
     ]
    }
   ],
   "source": [
    "# True data와 False Data 같은지 체크\n",
    "print(len(binutils_df))\n",
    "print(bin8_1['label'].value_counts()[1])"
   ]
  },
  {
   "cell_type": "markdown",
   "metadata": {},
   "source": [
    "## (5) False Data + True Data 합치기"
   ]
  },
  {
   "cell_type": "code",
   "execution_count": 6,
   "metadata": {},
   "outputs": [
    {
     "data": {
      "text/plain": [
       "(3873984, 2)"
      ]
     },
     "execution_count": 6,
     "metadata": {},
     "output_type": "execute_result"
    }
   ],
   "source": [
    "f_data = pd.concat(binutils_df)\n",
    "final = pd.concat([f_data, bin8_1_Ngram])\n",
    "final.shape"
   ]
  },
  {
   "cell_type": "markdown",
   "metadata": {},
   "source": [
    "## (6) one hot encoding"
   ]
  },
  {
   "cell_type": "code",
   "execution_count": 7,
   "metadata": {},
   "outputs": [
    {
     "name": "stdout",
     "output_type": "stream",
     "text": [
      "원핫인코딩완료\n",
      "(3873984, 257)\n"
     ]
    }
   ],
   "source": [
    "# 훈련데이터 (gcc 최적화버전 0, 1, 2, 3 one hot encoding)\n",
    "bc8_1_onehot_Ngram = pd.get_dummies(final['bin'])\n",
    "bc8_1_onehot_Ngram = pd.concat([final['label'], bc8_1_onehot_Ngram], axis=1)\n",
    "\n",
    "print('원핫인코딩완료')\n",
    "print(bc8_1_onehot_Ngram.shape)"
   ]
  },
  {
   "cell_type": "code",
   "execution_count": 8,
   "metadata": {},
   "outputs": [
    {
     "name": "stdout",
     "output_type": "stream",
     "text": [
      "(3873984, 256) (3873984, 256)\n",
      "(121062, 32, 256) (121062, 32, 1)\n"
     ]
    }
   ],
   "source": [
    "# 훈련 데이터, 훈련 라벨\n",
    "x_bc8_1 = bc8_1_onehot_Ngram.iloc[:,1:].to_numpy()\n",
    "y_bc8_1 = bc8_1_onehot_Ngram['label'].to_numpy()\n",
    "print(x_bc8_1.shape, x_bc8_1.shape)\n",
    "\n",
    "x_bc8_1 = x_bc8_1.reshape(-1, right_idx, x_bc8_1.shape[1])\n",
    "y_bc8_1 = y_bc8_1.reshape(-1, right_idx, 1)\n",
    "\n",
    "print(x_bc8_1.shape, y_bc8_1.shape)"
   ]
  },
  {
   "cell_type": "code",
   "execution_count": 9,
   "metadata": {},
   "outputs": [
    {
     "name": "stdout",
     "output_type": "stream",
     "text": [
      "(121062, 32, 256) (121062, 32, 1)\n"
     ]
    }
   ],
   "source": [
    "# numpy 행, 열 섞기\n",
    "p = np.random.permutation(x_bc8_1.shape[0])\n",
    "\n",
    "x_bc8_1 = x_bc8_1[p]\n",
    "y_bc8_1 = y_bc8_1[p]\n",
    "\n",
    "print(x_bc8_1.shape, y_bc8_1.shape)"
   ]
  },
  {
   "cell_type": "markdown",
   "metadata": {},
   "source": [
    "## (7) 모델"
   ]
  },
  {
   "cell_type": "code",
   "execution_count": 10,
   "metadata": {},
   "outputs": [],
   "source": [
    "# (10) 양방향 LSTM 모델링 작업\n",
    "from tensorflow.keras import layers, models\n",
    "#from tf.keras.models import Model, Sequential\n",
    "#from tf.keras.layers import SimpleRNN, Input, Dense, LSTM\n",
    "#from tf.keras.layers import Bidirectional, TimeDistributed\n",
    "\n",
    "# 학습\n",
    "from tensorflow.keras.callbacks import EarlyStopping\n",
    "early_stopping = EarlyStopping(patience = 3) # 조기종료 콜백함수 정의\n",
    "\n",
    "xInput = layers.Input(batch_shape=(None,right_idx, 256)) \n",
    "xBiLstm = layers.Bidirectional(layers.LSTM(48, return_sequences=True, stateful=False), merge_mode = 'concat')(xInput)\n",
    "xOutput = layers.TimeDistributed(layers.Dense(1, activation ='sigmoid'))(xBiLstm) # 각 스텝에서 cost가 전송되고, 오류가 다음 step으로 전송됨."
   ]
  },
  {
   "cell_type": "markdown",
   "metadata": {},
   "source": [
    "## (8) 학습 - 10 KFold"
   ]
  },
  {
   "cell_type": "code",
   "execution_count": 11,
   "metadata": {
    "scrolled": false
   },
   "outputs": [
    {
     "name": "stdout",
     "output_type": "stream",
     "text": [
      "Model: \"model\"\n",
      "_________________________________________________________________\n",
      "Layer (type)                 Output Shape              Param #   \n",
      "=================================================================\n",
      "input_1 (InputLayer)         [(None, 32, 256)]         0         \n",
      "_________________________________________________________________\n",
      "bidirectional (Bidirectional (None, 32, 96)            117120    \n",
      "_________________________________________________________________\n",
      "time_distributed (TimeDistri (None, 32, 1)             97        \n",
      "=================================================================\n",
      "Total params: 117,217\n",
      "Trainable params: 117,217\n",
      "Non-trainable params: 0\n",
      "_________________________________________________________________\n",
      "======Training stage======\n",
      "Train on 108955 samples\n",
      "Epoch 1/10\n",
      "108288/108955 [============================>.] - ETA: 0s - loss: 0.0282 - accuracy: 0.9923WARNING:tensorflow:Early stopping conditioned on metric `val_loss` which is not available. Available metrics are: loss,accuracy\n",
      "108955/108955 [==============================] - 10s 96us/sample - loss: 0.0281 - accuracy: 0.9923\n",
      "Epoch 2/10\n",
      "108672/108955 [============================>.] - ETA: 0s - loss: 0.0074 - accuracy: 0.9977WARNING:tensorflow:Early stopping conditioned on metric `val_loss` which is not available. Available metrics are: loss,accuracy\n",
      "108955/108955 [==============================] - 6s 57us/sample - loss: 0.0074 - accuracy: 0.9977\n",
      "Epoch 3/10\n",
      "108928/108955 [============================>.] - ETA: 0s - loss: 0.0055 - accuracy: 0.9983WARNING:tensorflow:Early stopping conditioned on metric `val_loss` which is not available. Available metrics are: loss,accuracy\n",
      "108955/108955 [==============================] - 6s 58us/sample - loss: 0.0055 - accuracy: 0.9983\n",
      "Epoch 4/10\n",
      "108928/108955 [============================>.] - ETA: 0s - loss: 0.0044 - accuracy: 0.9986WARNING:tensorflow:Early stopping conditioned on metric `val_loss` which is not available. Available metrics are: loss,accuracy\n",
      "108955/108955 [==============================] - 6s 58us/sample - loss: 0.0044 - accuracy: 0.9986\n",
      "Epoch 5/10\n",
      "108928/108955 [============================>.] - ETA: 0s - loss: 0.0036 - accuracy: 0.9989WARNING:tensorflow:Early stopping conditioned on metric `val_loss` which is not available. Available metrics are: loss,accuracy\n",
      "108955/108955 [==============================] - 6s 58us/sample - loss: 0.0036 - accuracy: 0.9989\n",
      "Epoch 6/10\n",
      "108672/108955 [============================>.] - ETA: 0s - loss: 0.0030 - accuracy: 0.9991WARNING:tensorflow:Early stopping conditioned on metric `val_loss` which is not available. Available metrics are: loss,accuracy\n",
      "108955/108955 [==============================] - 6s 58us/sample - loss: 0.0030 - accuracy: 0.9991\n",
      "Epoch 7/10\n",
      "108672/108955 [============================>.] - ETA: 0s - loss: 0.0026 - accuracy: 0.9992WARNING:tensorflow:Early stopping conditioned on metric `val_loss` which is not available. Available metrics are: loss,accuracy\n",
      "108955/108955 [==============================] - 6s 58us/sample - loss: 0.0026 - accuracy: 0.9992\n",
      "Epoch 8/10\n",
      "108672/108955 [============================>.] - ETA: 0s - loss: 0.0023 - accuracy: 0.9993WARNING:tensorflow:Early stopping conditioned on metric `val_loss` which is not available. Available metrics are: loss,accuracy\n",
      "108955/108955 [==============================] - 6s 58us/sample - loss: 0.0023 - accuracy: 0.9993\n",
      "Epoch 9/10\n",
      "108800/108955 [============================>.] - ETA: 0s - loss: 0.0020 - accuracy: 0.9994WARNING:tensorflow:Early stopping conditioned on metric `val_loss` which is not available. Available metrics are: loss,accuracy\n",
      "108955/108955 [==============================] - 6s 58us/sample - loss: 0.0020 - accuracy: 0.9994\n",
      "Epoch 10/10\n",
      "108928/108955 [============================>.] - ETA: 0s - loss: 0.0017 - accuracy: 0.9995WARNING:tensorflow:Early stopping conditioned on metric `val_loss` which is not available. Available metrics are: loss,accuracy\n",
      "108955/108955 [==============================] - 6s 58us/sample - loss: 0.0017 - accuracy: 0.9995\n"
     ]
    },
    {
     "data": {
      "text/plain": [
       "<tensorflow.python.keras.callbacks.History at 0x1d149af6ac8>"
      ]
     },
     "execution_count": 11,
     "metadata": {},
     "output_type": "execute_result"
    },
    {
     "name": "stdout",
     "output_type": "stream",
     "text": [
      "accuracy_score 0.9991688692491947\n",
      "recall_score 0.9649744195198741\n",
      "precision_score 0.971473851030111\n",
      "f1_score 0.968213228035538\n",
      "Model: \"model_1\"\n",
      "_________________________________________________________________\n",
      "Layer (type)                 Output Shape              Param #   \n",
      "=================================================================\n",
      "input_1 (InputLayer)         [(None, 32, 256)]         0         \n",
      "_________________________________________________________________\n",
      "bidirectional (Bidirectional (None, 32, 96)            117120    \n",
      "_________________________________________________________________\n",
      "time_distributed (TimeDistri (None, 32, 1)             97        \n",
      "=================================================================\n",
      "Total params: 117,217\n",
      "Trainable params: 117,217\n",
      "Non-trainable params: 0\n",
      "_________________________________________________________________\n",
      "======Training stage======\n",
      "Train on 108955 samples\n",
      "Epoch 1/10\n",
      "108672/108955 [============================>.] - ETA: 0s - loss: 0.0017 - accuracy: 0.9995WARNING:tensorflow:Early stopping conditioned on metric `val_loss` which is not available. Available metrics are: loss,accuracy\n",
      "108955/108955 [==============================] - 9s 86us/sample - loss: 0.0017 - accuracy: 0.9995\n",
      "Epoch 2/10\n",
      "108672/108955 [============================>.] - ETA: 0s - loss: 0.0015 - accuracy: 0.9996WARNING:tensorflow:Early stopping conditioned on metric `val_loss` which is not available. Available metrics are: loss,accuracy\n",
      "108955/108955 [==============================] - 6s 58us/sample - loss: 0.0015 - accuracy: 0.9996\n",
      "Epoch 3/10\n",
      "108672/108955 [============================>.] - ETA: 0s - loss: 0.0013 - accuracy: 0.9996WARNING:tensorflow:Early stopping conditioned on metric `val_loss` which is not available. Available metrics are: loss,accuracy\n",
      "108955/108955 [==============================] - 6s 58us/sample - loss: 0.0013 - accuracy: 0.9996\n",
      "Epoch 4/10\n",
      "108544/108955 [============================>.] - ETA: 0s - loss: 0.0011 - accuracy: 0.9997WARNING:tensorflow:Early stopping conditioned on metric `val_loss` which is not available. Available metrics are: loss,accuracy\n",
      "108955/108955 [==============================] - 6s 58us/sample - loss: 0.0011 - accuracy: 0.9997\n",
      "Epoch 5/10\n",
      "108544/108955 [============================>.] - ETA: 0s - loss: 9.7437e-04 - accuracy: 0.9997WARNING:tensorflow:Early stopping conditioned on metric `val_loss` which is not available. Available metrics are: loss,accuracy\n",
      "108955/108955 [==============================] - 6s 58us/sample - loss: 9.7366e-04 - accuracy: 0.9997\n",
      "Epoch 6/10\n",
      "108544/108955 [============================>.] - ETA: 0s - loss: 8.6024e-04 - accuracy: 0.9997WARNING:tensorflow:Early stopping conditioned on metric `val_loss` which is not available. Available metrics are: loss,accuracy\n",
      "108955/108955 [==============================] - 6s 58us/sample - loss: 8.6555e-04 - accuracy: 0.9997\n",
      "Epoch 7/10\n",
      "108544/108955 [============================>.] - ETA: 0s - loss: 7.9098e-04 - accuracy: 0.9998WARNING:tensorflow:Early stopping conditioned on metric `val_loss` which is not available. Available metrics are: loss,accuracy\n",
      "108955/108955 [==============================] - 6s 58us/sample - loss: 7.9129e-04 - accuracy: 0.9998\n",
      "Epoch 8/10\n",
      "108544/108955 [============================>.] - ETA: 0s - loss: 6.9366e-04 - accuracy: 0.9998WARNING:tensorflow:Early stopping conditioned on metric `val_loss` which is not available. Available metrics are: loss,accuracy\n",
      "108955/108955 [==============================] - 6s 58us/sample - loss: 6.9281e-04 - accuracy: 0.9998\n",
      "Epoch 9/10\n",
      "108544/108955 [============================>.] - ETA: 0s - loss: 6.0806e-04 - accuracy: 0.9998WARNING:tensorflow:Early stopping conditioned on metric `val_loss` which is not available. Available metrics are: loss,accuracy\n",
      "108955/108955 [==============================] - 6s 58us/sample - loss: 6.0718e-04 - accuracy: 0.9998\n",
      "Epoch 10/10\n",
      "108672/108955 [============================>.] - ETA: 0s - loss: 5.2335e-04 - accuracy: 0.9998WARNING:tensorflow:Early stopping conditioned on metric `val_loss` which is not available. Available metrics are: loss,accuracy\n",
      "108955/108955 [==============================] - 6s 58us/sample - loss: 5.2278e-04 - accuracy: 0.9998\n"
     ]
    },
    {
     "data": {
      "text/plain": [
       "<tensorflow.python.keras.callbacks.History at 0x1d149a414c8>"
      ]
     },
     "execution_count": 11,
     "metadata": {},
     "output_type": "execute_result"
    },
    {
     "name": "stdout",
     "output_type": "stream",
     "text": [
      "accuracy_score 0.9994889320227968\n",
      "recall_score 0.980944819372767\n",
      "precision_score 0.9797779540047581\n",
      "f1_score 0.9803610394762943\n",
      "Model: \"model_2\"\n",
      "_________________________________________________________________\n",
      "Layer (type)                 Output Shape              Param #   \n",
      "=================================================================\n",
      "input_1 (InputLayer)         [(None, 32, 256)]         0         \n",
      "_________________________________________________________________\n",
      "bidirectional (Bidirectional (None, 32, 96)            117120    \n",
      "_________________________________________________________________\n",
      "time_distributed (TimeDistri (None, 32, 1)             97        \n",
      "=================================================================\n",
      "Total params: 117,217\n",
      "Trainable params: 117,217\n",
      "Non-trainable params: 0\n",
      "_________________________________________________________________\n",
      "======Training stage======\n",
      "Train on 108956 samples\n",
      "Epoch 1/10\n",
      "108672/108956 [============================>.] - ETA: 0s - loss: 6.7026e-04 - accuracy: 0.9998WARNING:tensorflow:Early stopping conditioned on metric `val_loss` which is not available. Available metrics are: loss,accuracy\n",
      "108956/108956 [==============================] - 9s 81us/sample - loss: 6.7033e-04 - accuracy: 0.9998\n",
      "Epoch 2/10\n",
      "108672/108956 [============================>.] - ETA: 0s - loss: 5.4660e-04 - accuracy: 0.9998WARNING:tensorflow:Early stopping conditioned on metric `val_loss` which is not available. Available metrics are: loss,accuracy\n",
      "108956/108956 [==============================] - 6s 58us/sample - loss: 5.4931e-04 - accuracy: 0.9998\n",
      "Epoch 3/10\n",
      "108672/108956 [============================>.] - ETA: 0s - loss: 4.6614e-04 - accuracy: 0.9999WARNING:tensorflow:Early stopping conditioned on metric `val_loss` which is not available. Available metrics are: loss,accuracy\n",
      "108956/108956 [==============================] - 6s 58us/sample - loss: 4.6573e-04 - accuracy: 0.9999\n",
      "Epoch 4/10\n",
      "108544/108956 [============================>.] - ETA: 0s - loss: 3.9827e-04 - accuracy: 0.9999WARNING:tensorflow:Early stopping conditioned on metric `val_loss` which is not available. Available metrics are: loss,accuracy\n",
      "108956/108956 [==============================] - 6s 58us/sample - loss: 4.1024e-04 - accuracy: 0.9999\n",
      "Epoch 5/10\n",
      "108544/108956 [============================>.] - ETA: 0s - loss: 3.5968e-04 - accuracy: 0.9999WARNING:tensorflow:Early stopping conditioned on metric `val_loss` which is not available. Available metrics are: loss,accuracy\n",
      "108956/108956 [==============================] - 6s 58us/sample - loss: 3.6028e-04 - accuracy: 0.9999\n",
      "Epoch 6/10\n",
      "108160/108956 [============================>.] - ETA: 0s - loss: 3.2263e-04 - accuracy: 0.9999WARNING:tensorflow:Early stopping conditioned on metric `val_loss` which is not available. Available metrics are: loss,accuracy\n",
      "108956/108956 [==============================] - 6s 59us/sample - loss: 3.2209e-04 - accuracy: 0.9999\n",
      "Epoch 7/10\n",
      "108672/108956 [============================>.] - ETA: 0s - loss: 2.7535e-04 - accuracy: 0.9999WARNING:tensorflow:Early stopping conditioned on metric `val_loss` which is not available. Available metrics are: loss,accuracy\n",
      "108956/108956 [==============================] - 6s 58us/sample - loss: 2.7542e-04 - accuracy: 0.9999\n",
      "Epoch 8/10\n",
      "108672/108956 [============================>.] - ETA: 0s - loss: 2.5264e-04 - accuracy: 0.9999WARNING:tensorflow:Early stopping conditioned on metric `val_loss` which is not available. Available metrics are: loss,accuracy\n",
      "108956/108956 [==============================] - 6s 58us/sample - loss: 2.5252e-04 - accuracy: 0.9999\n",
      "Epoch 9/10\n",
      "108544/108956 [============================>.] - ETA: 0s - loss: 2.0737e-04 - accuracy: 1.0000WARNING:tensorflow:Early stopping conditioned on metric `val_loss` which is not available. Available metrics are: loss,accuracy\n",
      "108956/108956 [==============================] - 6s 58us/sample - loss: 2.0683e-04 - accuracy: 1.0000\n",
      "Epoch 10/10\n",
      "108672/108956 [============================>.] - ETA: 0s - loss: 1.9473e-04 - accuracy: 1.0000WARNING:tensorflow:Early stopping conditioned on metric `val_loss` which is not available. Available metrics are: loss,accuracy\n",
      "108956/108956 [==============================] - 6s 58us/sample - loss: 1.9429e-04 - accuracy: 1.0000\n"
     ]
    },
    {
     "data": {
      "text/plain": [
       "<tensorflow.python.keras.callbacks.History at 0x1d36281aac8>"
      ]
     },
     "execution_count": 11,
     "metadata": {},
     "output_type": "execute_result"
    },
    {
     "name": "stdout",
     "output_type": "stream",
     "text": [
      "accuracy_score 0.9997496076325789\n",
      "recall_score 0.9889785475300138\n",
      "precision_score 0.9919068298460324\n",
      "f1_score 0.9904405242928945\n",
      "Model: \"model_3\"\n",
      "_________________________________________________________________\n",
      "Layer (type)                 Output Shape              Param #   \n",
      "=================================================================\n",
      "input_1 (InputLayer)         [(None, 32, 256)]         0         \n",
      "_________________________________________________________________\n",
      "bidirectional (Bidirectional (None, 32, 96)            117120    \n",
      "_________________________________________________________________\n",
      "time_distributed (TimeDistri (None, 32, 1)             97        \n",
      "=================================================================\n",
      "Total params: 117,217\n",
      "Trainable params: 117,217\n",
      "Non-trainable params: 0\n",
      "_________________________________________________________________\n",
      "======Training stage======\n",
      "Train on 108956 samples\n",
      "Epoch 1/10\n",
      "108544/108956 [============================>.] - ETA: 0s - loss: 2.7566e-04 - accuracy: 0.9999WARNING:tensorflow:Early stopping conditioned on metric `val_loss` which is not available. Available metrics are: loss,accuracy\n",
      "108956/108956 [==============================] - 9s 82us/sample - loss: 2.7484e-04 - accuracy: 0.9999\n",
      "Epoch 2/10\n",
      "108544/108956 [============================>.] - ETA: 0s - loss: 2.0902e-04 - accuracy: 0.9999WARNING:tensorflow:Early stopping conditioned on metric `val_loss` which is not available. Available metrics are: loss,accuracy\n",
      "108956/108956 [==============================] - 6s 58us/sample - loss: 2.0884e-04 - accuracy: 0.9999\n",
      "Epoch 3/10\n",
      "108544/108956 [============================>.] - ETA: 0s - loss: 1.6744e-04 - accuracy: 1.0000WARNING:tensorflow:Early stopping conditioned on metric `val_loss` which is not available. Available metrics are: loss,accuracy\n",
      "108956/108956 [==============================] - 6s 59us/sample - loss: 1.6706e-04 - accuracy: 1.0000\n",
      "Epoch 4/10\n",
      "108544/108956 [============================>.] - ETA: 0s - loss: 1.5637e-04 - accuracy: 1.0000WARNING:tensorflow:Early stopping conditioned on metric `val_loss` which is not available. Available metrics are: loss,accuracy\n",
      "108956/108956 [==============================] - 6s 59us/sample - loss: 1.5625e-04 - accuracy: 1.0000\n",
      "Epoch 5/10\n",
      "108544/108956 [============================>.] - ETA: 0s - loss: 1.2676e-04 - accuracy: 1.0000WARNING:tensorflow:Early stopping conditioned on metric `val_loss` which is not available. Available metrics are: loss,accuracy\n",
      "108956/108956 [==============================] - 6s 59us/sample - loss: 1.2637e-04 - accuracy: 1.0000\n",
      "Epoch 6/10\n",
      "108544/108956 [============================>.] - ETA: 0s - loss: 1.1215e-04 - accuracy: 1.0000WARNING:tensorflow:Early stopping conditioned on metric `val_loss` which is not available. Available metrics are: loss,accuracy\n",
      "108956/108956 [==============================] - 6s 59us/sample - loss: 1.1181e-04 - accuracy: 1.0000\n",
      "Epoch 7/10\n",
      "108544/108956 [============================>.] - ETA: 0s - loss: 1.1019e-04 - accuracy: 1.0000WARNING:tensorflow:Early stopping conditioned on metric `val_loss` which is not available. Available metrics are: loss,accuracy\n",
      "108956/108956 [==============================] - 6s 59us/sample - loss: 1.0983e-04 - accuracy: 1.0000\n",
      "Epoch 8/10\n",
      "108544/108956 [============================>.] - ETA: 0s - loss: 9.3348e-05 - accuracy: 1.0000WARNING:tensorflow:Early stopping conditioned on metric `val_loss` which is not available. Available metrics are: loss,accuracy\n",
      "108956/108956 [==============================] - 6s 59us/sample - loss: 9.3211e-05 - accuracy: 1.0000\n",
      "Epoch 9/10\n",
      "108544/108956 [============================>.] - ETA: 0s - loss: 7.9832e-05 - accuracy: 1.0000WARNING:tensorflow:Early stopping conditioned on metric `val_loss` which is not available. Available metrics are: loss,accuracy\n",
      "108956/108956 [==============================] - 6s 59us/sample - loss: 7.9926e-05 - accuracy: 1.0000\n",
      "Epoch 10/10\n",
      "108544/108956 [============================>.] - ETA: 0s - loss: 6.7413e-05 - accuracy: 1.0000WARNING:tensorflow:Early stopping conditioned on metric `val_loss` which is not available. Available metrics are: loss,accuracy\n",
      "108956/108956 [==============================] - 6s 59us/sample - loss: 6.7333e-05 - accuracy: 1.0000\n"
     ]
    },
    {
     "data": {
      "text/plain": [
       "<tensorflow.python.keras.callbacks.History at 0x1d36a885e88>"
      ]
     },
     "execution_count": 11,
     "metadata": {},
     "output_type": "execute_result"
    },
    {
     "name": "stdout",
     "output_type": "stream",
     "text": [
      "accuracy_score 0.9998425367586321\n",
      "recall_score 0.9935897435897436\n",
      "precision_score 0.9945557067859226\n",
      "f1_score 0.994072490525702\n",
      "Model: \"model_4\"\n",
      "_________________________________________________________________\n",
      "Layer (type)                 Output Shape              Param #   \n",
      "=================================================================\n",
      "input_1 (InputLayer)         [(None, 32, 256)]         0         \n",
      "_________________________________________________________________\n",
      "bidirectional (Bidirectional (None, 32, 96)            117120    \n",
      "_________________________________________________________________\n",
      "time_distributed (TimeDistri (None, 32, 1)             97        \n",
      "=================================================================\n",
      "Total params: 117,217\n",
      "Trainable params: 117,217\n",
      "Non-trainable params: 0\n",
      "_________________________________________________________________\n",
      "======Training stage======\n",
      "Train on 108956 samples\n",
      "Epoch 1/10\n",
      "108160/108956 [============================>.] - ETA: 0s - loss: 1.6200e-04 - accuracy: 1.0000WARNING:tensorflow:Early stopping conditioned on metric `val_loss` which is not available. Available metrics are: loss,accuracy\n",
      "108956/108956 [==============================] - 9s 82us/sample - loss: 1.6162e-04 - accuracy: 1.0000\n",
      "Epoch 2/10\n",
      "108416/108956 [============================>.] - ETA: 0s - loss: 8.9168e-05 - accuracy: 1.0000WARNING:tensorflow:Early stopping conditioned on metric `val_loss` which is not available. Available metrics are: loss,accuracy\n",
      "108956/108956 [==============================] - 6s 59us/sample - loss: 8.9135e-05 - accuracy: 1.0000\n",
      "Epoch 3/10\n",
      "108544/108956 [============================>.] - ETA: 0s - loss: 7.4495e-05 - accuracy: 1.0000WARNING:tensorflow:Early stopping conditioned on metric `val_loss` which is not available. Available metrics are: loss,accuracy\n",
      "108956/108956 [==============================] - 6s 58us/sample - loss: 7.4456e-05 - accuracy: 1.0000\n",
      "Epoch 4/10\n",
      "108544/108956 [============================>.] - ETA: 0s - loss: 6.1027e-05 - accuracy: 1.0000WARNING:tensorflow:Early stopping conditioned on metric `val_loss` which is not available. Available metrics are: loss,accuracy\n",
      "108956/108956 [==============================] - 6s 58us/sample - loss: 6.0874e-05 - accuracy: 1.0000\n",
      "Epoch 5/10\n",
      "108544/108956 [============================>.] - ETA: 0s - loss: 5.4570e-05 - accuracy: 1.0000WARNING:tensorflow:Early stopping conditioned on metric `val_loss` which is not available. Available metrics are: loss,accuracy\n",
      "108956/108956 [==============================] - 6s 58us/sample - loss: 5.4392e-05 - accuracy: 1.0000\n",
      "Epoch 6/10\n",
      "108544/108956 [============================>.] - ETA: 0s - loss: 4.6065e-05 - accuracy: 1.0000WARNING:tensorflow:Early stopping conditioned on metric `val_loss` which is not available. Available metrics are: loss,accuracy\n",
      "108956/108956 [==============================] - 6s 58us/sample - loss: 4.5938e-05 - accuracy: 1.0000\n",
      "Epoch 7/10\n",
      "108544/108956 [============================>.] - ETA: 0s - loss: 4.5653e-05 - accuracy: 1.0000WARNING:tensorflow:Early stopping conditioned on metric `val_loss` which is not available. Available metrics are: loss,accuracy\n",
      "108956/108956 [==============================] - 6s 58us/sample - loss: 4.5485e-05 - accuracy: 1.0000\n",
      "Epoch 8/10\n",
      "108544/108956 [============================>.] - ETA: 0s - loss: 4.6453e-05 - accuracy: 1.0000WARNING:tensorflow:Early stopping conditioned on metric `val_loss` which is not available. Available metrics are: loss,accuracy\n",
      "108956/108956 [==============================] - 6s 58us/sample - loss: 4.6511e-05 - accuracy: 1.0000\n",
      "Epoch 9/10\n",
      "108544/108956 [============================>.] - ETA: 0s - loss: 3.9556e-05 - accuracy: 1.0000WARNING:tensorflow:Early stopping conditioned on metric `val_loss` which is not available. Available metrics are: loss,accuracy\n",
      "108956/108956 [==============================] - 6s 58us/sample - loss: 4.0739e-05 - accuracy: 1.0000\n",
      "Epoch 10/10\n",
      "108288/108956 [============================>.] - ETA: 0s - loss: 3.7992e-05 - accuracy: 1.0000WARNING:tensorflow:Early stopping conditioned on metric `val_loss` which is not available. Available metrics are: loss,accuracy\n",
      "108956/108956 [==============================] - 6s 58us/sample - loss: 3.7820e-05 - accuracy: 1.0000\n"
     ]
    },
    {
     "data": {
      "text/plain": [
       "<tensorflow.python.keras.callbacks.History at 0x1d36e6613c8>"
      ]
     },
     "execution_count": 11,
     "metadata": {},
     "output_type": "execute_result"
    },
    {
     "name": "stdout",
     "output_type": "stream",
     "text": [
      "accuracy_score 0.9999251404262349\n",
      "recall_score 0.9965580076938652\n",
      "precision_score 0.9975678962302391\n",
      "f1_score 0.9970626962422768\n",
      "Model: \"model_5\"\n",
      "_________________________________________________________________\n",
      "Layer (type)                 Output Shape              Param #   \n",
      "=================================================================\n",
      "input_1 (InputLayer)         [(None, 32, 256)]         0         \n",
      "_________________________________________________________________\n",
      "bidirectional (Bidirectional (None, 32, 96)            117120    \n",
      "_________________________________________________________________\n",
      "time_distributed (TimeDistri (None, 32, 1)             97        \n",
      "=================================================================\n",
      "Total params: 117,217\n",
      "Trainable params: 117,217\n",
      "Non-trainable params: 0\n",
      "_________________________________________________________________\n",
      "======Training stage======\n",
      "Train on 108956 samples\n",
      "Epoch 1/10\n",
      "108544/108956 [============================>.] - ETA: 0s - loss: 7.6354e-05 - accuracy: 1.0000WARNING:tensorflow:Early stopping conditioned on metric `val_loss` which is not available. Available metrics are: loss,accuracy\n",
      "108956/108956 [==============================] - 9s 81us/sample - loss: 7.6974e-05 - accuracy: 1.0000\n",
      "Epoch 2/10\n",
      "108544/108956 [============================>.] - ETA: 0s - loss: 4.4772e-05 - accuracy: 1.0000WARNING:tensorflow:Early stopping conditioned on metric `val_loss` which is not available. Available metrics are: loss,accuracy\n",
      "108956/108956 [==============================] - 6s 58us/sample - loss: 4.4623e-05 - accuracy: 1.0000\n",
      "Epoch 3/10\n",
      "108416/108956 [============================>.] - ETA: 0s - loss: 3.3725e-05 - accuracy: 1.0000WARNING:tensorflow:Early stopping conditioned on metric `val_loss` which is not available. Available metrics are: loss,accuracy\n",
      "108956/108956 [==============================] - 6s 59us/sample - loss: 3.3613e-05 - accuracy: 1.0000\n",
      "Epoch 4/10\n",
      "108544/108956 [============================>.] - ETA: 0s - loss: 3.0310e-05 - accuracy: 1.0000WARNING:tensorflow:Early stopping conditioned on metric `val_loss` which is not available. Available metrics are: loss,accuracy\n",
      "108956/108956 [==============================] - 6s 59us/sample - loss: 3.0225e-05 - accuracy: 1.0000\n",
      "Epoch 5/10\n",
      "108544/108956 [============================>.] - ETA: 0s - loss: 2.9109e-05 - accuracy: 1.0000WARNING:tensorflow:Early stopping conditioned on metric `val_loss` which is not available. Available metrics are: loss,accuracy\n",
      "108956/108956 [==============================] - 6s 58us/sample - loss: 2.9171e-05 - accuracy: 1.0000\n",
      "Epoch 6/10\n",
      "108544/108956 [============================>.] - ETA: 0s - loss: 3.7787e-05 - accuracy: 1.0000WARNING:tensorflow:Early stopping conditioned on metric `val_loss` which is not available. Available metrics are: loss,accuracy\n",
      "108956/108956 [==============================] - 6s 59us/sample - loss: 3.7661e-05 - accuracy: 1.0000\n",
      "Epoch 7/10\n",
      "108544/108956 [============================>.] - ETA: 0s - loss: 2.6791e-05 - accuracy: 1.0000WARNING:tensorflow:Early stopping conditioned on metric `val_loss` which is not available. Available metrics are: loss,accuracy\n",
      "108956/108956 [==============================] - 6s 60us/sample - loss: 2.6787e-05 - accuracy: 1.0000\n",
      "Epoch 8/10\n",
      "108544/108956 [============================>.] - ETA: 0s - loss: 2.6382e-05 - accuracy: 1.0000WARNING:tensorflow:Early stopping conditioned on metric `val_loss` which is not available. Available metrics are: loss,accuracy\n",
      "108956/108956 [==============================] - 6s 59us/sample - loss: 2.6289e-05 - accuracy: 1.0000\n",
      "Epoch 9/10\n",
      "108544/108956 [============================>.] - ETA: 0s - loss: 2.2282e-05 - accuracy: 1.0000WARNING:tensorflow:Early stopping conditioned on metric `val_loss` which is not available. Available metrics are: loss,accuracy\n",
      "108956/108956 [==============================] - 6s 59us/sample - loss: 2.2201e-05 - accuracy: 1.0000\n",
      "Epoch 10/10\n",
      "108672/108956 [============================>.] - ETA: 0s - loss: 3.2039e-05 - accuracy: 1.0000WARNING:tensorflow:Early stopping conditioned on metric `val_loss` which is not available. Available metrics are: loss,accuracy\n",
      "108956/108956 [==============================] - 6s 59us/sample - loss: 3.1959e-05 - accuracy: 1.0000\n"
     ]
    },
    {
     "data": {
      "text/plain": [
       "<tensorflow.python.keras.callbacks.History at 0x1d377bd8808>"
      ]
     },
     "execution_count": 11,
     "metadata": {},
     "output_type": "execute_result"
    },
    {
     "name": "stdout",
     "output_type": "stream",
     "text": [
      "accuracy_score 0.9999638608954238\n",
      "recall_score 0.9976589933671479\n",
      "precision_score 0.9996090695856138\n",
      "f1_score 0.9986330794766648\n",
      "Model: \"model_6\"\n",
      "_________________________________________________________________\n",
      "Layer (type)                 Output Shape              Param #   \n",
      "=================================================================\n",
      "input_1 (InputLayer)         [(None, 32, 256)]         0         \n",
      "_________________________________________________________________\n",
      "bidirectional (Bidirectional (None, 32, 96)            117120    \n",
      "_________________________________________________________________\n",
      "time_distributed (TimeDistri (None, 32, 1)             97        \n",
      "=================================================================\n",
      "Total params: 117,217\n",
      "Trainable params: 117,217\n",
      "Non-trainable params: 0\n",
      "_________________________________________________________________\n",
      "======Training stage======\n",
      "Train on 108956 samples\n",
      "Epoch 1/10\n",
      "108544/108956 [============================>.] - ETA: 0s - loss: 3.3846e-05 - accuracy: 1.0000WARNING:tensorflow:Early stopping conditioned on metric `val_loss` which is not available. Available metrics are: loss,accuracy\n",
      "108956/108956 [==============================] - 9s 82us/sample - loss: 3.3725e-05 - accuracy: 1.0000\n",
      "Epoch 2/10\n",
      "108544/108956 [============================>.] - ETA: 0s - loss: 2.7780e-05 - accuracy: 1.0000WARNING:tensorflow:Early stopping conditioned on metric `val_loss` which is not available. Available metrics are: loss,accuracy\n",
      "108956/108956 [==============================] - 6s 59us/sample - loss: 2.7678e-05 - accuracy: 1.0000\n",
      "Epoch 3/10\n",
      "108544/108956 [============================>.] - ETA: 0s - loss: 1.8117e-05 - accuracy: 1.0000WARNING:tensorflow:Early stopping conditioned on metric `val_loss` which is not available. Available metrics are: loss,accuracy\n",
      "108956/108956 [==============================] - 6s 60us/sample - loss: 1.8175e-05 - accuracy: 1.0000\n",
      "Epoch 4/10\n",
      "108416/108956 [============================>.] - ETA: 0s - loss: 1.4106e-05 - accuracy: 1.0000WARNING:tensorflow:Early stopping conditioned on metric `val_loss` which is not available. Available metrics are: loss,accuracy\n",
      "108956/108956 [==============================] - 6s 59us/sample - loss: 1.4047e-05 - accuracy: 1.0000\n",
      "Epoch 5/10\n",
      "108416/108956 [============================>.] - ETA: 0s - loss: 1.4347e-05 - accuracy: 1.0000WARNING:tensorflow:Early stopping conditioned on metric `val_loss` which is not available. Available metrics are: loss,accuracy\n",
      "108956/108956 [==============================] - 6s 59us/sample - loss: 1.4298e-05 - accuracy: 1.0000\n",
      "Epoch 6/10\n",
      "108288/108956 [============================>.] - ETA: 0s - loss: 1.6122e-05 - accuracy: 1.0000WARNING:tensorflow:Early stopping conditioned on metric `val_loss` which is not available. Available metrics are: loss,accuracy\n",
      "108956/108956 [==============================] - 6s 59us/sample - loss: 1.6028e-05 - accuracy: 1.0000\n",
      "Epoch 7/10\n",
      "108544/108956 [============================>.] - ETA: 0s - loss: 2.2620e-05 - accuracy: 1.0000WARNING:tensorflow:Early stopping conditioned on metric `val_loss` which is not available. Available metrics are: loss,accuracy\n",
      "108956/108956 [==============================] - 6s 60us/sample - loss: 2.2538e-05 - accuracy: 1.0000\n",
      "Epoch 8/10\n",
      "108928/108956 [============================>.] - ETA: 0s - loss: 1.9023e-05 - accuracy: 1.0000WARNING:tensorflow:Early stopping conditioned on metric `val_loss` which is not available. Available metrics are: loss,accuracy\n",
      "108956/108956 [==============================] - 7s 60us/sample - loss: 1.9018e-05 - accuracy: 1.0000\n",
      "Epoch 9/10\n",
      "108416/108956 [============================>.] - ETA: 0s - loss: 2.4555e-05 - accuracy: 1.0000WARNING:tensorflow:Early stopping conditioned on metric `val_loss` which is not available. Available metrics are: loss,accuracy\n",
      "108956/108956 [==============================] - 7s 62us/sample - loss: 2.4438e-05 - accuracy: 1.0000\n",
      "Epoch 10/10\n",
      "108160/108956 [============================>.] - ETA: 0s - loss: 1.3964e-05 - accuracy: 1.0000WARNING:tensorflow:Early stopping conditioned on metric `val_loss` which is not available. Available metrics are: loss,accuracy\n",
      "108956/108956 [==============================] - 7s 61us/sample - loss: 1.3877e-05 - accuracy: 1.0000\n"
     ]
    },
    {
     "data": {
      "text/plain": [
       "<tensorflow.python.keras.callbacks.History at 0x1d36523ff88>"
      ]
     },
     "execution_count": 11,
     "metadata": {},
     "output_type": "execute_result"
    },
    {
     "name": "stdout",
     "output_type": "stream",
     "text": [
      "accuracy_score 0.9999690236246489\n",
      "recall_score 0.9982089552238806\n",
      "precision_score 0.9994022713687986\n",
      "f1_score 0.998805256869773\n",
      "Model: \"model_7\"\n",
      "_________________________________________________________________\n",
      "Layer (type)                 Output Shape              Param #   \n",
      "=================================================================\n",
      "input_1 (InputLayer)         [(None, 32, 256)]         0         \n",
      "_________________________________________________________________\n",
      "bidirectional (Bidirectional (None, 32, 96)            117120    \n",
      "_________________________________________________________________\n",
      "time_distributed (TimeDistri (None, 32, 1)             97        \n",
      "=================================================================\n",
      "Total params: 117,217\n",
      "Trainable params: 117,217\n",
      "Non-trainable params: 0\n",
      "_________________________________________________________________\n",
      "======Training stage======\n",
      "Train on 108956 samples\n",
      "Epoch 1/10\n",
      "108544/108956 [============================>.] - ETA: 0s - loss: 2.9342e-05 - accuracy: 1.0000WARNING:tensorflow:Early stopping conditioned on metric `val_loss` which is not available. Available metrics are: loss,accuracy\n",
      "108956/108956 [==============================] - 10s 95us/sample - loss: 2.9325e-05 - accuracy: 1.0000\n",
      "Epoch 2/10\n",
      "108544/108956 [============================>.] - ETA: 0s - loss: 2.0932e-05 - accuracy: 1.0000WARNING:tensorflow:Early stopping conditioned on metric `val_loss` which is not available. Available metrics are: loss,accuracy\n",
      "108956/108956 [==============================] - 6s 59us/sample - loss: 2.0858e-05 - accuracy: 1.0000\n",
      "Epoch 3/10\n",
      "108544/108956 [============================>.] - ETA: 0s - loss: 2.5256e-05 - accuracy: 1.0000WARNING:tensorflow:Early stopping conditioned on metric `val_loss` which is not available. Available metrics are: loss,accuracy\n",
      "108956/108956 [==============================] - 6s 59us/sample - loss: 2.5166e-05 - accuracy: 1.0000\n",
      "Epoch 4/10\n",
      "108544/108956 [============================>.] - ETA: 0s - loss: 1.4514e-05 - accuracy: 1.0000WARNING:tensorflow:Early stopping conditioned on metric `val_loss` which is not available. Available metrics are: loss,accuracy\n",
      "108956/108956 [==============================] - 7s 62us/sample - loss: 1.4567e-05 - accuracy: 1.0000\n",
      "Epoch 5/10\n",
      "108544/108956 [============================>.] - ETA: 0s - loss: 1.7833e-05 - accuracy: 1.0000WARNING:tensorflow:Early stopping conditioned on metric `val_loss` which is not available. Available metrics are: loss,accuracy\n",
      "108956/108956 [==============================] - 7s 61us/sample - loss: 1.7772e-05 - accuracy: 1.0000\n",
      "Epoch 6/10\n",
      "108544/108956 [============================>.] - ETA: 0s - loss: 1.4941e-05 - accuracy: 1.0000WARNING:tensorflow:Early stopping conditioned on metric `val_loss` which is not available. Available metrics are: loss,accuracy\n",
      "108956/108956 [==============================] - 7s 60us/sample - loss: 1.4898e-05 - accuracy: 1.0000\n",
      "Epoch 7/10\n",
      "108544/108956 [============================>.] - ETA: 0s - loss: 8.1018e-06 - accuracy: 1.0000WARNING:tensorflow:Early stopping conditioned on metric `val_loss` which is not available. Available metrics are: loss,accuracy\n",
      "108956/108956 [==============================] - 6s 59us/sample - loss: 8.3364e-06 - accuracy: 1.0000\n",
      "Epoch 8/10\n",
      "108544/108956 [============================>.] - ETA: 0s - loss: 1.1385e-05 - accuracy: 1.0000WARNING:tensorflow:Early stopping conditioned on metric `val_loss` which is not available. Available metrics are: loss,accuracy\n",
      "108956/108956 [==============================] - 6s 59us/sample - loss: 1.1343e-05 - accuracy: 1.0000\n",
      "Epoch 9/10\n",
      "108544/108956 [============================>.] - ETA: 0s - loss: 1.2987e-05 - accuracy: 1.0000WARNING:tensorflow:Early stopping conditioned on metric `val_loss` which is not available. Available metrics are: loss,accuracy\n",
      "108956/108956 [==============================] - 6s 60us/sample - loss: 1.2939e-05 - accuracy: 1.0000\n",
      "Epoch 10/10\n",
      "108544/108956 [============================>.] - ETA: 0s - loss: 1.5084e-05 - accuracy: 1.0000WARNING:tensorflow:Early stopping conditioned on metric `val_loss` which is not available. Available metrics are: loss,accuracy\n",
      "108956/108956 [==============================] - 6s 59us/sample - loss: 1.5028e-05 - accuracy: 1.0000\n"
     ]
    },
    {
     "data": {
      "text/plain": [
       "<tensorflow.python.keras.callbacks.History at 0x1d37ca2b7c8>"
      ]
     },
     "execution_count": 11,
     "metadata": {},
     "output_type": "execute_result"
    },
    {
     "name": "stdout",
     "output_type": "stream",
     "text": [
      "accuracy_score 0.9999974186353874\n",
      "recall_score 0.9997960432388334\n",
      "precision_score 1.0\n",
      "f1_score 0.999898011218766\n",
      "Model: \"model_8\"\n",
      "_________________________________________________________________\n",
      "Layer (type)                 Output Shape              Param #   \n",
      "=================================================================\n",
      "input_1 (InputLayer)         [(None, 32, 256)]         0         \n",
      "_________________________________________________________________\n",
      "bidirectional (Bidirectional (None, 32, 96)            117120    \n",
      "_________________________________________________________________\n",
      "time_distributed (TimeDistri (None, 32, 1)             97        \n",
      "=================================================================\n",
      "Total params: 117,217\n",
      "Trainable params: 117,217\n",
      "Non-trainable params: 0\n",
      "_________________________________________________________________\n",
      "======Training stage======\n",
      "Train on 108956 samples\n",
      "Epoch 1/10\n",
      "108544/108956 [============================>.] - ETA: 0s - loss: 1.3640e-05 - accuracy: 1.0000WARNING:tensorflow:Early stopping conditioned on metric `val_loss` which is not available. Available metrics are: loss,accuracy\n",
      "108956/108956 [==============================] - 9s 82us/sample - loss: 1.3594e-05 - accuracy: 1.0000\n",
      "Epoch 2/10\n",
      "108544/108956 [============================>.] - ETA: 0s - loss: 1.8729e-05 - accuracy: 1.0000WARNING:tensorflow:Early stopping conditioned on metric `val_loss` which is not available. Available metrics are: loss,accuracy\n",
      "108956/108956 [==============================] - 6s 59us/sample - loss: 1.8675e-05 - accuracy: 1.0000\n",
      "Epoch 3/10\n",
      "108544/108956 [============================>.] - ETA: 0s - loss: 1.0485e-05 - accuracy: 1.0000WARNING:tensorflow:Early stopping conditioned on metric `val_loss` which is not available. Available metrics are: loss,accuracy\n",
      "108956/108956 [==============================] - 6s 59us/sample - loss: 1.0446e-05 - accuracy: 1.0000\n",
      "Epoch 4/10\n",
      "108544/108956 [============================>.] - ETA: 0s - loss: 8.8950e-06 - accuracy: 1.0000WARNING:tensorflow:Early stopping conditioned on metric `val_loss` which is not available. Available metrics are: loss,accuracy\n",
      "108956/108956 [==============================] - 7s 61us/sample - loss: 8.9454e-06 - accuracy: 1.0000\n",
      "Epoch 5/10\n",
      "108544/108956 [============================>.] - ETA: 0s - loss: 7.7853e-06 - accuracy: 1.0000WARNING:tensorflow:Early stopping conditioned on metric `val_loss` which is not available. Available metrics are: loss,accuracy\n",
      "108956/108956 [==============================] - 6s 59us/sample - loss: 7.7570e-06 - accuracy: 1.0000\n",
      "Epoch 6/10\n",
      "108544/108956 [============================>.] - ETA: 0s - loss: 2.0495e-05 - accuracy: 1.0000WARNING:tensorflow:Early stopping conditioned on metric `val_loss` which is not available. Available metrics are: loss,accuracy\n",
      "108956/108956 [==============================] - 6s 59us/sample - loss: 2.0419e-05 - accuracy: 1.0000\n",
      "Epoch 7/10\n",
      "108544/108956 [============================>.] - ETA: 0s - loss: 6.6325e-06 - accuracy: 1.0000WARNING:tensorflow:Early stopping conditioned on metric `val_loss` which is not available. Available metrics are: loss,accuracy\n",
      "108956/108956 [==============================] - 6s 59us/sample - loss: 6.6093e-06 - accuracy: 1.0000\n",
      "Epoch 8/10\n",
      "108544/108956 [============================>.] - ETA: 0s - loss: 1.1191e-05 - accuracy: 1.0000WARNING:tensorflow:Early stopping conditioned on metric `val_loss` which is not available. Available metrics are: loss,accuracy\n",
      "108956/108956 [==============================] - 6s 59us/sample - loss: 1.1150e-05 - accuracy: 1.0000\n",
      "Epoch 9/10\n",
      "108544/108956 [============================>.] - ETA: 0s - loss: 1.0216e-05 - accuracy: 1.0000WARNING:tensorflow:Early stopping conditioned on metric `val_loss` which is not available. Available metrics are: loss,accuracy\n",
      "108956/108956 [==============================] - 6s 59us/sample - loss: 1.0178e-05 - accuracy: 1.0000\n",
      "Epoch 10/10\n",
      "108544/108956 [============================>.] - ETA: 0s - loss: 1.3096e-05 - accuracy: 1.0000WARNING:tensorflow:Early stopping conditioned on metric `val_loss` which is not available. Available metrics are: loss,accuracy\n",
      "108956/108956 [==============================] - 6s 59us/sample - loss: 1.3049e-05 - accuracy: 1.0000\n"
     ]
    },
    {
     "data": {
      "text/plain": [
       "<tensorflow.python.keras.callbacks.History at 0x1d36e1cec88>"
      ]
     },
     "execution_count": 11,
     "metadata": {},
     "output_type": "execute_result"
    },
    {
     "name": "stdout",
     "output_type": "stream",
     "text": [
      "accuracy_score 0.9999948372707749\n",
      "recall_score 0.9997980206018986\n",
      "precision_score 0.9997980206018986\n",
      "f1_score 0.9997980206018986\n",
      "Model: \"model_9\"\n",
      "_________________________________________________________________\n",
      "Layer (type)                 Output Shape              Param #   \n",
      "=================================================================\n",
      "input_1 (InputLayer)         [(None, 32, 256)]         0         \n",
      "_________________________________________________________________\n",
      "bidirectional (Bidirectional (None, 32, 96)            117120    \n",
      "_________________________________________________________________\n",
      "time_distributed (TimeDistri (None, 32, 1)             97        \n",
      "=================================================================\n",
      "Total params: 117,217\n",
      "Trainable params: 117,217\n",
      "Non-trainable params: 0\n",
      "_________________________________________________________________\n",
      "======Training stage======\n",
      "Train on 108956 samples\n",
      "Epoch 1/10\n",
      "108544/108956 [============================>.] - ETA: 0s - loss: 1.2495e-05 - accuracy: 1.0000WARNING:tensorflow:Early stopping conditioned on metric `val_loss` which is not available. Available metrics are: loss,accuracy\n",
      "108956/108956 [==============================] - 9s 82us/sample - loss: 1.2452e-05 - accuracy: 1.0000\n",
      "Epoch 2/10\n",
      "108544/108956 [============================>.] - ETA: 0s - loss: 9.3286e-06 - accuracy: 1.0000WARNING:tensorflow:Early stopping conditioned on metric `val_loss` which is not available. Available metrics are: loss,accuracy\n",
      "108956/108956 [==============================] - 6s 60us/sample - loss: 9.3109e-06 - accuracy: 1.0000\n",
      "Epoch 3/10\n",
      "108544/108956 [============================>.] - ETA: 0s - loss: 8.2869e-06 - accuracy: 1.0000WARNING:tensorflow:Early stopping conditioned on metric `val_loss` which is not available. Available metrics are: loss,accuracy\n",
      "108956/108956 [==============================] - 7s 60us/sample - loss: 8.2558e-06 - accuracy: 1.0000\n",
      "Epoch 4/10\n",
      "108416/108956 [============================>.] - ETA: 0s - loss: 1.6938e-05 - accuracy: 1.0000WARNING:tensorflow:Early stopping conditioned on metric `val_loss` which is not available. Available metrics are: loss,accuracy\n",
      "108956/108956 [==============================] - 7s 60us/sample - loss: 1.6856e-05 - accuracy: 1.0000\n",
      "Epoch 5/10\n",
      "108544/108956 [============================>.] - ETA: 0s - loss: 8.6580e-06 - accuracy: 1.0000WARNING:tensorflow:Early stopping conditioned on metric `val_loss` which is not available. Available metrics are: loss,accuracy\n",
      "108956/108956 [==============================] - 7s 60us/sample - loss: 8.6374e-06 - accuracy: 1.0000\n",
      "Epoch 6/10\n",
      "108416/108956 [============================>.] - ETA: 0s - loss: 6.9565e-06 - accuracy: 1.0000WARNING:tensorflow:Early stopping conditioned on metric `val_loss` which is not available. Available metrics are: loss,accuracy\n",
      "108956/108956 [==============================] - 7s 60us/sample - loss: 8.2488e-06 - accuracy: 1.0000\n",
      "Epoch 7/10\n",
      "108800/108956 [============================>.] - ETA: 0s - loss: 8.4147e-06 - accuracy: 1.0000WARNING:tensorflow:Early stopping conditioned on metric `val_loss` which is not available. Available metrics are: loss,accuracy\n",
      "108956/108956 [==============================] - 7s 60us/sample - loss: 8.4027e-06 - accuracy: 1.0000\n",
      "Epoch 8/10\n",
      "108544/108956 [============================>.] - ETA: 0s - loss: 7.6742e-06 - accuracy: 1.0000WARNING:tensorflow:Early stopping conditioned on metric `val_loss` which is not available. Available metrics are: loss,accuracy\n",
      "108956/108956 [==============================] - 6s 60us/sample - loss: 7.6667e-06 - accuracy: 1.0000\n",
      "Epoch 9/10\n",
      "108544/108956 [============================>.] - ETA: 0s - loss: 9.4095e-06 - accuracy: 1.0000WARNING:tensorflow:Early stopping conditioned on metric `val_loss` which is not available. Available metrics are: loss,accuracy\n",
      "108956/108956 [==============================] - 6s 59us/sample - loss: 1.3919e-05 - accuracy: 1.0000\n",
      "Epoch 10/10\n",
      "108544/108956 [============================>.] - ETA: 0s - loss: 5.4732e-06 - accuracy: 1.0000WARNING:tensorflow:Early stopping conditioned on metric `val_loss` which is not available. Available metrics are: loss,accuracy\n",
      "108956/108956 [==============================] - 6s 59us/sample - loss: 5.4528e-06 - accuracy: 1.0000\n"
     ]
    },
    {
     "data": {
      "text/plain": [
       "<tensorflow.python.keras.callbacks.History at 0x1d36cf4e388>"
      ]
     },
     "execution_count": 11,
     "metadata": {},
     "output_type": "execute_result"
    },
    {
     "name": "stdout",
     "output_type": "stream",
     "text": [
      "accuracy_score 0.9999922559061623\n",
      "recall_score 0.9998055987558321\n",
      "precision_score 0.9996112730806609\n",
      "f1_score 0.9997084264748761\n",
      "\n",
      "K-fold cross validation Accuracy: [0.9991688692491947, 0.9994889320227968, 0.9997496076325789, 0.9998425367586321, 0.9999251404262349, 0.9999638608954238, 0.9999690236246489, 0.9999974186353874, 0.9999948372707749, 0.9999922559061623]\n",
      "\n",
      "K-fold cross validation Recall: [0.9649744195198741, 0.980944819372767, 0.9889785475300138, 0.9935897435897436, 0.9965580076938652, 0.9976589933671479, 0.9982089552238806, 0.9997960432388334, 0.9997980206018986, 0.9998055987558321]\n",
      "\n",
      "K-fold cross validation Precision: [0.971473851030111, 0.9797779540047581, 0.9919068298460324, 0.9945557067859226, 0.9975678962302391, 0.9996090695856138, 0.9994022713687986, 1.0, 0.9997980206018986, 0.9996112730806609]\n",
      "\n",
      "K-fold cross validation F1-Score: [0.968213228035538, 0.9803610394762943, 0.9904405242928945, 0.994072490525702, 0.9970626962422768, 0.9986330794766648, 0.998805256869773, 0.999898011218766, 0.9997980206018986, 0.9997084264748761]\n"
     ]
    }
   ],
   "source": [
    "# 교차검증 kfold\n",
    "from sklearn.model_selection import KFold\n",
    "\n",
    "# Accuracy, Precision, Recall, F1-Score\n",
    "from sklearn.metrics import accuracy_score, recall_score, precision_score, f1_score\n",
    "\n",
    "# Confusion Matrix, ROC Curve\n",
    "from sklearn.metrics import confusion_matrix, roc_auc_score\n",
    "\n",
    "# 최종 평가지표들 평균용\n",
    "accuracy, recall, precision, f1score, cm = [], [], [], [], []\n",
    "\n",
    "# 11. 교차검증 kfold - k.split - 10회 / K-Fold 객체 생성\n",
    "# kf = KFold(n_splits=10, shuffle=False, random_state=None) # KFold non shuffle 버전\n",
    "kf = KFold(n_splits=10, shuffle=True, random_state=None) # KFold non shuffle 버전\n",
    "\n",
    "for train, validation in kf.split(x_bc8_1, y_bc8_1):\n",
    "    model1 = models.Model(xInput, xOutput)\n",
    "    model1.compile(loss='binary_crossentropy', optimizer='rmsprop', metrics=['accuracy'])\n",
    "    model1.summary()\n",
    "    print('======Training stage======')\n",
    "    model1.fit(x_bc8_1[train],\n",
    "               y_bc8_1[train],\n",
    "               epochs = 10,\n",
    "               batch_size = 128,\n",
    "               callbacks=[early_stopping])\n",
    "    #k_accuracy = '%.4f' %(model1.evaluate(data_10000x[validation], data_10000y[validation])[1])\n",
    "\n",
    "# 12. 교차검증결과 predict - 검증셋들\n",
    "    # predict 값\n",
    "    k_pr = model1.predict(x_bc8_1[validation])\n",
    "    \n",
    "    # 테스트 predict 결과들 비교 (평가지표 보기위함)\n",
    "    pred = np.round(np.array(k_pr).flatten().tolist())\n",
    "    y_test = np.array(y_bc8_1[validation]).flatten().tolist()\n",
    "    \n",
    "# 13. 평가지표들 출력\n",
    "    ## 평가지표들\n",
    "    k_accuracy = float(accuracy_score(y_test, pred))\n",
    "    k_recall =  float(recall_score(y_test, pred))\n",
    "    k_precision = float(precision_score(y_test, pred))\n",
    "    k_f1_score = float(f1_score(y_test, pred))\n",
    "    #k_cm = float(confusion_matrix(y_test, pred))\n",
    "    \n",
    "    print('accuracy_score', k_accuracy)\n",
    "    print('recall_score', k_recall)\n",
    "    print('precision_score', k_precision)\n",
    "    print('f1_score', k_f1_score)\n",
    "    #print('\\nconfusion_matrix\\n', k_cm)\n",
    "\n",
    "    accuracy.append(k_accuracy)\n",
    "    recall.append(k_recall)\n",
    "    precision.append(k_precision)\n",
    "    f1score.append(k_f1_score)\n",
    "    #cm.append(k_cm)\n",
    "#    print('roc_curve 면적', roc_auc_score(y_test, pred))\n",
    "\n",
    "# 최종 결과지표\n",
    "print('\\nK-fold cross validation Accuracy: {}'.format(accuracy))\n",
    "print('\\nK-fold cross validation Recall: {}'.format(recall))\n",
    "print('\\nK-fold cross validation Precision: {}'.format(precision))\n",
    "print('\\nK-fold cross validation F1-Score: {}'.format(f1score))\n",
    "#print('\\nK-fold cross validation ConfusionMatrix: {}'.format(cm))"
   ]
  },
  {
   "cell_type": "markdown",
   "metadata": {},
   "source": [
    "## (9) 평가지표"
   ]
  },
  {
   "cell_type": "code",
   "execution_count": 12,
   "metadata": {},
   "outputs": [
    {
     "name": "stdout",
     "output_type": "stream",
     "text": [
      "10-Fold Cross_validation. Accuracy : 0.9998092482421835\n",
      "10-Fold Cross_validation. Recall : 0.9920313148893858\n",
      "10-Fold Cross_validation. Precision : 0.9933702872534035\n",
      "10-Fold Cross_validation. F1-Score : 0.9926992773214686\n"
     ]
    }
   ],
   "source": [
    "print('10-Fold Cross_validation. Accuracy :', np.mean(accuracy))\n",
    "print('10-Fold Cross_validation. Recall :', np.mean(recall))\n",
    "print('10-Fold Cross_validation. Precision :', np.mean(precision))\n",
    "print('10-Fold Cross_validation. F1-Score :', np.mean(f1score))"
   ]
  },
  {
   "cell_type": "code",
   "execution_count": 13,
   "metadata": {},
   "outputs": [
    {
     "name": "stdout",
     "output_type": "stream",
     "text": [
      "save 완료\n"
     ]
    }
   ],
   "source": [
    "model1.save('gcc8_bin_core_s32_h48_o1.h5')\n",
    "print('save 완료')"
   ]
  }
 ],
 "metadata": {
  "kernelspec": {
   "display_name": "Python 3",
   "language": "python",
   "name": "python3"
  },
  "language_info": {
   "codemirror_mode": {
    "name": "ipython",
    "version": 3
   },
   "file_extension": ".py",
   "mimetype": "text/x-python",
   "name": "python",
   "nbconvert_exporter": "python",
   "pygments_lexer": "ipython3",
   "version": "3.7.7"
  }
 },
 "nbformat": 4,
 "nbformat_minor": 4
}
