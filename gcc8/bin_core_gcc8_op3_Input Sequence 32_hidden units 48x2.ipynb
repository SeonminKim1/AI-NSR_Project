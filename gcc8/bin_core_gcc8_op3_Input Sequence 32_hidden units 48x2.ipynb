{
 "cells": [
  {
   "cell_type": "markdown",
   "metadata": {},
   "source": [
    "## RNN 모델 N-Byte 방식 (함수정보 포함 vs 미포함 => 1:1 비율)\n",
    "\n",
    "## (1) 데이터로드"
   ]
  },
  {
   "cell_type": "code",
   "execution_count": 1,
   "metadata": {},
   "outputs": [
    {
     "name": "stdout",
     "output_type": "stream",
     "text": [
      "(23151789, 2) (8632590, 2)\n",
      "bin - core concat\n",
      "shape - (31784379, 2)\n",
      "reset_index 완료\n",
      "input data shape\n"
     ]
    },
    {
     "data": {
      "text/html": [
       "<div>\n",
       "<style scoped>\n",
       "    .dataframe tbody tr th:only-of-type {\n",
       "        vertical-align: middle;\n",
       "    }\n",
       "\n",
       "    .dataframe tbody tr th {\n",
       "        vertical-align: top;\n",
       "    }\n",
       "\n",
       "    .dataframe thead th {\n",
       "        text-align: right;\n",
       "    }\n",
       "</style>\n",
       "<table border=\"1\" class=\"dataframe\">\n",
       "  <thead>\n",
       "    <tr style=\"text-align: right;\">\n",
       "      <th></th>\n",
       "      <th>bin</th>\n",
       "      <th>label</th>\n",
       "    </tr>\n",
       "  </thead>\n",
       "  <tbody>\n",
       "    <tr>\n",
       "      <th>0</th>\n",
       "      <td>47</td>\n",
       "      <td>0</td>\n",
       "    </tr>\n",
       "    <tr>\n",
       "      <th>1</th>\n",
       "      <td>108</td>\n",
       "      <td>0</td>\n",
       "    </tr>\n",
       "    <tr>\n",
       "      <th>2</th>\n",
       "      <td>105</td>\n",
       "      <td>0</td>\n",
       "    </tr>\n",
       "    <tr>\n",
       "      <th>3</th>\n",
       "      <td>98</td>\n",
       "      <td>0</td>\n",
       "    </tr>\n",
       "    <tr>\n",
       "      <th>4</th>\n",
       "      <td>47</td>\n",
       "      <td>0</td>\n",
       "    </tr>\n",
       "  </tbody>\n",
       "</table>\n",
       "</div>"
      ],
      "text/plain": [
       "   bin  label\n",
       "0   47      0\n",
       "1  108      0\n",
       "2  105      0\n",
       "3   98      0\n",
       "4   47      0"
      ]
     },
     "execution_count": 1,
     "metadata": {},
     "output_type": "execute_result"
    }
   ],
   "source": [
    "# (1) 데이터로드\n",
    "import pandas as pd\n",
    "import numpy as np\n",
    "\n",
    "import warnings\n",
    "warnings.filterwarnings(action='ignore')\n",
    "\n",
    "# 여러개 쳐도 나오게\n",
    "from IPython.core.interactiveshell import InteractiveShell\n",
    "InteractiveShell.ast_node_interactivity = \"all\"\n",
    "\n",
    "# 파일읽기\n",
    "bin8_3 = pd.read_csv(\"../data/gcc8/o0123합본/o3/o3_gcc8.csv\", index_col=0)\n",
    "core8_3 = pd.read_csv(\"../data/gcc8/o0123합본/o3/o3_core8.csv\", index_col=0)\n",
    "print(bin8_3.shape, core8_3.shape)\n",
    "\n",
    "# reset_index (hex processing 하면서 값이 빠졌으니까 + n_gram 에서 index를 다루기 때문에)\n",
    "bin8_3.reset_index(inplace=True, drop=True)\n",
    "core8_3.reset_index(inplace=True, drop=True)\n",
    "\n",
    "print('bin - core concat')\n",
    "bin8_3 = pd.concat([bin8_3, core8_3], axis=0)\n",
    "print('shape -', bin8_3.shape)\n",
    "print('reset_index 완료')\n",
    "print('input data shape')\n",
    "bin8_3.head()"
   ]
  },
  {
   "cell_type": "code",
   "execution_count": 2,
   "metadata": {},
   "outputs": [
    {
     "name": "stdout",
     "output_type": "stream",
     "text": [
      "256\n",
      "0    31747485\n",
      "1       36894\n",
      "Name: label, dtype: int64\n"
     ]
    }
   ],
   "source": [
    "# (2-1) 데이터체크 1 - hex(16진수)가 256 label을 가져야 dummies 변환 가능 \n",
    "# 16진수 256개 종류가 있어서 pd.get_dummies 사용 가능.\n",
    "print(len(bin8_3['bin'].unique()))\n",
    "\n",
    "# (2-2) 데이터 체크 2 - 1, 0 비율 ==> 1이 함수의 갯수를 뜻함\n",
    "# 정답 데이터 1, 0 비율 확인  ==> 1이 함수의 갯수를 뜻함\n",
    "print(bin8_3['label'].value_counts())"
   ]
  },
  {
   "cell_type": "markdown",
   "metadata": {},
   "source": [
    "## (3) N Byte씩 자르기"
   ]
  },
  {
   "cell_type": "code",
   "execution_count": 3,
   "metadata": {},
   "outputs": [
    {
     "name": "stdout",
     "output_type": "stream",
     "text": [
      "1180608\n",
      "나머지 0\n",
      "최종 길이 1180608\n",
      "bin8_3 1180608\n"
     ]
    }
   ],
   "source": [
    "idx_bin = bin8_3[bin8_3['label']==1].index  # 407, 474 ...\n",
    "ls_bin = list(idx_bin)\n",
    "\n",
    "# 최종 뽑을 행에 대한 index\n",
    "ls_idx_bin = []\n",
    "\n",
    "# n byte 자르기 방식\n",
    "left_idx, right_idx = 0, 32 # 3개씩\n",
    "\n",
    "# n byte 자르기\n",
    "for k in range(left_idx, right_idx):\n",
    "    ls_idx_bin.extend(list(idx_bin + k)) # index 형이라서 가능\n",
    "\n",
    "#ls_idx = list(set(ls_idx)) \n",
    "ls_idx_bin.sort() # 인덱스 정렬\n",
    "\n",
    "# 1차 index 해당범위 초과한 것들 없애기\n",
    "ls_idx_bin = list(filter(lambda x: x<len(bin8_3), ls_idx_bin))\n",
    "print(len(ls_idx_bin))\n",
    "\n",
    "# 2차 남은 index들 중 right_idx 나눈 나머지 없애기\n",
    "sub_bin = len(ls_idx_bin)%(right_idx)\n",
    "print('나머지', sub_bin)\n",
    "\n",
    "ls_idx_bin = ls_idx_bin[:len(ls_idx_bin)-sub_bin]\n",
    "print('최종 길이', len(ls_idx_bin))\n",
    "\n",
    "print('bin8_3', len(ls_idx_bin))\n",
    "\n",
    "# loc 로 수정필요\n",
    "bin8_3_Ngram = bin8_3.loc[ls_idx_bin,:].copy()"
   ]
  },
  {
   "cell_type": "markdown",
   "metadata": {},
   "source": [
    "## (4) false data 만들기"
   ]
  },
  {
   "cell_type": "code",
   "execution_count": 4,
   "metadata": {},
   "outputs": [
    {
     "name": "stdout",
     "output_type": "stream",
     "text": [
      "59304.0\n",
      "0 12174778\n",
      "1000 11014408\n",
      "2000 8779104\n",
      "3000 28596311\n",
      "4000 4042078\n",
      "5000 8166974\n",
      "6000 23076382\n",
      "7000 10377072\n",
      "8000 30079130\n",
      "9000 24102197\n",
      "10000 27162250\n",
      "11000 17103388\n",
      "12000 13881942\n",
      "13000 19645745\n",
      "14000 518484\n",
      "15000 2216015\n",
      "16000 21805833\n",
      "17000 31035856\n",
      "18000 21416346\n",
      "19000 23810086\n",
      "20000 13268222\n",
      "21000 27909485\n",
      "22000 15515745\n",
      "23000 21169645\n",
      "24000 6397856\n",
      "25000 3767346\n",
      "26000 8502000\n",
      "27000 22468682\n",
      "28000 30938587\n",
      "29000 28430502\n",
      "30000 7682416\n",
      "31000 4118949\n",
      "32000 21124182\n",
      "33000 23928286\n",
      "34000 6524864\n",
      "35000 1689815\n",
      "36000 13096146\n",
      "37000 20292902\n",
      "38000 22089873\n",
      "39000 27366713\n",
      "40000 6487263\n",
      "41000 31253839\n",
      "42000 8942436\n",
      "43000 26520824\n",
      "44000 27968851\n",
      "45000 12832678\n",
      "46000 12534081\n",
      "47000 333511\n",
      "48000 27796909\n",
      "49000 27849601\n",
      "50000 4015560\n",
      "51000 29748257\n",
      "52000 5538927\n",
      "53000 28536422\n",
      "54000 19169449\n",
      "55000 390296\n",
      "56000 25347105\n",
      "57000 2486563\n",
      "58000 21115706\n",
      "59000 9442919\n",
      "완료\n",
      "59304\n"
     ]
    }
   ],
   "source": [
    "# false data 만들기 - False 데이터 랜덤 생성\n",
    "\n",
    "# 목표치\n",
    "goal_bin = len(bin8_3_Ngram)/right_idx\n",
    "count_bin = 0\n",
    "\n",
    "print(goal_bin)\n",
    "\n",
    "# 최종 데이터 Frame\n",
    "d_bin = pd.DataFrame(columns = bin8_3.columns)\n",
    "\n",
    "binutils_df = []\n",
    "# goal 에 도달할 때까지\n",
    "while True:\n",
    "    if (count_bin == goal_bin):\n",
    "            break\n",
    "    # 진행상황 살펴보기 위함\n",
    "            \n",
    "    # 랜덤 N 바이트씩 뽑음\n",
    "    # random index\n",
    "    random_idx_bin = np.random.randint(len(bin8_3)-right_idx)\n",
    "\n",
    "    if count_bin % 1000==0:\n",
    "        print(count_bin, end=' ')\n",
    "        print(random_idx_bin)\n",
    "\n",
    "    df_bin = bin8_3[random_idx_bin : random_idx_bin + right_idx]\n",
    "    \n",
    "    # 뽑은 index의 N 바이트 중에 1이 없는 경우만\n",
    "    if 1 not in df_bin['label'] and count_bin < goal_bin:\n",
    "        binutils_df.append(df_bin)\n",
    "        count_bin+=1\n",
    "\n",
    "print('완료')\n",
    "print(len(binutils_df))"
   ]
  },
  {
   "cell_type": "code",
   "execution_count": 5,
   "metadata": {},
   "outputs": [
    {
     "name": "stdout",
     "output_type": "stream",
     "text": [
      "59304\n",
      "36894\n"
     ]
    }
   ],
   "source": [
    "# True data와 False Data 같은지 체크\n",
    "print(len(binutils_df))\n",
    "print(bin8_3['label'].value_counts()[1])"
   ]
  },
  {
   "cell_type": "markdown",
   "metadata": {},
   "source": [
    "## (5) False Data + True Data 합치기"
   ]
  },
  {
   "cell_type": "code",
   "execution_count": 6,
   "metadata": {},
   "outputs": [
    {
     "data": {
      "text/plain": [
       "(3795456, 2)"
      ]
     },
     "execution_count": 6,
     "metadata": {},
     "output_type": "execute_result"
    }
   ],
   "source": [
    "f_data = pd.concat(binutils_df)\n",
    "final = pd.concat([f_data, bin8_3_Ngram])\n",
    "final.shape"
   ]
  },
  {
   "cell_type": "markdown",
   "metadata": {},
   "source": [
    "## (6) one hot encoding"
   ]
  },
  {
   "cell_type": "code",
   "execution_count": 7,
   "metadata": {},
   "outputs": [
    {
     "name": "stdout",
     "output_type": "stream",
     "text": [
      "원핫인코딩완료\n",
      "(3795456, 257)\n"
     ]
    }
   ],
   "source": [
    "# 훈련데이터 (gcc 최적화버전 0, 1, 2, 3 one hot encoding)\n",
    "bc8_3_onehot_Ngram = pd.get_dummies(final['bin'])\n",
    "bc8_3_onehot_Ngram = pd.concat([final['label'], bc8_3_onehot_Ngram], axis=1)\n",
    "\n",
    "print('원핫인코딩완료')\n",
    "print(bc8_3_onehot_Ngram.shape)"
   ]
  },
  {
   "cell_type": "code",
   "execution_count": 8,
   "metadata": {},
   "outputs": [
    {
     "name": "stdout",
     "output_type": "stream",
     "text": [
      "(3795456, 256) (3795456, 256)\n",
      "(118608, 32, 256) (118608, 32, 1)\n"
     ]
    }
   ],
   "source": [
    "# 훈련 데이터, 훈련 라벨\n",
    "x_bc8_3 = bc8_3_onehot_Ngram.iloc[:,1:].to_numpy()\n",
    "y_bc8_3 = bc8_3_onehot_Ngram['label'].to_numpy()\n",
    "print(x_bc8_3.shape, x_bc8_3.shape)\n",
    "\n",
    "x_bc8_3 = x_bc8_3.reshape(-1, right_idx, x_bc8_3.shape[1])\n",
    "y_bc8_3 = y_bc8_3.reshape(-1, right_idx, 1)\n",
    "\n",
    "print(x_bc8_3.shape, y_bc8_3.shape)"
   ]
  },
  {
   "cell_type": "code",
   "execution_count": 9,
   "metadata": {},
   "outputs": [
    {
     "name": "stdout",
     "output_type": "stream",
     "text": [
      "(118608, 32, 256) (118608, 32, 1)\n"
     ]
    }
   ],
   "source": [
    "# numpy 행, 열 섞기\n",
    "p = np.random.permutation(x_bc8_3.shape[0])\n",
    "\n",
    "x_bc8_3 = x_bc8_3[p]\n",
    "y_bc8_3 = y_bc8_3[p]\n",
    "\n",
    "print(x_bc8_3.shape, y_bc8_3.shape)"
   ]
  },
  {
   "cell_type": "markdown",
   "metadata": {},
   "source": [
    "## (7) 모델"
   ]
  },
  {
   "cell_type": "code",
   "execution_count": 10,
   "metadata": {},
   "outputs": [],
   "source": [
    "# (10) 양방향 LSTM 모델링 작업\n",
    "from tensorflow.keras import layers, models\n",
    "#from tf.keras.models import Model, Sequential\n",
    "#from tf.keras.layers import SimpleRNN, Input, Dense, LSTM\n",
    "#from tf.keras.layers import Bidirectional, TimeDistributed\n",
    "\n",
    "# 학습\n",
    "from tensorflow.keras.callbacks import EarlyStopping\n",
    "early_stopping = EarlyStopping(patience = 3) # 조기종료 콜백함수 정의\n",
    "\n",
    "xInput = layers.Input(batch_shape=(None,right_idx, 256)) \n",
    "xBiLstm = layers.Bidirectional(layers.LSTM(48, return_sequences=True, stateful=False), merge_mode = 'concat')(xInput)\n",
    "xOutput = layers.TimeDistributed(layers.Dense(1, activation ='sigmoid'))(xBiLstm) # 각 스텝에서 cost가 전송되고, 오류가 다음 step으로 전송됨."
   ]
  },
  {
   "cell_type": "markdown",
   "metadata": {},
   "source": [
    "## (8) 학습 - 10 KFold"
   ]
  },
  {
   "cell_type": "code",
   "execution_count": 11,
   "metadata": {
    "scrolled": false
   },
   "outputs": [
    {
     "name": "stdout",
     "output_type": "stream",
     "text": [
      "Model: \"model\"\n",
      "_________________________________________________________________\n",
      "Layer (type)                 Output Shape              Param #   \n",
      "=================================================================\n",
      "input_1 (InputLayer)         [(None, 32, 256)]         0         \n",
      "_________________________________________________________________\n",
      "bidirectional (Bidirectional (None, 32, 96)            117120    \n",
      "_________________________________________________________________\n",
      "time_distributed (TimeDistri (None, 32, 1)             97        \n",
      "=================================================================\n",
      "Total params: 117,217\n",
      "Trainable params: 117,217\n",
      "Non-trainable params: 0\n",
      "_________________________________________________________________\n",
      "======Training stage======\n",
      "Train on 106747 samples\n",
      "Epoch 1/10\n",
      "105856/106747 [============================>.] - ETA: 0s - loss: 0.0274 - accuracy: 0.9927WARNING:tensorflow:Early stopping conditioned on metric `val_loss` which is not available. Available metrics are: loss,accuracy\n",
      "106747/106747 [==============================] - 11s 103us/sample - loss: 0.0272 - accuracy: 0.9927\n",
      "Epoch 2/10\n",
      "105856/106747 [============================>.] - ETA: 0s - loss: 0.0070 - accuracy: 0.9978WARNING:tensorflow:Early stopping conditioned on metric `val_loss` which is not available. Available metrics are: loss,accuracy\n",
      "106747/106747 [==============================] - 6s 59us/sample - loss: 0.0070 - accuracy: 0.9978\n",
      "Epoch 3/10\n",
      "105856/106747 [============================>.] - ETA: 0s - loss: 0.0054 - accuracy: 0.9983WARNING:tensorflow:Early stopping conditioned on metric `val_loss` which is not available. Available metrics are: loss,accuracy\n",
      "106747/106747 [==============================] - 6s 59us/sample - loss: 0.0054 - accuracy: 0.9983\n",
      "Epoch 4/10\n",
      "105856/106747 [============================>.] - ETA: 0s - loss: 0.0045 - accuracy: 0.9986WARNING:tensorflow:Early stopping conditioned on metric `val_loss` which is not available. Available metrics are: loss,accuracy\n",
      "106747/106747 [==============================] - 6s 59us/sample - loss: 0.0044 - accuracy: 0.9986\n",
      "Epoch 5/10\n",
      "105856/106747 [============================>.] - ETA: 0s - loss: 0.0037 - accuracy: 0.9988WARNING:tensorflow:Early stopping conditioned on metric `val_loss` which is not available. Available metrics are: loss,accuracy\n",
      "106747/106747 [==============================] - 6s 60us/sample - loss: 0.0037 - accuracy: 0.9988\n",
      "Epoch 6/10\n",
      "105856/106747 [============================>.] - ETA: 0s - loss: 0.0032 - accuracy: 0.9990WARNING:tensorflow:Early stopping conditioned on metric `val_loss` which is not available. Available metrics are: loss,accuracy\n",
      "106747/106747 [==============================] - 6s 60us/sample - loss: 0.0032 - accuracy: 0.9990\n",
      "Epoch 7/10\n",
      "105856/106747 [============================>.] - ETA: 0s - loss: 0.0028 - accuracy: 0.9991WARNING:tensorflow:Early stopping conditioned on metric `val_loss` which is not available. Available metrics are: loss,accuracy\n",
      "106747/106747 [==============================] - 6s 59us/sample - loss: 0.0028 - accuracy: 0.9991\n",
      "Epoch 8/10\n",
      "105856/106747 [============================>.] - ETA: 0s - loss: 0.0024 - accuracy: 0.9992WARNING:tensorflow:Early stopping conditioned on metric `val_loss` which is not available. Available metrics are: loss,accuracy\n",
      "106747/106747 [==============================] - 6s 59us/sample - loss: 0.0024 - accuracy: 0.9992\n",
      "Epoch 9/10\n",
      "106624/106747 [============================>.] - ETA: 0s - loss: 0.0022 - accuracy: 0.9993WARNING:tensorflow:Early stopping conditioned on metric `val_loss` which is not available. Available metrics are: loss,accuracy\n",
      "106747/106747 [==============================] - 6s 59us/sample - loss: 0.0022 - accuracy: 0.9993\n",
      "Epoch 10/10\n",
      "105856/106747 [============================>.] - ETA: 0s - loss: 0.0019 - accuracy: 0.9994WARNING:tensorflow:Early stopping conditioned on metric `val_loss` which is not available. Available metrics are: loss,accuracy\n",
      "106747/106747 [==============================] - 6s 59us/sample - loss: 0.0019 - accuracy: 0.9994\n"
     ]
    },
    {
     "data": {
      "text/plain": [
       "<tensorflow.python.keras.callbacks.History at 0x2cc48c21c48>"
      ]
     },
     "execution_count": 11,
     "metadata": {},
     "output_type": "execute_result"
    },
    {
     "name": "stdout",
     "output_type": "stream",
     "text": [
      "accuracy_score 0.9991674395076301\n",
      "recall_score 0.972422571064913\n",
      "precision_score 0.9610062893081761\n",
      "f1_score 0.966680725432307\n",
      "Model: \"model_1\"\n",
      "_________________________________________________________________\n",
      "Layer (type)                 Output Shape              Param #   \n",
      "=================================================================\n",
      "input_1 (InputLayer)         [(None, 32, 256)]         0         \n",
      "_________________________________________________________________\n",
      "bidirectional (Bidirectional (None, 32, 96)            117120    \n",
      "_________________________________________________________________\n",
      "time_distributed (TimeDistri (None, 32, 1)             97        \n",
      "=================================================================\n",
      "Total params: 117,217\n",
      "Trainable params: 117,217\n",
      "Non-trainable params: 0\n",
      "_________________________________________________________________\n",
      "======Training stage======\n",
      "Train on 106747 samples\n",
      "Epoch 1/10\n",
      "105856/106747 [============================>.] - ETA: 0s - loss: 0.0018 - accuracy: 0.9994WARNING:tensorflow:Early stopping conditioned on metric `val_loss` which is not available. Available metrics are: loss,accuracy\n",
      "106747/106747 [==============================] - 9s 83us/sample - loss: 0.0018 - accuracy: 0.9994\n",
      "Epoch 2/10\n",
      "105856/106747 [============================>.] - ETA: 0s - loss: 0.0016 - accuracy: 0.9995WARNING:tensorflow:Early stopping conditioned on metric `val_loss` which is not available. Available metrics are: loss,accuracy\n",
      "106747/106747 [==============================] - 6s 59us/sample - loss: 0.0016 - accuracy: 0.9995\n",
      "Epoch 3/10\n",
      "105856/106747 [============================>.] - ETA: 0s - loss: 0.0015 - accuracy: 0.9996WARNING:tensorflow:Early stopping conditioned on metric `val_loss` which is not available. Available metrics are: loss,accuracy\n",
      "106747/106747 [==============================] - 6s 59us/sample - loss: 0.0015 - accuracy: 0.9996\n",
      "Epoch 4/10\n",
      "106496/106747 [============================>.] - ETA: 0s - loss: 0.0013 - accuracy: 0.9996WARNING:tensorflow:Early stopping conditioned on metric `val_loss` which is not available. Available metrics are: loss,accuracy\n",
      "106747/106747 [==============================] - 6s 59us/sample - loss: 0.0013 - accuracy: 0.9996\n",
      "Epoch 5/10\n",
      "105856/106747 [============================>.] - ETA: 0s - loss: 0.0012 - accuracy: 0.9996WARNING:tensorflow:Early stopping conditioned on metric `val_loss` which is not available. Available metrics are: loss,accuracy\n",
      "106747/106747 [==============================] - 6s 59us/sample - loss: 0.0012 - accuracy: 0.9996\n",
      "Epoch 6/10\n",
      "105856/106747 [============================>.] - ETA: 0s - loss: 0.0011 - accuracy: 0.9997WARNING:tensorflow:Early stopping conditioned on metric `val_loss` which is not available. Available metrics are: loss,accuracy\n",
      "106747/106747 [==============================] - 6s 60us/sample - loss: 0.0011 - accuracy: 0.9997\n",
      "Epoch 7/10\n",
      "105856/106747 [============================>.] - ETA: 0s - loss: 9.6255e-04 - accuracy: 0.9997WARNING:tensorflow:Early stopping conditioned on metric `val_loss` which is not available. Available metrics are: loss,accuracy\n",
      "106747/106747 [==============================] - 6s 59us/sample - loss: 9.6186e-04 - accuracy: 0.9997\n",
      "Epoch 8/10\n",
      "105856/106747 [============================>.] - ETA: 0s - loss: 8.5823e-04 - accuracy: 0.9997WARNING:tensorflow:Early stopping conditioned on metric `val_loss` which is not available. Available metrics are: loss,accuracy\n",
      "106747/106747 [==============================] - 6s 59us/sample - loss: 8.5839e-04 - accuracy: 0.9997\n",
      "Epoch 9/10\n",
      "105856/106747 [============================>.] - ETA: 0s - loss: 7.6917e-04 - accuracy: 0.9998WARNING:tensorflow:Early stopping conditioned on metric `val_loss` which is not available. Available metrics are: loss,accuracy\n",
      "106747/106747 [==============================] - 6s 59us/sample - loss: 7.6753e-04 - accuracy: 0.9998\n",
      "Epoch 10/10\n",
      "105856/106747 [============================>.] - ETA: 0s - loss: 7.0849e-04 - accuracy: 0.9998WARNING:tensorflow:Early stopping conditioned on metric `val_loss` which is not available. Available metrics are: loss,accuracy\n",
      "106747/106747 [==============================] - 6s 59us/sample - loss: 7.0942e-04 - accuracy: 0.9998\n"
     ]
    },
    {
     "data": {
      "text/plain": [
       "<tensorflow.python.keras.callbacks.History at 0x2ce683d7a88>"
      ]
     },
     "execution_count": 11,
     "metadata": {},
     "output_type": "execute_result"
    },
    {
     "name": "stdout",
     "output_type": "stream",
     "text": [
      "accuracy_score 0.9993492327796981\n",
      "recall_score 0.9860730111837941\n",
      "precision_score 0.9627111660486197\n",
      "f1_score 0.9742520587928698\n",
      "Model: \"model_2\"\n",
      "_________________________________________________________________\n",
      "Layer (type)                 Output Shape              Param #   \n",
      "=================================================================\n",
      "input_1 (InputLayer)         [(None, 32, 256)]         0         \n",
      "_________________________________________________________________\n",
      "bidirectional (Bidirectional (None, 32, 96)            117120    \n",
      "_________________________________________________________________\n",
      "time_distributed (TimeDistri (None, 32, 1)             97        \n",
      "=================================================================\n",
      "Total params: 117,217\n",
      "Trainable params: 117,217\n",
      "Non-trainable params: 0\n",
      "_________________________________________________________________\n",
      "======Training stage======\n",
      "Train on 106747 samples\n",
      "Epoch 1/10\n",
      "105856/106747 [============================>.] - ETA: 0s - loss: 8.3725e-04 - accuracy: 0.9998WARNING:tensorflow:Early stopping conditioned on metric `val_loss` which is not available. Available metrics are: loss,accuracy\n",
      "106747/106747 [==============================] - 10s 90us/sample - loss: 8.4001e-04 - accuracy: 0.9998\n",
      "Epoch 2/10\n",
      "105856/106747 [============================>.] - ETA: 0s - loss: 7.1160e-04 - accuracy: 0.9998WARNING:tensorflow:Early stopping conditioned on metric `val_loss` which is not available. Available metrics are: loss,accuracy\n",
      "106747/106747 [==============================] - 6s 59us/sample - loss: 7.0938e-04 - accuracy: 0.9998\n",
      "Epoch 3/10\n",
      "106624/106747 [============================>.] - ETA: 0s - loss: 6.3519e-04 - accuracy: 0.9998WARNING:tensorflow:Early stopping conditioned on metric `val_loss` which is not available. Available metrics are: loss,accuracy\n",
      "106747/106747 [==============================] - 6s 60us/sample - loss: 6.3514e-04 - accuracy: 0.9998\n",
      "Epoch 4/10\n",
      "105856/106747 [============================>.] - ETA: 0s - loss: 5.8426e-04 - accuracy: 0.9998WARNING:tensorflow:Early stopping conditioned on metric `val_loss` which is not available. Available metrics are: loss,accuracy\n",
      "106747/106747 [==============================] - 6s 59us/sample - loss: 5.8222e-04 - accuracy: 0.9998\n",
      "Epoch 5/10\n",
      "105856/106747 [============================>.] - ETA: 0s - loss: 5.0520e-04 - accuracy: 0.9998WARNING:tensorflow:Early stopping conditioned on metric `val_loss` which is not available. Available metrics are: loss,accuracy\n",
      "106747/106747 [==============================] - 6s 59us/sample - loss: 5.0687e-04 - accuracy: 0.9998\n",
      "Epoch 6/10\n",
      "105856/106747 [============================>.] - ETA: 0s - loss: 4.6262e-04 - accuracy: 0.9999WARNING:tensorflow:Early stopping conditioned on metric `val_loss` which is not available. Available metrics are: loss,accuracy\n",
      "106747/106747 [==============================] - 6s 60us/sample - loss: 4.6121e-04 - accuracy: 0.9999\n",
      "Epoch 7/10\n",
      "105856/106747 [============================>.] - ETA: 0s - loss: 4.0670e-04 - accuracy: 0.9999WARNING:tensorflow:Early stopping conditioned on metric `val_loss` which is not available. Available metrics are: loss,accuracy\n",
      "106747/106747 [==============================] - 6s 60us/sample - loss: 4.0526e-04 - accuracy: 0.9999\n",
      "Epoch 8/10\n",
      "105856/106747 [============================>.] - ETA: 0s - loss: 3.6532e-04 - accuracy: 0.9999WARNING:tensorflow:Early stopping conditioned on metric `val_loss` which is not available. Available metrics are: loss,accuracy\n",
      "106747/106747 [==============================] - 6s 60us/sample - loss: 3.6464e-04 - accuracy: 0.9999\n",
      "Epoch 9/10\n",
      "105856/106747 [============================>.] - ETA: 0s - loss: 3.5593e-04 - accuracy: 0.9999WARNING:tensorflow:Early stopping conditioned on metric `val_loss` which is not available. Available metrics are: loss,accuracy\n",
      "106747/106747 [==============================] - 6s 60us/sample - loss: 3.5441e-04 - accuracy: 0.9999\n",
      "Epoch 10/10\n",
      "105984/106747 [============================>.] - ETA: 0s - loss: 2.9957e-04 - accuracy: 0.9999WARNING:tensorflow:Early stopping conditioned on metric `val_loss` which is not available. Available metrics are: loss,accuracy\n",
      "106747/106747 [==============================] - 6s 60us/sample - loss: 2.9924e-04 - accuracy: 0.9999\n"
     ]
    },
    {
     "data": {
      "text/plain": [
       "<tensorflow.python.keras.callbacks.History at 0x2ce673c1248>"
      ]
     },
     "execution_count": 11,
     "metadata": {},
     "output_type": "execute_result"
    },
    {
     "name": "stdout",
     "output_type": "stream",
     "text": [
      "accuracy_score 0.9997576089705759\n",
      "recall_score 0.9902044293015332\n",
      "precision_score 0.9902044293015332\n",
      "f1_score 0.9902044293015332\n",
      "Model: \"model_3\"\n",
      "_________________________________________________________________\n",
      "Layer (type)                 Output Shape              Param #   \n",
      "=================================================================\n",
      "input_1 (InputLayer)         [(None, 32, 256)]         0         \n",
      "_________________________________________________________________\n",
      "bidirectional (Bidirectional (None, 32, 96)            117120    \n",
      "_________________________________________________________________\n",
      "time_distributed (TimeDistri (None, 32, 1)             97        \n",
      "=================================================================\n",
      "Total params: 117,217\n",
      "Trainable params: 117,217\n",
      "Non-trainable params: 0\n",
      "_________________________________________________________________\n",
      "======Training stage======\n",
      "Train on 106747 samples\n",
      "Epoch 1/10\n",
      "106624/106747 [============================>.] - ETA: 0s - loss: 3.9747e-04 - accuracy: 0.9999WARNING:tensorflow:Early stopping conditioned on metric `val_loss` which is not available. Available metrics are: loss,accuracy\n",
      "106747/106747 [==============================] - 10s 94us/sample - loss: 3.9732e-04 - accuracy: 0.9999\n",
      "Epoch 2/10\n",
      "106368/106747 [============================>.] - ETA: 0s - loss: 3.0964e-04 - accuracy: 0.9999WARNING:tensorflow:Early stopping conditioned on metric `val_loss` which is not available. Available metrics are: loss,accuracy\n",
      "106747/106747 [==============================] - 6s 60us/sample - loss: 3.0887e-04 - accuracy: 0.9999\n",
      "Epoch 3/10\n",
      "106624/106747 [============================>.] - ETA: 0s - loss: 2.8322e-04 - accuracy: 0.9999WARNING:tensorflow:Early stopping conditioned on metric `val_loss` which is not available. Available metrics are: loss,accuracy\n",
      "106747/106747 [==============================] - 6s 60us/sample - loss: 2.8292e-04 - accuracy: 0.9999\n",
      "Epoch 4/10\n",
      "106240/106747 [============================>.] - ETA: 0s - loss: 2.5294e-04 - accuracy: 0.9999WARNING:tensorflow:Early stopping conditioned on metric `val_loss` which is not available. Available metrics are: loss,accuracy\n",
      "106747/106747 [==============================] - 6s 60us/sample - loss: 2.5252e-04 - accuracy: 0.9999\n",
      "Epoch 5/10\n",
      "106368/106747 [============================>.] - ETA: 0s - loss: 2.1332e-04 - accuracy: 0.9999WARNING:tensorflow:Early stopping conditioned on metric `val_loss` which is not available. Available metrics are: loss,accuracy\n",
      "106747/106747 [==============================] - 7s 61us/sample - loss: 2.1331e-04 - accuracy: 0.9999\n",
      "Epoch 6/10\n",
      "105856/106747 [============================>.] - ETA: 0s - loss: 1.7921e-04 - accuracy: 0.9999WARNING:tensorflow:Early stopping conditioned on metric `val_loss` which is not available. Available metrics are: loss,accuracy\n",
      "106747/106747 [==============================] - 6s 60us/sample - loss: 1.7812e-04 - accuracy: 0.9999\n",
      "Epoch 7/10\n",
      "105856/106747 [============================>.] - ETA: 0s - loss: 1.8762e-04 - accuracy: 0.9999WARNING:tensorflow:Early stopping conditioned on metric `val_loss` which is not available. Available metrics are: loss,accuracy\n",
      "106747/106747 [==============================] - 6s 60us/sample - loss: 1.8638e-04 - accuracy: 0.9999\n",
      "Epoch 8/10\n",
      "106624/106747 [============================>.] - ETA: 0s - loss: 1.6999e-04 - accuracy: 0.9999WARNING:tensorflow:Early stopping conditioned on metric `val_loss` which is not available. Available metrics are: loss,accuracy\n",
      "106747/106747 [==============================] - 6s 60us/sample - loss: 1.6985e-04 - accuracy: 0.9999\n",
      "Epoch 9/10\n",
      "105856/106747 [============================>.] - ETA: 0s - loss: 1.5710e-04 - accuracy: 1.0000WARNING:tensorflow:Early stopping conditioned on metric `val_loss` which is not available. Available metrics are: loss,accuracy\n",
      "106747/106747 [==============================] - 6s 60us/sample - loss: 1.5634e-04 - accuracy: 1.0000\n",
      "Epoch 10/10\n",
      "105856/106747 [============================>.] - ETA: 0s - loss: 1.4722e-04 - accuracy: 1.0000WARNING:tensorflow:Early stopping conditioned on metric `val_loss` which is not available. Available metrics are: loss,accuracy\n",
      "106747/106747 [==============================] - 6s 60us/sample - loss: 1.4839e-04 - accuracy: 1.0000\n"
     ]
    },
    {
     "data": {
      "text/plain": [
       "<tensorflow.python.keras.callbacks.History at 0x2ce6d34cc48>"
      ]
     },
     "execution_count": 11,
     "metadata": {},
     "output_type": "execute_result"
    },
    {
     "name": "stdout",
     "output_type": "stream",
     "text": [
      "accuracy_score 0.9998287454683417\n",
      "recall_score 0.9912393162393163\n",
      "precision_score 0.9948530988633927\n",
      "f1_score 0.9930429198330302\n",
      "Model: \"model_4\"\n",
      "_________________________________________________________________\n",
      "Layer (type)                 Output Shape              Param #   \n",
      "=================================================================\n",
      "input_1 (InputLayer)         [(None, 32, 256)]         0         \n",
      "_________________________________________________________________\n",
      "bidirectional (Bidirectional (None, 32, 96)            117120    \n",
      "_________________________________________________________________\n",
      "time_distributed (TimeDistri (None, 32, 1)             97        \n",
      "=================================================================\n",
      "Total params: 117,217\n",
      "Trainable params: 117,217\n",
      "Non-trainable params: 0\n",
      "_________________________________________________________________\n",
      "======Training stage======\n",
      "Train on 106747 samples\n",
      "Epoch 1/10\n",
      "105856/106747 [============================>.] - ETA: 0s - loss: 2.0929e-04 - accuracy: 0.9999WARNING:tensorflow:Early stopping conditioned on metric `val_loss` which is not available. Available metrics are: loss,accuracy\n",
      "106747/106747 [==============================] - 9s 84us/sample - loss: 2.0795e-04 - accuracy: 0.9999\n",
      "Epoch 2/10\n",
      "106624/106747 [============================>.] - ETA: 0s - loss: 1.6944e-04 - accuracy: 1.0000WARNING:tensorflow:Early stopping conditioned on metric `val_loss` which is not available. Available metrics are: loss,accuracy\n",
      "106747/106747 [==============================] - 6s 61us/sample - loss: 1.6927e-04 - accuracy: 1.0000\n",
      "Epoch 3/10\n",
      "106624/106747 [============================>.] - ETA: 0s - loss: 1.3061e-04 - accuracy: 1.0000WARNING:tensorflow:Early stopping conditioned on metric `val_loss` which is not available. Available metrics are: loss,accuracy\n",
      "106747/106747 [==============================] - 7s 61us/sample - loss: 1.3128e-04 - accuracy: 1.0000\n",
      "Epoch 4/10\n",
      "105856/106747 [============================>.] - ETA: 0s - loss: 1.2247e-04 - accuracy: 1.0000WARNING:tensorflow:Early stopping conditioned on metric `val_loss` which is not available. Available metrics are: loss,accuracy\n",
      "106747/106747 [==============================] - 6s 61us/sample - loss: 1.2202e-04 - accuracy: 1.0000\n",
      "Epoch 5/10\n",
      "105856/106747 [============================>.] - ETA: 0s - loss: 1.2652e-04 - accuracy: 1.0000WARNING:tensorflow:Early stopping conditioned on metric `val_loss` which is not available. Available metrics are: loss,accuracy\n",
      "106747/106747 [==============================] - 6s 61us/sample - loss: 1.2575e-04 - accuracy: 1.0000\n",
      "Epoch 6/10\n",
      "105856/106747 [============================>.] - ETA: 0s - loss: 1.2381e-04 - accuracy: 1.0000WARNING:tensorflow:Early stopping conditioned on metric `val_loss` which is not available. Available metrics are: loss,accuracy\n",
      "106747/106747 [==============================] - 6s 61us/sample - loss: 1.2335e-04 - accuracy: 1.0000\n",
      "Epoch 7/10\n",
      "106368/106747 [============================>.] - ETA: 0s - loss: 1.0526e-04 - accuracy: 1.0000WARNING:tensorflow:Early stopping conditioned on metric `val_loss` which is not available. Available metrics are: loss,accuracy\n",
      "106747/106747 [==============================] - 6s 61us/sample - loss: 1.0490e-04 - accuracy: 1.0000\n",
      "Epoch 8/10\n",
      "106240/106747 [============================>.] - ETA: 0s - loss: 9.5092e-05 - accuracy: 1.0000WARNING:tensorflow:Early stopping conditioned on metric `val_loss` which is not available. Available metrics are: loss,accuracy\n",
      "106747/106747 [==============================] - 7s 61us/sample - loss: 9.5212e-05 - accuracy: 1.0000\n",
      "Epoch 9/10\n",
      "105856/106747 [============================>.] - ETA: 0s - loss: 8.6662e-05 - accuracy: 1.0000WARNING:tensorflow:Early stopping conditioned on metric `val_loss` which is not available. Available metrics are: loss,accuracy\n",
      "106747/106747 [==============================] - 6s 60us/sample - loss: 8.7193e-05 - accuracy: 1.0000\n",
      "Epoch 10/10\n",
      "105856/106747 [============================>.] - ETA: 0s - loss: 8.9695e-05 - accuracy: 1.0000WARNING:tensorflow:Early stopping conditioned on metric `val_loss` which is not available. Available metrics are: loss,accuracy\n",
      "106747/106747 [==============================] - 6s 61us/sample - loss: 8.9285e-05 - accuracy: 1.0000\n"
     ]
    },
    {
     "data": {
      "text/plain": [
       "<tensorflow.python.keras.callbacks.History at 0x2ce6d1a7d08>"
      ]
     },
     "execution_count": 11,
     "metadata": {},
     "output_type": "execute_result"
    },
    {
     "name": "stdout",
     "output_type": "stream",
     "text": [
      "accuracy_score 0.9998972472810049\n",
      "recall_score 0.9938034188034188\n",
      "precision_score 0.9978545376528641\n",
      "f1_score 0.995824858152232\n",
      "Model: \"model_5\"\n",
      "_________________________________________________________________\n",
      "Layer (type)                 Output Shape              Param #   \n",
      "=================================================================\n",
      "input_1 (InputLayer)         [(None, 32, 256)]         0         \n",
      "_________________________________________________________________\n",
      "bidirectional (Bidirectional (None, 32, 96)            117120    \n",
      "_________________________________________________________________\n",
      "time_distributed (TimeDistri (None, 32, 1)             97        \n",
      "=================================================================\n",
      "Total params: 117,217\n",
      "Trainable params: 117,217\n",
      "Non-trainable params: 0\n",
      "_________________________________________________________________\n",
      "======Training stage======\n",
      "Train on 106747 samples\n",
      "Epoch 1/10\n",
      "105856/106747 [============================>.] - ETA: 0s - loss: 1.1176e-04 - accuracy: 1.0000WARNING:tensorflow:Early stopping conditioned on metric `val_loss` which is not available. Available metrics are: loss,accuracy\n",
      "106747/106747 [==============================] - 10s 96us/sample - loss: 1.1093e-04 - accuracy: 1.0000\n",
      "Epoch 2/10\n",
      "105856/106747 [============================>.] - ETA: 0s - loss: 9.6496e-05 - accuracy: 1.0000WARNING:tensorflow:Early stopping conditioned on metric `val_loss` which is not available. Available metrics are: loss,accuracy\n",
      "106747/106747 [==============================] - 6s 61us/sample - loss: 9.5964e-05 - accuracy: 1.0000\n",
      "Epoch 3/10\n",
      "106624/106747 [============================>.] - ETA: 0s - loss: 9.4834e-05 - accuracy: 1.0000WARNING:tensorflow:Early stopping conditioned on metric `val_loss` which is not available. Available metrics are: loss,accuracy\n",
      "106747/106747 [==============================] - 7s 62us/sample - loss: 9.4813e-05 - accuracy: 1.0000\n",
      "Epoch 4/10\n",
      "106240/106747 [============================>.] - ETA: 0s - loss: 7.3224e-05 - accuracy: 1.0000WARNING:tensorflow:Early stopping conditioned on metric `val_loss` which is not available. Available metrics are: loss,accuracy\n",
      "106747/106747 [==============================] - 7s 62us/sample - loss: 7.2915e-05 - accuracy: 1.0000\n",
      "Epoch 5/10\n",
      "106624/106747 [============================>.] - ETA: 0s - loss: 7.3411e-05 - accuracy: 1.0000WARNING:tensorflow:Early stopping conditioned on metric `val_loss` which is not available. Available metrics are: loss,accuracy\n",
      "106747/106747 [==============================] - 7s 62us/sample - loss: 7.3332e-05 - accuracy: 1.0000\n",
      "Epoch 6/10\n",
      "105856/106747 [============================>.] - ETA: 0s - loss: 7.0197e-05 - accuracy: 1.0000WARNING:tensorflow:Early stopping conditioned on metric `val_loss` which is not available. Available metrics are: loss,accuracy\n",
      "106747/106747 [==============================] - 7s 61us/sample - loss: 6.9694e-05 - accuracy: 1.0000\n",
      "Epoch 7/10\n",
      "106624/106747 [============================>.] - ETA: 0s - loss: 6.6009e-05 - accuracy: 1.0000WARNING:tensorflow:Early stopping conditioned on metric `val_loss` which is not available. Available metrics are: loss,accuracy\n",
      "106747/106747 [==============================] - 7s 62us/sample - loss: 6.5943e-05 - accuracy: 1.0000\n",
      "Epoch 8/10\n",
      "106496/106747 [============================>.] - ETA: 0s - loss: 5.7486e-05 - accuracy: 1.0000WARNING:tensorflow:Early stopping conditioned on metric `val_loss` which is not available. Available metrics are: loss,accuracy\n",
      "106747/106747 [==============================] - 7s 62us/sample - loss: 5.7437e-05 - accuracy: 1.0000\n",
      "Epoch 9/10\n",
      "106624/106747 [============================>.] - ETA: 0s - loss: 4.1117e-05 - accuracy: 1.0000WARNING:tensorflow:Early stopping conditioned on metric `val_loss` which is not available. Available metrics are: loss,accuracy\n",
      "106747/106747 [==============================] - 6s 61us/sample - loss: 4.1071e-05 - accuracy: 1.0000\n",
      "Epoch 10/10\n",
      "106496/106747 [============================>.] - ETA: 0s - loss: 5.2800e-05 - accuracy: 1.0000WARNING:tensorflow:Early stopping conditioned on metric `val_loss` which is not available. Available metrics are: loss,accuracy\n",
      "106747/106747 [==============================] - 6s 61us/sample - loss: 5.2687e-05 - accuracy: 1.0000\n"
     ]
    },
    {
     "data": {
      "text/plain": [
       "<tensorflow.python.keras.callbacks.History at 0x2ce7ee24608>"
      ]
     },
     "execution_count": 11,
     "metadata": {},
     "output_type": "execute_result"
    },
    {
     "name": "stdout",
     "output_type": "stream",
     "text": [
      "accuracy_score 0.9999657490936683\n",
      "recall_score 0.9984759416503375\n",
      "precision_score 0.9986933797909407\n",
      "f1_score 0.9985846488840501\n",
      "Model: \"model_6\"\n",
      "_________________________________________________________________\n",
      "Layer (type)                 Output Shape              Param #   \n",
      "=================================================================\n",
      "input_1 (InputLayer)         [(None, 32, 256)]         0         \n",
      "_________________________________________________________________\n",
      "bidirectional (Bidirectional (None, 32, 96)            117120    \n",
      "_________________________________________________________________\n",
      "time_distributed (TimeDistri (None, 32, 1)             97        \n",
      "=================================================================\n",
      "Total params: 117,217\n",
      "Trainable params: 117,217\n",
      "Non-trainable params: 0\n",
      "_________________________________________________________________\n",
      "======Training stage======\n",
      "Train on 106747 samples\n",
      "Epoch 1/10\n",
      "106624/106747 [============================>.] - ETA: 0s - loss: 8.0200e-05 - accuracy: 1.0000WARNING:tensorflow:Early stopping conditioned on metric `val_loss` which is not available. Available metrics are: loss,accuracy\n",
      "106747/106747 [==============================] - 9s 84us/sample - loss: 8.0109e-05 - accuracy: 1.0000\n",
      "Epoch 2/10\n",
      "106624/106747 [============================>.] - ETA: 0s - loss: 6.2715e-05 - accuracy: 1.0000WARNING:tensorflow:Early stopping conditioned on metric `val_loss` which is not available. Available metrics are: loss,accuracy\n",
      "106747/106747 [==============================] - 6s 61us/sample - loss: 6.2654e-05 - accuracy: 1.0000\n",
      "Epoch 3/10\n",
      "105856/106747 [============================>.] - ETA: 0s - loss: 5.1708e-05 - accuracy: 1.0000WARNING:tensorflow:Early stopping conditioned on metric `val_loss` which is not available. Available metrics are: loss,accuracy\n",
      "106747/106747 [==============================] - 6s 61us/sample - loss: 5.1596e-05 - accuracy: 1.0000\n",
      "Epoch 4/10\n",
      "106624/106747 [============================>.] - ETA: 0s - loss: 7.6206e-05 - accuracy: 1.0000WARNING:tensorflow:Early stopping conditioned on metric `val_loss` which is not available. Available metrics are: loss,accuracy\n",
      "106747/106747 [==============================] - 6s 61us/sample - loss: 7.6121e-05 - accuracy: 1.0000\n",
      "Epoch 5/10\n",
      "105856/106747 [============================>.] - ETA: 0s - loss: 4.7186e-05 - accuracy: 1.0000WARNING:tensorflow:Early stopping conditioned on metric `val_loss` which is not available. Available metrics are: loss,accuracy\n",
      "106747/106747 [==============================] - 6s 61us/sample - loss: 4.6845e-05 - accuracy: 1.0000\n",
      "Epoch 6/10\n",
      "105856/106747 [============================>.] - ETA: 0s - loss: 6.3373e-05 - accuracy: 1.0000WARNING:tensorflow:Early stopping conditioned on metric `val_loss` which is not available. Available metrics are: loss,accuracy\n",
      "106747/106747 [==============================] - 6s 61us/sample - loss: 6.2996e-05 - accuracy: 1.0000\n",
      "Epoch 7/10\n",
      "105856/106747 [============================>.] - ETA: 0s - loss: 4.0916e-05 - accuracy: 1.0000WARNING:tensorflow:Early stopping conditioned on metric `val_loss` which is not available. Available metrics are: loss,accuracy\n",
      "106747/106747 [==============================] - 6s 61us/sample - loss: 4.0592e-05 - accuracy: 1.0000\n",
      "Epoch 8/10\n",
      "106496/106747 [============================>.] - ETA: 0s - loss: 3.9033e-05 - accuracy: 1.0000WARNING:tensorflow:Early stopping conditioned on metric `val_loss` which is not available. Available metrics are: loss,accuracy\n",
      "106747/106747 [==============================] - 6s 61us/sample - loss: 3.8963e-05 - accuracy: 1.0000\n",
      "Epoch 9/10\n",
      "106624/106747 [============================>.] - ETA: 0s - loss: 5.4120e-05 - accuracy: 1.0000WARNING:tensorflow:Early stopping conditioned on metric `val_loss` which is not available. Available metrics are: loss,accuracy\n",
      "106747/106747 [==============================] - 6s 61us/sample - loss: 5.4060e-05 - accuracy: 1.0000\n",
      "Epoch 10/10\n",
      "106624/106747 [============================>.] - ETA: 0s - loss: 3.3815e-05 - accuracy: 1.0000WARNING:tensorflow:Early stopping conditioned on metric `val_loss` which is not available. Available metrics are: loss,accuracy\n",
      "106747/106747 [==============================] - 6s 61us/sample - loss: 3.3781e-05 - accuracy: 1.0000\n"
     ]
    },
    {
     "data": {
      "text/plain": [
       "<tensorflow.python.keras.callbacks.History at 0x2ce6ca2eb48>"
      ]
     },
     "execution_count": 11,
     "metadata": {},
     "output_type": "execute_result"
    },
    {
     "name": "stdout",
     "output_type": "stream",
     "text": [
      "accuracy_score 0.9999367675575416\n",
      "recall_score 0.9978773084270856\n",
      "precision_score 0.9970307529162248\n",
      "f1_score 0.9974538510502864\n",
      "Model: \"model_7\"\n",
      "_________________________________________________________________\n",
      "Layer (type)                 Output Shape              Param #   \n",
      "=================================================================\n",
      "input_1 (InputLayer)         [(None, 32, 256)]         0         \n",
      "_________________________________________________________________\n",
      "bidirectional (Bidirectional (None, 32, 96)            117120    \n",
      "_________________________________________________________________\n",
      "time_distributed (TimeDistri (None, 32, 1)             97        \n",
      "=================================================================\n",
      "Total params: 117,217\n",
      "Trainable params: 117,217\n",
      "Non-trainable params: 0\n",
      "_________________________________________________________________\n",
      "======Training stage======\n",
      "Train on 106747 samples\n",
      "Epoch 1/10\n",
      "106368/106747 [============================>.] - ETA: 0s - loss: 5.6351e-05 - accuracy: 1.0000WARNING:tensorflow:Early stopping conditioned on metric `val_loss` which is not available. Available metrics are: loss,accuracy\n",
      "106747/106747 [==============================] - 9s 86us/sample - loss: 5.6167e-05 - accuracy: 1.0000\n",
      "Epoch 2/10\n",
      "105856/106747 [============================>.] - ETA: 0s - loss: 3.7201e-05 - accuracy: 1.0000WARNING:tensorflow:Early stopping conditioned on metric `val_loss` which is not available. Available metrics are: loss,accuracy\n",
      "106747/106747 [==============================] - 7s 61us/sample - loss: 3.6948e-05 - accuracy: 1.0000\n",
      "Epoch 3/10\n",
      "105984/106747 [============================>.] - ETA: 0s - loss: 3.7401e-05 - accuracy: 1.0000WARNING:tensorflow:Early stopping conditioned on metric `val_loss` which is not available. Available metrics are: loss,accuracy\n",
      "106747/106747 [==============================] - 7s 62us/sample - loss: 3.7273e-05 - accuracy: 1.0000\n",
      "Epoch 4/10\n",
      "106624/106747 [============================>.] - ETA: 0s - loss: 3.4856e-05 - accuracy: 1.0000WARNING:tensorflow:Early stopping conditioned on metric `val_loss` which is not available. Available metrics are: loss,accuracy\n",
      "106747/106747 [==============================] - 7s 62us/sample - loss: 3.4817e-05 - accuracy: 1.0000\n",
      "Epoch 5/10\n",
      "106624/106747 [============================>.] - ETA: 0s - loss: 3.7823e-05 - accuracy: 1.0000WARNING:tensorflow:Early stopping conditioned on metric `val_loss` which is not available. Available metrics are: loss,accuracy\n",
      "106747/106747 [==============================] - 7s 61us/sample - loss: 3.7785e-05 - accuracy: 1.0000\n",
      "Epoch 6/10\n",
      "105856/106747 [============================>.] - ETA: 0s - loss: 3.8790e-05 - accuracy: 1.0000WARNING:tensorflow:Early stopping conditioned on metric `val_loss` which is not available. Available metrics are: loss,accuracy\n",
      "106747/106747 [==============================] - 7s 61us/sample - loss: 3.8482e-05 - accuracy: 1.0000\n",
      "Epoch 7/10\n",
      "106624/106747 [============================>.] - ETA: 0s - loss: 4.0186e-05 - accuracy: 1.0000WARNING:tensorflow:Early stopping conditioned on metric `val_loss` which is not available. Available metrics are: loss,accuracy\n",
      "106747/106747 [==============================] - 7s 61us/sample - loss: 4.0140e-05 - accuracy: 1.0000\n",
      "Epoch 8/10\n",
      "106624/106747 [============================>.] - ETA: 0s - loss: 3.2345e-05 - accuracy: 1.0000WARNING:tensorflow:Early stopping conditioned on metric `val_loss` which is not available. Available metrics are: loss,accuracy\n",
      "106747/106747 [==============================] - 7s 61us/sample - loss: 3.2311e-05 - accuracy: 1.0000\n",
      "Epoch 9/10\n",
      "106624/106747 [============================>.] - ETA: 0s - loss: 3.7250e-05 - accuracy: 1.0000WARNING:tensorflow:Early stopping conditioned on metric `val_loss` which is not available. Available metrics are: loss,accuracy\n",
      "106747/106747 [==============================] - 7s 61us/sample - loss: 3.7255e-05 - accuracy: 1.0000\n",
      "Epoch 10/10\n",
      "105856/106747 [============================>.] - ETA: 0s - loss: 3.2845e-05 - accuracy: 1.0000WARNING:tensorflow:Early stopping conditioned on metric `val_loss` which is not available. Available metrics are: loss,accuracy\n",
      "106747/106747 [==============================] - 7s 61us/sample - loss: 3.2636e-05 - accuracy: 1.0000\n"
     ]
    },
    {
     "data": {
      "text/plain": [
       "<tensorflow.python.keras.callbacks.History at 0x2ce6f95b348>"
      ]
     },
     "execution_count": 11,
     "metadata": {},
     "output_type": "execute_result"
    },
    {
     "name": "stdout",
     "output_type": "stream",
     "text": [
      "accuracy_score 0.9999789225191805\n",
      "recall_score 0.998502353444587\n",
      "precision_score 0.9997857754927164\n",
      "f1_score 0.999143652322843\n",
      "Model: \"model_8\"\n",
      "_________________________________________________________________\n",
      "Layer (type)                 Output Shape              Param #   \n",
      "=================================================================\n",
      "input_1 (InputLayer)         [(None, 32, 256)]         0         \n",
      "_________________________________________________________________\n",
      "bidirectional (Bidirectional (None, 32, 96)            117120    \n",
      "_________________________________________________________________\n",
      "time_distributed (TimeDistri (None, 32, 1)             97        \n",
      "=================================================================\n",
      "Total params: 117,217\n",
      "Trainable params: 117,217\n",
      "Non-trainable params: 0\n",
      "_________________________________________________________________\n",
      "======Training stage======\n",
      "Train on 106748 samples\n",
      "Epoch 1/10\n",
      "105856/106748 [============================>.] - ETA: 0s - loss: 3.9820e-05 - accuracy: 1.0000WARNING:tensorflow:Early stopping conditioned on metric `val_loss` which is not available. Available metrics are: loss,accuracy\n",
      "106748/106748 [==============================] - 9s 84us/sample - loss: 4.1630e-05 - accuracy: 1.0000\n",
      "Epoch 2/10\n",
      "106368/106748 [============================>.] - ETA: 0s - loss: 3.2214e-05 - accuracy: 1.0000WARNING:tensorflow:Early stopping conditioned on metric `val_loss` which is not available. Available metrics are: loss,accuracy\n",
      "106748/106748 [==============================] - 7s 61us/sample - loss: 3.2117e-05 - accuracy: 1.0000\n",
      "Epoch 3/10\n",
      "105856/106748 [============================>.] - ETA: 0s - loss: 3.5118e-05 - accuracy: 1.0000WARNING:tensorflow:Early stopping conditioned on metric `val_loss` which is not available. Available metrics are: loss,accuracy\n",
      "106748/106748 [==============================] - 7s 61us/sample - loss: 3.6428e-05 - accuracy: 1.0000\n",
      "Epoch 4/10\n",
      "106624/106748 [============================>.] - ETA: 0s - loss: 2.9814e-05 - accuracy: 1.0000WARNING:tensorflow:Early stopping conditioned on metric `val_loss` which is not available. Available metrics are: loss,accuracy\n",
      "106748/106748 [==============================] - 7s 61us/sample - loss: 2.9780e-05 - accuracy: 1.0000\n",
      "Epoch 5/10\n",
      "106624/106748 [============================>.] - ETA: 0s - loss: 2.6689e-05 - accuracy: 1.0000WARNING:tensorflow:Early stopping conditioned on metric `val_loss` which is not available. Available metrics are: loss,accuracy\n",
      "106748/106748 [==============================] - 7s 61us/sample - loss: 2.6658e-05 - accuracy: 1.0000\n",
      "Epoch 6/10\n",
      "105856/106748 [============================>.] - ETA: 0s - loss: 2.3492e-05 - accuracy: 1.0000WARNING:tensorflow:Early stopping conditioned on metric `val_loss` which is not available. Available metrics are: loss,accuracy\n",
      "106748/106748 [==============================] - 7s 61us/sample - loss: 2.3319e-05 - accuracy: 1.0000\n",
      "Epoch 7/10\n",
      "105856/106748 [============================>.] - ETA: 0s - loss: 2.9258e-05 - accuracy: 1.0000WARNING:tensorflow:Early stopping conditioned on metric `val_loss` which is not available. Available metrics are: loss,accuracy\n",
      "106748/106748 [==============================] - 7s 61us/sample - loss: 2.9066e-05 - accuracy: 1.0000\n",
      "Epoch 8/10\n",
      "105856/106748 [============================>.] - ETA: 0s - loss: 1.8383e-05 - accuracy: 1.0000WARNING:tensorflow:Early stopping conditioned on metric `val_loss` which is not available. Available metrics are: loss,accuracy\n",
      "106748/106748 [==============================] - 7s 61us/sample - loss: 1.8237e-05 - accuracy: 1.0000\n",
      "Epoch 9/10\n",
      "105856/106748 [============================>.] - ETA: 0s - loss: 2.2018e-05 - accuracy: 1.0000WARNING:tensorflow:Early stopping conditioned on metric `val_loss` which is not available. Available metrics are: loss,accuracy\n",
      "106748/106748 [==============================] - 7s 61us/sample - loss: 2.2121e-05 - accuracy: 1.0000\n",
      "Epoch 10/10\n",
      "106624/106748 [============================>.] - ETA: 0s - loss: 1.7491e-05 - accuracy: 1.0000WARNING:tensorflow:Early stopping conditioned on metric `val_loss` which is not available. Available metrics are: loss,accuracy\n",
      "106748/106748 [==============================] - 7s 61us/sample - loss: 1.7471e-05 - accuracy: 1.0000\n"
     ]
    },
    {
     "data": {
      "text/plain": [
       "<tensorflow.python.keras.callbacks.History at 0x2ce70971b08>"
      ]
     },
     "execution_count": 11,
     "metadata": {},
     "output_type": "execute_result"
    },
    {
     "name": "stdout",
     "output_type": "stream",
     "text": [
      "accuracy_score 0.9999815556492412\n",
      "recall_score 0.9987315010570824\n",
      "precision_score 0.9997883597883598\n",
      "f1_score 0.9992596509783183\n",
      "Model: \"model_9\"\n",
      "_________________________________________________________________\n",
      "Layer (type)                 Output Shape              Param #   \n",
      "=================================================================\n",
      "input_1 (InputLayer)         [(None, 32, 256)]         0         \n",
      "_________________________________________________________________\n",
      "bidirectional (Bidirectional (None, 32, 96)            117120    \n",
      "_________________________________________________________________\n",
      "time_distributed (TimeDistri (None, 32, 1)             97        \n",
      "=================================================================\n",
      "Total params: 117,217\n",
      "Trainable params: 117,217\n",
      "Non-trainable params: 0\n",
      "_________________________________________________________________\n",
      "======Training stage======\n",
      "Train on 106748 samples\n",
      "Epoch 1/10\n",
      "105856/106748 [============================>.] - ETA: 0s - loss: 4.8844e-05 - accuracy: 1.0000WARNING:tensorflow:Early stopping conditioned on metric `val_loss` which is not available. Available metrics are: loss,accuracy\n",
      "106748/106748 [==============================] - 9s 85us/sample - loss: 4.8485e-05 - accuracy: 1.0000\n",
      "Epoch 2/10\n",
      "106624/106748 [============================>.] - ETA: 0s - loss: 3.2525e-05 - accuracy: 1.0000WARNING:tensorflow:Early stopping conditioned on metric `val_loss` which is not available. Available metrics are: loss,accuracy\n",
      "106748/106748 [==============================] - 7s 61us/sample - loss: 3.2488e-05 - accuracy: 1.0000\n",
      "Epoch 3/10\n",
      "106496/106748 [============================>.] - ETA: 0s - loss: 4.0895e-05 - accuracy: 1.0000WARNING:tensorflow:Early stopping conditioned on metric `val_loss` which is not available. Available metrics are: loss,accuracy\n",
      "106748/106748 [==============================] - 7s 61us/sample - loss: 4.0800e-05 - accuracy: 1.0000\n",
      "Epoch 4/10\n",
      "106496/106748 [============================>.] - ETA: 0s - loss: 3.4478e-05 - accuracy: 1.0000WARNING:tensorflow:Early stopping conditioned on metric `val_loss` which is not available. Available metrics are: loss,accuracy\n",
      "106748/106748 [==============================] - 7s 61us/sample - loss: 3.4398e-05 - accuracy: 1.0000\n",
      "Epoch 5/10\n",
      "105856/106748 [============================>.] - ETA: 0s - loss: 2.8481e-05 - accuracy: 1.0000WARNING:tensorflow:Early stopping conditioned on metric `val_loss` which is not available. Available metrics are: loss,accuracy\n",
      "106748/106748 [==============================] - 6s 61us/sample - loss: 2.8245e-05 - accuracy: 1.0000\n",
      "Epoch 6/10\n",
      "105856/106748 [============================>.] - ETA: 0s - loss: 1.7763e-05 - accuracy: 1.0000WARNING:tensorflow:Early stopping conditioned on metric `val_loss` which is not available. Available metrics are: loss,accuracy\n",
      "106748/106748 [==============================] - 6s 61us/sample - loss: 1.7618e-05 - accuracy: 1.0000\n",
      "Epoch 7/10\n",
      "105856/106748 [============================>.] - ETA: 0s - loss: 1.7986e-05 - accuracy: 1.0000WARNING:tensorflow:Early stopping conditioned on metric `val_loss` which is not available. Available metrics are: loss,accuracy\n",
      "106748/106748 [==============================] - 6s 61us/sample - loss: 1.9288e-05 - accuracy: 1.0000\n",
      "Epoch 8/10\n",
      "105856/106748 [============================>.] - ETA: 0s - loss: 2.4652e-05 - accuracy: 1.0000WARNING:tensorflow:Early stopping conditioned on metric `val_loss` which is not available. Available metrics are: loss,accuracy\n",
      "106748/106748 [==============================] - 6s 61us/sample - loss: 2.5291e-05 - accuracy: 1.0000\n",
      "Epoch 9/10\n",
      "105856/106748 [============================>.] - ETA: 0s - loss: 2.6047e-05 - accuracy: 1.0000WARNING:tensorflow:Early stopping conditioned on metric `val_loss` which is not available. Available metrics are: loss,accuracy\n",
      "106748/106748 [==============================] - 7s 61us/sample - loss: 2.5832e-05 - accuracy: 1.0000\n",
      "Epoch 10/10\n",
      "106624/106748 [============================>.] - ETA: 0s - loss: 1.8580e-05 - accuracy: 1.0000WARNING:tensorflow:Early stopping conditioned on metric `val_loss` which is not available. Available metrics are: loss,accuracy\n",
      "106748/106748 [==============================] - 6s 61us/sample - loss: 1.8558e-05 - accuracy: 1.0000\n"
     ]
    },
    {
     "data": {
      "text/plain": [
       "<tensorflow.python.keras.callbacks.History at 0x2ce67fbbf88>"
      ]
     },
     "execution_count": 11,
     "metadata": {},
     "output_type": "execute_result"
    },
    {
     "name": "stdout",
     "output_type": "stream",
     "text": [
      "accuracy_score 0.9999894603709949\n",
      "recall_score 0.9997878659312686\n",
      "precision_score 0.9993638676844784\n",
      "f1_score 0.999575821845175\n",
      "\n",
      "K-fold cross validation Accuracy: [0.9991674395076301, 0.9993492327796981, 0.9997576089705759, 0.9998287454683417, 0.9998972472810049, 0.9999657490936683, 0.9999367675575416, 0.9999789225191805, 0.9999815556492412, 0.9999894603709949]\n",
      "\n",
      "K-fold cross validation Recall: [0.972422571064913, 0.9860730111837941, 0.9902044293015332, 0.9912393162393163, 0.9938034188034188, 0.9984759416503375, 0.9978773084270856, 0.998502353444587, 0.9987315010570824, 0.9997878659312686]\n",
      "\n",
      "K-fold cross validation Precision: [0.9610062893081761, 0.9627111660486197, 0.9902044293015332, 0.9948530988633927, 0.9978545376528641, 0.9986933797909407, 0.9970307529162248, 0.9997857754927164, 0.9997883597883598, 0.9993638676844784]\n",
      "\n",
      "K-fold cross validation F1-Score: [0.966680725432307, 0.9742520587928698, 0.9902044293015332, 0.9930429198330302, 0.995824858152232, 0.9985846488840501, 0.9974538510502864, 0.999143652322843, 0.9992596509783183, 0.999575821845175]\n"
     ]
    }
   ],
   "source": [
    "# 교차검증 kfold\n",
    "from sklearn.model_selection import KFold\n",
    "\n",
    "# Accuracy, Precision, Recall, F1-Score\n",
    "from sklearn.metrics import accuracy_score, recall_score, precision_score, f1_score\n",
    "\n",
    "# Confusion Matrix, ROC Curve\n",
    "from sklearn.metrics import confusion_matrix, roc_auc_score\n",
    "\n",
    "# 최종 평가지표들 평균용\n",
    "accuracy, recall, precision, f1score, cm = [], [], [], [], []\n",
    "\n",
    "# 11. 교차검증 kfold - k.split - 10회 / K-Fold 객체 생성\n",
    "# kf = KFold(n_splits=10, shuffle=False, random_state=None) # KFold non shuffle 버전\n",
    "kf = KFold(n_splits=10, shuffle=True, random_state=None) # KFold non shuffle 버전\n",
    "\n",
    "for train, validation in kf.split(x_bc8_3, y_bc8_3):\n",
    "    model1 = models.Model(xInput, xOutput)\n",
    "    model1.compile(loss='binary_crossentropy', optimizer='rmsprop', metrics=['accuracy'])\n",
    "    model1.summary()\n",
    "    print('======Training stage======')\n",
    "    model1.fit(x_bc8_3[train],\n",
    "               y_bc8_3[train],\n",
    "               epochs = 10,\n",
    "               batch_size = 128,\n",
    "               callbacks=[early_stopping])\n",
    "    #k_accuracy = '%.4f' %(model1.evaluate(data_10000x[validation], data_10000y[validation])[1])\n",
    "\n",
    "# 12. 교차검증결과 predict - 검증셋들\n",
    "    # predict 값\n",
    "    k_pr = model1.predict(x_bc8_3[validation])\n",
    "    \n",
    "    # 테스트 predict 결과들 비교 (평가지표 보기위함)\n",
    "    pred = np.round(np.array(k_pr).flatten().tolist())\n",
    "    y_test = np.array(y_bc8_3[validation]).flatten().tolist()\n",
    "    \n",
    "# 13. 평가지표들 출력\n",
    "    ## 평가지표들\n",
    "    k_accuracy = float(accuracy_score(y_test, pred))\n",
    "    k_recall =  float(recall_score(y_test, pred))\n",
    "    k_precision = float(precision_score(y_test, pred))\n",
    "    k_f1_score = float(f1_score(y_test, pred))\n",
    "    #k_cm = float(confusion_matrix(y_test, pred))\n",
    "    \n",
    "    print('accuracy_score', k_accuracy)\n",
    "    print('recall_score', k_recall)\n",
    "    print('precision_score', k_precision)\n",
    "    print('f1_score', k_f1_score)\n",
    "    #print('\\nconfusion_matrix\\n', k_cm)\n",
    "\n",
    "    accuracy.append(k_accuracy)\n",
    "    recall.append(k_recall)\n",
    "    precision.append(k_precision)\n",
    "    f1score.append(k_f1_score)\n",
    "    #cm.append(k_cm)\n",
    "#    print('roc_curve 면적', roc_auc_score(y_test, pred))\n",
    "\n",
    "# 최종 결과지표\n",
    "print('\\nK-fold cross validation Accuracy: {}'.format(accuracy))\n",
    "print('\\nK-fold cross validation Recall: {}'.format(recall))\n",
    "print('\\nK-fold cross validation Precision: {}'.format(precision))\n",
    "print('\\nK-fold cross validation F1-Score: {}'.format(f1score))\n",
    "#print('\\nK-fold cross validation ConfusionMatrix: {}'.format(cm))"
   ]
  },
  {
   "cell_type": "markdown",
   "metadata": {},
   "source": [
    "## (9) 평가지표"
   ]
  },
  {
   "cell_type": "code",
   "execution_count": 12,
   "metadata": {},
   "outputs": [
    {
     "name": "stdout",
     "output_type": "stream",
     "text": [
      "10-Fold Cross_validation. Accuracy : 0.9997852729197877\n",
      "10-Fold Cross_validation. Recall : 0.9927117717103338\n",
      "10-Fold Cross_validation. Precision : 0.9901291656847306\n",
      "10-Fold Cross_validation. F1-Score : 0.9914022616592645\n"
     ]
    }
   ],
   "source": [
    "print('10-Fold Cross_validation. Accuracy :', np.mean(accuracy))\n",
    "print('10-Fold Cross_validation. Recall :', np.mean(recall))\n",
    "print('10-Fold Cross_validation. Precision :', np.mean(precision))\n",
    "print('10-Fold Cross_validation. F1-Score :', np.mean(f1score))"
   ]
  },
  {
   "cell_type": "code",
   "execution_count": 13,
   "metadata": {},
   "outputs": [
    {
     "name": "stdout",
     "output_type": "stream",
     "text": [
      "save 완료\n"
     ]
    }
   ],
   "source": [
    "model1.save('gcc8_bin_core_s32_h48_o3.h5')\n",
    "print('save 완료')"
   ]
  }
 ],
 "metadata": {
  "kernelspec": {
   "display_name": "Python 3",
   "language": "python",
   "name": "python3"
  },
  "language_info": {
   "codemirror_mode": {
    "name": "ipython",
    "version": 3
   },
   "file_extension": ".py",
   "mimetype": "text/x-python",
   "name": "python",
   "nbconvert_exporter": "python",
   "pygments_lexer": "ipython3",
   "version": "3.7.7"
  }
 },
 "nbformat": 4,
 "nbformat_minor": 4
}
