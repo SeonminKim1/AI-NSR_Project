{
 "cells": [
  {
   "cell_type": "code",
   "execution_count": 1,
   "metadata": {},
   "outputs": [
    {
     "name": "stderr",
     "output_type": "stream",
     "text": [
      "Using TensorFlow backend.\n"
     ]
    },
    {
     "name": "stdout",
     "output_type": "stream",
     "text": [
      "(2156208, 2) (1724990, 2) (1773289, 2) (2224199, 2)\n",
      "reset_index 완료\n"
     ]
    },
    {
     "data": {
      "text/html": [
       "<div>\n",
       "<style scoped>\n",
       "    .dataframe tbody tr th:only-of-type {\n",
       "        vertical-align: middle;\n",
       "    }\n",
       "\n",
       "    .dataframe tbody tr th {\n",
       "        vertical-align: top;\n",
       "    }\n",
       "\n",
       "    .dataframe thead th {\n",
       "        text-align: right;\n",
       "    }\n",
       "</style>\n",
       "<table border=\"1\" class=\"dataframe\">\n",
       "  <thead>\n",
       "    <tr style=\"text-align: right;\">\n",
       "      <th></th>\n",
       "      <th>bin</th>\n",
       "      <th>label</th>\n",
       "    </tr>\n",
       "  </thead>\n",
       "  <tbody>\n",
       "    <tr>\n",
       "      <th>0</th>\n",
       "      <td>55</td>\n",
       "      <td>1</td>\n",
       "    </tr>\n",
       "    <tr>\n",
       "      <th>1</th>\n",
       "      <td>89</td>\n",
       "      <td>0</td>\n",
       "    </tr>\n",
       "    <tr>\n",
       "      <th>2</th>\n",
       "      <td>e5</td>\n",
       "      <td>0</td>\n",
       "    </tr>\n",
       "    <tr>\n",
       "      <th>3</th>\n",
       "      <td>53</td>\n",
       "      <td>0</td>\n",
       "    </tr>\n",
       "    <tr>\n",
       "      <th>4</th>\n",
       "      <td>83</td>\n",
       "      <td>0</td>\n",
       "    </tr>\n",
       "  </tbody>\n",
       "</table>\n",
       "</div>"
      ],
      "text/plain": [
       "  bin  label\n",
       "0  55      1\n",
       "1  89      0\n",
       "2  e5      0\n",
       "3  53      0\n",
       "4  83      0"
      ]
     },
     "execution_count": 1,
     "metadata": {},
     "output_type": "execute_result"
    }
   ],
   "source": [
    "# (1) 데이터로드\n",
    "import pandas as pd\n",
    "import numpy as np\n",
    "from keras.utils import np_utils\n",
    "\n",
    "import warnings\n",
    "warnings.filterwarnings(action='ignore')\n",
    "\n",
    "# 여러개 쳐도 나오게\n",
    "from IPython.core.interactiveshell import InteractiveShell\n",
    "InteractiveShell.ast_node_interactivity = \"all\"\n",
    "\n",
    "# 파일읽기\n",
    "\n",
    "# gcc6_0~3\n",
    "gcc6_0_32 = pd.read_csv(\"binutils_gcc3~9_op0~4_csv/gcc4_0_32.csv\", index_col=0)\n",
    "gcc6_1_32 = pd.read_csv(\"binutils_gcc3~9_op0~4_csv/gcc4_1_32.csv\", index_col=0)\n",
    "gcc6_2_32 = pd.read_csv(\"binutils_gcc3~9_op0~4_csv/gcc4_2_32.csv\", index_col=0)\n",
    "gcc6_3_32 = pd.read_csv(\"binutils_gcc3~9_op0~4_csv/gcc4_3_32.csv\", index_col=0)\n",
    "\n",
    "# 형태 출력\n",
    "print(gcc6_0_32.shape, gcc6_1_32.shape, gcc6_2_32.shape, gcc6_3_32.shape) # train\n",
    "\n",
    "# reset_index (hex processing 하면서 값이 빠졌으니까 + n_gram 에서 index를 다루기 때문에)\n",
    "gcc6_0_32.reset_index(inplace=True, drop=True)\n",
    "gcc6_1_32.reset_index(inplace=True, drop=True)\n",
    "gcc6_2_32.reset_index(inplace=True, drop=True)\n",
    "gcc6_3_32.reset_index(inplace=True, drop=True)\n",
    "\n",
    "print('reset_index 완료')\n",
    "gcc6_0_32.head()"
   ]
  },
  {
   "cell_type": "code",
   "execution_count": 2,
   "metadata": {},
   "outputs": [
    {
     "name": "stdout",
     "output_type": "stream",
     "text": [
      "256 256\n",
      "256 256\n"
     ]
    }
   ],
   "source": [
    "# (2-1) 데이터체크 - hex(16진수)가 256 label을 가져야 dummies 변환 가능 \n",
    "\n",
    "# 16진수 256개 종류가 있어서 pd.get_dummies 사용 가능.\n",
    "print(len(gcc6_0_32['bin'].unique()),len(gcc6_1_32['bin'].unique()))\n",
    "print(len(gcc6_2_32['bin'].unique()),len(gcc6_3_32['bin'].unique()))"
   ]
  },
  {
   "cell_type": "code",
   "execution_count": 3,
   "metadata": {},
   "outputs": [
    {
     "name": "stdout",
     "output_type": "stream",
     "text": [
      "원핫인코딩완료\n",
      "(2156208, 257) (1724990, 257) (1773289, 257) (2224199, 257)\n"
     ]
    }
   ],
   "source": [
    "# (3) get_dummies 변환 \n",
    "\n",
    "# 훈련데이터 (gcc 최적화버전 0, 1, 2 one hot encoding)\n",
    "gcc6_0_32_onehot = pd.get_dummies(gcc6_0_32)\n",
    "gcc6_1_32_onehot = pd.get_dummies(gcc6_1_32)\n",
    "gcc6_2_32_onehot = pd.get_dummies(gcc6_2_32)\n",
    "\n",
    "# 테스트데이터 (gcc 최적화버전 3 one hot encoding)\n",
    "gcc6_3_32_onehot = pd.get_dummies(gcc6_3_32)\n",
    "print('원핫인코딩완료')\n",
    "\n",
    "print(gcc6_0_32_onehot.shape, gcc6_1_32_onehot.shape, gcc6_2_32_onehot.shape, gcc6_3_32_onehot.shape)"
   ]
  },
  {
   "cell_type": "code",
   "execution_count": 4,
   "metadata": {},
   "outputs": [
    {
     "name": "stdout",
     "output_type": "stream",
     "text": [
      "0    2151901\n",
      "1       4307\n",
      "Name: label, dtype: int64 \n",
      " 0    1721737\n",
      "1       3253\n",
      "Name: label, dtype: int64\n",
      "0    1770091\n",
      "1       3198\n",
      "Name: label, dtype: int64 \n",
      " 0    2221208\n",
      "1       2991\n",
      "Name: label, dtype: int64\n"
     ]
    }
   ],
   "source": [
    "# (4) 데이터 체크 - 1, 0 비율 ==> 1이 함수의 갯수를 뜻함\n",
    "\n",
    "# 정답 데이터 1, 0 비율 확인  ==> 1이 함수의 갯수를 뜻함\n",
    "print(gcc6_0_32_onehot['label'].value_counts(), '\\n', gcc6_1_32_onehot['label'].value_counts())\n",
    "print(gcc6_2_32_onehot['label'].value_counts(), '\\n', gcc6_3_32_onehot['label'].value_counts())"
   ]
  },
  {
   "cell_type": "code",
   "execution_count": 5,
   "metadata": {},
   "outputs": [
    {
     "data": {
      "text/plain": [
       "00    322630\n",
       "ff    186095\n",
       "8b    155808\n",
       "45    113507\n",
       "89    100993\n",
       "       ...  \n",
       "a9       269\n",
       "9e       266\n",
       "96       252\n",
       "b1       252\n",
       "a6       239\n",
       "Name: bin, Length: 256, dtype: int64"
      ]
     },
     "execution_count": 5,
     "metadata": {},
     "output_type": "execute_result"
    }
   ],
   "source": [
    "# 전체 행렬에 대한 value_counts()\n",
    "gcc6_0_32['bin'].value_counts()"
   ]
  },
  {
   "cell_type": "code",
   "execution_count": 6,
   "metadata": {},
   "outputs": [
    {
     "name": "stdout",
     "output_type": "stream",
     "text": [
      "gcc6_0_32 228103\n"
     ]
    }
   ],
   "source": [
    "# (5-1) gcc6 - 30gram(앞뒤로 3개씩) - 함수의 시작\n",
    "######################## gcc6_0_32\n",
    "idx0 = gcc6_0_32_onehot[gcc6_0_32_onehot['label']==1].index  # 407, 474 ...\n",
    "ls0 = list(idx0)\n",
    "\n",
    "# value_counts()\n",
    "# 0    2151901\n",
    "# 1       4307\n",
    "\n",
    "# 최종 뽑을 행에 대한 index\n",
    "ls_idx0 = [] \n",
    "# left_idx, right_idx = -3, 4  # 3개씩\n",
    "# left_idx, right_idx = -10, 11 # 10개씩\n",
    "left_idx, right_idx = -30, 31 # 30개씩\n",
    "# left_idx, right_idx = -90, 91 # 90개씩\n",
    "\n",
    "\n",
    "# 전체 index에 -10더한 index들 -9 더한 인덱스들, ~~~ 10더한 index들 다 합침.(extend)\n",
    "for k in range(left_idx, right_idx):\n",
    "    ls_idx0.extend(list(idx0 + k)) # index 형이라서 가능\n",
    "\n",
    "ls_idx0 = list(set(ls_idx0))    \n",
    "# print(len(ls_idx0))\n",
    "\n",
    "ls_idx0.sort() # 인덱스 정렬\n",
    "ls_idx0 = list(filter(lambda x: x>0, ls_idx0)) # 0이상인 값들만 \n",
    "ls_idx0 = list(filter(lambda x: x<len(gcc6_0_32_onehot), ls_idx0))\n",
    "\n",
    "print('gcc6_0_32', len(ls_idx0))\n",
    "\n",
    "# loc 로 수정필요\n",
    "gcc6_0_32_onehot_30gram = gcc6_0_32_onehot.loc[ls_idx0,:].copy()"
   ]
  },
  {
   "cell_type": "code",
   "execution_count": 7,
   "metadata": {},
   "outputs": [
    {
     "name": "stdout",
     "output_type": "stream",
     "text": [
      "gcc6_1_32 168654\n"
     ]
    }
   ],
   "source": [
    "# (5-2) gcc6 - 30gram(앞뒤로 3개씩) - 함수의 시작\n",
    "######################## gcc6_0_32\n",
    "idx1 = gcc6_1_32_onehot[gcc6_1_32_onehot['label']==1].index  # 407, 474 ...\n",
    "ls1 = list(idx1)\n",
    "\n",
    "# value_counts()\n",
    "# 0    2151901\n",
    "# 1       4307\n",
    "\n",
    "# 최종 뽑을 행에 대한 index\n",
    "ls_idx1 = [] \n",
    "\n",
    "# 전체 index에 -10더한 index들 -9 더한 인덱스들, ~~~ 10더한 index들 다 합침.(extend)\n",
    "for k in range(left_idx, right_idx):\n",
    "    ls_idx1.extend(list(idx1 + k)) # index 형이라서 가능\n",
    "\n",
    "ls_idx1 = list(set(ls_idx1))    \n",
    "# print(len(ls_idx0))\n",
    "\n",
    "ls_idx1.sort() # 인덱스 정렬\n",
    "ls_idx1 = list(filter(lambda x: x>0, ls_idx1)) # 0이상인 값들만 \n",
    "ls_idx1 = list(filter(lambda x: x<len(gcc6_1_32_onehot), ls_idx1))\n",
    "\n",
    "print('gcc6_1_32', len(ls_idx1))\n",
    "\n",
    "# loc 로 수정필요\n",
    "gcc6_1_32_onehot_30gram = gcc6_1_32_onehot.loc[ls_idx1,:].copy()\n"
   ]
  },
  {
   "cell_type": "code",
   "execution_count": 8,
   "metadata": {},
   "outputs": [
    {
     "name": "stdout",
     "output_type": "stream",
     "text": [
      "gcc6_2_32 171069\n"
     ]
    }
   ],
   "source": [
    "\n",
    "# (5-3) gcc6 - 30gram(앞뒤로 3개씩) - 함수의 시작\n",
    "######################## gcc6_0_32\n",
    "idx2 = gcc6_2_32_onehot[gcc6_2_32_onehot['label']==1].index  # 407, 474 ...\n",
    "ls2 = list(idx2)\n",
    "\n",
    "# value_counts()\n",
    "# 0    2151901\n",
    "# 1       4307\n",
    "\n",
    "# 최종 뽑을 행에 대한 index\n",
    "ls_idx2 = [] \n",
    "\n",
    "# 전체 index에 -10더한 index들 -9 더한 인덱스들, ~~~ 10더한 index들 다 합침.(extend)\n",
    "for k in range(left_idx, right_idx):\n",
    "    ls_idx2.extend(list(idx2 + k)) # index 형이라서 가능\n",
    "\n",
    "ls_idx2 = list(set(ls_idx2))    \n",
    "# print(len(ls_idx0))\n",
    "\n",
    "ls_idx2.sort() # 인덱스 정렬\n",
    "ls_idx2 = list(filter(lambda x: x>0, ls_idx2)) # 0이상인 값들만 \n",
    "ls_idx2 = list(filter(lambda x: x<len(gcc6_2_32_onehot), ls_idx2))\n",
    "\n",
    "print('gcc6_2_32', len(ls_idx2))\n",
    "\n",
    "# loc 로 수정필요\n",
    "gcc6_2_32_onehot_30gram = gcc6_2_32_onehot.loc[ls_idx2,:].copy()\n"
   ]
  },
  {
   "cell_type": "code",
   "execution_count": 9,
   "metadata": {},
   "outputs": [
    {
     "name": "stdout",
     "output_type": "stream",
     "text": [
      "gcc6_3_32 162305\n"
     ]
    }
   ],
   "source": [
    "\n",
    "# (5-3) gcc6 - 30gram(앞뒤로 3개씩) - 함수의 시작\n",
    "######################## gcc6_0_32\n",
    "idx3 = gcc6_3_32_onehot[gcc6_3_32_onehot['label']==1].index  # 407, 474 ...\n",
    "ls3 = list(idx3)\n",
    "\n",
    "# value_counts()\n",
    "# 0    2151901\n",
    "# 1       4307\n",
    "\n",
    "# 최종 뽑을 행에 대한 index\n",
    "ls_idx3 = [] \n",
    "\n",
    "# 전체 index에 -10더한 index들 -9 더한 인덱스들, ~~~ 10더한 index들 다 합침.(extend)\n",
    "for k in range(left_idx, right_idx):\n",
    "    ls_idx3.extend(list(idx3 + k)) # index 형이라서 가능\n",
    "\n",
    "ls_idx3 = list(set(ls_idx3))    \n",
    "# print(len(ls_idx0))\n",
    "\n",
    "ls_idx3.sort() # 인덱스 정렬\n",
    "ls_idx3 = list(filter(lambda x: x>0, ls_idx3)) # 0이상인 값들만 \n",
    "ls_idx3 = list(filter(lambda x: x<len(gcc6_3_32_onehot), ls_idx3))\n",
    "\n",
    "print('gcc6_3_32', len(ls_idx3))\n",
    "\n",
    "# loc 로 수정필요\n",
    "gcc6_3_32_onehot_30gram = gcc6_3_32_onehot.loc[ls_idx3,:].copy()\n"
   ]
  },
  {
   "cell_type": "code",
   "execution_count": 10,
   "metadata": {},
   "outputs": [
    {
     "name": "stdout",
     "output_type": "stream",
     "text": [
      "(228103, 256) (228103,)\n",
      "(168654, 256) (168654,)\n",
      "(171069, 256) (171069,)\n",
      "(162305, 256) (162305,)\n"
     ]
    }
   ],
   "source": [
    "# (7) 훈련데이터, 훈련라벨 분리 012\n",
    "\n",
    "# 훈련 데이터, 훈련 라벨\n",
    "x_gcc6_0_32 = gcc6_0_32_onehot_30gram.iloc[:,1:].to_numpy()\n",
    "y_gcc6_0_32 = gcc6_0_32_onehot_30gram['label'].to_numpy()\n",
    "\n",
    "x_gcc6_1_32 = gcc6_1_32_onehot_30gram.iloc[:,1:].to_numpy()\n",
    "y_gcc6_1_32 = gcc6_1_32_onehot_30gram['label'].to_numpy()\n",
    "\n",
    "x_gcc6_2_32 = gcc6_2_32_onehot_30gram.iloc[:,1:].to_numpy()\n",
    "y_gcc6_2_32 = gcc6_2_32_onehot_30gram['label'].to_numpy()\n",
    "\n",
    "# 테스트 데이터, 테스트 라벨\n",
    "x_gcc6_3_32 = gcc6_3_32_onehot_30gram.iloc[:,1:].to_numpy()\n",
    "y_gcc6_3_32 = gcc6_3_32_onehot_30gram['label'].to_numpy()\n",
    "\n",
    "# train\n",
    "print(x_gcc6_0_32.shape, y_gcc6_0_32.shape)\n",
    "print(x_gcc6_1_32.shape, y_gcc6_1_32.shape)\n",
    "print(x_gcc6_2_32.shape, y_gcc6_2_32.shape)\n",
    "\n",
    "# test\n",
    "print(x_gcc6_3_32.shape, y_gcc6_3_32.shape)"
   ]
  },
  {
   "cell_type": "code",
   "execution_count": 11,
   "metadata": {},
   "outputs": [
    {
     "name": "stdout",
     "output_type": "stream",
     "text": [
      "(228103, 1, 256) (228103, 1, 1)\n",
      "(168654, 1, 256) (168654, 1, 1)\n",
      "(171069, 1, 256) (171069, 1, 1)\n",
      "(162305, 1, 256) (162305, 1, 1)\n"
     ]
    }
   ],
   "source": [
    "# (8) 훈련데이터, 훈련라벨 reshape 작업 => # ex - (605, 1, 256)\n",
    "\n",
    "## gcc6_0_32\n",
    "x_gcc6_0_32 = x_gcc6_0_32.reshape(x_gcc6_0_32.shape[0], 1, x_gcc6_0_32.shape[1])\n",
    "y_gcc6_0_32 = y_gcc6_0_32.reshape(y_gcc6_0_32.shape[0], 1, 1)\n",
    "\n",
    "## gcc6_1_32\n",
    "x_gcc6_1_32 = x_gcc6_1_32.reshape(x_gcc6_1_32.shape[0], 1, x_gcc6_1_32.shape[1])\n",
    "y_gcc6_1_32 = y_gcc6_1_32.reshape(y_gcc6_1_32.shape[0], 1, 1)\n",
    "\n",
    "## gcc6_2_32\n",
    "x_gcc6_2_32 = x_gcc6_2_32.reshape(x_gcc6_2_32.shape[0], 1, x_gcc6_2_32.shape[1])\n",
    "y_gcc6_2_32 = y_gcc6_2_32.reshape(y_gcc6_2_32.shape[0], 1, 1)\n",
    "\n",
    "### test data\n",
    "## gcc6_3_32\n",
    "x_gcc6_3_32 = x_gcc6_3_32.reshape(x_gcc6_3_32.shape[0], 1, x_gcc6_3_32.shape[1])\n",
    "y_gcc6_3_32 = y_gcc6_3_32.reshape(y_gcc6_3_32.shape[0], 1, 1)\n",
    "\n",
    "print(x_gcc6_0_32.shape, y_gcc6_0_32.shape)\n",
    "print(x_gcc6_1_32.shape, y_gcc6_1_32.shape)\n",
    "print(x_gcc6_2_32.shape, y_gcc6_2_32.shape)\n",
    "\n",
    "## test data\n",
    "print(x_gcc6_3_32.shape, y_gcc6_3_32.shape)"
   ]
  },
  {
   "cell_type": "code",
   "execution_count": 12,
   "metadata": {},
   "outputs": [
    {
     "name": "stdout",
     "output_type": "stream",
     "text": [
      "(567826, 1, 256) (567826, 1, 1)\n",
      "(162305, 1, 256) (162305, 1, 1)\n",
      "(559062, 1, 256) (559062, 1, 1)\n",
      "(171069, 1, 256) (171069, 1, 1)\n",
      "(561477, 1, 256) (561477, 1, 1)\n",
      "(168654, 1, 256) (168654, 1, 1)\n",
      "(502028, 1, 256) (502028, 1, 1)\n",
      "(228103, 1, 256) (228103, 1, 1)\n"
     ]
    }
   ],
   "source": [
    "# (9) 최종 훈련데이터, 훈련라벨 concatenate 작업\n",
    "# 012 / 3\n",
    "x_gcc6_012_32 = np.concatenate((x_gcc6_0_32, x_gcc6_1_32, x_gcc6_2_32), axis=0)\n",
    "y_gcc6_012_32 = np.concatenate((y_gcc6_0_32, y_gcc6_1_32, y_gcc6_2_32), axis=0)\n",
    "print(x_gcc6_012_32.shape, y_gcc6_012_32.shape)\n",
    "print(x_gcc6_3_32.shape, y_gcc6_3_32.shape)\n",
    "\n",
    "# 013 / 2\n",
    "x_gcc6_013_32 = np.concatenate((x_gcc6_0_32, x_gcc6_1_32, x_gcc6_3_32), axis=0)\n",
    "y_gcc6_013_32 = np.concatenate((y_gcc6_0_32, y_gcc6_1_32, y_gcc6_3_32), axis=0)\n",
    "print(x_gcc6_013_32.shape, y_gcc6_013_32.shape)\n",
    "print(x_gcc6_2_32.shape, y_gcc6_2_32.shape)\n",
    "\n",
    "# 023 / 1\n",
    "x_gcc6_023_32 = np.concatenate((x_gcc6_0_32, x_gcc6_2_32, x_gcc6_3_32), axis=0)\n",
    "y_gcc6_023_32 = np.concatenate((y_gcc6_0_32, y_gcc6_2_32, y_gcc6_3_32), axis=0)\n",
    "print(x_gcc6_023_32.shape, y_gcc6_023_32.shape)\n",
    "print(x_gcc6_1_32.shape, y_gcc6_1_32.shape)\n",
    "\n",
    "# 123 / 0\n",
    "x_gcc6_123_32 = np.concatenate((x_gcc6_1_32, x_gcc6_2_32, x_gcc6_3_32), axis=0)\n",
    "y_gcc6_123_32 = np.concatenate((y_gcc6_1_32, y_gcc6_2_32, y_gcc6_3_32), axis=0)\n",
    "print(x_gcc6_123_32.shape, y_gcc6_123_32.shape)\n",
    "print(x_gcc6_0_32.shape, y_gcc6_0_32.shape)"
   ]
  },
  {
   "cell_type": "markdown",
   "metadata": {},
   "source": [
    "## Gcc6 Optimizer 012 학습 / 3 test"
   ]
  },
  {
   "cell_type": "code",
   "execution_count": 13,
   "metadata": {},
   "outputs": [
    {
     "name": "stdout",
     "output_type": "stream",
     "text": [
      "WARNING:tensorflow:From c:\\users\\urse\\anaconda3\\envs\\untitled\\lib\\site-packages\\tensorflow_core\\python\\ops\\resource_variable_ops.py:1630: calling BaseResourceVariable.__init__ (from tensorflow.python.ops.resource_variable_ops) with constraint is deprecated and will be removed in a future version.\n",
      "Instructions for updating:\n",
      "If using Keras pass *_constraint arguments to layers.\n",
      "Model: \"model_1\"\n",
      "_________________________________________________________________\n",
      "Layer (type)                 Output Shape              Param #   \n",
      "=================================================================\n",
      "input_1 (InputLayer)         (None, 1, 256)            0         \n",
      "_________________________________________________________________\n",
      "bidirectional_1 (Bidirection (None, 1, 32)             34944     \n",
      "_________________________________________________________________\n",
      "time_distributed_1 (TimeDist (None, 1, 1)              33        \n",
      "=================================================================\n",
      "Total params: 34,977\n",
      "Trainable params: 34,977\n",
      "Non-trainable params: 0\n",
      "_________________________________________________________________\n",
      "None\n",
      "======Training stage======\n",
      "WARNING:tensorflow:From c:\\users\\urse\\anaconda3\\envs\\untitled\\lib\\site-packages\\tensorflow_core\\python\\ops\\math_grad.py:1424: where (from tensorflow.python.ops.array_ops) is deprecated and will be removed in a future version.\n",
      "Instructions for updating:\n",
      "Use tf.where in 2.0, which has the same broadcast rule as np.where\n",
      "WARNING:tensorflow:From c:\\users\\urse\\anaconda3\\envs\\untitled\\lib\\site-packages\\keras\\backend\\tensorflow_backend.py:422: The name tf.global_variables is deprecated. Please use tf.compat.v1.global_variables instead.\n",
      "\n",
      "Epoch 1/3\n",
      "567826/567826 [==============================] - 55s 96us/step - loss: 0.0474 - accuracy: 0.9885\n",
      "Epoch 2/3\n",
      "567826/567826 [==============================] - 53s 93us/step - loss: 0.0423 - accuracy: 0.9889\n",
      "Epoch 3/3\n",
      "567826/567826 [==============================] - 60s 105us/step - loss: 0.0424 - accuracy: 0.9889\n"
     ]
    },
    {
     "data": {
      "text/plain": [
       "<keras.callbacks.callbacks.History at 0x23caecb9e08>"
      ]
     },
     "execution_count": 13,
     "metadata": {},
     "output_type": "execute_result"
    },
    {
     "name": "stdout",
     "output_type": "stream",
     "text": [
      "학습완료\n"
     ]
    }
   ],
   "source": [
    "# (10) 양방향 LSTM 모델링 작업 - 012 / 3 \n",
    "from keras.models import Model, Sequential\n",
    "from keras.layers import SimpleRNN, Input, Dense, LSTM\n",
    "from keras.layers import Bidirectional, TimeDistributed\n",
    "import numpy as np\n",
    "\n",
    "# batch_shape => None, 1, 256 뜻 행 batch 크기 안정하고, 1은 열이 1개, 256은 열안의 항목이 256개 \n",
    "xInput = Input(batch_shape=(None, 1, 256)) # \n",
    "xBiLstm = Bidirectional(LSTM(16, return_sequences=True), merge_mode = 'concat')(xInput)\n",
    "xOutput = TimeDistributed(Dense(1, activation ='sigmoid'))(xBiLstm) # 각 스텝에서 cost가 전송되고, 오류가 다음 step으로 전송됨.\n",
    "\n",
    "model1 = Model(xInput, xOutput)\n",
    "model1.compile(loss='binary_crossentropy', optimizer='rmsprop', metrics=['accuracy'])\n",
    "print(model1.summary())\n",
    "\n",
    "print('======Training stage======')\n",
    "\n",
    "# 학습\n",
    "from keras.callbacks import EarlyStopping\n",
    "early_stopping = EarlyStopping(patience = 3) # 조기종료 콜백함수 정의\n",
    "\n",
    "model1.fit(x_gcc6_012_32, y_gcc6_012_32,\n",
    "          batch_size = 32, #2,\n",
    "          #validation_split=0.2,\n",
    "          epochs=3,\n",
    "          callbacks=[early_stopping])\n",
    "print('학습완료')"
   ]
  },
  {
   "cell_type": "code",
   "execution_count": 14,
   "metadata": {},
   "outputs": [
    {
     "name": "stdout",
     "output_type": "stream",
     "text": [
      "162305/162305 [==============================] - 5s 29us/step\n",
      "Test performance: accuracy=0.9881149530410767, loss=0.05218947108499145\n",
      "(162305, 1, 1)\n"
     ]
    }
   ],
   "source": [
    "# (11) 테스트 Evaluate 결과 - 012 / 3 \n",
    "# 정밀도가 의미하는 바는 => 내가 이진분류에서 실제로 잘 맞췄느냐\n",
    "\n",
    "score, acc = model1.evaluate(x_gcc6_3_32, y_gcc6_3_32)\n",
    "print('Test performance: accuracy={0}, loss={1}'.format(acc, score))\n",
    "\n",
    "# 모델 predict\n",
    "pr1 = model1.predict(x_gcc6_3_32)\n",
    "print(pr1.shape) # pr1[:10]"
   ]
  },
  {
   "cell_type": "code",
   "execution_count": 15,
   "metadata": {},
   "outputs": [
    {
     "name": "stdout",
     "output_type": "stream",
     "text": [
      "162305 162305\n",
      "--- Gcc 6 이진분류 30gram 012 Train, 3 Test --- \n",
      "accuracy_score 0.9881149687317088\n",
      "recall_score 0.3725752508361204\n",
      "precision_score 0.9545844044558698\n",
      "f1_score 0.5359634351695934\n",
      "\n",
      "confusion_matrix\n",
      " [[159262     53]\n",
      " [  1876   1114]]\n",
      "roc_curve 면적 0.6861212882872189\n"
     ]
    }
   ],
   "source": [
    "# (12) 테스트 평가지표 변수 작업 - 012 / 3\n",
    "\n",
    "# 테스트 predcit 결과들\n",
    "pred = np.round(np.array(pr1).flatten().tolist())\n",
    "\n",
    "# 테스트 predict 정답들\n",
    "y_test = np.array(y_gcc6_3_32).flatten().tolist()\n",
    "\n",
    "print(len(pred), len(y_test)) # 두 개가 같으면 됨.\n",
    "print('--- Gcc 6 이진분류 30gram 012 Train, 3 Test --- ')\n",
    "\n",
    "# (13) 테스트 평가지표 변수 작업\n",
    "\n",
    "# Accuracy, Precision, Recall, F1-Score\n",
    "from sklearn.metrics import accuracy_score, recall_score, precision_score, f1_score\n",
    "\n",
    "# score 출력\n",
    "print('accuracy_score', float(accuracy_score(y_test, pred)))\n",
    "print('recall_score', float(recall_score(y_test, pred)))\n",
    "print('precision_score', float(precision_score(y_test, pred)))\n",
    "print('f1_score', f1_score(y_test, pred))\n",
    "\n",
    "# Confusion Matrix\n",
    "from sklearn.metrics import confusion_matrix\n",
    "print('\\nconfusion_matrix\\n', confusion_matrix(y_test, pred))\n",
    "\n",
    "# ROC Curve\n",
    "from sklearn.metrics import roc_auc_score\n",
    "roc_auc = roc_auc_score(y_test, pred)\n",
    "print('roc_curve 면적', roc_auc)"
   ]
  },
  {
   "cell_type": "markdown",
   "metadata": {},
   "source": [
    "## Gcc6 Optimizer 013 학습 / 2 test"
   ]
  },
  {
   "cell_type": "code",
   "execution_count": 16,
   "metadata": {},
   "outputs": [
    {
     "name": "stdout",
     "output_type": "stream",
     "text": [
      "Model: \"model_2\"\n",
      "_________________________________________________________________\n",
      "Layer (type)                 Output Shape              Param #   \n",
      "=================================================================\n",
      "input_2 (InputLayer)         (None, 1, 256)            0         \n",
      "_________________________________________________________________\n",
      "bidirectional_2 (Bidirection (None, 1, 32)             34944     \n",
      "_________________________________________________________________\n",
      "time_distributed_2 (TimeDist (None, 1, 1)              33        \n",
      "=================================================================\n",
      "Total params: 34,977\n",
      "Trainable params: 34,977\n",
      "Non-trainable params: 0\n",
      "_________________________________________________________________\n",
      "None\n",
      "======Training stage======\n",
      "Epoch 1/3\n",
      "559062/559062 [==============================] - 58s 104us/step - loss: 0.0468 - accuracy: 0.9889\n",
      "Epoch 2/3\n",
      "559062/559062 [==============================] - 61s 110us/step - loss: 0.0408 - accuracy: 0.9894\n",
      "Epoch 3/3\n",
      "559062/559062 [==============================] - 55s 99us/step - loss: 0.0411 - accuracy: 0.9894\n"
     ]
    },
    {
     "data": {
      "text/plain": [
       "<keras.callbacks.callbacks.History at 0x23cd204ad88>"
      ]
     },
     "execution_count": 16,
     "metadata": {},
     "output_type": "execute_result"
    },
    {
     "name": "stdout",
     "output_type": "stream",
     "text": [
      "학습완료\n"
     ]
    }
   ],
   "source": [
    "# (10) 양방향 LSTM 모델링 작업 - # 013 / 2\n",
    "from keras.models import Model, Sequential\n",
    "from keras.layers import SimpleRNN, Input, Dense, LSTM\n",
    "from keras.layers import Bidirectional, TimeDistributed\n",
    "import numpy as np\n",
    "\n",
    "# batch_shape => None, 1, 256 뜻 행 batch 크기 안정하고, 1은 열이 1개, 256은 열안의 항목이 256개 \n",
    "xInput = Input(batch_shape=(None, 1, 256)) # \n",
    "xBiLstm = Bidirectional(LSTM(16, return_sequences=True), merge_mode = 'concat')(xInput)\n",
    "xOutput = TimeDistributed(Dense(1, activation ='sigmoid'))(xBiLstm) # 각 스텝에서 cost가 전송되고, 오류가 다음 step으로 전송됨.\n",
    "\n",
    "model2 = Model(xInput, xOutput)\n",
    "model2.compile(loss='binary_crossentropy', optimizer='rmsprop', metrics=['accuracy'])\n",
    "print(model2.summary())\n",
    "\n",
    "print('======Training stage======')\n",
    "\n",
    "# 학습\n",
    "from keras.callbacks import EarlyStopping\n",
    "early_stopping = EarlyStopping(patience = 3) # 조기종료 콜백함수 정의\n",
    "\n",
    "model2.fit(x_gcc6_013_32, y_gcc6_013_32,\n",
    "          batch_size = 32, #2,\n",
    "          #validation_split=0.2,\n",
    "          epochs=3,\n",
    "          callbacks=[early_stopping])\n",
    "print('학습완료')"
   ]
  },
  {
   "cell_type": "code",
   "execution_count": 17,
   "metadata": {},
   "outputs": [
    {
     "name": "stdout",
     "output_type": "stream",
     "text": [
      "171069/171069 [==============================] - 9s 50us/step\n",
      "Test performance: accuracy=0.986677885055542, loss=0.05815501352666119\n",
      "(171069, 1, 1)\n"
     ]
    }
   ],
   "source": [
    "# (11) 테스트 Evaluate 결과 - 013 / 2 \n",
    "# 정밀도가 의미하는 바는 => 내가 이진분류에서 실제로 잘 맞췄느냐\n",
    "\n",
    "score2, acc2 = model2.evaluate(x_gcc6_2_32, y_gcc6_2_32)\n",
    "print('Test performance: accuracy={0}, loss={1}'.format(acc2, score2))\n",
    "\n",
    "# 모델 predict\n",
    "pr2 = model2.predict(x_gcc6_2_32)\n",
    "print(pr2.shape) # pr2[:10]"
   ]
  },
  {
   "cell_type": "code",
   "execution_count": 18,
   "metadata": {},
   "outputs": [
    {
     "name": "stdout",
     "output_type": "stream",
     "text": [
      "171069 171069\n",
      "--- Gcc 6 이진분류 30gram 013 Train, 2 Test --- \n",
      "accuracy_score 0.9866778902080447\n",
      "recall_score 0.29965592743196745\n",
      "precision_score 0.9599198396793587\n",
      "f1_score 0.4567342073897496\n",
      "\n",
      "confusion_matrix\n",
      " [[167832     40]\n",
      " [  2239    958]]\n",
      "roc_curve 면적 0.6497088253248285\n"
     ]
    }
   ],
   "source": [
    "# (12) 테스트 평가지표 변수 작업 - 013 / 2\n",
    "\n",
    "# 테스트 predcit 결과들\n",
    "pred2 = np.round(np.array(pr2).flatten().tolist())\n",
    "\n",
    "# 테스트 predict 정답들\n",
    "y_test2 = np.array(y_gcc6_2_32).flatten().tolist()\n",
    "\n",
    "print(len(pred2), len(y_test2)) # 두 개가 같으면 됨.\n",
    "print('--- Gcc 6 이진분류 30gram 013 Train, 2 Test --- ')\n",
    "\n",
    "# (13) 테스트 평가지표 변수 작업\n",
    "\n",
    "# Accuracy, Precision, Recall, F1-Score\n",
    "from sklearn.metrics import accuracy_score, recall_score, precision_score, f1_score\n",
    "\n",
    "# score 출력\n",
    "print('accuracy_score', float(accuracy_score(y_test2, pred2)))\n",
    "print('recall_score', float(recall_score(y_test2, pred2)))\n",
    "print('precision_score', float(precision_score(y_test2, pred2)))\n",
    "print('f1_score', f1_score(y_test2, pred2))\n",
    "\n",
    "# Confusion Matrix\n",
    "from sklearn.metrics import confusion_matrix\n",
    "print('\\nconfusion_matrix\\n', confusion_matrix(y_test2, pred2))\n",
    "\n",
    "# ROC Curve\n",
    "from sklearn.metrics import roc_auc_score\n",
    "roc_auc2 = roc_auc_score(y_test2, pred2)\n",
    "print('roc_curve 면적', roc_auc2)"
   ]
  },
  {
   "cell_type": "markdown",
   "metadata": {},
   "source": [
    "## Gcc6 Optimizer 023 학습 / 1 test"
   ]
  },
  {
   "cell_type": "code",
   "execution_count": 19,
   "metadata": {},
   "outputs": [
    {
     "name": "stdout",
     "output_type": "stream",
     "text": [
      "Model: \"model_3\"\n",
      "_________________________________________________________________\n",
      "Layer (type)                 Output Shape              Param #   \n",
      "=================================================================\n",
      "input_3 (InputLayer)         (None, 1, 256)            0         \n",
      "_________________________________________________________________\n",
      "bidirectional_3 (Bidirection (None, 1, 32)             34944     \n",
      "_________________________________________________________________\n",
      "time_distributed_3 (TimeDist (None, 1, 1)              33        \n",
      "=================================================================\n",
      "Total params: 34,977\n",
      "Trainable params: 34,977\n",
      "Non-trainable params: 0\n",
      "_________________________________________________________________\n",
      "None\n",
      "======Training stage======\n",
      "Epoch 1/3\n",
      "561477/561477 [==============================] - 67s 120us/step - loss: 0.0466 - accuracy: 0.9892\n",
      "Epoch 2/3\n",
      "561477/561477 [==============================] - 64s 113us/step - loss: 0.0408 - accuracy: 0.9896\n",
      "Epoch 3/3\n",
      "561477/561477 [==============================] - 52s 93us/step - loss: 0.0406 - accuracy: 0.9896\n"
     ]
    },
    {
     "data": {
      "text/plain": [
       "<keras.callbacks.callbacks.History at 0x23cd22066c8>"
      ]
     },
     "execution_count": 19,
     "metadata": {},
     "output_type": "execute_result"
    },
    {
     "name": "stdout",
     "output_type": "stream",
     "text": [
      "학습완료\n"
     ]
    }
   ],
   "source": [
    "# (10) 양방향 LSTM 모델링 작업 - # 023 / 1\n",
    "from keras.models import Model, Sequential\n",
    "from keras.layers import SimpleRNN, Input, Dense, LSTM\n",
    "from keras.layers import Bidirectional, TimeDistributed\n",
    "import numpy as np\n",
    "\n",
    "# batch_shape => None, 1, 256 뜻 행 batch 크기 안정하고, 1은 열이 1개, 256은 열안의 항목이 256개 \n",
    "xInput = Input(batch_shape=(None, 1, 256)) # \n",
    "xBiLstm = Bidirectional(LSTM(16, return_sequences=True), merge_mode = 'concat')(xInput)\n",
    "xOutput = TimeDistributed(Dense(1, activation ='sigmoid'))(xBiLstm) # 각 스텝에서 cost가 전송되고, 오류가 다음 step으로 전송됨.\n",
    "\n",
    "model3 = Model(xInput, xOutput)\n",
    "model3.compile(loss='binary_crossentropy', optimizer='rmsprop', metrics=['accuracy'])\n",
    "print(model3.summary())\n",
    "\n",
    "print('======Training stage======')\n",
    "\n",
    "# 학습\n",
    "from keras.callbacks import EarlyStopping\n",
    "early_stopping = EarlyStopping(patience = 3) # 조기종료 콜백함수 정의\n",
    "\n",
    "model3.fit(x_gcc6_023_32, y_gcc6_023_32,\n",
    "          batch_size = 32, #2,\n",
    "          #validation_split=0.2,\n",
    "          epochs=3,\n",
    "          callbacks=[early_stopping])\n",
    "print('학습완료')"
   ]
  },
  {
   "cell_type": "code",
   "execution_count": 20,
   "metadata": {},
   "outputs": [
    {
     "name": "stdout",
     "output_type": "stream",
     "text": [
      "168654/168654 [==============================] - 5s 27us/step\n",
      "Test performance: accuracy=0.9858408570289612, loss=0.05623170098015692\n",
      "(168654, 1, 1)\n"
     ]
    }
   ],
   "source": [
    "# (11) 테스트 Evaluate 결과 - 023 / 1 \n",
    "# 정밀도가 의미하는 바는 => 내가 이진분류에서 실제로 잘 맞췄느냐\n",
    "\n",
    "score3, acc3 = model3.evaluate(x_gcc6_1_32, y_gcc6_1_32)\n",
    "print('Test performance: accuracy={0}, loss={1}'.format(acc3, score3))\n",
    "\n",
    "# 모델 predict\n",
    "pr3 = model3.predict(x_gcc6_1_32)\n",
    "print(pr3.shape) # pr3[:10]"
   ]
  },
  {
   "cell_type": "code",
   "execution_count": 21,
   "metadata": {},
   "outputs": [
    {
     "name": "stdout",
     "output_type": "stream",
     "text": [
      "168654 168654\n",
      "--- Gcc 6 이진분류 30gram 023 Train, 1 Test --- \n",
      "accuracy_score 0.9858408338966167\n",
      "recall_score 0.27982779827798276\n",
      "precision_score 0.9518828451882845\n",
      "f1_score 0.432509505703422\n",
      "\n",
      "confusion_matrix\n",
      " [[165356     46]\n",
      " [  2342    910]]\n",
      "roc_curve 면적 0.6397748439885096\n"
     ]
    }
   ],
   "source": [
    "# (12) 테스트 평가지표 변수 작업 - 023 / 1\n",
    "\n",
    "# 테스트 predcit 결과들\n",
    "pred3 = np.round(np.array(pr3).flatten().tolist())\n",
    "\n",
    "# 테스트 predict 정답들\n",
    "y_test3 = np.array(y_gcc6_1_32).flatten().tolist()\n",
    "\n",
    "print(len(pred3), len(y_test3)) # 두 개가 같으면 됨.\n",
    "print('--- Gcc 6 이진분류 30gram 023 Train, 1 Test --- ')\n",
    "\n",
    "# (13) 테스트 평가지표 변수 작업\n",
    "\n",
    "# Accuracy, Precision, Recall, F1-Score\n",
    "from sklearn.metrics import accuracy_score, recall_score, precision_score, f1_score\n",
    "\n",
    "# score 출력\n",
    "print('accuracy_score', float(accuracy_score(y_test3, pred3)))\n",
    "print('recall_score', float(recall_score(y_test3, pred3)))\n",
    "print('precision_score', float(precision_score(y_test3, pred3)))\n",
    "print('f1_score', f1_score(y_test3, pred3))\n",
    "\n",
    "# Confusion Matrix\n",
    "from sklearn.metrics import confusion_matrix\n",
    "print('\\nconfusion_matrix\\n', confusion_matrix(y_test3, pred3))\n",
    "\n",
    "# ROC Curve\n",
    "from sklearn.metrics import roc_auc_score\n",
    "roc_auc3 = roc_auc_score(y_test3, pred3)\n",
    "print('roc_curve 면적', roc_auc3)"
   ]
  },
  {
   "cell_type": "markdown",
   "metadata": {},
   "source": [
    "## Gcc6 Optimizer 123 학습 / 0 test"
   ]
  },
  {
   "cell_type": "code",
   "execution_count": 22,
   "metadata": {},
   "outputs": [
    {
     "name": "stdout",
     "output_type": "stream",
     "text": [
      "Model: \"model_4\"\n",
      "_________________________________________________________________\n",
      "Layer (type)                 Output Shape              Param #   \n",
      "=================================================================\n",
      "input_4 (InputLayer)         (None, 1, 256)            0         \n",
      "_________________________________________________________________\n",
      "bidirectional_4 (Bidirection (None, 1, 32)             34944     \n",
      "_________________________________________________________________\n",
      "time_distributed_4 (TimeDist (None, 1, 1)              33        \n",
      "=================================================================\n",
      "Total params: 34,977\n",
      "Trainable params: 34,977\n",
      "Non-trainable params: 0\n",
      "_________________________________________________________________\n",
      "None\n",
      "======Training stage======\n",
      "Epoch 1/3\n",
      "502028/502028 [==============================] - 44s 87us/step - loss: 0.0554 - accuracy: 0.9865\n",
      "Epoch 2/3\n",
      "502028/502028 [==============================] - 53s 106us/step - loss: 0.0489 - accuracy: 0.9869\n",
      "Epoch 3/3\n",
      "502028/502028 [==============================] - 52s 103us/step - loss: 0.0488 - accuracy: 0.9869\n"
     ]
    },
    {
     "data": {
      "text/plain": [
       "<keras.callbacks.callbacks.History at 0x23d47e23ac8>"
      ]
     },
     "execution_count": 22,
     "metadata": {},
     "output_type": "execute_result"
    },
    {
     "name": "stdout",
     "output_type": "stream",
     "text": [
      "학습완료\n"
     ]
    }
   ],
   "source": [
    "# (10) 양방향 LSTM 모델링 작업 - # 123 / 0\n",
    "from keras.models import Model, Sequential\n",
    "from keras.layers import SimpleRNN, Input, Dense, LSTM\n",
    "from keras.layers import Bidirectional, TimeDistributed\n",
    "import numpy as np\n",
    "\n",
    "# batch_shape => None, 1, 256 뜻 행 batch 크기 안정하고, 1은 열이 1개, 256은 열안의 항목이 256개 \n",
    "xInput = Input(batch_shape=(None, 1, 256)) # \n",
    "xBiLstm = Bidirectional(LSTM(16, return_sequences=True), merge_mode = 'concat')(xInput)\n",
    "xOutput = TimeDistributed(Dense(1, activation ='sigmoid'))(xBiLstm) # 각 스텝에서 cost가 전송되고, 오류가 다음 step으로 전송됨.\n",
    "\n",
    "model4 = Model(xInput, xOutput)\n",
    "model4.compile(loss='binary_crossentropy', optimizer='rmsprop', metrics=['accuracy'])\n",
    "print(model4.summary())\n",
    "\n",
    "print('======Training stage======')\n",
    "\n",
    "# 학습\n",
    "from keras.callbacks import EarlyStopping\n",
    "early_stopping = EarlyStopping(patience = 3) # 조기종료 콜백함수 정의\n",
    "\n",
    "model4.fit(x_gcc6_123_32, y_gcc6_123_32,\n",
    "          batch_size = 32, #2,\n",
    "          #validation_split=0.2,\n",
    "          epochs=3,\n",
    "          callbacks=[early_stopping])\n",
    "print('학습완료')"
   ]
  },
  {
   "cell_type": "code",
   "execution_count": 23,
   "metadata": {},
   "outputs": [
    {
     "name": "stdout",
     "output_type": "stream",
     "text": [
      "228103/228103 [==============================] - 9s 38us/step\n",
      "Test performance: accuracy=0.9928234219551086, loss=0.04770080600238725\n",
      "(228103, 1, 1)\n"
     ]
    }
   ],
   "source": [
    "# (11) 테스트 Evaluate 결과 - 123 / 0 \n",
    "# 정밀도가 의미하는 바는 => 내가 이진분류에서 실제로 잘 맞췄느냐\n",
    "\n",
    "score4, acc4 = model4.evaluate(x_gcc6_0_32, y_gcc6_0_32)\n",
    "print('Test performance: accuracy={0}, loss={1}'.format(acc4, score4))\n",
    "\n",
    "# 모델 predict\n",
    "pr4 = model4.predict(x_gcc6_0_32)\n",
    "print(pr4.shape) # pr4[:10]"
   ]
  },
  {
   "cell_type": "code",
   "execution_count": 24,
   "metadata": {},
   "outputs": [
    {
     "name": "stdout",
     "output_type": "stream",
     "text": [
      "228103 228103\n",
      "--- Gcc 6 이진분류 30gram 123 Train, 0 Test --- \n",
      "accuracy_score 0.992823417491221\n",
      "recall_score 1.0\n",
      "precision_score 0.7245498906276291\n",
      "f1_score 0.840277100204898\n",
      "\n",
      "confusion_matrix\n",
      " [[222160   1637]\n",
      " [     0   4306]]\n",
      "roc_curve 면적 0.9963426676854471\n"
     ]
    }
   ],
   "source": [
    "# (12) 테스트 평가지표 변수 작업 - 123 / 0\n",
    "\n",
    "# 테스트 predcit 결과들\n",
    "pred4 = np.round(np.array(pr4).flatten().tolist())\n",
    "\n",
    "# 테스트 predict 정답들\n",
    "y_test4 = np.array(y_gcc6_0_32).flatten().tolist()\n",
    "\n",
    "print(len(pred4), len(y_test4)) # 두 개가 같으면 됨.\n",
    "print('--- Gcc 6 이진분류 30gram 123 Train, 0 Test --- ')\n",
    "\n",
    "# (13) 테스트 평가지표 변수 작업\n",
    "\n",
    "# Accuracy, Precision, Recall, F1-Score\n",
    "from sklearn.metrics import accuracy_score, recall_score, precision_score, f1_score\n",
    "\n",
    "# score 출력\n",
    "print('accuracy_score', float(accuracy_score(y_test4, pred4)))\n",
    "print('recall_score', float(recall_score(y_test4, pred4)))\n",
    "print('precision_score', float(precision_score(y_test4, pred4)))\n",
    "print('f1_score', f1_score(y_test4, pred4))\n",
    "\n",
    "# Confusion Matrix\n",
    "from sklearn.metrics import confusion_matrix\n",
    "print('\\nconfusion_matrix\\n', confusion_matrix(y_test4, pred4))\n",
    "\n",
    "# ROC Curve\n",
    "from sklearn.metrics import roc_auc_score\n",
    "roc_auc4 = roc_auc_score(y_test4, pred4)\n",
    "print('roc_curve 면적', roc_auc4)"
   ]
  },
  {
   "cell_type": "code",
   "execution_count": null,
   "metadata": {},
   "outputs": [],
   "source": []
  },
  {
   "cell_type": "markdown",
   "metadata": {},
   "source": [
    "## 기타"
   ]
  },
  {
   "cell_type": "code",
   "execution_count": 25,
   "metadata": {},
   "outputs": [
    {
     "data": {
      "text/plain": [
       "'\\n# gcc7_0~3\\ngcc7_0_32 = pd.read_csv(\"data_final/gcc7_0_32.csv\")\\ngcc7_1_32 = pd.read_csv(\"data_final/gcc7_1_32.csv\")\\ngcc7_2_32 = pd.read_csv(\"data_final/gcc7_2_32.csv\")\\ngcc7_3_32 = pd.read_csv(\"data_final/gcc7_3_32.csv\")\\n\\n# gcc8_0~3\\ngcc8_0_32 = pd.read_csv(\"data_final/gcc8_0_32.csv\")\\ngcc8_1_32 = pd.read_csv(\"data_final/gcc8_1_32.csv\")\\ngcc8_2_32 = pd.read_csv(\"data_final/gcc8_2_32.csv\")\\ngcc8_3_32 = pd.read_csv(\"data_final/gcc8_3_32.csv\")\\n\\n# gcc9_0~3\\ngcc9_0_32 = pd.read_csv(\"data_final/gcc9_0_32.csv\")\\ngcc9_1_32 = pd.read_csv(\"data_final/gcc9_1_32.csv\")\\ngcc9_2_32 = pd.read_csv(\"data_final/gcc9_2_32.csv\")\\ngcc9_3_32 = pd.read_csv(\"data_final/gcc9_3_32.csv\")\\n'"
      ]
     },
     "execution_count": 25,
     "metadata": {},
     "output_type": "execute_result"
    }
   ],
   "source": [
    "'''\n",
    "# gcc7_0~3\n",
    "gcc7_0_32 = pd.read_csv(\"data_final/gcc7_0_32.csv\")\n",
    "gcc7_1_32 = pd.read_csv(\"data_final/gcc7_1_32.csv\")\n",
    "gcc7_2_32 = pd.read_csv(\"data_final/gcc7_2_32.csv\")\n",
    "gcc7_3_32 = pd.read_csv(\"data_final/gcc7_3_32.csv\")\n",
    "\n",
    "# gcc8_0~3\n",
    "gcc8_0_32 = pd.read_csv(\"data_final/gcc8_0_32.csv\")\n",
    "gcc8_1_32 = pd.read_csv(\"data_final/gcc8_1_32.csv\")\n",
    "gcc8_2_32 = pd.read_csv(\"data_final/gcc8_2_32.csv\")\n",
    "gcc8_3_32 = pd.read_csv(\"data_final/gcc8_3_32.csv\")\n",
    "\n",
    "# gcc9_0~3\n",
    "gcc9_0_32 = pd.read_csv(\"data_final/gcc9_0_32.csv\")\n",
    "gcc9_1_32 = pd.read_csv(\"data_final/gcc9_1_32.csv\")\n",
    "gcc9_2_32 = pd.read_csv(\"data_final/gcc9_2_32.csv\")\n",
    "gcc9_3_32 = pd.read_csv(\"data_final/gcc9_3_32.csv\")\n",
    "'''"
   ]
  },
  {
   "cell_type": "code",
   "execution_count": 26,
   "metadata": {},
   "outputs": [
    {
     "data": {
      "text/plain": [
       "'\\n# (번외) prediction 결과 확인\\npr_ls = np.array(pr1).flatten().tolist()\\n\\ncount=0\\nfor num, i in enumerate(pr_ls):\\n    if i >= 0.5:\\n        count+=1\\n#        print(i)\\nprint(count)\\n'"
      ]
     },
     "execution_count": 26,
     "metadata": {},
     "output_type": "execute_result"
    }
   ],
   "source": [
    "'''\n",
    "# (번외) prediction 결과 확인\n",
    "pr_ls = np.array(pr1).flatten().tolist()\n",
    "\n",
    "count=0\n",
    "for num, i in enumerate(pr_ls):\n",
    "    if i >= 0.5:\n",
    "        count+=1\n",
    "#        print(i)\n",
    "print(count)\n",
    "'''"
   ]
  }
 ],
 "metadata": {
  "kernelspec": {
   "display_name": "Python 3",
   "language": "python",
   "name": "python3"
  },
  "language_info": {
   "codemirror_mode": {
    "name": "ipython",
    "version": 3
   },
   "file_extension": ".py",
   "mimetype": "text/x-python",
   "name": "python",
   "nbconvert_exporter": "python",
   "pygments_lexer": "ipython3",
   "version": "3.7.5"
  }
 },
 "nbformat": 4,
 "nbformat_minor": 4
}
