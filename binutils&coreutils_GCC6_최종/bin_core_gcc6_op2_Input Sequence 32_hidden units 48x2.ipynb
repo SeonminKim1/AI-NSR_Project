{
 "cells": [
  {
   "cell_type": "markdown",
   "metadata": {},
   "source": [
    "## RNN 모델 N-Byte 방식 (함수정보 포함 vs 미포함 => 1:1 비율)\n",
    "\n",
    "## (1) 데이터로드"
   ]
  },
  {
   "cell_type": "code",
   "execution_count": 18,
   "metadata": {},
   "outputs": [
    {
     "name": "stdout",
     "output_type": "stream",
     "text": [
      "(10820738, 2) (3534088, 2)\n",
      "reset_index 완료\n",
      "input data shape\n"
     ]
    },
    {
     "data": {
      "text/html": [
       "<div>\n",
       "<style scoped>\n",
       "    .dataframe tbody tr th:only-of-type {\n",
       "        vertical-align: middle;\n",
       "    }\n",
       "\n",
       "    .dataframe tbody tr th {\n",
       "        vertical-align: top;\n",
       "    }\n",
       "\n",
       "    .dataframe thead th {\n",
       "        text-align: right;\n",
       "    }\n",
       "</style>\n",
       "<table border=\"1\" class=\"dataframe\">\n",
       "  <thead>\n",
       "    <tr style=\"text-align: right;\">\n",
       "      <th></th>\n",
       "      <th>bin</th>\n",
       "      <th>label</th>\n",
       "    </tr>\n",
       "  </thead>\n",
       "  <tbody>\n",
       "    <tr>\n",
       "      <th>0</th>\n",
       "      <td>86.0</td>\n",
       "      <td>1</td>\n",
       "    </tr>\n",
       "    <tr>\n",
       "      <th>1</th>\n",
       "      <td>83.0</td>\n",
       "      <td>0</td>\n",
       "    </tr>\n",
       "    <tr>\n",
       "      <th>2</th>\n",
       "      <td>137.0</td>\n",
       "      <td>0</td>\n",
       "    </tr>\n",
       "    <tr>\n",
       "      <th>3</th>\n",
       "      <td>198.0</td>\n",
       "      <td>0</td>\n",
       "    </tr>\n",
       "    <tr>\n",
       "      <th>4</th>\n",
       "      <td>232.0</td>\n",
       "      <td>0</td>\n",
       "    </tr>\n",
       "  </tbody>\n",
       "</table>\n",
       "</div>"
      ],
      "text/plain": [
       "     bin  label\n",
       "0   86.0      1\n",
       "1   83.0      0\n",
       "2  137.0      0\n",
       "3  198.0      0\n",
       "4  232.0      0"
      ]
     },
     "execution_count": 18,
     "metadata": {},
     "output_type": "execute_result"
    },
    {
     "data": {
      "text/html": [
       "<div>\n",
       "<style scoped>\n",
       "    .dataframe tbody tr th:only-of-type {\n",
       "        vertical-align: middle;\n",
       "    }\n",
       "\n",
       "    .dataframe tbody tr th {\n",
       "        vertical-align: top;\n",
       "    }\n",
       "\n",
       "    .dataframe thead th {\n",
       "        text-align: right;\n",
       "    }\n",
       "</style>\n",
       "<table border=\"1\" class=\"dataframe\">\n",
       "  <thead>\n",
       "    <tr style=\"text-align: right;\">\n",
       "      <th></th>\n",
       "      <th>bin</th>\n",
       "      <th>label</th>\n",
       "    </tr>\n",
       "  </thead>\n",
       "  <tbody>\n",
       "    <tr>\n",
       "      <th>0</th>\n",
       "      <td>86.0</td>\n",
       "      <td>1</td>\n",
       "    </tr>\n",
       "    <tr>\n",
       "      <th>1</th>\n",
       "      <td>83.0</td>\n",
       "      <td>0</td>\n",
       "    </tr>\n",
       "    <tr>\n",
       "      <th>2</th>\n",
       "      <td>232.0</td>\n",
       "      <td>0</td>\n",
       "    </tr>\n",
       "    <tr>\n",
       "      <th>3</th>\n",
       "      <td>121.0</td>\n",
       "      <td>0</td>\n",
       "    </tr>\n",
       "    <tr>\n",
       "      <th>4</th>\n",
       "      <td>254.0</td>\n",
       "      <td>0</td>\n",
       "    </tr>\n",
       "  </tbody>\n",
       "</table>\n",
       "</div>"
      ],
      "text/plain": [
       "     bin  label\n",
       "0   86.0      1\n",
       "1   83.0      0\n",
       "2  232.0      0\n",
       "3  121.0      0\n",
       "4  254.0      0"
      ]
     },
     "execution_count": 18,
     "metadata": {},
     "output_type": "execute_result"
    }
   ],
   "source": [
    "# (1) 데이터로드\n",
    "import pandas as pd\n",
    "import numpy as np\n",
    "\n",
    "import warnings\n",
    "warnings.filterwarnings(action='ignore')\n",
    "\n",
    "# 여러개 쳐도 나오게\n",
    "from IPython.core.interactiveshell import InteractiveShell\n",
    "InteractiveShell.ast_node_interactivity = \"all\"\n",
    "\n",
    "# 파일읽기\n",
    "bin6_3 = pd.read_csv(\"data/\"+'gcc6'+\"_2_.csv\", index_col=0)\n",
    "core6_3 = pd.read_csv(\"data/\"+\"core_gcc6_2_.csv\", index_col=0)\n",
    "\n",
    "# 형태 출력\n",
    "print(bin6_3.shape, core6_3.shape)\n",
    "\n",
    "# reset_index (hex processing 하면서 값이 빠졌으니까 + n_gram 에서 index를 다루기 때문에)\n",
    "bin6_3.reset_index(inplace=True, drop=True)\n",
    "core6_3.reset_index(inplace=True, drop=True)\n",
    "\n",
    "print('reset_index 완료')\n",
    "print('input data shape')\n",
    "bin6_3.head()\n",
    "core6_3.head()"
   ]
  },
  {
   "cell_type": "code",
   "execution_count": 19,
   "metadata": {},
   "outputs": [
    {
     "name": "stdout",
     "output_type": "stream",
     "text": [
      "256\n",
      "256\n",
      "0    10794970\n",
      "1       25768\n",
      "Name: label, dtype: int64\n",
      "0    3522146\n",
      "1      11942\n",
      "Name: label, dtype: int64\n"
     ]
    }
   ],
   "source": [
    "# (2-1) 데이터체크 1 - hex(16진수)가 256 label을 가져야 dummies 변환 가능 \n",
    "# 16진수 256개 종류가 있어서 pd.get_dummies 사용 가능.\n",
    "print(len(bin6_3['bin'].unique()))\n",
    "print(len(core6_3['bin'].unique()))\n",
    "\n",
    "# (2-2) 데이터 체크 2 - 1, 0 비율 ==> 1이 함수의 갯수를 뜻함\n",
    "# 정답 데이터 1, 0 비율 확인  ==> 1이 함수의 갯수를 뜻함\n",
    "print(bin6_3['label'].value_counts())\n",
    "print(core6_3['label'].value_counts())"
   ]
  },
  {
   "cell_type": "markdown",
   "metadata": {},
   "source": [
    "## (3) N Byte씩 자르기"
   ]
  },
  {
   "cell_type": "code",
   "execution_count": 20,
   "metadata": {},
   "outputs": [
    {
     "name": "stdout",
     "output_type": "stream",
     "text": [
      "824576 382144\n",
      "나머지 0 0\n",
      "최종 길이 824576 382144\n",
      "bin6_3 824576 382144\n"
     ]
    }
   ],
   "source": [
    "idx_bin = bin6_3[bin6_3['label']==1].index  # 407, 474 ...\n",
    "idx_core = core6_3[core6_3['label']==1].index  # 407, 474 ...\n",
    "\n",
    "ls_bin = list(idx_bin)\n",
    "ls_core = list(idx_core)\n",
    "\n",
    "# 최종 뽑을 행에 대한 index\n",
    "ls_idx_bin, ls_idx_core = [], [] \n",
    "\n",
    "# n byte 자르기 방식\n",
    "left_idx, right_idx = 0, 32 # 3개씩\n",
    "\n",
    "# n byte 자르기\n",
    "for k in range(left_idx, right_idx):\n",
    "    ls_idx_bin.extend(list(idx_bin + k)) # index 형이라서 가능\n",
    "    ls_idx_core.extend(list(idx_core + k))\n",
    "\n",
    "#ls_idx = list(set(ls_idx)) \n",
    "ls_idx_bin.sort() # 인덱스 정렬\n",
    "ls_idx_core.sort() # 인덱스 정렬\n",
    "\n",
    "\n",
    "# 1차 index 해당범위 초과한 것들 없애기\n",
    "ls_idx_bin = list(filter(lambda x: x<len(bin6_3), ls_idx_bin))\n",
    "ls_idx_core = list(filter(lambda x: x<len(core6_3), ls_idx_core))\n",
    "print(len(ls_idx_bin), len(ls_idx_core))\n",
    "\n",
    "# 2차 남은 index들 중 right_idx 나눈 나머지 없애기\n",
    "sub_bin = len(ls_idx_bin)%(right_idx)\n",
    "sub_core = len(ls_idx_core)%(right_idx)\n",
    "print('나머지', sub_bin, sub_core)\n",
    "\n",
    "ls_idx_bin = ls_idx_bin[:len(ls_idx_bin)-sub_bin]\n",
    "ls_idx_core = ls_idx_core[:len(ls_idx_core)-sub_core]\n",
    "print('최종 길이', len(ls_idx_bin), len(ls_idx_core))\n",
    "\n",
    "print('bin6_3', len(ls_idx_bin), len(ls_idx_core))\n",
    "\n",
    "# loc 로 수정필요\n",
    "bin6_3_Ngram = bin6_3.loc[ls_idx_bin,:].copy()\n",
    "core6_3_Ngram = core6_3.loc[ls_idx_core,:].copy()"
   ]
  },
  {
   "cell_type": "markdown",
   "metadata": {},
   "source": [
    "## (4) false data 만들기"
   ]
  },
  {
   "cell_type": "code",
   "execution_count": 21,
   "metadata": {},
   "outputs": [
    {
     "name": "stdout",
     "output_type": "stream",
     "text": [
      "25768.0 11942.0\n",
      "0 9616625 3524004\n",
      "1000 8696641 3451292\n",
      "2000 7319705 2227272\n",
      "3000 7842381 2187837\n",
      "4000 1770952 2557675\n",
      "5000 10588119 3176079\n",
      "6000 2883564 428094\n",
      "7000 3569465 585420\n",
      "8000 981965 3390741\n",
      "9000 5853983 1493697\n",
      "10000 10116187 159376\n",
      "11000 3497831 1964165\n",
      "12000 849151 1883945\n",
      "13000 9800948 1397967\n",
      "14000 9237508 1146333\n",
      "15000 10765886 1679739\n",
      "16000 9786882 1122591\n",
      "17000 10653223 2407366\n",
      "18000 4911119 2724466\n",
      "19000 10187543 2736771\n",
      "20000 4409914 2278575\n",
      "21000 9486452 1942968\n",
      "22000 9952852 901069\n",
      "23000 254384 159939\n",
      "24000 6824645 2568332\n",
      "25000 2316009 3235780\n",
      "완료\n",
      "25768 11942\n"
     ]
    }
   ],
   "source": [
    "# false data 만들기 - False 데이터 랜덤 생성\n",
    "\n",
    "# 목표치\n",
    "goal_bin = len(bin6_3_Ngram)/right_idx\n",
    "count_bin = 0\n",
    "\n",
    "goal_core = len(core6_3_Ngram)/right_idx\n",
    "count_core = 0\n",
    "\n",
    "print(goal_bin, goal_core)\n",
    "\n",
    "# 최종 데이터 Frame\n",
    "d_bin = pd.DataFrame(columns = bin6_3.columns)\n",
    "d_core = pd.DataFrame(columns = core6_3.columns)\n",
    "\n",
    "binutils_df, coreutils_df = [], []\n",
    "# goal 에 도달할 때까지\n",
    "while True:\n",
    "    if (count_bin == goal_bin) and (count_core == goal_core):\n",
    "            break\n",
    "    # 진행상황 살펴보기 위함\n",
    "            \n",
    "    # 랜덤 N 바이트씩 뽑음\n",
    "    # random index\n",
    "    random_idx_bin = np.random.randint(len(bin6_3)-right_idx)\n",
    "    random_idx_core = np.random.randint(len(core6_3)-right_idx)\n",
    "\n",
    "    if count_bin % 1000==0:\n",
    "        print(count_bin, end=' ')\n",
    "        print(random_idx_bin, random_idx_core)\n",
    "\n",
    "    df_bin = bin6_3[random_idx_bin : random_idx_bin + right_idx]\n",
    "    df_core = core6_3[random_idx_core : random_idx_core + right_idx]\n",
    "    \n",
    "    # 뽑은 index의 N 바이트 중에 1이 없는 경우만\n",
    "    if 1 not in df_bin['label'] and count_bin < goal_bin:\n",
    "        binutils_df.append(df_bin)\n",
    "        count_bin+=1\n",
    "        \n",
    "    if (1 not in df_core['label']) and count_core <goal_core:\n",
    "        coreutils_df.append(df_core)\n",
    "        count_core+=1\n",
    "\n",
    "print('완료')\n",
    "print(len(binutils_df), len(coreutils_df))"
   ]
  },
  {
   "cell_type": "code",
   "execution_count": 22,
   "metadata": {},
   "outputs": [
    {
     "name": "stdout",
     "output_type": "stream",
     "text": [
      "37710\n",
      "37710\n"
     ]
    }
   ],
   "source": [
    "# True data와 False Data 같은지 체크\n",
    "print(len(binutils_df) + len(coreutils_df))\n",
    "print(bin6_3['label'].value_counts()[1] + core6_3['label'].value_counts()[1])"
   ]
  },
  {
   "cell_type": "code",
   "execution_count": 23,
   "metadata": {},
   "outputs": [
    {
     "data": {
      "text/plain": [
       "(1206720, 2)"
      ]
     },
     "execution_count": 23,
     "metadata": {},
     "output_type": "execute_result"
    }
   ],
   "source": [
    "f_bin_data = pd.concat(binutils_df)\n",
    "f_core_data = pd.concat(coreutils_df)\n",
    "f_data = pd.concat([f_bin_data, f_core_data], axis=0)\n",
    "f_data.shape"
   ]
  },
  {
   "cell_type": "markdown",
   "metadata": {},
   "source": [
    "## (5) False Data + True Data 합치기"
   ]
  },
  {
   "cell_type": "code",
   "execution_count": 24,
   "metadata": {},
   "outputs": [
    {
     "data": {
      "text/plain": [
       "(2031296, 2)"
      ]
     },
     "execution_count": 24,
     "metadata": {},
     "output_type": "execute_result"
    }
   ],
   "source": [
    "final = pd.concat([f_data, bin6_3_Ngram])\n",
    "final.shape"
   ]
  },
  {
   "cell_type": "markdown",
   "metadata": {},
   "source": [
    "## (6) one hot encoding"
   ]
  },
  {
   "cell_type": "code",
   "execution_count": 25,
   "metadata": {},
   "outputs": [
    {
     "name": "stdout",
     "output_type": "stream",
     "text": [
      "원핫인코딩완료\n",
      "(2031296, 257)\n"
     ]
    }
   ],
   "source": [
    "# 훈련데이터 (gcc 최적화버전 0, 1, 2, 3 one hot encoding)\n",
    "bc6_2_onehot_Ngram = pd.get_dummies(final['bin'])\n",
    "bc6_2_onehot_Ngram = pd.concat([final['label'], bc6_2_onehot_Ngram], axis=1)\n",
    "\n",
    "print('원핫인코딩완료')\n",
    "print(bc6_2_onehot_Ngram.shape)"
   ]
  },
  {
   "cell_type": "code",
   "execution_count": 26,
   "metadata": {},
   "outputs": [
    {
     "name": "stdout",
     "output_type": "stream",
     "text": [
      "(2031296, 256) (2031296, 256)\n",
      "(63478, 32, 256) (63478, 32, 1)\n"
     ]
    }
   ],
   "source": [
    "# 훈련 데이터, 훈련 라벨\n",
    "x_bc6_2 = bc6_2_onehot_Ngram.iloc[:,1:].to_numpy()\n",
    "y_bc6_2 = bc6_2_onehot_Ngram['label'].to_numpy()\n",
    "print(x_bc6_2.shape, x_bc6_2.shape)\n",
    "\n",
    "x_bc6_2 = x_bc6_2.reshape(-1, right_idx, x_bc6_2.shape[1])\n",
    "y_bc6_2 = y_bc6_2.reshape(-1, right_idx, 1)\n",
    "\n",
    "print(x_bc6_2.shape, y_bc6_2.shape)"
   ]
  },
  {
   "cell_type": "code",
   "execution_count": 27,
   "metadata": {},
   "outputs": [
    {
     "name": "stdout",
     "output_type": "stream",
     "text": [
      "(63478, 32, 256) (63478, 32, 1)\n"
     ]
    }
   ],
   "source": [
    "# numpy 행, 열 섞기\n",
    "p = np.random.permutation(x_bc6_2.shape[0])\n",
    "\n",
    "x_bc6_2 = x_bc6_2[p]\n",
    "y_bc6_2 = y_bc6_2[p]\n",
    "\n",
    "print(x_bc6_2.shape, y_bc6_2.shape)"
   ]
  },
  {
   "cell_type": "code",
   "execution_count": 28,
   "metadata": {},
   "outputs": [],
   "source": [
    "import tensorflow as tf \n",
    "\n",
    "gpus = tf.config.experimental.list_physical_devices('GPU')\n",
    "tf.config.experimental.set_visible_devices(gpus[0], 'GPU')\n",
    "tf.config.experimental.set_memory_growth(gpus[0], True)"
   ]
  },
  {
   "cell_type": "markdown",
   "metadata": {},
   "source": [
    "## (7) 모델"
   ]
  },
  {
   "cell_type": "code",
   "execution_count": 29,
   "metadata": {},
   "outputs": [],
   "source": [
    "# (10) 양방향 LSTM 모델링 작업\n",
    "from tensorflow.keras import layers, models\n",
    "#from tf.keras.models import Model, Sequential\n",
    "#from tf.keras.layers import SimpleRNN, Input, Dense, LSTM\n",
    "#from tf.keras.layers import Bidirectional, TimeDistributed\n",
    "\n",
    "# 학습\n",
    "from tensorflow.keras.callbacks import EarlyStopping\n",
    "early_stopping = EarlyStopping(patience = 3) # 조기종료 콜백함수 정의\n",
    "\n",
    "xInput = layers.Input(batch_shape=(None,right_idx, 256)) \n",
    "xBiLstm = layers.Bidirectional(layers.LSTM(48, return_sequences=True), merge_mode = 'concat')(xInput)\n",
    "xOutput = layers.TimeDistributed(layers.Dense(1, activation ='sigmoid'))(xBiLstm) # 각 스텝에서 cost가 전송되고, 오류가 다음 step으로 전송됨."
   ]
  },
  {
   "cell_type": "markdown",
   "metadata": {},
   "source": [
    "## (8) 학습 - 10 KFold"
   ]
  },
  {
   "cell_type": "code",
   "execution_count": 30,
   "metadata": {
    "scrolled": false
   },
   "outputs": [
    {
     "name": "stdout",
     "output_type": "stream",
     "text": [
      "Model: \"model_2\"\n",
      "_________________________________________________________________\n",
      "Layer (type)                 Output Shape              Param #   \n",
      "=================================================================\n",
      "input_2 (InputLayer)         [(None, 32, 256)]         0         \n",
      "_________________________________________________________________\n",
      "bidirectional_1 (Bidirection (None, 32, 96)            117120    \n",
      "_________________________________________________________________\n",
      "time_distributed_1 (TimeDist (None, 32, 1)             97        \n",
      "=================================================================\n",
      "Total params: 117,217\n",
      "Trainable params: 117,217\n",
      "Non-trainable params: 0\n",
      "_________________________________________________________________\n",
      "======Training stage======\n",
      "Train on 57130 samples\n",
      "Epoch 1/10\n",
      "57088/57130 [============================>.] - ETA: 0s - loss: 0.0183 - accuracy: 0.9948WARNING:tensorflow:Early stopping conditioned on metric `val_loss` which is not available. Available metrics are: loss,accuracy\n",
      "57130/57130 [==============================] - 19s 340us/sample - loss: 0.0183 - accuracy: 0.9948\n",
      "Epoch 2/10\n",
      "57024/57130 [============================>.] - ETA: 0s - loss: 0.0035 - accuracy: 0.9989WARNING:tensorflow:Early stopping conditioned on metric `val_loss` which is not available. Available metrics are: loss,accuracy\n",
      "57130/57130 [==============================] - 16s 284us/sample - loss: 0.0035 - accuracy: 0.9989\n",
      "Epoch 3/10\n",
      "56992/57130 [============================>.] - ETA: 0s - loss: 0.0022 - accuracy: 0.9993WARNING:tensorflow:Early stopping conditioned on metric `val_loss` which is not available. Available metrics are: loss,accuracy\n",
      "57130/57130 [==============================] - 16s 283us/sample - loss: 0.0022 - accuracy: 0.9993\n",
      "Epoch 4/10\n",
      "56960/57130 [============================>.] - ETA: 0s - loss: 0.0017 - accuracy: 0.9995WARNING:tensorflow:Early stopping conditioned on metric `val_loss` which is not available. Available metrics are: loss,accuracy\n",
      "57130/57130 [==============================] - 16s 284us/sample - loss: 0.0017 - accuracy: 0.9995\n",
      "Epoch 5/10\n",
      "57088/57130 [============================>.] - ETA: 0s - loss: 0.0014 - accuracy: 0.9996WARNING:tensorflow:Early stopping conditioned on metric `val_loss` which is not available. Available metrics are: loss,accuracy\n",
      "57130/57130 [==============================] - 16s 285us/sample - loss: 0.0014 - accuracy: 0.9996\n",
      "Epoch 6/10\n",
      "56992/57130 [============================>.] - ETA: 0s - loss: 0.0011 - accuracy: 0.9997WARNING:tensorflow:Early stopping conditioned on metric `val_loss` which is not available. Available metrics are: loss,accuracy\n",
      "57130/57130 [==============================] - 15s 265us/sample - loss: 0.0011 - accuracy: 0.9997\n",
      "Epoch 7/10\n",
      "57056/57130 [============================>.] - ETA: 0s - loss: 9.2275e-04 - accuracy: 0.9997WARNING:tensorflow:Early stopping conditioned on metric `val_loss` which is not available. Available metrics are: loss,accuracy\n",
      "57130/57130 [==============================] - 16s 283us/sample - loss: 9.2485e-04 - accuracy: 0.9997\n",
      "Epoch 8/10\n",
      "57024/57130 [============================>.] - ETA: 0s - loss: 7.5064e-04 - accuracy: 0.9998WARNING:tensorflow:Early stopping conditioned on metric `val_loss` which is not available. Available metrics are: loss,accuracy\n",
      "57130/57130 [==============================] - 16s 283us/sample - loss: 7.4933e-04 - accuracy: 0.9998\n",
      "Epoch 9/10\n",
      "57056/57130 [============================>.] - ETA: 0s - loss: 6.3452e-04 - accuracy: 0.9998WARNING:tensorflow:Early stopping conditioned on metric `val_loss` which is not available. Available metrics are: loss,accuracy\n",
      "57130/57130 [==============================] - 16s 283us/sample - loss: 6.3375e-04 - accuracy: 0.9998\n",
      "Epoch 10/10\n",
      "56992/57130 [============================>.] - ETA: 0s - loss: 5.2763e-04 - accuracy: 0.9998WARNING:tensorflow:Early stopping conditioned on metric `val_loss` which is not available. Available metrics are: loss,accuracy\n",
      "57130/57130 [==============================] - 16s 284us/sample - loss: 5.2764e-04 - accuracy: 0.9998\n"
     ]
    },
    {
     "data": {
      "text/plain": [
       "<tensorflow.python.keras.callbacks.History at 0x1f6b3c865c8>"
      ]
     },
     "execution_count": 30,
     "metadata": {},
     "output_type": "execute_result"
    },
    {
     "name": "stdout",
     "output_type": "stream",
     "text": [
      "accuracy_score 0.9996898629489603\n",
      "recall_score 0.988712629652227\n",
      "precision_score 0.9920416284052648\n",
      "f1_score 0.9903743315508021\n",
      "Model: \"model_3\"\n",
      "_________________________________________________________________\n",
      "Layer (type)                 Output Shape              Param #   \n",
      "=================================================================\n",
      "input_2 (InputLayer)         [(None, 32, 256)]         0         \n",
      "_________________________________________________________________\n",
      "bidirectional_1 (Bidirection (None, 32, 96)            117120    \n",
      "_________________________________________________________________\n",
      "time_distributed_1 (TimeDist (None, 32, 1)             97        \n",
      "=================================================================\n",
      "Total params: 117,217\n",
      "Trainable params: 117,217\n",
      "Non-trainable params: 0\n",
      "_________________________________________________________________\n",
      "======Training stage======\n",
      "Train on 57130 samples\n",
      "Epoch 1/10\n",
      "56960/57130 [============================>.] - ETA: 0s - loss: 5.2526e-04 - accuracy: 0.9999WARNING:tensorflow:Early stopping conditioned on metric `val_loss` which is not available. Available metrics are: loss,accuracy\n",
      "57130/57130 [==============================] - 19s 332us/sample - loss: 5.2415e-04 - accuracy: 0.9999\n",
      "Epoch 2/10\n",
      "57056/57130 [============================>.] - ETA: 0s - loss: 4.5170e-04 - accuracy: 0.9999WARNING:tensorflow:Early stopping conditioned on metric `val_loss` which is not available. Available metrics are: loss,accuracy\n",
      "57130/57130 [==============================] - 17s 289us/sample - loss: 4.5212e-04 - accuracy: 0.9999\n",
      "Epoch 3/10\n",
      "57024/57130 [============================>.] - ETA: 0s - loss: 3.5052e-04 - accuracy: 0.9999WARNING:tensorflow:Early stopping conditioned on metric `val_loss` which is not available. Available metrics are: loss,accuracy\n",
      "57130/57130 [==============================] - 16s 284us/sample - loss: 3.5111e-04 - accuracy: 0.9999\n",
      "Epoch 4/10\n",
      "57120/57130 [============================>.] - ETA: 0s - loss: 3.0930e-04 - accuracy: 0.9999WARNING:tensorflow:Early stopping conditioned on metric `val_loss` which is not available. Available metrics are: loss,accuracy\n",
      "57130/57130 [==============================] - 16s 284us/sample - loss: 3.0925e-04 - accuracy: 0.9999\n",
      "Epoch 5/10\n",
      "56992/57130 [============================>.] - ETA: 0s - loss: 2.8058e-04 - accuracy: 0.9999WARNING:tensorflow:Early stopping conditioned on metric `val_loss` which is not available. Available metrics are: loss,accuracy\n",
      "57130/57130 [==============================] - 16s 285us/sample - loss: 2.8024e-04 - accuracy: 0.9999\n",
      "Epoch 6/10\n",
      "57056/57130 [============================>.] - ETA: 0s - loss: 2.1216e-04 - accuracy: 0.9999WARNING:tensorflow:Early stopping conditioned on metric `val_loss` which is not available. Available metrics are: loss,accuracy\n",
      "57130/57130 [==============================] - 16s 289us/sample - loss: 2.1189e-04 - accuracy: 0.9999\n",
      "Epoch 7/10\n",
      "57024/57130 [============================>.] - ETA: 0s - loss: 1.8604e-04 - accuracy: 1.0000WARNING:tensorflow:Early stopping conditioned on metric `val_loss` which is not available. Available metrics are: loss,accuracy\n",
      "57130/57130 [==============================] - 15s 266us/sample - loss: 1.8571e-04 - accuracy: 1.0000\n",
      "Epoch 8/10\n",
      "57088/57130 [============================>.] - ETA: 0s - loss: 1.6215e-04 - accuracy: 0.9999WARNING:tensorflow:Early stopping conditioned on metric `val_loss` which is not available. Available metrics are: loss,accuracy\n",
      "57130/57130 [==============================] - 16s 284us/sample - loss: 1.6203e-04 - accuracy: 0.9999\n",
      "Epoch 9/10\n",
      "56992/57130 [============================>.] - ETA: 0s - loss: 1.2623e-04 - accuracy: 1.0000WARNING:tensorflow:Early stopping conditioned on metric `val_loss` which is not available. Available metrics are: loss,accuracy\n",
      "57130/57130 [==============================] - 16s 284us/sample - loss: 1.2594e-04 - accuracy: 1.0000\n",
      "Epoch 10/10\n",
      "56960/57130 [============================>.] - ETA: 0s - loss: 1.1695e-04 - accuracy: 1.0000WARNING:tensorflow:Early stopping conditioned on metric `val_loss` which is not available. Available metrics are: loss,accuracy\n",
      "57130/57130 [==============================] - 16s 285us/sample - loss: 1.1665e-04 - accuracy: 1.0000\n"
     ]
    },
    {
     "data": {
      "text/plain": [
       "<tensorflow.python.keras.callbacks.History at 0x1f6b5203648>"
      ]
     },
     "execution_count": 30,
     "metadata": {},
     "output_type": "execute_result"
    },
    {
     "name": "stdout",
     "output_type": "stream",
     "text": [
      "accuracy_score 0.9998769297416509\n",
      "recall_score 0.995605039554644\n",
      "precision_score 0.9970657276995305\n",
      "f1_score 0.9963348482627181\n",
      "Model: \"model_4\"\n",
      "_________________________________________________________________\n",
      "Layer (type)                 Output Shape              Param #   \n",
      "=================================================================\n",
      "input_2 (InputLayer)         [(None, 32, 256)]         0         \n",
      "_________________________________________________________________\n",
      "bidirectional_1 (Bidirection (None, 32, 96)            117120    \n",
      "_________________________________________________________________\n",
      "time_distributed_1 (TimeDist (None, 32, 1)             97        \n",
      "=================================================================\n",
      "Total params: 117,217\n",
      "Trainable params: 117,217\n",
      "Non-trainable params: 0\n",
      "_________________________________________________________________\n",
      "======Training stage======\n",
      "Train on 57130 samples\n",
      "Epoch 1/10\n",
      "56992/57130 [============================>.] - ETA: 0s - loss: 1.7336e-04 - accuracy: 1.0000WARNING:tensorflow:Early stopping conditioned on metric `val_loss` which is not available. Available metrics are: loss,accuracy\n",
      "57130/57130 [==============================] - 20s 344us/sample - loss: 1.7298e-04 - accuracy: 1.0000\n",
      "Epoch 2/10\n",
      "56992/57130 [============================>.] - ETA: 0s - loss: 1.1450e-04 - accuracy: 1.0000WARNING:tensorflow:Early stopping conditioned on metric `val_loss` which is not available. Available metrics are: loss,accuracy\n",
      "57130/57130 [==============================] - 16s 282us/sample - loss: 1.1430e-04 - accuracy: 1.0000\n",
      "Epoch 3/10\n",
      "57088/57130 [============================>.] - ETA: 0s - loss: 1.0568e-04 - accuracy: 1.0000WARNING:tensorflow:Early stopping conditioned on metric `val_loss` which is not available. Available metrics are: loss,accuracy\n",
      "57130/57130 [==============================] - 16s 285us/sample - loss: 1.0560e-04 - accuracy: 1.0000\n",
      "Epoch 4/10\n",
      "56992/57130 [============================>.] - ETA: 0s - loss: 9.1420e-05 - accuracy: 1.0000WARNING:tensorflow:Early stopping conditioned on metric `val_loss` which is not available. Available metrics are: loss,accuracy\n",
      "57130/57130 [==============================] - 16s 282us/sample - loss: 9.1259e-05 - accuracy: 1.0000\n",
      "Epoch 5/10\n",
      "57120/57130 [============================>.] - ETA: 0s - loss: 7.2804e-05 - accuracy: 1.0000WARNING:tensorflow:Early stopping conditioned on metric `val_loss` which is not available. Available metrics are: loss,accuracy\n",
      "57130/57130 [==============================] - 16s 281us/sample - loss: 7.2791e-05 - accuracy: 1.0000\n",
      "Epoch 6/10\n",
      "57056/57130 [============================>.] - ETA: 0s - loss: 5.0733e-05 - accuracy: 1.0000WARNING:tensorflow:Early stopping conditioned on metric `val_loss` which is not available. Available metrics are: loss,accuracy\n",
      "57130/57130 [==============================] - 16s 282us/sample - loss: 5.0676e-05 - accuracy: 1.0000\n",
      "Epoch 7/10\n",
      "57056/57130 [============================>.] - ETA: 0s - loss: 4.2524e-05 - accuracy: 1.0000WARNING:tensorflow:Early stopping conditioned on metric `val_loss` which is not available. Available metrics are: loss,accuracy\n",
      "57130/57130 [==============================] - 15s 266us/sample - loss: 4.2472e-05 - accuracy: 1.0000\n",
      "Epoch 8/10\n",
      "56960/57130 [============================>.] - ETA: 0s - loss: 6.3743e-05 - accuracy: 1.0000WARNING:tensorflow:Early stopping conditioned on metric `val_loss` which is not available. Available metrics are: loss,accuracy\n",
      "57130/57130 [==============================] - 16s 274us/sample - loss: 6.3557e-05 - accuracy: 1.0000\n",
      "Epoch 9/10\n",
      "57056/57130 [============================>.] - ETA: 0s - loss: 4.1446e-05 - accuracy: 1.0000WARNING:tensorflow:Early stopping conditioned on metric `val_loss` which is not available. Available metrics are: loss,accuracy\n",
      "57130/57130 [==============================] - 16s 283us/sample - loss: 4.1393e-05 - accuracy: 1.0000\n",
      "Epoch 10/10\n",
      "56960/57130 [============================>.] - ETA: 0s - loss: 4.4741e-05 - accuracy: 1.0000WARNING:tensorflow:Early stopping conditioned on metric `val_loss` which is not available. Available metrics are: loss,accuracy\n",
      "57130/57130 [==============================] - 16s 285us/sample - loss: 4.4608e-05 - accuracy: 1.0000\n"
     ]
    },
    {
     "data": {
      "text/plain": [
       "<tensorflow.python.keras.callbacks.History at 0x1f6c5e22e48>"
      ]
     },
     "execution_count": 30,
     "metadata": {},
     "output_type": "execute_result"
    },
    {
     "name": "stdout",
     "output_type": "stream",
     "text": [
      "accuracy_score 0.9999212350346566\n",
      "recall_score 0.9971469329529244\n",
      "precision_score 0.998286203941731\n",
      "f1_score 0.9977162432200971\n",
      "Model: \"model_5\"\n",
      "_________________________________________________________________\n",
      "Layer (type)                 Output Shape              Param #   \n",
      "=================================================================\n",
      "input_2 (InputLayer)         [(None, 32, 256)]         0         \n",
      "_________________________________________________________________\n",
      "bidirectional_1 (Bidirection (None, 32, 96)            117120    \n",
      "_________________________________________________________________\n",
      "time_distributed_1 (TimeDist (None, 32, 1)             97        \n",
      "=================================================================\n",
      "Total params: 117,217\n",
      "Trainable params: 117,217\n",
      "Non-trainable params: 0\n",
      "_________________________________________________________________\n",
      "======Training stage======\n",
      "Train on 57130 samples\n",
      "Epoch 1/10\n",
      "57088/57130 [============================>.] - ETA: 0s - loss: 6.8156e-05 - accuracy: 1.0000WARNING:tensorflow:Early stopping conditioned on metric `val_loss` which is not available. Available metrics are: loss,accuracy\n",
      "57130/57130 [==============================] - 19s 331us/sample - loss: 6.8106e-05 - accuracy: 1.0000\n",
      "Epoch 2/10\n",
      "56960/57130 [============================>.] - ETA: 0s - loss: 3.8477e-05 - accuracy: 1.0000WARNING:tensorflow:Early stopping conditioned on metric `val_loss` which is not available. Available metrics are: loss,accuracy\n",
      "57130/57130 [==============================] - 16s 283us/sample - loss: 3.8369e-05 - accuracy: 1.0000\n",
      "Epoch 3/10\n",
      "56992/57130 [============================>.] - ETA: 0s - loss: 3.8198e-05 - accuracy: 1.0000WARNING:tensorflow:Early stopping conditioned on metric `val_loss` which is not available. Available metrics are: loss,accuracy\n",
      "57130/57130 [==============================] - 16s 283us/sample - loss: 3.8532e-05 - accuracy: 1.0000\n",
      "Epoch 4/10\n",
      "57088/57130 [============================>.] - ETA: 0s - loss: 5.4247e-05 - accuracy: 1.0000WARNING:tensorflow:Early stopping conditioned on metric `val_loss` which is not available. Available metrics are: loss,accuracy\n",
      "57130/57130 [==============================] - 16s 283us/sample - loss: 5.4207e-05 - accuracy: 1.0000\n",
      "Epoch 5/10\n",
      "57056/57130 [============================>.] - ETA: 0s - loss: 2.2872e-05 - accuracy: 1.0000WARNING:tensorflow:Early stopping conditioned on metric `val_loss` which is not available. Available metrics are: loss,accuracy\n",
      "57130/57130 [==============================] - 16s 282us/sample - loss: 2.2842e-05 - accuracy: 1.0000\n",
      "Epoch 6/10\n",
      "57056/57130 [============================>.] - ETA: 0s - loss: 2.4518e-05 - accuracy: 1.0000WARNING:tensorflow:Early stopping conditioned on metric `val_loss` which is not available. Available metrics are: loss,accuracy\n",
      "57130/57130 [==============================] - 16s 283us/sample - loss: 2.4486e-05 - accuracy: 1.0000\n",
      "Epoch 7/10\n",
      "57088/57130 [============================>.] - ETA: 0s - loss: 3.5890e-05 - accuracy: 1.0000WARNING:tensorflow:Early stopping conditioned on metric `val_loss` which is not available. Available metrics are: loss,accuracy\n",
      "57130/57130 [==============================] - 16s 283us/sample - loss: 3.5864e-05 - accuracy: 1.0000\n",
      "Epoch 8/10\n",
      "56960/57130 [============================>.] - ETA: 0s - loss: 1.9453e-05 - accuracy: 1.0000WARNING:tensorflow:Early stopping conditioned on metric `val_loss` which is not available. Available metrics are: loss,accuracy\n",
      "57130/57130 [==============================] - 15s 260us/sample - loss: 2.7833e-05 - accuracy: 1.0000\n",
      "Epoch 9/10\n",
      "56992/57130 [============================>.] - ETA: 0s - loss: 1.6506e-05 - accuracy: 1.0000WARNING:tensorflow:Early stopping conditioned on metric `val_loss` which is not available. Available metrics are: loss,accuracy\n",
      "57130/57130 [==============================] - 16s 282us/sample - loss: 1.6473e-05 - accuracy: 1.0000\n",
      "Epoch 10/10\n",
      "57120/57130 [============================>.] - ETA: 0s - loss: 1.2873e-05 - accuracy: 1.0000WARNING:tensorflow:Early stopping conditioned on metric `val_loss` which is not available. Available metrics are: loss,accuracy\n",
      "57130/57130 [==============================] - 16s 283us/sample - loss: 1.2870e-05 - accuracy: 1.0000\n"
     ]
    },
    {
     "data": {
      "text/plain": [
       "<tensorflow.python.keras.callbacks.History at 0x1f6c56d4d88>"
      ]
     },
     "execution_count": 30,
     "metadata": {},
     "output_type": "execute_result"
    },
    {
     "name": "stdout",
     "output_type": "stream",
     "text": [
      "accuracy_score 0.9999852315689981\n",
      "recall_score 0.9991443240159726\n",
      "precision_score 1.0\n",
      "f1_score 0.9995719788842917\n",
      "Model: \"model_6\"\n",
      "_________________________________________________________________\n",
      "Layer (type)                 Output Shape              Param #   \n",
      "=================================================================\n",
      "input_2 (InputLayer)         [(None, 32, 256)]         0         \n",
      "_________________________________________________________________\n",
      "bidirectional_1 (Bidirection (None, 32, 96)            117120    \n",
      "_________________________________________________________________\n",
      "time_distributed_1 (TimeDist (None, 32, 1)             97        \n",
      "=================================================================\n",
      "Total params: 117,217\n",
      "Trainable params: 117,217\n",
      "Non-trainable params: 0\n",
      "_________________________________________________________________\n",
      "======Training stage======\n",
      "Train on 57130 samples\n",
      "Epoch 1/10\n",
      "57024/57130 [============================>.] - ETA: 0s - loss: 2.3215e-05 - accuracy: 1.0000WARNING:tensorflow:Early stopping conditioned on metric `val_loss` which is not available. Available metrics are: loss,accuracy\n",
      "57130/57130 [==============================] - 19s 334us/sample - loss: 2.3173e-05 - accuracy: 1.0000\n",
      "Epoch 2/10\n",
      "57056/57130 [============================>.] - ETA: 0s - loss: 3.0644e-05 - accuracy: 1.0000WARNING:tensorflow:Early stopping conditioned on metric `val_loss` which is not available. Available metrics are: loss,accuracy\n",
      "57130/57130 [==============================] - 16s 286us/sample - loss: 3.0605e-05 - accuracy: 1.0000\n",
      "Epoch 3/10\n",
      "57088/57130 [============================>.] - ETA: 0s - loss: 1.6872e-05 - accuracy: 1.0000WARNING:tensorflow:Early stopping conditioned on metric `val_loss` which is not available. Available metrics are: loss,accuracy\n",
      "57130/57130 [==============================] - 16s 287us/sample - loss: 1.6863e-05 - accuracy: 1.0000\n",
      "Epoch 4/10\n",
      "56960/57130 [============================>.] - ETA: 0s - loss: 1.8867e-05 - accuracy: 1.0000WARNING:tensorflow:Early stopping conditioned on metric `val_loss` which is not available. Available metrics are: loss,accuracy\n",
      "57130/57130 [==============================] - 16s 284us/sample - loss: 1.8811e-05 - accuracy: 1.0000\n",
      "Epoch 5/10\n",
      "56992/57130 [============================>.] - ETA: 0s - loss: 1.4877e-05 - accuracy: 1.0000WARNING:tensorflow:Early stopping conditioned on metric `val_loss` which is not available. Available metrics are: loss,accuracy\n",
      "57130/57130 [==============================] - 16s 285us/sample - loss: 1.4841e-05 - accuracy: 1.0000\n",
      "Epoch 6/10\n",
      "56992/57130 [============================>.] - ETA: 0s - loss: 2.6154e-05 - accuracy: 1.0000WARNING:tensorflow:Early stopping conditioned on metric `val_loss` which is not available. Available metrics are: loss,accuracy\n",
      "57130/57130 [==============================] - 16s 283us/sample - loss: 2.6091e-05 - accuracy: 1.0000\n",
      "Epoch 7/10\n",
      "57024/57130 [============================>.] - ETA: 0s - loss: 1.1708e-05 - accuracy: 1.0000WARNING:tensorflow:Early stopping conditioned on metric `val_loss` which is not available. Available metrics are: loss,accuracy\n",
      "57130/57130 [==============================] - 16s 283us/sample - loss: 1.1686e-05 - accuracy: 1.0000\n",
      "Epoch 8/10\n",
      "57120/57130 [============================>.] - ETA: 0s - loss: 1.3241e-05 - accuracy: 1.0000WARNING:tensorflow:Early stopping conditioned on metric `val_loss` which is not available. Available metrics are: loss,accuracy\n",
      "57130/57130 [==============================] - 17s 293us/sample - loss: 1.3239e-05 - accuracy: 1.0000\n",
      "Epoch 9/10\n",
      "57024/57130 [============================>.] - ETA: 0s - loss: 8.5268e-06 - accuracy: 1.0000WARNING:tensorflow:Early stopping conditioned on metric `val_loss` which is not available. Available metrics are: loss,accuracy\n",
      "57130/57130 [==============================] - 15s 258us/sample - loss: 8.5110e-06 - accuracy: 1.0000\n",
      "Epoch 10/10\n",
      "57024/57130 [============================>.] - ETA: 0s - loss: 8.6935e-06 - accuracy: 1.0000WARNING:tensorflow:Early stopping conditioned on metric `val_loss` which is not available. Available metrics are: loss,accuracy\n",
      "57130/57130 [==============================] - 16s 281us/sample - loss: 8.6774e-06 - accuracy: 1.0000\n"
     ]
    },
    {
     "data": {
      "text/plain": [
       "<tensorflow.python.keras.callbacks.History at 0x1f6cd095608>"
      ]
     },
     "execution_count": 30,
     "metadata": {},
     "output_type": "execute_result"
    },
    {
     "name": "stdout",
     "output_type": "stream",
     "text": [
      "accuracy_score 1.0\n",
      "recall_score 1.0\n",
      "precision_score 1.0\n",
      "f1_score 1.0\n",
      "Model: \"model_7\"\n",
      "_________________________________________________________________\n",
      "Layer (type)                 Output Shape              Param #   \n",
      "=================================================================\n",
      "input_2 (InputLayer)         [(None, 32, 256)]         0         \n",
      "_________________________________________________________________\n",
      "bidirectional_1 (Bidirection (None, 32, 96)            117120    \n",
      "_________________________________________________________________\n",
      "time_distributed_1 (TimeDist (None, 32, 1)             97        \n",
      "=================================================================\n",
      "Total params: 117,217\n",
      "Trainable params: 117,217\n",
      "Non-trainable params: 0\n",
      "_________________________________________________________________\n",
      "======Training stage======\n",
      "Train on 57130 samples\n",
      "Epoch 1/10\n",
      "57024/57130 [============================>.] - ETA: 0s - loss: 1.1780e-05 - accuracy: 1.0000WARNING:tensorflow:Early stopping conditioned on metric `val_loss` which is not available. Available metrics are: loss,accuracy\n",
      "57130/57130 [==============================] - 19s 329us/sample - loss: 1.1758e-05 - accuracy: 1.0000\n",
      "Epoch 2/10\n",
      "56960/57130 [============================>.] - ETA: 0s - loss: 1.0751e-05 - accuracy: 1.0000WARNING:tensorflow:Early stopping conditioned on metric `val_loss` which is not available. Available metrics are: loss,accuracy\n",
      "57130/57130 [==============================] - 16s 281us/sample - loss: 1.0719e-05 - accuracy: 1.0000\n",
      "Epoch 3/10\n",
      "57088/57130 [============================>.] - ETA: 0s - loss: 8.8307e-06 - accuracy: 1.0000WARNING:tensorflow:Early stopping conditioned on metric `val_loss` which is not available. Available metrics are: loss,accuracy\n",
      "57130/57130 [==============================] - 16s 281us/sample - loss: 8.8242e-06 - accuracy: 1.0000\n",
      "Epoch 4/10\n",
      "56992/57130 [============================>.] - ETA: 0s - loss: 8.4756e-06 - accuracy: 1.0000WARNING:tensorflow:Early stopping conditioned on metric `val_loss` which is not available. Available metrics are: loss,accuracy\n",
      "57130/57130 [==============================] - 16s 282us/sample - loss: 8.4552e-06 - accuracy: 1.0000\n",
      "Epoch 5/10\n",
      "56992/57130 [============================>.] - ETA: 0s - loss: 8.4595e-06 - accuracy: 1.0000WARNING:tensorflow:Early stopping conditioned on metric `val_loss` which is not available. Available metrics are: loss,accuracy\n",
      "57130/57130 [==============================] - 16s 283us/sample - loss: 8.4391e-06 - accuracy: 1.0000\n",
      "Epoch 6/10\n",
      "56960/57130 [============================>.] - ETA: 0s - loss: 8.4637e-06 - accuracy: 1.0000WARNING:tensorflow:Early stopping conditioned on metric `val_loss` which is not available. Available metrics are: loss,accuracy\n",
      "57130/57130 [==============================] - 16s 281us/sample - loss: 8.4385e-06 - accuracy: 1.0000\n",
      "Epoch 7/10\n",
      "56960/57130 [============================>.] - ETA: 0s - loss: 8.4636e-06 - accuracy: 1.0000WARNING:tensorflow:Early stopping conditioned on metric `val_loss` which is not available. Available metrics are: loss,accuracy\n",
      "57130/57130 [==============================] - 16s 281us/sample - loss: 8.4384e-06 - accuracy: 1.0000\n",
      "Epoch 8/10\n",
      "57024/57130 [============================>.] - ETA: 0s - loss: 8.4539e-06 - accuracy: 1.0000WARNING:tensorflow:Early stopping conditioned on metric `val_loss` which is not available. Available metrics are: loss,accuracy\n",
      "57130/57130 [==============================] - 16s 280us/sample - loss: 8.4383e-06 - accuracy: 1.0000\n",
      "Epoch 9/10\n",
      "57056/57130 [============================>.] - ETA: 0s - loss: 8.4491e-06 - accuracy: 1.0000WARNING:tensorflow:Early stopping conditioned on metric `val_loss` which is not available. Available metrics are: loss,accuracy\n",
      "57130/57130 [==============================] - 16s 281us/sample - loss: 8.4382e-06 - accuracy: 1.0000\n",
      "Epoch 10/10\n",
      "56992/57130 [============================>.] - ETA: 0s - loss: 8.4586e-06 - accuracy: 1.0000WARNING:tensorflow:Early stopping conditioned on metric `val_loss` which is not available. Available metrics are: loss,accuracy\n",
      "57130/57130 [==============================] - 15s 260us/sample - loss: 8.4381e-06 - accuracy: 1.0000\n"
     ]
    },
    {
     "data": {
      "text/plain": [
       "<tensorflow.python.keras.callbacks.History at 0x1f6bcdef948>"
      ]
     },
     "execution_count": 30,
     "metadata": {},
     "output_type": "execute_result"
    },
    {
     "name": "stdout",
     "output_type": "stream",
     "text": [
      "accuracy_score 1.0\n",
      "recall_score 1.0\n",
      "precision_score 1.0\n",
      "f1_score 1.0\n",
      "Model: \"model_8\"\n",
      "_________________________________________________________________\n",
      "Layer (type)                 Output Shape              Param #   \n",
      "=================================================================\n",
      "input_2 (InputLayer)         [(None, 32, 256)]         0         \n",
      "_________________________________________________________________\n",
      "bidirectional_1 (Bidirection (None, 32, 96)            117120    \n",
      "_________________________________________________________________\n",
      "time_distributed_1 (TimeDist (None, 32, 1)             97        \n",
      "=================================================================\n",
      "Total params: 117,217\n",
      "Trainable params: 117,217\n",
      "Non-trainable params: 0\n",
      "_________________________________________________________________\n",
      "======Training stage======\n",
      "Train on 57130 samples\n",
      "Epoch 1/10\n",
      "56960/57130 [============================>.] - ETA: 0s - loss: 1.0202e-09 - accuracy: 1.0000WARNING:tensorflow:Early stopping conditioned on metric `val_loss` which is not available. Available metrics are: loss,accuracy\n",
      "57130/57130 [==============================] - 19s 331us/sample - loss: 1.0176e-09 - accuracy: 1.0000\n",
      "Epoch 2/10\n",
      "57024/57130 [============================>.] - ETA: 0s - loss: 6.4744e-10 - accuracy: 1.0000WARNING:tensorflow:Early stopping conditioned on metric `val_loss` which is not available. Available metrics are: loss,accuracy\n",
      "57130/57130 [==============================] - 16s 282us/sample - loss: 6.4634e-10 - accuracy: 1.0000\n",
      "Epoch 3/10\n",
      "57120/57130 [============================>.] - ETA: 0s - loss: 5.7849e-10 - accuracy: 1.0000WARNING:tensorflow:Early stopping conditioned on metric `val_loss` which is not available. Available metrics are: loss,accuracy\n",
      "57130/57130 [==============================] - 16s 282us/sample - loss: 5.7839e-10 - accuracy: 1.0000\n",
      "Epoch 4/10\n",
      "56960/57130 [============================>.] - ETA: 0s - loss: 5.3810e-10 - accuracy: 1.0000WARNING:tensorflow:Early stopping conditioned on metric `val_loss` which is not available. Available metrics are: loss,accuracy\n",
      "57130/57130 [==============================] - 16s 282us/sample - loss: 5.3734e-10 - accuracy: 1.0000\n",
      "Epoch 5/10\n",
      "57024/57130 [============================>.] - ETA: 0s - loss: 4.9807e-10 - accuracy: 1.0000WARNING:tensorflow:Early stopping conditioned on metric `val_loss` which is not available. Available metrics are: loss,accuracy\n",
      "57130/57130 [==============================] - 16s 283us/sample - loss: 5.0784e-10 - accuracy: 1.0000\n",
      "Epoch 6/10\n",
      "57088/57130 [============================>.] - ETA: 0s - loss: 4.7803e-10 - accuracy: 1.0000WARNING:tensorflow:Early stopping conditioned on metric `val_loss` which is not available. Available metrics are: loss,accuracy\n",
      "57130/57130 [==============================] - 16s 285us/sample - loss: 4.7768e-10 - accuracy: 1.0000\n",
      "Epoch 7/10\n",
      "57088/57130 [============================>.] - ETA: 0s - loss: 4.5131e-10 - accuracy: 1.0000WARNING:tensorflow:Early stopping conditioned on metric `val_loss` which is not available. Available metrics are: loss,accuracy\n",
      "57130/57130 [==============================] - 16s 285us/sample - loss: 4.5097e-10 - accuracy: 1.0000\n",
      "Epoch 8/10\n",
      "57088/57130 [============================>.] - ETA: 0s - loss: 4.3516e-10 - accuracy: 1.0000WARNING:tensorflow:Early stopping conditioned on metric `val_loss` which is not available. Available metrics are: loss,accuracy\n",
      "57130/57130 [==============================] - 16s 284us/sample - loss: 4.3484e-10 - accuracy: 1.0000\n",
      "Epoch 9/10\n",
      "57088/57130 [============================>.] - ETA: 0s - loss: 4.1476e-10 - accuracy: 1.0000WARNING:tensorflow:Early stopping conditioned on metric `val_loss` which is not available. Available metrics are: loss,accuracy\n",
      "57130/57130 [==============================] - 16s 282us/sample - loss: 4.1602e-10 - accuracy: 1.0000\n",
      "Epoch 10/10\n",
      "57120/57130 [============================>.] - ETA: 0s - loss: 3.9868e-10 - accuracy: 1.0000WARNING:tensorflow:Early stopping conditioned on metric `val_loss` which is not available. Available metrics are: loss,accuracy\n",
      "57130/57130 [==============================] - 16s 283us/sample - loss: 3.9861e-10 - accuracy: 1.0000\n"
     ]
    },
    {
     "data": {
      "text/plain": [
       "<tensorflow.python.keras.callbacks.History at 0x1f6b3e60208>"
      ]
     },
     "execution_count": 30,
     "metadata": {},
     "output_type": "execute_result"
    },
    {
     "name": "stdout",
     "output_type": "stream",
     "text": [
      "accuracy_score 0.9999950771896661\n",
      "recall_score 0.9997106481481481\n",
      "precision_score 1.0\n",
      "f1_score 0.9998553031399219\n",
      "Model: \"model_9\"\n",
      "_________________________________________________________________\n",
      "Layer (type)                 Output Shape              Param #   \n",
      "=================================================================\n",
      "input_2 (InputLayer)         [(None, 32, 256)]         0         \n",
      "_________________________________________________________________\n",
      "bidirectional_1 (Bidirection (None, 32, 96)            117120    \n",
      "_________________________________________________________________\n",
      "time_distributed_1 (TimeDist (None, 32, 1)             97        \n",
      "=================================================================\n",
      "Total params: 117,217\n",
      "Trainable params: 117,217\n",
      "Non-trainable params: 0\n",
      "_________________________________________________________________\n",
      "======Training stage======\n",
      "Train on 57130 samples\n",
      "Epoch 1/10\n",
      "56960/57130 [============================>.] - ETA: 0s - loss: 8.4630e-06 - accuracy: 1.0000WARNING:tensorflow:Early stopping conditioned on metric `val_loss` which is not available. Available metrics are: loss,accuracy\n",
      "57130/57130 [==============================] - 19s 325us/sample - loss: 8.4378e-06 - accuracy: 1.0000\n",
      "Epoch 2/10\n",
      "57056/57130 [============================>.] - ETA: 0s - loss: 8.4488e-06 - accuracy: 1.0000WARNING:tensorflow:Early stopping conditioned on metric `val_loss` which is not available. Available metrics are: loss,accuracy\n",
      "57130/57130 [==============================] - 16s 285us/sample - loss: 8.4378e-06 - accuracy: 1.0000\n",
      "Epoch 3/10\n",
      "56992/57130 [============================>.] - ETA: 0s - loss: 8.4582e-06 - accuracy: 1.0000WARNING:tensorflow:Early stopping conditioned on metric `val_loss` which is not available. Available metrics are: loss,accuracy\n",
      "57130/57130 [==============================] - 16s 284us/sample - loss: 8.4378e-06 - accuracy: 1.0000\n",
      "Epoch 4/10\n",
      "57088/57130 [============================>.] - ETA: 0s - loss: 8.4440e-06 - accuracy: 1.0000WARNING:tensorflow:Early stopping conditioned on metric `val_loss` which is not available. Available metrics are: loss,accuracy\n",
      "57130/57130 [==============================] - 16s 285us/sample - loss: 8.4378e-06 - accuracy: 1.0000\n",
      "Epoch 5/10\n",
      "57088/57130 [============================>.] - ETA: 0s - loss: 8.4440e-06 - accuracy: 1.0000WARNING:tensorflow:Early stopping conditioned on metric `val_loss` which is not available. Available metrics are: loss,accuracy\n",
      "57130/57130 [==============================] - 16s 284us/sample - loss: 8.4378e-06 - accuracy: 1.0000\n",
      "Epoch 6/10\n",
      "57024/57130 [============================>.] - ETA: 0s - loss: 8.4534e-06 - accuracy: 1.0000WARNING:tensorflow:Early stopping conditioned on metric `val_loss` which is not available. Available metrics are: loss,accuracy\n",
      "57130/57130 [==============================] - 16s 284us/sample - loss: 8.4378e-06 - accuracy: 1.0000\n",
      "Epoch 7/10\n",
      "57056/57130 [============================>.] - ETA: 0s - loss: 8.4487e-06 - accuracy: 1.0000WARNING:tensorflow:Early stopping conditioned on metric `val_loss` which is not available. Available metrics are: loss,accuracy\n",
      "57130/57130 [==============================] - 16s 283us/sample - loss: 8.4377e-06 - accuracy: 1.0000\n",
      "Epoch 8/10\n",
      "57024/57130 [============================>.] - ETA: 0s - loss: 8.4534e-06 - accuracy: 1.0000WARNING:tensorflow:Early stopping conditioned on metric `val_loss` which is not available. Available metrics are: loss,accuracy\n",
      "57130/57130 [==============================] - 16s 286us/sample - loss: 8.4377e-06 - accuracy: 1.0000\n",
      "Epoch 9/10\n",
      "57056/57130 [============================>.] - ETA: 0s - loss: 8.4487e-06 - accuracy: 1.0000WARNING:tensorflow:Early stopping conditioned on metric `val_loss` which is not available. Available metrics are: loss,accuracy\n",
      "57130/57130 [==============================] - 16s 283us/sample - loss: 8.4377e-06 - accuracy: 1.0000\n",
      "Epoch 10/10\n",
      "57088/57130 [============================>.] - ETA: 0s - loss: 8.4439e-06 - accuracy: 1.0000WARNING:tensorflow:Early stopping conditioned on metric `val_loss` which is not available. Available metrics are: loss,accuracy\n",
      "57130/57130 [==============================] - 16s 283us/sample - loss: 8.4377e-06 - accuracy: 1.0000\n"
     ]
    },
    {
     "data": {
      "text/plain": [
       "<tensorflow.python.keras.callbacks.History at 0x1f76d6ddc08>"
      ]
     },
     "execution_count": 30,
     "metadata": {},
     "output_type": "execute_result"
    },
    {
     "name": "stdout",
     "output_type": "stream",
     "text": [
      "accuracy_score 1.0\n",
      "recall_score 1.0\n",
      "precision_score 1.0\n",
      "f1_score 1.0\n",
      "Model: \"model_10\"\n",
      "_________________________________________________________________\n",
      "Layer (type)                 Output Shape              Param #   \n",
      "=================================================================\n",
      "input_2 (InputLayer)         [(None, 32, 256)]         0         \n",
      "_________________________________________________________________\n",
      "bidirectional_1 (Bidirection (None, 32, 96)            117120    \n",
      "_________________________________________________________________\n",
      "time_distributed_1 (TimeDist (None, 32, 1)             97        \n",
      "=================================================================\n",
      "Total params: 117,217\n",
      "Trainable params: 117,217\n",
      "Non-trainable params: 0\n",
      "_________________________________________________________________\n",
      "======Training stage======\n",
      "Train on 57131 samples\n",
      "Epoch 1/10\n",
      "57120/57131 [============================>.] - ETA: 0s - loss: 8.4392e-06 - accuracy: 1.0000WARNING:tensorflow:Early stopping conditioned on metric `val_loss` which is not available. Available metrics are: loss,accuracy\n",
      "57131/57131 [==============================] - 18s 309us/sample - loss: 8.4376e-06 - accuracy: 1.0000\n",
      "Epoch 2/10\n",
      "57056/57131 [============================>.] - ETA: 0s - loss: 8.4487e-06 - accuracy: 1.0000WARNING:tensorflow:Early stopping conditioned on metric `val_loss` which is not available. Available metrics are: loss,accuracy\n",
      "57131/57131 [==============================] - 16s 286us/sample - loss: 8.4376e-06 - accuracy: 1.0000\n",
      "Epoch 3/10\n",
      "57024/57131 [============================>.] - ETA: 0s - loss: 8.4534e-06 - accuracy: 1.0000WARNING:tensorflow:Early stopping conditioned on metric `val_loss` which is not available. Available metrics are: loss,accuracy\n",
      "57131/57131 [==============================] - 16s 285us/sample - loss: 8.4376e-06 - accuracy: 1.0000\n",
      "Epoch 4/10\n",
      "57024/57131 [============================>.] - ETA: 0s - loss: 8.4534e-06 - accuracy: 1.0000WARNING:tensorflow:Early stopping conditioned on metric `val_loss` which is not available. Available metrics are: loss,accuracy\n",
      "57131/57131 [==============================] - 16s 286us/sample - loss: 8.4376e-06 - accuracy: 1.0000\n",
      "Epoch 5/10\n",
      "56992/57131 [============================>.] - ETA: 0s - loss: 8.4581e-06 - accuracy: 1.0000WARNING:tensorflow:Early stopping conditioned on metric `val_loss` which is not available. Available metrics are: loss,accuracy\n",
      "57131/57131 [==============================] - 16s 285us/sample - loss: 8.4375e-06 - accuracy: 1.0000\n",
      "Epoch 6/10\n",
      "57120/57131 [============================>.] - ETA: 0s - loss: 8.4392e-06 - accuracy: 1.0000WARNING:tensorflow:Early stopping conditioned on metric `val_loss` which is not available. Available metrics are: loss,accuracy\n",
      "57131/57131 [==============================] - 16s 285us/sample - loss: 8.4375e-06 - accuracy: 1.0000\n",
      "Epoch 7/10\n",
      "57120/57131 [============================>.] - ETA: 0s - loss: 8.4392e-06 - accuracy: 1.0000WARNING:tensorflow:Early stopping conditioned on metric `val_loss` which is not available. Available metrics are: loss,accuracy\n",
      "57131/57131 [==============================] - 16s 285us/sample - loss: 8.4375e-06 - accuracy: 1.0000\n",
      "Epoch 8/10\n",
      "57024/57131 [============================>.] - ETA: 0s - loss: 8.4534e-06 - accuracy: 1.0000WARNING:tensorflow:Early stopping conditioned on metric `val_loss` which is not available. Available metrics are: loss,accuracy\n",
      "57131/57131 [==============================] - 16s 286us/sample - loss: 8.4375e-06 - accuracy: 1.0000\n",
      "Epoch 9/10\n",
      "57088/57131 [============================>.] - ETA: 0s - loss: 8.4439e-06 - accuracy: 1.0000 ETA: 0s - loss: 8.5299e-06 - accuracy: WARNING:tensorflow:Early stopping conditioned on metric `val_loss` which is not available. Available metrics are: loss,accuracy\n",
      "57131/57131 [==============================] - 16s 286us/sample - loss: 8.4375e-06 - accuracy: 1.0000\n",
      "Epoch 10/10\n",
      "57088/57131 [============================>.] - ETA: 0s - loss: 8.4439e-06 - accuracy: 1.0000WARNING:tensorflow:Early stopping conditioned on metric `val_loss` which is not available. Available metrics are: loss,accuracy\n",
      "57131/57131 [==============================] - 16s 286us/sample - loss: 8.4375e-06 - accuracy: 1.0000\n"
     ]
    },
    {
     "data": {
      "text/plain": [
       "<tensorflow.python.keras.callbacks.History at 0x1f6bb345ac8>"
      ]
     },
     "execution_count": 30,
     "metadata": {},
     "output_type": "execute_result"
    },
    {
     "name": "stdout",
     "output_type": "stream",
     "text": [
      "accuracy_score 1.0\n",
      "recall_score 1.0\n",
      "precision_score 1.0\n",
      "f1_score 1.0\n",
      "Model: \"model_11\"\n",
      "_________________________________________________________________\n",
      "Layer (type)                 Output Shape              Param #   \n",
      "=================================================================\n",
      "input_2 (InputLayer)         [(None, 32, 256)]         0         \n",
      "_________________________________________________________________\n",
      "bidirectional_1 (Bidirection (None, 32, 96)            117120    \n",
      "_________________________________________________________________\n",
      "time_distributed_1 (TimeDist (None, 32, 1)             97        \n",
      "=================================================================\n",
      "Total params: 117,217\n",
      "Trainable params: 117,217\n",
      "Non-trainable params: 0\n",
      "_________________________________________________________________\n",
      "======Training stage======\n",
      "Train on 57131 samples\n",
      "Epoch 1/10\n",
      "57088/57131 [============================>.] - ETA: 0s - loss: 8.4439e-06 - accuracy: 1.0000WARNING:tensorflow:Early stopping conditioned on metric `val_loss` which is not available. Available metrics are: loss,accuracy\n",
      "57131/57131 [==============================] - 19s 333us/sample - loss: 8.4375e-06 - accuracy: 1.0000\n",
      "Epoch 2/10\n",
      "56960/57131 [============================>.] - ETA: 0s - loss: 8.4628e-06 - accuracy: 1.0000WARNING:tensorflow:Early stopping conditioned on metric `val_loss` which is not available. Available metrics are: loss,accuracy\n",
      "57131/57131 [==============================] - 15s 265us/sample - loss: 8.4375e-06 - accuracy: 1.0000\n",
      "Epoch 3/10\n",
      "57056/57131 [============================>.] - ETA: 0s - loss: 8.4486e-06 - accuracy: 1.0000WARNING:tensorflow:Early stopping conditioned on metric `val_loss` which is not available. Available metrics are: loss,accuracy\n",
      "57131/57131 [==============================] - 18s 312us/sample - loss: 8.4375e-06 - accuracy: 1.0000\n",
      "Epoch 4/10\n",
      "57088/57131 [============================>.] - ETA: 0s - loss: 8.4438e-06 - accuracy: 1.0000WARNING:tensorflow:Early stopping conditioned on metric `val_loss` which is not available. Available metrics are: loss,accuracy\n",
      "57131/57131 [==============================] - 19s 325us/sample - loss: 8.4375e-06 - accuracy: 1.0000\n",
      "Epoch 5/10\n",
      "57120/57131 [============================>.] - ETA: 0s - loss: 8.4391e-06 - accuracy: 1.0000WARNING:tensorflow:Early stopping conditioned on metric `val_loss` which is not available. Available metrics are: loss,accuracy\n",
      "57131/57131 [==============================] - 17s 296us/sample - loss: 8.4375e-06 - accuracy: 1.0000\n",
      "Epoch 6/10\n",
      "57088/57131 [============================>.] - ETA: 0s - loss: 8.4438e-06 - accuracy: 1.0000WARNING:tensorflow:Early stopping conditioned on metric `val_loss` which is not available. Available metrics are: loss,accuracy\n",
      "57131/57131 [==============================] - 17s 291us/sample - loss: 8.4375e-06 - accuracy: 1.0000\n",
      "Epoch 7/10\n",
      "56960/57131 [============================>.] - ETA: 0s - loss: 8.4628e-06 - accuracy: 1.0000WARNING:tensorflow:Early stopping conditioned on metric `val_loss` which is not available. Available metrics are: loss,accuracy\n",
      "57131/57131 [==============================] - 17s 291us/sample - loss: 8.4375e-06 - accuracy: 1.0000\n",
      "Epoch 8/10\n",
      "57120/57131 [============================>.] - ETA: 0s - loss: 8.4391e-06 - accuracy: 1.0000WARNING:tensorflow:Early stopping conditioned on metric `val_loss` which is not available. Available metrics are: loss,accuracy\n",
      "57131/57131 [==============================] - 16s 289us/sample - loss: 8.4375e-06 - accuracy: 1.0000\n",
      "Epoch 9/10\n",
      "57056/57131 [============================>.] - ETA: 0s - loss: 8.4486e-06 - accuracy: 1.0000WARNING:tensorflow:Early stopping conditioned on metric `val_loss` which is not available. Available metrics are: loss,accuracy\n",
      "57131/57131 [==============================] - 17s 289us/sample - loss: 8.4375e-06 - accuracy: 1.0000\n",
      "Epoch 10/10\n",
      "57056/57131 [============================>.] - ETA: 0s - loss: 8.4486e-06 - accuracy: 1.0000WARNING:tensorflow:Early stopping conditioned on metric `val_loss` which is not available. Available metrics are: loss,accuracy\n",
      "57131/57131 [==============================] - 16s 287us/sample - loss: 8.4375e-06 - accuracy: 1.0000\n"
     ]
    },
    {
     "data": {
      "text/plain": [
       "<tensorflow.python.keras.callbacks.History at 0x1f6b4d401c8>"
      ]
     },
     "execution_count": 30,
     "metadata": {},
     "output_type": "execute_result"
    },
    {
     "name": "stdout",
     "output_type": "stream",
     "text": [
      "accuracy_score 1.0\n",
      "recall_score 1.0\n",
      "precision_score 1.0\n",
      "f1_score 1.0\n",
      "\n",
      "K-fold cross validation Accuracy: [0.9996898629489603, 0.9998769297416509, 0.9999212350346566, 0.9999852315689981, 1.0, 1.0, 0.9999950771896661, 1.0, 1.0, 1.0]\n",
      "\n",
      "K-fold cross validation Recall: [0.988712629652227, 0.995605039554644, 0.9971469329529244, 0.9991443240159726, 1.0, 1.0, 0.9997106481481481, 1.0, 1.0, 1.0]\n",
      "\n",
      "K-fold cross validation Precision: [0.9920416284052648, 0.9970657276995305, 0.998286203941731, 1.0, 1.0, 1.0, 1.0, 1.0, 1.0, 1.0]\n",
      "\n",
      "K-fold cross validation F1-Score: [0.9903743315508021, 0.9963348482627181, 0.9977162432200971, 0.9995719788842917, 1.0, 1.0, 0.9998553031399219, 1.0, 1.0, 1.0]\n"
     ]
    }
   ],
   "source": [
    "# 교차검증 kfold\n",
    "from sklearn.model_selection import KFold\n",
    "\n",
    "# Accuracy, Precision, Recall, F1-Score\n",
    "from sklearn.metrics import accuracy_score, recall_score, precision_score, f1_score\n",
    "\n",
    "# Confusion Matrix, ROC Curve\n",
    "from sklearn.metrics import confusion_matrix, roc_auc_score\n",
    "\n",
    "# 최종 평가지표들 평균용\n",
    "accuracy, recall, precision, f1score, cm = [], [], [], [], []\n",
    "\n",
    "# 11. 교차검증 kfold - k.split - 10회 / K-Fold 객체 생성\n",
    "# kf = KFold(n_splits=10, shuffle=False, random_state=None) # KFold non shuffle 버전\n",
    "kf = KFold(n_splits=10, shuffle=True, random_state=None) # KFold non shuffle 버전\n",
    "\n",
    "for train, validation in kf.split(x_bc6_2, y_bc6_2):\n",
    "    model1 = models.Model(xInput, xOutput)\n",
    "    model1.compile(loss='binary_crossentropy', optimizer='rmsprop', metrics=['accuracy'])\n",
    "    model1.summary()\n",
    "    print('======Training stage======')\n",
    "    model1.fit(x_bc6_2[train],\n",
    "               y_bc6_2[train],\n",
    "               epochs = 10,\n",
    "               batch_size = 32,\n",
    "               callbacks=[early_stopping])\n",
    "    #k_accuracy = '%.4f' %(model1.evaluate(data_10000x[validation], data_10000y[validation])[1])\n",
    "\n",
    "# 12. 교차검증결과 predict - 검증셋들\n",
    "    # predict 값\n",
    "    k_pr = model1.predict(x_bc6_2[validation])\n",
    "    \n",
    "    # 테스트 predict 결과들 비교 (평가지표 보기위함)\n",
    "    pred = np.round(np.array(k_pr).flatten().tolist())\n",
    "    y_test = np.array(y_bc6_2[validation]).flatten().tolist()\n",
    "    \n",
    "# 13. 평가지표들 출력\n",
    "    ## 평가지표들\n",
    "    k_accuracy = float(accuracy_score(y_test, pred))\n",
    "    k_recall =  float(recall_score(y_test, pred))\n",
    "    k_precision = float(precision_score(y_test, pred))\n",
    "    k_f1_score = float(f1_score(y_test, pred))\n",
    "    #k_cm = float(confusion_matrix(y_test, pred))\n",
    "    \n",
    "    print('accuracy_score', k_accuracy)\n",
    "    print('recall_score', k_recall)\n",
    "    print('precision_score', k_precision)\n",
    "    print('f1_score', k_f1_score)\n",
    "    #print('\\nconfusion_matrix\\n', k_cm)\n",
    "\n",
    "    accuracy.append(k_accuracy)\n",
    "    recall.append(k_recall)\n",
    "    precision.append(k_precision)\n",
    "    f1score.append(k_f1_score)\n",
    "    #cm.append(k_cm)\n",
    "#    print('roc_curve 면적', roc_auc_score(y_test, pred))\n",
    "\n",
    "# 최종 결과지표\n",
    "print('\\nK-fold cross validation Accuracy: {}'.format(accuracy))\n",
    "print('\\nK-fold cross validation Recall: {}'.format(recall))\n",
    "print('\\nK-fold cross validation Precision: {}'.format(precision))\n",
    "print('\\nK-fold cross validation F1-Score: {}'.format(f1score))\n",
    "#print('\\nK-fold cross validation ConfusionMatrix: {}'.format(cm))"
   ]
  },
  {
   "cell_type": "markdown",
   "metadata": {},
   "source": [
    "## (9) 평가지표"
   ]
  },
  {
   "cell_type": "code",
   "execution_count": 31,
   "metadata": {},
   "outputs": [
    {
     "name": "stdout",
     "output_type": "stream",
     "text": [
      "10-Fold Cross_validation. Accuracy : 0.9999468336483932\n",
      "10-Fold Cross_validation. Recall : 0.9980319574323916\n",
      "10-Fold Cross_validation. Precision : 0.9987393560046526\n",
      "10-Fold Cross_validation. F1-Score : 0.9983852705057832\n"
     ]
    }
   ],
   "source": [
    "print('10-Fold Cross_validation. Accuracy :', np.mean(accuracy))\n",
    "print('10-Fold Cross_validation. Recall :', np.mean(recall))\n",
    "print('10-Fold Cross_validation. Precision :', np.mean(precision))\n",
    "print('10-Fold Cross_validation. F1-Score :', np.mean(f1score))"
   ]
  }
 ],
 "metadata": {
  "kernelspec": {
   "display_name": "Python 3",
   "language": "python",
   "name": "python3"
  },
  "language_info": {
   "codemirror_mode": {
    "name": "ipython",
    "version": 3
   },
   "file_extension": ".py",
   "mimetype": "text/x-python",
   "name": "python",
   "nbconvert_exporter": "python",
   "pygments_lexer": "ipython3",
   "version": "3.7.7"
  }
 },
 "nbformat": 4,
 "nbformat_minor": 4
}
