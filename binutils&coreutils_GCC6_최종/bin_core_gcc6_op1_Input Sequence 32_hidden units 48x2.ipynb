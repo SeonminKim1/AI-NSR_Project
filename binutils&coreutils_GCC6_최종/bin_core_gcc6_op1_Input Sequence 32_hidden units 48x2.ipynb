{
 "cells": [
  {
   "cell_type": "markdown",
   "metadata": {},
   "source": [
    "## RNN 모델 N-Byte 방식 (함수정보 포함 vs 미포함 => 1:1 비율)\n",
    "\n",
    "## (1) 데이터로드"
   ]
  },
  {
   "cell_type": "code",
   "execution_count": 1,
   "metadata": {},
   "outputs": [
    {
     "name": "stdout",
     "output_type": "stream",
     "text": [
      "(10478628, 2) (3455067, 2)\n",
      "reset_index 완료\n",
      "input data shape\n"
     ]
    },
    {
     "data": {
      "text/html": [
       "<div>\n",
       "<style scoped>\n",
       "    .dataframe tbody tr th:only-of-type {\n",
       "        vertical-align: middle;\n",
       "    }\n",
       "\n",
       "    .dataframe tbody tr th {\n",
       "        vertical-align: top;\n",
       "    }\n",
       "\n",
       "    .dataframe thead th {\n",
       "        text-align: right;\n",
       "    }\n",
       "</style>\n",
       "<table border=\"1\" class=\"dataframe\">\n",
       "  <thead>\n",
       "    <tr style=\"text-align: right;\">\n",
       "      <th></th>\n",
       "      <th>bin</th>\n",
       "      <th>label</th>\n",
       "    </tr>\n",
       "  </thead>\n",
       "  <tbody>\n",
       "    <tr>\n",
       "      <th>0</th>\n",
       "      <td>86.0</td>\n",
       "      <td>1</td>\n",
       "    </tr>\n",
       "    <tr>\n",
       "      <th>1</th>\n",
       "      <td>83.0</td>\n",
       "      <td>0</td>\n",
       "    </tr>\n",
       "    <tr>\n",
       "      <th>2</th>\n",
       "      <td>131.0</td>\n",
       "      <td>0</td>\n",
       "    </tr>\n",
       "    <tr>\n",
       "      <th>3</th>\n",
       "      <td>236.0</td>\n",
       "      <td>0</td>\n",
       "    </tr>\n",
       "    <tr>\n",
       "      <th>4</th>\n",
       "      <td>4.0</td>\n",
       "      <td>0</td>\n",
       "    </tr>\n",
       "  </tbody>\n",
       "</table>\n",
       "</div>"
      ],
      "text/plain": [
       "     bin  label\n",
       "0   86.0      1\n",
       "1   83.0      0\n",
       "2  131.0      0\n",
       "3  236.0      0\n",
       "4    4.0      0"
      ]
     },
     "execution_count": 1,
     "metadata": {},
     "output_type": "execute_result"
    }
   ],
   "source": [
    "# (1) 데이터로드\n",
    "import pandas as pd\n",
    "import numpy as np\n",
    "\n",
    "import warnings\n",
    "warnings.filterwarnings(action='ignore')\n",
    "\n",
    "# 여러개 쳐도 나오게\n",
    "from IPython.core.interactiveshell import InteractiveShell\n",
    "InteractiveShell.ast_node_interactivity = \"all\"\n",
    "\n",
    "# 파일읽기\n",
    "bin6_1 = pd.read_csv(\"data/\"+'gcc6'+\"_1_.csv\", index_col=0)\n",
    "core6_1 = pd.read_csv(\"data/\"+\"core_gcc6_1_.csv\", index_col=0)\n",
    "\n",
    "# 형태 출력\n",
    "print(bin6_1.shape, core6_1.shape)\n",
    "\n",
    "# reset_index (hex processing 하면서 값이 빠졌으니까 + n_gram 에서 index를 다루기 때문에)\n",
    "bin6_1.reset_index(inplace=True, drop=True)\n",
    "core6_1.reset_index(inplace=True, drop=True)\n",
    "\n",
    "print('reset_index 완료')\n",
    "print('input data shape')\n",
    "bin6_1.head()\n",
    "core6_1.head()"
   ]
  },
  {
   "cell_type": "code",
   "execution_count": 2,
   "metadata": {},
   "outputs": [
    {
     "name": "stdout",
     "output_type": "stream",
     "text": [
      "256\n",
      "256\n",
      "0    10452226\n",
      "1       26402\n",
      "Name: label, dtype: int64\n",
      "0    3442761\n",
      "1      12306\n",
      "Name: label, dtype: int64\n"
     ]
    }
   ],
   "source": [
    "# (2-1) 데이터체크 1 - hex(16진수)가 256 label을 가져야 dummies 변환 가능 \n",
    "# 16진수 256개 종류가 있어서 pd.get_dummies 사용 가능.\n",
    "print(len(bin6_1['bin'].unique()))\n",
    "print(len(core6_1['bin'].unique()))\n",
    "\n",
    "# (2-2) 데이터 체크 2 - 1, 0 비율 ==> 1이 함수의 갯수를 뜻함\n",
    "# 정답 데이터 1, 0 비율 확인  ==> 1이 함수의 갯수를 뜻함\n",
    "print(bin6_1['label'].value_counts())\n",
    "print(core6_1['label'].value_counts())"
   ]
  },
  {
   "cell_type": "markdown",
   "metadata": {},
   "source": [
    "## (3) N Byte씩 자르기"
   ]
  },
  {
   "cell_type": "code",
   "execution_count": 3,
   "metadata": {},
   "outputs": [
    {
     "name": "stdout",
     "output_type": "stream",
     "text": [
      "844864 393792\n",
      "나머지 0 0\n",
      "최종 길이 844864 393792\n",
      "bin6_1 844864 393792\n"
     ]
    }
   ],
   "source": [
    "idx_bin = bin6_1[bin6_1['label']==1].index  # 407, 474 ...\n",
    "idx_core = core6_1[core6_1['label']==1].index  # 407, 474 ...\n",
    "\n",
    "ls_bin = list(idx_bin)\n",
    "ls_core = list(idx_core)\n",
    "\n",
    "# 최종 뽑을 행에 대한 index\n",
    "ls_idx_bin, ls_idx_core = [], [] \n",
    "\n",
    "# n byte 자르기 방식\n",
    "left_idx, right_idx = 0, 32 # 3개씩\n",
    "\n",
    "# n byte 자르기\n",
    "for k in range(left_idx, right_idx):\n",
    "    ls_idx_bin.extend(list(idx_bin + k)) # index 형이라서 가능\n",
    "    ls_idx_core.extend(list(idx_core + k))\n",
    "\n",
    "#ls_idx = list(set(ls_idx)) \n",
    "ls_idx_bin.sort() # 인덱스 정렬\n",
    "ls_idx_core.sort() # 인덱스 정렬\n",
    "\n",
    "\n",
    "# 1차 index 해당범위 초과한 것들 없애기\n",
    "ls_idx_bin = list(filter(lambda x: x<len(bin6_1), ls_idx_bin))\n",
    "ls_idx_core = list(filter(lambda x: x<len(core6_1), ls_idx_core))\n",
    "print(len(ls_idx_bin), len(ls_idx_core))\n",
    "\n",
    "# 2차 남은 index들 중 right_idx 나눈 나머지 없애기\n",
    "sub_bin = len(ls_idx_bin)%(right_idx)\n",
    "sub_core = len(ls_idx_core)%(right_idx)\n",
    "print('나머지', sub_bin, sub_core)\n",
    "\n",
    "ls_idx_bin = ls_idx_bin[:len(ls_idx_bin)-sub_bin]\n",
    "ls_idx_core = ls_idx_core[:len(ls_idx_core)-sub_core]\n",
    "print('최종 길이', len(ls_idx_bin), len(ls_idx_core))\n",
    "\n",
    "print('bin6_1', len(ls_idx_bin), len(ls_idx_core))\n",
    "\n",
    "# loc 로 수정필요\n",
    "bin6_1_Ngram = bin6_1.loc[ls_idx_bin,:].copy()\n",
    "core6_1_Ngram = core6_1.loc[ls_idx_core,:].copy()"
   ]
  },
  {
   "cell_type": "markdown",
   "metadata": {},
   "source": [
    "## (4) false data 만들기"
   ]
  },
  {
   "cell_type": "code",
   "execution_count": 4,
   "metadata": {},
   "outputs": [
    {
     "name": "stdout",
     "output_type": "stream",
     "text": [
      "26402.0 12306.0\n",
      "0 7626648 2109702\n",
      "1000 6805824 2568435\n",
      "2000 3835004 3431966\n",
      "3000 5452552 2546290\n",
      "4000 5940114 3155481\n",
      "5000 11503 2381401\n",
      "6000 4390287 105792\n",
      "7000 5081187 2722387\n",
      "8000 2950946 2726229\n",
      "9000 4570309 948021\n",
      "10000 4185209 2180794\n",
      "11000 7883716 2843255\n",
      "12000 1040595 2287498\n",
      "13000 5149508 1189446\n",
      "14000 988752 463391\n",
      "15000 2660349 2892604\n",
      "16000 6157679 2648700\n",
      "17000 2186344 289165\n",
      "18000 805306 2335491\n",
      "19000 4722568 423175\n",
      "20000 2453027 3190478\n",
      "21000 6635030 1086016\n",
      "22000 6518680 1651607\n",
      "23000 7414156 3014843\n",
      "24000 3045985 2590895\n",
      "25000 10309810 1149700\n",
      "26000 9857865 1414883\n",
      "완료\n",
      "26402 12306\n"
     ]
    }
   ],
   "source": [
    "# false data 만들기 - False 데이터 랜덤 생성\n",
    "\n",
    "# 목표치\n",
    "goal_bin = len(bin6_1_Ngram)/right_idx\n",
    "count_bin = 0\n",
    "\n",
    "goal_core = len(core6_1_Ngram)/right_idx\n",
    "count_core = 0\n",
    "\n",
    "print(goal_bin, goal_core)\n",
    "\n",
    "# 최종 데이터 Frame\n",
    "d_bin = pd.DataFrame(columns = bin6_1.columns)\n",
    "d_core = pd.DataFrame(columns = core6_1.columns)\n",
    "\n",
    "binutils_df, coreutils_df = [], []\n",
    "# goal 에 도달할 때까지\n",
    "while True:\n",
    "    if (count_bin == goal_bin) and (count_core == goal_core):\n",
    "            break\n",
    "    # 진행상황 살펴보기 위함\n",
    "            \n",
    "    # 랜덤 N 바이트씩 뽑음\n",
    "    # random index\n",
    "    random_idx_bin = np.random.randint(len(bin6_1)-right_idx)\n",
    "    random_idx_core = np.random.randint(len(core6_1)-right_idx)\n",
    "\n",
    "    if count_bin % 1000==0:\n",
    "        print(count_bin, end=' ')\n",
    "        print(random_idx_bin, random_idx_core)\n",
    "\n",
    "    df_bin = bin6_1[random_idx_bin : random_idx_bin + right_idx]\n",
    "    df_core = core6_1[random_idx_core : random_idx_core + right_idx]\n",
    "    \n",
    "    # 뽑은 index의 N 바이트 중에 1이 없는 경우만\n",
    "    if 1 not in df_bin['label'] and count_bin < goal_bin:\n",
    "        binutils_df.append(df_bin)\n",
    "        count_bin+=1\n",
    "        \n",
    "    if (1 not in df_core['label']) and count_core <goal_core:\n",
    "        coreutils_df.append(df_core)\n",
    "        count_core+=1\n",
    "\n",
    "print('완료')\n",
    "print(len(binutils_df), len(coreutils_df))"
   ]
  },
  {
   "cell_type": "code",
   "execution_count": 5,
   "metadata": {},
   "outputs": [
    {
     "name": "stdout",
     "output_type": "stream",
     "text": [
      "38708\n",
      "38708\n"
     ]
    }
   ],
   "source": [
    "# True data와 False Data 같은지 체크\n",
    "print(len(binutils_df) + len(coreutils_df))\n",
    "print(bin6_1['label'].value_counts()[1] + core6_1['label'].value_counts()[1])"
   ]
  },
  {
   "cell_type": "code",
   "execution_count": 6,
   "metadata": {},
   "outputs": [
    {
     "data": {
      "text/plain": [
       "(1238656, 2)"
      ]
     },
     "execution_count": 6,
     "metadata": {},
     "output_type": "execute_result"
    }
   ],
   "source": [
    "f_bin_data = pd.concat(binutils_df)\n",
    "f_core_data = pd.concat(coreutils_df)\n",
    "f_data = pd.concat([f_bin_data, f_core_data], axis=0)\n",
    "f_data.shape"
   ]
  },
  {
   "cell_type": "markdown",
   "metadata": {},
   "source": [
    "## (5) False Data + True Data 합치기"
   ]
  },
  {
   "cell_type": "code",
   "execution_count": 7,
   "metadata": {},
   "outputs": [
    {
     "data": {
      "text/plain": [
       "(2083520, 2)"
      ]
     },
     "execution_count": 7,
     "metadata": {},
     "output_type": "execute_result"
    }
   ],
   "source": [
    "final = pd.concat([f_data, bin6_1_Ngram])\n",
    "final.shape"
   ]
  },
  {
   "cell_type": "markdown",
   "metadata": {},
   "source": [
    "## (6) one hot encoding"
   ]
  },
  {
   "cell_type": "code",
   "execution_count": 8,
   "metadata": {},
   "outputs": [
    {
     "name": "stdout",
     "output_type": "stream",
     "text": [
      "원핫인코딩완료\n",
      "(2083520, 257)\n"
     ]
    }
   ],
   "source": [
    "# 훈련데이터 (gcc 최적화버전 0, 1, 2, 3 one hot encoding)\n",
    "bc6_1_onehot_Ngram = pd.get_dummies(final['bin'])\n",
    "bc6_1_onehot_Ngram = pd.concat([final['label'], bc6_1_onehot_Ngram], axis=1)\n",
    "\n",
    "print('원핫인코딩완료')\n",
    "print(bc6_1_onehot_Ngram.shape)"
   ]
  },
  {
   "cell_type": "code",
   "execution_count": 9,
   "metadata": {},
   "outputs": [
    {
     "name": "stdout",
     "output_type": "stream",
     "text": [
      "(2083520, 256) (2083520, 256)\n",
      "(65110, 32, 256) (65110, 32, 1)\n"
     ]
    }
   ],
   "source": [
    "# 훈련 데이터, 훈련 라벨\n",
    "x_bc6_1 = bc6_1_onehot_Ngram.iloc[:,1:].to_numpy()\n",
    "y_bc6_1 = bc6_1_onehot_Ngram['label'].to_numpy()\n",
    "print(x_bc6_1.shape, x_bc6_1.shape)\n",
    "\n",
    "x_bc6_1 = x_bc6_1.reshape(-1, right_idx, x_bc6_1.shape[1])\n",
    "y_bc6_1 = y_bc6_1.reshape(-1, right_idx, 1)\n",
    "\n",
    "print(x_bc6_1.shape, y_bc6_1.shape)"
   ]
  },
  {
   "cell_type": "code",
   "execution_count": 10,
   "metadata": {},
   "outputs": [
    {
     "name": "stdout",
     "output_type": "stream",
     "text": [
      "(65110, 32, 256) (65110, 32, 1)\n"
     ]
    }
   ],
   "source": [
    "# numpy 행, 열 섞기\n",
    "p = np.random.permutation(x_bc6_1.shape[0])\n",
    "\n",
    "x_bc6_1 = x_bc6_1[p]\n",
    "y_bc6_1 = y_bc6_1[p]\n",
    "\n",
    "print(x_bc6_1.shape, y_bc6_1.shape)"
   ]
  },
  {
   "cell_type": "code",
   "execution_count": 11,
   "metadata": {},
   "outputs": [],
   "source": [
    "import tensorflow as tf \n",
    "\n",
    "gpus = tf.config.experimental.list_physical_devices('GPU')\n",
    "tf.config.experimental.set_visible_devices(gpus[0], 'GPU')\n",
    "tf.config.experimental.set_memory_growth(gpus[0], True)"
   ]
  },
  {
   "cell_type": "markdown",
   "metadata": {},
   "source": [
    "## (7) 모델"
   ]
  },
  {
   "cell_type": "code",
   "execution_count": 12,
   "metadata": {},
   "outputs": [],
   "source": [
    "# (10) 양방향 LSTM 모델링 작업\n",
    "from tensorflow.keras import layers, models\n",
    "#from tf.keras.models import Model, Sequential\n",
    "#from tf.keras.layers import SimpleRNN, Input, Dense, LSTM\n",
    "#from tf.keras.layers import Bidirectional, TimeDistributed\n",
    "\n",
    "# 학습\n",
    "from tensorflow.keras.callbacks import EarlyStopping\n",
    "early_stopping = EarlyStopping(patience = 3) # 조기종료 콜백함수 정의\n",
    "\n",
    "xInput = layers.Input(batch_shape=(None,right_idx, 256)) \n",
    "xBiLstm = layers.Bidirectional(layers.LSTM(48, return_sequences=True), merge_mode = 'concat')(xInput)\n",
    "xOutput = layers.TimeDistributed(layers.Dense(1, activation ='sigmoid'))(xBiLstm) # 각 스텝에서 cost가 전송되고, 오류가 다음 step으로 전송됨."
   ]
  },
  {
   "cell_type": "markdown",
   "metadata": {},
   "source": [
    "## (8) 학습 - 10 KFold"
   ]
  },
  {
   "cell_type": "code",
   "execution_count": 13,
   "metadata": {
    "scrolled": false
   },
   "outputs": [
    {
     "name": "stdout",
     "output_type": "stream",
     "text": [
      "Model: \"model\"\n",
      "_________________________________________________________________\n",
      "Layer (type)                 Output Shape              Param #   \n",
      "=================================================================\n",
      "input_1 (InputLayer)         [(None, 32, 256)]         0         \n",
      "_________________________________________________________________\n",
      "bidirectional (Bidirectional (None, 32, 96)            117120    \n",
      "_________________________________________________________________\n",
      "time_distributed (TimeDistri (None, 32, 1)             97        \n",
      "=================================================================\n",
      "Total params: 117,217\n",
      "Trainable params: 117,217\n",
      "Non-trainable params: 0\n",
      "_________________________________________________________________\n",
      "======Training stage======\n",
      "Train on 58599 samples\n",
      "Epoch 1/10\n",
      "58528/58599 [============================>.] - ETA: 0s - loss: 0.0161 - accuracy: 0.9957WARNING:tensorflow:Early stopping conditioned on metric `val_loss` which is not available. Available metrics are: loss,accuracy\n",
      "58599/58599 [==============================] - 22s 373us/sample - loss: 0.0161 - accuracy: 0.9957\n",
      "Epoch 2/10\n",
      "58592/58599 [============================>.] - ETA: 0s - loss: 0.0033 - accuracy: 0.9990WARNING:tensorflow:Early stopping conditioned on metric `val_loss` which is not available. Available metrics are: loss,accuracy\n",
      "58599/58599 [==============================] - 16s 274us/sample - loss: 0.0033 - accuracy: 0.9990\n",
      "Epoch 3/10\n",
      "58560/58599 [============================>.] - ETA: 0s - loss: 0.0021 - accuracy: 0.9993WARNING:tensorflow:Early stopping conditioned on metric `val_loss` which is not available. Available metrics are: loss,accuracy\n",
      "58599/58599 [==============================] - 15s 249us/sample - loss: 0.0021 - accuracy: 0.9993\n",
      "Epoch 4/10\n",
      "58400/58599 [============================>.] - ETA: 0s - loss: 0.0016 - accuracy: 0.9995WARNING:tensorflow:Early stopping conditioned on metric `val_loss` which is not available. Available metrics are: loss,accuracy\n",
      "58599/58599 [==============================] - 13s 230us/sample - loss: 0.0016 - accuracy: 0.9995\n",
      "Epoch 5/10\n",
      "58464/58599 [============================>.] - ETA: 0s - loss: 0.0013 - accuracy: 0.9996WARNING:tensorflow:Early stopping conditioned on metric `val_loss` which is not available. Available metrics are: loss,accuracy\n",
      "58599/58599 [==============================] - 14s 242us/sample - loss: 0.0013 - accuracy: 0.9996\n",
      "Epoch 6/10\n",
      "58560/58599 [============================>.] - ETA: 0s - loss: 0.0010 - accuracy: 0.9997WARNING:tensorflow:Early stopping conditioned on metric `val_loss` which is not available. Available metrics are: loss,accuracy\n",
      "58599/58599 [==============================] - 17s 293us/sample - loss: 0.0010 - accuracy: 0.9997\n",
      "Epoch 7/10\n",
      "58592/58599 [============================>.] - ETA: 0s - loss: 8.6849e-04 - accuracy: 0.9997WARNING:tensorflow:Early stopping conditioned on metric `val_loss` which is not available. Available metrics are: loss,accuracy\n",
      "58599/58599 [==============================] - 17s 292us/sample - loss: 8.6839e-04 - accuracy: 0.9997\n",
      "Epoch 8/10\n",
      "58496/58599 [============================>.] - ETA: 0s - loss: 7.2809e-04 - accuracy: 0.9998WARNING:tensorflow:Early stopping conditioned on metric `val_loss` which is not available. Available metrics are: loss,accuracy\n",
      "58599/58599 [==============================] - 17s 293us/sample - loss: 7.3002e-04 - accuracy: 0.9998\n",
      "Epoch 9/10\n",
      "58496/58599 [============================>.] - ETA: 0s - loss: 6.4980e-04 - accuracy: 0.9998WARNING:tensorflow:Early stopping conditioned on metric `val_loss` which is not available. Available metrics are: loss,accuracy\n",
      "58599/58599 [==============================] - 17s 292us/sample - loss: 6.4873e-04 - accuracy: 0.9998\n",
      "Epoch 10/10\n",
      "58560/58599 [============================>.] - ETA: 0s - loss: 5.5327e-04 - accuracy: 0.9998WARNING:tensorflow:Early stopping conditioned on metric `val_loss` which is not available. Available metrics are: loss,accuracy\n",
      "58599/58599 [==============================] - 17s 292us/sample - loss: 5.5579e-04 - accuracy: 0.9998\n"
     ]
    },
    {
     "data": {
      "text/plain": [
       "<tensorflow.python.keras.callbacks.History at 0x18784196c48>"
      ]
     },
     "execution_count": 13,
     "metadata": {},
     "output_type": "execute_result"
    },
    {
     "name": "stdout",
     "output_type": "stream",
     "text": [
      "accuracy_score 0.9996544309629857\n",
      "recall_score 0.9937304075235109\n",
      "precision_score 0.9858637263217416\n",
      "f1_score 0.9897814362759012\n",
      "Model: \"model_1\"\n",
      "_________________________________________________________________\n",
      "Layer (type)                 Output Shape              Param #   \n",
      "=================================================================\n",
      "input_1 (InputLayer)         [(None, 32, 256)]         0         \n",
      "_________________________________________________________________\n",
      "bidirectional (Bidirectional (None, 32, 96)            117120    \n",
      "_________________________________________________________________\n",
      "time_distributed (TimeDistri (None, 32, 1)             97        \n",
      "=================================================================\n",
      "Total params: 117,217\n",
      "Trainable params: 117,217\n",
      "Non-trainable params: 0\n",
      "_________________________________________________________________\n",
      "======Training stage======\n",
      "Train on 58599 samples\n",
      "Epoch 1/10\n",
      "58464/58599 [============================>.] - ETA: 0s - loss: 5.6069e-04 - accuracy: 0.9998WARNING:tensorflow:Early stopping conditioned on metric `val_loss` which is not available. Available metrics are: loss,accuracy\n",
      "58599/58599 [==============================] - 21s 353us/sample - loss: 5.5956e-04 - accuracy: 0.9998\n",
      "Epoch 2/10\n",
      "58432/58599 [============================>.] - ETA: 0s - loss: 4.8792e-04 - accuracy: 0.9999WARNING:tensorflow:Early stopping conditioned on metric `val_loss` which is not available. Available metrics are: loss,accuracy\n",
      "58599/58599 [==============================] - 17s 294us/sample - loss: 4.8736e-04 - accuracy: 0.9999\n",
      "Epoch 3/10\n",
      "58528/58599 [============================>.] - ETA: 0s - loss: 4.1412e-04 - accuracy: 0.9999WARNING:tensorflow:Early stopping conditioned on metric `val_loss` which is not available. Available metrics are: loss,accuracy\n",
      "58599/58599 [==============================] - 17s 295us/sample - loss: 4.1425e-04 - accuracy: 0.9999\n",
      "Epoch 4/10\n",
      "58432/58599 [============================>.] - ETA: 0s - loss: 3.5456e-04 - accuracy: 0.9999WARNING:tensorflow:Early stopping conditioned on metric `val_loss` which is not available. Available metrics are: loss,accuracy\n",
      "58599/58599 [==============================] - 17s 286us/sample - loss: 3.5518e-04 - accuracy: 0.9999\n",
      "Epoch 5/10\n",
      "58464/58599 [============================>.] - ETA: 0s - loss: 3.0317e-04 - accuracy: 0.9999WARNING:tensorflow:Early stopping conditioned on metric `val_loss` which is not available. Available metrics are: loss,accuracy\n",
      "58599/58599 [==============================] - 16s 272us/sample - loss: 3.0344e-04 - accuracy: 0.9999\n",
      "Epoch 6/10\n",
      "58592/58599 [============================>.] - ETA: 0s - loss: 2.8248e-04 - accuracy: 0.9999WARNING:tensorflow:Early stopping conditioned on metric `val_loss` which is not available. Available metrics are: loss,accuracy\n",
      "58599/58599 [==============================] - 17s 298us/sample - loss: 2.8245e-04 - accuracy: 0.9999\n",
      "Epoch 7/10\n",
      "58560/58599 [============================>.] - ETA: 0s - loss: 2.6212e-04 - accuracy: 0.9999WARNING:tensorflow:Early stopping conditioned on metric `val_loss` which is not available. Available metrics are: loss,accuracy\n",
      "58599/58599 [==============================] - 17s 294us/sample - loss: 2.6195e-04 - accuracy: 0.9999\n",
      "Epoch 8/10\n",
      "58464/58599 [============================>.] - ETA: 0s - loss: 2.1875e-04 - accuracy: 0.9999WARNING:tensorflow:Early stopping conditioned on metric `val_loss` which is not available. Available metrics are: loss,accuracy\n",
      "58599/58599 [==============================] - 17s 295us/sample - loss: 2.1926e-04 - accuracy: 0.9999\n",
      "Epoch 9/10\n",
      "58560/58599 [============================>.] - ETA: 0s - loss: 2.1223e-04 - accuracy: 0.9999WARNING:tensorflow:Early stopping conditioned on metric `val_loss` which is not available. Available metrics are: loss,accuracy\n",
      "58599/58599 [==============================] - 17s 295us/sample - loss: 2.1210e-04 - accuracy: 0.9999\n",
      "Epoch 10/10\n",
      "58592/58599 [============================>.] - ETA: 0s - loss: 1.9797e-04 - accuracy: 1.0000WARNING:tensorflow:Early stopping conditioned on metric `val_loss` which is not available. Available metrics are: loss,accuracy\n",
      "58599/58599 [==============================] - 18s 300us/sample - loss: 1.9795e-04 - accuracy: 1.0000\n"
     ]
    },
    {
     "data": {
      "text/plain": [
       "<tensorflow.python.keras.callbacks.History at 0x187a0abf608>"
      ]
     },
     "execution_count": 13,
     "metadata": {},
     "output_type": "execute_result"
    },
    {
     "name": "stdout",
     "output_type": "stream",
     "text": [
      "accuracy_score 0.9998416141913684\n",
      "recall_score 0.9940880874963051\n",
      "precision_score 0.996149289099526\n",
      "f1_score 0.9951176209498447\n",
      "Model: \"model_2\"\n",
      "_________________________________________________________________\n",
      "Layer (type)                 Output Shape              Param #   \n",
      "=================================================================\n",
      "input_1 (InputLayer)         [(None, 32, 256)]         0         \n",
      "_________________________________________________________________\n",
      "bidirectional (Bidirectional (None, 32, 96)            117120    \n",
      "_________________________________________________________________\n",
      "time_distributed (TimeDistri (None, 32, 1)             97        \n",
      "=================================================================\n",
      "Total params: 117,217\n",
      "Trainable params: 117,217\n",
      "Non-trainable params: 0\n",
      "_________________________________________________________________\n",
      "======Training stage======\n",
      "Train on 58599 samples\n",
      "Epoch 1/10\n",
      "58560/58599 [============================>.] - ETA: 0s - loss: 2.2959e-04 - accuracy: 0.9999WARNING:tensorflow:Early stopping conditioned on metric `val_loss` which is not available. Available metrics are: loss,accuracy\n",
      "58599/58599 [==============================] - 20s 340us/sample - loss: 2.2946e-04 - accuracy: 0.9999\n",
      "Epoch 2/10\n",
      "58464/58599 [============================>.] - ETA: 0s - loss: 2.0076e-04 - accuracy: 0.9999WARNING:tensorflow:Early stopping conditioned on metric `val_loss` which is not available. Available metrics are: loss,accuracy\n",
      "58599/58599 [==============================] - 17s 292us/sample - loss: 2.0069e-04 - accuracy: 0.9999\n",
      "Epoch 3/10\n",
      "58432/58599 [============================>.] - ETA: 0s - loss: 1.6897e-04 - accuracy: 1.0000WARNING:tensorflow:Early stopping conditioned on metric `val_loss` which is not available. Available metrics are: loss,accuracy\n",
      "58599/58599 [==============================] - 17s 294us/sample - loss: 1.6855e-04 - accuracy: 1.0000\n",
      "Epoch 4/10\n",
      "58496/58599 [============================>.] - ETA: 0s - loss: 1.3368e-04 - accuracy: 1.0000WARNING:tensorflow:Early stopping conditioned on metric `val_loss` which is not available. Available metrics are: loss,accuracy\n",
      "58599/58599 [==============================] - 16s 265us/sample - loss: 1.3345e-04 - accuracy: 1.0000\n",
      "Epoch 5/10\n",
      "58528/58599 [============================>.] - ETA: 0s - loss: 1.2278e-04 - accuracy: 1.0000WARNING:tensorflow:Early stopping conditioned on metric `val_loss` which is not available. Available metrics are: loss,accuracy\n",
      "58599/58599 [==============================] - 17s 293us/sample - loss: 1.2264e-04 - accuracy: 1.0000\n",
      "Epoch 6/10\n",
      "58528/58599 [============================>.] - ETA: 0s - loss: 1.1958e-04 - accuracy: 1.0000WARNING:tensorflow:Early stopping conditioned on metric `val_loss` which is not available. Available metrics are: loss,accuracy\n",
      "58599/58599 [==============================] - 17s 298us/sample - loss: 1.1944e-04 - accuracy: 1.0000\n",
      "Epoch 7/10\n",
      "58432/58599 [============================>.] - ETA: 0s - loss: 9.4314e-05 - accuracy: 1.0000WARNING:tensorflow:Early stopping conditioned on metric `val_loss` which is not available. Available metrics are: loss,accuracy\n",
      "58599/58599 [==============================] - 18s 299us/sample - loss: 9.4049e-05 - accuracy: 1.0000\n",
      "Epoch 8/10\n",
      "58464/58599 [============================>.] - ETA: 0s - loss: 1.0065e-04 - accuracy: 1.0000WARNING:tensorflow:Early stopping conditioned on metric `val_loss` which is not available. Available metrics are: loss,accuracy\n",
      "58599/58599 [==============================] - 17s 297us/sample - loss: 1.0045e-04 - accuracy: 1.0000\n",
      "Epoch 9/10\n",
      "58496/58599 [============================>.] - ETA: 0s - loss: 7.5135e-05 - accuracy: 1.0000WARNING:tensorflow:Early stopping conditioned on metric `val_loss` which is not available. Available metrics are: loss,accuracy\n",
      "58599/58599 [==============================] - 17s 297us/sample - loss: 7.5006e-05 - accuracy: 1.0000\n",
      "Epoch 10/10\n",
      "58528/58599 [============================>.] - ETA: 0s - loss: 6.4170e-05 - accuracy: 1.0000WARNING:tensorflow:Early stopping conditioned on metric `val_loss` which is not available. Available metrics are: loss,accuracy\n",
      "58599/58599 [==============================] - 17s 298us/sample - loss: 6.4093e-05 - accuracy: 1.0000\n"
     ]
    },
    {
     "data": {
      "text/plain": [
       "<tensorflow.python.keras.callbacks.History at 0x187a0c3c408>"
      ]
     },
     "execution_count": 13,
     "metadata": {},
     "output_type": "execute_result"
    },
    {
     "name": "stdout",
     "output_type": "stream",
     "text": [
      "accuracy_score 0.9999280064506221\n",
      "recall_score 0.9961674528301887\n",
      "precision_score 0.9994084590357882\n",
      "f1_score 0.9977853240809095\n",
      "Model: \"model_3\"\n",
      "_________________________________________________________________\n",
      "Layer (type)                 Output Shape              Param #   \n",
      "=================================================================\n",
      "input_1 (InputLayer)         [(None, 32, 256)]         0         \n",
      "_________________________________________________________________\n",
      "bidirectional (Bidirectional (None, 32, 96)            117120    \n",
      "_________________________________________________________________\n",
      "time_distributed (TimeDistri (None, 32, 1)             97        \n",
      "=================================================================\n",
      "Total params: 117,217\n",
      "Trainable params: 117,217\n",
      "Non-trainable params: 0\n",
      "_________________________________________________________________\n",
      "======Training stage======\n",
      "Train on 58599 samples\n",
      "Epoch 1/10\n",
      "58592/58599 [============================>.] - ETA: 0s - loss: 1.2180e-04 - accuracy: 1.0000WARNING:tensorflow:Early stopping conditioned on metric `val_loss` which is not available. Available metrics are: loss,accuracy\n",
      "58599/58599 [==============================] - 20s 344us/sample - loss: 1.2179e-04 - accuracy: 1.0000\n",
      "Epoch 2/10\n",
      "58560/58599 [============================>.] - ETA: 0s - loss: 9.3224e-05 - accuracy: 1.0000WARNING:tensorflow:Early stopping conditioned on metric `val_loss` which is not available. Available metrics are: loss,accuracy\n",
      "58599/58599 [==============================] - 17s 298us/sample - loss: 9.3200e-05 - accuracy: 1.0000\n",
      "Epoch 3/10\n",
      "58592/58599 [============================>.] - ETA: 0s - loss: 8.1708e-05 - accuracy: 1.0000WARNING:tensorflow:Early stopping conditioned on metric `val_loss` which is not available. Available metrics are: loss,accuracy\n",
      "58599/58599 [==============================] - 16s 277us/sample - loss: 8.1698e-05 - accuracy: 1.0000\n",
      "Epoch 4/10\n",
      "58496/58599 [============================>.] - ETA: 0s - loss: 7.9312e-05 - accuracy: 1.0000WARNING:tensorflow:Early stopping conditioned on metric `val_loss` which is not available. Available metrics are: loss,accuracy\n",
      "58599/58599 [==============================] - 17s 297us/sample - loss: 7.9174e-05 - accuracy: 1.0000\n",
      "Epoch 5/10\n",
      "58560/58599 [============================>.] - ETA: 0s - loss: 7.3166e-05 - accuracy: 1.0000WARNING:tensorflow:Early stopping conditioned on metric `val_loss` which is not available. Available metrics are: loss,accuracy\n",
      "58599/58599 [==============================] - 17s 297us/sample - loss: 7.3118e-05 - accuracy: 1.0000\n",
      "Epoch 6/10\n",
      "58432/58599 [============================>.] - ETA: 0s - loss: 6.9725e-05 - accuracy: 1.0000WARNING:tensorflow:Early stopping conditioned on metric `val_loss` which is not available. Available metrics are: loss,accuracy\n",
      "58599/58599 [==============================] - 17s 297us/sample - loss: 6.9527e-05 - accuracy: 1.0000\n",
      "Epoch 7/10\n",
      "58464/58599 [============================>.] - ETA: 0s - loss: 6.0928e-05 - accuracy: 1.0000WARNING:tensorflow:Early stopping conditioned on metric `val_loss` which is not available. Available metrics are: loss,accuracy\n",
      "58599/58599 [==============================] - 17s 298us/sample - loss: 6.0788e-05 - accuracy: 1.0000\n",
      "Epoch 8/10\n",
      "58592/58599 [============================>.] - ETA: 0s - loss: 5.5007e-05 - accuracy: 1.0000WARNING:tensorflow:Early stopping conditioned on metric `val_loss` which is not available. Available metrics are: loss,accuracy\n",
      "58599/58599 [==============================] - 17s 297us/sample - loss: 5.5000e-05 - accuracy: 1.0000\n",
      "Epoch 9/10\n",
      "58432/58599 [============================>.] - ETA: 0s - loss: 5.5645e-05 - accuracy: 1.0000WARNING:tensorflow:Early stopping conditioned on metric `val_loss` which is not available. Available metrics are: loss,accuracy\n",
      "58599/58599 [==============================] - 17s 296us/sample - loss: 5.5487e-05 - accuracy: 1.0000\n",
      "Epoch 10/10\n",
      "58432/58599 [============================>.] - ETA: 0s - loss: 4.2953e-05 - accuracy: 1.0000WARNING:tensorflow:Early stopping conditioned on metric `val_loss` which is not available. Available metrics are: loss,accuracy\n",
      "58599/58599 [==============================] - 17s 298us/sample - loss: 4.2832e-05 - accuracy: 1.0000\n"
     ]
    },
    {
     "data": {
      "text/plain": [
       "<tensorflow.python.keras.callbacks.History at 0x1883a82b188>"
      ]
     },
     "execution_count": 13,
     "metadata": {},
     "output_type": "execute_result"
    },
    {
     "name": "stdout",
     "output_type": "stream",
     "text": [
      "accuracy_score 0.9999568038703732\n",
      "recall_score 0.9985586624387431\n",
      "precision_score 0.9988465974625144\n",
      "f1_score 0.9987026091970592\n",
      "Model: \"model_4\"\n",
      "_________________________________________________________________\n",
      "Layer (type)                 Output Shape              Param #   \n",
      "=================================================================\n",
      "input_1 (InputLayer)         [(None, 32, 256)]         0         \n",
      "_________________________________________________________________\n",
      "bidirectional (Bidirectional (None, 32, 96)            117120    \n",
      "_________________________________________________________________\n",
      "time_distributed (TimeDistri (None, 32, 1)             97        \n",
      "=================================================================\n",
      "Total params: 117,217\n",
      "Trainable params: 117,217\n",
      "Non-trainable params: 0\n",
      "_________________________________________________________________\n",
      "======Training stage======\n",
      "Train on 58599 samples\n",
      "Epoch 1/10\n",
      "58464/58599 [============================>.] - ETA: 0s - loss: 6.3077e-05 - accuracy: 1.0000WARNING:tensorflow:Early stopping conditioned on metric `val_loss` which is not available. Available metrics are: loss,accuracy\n",
      "58599/58599 [==============================] - 20s 346us/sample - loss: 6.2933e-05 - accuracy: 1.0000\n",
      "Epoch 2/10\n",
      "58592/58599 [============================>.] - ETA: 0s - loss: 4.7290e-05 - accuracy: 1.0000WARNING:tensorflow:Early stopping conditioned on metric `val_loss` which is not available. Available metrics are: loss,accuracy\n",
      "58599/58599 [==============================] - 17s 291us/sample - loss: 4.7284e-05 - accuracy: 1.0000\n",
      "Epoch 3/10\n",
      "58560/58599 [============================>.] - ETA: 0s - loss: 4.7702e-05 - accuracy: 1.0000WARNING:tensorflow:Early stopping conditioned on metric `val_loss` which is not available. Available metrics are: loss,accuracy\n",
      "58599/58599 [==============================] - 16s 277us/sample - loss: 4.7670e-05 - accuracy: 1.0000\n",
      "Epoch 4/10\n",
      "58592/58599 [============================>.] - ETA: 0s - loss: 4.5544e-05 - accuracy: 1.0000WARNING:tensorflow:Early stopping conditioned on metric `val_loss` which is not available. Available metrics are: loss,accuracy\n",
      "58599/58599 [==============================] - 17s 295us/sample - loss: 4.5539e-05 - accuracy: 1.0000\n",
      "Epoch 5/10\n",
      "58528/58599 [============================>.] - ETA: 0s - loss: 3.2288e-05 - accuracy: 1.0000WARNING:tensorflow:Early stopping conditioned on metric `val_loss` which is not available. Available metrics are: loss,accuracy\n",
      "58599/58599 [==============================] - 17s 297us/sample - loss: 3.2249e-05 - accuracy: 1.0000\n",
      "Epoch 6/10\n",
      "58528/58599 [============================>.] - ETA: 0s - loss: 4.0300e-05 - accuracy: 1.0000WARNING:tensorflow:Early stopping conditioned on metric `val_loss` which is not available. Available metrics are: loss,accuracy\n",
      "58599/58599 [==============================] - 17s 298us/sample - loss: 4.0251e-05 - accuracy: 1.0000\n",
      "Epoch 7/10\n",
      "58592/58599 [============================>.] - ETA: 0s - loss: 3.1723e-05 - accuracy: 1.0000WARNING:tensorflow:Early stopping conditioned on metric `val_loss` which is not available. Available metrics are: loss,accuracy\n",
      "58599/58599 [==============================] - 17s 298us/sample - loss: 3.1719e-05 - accuracy: 1.0000\n",
      "Epoch 8/10\n",
      "58432/58599 [============================>.] - ETA: 0s - loss: 3.1945e-05 - accuracy: 1.0000WARNING:tensorflow:Early stopping conditioned on metric `val_loss` which is not available. Available metrics are: loss,accuracy\n",
      "58599/58599 [==============================] - 17s 297us/sample - loss: 3.1939e-05 - accuracy: 1.0000\n",
      "Epoch 9/10\n",
      "58496/58599 [============================>.] - ETA: 0s - loss: 2.8045e-05 - accuracy: 1.0000WARNING:tensorflow:Early stopping conditioned on metric `val_loss` which is not available. Available metrics are: loss,accuracy\n",
      "58599/58599 [==============================] - 18s 301us/sample - loss: 2.7995e-05 - accuracy: 1.0000\n",
      "Epoch 10/10\n",
      "58528/58599 [============================>.] - ETA: 0s - loss: 2.8383e-05 - accuracy: 1.0000WARNING:tensorflow:Early stopping conditioned on metric `val_loss` which is not available. Available metrics are: loss,accuracy\n",
      "58599/58599 [==============================] - 18s 306us/sample - loss: 2.8349e-05 - accuracy: 1.0000\n"
     ]
    },
    {
     "data": {
      "text/plain": [
       "<tensorflow.python.keras.callbacks.History at 0x18842fe3d08>"
      ]
     },
     "execution_count": 13,
     "metadata": {},
     "output_type": "execute_result"
    },
    {
     "name": "stdout",
     "output_type": "stream",
     "text": [
      "accuracy_score 1.0\n",
      "recall_score 1.0\n",
      "precision_score 1.0\n",
      "f1_score 1.0\n",
      "Model: \"model_5\"\n",
      "_________________________________________________________________\n",
      "Layer (type)                 Output Shape              Param #   \n",
      "=================================================================\n",
      "input_1 (InputLayer)         [(None, 32, 256)]         0         \n",
      "_________________________________________________________________\n",
      "bidirectional (Bidirectional (None, 32, 96)            117120    \n",
      "_________________________________________________________________\n",
      "time_distributed (TimeDistri (None, 32, 1)             97        \n",
      "=================================================================\n",
      "Total params: 117,217\n",
      "Trainable params: 117,217\n",
      "Non-trainable params: 0\n",
      "_________________________________________________________________\n",
      "======Training stage======\n",
      "Train on 58599 samples\n",
      "Epoch 1/10\n",
      "58496/58599 [============================>.] - ETA: 0s - loss: 3.6459e-05 - accuracy: 1.0000WARNING:tensorflow:Early stopping conditioned on metric `val_loss` which is not available. Available metrics are: loss,accuracy\n",
      "58599/58599 [==============================] - 21s 364us/sample - loss: 3.6395e-05 - accuracy: 1.0000\n",
      "Epoch 2/10\n",
      "58432/58599 [============================>.] - ETA: 0s - loss: 2.9792e-05 - accuracy: 1.0000WARNING:tensorflow:Early stopping conditioned on metric `val_loss` which is not available. Available metrics are: loss,accuracy\n",
      "58599/58599 [==============================] - 16s 273us/sample - loss: 2.9708e-05 - accuracy: 1.0000\n",
      "Epoch 3/10\n",
      "58560/58599 [============================>.] - ETA: 0s - loss: 2.8278e-05 - accuracy: 1.0000 ETA: 0s - loss: 2.8464e-05 - accuracy: 1.WARNING:tensorflow:Early stopping conditioned on metric `val_loss` which is not available. Available metrics are: loss,accuracy\n",
      "58599/58599 [==============================] - 18s 300us/sample - loss: 2.8259e-05 - accuracy: 1.0000\n",
      "Epoch 4/10\n",
      "58528/58599 [============================>.] - ETA: 0s - loss: 2.6956e-05 - accuracy: 1.0000WARNING:tensorflow:Early stopping conditioned on metric `val_loss` which is not available. Available metrics are: loss,accuracy\n",
      "58599/58599 [==============================] - 18s 301us/sample - loss: 2.6923e-05 - accuracy: 1.0000\n",
      "Epoch 5/10\n",
      "58496/58599 [============================>.] - ETA: 0s - loss: 2.9937e-05 - accuracy: 1.0000WARNING:tensorflow:Early stopping conditioned on metric `val_loss` which is not available. Available metrics are: loss,accuracy\n",
      "58599/58599 [==============================] - 18s 301us/sample - loss: 2.9884e-05 - accuracy: 1.0000\n",
      "Epoch 6/10\n",
      "58464/58599 [============================>.] - ETA: 0s - loss: 2.5879e-05 - accuracy: 1.0000WARNING:tensorflow:Early stopping conditioned on metric `val_loss` which is not available. Available metrics are: loss,accuracy\n",
      "58599/58599 [==============================] - 17s 298us/sample - loss: 2.5825e-05 - accuracy: 1.0000\n",
      "Epoch 7/10\n",
      "58592/58599 [============================>.] - ETA: 0s - loss: 2.5080e-05 - accuracy: 1.0000WARNING:tensorflow:Early stopping conditioned on metric `val_loss` which is not available. Available metrics are: loss,accuracy\n",
      "58599/58599 [==============================] - 18s 300us/sample - loss: 2.5077e-05 - accuracy: 1.0000\n",
      "Epoch 8/10\n",
      "58592/58599 [============================>.] - ETA: 0s - loss: 3.1527e-05 - accuracy: 1.0000WARNING:tensorflow:Early stopping conditioned on metric `val_loss` which is not available. Available metrics are: loss,accuracy\n",
      "58599/58599 [==============================] - 18s 301us/sample - loss: 3.1524e-05 - accuracy: 1.0000\n",
      "Epoch 9/10\n",
      "58592/58599 [============================>.] - ETA: 0s - loss: 2.4705e-05 - accuracy: 1.0000WARNING:tensorflow:Early stopping conditioned on metric `val_loss` which is not available. Available metrics are: loss,accuracy\n",
      "58599/58599 [==============================] - 18s 301us/sample - loss: 2.4702e-05 - accuracy: 1.0000\n",
      "Epoch 10/10\n",
      "58528/58599 [============================>.] - ETA: 0s - loss: 2.4713e-05 - accuracy: 1.0000WARNING:tensorflow:Early stopping conditioned on metric `val_loss` which is not available. Available metrics are: loss,accuracy\n",
      "58599/58599 [==============================] - 18s 300us/sample - loss: 2.4683e-05 - accuracy: 1.0000\n"
     ]
    },
    {
     "data": {
      "text/plain": [
       "<tensorflow.python.keras.callbacks.History at 0x18842833608>"
      ]
     },
     "execution_count": 13,
     "metadata": {},
     "output_type": "execute_result"
    },
    {
     "name": "stdout",
     "output_type": "stream",
     "text": [
      "accuracy_score 1.0\n",
      "recall_score 1.0\n",
      "precision_score 1.0\n",
      "f1_score 1.0\n",
      "Model: \"model_6\"\n",
      "_________________________________________________________________\n",
      "Layer (type)                 Output Shape              Param #   \n",
      "=================================================================\n",
      "input_1 (InputLayer)         [(None, 32, 256)]         0         \n",
      "_________________________________________________________________\n",
      "bidirectional (Bidirectional (None, 32, 96)            117120    \n",
      "_________________________________________________________________\n",
      "time_distributed (TimeDistri (None, 32, 1)             97        \n",
      "=================================================================\n",
      "Total params: 117,217\n",
      "Trainable params: 117,217\n",
      "Non-trainable params: 0\n",
      "_________________________________________________________________\n",
      "======Training stage======\n",
      "Train on 58599 samples\n",
      "Epoch 1/10\n",
      "58496/58599 [============================>.] - ETA: 0s - loss: 2.4747e-05 - accuracy: 1.0000WARNING:tensorflow:Early stopping conditioned on metric `val_loss` which is not available. Available metrics are: loss,accuracy\n",
      "58599/58599 [==============================] - 19s 324us/sample - loss: 2.4704e-05 - accuracy: 1.0000\n",
      "Epoch 2/10\n",
      "58592/58599 [============================>.] - ETA: 0s - loss: 2.4687e-05 - accuracy: 1.0000WARNING:tensorflow:Early stopping conditioned on metric `val_loss` which is not available. Available metrics are: loss,accuracy\n",
      "58599/58599 [==============================] - 18s 301us/sample - loss: 2.4684e-05 - accuracy: 1.0000\n",
      "Epoch 3/10\n",
      "58560/58599 [============================>.] - ETA: 0s - loss: 2.4696e-05 - accuracy: 1.0000WARNING:tensorflow:Early stopping conditioned on metric `val_loss` which is not available. Available metrics are: loss,accuracy\n",
      "58599/58599 [==============================] - 18s 300us/sample - loss: 2.4680e-05 - accuracy: 1.0000\n",
      "Epoch 4/10\n",
      "58496/58599 [============================>.] - ETA: 0s - loss: 2.4723e-05 - accuracy: 1.0000WARNING:tensorflow:Early stopping conditioned on metric `val_loss` which is not available. Available metrics are: loss,accuracy\n",
      "58599/58599 [==============================] - 18s 301us/sample - loss: 2.4679e-05 - accuracy: 1.0000\n",
      "Epoch 5/10\n",
      "58560/58599 [============================>.] - ETA: 0s - loss: 2.4695e-05 - accuracy: 1.0000WARNING:tensorflow:Early stopping conditioned on metric `val_loss` which is not available. Available metrics are: loss,accuracy\n",
      "58599/58599 [==============================] - 18s 300us/sample - loss: 2.4679e-05 - accuracy: 1.0000\n",
      "Epoch 6/10\n",
      "58560/58599 [============================>.] - ETA: 0s - loss: 2.4695e-05 - accuracy: 1.0000WARNING:tensorflow:Early stopping conditioned on metric `val_loss` which is not available. Available metrics are: loss,accuracy\n",
      "58599/58599 [==============================] - 18s 300us/sample - loss: 2.4679e-05 - accuracy: 1.0000\n",
      "Epoch 7/10\n",
      "58432/58599 [============================>.] - ETA: 0s - loss: 2.4749e-05 - accuracy: 1.0000WARNING:tensorflow:Early stopping conditioned on metric `val_loss` which is not available. Available metrics are: loss,accuracy\n",
      "58599/58599 [==============================] - 18s 302us/sample - loss: 2.4679e-05 - accuracy: 1.0000\n",
      "Epoch 8/10\n",
      "58464/58599 [============================>.] - ETA: 0s - loss: 2.4736e-05 - accuracy: 1.0000WARNING:tensorflow:Early stopping conditioned on metric `val_loss` which is not available. Available metrics are: loss,accuracy\n",
      "58599/58599 [==============================] - 17s 299us/sample - loss: 2.4679e-05 - accuracy: 1.0000\n",
      "Epoch 9/10\n",
      "58464/58599 [============================>.] - ETA: 0s - loss: 2.4736e-05 - accuracy: 1.0000WARNING:tensorflow:Early stopping conditioned on metric `val_loss` which is not available. Available metrics are: loss,accuracy\n",
      "58599/58599 [==============================] - 18s 301us/sample - loss: 2.4679e-05 - accuracy: 1.0000\n",
      "Epoch 10/10\n",
      "58432/58599 [============================>.] - ETA: 0s - loss: 2.4749e-05 - accuracy: 1.0000WARNING:tensorflow:Early stopping conditioned on metric `val_loss` which is not available. Available metrics are: loss,accuracy\n",
      "58599/58599 [==============================] - 17s 297us/sample - loss: 2.4678e-05 - accuracy: 1.0000\n"
     ]
    },
    {
     "data": {
      "text/plain": [
       "<tensorflow.python.keras.callbacks.History at 0x187c5139ec8>"
      ]
     },
     "execution_count": 13,
     "metadata": {},
     "output_type": "execute_result"
    },
    {
     "name": "stdout",
     "output_type": "stream",
     "text": [
      "accuracy_score 1.0\n",
      "recall_score 1.0\n",
      "precision_score 1.0\n",
      "f1_score 1.0\n",
      "Model: \"model_7\"\n",
      "_________________________________________________________________\n",
      "Layer (type)                 Output Shape              Param #   \n",
      "=================================================================\n",
      "input_1 (InputLayer)         [(None, 32, 256)]         0         \n",
      "_________________________________________________________________\n",
      "bidirectional (Bidirectional (None, 32, 96)            117120    \n",
      "_________________________________________________________________\n",
      "time_distributed (TimeDistri (None, 32, 1)             97        \n",
      "=================================================================\n",
      "Total params: 117,217\n",
      "Trainable params: 117,217\n",
      "Non-trainable params: 0\n",
      "_________________________________________________________________\n",
      "======Training stage======\n",
      "Train on 58599 samples\n",
      "Epoch 1/10\n",
      "58528/58599 [============================>.] - ETA: 0s - loss: 2.4709e-05 - accuracy: 1.0000WARNING:tensorflow:Early stopping conditioned on metric `val_loss` which is not available. Available metrics are: loss,accuracy\n",
      "58599/58599 [==============================] - 20s 344us/sample - loss: 2.4679e-05 - accuracy: 1.0000\n",
      "Epoch 2/10\n",
      "58528/58599 [============================>.] - ETA: 0s - loss: 2.4708e-05 - accuracy: 1.0000WARNING:tensorflow:Early stopping conditioned on metric `val_loss` which is not available. Available metrics are: loss,accuracy\n",
      "58599/58599 [==============================] - 17s 298us/sample - loss: 2.4678e-05 - accuracy: 1.0000\n",
      "Epoch 3/10\n",
      "58432/58599 [============================>.] - ETA: 0s - loss: 2.4749e-05 - accuracy: 1.0000WARNING:tensorflow:Early stopping conditioned on metric `val_loss` which is not available. Available metrics are: loss,accuracy\n",
      "58599/58599 [==============================] - 17s 298us/sample - loss: 2.4678e-05 - accuracy: 1.0000\n",
      "Epoch 4/10\n",
      "58432/58599 [============================>.] - ETA: 0s - loss: 2.4749e-05 - accuracy: 1.0000WARNING:tensorflow:Early stopping conditioned on metric `val_loss` which is not available. Available metrics are: loss,accuracy\n",
      "58599/58599 [==============================] - 17s 298us/sample - loss: 2.4678e-05 - accuracy: 1.0000\n",
      "Epoch 5/10\n",
      "58496/58599 [============================>.] - ETA: 0s - loss: 2.4722e-05 - accuracy: 1.0000WARNING:tensorflow:Early stopping conditioned on metric `val_loss` which is not available. Available metrics are: loss,accuracy\n",
      "58599/58599 [==============================] - 17s 298us/sample - loss: 2.4678e-05 - accuracy: 1.0000\n",
      "Epoch 6/10\n",
      "58464/58599 [============================>.] - ETA: 0s - loss: 2.4735e-05 - accuracy: 1.0000WARNING:tensorflow:Early stopping conditioned on metric `val_loss` which is not available. Available metrics are: loss,accuracy\n",
      "58599/58599 [==============================] - 17s 297us/sample - loss: 2.4678e-05 - accuracy: 1.0000\n",
      "Epoch 7/10\n",
      "58464/58599 [============================>.] - ETA: 0s - loss: 2.4735e-05 - accuracy: 1.0000WARNING:tensorflow:Early stopping conditioned on metric `val_loss` which is not available. Available metrics are: loss,accuracy\n",
      "58599/58599 [==============================] - 18s 302us/sample - loss: 2.4678e-05 - accuracy: 1.0000\n",
      "Epoch 8/10\n",
      "58528/58599 [============================>.] - ETA: 0s - loss: 2.4708e-05 - accuracy: 1.0000WARNING:tensorflow:Early stopping conditioned on metric `val_loss` which is not available. Available metrics are: loss,accuracy\n",
      "58599/58599 [==============================] - 18s 302us/sample - loss: 2.4678e-05 - accuracy: 1.0000\n",
      "Epoch 9/10\n",
      "58592/58599 [============================>.] - ETA: 0s - loss: 2.4681e-05 - accuracy: 1.0000WARNING:tensorflow:Early stopping conditioned on metric `val_loss` which is not available. Available metrics are: loss,accuracy\n",
      "58599/58599 [==============================] - 18s 302us/sample - loss: 2.4678e-05 - accuracy: 1.0000\n",
      "Epoch 10/10\n",
      "58496/58599 [============================>.] - ETA: 0s - loss: 2.4722e-05 - accuracy: 1.0000WARNING:tensorflow:Early stopping conditioned on metric `val_loss` which is not available. Available metrics are: loss,accuracy\n",
      "58599/58599 [==============================] - 16s 269us/sample - loss: 2.4678e-05 - accuracy: 1.0000\n"
     ]
    },
    {
     "data": {
      "text/plain": [
       "<tensorflow.python.keras.callbacks.History at 0x1883a9df8c8>"
      ]
     },
     "execution_count": 13,
     "metadata": {},
     "output_type": "execute_result"
    },
    {
     "name": "stdout",
     "output_type": "stream",
     "text": [
      "accuracy_score 1.0\n",
      "recall_score 1.0\n",
      "precision_score 1.0\n",
      "f1_score 1.0\n",
      "Model: \"model_8\"\n",
      "_________________________________________________________________\n",
      "Layer (type)                 Output Shape              Param #   \n",
      "=================================================================\n",
      "input_1 (InputLayer)         [(None, 32, 256)]         0         \n",
      "_________________________________________________________________\n",
      "bidirectional (Bidirectional (None, 32, 96)            117120    \n",
      "_________________________________________________________________\n",
      "time_distributed (TimeDistri (None, 32, 1)             97        \n",
      "=================================================================\n",
      "Total params: 117,217\n",
      "Trainable params: 117,217\n",
      "Non-trainable params: 0\n",
      "_________________________________________________________________\n",
      "======Training stage======\n",
      "Train on 58599 samples\n",
      "Epoch 1/10\n",
      "58528/58599 [============================>.] - ETA: 0s - loss: 1.6472e-05 - accuracy: 1.0000WARNING:tensorflow:Early stopping conditioned on metric `val_loss` which is not available. Available metrics are: loss,accuracy\n",
      "58599/58599 [==============================] - 20s 346us/sample - loss: 1.6452e-05 - accuracy: 1.0000\n",
      "Epoch 2/10\n",
      "58464/58599 [============================>.] - ETA: 0s - loss: 1.6490e-05 - accuracy: 1.0000WARNING:tensorflow:Early stopping conditioned on metric `val_loss` which is not available. Available metrics are: loss,accuracy\n",
      "58599/58599 [==============================] - 18s 299us/sample - loss: 1.6452e-05 - accuracy: 1.0000\n",
      "Epoch 3/10\n",
      "58496/58599 [============================>.] - ETA: 0s - loss: 1.6481e-05 - accuracy: 1.0000WARNING:tensorflow:Early stopping conditioned on metric `val_loss` which is not available. Available metrics are: loss,accuracy\n",
      "58599/58599 [==============================] - 17s 298us/sample - loss: 1.6452e-05 - accuracy: 1.0000\n",
      "Epoch 4/10\n",
      "58496/58599 [============================>.] - ETA: 0s - loss: 1.6481e-05 - accuracy: 1.0000WARNING:tensorflow:Early stopping conditioned on metric `val_loss` which is not available. Available metrics are: loss,accuracy\n",
      "58599/58599 [==============================] - 17s 298us/sample - loss: 1.6452e-05 - accuracy: 1.0000\n",
      "Epoch 5/10\n",
      "58560/58599 [============================>.] - ETA: 0s - loss: 1.6463e-05 - accuracy: 1.0000WARNING:tensorflow:Early stopping conditioned on metric `val_loss` which is not available. Available metrics are: loss,accuracy\n",
      "58599/58599 [==============================] - 18s 299us/sample - loss: 1.6452e-05 - accuracy: 1.0000\n",
      "Epoch 6/10\n",
      "58432/58599 [============================>.] - ETA: 0s - loss: 1.6499e-05 - accuracy: 1.0000WARNING:tensorflow:Early stopping conditioned on metric `val_loss` which is not available. Available metrics are: loss,accuracy\n",
      "58599/58599 [==============================] - 18s 299us/sample - loss: 1.6452e-05 - accuracy: 1.0000\n",
      "Epoch 7/10\n",
      "58592/58599 [============================>.] - ETA: 0s - loss: 1.6454e-05 - accuracy: 1.0000 ETA: 1s -WARNING:tensorflow:Early stopping conditioned on metric `val_loss` which is not available. Available metrics are: loss,accuracy\n",
      "58599/58599 [==============================] - 18s 299us/sample - loss: 1.6452e-05 - accuracy: 1.0000\n",
      "Epoch 8/10\n",
      "58528/58599 [============================>.] - ETA: 0s - loss: 1.6472e-05 - accuracy: 1.0000WARNING:tensorflow:Early stopping conditioned on metric `val_loss` which is not available. Available metrics are: loss,accuracy\n",
      "58599/58599 [==============================] - 18s 299us/sample - loss: 1.6452e-05 - accuracy: 1.0000\n",
      "Epoch 9/10\n",
      "58496/58599 [============================>.] - ETA: 0s - loss: 1.6481e-05 - accuracy: 1.0000WARNING:tensorflow:Early stopping conditioned on metric `val_loss` which is not available. Available metrics are: loss,accuracy\n",
      "58599/58599 [==============================] - 16s 275us/sample - loss: 1.6452e-05 - accuracy: 1.0000\n",
      "Epoch 10/10\n",
      "58432/58599 [============================>.] - ETA: 0s - loss: 1.6499e-05 - accuracy: 1.0000WARNING:tensorflow:Early stopping conditioned on metric `val_loss` which is not available. Available metrics are: loss,accuracy\n",
      "58599/58599 [==============================] - 17s 298us/sample - loss: 1.6452e-05 - accuracy: 1.0000\n"
     ]
    },
    {
     "data": {
      "text/plain": [
       "<tensorflow.python.keras.callbacks.History at 0x187c4a64588>"
      ]
     },
     "execution_count": 13,
     "metadata": {},
     "output_type": "execute_result"
    },
    {
     "name": "stdout",
     "output_type": "stream",
     "text": [
      "accuracy_score 0.9999952004300414\n",
      "recall_score 0.9997131382673551\n",
      "precision_score 1.0\n",
      "f1_score 0.999856548558313\n",
      "Model: \"model_9\"\n",
      "_________________________________________________________________\n",
      "Layer (type)                 Output Shape              Param #   \n",
      "=================================================================\n",
      "input_1 (InputLayer)         [(None, 32, 256)]         0         \n",
      "_________________________________________________________________\n",
      "bidirectional (Bidirectional (None, 32, 96)            117120    \n",
      "_________________________________________________________________\n",
      "time_distributed (TimeDistri (None, 32, 1)             97        \n",
      "=================================================================\n",
      "Total params: 117,217\n",
      "Trainable params: 117,217\n",
      "Non-trainable params: 0\n",
      "_________________________________________________________________\n",
      "======Training stage======\n",
      "Train on 58599 samples\n",
      "Epoch 1/10\n",
      "58528/58599 [============================>.] - ETA: 0s - loss: 2.4708e-05 - accuracy: 1.0000WARNING:tensorflow:Early stopping conditioned on metric `val_loss` which is not available. Available metrics are: loss,accuracy\n",
      "58599/58599 [==============================] - 21s 354us/sample - loss: 2.4678e-05 - accuracy: 1.0000\n",
      "Epoch 2/10\n",
      "58464/58599 [============================>.] - ETA: 0s - loss: 2.4735e-05 - accuracy: 1.0000WARNING:tensorflow:Early stopping conditioned on metric `val_loss` which is not available. Available metrics are: loss,accuracy\n",
      "58599/58599 [==============================] - 20s 337us/sample - loss: 2.4678e-05 - accuracy: 1.0000\n",
      "Epoch 3/10\n",
      "58528/58599 [============================>.] - ETA: 0s - loss: 2.4708e-05 - accuracy: 1.0000WARNING:tensorflow:Early stopping conditioned on metric `val_loss` which is not available. Available metrics are: loss,accuracy\n",
      "58599/58599 [==============================] - 18s 311us/sample - loss: 2.4678e-05 - accuracy: 1.0000\n",
      "Epoch 4/10\n",
      "58464/58599 [============================>.] - ETA: 0s - loss: 2.4735e-05 - accuracy: 1.0000WARNING:tensorflow:Early stopping conditioned on metric `val_loss` which is not available. Available metrics are: loss,accuracy\n",
      "58599/58599 [==============================] - 18s 301us/sample - loss: 2.4678e-05 - accuracy: 1.0000\n",
      "Epoch 5/10\n",
      "58592/58599 [============================>.] - ETA: 0s - loss: 2.4681e-05 - accuracy: 1.0000WARNING:tensorflow:Early stopping conditioned on metric `val_loss` which is not available. Available metrics are: loss,accuracy\n",
      "58599/58599 [==============================] - 18s 300us/sample - loss: 2.4678e-05 - accuracy: 1.0000\n",
      "Epoch 6/10\n",
      "58592/58599 [============================>.] - ETA: 0s - loss: 2.4681e-05 - accuracy: 1.0000WARNING:tensorflow:Early stopping conditioned on metric `val_loss` which is not available. Available metrics are: loss,accuracy\n",
      "58599/58599 [==============================] - 18s 300us/sample - loss: 2.4678e-05 - accuracy: 1.0000\n",
      "Epoch 7/10\n",
      "58592/58599 [============================>.] - ETA: 0s - loss: 2.4681e-05 - accuracy: 1.0000WARNING:tensorflow:Early stopping conditioned on metric `val_loss` which is not available. Available metrics are: loss,accuracy\n",
      "58599/58599 [==============================] - 18s 301us/sample - loss: 2.4678e-05 - accuracy: 1.0000\n",
      "Epoch 8/10\n",
      "58432/58599 [============================>.] - ETA: 0s - loss: 2.4749e-05 - accuracy: 1.0000WARNING:tensorflow:Early stopping conditioned on metric `val_loss` which is not available. Available metrics are: loss,accuracy\n",
      "58599/58599 [==============================] - 17s 297us/sample - loss: 2.4678e-05 - accuracy: 1.0000\n",
      "Epoch 9/10\n",
      "58560/58599 [============================>.] - ETA: 0s - loss: 2.4694e-05 - accuracy: 1.0000WARNING:tensorflow:Early stopping conditioned on metric `val_loss` which is not available. Available metrics are: loss,accuracy\n",
      "58599/58599 [==============================] - 13s 227us/sample - loss: 2.4678e-05 - accuracy: 1.0000\n",
      "Epoch 10/10\n",
      "58368/58599 [============================>.] - ETA: 0s - loss: 2.4776e-05 - accuracy: 1.0000WARNING:tensorflow:Early stopping conditioned on metric `val_loss` which is not available. Available metrics are: loss,accuracy\n",
      "58599/58599 [==============================] - 14s 237us/sample - loss: 2.4678e-05 - accuracy: 1.0000\n"
     ]
    },
    {
     "data": {
      "text/plain": [
       "<tensorflow.python.keras.callbacks.History at 0x187c4e47dc8>"
      ]
     },
     "execution_count": 13,
     "metadata": {},
     "output_type": "execute_result"
    },
    {
     "name": "stdout",
     "output_type": "stream",
     "text": [
      "accuracy_score 1.0\n",
      "recall_score 1.0\n",
      "precision_score 1.0\n",
      "f1_score 1.0\n",
      "\n",
      "K-fold cross validation Accuracy: [0.9996544309629857, 0.9998416141913684, 0.9999280064506221, 0.9999568038703732, 1.0, 1.0, 1.0, 1.0, 0.9999952004300414, 1.0]\n",
      "\n",
      "K-fold cross validation Recall: [0.9937304075235109, 0.9940880874963051, 0.9961674528301887, 0.9985586624387431, 1.0, 1.0, 1.0, 1.0, 0.9997131382673551, 1.0]\n",
      "\n",
      "K-fold cross validation Precision: [0.9858637263217416, 0.996149289099526, 0.9994084590357882, 0.9988465974625144, 1.0, 1.0, 1.0, 1.0, 1.0, 1.0]\n",
      "\n",
      "K-fold cross validation F1-Score: [0.9897814362759012, 0.9951176209498447, 0.9977853240809095, 0.9987026091970592, 1.0, 1.0, 1.0, 1.0, 0.999856548558313, 1.0]\n"
     ]
    }
   ],
   "source": [
    "# 교차검증 kfold\n",
    "from sklearn.model_selection import KFold\n",
    "\n",
    "# Accuracy, Precision, Recall, F1-Score\n",
    "from sklearn.metrics import accuracy_score, recall_score, precision_score, f1_score\n",
    "\n",
    "# Confusion Matrix, ROC Curve\n",
    "from sklearn.metrics import confusion_matrix, roc_auc_score\n",
    "\n",
    "# 최종 평가지표들 평균용\n",
    "accuracy, recall, precision, f1score, cm = [], [], [], [], []\n",
    "\n",
    "# 11. 교차검증 kfold - k.split - 10회 / K-Fold 객체 생성\n",
    "# kf = KFold(n_splits=10, shuffle=False, random_state=None) # KFold non shuffle 버전\n",
    "kf = KFold(n_splits=10, shuffle=True, random_state=None) # KFold non shuffle 버전\n",
    "\n",
    "for train, validation in kf.split(x_bc6_1, y_bc6_1):\n",
    "    model1 = models.Model(xInput, xOutput)\n",
    "    model1.compile(loss='binary_crossentropy', optimizer='rmsprop', metrics=['accuracy'])\n",
    "    model1.summary()\n",
    "    print('======Training stage======')\n",
    "    model1.fit(x_bc6_1[train],\n",
    "               y_bc6_1[train],\n",
    "               epochs = 10,\n",
    "               batch_size = 32,\n",
    "               callbacks=[early_stopping])\n",
    "    #k_accuracy = '%.4f' %(model1.evaluate(data_10000x[validation], data_10000y[validation])[1])\n",
    "\n",
    "# 12. 교차검증결과 predict - 검증셋들\n",
    "    # predict 값\n",
    "    k_pr = model1.predict(x_bc6_1[validation])\n",
    "    \n",
    "    # 테스트 predict 결과들 비교 (평가지표 보기위함)\n",
    "    pred = np.round(np.array(k_pr).flatten().tolist())\n",
    "    y_test = np.array(y_bc6_1[validation]).flatten().tolist()\n",
    "    \n",
    "# 13. 평가지표들 출력\n",
    "    ## 평가지표들\n",
    "    k_accuracy = float(accuracy_score(y_test, pred))\n",
    "    k_recall =  float(recall_score(y_test, pred))\n",
    "    k_precision = float(precision_score(y_test, pred))\n",
    "    k_f1_score = float(f1_score(y_test, pred))\n",
    "    #k_cm = float(confusion_matrix(y_test, pred))\n",
    "    \n",
    "    print('accuracy_score', k_accuracy)\n",
    "    print('recall_score', k_recall)\n",
    "    print('precision_score', k_precision)\n",
    "    print('f1_score', k_f1_score)\n",
    "    #print('\\nconfusion_matrix\\n', k_cm)\n",
    "\n",
    "    accuracy.append(k_accuracy)\n",
    "    recall.append(k_recall)\n",
    "    precision.append(k_precision)\n",
    "    f1score.append(k_f1_score)\n",
    "    #cm.append(k_cm)\n",
    "#    print('roc_curve 면적', roc_auc_score(y_test, pred))\n",
    "\n",
    "# 최종 결과지표\n",
    "print('\\nK-fold cross validation Accuracy: {}'.format(accuracy))\n",
    "print('\\nK-fold cross validation Recall: {}'.format(recall))\n",
    "print('\\nK-fold cross validation Precision: {}'.format(precision))\n",
    "print('\\nK-fold cross validation F1-Score: {}'.format(f1score))\n",
    "#print('\\nK-fold cross validation ConfusionMatrix: {}'.format(cm))"
   ]
  },
  {
   "cell_type": "markdown",
   "metadata": {},
   "source": [
    "## (9) 평가지표"
   ]
  },
  {
   "cell_type": "code",
   "execution_count": 14,
   "metadata": {},
   "outputs": [
    {
     "name": "stdout",
     "output_type": "stream",
     "text": [
      "10-Fold Cross_validation. Accuracy : 0.999937605590539\n",
      "10-Fold Cross_validation. Recall : 0.9982257748556103\n",
      "10-Fold Cross_validation. Precision : 0.9980268071919571\n",
      "10-Fold Cross_validation. F1-Score : 0.9981243539062028\n"
     ]
    }
   ],
   "source": [
    "print('10-Fold Cross_validation. Accuracy :', np.mean(accuracy))\n",
    "print('10-Fold Cross_validation. Recall :', np.mean(recall))\n",
    "print('10-Fold Cross_validation. Precision :', np.mean(precision))\n",
    "print('10-Fold Cross_validation. F1-Score :', np.mean(f1score))"
   ]
  }
 ],
 "metadata": {
  "kernelspec": {
   "display_name": "Python 3",
   "language": "python",
   "name": "python3"
  },
  "language_info": {
   "codemirror_mode": {
    "name": "ipython",
    "version": 3
   },
   "file_extension": ".py",
   "mimetype": "text/x-python",
   "name": "python",
   "nbconvert_exporter": "python",
   "pygments_lexer": "ipython3",
   "version": "3.7.7"
  }
 },
 "nbformat": 4,
 "nbformat_minor": 4
}
