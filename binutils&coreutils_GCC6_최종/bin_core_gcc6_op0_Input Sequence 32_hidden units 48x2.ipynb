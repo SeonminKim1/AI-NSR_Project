{
 "cells": [
  {
   "cell_type": "markdown",
   "metadata": {},
   "source": [
    "## RNN 모델 N-Byte 방식 (함수정보 포함 vs 미포함 => 1:1 비율)\n",
    "\n",
    "## (1) 데이터로드"
   ]
  },
  {
   "cell_type": "code",
   "execution_count": 1,
   "metadata": {},
   "outputs": [
    {
     "name": "stdout",
     "output_type": "stream",
     "text": [
      "(13784128, 2) (4113302, 2)\n",
      "reset_index 완료\n",
      "input data shape\n"
     ]
    },
    {
     "data": {
      "text/html": [
       "<div>\n",
       "<style scoped>\n",
       "    .dataframe tbody tr th:only-of-type {\n",
       "        vertical-align: middle;\n",
       "    }\n",
       "\n",
       "    .dataframe tbody tr th {\n",
       "        vertical-align: top;\n",
       "    }\n",
       "\n",
       "    .dataframe thead th {\n",
       "        text-align: right;\n",
       "    }\n",
       "</style>\n",
       "<table border=\"1\" class=\"dataframe\">\n",
       "  <thead>\n",
       "    <tr style=\"text-align: right;\">\n",
       "      <th></th>\n",
       "      <th>bin</th>\n",
       "      <th>label</th>\n",
       "    </tr>\n",
       "  </thead>\n",
       "  <tbody>\n",
       "    <tr>\n",
       "      <th>0</th>\n",
       "      <td>85.0</td>\n",
       "      <td>1</td>\n",
       "    </tr>\n",
       "    <tr>\n",
       "      <th>1</th>\n",
       "      <td>137.0</td>\n",
       "      <td>0</td>\n",
       "    </tr>\n",
       "    <tr>\n",
       "      <th>2</th>\n",
       "      <td>229.0</td>\n",
       "      <td>0</td>\n",
       "    </tr>\n",
       "    <tr>\n",
       "      <th>3</th>\n",
       "      <td>86.0</td>\n",
       "      <td>0</td>\n",
       "    </tr>\n",
       "    <tr>\n",
       "      <th>4</th>\n",
       "      <td>83.0</td>\n",
       "      <td>0</td>\n",
       "    </tr>\n",
       "  </tbody>\n",
       "</table>\n",
       "</div>"
      ],
      "text/plain": [
       "     bin  label\n",
       "0   85.0      1\n",
       "1  137.0      0\n",
       "2  229.0      0\n",
       "3   86.0      0\n",
       "4   83.0      0"
      ]
     },
     "execution_count": 1,
     "metadata": {},
     "output_type": "execute_result"
    }
   ],
   "source": [
    "# (1) 데이터로드\n",
    "import pandas as pd\n",
    "import numpy as np\n",
    "\n",
    "import warnings\n",
    "warnings.filterwarnings(action='ignore')\n",
    "\n",
    "# 여러개 쳐도 나오게\n",
    "from IPython.core.interactiveshell import InteractiveShell\n",
    "InteractiveShell.ast_node_interactivity = \"all\"\n",
    "\n",
    "# 파일읽기\n",
    "bin6_0 = pd.read_csv(\"data/\"+'gcc6'+\"_0_.csv\", index_col=0)\n",
    "core6_0 = pd.read_csv(\"data/\"+\"core_gcc6_0_.csv\", index_col=0)\n",
    "\n",
    "# 형태 출력\n",
    "print(bin6_0.shape, core6_0.shape)\n",
    "\n",
    "# reset_index (hex processing 하면서 값이 빠졌으니까 + n_gram 에서 index를 다루기 때문에)\n",
    "bin6_0.reset_index(inplace=True, drop=True)\n",
    "core6_0.reset_index(inplace=True, drop=True)\n",
    "\n",
    "print('reset_index 완료')\n",
    "print('input data shape')\n",
    "bin6_0.head()\n",
    "core6_0.head()"
   ]
  },
  {
   "cell_type": "code",
   "execution_count": 2,
   "metadata": {},
   "outputs": [
    {
     "name": "stdout",
     "output_type": "stream",
     "text": [
      "256\n",
      "256\n",
      "0    13750881\n",
      "1       33247\n",
      "Name: label, dtype: int64\n",
      "0    4096245\n",
      "1      17057\n",
      "Name: label, dtype: int64\n"
     ]
    }
   ],
   "source": [
    "# (2-1) 데이터체크 1 - hex(16진수)가 256 label을 가져야 dummies 변환 가능 \n",
    "# 16진수 256개 종류가 있어서 pd.get_dummies 사용 가능.\n",
    "print(len(bin6_0['bin'].unique()))\n",
    "print(len(core6_0['bin'].unique()))\n",
    "\n",
    "# (2-2) 데이터 체크 2 - 1, 0 비율 ==> 1이 함수의 갯수를 뜻함\n",
    "# 정답 데이터 1, 0 비율 확인  ==> 1이 함수의 갯수를 뜻함\n",
    "print(bin6_0['label'].value_counts())\n",
    "print(core6_0['label'].value_counts())"
   ]
  },
  {
   "cell_type": "markdown",
   "metadata": {},
   "source": [
    "## (3) N Byte씩 자르기"
   ]
  },
  {
   "cell_type": "code",
   "execution_count": 3,
   "metadata": {},
   "outputs": [
    {
     "name": "stdout",
     "output_type": "stream",
     "text": [
      "1063904 545824\n",
      "나머지 0 0\n",
      "최종 길이 1063904 545824\n",
      "bin6_0 1063904 545824\n"
     ]
    }
   ],
   "source": [
    "idx_bin = bin6_0[bin6_0['label']==1].index  # 407, 474 ...\n",
    "idx_core = core6_0[core6_0['label']==1].index  # 407, 474 ...\n",
    "\n",
    "ls_bin = list(idx_bin)\n",
    "ls_core = list(idx_core)\n",
    "\n",
    "# 최종 뽑을 행에 대한 index\n",
    "ls_idx_bin, ls_idx_core = [], [] \n",
    "\n",
    "# n byte 자르기 방식\n",
    "left_idx, right_idx = 0, 32 # 3개씩\n",
    "\n",
    "# n byte 자르기\n",
    "for k in range(left_idx, right_idx):\n",
    "    ls_idx_bin.extend(list(idx_bin + k)) # index 형이라서 가능\n",
    "    ls_idx_core.extend(list(idx_core + k))\n",
    "\n",
    "#ls_idx = list(set(ls_idx)) \n",
    "ls_idx_bin.sort() # 인덱스 정렬\n",
    "ls_idx_core.sort() # 인덱스 정렬\n",
    "\n",
    "\n",
    "# 1차 index 해당범위 초과한 것들 없애기\n",
    "ls_idx_bin = list(filter(lambda x: x<len(bin6_0), ls_idx_bin))\n",
    "ls_idx_core = list(filter(lambda x: x<len(core6_0), ls_idx_core))\n",
    "print(len(ls_idx_bin), len(ls_idx_core))\n",
    "\n",
    "# 2차 남은 index들 중 right_idx 나눈 나머지 없애기\n",
    "sub_bin = len(ls_idx_bin)%(right_idx)\n",
    "sub_core = len(ls_idx_core)%(right_idx)\n",
    "print('나머지', sub_bin, sub_core)\n",
    "\n",
    "ls_idx_bin = ls_idx_bin[:len(ls_idx_bin)-sub_bin]\n",
    "ls_idx_core = ls_idx_core[:len(ls_idx_core)-sub_core]\n",
    "print('최종 길이', len(ls_idx_bin), len(ls_idx_core))\n",
    "\n",
    "print('bin6_0', len(ls_idx_bin), len(ls_idx_core))\n",
    "\n",
    "# loc 로 수정필요\n",
    "bin6_0_Ngram = bin6_0.loc[ls_idx_bin,:].copy()\n",
    "core6_0_Ngram = core6_0.loc[ls_idx_core,:].copy()"
   ]
  },
  {
   "cell_type": "markdown",
   "metadata": {},
   "source": [
    "## (4) false data 만들기"
   ]
  },
  {
   "cell_type": "code",
   "execution_count": 4,
   "metadata": {},
   "outputs": [
    {
     "name": "stdout",
     "output_type": "stream",
     "text": [
      "33247.0 17057.0\n",
      "0 4269999 571779\n",
      "1000 8759947 3333806\n",
      "2000 4284171 457596\n",
      "3000 10456316 1523758\n",
      "4000 678545 3434275\n",
      "5000 8928510 753457\n",
      "6000 8736443 1944455\n",
      "7000 9892945 1998893\n",
      "8000 7203964 1962512\n",
      "9000 10932068 3104786\n",
      "10000 7726791 651369\n",
      "11000 3466775 3940832\n",
      "12000 11945541 1598963\n",
      "13000 2128526 3442720\n",
      "14000 2569494 1607437\n",
      "15000 1948599 2730703\n",
      "16000 4049658 3109064\n",
      "17000 2555967 1295587\n",
      "18000 12479257 3448192\n",
      "19000 558080 47049\n",
      "20000 468709 1625668\n",
      "21000 8018770 822066\n",
      "22000 4774959 604980\n",
      "23000 192007 1060515\n",
      "24000 11131805 3182900\n",
      "25000 5903345 1812188\n",
      "26000 8573447 869242\n",
      "27000 13065865 1578585\n",
      "28000 8224843 2598263\n",
      "29000 6150530 1146188\n",
      "30000 13713664 4066413\n",
      "31000 5285754 565012\n",
      "32000 11836513 426313\n",
      "33000 3364745 1777812\n",
      "완료\n",
      "33247 17057\n"
     ]
    }
   ],
   "source": [
    "# false data 만들기 - False 데이터 랜덤 생성\n",
    "\n",
    "# 목표치\n",
    "goal_bin = len(bin6_0_Ngram)/right_idx\n",
    "count_bin = 0\n",
    "\n",
    "goal_core = len(core6_0_Ngram)/right_idx\n",
    "count_core = 0\n",
    "\n",
    "print(goal_bin, goal_core)\n",
    "\n",
    "# 최종 데이터 Frame\n",
    "d_bin = pd.DataFrame(columns = bin6_0.columns)\n",
    "d_core = pd.DataFrame(columns = core6_0.columns)\n",
    "\n",
    "binutils_df, coreutils_df = [], []\n",
    "# goal 에 도달할 때까지\n",
    "while True:\n",
    "    if (count_bin == goal_bin) and (count_core == goal_core):\n",
    "            break\n",
    "    # 진행상황 살펴보기 위함\n",
    "            \n",
    "    # 랜덤 N 바이트씩 뽑음\n",
    "    # random index\n",
    "    random_idx_bin = np.random.randint(len(bin6_0)-right_idx)\n",
    "    random_idx_core = np.random.randint(len(core6_0)-right_idx)\n",
    "\n",
    "    if count_bin % 1000==0:\n",
    "        print(count_bin, end=' ')\n",
    "        print(random_idx_bin, random_idx_core)\n",
    "\n",
    "    df_bin = bin6_0[random_idx_bin : random_idx_bin + right_idx]\n",
    "    df_core = core6_0[random_idx_core : random_idx_core + right_idx]\n",
    "    \n",
    "    # 뽑은 index의 N 바이트 중에 1이 없는 경우만\n",
    "    if 1 not in df_bin['label'] and count_bin < goal_bin:\n",
    "        binutils_df.append(df_bin)\n",
    "        count_bin+=1\n",
    "        \n",
    "    if (1 not in df_core['label']) and count_core <goal_core:\n",
    "        coreutils_df.append(df_core)\n",
    "        count_core+=1\n",
    "\n",
    "print('완료')\n",
    "print(len(binutils_df), len(coreutils_df))"
   ]
  },
  {
   "cell_type": "code",
   "execution_count": 5,
   "metadata": {},
   "outputs": [
    {
     "name": "stdout",
     "output_type": "stream",
     "text": [
      "50304\n",
      "50304\n"
     ]
    }
   ],
   "source": [
    "# True data와 False Data 같은지 체크\n",
    "print(len(binutils_df) + len(coreutils_df))\n",
    "print(bin6_0['label'].value_counts()[1] + core6_0['label'].value_counts()[1])"
   ]
  },
  {
   "cell_type": "code",
   "execution_count": 6,
   "metadata": {},
   "outputs": [
    {
     "data": {
      "text/plain": [
       "(1609728, 2)"
      ]
     },
     "execution_count": 6,
     "metadata": {},
     "output_type": "execute_result"
    }
   ],
   "source": [
    "f_bin_data = pd.concat(binutils_df)\n",
    "f_core_data = pd.concat(coreutils_df)\n",
    "f_data = pd.concat([f_bin_data, f_core_data], axis=0)\n",
    "f_data.shape"
   ]
  },
  {
   "cell_type": "markdown",
   "metadata": {},
   "source": [
    "## (5) False Data + True Data 합치기"
   ]
  },
  {
   "cell_type": "code",
   "execution_count": 7,
   "metadata": {},
   "outputs": [
    {
     "data": {
      "text/plain": [
       "(2673632, 2)"
      ]
     },
     "execution_count": 7,
     "metadata": {},
     "output_type": "execute_result"
    }
   ],
   "source": [
    "final = pd.concat([f_data, bin6_0_Ngram])\n",
    "final.shape"
   ]
  },
  {
   "cell_type": "markdown",
   "metadata": {},
   "source": [
    "## (6) one hot encoding"
   ]
  },
  {
   "cell_type": "code",
   "execution_count": 8,
   "metadata": {},
   "outputs": [
    {
     "name": "stdout",
     "output_type": "stream",
     "text": [
      "원핫인코딩완료\n",
      "(2673632, 257)\n"
     ]
    }
   ],
   "source": [
    "# 훈련데이터 (gcc 최적화버전 0, 1, 2, 3 one hot encoding)\n",
    "bc6_0_onehot_Ngram = pd.get_dummies(final['bin'])\n",
    "bc6_0_onehot_Ngram = pd.concat([final['label'], bc6_0_onehot_Ngram], axis=1)\n",
    "\n",
    "print('원핫인코딩완료')\n",
    "print(bc6_0_onehot_Ngram.shape)"
   ]
  },
  {
   "cell_type": "code",
   "execution_count": 9,
   "metadata": {},
   "outputs": [
    {
     "name": "stdout",
     "output_type": "stream",
     "text": [
      "(2673632, 256) (2673632, 256)\n",
      "(83551, 32, 256) (83551, 32, 1)\n"
     ]
    }
   ],
   "source": [
    "# 훈련 데이터, 훈련 라벨\n",
    "x_bc6_0 = bc6_0_onehot_Ngram.iloc[:,1:].to_numpy()\n",
    "y_bc6_0 = bc6_0_onehot_Ngram['label'].to_numpy()\n",
    "print(x_bc6_0.shape, x_bc6_0.shape)\n",
    "\n",
    "x_bc6_0 = x_bc6_0.reshape(-1, right_idx, x_bc6_0.shape[1])\n",
    "y_bc6_0 = y_bc6_0.reshape(-1, right_idx, 1)\n",
    "\n",
    "print(x_bc6_0.shape, y_bc6_0.shape)"
   ]
  },
  {
   "cell_type": "code",
   "execution_count": 10,
   "metadata": {},
   "outputs": [
    {
     "name": "stdout",
     "output_type": "stream",
     "text": [
      "(83551, 32, 256) (83551, 32, 1)\n"
     ]
    }
   ],
   "source": [
    "# numpy 행, 열 섞기\n",
    "p = np.random.permutation(x_bc6_0.shape[0])\n",
    "\n",
    "x_bc6_0 = x_bc6_0[p]\n",
    "y_bc6_0 = y_bc6_0[p]\n",
    "\n",
    "print(x_bc6_0.shape, y_bc6_0.shape)"
   ]
  },
  {
   "cell_type": "markdown",
   "metadata": {},
   "source": [
    "## (7) 모델"
   ]
  },
  {
   "cell_type": "code",
   "execution_count": 11,
   "metadata": {},
   "outputs": [],
   "source": [
    "# (10) 양방향 LSTM 모델링 작업\n",
    "from tensorflow.keras import layers, models\n",
    "#from tf.keras.models import Model, Sequential\n",
    "#from tf.keras.layers import SimpleRNN, Input, Dense, LSTM\n",
    "#from tf.keras.layers import Bidirectional, TimeDistributed\n",
    "\n",
    "# 학습\n",
    "from tensorflow.keras.callbacks import EarlyStopping\n",
    "early_stopping = EarlyStopping(patience = 3) # 조기종료 콜백함수 정의\n",
    "\n",
    "xInput = layers.Input(batch_shape=(None,right_idx, 256)) \n",
    "xBiLstm = layers.Bidirectional(layers.LSTM(48, return_sequences=True), merge_mode = 'concat')(xInput)\n",
    "xOutput = layers.TimeDistributed(layers.Dense(1, activation ='sigmoid'))(xBiLstm) # 각 스텝에서 cost가 전송되고, 오류가 다음 step으로 전송됨."
   ]
  },
  {
   "cell_type": "markdown",
   "metadata": {},
   "source": [
    "## (8) 학습 - 10 KFold"
   ]
  },
  {
   "cell_type": "code",
   "execution_count": 12,
   "metadata": {
    "scrolled": false
   },
   "outputs": [
    {
     "name": "stdout",
     "output_type": "stream",
     "text": [
      "Model: \"model\"\n",
      "_________________________________________________________________\n",
      "Layer (type)                 Output Shape              Param #   \n",
      "=================================================================\n",
      "input_1 (InputLayer)         [(None, 32, 256)]         0         \n",
      "_________________________________________________________________\n",
      "bidirectional (Bidirectional (None, 32, 96)            117120    \n",
      "_________________________________________________________________\n",
      "time_distributed (TimeDistri (None, 32, 1)             97        \n",
      "=================================================================\n",
      "Total params: 117,217\n",
      "Trainable params: 117,217\n",
      "Non-trainable params: 0\n",
      "_________________________________________________________________\n",
      "======Training stage======\n",
      "Train on 75195 samples\n",
      "Epoch 1/10\n",
      "74976/75195 [============================>.] - ETA: 0s - loss: 0.0057 - accuracy: 0.9988WARNING:tensorflow:Early stopping conditioned on metric `val_loss` which is not available. Available metrics are: loss,accuracy\n",
      "75195/75195 [==============================] - 22s 294us/sample - loss: 0.0057 - accuracy: 0.9988\n",
      "Epoch 2/10\n",
      "75008/75195 [============================>.] - ETA: 0s - loss: 8.3516e-05 - accuracy: 1.0000WARNING:tensorflow:Early stopping conditioned on metric `val_loss` which is not available. Available metrics are: loss,accuracy\n",
      "75195/75195 [==============================] - 17s 225us/sample - loss: 8.3323e-05 - accuracy: 1.0000\n",
      "Epoch 3/10\n",
      "74976/75195 [============================>.] - ETA: 0s - loss: 5.0290e-05 - accuracy: 1.0000WARNING:tensorflow:Early stopping conditioned on metric `val_loss` which is not available. Available metrics are: loss,accuracy\n",
      "75195/75195 [==============================] - 16s 218us/sample - loss: 5.0346e-05 - accuracy: 1.0000\n",
      "Epoch 4/10\n",
      "75168/75195 [============================>.] - ETA: 0s - loss: 4.0781e-05 - accuracy: 1.0000WARNING:tensorflow:Early stopping conditioned on metric `val_loss` which is not available. Available metrics are: loss,accuracy\n",
      "75195/75195 [==============================] - 16s 218us/sample - loss: 4.0767e-05 - accuracy: 1.0000\n",
      "Epoch 5/10\n",
      "75040/75195 [============================>.] - ETA: 0s - loss: 2.3300e-05 - accuracy: 1.0000WARNING:tensorflow:Early stopping conditioned on metric `val_loss` which is not available. Available metrics are: loss,accuracy\n",
      "75195/75195 [==============================] - 16s 216us/sample - loss: 2.3252e-05 - accuracy: 1.0000\n",
      "Epoch 6/10\n",
      "75008/75195 [============================>.] - ETA: 0s - loss: 2.1069e-05 - accuracy: 1.0000WARNING:tensorflow:Early stopping conditioned on metric `val_loss` which is not available. Available metrics are: loss,accuracy\n",
      "75195/75195 [==============================] - 16s 215us/sample - loss: 2.1016e-05 - accuracy: 1.0000\n",
      "Epoch 7/10\n",
      "75040/75195 [============================>.] - ETA: 0s - loss: 1.2011e-05 - accuracy: 1.0000WARNING:tensorflow:Early stopping conditioned on metric `val_loss` which is not available. Available metrics are: loss,accuracy\n",
      "75195/75195 [==============================] - 16s 216us/sample - loss: 1.1987e-05 - accuracy: 1.0000\n",
      "Epoch 8/10\n",
      "74944/75195 [============================>.] - ETA: 0s - loss: 7.8643e-06 - accuracy: 1.0000WARNING:tensorflow:Early stopping conditioned on metric `val_loss` which is not available. Available metrics are: loss,accuracy\n",
      "75195/75195 [==============================] - 16s 216us/sample - loss: 9.5224e-06 - accuracy: 1.0000\n",
      "Epoch 9/10\n",
      "75168/75195 [============================>.] - ETA: 0s - loss: 6.3654e-06 - accuracy: 1.0000WARNING:tensorflow:Early stopping conditioned on metric `val_loss` which is not available. Available metrics are: loss,accuracy\n",
      "75195/75195 [==============================] - 16s 216us/sample - loss: 6.3631e-06 - accuracy: 1.0000\n",
      "Epoch 10/10\n",
      "75008/75195 [============================>.] - ETA: 0s - loss: 4.6124e-06 - accuracy: 1.0000WARNING:tensorflow:Early stopping conditioned on metric `val_loss` which is not available. Available metrics are: loss,accuracy\n",
      "75195/75195 [==============================] - 16s 216us/sample - loss: 4.6010e-06 - accuracy: 1.0000\n"
     ]
    },
    {
     "data": {
      "text/plain": [
       "<tensorflow.python.keras.callbacks.History at 0x1f231773488>"
      ]
     },
     "execution_count": 12,
     "metadata": {},
     "output_type": "execute_result"
    },
    {
     "name": "stdout",
     "output_type": "stream",
     "text": [
      "accuracy_score 1.0\n",
      "recall_score 1.0\n",
      "precision_score 1.0\n",
      "f1_score 1.0\n",
      "Model: \"model_1\"\n",
      "_________________________________________________________________\n",
      "Layer (type)                 Output Shape              Param #   \n",
      "=================================================================\n",
      "input_1 (InputLayer)         [(None, 32, 256)]         0         \n",
      "_________________________________________________________________\n",
      "bidirectional (Bidirectional (None, 32, 96)            117120    \n",
      "_________________________________________________________________\n",
      "time_distributed (TimeDistri (None, 32, 1)             97        \n",
      "=================================================================\n",
      "Total params: 117,217\n",
      "Trainable params: 117,217\n",
      "Non-trainable params: 0\n",
      "_________________________________________________________________\n",
      "======Training stage======\n",
      "Train on 75196 samples\n",
      "Epoch 1/10\n",
      "75040/75196 [============================>.] - ETA: 0s - loss: 1.4054e-06 - accuracy: 1.0000WARNING:tensorflow:Early stopping conditioned on metric `val_loss` which is not available. Available metrics are: loss,accuracy\n",
      "75196/75196 [==============================] - 19s 257us/sample - loss: 1.4025e-06 - accuracy: 1.0000\n",
      "Epoch 2/10\n",
      "74976/75196 [============================>.] - ETA: 0s - loss: 6.3164e-06 - accuracy: 1.0000WARNING:tensorflow:Early stopping conditioned on metric `val_loss` which is not available. Available metrics are: loss,accuracy\n",
      "75196/75196 [==============================] - 16s 217us/sample - loss: 6.2980e-06 - accuracy: 1.0000\n",
      "Epoch 3/10\n",
      "75072/75196 [============================>.] - ETA: 0s - loss: 9.1923e-07 - accuracy: 1.0000WARNING:tensorflow:Early stopping conditioned on metric `val_loss` which is not available. Available metrics are: loss,accuracy\n",
      "75196/75196 [==============================] - 16s 217us/sample - loss: 9.1771e-07 - accuracy: 1.0000\n",
      "Epoch 4/10\n",
      "75104/75196 [============================>.] - ETA: 0s - loss: 8.9705e-08 - accuracy: 1.0000WARNING:tensorflow:Early stopping conditioned on metric `val_loss` which is not available. Available metrics are: loss,accuracy\n",
      "75196/75196 [==============================] - 16s 217us/sample - loss: 8.9596e-08 - accuracy: 1.0000\n",
      "Epoch 5/10\n",
      "74944/75196 [============================>.] - ETA: 0s - loss: 3.0938e-07 - accuracy: 1.0000WARNING:tensorflow:Early stopping conditioned on metric `val_loss` which is not available. Available metrics are: loss,accuracy\n",
      "75196/75196 [==============================] - 16s 217us/sample - loss: 3.0834e-07 - accuracy: 1.0000\n",
      "Epoch 6/10\n",
      "75168/75196 [============================>.] - ETA: 0s - loss: 3.3960e-07 - accuracy: 1.0000WARNING:tensorflow:Early stopping conditioned on metric `val_loss` which is not available. Available metrics are: loss,accuracy\n",
      "75196/75196 [==============================] - 16s 217us/sample - loss: 3.3947e-07 - accuracy: 1.0000\n",
      "Epoch 7/10\n",
      "75072/75196 [============================>.] - ETA: 0s - loss: 4.5354e-08 - accuracy: 1.0000WARNING:tensorflow:Early stopping conditioned on metric `val_loss` which is not available. Available metrics are: loss,accuracy\n",
      "75196/75196 [==============================] - 16s 216us/sample - loss: 4.5281e-08 - accuracy: 1.0000\n",
      "Epoch 8/10\n",
      "75168/75196 [============================>.] - ETA: 0s - loss: 2.8254e-08 - accuracy: 1.0000WARNING:tensorflow:Early stopping conditioned on metric `val_loss` which is not available. Available metrics are: loss,accuracy\n",
      "75196/75196 [==============================] - 16s 216us/sample - loss: 2.8244e-08 - accuracy: 1.0000\n",
      "Epoch 9/10\n",
      "75072/75196 [============================>.] - ETA: 0s - loss: 6.9801e-09 - accuracy: 1.0000WARNING:tensorflow:Early stopping conditioned on metric `val_loss` which is not available. Available metrics are: loss,accuracy\n",
      "75196/75196 [==============================] - 16s 217us/sample - loss: 6.9709e-09 - accuracy: 1.0000\n",
      "Epoch 10/10\n",
      "74944/75196 [============================>.] - ETA: 0s - loss: 6.1221e-09 - accuracy: 1.0000WARNING:tensorflow:Early stopping conditioned on metric `val_loss` which is not available. Available metrics are: loss,accuracy\n",
      "75196/75196 [==============================] - 16s 216us/sample - loss: 6.1042e-09 - accuracy: 1.0000\n"
     ]
    },
    {
     "data": {
      "text/plain": [
       "<tensorflow.python.keras.callbacks.History at 0x1f24fb4a1c8>"
      ]
     },
     "execution_count": 12,
     "metadata": {},
     "output_type": "execute_result"
    },
    {
     "name": "stdout",
     "output_type": "stream",
     "text": [
      "accuracy_score 1.0\n",
      "recall_score 1.0\n",
      "precision_score 1.0\n",
      "f1_score 1.0\n",
      "Model: \"model_2\"\n",
      "_________________________________________________________________\n",
      "Layer (type)                 Output Shape              Param #   \n",
      "=================================================================\n",
      "input_1 (InputLayer)         [(None, 32, 256)]         0         \n",
      "_________________________________________________________________\n",
      "bidirectional (Bidirectional (None, 32, 96)            117120    \n",
      "_________________________________________________________________\n",
      "time_distributed (TimeDistri (None, 32, 1)             97        \n",
      "=================================================================\n",
      "Total params: 117,217\n",
      "Trainable params: 117,217\n",
      "Non-trainable params: 0\n",
      "_________________________________________________________________\n",
      "======Training stage======\n",
      "Train on 75196 samples\n",
      "Epoch 1/10\n",
      "75072/75196 [============================>.] - ETA: 0s - loss: 5.1006e-09 - accuracy: 1.0000WARNING:tensorflow:Early stopping conditioned on metric `val_loss` which is not available. Available metrics are: loss,accuracy\n",
      "75196/75196 [==============================] - 19s 253us/sample - loss: 5.0969e-09 - accuracy: 1.0000\n",
      "Epoch 2/10\n",
      "75008/75196 [============================>.] - ETA: 0s - loss: 3.0493e-09 - accuracy: 1.0000WARNING:tensorflow:Early stopping conditioned on metric `val_loss` which is not available. Available metrics are: loss,accuracy\n",
      "75196/75196 [==============================] - 16s 219us/sample - loss: 3.0420e-09 - accuracy: 1.0000\n",
      "Epoch 3/10\n",
      "75168/75196 [============================>.] - ETA: 0s - loss: 2.8295e-09 - accuracy: 1.0000WARNING:tensorflow:Early stopping conditioned on metric `val_loss` which is not available. Available metrics are: loss,accuracy\n",
      "75196/75196 [==============================] - 16s 219us/sample - loss: 2.8284e-09 - accuracy: 1.0000\n",
      "Epoch 4/10\n",
      "75168/75196 [============================>.] - ETA: 0s - loss: 1.9102e-09 - accuracy: 1.0000WARNING:tensorflow:Early stopping conditioned on metric `val_loss` which is not available. Available metrics are: loss,accuracy\n",
      "75196/75196 [==============================] - 17s 221us/sample - loss: 1.9095e-09 - accuracy: 1.0000\n",
      "Epoch 5/10\n",
      "74944/75196 [============================>.] - ETA: 0s - loss: 1.1589e-09 - accuracy: 1.0000WARNING:tensorflow:Early stopping conditioned on metric `val_loss` which is not available. Available metrics are: loss,accuracy\n",
      "75196/75196 [==============================] - 16s 218us/sample - loss: 1.1590e-09 - accuracy: 1.0000\n",
      "Epoch 6/10\n",
      "75040/75196 [============================>.] - ETA: 0s - loss: 1.4426e-09 - accuracy: 1.0000WARNING:tensorflow:Early stopping conditioned on metric `val_loss` which is not available. Available metrics are: loss,accuracy\n",
      "75196/75196 [==============================] - 16s 219us/sample - loss: 1.4400e-09 - accuracy: 1.0000\n",
      "Epoch 7/10\n",
      "75040/75196 [============================>.] - ETA: 0s - loss: 1.2427e-09 - accuracy: 1.0000WARNING:tensorflow:Early stopping conditioned on metric `val_loss` which is not available. Available metrics are: loss,accuracy\n",
      "75196/75196 [==============================] - 16s 219us/sample - loss: 1.2404e-09 - accuracy: 1.0000\n",
      "Epoch 8/10\n",
      "74944/75196 [============================>.] - ETA: 0s - loss: 1.9421e-09 - accuracy: 1.0000WARNING:tensorflow:Early stopping conditioned on metric `val_loss` which is not available. Available metrics are: loss,accuracy\n",
      "75196/75196 [==============================] - 16s 219us/sample - loss: 1.9363e-09 - accuracy: 1.0000\n",
      "Epoch 9/10\n",
      "74944/75196 [============================>.] - ETA: 0s - loss: 1.2458e-09 - accuracy: 1.0000WARNING:tensorflow:Early stopping conditioned on metric `val_loss` which is not available. Available metrics are: loss,accuracy\n",
      "75196/75196 [==============================] - 16s 219us/sample - loss: 1.2447e-09 - accuracy: 1.0000\n",
      "Epoch 10/10\n",
      "75072/75196 [============================>.] - ETA: 0s - loss: 1.3708e-09 - accuracy: 1.0000WARNING:tensorflow:Early stopping conditioned on metric `val_loss` which is not available. Available metrics are: loss,accuracy\n",
      "75196/75196 [==============================] - 16s 219us/sample - loss: 1.3685e-09 - accuracy: 1.0000\n"
     ]
    },
    {
     "data": {
      "text/plain": [
       "<tensorflow.python.keras.callbacks.History at 0x1f4672a0d88>"
      ]
     },
     "execution_count": 12,
     "metadata": {},
     "output_type": "execute_result"
    },
    {
     "name": "stdout",
     "output_type": "stream",
     "text": [
      "accuracy_score 1.0\n",
      "recall_score 1.0\n",
      "precision_score 1.0\n",
      "f1_score 1.0\n",
      "Model: \"model_3\"\n",
      "_________________________________________________________________\n",
      "Layer (type)                 Output Shape              Param #   \n",
      "=================================================================\n",
      "input_1 (InputLayer)         [(None, 32, 256)]         0         \n",
      "_________________________________________________________________\n",
      "bidirectional (Bidirectional (None, 32, 96)            117120    \n",
      "_________________________________________________________________\n",
      "time_distributed (TimeDistri (None, 32, 1)             97        \n",
      "=================================================================\n",
      "Total params: 117,217\n",
      "Trainable params: 117,217\n",
      "Non-trainable params: 0\n",
      "_________________________________________________________________\n",
      "======Training stage======\n",
      "Train on 75196 samples\n",
      "Epoch 1/10\n",
      "75104/75196 [============================>.] - ETA: 0s - loss: 9.1639e-10 - accuracy: 1.0000WARNING:tensorflow:Early stopping conditioned on metric `val_loss` which is not available. Available metrics are: loss,accuracy\n",
      "75196/75196 [==============================] - 20s 266us/sample - loss: 9.1537e-10 - accuracy: 1.0000\n",
      "Epoch 2/10\n",
      "75040/75196 [============================>.] - ETA: 0s - loss: 8.0875e-10 - accuracy: 1.0000WARNING:tensorflow:Early stopping conditioned on metric `val_loss` which is not available. Available metrics are: loss,accuracy\n",
      "75196/75196 [==============================] - 17s 222us/sample - loss: 8.1082e-10 - accuracy: 1.0000\n",
      "Epoch 3/10\n",
      "74976/75196 [============================>.] - ETA: 0s - loss: 7.5574e-10 - accuracy: 1.0000WARNING:tensorflow:Early stopping conditioned on metric `val_loss` which is not available. Available metrics are: loss,accuracy\n",
      "75196/75196 [==============================] - 17s 223us/sample - loss: 7.5373e-10 - accuracy: 1.0000\n",
      "Epoch 4/10\n",
      "75168/75196 [============================>.] - ETA: 0s - loss: 6.1513e-10 - accuracy: 1.0000WARNING:tensorflow:Early stopping conditioned on metric `val_loss` which is not available. Available metrics are: loss,accuracy\n",
      "75196/75196 [==============================] - 17s 223us/sample - loss: 6.1490e-10 - accuracy: 1.0000\n",
      "Epoch 5/10\n",
      "75040/75196 [============================>.] - ETA: 0s - loss: 5.1112e-10 - accuracy: 1.0000WARNING:tensorflow:Early stopping conditioned on metric `val_loss` which is not available. Available metrics are: loss,accuracy\n",
      "75196/75196 [==============================] - 17s 223us/sample - loss: 5.1018e-10 - accuracy: 1.0000\n",
      "Epoch 6/10\n",
      "75168/75196 [============================>.] - ETA: 0s - loss: 4.2628e-10 - accuracy: 1.0000WARNING:tensorflow:Early stopping conditioned on metric `val_loss` which is not available. Available metrics are: loss,accuracy\n",
      "75196/75196 [==============================] - 17s 222us/sample - loss: 4.2613e-10 - accuracy: 1.0000\n",
      "Epoch 7/10\n",
      "75072/75196 [============================>.] - ETA: 0s - loss: 3.7707e-10 - accuracy: 1.0000WARNING:tensorflow:Early stopping conditioned on metric `val_loss` which is not available. Available metrics are: loss,accuracy\n",
      "75196/75196 [==============================] - 17s 228us/sample - loss: 3.7649e-10 - accuracy: 1.0000\n",
      "Epoch 8/10\n",
      "75072/75196 [============================>.] - ETA: 0s - loss: 3.7216e-10 - accuracy: 1.0000WARNING:tensorflow:Early stopping conditioned on metric `val_loss` which is not available. Available metrics are: loss,accuracy\n",
      "75196/75196 [==============================] - 17s 222us/sample - loss: 3.7175e-10 - accuracy: 1.0000\n",
      "Epoch 9/10\n",
      "75072/75196 [============================>.] - ETA: 0s - loss: 3.3927e-10 - accuracy: 1.0000WARNING:tensorflow:Early stopping conditioned on metric `val_loss` which is not available. Available metrics are: loss,accuracy\n",
      "75196/75196 [==============================] - 17s 222us/sample - loss: 3.3871e-10 - accuracy: 1.0000\n",
      "Epoch 10/10\n",
      "75040/75196 [============================>.] - ETA: 0s - loss: 3.0107e-10 - accuracy: 1.0000WARNING:tensorflow:Early stopping conditioned on metric `val_loss` which is not available. Available metrics are: loss,accuracy\n",
      "75196/75196 [==============================] - 17s 222us/sample - loss: 3.0045e-10 - accuracy: 1.0000\n"
     ]
    },
    {
     "data": {
      "text/plain": [
       "<tensorflow.python.keras.callbacks.History at 0x1f46687e588>"
      ]
     },
     "execution_count": 12,
     "metadata": {},
     "output_type": "execute_result"
    },
    {
     "name": "stdout",
     "output_type": "stream",
     "text": [
      "accuracy_score 1.0\n",
      "recall_score 1.0\n",
      "precision_score 1.0\n",
      "f1_score 1.0\n",
      "Model: \"model_4\"\n",
      "_________________________________________________________________\n",
      "Layer (type)                 Output Shape              Param #   \n",
      "=================================================================\n",
      "input_1 (InputLayer)         [(None, 32, 256)]         0         \n",
      "_________________________________________________________________\n",
      "bidirectional (Bidirectional (None, 32, 96)            117120    \n",
      "_________________________________________________________________\n",
      "time_distributed (TimeDistri (None, 32, 1)             97        \n",
      "=================================================================\n",
      "Total params: 117,217\n",
      "Trainable params: 117,217\n",
      "Non-trainable params: 0\n",
      "_________________________________________________________________\n",
      "======Training stage======\n",
      "Train on 75196 samples\n",
      "Epoch 1/10\n",
      "75072/75196 [============================>.] - ETA: 0s - loss: 3.8030e-10 - accuracy: 1.0000WARNING:tensorflow:Early stopping conditioned on metric `val_loss` which is not available. Available metrics are: loss,accuracy\n",
      "75196/75196 [==============================] - 19s 253us/sample - loss: 4.9222e-10 - accuracy: 1.0000\n",
      "Epoch 2/10\n",
      "75040/75196 [============================>.] - ETA: 0s - loss: 2.8593e-10 - accuracy: 1.0000WARNING:tensorflow:Early stopping conditioned on metric `val_loss` which is not available. Available metrics are: loss,accuracy\n",
      "75196/75196 [==============================] - 17s 223us/sample - loss: 2.8534e-10 - accuracy: 1.0000\n",
      "Epoch 3/10\n",
      "75104/75196 [============================>.] - ETA: 0s - loss: 2.3308e-10 - accuracy: 1.0000WARNING:tensorflow:Early stopping conditioned on metric `val_loss` which is not available. Available metrics are: loss,accuracy\n",
      "75196/75196 [==============================] - 17s 220us/sample - loss: 2.3285e-10 - accuracy: 1.0000\n",
      "Epoch 4/10\n",
      "75136/75196 [============================>.] - ETA: 0s - loss: 2.2098e-10 - accuracy: 1.0000WARNING:tensorflow:Early stopping conditioned on metric `val_loss` which is not available. Available metrics are: loss,accuracy\n",
      "75196/75196 [==============================] - 17s 220us/sample - loss: 2.2083e-10 - accuracy: 1.0000\n",
      "Epoch 5/10\n",
      "74944/75196 [============================>.] - ETA: 0s - loss: 2.0542e-10 - accuracy: 1.0000WARNING:tensorflow:Early stopping conditioned on metric `val_loss` which is not available. Available metrics are: loss,accuracy\n",
      "75196/75196 [==============================] - 17s 221us/sample - loss: 2.0473e-10 - accuracy: 1.0000\n",
      "Epoch 6/10\n",
      "74944/75196 [============================>.] - ETA: 0s - loss: 2.0012e-10 - accuracy: 1.0000WARNING:tensorflow:Early stopping conditioned on metric `val_loss` which is not available. Available metrics are: loss,accuracy\n",
      "75196/75196 [==============================] - 17s 221us/sample - loss: 1.9945e-10 - accuracy: 1.0000\n",
      "Epoch 7/10\n",
      "75136/75196 [============================>.] - ETA: 0s - loss: 1.8462e-10 - accuracy: 1.0000WARNING:tensorflow:Early stopping conditioned on metric `val_loss` which is not available. Available metrics are: loss,accuracy\n",
      "75196/75196 [==============================] - 17s 220us/sample - loss: 1.8447e-10 - accuracy: 1.0000\n",
      "Epoch 8/10\n",
      "75008/75196 [============================>.] - ETA: 0s - loss: 1.8096e-10 - accuracy: 1.0000WARNING:tensorflow:Early stopping conditioned on metric `val_loss` which is not available. Available metrics are: loss,accuracy\n",
      "75196/75196 [==============================] - 17s 220us/sample - loss: 1.8055e-10 - accuracy: 1.0000\n",
      "Epoch 9/10\n",
      "75072/75196 [============================>.] - ETA: 0s - loss: 1.7688e-10 - accuracy: 1.0000WARNING:tensorflow:Early stopping conditioned on metric `val_loss` which is not available. Available metrics are: loss,accuracy\n",
      "75196/75196 [==============================] - 17s 220us/sample - loss: 1.7664e-10 - accuracy: 1.0000\n",
      "Epoch 10/10\n",
      "75104/75196 [============================>.] - ETA: 0s - loss: 1.7358e-10 - accuracy: 1.0000WARNING:tensorflow:Early stopping conditioned on metric `val_loss` which is not available. Available metrics are: loss,accuracy\n",
      "75196/75196 [==============================] - 17s 220us/sample - loss: 1.7337e-10 - accuracy: 1.0000\n"
     ]
    },
    {
     "data": {
      "text/plain": [
       "<tensorflow.python.keras.callbacks.History at 0x1f46ce8b508>"
      ]
     },
     "execution_count": 12,
     "metadata": {},
     "output_type": "execute_result"
    },
    {
     "name": "stdout",
     "output_type": "stream",
     "text": [
      "accuracy_score 1.0\n",
      "recall_score 1.0\n",
      "precision_score 1.0\n",
      "f1_score 1.0\n",
      "Model: \"model_5\"\n",
      "_________________________________________________________________\n",
      "Layer (type)                 Output Shape              Param #   \n",
      "=================================================================\n",
      "input_1 (InputLayer)         [(None, 32, 256)]         0         \n",
      "_________________________________________________________________\n",
      "bidirectional (Bidirectional (None, 32, 96)            117120    \n",
      "_________________________________________________________________\n",
      "time_distributed (TimeDistri (None, 32, 1)             97        \n",
      "=================================================================\n",
      "Total params: 117,217\n",
      "Trainable params: 117,217\n",
      "Non-trainable params: 0\n",
      "_________________________________________________________________\n",
      "======Training stage======\n",
      "Train on 75196 samples\n",
      "Epoch 1/10\n",
      "75104/75196 [============================>.] - ETA: 0s - loss: 1.3472e-10 - accuracy: 1.0000WARNING:tensorflow:Early stopping conditioned on metric `val_loss` which is not available. Available metrics are: loss,accuracy\n",
      "75196/75196 [==============================] - 19s 254us/sample - loss: 1.3455e-10 - accuracy: 1.0000\n",
      "Epoch 2/10\n",
      "75136/75196 [============================>.] - ETA: 0s - loss: 1.2551e-10 - accuracy: 1.0000WARNING:tensorflow:Early stopping conditioned on metric `val_loss` which is not available. Available metrics are: loss,accuracy\n",
      "75196/75196 [==============================] - 17s 220us/sample - loss: 1.2541e-10 - accuracy: 1.0000\n",
      "Epoch 3/10\n",
      "74976/75196 [============================>.] - ETA: 0s - loss: 1.2427e-10 - accuracy: 1.0000WARNING:tensorflow:Early stopping conditioned on metric `val_loss` which is not available. Available metrics are: loss,accuracy\n",
      "75196/75196 [==============================] - 17s 220us/sample - loss: 1.2390e-10 - accuracy: 1.0000\n",
      "Epoch 4/10\n",
      "75040/75196 [============================>.] - ETA: 0s - loss: 1.1237e-10 - accuracy: 1.0000WARNING:tensorflow:Early stopping conditioned on metric `val_loss` which is not available. Available metrics are: loss,accuracy\n",
      "75196/75196 [==============================] - 17s 221us/sample - loss: 1.1414e-10 - accuracy: 1.0000\n",
      "Epoch 5/10\n",
      "75040/75196 [============================>.] - ETA: 0s - loss: 1.1210e-10 - accuracy: 1.0000WARNING:tensorflow:Early stopping conditioned on metric `val_loss` which is not available. Available metrics are: loss,accuracy\n",
      "75196/75196 [==============================] - 17s 221us/sample - loss: 1.1186e-10 - accuracy: 1.0000\n",
      "Epoch 6/10\n",
      "75104/75196 [============================>.] - ETA: 0s - loss: 1.0684e-10 - accuracy: 1.0000WARNING:tensorflow:Early stopping conditioned on metric `val_loss` which is not available. Available metrics are: loss,accuracy\n",
      "75196/75196 [==============================] - 17s 220us/sample - loss: 1.0671e-10 - accuracy: 1.0000\n",
      "Epoch 7/10\n",
      "75008/75196 [============================>.] - ETA: 0s - loss: 1.0482e-10 - accuracy: 1.0000WARNING:tensorflow:Early stopping conditioned on metric `val_loss` which is not available. Available metrics are: loss,accuracy\n",
      "75196/75196 [==============================] - 17s 221us/sample - loss: 1.0456e-10 - accuracy: 1.0000\n",
      "Epoch 8/10\n",
      "75104/75196 [============================>.] - ETA: 0s - loss: 1.0072e-10 - accuracy: 1.0000WARNING:tensorflow:Early stopping conditioned on metric `val_loss` which is not available. Available metrics are: loss,accuracy\n",
      "75196/75196 [==============================] - 17s 220us/sample - loss: 1.0064e-10 - accuracy: 1.0000\n",
      "Epoch 9/10\n",
      "75168/75196 [============================>.] - ETA: 0s - loss: 9.5675e-11 - accuracy: 1.0000WARNING:tensorflow:Early stopping conditioned on metric `val_loss` which is not available. Available metrics are: loss,accuracy\n",
      "75196/75196 [==============================] - 17s 220us/sample - loss: 9.5639e-11 - accuracy: 1.0000\n",
      "Epoch 10/10\n",
      "75040/75196 [============================>.] - ETA: 0s - loss: 9.7328e-11 - accuracy: 1.0000WARNING:tensorflow:Early stopping conditioned on metric `val_loss` which is not available. Available metrics are: loss,accuracy\n",
      "75196/75196 [==============================] - 17s 226us/sample - loss: 9.7200e-11 - accuracy: 1.0000\n"
     ]
    },
    {
     "data": {
      "text/plain": [
       "<tensorflow.python.keras.callbacks.History at 0x1f4630d7dc8>"
      ]
     },
     "execution_count": 12,
     "metadata": {},
     "output_type": "execute_result"
    },
    {
     "name": "stdout",
     "output_type": "stream",
     "text": [
      "accuracy_score 1.0\n",
      "recall_score 1.0\n",
      "precision_score 1.0\n",
      "f1_score 1.0\n",
      "Model: \"model_6\"\n",
      "_________________________________________________________________\n",
      "Layer (type)                 Output Shape              Param #   \n",
      "=================================================================\n",
      "input_1 (InputLayer)         [(None, 32, 256)]         0         \n",
      "_________________________________________________________________\n",
      "bidirectional (Bidirectional (None, 32, 96)            117120    \n",
      "_________________________________________________________________\n",
      "time_distributed (TimeDistri (None, 32, 1)             97        \n",
      "=================================================================\n",
      "Total params: 117,217\n",
      "Trainable params: 117,217\n",
      "Non-trainable params: 0\n",
      "_________________________________________________________________\n",
      "======Training stage======\n",
      "Train on 75196 samples\n",
      "Epoch 1/10\n",
      "75072/75196 [============================>.] - ETA: 0s - loss: 1.1771e-10 - accuracy: 1.0000WARNING:tensorflow:Early stopping conditioned on metric `val_loss` which is not available. Available metrics are: loss,accuracy\n",
      "75196/75196 [==============================] - 20s 271us/sample - loss: 1.1751e-10 - accuracy: 1.0000\n",
      "Epoch 2/10\n",
      "75104/75196 [============================>.] - ETA: 0s - loss: 1.0878e-10 - accuracy: 1.0000WARNING:tensorflow:Early stopping conditioned on metric `val_loss` which is not available. Available metrics are: loss,accuracy\n",
      "75196/75196 [==============================] - 17s 220us/sample - loss: 1.0864e-10 - accuracy: 1.0000\n",
      "Epoch 3/10\n",
      "75168/75196 [============================>.] - ETA: 0s - loss: 1.0229e-10 - accuracy: 1.0000WARNING:tensorflow:Early stopping conditioned on metric `val_loss` which is not available. Available metrics are: loss,accuracy\n",
      "75196/75196 [==============================] - 17s 221us/sample - loss: 1.0225e-10 - accuracy: 1.0000\n",
      "Epoch 4/10\n",
      "74976/75196 [============================>.] - ETA: 0s - loss: 9.7361e-11 - accuracy: 1.0000WARNING:tensorflow:Early stopping conditioned on metric `val_loss` which is not available. Available metrics are: loss,accuracy\n",
      "75196/75196 [==============================] - 17s 221us/sample - loss: 9.7076e-11 - accuracy: 1.0000\n",
      "Epoch 5/10\n",
      "75136/75196 [============================>.] - ETA: 0s - loss: 9.4948e-11 - accuracy: 1.0000WARNING:tensorflow:Early stopping conditioned on metric `val_loss` which is not available. Available metrics are: loss,accuracy\n",
      "75196/75196 [==============================] - 17s 221us/sample - loss: 9.4872e-11 - accuracy: 1.0000\n",
      "Epoch 6/10\n",
      "75168/75196 [============================>.] - ETA: 0s - loss: 9.1289e-11 - accuracy: 1.0000WARNING:tensorflow:Early stopping conditioned on metric `val_loss` which is not available. Available metrics are: loss,accuracy\n",
      "75196/75196 [==============================] - 17s 221us/sample - loss: 9.1255e-11 - accuracy: 1.0000\n",
      "Epoch 7/10\n",
      "75008/75196 [============================>.] - ETA: 0s - loss: 8.8380e-11 - accuracy: 1.0000WARNING:tensorflow:Early stopping conditioned on metric `val_loss` which is not available. Available metrics are: loss,accuracy\n",
      "75196/75196 [==============================] - 17s 222us/sample - loss: 8.8208e-11 - accuracy: 1.0000\n",
      "Epoch 8/10\n",
      "75008/75196 [============================>.] - ETA: 0s - loss: 8.5574e-11 - accuracy: 1.0000WARNING:tensorflow:Early stopping conditioned on metric `val_loss` which is not available. Available metrics are: loss,accuracy\n",
      "75196/75196 [==============================] - 17s 226us/sample - loss: 8.5360e-11 - accuracy: 1.0000\n",
      "Epoch 9/10\n",
      "75104/75196 [============================>.] - ETA: 0s - loss: 8.3703e-11 - accuracy: 1.0000WARNING:tensorflow:Early stopping conditioned on metric `val_loss` which is not available. Available metrics are: loss,accuracy\n",
      "75196/75196 [==============================] - 17s 223us/sample - loss: 8.3601e-11 - accuracy: 1.0000\n",
      "Epoch 10/10\n",
      "75168/75196 [============================>.] - ETA: 0s - loss: 8.1228e-11 - accuracy: 1.0000WARNING:tensorflow:Early stopping conditioned on metric `val_loss` which is not available. Available metrics are: loss,accuracy\n",
      "75196/75196 [==============================] - 17s 221us/sample - loss: 8.1198e-11 - accuracy: 1.0000\n"
     ]
    },
    {
     "data": {
      "text/plain": [
       "<tensorflow.python.keras.callbacks.History at 0x1f4888425c8>"
      ]
     },
     "execution_count": 12,
     "metadata": {},
     "output_type": "execute_result"
    },
    {
     "name": "stdout",
     "output_type": "stream",
     "text": [
      "accuracy_score 1.0\n",
      "recall_score 1.0\n",
      "precision_score 1.0\n",
      "f1_score 1.0\n",
      "Model: \"model_7\"\n",
      "_________________________________________________________________\n",
      "Layer (type)                 Output Shape              Param #   \n",
      "=================================================================\n",
      "input_1 (InputLayer)         [(None, 32, 256)]         0         \n",
      "_________________________________________________________________\n",
      "bidirectional (Bidirectional (None, 32, 96)            117120    \n",
      "_________________________________________________________________\n",
      "time_distributed (TimeDistri (None, 32, 1)             97        \n",
      "=================================================================\n",
      "Total params: 117,217\n",
      "Trainable params: 117,217\n",
      "Non-trainable params: 0\n",
      "_________________________________________________________________\n",
      "======Training stage======\n",
      "Train on 75196 samples\n",
      "Epoch 1/10\n",
      "75072/75196 [============================>.] - ETA: 0s - loss: 1.1242e-10 - accuracy: 1.0000WARNING:tensorflow:Early stopping conditioned on metric `val_loss` which is not available. Available metrics are: loss,accuracy\n",
      "75196/75196 [==============================] - 20s 264us/sample - loss: 1.1224e-10 - accuracy: 1.0000\n",
      "Epoch 2/10\n",
      "75168/75196 [============================>.] - ETA: 0s - loss: 1.0256e-10 - accuracy: 1.0000WARNING:tensorflow:Early stopping conditioned on metric `val_loss` which is not available. Available metrics are: loss,accuracy\n",
      "75196/75196 [==============================] - 56s 738us/sample - loss: 1.0253e-10 - accuracy: 1.0000\n",
      "Epoch 3/10\n",
      "75136/75196 [============================>.] - ETA: 0s - loss: 1.0343e-10 - accuracy: 1.0000WARNING:tensorflow:Early stopping conditioned on metric `val_loss` which is not available. Available metrics are: loss,accuracy\n",
      "75196/75196 [==============================] - 33s 443us/sample - loss: 1.0334e-10 - accuracy: 1.0000\n",
      "Epoch 4/10\n",
      "75072/75196 [============================>.] - ETA: 0s - loss: 9.8800e-11 - accuracy: 1.0000WARNING:tensorflow:Early stopping conditioned on metric `val_loss` which is not available. Available metrics are: loss,accuracy\n",
      "75196/75196 [==============================] - 35s 469us/sample - loss: 9.8637e-11 - accuracy: 1.0000\n",
      "Epoch 5/10\n",
      "75168/75196 [============================>.] - ETA: 0s - loss: 9.6344e-11 - accuracy: 1.0000WARNING:tensorflow:Early stopping conditioned on metric `val_loss` which is not available. Available metrics are: loss,accuracy\n",
      "75196/75196 [==============================] - 32s 426us/sample - loss: 9.6308e-11 - accuracy: 1.0000\n",
      "Epoch 6/10\n",
      "75168/75196 [============================>.] - ETA: 0s - loss: 9.4436e-11 - accuracy: 1.0000WARNING:tensorflow:Early stopping conditioned on metric `val_loss` which is not available. Available metrics are: loss,accuracy\n",
      "75196/75196 [==============================] - 32s 429us/sample - loss: 9.4401e-11 - accuracy: 1.0000\n",
      "Epoch 7/10\n",
      "75168/75196 [============================>.] - ETA: 0s - loss: 9.1215e-11 - accuracy: 1.0000WARNING:tensorflow:Early stopping conditioned on metric `val_loss` which is not available. Available metrics are: loss,accuracy\n",
      "75196/75196 [==============================] - 32s 423us/sample - loss: 9.1181e-11 - accuracy: 1.0000\n",
      "Epoch 8/10\n",
      "75168/75196 [============================>.] - ETA: 0s - loss: 8.8613e-11 - accuracy: 1.0000WARNING:tensorflow:Early stopping conditioned on metric `val_loss` which is not available. Available metrics are: loss,accuracy\n",
      "75196/75196 [==============================] - 32s 422us/sample - loss: 8.8580e-11 - accuracy: 1.0000\n",
      "Epoch 9/10\n",
      "75168/75196 [============================>.] - ETA: 0s - loss: 8.7869e-11 - accuracy: 1.0000WARNING:tensorflow:Early stopping conditioned on metric `val_loss` which is not available. Available metrics are: loss,accuracy\n",
      "75196/75196 [==============================] - 32s 422us/sample - loss: 8.7837e-11 - accuracy: 1.0000\n",
      "Epoch 10/10\n",
      "75168/75196 [============================>.] - ETA: 0s - loss: 8.4797e-11 - accuracy: 1.0000WARNING:tensorflow:Early stopping conditioned on metric `val_loss` which is not available. Available metrics are: loss,accuracy\n",
      "75196/75196 [==============================] - 32s 425us/sample - loss: 8.4765e-11 - accuracy: 1.0000\n"
     ]
    },
    {
     "data": {
      "text/plain": [
       "<tensorflow.python.keras.callbacks.History at 0x1f23182bf88>"
      ]
     },
     "execution_count": 12,
     "metadata": {},
     "output_type": "execute_result"
    },
    {
     "name": "stdout",
     "output_type": "stream",
     "text": [
      "accuracy_score 1.0\n",
      "recall_score 1.0\n",
      "precision_score 1.0\n",
      "f1_score 1.0\n",
      "Model: \"model_8\"\n",
      "_________________________________________________________________\n",
      "Layer (type)                 Output Shape              Param #   \n",
      "=================================================================\n",
      "input_1 (InputLayer)         [(None, 32, 256)]         0         \n",
      "_________________________________________________________________\n",
      "bidirectional (Bidirectional (None, 32, 96)            117120    \n",
      "_________________________________________________________________\n",
      "time_distributed (TimeDistri (None, 32, 1)             97        \n",
      "=================================================================\n",
      "Total params: 117,217\n",
      "Trainable params: 117,217\n",
      "Non-trainable params: 0\n",
      "_________________________________________________________________\n",
      "======Training stage======\n",
      "Train on 75196 samples\n",
      "Epoch 1/10\n",
      "75168/75196 [============================>.] - ETA: 0s - loss: 8.1650e-11 - accuracy: 1.0000WARNING:tensorflow:Early stopping conditioned on metric `val_loss` which is not available. Available metrics are: loss,accuracy\n",
      "75196/75196 [==============================] - 38s 512us/sample - loss: 8.1669e-11 - accuracy: 1.0000\n",
      "Epoch 2/10\n",
      "75168/75196 [============================>.] - ETA: 0s - loss: 7.9444e-11 - accuracy: 1.0000WARNING:tensorflow:Early stopping conditioned on metric `val_loss` which is not available. Available metrics are: loss,accuracy\n",
      "75196/75196 [==============================] - 32s 424us/sample - loss: 7.9415e-11 - accuracy: 1.0000\n",
      "Epoch 3/10\n",
      "75168/75196 [============================>.] - ETA: 0s - loss: 7.8726e-11 - accuracy: 1.0000WARNING:tensorflow:Early stopping conditioned on metric `val_loss` which is not available. Available metrics are: loss,accuracy\n",
      "75196/75196 [==============================] - 32s 426us/sample - loss: 7.8696e-11 - accuracy: 1.0000\n",
      "Epoch 4/10\n",
      "75168/75196 [============================>.] - ETA: 0s - loss: 7.6025e-11 - accuracy: 1.0000WARNING:tensorflow:Early stopping conditioned on metric `val_loss` which is not available. Available metrics are: loss,accuracy\n",
      "75196/75196 [==============================] - 32s 425us/sample - loss: 7.5996e-11 - accuracy: 1.0000\n",
      "Epoch 5/10\n",
      "75168/75196 [============================>.] - ETA: 0s - loss: 7.4786e-11 - accuracy: 1.0000WARNING:tensorflow:Early stopping conditioned on metric `val_loss` which is not available. Available metrics are: loss,accuracy\n",
      "75196/75196 [==============================] - 32s 425us/sample - loss: 7.4758e-11 - accuracy: 1.0000\n",
      "Epoch 6/10\n",
      "75168/75196 [============================>.] - ETA: 0s - loss: 7.2382e-11 - accuracy: 1.0000WARNING:tensorflow:Early stopping conditioned on metric `val_loss` which is not available. Available metrics are: loss,accuracy\n",
      "75196/75196 [==============================] - 32s 425us/sample - loss: 7.2355e-11 - accuracy: 1.0000\n",
      "Epoch 7/10\n",
      "75168/75196 [============================>.] - ETA: 0s - loss: 7.2654e-11 - accuracy: 1.0000WARNING:tensorflow:Early stopping conditioned on metric `val_loss` which is not available. Available metrics are: loss,accuracy\n",
      "75196/75196 [==============================] - 32s 424us/sample - loss: 7.2627e-11 - accuracy: 1.0000\n",
      "Epoch 8/10\n",
      "75168/75196 [============================>.] - ETA: 0s - loss: 7.0548e-11 - accuracy: 1.0000WARNING:tensorflow:Early stopping conditioned on metric `val_loss` which is not available. Available metrics are: loss,accuracy\n",
      "75196/75196 [==============================] - 33s 433us/sample - loss: 7.0522e-11 - accuracy: 1.0000\n",
      "Epoch 9/10\n",
      "75168/75196 [============================>.] - ETA: 0s - loss: 6.8789e-11 - accuracy: 1.0000WARNING:tensorflow:Early stopping conditioned on metric `val_loss` which is not available. Available metrics are: loss,accuracy\n",
      "75196/75196 [==============================] - 33s 432us/sample - loss: 6.8763e-11 - accuracy: 1.0000\n",
      "Epoch 10/10\n",
      "75168/75196 [============================>.] - ETA: 0s - loss: 6.7971e-11 - accuracy: 1.0000WARNING:tensorflow:Early stopping conditioned on metric `val_loss` which is not available. Available metrics are: loss,accuracy\n",
      "75196/75196 [==============================] - 33s 433us/sample - loss: 6.7946e-11 - accuracy: 1.0000\n"
     ]
    },
    {
     "data": {
      "text/plain": [
       "<tensorflow.python.keras.callbacks.History at 0x1f2500e9c08>"
      ]
     },
     "execution_count": 12,
     "metadata": {},
     "output_type": "execute_result"
    },
    {
     "name": "stdout",
     "output_type": "stream",
     "text": [
      "accuracy_score 1.0\n",
      "recall_score 1.0\n",
      "precision_score 1.0\n",
      "f1_score 1.0\n",
      "Model: \"model_9\"\n",
      "_________________________________________________________________\n",
      "Layer (type)                 Output Shape              Param #   \n",
      "=================================================================\n",
      "input_1 (InputLayer)         [(None, 32, 256)]         0         \n",
      "_________________________________________________________________\n",
      "bidirectional (Bidirectional (None, 32, 96)            117120    \n",
      "_________________________________________________________________\n",
      "time_distributed (TimeDistri (None, 32, 1)             97        \n",
      "=================================================================\n",
      "Total params: 117,217\n",
      "Trainable params: 117,217\n",
      "Non-trainable params: 0\n",
      "_________________________________________________________________\n",
      "======Training stage======\n",
      "Train on 75196 samples\n",
      "Epoch 1/10\n",
      "75168/75196 [============================>.] - ETA: 0s - loss: 6.9879e-11 - accuracy: 1.0000WARNING:tensorflow:Early stopping conditioned on metric `val_loss` which is not available. Available metrics are: loss,accuracy\n",
      "75196/75196 [==============================] - 43s 567us/sample - loss: 6.9853e-11 - accuracy: 1.0000\n",
      "Epoch 2/10\n",
      "75168/75196 [============================>.] - ETA: 0s - loss: 6.9111e-11 - accuracy: 1.0000WARNING:tensorflow:Early stopping conditioned on metric `val_loss` which is not available. Available metrics are: loss,accuracy\n",
      "75196/75196 [==============================] - 32s 431us/sample - loss: 6.9085e-11 - accuracy: 1.0000\n",
      "Epoch 3/10\n",
      "75168/75196 [============================>.] - ETA: 0s - loss: 6.6881e-11 - accuracy: 1.0000WARNING:tensorflow:Early stopping conditioned on metric `val_loss` which is not available. Available metrics are: loss,accuracy\n",
      "75196/75196 [==============================] - 32s 426us/sample - loss: 6.6856e-11 - accuracy: 1.0000\n",
      "Epoch 4/10\n",
      "75168/75196 [============================>.] - ETA: 0s - loss: 6.6137e-11 - accuracy: 1.0000WARNING:tensorflow:Early stopping conditioned on metric `val_loss` which is not available. Available metrics are: loss,accuracy\n",
      "75196/75196 [==============================] - 32s 425us/sample - loss: 6.6113e-11 - accuracy: 1.0000\n",
      "Epoch 5/10\n",
      "75168/75196 [============================>.] - ETA: 0s - loss: 6.4898e-11 - accuracy: 1.0000WARNING:tensorflow:Early stopping conditioned on metric `val_loss` which is not available. Available metrics are: loss,accuracy\n",
      "75196/75196 [==============================] - 32s 423us/sample - loss: 6.4874e-11 - accuracy: 1.0000\n",
      "Epoch 6/10\n",
      "75168/75196 [============================>.] - ETA: 0s - loss: 6.3783e-11 - accuracy: 1.0000WARNING:tensorflow:Early stopping conditioned on metric `val_loss` which is not available. Available metrics are: loss,accuracy\n",
      "75196/75196 [==============================] - 32s 425us/sample - loss: 6.3760e-11 - accuracy: 1.0000\n",
      "Epoch 7/10\n",
      "75168/75196 [============================>.] - ETA: 0s - loss: 6.3139e-11 - accuracy: 1.0000WARNING:tensorflow:Early stopping conditioned on metric `val_loss` which is not available. Available metrics are: loss,accuracy\n",
      "75196/75196 [==============================] - 32s 423us/sample - loss: 6.3115e-11 - accuracy: 1.0000\n",
      "Epoch 8/10\n",
      "75168/75196 [============================>.] - ETA: 0s - loss: 6.1429e-11 - accuracy: 1.0000WARNING:tensorflow:Early stopping conditioned on metric `val_loss` which is not available. Available metrics are: loss,accuracy\n",
      "75196/75196 [==============================] - 32s 423us/sample - loss: 6.1406e-11 - accuracy: 1.0000\n",
      "Epoch 9/10\n",
      "75168/75196 [============================>.] - ETA: 0s - loss: 6.1454e-11 - accuracy: 1.0000WARNING:tensorflow:Early stopping conditioned on metric `val_loss` which is not available. Available metrics are: loss,accuracy\n",
      "75196/75196 [==============================] - 32s 423us/sample - loss: 6.1431e-11 - accuracy: 1.0000\n",
      "Epoch 10/10\n",
      "75168/75196 [============================>.] - ETA: 0s - loss: 6.0190e-11 - accuracy: 1.0000WARNING:tensorflow:Early stopping conditioned on metric `val_loss` which is not available. Available metrics are: loss,accuracy\n",
      "75196/75196 [==============================] - 32s 425us/sample - loss: 6.0168e-11 - accuracy: 1.0000\n"
     ]
    },
    {
     "data": {
      "text/plain": [
       "<tensorflow.python.keras.callbacks.History at 0x1f4888c22c8>"
      ]
     },
     "execution_count": 12,
     "metadata": {},
     "output_type": "execute_result"
    },
    {
     "name": "stdout",
     "output_type": "stream",
     "text": [
      "accuracy_score 1.0\n",
      "recall_score 1.0\n",
      "precision_score 1.0\n",
      "f1_score 1.0\n",
      "\n",
      "K-fold cross validation Accuracy: [1.0, 1.0, 1.0, 1.0, 1.0, 1.0, 1.0, 1.0, 1.0, 1.0]\n",
      "\n",
      "K-fold cross validation Recall: [1.0, 1.0, 1.0, 1.0, 1.0, 1.0, 1.0, 1.0, 1.0, 1.0]\n",
      "\n",
      "K-fold cross validation Precision: [1.0, 1.0, 1.0, 1.0, 1.0, 1.0, 1.0, 1.0, 1.0, 1.0]\n",
      "\n",
      "K-fold cross validation F1-Score: [1.0, 1.0, 1.0, 1.0, 1.0, 1.0, 1.0, 1.0, 1.0, 1.0]\n"
     ]
    }
   ],
   "source": [
    "# 교차검증 kfold\n",
    "from sklearn.model_selection import KFold\n",
    "\n",
    "# Accuracy, Precision, Recall, F1-Score\n",
    "from sklearn.metrics import accuracy_score, recall_score, precision_score, f1_score\n",
    "\n",
    "# Confusion Matrix, ROC Curve\n",
    "from sklearn.metrics import confusion_matrix, roc_auc_score\n",
    "\n",
    "# 최종 평가지표들 평균용\n",
    "accuracy, recall, precision, f1score, cm = [], [], [], [], []\n",
    "\n",
    "# 11. 교차검증 kfold - k.split - 10회 / K-Fold 객체 생성\n",
    "# kf = KFold(n_splits=10, shuffle=False, random_state=None) # KFold non shuffle 버전\n",
    "kf = KFold(n_splits=10, shuffle=True, random_state=None) # KFold non shuffle 버전\n",
    "\n",
    "for train, validation in kf.split(x_bc6_0, y_bc6_0):\n",
    "    model1 = models.Model(xInput, xOutput)\n",
    "    model1.compile(loss='binary_crossentropy', optimizer='rmsprop', metrics=['accuracy'])\n",
    "    model1.summary()\n",
    "    print('======Training stage======')\n",
    "    model1.fit(x_bc6_0[train],\n",
    "               y_bc6_0[train],\n",
    "               epochs = 10,\n",
    "               batch_size = 32,\n",
    "               callbacks=[early_stopping])\n",
    "    #k_accuracy = '%.4f' %(model1.evaluate(data_10000x[validation], data_10000y[validation])[1])\n",
    "\n",
    "# 12. 교차검증결과 predict - 검증셋들\n",
    "    # predict 값\n",
    "    k_pr = model1.predict(x_bc6_0[validation])\n",
    "    \n",
    "    # 테스트 predict 결과들 비교 (평가지표 보기위함)\n",
    "    pred = np.round(np.array(k_pr).flatten().tolist())\n",
    "    y_test = np.array(y_bc6_0[validation]).flatten().tolist()\n",
    "    \n",
    "# 13. 평가지표들 출력\n",
    "    ## 평가지표들\n",
    "    k_accuracy = float(accuracy_score(y_test, pred))\n",
    "    k_recall =  float(recall_score(y_test, pred))\n",
    "    k_precision = float(precision_score(y_test, pred))\n",
    "    k_f1_score = float(f1_score(y_test, pred))\n",
    "    #k_cm = float(confusion_matrix(y_test, pred))\n",
    "    \n",
    "    print('accuracy_score', k_accuracy)\n",
    "    print('recall_score', k_recall)\n",
    "    print('precision_score', k_precision)\n",
    "    print('f1_score', k_f1_score)\n",
    "    #print('\\nconfusion_matrix\\n', k_cm)\n",
    "\n",
    "    accuracy.append(k_accuracy)\n",
    "    recall.append(k_recall)\n",
    "    precision.append(k_precision)\n",
    "    f1score.append(k_f1_score)\n",
    "    #cm.append(k_cm)\n",
    "#    print('roc_curve 면적', roc_auc_score(y_test, pred))\n",
    "\n",
    "# 최종 결과지표\n",
    "print('\\nK-fold cross validation Accuracy: {}'.format(accuracy))\n",
    "print('\\nK-fold cross validation Recall: {}'.format(recall))\n",
    "print('\\nK-fold cross validation Precision: {}'.format(precision))\n",
    "print('\\nK-fold cross validation F1-Score: {}'.format(f1score))\n",
    "#print('\\nK-fold cross validation ConfusionMatrix: {}'.format(cm))"
   ]
  },
  {
   "cell_type": "markdown",
   "metadata": {},
   "source": [
    "## (9) 평가지표"
   ]
  },
  {
   "cell_type": "code",
   "execution_count": 13,
   "metadata": {},
   "outputs": [
    {
     "name": "stdout",
     "output_type": "stream",
     "text": [
      "10-Fold Cross_validation. Accuracy : 1.0\n",
      "10-Fold Cross_validation. Recall : 1.0\n",
      "10-Fold Cross_validation. Precision : 1.0\n",
      "10-Fold Cross_validation. F1-Score : 1.0\n"
     ]
    }
   ],
   "source": [
    "print('10-Fold Cross_validation. Accuracy :', np.mean(accuracy))\n",
    "print('10-Fold Cross_validation. Recall :', np.mean(recall))\n",
    "print('10-Fold Cross_validation. Precision :', np.mean(precision))\n",
    "print('10-Fold Cross_validation. F1-Score :', np.mean(f1score))"
   ]
  }
 ],
 "metadata": {
  "kernelspec": {
   "display_name": "Python 3",
   "language": "python",
   "name": "python3"
  },
  "language_info": {
   "codemirror_mode": {
    "name": "ipython",
    "version": 3
   },
   "file_extension": ".py",
   "mimetype": "text/x-python",
   "name": "python",
   "nbconvert_exporter": "python",
   "pygments_lexer": "ipython3",
   "version": "3.7.7"
  }
 },
 "nbformat": 4,
 "nbformat_minor": 4
}
