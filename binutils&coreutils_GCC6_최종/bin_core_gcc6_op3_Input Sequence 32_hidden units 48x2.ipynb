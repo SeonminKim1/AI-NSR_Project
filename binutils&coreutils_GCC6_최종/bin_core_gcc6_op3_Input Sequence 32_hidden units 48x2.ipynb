{
 "cells": [
  {
   "cell_type": "markdown",
   "metadata": {},
   "source": [
    "## RNN 모델 N-Byte 방식 (함수정보 포함 vs 미포함 => 1:1 비율)\n",
    "\n",
    "## (1) 데이터로드"
   ]
  },
  {
   "cell_type": "code",
   "execution_count": 1,
   "metadata": {},
   "outputs": [
    {
     "name": "stdout",
     "output_type": "stream",
     "text": [
      "(10820738, 2) (5120388, 2)\n",
      "reset_index 완료\n",
      "input data shape\n"
     ]
    },
    {
     "data": {
      "text/html": [
       "<div>\n",
       "<style scoped>\n",
       "    .dataframe tbody tr th:only-of-type {\n",
       "        vertical-align: middle;\n",
       "    }\n",
       "\n",
       "    .dataframe tbody tr th {\n",
       "        vertical-align: top;\n",
       "    }\n",
       "\n",
       "    .dataframe thead th {\n",
       "        text-align: right;\n",
       "    }\n",
       "</style>\n",
       "<table border=\"1\" class=\"dataframe\">\n",
       "  <thead>\n",
       "    <tr style=\"text-align: right;\">\n",
       "      <th></th>\n",
       "      <th>bin</th>\n",
       "      <th>label</th>\n",
       "    </tr>\n",
       "  </thead>\n",
       "  <tbody>\n",
       "    <tr>\n",
       "      <th>0</th>\n",
       "      <td>86.0</td>\n",
       "      <td>1</td>\n",
       "    </tr>\n",
       "    <tr>\n",
       "      <th>1</th>\n",
       "      <td>83.0</td>\n",
       "      <td>0</td>\n",
       "    </tr>\n",
       "    <tr>\n",
       "      <th>2</th>\n",
       "      <td>232.0</td>\n",
       "      <td>0</td>\n",
       "    </tr>\n",
       "    <tr>\n",
       "      <th>3</th>\n",
       "      <td>185.0</td>\n",
       "      <td>0</td>\n",
       "    </tr>\n",
       "    <tr>\n",
       "      <th>4</th>\n",
       "      <td>18.0</td>\n",
       "      <td>0</td>\n",
       "    </tr>\n",
       "  </tbody>\n",
       "</table>\n",
       "</div>"
      ],
      "text/plain": [
       "     bin  label\n",
       "0   86.0      1\n",
       "1   83.0      0\n",
       "2  232.0      0\n",
       "3  185.0      0\n",
       "4   18.0      0"
      ]
     },
     "execution_count": 1,
     "metadata": {},
     "output_type": "execute_result"
    }
   ],
   "source": [
    "# (1) 데이터로드\n",
    "import pandas as pd\n",
    "import numpy as np\n",
    "\n",
    "import warnings\n",
    "warnings.filterwarnings(action='ignore')\n",
    "\n",
    "# 여러개 쳐도 나오게\n",
    "from IPython.core.interactiveshell import InteractiveShell\n",
    "InteractiveShell.ast_node_interactivity = \"all\"\n",
    "\n",
    "# 파일읽기\n",
    "bin6_3 = pd.read_csv(\"data/\"+'gcc6'+\"_3_.csv\", index_col=0)\n",
    "core6_3 = pd.read_csv(\"data/\"+\"core_gcc6_3_.csv\", index_col=0)\n",
    "\n",
    "# 형태 출력\n",
    "print(bin6_3.shape, core6_3.shape)\n",
    "\n",
    "# reset_index (hex processing 하면서 값이 빠졌으니까 + n_gram 에서 index를 다루기 때문에)\n",
    "bin6_3.reset_index(inplace=True, drop=True)\n",
    "core6_3.reset_index(inplace=True, drop=True)\n",
    "\n",
    "print('reset_index 완료')\n",
    "print('input data shape')\n",
    "bin6_3.head()\n",
    "core6_3.head()"
   ]
  },
  {
   "cell_type": "code",
   "execution_count": 2,
   "metadata": {},
   "outputs": [
    {
     "name": "stdout",
     "output_type": "stream",
     "text": [
      "256\n",
      "256\n",
      "0    10794970\n",
      "1       25768\n",
      "Name: label, dtype: int64\n",
      "0    5109140\n",
      "1      11248\n",
      "Name: label, dtype: int64\n"
     ]
    }
   ],
   "source": [
    "# (2-1) 데이터체크 1 - hex(16진수)가 256 label을 가져야 dummies 변환 가능 \n",
    "# 16진수 256개 종류가 있어서 pd.get_dummies 사용 가능.\n",
    "print(len(bin6_3['bin'].unique()))\n",
    "print(len(core6_3['bin'].unique()))\n",
    "\n",
    "# (2-2) 데이터 체크 2 - 1, 0 비율 ==> 1이 함수의 갯수를 뜻함\n",
    "# 정답 데이터 1, 0 비율 확인  ==> 1이 함수의 갯수를 뜻함\n",
    "print(bin6_3['label'].value_counts())\n",
    "print(core6_3['label'].value_counts())"
   ]
  },
  {
   "cell_type": "markdown",
   "metadata": {},
   "source": [
    "## (3) N Byte씩 자르기"
   ]
  },
  {
   "cell_type": "code",
   "execution_count": 3,
   "metadata": {},
   "outputs": [
    {
     "name": "stdout",
     "output_type": "stream",
     "text": [
      "824576 359936\n",
      "나머지 0 0\n",
      "최종 길이 824576 359936\n",
      "bin6_3 824576 359936\n"
     ]
    }
   ],
   "source": [
    "idx_bin = bin6_3[bin6_3['label']==1].index  # 407, 474 ...\n",
    "idx_core = core6_3[core6_3['label']==1].index  # 407, 474 ...\n",
    "\n",
    "ls_bin = list(idx_bin)\n",
    "ls_core = list(idx_core)\n",
    "\n",
    "# 최종 뽑을 행에 대한 index\n",
    "ls_idx_bin, ls_idx_core = [], [] \n",
    "\n",
    "# n byte 자르기 방식\n",
    "left_idx, right_idx = 0, 32 # 3개씩\n",
    "\n",
    "# n byte 자르기\n",
    "for k in range(left_idx, right_idx):\n",
    "    ls_idx_bin.extend(list(idx_bin + k)) # index 형이라서 가능\n",
    "    ls_idx_core.extend(list(idx_core + k))\n",
    "\n",
    "#ls_idx = list(set(ls_idx)) \n",
    "ls_idx_bin.sort() # 인덱스 정렬\n",
    "ls_idx_core.sort() # 인덱스 정렬\n",
    "\n",
    "\n",
    "# 1차 index 해당범위 초과한 것들 없애기\n",
    "ls_idx_bin = list(filter(lambda x: x<len(bin6_3), ls_idx_bin))\n",
    "ls_idx_core = list(filter(lambda x: x<len(core6_3), ls_idx_core))\n",
    "print(len(ls_idx_bin), len(ls_idx_core))\n",
    "\n",
    "# 2차 남은 index들 중 right_idx 나눈 나머지 없애기\n",
    "sub_bin = len(ls_idx_bin)%(right_idx)\n",
    "sub_core = len(ls_idx_core)%(right_idx)\n",
    "print('나머지', sub_bin, sub_core)\n",
    "\n",
    "ls_idx_bin = ls_idx_bin[:len(ls_idx_bin)-sub_bin]\n",
    "ls_idx_core = ls_idx_core[:len(ls_idx_core)-sub_core]\n",
    "print('최종 길이', len(ls_idx_bin), len(ls_idx_core))\n",
    "\n",
    "print('bin6_3', len(ls_idx_bin), len(ls_idx_core))\n",
    "\n",
    "# loc 로 수정필요\n",
    "bin6_3_Ngram = bin6_3.loc[ls_idx_bin,:].copy()\n",
    "core6_3_Ngram = core6_3.loc[ls_idx_core,:].copy()"
   ]
  },
  {
   "cell_type": "markdown",
   "metadata": {},
   "source": [
    "## (4) false data 만들기"
   ]
  },
  {
   "cell_type": "code",
   "execution_count": 4,
   "metadata": {},
   "outputs": [
    {
     "name": "stdout",
     "output_type": "stream",
     "text": [
      "25768.0 11248.0\n",
      "0 164681 2665567\n",
      "1000 1722190 3590326\n",
      "2000 9553513 5012495\n",
      "3000 10206176 5019383\n",
      "4000 555459 741933\n",
      "5000 8176163 4857853\n",
      "6000 778717 3429466\n",
      "7000 2513351 4709543\n",
      "8000 5472509 3567972\n",
      "9000 3070154 1416194\n",
      "10000 8608253 3146755\n",
      "11000 6428591 2754682\n",
      "12000 7997756 2222491\n",
      "13000 7027561 647504\n",
      "14000 1282849 3246893\n",
      "15000 6074273 4327070\n",
      "16000 8752656 2604951\n",
      "17000 960584 1852442\n",
      "18000 4779749 4337077\n",
      "19000 10313425 406257\n",
      "20000 1941661 338793\n",
      "21000 7875588 712554\n",
      "22000 5844884 1666194\n",
      "23000 6976933 2607456\n",
      "24000 2972915 4813322\n",
      "25000 5718798 278195\n",
      "완료\n",
      "25768 11248\n"
     ]
    }
   ],
   "source": [
    "# false data 만들기 - False 데이터 랜덤 생성\n",
    "\n",
    "# 목표치\n",
    "goal_bin = len(bin6_3_Ngram)/right_idx\n",
    "count_bin = 0\n",
    "\n",
    "goal_core = len(core6_3_Ngram)/right_idx\n",
    "count_core = 0\n",
    "\n",
    "print(goal_bin, goal_core)\n",
    "\n",
    "# 최종 데이터 Frame\n",
    "d_bin = pd.DataFrame(columns = bin6_3.columns)\n",
    "d_core = pd.DataFrame(columns = core6_3.columns)\n",
    "\n",
    "binutils_df, coreutils_df = [], []\n",
    "# goal 에 도달할 때까지\n",
    "while True:\n",
    "    if (count_bin == goal_bin) and (count_core == goal_core):\n",
    "            break\n",
    "    # 진행상황 살펴보기 위함\n",
    "            \n",
    "    # 랜덤 N 바이트씩 뽑음\n",
    "    # random index\n",
    "    random_idx_bin = np.random.randint(len(bin6_3)-right_idx)\n",
    "    random_idx_core = np.random.randint(len(core6_3)-right_idx)\n",
    "\n",
    "    if count_bin % 1000==0:\n",
    "        print(count_bin, end=' ')\n",
    "        print(random_idx_bin, random_idx_core)\n",
    "\n",
    "    df_bin = bin6_3[random_idx_bin : random_idx_bin + right_idx]\n",
    "    df_core = core6_3[random_idx_core : random_idx_core + right_idx]\n",
    "    \n",
    "    # 뽑은 index의 N 바이트 중에 1이 없는 경우만\n",
    "    if 1 not in df_bin['label'] and count_bin < goal_bin:\n",
    "        binutils_df.append(df_bin)\n",
    "        count_bin+=1\n",
    "        \n",
    "    if (1 not in df_core['label']) and count_core <goal_core:\n",
    "        coreutils_df.append(df_core)\n",
    "        count_core+=1\n",
    "\n",
    "print('완료')\n",
    "print(len(binutils_df), len(coreutils_df))"
   ]
  },
  {
   "cell_type": "code",
   "execution_count": 5,
   "metadata": {},
   "outputs": [
    {
     "name": "stdout",
     "output_type": "stream",
     "text": [
      "37016\n",
      "37016\n"
     ]
    }
   ],
   "source": [
    "# True data와 False Data 같은지 체크\n",
    "print(len(binutils_df) + len(coreutils_df))\n",
    "print(bin6_3['label'].value_counts()[1] + core6_3['label'].value_counts()[1])"
   ]
  },
  {
   "cell_type": "code",
   "execution_count": 6,
   "metadata": {},
   "outputs": [
    {
     "data": {
      "text/plain": [
       "(1184512, 2)"
      ]
     },
     "execution_count": 6,
     "metadata": {},
     "output_type": "execute_result"
    }
   ],
   "source": [
    "f_bin_data = pd.concat(binutils_df)\n",
    "f_core_data = pd.concat(coreutils_df)\n",
    "f_data = pd.concat([f_bin_data, f_core_data], axis=0)\n",
    "f_data.shape"
   ]
  },
  {
   "cell_type": "markdown",
   "metadata": {},
   "source": [
    "## (5) False Data + True Data 합치기"
   ]
  },
  {
   "cell_type": "code",
   "execution_count": 7,
   "metadata": {},
   "outputs": [
    {
     "data": {
      "text/plain": [
       "(2009088, 2)"
      ]
     },
     "execution_count": 7,
     "metadata": {},
     "output_type": "execute_result"
    }
   ],
   "source": [
    "final = pd.concat([f_data, bin6_3_Ngram])\n",
    "final.shape"
   ]
  },
  {
   "cell_type": "markdown",
   "metadata": {},
   "source": [
    "## (6) one hot encoding"
   ]
  },
  {
   "cell_type": "code",
   "execution_count": 8,
   "metadata": {},
   "outputs": [
    {
     "name": "stdout",
     "output_type": "stream",
     "text": [
      "원핫인코딩완료\n",
      "(2009088, 257)\n"
     ]
    }
   ],
   "source": [
    "# 훈련데이터 (gcc 최적화버전 0, 1, 2, 3 one hot encoding)\n",
    "bc6_3_onehot_Ngram = pd.get_dummies(final['bin'])\n",
    "bc6_3_onehot_Ngram = pd.concat([final['label'], bc6_3_onehot_Ngram], axis=1)\n",
    "\n",
    "print('원핫인코딩완료')\n",
    "print(bc6_3_onehot_Ngram.shape)"
   ]
  },
  {
   "cell_type": "code",
   "execution_count": 9,
   "metadata": {},
   "outputs": [
    {
     "name": "stdout",
     "output_type": "stream",
     "text": [
      "(2009088, 256) (2009088, 256)\n",
      "(62784, 32, 256) (62784, 32, 1)\n"
     ]
    }
   ],
   "source": [
    "# 훈련 데이터, 훈련 라벨\n",
    "x_bc6_3 = bc6_3_onehot_Ngram.iloc[:,1:].to_numpy()\n",
    "y_bc6_3 = bc6_3_onehot_Ngram['label'].to_numpy()\n",
    "print(x_bc6_3.shape, x_bc6_3.shape)\n",
    "\n",
    "x_bc6_3 = x_bc6_3.reshape(-1, right_idx, x_bc6_3.shape[1])\n",
    "y_bc6_3 = y_bc6_3.reshape(-1, right_idx, 1)\n",
    "\n",
    "print(x_bc6_3.shape, y_bc6_3.shape)"
   ]
  },
  {
   "cell_type": "code",
   "execution_count": 10,
   "metadata": {},
   "outputs": [
    {
     "name": "stdout",
     "output_type": "stream",
     "text": [
      "(62784, 32, 256) (62784, 32, 1)\n"
     ]
    }
   ],
   "source": [
    "# numpy 행, 열 섞기\n",
    "p = np.random.permutation(x_bc6_3.shape[0])\n",
    "\n",
    "x_bc6_3 = x_bc6_3[p]\n",
    "y_bc6_3 = y_bc6_3[p]\n",
    "\n",
    "print(x_bc6_3.shape, y_bc6_3.shape)"
   ]
  },
  {
   "cell_type": "markdown",
   "metadata": {},
   "source": [
    "## (7) 모델"
   ]
  },
  {
   "cell_type": "code",
   "execution_count": 12,
   "metadata": {},
   "outputs": [],
   "source": [
    "# (10) 양방향 LSTM 모델링 작업\n",
    "from tensorflow.keras import layers, models\n",
    "#from tf.keras.models import Model, Sequential\n",
    "#from tf.keras.layers import SimpleRNN, Input, Dense, LSTM\n",
    "#from tf.keras.layers import Bidirectional, TimeDistributed\n",
    "\n",
    "# 학습\n",
    "from tensorflow.keras.callbacks import EarlyStopping\n",
    "early_stopping = EarlyStopping(patience = 3) # 조기종료 콜백함수 정의\n",
    "\n",
    "xInput = layers.Input(batch_shape=(None,right_idx, 256)) \n",
    "xBiLstm = layers.Bidirectional(layers.LSTM(48, return_sequences=True), merge_mode = 'concat')(xInput)\n",
    "xOutput = layers.TimeDistributed(layers.Dense(1, activation ='sigmoid'))(xBiLstm) # 각 스텝에서 cost가 전송되고, 오류가 다음 step으로 전송됨."
   ]
  },
  {
   "cell_type": "markdown",
   "metadata": {},
   "source": [
    "## (8) 학습 - 10 KFold"
   ]
  },
  {
   "cell_type": "code",
   "execution_count": 14,
   "metadata": {
    "scrolled": false
   },
   "outputs": [
    {
     "name": "stdout",
     "output_type": "stream",
     "text": [
      "Model: \"model_1\"\n",
      "_________________________________________________________________\n",
      "Layer (type)                 Output Shape              Param #   \n",
      "=================================================================\n",
      "input_1 (InputLayer)         [(None, 32, 256)]         0         \n",
      "_________________________________________________________________\n",
      "bidirectional (Bidirectional (None, 32, 96)            117120    \n",
      "_________________________________________________________________\n",
      "time_distributed (TimeDistri (None, 32, 1)             97        \n",
      "=================================================================\n",
      "Total params: 117,217\n",
      "Trainable params: 117,217\n",
      "Non-trainable params: 0\n",
      "_________________________________________________________________\n",
      "======Training stage======\n",
      "Train on 56505 samples\n",
      "Epoch 1/10\n",
      "56320/56505 [============================>.] - ETA: 0s - loss: 0.0086 - accuracy: 0.9973WARNING:tensorflow:Early stopping conditioned on metric `val_loss` which is not available. Available metrics are: loss,accuracy\n",
      "56505/56505 [==============================] - 16s 276us/sample - loss: 0.0086 - accuracy: 0.9973\n",
      "Epoch 2/10\n",
      "56416/56505 [============================>.] - ETA: 0s - loss: 0.0031 - accuracy: 0.9990WARNING:tensorflow:Early stopping conditioned on metric `val_loss` which is not available. Available metrics are: loss,accuracy\n",
      "56505/56505 [==============================] - 13s 223us/sample - loss: 0.0031 - accuracy: 0.9990\n",
      "Epoch 3/10\n",
      "56384/56505 [============================>.] - ETA: 0s - loss: 0.0021 - accuracy: 0.9993WARNING:tensorflow:Early stopping conditioned on metric `val_loss` which is not available. Available metrics are: loss,accuracy\n",
      "56505/56505 [==============================] - 13s 226us/sample - loss: 0.0021 - accuracy: 0.9993\n",
      "Epoch 4/10\n",
      "56448/56505 [============================>.] - ETA: 0s - loss: 0.0016 - accuracy: 0.9995WARNING:tensorflow:Early stopping conditioned on metric `val_loss` which is not available. Available metrics are: loss,accuracy\n",
      "56505/56505 [==============================] - 13s 229us/sample - loss: 0.0016 - accuracy: 0.9995\n",
      "Epoch 5/10\n",
      "56448/56505 [============================>.] - ETA: 0s - loss: 0.0012 - accuracy: 0.9996WARNING:tensorflow:Early stopping conditioned on metric `val_loss` which is not available. Available metrics are: loss,accuracy\n",
      "56505/56505 [==============================] - 13s 227us/sample - loss: 0.0012 - accuracy: 0.9996\n",
      "Epoch 6/10\n",
      "56416/56505 [============================>.] - ETA: 0s - loss: 0.0010 - accuracy: 0.9997WARNING:tensorflow:Early stopping conditioned on metric `val_loss` which is not available. Available metrics are: loss,accuracy\n",
      "56505/56505 [==============================] - 13s 225us/sample - loss: 0.0010 - accuracy: 0.9997\n",
      "Epoch 7/10\n",
      "56320/56505 [============================>.] - ETA: 0s - loss: 8.4599e-04 - accuracy: 0.9998WARNING:tensorflow:Early stopping conditioned on metric `val_loss` which is not available. Available metrics are: loss,accuracy\n",
      "56505/56505 [==============================] - 13s 227us/sample - loss: 8.4625e-04 - accuracy: 0.9998\n",
      "Epoch 8/10\n",
      "56352/56505 [============================>.] - ETA: 0s - loss: 7.3495e-04 - accuracy: 0.9998WARNING:tensorflow:Early stopping conditioned on metric `val_loss` which is not available. Available metrics are: loss,accuracy\n",
      "56505/56505 [==============================] - 13s 230us/sample - loss: 7.3669e-04 - accuracy: 0.9998\n",
      "Epoch 9/10\n",
      "56480/56505 [============================>.] - ETA: 0s - loss: 6.1974e-04 - accuracy: 0.9998WARNING:tensorflow:Early stopping conditioned on metric `val_loss` which is not available. Available metrics are: loss,accuracy\n",
      "56505/56505 [==============================] - 13s 234us/sample - loss: 6.1947e-04 - accuracy: 0.9998\n",
      "Epoch 10/10\n",
      "56448/56505 [============================>.] - ETA: 0s - loss: 5.3359e-04 - accuracy: 0.9999WARNING:tensorflow:Early stopping conditioned on metric `val_loss` which is not available. Available metrics are: loss,accuracy\n",
      "56505/56505 [==============================] - 14s 249us/sample - loss: 5.3363e-04 - accuracy: 0.9999\n"
     ]
    },
    {
     "data": {
      "text/plain": [
       "<tensorflow.python.keras.callbacks.History at 0x2800c5a3b08>"
      ]
     },
     "execution_count": 14,
     "metadata": {},
     "output_type": "execute_result"
    },
    {
     "name": "stdout",
     "output_type": "stream",
     "text": [
      "accuracy_score 0.9996765010351967\n",
      "recall_score 0.9898958971218617\n",
      "precision_score 0.9901990811638591\n",
      "f1_score 0.9900474659317103\n",
      "Model: \"model_2\"\n",
      "_________________________________________________________________\n",
      "Layer (type)                 Output Shape              Param #   \n",
      "=================================================================\n",
      "input_1 (InputLayer)         [(None, 32, 256)]         0         \n",
      "_________________________________________________________________\n",
      "bidirectional (Bidirectional (None, 32, 96)            117120    \n",
      "_________________________________________________________________\n",
      "time_distributed (TimeDistri (None, 32, 1)             97        \n",
      "=================================================================\n",
      "Total params: 117,217\n",
      "Trainable params: 117,217\n",
      "Non-trainable params: 0\n",
      "_________________________________________________________________\n",
      "======Training stage======\n",
      "Train on 56505 samples\n",
      "Epoch 1/10\n",
      "56416/56505 [============================>.] - ETA: 0s - loss: 5.4773e-04 - accuracy: 0.9999WARNING:tensorflow:Early stopping conditioned on metric `val_loss` which is not available. Available metrics are: loss,accuracy\n",
      "56505/56505 [==============================] - 16s 288us/sample - loss: 5.5027e-04 - accuracy: 0.9999\n",
      "Epoch 2/10\n",
      "56448/56505 [============================>.] - ETA: 0s - loss: 4.5481e-04 - accuracy: 0.9999WARNING:tensorflow:Early stopping conditioned on metric `val_loss` which is not available. Available metrics are: loss,accuracy\n",
      "56505/56505 [==============================] - 56s 998us/sample - loss: 4.6061e-04 - accuracy: 0.9999\n",
      "Epoch 3/10\n",
      "56480/56505 [============================>.] - ETA: 0s - loss: 3.9467e-04 - accuracy: 0.9999WARNING:tensorflow:Early stopping conditioned on metric `val_loss` which is not available. Available metrics are: loss,accuracy\n",
      "56505/56505 [==============================] - 25s 444us/sample - loss: 3.9455e-04 - accuracy: 0.9999\n",
      "Epoch 4/10\n",
      "56384/56505 [============================>.] - ETA: 0s - loss: 3.3799e-04 - accuracy: 0.9999WARNING:tensorflow:Early stopping conditioned on metric `val_loss` which is not available. Available metrics are: loss,accuracy\n",
      "56505/56505 [==============================] - 27s 481us/sample - loss: 3.3740e-04 - accuracy: 0.9999\n",
      "Epoch 5/10\n",
      "56480/56505 [============================>.] - ETA: 0s - loss: 3.2316e-04 - accuracy: 0.9999WARNING:tensorflow:Early stopping conditioned on metric `val_loss` which is not available. Available metrics are: loss,accuracy\n",
      "56505/56505 [==============================] - 24s 422us/sample - loss: 3.2302e-04 - accuracy: 0.9999\n",
      "Epoch 6/10\n",
      "56480/56505 [============================>.] - ETA: 0s - loss: 2.9053e-04 - accuracy: 0.9999WARNING:tensorflow:Early stopping conditioned on metric `val_loss` which is not available. Available metrics are: loss,accuracy\n",
      "56505/56505 [==============================] - 24s 422us/sample - loss: 2.9041e-04 - accuracy: 0.9999\n",
      "Epoch 7/10\n",
      "56480/56505 [============================>.] - ETA: 0s - loss: 2.3816e-04 - accuracy: 0.9999WARNING:tensorflow:Early stopping conditioned on metric `val_loss` which is not available. Available metrics are: loss,accuracy\n",
      "56505/56505 [==============================] - 24s 424us/sample - loss: 2.3806e-04 - accuracy: 0.9999\n",
      "Epoch 8/10\n",
      "56480/56505 [============================>.] - ETA: 0s - loss: 2.0895e-04 - accuracy: 0.9999WARNING:tensorflow:Early stopping conditioned on metric `val_loss` which is not available. Available metrics are: loss,accuracy\n",
      "56505/56505 [==============================] - 24s 423us/sample - loss: 2.0895e-04 - accuracy: 0.9999\n",
      "Epoch 9/10\n",
      "56480/56505 [============================>.] - ETA: 0s - loss: 1.7031e-04 - accuracy: 1.0000WARNING:tensorflow:Early stopping conditioned on metric `val_loss` which is not available. Available metrics are: loss,accuracy\n",
      "56505/56505 [==============================] - 24s 422us/sample - loss: 1.7024e-04 - accuracy: 1.0000\n",
      "Epoch 10/10\n",
      "56480/56505 [============================>.] - ETA: 0s - loss: 1.6059e-04 - accuracy: 1.0000WARNING:tensorflow:Early stopping conditioned on metric `val_loss` which is not available. Available metrics are: loss,accuracy\n",
      "56505/56505 [==============================] - 24s 421us/sample - loss: 1.6052e-04 - accuracy: 1.0000\n"
     ]
    },
    {
     "data": {
      "text/plain": [
       "<tensorflow.python.keras.callbacks.History at 0x28075affec8>"
      ]
     },
     "execution_count": 14,
     "metadata": {},
     "output_type": "execute_result"
    },
    {
     "name": "stdout",
     "output_type": "stream",
     "text": [
      "accuracy_score 0.9998556696926262\n",
      "recall_score 0.9938650306748467\n",
      "precision_score 0.997229916897507\n",
      "f1_score 0.9955446305115994\n",
      "Model: \"model_3\"\n",
      "_________________________________________________________________\n",
      "Layer (type)                 Output Shape              Param #   \n",
      "=================================================================\n",
      "input_1 (InputLayer)         [(None, 32, 256)]         0         \n",
      "_________________________________________________________________\n",
      "bidirectional (Bidirectional (None, 32, 96)            117120    \n",
      "_________________________________________________________________\n",
      "time_distributed (TimeDistri (None, 32, 1)             97        \n",
      "=================================================================\n",
      "Total params: 117,217\n",
      "Trainable params: 117,217\n",
      "Non-trainable params: 0\n",
      "_________________________________________________________________\n",
      "======Training stage======\n",
      "Train on 56505 samples\n",
      "Epoch 1/10\n",
      "56480/56505 [============================>.] - ETA: 0s - loss: 2.4878e-04 - accuracy: 0.9999WARNING:tensorflow:Early stopping conditioned on metric `val_loss` which is not available. Available metrics are: loss,accuracy\n",
      "56505/56505 [==============================] - 32s 565us/sample - loss: 2.4869e-04 - accuracy: 0.9999\n",
      "Epoch 2/10\n",
      "56480/56505 [============================>.] - ETA: 0s - loss: 1.9659e-04 - accuracy: 1.0000WARNING:tensorflow:Early stopping conditioned on metric `val_loss` which is not available. Available metrics are: loss,accuracy\n",
      "56505/56505 [==============================] - 24s 421us/sample - loss: 1.9651e-04 - accuracy: 1.0000\n",
      "Epoch 3/10\n",
      "56480/56505 [============================>.] - ETA: 0s - loss: 1.6024e-04 - accuracy: 1.0000WARNING:tensorflow:Early stopping conditioned on metric `val_loss` which is not available. Available metrics are: loss,accuracy\n",
      "56505/56505 [==============================] - 24s 422us/sample - loss: 1.6017e-04 - accuracy: 1.0000\n",
      "Epoch 4/10\n",
      "56480/56505 [============================>.] - ETA: 0s - loss: 1.4028e-04 - accuracy: 1.0000WARNING:tensorflow:Early stopping conditioned on metric `val_loss` which is not available. Available metrics are: loss,accuracy\n",
      "56505/56505 [==============================] - 24s 422us/sample - loss: 1.4022e-04 - accuracy: 1.0000\n",
      "Epoch 5/10\n",
      "56480/56505 [============================>.] - ETA: 0s - loss: 1.1010e-04 - accuracy: 1.0000WARNING:tensorflow:Early stopping conditioned on metric `val_loss` which is not available. Available metrics are: loss,accuracy\n",
      "56505/56505 [==============================] - 24s 422us/sample - loss: 1.1005e-04 - accuracy: 1.0000\n",
      "Epoch 6/10\n",
      "56480/56505 [============================>.] - ETA: 0s - loss: 9.2148e-05 - accuracy: 1.0000WARNING:tensorflow:Early stopping conditioned on metric `val_loss` which is not available. Available metrics are: loss,accuracy\n",
      "56505/56505 [==============================] - 24s 422us/sample - loss: 9.2107e-05 - accuracy: 1.0000\n",
      "Epoch 7/10\n",
      "55456/56505 [============================>.] - ETA: 0s - loss: 8.5488e-05 - accuracy: 1.0000WARNING:tensorflow:Early stopping conditioned on metric `val_loss` which is not available. Available metrics are: loss,accuracy\n",
      "56505/56505 [==============================] - 14s 251us/sample - loss: 8.4299e-05 - accuracy: 1.0000\n",
      "Epoch 8/10\n",
      "56480/56505 [============================>.] - ETA: 0s - loss: 6.3586e-05 - accuracy: 1.0000WARNING:tensorflow:Early stopping conditioned on metric `val_loss` which is not available. Available metrics are: loss,accuracy\n",
      "56505/56505 [==============================] - 25s 446us/sample - loss: 6.3561e-05 - accuracy: 1.0000\n",
      "Epoch 9/10\n",
      "56480/56505 [============================>.] - ETA: 0s - loss: 4.8992e-05 - accuracy: 1.0000WARNING:tensorflow:Early stopping conditioned on metric `val_loss` which is not available. Available metrics are: loss,accuracy\n",
      "56505/56505 [==============================] - 25s 448us/sample - loss: 4.8971e-05 - accuracy: 1.0000\n",
      "Epoch 10/10\n",
      "56480/56505 [============================>.] - ETA: 0s - loss: 4.7767e-05 - accuracy: 1.0000WARNING:tensorflow:Early stopping conditioned on metric `val_loss` which is not available. Available metrics are: loss,accuracy\n",
      "56505/56505 [==============================] - 25s 444us/sample - loss: 4.7746e-05 - accuracy: 1.0000\n"
     ]
    },
    {
     "data": {
      "text/plain": [
       "<tensorflow.python.keras.callbacks.History at 0x28080875fc8>"
      ]
     },
     "execution_count": 14,
     "metadata": {},
     "output_type": "execute_result"
    },
    {
     "name": "stdout",
     "output_type": "stream",
     "text": [
      "accuracy_score 0.9999303232998885\n",
      "recall_score 0.9990831295843521\n",
      "precision_score 0.9966463414634147\n",
      "f1_score 0.9978632478632479\n",
      "Model: \"model_4\"\n",
      "_________________________________________________________________\n",
      "Layer (type)                 Output Shape              Param #   \n",
      "=================================================================\n",
      "input_1 (InputLayer)         [(None, 32, 256)]         0         \n",
      "_________________________________________________________________\n",
      "bidirectional (Bidirectional (None, 32, 96)            117120    \n",
      "_________________________________________________________________\n",
      "time_distributed (TimeDistri (None, 32, 1)             97        \n",
      "=================================================================\n",
      "Total params: 117,217\n",
      "Trainable params: 117,217\n",
      "Non-trainable params: 0\n",
      "_________________________________________________________________\n",
      "======Training stage======\n",
      "Train on 56505 samples\n",
      "Epoch 1/10\n",
      "56448/56505 [============================>.] - ETA: 0s - loss: 7.3874e-05 - accuracy: 1.0000WARNING:tensorflow:Early stopping conditioned on metric `val_loss` which is not available. Available metrics are: loss,accuracy\n",
      "56505/56505 [==============================] - 31s 555us/sample - loss: 7.3842e-05 - accuracy: 1.0000\n",
      "Epoch 2/10\n",
      "56480/56505 [============================>.] - ETA: 0s - loss: 5.6496e-05 - accuracy: 1.0000WARNING:tensorflow:Early stopping conditioned on metric `val_loss` which is not available. Available metrics are: loss,accuracy\n",
      "56505/56505 [==============================] - 24s 433us/sample - loss: 5.6471e-05 - accuracy: 1.0000\n",
      "Epoch 3/10\n",
      "56480/56505 [============================>.] - ETA: 0s - loss: 3.7891e-05 - accuracy: 1.0000WARNING:tensorflow:Early stopping conditioned on metric `val_loss` which is not available. Available metrics are: loss,accuracy\n",
      "56505/56505 [==============================] - 25s 439us/sample - loss: 3.7874e-05 - accuracy: 1.0000\n",
      "Epoch 4/10\n",
      "56448/56505 [============================>.] - ETA: 0s - loss: 4.3067e-05 - accuracy: 1.0000WARNING:tensorflow:Early stopping conditioned on metric `val_loss` which is not available. Available metrics are: loss,accuracy\n",
      "56505/56505 [==============================] - 26s 453us/sample - loss: 4.3025e-05 - accuracy: 1.0000\n",
      "Epoch 5/10\n",
      "56448/56505 [============================>.] - ETA: 0s - loss: 4.1458e-05 - accuracy: 1.0000WARNING:tensorflow:Early stopping conditioned on metric `val_loss` which is not available. Available metrics are: loss,accuracy\n",
      "56505/56505 [==============================] - 25s 443us/sample - loss: 4.1416e-05 - accuracy: 1.0000\n",
      "Epoch 6/10\n",
      "56480/56505 [============================>.] - ETA: 0s - loss: 2.3702e-05 - accuracy: 1.0000WARNING:tensorflow:Early stopping conditioned on metric `val_loss` which is not available. Available metrics are: loss,accuracy\n",
      "56505/56505 [==============================] - 25s 441us/sample - loss: 2.3691e-05 - accuracy: 1.0000\n",
      "Epoch 7/10\n",
      "56480/56505 [============================>.] - ETA: 0s - loss: 2.0554e-05 - accuracy: 1.0000WARNING:tensorflow:Early stopping conditioned on metric `val_loss` which is not available. Available metrics are: loss,accuracy\n",
      "56505/56505 [==============================] - 24s 430us/sample - loss: 2.0565e-05 - accuracy: 1.0000\n",
      "Epoch 8/10\n",
      "56480/56505 [============================>.] - ETA: 0s - loss: 1.6673e-05 - accuracy: 1.0000WARNING:tensorflow:Early stopping conditioned on metric `val_loss` which is not available. Available metrics are: loss,accuracy\n",
      "56505/56505 [==============================] - 24s 432us/sample - loss: 1.6666e-05 - accuracy: 1.0000\n",
      "Epoch 9/10\n",
      "56480/56505 [============================>.] - ETA: 0s - loss: 1.2724e-05 - accuracy: 1.0000WARNING:tensorflow:Early stopping conditioned on metric `val_loss` which is not available. Available metrics are: loss,accuracy\n",
      "56505/56505 [==============================] - 24s 432us/sample - loss: 1.2721e-05 - accuracy: 1.0000\n",
      "Epoch 10/10\n",
      "56480/56505 [============================>.] - ETA: 0s - loss: 7.1545e-06 - accuracy: 1.0000WARNING:tensorflow:Early stopping conditioned on metric `val_loss` which is not available. Available metrics are: loss,accuracy\n",
      "56505/56505 [==============================] - 24s 432us/sample - loss: 7.1514e-06 - accuracy: 1.0000\n"
     ]
    },
    {
     "data": {
      "text/plain": [
       "<tensorflow.python.keras.callbacks.History at 0x2807b488fc8>"
      ]
     },
     "execution_count": 14,
     "metadata": {},
     "output_type": "execute_result"
    },
    {
     "name": "stdout",
     "output_type": "stream",
     "text": [
      "accuracy_score 0.999970138557095\n",
      "recall_score 0.9991082045184304\n",
      "precision_score 0.9991082045184304\n",
      "f1_score 0.9991082045184304\n",
      "Model: \"model_5\"\n",
      "_________________________________________________________________\n",
      "Layer (type)                 Output Shape              Param #   \n",
      "=================================================================\n",
      "input_1 (InputLayer)         [(None, 32, 256)]         0         \n",
      "_________________________________________________________________\n",
      "bidirectional (Bidirectional (None, 32, 96)            117120    \n",
      "_________________________________________________________________\n",
      "time_distributed (TimeDistri (None, 32, 1)             97        \n",
      "=================================================================\n",
      "Total params: 117,217\n",
      "Trainable params: 117,217\n",
      "Non-trainable params: 0\n",
      "_________________________________________________________________\n",
      "======Training stage======\n",
      "Train on 56506 samples\n",
      "Epoch 1/10\n",
      "56480/56506 [============================>.] - ETA: 0s - loss: 1.9431e-05 - accuracy: 1.0000WARNING:tensorflow:Early stopping conditioned on metric `val_loss` which is not available. Available metrics are: loss,accuracy\n",
      "56506/56506 [==============================] - 32s 574us/sample - loss: 1.9423e-05 - accuracy: 1.0000\n",
      "Epoch 2/10\n",
      "56480/56506 [============================>.] - ETA: 0s - loss: 7.5028e-06 - accuracy: 1.0000WARNING:tensorflow:Early stopping conditioned on metric `val_loss` which is not available. Available metrics are: loss,accuracy\n",
      "56506/56506 [==============================] - 24s 432us/sample - loss: 7.4994e-06 - accuracy: 1.0000\n",
      "Epoch 3/10\n",
      "56480/56506 [============================>.] - ETA: 0s - loss: 1.4059e-05 - accuracy: 1.0000WARNING:tensorflow:Early stopping conditioned on metric `val_loss` which is not available. Available metrics are: loss,accuracy\n",
      "56506/56506 [==============================] - 24s 432us/sample - loss: 1.4053e-05 - accuracy: 1.0000\n",
      "Epoch 4/10\n",
      "56480/56506 [============================>.] - ETA: 0s - loss: 1.2330e-05 - accuracy: 1.0000WARNING:tensorflow:Early stopping conditioned on metric `val_loss` which is not available. Available metrics are: loss,accuracy\n",
      "56506/56506 [==============================] - 24s 433us/sample - loss: 1.2324e-05 - accuracy: 1.0000\n",
      "Epoch 5/10\n",
      "56480/56506 [============================>.] - ETA: 0s - loss: 9.6040e-06 - accuracy: 1.0000WARNING:tensorflow:Early stopping conditioned on metric `val_loss` which is not available. Available metrics are: loss,accuracy\n",
      "56506/56506 [==============================] - 24s 432us/sample - loss: 9.5996e-06 - accuracy: 1.0000\n",
      "Epoch 6/10\n",
      "56480/56506 [============================>.] - ETA: 0s - loss: 6.0345e-06 - accuracy: 1.0000WARNING:tensorflow:Early stopping conditioned on metric `val_loss` which is not available. Available metrics are: loss,accuracy\n",
      "56506/56506 [==============================] - 24s 433us/sample - loss: 6.0318e-06 - accuracy: 1.0000\n",
      "Epoch 7/10\n",
      "56480/56506 [============================>.] - ETA: 0s - loss: 2.4507e-06 - accuracy: 1.0000WARNING:tensorflow:Early stopping conditioned on metric `val_loss` which is not available. Available metrics are: loss,accuracy\n",
      "56506/56506 [==============================] - 24s 432us/sample - loss: 2.4496e-06 - accuracy: 1.0000\n",
      "Epoch 8/10\n",
      "56480/56506 [============================>.] - ETA: 0s - loss: 4.4364e-07 - accuracy: 1.0000WARNING:tensorflow:Early stopping conditioned on metric `val_loss` which is not available. Available metrics are: loss,accuracy\n",
      "56506/56506 [==============================] - 24s 433us/sample - loss: 4.4344e-07 - accuracy: 1.0000\n",
      "Epoch 9/10\n",
      "56480/56506 [============================>.] - ETA: 0s - loss: 5.5774e-08 - accuracy: 1.0000WARNING:tensorflow:Early stopping conditioned on metric `val_loss` which is not available. Available metrics are: loss,accuracy\n",
      "56506/56506 [==============================] - 24s 433us/sample - loss: 5.5748e-08 - accuracy: 1.0000\n",
      "Epoch 10/10\n",
      "56480/56506 [============================>.] - ETA: 0s - loss: 3.3408e-08 - accuracy: 1.0000WARNING:tensorflow:Early stopping conditioned on metric `val_loss` which is not available. Available metrics are: loss,accuracy\n",
      "56506/56506 [==============================] - 24s 434us/sample - loss: 3.3393e-08 - accuracy: 1.0000\n"
     ]
    },
    {
     "data": {
      "text/plain": [
       "<tensorflow.python.keras.callbacks.History at 0x2808c1e2808>"
      ]
     },
     "execution_count": 14,
     "metadata": {},
     "output_type": "execute_result"
    },
    {
     "name": "stdout",
     "output_type": "stream",
     "text": [
      "accuracy_score 1.0\n",
      "recall_score 1.0\n",
      "precision_score 1.0\n",
      "f1_score 1.0\n",
      "Model: \"model_6\"\n",
      "_________________________________________________________________\n",
      "Layer (type)                 Output Shape              Param #   \n",
      "=================================================================\n",
      "input_1 (InputLayer)         [(None, 32, 256)]         0         \n",
      "_________________________________________________________________\n",
      "bidirectional (Bidirectional (None, 32, 96)            117120    \n",
      "_________________________________________________________________\n",
      "time_distributed (TimeDistri (None, 32, 1)             97        \n",
      "=================================================================\n",
      "Total params: 117,217\n",
      "Trainable params: 117,217\n",
      "Non-trainable params: 0\n",
      "_________________________________________________________________\n",
      "======Training stage======\n",
      "Train on 56506 samples\n",
      "Epoch 1/10\n",
      "56480/56506 [============================>.] - ETA: 0s - loss: 2.9356e-06 - accuracy: 1.0000WARNING:tensorflow:Early stopping conditioned on metric `val_loss` which is not available. Available metrics are: loss,accuracy\n",
      "56506/56506 [==============================] - 30s 539us/sample - loss: 2.9343e-06 - accuracy: 1.0000\n",
      "Epoch 2/10\n",
      "56480/56506 [============================>.] - ETA: 0s - loss: 3.7655e-07 - accuracy: 1.0000WARNING:tensorflow:Early stopping conditioned on metric `val_loss` which is not available. Available metrics are: loss,accuracy\n",
      "56506/56506 [==============================] - 25s 439us/sample - loss: 3.7642e-07 - accuracy: 1.0000\n",
      "Epoch 3/10\n",
      "56480/56506 [============================>.] - ETA: 0s - loss: 5.2280e-06 - accuracy: 1.0000WARNING:tensorflow:Early stopping conditioned on metric `val_loss` which is not available. Available metrics are: loss,accuracy\n",
      "56506/56506 [==============================] - 24s 423us/sample - loss: 5.2256e-06 - accuracy: 1.0000\n",
      "Epoch 4/10\n",
      "56480/56506 [============================>.] - ETA: 0s - loss: 6.8071e-09 - accuracy: 1.0000WARNING:tensorflow:Early stopping conditioned on metric `val_loss` which is not available. Available metrics are: loss,accuracy\n",
      "56506/56506 [==============================] - 24s 423us/sample - loss: 6.8224e-09 - accuracy: 1.0000\n",
      "Epoch 5/10\n",
      "56480/56506 [============================>.] - ETA: 0s - loss: 3.1596e-09 - accuracy: 1.0000WARNING:tensorflow:Early stopping conditioned on metric `val_loss` which is not available. Available metrics are: loss,accuracy\n",
      "56506/56506 [==============================] - 24s 423us/sample - loss: 3.1587e-09 - accuracy: 1.0000\n",
      "Epoch 6/10\n",
      "56480/56506 [============================>.] - ETA: 0s - loss: 2.3840e-09 - accuracy: 1.0000WARNING:tensorflow:Early stopping conditioned on metric `val_loss` which is not available. Available metrics are: loss,accuracy\n",
      "56506/56506 [==============================] - 24s 424us/sample - loss: 2.3829e-09 - accuracy: 1.0000\n",
      "Epoch 7/10\n",
      "56480/56506 [============================>.] - ETA: 0s - loss: 1.9863e-09 - accuracy: 1.0000WARNING:tensorflow:Early stopping conditioned on metric `val_loss` which is not available. Available metrics are: loss,accuracy\n",
      "56506/56506 [==============================] - 24s 422us/sample - loss: 1.9860e-09 - accuracy: 1.0000\n",
      "Epoch 8/10\n",
      "56480/56506 [============================>.] - ETA: 0s - loss: 1.7220e-09 - accuracy: 1.0000WARNING:tensorflow:Early stopping conditioned on metric `val_loss` which is not available. Available metrics are: loss,accuracy\n",
      "56506/56506 [==============================] - 24s 423us/sample - loss: 1.7219e-09 - accuracy: 1.0000\n",
      "Epoch 9/10\n",
      "56480/56506 [============================>.] - ETA: 0s - loss: 1.5341e-09 - accuracy: 1.0000WARNING:tensorflow:Early stopping conditioned on metric `val_loss` which is not available. Available metrics are: loss,accuracy\n",
      "56506/56506 [==============================] - 24s 422us/sample - loss: 1.5339e-09 - accuracy: 1.0000\n",
      "Epoch 10/10\n",
      "56480/56506 [============================>.] - ETA: 0s - loss: 1.4010e-09 - accuracy: 1.0000WARNING:tensorflow:Early stopping conditioned on metric `val_loss` which is not available. Available metrics are: loss,accuracy\n",
      "56506/56506 [==============================] - 24s 422us/sample - loss: 1.4004e-09 - accuracy: 1.0000\n"
     ]
    },
    {
     "data": {
      "text/plain": [
       "<tensorflow.python.keras.callbacks.History at 0x2807c3713c8>"
      ]
     },
     "execution_count": 14,
     "metadata": {},
     "output_type": "execute_result"
    },
    {
     "name": "stdout",
     "output_type": "stream",
     "text": [
      "accuracy_score 1.0\n",
      "recall_score 1.0\n",
      "precision_score 1.0\n",
      "f1_score 1.0\n",
      "Model: \"model_7\"\n",
      "_________________________________________________________________\n",
      "Layer (type)                 Output Shape              Param #   \n",
      "=================================================================\n",
      "input_1 (InputLayer)         [(None, 32, 256)]         0         \n",
      "_________________________________________________________________\n",
      "bidirectional (Bidirectional (None, 32, 96)            117120    \n",
      "_________________________________________________________________\n",
      "time_distributed (TimeDistri (None, 32, 1)             97        \n",
      "=================================================================\n",
      "Total params: 117,217\n",
      "Trainable params: 117,217\n",
      "Non-trainable params: 0\n",
      "_________________________________________________________________\n",
      "======Training stage======\n",
      "Train on 56506 samples\n",
      "Epoch 1/10\n",
      "56480/56506 [============================>.] - ETA: 0s - loss: 1.7241e-09 - accuracy: 1.0000WARNING:tensorflow:Early stopping conditioned on metric `val_loss` which is not available. Available metrics are: loss,accuracy\n",
      "56506/56506 [==============================] - 30s 527us/sample - loss: 1.7235e-09 - accuracy: 1.0000\n",
      "Epoch 2/10\n",
      "56480/56506 [============================>.] - ETA: 0s - loss: 1.3988e-09 - accuracy: 1.0000WARNING:tensorflow:Early stopping conditioned on metric `val_loss` which is not available. Available metrics are: loss,accuracy\n",
      "56506/56506 [==============================] - 24s 423us/sample - loss: 1.3981e-09 - accuracy: 1.0000\n",
      "Epoch 3/10\n",
      "56480/56506 [============================>.] - ETA: 0s - loss: 1.2434e-09 - accuracy: 1.0000WARNING:tensorflow:Early stopping conditioned on metric `val_loss` which is not available. Available metrics are: loss,accuracy\n",
      "56506/56506 [==============================] - 24s 423us/sample - loss: 1.2549e-09 - accuracy: 1.0000\n",
      "Epoch 4/10\n",
      "56480/56506 [============================>.] - ETA: 0s - loss: 1.1346e-09 - accuracy: 1.0000WARNING:tensorflow:Early stopping conditioned on metric `val_loss` which is not available. Available metrics are: loss,accuracy\n",
      "56506/56506 [==============================] - 24s 422us/sample - loss: 1.1404e-09 - accuracy: 1.0000\n",
      "Epoch 5/10\n",
      "56480/56506 [============================>.] - ETA: 0s - loss: 1.0981e-09 - accuracy: 1.0000WARNING:tensorflow:Early stopping conditioned on metric `val_loss` which is not available. Available metrics are: loss,accuracy\n",
      "56506/56506 [==============================] - 24s 423us/sample - loss: 1.0976e-09 - accuracy: 1.0000\n",
      "Epoch 6/10\n",
      "56480/56506 [============================>.] - ETA: 0s - loss: 1.0244e-09 - accuracy: 1.0000WARNING:tensorflow:Early stopping conditioned on metric `val_loss` which is not available. Available metrics are: loss,accuracy\n",
      "56506/56506 [==============================] - 24s 423us/sample - loss: 1.0239e-09 - accuracy: 1.0000\n",
      "Epoch 7/10\n",
      "56480/56506 [============================>.] - ETA: 0s - loss: 9.6717e-10 - accuracy: 1.0000WARNING:tensorflow:Early stopping conditioned on metric `val_loss` which is not available. Available metrics are: loss,accuracy\n",
      "56506/56506 [==============================] - 24s 429us/sample - loss: 9.6745e-10 - accuracy: 1.0000\n",
      "Epoch 8/10\n",
      "56480/56506 [============================>.] - ETA: 0s - loss: 9.1530e-10 - accuracy: 1.0000WARNING:tensorflow:Early stopping conditioned on metric `val_loss` which is not available. Available metrics are: loss,accuracy\n",
      "56506/56506 [==============================] - 25s 434us/sample - loss: 9.1488e-10 - accuracy: 1.0000\n",
      "Epoch 9/10\n",
      "56480/56506 [============================>.] - ETA: 0s - loss: 8.6045e-10 - accuracy: 1.0000WARNING:tensorflow:Early stopping conditioned on metric `val_loss` which is not available. Available metrics are: loss,accuracy\n",
      "56506/56506 [==============================] - 25s 434us/sample - loss: 8.6012e-10 - accuracy: 1.0000\n",
      "Epoch 10/10\n",
      "56480/56506 [============================>.] - ETA: 0s - loss: 8.2404e-10 - accuracy: 1.0000WARNING:tensorflow:Early stopping conditioned on metric `val_loss` which is not available. Available metrics are: loss,accuracy\n",
      "56506/56506 [==============================] - 25s 434us/sample - loss: 8.2416e-10 - accuracy: 1.0000\n"
     ]
    },
    {
     "data": {
      "text/plain": [
       "<tensorflow.python.keras.callbacks.History at 0x28080daeb88>"
      ]
     },
     "execution_count": 14,
     "metadata": {},
     "output_type": "execute_result"
    },
    {
     "name": "stdout",
     "output_type": "stream",
     "text": [
      "accuracy_score 1.0\n",
      "recall_score 1.0\n",
      "precision_score 1.0\n",
      "f1_score 1.0\n",
      "Model: \"model_8\"\n",
      "_________________________________________________________________\n",
      "Layer (type)                 Output Shape              Param #   \n",
      "=================================================================\n",
      "input_1 (InputLayer)         [(None, 32, 256)]         0         \n",
      "_________________________________________________________________\n",
      "bidirectional (Bidirectional (None, 32, 96)            117120    \n",
      "_________________________________________________________________\n",
      "time_distributed (TimeDistri (None, 32, 1)             97        \n",
      "=================================================================\n",
      "Total params: 117,217\n",
      "Trainable params: 117,217\n",
      "Non-trainable params: 0\n",
      "_________________________________________________________________\n",
      "======Training stage======\n",
      "Train on 56506 samples\n",
      "Epoch 1/10\n",
      "56480/56506 [============================>.] - ETA: 0s - loss: 8.6345e-10 - accuracy: 1.0000WARNING:tensorflow:Early stopping conditioned on metric `val_loss` which is not available. Available metrics are: loss,accuracy\n",
      "56506/56506 [==============================] - 33s 578us/sample - loss: 8.6411e-10 - accuracy: 1.0000\n",
      "Epoch 2/10\n",
      "56480/56506 [============================>.] - ETA: 0s - loss: 8.0399e-10 - accuracy: 1.0000WARNING:tensorflow:Early stopping conditioned on metric `val_loss` which is not available. Available metrics are: loss,accuracy\n",
      "56506/56506 [==============================] - 24s 431us/sample - loss: 8.0415e-10 - accuracy: 1.0000\n",
      "Epoch 3/10\n",
      "56480/56506 [============================>.] - ETA: 0s - loss: 7.6561e-10 - accuracy: 1.0000WARNING:tensorflow:Early stopping conditioned on metric `val_loss` which is not available. Available metrics are: loss,accuracy\n",
      "56506/56506 [==============================] - 24s 432us/sample - loss: 7.6525e-10 - accuracy: 1.0000\n",
      "Epoch 4/10\n",
      "56480/56506 [============================>.] - ETA: 0s - loss: 7.3477e-10 - accuracy: 1.0000WARNING:tensorflow:Early stopping conditioned on metric `val_loss` which is not available. Available metrics are: loss,accuracy\n",
      "56506/56506 [==============================] - 24s 432us/sample - loss: 7.3456e-10 - accuracy: 1.0000\n",
      "Epoch 5/10\n",
      "56480/56506 [============================>.] - ETA: 0s - loss: 6.9958e-10 - accuracy: 1.0000WARNING:tensorflow:Early stopping conditioned on metric `val_loss` which is not available. Available metrics are: loss,accuracy\n",
      "56506/56506 [==============================] - 24s 432us/sample - loss: 6.9969e-10 - accuracy: 1.0000\n",
      "Epoch 6/10\n",
      "56480/56506 [============================>.] - ETA: 0s - loss: 6.7920e-10 - accuracy: 1.0000WARNING:tensorflow:Early stopping conditioned on metric `val_loss` which is not available. Available metrics are: loss,accuracy\n",
      "56506/56506 [==============================] - 24s 433us/sample - loss: 6.7889e-10 - accuracy: 1.0000\n",
      "Epoch 7/10\n",
      "56480/56506 [============================>.] - ETA: 0s - loss: 6.5034e-10 - accuracy: 1.0000WARNING:tensorflow:Early stopping conditioned on metric `val_loss` which is not available. Available metrics are: loss,accuracy\n",
      "56506/56506 [==============================] - 24s 432us/sample - loss: 6.5004e-10 - accuracy: 1.0000\n",
      "Epoch 8/10\n",
      "56480/56506 [============================>.] - ETA: 0s - loss: 6.2281e-10 - accuracy: 1.0000WARNING:tensorflow:Early stopping conditioned on metric `val_loss` which is not available. Available metrics are: loss,accuracy\n",
      "56506/56506 [==============================] - 24s 433us/sample - loss: 6.2384e-10 - accuracy: 1.0000\n",
      "Epoch 9/10\n",
      "56480/56506 [============================>.] - ETA: 0s - loss: 6.0935e-10 - accuracy: 1.0000WARNING:tensorflow:Early stopping conditioned on metric `val_loss` which is not available. Available metrics are: loss,accuracy\n",
      "56506/56506 [==============================] - 24s 432us/sample - loss: 6.0907e-10 - accuracy: 1.0000\n",
      "Epoch 10/10\n",
      "56480/56506 [============================>.] - ETA: 0s - loss: 5.8636e-10 - accuracy: 1.0000WARNING:tensorflow:Early stopping conditioned on metric `val_loss` which is not available. Available metrics are: loss,accuracy\n",
      "56506/56506 [==============================] - 24s 433us/sample - loss: 5.8731e-10 - accuracy: 1.0000\n"
     ]
    },
    {
     "data": {
      "text/plain": [
       "<tensorflow.python.keras.callbacks.History at 0x2808ba7e348>"
      ]
     },
     "execution_count": 14,
     "metadata": {},
     "output_type": "execute_result"
    },
    {
     "name": "stdout",
     "output_type": "stream",
     "text": [
      "accuracy_score 1.0\n",
      "recall_score 1.0\n",
      "precision_score 1.0\n",
      "f1_score 1.0\n",
      "Model: \"model_9\"\n",
      "_________________________________________________________________\n",
      "Layer (type)                 Output Shape              Param #   \n",
      "=================================================================\n",
      "input_1 (InputLayer)         [(None, 32, 256)]         0         \n",
      "_________________________________________________________________\n",
      "bidirectional (Bidirectional (None, 32, 96)            117120    \n",
      "_________________________________________________________________\n",
      "time_distributed (TimeDistri (None, 32, 1)             97        \n",
      "=================================================================\n",
      "Total params: 117,217\n",
      "Trainable params: 117,217\n",
      "Non-trainable params: 0\n",
      "_________________________________________________________________\n",
      "======Training stage======\n",
      "Train on 56506 samples\n",
      "Epoch 1/10\n",
      "56480/56506 [============================>.] - ETA: 0s - loss: 5.9464e-10 - accuracy: 1.0000WARNING:tensorflow:Early stopping conditioned on metric `val_loss` which is not available. Available metrics are: loss,accuracy\n",
      "56506/56506 [==============================] - 31s 553us/sample - loss: 5.9440e-10 - accuracy: 1.0000\n",
      "Epoch 2/10\n",
      "56480/56506 [============================>.] - ETA: 0s - loss: 5.6885e-10 - accuracy: 1.0000WARNING:tensorflow:Early stopping conditioned on metric `val_loss` which is not available. Available metrics are: loss,accuracy\n",
      "56506/56506 [==============================] - 25s 439us/sample - loss: 5.6859e-10 - accuracy: 1.0000\n",
      "Epoch 3/10\n",
      "56480/56506 [============================>.] - ETA: 0s - loss: 5.5124e-10 - accuracy: 1.0000WARNING:tensorflow:Early stopping conditioned on metric `val_loss` which is not available. Available metrics are: loss,accuracy\n",
      "56506/56506 [==============================] - 25s 440us/sample - loss: 5.5099e-10 - accuracy: 1.0000\n",
      "Epoch 4/10\n",
      "56480/56506 [============================>.] - ETA: 0s - loss: 5.3248e-10 - accuracy: 1.0000WARNING:tensorflow:Early stopping conditioned on metric `val_loss` which is not available. Available metrics are: loss,accuracy\n",
      "56506/56506 [==============================] - 25s 439us/sample - loss: 5.3223e-10 - accuracy: 1.0000\n",
      "Epoch 5/10\n",
      "56480/56506 [============================>.] - ETA: 0s - loss: 5.1503e-10 - accuracy: 1.0000WARNING:tensorflow:Early stopping conditioned on metric `val_loss` which is not available. Available metrics are: loss,accuracy\n",
      "56506/56506 [==============================] - 25s 437us/sample - loss: 5.1479e-10 - accuracy: 1.0000\n",
      "Epoch 6/10\n",
      "56480/56506 [============================>.] - ETA: 0s - loss: 4.9871e-10 - accuracy: 1.0000WARNING:tensorflow:Early stopping conditioned on metric `val_loss` which is not available. Available metrics are: loss,accuracy\n",
      "56506/56506 [==============================] - 25s 439us/sample - loss: 4.9881e-10 - accuracy: 1.0000\n",
      "Epoch 7/10\n",
      "56480/56506 [============================>.] - ETA: 0s - loss: 4.8670e-10 - accuracy: 1.0000WARNING:tensorflow:Early stopping conditioned on metric `val_loss` which is not available. Available metrics are: loss,accuracy\n",
      "56506/56506 [==============================] - 25s 438us/sample - loss: 4.8648e-10 - accuracy: 1.0000\n",
      "Epoch 8/10\n",
      "56480/56506 [============================>.] - ETA: 0s - loss: 4.7166e-10 - accuracy: 1.0000WARNING:tensorflow:Early stopping conditioned on metric `val_loss` which is not available. Available metrics are: loss,accuracy\n",
      "56506/56506 [==============================] - 25s 440us/sample - loss: 4.7148e-10 - accuracy: 1.0000\n",
      "Epoch 9/10\n",
      "56448/56506 [============================>.] - ETA: 0s - loss: 4.5999e-10 - accuracy: 1.0000WARNING:tensorflow:Early stopping conditioned on metric `val_loss` which is not available. Available metrics are: loss,accuracy\n",
      "56506/56506 [==============================] - 24s 432us/sample - loss: 4.5951e-10 - accuracy: 1.0000\n",
      "Epoch 10/10\n",
      "56480/56506 [============================>.] - ETA: 0s - loss: 4.4808e-10 - accuracy: 1.0000WARNING:tensorflow:Early stopping conditioned on metric `val_loss` which is not available. Available metrics are: loss,accuracy\n",
      "56506/56506 [==============================] - 25s 434us/sample - loss: 4.4791e-10 - accuracy: 1.0000\n"
     ]
    },
    {
     "data": {
      "text/plain": [
       "<tensorflow.python.keras.callbacks.History at 0x2807c3813c8>"
      ]
     },
     "execution_count": 14,
     "metadata": {},
     "output_type": "execute_result"
    },
    {
     "name": "stdout",
     "output_type": "stream",
     "text": [
      "accuracy_score 1.0\n",
      "recall_score 1.0\n",
      "precision_score 1.0\n",
      "f1_score 1.0\n",
      "Model: \"model_10\"\n",
      "_________________________________________________________________\n",
      "Layer (type)                 Output Shape              Param #   \n",
      "=================================================================\n",
      "input_1 (InputLayer)         [(None, 32, 256)]         0         \n",
      "_________________________________________________________________\n",
      "bidirectional (Bidirectional (None, 32, 96)            117120    \n",
      "_________________________________________________________________\n",
      "time_distributed (TimeDistri (None, 32, 1)             97        \n",
      "=================================================================\n",
      "Total params: 117,217\n",
      "Trainable params: 117,217\n",
      "Non-trainable params: 0\n",
      "_________________________________________________________________\n",
      "======Training stage======\n",
      "Train on 56506 samples\n",
      "Epoch 1/10\n",
      "56480/56506 [============================>.] - ETA: 0s - loss: 4.4848e-10 - accuracy: 1.0000WARNING:tensorflow:Early stopping conditioned on metric `val_loss` which is not available. Available metrics are: loss,accuracy\n",
      "56506/56506 [==============================] - 30s 534us/sample - loss: 4.4827e-10 - accuracy: 1.0000\n",
      "Epoch 2/10\n",
      "56480/56506 [============================>.] - ETA: 0s - loss: 4.2985e-10 - accuracy: 1.0000WARNING:tensorflow:Early stopping conditioned on metric `val_loss` which is not available. Available metrics are: loss,accuracy\n",
      "56506/56506 [==============================] - 24s 431us/sample - loss: 4.3011e-10 - accuracy: 1.0000\n",
      "Epoch 3/10\n",
      "56480/56506 [============================>.] - ETA: 0s - loss: 4.1708e-10 - accuracy: 1.0000WARNING:tensorflow:Early stopping conditioned on metric `val_loss` which is not available. Available metrics are: loss,accuracy\n",
      "56506/56506 [==============================] - 24s 431us/sample - loss: 4.1722e-10 - accuracy: 1.0000\n",
      "Epoch 4/10\n",
      "56480/56506 [============================>.] - ETA: 0s - loss: 4.0528e-10 - accuracy: 1.0000WARNING:tensorflow:Early stopping conditioned on metric `val_loss` which is not available. Available metrics are: loss,accuracy\n",
      "56506/56506 [==============================] - 24s 432us/sample - loss: 4.0535e-10 - accuracy: 1.0000\n",
      "Epoch 5/10\n",
      "56480/56506 [============================>.] - ETA: 0s - loss: 3.9515e-10 - accuracy: 1.0000WARNING:tensorflow:Early stopping conditioned on metric `val_loss` which is not available. Available metrics are: loss,accuracy\n",
      "56506/56506 [==============================] - 24s 432us/sample - loss: 3.9497e-10 - accuracy: 1.0000\n",
      "Epoch 6/10\n",
      "56480/56506 [============================>.] - ETA: 0s - loss: 3.8430e-10 - accuracy: 1.0000WARNING:tensorflow:Early stopping conditioned on metric `val_loss` which is not available. Available metrics are: loss,accuracy\n",
      "56506/56506 [==============================] - 24s 432us/sample - loss: 3.8413e-10 - accuracy: 1.0000\n",
      "Epoch 7/10\n",
      "56480/56506 [============================>.] - ETA: 0s - loss: 3.7510e-10 - accuracy: 1.0000WARNING:tensorflow:Early stopping conditioned on metric `val_loss` which is not available. Available metrics are: loss,accuracy\n",
      "56506/56506 [==============================] - 24s 432us/sample - loss: 3.7493e-10 - accuracy: 1.0000\n",
      "Epoch 8/10\n",
      "56480/56506 [============================>.] - ETA: 0s - loss: 3.6616e-10 - accuracy: 1.0000WARNING:tensorflow:Early stopping conditioned on metric `val_loss` which is not available. Available metrics are: loss,accuracy\n",
      "56506/56506 [==============================] - 24s 432us/sample - loss: 3.6600e-10 - accuracy: 1.0000\n",
      "Epoch 9/10\n",
      "56480/56506 [============================>.] - ETA: 0s - loss: 3.5680e-10 - accuracy: 1.0000WARNING:tensorflow:Early stopping conditioned on metric `val_loss` which is not available. Available metrics are: loss,accuracy\n",
      "56506/56506 [==============================] - 24s 432us/sample - loss: 3.5663e-10 - accuracy: 1.0000\n",
      "Epoch 10/10\n",
      "56480/56506 [============================>.] - ETA: 0s - loss: 3.5024e-10 - accuracy: 1.0000WARNING:tensorflow:Early stopping conditioned on metric `val_loss` which is not available. Available metrics are: loss,accuracy\n",
      "56506/56506 [==============================] - 24s 434us/sample - loss: 3.5007e-10 - accuracy: 1.0000\n"
     ]
    },
    {
     "data": {
      "text/plain": [
       "<tensorflow.python.keras.callbacks.History at 0x2807734fa88>"
      ]
     },
     "execution_count": 14,
     "metadata": {},
     "output_type": "execute_result"
    },
    {
     "name": "stdout",
     "output_type": "stream",
     "text": [
      "accuracy_score 1.0\n",
      "recall_score 1.0\n",
      "precision_score 1.0\n",
      "f1_score 1.0\n",
      "\n",
      "K-fold cross validation Accuracy: [0.9996765010351967, 0.9998556696926262, 0.9999303232998885, 0.999970138557095, 1.0, 1.0, 1.0, 1.0, 1.0, 1.0]\n",
      "\n",
      "K-fold cross validation Recall: [0.9898958971218617, 0.9938650306748467, 0.9990831295843521, 0.9991082045184304, 1.0, 1.0, 1.0, 1.0, 1.0, 1.0]\n",
      "\n",
      "K-fold cross validation Precision: [0.9901990811638591, 0.997229916897507, 0.9966463414634147, 0.9991082045184304, 1.0, 1.0, 1.0, 1.0, 1.0, 1.0]\n",
      "\n",
      "K-fold cross validation F1-Score: [0.9900474659317103, 0.9955446305115994, 0.9978632478632479, 0.9991082045184304, 1.0, 1.0, 1.0, 1.0, 1.0, 1.0]\n"
     ]
    }
   ],
   "source": [
    "# 교차검증 kfold\n",
    "from sklearn.model_selection import KFold\n",
    "\n",
    "# Accuracy, Precision, Recall, F1-Score\n",
    "from sklearn.metrics import accuracy_score, recall_score, precision_score, f1_score\n",
    "\n",
    "# Confusion Matrix, ROC Curve\n",
    "from sklearn.metrics import confusion_matrix, roc_auc_score\n",
    "\n",
    "# 최종 평가지표들 평균용\n",
    "accuracy, recall, precision, f1score, cm = [], [], [], [], []\n",
    "\n",
    "# 11. 교차검증 kfold - k.split - 10회 / K-Fold 객체 생성\n",
    "# kf = KFold(n_splits=10, shuffle=False, random_state=None) # KFold non shuffle 버전\n",
    "kf = KFold(n_splits=10, shuffle=True, random_state=None) # KFold non shuffle 버전\n",
    "\n",
    "for train, validation in kf.split(x_bc6_3, y_bc6_3):\n",
    "    model1 = models.Model(xInput, xOutput)\n",
    "    model1.compile(loss='binary_crossentropy', optimizer='rmsprop', metrics=['accuracy'])\n",
    "    model1.summary()\n",
    "    print('======Training stage======')\n",
    "    model1.fit(x_bc6_3[train],\n",
    "               y_bc6_3[train],\n",
    "               epochs = 10,\n",
    "               batch_size = 32,\n",
    "               callbacks=[early_stopping])\n",
    "    #k_accuracy = '%.4f' %(model1.evaluate(data_10000x[validation], data_10000y[validation])[1])\n",
    "\n",
    "# 12. 교차검증결과 predict - 검증셋들\n",
    "    # predict 값\n",
    "    k_pr = model1.predict(x_bc6_3[validation])\n",
    "    \n",
    "    # 테스트 predict 결과들 비교 (평가지표 보기위함)\n",
    "    pred = np.round(np.array(k_pr).flatten().tolist())\n",
    "    y_test = np.array(y_bc6_3[validation]).flatten().tolist()\n",
    "    \n",
    "# 13. 평가지표들 출력\n",
    "    ## 평가지표들\n",
    "    k_accuracy = float(accuracy_score(y_test, pred))\n",
    "    k_recall =  float(recall_score(y_test, pred))\n",
    "    k_precision = float(precision_score(y_test, pred))\n",
    "    k_f1_score = float(f1_score(y_test, pred))\n",
    "    #k_cm = float(confusion_matrix(y_test, pred))\n",
    "    \n",
    "    print('accuracy_score', k_accuracy)\n",
    "    print('recall_score', k_recall)\n",
    "    print('precision_score', k_precision)\n",
    "    print('f1_score', k_f1_score)\n",
    "    #print('\\nconfusion_matrix\\n', k_cm)\n",
    "\n",
    "    accuracy.append(k_accuracy)\n",
    "    recall.append(k_recall)\n",
    "    precision.append(k_precision)\n",
    "    f1score.append(k_f1_score)\n",
    "    #cm.append(k_cm)\n",
    "#    print('roc_curve 면적', roc_auc_score(y_test, pred))\n",
    "\n",
    "# 최종 결과지표\n",
    "print('\\nK-fold cross validation Accuracy: {}'.format(accuracy))\n",
    "print('\\nK-fold cross validation Recall: {}'.format(recall))\n",
    "print('\\nK-fold cross validation Precision: {}'.format(precision))\n",
    "print('\\nK-fold cross validation F1-Score: {}'.format(f1score))\n",
    "#print('\\nK-fold cross validation ConfusionMatrix: {}'.format(cm))"
   ]
  },
  {
   "cell_type": "markdown",
   "metadata": {},
   "source": [
    "## (9) 평가지표"
   ]
  },
  {
   "cell_type": "code",
   "execution_count": 15,
   "metadata": {},
   "outputs": [
    {
     "name": "stdout",
     "output_type": "stream",
     "text": [
      "10-Fold Cross_validation. Accuracy : 0.9999432632584806\n",
      "10-Fold Cross_validation. Recall : 0.998195226189949\n",
      "10-Fold Cross_validation. Precision : 0.998318354404321\n",
      "10-Fold Cross_validation. F1-Score : 0.9982563548824988\n"
     ]
    }
   ],
   "source": [
    "print('10-Fold Cross_validation. Accuracy :', np.mean(accuracy))\n",
    "print('10-Fold Cross_validation. Recall :', np.mean(recall))\n",
    "print('10-Fold Cross_validation. Precision :', np.mean(precision))\n",
    "print('10-Fold Cross_validation. F1-Score :', np.mean(f1score))"
   ]
  }
 ],
 "metadata": {
  "kernelspec": {
   "display_name": "Python 3",
   "language": "python",
   "name": "python3"
  },
  "language_info": {
   "codemirror_mode": {
    "name": "ipython",
    "version": 3
   },
   "file_extension": ".py",
   "mimetype": "text/x-python",
   "name": "python",
   "nbconvert_exporter": "python",
   "pygments_lexer": "ipython3",
   "version": "3.7.7"
  }
 },
 "nbformat": 4,
 "nbformat_minor": 4
}
