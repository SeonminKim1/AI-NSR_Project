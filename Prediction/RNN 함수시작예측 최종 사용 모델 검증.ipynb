{
 "cells": [
  {
   "cell_type": "markdown",
   "metadata": {},
   "source": [
    "## 1. RNN ver1 - Predict 결과 읽어오기."
   ]
  },
  {
   "cell_type": "code",
   "execution_count": 31,
   "metadata": {},
   "outputs": [
    {
     "name": "stdout",
     "output_type": "stream",
     "text": [
      "binutils_op0\n",
      "addr2line_test_str_predict_result_op0.csv (1199980, 2)\n",
      "ar_test_str_predict_result_op0.csv (1238436, 2)\n",
      "as-new_test_str_predict_result_op0.csv (1972736, 2)\n",
      "bfdtest1_test_str_predict_result_op0.csv (1176020, 2)\n",
      "bfdtest2_test_str_predict_result_op0.csv (1176168, 2)\n",
      "chew_test_str_predict_result_op0.csv (25473, 2)\n",
      "cxxfilt_test_str_predict_result_op0.csv (1194872, 2)\n",
      "elfedit_test_str_predict_result_op0.csv (42498, 2)\n",
      "gentestdlls_test_str_predict_result_op0.csv (6946, 2)\n",
      "gprof_test_str_predict_result_op0.csv (1280096, 2)\n",
      "ld-new_test_str_predict_result_op0.csv (2024328, 2)\n",
      "nm-new_test_str_predict_result_op0.csv (1215184, 2)\n",
      "objcopy_test_str_predict_result_op0.csv (1386952, 2)\n",
      "objdump_test_str_predict_result_op0.csv (2338160, 2)\n",
      "ranlib_test_str_predict_result_op0.csv (1238436, 2)\n",
      "readelf_test_str_predict_result_op0.csv (1086568, 2)\n",
      "size_test_str_predict_result_op0.csv (1200084, 2)\n",
      "strings_test_str_predict_result_op0.csv (1199880, 2)\n",
      "strip-new_test_str_predict_result_op0.csv (1386948, 2)\n",
      "sysinfo_test_str_predict_result_op0.csv (28540, 2)\n",
      "\n",
      "binutils_op1\n",
      "addr2line_test_str_predict_result_op1.csv (1076384, 2)\n",
      "ar_test_str_predict_result_op1.csv (1114440, 2)\n",
      "as-new_test_str_predict_result_op1.csv (1818232, 2)\n",
      "bfdtest1_test_str_predict_result_op1.csv (1057096, 2)\n",
      "bfdtest2_test_str_predict_result_op1.csv (1057212, 2)\n",
      "chew_test_str_predict_result_op1.csv (21641, 2)\n",
      "cxxfilt_test_str_predict_result_op1.csv (1075544, 2)\n",
      "elfedit_test_str_predict_result_op1.csv (40005, 2)\n",
      "gentestdlls_test_str_predict_result_op1.csv (6395, 2)\n",
      "gprof_test_str_predict_result_op1.csv (1159948, 2)\n",
      "ld-new_test_str_predict_result_op1.csv (1869924, 2)\n",
      "nm-new_test_str_predict_result_op1.csv (1095328, 2)\n",
      "objcopy_test_str_predict_result_op1.csv (1256108, 2)\n",
      "objdump_test_str_predict_result_op1.csv (2174984, 2)\n",
      "ranlib_test_str_predict_result_op1.csv (1114440, 2)\n",
      "readelf_test_str_predict_result_op1.csv (1045960, 2)\n",
      "size_test_str_predict_result_op1.csv (1080636, 2)\n",
      "strings_test_str_predict_result_op1.csv (1080364, 2)\n",
      "strip-new_test_str_predict_result_op1.csv (1256104, 2)\n",
      "sysinfo_test_str_predict_result_op1.csv (25582, 2)\n",
      "\n",
      "binutils_op2\n",
      "addr2line_test_str_predict_result_op2.csv (1116788, 2)\n",
      "ar_test_str_predict_result_op2.csv (1154540, 2)\n",
      "as-new_test_str_predict_result_op2.csv (1874688, 2)\n",
      "bfdtest1_test_str_predict_result_op2.csv (1093432, 2)\n",
      "bfdtest2_test_str_predict_result_op2.csv (1093548, 2)\n",
      "chew_test_str_predict_result_op2.csv (23557, 2)\n",
      "cxxfilt_test_str_predict_result_op2.csv (1111852, 2)\n",
      "elfedit_test_str_predict_result_op2.csv (39335, 2)\n",
      "gentestdlls_test_str_predict_result_op2.csv (6367, 2)\n",
      "gprof_test_str_predict_result_op2.csv (1200332, 2)\n",
      "ld-new_test_str_predict_result_op2.csv (1918372, 2)\n",
      "nm-new_test_str_predict_result_op2.csv (1131960, 2)\n",
      "objcopy_test_str_predict_result_op2.csv (1292144, 2)\n",
      "objdump_test_str_predict_result_op2.csv (2219348, 2)\n",
      "ranlib_test_str_predict_result_op2.csv (1154536, 2)\n",
      "readelf_test_str_predict_result_op2.csv (1049736, 2)\n",
      "size_test_str_predict_result_op2.csv (1116980, 2)\n",
      "strings_test_str_predict_result_op2.csv (1116680, 2)\n",
      "strip-new_test_str_predict_result_op2.csv (1292144, 2)\n",
      "sysinfo_test_str_predict_result_op2.csv (27229, 2)\n",
      "\n",
      "binutils_op3\n",
      "addr2line_test_str_predict_result_op3.csv (1264284, 2)\n",
      "ar_test_str_predict_result_op3.csv (1310052, 2)\n",
      "as-new_test_str_predict_result_op3.csv (2115924, 2)\n",
      "bfdtest1_test_str_predict_result_op3.csv (1240960, 2)\n",
      "bfdtest2_test_str_predict_result_op3.csv (1241076, 2)\n",
      "chew_test_str_predict_result_op3.csv (28037, 2)\n",
      "cxxfilt_test_str_predict_result_op3.csv (1259320, 2)\n",
      "elfedit_test_str_predict_result_op3.csv (43085, 2)\n",
      "gentestdlls_test_str_predict_result_op3.csv (6351, 2)\n",
      "gprof_test_str_predict_result_op3.csv (1352068, 2)\n",
      "ld-new_test_str_predict_result_op3.csv (2148760, 2)\n",
      "nm-new_test_str_predict_result_op3.csv (1283224, 2)\n",
      "objcopy_test_str_predict_result_op3.csv (1472636, 2)\n",
      "objdump_test_str_predict_result_op3.csv (2492116, 2)\n",
      "ranlib_test_str_predict_result_op3.csv (1310052, 2)\n",
      "readelf_test_str_predict_result_op3.csv (1201512, 2)\n",
      "size_test_str_predict_result_op3.csv (1264396, 2)\n",
      "strings_test_str_predict_result_op3.csv (1264100, 2)\n",
      "strip-new_test_str_predict_result_op3.csv (1472636, 2)\n",
      "sysinfo_test_str_predict_result_op3.csv (29547, 2)\n"
     ]
    }
   ],
   "source": [
    "import os\n",
    "import pandas as pd\n",
    "\n",
    "# file_list op0~3\n",
    "file_list_op0 = os.listdir('data/predict_result/bin_op0')\n",
    "file_list_op1 = os.listdir('data/predict_result/bin_op1')\n",
    "file_list_op2 = os.listdir('data/predict_result/bin_op2')\n",
    "file_list_op3 = os.listdir('data/predict_result/bin_op3')\n",
    "\n",
    "print('binutils_op0')\n",
    "csv_op0 = []\n",
    "for f in file_list_op0:\n",
    "    csv = pd.read_csv('data/predict_result/bin_op0/'+f, index_col=0).loc[1:]\n",
    "    csv_op0.append(csv)\n",
    "    print(f, csv.shape)\n",
    "\n",
    "print('\\nbinutils_op1')\n",
    "csv_op1 = []\n",
    "for f in file_list_op1:\n",
    "    csv = pd.read_csv('data/predict_result/bin_op1/'+f, index_col=0).loc[1:]\n",
    "    csv_op1.append(csv)\n",
    "    print(f, csv.shape)\n",
    "\n",
    "print('\\nbinutils_op2')\n",
    "csv_op2 = []\n",
    "for f in file_list_op2:\n",
    "    csv = pd.read_csv('data/predict_result/bin_op2/'+f, index_col=0).loc[1:]\n",
    "    csv_op2.append(csv)\n",
    "    print(f, csv.shape)\n",
    "\n",
    "print('\\nbinutils_op3')\n",
    "csv_op3 = []\n",
    "for f in file_list_op3:\n",
    "    csv = pd.read_csv('data/predict_result/bin_op3/'+f, index_col=0).loc[1:]\n",
    "    csv_op3.append(csv)\n",
    "    print(f, csv.shape)"
   ]
  },
  {
   "cell_type": "markdown",
   "metadata": {},
   "source": [
    "## 2. 데이터 Concat & reset_index"
   ]
  },
  {
   "cell_type": "code",
   "execution_count": 32,
   "metadata": {},
   "outputs": [
    {
     "name": "stdout",
     "output_type": "stream",
     "text": [
      "(22418305, 2) (20426327, 2) (21033568, 2) (23800136, 2)\n"
     ]
    }
   ],
   "source": [
    "# 각 데이터별 concat\n",
    "seon_csv_op0 = pd.concat(csv_op0)\n",
    "seon_csv_op1 = pd.concat(csv_op1)\n",
    "seon_csv_op2 = pd.concat(csv_op2)\n",
    "seon_csv_op3 = pd.concat(csv_op3)\n",
    "\n",
    "# reset_index\n",
    "seon_csv_op0.reset_index(inplace=True, drop=True)\n",
    "seon_csv_op1.reset_index(inplace=True, drop=True)\n",
    "seon_csv_op2.reset_index(inplace=True, drop=True)\n",
    "seon_csv_op3.reset_index(inplace=True, drop=True)\n",
    "\n",
    "print(seon_csv_op0.shape, seon_csv_op1.shape, seon_csv_op2.shape, seon_csv_op3.shape)"
   ]
  },
  {
   "cell_type": "markdown",
   "metadata": {},
   "source": [
    "## 3. 전체 함수 시작점 갯수 확인"
   ]
  },
  {
   "cell_type": "code",
   "execution_count": 33,
   "metadata": {},
   "outputs": [
    {
     "name": "stdout",
     "output_type": "stream",
     "text": [
      "seon_csv_op0\n",
      " 0.0    22382732\n",
      "1.0       35573\n",
      "Name: label, dtype: int64 \n",
      "\n",
      "seon_csv_op1\n",
      " 0.0    20396884\n",
      "1.0       29443\n",
      "Name: label, dtype: int64 \n",
      "\n",
      "seon_csv_op2\n",
      " 0.0    21019237\n",
      "1.0       14331\n",
      "Name: label, dtype: int64 \n",
      "\n",
      "seon_csv_op3\n",
      " 0.0    23776625\n",
      "1.0       23511\n",
      "Name: label, dtype: int64 \n",
      "\n"
     ]
    }
   ],
   "source": [
    "# RNN 모델 Version 1\n",
    "print('seon_csv_op0\\n', seon_csv_op0['label'].value_counts(),'\\n')\n",
    "print('seon_csv_op1\\n', seon_csv_op1['label'].value_counts(),'\\n')\n",
    "print('seon_csv_op2\\n', seon_csv_op2['label'].value_counts(),'\\n')\n",
    "print('seon_csv_op3\\n', seon_csv_op3['label'].value_counts(),'\\n')"
   ]
  },
  {
   "cell_type": "markdown",
   "metadata": {},
   "source": [
    "## 4. 시작점들의 Binary 확인"
   ]
  },
  {
   "cell_type": "code",
   "execution_count": 34,
   "metadata": {},
   "outputs": [
    {
     "name": "stdout",
     "output_type": "stream",
     "text": [
      "bin_op0 binary\n",
      " 85     35463\n",
      "83        35\n",
      "139       27\n",
      "141       15\n",
      "134       14\n",
      "102        5\n",
      "197        4\n",
      "54         3\n",
      "118        2\n",
      "13         2\n",
      "26         1\n",
      "109        1\n",
      "129        1\n",
      "Name: bin, dtype: int64 \n",
      "\n",
      "bin_op1 binary\n",
      " 85     10602\n",
      "83      4341\n",
      "87      3267\n",
      "86      3095\n",
      "131     2810\n",
      "       ...  \n",
      "168        1\n",
      "57         1\n",
      "89         1\n",
      "121        1\n",
      "135        1\n",
      "Name: bin, Length: 172, dtype: int64 \n",
      "\n",
      "bin_op2 binary\n",
      " 85     7081\n",
      "83     2696\n",
      "87      833\n",
      "86      782\n",
      "139     490\n",
      "       ... \n",
      "74        1\n",
      "66        1\n",
      "237       1\n",
      "20        1\n",
      "142       1\n",
      "Name: bin, Length: 115, dtype: int64 \n",
      "\n",
      "bin_op3 binary\n",
      " 85     8817\n",
      "83     1946\n",
      "99     1566\n",
      "87      941\n",
      "86      766\n",
      "       ... \n",
      "106       1\n",
      "246       1\n",
      "171       1\n",
      "204       1\n",
      "255       1\n",
      "Name: bin, Length: 157, dtype: int64 \n",
      "\n"
     ]
    }
   ],
   "source": [
    "print('bin_op0 binary\\n', seon_csv_op0[seon_csv_op0['label']==1]['bin'].value_counts(), '\\n')\n",
    "print('bin_op1 binary\\n', seon_csv_op1[seon_csv_op1['label']==1]['bin'].value_counts(), '\\n')\n",
    "print('bin_op2 binary\\n', seon_csv_op2[seon_csv_op2['label']==1]['bin'].value_counts(), '\\n')\n",
    "print('bin_op3 binary\\n', seon_csv_op3[seon_csv_op3['label']==1]['bin'].value_counts(), '\\n')"
   ]
  },
  {
   "cell_type": "markdown",
   "metadata": {},
   "source": [
    "## 5. RNN ver2 - predict 읽어오기"
   ]
  },
  {
   "cell_type": "code",
   "execution_count": 35,
   "metadata": {},
   "outputs": [
    {
     "name": "stdout",
     "output_type": "stream",
     "text": [
      "binutils_op0\n",
      "addr2line_.csv (1199980, 3)\n",
      "ar_.csv (1238436, 3)\n",
      "as-new_.csv (1972736, 3)\n",
      "bfdtest1_.csv (1176020, 3)\n",
      "bfdtest2_.csv (1176168, 3)\n",
      "chew_.csv (25473, 3)\n",
      "cxxfilt_.csv (1194872, 3)\n",
      "elfedit_.csv (42498, 3)\n",
      "gentestdlls_.csv (6946, 3)\n",
      "gprof_.csv (1280096, 3)\n",
      "ld-new_.csv (2024328, 3)\n",
      "nm-new_.csv (1215184, 3)\n",
      "objcopy_.csv (1386952, 3)\n",
      "objdump_.csv (2338160, 3)\n",
      "ranlib_.csv (1238436, 3)\n",
      "readelf_.csv (1086568, 3)\n",
      "size_.csv (1200084, 3)\n",
      "strings_.csv (1199880, 3)\n",
      "strip-new_.csv (1386948, 3)\n",
      "sysinfo_.csv (28540, 3)\n",
      "\n",
      "binutils_op1\n",
      "addr2line_.csv (1076384, 3)\n",
      "ar_.csv (1114440, 3)\n",
      "as-new_.csv (1818232, 3)\n",
      "bfdtest1_.csv (1057096, 3)\n",
      "bfdtest2_.csv (1057212, 3)\n",
      "chew_.csv (21641, 3)\n",
      "cxxfilt_.csv (1075544, 3)\n",
      "elfedit_.csv (40005, 3)\n",
      "gentestdlls_.csv (6395, 3)\n",
      "gprof_.csv (1159948, 3)\n",
      "ld-new_.csv (1869924, 3)\n",
      "nm-new_.csv (1095328, 3)\n",
      "objcopy_.csv (1256108, 3)\n",
      "objdump_.csv (2174984, 3)\n",
      "ranlib_.csv (1114440, 3)\n",
      "readelf_.csv (1045960, 3)\n",
      "size_.csv (1080636, 3)\n",
      "strings_.csv (1080364, 3)\n",
      "strip-new_.csv (1256104, 3)\n",
      "sysinfo_.csv (25582, 3)\n",
      "\n",
      "binutils_op2\n",
      "addr2line_.csv (1116788, 3)\n",
      "ar_.csv (1154540, 3)\n",
      "as-new_.csv (1874688, 3)\n",
      "bfdtest1_.csv (1093432, 3)\n",
      "bfdtest2_.csv (1093548, 3)\n",
      "chew_.csv (23557, 3)\n",
      "cxxfilt_.csv (1111852, 3)\n",
      "elfedit_.csv (39335, 3)\n",
      "gentestdlls_.csv (6367, 3)\n",
      "gprof_.csv (1200332, 3)\n",
      "ld-new_.csv (1918372, 3)\n",
      "nm-new_.csv (1131960, 3)\n",
      "objcopy_.csv (1292144, 3)\n",
      "objdump_.csv (2219348, 3)\n",
      "ranlib_.csv (1154536, 3)\n",
      "readelf_.csv (1049736, 3)\n",
      "size_.csv (1116980, 3)\n",
      "strings_.csv (1116680, 3)\n",
      "strip-new_.csv (1292144, 3)\n",
      "sysinfo_.csv (27229, 3)\n",
      "\n",
      "binutils_op3\n",
      "addr2line_.csv (1264284, 3)\n",
      "ar_.csv (1310052, 3)\n",
      "as-new_.csv (2115924, 3)\n",
      "bfdtest1_.csv (1240960, 3)\n",
      "bfdtest2_.csv (1241076, 3)\n",
      "chew_.csv (28037, 3)\n",
      "cxxfilt_.csv (1259320, 3)\n",
      "elfedit_.csv (43085, 3)\n",
      "gentestdlls_.csv (6351, 3)\n",
      "gprof_.csv (1352068, 3)\n",
      "ld-new_.csv (2148760, 3)\n",
      "nm-new_.csv (1283224, 3)\n",
      "objcopy_.csv (1472636, 3)\n",
      "objdump_.csv (2492116, 3)\n",
      "ranlib_.csv (1310052, 3)\n",
      "readelf_.csv (1201512, 3)\n",
      "size_.csv (1264396, 3)\n",
      "strings_.csv (1264100, 3)\n",
      "strip-new_.csv (1472636, 3)\n",
      "sysinfo_.csv (29547, 3)\n"
     ]
    }
   ],
   "source": [
    "import os\n",
    "import pandas as pd\n",
    "\n",
    "# file_list op0~3\n",
    "file_list_op0 = os.listdir('data/predict_result_jang/bin_op0')\n",
    "file_list_op1 = os.listdir('data/predict_result_jang/bin_op1')\n",
    "file_list_op2 = os.listdir('data/predict_result_jang/bin_op2')\n",
    "file_list_op3 = os.listdir('data/predict_result_jang/bin_op3')\n",
    "\n",
    "print('binutils_op0')\n",
    "csv_op0 = []\n",
    "for f in file_list_op0:\n",
    "    csv = pd.read_csv('data/predict_result_jang/bin_op0/'+f, index_col=0).loc[1:]\n",
    "    csv_op0.append(csv)\n",
    "    print(f, csv.shape)\n",
    "\n",
    "print('\\nbinutils_op1')\n",
    "csv_op1 = []\n",
    "for f in file_list_op1:\n",
    "    csv = pd.read_csv('data/predict_result_jang/bin_op1/'+f, index_col=0).loc[1:]\n",
    "    csv_op1.append(csv)\n",
    "    print(f, csv.shape)\n",
    "\n",
    "print('\\nbinutils_op2')\n",
    "csv_op2 = []\n",
    "for f in file_list_op2:\n",
    "    csv = pd.read_csv('data/predict_result_jang/bin_op2/'+f, index_col=0).loc[1:]\n",
    "    csv_op2.append(csv)\n",
    "    print(f, csv.shape)\n",
    "\n",
    "print('\\nbinutils_op3')\n",
    "csv_op3 = []\n",
    "for f in file_list_op3:\n",
    "    csv = pd.read_csv('data/predict_result_jang/bin_op3/'+f, index_col=0).loc[1:]\n",
    "    csv_op3.append(csv)\n",
    "    print(f, csv.shape)"
   ]
  },
  {
   "cell_type": "markdown",
   "metadata": {},
   "source": [
    "## 6. 데이터 concat & reset_index"
   ]
  },
  {
   "cell_type": "code",
   "execution_count": 36,
   "metadata": {},
   "outputs": [
    {
     "name": "stdout",
     "output_type": "stream",
     "text": [
      "(22418305, 3) (20426327, 3) (21033568, 3) (23800136, 3)\n"
     ]
    }
   ],
   "source": [
    "# 각 데이터별 concat\n",
    "jang_csv_op0 = pd.concat(csv_op0)\n",
    "jang_csv_op1 = pd.concat(csv_op1)\n",
    "jang_csv_op2 = pd.concat(csv_op2)\n",
    "jang_csv_op3 = pd.concat(csv_op3)\n",
    "\n",
    "# reset_index\n",
    "jang_csv_op0.reset_index(inplace=True, drop=True)\n",
    "jang_csv_op1.reset_index(inplace=True, drop=True)\n",
    "jang_csv_op2.reset_index(inplace=True, drop=True)\n",
    "jang_csv_op3.reset_index(inplace=True, drop=True)\n",
    "\n",
    "print(jang_csv_op0.shape, jang_csv_op1.shape, jang_csv_op2.shape, jang_csv_op3.shape)"
   ]
  },
  {
   "cell_type": "markdown",
   "metadata": {},
   "source": [
    "## 7. 전체 함수 시작점 갯수 확인"
   ]
  },
  {
   "cell_type": "code",
   "execution_count": 37,
   "metadata": {},
   "outputs": [
    {
     "name": "stdout",
     "output_type": "stream",
     "text": [
      "jang_csv_op0\n",
      " 0.0    22382683\n",
      "1.0       35622\n",
      "Name: predict, dtype: int64 \n",
      "\n",
      "jang_csv_op1\n",
      " 0.0    20395206\n",
      "1.0       31121\n",
      "Name: predict, dtype: int64 \n",
      "\n",
      "jang_csv_op2\n",
      " 0.0    20993751\n",
      "1.0       39817\n",
      "Name: predict, dtype: int64 \n",
      "\n",
      "jang_csv_op3\n",
      " 0.0    23778085\n",
      "1.0       22051\n",
      "Name: predict, dtype: int64 \n",
      "\n"
     ]
    }
   ],
   "source": [
    "# RNN 모델 Version 1\n",
    "print('jang_csv_op0\\n', jang_csv_op0['predict'].value_counts(),'\\n')\n",
    "print('jang_csv_op1\\n', jang_csv_op1['predict'].value_counts(),'\\n')\n",
    "print('jang_csv_op2\\n', jang_csv_op2['predict'].value_counts(),'\\n')\n",
    "print('jang_csv_op3\\n', jang_csv_op3['predict'].value_counts(),'\\n')"
   ]
  },
  {
   "cell_type": "markdown",
   "metadata": {},
   "source": [
    "## 8. 시작점들의 Binary 확인"
   ]
  },
  {
   "cell_type": "code",
   "execution_count": 38,
   "metadata": {},
   "outputs": [
    {
     "name": "stdout",
     "output_type": "stream",
     "text": [
      "bin_op0 binary\n",
      " 85     35543\n",
      "139       53\n",
      "141       17\n",
      "83         7\n",
      "102        2\n",
      "Name: binary, dtype: int64 \n",
      "\n",
      "bin_op1 binary\n",
      " 85     10540\n",
      "83      3383\n",
      "87      3075\n",
      "86      2904\n",
      "131     2667\n",
      "       ...  \n",
      "59         1\n",
      "68         1\n",
      "20         1\n",
      "67         1\n",
      "215        1\n",
      "Name: binary, Length: 202, dtype: int64 \n",
      "\n",
      "bin_op2 binary\n",
      " 85     8912\n",
      "14     8414\n",
      "83     3537\n",
      "87     2230\n",
      "86     1523\n",
      "       ... \n",
      "117       1\n",
      "227       1\n",
      "92        1\n",
      "80        1\n",
      "106       1\n",
      "Name: binary, Length: 229, dtype: int64 \n",
      "\n",
      "bin_op3 binary\n",
      " 14     7901\n",
      "85     7622\n",
      "83     1407\n",
      "139     765\n",
      "87      608\n",
      "       ... \n",
      "205       1\n",
      "179       1\n",
      "206       1\n",
      "238       1\n",
      "141       1\n",
      "Name: binary, Length: 200, dtype: int64 \n",
      "\n"
     ]
    }
   ],
   "source": [
    "print('bin_op0 binary\\n', jang_csv_op0[jang_csv_op0['predict']==1]['binary'].value_counts(), '\\n')\n",
    "print('bin_op1 binary\\n', jang_csv_op1[jang_csv_op1['predict']==1]['binary'].value_counts(), '\\n')\n",
    "print('bin_op2 binary\\n', jang_csv_op2[jang_csv_op2['predict']==1]['binary'].value_counts(), '\\n')\n",
    "print('bin_op3 binary\\n', jang_csv_op3[jang_csv_op3['predict']==1]['binary'].value_counts(), '\\n')"
   ]
  },
  {
   "cell_type": "markdown",
   "metadata": {},
   "source": [
    "## 9. Bin 끼리 비교 및 최종 파일 검증"
   ]
  },
  {
   "cell_type": "code",
   "execution_count": 40,
   "metadata": {},
   "outputs": [
    {
     "name": "stdout",
     "output_type": "stream",
     "text": [
      "22418305 22418305\n",
      "20426327 20426327\n",
      "21033568 21033568\n",
      "23800136 23800136\n",
      "bin op0 정보가 같습니다.\n",
      "bin op1 정보가 같습니다.\n",
      "bin op2 정보가 같습니다.\n",
      "bin op3 정보가 같습니다.\n"
     ]
    }
   ],
   "source": [
    "# 행 갯수가 같은지 검증\n",
    "print(seon_csv_op0.shape[0], jang_csv_op0.shape[0]) \n",
    "print(seon_csv_op1.shape[0], jang_csv_op1.shape[0]) \n",
    "print(seon_csv_op2.shape[0], jang_csv_op2.shape[0]) \n",
    "print(seon_csv_op3.shape[0], jang_csv_op3.shape[0]) \n",
    "\n",
    "if list(seon_csv_op0['bin']) == list(jang_csv_op0['binary']):\n",
    "    print('bin op0 정보가 같습니다.')\n",
    "else:\n",
    "    print('bin op0 정보가 다릅니다. - 아마 concat 문제나 데이터 누락')\n",
    "\n",
    "if list(seon_csv_op1['bin']) == list(jang_csv_op1['binary']):\n",
    "    print('bin op1 정보가 같습니다.')\n",
    "else:\n",
    "    print('bin op1 정보가 다릅니다. - 아마 concat 문제나 데이터 누락')\n",
    "\n",
    "if list(seon_csv_op2['bin']) == list(jang_csv_op2['binary']):\n",
    "    print('bin op2 정보가 같습니다.')\n",
    "else:\n",
    "    print('bin op2 정보가 다릅니다. - 아마 concat 문제나 데이터 누락')\n",
    "\n",
    "if list(seon_csv_op3['bin']) == list(jang_csv_op3['binary']):\n",
    "    print('bin op3 정보가 같습니다.')\n",
    "else:\n",
    "    print('bin op3 정보가 다릅니다. - 아마 concat 문제나 데이터 누락')\n"
   ]
  },
  {
   "cell_type": "markdown",
   "metadata": {},
   "source": [
    "## 9. predict & label union"
   ]
  },
  {
   "cell_type": "code",
   "execution_count": 41,
   "metadata": {},
   "outputs": [
    {
     "name": "stdout",
     "output_type": "stream",
     "text": [
      "최종 predict 데이터 생성 완료\n"
     ]
    }
   ],
   "source": [
    "# label 표 합침.\n",
    "final_csv_op0 = pd.concat([seon_csv_op0, jang_csv_op0['predict']], axis=1)\n",
    "final_csv_op1 = pd.concat([seon_csv_op1, jang_csv_op1['predict']], axis=1)\n",
    "final_csv_op2 = pd.concat([seon_csv_op2, jang_csv_op2['predict']], axis=1)\n",
    "final_csv_op3 = pd.concat([seon_csv_op3, jang_csv_op3['predict']], axis=1)\n",
    "\n",
    "print('최종 predict 데이터 생성 완료')"
   ]
  },
  {
   "cell_type": "markdown",
   "metadata": {},
   "source": [
    "# --------------------------------------------------------------------------------------- #\n",
    "# -------------------------- predict 데이터 생성 완료 -------------------------- #\n",
    "# --------------------------------------------------------------------------------------- #"
   ]
  },
  {
   "cell_type": "code",
   "execution_count": 51,
   "metadata": {},
   "outputs": [],
   "source": [
    "# 형변환 int 형으로 -> or 연산을 위한\n",
    "final_csv_op0['label'] = final_csv_op0['label'].astype(int)\n",
    "final_csv_op0['predict'] = final_csv_op0['predict'].astype(int)\n",
    "\n",
    "final_csv_op1['label'] = final_csv_op1['label'].astype(int)\n",
    "final_csv_op1['predict'] = final_csv_op1['predict'].astype(int)\n",
    "\n",
    "final_csv_op2['label'] = final_csv_op2['label'].astype(int)\n",
    "final_csv_op2['predict'] = final_csv_op2['predict'].astype(int)\n",
    "\n",
    "final_csv_op3['label'] = final_csv_op3['label'].astype(int)\n",
    "final_csv_op3['predict'] = final_csv_op3['predict'].astype(int)"
   ]
  },
  {
   "cell_type": "code",
   "execution_count": 52,
   "metadata": {},
   "outputs": [
    {
     "name": "stdout",
     "output_type": "stream",
     "text": [
      "(22418305, 4) (20426327, 4) (21033568, 4) (23800136, 4)\n"
     ]
    }
   ],
   "source": [
    "# \n",
    "final_csv_op0['final_label'] = final_csv_op0['label'] | final_csv_op0['predict']\n",
    "final_csv_op1['final_label'] = final_csv_op1['label'] | final_csv_op1['predict']\n",
    "final_csv_op2['final_label'] = final_csv_op2['label'] | final_csv_op2['predict']\n",
    "final_csv_op3['final_label'] = final_csv_op3['label'] | final_csv_op3['predict']\n",
    "\n",
    "print(final_csv_op0.shape, final_csv_op1.shape, final_csv_op2.shape, final_csv_op3.shape)"
   ]
  },
  {
   "cell_type": "code",
   "execution_count": 53,
   "metadata": {},
   "outputs": [
    {
     "name": "stdout",
     "output_type": "stream",
     "text": [
      "-------- seon predict ---------\n",
      "0    22382732\n",
      "1       35573\n",
      "Name: label, dtype: int64\n",
      "0    20396884\n",
      "1       29443\n",
      "Name: label, dtype: int64\n",
      "0    21019237\n",
      "1       14331\n",
      "Name: label, dtype: int64\n",
      "0    23776625\n",
      "1       23511\n",
      "Name: label, dtype: int64\n",
      "\n",
      "-------- jang predict ---------\n",
      "0    22382683\n",
      "1       35622\n",
      "Name: predict, dtype: int64\n",
      "0    20395206\n",
      "1       31121\n",
      "Name: predict, dtype: int64\n",
      "0    20993751\n",
      "1       39817\n",
      "Name: predict, dtype: int64\n",
      "0    23778085\n",
      "1       22051\n",
      "Name: predict, dtype: int64\n",
      "\n",
      "-------- union predict ---------\n",
      "0    22382600\n",
      "1       35705\n",
      "Name: final_label, dtype: int64\n",
      "0    20390403\n",
      "1       35924\n",
      "Name: final_label, dtype: int64\n",
      "0    20986765\n",
      "1       46803\n",
      "Name: final_label, dtype: int64\n",
      "0    23761454\n",
      "1       38682\n",
      "Name: final_label, dtype: int64\n"
     ]
    }
   ],
   "source": [
    "# seon predict\n",
    "print('-------- seon predict ---------')\n",
    "print(final_csv_op0['label'].value_counts())\n",
    "print(final_csv_op1['label'].value_counts())\n",
    "print(final_csv_op2['label'].value_counts())\n",
    "print(final_csv_op3['label'].value_counts())\n",
    "\n",
    "# jang predict\n",
    "print('\\n-------- jang predict ---------')\n",
    "print(final_csv_op0['predict'].value_counts())\n",
    "print(final_csv_op1['predict'].value_counts())\n",
    "print(final_csv_op2['predict'].value_counts())\n",
    "print(final_csv_op3['predict'].value_counts())\n",
    "\n",
    "# union predict\n",
    "print('\\n-------- union predict ---------')\n",
    "print(final_csv_op0['final_label'].value_counts())\n",
    "print(final_csv_op1['final_label'].value_counts())\n",
    "print(final_csv_op2['final_label'].value_counts())\n",
    "print(final_csv_op3['final_label'].value_counts())\n"
   ]
  },
  {
   "cell_type": "markdown",
   "metadata": {},
   "source": [
    "# --------------------------------------------------------------------------------------- #\n",
    "# -------------------------- union   데이터 생성 완료 -------------------------- #\n",
    "# --------------------------------------------------------------------------------------- #"
   ]
  },
  {
   "cell_type": "markdown",
   "metadata": {},
   "source": [
    "## 10. 가상 정답지 Load"
   ]
  },
  {
   "cell_type": "code",
   "execution_count": 43,
   "metadata": {},
   "outputs": [
    {
     "name": "stdout",
     "output_type": "stream",
     "text": [
      "binutils_O0\n",
      "addr2line_test.csv (1199980, 2)\n",
      "ar_test.csv (1238436, 2)\n",
      "as-new_test.csv (1972736, 2)\n",
      "bfdtest1_test.csv (1176020, 2)\n",
      "bfdtest2_test.csv (1176168, 2)\n",
      "chew_test.csv (25473, 2)\n",
      "cxxfilt_test.csv (1194872, 2)\n",
      "elfedit_test.csv (42498, 2)\n",
      "gentestdlls_test.csv (6946, 2)\n",
      "gprof_test.csv (1280096, 2)\n",
      "ld-new_test.csv (2024328, 2)\n",
      "nm-new_test.csv (1215184, 2)\n",
      "objcopy_test.csv (1386952, 2)\n",
      "objdump_test.csv (2338160, 2)\n",
      "ranlib_test.csv (1238436, 2)\n",
      "readelf_test.csv (1086568, 2)\n",
      "size_test.csv (1200084, 2)\n",
      "strings_test.csv (1199880, 2)\n",
      "strip-new_test.csv (1386948, 2)\n",
      "sysinfo_test.csv (28540, 2)\n",
      "\n",
      "binutils_O1\n",
      "addr2line_test.csv (1076384, 2)\n",
      "ar_test.csv (1114440, 2)\n",
      "as-new_test.csv (1818232, 2)\n",
      "bfdtest1_test.csv (1057096, 2)\n",
      "bfdtest2_test.csv (1057212, 2)\n",
      "chew_test.csv (21641, 2)\n",
      "cxxfilt_test.csv (1075544, 2)\n",
      "elfedit_test.csv (40005, 2)\n",
      "gentestdlls_test.csv (6395, 2)\n",
      "gprof_test.csv (1159948, 2)\n",
      "ld-new_test.csv (1869924, 2)\n",
      "nm-new_test.csv (1095328, 2)\n",
      "objcopy_test.csv (1256108, 2)\n",
      "objdump_test.csv (2174984, 2)\n",
      "ranlib_test.csv (1114440, 2)\n",
      "readelf_test.csv (1045960, 2)\n",
      "size_test.csv (1080636, 2)\n",
      "strings_test.csv (1080364, 2)\n",
      "strip-new_test.csv (1256104, 2)\n",
      "sysinfo_test.csv (25582, 2)\n",
      "\n",
      "binutils_O2\n",
      "addr2line_test.csv (1116788, 2)\n",
      "ar_test.csv (1154540, 2)\n",
      "as-new_test.csv (1874688, 2)\n",
      "bfdtest1_test.csv (1093432, 2)\n",
      "bfdtest2_test.csv (1093548, 2)\n",
      "chew_test.csv (23557, 2)\n",
      "cxxfilt_test.csv (1111852, 2)\n",
      "elfedit_test.csv (39335, 2)\n",
      "gentestdlls_test.csv (6367, 2)\n",
      "gprof_test.csv (1200332, 2)\n",
      "ld-new_test.csv (1918372, 2)\n",
      "nm-new_test.csv (1131960, 2)\n",
      "objcopy_test.csv (1292144, 2)\n",
      "objdump_test.csv (2219348, 2)\n",
      "ranlib_test.csv (1154536, 2)\n",
      "readelf_test.csv (1049736, 2)\n",
      "size_test.csv (1116980, 2)\n",
      "strings_test.csv (1116680, 2)\n",
      "strip-new_test.csv (1292144, 2)\n",
      "sysinfo_test.csv (27229, 2)\n",
      "\n",
      "binutils_O3\n",
      "addr2line_test.csv (1264284, 2)\n",
      "ar_test.csv (1310052, 2)\n",
      "as-new_test.csv (2115924, 2)\n",
      "bfdtest1_test.csv (1240960, 2)\n",
      "bfdtest2_test.csv (1241076, 2)\n",
      "chew_test.csv (28037, 2)\n",
      "cxxfilt_test.csv (1259320, 2)\n",
      "elfedit_test.csv (43085, 2)\n",
      "gentestdlls_test.csv (6351, 2)\n",
      "gprof_test.csv (1352068, 2)\n",
      "ld-new_test.csv (2148760, 2)\n",
      "nm-new_test.csv (1283224, 2)\n",
      "objcopy_test.csv (1472636, 2)\n",
      "objdump_test.csv (2492116, 2)\n",
      "ranlib_test.csv (1310052, 2)\n",
      "readelf_test.csv (1201512, 2)\n",
      "size_test.csv (1264396, 2)\n",
      "strings_test.csv (1264100, 2)\n",
      "strip-new_test.csv (1472636, 2)\n",
      "sysinfo_test.csv (29547, 2)\n"
     ]
    }
   ],
   "source": [
    "import os\n",
    "import pandas as pd\n",
    "\n",
    "# file_list op0~3\n",
    "file_list_op0 = os.listdir('data/binutils_answer/0_answer')\n",
    "file_list_op1 = os.listdir('data/binutils_answer/1_answer')\n",
    "file_list_op2 = os.listdir('data/binutils_answer/2_answer')\n",
    "file_list_op3 = os.listdir('data/binutils_answer/3_answer')\n",
    "\n",
    "print('binutils_O0')\n",
    "csv_op0 = []\n",
    "for f in file_list_op0:\n",
    "    csv = pd.read_csv('data/binutils_answer/0_answer/'+f, index_col=0)\n",
    "    csv_op0.append(csv)\n",
    "    print(f, csv.shape)\n",
    "\n",
    "print('\\nbinutils_O1')\n",
    "csv_op1 = []\n",
    "for f in file_list_op1:\n",
    "    csv = pd.read_csv('data/binutils_answer/1_answer/'+f, index_col=0)\n",
    "    csv_op1.append(csv)\n",
    "    print(f, csv.shape)\n",
    "\n",
    "print('\\nbinutils_O2')\n",
    "csv_op2 = []\n",
    "for f in file_list_op2:\n",
    "    csv = pd.read_csv('data/binutils_answer/2_answer/'+f, index_col=0)\n",
    "    csv_op2.append(csv)\n",
    "    print(f, csv.shape)\n",
    "\n",
    "print('\\nbinutils_O3')\n",
    "csv_op3 = []\n",
    "for f in file_list_op3:\n",
    "    csv = pd.read_csv('data/binutils_answer/3_answer/'+f, index_col=0)\n",
    "    csv_op3.append(csv)\n",
    "    print(f, csv.shape)"
   ]
  },
  {
   "cell_type": "markdown",
   "metadata": {},
   "source": [
    "## 11. 정답지 concat 및 reset_index()"
   ]
  },
  {
   "cell_type": "code",
   "execution_count": 44,
   "metadata": {},
   "outputs": [
    {
     "name": "stdout",
     "output_type": "stream",
     "text": [
      "(22418305, 2) (20426327, 2) (21033568, 2) (23800136, 2)\n"
     ]
    }
   ],
   "source": [
    "# 각 데이터별 concat\n",
    "test_csv_op0 = pd.concat(csv_op0)\n",
    "test_csv_op1 = pd.concat(csv_op1)\n",
    "test_csv_op2 = pd.concat(csv_op2)\n",
    "test_csv_op3 = pd.concat(csv_op3)\n",
    "\n",
    "# reset_index\n",
    "test_csv_op0.reset_index(inplace=True, drop=True)\n",
    "test_csv_op1.reset_index(inplace=True, drop=True)\n",
    "test_csv_op2.reset_index(inplace=True, drop=True)\n",
    "test_csv_op3.reset_index(inplace=True, drop=True)\n",
    "\n",
    "print(test_csv_op0.shape, test_csv_op1.shape, test_csv_op2.shape, test_csv_op3.shape)"
   ]
  },
  {
   "cell_type": "markdown",
   "metadata": {},
   "source": [
    "## 12. 정답지 시작점 갯수 및 binary 확인"
   ]
  },
  {
   "cell_type": "code",
   "execution_count": 45,
   "metadata": {},
   "outputs": [
    {
     "name": "stdout",
     "output_type": "stream",
     "text": [
      "-------- answer predict ---------\n",
      "test_csv_op0\n",
      " 0    22149366\n",
      "1      268939\n",
      "Name: label, dtype: int64 \n",
      "\n",
      "test_csv_op1\n",
      " 0    20210803\n",
      "1      215524\n",
      "Name: label, dtype: int64 \n",
      "\n",
      "test_csv_op2\n",
      " 0    20849768\n",
      "1      183800\n",
      "Name: label, dtype: int64 \n",
      "\n",
      "test_csv_op3\n",
      " 0    23776300\n",
      "1       23836\n",
      "Name: label, dtype: int64 \n",
      "\n"
     ]
    }
   ],
   "source": [
    "# RNN 모델 Version 1\n",
    "print('-------- answer predict ---------')\n",
    "print('test_csv_op0\\n', test_csv_op0['label'].value_counts(),'\\n')\n",
    "print('test_csv_op1\\n', test_csv_op1['label'].value_counts(),'\\n')\n",
    "print('test_csv_op2\\n', test_csv_op2['label'].value_counts(),'\\n')\n",
    "print('test_csv_op3\\n', test_csv_op3['label'].value_counts(),'\\n')"
   ]
  },
  {
   "cell_type": "markdown",
   "metadata": {},
   "source": [
    "# --------------------------------------------------------------------------------------- #\n",
    "# -------------------------- test 데이터 생성 완료 ------------------------------ #\n",
    "# --------------------------------------------------------------------------------------- #"
   ]
  },
  {
   "cell_type": "markdown",
   "metadata": {},
   "source": [
    "## 14. TO_CSV 저장"
   ]
  },
  {
   "cell_type": "code",
   "execution_count": 55,
   "metadata": {},
   "outputs": [
    {
     "name": "stdout",
     "output_type": "stream",
     "text": [
      "모든 섹션에 대해 뽑은 정답 라벨 학습\n",
      "모든 섹션에 대해 뽑은 정답 라벨 학습결과 TO CSV 완료\n"
     ]
    }
   ],
   "source": [
    "print('모든 섹션에 대해 뽑은 정답 라벨 학습')\n",
    "test_csv_op0.to_csv('binutils_op0_all_section.csv')\n",
    "test_csv_op1.to_csv('binutils_op1_all_section.csv')\n",
    "test_csv_op2.to_csv('binutils_op2_all_section.csv')\n",
    "test_csv_op3.to_csv('binutils_op3_all_section.csv')\n",
    "\n",
    "print('모든 섹션에 대해 뽑은 정답 라벨 학습결과 TO CSV 완료')"
   ]
  },
  {
   "cell_type": "markdown",
   "metadata": {},
   "source": [
    "## 15. 최종 체크"
   ]
  },
  {
   "cell_type": "code",
   "execution_count": 47,
   "metadata": {},
   "outputs": [
    {
     "name": "stdout",
     "output_type": "stream",
     "text": [
      "op3  0.9988450906330956 0.4165967444202047 0.4223554931734082 0.41945635415126614\n"
     ]
    }
   ],
   "source": [
    "## op3 - 선민\n",
    "\n",
    "from sklearn.metrics import accuracy_score, recall_score, precision_score, f1_score, confusion_matrix\n",
    "\n",
    "################ op3\n",
    "pred = final_csv_op3['label'].values\n",
    "y_test = test_csv_op3['label'].values\n",
    "\n",
    "k_accuracy = float(accuracy_score(y_test, pred))\n",
    "k_recall =  float(recall_score(y_test, pred))\n",
    "k_precision = float(precision_score(y_test, pred))\n",
    "k_f1_score = float(f1_score(y_test, pred))\n",
    "\n",
    "print('op3 ', k_accuracy, k_recall, k_precision, k_f1_score)"
   ]
  },
  {
   "cell_type": "code",
   "execution_count": 48,
   "metadata": {},
   "outputs": [
    {
     "name": "stdout",
     "output_type": "stream",
     "text": [
      "op3  0.9989304682964837 0.42859540191307266 0.4632896467280395 0.4452677228844771\n"
     ]
    }
   ],
   "source": [
    "## op3 - 두혁\n",
    "\n",
    "from sklearn.metrics import accuracy_score, recall_score, precision_score, f1_score, confusion_matrix\n",
    "\n",
    "################ op3\n",
    "pred = final_csv_op3['predict'].values\n",
    "y_test = test_csv_op3['label'].values\n",
    "\n",
    "k_accuracy = float(accuracy_score(y_test, pred))\n",
    "k_recall =  float(recall_score(y_test, pred))\n",
    "k_precision = float(precision_score(y_test, pred))\n",
    "k_f1_score = float(f1_score(y_test, pred))\n",
    "\n",
    "print('op3 ', k_accuracy, k_recall, k_precision, k_f1_score)"
   ]
  },
  {
   "cell_type": "code",
   "execution_count": 54,
   "metadata": {},
   "outputs": [
    {
     "name": "stdout",
     "output_type": "stream",
     "text": [
      "op3  0.9985137059721003 0.5693908373888237 0.350860865518846 0.43417895646053944\n"
     ]
    }
   ],
   "source": [
    "## op3 - 합집합\n",
    "\n",
    "from sklearn.metrics import accuracy_score, recall_score, precision_score, f1_score, confusion_matrix\n",
    "\n",
    "################ op3\n",
    "pred = final_csv_op3['final_label'].values\n",
    "y_test = test_csv_op3['label'].values\n",
    "\n",
    "k_accuracy = float(accuracy_score(y_test, pred))\n",
    "k_recall =  float(recall_score(y_test, pred))\n",
    "k_precision = float(precision_score(y_test, pred))\n",
    "k_f1_score = float(f1_score(y_test, pred))\n",
    "\n",
    "print('op3 ', k_accuracy, k_recall, k_precision, k_f1_score)"
   ]
  },
  {
   "cell_type": "code",
   "execution_count": null,
   "metadata": {},
   "outputs": [],
   "source": [
    "# 전체\n",
    "################ op0\n",
    "pred = final_csv_op0['label'].values\n",
    "y_test = test_csv_op0['label'].values\n",
    "\n",
    "k_accuracy = float(accuracy_score(y_test, pred))\n",
    "k_recall =  float(recall_score(y_test, pred))\n",
    "k_precision = float(precision_score(y_test, pred))\n",
    "k_f1_score = float(f1_score(y_test, pred))\n",
    "\n",
    "print('op0', k_accuracy, k_recall, k_precision, k_f1_score)\n",
    "\n",
    "############### op1\n",
    "pred = final_csv_op1['label'].values\n",
    "y_test = test_csv_op1['label'].values\n",
    "\n",
    "k_accuracy = float(accuracy_score(y_test, pred))\n",
    "k_recall =  float(recall_score(y_test, pred))\n",
    "k_precision = float(precision_score(y_test, pred))\n",
    "k_f1_score = float(f1_score(y_test, pred))\n",
    "\n",
    "print('op1 ', k_accuracy, k_recall, k_precision, k_f1_score)\n",
    "\n",
    "################# op2\n",
    "pred = final_csv_op2['label'].values\n",
    "y_test = test_csv_op2['label'].values\n",
    "\n",
    "k_accuracy = float(accuracy_score(y_test, pred))\n",
    "k_recall =  float(recall_score(y_test, pred))\n",
    "k_precision = float(precision_score(y_test, pred))\n",
    "k_f1_score = float(f1_score(y_test, pred))\n",
    "\n",
    "print('op2 ', k_accuracy, k_recall, k_precision, k_f1_score)"
   ]
  },
  {
   "cell_type": "code",
   "execution_count": null,
   "metadata": {},
   "outputs": [],
   "source": [
    "print('-------- answer bin_op0 ---------')\n",
    "test_csv_op0[test_csv_op0['label']==1]['bin'].value_counts().to_frame().to_csv('predict_op0.csv',columns=['bin','count'])\n",
    "print(test_csv_op0[test_csv_op0['label']==1]['bin'].value_counts())\n",
    "\n",
    "print('\\n-------- answer bin_op1 ---------')\n",
    "test_csv_op1[test_csv_op1['label']==1]['bin'].value_counts().to_frame().to_csv('predict_op1.csv',columns=['bin','count'])\n",
    "print(test_csv_op1[test_csv_op1['label']==1]['bin'].value_counts())\n",
    "\n",
    "print('\\n-------- answer bin_op2 ---------')\n",
    "test_csv_op2[test_csv_op2['label']==1]['bin'].value_counts().to_frame().to_csv('predict_op2.csv',columns=['bin','count'])\n",
    "print(test_csv_op2[test_csv_op2['label']==1]['bin'].value_counts())\n",
    "\n",
    "print('\\n-------- answer bin_op3 ---------')\n",
    "test_csv_op3[test_csv_op3['label']==1]['bin'].value_counts().to_frame().to_csv('predict_op3.csv',columns=['bin','count'])\n",
    "print(test_csv_op3[test_csv_op3['label']==1]['bin'].value_counts())"
   ]
  }
 ],
 "metadata": {
  "kernelspec": {
   "display_name": "Python 3",
   "language": "python",
   "name": "python3"
  },
  "language_info": {
   "codemirror_mode": {
    "name": "ipython",
    "version": 3
   },
   "file_extension": ".py",
   "mimetype": "text/x-python",
   "name": "python",
   "nbconvert_exporter": "python",
   "pygments_lexer": "ipython3",
   "version": "3.7.5"
  }
 },
 "nbformat": 4,
 "nbformat_minor": 4
}
