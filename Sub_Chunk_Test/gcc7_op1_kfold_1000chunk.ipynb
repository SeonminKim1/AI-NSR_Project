{
 "cells": [
  {
   "cell_type": "code",
   "execution_count": 1,
   "metadata": {},
   "outputs": [
    {
     "name": "stderr",
     "output_type": "stream",
     "text": [
      "Using TensorFlow backend.\n"
     ]
    },
    {
     "name": "stdout",
     "output_type": "stream",
     "text": [
      "(1875089, 2)\n"
     ]
    },
    {
     "data": {
      "text/html": [
       "<div>\n",
       "<style scoped>\n",
       "    .dataframe tbody tr th:only-of-type {\n",
       "        vertical-align: middle;\n",
       "    }\n",
       "\n",
       "    .dataframe tbody tr th {\n",
       "        vertical-align: top;\n",
       "    }\n",
       "\n",
       "    .dataframe thead th {\n",
       "        text-align: right;\n",
       "    }\n",
       "</style>\n",
       "<table border=\"1\" class=\"dataframe\">\n",
       "  <thead>\n",
       "    <tr style=\"text-align: right;\">\n",
       "      <th></th>\n",
       "      <th>hex</th>\n",
       "      <th>bin</th>\n",
       "    </tr>\n",
       "  </thead>\n",
       "  <tbody>\n",
       "    <tr>\n",
       "      <th>1</th>\n",
       "      <td>41</td>\n",
       "      <td>1</td>\n",
       "    </tr>\n",
       "    <tr>\n",
       "      <th>2</th>\n",
       "      <td>57</td>\n",
       "      <td>0</td>\n",
       "    </tr>\n",
       "    <tr>\n",
       "      <th>3</th>\n",
       "      <td>41</td>\n",
       "      <td>0</td>\n",
       "    </tr>\n",
       "    <tr>\n",
       "      <th>4</th>\n",
       "      <td>56</td>\n",
       "      <td>0</td>\n",
       "    </tr>\n",
       "    <tr>\n",
       "      <th>5</th>\n",
       "      <td>41</td>\n",
       "      <td>0</td>\n",
       "    </tr>\n",
       "  </tbody>\n",
       "</table>\n",
       "</div>"
      ],
      "text/plain": [
       "  hex  bin\n",
       "1  41    1\n",
       "2  57    0\n",
       "3  41    0\n",
       "4  56    0\n",
       "5  41    0"
      ]
     },
     "execution_count": 1,
     "metadata": {},
     "output_type": "execute_result"
    }
   ],
   "source": [
    "# (1) 데이터로드\n",
    "import pandas as pd\n",
    "import numpy as np\n",
    "from keras.utils import np_utils\n",
    "\n",
    "import warnings\n",
    "warnings.filterwarnings(action='ignore')\n",
    "\n",
    "# 파일읽기\n",
    "\n",
    "# gcc6_0~3\n",
    "gcc7_1_32 = pd.read_csv(\"binutils_gcc3~9_op0~4_csv/gcc7_1_32.csv\", index_col=0)\n",
    "\n",
    "# 형태 출력\n",
    "print(gcc7_1_32.shape)\n",
    "gcc7_1_32.head()"
   ]
  },
  {
   "cell_type": "code",
   "execution_count": 2,
   "metadata": {},
   "outputs": [
    {
     "name": "stdout",
     "output_type": "stream",
     "text": [
      "256\n"
     ]
    }
   ],
   "source": [
    "# (2-1) 데이터체크 - hex(16진수)가 256 label을 가져야 dummies 변환 가능 \n",
    "\n",
    "# 16진수 256개 종류가 있어서 pd.get_dummies 사용 가능.\n",
    "print(len(gcc7_1_32['hex'].unique()))"
   ]
  },
  {
   "cell_type": "code",
   "execution_count": 3,
   "metadata": {},
   "outputs": [
    {
     "name": "stdout",
     "output_type": "stream",
     "text": [
      "원핫인코딩완료\n"
     ]
    }
   ],
   "source": [
    "# (3) get_dummies 변환 \n",
    "\n",
    "# 훈련데이터 (gcc 최적화버전 0, 1, 2 one hot encoding)\n",
    "gcc7_1_32_onehot = pd.get_dummies(gcc7_1_32)\n",
    "\n",
    "print('원핫인코딩완료')"
   ]
  },
  {
   "cell_type": "code",
   "execution_count": 5,
   "metadata": {},
   "outputs": [
    {
     "name": "stdout",
     "output_type": "stream",
     "text": [
      "0    1871751\n",
      "1       3338\n",
      "Name: bin, dtype: int64 \n",
      "함수의 평균 길이는 560.7402636309167\n"
     ]
    }
   ],
   "source": [
    "# (4) 데이터 체크 - 1, 0 비율 ==> 1이 함수의 갯수를 뜻함\n",
    "\n",
    "# 정답 데이터 1, 0 비율 확인  ==> 1이 함수의 갯수를 뜻함\n",
    "v_count = gcc7_1_32_onehot['bin'].value_counts()\n",
    "\n",
    "print(v_count, '\\n함수의 평균 길이는', v_count[0]/v_count[1])\n"
   ]
  },
  {
   "cell_type": "code",
   "execution_count": 7,
   "metadata": {},
   "outputs": [
    {
     "name": "stdout",
     "output_type": "stream",
     "text": [
      "(1875089, 256) (1875089,)\n"
     ]
    }
   ],
   "source": [
    "# (7) 훈련데이터, 훈련라벨 분리 \n",
    "\n",
    "# 훈련 데이터, 훈련 라벨\n",
    "x_train_gcc7_1_32 = gcc7_1_32_onehot.iloc[:,1:].to_numpy()\n",
    "y_train_gcc7_1_32 = gcc7_1_32_onehot['bin'].to_numpy()\n",
    "\n",
    "print(x_train_gcc7_1_32.shape, y_train_gcc7_1_32.shape)"
   ]
  },
  {
   "cell_type": "code",
   "execution_count": 8,
   "metadata": {},
   "outputs": [
    {
     "name": "stdout",
     "output_type": "stream",
     "text": [
      "(1875089, 1, 256) (1875089, 1, 1)\n"
     ]
    }
   ],
   "source": [
    "\n",
    "# (8) 훈련데이터, 훈련라벨 reshape 작업 => # ex - (605, 1, 256)\n",
    "\n",
    "x_train_gcc7_1_32 = x_train_gcc7_1_32.reshape(x_train_gcc7_1_32.shape[0], 1, x_train_gcc7_1_32.shape[1])\n",
    "y_train_gcc7_1_32 = y_train_gcc7_1_32.reshape(y_train_gcc7_1_32.shape[0], 1, 1)\n",
    "\n",
    "## test data\n",
    "print(x_train_gcc7_1_32.shape, y_train_gcc7_1_32.shape)"
   ]
  },
  {
   "cell_type": "code",
   "execution_count": 11,
   "metadata": {},
   "outputs": [
    {
     "name": "stdout",
     "output_type": "stream",
     "text": [
      "(100000, 1, 256) (100000, 1, 1) \n",
      "\n",
      "학습범위 [(1604384, 1614384), (254252, 264252), (648685, 658685), (1853687, 1863687), (1105279, 1115279), (395285, 405285), (592668, 602668), (76201, 86201), (1839701, 1849701), (861194, 871194)]\n"
     ]
    }
   ],
   "source": [
    "# (9) 랜덤으로 X chunk씩 뽑기.\n",
    "\n",
    "from random import *\n",
    "\n",
    "X=10000\n",
    "train_range = []\n",
    "_,s,d = x_train_gcc7_1_32.shape # 행, 1, 256\n",
    "\n",
    "# numpy 배열 초기화\n",
    "rs_x = np.zeros(shape = (10, X, s, d))\n",
    "rs_y = np.zeros(shape = (10, X, s, 1))\n",
    "\n",
    "for i in range(0,10):\n",
    "    n = randint(0, len(x_train_gcc7_1_32)-X)\n",
    "    rs_x[i] = (x_train_gcc7_1_32[n:n+X])\n",
    "    rs_y[i] = (y_train_gcc7_1_32[n:n+X])\n",
    "#    print(rs_x[i], '\\n')\n",
    "    train_range.append((n,n+X))\n",
    "\n",
    "data_10000x = np.hstack(rs_x).reshape(X*10, s, d)\n",
    "data_10000y = np.hstack(rs_y).reshape(X*10, s, 1)\n",
    "\n",
    "print(data_10000x.shape, data_10000y.shape, '\\n')\n",
    "print('학습범위', train_range)"
   ]
  },
  {
   "cell_type": "code",
   "execution_count": 15,
   "metadata": {},
   "outputs": [
    {
     "name": "stdout",
     "output_type": "stream",
     "text": [
      "======Training stage======\n",
      "Epoch 1/3\n",
      "90000/90000 [==============================] - 8s 84us/step - loss: 0.0509 - accuracy: 0.9971\n",
      "Epoch 2/3\n",
      "90000/90000 [==============================] - 8s 85us/step - loss: 0.0166 - accuracy: 0.9975\n",
      "Epoch 3/3\n",
      "90000/90000 [==============================] - 10s 106us/step - loss: 0.0164 - accuracy: 0.9975\n",
      "accuracy_score 0.9977\n",
      "recall_score 0.0\n",
      "precision_score 0.0\n",
      "f1_score 0.0\n",
      "======Training stage======\n",
      "Epoch 1/3\n",
      "90000/90000 [==============================] - 8s 91us/step - loss: 0.0513 - accuracy: 0.9972\n",
      "Epoch 2/3\n",
      "90000/90000 [==============================] - 8s 85us/step - loss: 0.0160 - accuracy: 0.9975\n",
      "Epoch 3/3\n",
      "90000/90000 [==============================] - 8s 85us/step - loss: 0.0159 - accuracy: 0.9975\n",
      "accuracy_score 0.9976\n",
      "recall_score 0.0\n",
      "precision_score 0.0\n",
      "f1_score 0.0\n",
      "======Training stage======\n",
      "Epoch 1/3\n",
      "90000/90000 [==============================] - 8s 92us/step - loss: 0.0511 - accuracy: 0.9968\n",
      "Epoch 2/3\n",
      "90000/90000 [==============================] - 10s 106us/step - loss: 0.0165 - accuracy: 0.9974\n",
      "Epoch 3/3\n",
      "90000/90000 [==============================] - 9s 100us/step - loss: 0.0165 - accuracy: 0.9974\n",
      "accuracy_score 0.9991\n",
      "recall_score 0.0\n",
      "precision_score 0.0\n",
      "f1_score 0.0\n",
      "======Training stage======\n",
      "Epoch 1/3\n",
      "90000/90000 [==============================] - 11s 120us/step - loss: 0.0500 - accuracy: 0.9971\n",
      "Epoch 2/3\n",
      "90000/90000 [==============================] - 10s 116us/step - loss: 0.0169 - accuracy: 0.9974\n",
      "Epoch 3/3\n",
      "90000/90000 [==============================] - 9s 100us/step - loss: 0.0167 - accuracy: 0.9974\n",
      "accuracy_score 0.9988\n",
      "recall_score 0.0\n",
      "precision_score 0.0\n",
      "f1_score 0.0\n",
      "======Training stage======\n",
      "Epoch 1/3\n",
      "90000/90000 [==============================] - 10s 116us/step - loss: 0.0528 - accuracy: 0.9971\n",
      "Epoch 2/3\n",
      "90000/90000 [==============================] - 9s 99us/step - loss: 0.0158 - accuracy: 0.9976\n",
      "Epoch 3/3\n",
      "90000/90000 [==============================] - 9s 97us/step - loss: 0.0153 - accuracy: 0.9976\n",
      "accuracy_score 0.9975\n",
      "recall_score 0.0\n",
      "precision_score 0.0\n",
      "f1_score 0.0\n",
      "======Training stage======\n",
      "Epoch 1/3\n",
      "90000/90000 [==============================] - 10s 114us/step - loss: 0.0512 - accuracy: 0.9972\n",
      "Epoch 2/3\n",
      "90000/90000 [==============================] - 17s 183us/step - loss: 0.0150 - accuracy: 0.9976\n",
      "Epoch 3/3\n",
      "90000/90000 [==============================] - 18s 201us/step - loss: 0.0154 - accuracy: 0.9976\n",
      "accuracy_score 0.997\n",
      "recall_score 0.0\n",
      "precision_score 0.0\n",
      "f1_score 0.0\n",
      "======Training stage======\n",
      "Epoch 1/3\n",
      "90000/90000 [==============================] - 15s 169us/step - loss: 0.0508 - accuracy: 0.9972\n",
      "Epoch 2/3\n",
      "90000/90000 [==============================] - 14s 155us/step - loss: 0.0156 - accuracy: 0.9977\n",
      "Epoch 3/3\n",
      "90000/90000 [==============================] - 15s 167us/step - loss: 0.0154 - accuracy: 0.9977\n",
      "accuracy_score 0.9966\n",
      "recall_score 0.0\n",
      "precision_score 0.0\n",
      "f1_score 0.0\n",
      "======Training stage======\n",
      "Epoch 1/3\n",
      "90000/90000 [==============================] - 22s 240us/step - loss: 0.0551 - accuracy: 0.9962\n",
      "Epoch 2/3\n",
      "90000/90000 [==============================] - 15s 166us/step - loss: 0.0165 - accuracy: 0.9975\n",
      "Epoch 3/3\n",
      "90000/90000 [==============================] - 13s 149us/step - loss: 0.0159 - accuracy: 0.9975\n",
      "accuracy_score 0.9979\n",
      "recall_score 0.0\n",
      "precision_score 0.0\n",
      "f1_score 0.0\n",
      "======Training stage======\n",
      "Epoch 1/3\n",
      "90000/90000 [==============================] - 19s 209us/step - loss: 0.0505 - accuracy: 0.9971\n",
      "Epoch 2/3\n",
      "90000/90000 [==============================] - 16s 175us/step - loss: 0.0154 - accuracy: 0.9977s - loss: 0.0155 -  - E\n",
      "Epoch 3/3\n",
      "90000/90000 [==============================] - 14s 160us/step - loss: 0.0150 - accuracy: 0.9977\n",
      "accuracy_score 0.9964\n",
      "recall_score 0.0\n",
      "precision_score 0.0\n",
      "f1_score 0.0\n",
      "======Training stage======\n",
      "Epoch 1/3\n",
      "90000/90000 [==============================] - 15s 172us/step - loss: 0.0518 - accuracy: 0.9972\n",
      "Epoch 2/3\n",
      "90000/90000 [==============================] - 12s 138us/step - loss: 0.0163 - accuracy: 0.9976\n",
      "Epoch 3/3\n",
      "90000/90000 [==============================] - 13s 145us/step - loss: 0.0154 - accuracy: 0.9976\n",
      "accuracy_score 0.9969\n",
      "recall_score 0.0\n",
      "precision_score 0.0\n",
      "f1_score 0.0\n",
      "\n",
      "K-fold cross validation Accuracy: [0.9977, 0.9976, 0.9991, 0.9988, 0.9975, 0.997, 0.9966, 0.9979, 0.9964, 0.9969]\n",
      "\n",
      "K-fold cross validation Recall: [0.0, 0.0, 0.0, 0.0, 0.0, 0.0, 0.0, 0.0, 0.0, 0.0]\n",
      "\n",
      "K-fold cross validation Precision: [0.0, 0.0, 0.0, 0.0, 0.0, 0.0, 0.0, 0.0, 0.0, 0.0]\n",
      "\n",
      "K-fold cross validation F1-Score: [0.0, 0.0, 0.0, 0.0, 0.0, 0.0, 0.0, 0.0, 0.0, 0.0]\n",
      "\n",
      "K-fold cross validation ConfusionMatrix: []\n"
     ]
    }
   ],
   "source": [
    "# (10) 양방향 LSTM 모델링 작업\n",
    "from keras.models import Model, Sequential\n",
    "from keras.layers import SimpleRNN, Input, Dense, LSTM\n",
    "from keras.layers import Bidirectional, TimeDistributed\n",
    "\n",
    "# 교차검증 kfold\n",
    "from sklearn.model_selection import KFold\n",
    "\n",
    "# 학습\n",
    "from keras.callbacks import EarlyStopping\n",
    "early_stopping = EarlyStopping(patience = 3) # 조기종료 콜백함수 정의\n",
    "\n",
    "# Accuracy, Precision, Recall, F1-Score\n",
    "from sklearn.metrics import accuracy_score, recall_score, precision_score, f1_score\n",
    "\n",
    "# K-Fold 객체 생성\n",
    "kf = KFold(n_splits=10, shuffle=False, random_state=None) # KFold non shuffle 버전\n",
    "\n",
    "# Confusion Matrix\n",
    "from sklearn.metrics import confusion_matrix\n",
    "\n",
    "# ROC Curve\n",
    "from sklearn.metrics import roc_auc_score\n",
    "\n",
    "# 최종 평가지표들 평균용\n",
    "accuracy, recall, precision, f1score, cm = [], [], [], [], []\n",
    "\n",
    "# 11. 교차검증 kfold - k.split - 10회\n",
    "for train, validation in kf.split(data_10000x, data_10000y):\n",
    "    xInput = Input(batch_shape=(None, 1, 256)) # \n",
    "    xBiLstm = Bidirectional(LSTM(16, return_sequences=True), merge_mode = 'concat')(xInput)\n",
    "    xOutput = TimeDistributed(Dense(1, activation ='sigmoid'))(xBiLstm) # 각 스텝에서 cost가 전송되고, 오류가 다음 step으로 전송됨.\n",
    "\n",
    "    model1 = Model(xInput, xOutput)\n",
    "    model1.compile(loss='binary_crossentropy', optimizer='rmsprop', metrics=['accuracy'])\n",
    "    #print(model1.summary())\n",
    "    print('======Training stage======')\n",
    "    model1.fit(data_10000x[train],\n",
    "               data_10000y[train],\n",
    "               epochs = 3,\n",
    "               batch_size = 32,\n",
    "               callbacks=[early_stopping])\n",
    "    #k_accuracy = '%.4f' %(model1.evaluate(data_10000x[validation], data_10000y[validation])[1])\n",
    "\n",
    "# 12. 교차검증결과 predict    \n",
    "    # predict 값\n",
    "    k_pr = model1.predict(data_10000x[validation])\n",
    "    \n",
    "    # 테스트 predict 결과들 비교 (평가지표 보기위함)\n",
    "    pred = np.round(np.array(k_pr).flatten().tolist())\n",
    "    y_test = np.array(data_10000y[validation]).flatten().tolist()\n",
    "    \n",
    "# 13. 평가지표들 출력\n",
    "    ## 평가지표들\n",
    "    k_accuracy = float(accuracy_score(y_test, pred))\n",
    "    k_recall =  float(recall_score(y_test, pred))\n",
    "    k_precision = float(precision_score(y_test, pred))\n",
    "    k_f1_score = float(f1_score(y_test, pred))\n",
    "    #k_cm = float(confusion_matrix(y_test, pred))\n",
    "    \n",
    "    print('accuracy_score', k_accuracy)\n",
    "    print('recall_score', k_recall)\n",
    "    print('precision_score', k_precision)\n",
    "    print('f1_score', k_f1_score)\n",
    "    #print('\\nconfusion_matrix\\n', k_cm)\n",
    "\n",
    "    accuracy.append(k_accuracy)\n",
    "    recall.append(k_recall)\n",
    "    precision.append(k_precision)\n",
    "    f1score.append(k_f1_score)\n",
    "    #cm.append(k_cm)\n",
    "#    print('roc_curve 면적', roc_auc_score(y_test, pred))\n",
    "\n",
    "# 14. 최종 결과지표\n",
    "print('\\nK-fold cross validation Accuracy: {}'.format(accuracy))\n",
    "print('\\nK-fold cross validation Recall: {}'.format(recall))\n",
    "print('\\nK-fold cross validation Precision: {}'.format(precision))\n",
    "print('\\nK-fold cross validation F1-Score: {}'.format(f1score))\n",
    "#print('\\nK-fold cross validation ConfusionMatrix: {}'.format(cm))"
   ]
  },
  {
   "cell_type": "code",
   "execution_count": null,
   "metadata": {},
   "outputs": [],
   "source": []
  },
  {
   "cell_type": "code",
   "execution_count": null,
   "metadata": {},
   "outputs": [],
   "source": []
  },
  {
   "cell_type": "code",
   "execution_count": null,
   "metadata": {},
   "outputs": [],
   "source": []
  },
  {
   "cell_type": "code",
   "execution_count": null,
   "metadata": {},
   "outputs": [],
   "source": []
  }
 ],
 "metadata": {
  "kernelspec": {
   "display_name": "Python 3",
   "language": "python",
   "name": "python3"
  },
  "language_info": {
   "codemirror_mode": {
    "name": "ipython",
    "version": 3
   },
   "file_extension": ".py",
   "mimetype": "text/x-python",
   "name": "python",
   "nbconvert_exporter": "python",
   "pygments_lexer": "ipython3",
   "version": "3.7.5"
  }
 },
 "nbformat": 4,
 "nbformat_minor": 4
}
