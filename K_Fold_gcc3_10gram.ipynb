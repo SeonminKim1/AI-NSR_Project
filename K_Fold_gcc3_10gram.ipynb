{
 "cells": [
  {
   "cell_type": "code",
   "execution_count": 1,
   "metadata": {},
   "outputs": [
    {
     "name": "stderr",
     "output_type": "stream",
     "text": [
      "Using TensorFlow backend.\n"
     ]
    },
    {
     "name": "stdout",
     "output_type": "stream",
     "text": [
      "(2129359, 2) (1805387, 2) (1749581, 2) (2076717, 2)\n",
      "reset_index 완료\n"
     ]
    },
    {
     "data": {
      "text/html": [
       "<div>\n",
       "<style scoped>\n",
       "    .dataframe tbody tr th:only-of-type {\n",
       "        vertical-align: middle;\n",
       "    }\n",
       "\n",
       "    .dataframe tbody tr th {\n",
       "        vertical-align: top;\n",
       "    }\n",
       "\n",
       "    .dataframe thead th {\n",
       "        text-align: right;\n",
       "    }\n",
       "</style>\n",
       "<table border=\"1\" class=\"dataframe\">\n",
       "  <thead>\n",
       "    <tr style=\"text-align: right;\">\n",
       "      <th></th>\n",
       "      <th>bin</th>\n",
       "      <th>label</th>\n",
       "    </tr>\n",
       "  </thead>\n",
       "  <tbody>\n",
       "    <tr>\n",
       "      <th>0</th>\n",
       "      <td>55</td>\n",
       "      <td>1</td>\n",
       "    </tr>\n",
       "    <tr>\n",
       "      <th>1</th>\n",
       "      <td>89</td>\n",
       "      <td>0</td>\n",
       "    </tr>\n",
       "    <tr>\n",
       "      <th>2</th>\n",
       "      <td>e5</td>\n",
       "      <td>0</td>\n",
       "    </tr>\n",
       "    <tr>\n",
       "      <th>3</th>\n",
       "      <td>83</td>\n",
       "      <td>0</td>\n",
       "    </tr>\n",
       "    <tr>\n",
       "      <th>4</th>\n",
       "      <td>ec</td>\n",
       "      <td>0</td>\n",
       "    </tr>\n",
       "  </tbody>\n",
       "</table>\n",
       "</div>"
      ],
      "text/plain": [
       "  bin  label\n",
       "0  55      1\n",
       "1  89      0\n",
       "2  e5      0\n",
       "3  83      0\n",
       "4  ec      0"
      ]
     },
     "execution_count": 1,
     "metadata": {},
     "output_type": "execute_result"
    }
   ],
   "source": [
    "# (1) 데이터로드\n",
    "import pandas as pd\n",
    "import numpy as np\n",
    "from keras.utils import np_utils\n",
    "\n",
    "import warnings\n",
    "warnings.filterwarnings(action='ignore')\n",
    "\n",
    "# 여러개 쳐도 나오게\n",
    "from IPython.core.interactiveshell import InteractiveShell\n",
    "InteractiveShell.ast_node_interactivity = \"all\"\n",
    "\n",
    "# 파일읽기\n",
    "\n",
    "# gcc6_0~3\n",
    "gcc_version = 'gcc3'\n",
    "gcc6_0_32 = pd.read_csv(\"binutils_gcc3~9_op0~4_csv/\"+gcc_version+\"_0_32.csv\", index_col=0)\n",
    "gcc6_1_32 = pd.read_csv(\"binutils_gcc3~9_op0~4_csv/\"+gcc_version+\"_1_32.csv\", index_col=0)\n",
    "gcc6_2_32 = pd.read_csv(\"binutils_gcc3~9_op0~4_csv/\"+gcc_version+\"_2_32.csv\", index_col=0)\n",
    "gcc6_3_32 = pd.read_csv(\"binutils_gcc3~9_op0~4_csv/\"+gcc_version+\"_3_32.csv\", index_col=0)\n",
    "\n",
    "# 형태 출력\n",
    "print(gcc6_0_32.shape, gcc6_1_32.shape, gcc6_2_32.shape, gcc6_3_32.shape) # train\n",
    "\n",
    "# reset_index (hex processing 하면서 값이 빠졌으니까 + n_gram 에서 index를 다루기 때문에)\n",
    "gcc6_0_32.reset_index(inplace=True, drop=True)\n",
    "gcc6_1_32.reset_index(inplace=True, drop=True)\n",
    "gcc6_2_32.reset_index(inplace=True, drop=True)\n",
    "gcc6_3_32.reset_index(inplace=True, drop=True)\n",
    "\n",
    "print('reset_index 완료')\n",
    "gcc6_0_32.head()"
   ]
  },
  {
   "cell_type": "code",
   "execution_count": 2,
   "metadata": {},
   "outputs": [
    {
     "name": "stdout",
     "output_type": "stream",
     "text": [
      "256 256\n",
      "256 256\n"
     ]
    }
   ],
   "source": [
    "# (2-1) 데이터체크 - hex(16진수)가 256 label을 가져야 dummies 변환 가능 \n",
    "\n",
    "# 16진수 256개 종류가 있어서 pd.get_dummies 사용 가능.\n",
    "print(len(gcc6_0_32['bin'].unique()),len(gcc6_1_32['bin'].unique()))\n",
    "print(len(gcc6_2_32['bin'].unique()),len(gcc6_3_32['bin'].unique()))"
   ]
  },
  {
   "cell_type": "code",
   "execution_count": 3,
   "metadata": {},
   "outputs": [
    {
     "name": "stdout",
     "output_type": "stream",
     "text": [
      "원핫인코딩완료\n",
      "(2129359, 257) (1805387, 257) (1749581, 257) (2076717, 257)\n"
     ]
    }
   ],
   "source": [
    "# (3) get_dummies 변환 \n",
    "\n",
    "# 훈련데이터 (gcc 최적화버전 0, 1, 2, 3 one hot encoding)\n",
    "gcc6_0_32_onehot = pd.get_dummies(gcc6_0_32)\n",
    "gcc6_1_32_onehot = pd.get_dummies(gcc6_1_32)\n",
    "gcc6_2_32_onehot = pd.get_dummies(gcc6_2_32)\n",
    "gcc6_3_32_onehot = pd.get_dummies(gcc6_3_32)\n",
    "print('원핫인코딩완료')\n",
    "\n",
    "print(gcc6_0_32_onehot.shape, gcc6_1_32_onehot.shape, gcc6_2_32_onehot.shape, gcc6_3_32_onehot.shape)"
   ]
  },
  {
   "cell_type": "code",
   "execution_count": 4,
   "metadata": {},
   "outputs": [
    {
     "name": "stdout",
     "output_type": "stream",
     "text": [
      "0    2125055\n",
      "1       4304\n",
      "Name: label, dtype: int64 \n",
      " 0    1801378\n",
      "1       4009\n",
      "Name: label, dtype: int64\n",
      "0    1746216\n",
      "1       3365\n",
      "Name: label, dtype: int64 \n",
      " 0    2073836\n",
      "1       2881\n",
      "Name: label, dtype: int64\n"
     ]
    }
   ],
   "source": [
    "# (4) 데이터 체크 - 1, 0 비율 ==> 1이 함수의 갯수를 뜻함\n",
    "\n",
    "# 정답 데이터 1, 0 비율 확인  ==> 1이 함수의 갯수를 뜻함\n",
    "print(gcc6_0_32_onehot['label'].value_counts(), '\\n', gcc6_1_32_onehot['label'].value_counts())\n",
    "print(gcc6_2_32_onehot['label'].value_counts(), '\\n', gcc6_3_32_onehot['label'].value_counts())"
   ]
  },
  {
   "cell_type": "code",
   "execution_count": 5,
   "metadata": {},
   "outputs": [
    {
     "data": {
      "text/plain": [
       "00    317465\n",
       "ff    160053\n",
       "8b    145301\n",
       "45    144831\n",
       "89    102602\n",
       "       ...  \n",
       "96       274\n",
       "a7       272\n",
       "b3       269\n",
       "9b       261\n",
       "a6       237\n",
       "Name: bin, Length: 256, dtype: int64"
      ]
     },
     "execution_count": 5,
     "metadata": {},
     "output_type": "execute_result"
    }
   ],
   "source": [
    "# 전체 행렬에 대한 value_counts()\n",
    "gcc6_0_32['bin'].value_counts()"
   ]
  },
  {
   "cell_type": "code",
   "execution_count": 6,
   "metadata": {},
   "outputs": [
    {
     "name": "stdout",
     "output_type": "stream",
     "text": [
      "gcc6_0_32 87541\n"
     ]
    }
   ],
   "source": [
    "# (5-1) gcc6 - 30gram(앞뒤로 3개씩) - 함수의 시작\n",
    "######################## gcc6_0_32\n",
    "idx0 = gcc6_0_32_onehot[gcc6_0_32_onehot['label']==1].index  # 407, 474 ...\n",
    "ls0 = list(idx0)\n",
    "\n",
    "# value_counts()\n",
    "# 0    2151901\n",
    "# 1       4307\n",
    "\n",
    "# 최종 뽑을 행에 대한 index\n",
    "ls_idx0 = [] \n",
    "# left_idx, right_idx = -3, 4  # 3개씩\n",
    "left_idx, right_idx = -10, 11 # 10개씩\n",
    "# left_idx, right_idx = -30, 31 # 30개씩\n",
    "# left_idx, right_idx = -90, 91 # 90개씩\n",
    "\n",
    "\n",
    "# 전체 index에 -10더한 index들 -9 더한 인덱스들, ~~~ 10더한 index들 다 합침.(extend)\n",
    "for k in range(left_idx, right_idx):\n",
    "    ls_idx0.extend(list(idx0 + k)) # index 형이라서 가능\n",
    "\n",
    "ls_idx0 = list(set(ls_idx0))    \n",
    "# print(len(ls_idx0))\n",
    "\n",
    "ls_idx0.sort() # 인덱스 정렬\n",
    "ls_idx0 = list(filter(lambda x: x>0, ls_idx0)) # 0이상인 값들만 \n",
    "ls_idx0 = list(filter(lambda x: x<len(gcc6_0_32_onehot), ls_idx0))\n",
    "\n",
    "print('gcc6_0_32', len(ls_idx0))\n",
    "\n",
    "# loc 로 수정필요\n",
    "gcc6_0_32_onehot_30gram = gcc6_0_32_onehot.loc[ls_idx0,:].copy()"
   ]
  },
  {
   "cell_type": "code",
   "execution_count": 7,
   "metadata": {},
   "outputs": [
    {
     "name": "stdout",
     "output_type": "stream",
     "text": [
      "gcc6_1_32 82130\n"
     ]
    }
   ],
   "source": [
    "# (5-2) gcc6 - 30gram(앞뒤로 3개씩) - 함수의 시작\n",
    "######################## gcc6_0_32\n",
    "idx1 = gcc6_1_32_onehot[gcc6_1_32_onehot['label']==1].index  # 407, 474 ...\n",
    "ls1 = list(idx1)\n",
    "\n",
    "# value_counts()\n",
    "# 0    2151901\n",
    "# 1       4307\n",
    "\n",
    "# 최종 뽑을 행에 대한 index\n",
    "ls_idx1 = [] \n",
    "\n",
    "# 전체 index에 -10더한 index들 -9 더한 인덱스들, ~~~ 10더한 index들 다 합침.(extend)\n",
    "for k in range(left_idx, right_idx):\n",
    "    ls_idx1.extend(list(idx1 + k)) # index 형이라서 가능\n",
    "\n",
    "ls_idx1 = list(set(ls_idx1))    \n",
    "# print(len(ls_idx0))\n",
    "\n",
    "ls_idx1.sort() # 인덱스 정렬\n",
    "ls_idx1 = list(filter(lambda x: x>0, ls_idx1)) # 0이상인 값들만 \n",
    "ls_idx1 = list(filter(lambda x: x<len(gcc6_1_32_onehot), ls_idx1))\n",
    "\n",
    "print('gcc6_1_32', len(ls_idx1))\n",
    "\n",
    "# loc 로 수정필요\n",
    "gcc6_1_32_onehot_30gram = gcc6_1_32_onehot.loc[ls_idx1,:].copy()\n"
   ]
  },
  {
   "cell_type": "code",
   "execution_count": 8,
   "metadata": {},
   "outputs": [
    {
     "name": "stdout",
     "output_type": "stream",
     "text": [
      "gcc6_2_32 67502\n"
     ]
    }
   ],
   "source": [
    "\n",
    "# (5-3) gcc6 - 30gram(앞뒤로 3개씩) - 함수의 시작\n",
    "######################## gcc6_0_32\n",
    "idx2 = gcc6_2_32_onehot[gcc6_2_32_onehot['label']==1].index  # 407, 474 ...\n",
    "ls2 = list(idx2)\n",
    "\n",
    "# value_counts()\n",
    "# 0    2151901\n",
    "# 1       4307\n",
    "\n",
    "# 최종 뽑을 행에 대한 index\n",
    "ls_idx2 = [] \n",
    "\n",
    "# 전체 index에 -10더한 index들 -9 더한 인덱스들, ~~~ 10더한 index들 다 합침.(extend)\n",
    "for k in range(left_idx, right_idx):\n",
    "    ls_idx2.extend(list(idx2 + k)) # index 형이라서 가능\n",
    "\n",
    "ls_idx2 = list(set(ls_idx2))    \n",
    "# print(len(ls_idx0))\n",
    "\n",
    "ls_idx2.sort() # 인덱스 정렬\n",
    "ls_idx2 = list(filter(lambda x: x>0, ls_idx2)) # 0이상인 값들만 \n",
    "ls_idx2 = list(filter(lambda x: x<len(gcc6_2_32_onehot), ls_idx2))\n",
    "\n",
    "print('gcc6_2_32', len(ls_idx2))\n",
    "\n",
    "# loc 로 수정필요\n",
    "gcc6_2_32_onehot_30gram = gcc6_2_32_onehot.loc[ls_idx2,:].copy()\n"
   ]
  },
  {
   "cell_type": "code",
   "execution_count": 9,
   "metadata": {},
   "outputs": [
    {
     "name": "stdout",
     "output_type": "stream",
     "text": [
      "gcc6_3_32 57769\n"
     ]
    }
   ],
   "source": [
    "\n",
    "# (5-3) gcc6 - 30gram(앞뒤로 3개씩) - 함수의 시작\n",
    "######################## gcc6_0_32\n",
    "idx3 = gcc6_3_32_onehot[gcc6_3_32_onehot['label']==1].index  # 407, 474 ...\n",
    "ls3 = list(idx3)\n",
    "\n",
    "# value_counts()\n",
    "# 0    2151901\n",
    "# 1       4307\n",
    "\n",
    "# 최종 뽑을 행에 대한 index\n",
    "ls_idx3 = [] \n",
    "\n",
    "# 전체 index에 -10더한 index들 -9 더한 인덱스들, ~~~ 10더한 index들 다 합침.(extend)\n",
    "for k in range(left_idx, right_idx):\n",
    "    ls_idx3.extend(list(idx3 + k)) # index 형이라서 가능\n",
    "\n",
    "ls_idx3 = list(set(ls_idx3))    \n",
    "# print(len(ls_idx0))\n",
    "\n",
    "ls_idx3.sort() # 인덱스 정렬\n",
    "ls_idx3 = list(filter(lambda x: x>0, ls_idx3)) # 0이상인 값들만 \n",
    "ls_idx3 = list(filter(lambda x: x<len(gcc6_3_32_onehot), ls_idx3))\n",
    "\n",
    "print('gcc6_3_32', len(ls_idx3))\n",
    "\n",
    "# loc 로 수정필요\n",
    "gcc6_3_32_onehot_30gram = gcc6_3_32_onehot.loc[ls_idx3,:].copy()\n"
   ]
  },
  {
   "cell_type": "code",
   "execution_count": 10,
   "metadata": {},
   "outputs": [
    {
     "name": "stdout",
     "output_type": "stream",
     "text": [
      "(87541, 256) (87541,)\n",
      "(82130, 256) (82130,)\n",
      "(67502, 256) (67502,)\n",
      "(57769, 256) (57769,)\n"
     ]
    }
   ],
   "source": [
    "# (7) 훈련데이터, 훈련라벨 분리 012\n",
    "\n",
    "# 훈련 데이터, 훈련 라벨\n",
    "x_gcc6_0_32 = gcc6_0_32_onehot_30gram.iloc[:,1:].to_numpy()\n",
    "y_gcc6_0_32 = gcc6_0_32_onehot_30gram['label'].to_numpy()\n",
    "\n",
    "x_gcc6_1_32 = gcc6_1_32_onehot_30gram.iloc[:,1:].to_numpy()\n",
    "y_gcc6_1_32 = gcc6_1_32_onehot_30gram['label'].to_numpy()\n",
    "\n",
    "x_gcc6_2_32 = gcc6_2_32_onehot_30gram.iloc[:,1:].to_numpy()\n",
    "y_gcc6_2_32 = gcc6_2_32_onehot_30gram['label'].to_numpy()\n",
    "\n",
    "# 테스트 데이터, 테스트 라벨\n",
    "x_gcc6_3_32 = gcc6_3_32_onehot_30gram.iloc[:,1:].to_numpy()\n",
    "y_gcc6_3_32 = gcc6_3_32_onehot_30gram['label'].to_numpy()\n",
    "\n",
    "# train\n",
    "print(x_gcc6_0_32.shape, y_gcc6_0_32.shape)\n",
    "print(x_gcc6_1_32.shape, y_gcc6_1_32.shape)\n",
    "print(x_gcc6_2_32.shape, y_gcc6_2_32.shape)\n",
    "\n",
    "# test\n",
    "print(x_gcc6_3_32.shape, y_gcc6_3_32.shape)"
   ]
  },
  {
   "cell_type": "code",
   "execution_count": 11,
   "metadata": {},
   "outputs": [
    {
     "name": "stdout",
     "output_type": "stream",
     "text": [
      "(87541, 1, 256) (87541, 1, 1)\n",
      "(82130, 1, 256) (82130, 1, 1)\n",
      "(67502, 1, 256) (67502, 1, 1)\n",
      "(57769, 1, 256) (57769, 1, 1)\n"
     ]
    }
   ],
   "source": [
    "# (8) 훈련데이터, 훈련라벨 reshape 작업 => # ex - (605, 1, 256)\n",
    "\n",
    "## gcc6_0_32\n",
    "x_gcc6_0_32 = x_gcc6_0_32.reshape(x_gcc6_0_32.shape[0], 1, x_gcc6_0_32.shape[1])\n",
    "y_gcc6_0_32 = y_gcc6_0_32.reshape(y_gcc6_0_32.shape[0], 1, 1)\n",
    "\n",
    "## gcc6_1_32\n",
    "x_gcc6_1_32 = x_gcc6_1_32.reshape(x_gcc6_1_32.shape[0], 1, x_gcc6_1_32.shape[1])\n",
    "y_gcc6_1_32 = y_gcc6_1_32.reshape(y_gcc6_1_32.shape[0], 1, 1)\n",
    "\n",
    "## gcc6_2_32\n",
    "x_gcc6_2_32 = x_gcc6_2_32.reshape(x_gcc6_2_32.shape[0], 1, x_gcc6_2_32.shape[1])\n",
    "y_gcc6_2_32 = y_gcc6_2_32.reshape(y_gcc6_2_32.shape[0], 1, 1)\n",
    "\n",
    "### test data\n",
    "## gcc6_3_32\n",
    "x_gcc6_3_32 = x_gcc6_3_32.reshape(x_gcc6_3_32.shape[0], 1, x_gcc6_3_32.shape[1])\n",
    "y_gcc6_3_32 = y_gcc6_3_32.reshape(y_gcc6_3_32.shape[0], 1, 1)\n",
    "\n",
    "print(x_gcc6_0_32.shape, y_gcc6_0_32.shape)\n",
    "print(x_gcc6_1_32.shape, y_gcc6_1_32.shape)\n",
    "print(x_gcc6_2_32.shape, y_gcc6_2_32.shape)\n",
    "\n",
    "## test data\n",
    "print(x_gcc6_3_32.shape, y_gcc6_3_32.shape)"
   ]
  },
  {
   "cell_type": "code",
   "execution_count": 12,
   "metadata": {},
   "outputs": [
    {
     "name": "stdout",
     "output_type": "stream",
     "text": [
      "(294942, 1, 256) (294942, 1, 1)\n"
     ]
    }
   ],
   "source": [
    "# (9) 최종 훈련데이터, 훈련라벨 concatenate 작업\n",
    "# 0123 / 3\n",
    "x_gcc6_0123_32 = np.concatenate((x_gcc6_0_32, x_gcc6_1_32, x_gcc6_2_32, x_gcc6_3_32), axis=0)\n",
    "y_gcc6_0123_32 = np.concatenate((y_gcc6_0_32, y_gcc6_1_32, y_gcc6_2_32, y_gcc6_3_32), axis=0)\n",
    "print(x_gcc6_0123_32.shape, y_gcc6_0123_32.shape)"
   ]
  },
  {
   "cell_type": "code",
   "execution_count": 13,
   "metadata": {
    "scrolled": false
   },
   "outputs": [
    {
     "name": "stdout",
     "output_type": "stream",
     "text": [
      "WARNING:tensorflow:From c:\\users\\urse\\anaconda3\\envs\\untitled\\lib\\site-packages\\tensorflow_core\\python\\ops\\resource_variable_ops.py:1630: calling BaseResourceVariable.__init__ (from tensorflow.python.ops.resource_variable_ops) with constraint is deprecated and will be removed in a future version.\n",
      "Instructions for updating:\n",
      "If using Keras pass *_constraint arguments to layers.\n",
      "======Training stage======\n",
      "WARNING:tensorflow:From c:\\users\\urse\\anaconda3\\envs\\untitled\\lib\\site-packages\\tensorflow_core\\python\\ops\\math_grad.py:1424: where (from tensorflow.python.ops.array_ops) is deprecated and will be removed in a future version.\n",
      "Instructions for updating:\n",
      "Use tf.where in 2.0, which has the same broadcast rule as np.where\n",
      "WARNING:tensorflow:From c:\\users\\urse\\anaconda3\\envs\\untitled\\lib\\site-packages\\keras\\backend\\tensorflow_backend.py:422: The name tf.global_variables is deprecated. Please use tf.compat.v1.global_variables instead.\n",
      "\n",
      "Epoch 1/3\n",
      "265447/265447 [==============================] - 22s 81us/step - loss: 0.0347 - accuracy: 0.9916\n",
      "Epoch 2/3\n",
      "265447/265447 [==============================] - 20s 74us/step - loss: 0.0217 - accuracy: 0.9939\n",
      "Epoch 3/3\n",
      "265447/265447 [==============================] - 17s 64us/step - loss: 0.0215 - accuracy: 0.9939\n"
     ]
    },
    {
     "data": {
      "text/plain": [
       "<keras.callbacks.callbacks.History at 0x248c04e3808>"
      ]
     },
     "execution_count": 13,
     "metadata": {},
     "output_type": "execute_result"
    },
    {
     "name": "stdout",
     "output_type": "stream",
     "text": [
      "accuracy_score 0.9973215799288014\n",
      "recall_score 1.0\n",
      "precision_score 0.9482984293193717\n",
      "f1_score 0.9734632180047027\n",
      "======Training stage======\n",
      "Epoch 1/3\n",
      "265447/265447 [==============================] - 18s 68us/step - loss: 0.0337 - accuracy: 0.9919\n",
      "Epoch 2/3\n",
      "265447/265447 [==============================] - 19s 72us/step - loss: 0.0217 - accuracy: 0.9939\n",
      "Epoch 3/3\n",
      "265447/265447 [==============================] - 18s 68us/step - loss: 0.0215 - accuracy: 0.9939\n"
     ]
    },
    {
     "data": {
      "text/plain": [
       "<keras.callbacks.callbacks.History at 0x248beb53a88>"
      ]
     },
     "execution_count": 13,
     "metadata": {},
     "output_type": "execute_result"
    },
    {
     "name": "stdout",
     "output_type": "stream",
     "text": [
      "accuracy_score 0.9971520596711307\n",
      "recall_score 1.0\n",
      "precision_score 0.9455958549222798\n",
      "f1_score 0.9720372836218376\n",
      "======Training stage======\n",
      "Epoch 1/3\n",
      "265448/265448 [==============================] - 19s 73us/step - loss: 0.0349 - accuracy: 0.9916\n",
      "Epoch 2/3\n",
      "265448/265448 [==============================] - 19s 70us/step - loss: 0.0216 - accuracy: 0.9939\n",
      "Epoch 3/3\n",
      "265448/265448 [==============================] - 21s 78us/step - loss: 0.0215 - accuracy: 0.9939\n"
     ]
    },
    {
     "data": {
      "text/plain": [
       "<keras.callbacks.callbacks.History at 0x248c2c99a08>"
      ]
     },
     "execution_count": 13,
     "metadata": {},
     "output_type": "execute_result"
    },
    {
     "name": "stdout",
     "output_type": "stream",
     "text": [
      "accuracy_score 0.9970163423069098\n",
      "recall_score 1.0\n",
      "precision_score 0.9424083769633508\n",
      "f1_score 0.9703504043126685\n",
      "======Training stage======\n",
      "Epoch 1/3\n",
      "265448/265448 [==============================] - 19s 72us/step - loss: 0.0333 - accuracy: 0.9920\n",
      "Epoch 2/3\n",
      "265448/265448 [==============================] - 19s 71us/step - loss: 0.0210 - accuracy: 0.9942\n",
      "Epoch 3/3\n",
      "265448/265448 [==============================] - 19s 73us/step - loss: 0.0209 - accuracy: 0.9942\n"
     ]
    },
    {
     "data": {
      "text/plain": [
       "<keras.callbacks.callbacks.History at 0x248c630f9c8>"
      ]
     },
     "execution_count": 13,
     "metadata": {},
     "output_type": "execute_result"
    },
    {
     "name": "stdout",
     "output_type": "stream",
     "text": [
      "accuracy_score 0.9943378314233403\n",
      "recall_score 1.0\n",
      "precision_score 0.8957553058676654\n",
      "f1_score 0.945011524530787\n",
      "======Training stage======\n",
      "Epoch 1/3\n",
      "265448/265448 [==============================] - 20s 75us/step - loss: 0.0343 - accuracy: 0.9918\n",
      "Epoch 2/3\n",
      "265448/265448 [==============================] - 20s 73us/step - loss: 0.0214 - accuracy: 0.9940\n",
      "Epoch 3/3\n",
      "265448/265448 [==============================] - 21s 79us/step - loss: 0.0212 - accuracy: 0.9940\n"
     ]
    },
    {
     "data": {
      "text/plain": [
       "<keras.callbacks.callbacks.History at 0x248c2e31788>"
      ]
     },
     "execution_count": 13,
     "metadata": {},
     "output_type": "execute_result"
    },
    {
     "name": "stdout",
     "output_type": "stream",
     "text": [
      "accuracy_score 0.9961687122804638\n",
      "recall_score 1.0\n",
      "precision_score 0.9275641025641026\n",
      "f1_score 0.9624210176255404\n",
      "======Training stage======\n",
      "Epoch 1/3\n",
      "265448/265448 [==============================] - 20s 76us/step - loss: 0.0332 - accuracy: 0.9923\n",
      "Epoch 2/3\n",
      "265448/265448 [==============================] - 20s 75us/step - loss: 0.0202 - accuracy: 0.9945\n",
      "Epoch 3/3\n",
      "265448/265448 [==============================] - 19s 72us/step - loss: 0.0200 - accuracy: 0.9945\n"
     ]
    },
    {
     "data": {
      "text/plain": [
       "<keras.callbacks.callbacks.History at 0x248c6adb608>"
      ]
     },
     "execution_count": 13,
     "metadata": {},
     "output_type": "execute_result"
    },
    {
     "name": "stdout",
     "output_type": "stream",
     "text": [
      "accuracy_score 0.99182884654506\n",
      "recall_score 0.9965564738292011\n",
      "precision_score 0.8597742127153892\n",
      "f1_score 0.9231259968102073\n",
      "======Training stage======\n",
      "Epoch 1/3\n",
      "265448/265448 [==============================] - 20s 77us/step - loss: 0.0331 - accuracy: 0.9921\n",
      "Epoch 2/3\n",
      "265448/265448 [==============================] - 20s 75us/step - loss: 0.0200 - accuracy: 0.9943\n",
      "Epoch 3/3\n",
      "265448/265448 [==============================] - 21s 78us/step - loss: 0.0198 - accuracy: 0.9943\n"
     ]
    },
    {
     "data": {
      "text/plain": [
       "<keras.callbacks.callbacks.History at 0x248c63319c8>"
      ]
     },
     "execution_count": 13,
     "metadata": {},
     "output_type": "execute_result"
    },
    {
     "name": "stdout",
     "output_type": "stream",
     "text": [
      "accuracy_score 0.992913812978911\n",
      "recall_score 0.9842681258549931\n",
      "precision_score 0.8855384615384615\n",
      "f1_score 0.9322967282150955\n",
      "======Training stage======\n",
      "Epoch 1/3\n",
      "265448/265448 [==============================] - 22s 83us/step - loss: 0.0330 - accuracy: 0.9922\n",
      "Epoch 2/3\n",
      "265448/265448 [==============================] - 23s 86us/step - loss: 0.0201 - accuracy: 0.9944\n",
      "Epoch 3/3\n",
      "265448/265448 [==============================] - 24s 89us/step - loss: 0.0201 - accuracy: 0.9944\n"
     ]
    },
    {
     "data": {
      "text/plain": [
       "<keras.callbacks.callbacks.History at 0x248e406e6c8>"
      ]
     },
     "execution_count": 13,
     "metadata": {},
     "output_type": "execute_result"
    },
    {
     "name": "stdout",
     "output_type": "stream",
     "text": [
      "accuracy_score 0.9925408557672747\n",
      "recall_score 0.9932019034670292\n",
      "precision_score 0.874326750448833\n",
      "f1_score 0.9299809038828771\n",
      "======Training stage======\n",
      "Epoch 1/3\n",
      "265448/265448 [==============================] - 23s 85us/step - loss: 0.0326 - accuracy: 0.9923\n",
      "Epoch 2/3\n",
      "265448/265448 [==============================] - 23s 85us/step - loss: 0.0201 - accuracy: 0.9945\n",
      "Epoch 3/3\n",
      "265448/265448 [==============================] - 22s 84us/step - loss: 0.0199 - accuracy: 0.9945\n"
     ]
    },
    {
     "data": {
      "text/plain": [
       "<keras.callbacks.callbacks.History at 0x248c6909788>"
      ]
     },
     "execution_count": 13,
     "metadata": {},
     "output_type": "execute_result"
    },
    {
     "name": "stdout",
     "output_type": "stream",
     "text": [
      "accuracy_score 0.99182884654506\n",
      "recall_score 0.9945205479452055\n",
      "precision_score 0.8617210682492582\n",
      "f1_score 0.9233704292527823\n",
      "======Training stage======\n",
      "Epoch 1/3\n",
      "265448/265448 [==============================] - 24s 91us/step - loss: 0.0326 - accuracy: 0.9924\n",
      "Epoch 2/3\n",
      "265448/265448 [==============================] - 24s 89us/step - loss: 0.0198 - accuracy: 0.9946\n",
      "Epoch 3/3\n",
      "265448/265448 [==============================] - 24s 89us/step - loss: 0.0197 - accuracy: 0.9946\n"
     ]
    },
    {
     "data": {
      "text/plain": [
       "<keras.callbacks.callbacks.History at 0x248c64336c8>"
      ]
     },
     "execution_count": 13,
     "metadata": {},
     "output_type": "execute_result"
    },
    {
     "name": "stdout",
     "output_type": "stream",
     "text": [
      "accuracy_score 0.9909473113175561\n",
      "recall_score 0.9918864097363083\n",
      "precision_score 0.8519163763066202\n",
      "f1_score 0.9165885660731021\n",
      "\n",
      "K-fold cross validation Accuracy: [0.9973215799288014, 0.9971520596711307, 0.9970163423069098, 0.9943378314233403, 0.9961687122804638, 0.99182884654506, 0.992913812978911, 0.9925408557672747, 0.99182884654506, 0.9909473113175561]\n",
      "\n",
      "K-fold cross validation Recall: [1.0, 1.0, 1.0, 1.0, 1.0, 0.9965564738292011, 0.9842681258549931, 0.9932019034670292, 0.9945205479452055, 0.9918864097363083]\n",
      "\n",
      "K-fold cross validation Precision: [0.9482984293193717, 0.9455958549222798, 0.9424083769633508, 0.8957553058676654, 0.9275641025641026, 0.8597742127153892, 0.8855384615384615, 0.874326750448833, 0.8617210682492582, 0.8519163763066202]\n",
      "\n",
      "K-fold cross validation F1-Score: [0.9734632180047027, 0.9720372836218376, 0.9703504043126685, 0.945011524530787, 0.9624210176255404, 0.9231259968102073, 0.9322967282150955, 0.9299809038828771, 0.9233704292527823, 0.9165885660731021]\n"
     ]
    }
   ],
   "source": [
    "# (10) 양방향 LSTM 모델링 작업\n",
    "from keras.models import Model, Sequential\n",
    "from keras.layers import SimpleRNN, Input, Dense, LSTM\n",
    "from keras.layers import Bidirectional, TimeDistributed\n",
    "\n",
    "# 교차검증 kfold\n",
    "from sklearn.model_selection import KFold\n",
    "\n",
    "# 학습\n",
    "from keras.callbacks import EarlyStopping\n",
    "early_stopping = EarlyStopping(patience = 3) # 조기종료 콜백함수 정의\n",
    "\n",
    "# Accuracy, Precision, Recall, F1-Score\n",
    "from sklearn.metrics import accuracy_score, recall_score, precision_score, f1_score\n",
    "\n",
    "# K-Fold 객체 생성\n",
    "kf = KFold(n_splits=10, shuffle=False, random_state=None) # KFold non shuffle 버전\n",
    "\n",
    "# Confusion Matrix\n",
    "from sklearn.metrics import confusion_matrix\n",
    "\n",
    "# ROC Curve\n",
    "from sklearn.metrics import roc_auc_score\n",
    "\n",
    "# 최종 평가지표들 평균용\n",
    "accuracy, recall, precision, f1score, cm = [], [], [], [], []\n",
    "\n",
    "# 11. 교차검증 kfold - k.split - 10회\n",
    "for train, validation in kf.split(x_gcc6_0123_32, y_gcc6_0123_32):\n",
    "    \n",
    "    xInput = Input(batch_shape=(None, 1, 256)) # \n",
    "    xBiLstm = Bidirectional(LSTM(16, return_sequences=True), merge_mode = 'concat')(xInput)\n",
    "    xOutput = TimeDistributed(Dense(1, activation ='sigmoid'))(xBiLstm) # 각 스텝에서 cost가 전송되고, 오류가 다음 step으로 전송됨.\n",
    "\n",
    "    model1 = Model(xInput, xOutput)\n",
    "    model1.compile(loss='binary_crossentropy', optimizer='rmsprop', metrics=['accuracy'])\n",
    "    #print(model1.summary())\n",
    "    print('======Training stage======')\n",
    "    model1.fit(x_gcc6_0123_32[train],\n",
    "               y_gcc6_0123_32[train],\n",
    "               epochs = 3,\n",
    "               batch_size = 32,\n",
    "               callbacks=[early_stopping])\n",
    "    #k_accuracy = '%.4f' %(model1.evaluate(data_10000x[validation], data_10000y[validation])[1])\n",
    "\n",
    "# 12. 교차검증결과 predict    \n",
    "    # predict 값\n",
    "    k_pr = model1.predict(x_gcc6_0123_32[validation])\n",
    "    \n",
    "    # 테스트 predict 결과들 비교 (평가지표 보기위함)\n",
    "    pred = np.round(np.array(k_pr).flatten().tolist())\n",
    "    y_test = np.array(y_gcc6_0123_32[validation]).flatten().tolist()\n",
    "    \n",
    "# 13. 평가지표들 출력\n",
    "    ## 평가지표들\n",
    "    k_accuracy = float(accuracy_score(y_test, pred))\n",
    "    k_recall =  float(recall_score(y_test, pred))\n",
    "    k_precision = float(precision_score(y_test, pred))\n",
    "    k_f1_score = float(f1_score(y_test, pred))\n",
    "    #k_cm = float(confusion_matrix(y_test, pred))\n",
    "    \n",
    "    print('accuracy_score', k_accuracy)\n",
    "    print('recall_score', k_recall)\n",
    "    print('precision_score', k_precision)\n",
    "    print('f1_score', k_f1_score)\n",
    "    #print('\\nconfusion_matrix\\n', k_cm)\n",
    "\n",
    "    accuracy.append(k_accuracy)\n",
    "    recall.append(k_recall)\n",
    "    precision.append(k_precision)\n",
    "    f1score.append(k_f1_score)\n",
    "    #cm.append(k_cm)\n",
    "#    print('roc_curve 면적', roc_auc_score(y_test, pred))\n",
    "\n",
    "# 14. 최종 결과지표\n",
    "print('\\nK-fold cross validation Accuracy: {}'.format(accuracy))\n",
    "print('\\nK-fold cross validation Recall: {}'.format(recall))\n",
    "print('\\nK-fold cross validation Precision: {}'.format(precision))\n",
    "print('\\nK-fold cross validation F1-Score: {}'.format(f1score))\n",
    "#print('\\nK-fold cross validation ConfusionMatrix: {}'.format(cm))"
   ]
  },
  {
   "cell_type": "code",
   "execution_count": 14,
   "metadata": {},
   "outputs": [
    {
     "name": "stdout",
     "output_type": "stream",
     "text": [
      "10-Fold Cross_validation. Accuracy : 0.9942056198764508\n",
      "10-Fold Cross_validation. Recall : 0.9960433460832737\n",
      "10-Fold Cross_validation. Precision : 0.8992898938895333\n",
      "10-Fold Cross_validation. F1-Score : 0.9448646072329601\n"
     ]
    }
   ],
   "source": [
    "print('10-Fold Cross_validation. Accuracy :', np.mean(accuracy))\n",
    "print('10-Fold Cross_validation. Recall :', np.mean(recall))\n",
    "print('10-Fold Cross_validation. Precision :', np.mean(precision))\n",
    "print('10-Fold Cross_validation. F1-Score :', np.mean(f1score))"
   ]
  },
  {
   "cell_type": "code",
   "execution_count": null,
   "metadata": {},
   "outputs": [],
   "source": []
  }
 ],
 "metadata": {
  "kernelspec": {
   "display_name": "Python 3",
   "language": "python",
   "name": "python3"
  },
  "language_info": {
   "codemirror_mode": {
    "name": "ipython",
    "version": 3
   },
   "file_extension": ".py",
   "mimetype": "text/x-python",
   "name": "python",
   "nbconvert_exporter": "python",
   "pygments_lexer": "ipython3",
   "version": "3.7.5"
  }
 },
 "nbformat": 4,
 "nbformat_minor": 4
}
