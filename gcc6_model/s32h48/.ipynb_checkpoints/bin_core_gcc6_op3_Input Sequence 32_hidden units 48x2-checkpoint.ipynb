{
 "cells": [
  {
   "cell_type": "markdown",
   "metadata": {},
   "source": [
    "## RNN 모델 N-Byte 방식 (함수정보 포함 vs 미포함 => 1:1 비율)\n",
    "\n",
    "## (1) 데이터로드"
   ]
  },
  {
   "cell_type": "code",
   "execution_count": 1,
   "metadata": {},
   "outputs": [
    {
     "name": "stdout",
     "output_type": "stream",
     "text": [
      "(33250757, 2)\n",
      "shape - (33250757, 2)\n",
      "reset_index 완료\n",
      "input data shape\n"
     ]
    },
    {
     "data": {
      "text/html": [
       "<div>\n",
       "<style scoped>\n",
       "    .dataframe tbody tr th:only-of-type {\n",
       "        vertical-align: middle;\n",
       "    }\n",
       "\n",
       "    .dataframe tbody tr th {\n",
       "        vertical-align: top;\n",
       "    }\n",
       "\n",
       "    .dataframe thead th {\n",
       "        text-align: right;\n",
       "    }\n",
       "</style>\n",
       "<table border=\"1\" class=\"dataframe\">\n",
       "  <thead>\n",
       "    <tr style=\"text-align: right;\">\n",
       "      <th></th>\n",
       "      <th>bin</th>\n",
       "      <th>label</th>\n",
       "    </tr>\n",
       "  </thead>\n",
       "  <tbody>\n",
       "    <tr>\n",
       "      <th>0</th>\n",
       "      <td>47</td>\n",
       "      <td>0</td>\n",
       "    </tr>\n",
       "    <tr>\n",
       "      <th>1</th>\n",
       "      <td>108</td>\n",
       "      <td>0</td>\n",
       "    </tr>\n",
       "    <tr>\n",
       "      <th>2</th>\n",
       "      <td>105</td>\n",
       "      <td>0</td>\n",
       "    </tr>\n",
       "    <tr>\n",
       "      <th>3</th>\n",
       "      <td>98</td>\n",
       "      <td>0</td>\n",
       "    </tr>\n",
       "    <tr>\n",
       "      <th>4</th>\n",
       "      <td>47</td>\n",
       "      <td>0</td>\n",
       "    </tr>\n",
       "  </tbody>\n",
       "</table>\n",
       "</div>"
      ],
      "text/plain": [
       "   bin  label\n",
       "0   47      0\n",
       "1  108      0\n",
       "2  105      0\n",
       "3   98      0\n",
       "4   47      0"
      ]
     },
     "execution_count": 1,
     "metadata": {},
     "output_type": "execute_result"
    }
   ],
   "source": [
    "# (1) 데이터로드\n",
    "import pandas as pd\n",
    "import numpy as np\n",
    "\n",
    "import warnings\n",
    "warnings.filterwarnings(action='ignore')\n",
    "\n",
    "# 여러개 쳐도 나오게\n",
    "from IPython.core.interactiveshell import InteractiveShell\n",
    "InteractiveShell.ast_node_interactivity = \"all\"\n",
    "\n",
    "# 파일읽기\n",
    "bin6_3 = pd.read_csv(\"../../바이너리_최종데이터_1004/gcc6/o3/o3_bincore6.csv\", index_col=0)\n",
    "print(bin6_3.shape)\n",
    "\n",
    "# reset_index (hex processing 하면서 값이 빠졌으니까 + n_gram 에서 index를 다루기 때문에)\n",
    "bin6_3.reset_index(inplace=True, drop=True)\n",
    "\n",
    "print('shape -', bin6_3.shape)\n",
    "print('reset_index 완료')\n",
    "print('input data shape')\n",
    "bin6_3.head()"
   ]
  },
  {
   "cell_type": "code",
   "execution_count": 2,
   "metadata": {},
   "outputs": [
    {
     "name": "stdout",
     "output_type": "stream",
     "text": [
      "256\n",
      "0    33215560\n",
      "1       35197\n",
      "Name: label, dtype: int64\n"
     ]
    }
   ],
   "source": [
    "# (2-1) 데이터체크 1 - hex(16진수)가 256 label을 가져야 dummies 변환 가능 \n",
    "# 16진수 256개 종류가 있어서 pd.get_dummies 사용 가능.\n",
    "print(len(bin6_3['bin'].unique()))\n",
    "\n",
    "# (2-2) 데이터 체크 2 - 1, 0 비율 ==> 1이 함수의 갯수를 뜻함\n",
    "# 정답 데이터 1, 0 비율 확인  ==> 1이 함수의 갯수를 뜻함\n",
    "print(bin6_3['label'].value_counts())"
   ]
  },
  {
   "cell_type": "markdown",
   "metadata": {},
   "source": [
    "## (3) N Byte씩 자르기"
   ]
  },
  {
   "cell_type": "code",
   "execution_count": 3,
   "metadata": {},
   "outputs": [
    {
     "name": "stdout",
     "output_type": "stream",
     "text": [
      "1126304\n",
      "나머지 0\n",
      "최종 길이 1126304\n",
      "bin6_3 1126304\n"
     ]
    }
   ],
   "source": [
    "idx_bin = bin6_3[bin6_3['label']==1].index  # 407, 474 ...\n",
    "ls_bin = list(idx_bin)\n",
    "\n",
    "# 최종 뽑을 행에 대한 index\n",
    "ls_idx_bin = []\n",
    "\n",
    "# n byte 자르기 방식\n",
    "left_idx, right_idx = 0, 32 # 3개씩\n",
    "\n",
    "# n byte 자르기\n",
    "for k in range(left_idx, right_idx):\n",
    "    ls_idx_bin.extend(list(idx_bin + k)) # index 형이라서 가능\n",
    "\n",
    "#ls_idx = list(set(ls_idx)) \n",
    "ls_idx_bin.sort() # 인덱스 정렬\n",
    "\n",
    "# 1차 index 해당범위 초과한 것들 없애기\n",
    "ls_idx_bin = list(filter(lambda x: x<len(bin6_3), ls_idx_bin))\n",
    "print(len(ls_idx_bin))\n",
    "\n",
    "# 2차 남은 index들 중 right_idx 나눈 나머지 없애기\n",
    "sub_bin = len(ls_idx_bin)%(right_idx)\n",
    "print('나머지', sub_bin)\n",
    "\n",
    "ls_idx_bin = ls_idx_bin[:len(ls_idx_bin)-sub_bin]\n",
    "print('최종 길이', len(ls_idx_bin))\n",
    "\n",
    "print('bin6_3', len(ls_idx_bin))\n",
    "\n",
    "# loc 로 수정필요\n",
    "bin6_3_Ngram = bin6_3.loc[ls_idx_bin,:].copy()"
   ]
  },
  {
   "cell_type": "markdown",
   "metadata": {},
   "source": [
    "## (4) false data 만들기"
   ]
  },
  {
   "cell_type": "code",
   "execution_count": 4,
   "metadata": {},
   "outputs": [
    {
     "name": "stdout",
     "output_type": "stream",
     "text": [
      "35197.0\n",
      "0 28425135\n",
      "1000 8553196\n",
      "2000 20640071\n",
      "3000 5777696\n",
      "4000 10780394\n",
      "5000 18690558\n",
      "6000 17586049\n",
      "7000 3810022\n",
      "8000 28216086\n",
      "9000 23015213\n",
      "10000 23023458\n",
      "11000 30058174\n",
      "12000 20535374\n",
      "13000 26921300\n",
      "14000 23355923\n",
      "15000 29859338\n",
      "16000 21248947\n",
      "17000 29098427\n",
      "18000 2324954\n",
      "19000 21867426\n",
      "20000 31726672\n",
      "21000 4333069\n",
      "22000 22862434\n",
      "23000 12174471\n",
      "24000 32222947\n",
      "25000 11268781\n",
      "26000 17001565\n",
      "27000 31811266\n",
      "28000 20726027\n",
      "29000 7838693\n",
      "30000 11697238\n",
      "31000 4518801\n",
      "32000 33077800\n",
      "33000 30940067\n",
      "34000 32171097\n",
      "35000 28187919\n",
      "완료\n",
      "35197\n"
     ]
    }
   ],
   "source": [
    "# false data 만들기 - False 데이터 랜덤 생성\n",
    "\n",
    "# 목표치\n",
    "goal_bin = len(bin6_3_Ngram)/right_idx\n",
    "count_bin = 0\n",
    "\n",
    "print(goal_bin)\n",
    "\n",
    "# 최종 데이터 Frame\n",
    "d_bin = pd.DataFrame(columns = bin6_3.columns)\n",
    "\n",
    "binutils_df = []\n",
    "# goal 에 도달할 때까지\n",
    "while True:\n",
    "    if (count_bin == goal_bin):\n",
    "            break\n",
    "    # 진행상황 살펴보기 위함\n",
    "            \n",
    "    # 랜덤 N 바이트씩 뽑음\n",
    "    # random index\n",
    "    random_idx_bin = np.random.randint(len(bin6_3)-right_idx)\n",
    "\n",
    "    if count_bin % 1000==0:\n",
    "        print(count_bin, end=' ')\n",
    "        print(random_idx_bin)\n",
    "\n",
    "    df_bin = bin6_3[random_idx_bin : random_idx_bin + right_idx]\n",
    "    \n",
    "    # 뽑은 index의 N 바이트 중에 1이 없는 경우만\n",
    "    if 1 not in df_bin['label'] and count_bin < goal_bin:\n",
    "        binutils_df.append(df_bin)\n",
    "        count_bin+=1\n",
    "\n",
    "print('완료')\n",
    "print(len(binutils_df))"
   ]
  },
  {
   "cell_type": "code",
   "execution_count": 5,
   "metadata": {},
   "outputs": [
    {
     "name": "stdout",
     "output_type": "stream",
     "text": [
      "35197\n",
      "35197\n"
     ]
    }
   ],
   "source": [
    "# True data와 False Data 같은지 체크\n",
    "print(len(binutils_df))\n",
    "print(bin6_3['label'].value_counts()[1])"
   ]
  },
  {
   "cell_type": "markdown",
   "metadata": {},
   "source": [
    "## (5) False Data + True Data 합치기"
   ]
  },
  {
   "cell_type": "code",
   "execution_count": 6,
   "metadata": {},
   "outputs": [
    {
     "data": {
      "text/plain": [
       "(2252608, 2)"
      ]
     },
     "execution_count": 6,
     "metadata": {},
     "output_type": "execute_result"
    }
   ],
   "source": [
    "f_data = pd.concat(binutils_df)\n",
    "final = pd.concat([f_data, bin6_3_Ngram])\n",
    "final.shape"
   ]
  },
  {
   "cell_type": "markdown",
   "metadata": {},
   "source": [
    "## (6) one hot encoding"
   ]
  },
  {
   "cell_type": "code",
   "execution_count": 7,
   "metadata": {},
   "outputs": [
    {
     "name": "stdout",
     "output_type": "stream",
     "text": [
      "원핫인코딩완료\n",
      "(2252608, 257)\n"
     ]
    }
   ],
   "source": [
    "# 훈련데이터 (gcc 최적화버전 0, 1, 2, 3 one hot encoding)\n",
    "bc6_3_onehot_Ngram = pd.get_dummies(final['bin'])\n",
    "bc6_3_onehot_Ngram = pd.concat([final['label'], bc6_3_onehot_Ngram], axis=1)\n",
    "\n",
    "print('원핫인코딩완료')\n",
    "print(bc6_3_onehot_Ngram.shape)"
   ]
  },
  {
   "cell_type": "code",
   "execution_count": 8,
   "metadata": {},
   "outputs": [
    {
     "name": "stdout",
     "output_type": "stream",
     "text": [
      "(2252608, 256) (2252608, 256)\n",
      "(70394, 32, 256) (70394, 32, 1)\n"
     ]
    }
   ],
   "source": [
    "# 훈련 데이터, 훈련 라벨\n",
    "x_bc6_3 = bc6_3_onehot_Ngram.iloc[:,1:].to_numpy()\n",
    "y_bc6_3 = bc6_3_onehot_Ngram['label'].to_numpy()\n",
    "print(x_bc6_3.shape, x_bc6_3.shape)\n",
    "\n",
    "x_bc6_3 = x_bc6_3.reshape(-1, right_idx, x_bc6_3.shape[1])\n",
    "y_bc6_3 = y_bc6_3.reshape(-1, right_idx, 1)\n",
    "\n",
    "print(x_bc6_3.shape, y_bc6_3.shape)"
   ]
  },
  {
   "cell_type": "code",
   "execution_count": 9,
   "metadata": {},
   "outputs": [
    {
     "name": "stdout",
     "output_type": "stream",
     "text": [
      "(70394, 32, 256) (70394, 32, 1)\n"
     ]
    }
   ],
   "source": [
    "# numpy 행, 열 섞기\n",
    "p = np.random.permutation(x_bc6_3.shape[0])\n",
    "\n",
    "x_bc6_3 = x_bc6_3[p]\n",
    "y_bc6_3 = y_bc6_3[p]\n",
    "\n",
    "print(x_bc6_3.shape, y_bc6_3.shape)"
   ]
  },
  {
   "cell_type": "markdown",
   "metadata": {},
   "source": [
    "## (7) 모델"
   ]
  },
  {
   "cell_type": "code",
   "execution_count": 10,
   "metadata": {},
   "outputs": [],
   "source": [
    "# (10) 양방향 LSTM 모델링 작업\n",
    "from tensorflow.keras import layers, models\n",
    "#from tf.keras.models import Model, Sequential\n",
    "#from tf.keras.layers import SimpleRNN, Input, Dense, LSTM\n",
    "#from tf.keras.layers import Bidirectional, TimeDistributed\n",
    "\n",
    "# 학습\n",
    "from tensorflow.keras.callbacks import EarlyStopping\n",
    "early_stopping = EarlyStopping(patience = 3) # 조기종료 콜백함수 정의\n",
    "\n",
    "xInput = layers.Input(batch_shape=(None,right_idx, 256)) \n",
    "xBiLstm = layers.Bidirectional(layers.LSTM(48, return_sequences=True, stateful=False), merge_mode = 'concat')(xInput)\n",
    "xOutput = layers.TimeDistributed(layers.Dense(1, activation ='sigmoid'))(xBiLstm) # 각 스텝에서 cost가 전송되고, 오류가 다음 step으로 전송됨."
   ]
  },
  {
   "cell_type": "markdown",
   "metadata": {},
   "source": [
    "## (8) 학습 - 10 KFold"
   ]
  },
  {
   "cell_type": "code",
   "execution_count": 11,
   "metadata": {
    "scrolled": false
   },
   "outputs": [
    {
     "name": "stdout",
     "output_type": "stream",
     "text": [
      "Model: \"model\"\n",
      "_________________________________________________________________\n",
      "Layer (type)                 Output Shape              Param #   \n",
      "=================================================================\n",
      "input_1 (InputLayer)         [(None, 32, 256)]         0         \n",
      "_________________________________________________________________\n",
      "bidirectional (Bidirectional (None, 32, 96)            117120    \n",
      "_________________________________________________________________\n",
      "time_distributed (TimeDistri (None, 32, 1)             97        \n",
      "=================================================================\n",
      "Total params: 117,217\n",
      "Trainable params: 117,217\n",
      "Non-trainable params: 0\n",
      "_________________________________________________________________\n",
      "======Training stage======\n",
      "Train on 63354 samples\n",
      "Epoch 1/10\n",
      "63328/63354 [============================>.] - ETA: 0s - loss: 0.0118 - accuracy: 0.9968WARNING:tensorflow:Early stopping conditioned on metric `val_loss` which is not available. Available metrics are: loss,accuracy\n",
      "63354/63354 [==============================] - 112s 2ms/sample - loss: 0.0118 - accuracy: 0.9968\n",
      "Epoch 2/10\n",
      "63328/63354 [============================>.] - ETA: 0s - loss: 0.0010 - accuracy: 0.9997 ETA: 2s - loss: 0.0010 - WARNING:tensorflow:Early stopping conditioned on metric `val_loss` which is not available. Available metrics are: loss,accuracy\n",
      "63354/63354 [==============================] - 103s 2ms/sample - loss: 0.0010 - accuracy: 0.9997\n",
      "Epoch 3/10\n",
      "63296/63354 [============================>.] - ETA: 0s - loss: 7.4123e-04 - accuracy: 0.9998WARNING:tensorflow:Early stopping conditioned on metric `val_loss` which is not available. Available metrics are: loss,accuracy\n",
      "63354/63354 [==============================] - 115s 2ms/sample - loss: 7.4092e-04 - accuracy: 0.9998\n",
      "Epoch 4/10\n",
      "63328/63354 [============================>.] - ETA: 0s - loss: 5.8489e-04 - accuracy: 0.9998WARNING:tensorflow:Early stopping conditioned on metric `val_loss` which is not available. Available metrics are: loss,accuracy\n",
      "63354/63354 [==============================] - 121s 2ms/sample - loss: 5.8479e-04 - accuracy: 0.9998\n",
      "Epoch 5/10\n",
      "63328/63354 [============================>.] - ETA: 0s - loss: 4.9343e-04 - accuracy: 0.9999WARNING:tensorflow:Early stopping conditioned on metric `val_loss` which is not available. Available metrics are: loss,accuracy\n",
      "63354/63354 [==============================] - 100s 2ms/sample - loss: 4.9324e-04 - accuracy: 0.9999\n",
      "Epoch 6/10\n",
      "63328/63354 [============================>.] - ETA: 0s - loss: 4.3151e-04 - accuracy: 0.9999WARNING:tensorflow:Early stopping conditioned on metric `val_loss` which is not available. Available metrics are: loss,accuracy\n",
      "63354/63354 [==============================] - 95s 2ms/sample - loss: 4.3135e-04 - accuracy: 0.9999\n",
      "Epoch 7/10\n",
      "63328/63354 [============================>.] - ETA: 0s - loss: 3.5563e-04 - accuracy: 0.9999 EWARNING:tensorflow:Early stopping conditioned on metric `val_loss` which is not available. Available metrics are: loss,accuracy\n",
      "63354/63354 [==============================] - 100s 2ms/sample - loss: 3.5548e-04 - accuracy: 0.9999\n",
      "Epoch 8/10\n",
      "63328/63354 [============================>.] - ETA: 0s - loss: 3.1312e-04 - accuracy: 0.9999WARNING:tensorflow:Early stopping conditioned on metric `val_loss` which is not available. Available metrics are: loss,accuracy\n",
      "63354/63354 [==============================] - 94s 1ms/sample - loss: 3.1304e-04 - accuracy: 0.9999\n",
      "Epoch 9/10\n",
      "63328/63354 [============================>.] - ETA: 0s - loss: 2.7383e-04 - accuracy: 0.9999WARNING:tensorflow:Early stopping conditioned on metric `val_loss` which is not available. Available metrics are: loss,accuracy\n",
      "63354/63354 [==============================] - 116s 2ms/sample - loss: 2.7372e-04 - accuracy: 0.9999\n",
      "Epoch 10/10\n",
      "63328/63354 [============================>.] - ETA: 0s - loss: 2.5030e-04 - accuracy: 0.9999WARNING:tensorflow:Early stopping conditioned on metric `val_loss` which is not available. Available metrics are: loss,accuracy\n",
      "63354/63354 [==============================] - 111s 2ms/sample - loss: 2.5020e-04 - accuracy: 0.9999\n"
     ]
    },
    {
     "data": {
      "text/plain": [
       "<tensorflow.python.keras.callbacks.History at 0x24e90b54608>"
      ]
     },
     "execution_count": 11,
     "metadata": {},
     "output_type": "execute_result"
    },
    {
     "name": "stdout",
     "output_type": "stream",
     "text": [
      "accuracy_score 0.9999112215909091\n",
      "recall_score 0.9982032854209446\n",
      "precision_score 0.9966683751922091\n",
      "f1_score 0.9974352398050782\n",
      "Model: \"model_1\"\n",
      "_________________________________________________________________\n",
      "Layer (type)                 Output Shape              Param #   \n",
      "=================================================================\n",
      "input_1 (InputLayer)         [(None, 32, 256)]         0         \n",
      "_________________________________________________________________\n",
      "bidirectional (Bidirectional (None, 32, 96)            117120    \n",
      "_________________________________________________________________\n",
      "time_distributed (TimeDistri (None, 32, 1)             97        \n",
      "=================================================================\n",
      "Total params: 117,217\n",
      "Trainable params: 117,217\n",
      "Non-trainable params: 0\n",
      "_________________________________________________________________\n",
      "======Training stage======\n",
      "Train on 63354 samples\n",
      "Epoch 1/10\n",
      "63296/63354 [============================>.] - ETA: 0s - loss: 2.4953e-04 - accuracy: 0.9999WARNING:tensorflow:Early stopping conditioned on metric `val_loss` which is not available. Available metrics are: loss,accuracy\n",
      "63354/63354 [==============================] - 120s 2ms/sample - loss: 2.4932e-04 - accuracy: 0.9999\n",
      "Epoch 2/10\n",
      "63328/63354 [============================>.] - ETA: 0s - loss: 2.1831e-04 - accuracy: 0.9999 ETA: 1s - loss: 2WARNING:tensorflow:Early stopping conditioned on metric `val_loss` which is not available. Available metrics are: loss,accuracy\n",
      "63354/63354 [==============================] - 96s 2ms/sample - loss: 2.1825e-04 - accuracy: 0.9999\n",
      "Epoch 3/10\n",
      "63296/63354 [============================>.] - ETA: 0s - loss: 1.7324e-04 - accuracy: 1.0000WARNING:tensorflow:Early stopping conditioned on metric `val_loss` which is not available. Available metrics are: loss,accuracy\n",
      "63354/63354 [==============================] - 102s 2ms/sample - loss: 1.7308e-04 - accuracy: 1.0000\n",
      "Epoch 4/10\n",
      "63328/63354 [============================>.] - ETA: 0s - loss: 1.5837e-04 - accuracy: 1.0000WARNING:tensorflow:Early stopping conditioned on metric `val_loss` which is not available. Available metrics are: loss,accuracy\n",
      "63354/63354 [==============================] - 102s 2ms/sample - loss: 1.5842e-04 - accuracy: 1.0000\n",
      "Epoch 5/10\n",
      "63328/63354 [============================>.] - ETA: 0s - loss: 1.1338e-04 - accuracy: 1.0000WARNING:tensorflow:Early stopping conditioned on metric `val_loss` which is not available. Available metrics are: loss,accuracy\n",
      "63354/63354 [==============================] - 119s 2ms/sample - loss: 1.1336e-04 - accuracy: 1.0000\n",
      "Epoch 6/10\n",
      "63328/63354 [============================>.] - ETA: 0s - loss: 1.1772e-04 - accuracy: 1.0000 ETA: 0s - loss: 1.1829e-0WARNING:tensorflow:Early stopping conditioned on metric `val_loss` which is not available. Available metrics are: loss,accuracy\n",
      "63354/63354 [==============================] - 119s 2ms/sample - loss: 1.1767e-04 - accuracy: 1.0000\n",
      "Epoch 7/10\n",
      "63296/63354 [============================>.] - ETA: 0s - loss: 9.0070e-05 - accuracy: 1.0000WARNING:tensorflow:Early stopping conditioned on metric `val_loss` which is not available. Available metrics are: loss,accuracy\n",
      "63354/63354 [==============================] - 116s 2ms/sample - loss: 8.9988e-05 - accuracy: 1.0000\n",
      "Epoch 8/10\n",
      "63328/63354 [============================>.] - ETA: 0s - loss: 9.0070e-05 - accuracy: 1.0000 ETA: 0s - loss: 9.0343e-05 - accuraWARNING:tensorflow:Early stopping conditioned on metric `val_loss` which is not available. Available metrics are: loss,accuracy\n",
      "63354/63354 [==============================] - 94s 1ms/sample - loss: 9.0034e-05 - accuracy: 1.0000\n",
      "Epoch 9/10\n",
      "63328/63354 [============================>.] - ETA: 0s - loss: 7.7788e-05 - accuracy: 1.0000WARNING:tensorflow:Early stopping conditioned on metric `val_loss` which is not available. Available metrics are: loss,accuracy\n",
      "63354/63354 [==============================] - 86s 1ms/sample - loss: 7.7756e-05 - accuracy: 1.0000\n",
      "Epoch 10/10\n",
      "63328/63354 [============================>.] - ETA: 0s - loss: 5.6284e-05 - accuracy: 1.0000WARNING:tensorflow:Early stopping conditioned on metric `val_loss` which is not available. Available metrics are: loss,accuracy\n",
      "63354/63354 [==============================] - 90s 1ms/sample - loss: 5.6261e-05 - accuracy: 1.0000\n"
     ]
    },
    {
     "data": {
      "text/plain": [
       "<tensorflow.python.keras.callbacks.History at 0x24e9ac2a308>"
      ]
     },
     "execution_count": 11,
     "metadata": {},
     "output_type": "execute_result"
    },
    {
     "name": "stdout",
     "output_type": "stream",
     "text": [
      "accuracy_score 0.9999467329545455\n",
      "recall_score 0.9974528782475802\n",
      "precision_score 0.9994895354772844\n",
      "f1_score 0.998470168281489\n",
      "Model: \"model_2\"\n",
      "_________________________________________________________________\n",
      "Layer (type)                 Output Shape              Param #   \n",
      "=================================================================\n",
      "input_1 (InputLayer)         [(None, 32, 256)]         0         \n",
      "_________________________________________________________________\n",
      "bidirectional (Bidirectional (None, 32, 96)            117120    \n",
      "_________________________________________________________________\n",
      "time_distributed (TimeDistri (None, 32, 1)             97        \n",
      "=================================================================\n",
      "Total params: 117,217\n",
      "Trainable params: 117,217\n",
      "Non-trainable params: 0\n",
      "_________________________________________________________________\n",
      "======Training stage======\n",
      "Train on 63354 samples\n",
      "Epoch 1/10\n",
      "63328/63354 [============================>.] - ETA: 0s - loss: 6.9968e-05 - accuracy: 1.0000WARNING:tensorflow:Early stopping conditioned on metric `val_loss` which is not available. Available metrics are: loss,accuracy\n",
      "63354/63354 [==============================] - 112s 2ms/sample - loss: 6.9946e-05 - accuracy: 1.0000\n",
      "Epoch 2/10\n",
      "63328/63354 [============================>.] - ETA: 0s - loss: 6.8323e-05 - accuracy: 1.0000WARNING:tensorflow:Early stopping conditioned on metric `val_loss` which is not available. Available metrics are: loss,accuracy\n",
      "63354/63354 [==============================] - 91s 1ms/sample - loss: 6.8295e-05 - accuracy: 1.0000\n",
      "Epoch 3/10\n",
      "63328/63354 [============================>.] - ETA: 0s - loss: 5.4065e-05 - accuracy: 1.0000WARNING:tensorflow:Early stopping conditioned on metric `val_loss` which is not available. Available metrics are: loss,accuracy\n",
      "63354/63354 [==============================] - 93s 1ms/sample - loss: 5.4043e-05 - accuracy: 1.0000\n",
      "Epoch 4/10\n",
      "63296/63354 [============================>.] - ETA: 0s - loss: 4.1001e-05 - accuracy: 1.0000WARNING:tensorflow:Early stopping conditioned on metric `val_loss` which is not available. Available metrics are: loss,accuracy\n",
      "63354/63354 [==============================] - 93s 1ms/sample - loss: 4.0964e-05 - accuracy: 1.0000\n",
      "Epoch 5/10\n",
      "63328/63354 [============================>.] - ETA: 0s - loss: 3.1524e-05 - accuracy: 1.0000WARNING:tensorflow:Early stopping conditioned on metric `val_loss` which is not available. Available metrics are: loss,accuracy\n",
      "63354/63354 [==============================] - 93s 1ms/sample - loss: 3.1511e-05 - accuracy: 1.0000\n",
      "Epoch 6/10\n",
      "63296/63354 [============================>.] - ETA: 0s - loss: 3.6186e-05 - accuracy: 1.0000WARNING:tensorflow:Early stopping conditioned on metric `val_loss` which is not available. Available metrics are: loss,accuracy\n",
      "63354/63354 [==============================] - 93s 1ms/sample - loss: 3.6153e-05 - accuracy: 1.0000\n",
      "Epoch 7/10\n",
      "63296/63354 [============================>.] - ETA: 0s - loss: 3.2603e-05 - accuracy: 1.0000WARNING:tensorflow:Early stopping conditioned on metric `val_loss` which is not available. Available metrics are: loss,accuracy\n",
      "63354/63354 [==============================] - 94s 1ms/sample - loss: 3.2574e-05 - accuracy: 1.0000\n",
      "Epoch 8/10\n",
      "63296/63354 [============================>.] - ETA: 0s - loss: 2.5428e-05 - accuracy: 1.0000WARNING:tensorflow:Early stopping conditioned on metric `val_loss` which is not available. Available metrics are: loss,accuracy\n",
      "63354/63354 [==============================] - 93s 1ms/sample - loss: 2.5405e-05 - accuracy: 1.0000\n",
      "Epoch 9/10\n",
      "63328/63354 [============================>.] - ETA: 0s - loss: 2.2341e-05 - accuracy: 1.0000WARNING:tensorflow:Early stopping conditioned on metric `val_loss` which is not available. Available metrics are: loss,accuracy\n",
      "63354/63354 [==============================] - 94s 1ms/sample - loss: 2.2332e-05 - accuracy: 1.0000\n",
      "Epoch 10/10\n",
      "63296/63354 [============================>.] - ETA: 0s - loss: 2.0756e-05 - accuracy: 1.0000WARNING:tensorflow:Early stopping conditioned on metric `val_loss` which is not available. Available metrics are: loss,accuracy\n",
      "63354/63354 [==============================] - 86s 1ms/sample - loss: 2.3405e-05 - accuracy: 1.0000\n"
     ]
    },
    {
     "data": {
      "text/plain": [
       "<tensorflow.python.keras.callbacks.History at 0x24e90651d88>"
      ]
     },
     "execution_count": 11,
     "metadata": {},
     "output_type": "execute_result"
    },
    {
     "name": "stdout",
     "output_type": "stream",
     "text": [
      "accuracy_score 0.9999644886363637\n",
      "recall_score 0.998960498960499\n",
      "precision_score 0.998960498960499\n",
      "f1_score 0.998960498960499\n",
      "Model: \"model_3\"\n",
      "_________________________________________________________________\n",
      "Layer (type)                 Output Shape              Param #   \n",
      "=================================================================\n",
      "input_1 (InputLayer)         [(None, 32, 256)]         0         \n",
      "_________________________________________________________________\n",
      "bidirectional (Bidirectional (None, 32, 96)            117120    \n",
      "_________________________________________________________________\n",
      "time_distributed (TimeDistri (None, 32, 1)             97        \n",
      "=================================================================\n",
      "Total params: 117,217\n",
      "Trainable params: 117,217\n",
      "Non-trainable params: 0\n",
      "_________________________________________________________________\n",
      "======Training stage======\n",
      "Train on 63354 samples\n",
      "Epoch 1/10\n",
      "63328/63354 [============================>.] - ETA: 0s - loss: 2.3033e-05 - accuracy: 1.0000 ETA: 1s -WARNING:tensorflow:Early stopping conditioned on metric `val_loss` which is not available. Available metrics are: loss,accuracy\n",
      "63354/63354 [==============================] - 102s 2ms/sample - loss: 2.3023e-05 - accuracy: 1.0000\n",
      "Epoch 2/10\n",
      "63328/63354 [============================>.] - ETA: 0s - loss: 9.9509e-06 - accuracy: 1.0000WARNING:tensorflow:Early stopping conditioned on metric `val_loss` which is not available. Available metrics are: loss,accuracy\n",
      "63354/63354 [==============================] - 89s 1ms/sample - loss: 9.9468e-06 - accuracy: 1.0000\n",
      "Epoch 3/10\n",
      "63296/63354 [============================>.] - ETA: 0s - loss: 6.0601e-06 - accuracy: 1.0000WARNING:tensorflow:Early stopping conditioned on metric `val_loss` which is not available. Available metrics are: loss,accuracy\n",
      "63354/63354 [==============================] - 95s 2ms/sample - loss: 6.0545e-06 - accuracy: 1.0000\n",
      "Epoch 4/10\n",
      "63296/63354 [============================>.] - ETA: 0s - loss: 6.3912e-06 - accuracy: 1.0000WARNING:tensorflow:Early stopping conditioned on metric `val_loss` which is not available. Available metrics are: loss,accuracy\n",
      "63354/63354 [==============================] - 94s 1ms/sample - loss: 6.3853e-06 - accuracy: 1.0000\n",
      "Epoch 5/10\n",
      "63328/63354 [============================>.] - ETA: 0s - loss: 2.8893e-06 - accuracy: 1.0000WARNING:tensorflow:Early stopping conditioned on metric `val_loss` which is not available. Available metrics are: loss,accuracy\n",
      "63354/63354 [==============================] - 94s 1ms/sample - loss: 2.8883e-06 - accuracy: 1.0000\n",
      "Epoch 6/10\n",
      "63296/63354 [============================>.] - ETA: 0s - loss: 1.0994e-06 - accuracy: 1.0000WARNING:tensorflow:Early stopping conditioned on metric `val_loss` which is not available. Available metrics are: loss,accuracy\n",
      "63354/63354 [==============================] - 95s 1ms/sample - loss: 1.0983e-06 - accuracy: 1.0000\n",
      "Epoch 7/10\n",
      "63328/63354 [============================>.] - ETA: 0s - loss: 1.9586e-06 - accuracy: 1.0000WARNING:tensorflow:Early stopping conditioned on metric `val_loss` which is not available. Available metrics are: loss,accuracy\n",
      "63354/63354 [==============================] - 95s 1ms/sample - loss: 1.9578e-06 - accuracy: 1.0000\n",
      "Epoch 8/10\n",
      "63328/63354 [============================>.] - ETA: 0s - loss: 9.5304e-07 - accuracy: 1.0000WARNING:tensorflow:Early stopping conditioned on metric `val_loss` which is not available. Available metrics are: loss,accuracy\n",
      "63354/63354 [==============================] - 95s 2ms/sample - loss: 9.5265e-07 - accuracy: 1.0000\n",
      "Epoch 9/10\n",
      "63328/63354 [============================>.] - ETA: 0s - loss: 1.2422e-06 - accuracy: 1.0000 ETA: 0s - loss: 1.2479e-06 - accuWARNING:tensorflow:Early stopping conditioned on metric `val_loss` which is not available. Available metrics are: loss,accuracy\n",
      "63354/63354 [==============================] - 95s 1ms/sample - loss: 1.2417e-06 - accuracy: 1.0000\n",
      "Epoch 10/10\n",
      "63328/63354 [============================>.] - ETA: 0s - loss: 1.3530e-07 - accuracy: 1.0000WARNING:tensorflow:Early stopping conditioned on metric `val_loss` which is not available. Available metrics are: loss,accuracy\n",
      "63354/63354 [==============================] - 95s 2ms/sample - loss: 1.3524e-07 - accuracy: 1.0000\n"
     ]
    },
    {
     "data": {
      "text/plain": [
       "<tensorflow.python.keras.callbacks.History at 0x24e8ff5bd48>"
      ]
     },
     "execution_count": 11,
     "metadata": {},
     "output_type": "execute_result"
    },
    {
     "name": "stdout",
     "output_type": "stream",
     "text": [
      "accuracy_score 0.9999911221590909\n",
      "recall_score 0.9997455470737914\n",
      "precision_score 0.9997455470737914\n",
      "f1_score 0.9997455470737914\n",
      "Model: \"model_4\"\n",
      "_________________________________________________________________\n",
      "Layer (type)                 Output Shape              Param #   \n",
      "=================================================================\n",
      "input_1 (InputLayer)         [(None, 32, 256)]         0         \n",
      "_________________________________________________________________\n",
      "bidirectional (Bidirectional (None, 32, 96)            117120    \n",
      "_________________________________________________________________\n",
      "time_distributed (TimeDistri (None, 32, 1)             97        \n",
      "=================================================================\n",
      "Total params: 117,217\n",
      "Trainable params: 117,217\n",
      "Non-trainable params: 0\n",
      "_________________________________________________________________\n",
      "======Training stage======\n",
      "Train on 63355 samples\n",
      "Epoch 1/10\n",
      "63328/63355 [============================>.] - ETA: 0s - loss: 1.4231e-05 - accuracy: 1.0000 ETA: 1sWARNING:tensorflow:Early stopping conditioned on metric `val_loss` which is not available. Available metrics are: loss,accuracy\n",
      "63355/63355 [==============================] - 94s 1ms/sample - loss: 1.4225e-05 - accuracy: 1.0000\n",
      "Epoch 2/10\n",
      "63328/63355 [============================>.] - ETA: 0s - loss: 1.1680e-05 - accuracy: 1.0000WARNING:tensorflow:Early stopping conditioned on metric `val_loss` which is not available. Available metrics are: loss,accuracy\n",
      "63355/63355 [==============================] - 93s 1ms/sample - loss: 1.1675e-05 - accuracy: 1.0000\n",
      "Epoch 3/10\n",
      "63328/63355 [============================>.] - ETA: 0s - loss: 1.4285e-05 - accuracy: 1.0000WARNING:tensorflow:Early stopping conditioned on metric `val_loss` which is not available. Available metrics are: loss,accuracy\n",
      "63355/63355 [==============================] - 87s 1ms/sample - loss: 1.4279e-05 - accuracy: 1.0000\n",
      "Epoch 4/10\n",
      "63328/63355 [============================>.] - ETA: 0s - loss: 5.8101e-06 - accuracy: 1.0000WARNING:tensorflow:Early stopping conditioned on metric `val_loss` which is not available. Available metrics are: loss,accuracy\n",
      "63355/63355 [==============================] - 93s 1ms/sample - loss: 5.8076e-06 - accuracy: 1.0000\n",
      "Epoch 5/10\n",
      "63296/63355 [============================>.] - ETA: 0s - loss: 5.4018e-06 - accuracy: 1.0000WARNING:tensorflow:Early stopping conditioned on metric `val_loss` which is not available. Available metrics are: loss,accuracy\n",
      "63355/63355 [==============================] - 92s 1ms/sample - loss: 5.3968e-06 - accuracy: 1.0000\n",
      "Epoch 6/10\n",
      "63328/63355 [============================>.] - ETA: 0s - loss: 5.5452e-06 - accuracy: 1.0000WARNING:tensorflow:Early stopping conditioned on metric `val_loss` which is not available. Available metrics are: loss,accuracy\n",
      "63355/63355 [==============================] - 91s 1ms/sample - loss: 5.5428e-06 - accuracy: 1.0000\n",
      "Epoch 7/10\n",
      "63296/63355 [============================>.] - ETA: 0s - loss: 4.3790e-06 - accuracy: 1.0000 ETA: 2s - loss: 4.5WARNING:tensorflow:Early stopping conditioned on metric `val_loss` which is not available. Available metrics are: loss,accuracy\n",
      "63355/63355 [==============================] - 92s 1ms/sample - loss: 4.3749e-06 - accuracy: 1.0000\n",
      "Epoch 8/10\n",
      "63296/63355 [============================>.] - ETA: 0s - loss: 4.6690e-06 - accuracy: 1.0000WARNING:tensorflow:Early stopping conditioned on metric `val_loss` which is not available. Available metrics are: loss,accuracy\n",
      "63355/63355 [==============================] - 92s 1ms/sample - loss: 4.6646e-06 - accuracy: 1.0000\n",
      "Epoch 9/10\n",
      "63328/63355 [============================>.] - ETA: 0s - loss: 2.5287e-06 - accuracy: 1.0000WARNING:tensorflow:Early stopping conditioned on metric `val_loss` which is not available. Available metrics are: loss,accuracy\n",
      "63355/63355 [==============================] - 92s 1ms/sample - loss: 2.5276e-06 - accuracy: 1.0000\n",
      "Epoch 10/10\n",
      "63328/63355 [============================>.] - ETA: 0s - loss: 4.2532e-07 - accuracy: 1.0000 ETA: 0s - loss: 4.2618e-07 - accuracy: 1.WARNING:tensorflow:Early stopping conditioned on metric `val_loss` which is not available. Available metrics are: loss,accuracy\n",
      "63355/63355 [==============================] - 92s 1ms/sample - loss: 4.2514e-07 - accuracy: 1.0000\n"
     ]
    },
    {
     "data": {
      "text/plain": [
       "<tensorflow.python.keras.callbacks.History at 0x24e9c3f4908>"
      ]
     },
     "execution_count": 11,
     "metadata": {},
     "output_type": "execute_result"
    },
    {
     "name": "stdout",
     "output_type": "stream",
     "text": [
      "accuracy_score 0.9999955604489275\n",
      "recall_score 1.0\n",
      "precision_score 0.9997440491425647\n",
      "f1_score 0.9998720081914757\n",
      "Model: \"model_5\"\n",
      "_________________________________________________________________\n",
      "Layer (type)                 Output Shape              Param #   \n",
      "=================================================================\n",
      "input_1 (InputLayer)         [(None, 32, 256)]         0         \n",
      "_________________________________________________________________\n",
      "bidirectional (Bidirectional (None, 32, 96)            117120    \n",
      "_________________________________________________________________\n",
      "time_distributed (TimeDistri (None, 32, 1)             97        \n",
      "=================================================================\n",
      "Total params: 117,217\n",
      "Trainable params: 117,217\n",
      "Non-trainable params: 0\n",
      "_________________________________________________________________\n",
      "======Training stage======\n",
      "Train on 63355 samples\n",
      "Epoch 1/10\n",
      "63296/63355 [============================>.] - ETA: 0s - loss: 3.4556e-08 - accuracy: 1.0000WARNING:tensorflow:Early stopping conditioned on metric `val_loss` which is not available. Available metrics are: loss,accuracy\n",
      "63355/63355 [==============================] - 106s 2ms/sample - loss: 3.4524e-08 - accuracy: 1.0000\n",
      "Epoch 2/10\n",
      "63328/63355 [============================>.] - ETA: 0s - loss: 2.1794e-09 - accuracy: 1.0000WARNING:tensorflow:Early stopping conditioned on metric `val_loss` which is not available. Available metrics are: loss,accuracy\n",
      "63355/63355 [==============================] - 91s 1ms/sample - loss: 2.1784e-09 - accuracy: 1.0000\n",
      "Epoch 3/10\n",
      "63328/63355 [============================>.] - ETA: 0s - loss: 9.7812e-10 - accuracy: 1.0000WARNING:tensorflow:Early stopping conditioned on metric `val_loss` which is not available. Available metrics are: loss,accuracy\n",
      "63355/63355 [==============================] - 97s 2ms/sample - loss: 9.7770e-10 - accuracy: 1.0000\n",
      "Epoch 4/10\n",
      "63328/63355 [============================>.] - ETA: 0s - loss: 5.1793e-10 - accuracy: 1.0000WARNING:tensorflow:Early stopping conditioned on metric `val_loss` which is not available. Available metrics are: loss,accuracy\n",
      "63355/63355 [==============================] - 92s 1ms/sample - loss: 5.1771e-10 - accuracy: 1.0000\n",
      "Epoch 5/10\n",
      "63328/63355 [============================>.] - ETA: 0s - loss: 4.1251e-10 - accuracy: 1.0000WARNING:tensorflow:Early stopping conditioned on metric `val_loss` which is not available. Available metrics are: loss,accuracy\n",
      "63355/63355 [==============================] - 96s 2ms/sample - loss: 4.1234e-10 - accuracy: 1.0000\n",
      "Epoch 6/10\n",
      "63328/63355 [============================>.] - ETA: 0s - loss: 3.5819e-10 - accuracy: 1.0000 EWARNING:tensorflow:Early stopping conditioned on metric `val_loss` which is not available. Available metrics are: loss,accuracy\n",
      "63355/63355 [==============================] - 97s 2ms/sample - loss: 3.5804e-10 - accuracy: 1.0000\n",
      "Epoch 7/10\n",
      "63328/63355 [============================>.] - ETA: 0s - loss: 3.3783e-10 - accuracy: 1.0000WARNING:tensorflow:Early stopping conditioned on metric `val_loss` which is not available. Available metrics are: loss,accuracy\n",
      "63355/63355 [==============================] - 98s 2ms/sample - loss: 3.3769e-10 - accuracy: 1.0000\n",
      "Epoch 8/10\n",
      "63328/63355 [============================>.] - ETA: 0s - loss: 3.0219e-10 - accuracy: 1.0000WARNING:tensorflow:Early stopping conditioned on metric `val_loss` which is not available. Available metrics are: loss,accuracy\n",
      "63355/63355 [==============================] - 97s 2ms/sample - loss: 3.0206e-10 - accuracy: 1.0000\n",
      "Epoch 9/10\n",
      "63328/63355 [============================>.] - ETA: 0s - loss: 2.8174e-10 - accuracy: 1.0000WARNING:tensorflow:Early stopping conditioned on metric `val_loss` which is not available. Available metrics are: loss,accuracy\n",
      "63355/63355 [==============================] - 98s 2ms/sample - loss: 2.8162e-10 - accuracy: 1.0000\n",
      "Epoch 10/10\n",
      "63296/63355 [============================>.] - ETA: 0s - loss: 2.6688e-10 - accuracy: 1.0000WARNING:tensorflow:Early stopping conditioned on metric `val_loss` which is not available. Available metrics are: loss,accuracy\n",
      "63355/63355 [==============================] - 101s 2ms/sample - loss: 2.6663e-10 - accuracy: 1.0000\n"
     ]
    },
    {
     "data": {
      "text/plain": [
       "<tensorflow.python.keras.callbacks.History at 0x24f3ea452c8>"
      ]
     },
     "execution_count": 11,
     "metadata": {},
     "output_type": "execute_result"
    },
    {
     "name": "stdout",
     "output_type": "stream",
     "text": [
      "accuracy_score 1.0\n",
      "recall_score 1.0\n",
      "precision_score 1.0\n",
      "f1_score 1.0\n",
      "Model: \"model_6\"\n",
      "_________________________________________________________________\n",
      "Layer (type)                 Output Shape              Param #   \n",
      "=================================================================\n",
      "input_1 (InputLayer)         [(None, 32, 256)]         0         \n",
      "_________________________________________________________________\n",
      "bidirectional (Bidirectional (None, 32, 96)            117120    \n",
      "_________________________________________________________________\n",
      "time_distributed (TimeDistri (None, 32, 1)             97        \n",
      "=================================================================\n",
      "Total params: 117,217\n",
      "Trainable params: 117,217\n",
      "Non-trainable params: 0\n",
      "_________________________________________________________________\n",
      "======Training stage======\n",
      "Train on 63355 samples\n",
      "Epoch 1/10\n",
      "63296/63355 [============================>.] - ETA: 0s - loss: 2.8000e-10 - accuracy: 1.0000WARNING:tensorflow:Early stopping conditioned on metric `val_loss` which is not available. Available metrics are: loss,accuracy\n",
      "63355/63355 [==============================] - 107s 2ms/sample - loss: 2.7974e-10 - accuracy: 1.0000\n",
      "Epoch 2/10\n",
      "63296/63355 [============================>.] - ETA: 0s - loss: 2.4237e-10 - accuracy: 1.0000WARNING:tensorflow:Early stopping conditioned on metric `val_loss` which is not available. Available metrics are: loss,accuracy\n",
      "63355/63355 [==============================] - 83s 1ms/sample - loss: 2.4220e-10 - accuracy: 1.0000\n",
      "Epoch 3/10\n",
      "63296/63355 [============================>.] - ETA: 0s - loss: 2.2815e-10 - accuracy: 1.0000WARNING:tensorflow:Early stopping conditioned on metric `val_loss` which is not available. Available metrics are: loss,accuracy\n",
      "63355/63355 [==============================] - 92s 1ms/sample - loss: 2.2800e-10 - accuracy: 1.0000\n",
      "Epoch 4/10\n",
      "63328/63355 [============================>.] - ETA: 0s - loss: 2.1630e-10 - accuracy: 1.0000WARNING:tensorflow:Early stopping conditioned on metric `val_loss` which is not available. Available metrics are: loss,accuracy\n",
      "63355/63355 [==============================] - 93s 1ms/sample - loss: 2.1639e-10 - accuracy: 1.0000\n",
      "Epoch 5/10\n",
      "63296/63355 [============================>.] - ETA: 0s - loss: 2.0446e-10 - accuracy: 1.0000WARNING:tensorflow:Early stopping conditioned on metric `val_loss` which is not available. Available metrics are: loss,accuracy\n",
      "63355/63355 [==============================] - 88s 1ms/sample - loss: 2.0439e-10 - accuracy: 1.0000\n",
      "Epoch 6/10\n",
      "63296/63355 [============================>.] - ETA: 0s - loss: 1.9566e-10 - accuracy: 1.0000 ETA: 1s -WARNING:tensorflow:Early stopping conditioned on metric `val_loss` which is not available. Available metrics are: loss,accuracy\n",
      "63355/63355 [==============================] - 91s 1ms/sample - loss: 1.9548e-10 - accuracy: 1.0000\n",
      "Epoch 7/10\n",
      "63296/63355 [============================>.] - ETA: 0s - loss: 1.8692e-10 - accuracy: 1.0000WARNING:tensorflow:Early stopping conditioned on metric `val_loss` which is not available. Available metrics are: loss,accuracy\n",
      "63355/63355 [==============================] - 92s 1ms/sample - loss: 1.8675e-10 - accuracy: 1.0000\n",
      "Epoch 8/10\n",
      "63328/63355 [============================>.] - ETA: 0s - loss: 1.7839e-10 - accuracy: 1.0000WARNING:tensorflow:Early stopping conditioned on metric `val_loss` which is not available. Available metrics are: loss,accuracy\n",
      "63355/63355 [==============================] - 91s 1ms/sample - loss: 1.7831e-10 - accuracy: 1.0000\n",
      "Epoch 9/10\n",
      "63296/63355 [============================>.] - ETA: 0s - loss: 1.7189e-10 - accuracy: 1.0000WARNING:tensorflow:Early stopping conditioned on metric `val_loss` which is not available. Available metrics are: loss,accuracy\n",
      "63355/63355 [==============================] - 93s 1ms/sample - loss: 1.7205e-10 - accuracy: 1.0000\n",
      "Epoch 10/10\n",
      "63296/63355 [============================>.] - ETA: 0s - loss: 1.6506e-10 - accuracy: 1.0000WARNING:tensorflow:Early stopping conditioned on metric `val_loss` which is not available. Available metrics are: loss,accuracy\n",
      "63355/63355 [==============================] - 91s 1ms/sample - loss: 1.6491e-10 - accuracy: 1.0000\n"
     ]
    },
    {
     "data": {
      "text/plain": [
       "<tensorflow.python.keras.callbacks.History at 0x24e8facf788>"
      ]
     },
     "execution_count": 11,
     "metadata": {},
     "output_type": "execute_result"
    },
    {
     "name": "stdout",
     "output_type": "stream",
     "text": [
      "accuracy_score 1.0\n",
      "recall_score 1.0\n",
      "precision_score 1.0\n",
      "f1_score 1.0\n",
      "Model: \"model_7\"\n",
      "_________________________________________________________________\n",
      "Layer (type)                 Output Shape              Param #   \n",
      "=================================================================\n",
      "input_1 (InputLayer)         [(None, 32, 256)]         0         \n",
      "_________________________________________________________________\n",
      "bidirectional (Bidirectional (None, 32, 96)            117120    \n",
      "_________________________________________________________________\n",
      "time_distributed (TimeDistri (None, 32, 1)             97        \n",
      "=================================================================\n",
      "Total params: 117,217\n",
      "Trainable params: 117,217\n",
      "Non-trainable params: 0\n",
      "_________________________________________________________________\n",
      "======Training stage======\n",
      "Train on 63355 samples\n",
      "Epoch 1/10\n",
      "63328/63355 [============================>.] - ETA: 0s - loss: 1.7471e-10 - accuracy: 1.0000 ETA: 1s - loss: 1.755WARNING:tensorflow:Early stopping conditioned on metric `val_loss` which is not available. Available metrics are: loss,accuracy\n",
      "63355/63355 [==============================] - 101s 2ms/sample - loss: 1.7484e-10 - accuracy: 1.0000\n",
      "Epoch 2/10\n",
      "63328/63355 [============================>.] - ETA: 0s - loss: 1.6653e-10 - accuracy: 1.0000WARNING:tensorflow:Early stopping conditioned on metric `val_loss` which is not available. Available metrics are: loss,accuracy\n",
      "63355/63355 [==============================] - 88s 1ms/sample - loss: 1.6646e-10 - accuracy: 1.0000\n",
      "Epoch 3/10\n",
      "63328/63355 [============================>.] - ETA: 0s - loss: 1.5995e-10 - accuracy: 1.0000WARNING:tensorflow:Early stopping conditioned on metric `val_loss` which is not available. Available metrics are: loss,accuracy\n",
      "63355/63355 [==============================] - 81s 1ms/sample - loss: 1.5988e-10 - accuracy: 1.0000\n",
      "Epoch 4/10\n",
      "63328/63355 [============================>.] - ETA: 0s - loss: 1.5403e-10 - accuracy: 1.0000WARNING:tensorflow:Early stopping conditioned on metric `val_loss` which is not available. Available metrics are: loss,accuracy\n",
      "63355/63355 [==============================] - 88s 1ms/sample - loss: 1.5397e-10 - accuracy: 1.0000\n",
      "Epoch 5/10\n",
      "63328/63355 [============================>.] - ETA: 0s - loss: 1.4939e-10 - accuracy: 1.0000WARNING:tensorflow:Early stopping conditioned on metric `val_loss` which is not available. Available metrics are: loss,accuracy\n",
      "63355/63355 [==============================] - 87s 1ms/sample - loss: 1.4932e-10 - accuracy: 1.0000\n",
      "Epoch 6/10\n",
      "63328/63355 [============================>.] - ETA: 0s - loss: 1.4303e-10 - accuracy: 1.0000WARNING:tensorflow:Early stopping conditioned on metric `val_loss` which is not available. Available metrics are: loss,accuracy\n",
      "63355/63355 [==============================] - 88s 1ms/sample - loss: 1.4297e-10 - accuracy: 1.0000\n",
      "Epoch 7/10\n",
      "63296/63355 [============================>.] - ETA: 0s - loss: 1.4108e-10 - accuracy: 1.0000WARNING:tensorflow:Early stopping conditioned on metric `val_loss` which is not available. Available metrics are: loss,accuracy\n",
      "63355/63355 [==============================] - 76s 1ms/sample - loss: 1.4094e-10 - accuracy: 1.0000\n",
      "Epoch 8/10\n",
      "63296/63355 [============================>.] - ETA: 0s - loss: 1.3634e-10 - accuracy: 1.0000WARNING:tensorflow:Early stopping conditioned on metric `val_loss` which is not available. Available metrics are: loss,accuracy\n",
      "63355/63355 [==============================] - 87s 1ms/sample - loss: 1.3621e-10 - accuracy: 1.0000\n",
      "Epoch 9/10\n",
      "63296/63355 [============================>.] - ETA: 0s - loss: 1.3284e-10 - accuracy: 1.0000WARNING:tensorflow:Early stopping conditioned on metric `val_loss` which is not available. Available metrics are: loss,accuracy\n",
      "63355/63355 [==============================] - 88s 1ms/sample - loss: 1.3277e-10 - accuracy: 1.0000\n",
      "Epoch 10/10\n",
      "63328/63355 [============================>.] - ETA: 0s - loss: 1.2892e-10 - accuracy: 1.0000WARNING:tensorflow:Early stopping conditioned on metric `val_loss` which is not available. Available metrics are: loss,accuracy\n",
      "63355/63355 [==============================] - 87s 1ms/sample - loss: 1.2886e-10 - accuracy: 1.0000\n"
     ]
    },
    {
     "data": {
      "text/plain": [
       "<tensorflow.python.keras.callbacks.History at 0x24ea99e1788>"
      ]
     },
     "execution_count": 11,
     "metadata": {},
     "output_type": "execute_result"
    },
    {
     "name": "stdout",
     "output_type": "stream",
     "text": [
      "accuracy_score 1.0\n",
      "recall_score 1.0\n",
      "precision_score 1.0\n",
      "f1_score 1.0\n",
      "Model: \"model_8\"\n",
      "_________________________________________________________________\n",
      "Layer (type)                 Output Shape              Param #   \n",
      "=================================================================\n",
      "input_1 (InputLayer)         [(None, 32, 256)]         0         \n",
      "_________________________________________________________________\n",
      "bidirectional (Bidirectional (None, 32, 96)            117120    \n",
      "_________________________________________________________________\n",
      "time_distributed (TimeDistri (None, 32, 1)             97        \n",
      "=================================================================\n",
      "Total params: 117,217\n",
      "Trainable params: 117,217\n",
      "Non-trainable params: 0\n",
      "_________________________________________________________________\n",
      "======Training stage======\n",
      "Train on 63355 samples\n",
      "Epoch 1/10\n",
      "63328/63355 [============================>.] - ETA: 0s - loss: 1.2256e-10 - accuracy: 1.0000WARNING:tensorflow:Early stopping conditioned on metric `val_loss` which is not available. Available metrics are: loss,accuracy\n",
      "63355/63355 [==============================] - 135s 2ms/sample - loss: 1.2251e-10 - accuracy: 1.0000\n",
      "Epoch 2/10\n",
      "63328/63355 [============================>.] - ETA: 0s - loss: 1.1700e-10 - accuracy: 1.0000WARNING:tensorflow:Early stopping conditioned on metric `val_loss` which is not available. Available metrics are: loss,accuracy\n",
      "63355/63355 [==============================] - 112s 2ms/sample - loss: 1.1701e-10 - accuracy: 1.0000\n",
      "Epoch 3/10\n",
      "63328/63355 [============================>.] - ETA: 0s - loss: 1.1259e-10 - accuracy: 1.0000WARNING:tensorflow:Early stopping conditioned on metric `val_loss` which is not available. Available metrics are: loss,accuracy\n",
      "63355/63355 [==============================] - 106s 2ms/sample - loss: 1.1254e-10 - accuracy: 1.0000\n",
      "Epoch 4/10\n",
      "63328/63355 [============================>.] - ETA: 0s - loss: 1.1000e-10 - accuracy: 1.0000WARNING:tensorflow:Early stopping conditioned on metric `val_loss` which is not available. Available metrics are: loss,accuracy\n",
      "63355/63355 [==============================] - 113s 2ms/sample - loss: 1.0996e-10 - accuracy: 1.0000\n",
      "Epoch 5/10\n",
      "63328/63355 [============================>.] - ETA: 0s - loss: 1.0609e-10 - accuracy: 1.0000WARNING:tensorflow:Early stopping conditioned on metric `val_loss` which is not available. Available metrics are: loss,accuracy\n",
      "63355/63355 [==============================] - 115s 2ms/sample - loss: 1.0605e-10 - accuracy: 1.0000\n",
      "Epoch 6/10\n",
      "63328/63355 [============================>.] - ETA: 0s - loss: 1.0353e-10 - accuracy: 1.0000WARNING:tensorflow:Early stopping conditioned on metric `val_loss` which is not available. Available metrics are: loss,accuracy\n",
      "63355/63355 [==============================] - 113s 2ms/sample - loss: 1.0349e-10 - accuracy: 1.0000\n",
      "Epoch 7/10\n",
      "63328/63355 [============================>.] - ETA: 0s - loss: 1.0083e-10 - accuracy: 1.0000 ETA: 0s - loss: 1.0085e-10 - accuraWARNING:tensorflow:Early stopping conditioned on metric `val_loss` which is not available. Available metrics are: loss,accuracy\n",
      "63355/63355 [==============================] - 114s 2ms/sample - loss: 1.0078e-10 - accuracy: 1.0000\n",
      "Epoch 8/10\n",
      "63296/63355 [============================>.] - ETA: 0s - loss: 9.8317e-11 - accuracy: 1.0000 ETA: 3s - loss: 1 - ETAWARNING:tensorflow:Early stopping conditioned on metric `val_loss` which is not available. Available metrics are: loss,accuracy\n",
      "63355/63355 [==============================] - 109s 2ms/sample - loss: 9.8226e-11 - accuracy: 1.0000\n",
      "Epoch 9/10\n",
      "63328/63355 [============================>.] - ETA: 0s - loss: 9.4591e-11 - accuracy: 1.0000 ETA: 4s - loss: 9.3 - - ETA: 0s - loss: 9.3138e-11 WARNING:tensorflow:Early stopping conditioned on metric `val_loss` which is not available. Available metrics are: loss,accuracy\n",
      "63355/63355 [==============================] - 111s 2ms/sample - loss: 9.5139e-11 - accuracy: 1.0000\n",
      "Epoch 10/10\n",
      "63296/63355 [============================>.] - ETA: 0s - loss: 9.2373e-11 - accuracy: 1.0000WARNING:tensorflow:Early stopping conditioned on metric `val_loss` which is not available. Available metrics are: loss,accuracy\n",
      "63355/63355 [==============================] - 112s 2ms/sample - loss: 9.3022e-11 - accuracy: 1.0000\n"
     ]
    },
    {
     "data": {
      "text/plain": [
       "<tensorflow.python.keras.callbacks.History at 0x24ea96c5f48>"
      ]
     },
     "execution_count": 11,
     "metadata": {},
     "output_type": "execute_result"
    },
    {
     "name": "stdout",
     "output_type": "stream",
     "text": [
      "accuracy_score 1.0\n",
      "recall_score 1.0\n",
      "precision_score 1.0\n",
      "f1_score 1.0\n",
      "Model: \"model_9\"\n",
      "_________________________________________________________________\n",
      "Layer (type)                 Output Shape              Param #   \n",
      "=================================================================\n",
      "input_1 (InputLayer)         [(None, 32, 256)]         0         \n",
      "_________________________________________________________________\n",
      "bidirectional (Bidirectional (None, 32, 96)            117120    \n",
      "_________________________________________________________________\n",
      "time_distributed (TimeDistri (None, 32, 1)             97        \n",
      "=================================================================\n",
      "Total params: 117,217\n",
      "Trainable params: 117,217\n",
      "Non-trainable params: 0\n",
      "_________________________________________________________________\n",
      "======Training stage======\n",
      "Train on 63355 samples\n",
      "Epoch 1/10\n",
      "63328/63355 [============================>.] - ETA: 0s - loss: 1.0753e-10 - accuracy: 1.0000WARNING:tensorflow:Early stopping conditioned on metric `val_loss` which is not available. Available metrics are: loss,accuracy\n",
      "63355/63355 [==============================] - 123s 2ms/sample - loss: 1.0749e-10 - accuracy: 1.0000\n",
      "Epoch 2/10\n",
      "63328/63355 [============================>.] - ETA: 0s - loss: 1.0177e-10 - accuracy: 1.0000WARNING:tensorflow:Early stopping conditioned on metric `val_loss` which is not available. Available metrics are: loss,accuracy\n",
      "63355/63355 [==============================] - 110s 2ms/sample - loss: 1.0172e-10 - accuracy: 1.0000\n",
      "Epoch 3/10\n",
      "63328/63355 [============================>.] - ETA: 0s - loss: 9.7768e-11 - accuracy: 1.0000WARNING:tensorflow:Early stopping conditioned on metric `val_loss` which is not available. Available metrics are: loss,accuracy\n",
      "63355/63355 [==============================] - 113s 2ms/sample - loss: 9.7726e-11 - accuracy: 1.0000\n",
      "Epoch 4/10\n",
      "63328/63355 [============================>.] - ETA: 0s - loss: 9.4797e-11 - accuracy: 1.0000WARNING:tensorflow:Early stopping conditioned on metric `val_loss` which is not available. Available metrics are: loss,accuracy\n",
      "63355/63355 [==============================] - 113s 2ms/sample - loss: 9.4757e-11 - accuracy: 1.0000\n",
      "Epoch 5/10\n",
      "63328/63355 [============================>.] - ETA: 0s - loss: 9.2503e-11 - accuracy: 1.0000WARNING:tensorflow:Early stopping conditioned on metric `val_loss` which is not available. Available metrics are: loss,accuracy\n",
      "63355/63355 [==============================] - 109s 2ms/sample - loss: 9.2463e-11 - accuracy: 1.0000\n",
      "Epoch 6/10\n",
      "63296/63355 [============================>.] - ETA: 0s - loss: 9.0137e-11 - accuracy: 1.0000WARNING:tensorflow:Early stopping conditioned on metric `val_loss` which is not available. Available metrics are: loss,accuracy\n",
      "63355/63355 [==============================] - 110s 2ms/sample - loss: 9.0053e-11 - accuracy: 1.0000\n",
      "Epoch 7/10\n",
      "63328/63355 [============================>.] - ETA: 0s - loss: 8.8973e-11 - accuracy: 1.0000WARNING:tensorflow:Early stopping conditioned on metric `val_loss` which is not available. Available metrics are: loss,accuracy\n",
      "63355/63355 [==============================] - 112s 2ms/sample - loss: 8.8935e-11 - accuracy: 1.0000\n",
      "Epoch 8/10\n",
      "63328/63355 [============================>.] - ETA: 0s - loss: 8.7326e-11 - accuracy: 1.0000WARNING:tensorflow:Early stopping conditioned on metric `val_loss` which is not available. Available metrics are: loss,accuracy\n",
      "63355/63355 [==============================] - 114s 2ms/sample - loss: 8.7289e-11 - accuracy: 1.0000\n",
      "Epoch 9/10\n",
      "63296/63355 [============================>.] - ETA: 0s - loss: 8.5310e-11 - accuracy: 1.0000WARNING:tensorflow:Early stopping conditioned on metric `val_loss` which is not available. Available metrics are: loss,accuracy\n",
      "63355/63355 [==============================] - 115s 2ms/sample - loss: 8.5231e-11 - accuracy: 1.0000\n",
      "Epoch 10/10\n",
      "63296/63355 [============================>.] - ETA: 0s - loss: 8.3486e-11 - accuracy: 1.0000WARNING:tensorflow:Early stopping conditioned on metric `val_loss` which is not available. Available metrics are: loss,accuracy\n",
      "63355/63355 [==============================] - 102s 2ms/sample - loss: 8.3408e-11 - accuracy: 1.0000\n"
     ]
    },
    {
     "data": {
      "text/plain": [
       "<tensorflow.python.keras.callbacks.History at 0x24ea12417c8>"
      ]
     },
     "execution_count": 11,
     "metadata": {},
     "output_type": "execute_result"
    },
    {
     "name": "stdout",
     "output_type": "stream",
     "text": [
      "accuracy_score 1.0\n",
      "recall_score 1.0\n",
      "precision_score 1.0\n",
      "f1_score 1.0\n",
      "\n",
      "K-fold cross validation Accuracy: [0.9999112215909091, 0.9999467329545455, 0.9999644886363637, 0.9999911221590909, 0.9999955604489275, 1.0, 1.0, 1.0, 1.0, 1.0]\n",
      "\n",
      "K-fold cross validation Recall: [0.9982032854209446, 0.9974528782475802, 0.998960498960499, 0.9997455470737914, 1.0, 1.0, 1.0, 1.0, 1.0, 1.0]\n",
      "\n",
      "K-fold cross validation Precision: [0.9966683751922091, 0.9994895354772844, 0.998960498960499, 0.9997455470737914, 0.9997440491425647, 1.0, 1.0, 1.0, 1.0, 1.0]\n",
      "\n",
      "K-fold cross validation F1-Score: [0.9974352398050782, 0.998470168281489, 0.998960498960499, 0.9997455470737914, 0.9998720081914757, 1.0, 1.0, 1.0, 1.0, 1.0]\n"
     ]
    }
   ],
   "source": [
    "# 교차검증 kfold\n",
    "from sklearn.model_selection import KFold\n",
    "\n",
    "# Accuracy, Precision, Recall, F1-Score\n",
    "from sklearn.metrics import accuracy_score, recall_score, precision_score, f1_score\n",
    "\n",
    "# Confusion Matrix, ROC Curve\n",
    "from sklearn.metrics import confusion_matrix, roc_auc_score\n",
    "\n",
    "# 최종 평가지표들 평균용\n",
    "accuracy, recall, precision, f1score, cm = [], [], [], [], []\n",
    "\n",
    "# 11. 교차검증 kfold - k.split - 10회 / K-Fold 객체 생성\n",
    "# kf = KFold(n_splits=10, shuffle=False, random_state=None) # KFold non shuffle 버전\n",
    "kf = KFold(n_splits=10, shuffle=True, random_state=None) # KFold non shuffle 버전\n",
    "\n",
    "for train, validation in kf.split(x_bc6_3, y_bc6_3):\n",
    "    model1 = models.Model(xInput, xOutput)\n",
    "    model1.compile(loss='binary_crossentropy', optimizer='rmsprop', metrics=['accuracy'])\n",
    "    model1.summary()\n",
    "    print('======Training stage======')\n",
    "    model1.fit(x_bc6_3[train],\n",
    "               y_bc6_3[train],\n",
    "               epochs = 10,\n",
    "               batch_size = 32,\n",
    "               callbacks=[early_stopping])\n",
    "    #k_accuracy = '%.4f' %(model1.evaluate(data_10000x[validation], data_10000y[validation])[1])\n",
    "\n",
    "# 12. 교차검증결과 predict - 검증셋들\n",
    "    # predict 값\n",
    "    k_pr = model1.predict(x_bc6_3[validation])\n",
    "    \n",
    "    # 테스트 predict 결과들 비교 (평가지표 보기위함)\n",
    "    pred = np.round(np.array(k_pr).flatten().tolist())\n",
    "    y_test = np.array(y_bc6_3[validation]).flatten().tolist()\n",
    "    \n",
    "# 13. 평가지표들 출력\n",
    "    ## 평가지표들\n",
    "    k_accuracy = float(accuracy_score(y_test, pred))\n",
    "    k_recall =  float(recall_score(y_test, pred))\n",
    "    k_precision = float(precision_score(y_test, pred))\n",
    "    k_f1_score = float(f1_score(y_test, pred))\n",
    "    #k_cm = float(confusion_matrix(y_test, pred))\n",
    "    \n",
    "    print('accuracy_score', k_accuracy)\n",
    "    print('recall_score', k_recall)\n",
    "    print('precision_score', k_precision)\n",
    "    print('f1_score', k_f1_score)\n",
    "    #print('\\nconfusion_matrix\\n', k_cm)\n",
    "\n",
    "    accuracy.append(k_accuracy)\n",
    "    recall.append(k_recall)\n",
    "    precision.append(k_precision)\n",
    "    f1score.append(k_f1_score)\n",
    "    #cm.append(k_cm)\n",
    "#    print('roc_curve 면적', roc_auc_score(y_test, pred))\n",
    "\n",
    "# 최종 결과지표\n",
    "print('\\nK-fold cross validation Accuracy: {}'.format(accuracy))\n",
    "print('\\nK-fold cross validation Recall: {}'.format(recall))\n",
    "print('\\nK-fold cross validation Precision: {}'.format(precision))\n",
    "print('\\nK-fold cross validation F1-Score: {}'.format(f1score))\n",
    "#print('\\nK-fold cross validation ConfusionMatrix: {}'.format(cm))"
   ]
  },
  {
   "cell_type": "markdown",
   "metadata": {},
   "source": [
    "## (9) 평가지표"
   ]
  },
  {
   "cell_type": "code",
   "execution_count": 12,
   "metadata": {},
   "outputs": [
    {
     "name": "stdout",
     "output_type": "stream",
     "text": [
      "10-Fold Cross_validation. Accuracy : 0.9999809125789836\n",
      "10-Fold Cross_validation. Recall : 0.9994362209702816\n",
      "10-Fold Cross_validation. Precision : 0.9994608005846348\n",
      "10-Fold Cross_validation. F1-Score : 0.9994483462312334\n"
     ]
    }
   ],
   "source": [
    "print('10-Fold Cross_validation. Accuracy :', np.mean(accuracy))\n",
    "print('10-Fold Cross_validation. Recall :', np.mean(recall))\n",
    "print('10-Fold Cross_validation. Precision :', np.mean(precision))\n",
    "print('10-Fold Cross_validation. F1-Score :', np.mean(f1score))"
   ]
  },
  {
   "cell_type": "code",
   "execution_count": 13,
   "metadata": {},
   "outputs": [
    {
     "name": "stdout",
     "output_type": "stream",
     "text": [
      "save 완료\n"
     ]
    }
   ],
   "source": [
    "model1.save('gcc6_bin_core_s32_h48_o3.h5')\n",
    "print('save 완료')"
   ]
  }
 ],
 "metadata": {
  "kernelspec": {
   "display_name": "Python 3",
   "language": "python",
   "name": "python3"
  },
  "language_info": {
   "codemirror_mode": {
    "name": "ipython",
    "version": 3
   },
   "file_extension": ".py",
   "mimetype": "text/x-python",
   "name": "python",
   "nbconvert_exporter": "python",
   "pygments_lexer": "ipython3",
   "version": "3.7.9"
  }
 },
 "nbformat": 4,
 "nbformat_minor": 4
}
