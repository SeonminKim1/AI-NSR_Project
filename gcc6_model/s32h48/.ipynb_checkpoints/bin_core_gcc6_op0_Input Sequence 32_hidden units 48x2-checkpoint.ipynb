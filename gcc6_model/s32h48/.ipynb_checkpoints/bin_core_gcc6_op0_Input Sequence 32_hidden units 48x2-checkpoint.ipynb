{
 "cells": [
  {
   "cell_type": "markdown",
   "metadata": {},
   "source": [
    "## RNN 모델 N-Byte 방식 (함수정보 포함 vs 미포함 => 1:1 비율)\n",
    "\n",
    "## (1) 데이터로드"
   ]
  },
  {
   "cell_type": "code",
   "execution_count": 1,
   "metadata": {},
   "outputs": [
    {
     "name": "stdout",
     "output_type": "stream",
     "text": [
      "(30092946, 2)\n",
      "shape - (30092946, 2)\n",
      "reset_index 완료\n",
      "input data shape\n"
     ]
    },
    {
     "data": {
      "text/html": [
       "<div>\n",
       "<style scoped>\n",
       "    .dataframe tbody tr th:only-of-type {\n",
       "        vertical-align: middle;\n",
       "    }\n",
       "\n",
       "    .dataframe tbody tr th {\n",
       "        vertical-align: top;\n",
       "    }\n",
       "\n",
       "    .dataframe thead th {\n",
       "        text-align: right;\n",
       "    }\n",
       "</style>\n",
       "<table border=\"1\" class=\"dataframe\">\n",
       "  <thead>\n",
       "    <tr style=\"text-align: right;\">\n",
       "      <th></th>\n",
       "      <th>bin</th>\n",
       "      <th>label</th>\n",
       "    </tr>\n",
       "  </thead>\n",
       "  <tbody>\n",
       "    <tr>\n",
       "      <th>0</th>\n",
       "      <td>47</td>\n",
       "      <td>0</td>\n",
       "    </tr>\n",
       "    <tr>\n",
       "      <th>1</th>\n",
       "      <td>108</td>\n",
       "      <td>0</td>\n",
       "    </tr>\n",
       "    <tr>\n",
       "      <th>2</th>\n",
       "      <td>105</td>\n",
       "      <td>0</td>\n",
       "    </tr>\n",
       "    <tr>\n",
       "      <th>3</th>\n",
       "      <td>98</td>\n",
       "      <td>0</td>\n",
       "    </tr>\n",
       "    <tr>\n",
       "      <th>4</th>\n",
       "      <td>47</td>\n",
       "      <td>0</td>\n",
       "    </tr>\n",
       "  </tbody>\n",
       "</table>\n",
       "</div>"
      ],
      "text/plain": [
       "   bin  label\n",
       "0   47      0\n",
       "1  108      0\n",
       "2  105      0\n",
       "3   98      0\n",
       "4   47      0"
      ]
     },
     "execution_count": 1,
     "metadata": {},
     "output_type": "execute_result"
    }
   ],
   "source": [
    "# (1) 데이터로드\n",
    "import pandas as pd\n",
    "import numpy as np\n",
    "\n",
    "import warnings\n",
    "warnings.filterwarnings(action='ignore')\n",
    "\n",
    "# 여러개 쳐도 나오게\n",
    "from IPython.core.interactiveshell import InteractiveShell\n",
    "InteractiveShell.ast_node_interactivity = \"all\"\n",
    "\n",
    "# 파일읽기\n",
    "bin6_0 = pd.read_csv(\"../../바이너리_최종데이터_1004/gcc6/o0/o0_bincore6.csv\", index_col=0)\n",
    "print(bin6_0.shape)\n",
    "\n",
    "# reset_index (hex processing 하면서 값이 빠졌으니까 + n_gram 에서 index를 다루기 때문에)\n",
    "bin6_0.reset_index(inplace=True, drop=True)\n",
    "\n",
    "print('shape -', bin6_0.shape)\n",
    "print('reset_index 완료')\n",
    "print('input data shape')\n",
    "bin6_0.head()"
   ]
  },
  {
   "cell_type": "code",
   "execution_count": 2,
   "metadata": {},
   "outputs": [
    {
     "name": "stdout",
     "output_type": "stream",
     "text": [
      "256\n",
      "0    30042688\n",
      "1       50258\n",
      "Name: label, dtype: int64\n"
     ]
    }
   ],
   "source": [
    "# (2-1) 데이터체크 1 - hex(16진수)가 256 label을 가져야 dummies 변환 가능 \n",
    "# 16진수 256개 종류가 있어서 pd.get_dummies 사용 가능.\n",
    "print(len(bin6_0['bin'].unique()))\n",
    "\n",
    "# (2-2) 데이터 체크 2 - 1, 0 비율 ==> 1이 함수의 갯수를 뜻함\n",
    "# 정답 데이터 1, 0 비율 확인  ==> 1이 함수의 갯수를 뜻함\n",
    "print(bin6_0['label'].value_counts())"
   ]
  },
  {
   "cell_type": "markdown",
   "metadata": {},
   "source": [
    "## (3) N Byte씩 자르기"
   ]
  },
  {
   "cell_type": "code",
   "execution_count": 3,
   "metadata": {},
   "outputs": [
    {
     "name": "stdout",
     "output_type": "stream",
     "text": [
      "1608256\n",
      "나머지 0\n",
      "최종 길이 1608256\n",
      "bin6_0 1608256\n"
     ]
    }
   ],
   "source": [
    "idx_bin = bin6_0[bin6_0['label']==1].index  # 407, 474 ...\n",
    "ls_bin = list(idx_bin)\n",
    "\n",
    "# 최종 뽑을 행에 대한 index\n",
    "ls_idx_bin = []\n",
    "\n",
    "# n byte 자르기 방식\n",
    "left_idx, right_idx = 0, 32 # 3개씩\n",
    "\n",
    "# n byte 자르기\n",
    "for k in range(left_idx, right_idx):\n",
    "    ls_idx_bin.extend(list(idx_bin + k)) # index 형이라서 가능\n",
    "\n",
    "#ls_idx = list(set(ls_idx)) \n",
    "ls_idx_bin.sort() # 인덱스 정렬\n",
    "\n",
    "# 1차 index 해당범위 초과한 것들 없애기\n",
    "ls_idx_bin = list(filter(lambda x: x<len(bin6_0), ls_idx_bin))\n",
    "print(len(ls_idx_bin))\n",
    "\n",
    "# 2차 남은 index들 중 right_idx 나눈 나머지 없애기\n",
    "sub_bin = len(ls_idx_bin)%(right_idx)\n",
    "print('나머지', sub_bin)\n",
    "\n",
    "ls_idx_bin = ls_idx_bin[:len(ls_idx_bin)-sub_bin]\n",
    "print('최종 길이', len(ls_idx_bin))\n",
    "\n",
    "print('bin6_0', len(ls_idx_bin))\n",
    "\n",
    "# loc 로 수정필요\n",
    "bin6_0_Ngram = bin6_0.loc[ls_idx_bin,:].copy()"
   ]
  },
  {
   "cell_type": "markdown",
   "metadata": {},
   "source": [
    "## (4) false data 만들기"
   ]
  },
  {
   "cell_type": "code",
   "execution_count": 4,
   "metadata": {},
   "outputs": [
    {
     "name": "stdout",
     "output_type": "stream",
     "text": [
      "50258.0\n",
      "0 27892392\n",
      "1000 10854818\n",
      "2000 8848373\n",
      "3000 1655268\n",
      "4000 18361267\n",
      "5000 2494606\n",
      "6000 10481729\n",
      "7000 5158863\n",
      "8000 28573732\n",
      "9000 12172682\n",
      "10000 11340819\n",
      "11000 3427247\n",
      "12000 20479666\n",
      "13000 17260152\n",
      "14000 23963771\n",
      "15000 2561628\n",
      "16000 29166999\n",
      "17000 13237759\n",
      "18000 23931885\n",
      "19000 24763287\n",
      "20000 7491942\n",
      "21000 21125264\n",
      "22000 27509874\n",
      "23000 23955198\n",
      "24000 26209229\n",
      "25000 29493685\n",
      "26000 15114283\n",
      "27000 29203833\n",
      "28000 14809030\n",
      "29000 4844339\n",
      "30000 27629718\n",
      "31000 10616680\n",
      "32000 18494538\n",
      "33000 15511796\n",
      "34000 1510304\n",
      "35000 25020712\n",
      "36000 16251726\n",
      "37000 8249074\n",
      "38000 13364946\n",
      "39000 27217633\n",
      "40000 1486768\n",
      "41000 17754119\n",
      "42000 22421949\n",
      "43000 18985606\n",
      "44000 4316825\n",
      "45000 9089948\n",
      "46000 29889275\n",
      "47000 7811498\n",
      "48000 19897020\n",
      "49000 17826298\n",
      "50000 2513622\n",
      "완료\n",
      "50258\n"
     ]
    }
   ],
   "source": [
    "# false data 만들기 - False 데이터 랜덤 생성\n",
    "\n",
    "# 목표치\n",
    "goal_bin = len(bin6_0_Ngram)/right_idx\n",
    "count_bin = 0\n",
    "\n",
    "print(goal_bin)\n",
    "\n",
    "# 최종 데이터 Frame\n",
    "d_bin = pd.DataFrame(columns = bin6_0.columns)\n",
    "\n",
    "binutils_df = []\n",
    "# goal 에 도달할 때까지\n",
    "while True:\n",
    "    if (count_bin == goal_bin):\n",
    "            break\n",
    "    # 진행상황 살펴보기 위함\n",
    "            \n",
    "    # 랜덤 N 바이트씩 뽑음\n",
    "    # random index\n",
    "    random_idx_bin = np.random.randint(len(bin6_0)-right_idx)\n",
    "\n",
    "    if count_bin % 1000==0:\n",
    "        print(count_bin, end=' ')\n",
    "        print(random_idx_bin)\n",
    "\n",
    "    df_bin = bin6_0[random_idx_bin : random_idx_bin + right_idx]\n",
    "    \n",
    "    # 뽑은 index의 N 바이트 중에 1이 없는 경우만\n",
    "    if 1 not in df_bin['label'] and count_bin < goal_bin:\n",
    "        binutils_df.append(df_bin)\n",
    "        count_bin+=1\n",
    "\n",
    "print('완료')\n",
    "print(len(binutils_df))"
   ]
  },
  {
   "cell_type": "code",
   "execution_count": 5,
   "metadata": {},
   "outputs": [
    {
     "name": "stdout",
     "output_type": "stream",
     "text": [
      "50258\n",
      "50258\n"
     ]
    }
   ],
   "source": [
    "# True data와 False Data 같은지 체크\n",
    "print(len(binutils_df))\n",
    "print(bin6_0['label'].value_counts()[1])"
   ]
  },
  {
   "cell_type": "markdown",
   "metadata": {},
   "source": [
    "## (5) False Data + True Data 합치기"
   ]
  },
  {
   "cell_type": "code",
   "execution_count": 6,
   "metadata": {},
   "outputs": [
    {
     "data": {
      "text/plain": [
       "(3216512, 2)"
      ]
     },
     "execution_count": 6,
     "metadata": {},
     "output_type": "execute_result"
    }
   ],
   "source": [
    "f_data = pd.concat(binutils_df)\n",
    "final = pd.concat([f_data, bin6_0_Ngram])\n",
    "final.shape"
   ]
  },
  {
   "cell_type": "markdown",
   "metadata": {},
   "source": [
    "## (6) one hot encoding"
   ]
  },
  {
   "cell_type": "code",
   "execution_count": 7,
   "metadata": {},
   "outputs": [
    {
     "name": "stdout",
     "output_type": "stream",
     "text": [
      "원핫인코딩완료\n",
      "(3216512, 257)\n"
     ]
    }
   ],
   "source": [
    "# 훈련데이터 (gcc 최적화버전 0, 1, 2, 3 one hot encoding)\n",
    "bc6_0_onehot_Ngram = pd.get_dummies(final['bin'])\n",
    "bc6_0_onehot_Ngram = pd.concat([final['label'], bc6_0_onehot_Ngram], axis=1)\n",
    "\n",
    "print('원핫인코딩완료')\n",
    "print(bc6_0_onehot_Ngram.shape)"
   ]
  },
  {
   "cell_type": "code",
   "execution_count": 8,
   "metadata": {},
   "outputs": [
    {
     "name": "stdout",
     "output_type": "stream",
     "text": [
      "(3216512, 256) (3216512, 256)\n",
      "(100516, 32, 256) (100516, 32, 1)\n"
     ]
    }
   ],
   "source": [
    "# 훈련 데이터, 훈련 라벨\n",
    "x_bc6_0 = bc6_0_onehot_Ngram.iloc[:,1:].to_numpy()\n",
    "y_bc6_0 = bc6_0_onehot_Ngram['label'].to_numpy()\n",
    "print(x_bc6_0.shape, x_bc6_0.shape)\n",
    "\n",
    "x_bc6_0 = x_bc6_0.reshape(-1, right_idx, x_bc6_0.shape[1])\n",
    "y_bc6_0 = y_bc6_0.reshape(-1, right_idx, 1)\n",
    "\n",
    "print(x_bc6_0.shape, y_bc6_0.shape)"
   ]
  },
  {
   "cell_type": "code",
   "execution_count": 9,
   "metadata": {},
   "outputs": [
    {
     "name": "stdout",
     "output_type": "stream",
     "text": [
      "(100516, 32, 256) (100516, 32, 1)\n"
     ]
    }
   ],
   "source": [
    "# numpy 행, 열 섞기\n",
    "p = np.random.permutation(x_bc6_0.shape[0])\n",
    "\n",
    "x_bc6_0 = x_bc6_0[p]\n",
    "y_bc6_0 = y_bc6_0[p]\n",
    "\n",
    "print(x_bc6_0.shape, y_bc6_0.shape)"
   ]
  },
  {
   "cell_type": "markdown",
   "metadata": {},
   "source": [
    "## (7) 모델"
   ]
  },
  {
   "cell_type": "code",
   "execution_count": 10,
   "metadata": {},
   "outputs": [],
   "source": [
    "# (10) 양방향 LSTM 모델링 작업\n",
    "from tensorflow.keras import layers, models\n",
    "#from tf.keras.models import Model, Sequential\n",
    "#from tf.keras.layers import SimpleRNN, Input, Dense, LSTM\n",
    "#from tf.keras.layers import Bidirectional, TimeDistributed\n",
    "\n",
    "# 학습\n",
    "from tensorflow.keras.callbacks import EarlyStopping\n",
    "early_stopping = EarlyStopping(patience = 3) # 조기종료 콜백함수 정의\n",
    "\n",
    "xInput = layers.Input(batch_shape=(None,right_idx, 256)) \n",
    "xBiLstm = layers.Bidirectional(layers.LSTM(48, return_sequences=True, stateful=False), merge_mode = 'concat')(xInput)\n",
    "xOutput = layers.TimeDistributed(layers.Dense(1, activation ='sigmoid'))(xBiLstm) # 각 스텝에서 cost가 전송되고, 오류가 다음 step으로 전송됨."
   ]
  },
  {
   "cell_type": "markdown",
   "metadata": {},
   "source": [
    "## (8) 학습 - 10 KFold"
   ]
  },
  {
   "cell_type": "code",
   "execution_count": 11,
   "metadata": {
    "scrolled": false
   },
   "outputs": [
    {
     "name": "stdout",
     "output_type": "stream",
     "text": [
      "Model: \"model\"\n",
      "_________________________________________________________________\n",
      "Layer (type)                 Output Shape              Param #   \n",
      "=================================================================\n",
      "input_1 (InputLayer)         [(None, 32, 256)]         0         \n",
      "_________________________________________________________________\n",
      "bidirectional (Bidirectional (None, 32, 96)            117120    \n",
      "_________________________________________________________________\n",
      "time_distributed (TimeDistri (None, 32, 1)             97        \n",
      "=================================================================\n",
      "Total params: 117,217\n",
      "Trainable params: 117,217\n",
      "Non-trainable params: 0\n",
      "_________________________________________________________________\n",
      "======Training stage======\n",
      "Train on 90464 samples\n",
      "Epoch 1/10\n",
      "90368/90464 [============================>.] - ETA: 0s - loss: 0.0055 - accuracy: 0.9986WARNING:tensorflow:Early stopping conditioned on metric `val_loss` which is not available. Available metrics are: loss,accuracy\n",
      "90464/90464 [==============================] - 55s 611us/sample - loss: 0.0055 - accuracy: 0.9986\n",
      "Epoch 2/10\n",
      "90432/90464 [============================>.] - ETA: 0s - loss: 2.8613e-04 - accuracy: 0.9999WARNING:tensorflow:Early stopping conditioned on metric `val_loss` which is not available. Available metrics are: loss,accuracy\n",
      "90464/90464 [==============================] - 61s 675us/sample - loss: 2.8604e-04 - accuracy: 0.9999\n",
      "Epoch 3/10\n",
      "90432/90464 [============================>.] - ETA: 0s - loss: 2.4278e-04 - accuracy: 0.9999WARNING:tensorflow:Early stopping conditioned on metric `val_loss` which is not available. Available metrics are: loss,accuracy\n",
      "90464/90464 [==============================] - 70s 776us/sample - loss: 2.4271e-04 - accuracy: 0.9999\n",
      "Epoch 4/10\n",
      "90432/90464 [============================>.] - ETA: 0s - loss: 2.1753e-04 - accuracy: 0.9999WARNING:tensorflow:Early stopping conditioned on metric `val_loss` which is not available. Available metrics are: loss,accuracy\n",
      "90464/90464 [==============================] - 111s 1ms/sample - loss: 2.1747e-04 - accuracy: 0.9999\n",
      "Epoch 5/10\n",
      "90432/90464 [============================>.] - ETA: 0s - loss: 2.0880e-04 - accuracy: 0.9999WARNING:tensorflow:Early stopping conditioned on metric `val_loss` which is not available. Available metrics are: loss,accuracy\n",
      "90464/90464 [==============================] - 113s 1ms/sample - loss: 2.0909e-04 - accuracy: 0.9999\n",
      "Epoch 6/10\n",
      "90432/90464 [============================>.] - ETA: 0s - loss: 1.8207e-04 - accuracy: 0.9999WARNING:tensorflow:Early stopping conditioned on metric `val_loss` which is not available. Available metrics are: loss,accuracy\n",
      "90464/90464 [==============================] - 132s 1ms/sample - loss: 1.8201e-04 - accuracy: 0.9999\n",
      "Epoch 7/10\n",
      "90432/90464 [============================>.] - ETA: 0s - loss: 1.7957e-04 - accuracy: 1.0000WARNING:tensorflow:Early stopping conditioned on metric `val_loss` which is not available. Available metrics are: loss,accuracy\n",
      "90464/90464 [==============================] - 131s 1ms/sample - loss: 1.7950e-04 - accuracy: 1.0000\n",
      "Epoch 8/10\n",
      "90400/90464 [============================>.] - ETA: 0s - loss: 1.6236e-04 - accuracy: 1.0000WARNING:tensorflow:Early stopping conditioned on metric `val_loss` which is not available. Available metrics are: loss,accuracy\n",
      "90464/90464 [==============================] - 107s 1ms/sample - loss: 1.6224e-04 - accuracy: 1.0000\n",
      "Epoch 9/10\n",
      "90400/90464 [============================>.] - ETA: 0s - loss: 1.4589e-04 - accuracy: 1.0000WARNING:tensorflow:Early stopping conditioned on metric `val_loss` which is not available. Available metrics are: loss,accuracy\n",
      "90464/90464 [==============================] - 107s 1ms/sample - loss: 1.4811e-04 - accuracy: 1.0000\n",
      "Epoch 10/10\n",
      "90432/90464 [============================>.] - ETA: 0s - loss: 1.4417e-04 - accuracy: 1.0000WARNING:tensorflow:Early stopping conditioned on metric `val_loss` which is not available. Available metrics are: loss,accuracy\n",
      "90464/90464 [==============================] - 111s 1ms/sample - loss: 1.4412e-04 - accuracy: 1.0000\n"
     ]
    },
    {
     "data": {
      "text/plain": [
       "<tensorflow.python.keras.callbacks.History at 0x1e7357a6f48>"
      ]
     },
     "execution_count": 11,
     "metadata": {},
     "output_type": "execute_result"
    },
    {
     "name": "stdout",
     "output_type": "stream",
     "text": [
      "accuracy_score 0.9999471498209311\n",
      "recall_score 0.9987049028677151\n",
      "precision_score 0.9981508875739645\n",
      "f1_score 0.9984278183667807\n",
      "Model: \"model_1\"\n",
      "_________________________________________________________________\n",
      "Layer (type)                 Output Shape              Param #   \n",
      "=================================================================\n",
      "input_1 (InputLayer)         [(None, 32, 256)]         0         \n",
      "_________________________________________________________________\n",
      "bidirectional (Bidirectional (None, 32, 96)            117120    \n",
      "_________________________________________________________________\n",
      "time_distributed (TimeDistri (None, 32, 1)             97        \n",
      "=================================================================\n",
      "Total params: 117,217\n",
      "Trainable params: 117,217\n",
      "Non-trainable params: 0\n",
      "_________________________________________________________________\n",
      "======Training stage======\n",
      "Train on 90464 samples\n",
      "Epoch 1/10\n",
      "90400/90464 [============================>.] - ETA: 0s - loss: 1.4386e-04 - accuracy: 1.0000WARNING:tensorflow:Early stopping conditioned on metric `val_loss` which is not available. Available metrics are: loss,accuracy\n",
      "90464/90464 [==============================] - 144s 2ms/sample - loss: 1.4376e-04 - accuracy: 1.0000\n",
      "Epoch 2/10\n",
      "90400/90464 [============================>.] - ETA: 0s - loss: 1.4119e-04 - accuracy: 1.0000WARNING:tensorflow:Early stopping conditioned on metric `val_loss` which is not available. Available metrics are: loss,accuracy\n",
      "90464/90464 [==============================] - 123s 1ms/sample - loss: 1.4109e-04 - accuracy: 1.0000\n",
      "Epoch 3/10\n",
      "90400/90464 [============================>.] - ETA: 0s - loss: 1.2746e-04 - accuracy: 1.0000WARNING:tensorflow:Early stopping conditioned on metric `val_loss` which is not available. Available metrics are: loss,accuracy\n",
      "90464/90464 [==============================] - 100s 1ms/sample - loss: 1.2737e-04 - accuracy: 1.0000\n",
      "Epoch 4/10\n",
      "90400/90464 [============================>.] - ETA: 0s - loss: 1.1873e-04 - accuracy: 1.0000WARNING:tensorflow:Early stopping conditioned on metric `val_loss` which is not available. Available metrics are: loss,accuracy\n",
      "90464/90464 [==============================] - 104s 1ms/sample - loss: 1.1865e-04 - accuracy: 1.0000\n",
      "Epoch 5/10\n",
      "90400/90464 [============================>.] - ETA: 0s - loss: 1.1512e-04 - accuracy: 1.0000WARNING:tensorflow:Early stopping conditioned on metric `val_loss` which is not available. Available metrics are: loss,accuracy\n",
      "90464/90464 [==============================] - 109s 1ms/sample - loss: 1.1546e-04 - accuracy: 1.0000\n",
      "Epoch 6/10\n",
      "90432/90464 [============================>.] - ETA: 0s - loss: 1.1532e-04 - accuracy: 1.0000WARNING:tensorflow:Early stopping conditioned on metric `val_loss` which is not available. Available metrics are: loss,accuracy\n",
      "90464/90464 [==============================] - 111s 1ms/sample - loss: 1.1528e-04 - accuracy: 1.0000\n",
      "Epoch 7/10\n",
      "90432/90464 [============================>.] - ETA: 0s - loss: 1.0765e-04 - accuracy: 1.0000WARNING:tensorflow:Early stopping conditioned on metric `val_loss` which is not available. Available metrics are: loss,accuracy\n",
      "90464/90464 [==============================] - 134s 1ms/sample - loss: 1.0761e-04 - accuracy: 1.0000\n",
      "Epoch 8/10\n",
      "90432/90464 [============================>.] - ETA: 0s - loss: 9.7365e-05 - accuracy: 1.0000WARNING:tensorflow:Early stopping conditioned on metric `val_loss` which is not available. Available metrics are: loss,accuracy\n",
      "90464/90464 [==============================] - 132s 1ms/sample - loss: 9.7331e-05 - accuracy: 1.0000\n",
      "Epoch 9/10\n",
      "90400/90464 [============================>.] - ETA: 0s - loss: 8.7322e-05 - accuracy: 1.0000WARNING:tensorflow:Early stopping conditioned on metric `val_loss` which is not available. Available metrics are: loss,accuracy\n",
      "90464/90464 [==============================] - 118s 1ms/sample - loss: 8.7261e-05 - accuracy: 1.0000\n",
      "Epoch 10/10\n",
      "90432/90464 [============================>.] - ETA: 0s - loss: 8.6002e-05 - accuracy: 1.0000WARNING:tensorflow:Early stopping conditioned on metric `val_loss` which is not available. Available metrics are: loss,accuracy\n",
      "90464/90464 [==============================] - 105s 1ms/sample - loss: 8.5972e-05 - accuracy: 1.0000\n"
     ]
    },
    {
     "data": {
      "text/plain": [
       "<tensorflow.python.keras.callbacks.History at 0x1e75c2da248>"
      ]
     },
     "execution_count": 11,
     "metadata": {},
     "output_type": "execute_result"
    },
    {
     "name": "stdout",
     "output_type": "stream",
     "text": [
      "accuracy_score 0.9999658028253084\n",
      "recall_score 0.9994562262098967\n",
      "precision_score 0.9985512495472655\n",
      "f1_score 0.9990035329287072\n",
      "Model: \"model_2\"\n",
      "_________________________________________________________________\n",
      "Layer (type)                 Output Shape              Param #   \n",
      "=================================================================\n",
      "input_1 (InputLayer)         [(None, 32, 256)]         0         \n",
      "_________________________________________________________________\n",
      "bidirectional (Bidirectional (None, 32, 96)            117120    \n",
      "_________________________________________________________________\n",
      "time_distributed (TimeDistri (None, 32, 1)             97        \n",
      "=================================================================\n",
      "Total params: 117,217\n",
      "Trainable params: 117,217\n",
      "Non-trainable params: 0\n",
      "_________________________________________________________________\n",
      "======Training stage======\n",
      "Train on 90464 samples\n",
      "Epoch 1/10\n",
      "90400/90464 [============================>.] - ETA: 0s - loss: 1.0405e-04 - accuracy: 1.0000 ETA: 0s - loss: 1.0427e-04 - accuracy: WARNING:tensorflow:Early stopping conditioned on metric `val_loss` which is not available. Available metrics are: loss,accuracy\n",
      "90464/90464 [==============================] - 112s 1ms/sample - loss: 1.0397e-04 - accuracy: 1.0000\n",
      "Epoch 2/10\n",
      "90432/90464 [============================>.] - ETA: 0s - loss: 9.4224e-05 - accuracy: 1.0000WARNING:tensorflow:Early stopping conditioned on metric `val_loss` which is not available. Available metrics are: loss,accuracy\n",
      "90464/90464 [==============================] - 104s 1ms/sample - loss: 9.4191e-05 - accuracy: 1.0000\n",
      "Epoch 3/10\n",
      "90432/90464 [============================>.] - ETA: 0s - loss: 8.6448e-05 - accuracy: 1.0000WARNING:tensorflow:Early stopping conditioned on metric `val_loss` which is not available. Available metrics are: loss,accuracy\n",
      "90464/90464 [==============================] - 100s 1ms/sample - loss: 8.6417e-05 - accuracy: 1.0000\n",
      "Epoch 4/10\n",
      "90432/90464 [============================>.] - ETA: 0s - loss: 8.2022e-05 - accuracy: 1.0000WARNING:tensorflow:Early stopping conditioned on metric `val_loss` which is not available. Available metrics are: loss,accuracy\n",
      "90464/90464 [==============================] - 101s 1ms/sample - loss: 8.1993e-05 - accuracy: 1.0000\n",
      "Epoch 5/10\n",
      "90400/90464 [============================>.] - ETA: 0s - loss: 6.7927e-05 - accuracy: 1.0000WARNING:tensorflow:Early stopping conditioned on metric `val_loss` which is not available. Available metrics are: loss,accuracy\n",
      "90464/90464 [==============================] - 101s 1ms/sample - loss: 6.7881e-05 - accuracy: 1.0000\n",
      "Epoch 6/10\n",
      "90400/90464 [============================>.] - ETA: 0s - loss: 7.3470e-05 - accuracy: 1.0000WARNING:tensorflow:Early stopping conditioned on metric `val_loss` which is not available. Available metrics are: loss,accuracy\n",
      "90464/90464 [==============================] - 101s 1ms/sample - loss: 7.3423e-05 - accuracy: 1.0000\n",
      "Epoch 7/10\n",
      "90400/90464 [============================>.] - ETA: 0s - loss: 6.4947e-05 - accuracy: 1.0000WARNING:tensorflow:Early stopping conditioned on metric `val_loss` which is not available. Available metrics are: loss,accuracy\n",
      "90464/90464 [==============================] - 102s 1ms/sample - loss: 6.4902e-05 - accuracy: 1.0000\n",
      "Epoch 8/10\n",
      "90400/90464 [============================>.] - ETA: 0s - loss: 6.4704e-05 - accuracy: 1.0000WARNING:tensorflow:Early stopping conditioned on metric `val_loss` which is not available. Available metrics are: loss,accuracy\n",
      "90464/90464 [==============================] - 101s 1ms/sample - loss: 6.4658e-05 - accuracy: 1.0000\n",
      "Epoch 9/10\n",
      "90400/90464 [============================>.] - ETA: 0s - loss: 6.8522e-05 - accuracy: 1.0000WARNING:tensorflow:Early stopping conditioned on metric `val_loss` which is not available. Available metrics are: loss,accuracy\n",
      "90464/90464 [==============================] - 101s 1ms/sample - loss: 6.8474e-05 - accuracy: 1.0000\n",
      "Epoch 10/10\n",
      "90432/90464 [============================>.] - ETA: 0s - loss: 5.4182e-05 - accuracy: 1.0000WARNING:tensorflow:Early stopping conditioned on metric `val_loss` which is not available. Available metrics are: loss,accuracy\n",
      "90464/90464 [==============================] - 101s 1ms/sample - loss: 5.4163e-05 - accuracy: 1.0000\n"
     ]
    },
    {
     "data": {
      "text/plain": [
       "<tensorflow.python.keras.callbacks.History at 0x1e73448bf88>"
      ]
     },
     "execution_count": 11,
     "metadata": {},
     "output_type": "execute_result"
    },
    {
     "name": "stdout",
     "output_type": "stream",
     "text": [
      "accuracy_score 0.9999689116593713\n",
      "recall_score 0.9998218421521468\n",
      "precision_score 0.9983988614125601\n",
      "f1_score 0.9991098451130497\n",
      "Model: \"model_3\"\n",
      "_________________________________________________________________\n",
      "Layer (type)                 Output Shape              Param #   \n",
      "=================================================================\n",
      "input_1 (InputLayer)         [(None, 32, 256)]         0         \n",
      "_________________________________________________________________\n",
      "bidirectional (Bidirectional (None, 32, 96)            117120    \n",
      "_________________________________________________________________\n",
      "time_distributed (TimeDistri (None, 32, 1)             97        \n",
      "=================================================================\n",
      "Total params: 117,217\n",
      "Trainable params: 117,217\n",
      "Non-trainable params: 0\n",
      "_________________________________________________________________\n",
      "======Training stage======\n",
      "Train on 90464 samples\n",
      "Epoch 1/10\n",
      "90432/90464 [============================>.] - ETA: 0s - loss: 5.6103e-05 - accuracy: 1.0000WARNING:tensorflow:Early stopping conditioned on metric `val_loss` which is not available. Available metrics are: loss,accuracy\n",
      "90464/90464 [==============================] - 100s 1ms/sample - loss: 5.6083e-05 - accuracy: 1.0000\n",
      "Epoch 2/10\n",
      "90400/90464 [============================>.] - ETA: 0s - loss: 5.0992e-05 - accuracy: 1.0000WARNING:tensorflow:Early stopping conditioned on metric `val_loss` which is not available. Available metrics are: loss,accuracy\n",
      "90464/90464 [==============================] - 101s 1ms/sample - loss: 5.0956e-05 - accuracy: 1.0000\n",
      "Epoch 3/10\n",
      "90400/90464 [============================>.] - ETA: 0s - loss: 4.8193e-05 - accuracy: 1.0000WARNING:tensorflow:Early stopping conditioned on metric `val_loss` which is not available. Available metrics are: loss,accuracy\n",
      "90464/90464 [==============================] - 95s 1ms/sample - loss: 4.8160e-05 - accuracy: 1.0000\n",
      "Epoch 4/10\n",
      "90400/90464 [============================>.] - ETA: 0s - loss: 4.7998e-05 - accuracy: 1.0000WARNING:tensorflow:Early stopping conditioned on metric `val_loss` which is not available. Available metrics are: loss,accuracy\n",
      "90464/90464 [==============================] - 99s 1ms/sample - loss: 4.7964e-05 - accuracy: 1.0000\n",
      "Epoch 5/10\n",
      "90432/90464 [============================>.] - ETA: 0s - loss: 5.0465e-05 - accuracy: 1.0000WARNING:tensorflow:Early stopping conditioned on metric `val_loss` which is not available. Available metrics are: loss,accuracy\n",
      "90464/90464 [==============================] - 100s 1ms/sample - loss: 5.0447e-05 - accuracy: 1.0000\n",
      "Epoch 6/10\n",
      "90400/90464 [============================>.] - ETA: 0s - loss: 3.7093e-05 - accuracy: 1.0000WARNING:tensorflow:Early stopping conditioned on metric `val_loss` which is not available. Available metrics are: loss,accuracy\n",
      "90464/90464 [==============================] - 99s 1ms/sample - loss: 3.7322e-05 - accuracy: 1.0000\n",
      "Epoch 7/10\n",
      "90400/90464 [============================>.] - ETA: 0s - loss: 3.5778e-05 - accuracy: 1.0000WARNING:tensorflow:Early stopping conditioned on metric `val_loss` which is not available. Available metrics are: loss,accuracy\n",
      "90464/90464 [==============================] - 101s 1ms/sample - loss: 3.5753e-05 - accuracy: 1.0000\n",
      "Epoch 8/10\n",
      "90432/90464 [============================>.] - ETA: 0s - loss: 3.6738e-05 - accuracy: 1.0000WARNING:tensorflow:Early stopping conditioned on metric `val_loss` which is not available. Available metrics are: loss,accuracy\n",
      "90464/90464 [==============================] - 101s 1ms/sample - loss: 3.6725e-05 - accuracy: 1.0000\n",
      "Epoch 9/10\n",
      "90400/90464 [============================>.] - ETA: 0s - loss: 3.1449e-05 - accuracy: 1.0000WARNING:tensorflow:Early stopping conditioned on metric `val_loss` which is not available. Available metrics are: loss,accuracy\n",
      "90464/90464 [==============================] - 100s 1ms/sample - loss: 3.1427e-05 - accuracy: 1.0000\n",
      "Epoch 10/10\n",
      "90400/90464 [============================>.] - ETA: 0s - loss: 3.3579e-05 - accuracy: 1.0000WARNING:tensorflow:Early stopping conditioned on metric `val_loss` which is not available. Available metrics are: loss,accuracy\n",
      "90464/90464 [==============================] - 100s 1ms/sample - loss: 3.3556e-05 - accuracy: 1.0000\n"
     ]
    },
    {
     "data": {
      "text/plain": [
       "<tensorflow.python.keras.callbacks.History at 0x1e73430fb88>"
      ]
     },
     "execution_count": 11,
     "metadata": {},
     "output_type": "execute_result"
    },
    {
     "name": "stdout",
     "output_type": "stream",
     "text": [
      "accuracy_score 0.9999689116593713\n",
      "recall_score 0.9996476391825229\n",
      "precision_score 0.9985920450545582\n",
      "f1_score 0.9991195633033985\n",
      "Model: \"model_4\"\n",
      "_________________________________________________________________\n",
      "Layer (type)                 Output Shape              Param #   \n",
      "=================================================================\n",
      "input_1 (InputLayer)         [(None, 32, 256)]         0         \n",
      "_________________________________________________________________\n",
      "bidirectional (Bidirectional (None, 32, 96)            117120    \n",
      "_________________________________________________________________\n",
      "time_distributed (TimeDistri (None, 32, 1)             97        \n",
      "=================================================================\n",
      "Total params: 117,217\n",
      "Trainable params: 117,217\n",
      "Non-trainable params: 0\n",
      "_________________________________________________________________\n",
      "======Training stage======\n",
      "Train on 90464 samples\n",
      "Epoch 1/10\n",
      "90400/90464 [============================>.] - ETA: 0s - loss: 6.7371e-05 - accuracy: 1.0000WARNING:tensorflow:Early stopping conditioned on metric `val_loss` which is not available. Available metrics are: loss,accuracy\n",
      "90464/90464 [==============================] - 113s 1ms/sample - loss: 6.7323e-05 - accuracy: 1.0000\n",
      "Epoch 2/10\n",
      "90400/90464 [============================>.] - ETA: 0s - loss: 4.6518e-05 - accuracy: 1.0000 ETA: 1sWARNING:tensorflow:Early stopping conditioned on metric `val_loss` which is not available. Available metrics are: loss,accuracy\n",
      "90464/90464 [==============================] - 99s 1ms/sample - loss: 4.6485e-05 - accuracy: 1.0000\n",
      "Epoch 3/10\n",
      "90400/90464 [============================>.] - ETA: 0s - loss: 4.8229e-05 - accuracy: 1.0000WARNING:tensorflow:Early stopping conditioned on metric `val_loss` which is not available. Available metrics are: loss,accuracy\n",
      "90464/90464 [==============================] - 96s 1ms/sample - loss: 4.8195e-05 - accuracy: 1.0000\n",
      "Epoch 4/10\n",
      "90400/90464 [============================>.] - ETA: 0s - loss: 4.7674e-05 - accuracy: 1.0000WARNING:tensorflow:Early stopping conditioned on metric `val_loss` which is not available. Available metrics are: loss,accuracy\n",
      "90464/90464 [==============================] - 101s 1ms/sample - loss: 4.7640e-05 - accuracy: 1.0000\n",
      "Epoch 5/10\n",
      "90400/90464 [============================>.] - ETA: 0s - loss: 3.9492e-05 - accuracy: 1.0000WARNING:tensorflow:Early stopping conditioned on metric `val_loss` which is not available. Available metrics are: loss,accuracy\n",
      "90464/90464 [==============================] - 100s 1ms/sample - loss: 3.9464e-05 - accuracy: 1.0000\n",
      "Epoch 6/10\n",
      "90400/90464 [============================>.] - ETA: 0s - loss: 3.8206e-05 - accuracy: 1.0000WARNING:tensorflow:Early stopping conditioned on metric `val_loss` which is not available. Available metrics are: loss,accuracy\n",
      "90464/90464 [==============================] - 100s 1ms/sample - loss: 3.8180e-05 - accuracy: 1.0000\n",
      "Epoch 7/10\n",
      "90432/90464 [============================>.] - ETA: 0s - loss: 3.2808e-05 - accuracy: 1.0000WARNING:tensorflow:Early stopping conditioned on metric `val_loss` which is not available. Available metrics are: loss,accuracy\n",
      "90464/90464 [==============================] - 100s 1ms/sample - loss: 3.2796e-05 - accuracy: 1.0000\n",
      "Epoch 8/10\n",
      "90432/90464 [============================>.] - ETA: 0s - loss: 4.0083e-05 - accuracy: 1.0000WARNING:tensorflow:Early stopping conditioned on metric `val_loss` which is not available. Available metrics are: loss,accuracy\n",
      "90464/90464 [==============================] - 100s 1ms/sample - loss: 4.0069e-05 - accuracy: 1.0000\n",
      "Epoch 9/10\n",
      "90432/90464 [============================>.] - ETA: 0s - loss: 3.0085e-05 - accuracy: 1.0000WARNING:tensorflow:Early stopping conditioned on metric `val_loss` which is not available. Available metrics are: loss,accuracy\n",
      "90464/90464 [==============================] - 100s 1ms/sample - loss: 3.0074e-05 - accuracy: 1.0000\n",
      "Epoch 10/10\n",
      "90432/90464 [============================>.] - ETA: 0s - loss: 3.2390e-05 - accuracy: 1.0000WARNING:tensorflow:Early stopping conditioned on metric `val_loss` which is not available. Available metrics are: loss,accuracy\n",
      "90464/90464 [==============================] - 95s 1ms/sample - loss: 3.2378e-05 - accuracy: 1.0000\n"
     ]
    },
    {
     "data": {
      "text/plain": [
       "<tensorflow.python.keras.callbacks.History at 0x1e780636288>"
      ]
     },
     "execution_count": 11,
     "metadata": {},
     "output_type": "execute_result"
    },
    {
     "name": "stdout",
     "output_type": "stream",
     "text": [
      "accuracy_score 0.9999906734978113\n",
      "recall_score 1.0\n",
      "precision_score 0.999456029011786\n",
      "f1_score 0.9997279405096581\n",
      "Model: \"model_5\"\n",
      "_________________________________________________________________\n",
      "Layer (type)                 Output Shape              Param #   \n",
      "=================================================================\n",
      "input_1 (InputLayer)         [(None, 32, 256)]         0         \n",
      "_________________________________________________________________\n",
      "bidirectional (Bidirectional (None, 32, 96)            117120    \n",
      "_________________________________________________________________\n",
      "time_distributed (TimeDistri (None, 32, 1)             97        \n",
      "=================================================================\n",
      "Total params: 117,217\n",
      "Trainable params: 117,217\n",
      "Non-trainable params: 0\n",
      "_________________________________________________________________\n",
      "======Training stage======\n",
      "Train on 90464 samples\n",
      "Epoch 1/10\n",
      "90432/90464 [============================>.] - ETA: 0s - loss: 3.4066e-05 - accuracy: 1.0000WARNING:tensorflow:Early stopping conditioned on metric `val_loss` which is not available. Available metrics are: loss,accuracy\n",
      "90464/90464 [==============================] - 105s 1ms/sample - loss: 3.4053e-05 - accuracy: 1.0000\n",
      "Epoch 2/10\n",
      "90432/90464 [============================>.] - ETA: 0s - loss: 3.0607e-05 - accuracy: 1.0000 ETA: 0s - loss: 3.086WARNING:tensorflow:Early stopping conditioned on metric `val_loss` which is not available. Available metrics are: loss,accuracy\n",
      "90464/90464 [==============================] - 100s 1ms/sample - loss: 3.0598e-05 - accuracy: 1.0000\n",
      "Epoch 3/10\n",
      "90400/90464 [============================>.] - ETA: 0s - loss: 3.0048e-05 - accuracy: 1.0000WARNING:tensorflow:Early stopping conditioned on metric `val_loss` which is not available. Available metrics are: loss,accuracy\n",
      "90464/90464 [==============================] - 95s 1ms/sample - loss: 3.0026e-05 - accuracy: 1.0000\n",
      "Epoch 4/10\n",
      "90400/90464 [============================>.] - ETA: 0s - loss: 2.8715e-05 - accuracy: 1.0000WARNING:tensorflow:Early stopping conditioned on metric `val_loss` which is not available. Available metrics are: loss,accuracy\n",
      "90464/90464 [==============================] - 99s 1ms/sample - loss: 2.8695e-05 - accuracy: 1.0000\n",
      "Epoch 5/10\n",
      "90432/90464 [============================>.] - ETA: 0s - loss: 2.5267e-05 - accuracy: 1.0000WARNING:tensorflow:Early stopping conditioned on metric `val_loss` which is not available. Available metrics are: loss,accuracy\n",
      "90464/90464 [==============================] - 99s 1ms/sample - loss: 2.5258e-05 - accuracy: 1.0000\n",
      "Epoch 6/10\n",
      "90400/90464 [============================>.] - ETA: 0s - loss: 2.7590e-05 - accuracy: 1.0000WARNING:tensorflow:Early stopping conditioned on metric `val_loss` which is not available. Available metrics are: loss,accuracy\n",
      "90464/90464 [==============================] - 100s 1ms/sample - loss: 2.7570e-05 - accuracy: 1.0000\n",
      "Epoch 7/10\n",
      "90432/90464 [============================>.] - ETA: 0s - loss: 2.6809e-05 - accuracy: 1.0000WARNING:tensorflow:Early stopping conditioned on metric `val_loss` which is not available. Available metrics are: loss,accuracy\n",
      "90464/90464 [==============================] - 99s 1ms/sample - loss: 2.6799e-05 - accuracy: 1.0000\n",
      "Epoch 8/10\n",
      "90432/90464 [============================>.] - ETA: 0s - loss: 2.3012e-05 - accuracy: 1.0000WARNING:tensorflow:Early stopping conditioned on metric `val_loss` which is not available. Available metrics are: loss,accuracy\n",
      "90464/90464 [==============================] - 101s 1ms/sample - loss: 2.3003e-05 - accuracy: 1.0000\n",
      "Epoch 9/10\n",
      "90400/90464 [============================>.] - ETA: 0s - loss: 1.9894e-05 - accuracy: 1.0000WARNING:tensorflow:Early stopping conditioned on metric `val_loss` which is not available. Available metrics are: loss,accuracy\n",
      "90464/90464 [==============================] - 100s 1ms/sample - loss: 1.9879e-05 - accuracy: 1.0000\n",
      "Epoch 10/10\n",
      "90400/90464 [============================>.] - ETA: 0s - loss: 2.1602e-05 - accuracy: 1.0000WARNING:tensorflow:Early stopping conditioned on metric `val_loss` which is not available. Available metrics are: loss,accuracy\n",
      "90464/90464 [==============================] - 99s 1ms/sample - loss: 2.1587e-05 - accuracy: 1.0000\n"
     ]
    },
    {
     "data": {
      "text/plain": [
       "<tensorflow.python.keras.callbacks.History at 0x1e7647df608>"
      ]
     },
     "execution_count": 11,
     "metadata": {},
     "output_type": "execute_result"
    },
    {
     "name": "stdout",
     "output_type": "stream",
     "text": [
      "accuracy_score 0.9999875646637485\n",
      "recall_score 1.0\n",
      "precision_score 0.9992756247736327\n",
      "f1_score 0.9996376811594203\n",
      "Model: \"model_6\"\n",
      "_________________________________________________________________\n",
      "Layer (type)                 Output Shape              Param #   \n",
      "=================================================================\n",
      "input_1 (InputLayer)         [(None, 32, 256)]         0         \n",
      "_________________________________________________________________\n",
      "bidirectional (Bidirectional (None, 32, 96)            117120    \n",
      "_________________________________________________________________\n",
      "time_distributed (TimeDistri (None, 32, 1)             97        \n",
      "=================================================================\n",
      "Total params: 117,217\n",
      "Trainable params: 117,217\n",
      "Non-trainable params: 0\n",
      "_________________________________________________________________\n",
      "======Training stage======\n",
      "Train on 90465 samples\n",
      "Epoch 1/10\n",
      "90464/90465 [============================>.] - ETA: 0s - loss: 3.0569e-05 - accuracy: 1.0000WARNING:tensorflow:Early stopping conditioned on metric `val_loss` which is not available. Available metrics are: loss,accuracy\n",
      "90465/90465 [==============================] - 156s 2ms/sample - loss: 3.0569e-05 - accuracy: 1.0000\n",
      "Epoch 2/10\n",
      "90464/90465 [============================>.] - ETA: 0s - loss: 3.0406e-05 - accuracy: 1.0000WARNING:tensorflow:Early stopping conditioned on metric `val_loss` which is not available. Available metrics are: loss,accuracy\n",
      "90465/90465 [==============================] - 137s 2ms/sample - loss: 3.0406e-05 - accuracy: 1.0000\n",
      "Epoch 3/10\n",
      "90464/90465 [============================>.] - ETA: 0s - loss: 2.6810e-05 - accuracy: 1.0000 ETA: 0s - loss: 2.6896e-05 - accuWARNING:tensorflow:Early stopping conditioned on metric `val_loss` which is not available. Available metrics are: loss,accuracy\n",
      "90465/90465 [==============================] - 129s 1ms/sample - loss: 2.6810e-05 - accuracy: 1.0000\n",
      "Epoch 4/10\n",
      "90432/90465 [============================>.] - ETA: 0s - loss: 2.7812e-05 - accuracy: 1.0000WARNING:tensorflow:Early stopping conditioned on metric `val_loss` which is not available. Available metrics are: loss,accuracy\n",
      "90465/90465 [==============================] - 135s 1ms/sample - loss: 2.7801e-05 - accuracy: 1.0000\n",
      "Epoch 5/10\n",
      "90464/90465 [============================>.] - ETA: 0s - loss: 2.2844e-05 - accuracy: 1.0000 ETA: 1s - loss: 2WARNING:tensorflow:Early stopping conditioned on metric `val_loss` which is not available. Available metrics are: loss,accuracy\n",
      "90465/90465 [==============================] - 137s 2ms/sample - loss: 2.2844e-05 - accuracy: 1.0000\n",
      "Epoch 6/10\n",
      "90432/90465 [============================>.] - ETA: 0s - loss: 2.1515e-05 - accuracy: 1.0000WARNING:tensorflow:Early stopping conditioned on metric `val_loss` which is not available. Available metrics are: loss,accuracy\n",
      "90465/90465 [==============================] - 130s 1ms/sample - loss: 2.1507e-05 - accuracy: 1.0000\n",
      "Epoch 7/10\n",
      "90432/90465 [============================>.] - ETA: 0s - loss: 1.9932e-05 - accuracy: 1.0000WARNING:tensorflow:Early stopping conditioned on metric `val_loss` which is not available. Available metrics are: loss,accuracy\n",
      "90465/90465 [==============================] - 133s 1ms/sample - loss: 1.9925e-05 - accuracy: 1.0000\n",
      "Epoch 8/10\n",
      "90464/90465 [============================>.] - ETA: 0s - loss: 2.3987e-05 - accuracy: 1.0000WARNING:tensorflow:Early stopping conditioned on metric `val_loss` which is not available. Available metrics are: loss,accuracy\n",
      "90465/90465 [==============================] - 128s 1ms/sample - loss: 2.3987e-05 - accuracy: 1.0000\n",
      "Epoch 9/10\n",
      "90432/90465 [============================>.] - ETA: 0s - loss: 2.1568e-05 - accuracy: 1.0000WARNING:tensorflow:Early stopping conditioned on metric `val_loss` which is not available. Available metrics are: loss,accuracy\n",
      "90465/90465 [==============================] - 134s 1ms/sample - loss: 2.1560e-05 - accuracy: 1.0000\n",
      "Epoch 10/10\n",
      "90464/90465 [============================>.] - ETA: 0s - loss: 2.2077e-05 - accuracy: 1.0000WARNING:tensorflow:Early stopping conditioned on metric `val_loss` which is not available. Available metrics are: loss,accuracy\n",
      "90465/90465 [==============================] - 133s 1ms/sample - loss: 2.2077e-05 - accuracy: 1.0000\n"
     ]
    },
    {
     "data": {
      "text/plain": [
       "<tensorflow.python.keras.callbacks.History at 0x1e780a7f988>"
      ]
     },
     "execution_count": 11,
     "metadata": {},
     "output_type": "execute_result"
    },
    {
     "name": "stdout",
     "output_type": "stream",
     "text": [
      "accuracy_score 1.0\n",
      "recall_score 1.0\n",
      "precision_score 1.0\n",
      "f1_score 1.0\n",
      "Model: \"model_7\"\n",
      "_________________________________________________________________\n",
      "Layer (type)                 Output Shape              Param #   \n",
      "=================================================================\n",
      "input_1 (InputLayer)         [(None, 32, 256)]         0         \n",
      "_________________________________________________________________\n",
      "bidirectional (Bidirectional (None, 32, 96)            117120    \n",
      "_________________________________________________________________\n",
      "time_distributed (TimeDistri (None, 32, 1)             97        \n",
      "=================================================================\n",
      "Total params: 117,217\n",
      "Trainable params: 117,217\n",
      "Non-trainable params: 0\n",
      "_________________________________________________________________\n",
      "======Training stage======\n",
      "Train on 90465 samples\n",
      "Epoch 1/10\n",
      "90464/90465 [============================>.] - ETA: 0s - loss: 1.5634e-05 - accuracy: 1.0000WARNING:tensorflow:Early stopping conditioned on metric `val_loss` which is not available. Available metrics are: loss,accuracy\n",
      "90465/90465 [==============================] - 134s 1ms/sample - loss: 1.5634e-05 - accuracy: 1.0000\n",
      "Epoch 2/10\n",
      "90464/90465 [============================>.] - ETA: 0s - loss: 1.5283e-05 - accuracy: 1.0000WARNING:tensorflow:Early stopping conditioned on metric `val_loss` which is not available. Available metrics are: loss,accuracy\n",
      "90465/90465 [==============================] - 127s 1ms/sample - loss: 1.5283e-05 - accuracy: 1.0000\n",
      "Epoch 3/10\n",
      "90432/90465 [============================>.] - ETA: 0s - loss: 1.6031e-05 - accuracy: 1.0000WARNING:tensorflow:Early stopping conditioned on metric `val_loss` which is not available. Available metrics are: loss,accuracy\n",
      "90465/90465 [==============================] - 117s 1ms/sample - loss: 1.6025e-05 - accuracy: 1.0000\n",
      "Epoch 4/10\n",
      "90432/90465 [============================>.] - ETA: 0s - loss: 1.1073e-05 - accuracy: 1.0000WARNING:tensorflow:Early stopping conditioned on metric `val_loss` which is not available. Available metrics are: loss,accuracy\n",
      "90465/90465 [==============================] - 123s 1ms/sample - loss: 1.1069e-05 - accuracy: 1.0000\n",
      "Epoch 5/10\n",
      "90464/90465 [============================>.] - ETA: 0s - loss: 1.3424e-05 - accuracy: 1.0000WARNING:tensorflow:Early stopping conditioned on metric `val_loss` which is not available. Available metrics are: loss,accuracy\n",
      "90465/90465 [==============================] - 123s 1ms/sample - loss: 1.3424e-05 - accuracy: 1.0000\n",
      "Epoch 6/10\n",
      "90464/90465 [============================>.] - ETA: 0s - loss: 1.3564e-05 - accuracy: 1.0000WARNING:tensorflow:Early stopping conditioned on metric `val_loss` which is not available. Available metrics are: loss,accuracy\n",
      "90465/90465 [==============================] - 118s 1ms/sample - loss: 1.3564e-05 - accuracy: 1.0000\n",
      "Epoch 7/10\n",
      "90432/90465 [============================>.] - ETA: 0s - loss: 1.3651e-05 - accuracy: 1.0000WARNING:tensorflow:Early stopping conditioned on metric `val_loss` which is not available. Available metrics are: loss,accuracy\n",
      "90465/90465 [==============================] - 122s 1ms/sample - loss: 1.3646e-05 - accuracy: 1.0000\n",
      "Epoch 8/10\n",
      "90464/90465 [============================>.] - ETA: 0s - loss: 1.3303e-05 - accuracy: 1.0000WARNING:tensorflow:Early stopping conditioned on metric `val_loss` which is not available. Available metrics are: loss,accuracy\n",
      "90465/90465 [==============================] - 121s 1ms/sample - loss: 1.3303e-05 - accuracy: 1.0000\n",
      "Epoch 9/10\n",
      "90464/90465 [============================>.] - ETA: 0s - loss: 1.0534e-05 - accuracy: 1.0000WARNING:tensorflow:Early stopping conditioned on metric `val_loss` which is not available. Available metrics are: loss,accuracy\n",
      "90465/90465 [==============================] - 118s 1ms/sample - loss: 1.0534e-05 - accuracy: 1.0000\n",
      "Epoch 10/10\n",
      "90464/90465 [============================>.] - ETA: 0s - loss: 1.0926e-05 - accuracy: 1.0000WARNING:tensorflow:Early stopping conditioned on metric `val_loss` which is not available. Available metrics are: loss,accuracy\n",
      "90465/90465 [==============================] - 120s 1ms/sample - loss: 1.0926e-05 - accuracy: 1.0000\n"
     ]
    },
    {
     "data": {
      "text/plain": [
       "<tensorflow.python.keras.callbacks.History at 0x1e734593948>"
      ]
     },
     "execution_count": 11,
     "metadata": {},
     "output_type": "execute_result"
    },
    {
     "name": "stdout",
     "output_type": "stream",
     "text": [
      "accuracy_score 0.9999968908566311\n",
      "recall_score 1.0\n",
      "precision_score 0.999819787349072\n",
      "f1_score 0.9999098855546544\n",
      "Model: \"model_8\"\n",
      "_________________________________________________________________\n",
      "Layer (type)                 Output Shape              Param #   \n",
      "=================================================================\n",
      "input_1 (InputLayer)         [(None, 32, 256)]         0         \n",
      "_________________________________________________________________\n",
      "bidirectional (Bidirectional (None, 32, 96)            117120    \n",
      "_________________________________________________________________\n",
      "time_distributed (TimeDistri (None, 32, 1)             97        \n",
      "=================================================================\n",
      "Total params: 117,217\n",
      "Trainable params: 117,217\n",
      "Non-trainable params: 0\n",
      "_________________________________________________________________\n",
      "======Training stage======\n",
      "Train on 90465 samples\n",
      "Epoch 1/10\n",
      "90432/90465 [============================>.] - ETA: 0s - loss: 1.8523e-05 - accuracy: 1.0000WARNING:tensorflow:Early stopping conditioned on metric `val_loss` which is not available. Available metrics are: loss,accuracy\n",
      "90465/90465 [==============================] - 140s 2ms/sample - loss: 1.8516e-05 - accuracy: 1.0000\n",
      "Epoch 2/10\n",
      "90464/90465 [============================>.] - ETA: 0s - loss: 1.7868e-05 - accuracy: 1.00 - ETA: 0s - loss: 1.7855e-05 - accuracy: 1.0000WARNING:tensorflow:Early stopping conditioned on metric `val_loss` which is not available. Available metrics are: loss,accuracy\n",
      "90465/90465 [==============================] - 121s 1ms/sample - loss: 1.7855e-05 - accuracy: 1.0000\n",
      "Epoch 3/10\n",
      "90432/90465 [============================>.] - ETA: 0s - loss: 2.0070e-05 - accuracy: 1.0000WARNING:tensorflow:Early stopping conditioned on metric `val_loss` which is not available. Available metrics are: loss,accuracy\n",
      "90465/90465 [==============================] - 120s 1ms/sample - loss: 2.0063e-05 - accuracy: 1.0000\n",
      "Epoch 4/10\n",
      "90432/90465 [============================>.] - ETA: 0s - loss: 1.7720e-05 - accuracy: 1.0000WARNING:tensorflow:Early stopping conditioned on metric `val_loss` which is not available. Available metrics are: loss,accuracy\n",
      "90465/90465 [==============================] - 126s 1ms/sample - loss: 1.7714e-05 - accuracy: 1.0000\n",
      "Epoch 5/10\n",
      "90464/90465 [============================>.] - ETA: 0s - loss: 1.2099e-05 - accuracy: 1.0000WARNING:tensorflow:Early stopping conditioned on metric `val_loss` which is not available. Available metrics are: loss,accuracy\n",
      "90465/90465 [==============================] - 126s 1ms/sample - loss: 1.2099e-05 - accuracy: 1.0000\n",
      "Epoch 6/10\n",
      "90432/90465 [============================>.] - ETA: 0s - loss: 1.4201e-05 - accuracy: 1.0000WARNING:tensorflow:Early stopping conditioned on metric `val_loss` which is not available. Available metrics are: loss,accuracy\n",
      "90465/90465 [==============================] - 127s 1ms/sample - loss: 1.4196e-05 - accuracy: 1.0000\n",
      "Epoch 7/10\n",
      "90432/90465 [============================>.] - ETA: 0s - loss: 1.8047e-05 - accuracy: 1.0000WARNING:tensorflow:Early stopping conditioned on metric `val_loss` which is not available. Available metrics are: loss,accuracy\n",
      "90465/90465 [==============================] - 118s 1ms/sample - loss: 1.8041e-05 - accuracy: 1.0000\n",
      "Epoch 8/10\n",
      "90464/90465 [============================>.] - ETA: 0s - loss: 1.3196e-05 - accuracy: 1.0000WARNING:tensorflow:Early stopping conditioned on metric `val_loss` which is not available. Available metrics are: loss,accuracy\n",
      "90465/90465 [==============================] - 126s 1ms/sample - loss: 1.3196e-05 - accuracy: 1.0000\n",
      "Epoch 9/10\n",
      "90464/90465 [============================>.] - ETA: 0s - loss: 1.2201e-05 - accuracy: 1.0000WARNING:tensorflow:Early stopping conditioned on metric `val_loss` which is not available. Available metrics are: loss,accuracy\n",
      "90465/90465 [==============================] - 124s 1ms/sample - loss: 1.2201e-05 - accuracy: 1.0000\n",
      "Epoch 10/10\n",
      "90464/90465 [============================>.] - ETA: 0s - loss: 1.2092e-05 - accuracy: 1.0000WARNING:tensorflow:Early stopping conditioned on metric `val_loss` which is not available. Available metrics are: loss,accuracy\n",
      "90465/90465 [==============================] - 126s 1ms/sample - loss: 1.2092e-05 - accuracy: 1.0000\n"
     ]
    },
    {
     "data": {
      "text/plain": [
       "<tensorflow.python.keras.callbacks.History at 0x1e7352ba648>"
      ]
     },
     "execution_count": 11,
     "metadata": {},
     "output_type": "execute_result"
    },
    {
     "name": "stdout",
     "output_type": "stream",
     "text": [
      "accuracy_score 0.9999968908566311\n",
      "recall_score 1.0\n",
      "precision_score 0.9998224116497958\n",
      "f1_score 0.9999111979397922\n",
      "Model: \"model_9\"\n",
      "_________________________________________________________________\n",
      "Layer (type)                 Output Shape              Param #   \n",
      "=================================================================\n",
      "input_1 (InputLayer)         [(None, 32, 256)]         0         \n",
      "_________________________________________________________________\n",
      "bidirectional (Bidirectional (None, 32, 96)            117120    \n",
      "_________________________________________________________________\n",
      "time_distributed (TimeDistri (None, 32, 1)             97        \n",
      "=================================================================\n",
      "Total params: 117,217\n",
      "Trainable params: 117,217\n",
      "Non-trainable params: 0\n",
      "_________________________________________________________________\n",
      "======Training stage======\n",
      "Train on 90465 samples\n",
      "Epoch 1/10\n",
      "90432/90465 [============================>.] - ETA: 0s - loss: 1.5046e-05 - accuracy: 1.0000WARNING:tensorflow:Early stopping conditioned on metric `val_loss` which is not available. Available metrics are: loss,accuracy\n",
      "90465/90465 [==============================] - 140s 2ms/sample - loss: 1.5040e-05 - accuracy: 1.0000\n",
      "Epoch 2/10\n",
      "90464/90465 [============================>.] - ETA: 0s - loss: 1.5456e-05 - accuracy: 1.0000WARNING:tensorflow:Early stopping conditioned on metric `val_loss` which is not available. Available metrics are: loss,accuracy\n",
      "90465/90465 [==============================] - 91s 1ms/sample - loss: 1.5456e-05 - accuracy: 1.0000\n",
      "Epoch 3/10\n",
      "90464/90465 [============================>.] - ETA: 0s - loss: 1.0853e-05 - accuracy: 1.0000WARNING:tensorflow:Early stopping conditioned on metric `val_loss` which is not available. Available metrics are: loss,accuracy\n",
      "90465/90465 [==============================] - 90s 998us/sample - loss: 1.0853e-05 - accuracy: 1.0000\n",
      "Epoch 4/10\n",
      "90464/90465 [============================>.] - ETA: 0s - loss: 1.1344e-05 - accuracy: 1.0000 ETA: 0s - loss: 1.1369e-05 - accuracy: WARNING:tensorflow:Early stopping conditioned on metric `val_loss` which is not available. Available metrics are: loss,accuracy\n",
      "90465/90465 [==============================] - 92s 1ms/sample - loss: 1.1344e-05 - accuracy: 1.0000\n",
      "Epoch 5/10\n",
      "90464/90465 [============================>.] - ETA: 0s - loss: 1.0873e-05 - accuracy: 1.0000WARNING:tensorflow:Early stopping conditioned on metric `val_loss` which is not available. Available metrics are: loss,accuracy\n",
      "90465/90465 [==============================] - 87s 962us/sample - loss: 1.0873e-05 - accuracy: 1.0000\n",
      "Epoch 6/10\n",
      "90464/90465 [============================>.] - ETA: 0s - loss: 1.0552e-05 - accuracy: 1.0000WARNING:tensorflow:Early stopping conditioned on metric `val_loss` which is not available. Available metrics are: loss,accuracy\n",
      "90465/90465 [==============================] - 89s 980us/sample - loss: 1.0552e-05 - accuracy: 1.0000\n",
      "Epoch 7/10\n",
      "90464/90465 [============================>.] - ETA: 0s - loss: 1.0598e-05 - accuracy: 1.0000WARNING:tensorflow:Early stopping conditioned on metric `val_loss` which is not available. Available metrics are: loss,accuracy\n",
      "90465/90465 [==============================] - 83s 920us/sample - loss: 1.0598e-05 - accuracy: 1.0000\n",
      "Epoch 8/10\n",
      "90432/90465 [============================>.] - ETA: 0s - loss: 1.0541e-05 - accuracy: 1.0000WARNING:tensorflow:Early stopping conditioned on metric `val_loss` which is not available. Available metrics are: loss,accuracy\n",
      "90465/90465 [==============================] - 75s 831us/sample - loss: 1.0537e-05 - accuracy: 1.0000\n",
      "Epoch 9/10\n",
      "90464/90465 [============================>.] - ETA: 0s - loss: 1.0537e-05 - accuracy: 1.0000WARNING:tensorflow:Early stopping conditioned on metric `val_loss` which is not available. Available metrics are: loss,accuracy\n",
      "90465/90465 [==============================] - 75s 832us/sample - loss: 1.0537e-05 - accuracy: 1.0000\n",
      "Epoch 10/10\n",
      "90432/90465 [============================>.] - ETA: 0s - loss: 1.0540e-05 - accuracy: 1.0000WARNING:tensorflow:Early stopping conditioned on metric `val_loss` which is not available. Available metrics are: loss,accuracy\n",
      "90465/90465 [==============================] - 76s 842us/sample - loss: 1.0537e-05 - accuracy: 1.0000\n"
     ]
    },
    {
     "data": {
      "text/plain": [
       "<tensorflow.python.keras.callbacks.History at 0x1e79072ad08>"
      ]
     },
     "execution_count": 11,
     "metadata": {},
     "output_type": "execute_result"
    },
    {
     "name": "stdout",
     "output_type": "stream",
     "text": [
      "accuracy_score 0.9999968908566311\n",
      "recall_score 1.0\n",
      "precision_score 0.9998198198198198\n",
      "f1_score 0.9999099017929544\n",
      "\n",
      "K-fold cross validation Accuracy: [0.9999471498209311, 0.9999658028253084, 0.9999689116593713, 0.9999689116593713, 0.9999906734978113, 0.9999875646637485, 1.0, 0.9999968908566311, 0.9999968908566311, 0.9999968908566311]\n",
      "\n",
      "K-fold cross validation Recall: [0.9987049028677151, 0.9994562262098967, 0.9998218421521468, 0.9996476391825229, 1.0, 1.0, 1.0, 1.0, 1.0, 1.0]\n",
      "\n",
      "K-fold cross validation Precision: [0.9981508875739645, 0.9985512495472655, 0.9983988614125601, 0.9985920450545582, 0.999456029011786, 0.9992756247736327, 1.0, 0.999819787349072, 0.9998224116497958, 0.9998198198198198]\n",
      "\n",
      "K-fold cross validation F1-Score: [0.9984278183667807, 0.9990035329287072, 0.9991098451130497, 0.9991195633033985, 0.9997279405096581, 0.9996376811594203, 1.0, 0.9999098855546544, 0.9999111979397922, 0.9999099017929544]\n"
     ]
    }
   ],
   "source": [
    "# 교차검증 kfold\n",
    "from sklearn.model_selection import KFold\n",
    "\n",
    "# Accuracy, Precision, Recall, F1-Score\n",
    "from sklearn.metrics import accuracy_score, recall_score, precision_score, f1_score\n",
    "\n",
    "# Confusion Matrix, ROC Curve\n",
    "from sklearn.metrics import confusion_matrix, roc_auc_score\n",
    "\n",
    "# 최종 평가지표들 평균용\n",
    "accuracy, recall, precision, f1score, cm = [], [], [], [], []\n",
    "\n",
    "# 11. 교차검증 kfold - k.split - 10회 / K-Fold 객체 생성\n",
    "# kf = KFold(n_splits=10, shuffle=False, random_state=None) # KFold non shuffle 버전\n",
    "kf = KFold(n_splits=10, shuffle=True, random_state=None) # KFold non shuffle 버전\n",
    "\n",
    "for train, validation in kf.split(x_bc6_0, y_bc6_0):\n",
    "    model1 = models.Model(xInput, xOutput)\n",
    "    model1.compile(loss='binary_crossentropy', optimizer='rmsprop', metrics=['accuracy'])\n",
    "    model1.summary()\n",
    "    print('======Training stage======')\n",
    "    model1.fit(x_bc6_0[train],\n",
    "               y_bc6_0[train],\n",
    "               epochs = 10,\n",
    "               batch_size = 32,\n",
    "               callbacks=[early_stopping])\n",
    "    #k_accuracy = '%.4f' %(model1.evaluate(data_10000x[validation], data_10000y[validation])[1])\n",
    "\n",
    "# 12. 교차검증결과 predict - 검증셋들\n",
    "    # predict 값\n",
    "    k_pr = model1.predict(x_bc6_0[validation])\n",
    "    \n",
    "    # 테스트 predict 결과들 비교 (평가지표 보기위함)\n",
    "    pred = np.round(np.array(k_pr).flatten().tolist())\n",
    "    y_test = np.array(y_bc6_0[validation]).flatten().tolist()\n",
    "    \n",
    "# 13. 평가지표들 출력\n",
    "    ## 평가지표들\n",
    "    k_accuracy = float(accuracy_score(y_test, pred))\n",
    "    k_recall =  float(recall_score(y_test, pred))\n",
    "    k_precision = float(precision_score(y_test, pred))\n",
    "    k_f1_score = float(f1_score(y_test, pred))\n",
    "    #k_cm = float(confusion_matrix(y_test, pred))\n",
    "    \n",
    "    print('accuracy_score', k_accuracy)\n",
    "    print('recall_score', k_recall)\n",
    "    print('precision_score', k_precision)\n",
    "    print('f1_score', k_f1_score)\n",
    "    #print('\\nconfusion_matrix\\n', k_cm)\n",
    "\n",
    "    accuracy.append(k_accuracy)\n",
    "    recall.append(k_recall)\n",
    "    precision.append(k_precision)\n",
    "    f1score.append(k_f1_score)\n",
    "    #cm.append(k_cm)\n",
    "#    print('roc_curve 면적', roc_auc_score(y_test, pred))\n",
    "\n",
    "# 최종 결과지표\n",
    "print('\\nK-fold cross validation Accuracy: {}'.format(accuracy))\n",
    "print('\\nK-fold cross validation Recall: {}'.format(recall))\n",
    "print('\\nK-fold cross validation Precision: {}'.format(precision))\n",
    "print('\\nK-fold cross validation F1-Score: {}'.format(f1score))\n",
    "#print('\\nK-fold cross validation ConfusionMatrix: {}'.format(cm))"
   ]
  },
  {
   "cell_type": "markdown",
   "metadata": {},
   "source": [
    "## (9) 평가지표"
   ]
  },
  {
   "cell_type": "code",
   "execution_count": 12,
   "metadata": {},
   "outputs": [
    {
     "name": "stdout",
     "output_type": "stream",
     "text": [
      "10-Fold Cross_validation. Accuracy : 0.9999819686696435\n",
      "10-Fold Cross_validation. Recall : 0.9997630610412281\n",
      "10-Fold Cross_validation. Precision : 0.9991886716192454\n",
      "10-Fold Cross_validation. F1-Score : 0.9994757366668414\n"
     ]
    }
   ],
   "source": [
    "print('10-Fold Cross_validation. Accuracy :', np.mean(accuracy))\n",
    "print('10-Fold Cross_validation. Recall :', np.mean(recall))\n",
    "print('10-Fold Cross_validation. Precision :', np.mean(precision))\n",
    "print('10-Fold Cross_validation. F1-Score :', np.mean(f1score))"
   ]
  },
  {
   "cell_type": "code",
   "execution_count": 13,
   "metadata": {},
   "outputs": [
    {
     "name": "stdout",
     "output_type": "stream",
     "text": [
      "save 완료\n"
     ]
    }
   ],
   "source": [
    "model1.save('gcc6_bin_core_s32_h48_o0.h5')\n",
    "print('save 완료')"
   ]
  }
 ],
 "metadata": {
  "kernelspec": {
   "display_name": "Python 3",
   "language": "python",
   "name": "python3"
  },
  "language_info": {
   "codemirror_mode": {
    "name": "ipython",
    "version": 3
   },
   "file_extension": ".py",
   "mimetype": "text/x-python",
   "name": "python",
   "nbconvert_exporter": "python",
   "pygments_lexer": "ipython3",
   "version": "3.7.9"
  }
 },
 "nbformat": 4,
 "nbformat_minor": 4
}
