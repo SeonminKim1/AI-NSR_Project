{
 "cells": [
  {
   "cell_type": "markdown",
   "metadata": {},
   "source": [
    "## RNN 모델 N-Byte 방식 (함수정보 포함 vs 미포함 => 1:1 비율)\n",
    "\n",
    "## (1) 데이터로드"
   ]
  },
  {
   "cell_type": "code",
   "execution_count": 1,
   "metadata": {},
   "outputs": [
    {
     "name": "stdout",
     "output_type": "stream",
     "text": [
      "(27602871, 2)\n",
      "shape - (27602871, 2)\n",
      "reset_index 완료\n",
      "input data shape\n"
     ]
    },
    {
     "data": {
      "text/html": [
       "<div>\n",
       "<style scoped>\n",
       "    .dataframe tbody tr th:only-of-type {\n",
       "        vertical-align: middle;\n",
       "    }\n",
       "\n",
       "    .dataframe tbody tr th {\n",
       "        vertical-align: top;\n",
       "    }\n",
       "\n",
       "    .dataframe thead th {\n",
       "        text-align: right;\n",
       "    }\n",
       "</style>\n",
       "<table border=\"1\" class=\"dataframe\">\n",
       "  <thead>\n",
       "    <tr style=\"text-align: right;\">\n",
       "      <th></th>\n",
       "      <th>bin</th>\n",
       "      <th>label</th>\n",
       "    </tr>\n",
       "  </thead>\n",
       "  <tbody>\n",
       "    <tr>\n",
       "      <th>0</th>\n",
       "      <td>47</td>\n",
       "      <td>0</td>\n",
       "    </tr>\n",
       "    <tr>\n",
       "      <th>1</th>\n",
       "      <td>108</td>\n",
       "      <td>0</td>\n",
       "    </tr>\n",
       "    <tr>\n",
       "      <th>2</th>\n",
       "      <td>105</td>\n",
       "      <td>0</td>\n",
       "    </tr>\n",
       "    <tr>\n",
       "      <th>3</th>\n",
       "      <td>98</td>\n",
       "      <td>0</td>\n",
       "    </tr>\n",
       "    <tr>\n",
       "      <th>4</th>\n",
       "      <td>47</td>\n",
       "      <td>0</td>\n",
       "    </tr>\n",
       "  </tbody>\n",
       "</table>\n",
       "</div>"
      ],
      "text/plain": [
       "   bin  label\n",
       "0   47      0\n",
       "1  108      0\n",
       "2  105      0\n",
       "3   98      0\n",
       "4   47      0"
      ]
     },
     "execution_count": 1,
     "metadata": {},
     "output_type": "execute_result"
    }
   ],
   "source": [
    "# (1) 데이터로드\n",
    "import pandas as pd\n",
    "import numpy as np\n",
    "\n",
    "import warnings\n",
    "warnings.filterwarnings(action='ignore')\n",
    "\n",
    "# 여러개 쳐도 나오게\n",
    "from IPython.core.interactiveshell import InteractiveShell\n",
    "InteractiveShell.ast_node_interactivity = \"all\"\n",
    "\n",
    "# 파일읽기\n",
    "bin6_1 = pd.read_csv(\"../../바이너리_최종데이터_1004/gcc6/o1/o1_bincore6.csv\", index_col=0)\n",
    "print(bin6_1.shape)\n",
    "\n",
    "# reset_index (hex processing 하면서 값이 빠졌으니까 + n_gram 에서 index를 다루기 때문에)\n",
    "bin6_1.reset_index(inplace=True, drop=True)\n",
    "\n",
    "print('shape -', bin6_1.shape)\n",
    "print('reset_index 완료')\n",
    "print('input data shape')\n",
    "bin6_1.head()"
   ]
  },
  {
   "cell_type": "code",
   "execution_count": 2,
   "metadata": {},
   "outputs": [
    {
     "name": "stdout",
     "output_type": "stream",
     "text": [
      "256\n",
      "0    27564156\n",
      "1       38715\n",
      "Name: label, dtype: int64\n"
     ]
    }
   ],
   "source": [
    "# (2-1) 데이터체크 1 - hex(16진수)가 256 label을 가져야 dummies 변환 가능 \n",
    "# 16진수 256개 종류가 있어서 pd.get_dummies 사용 가능.\n",
    "print(len(bin6_1['bin'].unique()))\n",
    "\n",
    "# (2-2) 데이터 체크 2 - 1, 0 비율 ==> 1이 함수의 갯수를 뜻함\n",
    "# 정답 데이터 1, 0 비율 확인  ==> 1이 함수의 갯수를 뜻함\n",
    "print(bin6_1['label'].value_counts())"
   ]
  },
  {
   "cell_type": "markdown",
   "metadata": {},
   "source": [
    "## (3) N Byte씩 자르기"
   ]
  },
  {
   "cell_type": "code",
   "execution_count": 3,
   "metadata": {},
   "outputs": [
    {
     "name": "stdout",
     "output_type": "stream",
     "text": [
      "1238880\n",
      "나머지 0\n",
      "최종 길이 1238880\n",
      "bin6_1 1238880\n"
     ]
    }
   ],
   "source": [
    "idx_bin = bin6_1[bin6_1['label']==1].index  # 407, 474 ...\n",
    "ls_bin = list(idx_bin)\n",
    "\n",
    "# 최종 뽑을 행에 대한 index\n",
    "ls_idx_bin = []\n",
    "\n",
    "# n byte 자르기 방식\n",
    "left_idx, right_idx = 0, 32 # 3개씩\n",
    "\n",
    "# n byte 자르기\n",
    "for k in range(left_idx, right_idx):\n",
    "    ls_idx_bin.extend(list(idx_bin + k)) # index 형이라서 가능\n",
    "\n",
    "#ls_idx = list(set(ls_idx)) \n",
    "ls_idx_bin.sort() # 인덱스 정렬\n",
    "\n",
    "# 1차 index 해당범위 초과한 것들 없애기\n",
    "ls_idx_bin = list(filter(lambda x: x<len(bin6_1), ls_idx_bin))\n",
    "print(len(ls_idx_bin))\n",
    "\n",
    "# 2차 남은 index들 중 right_idx 나눈 나머지 없애기\n",
    "sub_bin = len(ls_idx_bin)%(right_idx)\n",
    "print('나머지', sub_bin)\n",
    "\n",
    "ls_idx_bin = ls_idx_bin[:len(ls_idx_bin)-sub_bin]\n",
    "print('최종 길이', len(ls_idx_bin))\n",
    "\n",
    "print('bin6_1', len(ls_idx_bin))\n",
    "\n",
    "# loc 로 수정필요\n",
    "bin6_1_Ngram = bin6_1.loc[ls_idx_bin,:].copy()"
   ]
  },
  {
   "cell_type": "markdown",
   "metadata": {},
   "source": [
    "## (4) false data 만들기"
   ]
  },
  {
   "cell_type": "code",
   "execution_count": 4,
   "metadata": {},
   "outputs": [
    {
     "name": "stdout",
     "output_type": "stream",
     "text": [
      "38715.0\n",
      "0 21952838\n",
      "1000 19616190\n",
      "2000 13280322\n",
      "3000 26698628\n",
      "4000 8010403\n",
      "5000 6718210\n",
      "6000 18923669\n",
      "7000 4736993\n",
      "8000 24113196\n",
      "9000 19344805\n",
      "10000 10007152\n",
      "11000 27023676\n",
      "12000 25167054\n",
      "13000 8729906\n",
      "14000 13790611\n",
      "15000 18257769\n",
      "16000 12158697\n",
      "17000 3665819\n",
      "18000 18563249\n",
      "19000 14957398\n",
      "20000 20719320\n",
      "21000 11574834\n",
      "22000 12529994\n",
      "23000 3576741\n",
      "24000 8075221\n",
      "25000 13928663\n",
      "26000 23770402\n",
      "27000 21293455\n",
      "28000 20592441\n",
      "29000 8591949\n",
      "30000 21086772\n",
      "31000 24731345\n",
      "32000 15749283\n",
      "33000 15684020\n",
      "34000 21644443\n",
      "35000 2882086\n",
      "36000 9916986\n",
      "37000 2111510\n",
      "38000 20357671\n",
      "완료\n",
      "38715\n"
     ]
    }
   ],
   "source": [
    "# false data 만들기 - False 데이터 랜덤 생성\n",
    "\n",
    "# 목표치\n",
    "goal_bin = len(bin6_1_Ngram)/right_idx\n",
    "count_bin = 0\n",
    "\n",
    "print(goal_bin)\n",
    "\n",
    "# 최종 데이터 Frame\n",
    "d_bin = pd.DataFrame(columns = bin6_1.columns)\n",
    "\n",
    "binutils_df = []\n",
    "# goal 에 도달할 때까지\n",
    "while True:\n",
    "    if (count_bin == goal_bin):\n",
    "            break\n",
    "    # 진행상황 살펴보기 위함\n",
    "            \n",
    "    # 랜덤 N 바이트씩 뽑음\n",
    "    # random index\n",
    "    random_idx_bin = np.random.randint(len(bin6_1)-right_idx)\n",
    "\n",
    "    if count_bin % 1000==0:\n",
    "        print(count_bin, end=' ')\n",
    "        print(random_idx_bin)\n",
    "\n",
    "    df_bin = bin6_1[random_idx_bin : random_idx_bin + right_idx]\n",
    "    \n",
    "    # 뽑은 index의 N 바이트 중에 1이 없는 경우만\n",
    "    if 1 not in df_bin['label'] and count_bin < goal_bin:\n",
    "        binutils_df.append(df_bin)\n",
    "        count_bin+=1\n",
    "\n",
    "print('완료')\n",
    "print(len(binutils_df))"
   ]
  },
  {
   "cell_type": "code",
   "execution_count": 5,
   "metadata": {},
   "outputs": [
    {
     "name": "stdout",
     "output_type": "stream",
     "text": [
      "38715\n",
      "38715\n"
     ]
    }
   ],
   "source": [
    "# True data와 False Data 같은지 체크\n",
    "print(len(binutils_df))\n",
    "print(bin6_1['label'].value_counts()[1])"
   ]
  },
  {
   "cell_type": "markdown",
   "metadata": {},
   "source": [
    "## (5) False Data + True Data 합치기"
   ]
  },
  {
   "cell_type": "code",
   "execution_count": 6,
   "metadata": {},
   "outputs": [
    {
     "data": {
      "text/plain": [
       "(2477760, 2)"
      ]
     },
     "execution_count": 6,
     "metadata": {},
     "output_type": "execute_result"
    }
   ],
   "source": [
    "f_data = pd.concat(binutils_df)\n",
    "final = pd.concat([f_data, bin6_1_Ngram])\n",
    "final.shape"
   ]
  },
  {
   "cell_type": "markdown",
   "metadata": {},
   "source": [
    "## (6) one hot encoding"
   ]
  },
  {
   "cell_type": "code",
   "execution_count": 7,
   "metadata": {},
   "outputs": [
    {
     "name": "stdout",
     "output_type": "stream",
     "text": [
      "원핫인코딩완료\n",
      "(2477760, 257)\n"
     ]
    }
   ],
   "source": [
    "# 훈련데이터 (gcc 최적화버전 0, 1, 2, 3 one hot encoding)\n",
    "bc6_1_onehot_Ngram = pd.get_dummies(final['bin'])\n",
    "bc6_1_onehot_Ngram = pd.concat([final['label'], bc6_1_onehot_Ngram], axis=1)\n",
    "\n",
    "print('원핫인코딩완료')\n",
    "print(bc6_1_onehot_Ngram.shape)"
   ]
  },
  {
   "cell_type": "code",
   "execution_count": 8,
   "metadata": {},
   "outputs": [
    {
     "name": "stdout",
     "output_type": "stream",
     "text": [
      "(2477760, 256) (2477760, 256)\n",
      "(77430, 32, 256) (77430, 32, 1)\n"
     ]
    }
   ],
   "source": [
    "# 훈련 데이터, 훈련 라벨\n",
    "x_bc6_1 = bc6_1_onehot_Ngram.iloc[:,1:].to_numpy()\n",
    "y_bc6_1 = bc6_1_onehot_Ngram['label'].to_numpy()\n",
    "print(x_bc6_1.shape, x_bc6_1.shape)\n",
    "\n",
    "x_bc6_1 = x_bc6_1.reshape(-1, right_idx, x_bc6_1.shape[1])\n",
    "y_bc6_1 = y_bc6_1.reshape(-1, right_idx, 1)\n",
    "\n",
    "print(x_bc6_1.shape, y_bc6_1.shape)"
   ]
  },
  {
   "cell_type": "code",
   "execution_count": 9,
   "metadata": {},
   "outputs": [
    {
     "name": "stdout",
     "output_type": "stream",
     "text": [
      "(77430, 32, 256) (77430, 32, 1)\n"
     ]
    }
   ],
   "source": [
    "# numpy 행, 열 섞기\n",
    "p = np.random.permutation(x_bc6_1.shape[0])\n",
    "\n",
    "x_bc6_1 = x_bc6_1[p]\n",
    "y_bc6_1 = y_bc6_1[p]\n",
    "\n",
    "print(x_bc6_1.shape, y_bc6_1.shape)"
   ]
  },
  {
   "cell_type": "markdown",
   "metadata": {},
   "source": [
    "## (7) 모델"
   ]
  },
  {
   "cell_type": "code",
   "execution_count": 10,
   "metadata": {},
   "outputs": [],
   "source": [
    "# (10) 양방향 LSTM 모델링 작업\n",
    "from tensorflow.keras import layers, models\n",
    "#from tf.keras.models import Model, Sequential\n",
    "#from tf.keras.layers import SimpleRNN, Input, Dense, LSTM\n",
    "#from tf.keras.layers import Bidirectional, TimeDistributed\n",
    "\n",
    "# 학습\n",
    "from tensorflow.keras.callbacks import EarlyStopping\n",
    "early_stopping = EarlyStopping(patience = 3) # 조기종료 콜백함수 정의\n",
    "\n",
    "xInput = layers.Input(batch_shape=(None,right_idx, 256)) \n",
    "xBiLstm = layers.Bidirectional(layers.LSTM(48, return_sequences=True, stateful=False), merge_mode = 'concat')(xInput)\n",
    "xOutput = layers.TimeDistributed(layers.Dense(1, activation ='sigmoid'))(xBiLstm) # 각 스텝에서 cost가 전송되고, 오류가 다음 step으로 전송됨."
   ]
  },
  {
   "cell_type": "markdown",
   "metadata": {},
   "source": [
    "## (8) 학습 - 10 KFold"
   ]
  },
  {
   "cell_type": "code",
   "execution_count": 11,
   "metadata": {
    "scrolled": false
   },
   "outputs": [
    {
     "name": "stdout",
     "output_type": "stream",
     "text": [
      "Model: \"model\"\n",
      "_________________________________________________________________\n",
      "Layer (type)                 Output Shape              Param #   \n",
      "=================================================================\n",
      "input_1 (InputLayer)         [(None, 32, 256)]         0         \n",
      "_________________________________________________________________\n",
      "bidirectional (Bidirectional (None, 32, 96)            117120    \n",
      "_________________________________________________________________\n",
      "time_distributed (TimeDistri (None, 32, 1)             97        \n",
      "=================================================================\n",
      "Total params: 117,217\n",
      "Trainable params: 117,217\n",
      "Non-trainable params: 0\n",
      "_________________________________________________________________\n",
      "======Training stage======\n",
      "Train on 69687 samples\n",
      "Epoch 1/10\n",
      "69664/69687 [============================>.] - ETA: 0s - loss: 0.0153 - accuracy: 0.9957WARNING:tensorflow:Early stopping conditioned on metric `val_loss` which is not available. Available metrics are: loss,accuracy\n",
      "69687/69687 [==============================] - 75s 1ms/sample - loss: 0.0153 - accuracy: 0.9957\n",
      "Epoch 2/10\n",
      "69664/69687 [============================>.] - ETA: 0s - loss: 0.0023 - accuracy: 0.9993WARNING:tensorflow:Early stopping conditioned on metric `val_loss` which is not available. Available metrics are: loss,accuracy\n",
      "69687/69687 [==============================] - 68s 982us/sample - loss: 0.0023 - accuracy: 0.9993\n",
      "Epoch 3/10\n",
      "69664/69687 [============================>.] - ETA: 0s - loss: 0.0015 - accuracy: 0.9995WARNING:tensorflow:Early stopping conditioned on metric `val_loss` which is not available. Available metrics are: loss,accuracy\n",
      "69687/69687 [==============================] - 112s 2ms/sample - loss: 0.0015 - accuracy: 0.9995\n",
      "Epoch 4/10\n",
      "69664/69687 [============================>.] - ETA: 0s - loss: 0.0011 - accuracy: 0.9997WARNING:tensorflow:Early stopping conditioned on metric `val_loss` which is not available. Available metrics are: loss,accuracy\n",
      "69687/69687 [==============================] - 110s 2ms/sample - loss: 0.0011 - accuracy: 0.9997\n",
      "Epoch 5/10\n",
      "69664/69687 [============================>.] - ETA: 0s - loss: 8.2308e-04 - accuracy: 0.9998WARNING:tensorflow:Early stopping conditioned on metric `val_loss` which is not available. Available metrics are: loss,accuracy\n",
      "69687/69687 [==============================] - 127s 2ms/sample - loss: 8.2283e-04 - accuracy: 0.9998\n",
      "Epoch 6/10\n",
      "69632/69687 [============================>.] - ETA: 0s - loss: 6.7969e-04 - accuracy: 0.9998WARNING:tensorflow:Early stopping conditioned on metric `val_loss` which is not available. Available metrics are: loss,accuracy\n",
      "69687/69687 [==============================] - 126s 2ms/sample - loss: 6.7933e-04 - accuracy: 0.9998\n",
      "Epoch 7/10\n",
      "69632/69687 [============================>.] - ETA: 0s - loss: 5.4279e-04 - accuracy: 0.9998WARNING:tensorflow:Early stopping conditioned on metric `val_loss` which is not available. Available metrics are: loss,accuracy\n",
      "69687/69687 [==============================] - 104s 1ms/sample - loss: 5.4258e-04 - accuracy: 0.9998\n",
      "Epoch 8/10\n",
      "69664/69687 [============================>.] - ETA: 0s - loss: 4.5078e-04 - accuracy: 0.9999WARNING:tensorflow:Early stopping conditioned on metric `val_loss` which is not available. Available metrics are: loss,accuracy\n",
      "69687/69687 [==============================] - 104s 1ms/sample - loss: 4.5063e-04 - accuracy: 0.9999\n",
      "Epoch 9/10\n",
      "69664/69687 [============================>.] - ETA: 0s - loss: 3.9057e-04 - accuracy: 0.9999WARNING:tensorflow:Early stopping conditioned on metric `val_loss` which is not available. Available metrics are: loss,accuracy\n",
      "69687/69687 [==============================] - 109s 2ms/sample - loss: 3.9045e-04 - accuracy: 0.9999\n",
      "Epoch 10/10\n",
      "69664/69687 [============================>.] - ETA: 0s - loss: 3.5696e-04 - accuracy: 0.9999 ETA: 1s - lWARNING:tensorflow:Early stopping conditioned on metric `val_loss` which is not available. Available metrics are: loss,accuracy\n",
      "69687/69687 [==============================] - 119s 2ms/sample - loss: 3.5684e-04 - accuracy: 0.9999\n"
     ]
    },
    {
     "data": {
      "text/plain": [
       "<tensorflow.python.keras.callbacks.History at 0x1ecabb31ac8>"
      ]
     },
     "execution_count": 11,
     "metadata": {},
     "output_type": "execute_result"
    },
    {
     "name": "stdout",
     "output_type": "stream",
     "text": [
      "accuracy_score 0.9998466356709286\n",
      "recall_score 0.9979070740895772\n",
      "precision_score 0.994161801501251\n",
      "f1_score 0.9960309170670565\n",
      "Model: \"model_1\"\n",
      "_________________________________________________________________\n",
      "Layer (type)                 Output Shape              Param #   \n",
      "=================================================================\n",
      "input_1 (InputLayer)         [(None, 32, 256)]         0         \n",
      "_________________________________________________________________\n",
      "bidirectional (Bidirectional (None, 32, 96)            117120    \n",
      "_________________________________________________________________\n",
      "time_distributed (TimeDistri (None, 32, 1)             97        \n",
      "=================================================================\n",
      "Total params: 117,217\n",
      "Trainable params: 117,217\n",
      "Non-trainable params: 0\n",
      "_________________________________________________________________\n",
      "======Training stage======\n",
      "Train on 69687 samples\n",
      "Epoch 1/10\n",
      "69664/69687 [============================>.] - ETA: 0s - loss: 3.2910e-04 - accuracy: 0.9999WARNING:tensorflow:Early stopping conditioned on metric `val_loss` which is not available. Available metrics are: loss,accuracy\n",
      "69687/69687 [==============================] - 155s 2ms/sample - loss: 3.2920e-04 - accuracy: 0.9999\n",
      "Epoch 2/10\n",
      "69664/69687 [============================>.] - ETA: 0s - loss: 2.8366e-04 - accuracy: 0.9999WARNING:tensorflow:Early stopping conditioned on metric `val_loss` which is not available. Available metrics are: loss,accuracy\n",
      "69687/69687 [==============================] - 97s 1ms/sample - loss: 2.8365e-04 - accuracy: 0.9999\n",
      "Epoch 3/10\n",
      "69664/69687 [============================>.] - ETA: 0s - loss: 2.2972e-04 - accuracy: 0.9999WARNING:tensorflow:Early stopping conditioned on metric `val_loss` which is not available. Available metrics are: loss,accuracy\n",
      "69687/69687 [==============================] - 102s 1ms/sample - loss: 2.2965e-04 - accuracy: 0.9999\n",
      "Epoch 4/10\n",
      "69632/69687 [============================>.] - ETA: 0s - loss: 2.1149e-04 - accuracy: 0.9999WARNING:tensorflow:Early stopping conditioned on metric `val_loss` which is not available. Available metrics are: loss,accuracy\n",
      "69687/69687 [==============================] - 109s 2ms/sample - loss: 2.1133e-04 - accuracy: 0.9999\n",
      "Epoch 5/10\n",
      "69664/69687 [============================>.] - ETA: 0s - loss: 1.6350e-04 - accuracy: 1.0000WARNING:tensorflow:Early stopping conditioned on metric `val_loss` which is not available. Available metrics are: loss,accuracy\n",
      "69687/69687 [==============================] - 108s 2ms/sample - loss: 1.6345e-04 - accuracy: 1.0000\n",
      "Epoch 6/10\n",
      "69664/69687 [============================>.] - ETA: 0s - loss: 1.5756e-04 - accuracy: 1.0000WARNING:tensorflow:Early stopping conditioned on metric `val_loss` which is not available. Available metrics are: loss,accuracy\n",
      "69687/69687 [==============================] - 128s 2ms/sample - loss: 1.5751e-04 - accuracy: 1.0000\n",
      "Epoch 7/10\n",
      "69664/69687 [============================>.] - ETA: 0s - loss: 1.1543e-04 - accuracy: 1.0000WARNING:tensorflow:Early stopping conditioned on metric `val_loss` which is not available. Available metrics are: loss,accuracy\n",
      "69687/69687 [==============================] - 130s 2ms/sample - loss: 1.1539e-04 - accuracy: 1.0000\n",
      "Epoch 8/10\n",
      "69664/69687 [============================>.] - ETA: 0s - loss: 1.1258e-04 - accuracy: 1.0000WARNING:tensorflow:Early stopping conditioned on metric `val_loss` which is not available. Available metrics are: loss,accuracy\n",
      "69687/69687 [==============================] - 118s 2ms/sample - loss: 1.1255e-04 - accuracy: 1.0000\n",
      "Epoch 9/10\n",
      "69664/69687 [============================>.] - ETA: 0s - loss: 9.6106e-05 - accuracy: 1.0000WARNING:tensorflow:Early stopping conditioned on metric `val_loss` which is not available. Available metrics are: loss,accuracy\n",
      "69687/69687 [==============================] - 102s 1ms/sample - loss: 9.6074e-05 - accuracy: 1.0000\n",
      "Epoch 10/10\n",
      "69664/69687 [============================>.] - ETA: 0s - loss: 8.3674e-05 - accuracy: 1.0000WARNING:tensorflow:Early stopping conditioned on metric `val_loss` which is not available. Available metrics are: loss,accuracy\n",
      "69687/69687 [==============================] - 93s 1ms/sample - loss: 8.3657e-05 - accuracy: 1.0000\n"
     ]
    },
    {
     "data": {
      "text/plain": [
       "<tensorflow.python.keras.callbacks.History at 0x1ecd1dbd848>"
      ]
     },
     "execution_count": 11,
     "metadata": {},
     "output_type": "execute_result"
    },
    {
     "name": "stdout",
     "output_type": "stream",
     "text": [
      "accuracy_score 0.9998587433811185\n",
      "recall_score 0.9971086327963652\n",
      "precision_score 0.995669210146422\n",
      "f1_score 0.996388401609741\n",
      "Model: \"model_2\"\n",
      "_________________________________________________________________\n",
      "Layer (type)                 Output Shape              Param #   \n",
      "=================================================================\n",
      "input_1 (InputLayer)         [(None, 32, 256)]         0         \n",
      "_________________________________________________________________\n",
      "bidirectional (Bidirectional (None, 32, 96)            117120    \n",
      "_________________________________________________________________\n",
      "time_distributed (TimeDistri (None, 32, 1)             97        \n",
      "=================================================================\n",
      "Total params: 117,217\n",
      "Trainable params: 117,217\n",
      "Non-trainable params: 0\n",
      "_________________________________________________________________\n",
      "======Training stage======\n",
      "Train on 69687 samples\n",
      "Epoch 1/10\n",
      "69632/69687 [============================>.] - ETA: 0s - loss: 1.5333e-04 - accuracy: 1.0000WARNING:tensorflow:Early stopping conditioned on metric `val_loss` which is not available. Available metrics are: loss,accuracy\n",
      "69687/69687 [==============================] - 118s 2ms/sample - loss: 1.5321e-04 - accuracy: 1.0000\n",
      "Epoch 2/10\n",
      "69632/69687 [============================>.] - ETA: 0s - loss: 1.1842e-04 - accuracy: 1.0000WARNING:tensorflow:Early stopping conditioned on metric `val_loss` which is not available. Available metrics are: loss,accuracy\n",
      "69687/69687 [==============================] - 101s 1ms/sample - loss: 1.1832e-04 - accuracy: 1.0000\n",
      "Epoch 3/10\n",
      "69632/69687 [============================>.] - ETA: 0s - loss: 8.9195e-05 - accuracy: 1.0000 ETAWARNING:tensorflow:Early stopping conditioned on metric `val_loss` which is not available. Available metrics are: loss,accuracy\n",
      "69687/69687 [==============================] - 101s 1ms/sample - loss: 8.9124e-05 - accuracy: 1.0000\n",
      "Epoch 4/10\n",
      "69632/69687 [============================>.] - ETA: 0s - loss: 6.6204e-05 - accuracy: 1.0000WARNING:tensorflow:Early stopping conditioned on metric `val_loss` which is not available. Available metrics are: loss,accuracy\n",
      "69687/69687 [==============================] - 102s 1ms/sample - loss: 6.6152e-05 - accuracy: 1.0000\n",
      "Epoch 5/10\n",
      "69664/69687 [============================>.] - ETA: 0s - loss: 5.7234e-05 - accuracy: 1.0000WARNING:tensorflow:Early stopping conditioned on metric `val_loss` which is not available. Available metrics are: loss,accuracy\n",
      "69687/69687 [==============================] - 102s 1ms/sample - loss: 5.7215e-05 - accuracy: 1.0000\n",
      "Epoch 6/10\n",
      "69632/69687 [============================>.] - ETA: 0s - loss: 5.1782e-05 - accuracy: 1.0000WARNING:tensorflow:Early stopping conditioned on metric `val_loss` which is not available. Available metrics are: loss,accuracy\n",
      "69687/69687 [==============================] - 102s 1ms/sample - loss: 5.1746e-05 - accuracy: 1.0000\n",
      "Epoch 7/10\n",
      "69664/69687 [============================>.] - ETA: 0s - loss: 4.2659e-05 - accuracy: 1.0000 ETA: 0s - loss: 4.2972eWARNING:tensorflow:Early stopping conditioned on metric `val_loss` which is not available. Available metrics are: loss,accuracy\n",
      "69687/69687 [==============================] - 101s 1ms/sample - loss: 4.2645e-05 - accuracy: 1.0000\n",
      "Epoch 8/10\n",
      "69632/69687 [============================>.] - ETA: 0s - loss: 3.7069e-05 - accuracy: 1.0000WARNING:tensorflow:Early stopping conditioned on metric `val_loss` which is not available. Available metrics are: loss,accuracy\n",
      "69687/69687 [==============================] - 101s 1ms/sample - loss: 3.7039e-05 - accuracy: 1.0000\n",
      "Epoch 9/10\n",
      "69632/69687 [============================>.] - ETA: 0s - loss: 3.2340e-05 - accuracy: 1.0000WARNING:tensorflow:Early stopping conditioned on metric `val_loss` which is not available. Available metrics are: loss,accuracy\n",
      "69687/69687 [==============================] - 101s 1ms/sample - loss: 3.2794e-05 - accuracy: 1.0000\n",
      "Epoch 10/10\n",
      "69664/69687 [============================>.] - ETA: 0s - loss: 3.9878e-05 - accuracy: 1.0000WARNING:tensorflow:Early stopping conditioned on metric `val_loss` which is not available. Available metrics are: loss,accuracy\n",
      "69687/69687 [==============================] - 88s 1ms/sample - loss: 3.9864e-05 - accuracy: 1.0000\n"
     ]
    },
    {
     "data": {
      "text/plain": [
       "<tensorflow.python.keras.callbacks.History at 0x1ecdfb675c8>"
      ]
     },
     "execution_count": 11,
     "metadata": {},
     "output_type": "execute_result"
    },
    {
     "name": "stdout",
     "output_type": "stream",
     "text": [
      "accuracy_score 0.9999556050626373\n",
      "recall_score 0.999171327946965\n",
      "precision_score 0.9985507246376811\n",
      "f1_score 0.9988609298954126\n",
      "Model: \"model_3\"\n",
      "_________________________________________________________________\n",
      "Layer (type)                 Output Shape              Param #   \n",
      "=================================================================\n",
      "input_1 (InputLayer)         [(None, 32, 256)]         0         \n",
      "_________________________________________________________________\n",
      "bidirectional (Bidirectional (None, 32, 96)            117120    \n",
      "_________________________________________________________________\n",
      "time_distributed (TimeDistri (None, 32, 1)             97        \n",
      "=================================================================\n",
      "Total params: 117,217\n",
      "Trainable params: 117,217\n",
      "Non-trainable params: 0\n",
      "_________________________________________________________________\n",
      "======Training stage======\n",
      "Train on 69687 samples\n",
      "Epoch 1/10\n",
      "69632/69687 [============================>.] - ETA: 0s - loss: 4.9298e-05 - accuracy: 1.0000WARNING:tensorflow:Early stopping conditioned on metric `val_loss` which is not available. Available metrics are: loss,accuracy\n",
      "69687/69687 [==============================] - 122s 2ms/sample - loss: 4.9259e-05 - accuracy: 1.0000\n",
      "Epoch 2/10\n",
      "69664/69687 [============================>.] - ETA: 0s - loss: 2.8381e-05 - accuracy: 1.0000WARNING:tensorflow:Early stopping conditioned on metric `val_loss` which is not available. Available metrics are: loss,accuracy\n",
      "69687/69687 [==============================] - 95s 1ms/sample - loss: 2.8371e-05 - accuracy: 1.0000\n",
      "Epoch 3/10\n",
      "69664/69687 [============================>.] - ETA: 0s - loss: 1.7699e-05 - accuracy: 1.0000WARNING:tensorflow:Early stopping conditioned on metric `val_loss` which is not available. Available metrics are: loss,accuracy\n",
      "69687/69687 [==============================] - 101s 1ms/sample - loss: 1.7694e-05 - accuracy: 1.0000\n",
      "Epoch 4/10\n",
      "69632/69687 [============================>.] - ETA: 0s - loss: 1.4429e-05 - accuracy: 1.0000WARNING:tensorflow:Early stopping conditioned on metric `val_loss` which is not available. Available metrics are: loss,accuracy\n",
      "69687/69687 [==============================] - 100s 1ms/sample - loss: 1.4417e-05 - accuracy: 1.0000\n",
      "Epoch 5/10\n",
      "69632/69687 [============================>.] - ETA: 0s - loss: 1.8403e-05 - accuracy: 1.0000WARNING:tensorflow:Early stopping conditioned on metric `val_loss` which is not available. Available metrics are: loss,accuracy\n",
      "69687/69687 [==============================] - 101s 1ms/sample - loss: 1.8389e-05 - accuracy: 1.0000\n",
      "Epoch 6/10\n",
      "69664/69687 [============================>.] - ETA: 0s - loss: 1.4444e-05 - accuracy: 1.0000WARNING:tensorflow:Early stopping conditioned on metric `val_loss` which is not available. Available metrics are: loss,accuracy\n",
      "69687/69687 [==============================] - 98s 1ms/sample - loss: 1.4439e-05 - accuracy: 1.0000\n",
      "Epoch 7/10\n",
      "69664/69687 [============================>.] - ETA: 0s - loss: 5.0968e-06 - accuracy: 1.0000WARNING:tensorflow:Early stopping conditioned on metric `val_loss` which is not available. Available metrics are: loss,accuracy\n",
      "69687/69687 [==============================] - 98s 1ms/sample - loss: 5.0953e-06 - accuracy: 1.0000\n",
      "Epoch 8/10\n",
      "69632/69687 [============================>.] - ETA: 0s - loss: 6.5177e-06 - accuracy: 1.0000WARNING:tensorflow:Early stopping conditioned on metric `val_loss` which is not available. Available metrics are: loss,accuracy\n",
      "69687/69687 [==============================] - 98s 1ms/sample - loss: 6.5126e-06 - accuracy: 1.0000\n",
      "Epoch 9/10\n",
      "69664/69687 [============================>.] - ETA: 0s - loss: 7.3447e-06 - accuracy: 1.0000 ETA: 1s -WARNING:tensorflow:Early stopping conditioned on metric `val_loss` which is not available. Available metrics are: loss,accuracy\n",
      "69687/69687 [==============================] - 99s 1ms/sample - loss: 7.3423e-06 - accuracy: 1.0000\n",
      "Epoch 10/10\n",
      "69632/69687 [============================>.] - ETA: 0s - loss: 9.1541e-06 - accuracy: 1.0000WARNING:tensorflow:Early stopping conditioned on metric `val_loss` which is not available. Available metrics are: loss,accuracy\n",
      "69687/69687 [==============================] - 83s 1ms/sample - loss: 9.1469e-06 - accuracy: 1.0000\n"
     ]
    },
    {
     "data": {
      "text/plain": [
       "<tensorflow.python.keras.callbacks.History at 0x1ece7f900c8>"
      ]
     },
     "execution_count": 11,
     "metadata": {},
     "output_type": "execute_result"
    },
    {
     "name": "stdout",
     "output_type": "stream",
     "text": [
      "accuracy_score 0.9999919281932068\n",
      "recall_score 1.0\n",
      "precision_score 0.9995857497928748\n",
      "f1_score 0.9997928319867412\n",
      "Model: \"model_4\"\n",
      "_________________________________________________________________\n",
      "Layer (type)                 Output Shape              Param #   \n",
      "=================================================================\n",
      "input_1 (InputLayer)         [(None, 32, 256)]         0         \n",
      "_________________________________________________________________\n",
      "bidirectional (Bidirectional (None, 32, 96)            117120    \n",
      "_________________________________________________________________\n",
      "time_distributed (TimeDistri (None, 32, 1)             97        \n",
      "=================================================================\n",
      "Total params: 117,217\n",
      "Trainable params: 117,217\n",
      "Non-trainable params: 0\n",
      "_________________________________________________________________\n",
      "======Training stage======\n",
      "Train on 69687 samples\n",
      "Epoch 1/10\n",
      "69664/69687 [============================>.] - ETA: 0s - loss: 1.1575e-05 - accuracy: 1.0000WARNING:tensorflow:Early stopping conditioned on metric `val_loss` which is not available. Available metrics are: loss,accuracy\n",
      "69687/69687 [==============================] - 113s 2ms/sample - loss: 1.1571e-05 - accuracy: 1.0000\n",
      "Epoch 2/10\n",
      "69664/69687 [============================>.] - ETA: 0s - loss: 5.5983e-06 - accuracy: 1.0000WARNING:tensorflow:Early stopping conditioned on metric `val_loss` which is not available. Available metrics are: loss,accuracy\n",
      "69687/69687 [==============================] - 95s 1ms/sample - loss: 5.5965e-06 - accuracy: 1.0000\n",
      "Epoch 3/10\n",
      "69664/69687 [============================>.] - ETA: 0s - loss: 1.6213e-06 - accuracy: 1.0000WARNING:tensorflow:Early stopping conditioned on metric `val_loss` which is not available. Available metrics are: loss,accuracy\n",
      "69687/69687 [==============================] - 101s 1ms/sample - loss: 1.6207e-06 - accuracy: 1.0000\n",
      "Epoch 4/10\n",
      "69664/69687 [============================>.] - ETA: 0s - loss: 8.7009e-06 - accuracy: 1.0000WARNING:tensorflow:Early stopping conditioned on metric `val_loss` which is not available. Available metrics are: loss,accuracy\n",
      "69687/69687 [==============================] - 101s 1ms/sample - loss: 8.6981e-06 - accuracy: 1.0000\n",
      "Epoch 5/10\n",
      "69632/69687 [============================>.] - ETA: 0s - loss: 1.3501e-07 - accuracy: 1.0000 ETA: 0s - loss: 1.3568e-07 - accuracy: 1. - ETA: 0s - loss: 1.3561e-07 - accuWARNING:tensorflow:Early stopping conditioned on metric `val_loss` which is not available. Available metrics are: loss,accuracy\n",
      "69687/69687 [==============================] - 101s 1ms/sample - loss: 1.3490e-07 - accuracy: 1.0000\n",
      "Epoch 6/10\n",
      "69664/69687 [============================>.] - ETA: 0s - loss: 5.2898e-08 - accuracy: 1.0000WARNING:tensorflow:Early stopping conditioned on metric `val_loss` which is not available. Available metrics are: loss,accuracy\n",
      "69687/69687 [==============================] - 101s 1ms/sample - loss: 5.2880e-08 - accuracy: 1.0000\n",
      "Epoch 7/10\n",
      "69632/69687 [============================>.] - ETA: 0s - loss: 7.1561e-09 - accuracy: 1.0000WARNING:tensorflow:Early stopping conditioned on metric `val_loss` which is not available. Available metrics are: loss,accuracy\n",
      "69687/69687 [==============================] - 100s 1ms/sample - loss: 7.1508e-09 - accuracy: 1.0000\n",
      "Epoch 8/10\n",
      "69632/69687 [============================>.] - ETA: 0s - loss: 2.7485e-09 - accuracy: 1.0000WARNING:tensorflow:Early stopping conditioned on metric `val_loss` which is not available. Available metrics are: loss,accuracy\n",
      "69687/69687 [==============================] - 101s 1ms/sample - loss: 2.7465e-09 - accuracy: 1.0000\n",
      "Epoch 9/10\n",
      "69632/69687 [============================>.] - ETA: 0s - loss: 3.3882e-09 - accuracy: 1.0000WARNING:tensorflow:Early stopping conditioned on metric `val_loss` which is not available. Available metrics are: loss,accuracy\n",
      "69687/69687 [==============================] - 94s 1ms/sample - loss: 3.3870e-09 - accuracy: 1.0000\n",
      "Epoch 10/10\n",
      "69632/69687 [============================>.] - ETA: 0s - loss: 3.0469e-09 - accuracy: 1.0000WARNING:tensorflow:Early stopping conditioned on metric `val_loss` which is not available. Available metrics are: loss,accuracy\n",
      "69687/69687 [==============================] - 93s 1ms/sample - loss: 3.0446e-09 - accuracy: 1.0000\n"
     ]
    },
    {
     "data": {
      "text/plain": [
       "<tensorflow.python.keras.callbacks.History at 0x1eceadcdd88>"
      ]
     },
     "execution_count": 11,
     "metadata": {},
     "output_type": "execute_result"
    },
    {
     "name": "stdout",
     "output_type": "stream",
     "text": [
      "accuracy_score 1.0\n",
      "recall_score 1.0\n",
      "precision_score 1.0\n",
      "f1_score 1.0\n",
      "Model: \"model_5\"\n",
      "_________________________________________________________________\n",
      "Layer (type)                 Output Shape              Param #   \n",
      "=================================================================\n",
      "input_1 (InputLayer)         [(None, 32, 256)]         0         \n",
      "_________________________________________________________________\n",
      "bidirectional (Bidirectional (None, 32, 96)            117120    \n",
      "_________________________________________________________________\n",
      "time_distributed (TimeDistri (None, 32, 1)             97        \n",
      "=================================================================\n",
      "Total params: 117,217\n",
      "Trainable params: 117,217\n",
      "Non-trainable params: 0\n",
      "_________________________________________________________________\n",
      "======Training stage======\n",
      "Train on 69687 samples\n",
      "Epoch 1/10\n",
      "69664/69687 [============================>.] - ETA: 0s - loss: 4.2858e-07 - accuracy: 1.0000WARNING:tensorflow:Early stopping conditioned on metric `val_loss` which is not available. Available metrics are: loss,accuracy\n",
      "69687/69687 [==============================] - 117s 2ms/sample - loss: 4.2844e-07 - accuracy: 1.0000\n",
      "Epoch 2/10\n",
      "69664/69687 [============================>.] - ETA: 0s - loss: 5.3768e-08 - accuracy: 1.0000WARNING:tensorflow:Early stopping conditioned on metric `val_loss` which is not available. Available metrics are: loss,accuracy\n",
      "69687/69687 [==============================] - 98s 1ms/sample - loss: 5.3752e-08 - accuracy: 1.0000\n",
      "Epoch 3/10\n",
      "69632/69687 [============================>.] - ETA: 0s - loss: 7.7327e-08 - accuracy: 1.0000 ETA: 1s - losWARNING:tensorflow:Early stopping conditioned on metric `val_loss` which is not available. Available metrics are: loss,accuracy\n",
      "69687/69687 [==============================] - 96s 1ms/sample - loss: 7.9313e-08 - accuracy: 1.0000\n",
      "Epoch 4/10\n",
      "69664/69687 [============================>.] - ETA: 0s - loss: 3.1537e-08 - accuracy: 1.0000 ETA: 0s - loss: 3.1736eWARNING:tensorflow:Early stopping conditioned on metric `val_loss` which is not available. Available metrics are: loss,accuracy\n",
      "69687/69687 [==============================] - 100s 1ms/sample - loss: 3.1527e-08 - accuracy: 1.0000\n",
      "Epoch 5/10\n",
      "69632/69687 [============================>.] - ETA: 0s - loss: 1.4121e-08 - accuracy: 1.0000 ETA: 1s - loss: 1WARNING:tensorflow:Early stopping conditioned on metric `val_loss` which is not available. Available metrics are: loss,accuracy\n",
      "69687/69687 [==============================] - 101s 1ms/sample - loss: 1.4113e-08 - accuracy: 1.0000\n",
      "Epoch 6/10\n",
      "69664/69687 [============================>.] - ETA: 0s - loss: 7.1086e-09 - accuracy: 1.0000WARNING:tensorflow:Early stopping conditioned on metric `val_loss` which is not available. Available metrics are: loss,accuracy\n",
      "69687/69687 [==============================] - 100s 1ms/sample - loss: 7.1063e-09 - accuracy: 1.0000\n",
      "Epoch 7/10\n",
      "69664/69687 [============================>.] - ETA: 0s - loss: 8.1445e-09 - accuracy: 1.0000WARNING:tensorflow:Early stopping conditioned on metric `val_loss` which is not available. Available metrics are: loss,accuracy\n",
      "69687/69687 [==============================] - 101s 1ms/sample - loss: 8.1422e-09 - accuracy: 1.0000\n",
      "Epoch 8/10\n",
      "69632/69687 [============================>.] - ETA: 0s - loss: 3.9496e-09 - accuracy: 1.0000WARNING:tensorflow:Early stopping conditioned on metric `val_loss` which is not available. Available metrics are: loss,accuracy\n",
      "69687/69687 [==============================] - 103s 1ms/sample - loss: 3.9473e-09 - accuracy: 1.0000\n",
      "Epoch 9/10\n",
      "69664/69687 [============================>.] - ETA: 0s - loss: 2.5937e-09 - accuracy: 1.0000WARNING:tensorflow:Early stopping conditioned on metric `val_loss` which is not available. Available metrics are: loss,accuracy\n",
      "69687/69687 [==============================] - 96s 1ms/sample - loss: 2.5929e-09 - accuracy: 1.0000\n",
      "Epoch 10/10\n",
      "69632/69687 [============================>.] - ETA: 0s - loss: 2.3398e-09 - accuracy: 1.0000 ETA: 1s - loss:WARNING:tensorflow:Early stopping conditioned on metric `val_loss` which is not available. Available metrics are: loss,accuracy\n",
      "69687/69687 [==============================] - 89s 1ms/sample - loss: 2.3381e-09 - accuracy: 1.0000\n"
     ]
    },
    {
     "data": {
      "text/plain": [
       "<tensorflow.python.keras.callbacks.History at 0x1ecea6ff688>"
      ]
     },
     "execution_count": 11,
     "metadata": {},
     "output_type": "execute_result"
    },
    {
     "name": "stdout",
     "output_type": "stream",
     "text": [
      "accuracy_score 1.0\n",
      "recall_score 1.0\n",
      "precision_score 1.0\n",
      "f1_score 1.0\n",
      "Model: \"model_6\"\n",
      "_________________________________________________________________\n",
      "Layer (type)                 Output Shape              Param #   \n",
      "=================================================================\n",
      "input_1 (InputLayer)         [(None, 32, 256)]         0         \n",
      "_________________________________________________________________\n",
      "bidirectional (Bidirectional (None, 32, 96)            117120    \n",
      "_________________________________________________________________\n",
      "time_distributed (TimeDistri (None, 32, 1)             97        \n",
      "=================================================================\n",
      "Total params: 117,217\n",
      "Trainable params: 117,217\n",
      "Non-trainable params: 0\n",
      "_________________________________________________________________\n",
      "======Training stage======\n",
      "Train on 69687 samples\n",
      "Epoch 1/10\n",
      "69664/69687 [============================>.] - ETA: 0s - loss: 1.9670e-09 - accuracy: 1.0000WARNING:tensorflow:Early stopping conditioned on metric `val_loss` which is not available. Available metrics are: loss,accuracy\n",
      "69687/69687 [==============================] - 108s 2ms/sample - loss: 1.9664e-09 - accuracy: 1.0000\n",
      "Epoch 2/10\n",
      "69664/69687 [============================>.] - ETA: 0s - loss: 1.6014e-09 - accuracy: 1.0000WARNING:tensorflow:Early stopping conditioned on metric `val_loss` which is not available. Available metrics are: loss,accuracy\n",
      "69687/69687 [==============================] - 96s 1ms/sample - loss: 1.6009e-09 - accuracy: 1.0000\n",
      "Epoch 3/10\n",
      "69664/69687 [============================>.] - ETA: 0s - loss: 1.1575e-09 - accuracy: 1.0000WARNING:tensorflow:Early stopping conditioned on metric `val_loss` which is not available. Available metrics are: loss,accuracy\n",
      "69687/69687 [==============================] - 89s 1ms/sample - loss: 1.1571e-09 - accuracy: 1.0000\n",
      "Epoch 4/10\n",
      "69632/69687 [============================>.] - ETA: 0s - loss: 1.0198e-09 - accuracy: 1.0000WARNING:tensorflow:Early stopping conditioned on metric `val_loss` which is not available. Available metrics are: loss,accuracy\n",
      "69687/69687 [==============================] - 95s 1ms/sample - loss: 1.0190e-09 - accuracy: 1.0000\n",
      "Epoch 5/10\n",
      "69632/69687 [============================>.] - ETA: 0s - loss: 9.1662e-10 - accuracy: 1.0000WARNING:tensorflow:Early stopping conditioned on metric `val_loss` which is not available. Available metrics are: loss,accuracy\n",
      "69687/69687 [==============================] - 94s 1ms/sample - loss: 9.1611e-10 - accuracy: 1.0000\n",
      "Epoch 6/10\n",
      "69664/69687 [============================>.] - ETA: 0s - loss: 8.3415e-10 - accuracy: 1.0000WARNING:tensorflow:Early stopping conditioned on metric `val_loss` which is not available. Available metrics are: loss,accuracy\n",
      "69687/69687 [==============================] - 94s 1ms/sample - loss: 8.3392e-10 - accuracy: 1.0000\n",
      "Epoch 7/10\n",
      "69632/69687 [============================>.] - ETA: 0s - loss: 7.3089e-10 - accuracy: 1.0000WARNING:tensorflow:Early stopping conditioned on metric `val_loss` which is not available. Available metrics are: loss,accuracy\n",
      "69687/69687 [==============================] - 96s 1ms/sample - loss: 7.3034e-10 - accuracy: 1.0000\n",
      "Epoch 8/10\n",
      "69664/69687 [============================>.] - ETA: 0s - loss: 6.6924e-10 - accuracy: 1.0000WARNING:tensorflow:Early stopping conditioned on metric `val_loss` which is not available. Available metrics are: loss,accuracy\n",
      "69687/69687 [==============================] - 88s 1ms/sample - loss: 6.7030e-10 - accuracy: 1.0000\n",
      "Epoch 9/10\n",
      "69632/69687 [============================>.] - ETA: 0s - loss: 6.0592e-10 - accuracy: 1.0000WARNING:tensorflow:Early stopping conditioned on metric `val_loss` which is not available. Available metrics are: loss,accuracy\n",
      "69687/69687 [==============================] - 94s 1ms/sample - loss: 6.0547e-10 - accuracy: 1.0000\n",
      "Epoch 10/10\n",
      "69632/69687 [============================>.] - ETA: 0s - loss: 5.6963e-10 - accuracy: 1.0000WARNING:tensorflow:Early stopping conditioned on metric `val_loss` which is not available. Available metrics are: loss,accuracy\n",
      "69687/69687 [==============================] - 94s 1ms/sample - loss: 5.6918e-10 - accuracy: 1.0000\n"
     ]
    },
    {
     "data": {
      "text/plain": [
       "<tensorflow.python.keras.callbacks.History at 0x1eccb43e388>"
      ]
     },
     "execution_count": 11,
     "metadata": {},
     "output_type": "execute_result"
    },
    {
     "name": "stdout",
     "output_type": "stream",
     "text": [
      "accuracy_score 1.0\n",
      "recall_score 1.0\n",
      "precision_score 1.0\n",
      "f1_score 1.0\n",
      "Model: \"model_7\"\n",
      "_________________________________________________________________\n",
      "Layer (type)                 Output Shape              Param #   \n",
      "=================================================================\n",
      "input_1 (InputLayer)         [(None, 32, 256)]         0         \n",
      "_________________________________________________________________\n",
      "bidirectional (Bidirectional (None, 32, 96)            117120    \n",
      "_________________________________________________________________\n",
      "time_distributed (TimeDistri (None, 32, 1)             97        \n",
      "=================================================================\n",
      "Total params: 117,217\n",
      "Trainable params: 117,217\n",
      "Non-trainable params: 0\n",
      "_________________________________________________________________\n",
      "======Training stage======\n",
      "Train on 69687 samples\n",
      "Epoch 1/10\n",
      "69632/69687 [============================>.] - ETA: 0s - loss: 5.6796e-10 - accuracy: 1.0000WARNING:tensorflow:Early stopping conditioned on metric `val_loss` which is not available. Available metrics are: loss,accuracy\n",
      "69687/69687 [==============================] - 114s 2ms/sample - loss: 5.6751e-10 - accuracy: 1.0000\n",
      "Epoch 2/10\n",
      "69664/69687 [============================>.] - ETA: 0s - loss: 5.2099e-10 - accuracy: 1.0000WARNING:tensorflow:Early stopping conditioned on metric `val_loss` which is not available. Available metrics are: loss,accuracy\n",
      "69687/69687 [==============================] - 96s 1ms/sample - loss: 5.2082e-10 - accuracy: 1.0000\n",
      "Epoch 3/10\n",
      "69664/69687 [============================>.] - ETA: 0s - loss: 4.8679e-10 - accuracy: 1.0000WARNING:tensorflow:Early stopping conditioned on metric `val_loss` which is not available. Available metrics are: loss,accuracy\n",
      "69687/69687 [==============================] - 97s 1ms/sample - loss: 4.8663e-10 - accuracy: 1.0000\n",
      "Epoch 4/10\n",
      "69632/69687 [============================>.] - ETA: 0s - loss: 4.5689e-10 - accuracy: 1.0000WARNING:tensorflow:Early stopping conditioned on metric `val_loss` which is not available. Available metrics are: loss,accuracy\n",
      "69687/69687 [==============================] - 86s 1ms/sample - loss: 4.5653e-10 - accuracy: 1.0000\n",
      "Epoch 5/10\n",
      "69664/69687 [============================>.] - ETA: 0s - loss: 4.3599e-10 - accuracy: 1.0000WARNING:tensorflow:Early stopping conditioned on metric `val_loss` which is not available. Available metrics are: loss,accuracy\n",
      "69687/69687 [==============================] - 96s 1ms/sample - loss: 4.3584e-10 - accuracy: 1.0000\n",
      "Epoch 6/10\n",
      "69664/69687 [============================>.] - ETA: 0s - loss: 4.1620e-10 - accuracy: 1.0000WARNING:tensorflow:Early stopping conditioned on metric `val_loss` which is not available. Available metrics are: loss,accuracy\n",
      "69687/69687 [==============================] - 97s 1ms/sample - loss: 4.1606e-10 - accuracy: 1.0000\n",
      "Epoch 7/10\n",
      "69664/69687 [============================>.] - ETA: 0s - loss: 4.0035e-10 - accuracy: 1.0000WARNING:tensorflow:Early stopping conditioned on metric `val_loss` which is not available. Available metrics are: loss,accuracy\n",
      "69687/69687 [==============================] - 91s 1ms/sample - loss: 4.0021e-10 - accuracy: 1.0000\n",
      "Epoch 8/10\n",
      "69664/69687 [============================>.] - ETA: 0s - loss: 3.8617e-10 - accuracy: 1.0000WARNING:tensorflow:Early stopping conditioned on metric `val_loss` which is not available. Available metrics are: loss,accuracy\n",
      "69687/69687 [==============================] - 91s 1ms/sample - loss: 3.8605e-10 - accuracy: 1.0000\n",
      "Epoch 9/10\n",
      "69664/69687 [============================>.] - ETA: 0s - loss: 3.6973e-10 - accuracy: 1.0000WARNING:tensorflow:Early stopping conditioned on metric `val_loss` which is not available. Available metrics are: loss,accuracy\n",
      "69687/69687 [==============================] - 95s 1ms/sample - loss: 3.6961e-10 - accuracy: 1.0000\n",
      "Epoch 10/10\n",
      "69664/69687 [============================>.] - ETA: 0s - loss: 3.5534e-10 - accuracy: 1.0000WARNING:tensorflow:Early stopping conditioned on metric `val_loss` which is not available. Available metrics are: loss,accuracy\n",
      "69687/69687 [==============================] - 95s 1ms/sample - loss: 3.5523e-10 - accuracy: 1.0000\n"
     ]
    },
    {
     "data": {
      "text/plain": [
       "<tensorflow.python.keras.callbacks.History at 0x1eced58bb08>"
      ]
     },
     "execution_count": 11,
     "metadata": {},
     "output_type": "execute_result"
    },
    {
     "name": "stdout",
     "output_type": "stream",
     "text": [
      "accuracy_score 1.0\n",
      "recall_score 1.0\n",
      "precision_score 1.0\n",
      "f1_score 1.0\n",
      "Model: \"model_8\"\n",
      "_________________________________________________________________\n",
      "Layer (type)                 Output Shape              Param #   \n",
      "=================================================================\n",
      "input_1 (InputLayer)         [(None, 32, 256)]         0         \n",
      "_________________________________________________________________\n",
      "bidirectional (Bidirectional (None, 32, 96)            117120    \n",
      "_________________________________________________________________\n",
      "time_distributed (TimeDistri (None, 32, 1)             97        \n",
      "=================================================================\n",
      "Total params: 117,217\n",
      "Trainable params: 117,217\n",
      "Non-trainable params: 0\n",
      "_________________________________________________________________\n",
      "======Training stage======\n",
      "Train on 69687 samples\n",
      "Epoch 1/10\n",
      "69664/69687 [============================>.] - ETA: 0s - loss: 3.7786e-10 - accuracy: 1.0000 ETA: 0s - loss: 3.7860e-10 - accuracy - ETA: 0s - loss: 3.7865e-10 - accuracyWARNING:tensorflow:Early stopping conditioned on metric `val_loss` which is not available. Available metrics are: loss,accuracy\n",
      "69687/69687 [==============================] - 106s 2ms/sample - loss: 3.7773e-10 - accuracy: 1.0000\n",
      "Epoch 2/10\n",
      "69632/69687 [============================>.] - ETA: 0s - loss: 3.5778e-10 - accuracy: 1.0000WARNING:tensorflow:Early stopping conditioned on metric `val_loss` which is not available. Available metrics are: loss,accuracy\n",
      "69687/69687 [==============================] - 99s 1ms/sample - loss: 3.5750e-10 - accuracy: 1.0000\n",
      "Epoch 3/10\n",
      "69632/69687 [============================>.] - ETA: 0s - loss: 3.4387e-10 - accuracy: 1.0000 ETAWARNING:tensorflow:Early stopping conditioned on metric `val_loss` which is not available. Available metrics are: loss,accuracy\n",
      "69687/69687 [==============================] - 98s 1ms/sample - loss: 3.4360e-10 - accuracy: 1.0000\n",
      "Epoch 4/10\n",
      "69632/69687 [============================>.] - ETA: 0s - loss: 3.2788e-10 - accuracy: 1.0000WARNING:tensorflow:Early stopping conditioned on metric `val_loss` which is not available. Available metrics are: loss,accuracy\n",
      "69687/69687 [==============================] - 95s 1ms/sample - loss: 3.2917e-10 - accuracy: 1.0000\n",
      "Epoch 5/10\n",
      "69632/69687 [============================>.] - ETA: 0s - loss: 3.1937e-10 - accuracy: 1.0000WARNING:tensorflow:Early stopping conditioned on metric `val_loss` which is not available. Available metrics are: loss,accuracy\n",
      "69687/69687 [==============================] - 98s 1ms/sample - loss: 3.1914e-10 - accuracy: 1.0000\n",
      "Epoch 6/10\n",
      "69632/69687 [============================>.] - ETA: 0s - loss: 3.1027e-10 - accuracy: 1.0000WARNING:tensorflow:Early stopping conditioned on metric `val_loss` which is not available. Available metrics are: loss,accuracy\n",
      "69687/69687 [==============================] - 96s 1ms/sample - loss: 3.1003e-10 - accuracy: 1.0000\n",
      "Epoch 7/10\n",
      "69632/69687 [============================>.] - ETA: 0s - loss: 2.9933e-10 - accuracy: 1.0000WARNING:tensorflow:Early stopping conditioned on metric `val_loss` which is not available. Available metrics are: loss,accuracy\n",
      "69687/69687 [==============================] - 89s 1ms/sample - loss: 2.9958e-10 - accuracy: 1.0000\n",
      "Epoch 8/10\n",
      "69632/69687 [============================>.] - ETA: 0s - loss: 2.9018e-10 - accuracy: 1.0000WARNING:tensorflow:Early stopping conditioned on metric `val_loss` which is not available. Available metrics are: loss,accuracy\n",
      "69687/69687 [==============================] - 97s 1ms/sample - loss: 2.8995e-10 - accuracy: 1.0000\n",
      "Epoch 9/10\n",
      "69632/69687 [============================>.] - ETA: 0s - loss: 2.8120e-10 - accuracy: 1.0000WARNING:tensorflow:Early stopping conditioned on metric `val_loss` which is not available. Available metrics are: loss,accuracy\n",
      "69687/69687 [==============================] - 91s 1ms/sample - loss: 2.8097e-10 - accuracy: 1.0000\n",
      "Epoch 10/10\n",
      "69632/69687 [============================>.] - ETA: 0s - loss: 2.7454e-10 - accuracy: 1.0000WARNING:tensorflow:Early stopping conditioned on metric `val_loss` which is not available. Available metrics are: loss,accuracy\n",
      "69687/69687 [==============================] - 96s 1ms/sample - loss: 2.7435e-10 - accuracy: 1.0000\n"
     ]
    },
    {
     "data": {
      "text/plain": [
       "<tensorflow.python.keras.callbacks.History at 0x1ecc8840508>"
      ]
     },
     "execution_count": 11,
     "metadata": {},
     "output_type": "execute_result"
    },
    {
     "name": "stdout",
     "output_type": "stream",
     "text": [
      "accuracy_score 1.0\n",
      "recall_score 1.0\n",
      "precision_score 1.0\n",
      "f1_score 1.0\n",
      "Model: \"model_9\"\n",
      "_________________________________________________________________\n",
      "Layer (type)                 Output Shape              Param #   \n",
      "=================================================================\n",
      "input_1 (InputLayer)         [(None, 32, 256)]         0         \n",
      "_________________________________________________________________\n",
      "bidirectional (Bidirectional (None, 32, 96)            117120    \n",
      "_________________________________________________________________\n",
      "time_distributed (TimeDistri (None, 32, 1)             97        \n",
      "=================================================================\n",
      "Total params: 117,217\n",
      "Trainable params: 117,217\n",
      "Non-trainable params: 0\n",
      "_________________________________________________________________\n",
      "======Training stage======\n",
      "Train on 69687 samples\n",
      "Epoch 1/10\n",
      "69664/69687 [============================>.] - ETA: 0s - loss: 2.7842e-10 - accuracy: 1.0000WARNING:tensorflow:Early stopping conditioned on metric `val_loss` which is not available. Available metrics are: loss,accuracy\n",
      "69687/69687 [==============================] - 110s 2ms/sample - loss: 2.7833e-10 - accuracy: 1.0000\n",
      "Epoch 2/10\n",
      "69632/69687 [============================>.] - ETA: 0s - loss: 2.6953e-10 - accuracy: 1.0000WARNING:tensorflow:Early stopping conditioned on metric `val_loss` which is not available. Available metrics are: loss,accuracy\n",
      "69687/69687 [==============================] - 98s 1ms/sample - loss: 2.6945e-10 - accuracy: 1.0000\n",
      "Epoch 3/10\n",
      "69664/69687 [============================>.] - ETA: 0s - loss: 2.6112e-10 - accuracy: 1.0000 ETA: 0s - loss: 2.6251e-10 - WARNING:tensorflow:Early stopping conditioned on metric `val_loss` which is not available. Available metrics are: loss,accuracy\n",
      "69687/69687 [==============================] - 98s 1ms/sample - loss: 2.6103e-10 - accuracy: 1.0000\n",
      "Epoch 4/10\n",
      "69664/69687 [============================>.] - ETA: 0s - loss: 2.5460e-10 - accuracy: 1.0000WARNING:tensorflow:Early stopping conditioned on metric `val_loss` which is not available. Available metrics are: loss,accuracy\n",
      "69687/69687 [==============================] - 98s 1ms/sample - loss: 2.5451e-10 - accuracy: 1.0000\n",
      "Epoch 5/10\n",
      "69632/69687 [============================>.] - ETA: 0s - loss: 2.4896e-10 - accuracy: 1.0000WARNING:tensorflow:Early stopping conditioned on metric `val_loss` which is not available. Available metrics are: loss,accuracy\n",
      "69687/69687 [==============================] - 90s 1ms/sample - loss: 2.4877e-10 - accuracy: 1.0000\n",
      "Epoch 6/10\n",
      "69632/69687 [============================>.] - ETA: 0s - loss: 2.4265e-10 - accuracy: 1.0000WARNING:tensorflow:Early stopping conditioned on metric `val_loss` which is not available. Available metrics are: loss,accuracy\n",
      "69687/69687 [==============================] - 97s 1ms/sample - loss: 2.4246e-10 - accuracy: 1.0000\n",
      "Epoch 7/10\n",
      "69664/69687 [============================>.] - ETA: 0s - loss: 2.3580e-10 - accuracy: 1.0000WARNING:tensorflow:Early stopping conditioned on metric `val_loss` which is not available. Available metrics are: loss,accuracy\n",
      "69687/69687 [==============================] - 98s 1ms/sample - loss: 2.3572e-10 - accuracy: 1.0000\n",
      "Epoch 8/10\n",
      "69664/69687 [============================>.] - ETA: 0s - loss: 2.2903e-10 - accuracy: 1.0000WARNING:tensorflow:Early stopping conditioned on metric `val_loss` which is not available. Available metrics are: loss,accuracy\n",
      "69687/69687 [==============================] - 99s 1ms/sample - loss: 2.2923e-10 - accuracy: 1.0000\n",
      "Epoch 9/10\n",
      "69664/69687 [============================>.] - ETA: 0s - loss: 2.2417e-10 - accuracy: 1.0000WARNING:tensorflow:Early stopping conditioned on metric `val_loss` which is not available. Available metrics are: loss,accuracy\n",
      "69687/69687 [==============================] - 100s 1ms/sample - loss: 2.2409e-10 - accuracy: 1.0000\n",
      "Epoch 10/10\n",
      "69632/69687 [============================>.] - ETA: 0s - loss: 2.1943e-10 - accuracy: 1.0000WARNING:tensorflow:Early stopping conditioned on metric `val_loss` which is not available. Available metrics are: loss,accuracy\n",
      "69687/69687 [==============================] - 90s 1ms/sample - loss: 2.1926e-10 - accuracy: 1.0000\n"
     ]
    },
    {
     "data": {
      "text/plain": [
       "<tensorflow.python.keras.callbacks.History at 0x1ecd91e8c48>"
      ]
     },
     "execution_count": 11,
     "metadata": {},
     "output_type": "execute_result"
    },
    {
     "name": "stdout",
     "output_type": "stream",
     "text": [
      "accuracy_score 1.0\n",
      "recall_score 1.0\n",
      "precision_score 1.0\n",
      "f1_score 1.0\n",
      "\n",
      "K-fold cross validation Accuracy: [0.9998466356709286, 0.9998587433811185, 0.9999556050626373, 0.9999919281932068, 1.0, 1.0, 1.0, 1.0, 1.0, 1.0]\n",
      "\n",
      "K-fold cross validation Recall: [0.9979070740895772, 0.9971086327963652, 0.999171327946965, 1.0, 1.0, 1.0, 1.0, 1.0, 1.0, 1.0]\n",
      "\n",
      "K-fold cross validation Precision: [0.994161801501251, 0.995669210146422, 0.9985507246376811, 0.9995857497928748, 1.0, 1.0, 1.0, 1.0, 1.0, 1.0]\n",
      "\n",
      "K-fold cross validation F1-Score: [0.9960309170670565, 0.996388401609741, 0.9988609298954126, 0.9997928319867412, 1.0, 1.0, 1.0, 1.0, 1.0, 1.0]\n"
     ]
    }
   ],
   "source": [
    "# 교차검증 kfold\n",
    "from sklearn.model_selection import KFold\n",
    "\n",
    "# Accuracy, Precision, Recall, F1-Score\n",
    "from sklearn.metrics import accuracy_score, recall_score, precision_score, f1_score\n",
    "\n",
    "# Confusion Matrix, ROC Curve\n",
    "from sklearn.metrics import confusion_matrix, roc_auc_score\n",
    "\n",
    "# 최종 평가지표들 평균용\n",
    "accuracy, recall, precision, f1score, cm = [], [], [], [], []\n",
    "\n",
    "# 11. 교차검증 kfold - k.split - 10회 / K-Fold 객체 생성\n",
    "# kf = KFold(n_splits=10, shuffle=False, random_state=None) # KFold non shuffle 버전\n",
    "kf = KFold(n_splits=10, shuffle=True, random_state=None) # KFold non shuffle 버전\n",
    "\n",
    "for train, validation in kf.split(x_bc6_1, y_bc6_1):\n",
    "    model1 = models.Model(xInput, xOutput)\n",
    "    model1.compile(loss='binary_crossentropy', optimizer='rmsprop', metrics=['accuracy'])\n",
    "    model1.summary()\n",
    "    print('======Training stage======')\n",
    "    model1.fit(x_bc6_1[train],\n",
    "               y_bc6_1[train],\n",
    "               epochs = 10,\n",
    "               batch_size = 32,\n",
    "               callbacks=[early_stopping])\n",
    "    #k_accuracy = '%.4f' %(model1.evaluate(data_10000x[validation], data_10000y[validation])[1])\n",
    "\n",
    "# 12. 교차검증결과 predict - 검증셋들\n",
    "    # predict 값\n",
    "    k_pr = model1.predict(x_bc6_1[validation])\n",
    "    \n",
    "    # 테스트 predict 결과들 비교 (평가지표 보기위함)\n",
    "    pred = np.round(np.array(k_pr).flatten().tolist())\n",
    "    y_test = np.array(y_bc6_1[validation]).flatten().tolist()\n",
    "    \n",
    "# 13. 평가지표들 출력\n",
    "    ## 평가지표들\n",
    "    k_accuracy = float(accuracy_score(y_test, pred))\n",
    "    k_recall =  float(recall_score(y_test, pred))\n",
    "    k_precision = float(precision_score(y_test, pred))\n",
    "    k_f1_score = float(f1_score(y_test, pred))\n",
    "    #k_cm = float(confusion_matrix(y_test, pred))\n",
    "    \n",
    "    print('accuracy_score', k_accuracy)\n",
    "    print('recall_score', k_recall)\n",
    "    print('precision_score', k_precision)\n",
    "    print('f1_score', k_f1_score)\n",
    "    #print('\\nconfusion_matrix\\n', k_cm)\n",
    "\n",
    "    accuracy.append(k_accuracy)\n",
    "    recall.append(k_recall)\n",
    "    precision.append(k_precision)\n",
    "    f1score.append(k_f1_score)\n",
    "    #cm.append(k_cm)\n",
    "#    print('roc_curve 면적', roc_auc_score(y_test, pred))\n",
    "\n",
    "# 최종 결과지표\n",
    "print('\\nK-fold cross validation Accuracy: {}'.format(accuracy))\n",
    "print('\\nK-fold cross validation Recall: {}'.format(recall))\n",
    "print('\\nK-fold cross validation Precision: {}'.format(precision))\n",
    "print('\\nK-fold cross validation F1-Score: {}'.format(f1score))\n",
    "#print('\\nK-fold cross validation ConfusionMatrix: {}'.format(cm))"
   ]
  },
  {
   "cell_type": "markdown",
   "metadata": {},
   "source": [
    "## (9) 평가지표"
   ]
  },
  {
   "cell_type": "code",
   "execution_count": 12,
   "metadata": {},
   "outputs": [
    {
     "name": "stdout",
     "output_type": "stream",
     "text": [
      "10-Fold Cross_validation. Accuracy : 0.999965291230789\n",
      "10-Fold Cross_validation. Recall : 0.9994187034832909\n",
      "10-Fold Cross_validation. Precision : 0.998796748607823\n",
      "10-Fold Cross_validation. F1-Score : 0.9991073080558952\n"
     ]
    }
   ],
   "source": [
    "print('10-Fold Cross_validation. Accuracy :', np.mean(accuracy))\n",
    "print('10-Fold Cross_validation. Recall :', np.mean(recall))\n",
    "print('10-Fold Cross_validation. Precision :', np.mean(precision))\n",
    "print('10-Fold Cross_validation. F1-Score :', np.mean(f1score))"
   ]
  },
  {
   "cell_type": "code",
   "execution_count": 13,
   "metadata": {},
   "outputs": [
    {
     "name": "stdout",
     "output_type": "stream",
     "text": [
      "save 완료\n"
     ]
    }
   ],
   "source": [
    "model1.save('gcc6_bin_core_s32_h48_o1.h5')\n",
    "print('save 완료')"
   ]
  }
 ],
 "metadata": {
  "kernelspec": {
   "display_name": "Python 3",
   "language": "python",
   "name": "python3"
  },
  "language_info": {
   "codemirror_mode": {
    "name": "ipython",
    "version": 3
   },
   "file_extension": ".py",
   "mimetype": "text/x-python",
   "name": "python",
   "nbconvert_exporter": "python",
   "pygments_lexer": "ipython3",
   "version": "3.7.9"
  }
 },
 "nbformat": 4,
 "nbformat_minor": 4
}
