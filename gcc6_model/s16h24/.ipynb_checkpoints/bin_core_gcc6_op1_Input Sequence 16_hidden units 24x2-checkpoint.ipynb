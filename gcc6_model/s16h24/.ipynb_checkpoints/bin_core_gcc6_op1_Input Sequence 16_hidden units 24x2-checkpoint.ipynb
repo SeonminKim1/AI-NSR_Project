{
 "cells": [
  {
   "cell_type": "markdown",
   "metadata": {},
   "source": [
    "## RNN 모델 N-Byte 방식 (함수정보 포함 vs 미포함 => 1:1 비율)\n",
    "\n",
    "## (1) 데이터로드"
   ]
  },
  {
   "cell_type": "code",
   "execution_count": 1,
   "metadata": {},
   "outputs": [
    {
     "name": "stdout",
     "output_type": "stream",
     "text": [
      "(27602871, 2)\n",
      "shape - (27602871, 2)\n",
      "reset_index 완료\n",
      "input data shape\n"
     ]
    },
    {
     "data": {
      "text/html": [
       "<div>\n",
       "<style scoped>\n",
       "    .dataframe tbody tr th:only-of-type {\n",
       "        vertical-align: middle;\n",
       "    }\n",
       "\n",
       "    .dataframe tbody tr th {\n",
       "        vertical-align: top;\n",
       "    }\n",
       "\n",
       "    .dataframe thead th {\n",
       "        text-align: right;\n",
       "    }\n",
       "</style>\n",
       "<table border=\"1\" class=\"dataframe\">\n",
       "  <thead>\n",
       "    <tr style=\"text-align: right;\">\n",
       "      <th></th>\n",
       "      <th>bin</th>\n",
       "      <th>label</th>\n",
       "    </tr>\n",
       "  </thead>\n",
       "  <tbody>\n",
       "    <tr>\n",
       "      <th>0</th>\n",
       "      <td>47</td>\n",
       "      <td>0</td>\n",
       "    </tr>\n",
       "    <tr>\n",
       "      <th>1</th>\n",
       "      <td>108</td>\n",
       "      <td>0</td>\n",
       "    </tr>\n",
       "    <tr>\n",
       "      <th>2</th>\n",
       "      <td>105</td>\n",
       "      <td>0</td>\n",
       "    </tr>\n",
       "    <tr>\n",
       "      <th>3</th>\n",
       "      <td>98</td>\n",
       "      <td>0</td>\n",
       "    </tr>\n",
       "    <tr>\n",
       "      <th>4</th>\n",
       "      <td>47</td>\n",
       "      <td>0</td>\n",
       "    </tr>\n",
       "  </tbody>\n",
       "</table>\n",
       "</div>"
      ],
      "text/plain": [
       "   bin  label\n",
       "0   47      0\n",
       "1  108      0\n",
       "2  105      0\n",
       "3   98      0\n",
       "4   47      0"
      ]
     },
     "execution_count": 1,
     "metadata": {},
     "output_type": "execute_result"
    }
   ],
   "source": [
    "# (1) 데이터로드\n",
    "import pandas as pd\n",
    "import numpy as np\n",
    "\n",
    "import warnings\n",
    "warnings.filterwarnings(action='ignore')\n",
    "\n",
    "# 여러개 쳐도 나오게\n",
    "from IPython.core.interactiveshell import InteractiveShell\n",
    "InteractiveShell.ast_node_interactivity = \"all\"\n",
    "\n",
    "# 파일읽기\n",
    "bin6_1 = pd.read_csv(\"../../바이너리_최종데이터_1004/gcc6/o1/o1_bincore6.csv\", index_col=0)\n",
    "print(bin6_1.shape)\n",
    "\n",
    "# reset_index (hex processing 하면서 값이 빠졌으니까 + n_gram 에서 index를 다루기 때문에)\n",
    "bin6_1.reset_index(inplace=True, drop=True)\n",
    "\n",
    "print('shape -', bin6_1.shape)\n",
    "print('reset_index 완료')\n",
    "print('input data shape')\n",
    "bin6_1.head()"
   ]
  },
  {
   "cell_type": "code",
   "execution_count": 2,
   "metadata": {},
   "outputs": [
    {
     "name": "stdout",
     "output_type": "stream",
     "text": [
      "256\n",
      "0    27564156\n",
      "1       38715\n",
      "Name: label, dtype: int64\n"
     ]
    }
   ],
   "source": [
    "# (2-1) 데이터체크 1 - hex(16진수)가 256 label을 가져야 dummies 변환 가능 \n",
    "# 16진수 256개 종류가 있어서 pd.get_dummies 사용 가능.\n",
    "print(len(bin6_1['bin'].unique()))\n",
    "\n",
    "# (2-2) 데이터 체크 2 - 1, 0 비율 ==> 1이 함수의 갯수를 뜻함\n",
    "# 정답 데이터 1, 0 비율 확인  ==> 1이 함수의 갯수를 뜻함\n",
    "print(bin6_1['label'].value_counts())"
   ]
  },
  {
   "cell_type": "markdown",
   "metadata": {},
   "source": [
    "## (3) N Byte씩 자르기"
   ]
  },
  {
   "cell_type": "code",
   "execution_count": 3,
   "metadata": {},
   "outputs": [
    {
     "name": "stdout",
     "output_type": "stream",
     "text": [
      "619440\n",
      "나머지 0\n",
      "최종 길이 619440\n",
      "bin6_1 619440\n"
     ]
    }
   ],
   "source": [
    "idx_bin = bin6_1[bin6_1['label']==1].index  # 407, 474 ...\n",
    "ls_bin = list(idx_bin)\n",
    "\n",
    "# 최종 뽑을 행에 대한 index\n",
    "ls_idx_bin = []\n",
    "\n",
    "# n byte 자르기 방식\n",
    "left_idx, right_idx = 0, 16 # 3개씩\n",
    "\n",
    "# n byte 자르기\n",
    "for k in range(left_idx, right_idx):\n",
    "    ls_idx_bin.extend(list(idx_bin + k)) # index 형이라서 가능\n",
    "\n",
    "#ls_idx = list(set(ls_idx)) \n",
    "ls_idx_bin.sort() # 인덱스 정렬\n",
    "\n",
    "# 1차 index 해당범위 초과한 것들 없애기\n",
    "ls_idx_bin = list(filter(lambda x: x<len(bin6_1), ls_idx_bin))\n",
    "print(len(ls_idx_bin))\n",
    "\n",
    "# 2차 남은 index들 중 right_idx 나눈 나머지 없애기\n",
    "sub_bin = len(ls_idx_bin)%(right_idx)\n",
    "print('나머지', sub_bin)\n",
    "\n",
    "ls_idx_bin = ls_idx_bin[:len(ls_idx_bin)-sub_bin]\n",
    "print('최종 길이', len(ls_idx_bin))\n",
    "\n",
    "print('bin6_1', len(ls_idx_bin))\n",
    "\n",
    "# loc 로 수정필요\n",
    "bin6_1_Ngram = bin6_1.loc[ls_idx_bin,:].copy()"
   ]
  },
  {
   "cell_type": "markdown",
   "metadata": {},
   "source": [
    "## (4) false data 만들기"
   ]
  },
  {
   "cell_type": "code",
   "execution_count": 4,
   "metadata": {},
   "outputs": [
    {
     "name": "stdout",
     "output_type": "stream",
     "text": [
      "38715.0\n",
      "0 13108475\n",
      "1000 12523182\n",
      "2000 7971785\n",
      "3000 14443018\n",
      "4000 23748156\n",
      "5000 8693184\n",
      "6000 4343379\n",
      "7000 4012078\n",
      "8000 27345081\n",
      "9000 8845372\n",
      "10000 16617843\n",
      "11000 21656864\n",
      "12000 9014492\n",
      "13000 23163402\n",
      "14000 6351336\n",
      "15000 1317757\n",
      "16000 6535197\n",
      "17000 13035845\n",
      "18000 3221986\n",
      "19000 19245359\n",
      "20000 18294894\n",
      "21000 15496517\n",
      "22000 22558664\n",
      "23000 14120864\n",
      "24000 13350541\n",
      "25000 7718840\n",
      "26000 14061155\n",
      "27000 10222188\n",
      "28000 2515980\n",
      "29000 26140578\n",
      "30000 21873504\n",
      "31000 18956503\n",
      "32000 13939093\n",
      "33000 17852161\n",
      "34000 9957823\n",
      "35000 17265241\n",
      "36000 25049659\n",
      "37000 7762825\n",
      "38000 11006127\n",
      "완료\n",
      "38715\n"
     ]
    }
   ],
   "source": [
    "# false data 만들기 - False 데이터 랜덤 생성\n",
    "\n",
    "# 목표치\n",
    "goal_bin = len(bin6_1_Ngram)/right_idx\n",
    "count_bin = 0\n",
    "\n",
    "print(goal_bin)\n",
    "\n",
    "# 최종 데이터 Frame\n",
    "d_bin = pd.DataFrame(columns = bin6_1.columns)\n",
    "\n",
    "binutils_df = []\n",
    "# goal 에 도달할 때까지\n",
    "while True:\n",
    "    if (count_bin == goal_bin):\n",
    "            break\n",
    "    # 진행상황 살펴보기 위함\n",
    "            \n",
    "    # 랜덤 N 바이트씩 뽑음\n",
    "    # random index\n",
    "    random_idx_bin = np.random.randint(len(bin6_1)-right_idx)\n",
    "\n",
    "    if count_bin % 1000==0:\n",
    "        print(count_bin, end=' ')\n",
    "        print(random_idx_bin)\n",
    "\n",
    "    df_bin = bin6_1[random_idx_bin : random_idx_bin + right_idx]\n",
    "    \n",
    "    # 뽑은 index의 N 바이트 중에 1이 없는 경우만\n",
    "    if 1 not in df_bin['label'] and count_bin < goal_bin:\n",
    "        binutils_df.append(df_bin)\n",
    "        count_bin+=1\n",
    "\n",
    "print('완료')\n",
    "print(len(binutils_df))"
   ]
  },
  {
   "cell_type": "code",
   "execution_count": 5,
   "metadata": {},
   "outputs": [
    {
     "name": "stdout",
     "output_type": "stream",
     "text": [
      "38715\n",
      "38715\n"
     ]
    }
   ],
   "source": [
    "# True data와 False Data 같은지 체크\n",
    "print(len(binutils_df))\n",
    "print(bin6_1['label'].value_counts()[1])"
   ]
  },
  {
   "cell_type": "markdown",
   "metadata": {},
   "source": [
    "## (5) False Data + True Data 합치기"
   ]
  },
  {
   "cell_type": "code",
   "execution_count": 6,
   "metadata": {},
   "outputs": [
    {
     "data": {
      "text/plain": [
       "(1238880, 2)"
      ]
     },
     "execution_count": 6,
     "metadata": {},
     "output_type": "execute_result"
    }
   ],
   "source": [
    "f_data = pd.concat(binutils_df)\n",
    "final = pd.concat([f_data, bin6_1_Ngram])\n",
    "final.shape"
   ]
  },
  {
   "cell_type": "markdown",
   "metadata": {},
   "source": [
    "## (6) one hot encoding"
   ]
  },
  {
   "cell_type": "code",
   "execution_count": 7,
   "metadata": {},
   "outputs": [
    {
     "name": "stdout",
     "output_type": "stream",
     "text": [
      "원핫인코딩완료\n",
      "(1238880, 257)\n"
     ]
    }
   ],
   "source": [
    "# 훈련데이터 (gcc 최적화버전 0, 1, 2, 3 one hot encoding)\n",
    "bc6_1_onehot_Ngram = pd.get_dummies(final['bin'])\n",
    "bc6_1_onehot_Ngram = pd.concat([final['label'], bc6_1_onehot_Ngram], axis=1)\n",
    "\n",
    "print('원핫인코딩완료')\n",
    "print(bc6_1_onehot_Ngram.shape)"
   ]
  },
  {
   "cell_type": "code",
   "execution_count": 8,
   "metadata": {},
   "outputs": [
    {
     "name": "stdout",
     "output_type": "stream",
     "text": [
      "(1238880, 256) (1238880, 256)\n",
      "(77430, 16, 256) (77430, 16, 1)\n"
     ]
    }
   ],
   "source": [
    "# 훈련 데이터, 훈련 라벨\n",
    "x_bc6_1 = bc6_1_onehot_Ngram.iloc[:,1:].to_numpy()\n",
    "y_bc6_1 = bc6_1_onehot_Ngram['label'].to_numpy()\n",
    "print(x_bc6_1.shape, x_bc6_1.shape)\n",
    "\n",
    "x_bc6_1 = x_bc6_1.reshape(-1, right_idx, x_bc6_1.shape[1])\n",
    "y_bc6_1 = y_bc6_1.reshape(-1, right_idx, 1)\n",
    "\n",
    "print(x_bc6_1.shape, y_bc6_1.shape)"
   ]
  },
  {
   "cell_type": "code",
   "execution_count": 9,
   "metadata": {},
   "outputs": [
    {
     "name": "stdout",
     "output_type": "stream",
     "text": [
      "(77430, 16, 256) (77430, 16, 1)\n"
     ]
    }
   ],
   "source": [
    "# numpy 행, 열 섞기\n",
    "p = np.random.permutation(x_bc6_1.shape[0])\n",
    "\n",
    "x_bc6_1 = x_bc6_1[p]\n",
    "y_bc6_1 = y_bc6_1[p]\n",
    "\n",
    "print(x_bc6_1.shape, y_bc6_1.shape)"
   ]
  },
  {
   "cell_type": "markdown",
   "metadata": {},
   "source": [
    "## (7) 모델"
   ]
  },
  {
   "cell_type": "code",
   "execution_count": 10,
   "metadata": {},
   "outputs": [],
   "source": [
    "# (10) 양방향 LSTM 모델링 작업\n",
    "from tensorflow.keras import layers, models\n",
    "#from tf.keras.models import Model, Sequential\n",
    "#from tf.keras.layers import SimpleRNN, Input, Dense, LSTM\n",
    "#from tf.keras.layers import Bidirectional, TimeDistributed\n",
    "\n",
    "# 학습\n",
    "from tensorflow.keras.callbacks import EarlyStopping\n",
    "early_stopping = EarlyStopping(patience = 3) # 조기종료 콜백함수 정의\n",
    "\n",
    "xInput = layers.Input(batch_shape=(None,right_idx, 256)) \n",
    "xBiLstm = layers.Bidirectional(layers.LSTM(24, return_sequences=True, stateful=False), merge_mode = 'concat')(xInput)\n",
    "xOutput = layers.TimeDistributed(layers.Dense(1, activation ='sigmoid'))(xBiLstm) # 각 스텝에서 cost가 전송되고, 오류가 다음 step으로 전송됨."
   ]
  },
  {
   "cell_type": "markdown",
   "metadata": {},
   "source": [
    "## (8) 학습 - 10 KFold"
   ]
  },
  {
   "cell_type": "code",
   "execution_count": 11,
   "metadata": {
    "scrolled": false
   },
   "outputs": [
    {
     "name": "stdout",
     "output_type": "stream",
     "text": [
      "Model: \"model\"\n",
      "_________________________________________________________________\n",
      "Layer (type)                 Output Shape              Param #   \n",
      "=================================================================\n",
      "input_1 (InputLayer)         [(None, 16, 256)]         0         \n",
      "_________________________________________________________________\n",
      "bidirectional (Bidirectional (None, 16, 48)            53952     \n",
      "_________________________________________________________________\n",
      "time_distributed (TimeDistri (None, 16, 1)             49        \n",
      "=================================================================\n",
      "Total params: 54,001\n",
      "Trainable params: 54,001\n",
      "Non-trainable params: 0\n",
      "_________________________________________________________________\n",
      "======Training stage======\n",
      "Train on 69687 samples\n",
      "Epoch 1/10\n",
      "69536/69687 [============================>.] - ETA: 0s - loss: 0.0304 - accuracy: 0.9923WARNING:tensorflow:Early stopping conditioned on metric `val_loss` which is not available. Available metrics are: loss,accuracy\n",
      "69687/69687 [==============================] - 27s 386us/sample - loss: 0.0303 - accuracy: 0.9923\n",
      "Epoch 2/10\n",
      "69600/69687 [============================>.] - ETA: 0s - loss: 0.0057 - accuracy: 0.9983WARNING:tensorflow:Early stopping conditioned on metric `val_loss` which is not available. Available metrics are: loss,accuracy\n",
      "69687/69687 [==============================] - 23s 336us/sample - loss: 0.0057 - accuracy: 0.9983\n",
      "Epoch 3/10\n",
      "69536/69687 [============================>.] - ETA: 0s - loss: 0.0041 - accuracy: 0.9988WARNING:tensorflow:Early stopping conditioned on metric `val_loss` which is not available. Available metrics are: loss,accuracy\n",
      "69687/69687 [==============================] - 23s 333us/sample - loss: 0.0041 - accuracy: 0.9988\n",
      "Epoch 4/10\n",
      "69536/69687 [============================>.] - ETA: 0s - loss: 0.0032 - accuracy: 0.9991WARNING:tensorflow:Early stopping conditioned on metric `val_loss` which is not available. Available metrics are: loss,accuracy\n",
      "69687/69687 [==============================] - 23s 329us/sample - loss: 0.0032 - accuracy: 0.9991\n",
      "Epoch 5/10\n",
      "69664/69687 [============================>.] - ETA: 0s - loss: 0.0026 - accuracy: 0.9992WARNING:tensorflow:Early stopping conditioned on metric `val_loss` which is not available. Available metrics are: loss,accuracy\n",
      "69687/69687 [==============================] - 23s 331us/sample - loss: 0.0026 - accuracy: 0.9992\n",
      "Epoch 6/10\n",
      "69632/69687 [============================>.] - ETA: 0s - loss: 0.0022 - accuracy: 0.9994WARNING:tensorflow:Early stopping conditioned on metric `val_loss` which is not available. Available metrics are: loss,accuracy\n",
      "69687/69687 [==============================] - 23s 327us/sample - loss: 0.0022 - accuracy: 0.9994\n",
      "Epoch 7/10\n",
      "69536/69687 [============================>.] - ETA: 0s - loss: 0.0020 - accuracy: 0.9995WARNING:tensorflow:Early stopping conditioned on metric `val_loss` which is not available. Available metrics are: loss,accuracy\n",
      "69687/69687 [==============================] - 21s 304us/sample - loss: 0.0020 - accuracy: 0.9995\n",
      "Epoch 8/10\n",
      "69600/69687 [============================>.] - ETA: 0s - loss: 0.0018 - accuracy: 0.9995WARNING:tensorflow:Early stopping conditioned on metric `val_loss` which is not available. Available metrics are: loss,accuracy\n",
      "69687/69687 [==============================] - 23s 327us/sample - loss: 0.0018 - accuracy: 0.9995\n",
      "Epoch 9/10\n",
      "69632/69687 [============================>.] - ETA: 0s - loss: 0.0016 - accuracy: 0.9996WARNING:tensorflow:Early stopping conditioned on metric `val_loss` which is not available. Available metrics are: loss,accuracy\n",
      "69687/69687 [==============================] - 23s 324us/sample - loss: 0.0016 - accuracy: 0.9996\n",
      "Epoch 10/10\n",
      "69632/69687 [============================>.] - ETA: 0s - loss: 0.0015 - accuracy: 0.9996WARNING:tensorflow:Early stopping conditioned on metric `val_loss` which is not available. Available metrics are: loss,accuracy\n",
      "69687/69687 [==============================] - 23s 327us/sample - loss: 0.0015 - accuracy: 0.9996\n"
     ]
    },
    {
     "data": {
      "text/plain": [
       "<tensorflow.python.keras.callbacks.History at 0x1f9b707ce08>"
      ]
     },
     "execution_count": 11,
     "metadata": {},
     "output_type": "execute_result"
    },
    {
     "name": "stdout",
     "output_type": "stream",
     "text": [
      "accuracy_score 0.9993865426837143\n",
      "recall_score 0.9918951132300358\n",
      "precision_score 0.9900071377587437\n",
      "f1_score 0.9909502262443439\n",
      "Model: \"model_1\"\n",
      "_________________________________________________________________\n",
      "Layer (type)                 Output Shape              Param #   \n",
      "=================================================================\n",
      "input_1 (InputLayer)         [(None, 16, 256)]         0         \n",
      "_________________________________________________________________\n",
      "bidirectional (Bidirectional (None, 16, 48)            53952     \n",
      "_________________________________________________________________\n",
      "time_distributed (TimeDistri (None, 16, 1)             49        \n",
      "=================================================================\n",
      "Total params: 54,001\n",
      "Trainable params: 54,001\n",
      "Non-trainable params: 0\n",
      "_________________________________________________________________\n",
      "======Training stage======\n",
      "Train on 69687 samples\n",
      "Epoch 1/10\n",
      "69600/69687 [============================>.] - ETA: 0s - loss: 0.0014 - accuracy: 0.9996WARNING:tensorflow:Early stopping conditioned on metric `val_loss` which is not available. Available metrics are: loss,accuracy\n",
      "69687/69687 [==============================] - 27s 391us/sample - loss: 0.0014 - accuracy: 0.9996\n",
      "Epoch 2/10\n",
      "69568/69687 [============================>.] - ETA: 0s - loss: 0.0013 - accuracy: 0.9996WARNING:tensorflow:Early stopping conditioned on metric `val_loss` which is not available. Available metrics are: loss,accuracy\n",
      "69687/69687 [==============================] - 23s 327us/sample - loss: 0.0013 - accuracy: 0.9996\n",
      "Epoch 3/10\n",
      "69536/69687 [============================>.] - ETA: 0s - loss: 0.0012 - accuracy: 0.9997WARNING:tensorflow:Early stopping conditioned on metric `val_loss` which is not available. Available metrics are: loss,accuracy\n",
      "69687/69687 [==============================] - 23s 328us/sample - loss: 0.0012 - accuracy: 0.9997\n",
      "Epoch 4/10\n",
      "69536/69687 [============================>.] - ETA: 0s - loss: 0.0012 - accuracy: 0.9997WARNING:tensorflow:Early stopping conditioned on metric `val_loss` which is not available. Available metrics are: loss,accuracy\n",
      "69687/69687 [==============================] - 23s 327us/sample - loss: 0.0012 - accuracy: 0.9997\n",
      "Epoch 5/10\n",
      "69664/69687 [============================>.] - ETA: 0s - loss: 0.0010 - accuracy: 0.9997WARNING:tensorflow:Early stopping conditioned on metric `val_loss` which is not available. Available metrics are: loss,accuracy\n",
      "69687/69687 [==============================] - 23s 326us/sample - loss: 0.0010 - accuracy: 0.9997\n",
      "Epoch 6/10\n",
      "69664/69687 [============================>.] - ETA: 0s - loss: 0.0010 - accuracy: 0.9997WARNING:tensorflow:Early stopping conditioned on metric `val_loss` which is not available. Available metrics are: loss,accuracy\n",
      "69687/69687 [==============================] - 23s 326us/sample - loss: 0.0010 - accuracy: 0.9997\n",
      "Epoch 7/10\n",
      "69536/69687 [============================>.] - ETA: 0s - loss: 9.2871e-04 - accuracy: 0.9997WARNING:tensorflow:Early stopping conditioned on metric `val_loss` which is not available. Available metrics are: loss,accuracy\n",
      "69687/69687 [==============================] - 22s 314us/sample - loss: 9.2722e-04 - accuracy: 0.9997\n",
      "Epoch 8/10\n",
      "69600/69687 [============================>.] - ETA: 0s - loss: 9.1572e-04 - accuracy: 0.9998WARNING:tensorflow:Early stopping conditioned on metric `val_loss` which is not available. Available metrics are: loss,accuracy\n",
      "69687/69687 [==============================] - 24s 341us/sample - loss: 9.1460e-04 - accuracy: 0.9998\n",
      "Epoch 9/10\n",
      "69568/69687 [============================>.] - ETA: 0s - loss: 8.3993e-04 - accuracy: 0.9998WARNING:tensorflow:Early stopping conditioned on metric `val_loss` which is not available. Available metrics are: loss,accuracy\n",
      "69687/69687 [==============================] - 28s 407us/sample - loss: 8.3869e-04 - accuracy: 0.9998\n",
      "Epoch 10/10\n",
      "69600/69687 [============================>.] - ETA: 0s - loss: 8.0347e-04 - accuracy: 0.9998WARNING:tensorflow:Early stopping conditioned on metric `val_loss` which is not available. Available metrics are: loss,accuracy\n",
      "69687/69687 [==============================] - 29s 419us/sample - loss: 8.0253e-04 - accuracy: 0.9998\n"
     ]
    },
    {
     "data": {
      "text/plain": [
       "<tensorflow.python.keras.callbacks.History at 0x1f9a5727cc8>"
      ]
     },
     "execution_count": 11,
     "metadata": {},
     "output_type": "execute_result"
    },
    {
     "name": "stdout",
     "output_type": "stream",
     "text": [
      "accuracy_score 0.9995721942399587\n",
      "recall_score 0.9943957115009746\n",
      "precision_score 0.9927025054731209\n",
      "f1_score 0.9935483870967742\n",
      "Model: \"model_2\"\n",
      "_________________________________________________________________\n",
      "Layer (type)                 Output Shape              Param #   \n",
      "=================================================================\n",
      "input_1 (InputLayer)         [(None, 16, 256)]         0         \n",
      "_________________________________________________________________\n",
      "bidirectional (Bidirectional (None, 16, 48)            53952     \n",
      "_________________________________________________________________\n",
      "time_distributed (TimeDistri (None, 16, 1)             49        \n",
      "=================================================================\n",
      "Total params: 54,001\n",
      "Trainable params: 54,001\n",
      "Non-trainable params: 0\n",
      "_________________________________________________________________\n",
      "======Training stage======\n",
      "Train on 69687 samples\n",
      "Epoch 1/10\n",
      "69600/69687 [============================>.] - ETA: 0s - loss: 8.6267e-04 - accuracy: 0.9997 ETA: 3s - loss: - ETA: 1s -WARNING:tensorflow:Early stopping conditioned on metric `val_loss` which is not available. Available metrics are: loss,accuracy\n",
      "69687/69687 [==============================] - 37s 528us/sample - loss: 8.6233e-04 - accuracy: 0.9997\n",
      "Epoch 2/10\n",
      "69632/69687 [============================>.] - ETA: 0s - loss: 7.8328e-04 - accuracy: 0.9998WARNING:tensorflow:Early stopping conditioned on metric `val_loss` which is not available. Available metrics are: loss,accuracy\n",
      "69687/69687 [==============================] - 35s 507us/sample - loss: 7.8610e-04 - accuracy: 0.9998\n",
      "Epoch 3/10\n",
      "69600/69687 [============================>.] - ETA: 0s - loss: 7.1959e-04 - accuracy: 0.9998WARNING:tensorflow:Early stopping conditioned on metric `val_loss` which is not available. Available metrics are: loss,accuracy\n",
      "69687/69687 [==============================] - 38s 540us/sample - loss: 7.1903e-04 - accuracy: 0.9998\n",
      "Epoch 4/10\n",
      "69632/69687 [============================>.] - ETA: 0s - loss: 6.7864e-04 - accuracy: 0.9998 ETA: 3s - loss: - ETA: 2s - losWARNING:tensorflow:Early stopping conditioned on metric `val_loss` which is not available. Available metrics are: loss,accuracy\n",
      "69687/69687 [==============================] - 38s 543us/sample - loss: 6.8141e-04 - accuracy: 0.9998\n",
      "Epoch 5/10\n",
      "69664/69687 [============================>.] - ETA: 0s - loss: 6.5732e-04 - accuracy: 0.9998WARNING:tensorflow:Early stopping conditioned on metric `val_loss` which is not available. Available metrics are: loss,accuracy\n",
      "69687/69687 [==============================] - 39s 559us/sample - loss: 6.5712e-04 - accuracy: 0.9998\n",
      "Epoch 6/10\n",
      "69632/69687 [============================>.] - ETA: 0s - loss: 6.1907e-04 - accuracy: 0.99 - ETA: 0s - loss: 6.1823e-04 - accuracy: 0.9998WARNING:tensorflow:Early stopping conditioned on metric `val_loss` which is not available. Available metrics are: loss,accuracy\n",
      "69687/69687 [==============================] - 38s 543us/sample - loss: 6.1777e-04 - accuracy: 0.9998\n",
      "Epoch 7/10\n",
      "69664/69687 [============================>.] - ETA: 0s - loss: 5.7260e-04 - accuracy: 0.9998WARNING:tensorflow:Early stopping conditioned on metric `val_loss` which is not available. Available metrics are: loss,accuracy\n",
      "69687/69687 [==============================] - 37s 536us/sample - loss: 5.7242e-04 - accuracy: 0.9998\n",
      "Epoch 8/10\n",
      "69600/69687 [============================>.] - ETA: 0s - loss: 5.4523e-04 - accuracy: 0.9999 ETA: 0s - loss: 5.4514e-04 - accuracy: 0.99WARNING:tensorflow:Early stopping conditioned on metric `val_loss` which is not available. Available metrics are: loss,accuracy\n",
      "69687/69687 [==============================] - 33s 472us/sample - loss: 5.4466e-04 - accuracy: 0.9999\n",
      "Epoch 9/10\n",
      "69664/69687 [============================>.] - ETA: 0s - loss: 5.1829e-04 - accuracy: 0.9999WARNING:tensorflow:Early stopping conditioned on metric `val_loss` which is not available. Available metrics are: loss,accuracy\n",
      "69687/69687 [==============================] - 37s 534us/sample - loss: 5.1947e-04 - accuracy: 0.9999\n",
      "Epoch 10/10\n",
      "69664/69687 [============================>.] - ETA: 0s - loss: 5.1225e-04 - accuracy: 0.9999WARNING:tensorflow:Early stopping conditioned on metric `val_loss` which is not available. Available metrics are: loss,accuracy\n",
      "69687/69687 [==============================] - 38s 541us/sample - loss: 5.1208e-04 - accuracy: 0.9999\n"
     ]
    },
    {
     "data": {
      "text/plain": [
       "<tensorflow.python.keras.callbacks.History at 0x1f9a92c2a88>"
      ]
     },
     "execution_count": 11,
     "metadata": {},
     "output_type": "execute_result"
    },
    {
     "name": "stdout",
     "output_type": "stream",
     "text": [
      "accuracy_score 0.9996690559214775\n",
      "recall_score 0.9942390782525204\n",
      "precision_score 0.9959124789612888\n",
      "f1_score 0.995075075075075\n",
      "Model: \"model_3\"\n",
      "_________________________________________________________________\n",
      "Layer (type)                 Output Shape              Param #   \n",
      "=================================================================\n",
      "input_1 (InputLayer)         [(None, 16, 256)]         0         \n",
      "_________________________________________________________________\n",
      "bidirectional (Bidirectional (None, 16, 48)            53952     \n",
      "_________________________________________________________________\n",
      "time_distributed (TimeDistri (None, 16, 1)             49        \n",
      "=================================================================\n",
      "Total params: 54,001\n",
      "Trainable params: 54,001\n",
      "Non-trainable params: 0\n",
      "_________________________________________________________________\n",
      "======Training stage======\n",
      "Train on 69687 samples\n",
      "Epoch 1/10\n",
      "69600/69687 [============================>.] - ETA: 0s - loss: 5.9260e-04 - accuracy: 0.9999WARNING:tensorflow:Early stopping conditioned on metric `val_loss` which is not available. Available metrics are: loss,accuracy\n",
      "69687/69687 [==============================] - 44s 632us/sample - loss: 5.9192e-04 - accuracy: 0.9999\n",
      "Epoch 2/10\n",
      "69600/69687 [============================>.] - ETA: 0s - loss: 5.0945e-04 - accuracy: 0.9999WARNING:tensorflow:Early stopping conditioned on metric `val_loss` which is not available. Available metrics are: loss,accuracy\n",
      "69687/69687 [==============================] - 36s 513us/sample - loss: 5.0883e-04 - accuracy: 0.9999\n",
      "Epoch 3/10\n",
      "69664/69687 [============================>.] - ETA: 0s - loss: 4.6504e-04 - accuracy: 0.9999 ETA: 0s - loss: 4.6707e-04 - accuWARNING:tensorflow:Early stopping conditioned on metric `val_loss` which is not available. Available metrics are: loss,accuracy\n",
      "69687/69687 [==============================] - 38s 542us/sample - loss: 4.6489e-04 - accuracy: 0.9999\n",
      "Epoch 4/10\n",
      "69600/69687 [============================>.] - ETA: 0s - loss: 4.6012e-04 - accuracy: 0.9999WARNING:tensorflow:Early stopping conditioned on metric `val_loss` which is not available. Available metrics are: loss,accuracy\n",
      "69687/69687 [==============================] - 38s 542us/sample - loss: 4.5956e-04 - accuracy: 0.9999\n",
      "Epoch 5/10\n",
      "69600/69687 [============================>.] - ETA: 0s - loss: 4.3027e-04 - accuracy: 0.9999WARNING:tensorflow:Early stopping conditioned on metric `val_loss` which is not available. Available metrics are: loss,accuracy\n",
      "69687/69687 [==============================] - 38s 538us/sample - loss: 4.2975e-04 - accuracy: 0.9999\n",
      "Epoch 6/10\n",
      "69568/69687 [============================>.] - ETA: 0s - loss: 4.1488e-04 - accuracy: 0.9999 ETAWARNING:tensorflow:Early stopping conditioned on metric `val_loss` which is not available. Available metrics are: loss,accuracy\n",
      "69687/69687 [==============================] - 38s 543us/sample - loss: 4.1432e-04 - accuracy: 0.9999\n",
      "Epoch 7/10\n",
      "69632/69687 [============================>.] - ETA: 0s - loss: 3.8860e-04 - accuracy: 0.9999WARNING:tensorflow:Early stopping conditioned on metric `val_loss` which is not available. Available metrics are: loss,accuracy\n",
      "69687/69687 [==============================] - 36s 510us/sample - loss: 3.8886e-04 - accuracy: 0.9999\n",
      "Epoch 8/10\n",
      "69664/69687 [============================>.] - ETA: 0s - loss: 3.7592e-04 - accuracy: 0.9999 ETA: 0s - lWARNING:tensorflow:Early stopping conditioned on metric `val_loss` which is not available. Available metrics are: loss,accuracy\n",
      "69687/69687 [==============================] - 35s 509us/sample - loss: 3.7580e-04 - accuracy: 0.9999\n",
      "Epoch 9/10\n",
      "69600/69687 [============================>.] - ETA: 0s - loss: 3.7167e-04 - accuracy: 0.9999WARNING:tensorflow:Early stopping conditioned on metric `val_loss` which is not available. Available metrics are: loss,accuracy\n",
      "69687/69687 [==============================] - 38s 539us/sample - loss: 3.7121e-04 - accuracy: 0.9999\n",
      "Epoch 10/10\n",
      "69600/69687 [============================>.] - ETA: 0s - loss: 3.5599e-04 - accuracy: 0.9999WARNING:tensorflow:Early stopping conditioned on metric `val_loss` which is not available. Available metrics are: loss,accuracy\n",
      "69687/69687 [==============================] - 37s 537us/sample - loss: 3.5562e-04 - accuracy: 0.9999\n"
     ]
    },
    {
     "data": {
      "text/plain": [
       "<tensorflow.python.keras.callbacks.History at 0x1f9a608ef48>"
      ]
     },
     "execution_count": 11,
     "metadata": {},
     "output_type": "execute_result"
    },
    {
     "name": "stdout",
     "output_type": "stream",
     "text": [
      "accuracy_score 0.9998466356709286\n",
      "recall_score 0.9972235076353541\n",
      "precision_score 0.9983785035904563\n",
      "f1_score 0.9978006713740016\n",
      "Model: \"model_4\"\n",
      "_________________________________________________________________\n",
      "Layer (type)                 Output Shape              Param #   \n",
      "=================================================================\n",
      "input_1 (InputLayer)         [(None, 16, 256)]         0         \n",
      "_________________________________________________________________\n",
      "bidirectional (Bidirectional (None, 16, 48)            53952     \n",
      "_________________________________________________________________\n",
      "time_distributed (TimeDistri (None, 16, 1)             49        \n",
      "=================================================================\n",
      "Total params: 54,001\n",
      "Trainable params: 54,001\n",
      "Non-trainable params: 0\n",
      "_________________________________________________________________\n",
      "======Training stage======\n",
      "Train on 69687 samples\n",
      "Epoch 1/10\n",
      "69568/69687 [============================>.] - ETA: 0s - loss: 3.9858e-04 - accuracy: 0.9999 ETA: 0s - loss: 4.0577e-0WARNING:tensorflow:Early stopping conditioned on metric `val_loss` which is not available. Available metrics are: loss,accuracy\n",
      "69687/69687 [==============================] - 43s 621us/sample - loss: 3.9791e-04 - accuracy: 0.9999\n",
      "Epoch 2/10\n",
      "69600/69687 [============================>.] - ETA: 0s - loss: 3.8712e-04 - accuracy: 0.9999WARNING:tensorflow:Early stopping conditioned on metric `val_loss` which is not available. Available metrics are: loss,accuracy\n",
      "69687/69687 [==============================] - 37s 535us/sample - loss: 3.8674e-04 - accuracy: 0.9999\n",
      "Epoch 3/10\n",
      "69600/69687 [============================>.] - ETA: 0s - loss: 3.4933e-04 - accuracy: 0.9999WARNING:tensorflow:Early stopping conditioned on metric `val_loss` which is not available. Available metrics are: loss,accuracy\n",
      "69687/69687 [==============================] - 38s 547us/sample - loss: 3.4896e-04 - accuracy: 0.9999\n",
      "Epoch 4/10\n",
      "69632/69687 [============================>.] - ETA: 0s - loss: 3.3868e-04 - accuracy: 0.9999WARNING:tensorflow:Early stopping conditioned on metric `val_loss` which is not available. Available metrics are: loss,accuracy\n",
      "69687/69687 [==============================] - 38s 548us/sample - loss: 3.3853e-04 - accuracy: 0.9999\n",
      "Epoch 5/10\n",
      "69600/69687 [============================>.] - ETA: 0s - loss: 3.0757e-04 - accuracy: 0.9999WARNING:tensorflow:Early stopping conditioned on metric `val_loss` which is not available. Available metrics are: loss,accuracy\n",
      "69687/69687 [==============================] - 38s 543us/sample - loss: 3.0725e-04 - accuracy: 0.9999\n",
      "Epoch 6/10\n",
      "69632/69687 [============================>.] - ETA: 0s - loss: 3.0078e-04 - accuracy: 0.9999WARNING:tensorflow:Early stopping conditioned on metric `val_loss` which is not available. Available metrics are: loss,accuracy\n",
      "69687/69687 [==============================] - 36s 511us/sample - loss: 3.0054e-04 - accuracy: 0.9999\n",
      "Epoch 7/10\n",
      "69664/69687 [============================>.] - ETA: 0s - loss: 2.9541e-04 - accuracy: 0.9999 ETA: 0s - loss: 2.9WARNING:tensorflow:Early stopping conditioned on metric `val_loss` which is not available. Available metrics are: loss,accuracy\n",
      "69687/69687 [==============================] - 38s 542us/sample - loss: 2.9532e-04 - accuracy: 0.9999\n",
      "Epoch 8/10\n",
      "69600/69687 [============================>.] - ETA: 0s - loss: 3.1195e-04 - accuracy: 0.9999WARNING:tensorflow:Early stopping conditioned on metric `val_loss` which is not available. Available metrics are: loss,accuracy\n",
      "69687/69687 [==============================] - 36s 513us/sample - loss: 3.1158e-04 - accuracy: 0.9999\n",
      "Epoch 9/10\n",
      "69632/69687 [============================>.] - ETA: 0s - loss: 2.6154e-04 - accuracy: 0.9999WARNING:tensorflow:Early stopping conditioned on metric `val_loss` which is not available. Available metrics are: loss,accuracy\n",
      "69687/69687 [==============================] - 38s 547us/sample - loss: 2.6135e-04 - accuracy: 0.9999\n",
      "Epoch 10/10\n",
      "69632/69687 [============================>.] - ETA: 0s - loss: 2.5219e-04 - accuracy: 0.9999WARNING:tensorflow:Early stopping conditioned on metric `val_loss` which is not available. Available metrics are: loss,accuracy\n",
      "69687/69687 [==============================] - 39s 556us/sample - loss: 2.5200e-04 - accuracy: 0.9999\n"
     ]
    },
    {
     "data": {
      "text/plain": [
       "<tensorflow.python.keras.callbacks.History at 0x1f9c1a12488>"
      ]
     },
     "execution_count": 11,
     "metadata": {},
     "output_type": "execute_result"
    },
    {
     "name": "stdout",
     "output_type": "stream",
     "text": [
      "accuracy_score 0.9998466356709286\n",
      "recall_score 0.9978535654662533\n",
      "precision_score 0.9976156413924654\n",
      "f1_score 0.9977345892452606\n",
      "Model: \"model_5\"\n",
      "_________________________________________________________________\n",
      "Layer (type)                 Output Shape              Param #   \n",
      "=================================================================\n",
      "input_1 (InputLayer)         [(None, 16, 256)]         0         \n",
      "_________________________________________________________________\n",
      "bidirectional (Bidirectional (None, 16, 48)            53952     \n",
      "_________________________________________________________________\n",
      "time_distributed (TimeDistri (None, 16, 1)             49        \n",
      "=================================================================\n",
      "Total params: 54,001\n",
      "Trainable params: 54,001\n",
      "Non-trainable params: 0\n",
      "_________________________________________________________________\n",
      "======Training stage======\n",
      "Train on 69687 samples\n",
      "Epoch 1/10\n",
      "69600/69687 [============================>.] - ETA: 0s - loss: 3.0217e-04 - accuracy: 0.9999WARNING:tensorflow:Early stopping conditioned on metric `val_loss` which is not available. Available metrics are: loss,accuracy\n",
      "69687/69687 [==============================] - 44s 632us/sample - loss: 3.0181e-04 - accuracy: 0.9999\n",
      "Epoch 2/10\n",
      "69632/69687 [============================>.] - ETA: 0s - loss: 2.6738e-04 - accuracy: 0.9999WARNING:tensorflow:Early stopping conditioned on metric `val_loss` which is not available. Available metrics are: loss,accuracy\n",
      "69687/69687 [==============================] - 40s 574us/sample - loss: 2.6717e-04 - accuracy: 0.9999\n",
      "Epoch 3/10\n",
      "69632/69687 [============================>.] - ETA: 0s - loss: 2.5948e-04 - accuracy: 0.9999WARNING:tensorflow:Early stopping conditioned on metric `val_loss` which is not available. Available metrics are: loss,accuracy\n",
      "69687/69687 [==============================] - 40s 575us/sample - loss: 2.5928e-04 - accuracy: 0.9999\n",
      "Epoch 4/10\n",
      "69632/69687 [============================>.] - ETA: 0s - loss: 2.2986e-04 - accuracy: 0.9999WARNING:tensorflow:Early stopping conditioned on metric `val_loss` which is not available. Available metrics are: loss,accuracy\n",
      "69687/69687 [==============================] - 40s 572us/sample - loss: 2.2970e-04 - accuracy: 0.9999\n",
      "Epoch 5/10\n",
      "69632/69687 [============================>.] - ETA: 0s - loss: 2.2883e-04 - accuracy: 0.9999WARNING:tensorflow:Early stopping conditioned on metric `val_loss` which is not available. Available metrics are: loss,accuracy\n",
      "69687/69687 [==============================] - 38s 543us/sample - loss: 2.2865e-04 - accuracy: 0.9999\n",
      "Epoch 6/10\n",
      "69632/69687 [============================>.] - ETA: 0s - loss: 1.9716e-04 - accuracy: 0.9999WARNING:tensorflow:Early stopping conditioned on metric `val_loss` which is not available. Available metrics are: loss,accuracy\n",
      "69687/69687 [==============================] - 40s 570us/sample - loss: 1.9700e-04 - accuracy: 0.9999\n",
      "Epoch 7/10\n",
      "69664/69687 [============================>.] - ETA: 0s - loss: 1.9952e-04 - accuracy: 1.0000WARNING:tensorflow:Early stopping conditioned on metric `val_loss` which is not available. Available metrics are: loss,accuracy\n",
      "69687/69687 [==============================] - 40s 572us/sample - loss: 1.9945e-04 - accuracy: 1.0000\n",
      "Epoch 8/10\n",
      "69664/69687 [============================>.] - ETA: 0s - loss: 1.7624e-04 - accuracy: 1.0000WARNING:tensorflow:Early stopping conditioned on metric `val_loss` which is not available. Available metrics are: loss,accuracy\n",
      "69687/69687 [==============================] - 37s 525us/sample - loss: 1.7619e-04 - accuracy: 1.0000\n",
      "Epoch 9/10\n",
      "69664/69687 [============================>.] - ETA: 0s - loss: 1.6289e-04 - accuracy: 1.0000WARNING:tensorflow:Early stopping conditioned on metric `val_loss` which is not available. Available metrics are: loss,accuracy\n",
      "69687/69687 [==============================] - 39s 555us/sample - loss: 1.6284e-04 - accuracy: 1.0000\n",
      "Epoch 10/10\n",
      "69600/69687 [============================>.] - ETA: 0s - loss: 1.6352e-04 - accuracy: 1.0000WARNING:tensorflow:Early stopping conditioned on metric `val_loss` which is not available. Available metrics are: loss,accuracy\n",
      "69687/69687 [==============================] - 39s 557us/sample - loss: 1.6335e-04 - accuracy: 1.0000\n"
     ]
    },
    {
     "data": {
      "text/plain": [
       "<tensorflow.python.keras.callbacks.History at 0x1f9a709b5c8>"
      ]
     },
     "execution_count": 11,
     "metadata": {},
     "output_type": "execute_result"
    },
    {
     "name": "stdout",
     "output_type": "stream",
     "text": [
      "accuracy_score 0.9998304920573421\n",
      "recall_score 0.9966329966329966\n",
      "precision_score 0.9983136593591906\n",
      "f1_score 0.9974726200505475\n",
      "Model: \"model_6\"\n",
      "_________________________________________________________________\n",
      "Layer (type)                 Output Shape              Param #   \n",
      "=================================================================\n",
      "input_1 (InputLayer)         [(None, 16, 256)]         0         \n",
      "_________________________________________________________________\n",
      "bidirectional (Bidirectional (None, 16, 48)            53952     \n",
      "_________________________________________________________________\n",
      "time_distributed (TimeDistri (None, 16, 1)             49        \n",
      "=================================================================\n",
      "Total params: 54,001\n",
      "Trainable params: 54,001\n",
      "Non-trainable params: 0\n",
      "_________________________________________________________________\n",
      "======Training stage======\n",
      "Train on 69687 samples\n",
      "Epoch 1/10\n",
      "69664/69687 [============================>.] - ETA: 0s - loss: 2.0534e-04 - accuracy: 0.9999WARNING:tensorflow:Early stopping conditioned on metric `val_loss` which is not available. Available metrics are: loss,accuracy\n",
      "69687/69687 [==============================] - 41s 595us/sample - loss: 2.0528e-04 - accuracy: 0.9999\n",
      "Epoch 2/10\n",
      "69632/69687 [============================>.] - ETA: 0s - loss: 1.9633e-04 - accuracy: 1.0000 ETA: 0s - loss: 1WARNING:tensorflow:Early stopping conditioned on metric `val_loss` which is not available. Available metrics are: loss,accuracy\n",
      "69687/69687 [==============================] - 36s 520us/sample - loss: 1.9617e-04 - accuracy: 1.0000\n",
      "Epoch 3/10\n",
      "69568/69687 [============================>.] - ETA: 0s - loss: 1.5864e-04 - accuracy: 1.0000WARNING:tensorflow:Early stopping conditioned on metric `val_loss` which is not available. Available metrics are: loss,accuracy\n",
      "69687/69687 [==============================] - 36s 519us/sample - loss: 1.5899e-04 - accuracy: 1.0000\n",
      "Epoch 4/10\n",
      "69664/69687 [============================>.] - ETA: 0s - loss: 1.6165e-04 - accuracy: 1.0000WARNING:tensorflow:Early stopping conditioned on metric `val_loss` which is not available. Available metrics are: loss,accuracy\n",
      "69687/69687 [==============================] - 34s 488us/sample - loss: 1.6164e-04 - accuracy: 1.0000\n",
      "Epoch 5/10\n",
      "69664/69687 [============================>.] - ETA: 0s - loss: 1.4901e-04 - accuracy: 1.0000WARNING:tensorflow:Early stopping conditioned on metric `val_loss` which is not available. Available metrics are: loss,accuracy\n",
      "69687/69687 [==============================] - 36s 516us/sample - loss: 1.4897e-04 - accuracy: 1.0000\n",
      "Epoch 6/10\n",
      "69568/69687 [============================>.] - ETA: 0s - loss: 1.4084e-04 - accuracy: 1.0000WARNING:tensorflow:Early stopping conditioned on metric `val_loss` which is not available. Available metrics are: loss,accuracy\n",
      "69687/69687 [==============================] - 36s 515us/sample - loss: 1.4061e-04 - accuracy: 1.0000\n",
      "Epoch 7/10\n",
      "69664/69687 [============================>.] - ETA: 0s - loss: 1.3759e-04 - accuracy: 1.0000 ETA: 1s - los - ETA: 0s - loss: 1.4066e-04  - ETA: 0s - loss: 1.3870e-04 - accuWARNING:tensorflow:Early stopping conditioned on metric `val_loss` which is not available. Available metrics are: loss,accuracy\n",
      "69687/69687 [==============================] - 36s 517us/sample - loss: 1.3755e-04 - accuracy: 1.0000\n",
      "Epoch 8/10\n",
      "69600/69687 [============================>.] - ETA: 0s - loss: 1.3339e-04 - accuracy: 1.0000WARNING:tensorflow:Early stopping conditioned on metric `val_loss` which is not available. Available metrics are: loss,accuracy\n",
      "69687/69687 [==============================] - 37s 524us/sample - loss: 1.3325e-04 - accuracy: 1.0000\n",
      "Epoch 9/10\n",
      "69568/69687 [============================>.] - ETA: 0s - loss: 1.3386e-04 - accuracy: 1.0000WARNING:tensorflow:Early stopping conditioned on metric `val_loss` which is not available. Available metrics are: loss,accuracy\n",
      "69687/69687 [==============================] - 36s 519us/sample - loss: 1.3363e-04 - accuracy: 1.0000\n",
      "Epoch 10/10\n",
      "69600/69687 [============================>.] - ETA: 0s - loss: 1.0336e-04 - accuracy: 1.0000WARNING:tensorflow:Early stopping conditioned on metric `val_loss` which is not available. Available metrics are: loss,accuracy\n",
      "69687/69687 [==============================] - 36s 516us/sample - loss: 1.0324e-04 - accuracy: 1.0000\n"
     ]
    },
    {
     "data": {
      "text/plain": [
       "<tensorflow.python.keras.callbacks.History at 0x1f9ba32ea88>"
      ]
     },
     "execution_count": 11,
     "metadata": {},
     "output_type": "execute_result"
    },
    {
     "name": "stdout",
     "output_type": "stream",
     "text": [
      "accuracy_score 0.9999273537388609\n",
      "recall_score 0.9990451181666269\n",
      "precision_score 0.9988066825775657\n",
      "f1_score 0.9989258861439313\n",
      "Model: \"model_7\"\n",
      "_________________________________________________________________\n",
      "Layer (type)                 Output Shape              Param #   \n",
      "=================================================================\n",
      "input_1 (InputLayer)         [(None, 16, 256)]         0         \n",
      "_________________________________________________________________\n",
      "bidirectional (Bidirectional (None, 16, 48)            53952     \n",
      "_________________________________________________________________\n",
      "time_distributed (TimeDistri (None, 16, 1)             49        \n",
      "=================================================================\n",
      "Total params: 54,001\n",
      "Trainable params: 54,001\n",
      "Non-trainable params: 0\n",
      "_________________________________________________________________\n",
      "======Training stage======\n",
      "Train on 69687 samples\n",
      "Epoch 1/10\n",
      "69632/69687 [============================>.] - ETA: 0s - loss: 1.5528e-04 - accuracy: 1.0000WARNING:tensorflow:Early stopping conditioned on metric `val_loss` which is not available. Available metrics are: loss,accuracy\n",
      "69687/69687 [==============================] - 47s 673us/sample - loss: 1.5516e-04 - accuracy: 1.0000\n",
      "Epoch 2/10\n",
      "69632/69687 [============================>.] - ETA: 0s - loss: 1.2521e-04 - accuracy: 1.0000WARNING:tensorflow:Early stopping conditioned on metric `val_loss` which is not available. Available metrics are: loss,accuracy\n",
      "69687/69687 [==============================] - 41s 594us/sample - loss: 1.2513e-04 - accuracy: 1.0000\n",
      "Epoch 3/10\n",
      "69664/69687 [============================>.] - ETA: 0s - loss: 1.1001e-04 - accuracy: 1.0000 ETA: 0s - loss: 1.1082e-04 - accuracyWARNING:tensorflow:Early stopping conditioned on metric `val_loss` which is not available. Available metrics are: loss,accuracy\n",
      "69687/69687 [==============================] - 42s 603us/sample - loss: 1.0997e-04 - accuracy: 1.0000\n",
      "Epoch 4/10\n",
      "69664/69687 [============================>.] - ETA: 0s - loss: 1.1014e-04 - accuracy: 1.0000WARNING:tensorflow:Early stopping conditioned on metric `val_loss` which is not available. Available metrics are: loss,accuracy\n",
      "69687/69687 [==============================] - 41s 584us/sample - loss: 1.1010e-04 - accuracy: 1.0000\n",
      "Epoch 5/10\n",
      "69632/69687 [============================>.] - ETA: 0s - loss: 1.0254e-04 - accuracy: 1.0000WARNING:tensorflow:Early stopping conditioned on metric `val_loss` which is not available. Available metrics are: loss,accuracy\n",
      "69687/69687 [==============================] - 42s 600us/sample - loss: 1.0246e-04 - accuracy: 1.0000\n",
      "Epoch 6/10\n",
      "69664/69687 [============================>.] - ETA: 0s - loss: 7.9922e-05 - accuracy: 1.0000 ETA: 1s - loss: 7.7 - ETA: 0s - lWARNING:tensorflow:Early stopping conditioned on metric `val_loss` which is not available. Available metrics are: loss,accuracy\n",
      "69687/69687 [==============================] - 42s 598us/sample - loss: 7.9896e-05 - accuracy: 1.0000\n",
      "Epoch 7/10\n",
      "69600/69687 [============================>.] - ETA: 0s - loss: 8.3392e-05 - accuracy: 1.0000WARNING:tensorflow:Early stopping conditioned on metric `val_loss` which is not available. Available metrics are: loss,accuracy\n",
      "69687/69687 [==============================] - 42s 601us/sample - loss: 8.3288e-05 - accuracy: 1.0000\n",
      "Epoch 8/10\n",
      "69664/69687 [============================>.] - ETA: 0s - loss: 8.1467e-05 - accuracy: 1.0000WARNING:tensorflow:Early stopping conditioned on metric `val_loss` which is not available. Available metrics are: loss,accuracy\n",
      "69687/69687 [==============================] - 42s 598us/sample - loss: 8.1440e-05 - accuracy: 1.0000\n",
      "Epoch 9/10\n",
      "69664/69687 [============================>.] - ETA: 0s - loss: 9.8506e-05 - accuracy: 1.0000 ETA: 2s -WARNING:tensorflow:Early stopping conditioned on metric `val_loss` which is not available. Available metrics are: loss,accuracy\n",
      "69687/69687 [==============================] - 42s 600us/sample - loss: 9.8474e-05 - accuracy: 1.0000\n",
      "Epoch 10/10\n",
      "69600/69687 [============================>.] - ETA: 0s - loss: 7.9556e-05 - accuracy: 1.0000WARNING:tensorflow:Early stopping conditioned on metric `val_loss` which is not available. Available metrics are: loss,accuracy\n",
      "69687/69687 [==============================] - 40s 573us/sample - loss: 7.9477e-05 - accuracy: 1.0000\n"
     ]
    },
    {
     "data": {
      "text/plain": [
       "<tensorflow.python.keras.callbacks.History at 0x1fa0f6fef88>"
      ]
     },
     "execution_count": 11,
     "metadata": {},
     "output_type": "execute_result"
    },
    {
     "name": "stdout",
     "output_type": "stream",
     "text": [
      "accuracy_score 0.9998789228981015\n",
      "recall_score 0.9967128433904673\n",
      "precision_score 0.9997644842204427\n",
      "f1_score 0.9982363315696648\n",
      "Model: \"model_8\"\n",
      "_________________________________________________________________\n",
      "Layer (type)                 Output Shape              Param #   \n",
      "=================================================================\n",
      "input_1 (InputLayer)         [(None, 16, 256)]         0         \n",
      "_________________________________________________________________\n",
      "bidirectional (Bidirectional (None, 16, 48)            53952     \n",
      "_________________________________________________________________\n",
      "time_distributed (TimeDistri (None, 16, 1)             49        \n",
      "=================================================================\n",
      "Total params: 54,001\n",
      "Trainable params: 54,001\n",
      "Non-trainable params: 0\n",
      "_________________________________________________________________\n",
      "======Training stage======\n",
      "Train on 69687 samples\n",
      "Epoch 1/10\n",
      "69664/69687 [============================>.] - ETA: 0s - loss: 9.7488e-05 - accuracy: 1.0000WARNING:tensorflow:Early stopping conditioned on metric `val_loss` which is not available. Available metrics are: loss,accuracy\n",
      "69687/69687 [==============================] - 47s 670us/sample - loss: 9.7456e-05 - accuracy: 1.0000\n",
      "Epoch 2/10\n",
      "69664/69687 [============================>.] - ETA: 0s - loss: 9.4668e-05 - accuracy: 1.0000WARNING:tensorflow:Early stopping conditioned on metric `val_loss` which is not available. Available metrics are: loss,accuracy\n",
      "69687/69687 [==============================] - 39s 557us/sample - loss: 9.4637e-05 - accuracy: 1.0000\n",
      "Epoch 3/10\n",
      "69600/69687 [============================>.] - ETA: 0s - loss: 7.1135e-05 - accuracy: 1.0000WARNING:tensorflow:Early stopping conditioned on metric `val_loss` which is not available. Available metrics are: loss,accuracy\n",
      "69687/69687 [==============================] - 39s 558us/sample - loss: 7.1105e-05 - accuracy: 1.0000\n",
      "Epoch 4/10\n",
      "69600/69687 [============================>.] - ETA: 0s - loss: 7.8034e-05 - accuracy: 1.0000WARNING:tensorflow:Early stopping conditioned on metric `val_loss` which is not available. Available metrics are: loss,accuracy\n",
      "69687/69687 [==============================] - 41s 582us/sample - loss: 7.7937e-05 - accuracy: 1.0000\n",
      "Epoch 5/10\n",
      "69632/69687 [============================>.] - ETA: 0s - loss: 7.5866e-05 - accuracy: 1.0000WARNING:tensorflow:Early stopping conditioned on metric `val_loss` which is not available. Available metrics are: loss,accuracy\n",
      "69687/69687 [==============================] - 40s 580us/sample - loss: 7.5807e-05 - accuracy: 1.0000\n",
      "Epoch 6/10\n",
      "69600/69687 [============================>.] - ETA: 0s - loss: 6.4915e-05 - accuracy: 1.0000WARNING:tensorflow:Early stopping conditioned on metric `val_loss` which is not available. Available metrics are: loss,accuracy\n",
      "69687/69687 [==============================] - 40s 580us/sample - loss: 6.4834e-05 - accuracy: 1.0000\n",
      "Epoch 7/10\n",
      "69600/69687 [============================>.] - ETA: 0s - loss: 6.5268e-05 - accuracy: 1.0000WARNING:tensorflow:Early stopping conditioned on metric `val_loss` which is not available. Available metrics are: loss,accuracy\n",
      "69687/69687 [==============================] - 40s 580us/sample - loss: 6.5187e-05 - accuracy: 1.0000\n",
      "Epoch 8/10\n",
      "69664/69687 [============================>.] - ETA: 0s - loss: 5.4346e-05 - accuracy: 1.0000WARNING:tensorflow:Early stopping conditioned on metric `val_loss` which is not available. Available metrics are: loss,accuracy\n",
      "69687/69687 [==============================] - 40s 579us/sample - loss: 5.4328e-05 - accuracy: 1.0000\n",
      "Epoch 9/10\n",
      "69600/69687 [============================>.] - ETA: 0s - loss: 5.4126e-05 - accuracy: 1.0000WARNING:tensorflow:Early stopping conditioned on metric `val_loss` which is not available. Available metrics are: loss,accuracy\n",
      "69687/69687 [==============================] - 38s 545us/sample - loss: 5.4059e-05 - accuracy: 1.0000\n",
      "Epoch 10/10\n",
      "69600/69687 [============================>.] - ETA: 0s - loss: 6.6169e-05 - accuracy: 1.0000WARNING:tensorflow:Early stopping conditioned on metric `val_loss` which is not available. Available metrics are: loss,accuracy\n",
      "69687/69687 [==============================] - 40s 568us/sample - loss: 6.6086e-05 - accuracy: 1.0000\n"
     ]
    },
    {
     "data": {
      "text/plain": [
       "<tensorflow.python.keras.callbacks.History at 0x1f9afacb608>"
      ]
     },
     "execution_count": 11,
     "metadata": {},
     "output_type": "execute_result"
    },
    {
     "name": "stdout",
     "output_type": "stream",
     "text": [
      "accuracy_score 0.9999596409660338\n",
      "recall_score 0.9992841803865425\n",
      "precision_score 0.9995226730310263\n",
      "f1_score 0.9994034124806109\n",
      "Model: \"model_9\"\n",
      "_________________________________________________________________\n",
      "Layer (type)                 Output Shape              Param #   \n",
      "=================================================================\n",
      "input_1 (InputLayer)         [(None, 16, 256)]         0         \n",
      "_________________________________________________________________\n",
      "bidirectional (Bidirectional (None, 16, 48)            53952     \n",
      "_________________________________________________________________\n",
      "time_distributed (TimeDistri (None, 16, 1)             49        \n",
      "=================================================================\n",
      "Total params: 54,001\n",
      "Trainable params: 54,001\n",
      "Non-trainable params: 0\n",
      "_________________________________________________________________\n",
      "======Training stage======\n",
      "Train on 69687 samples\n",
      "Epoch 1/10\n",
      "69600/69687 [============================>.] - ETA: 0s - loss: 8.2330e-05 - accuracy: 1.0000WARNING:tensorflow:Early stopping conditioned on metric `val_loss` which is not available. Available metrics are: loss,accuracy\n",
      "69687/69687 [==============================] - 43s 614us/sample - loss: 8.2228e-05 - accuracy: 1.0000\n",
      "Epoch 2/10\n",
      "69632/69687 [============================>.] - ETA: 0s - loss: 5.4262e-05 - accuracy: 1.0000WARNING:tensorflow:Early stopping conditioned on metric `val_loss` which is not available. Available metrics are: loss,accuracy\n",
      "69687/69687 [==============================] - 38s 539us/sample - loss: 5.4219e-05 - accuracy: 1.0000\n",
      "Epoch 3/10\n",
      "69664/69687 [============================>.] - ETA: 0s - loss: 4.8418e-05 - accuracy: 1.0000WARNING:tensorflow:Early stopping conditioned on metric `val_loss` which is not available. Available metrics are: loss,accuracy\n",
      "69687/69687 [==============================] - 38s 542us/sample - loss: 4.8402e-05 - accuracy: 1.0000\n",
      "Epoch 4/10\n",
      "69664/69687 [============================>.] - ETA: 0s - loss: 7.0726e-05 - accuracy: 1.0000WARNING:tensorflow:Early stopping conditioned on metric `val_loss` which is not available. Available metrics are: loss,accuracy\n",
      "69687/69687 [==============================] - 37s 535us/sample - loss: 7.0702e-05 - accuracy: 1.0000\n",
      "Epoch 5/10\n",
      "69632/69687 [============================>.] - ETA: 0s - loss: 5.7119e-05 - accuracy: 1.0000WARNING:tensorflow:Early stopping conditioned on metric `val_loss` which is not available. Available metrics are: loss,accuracy\n",
      "69687/69687 [==============================] - 38s 545us/sample - loss: 5.7074e-05 - accuracy: 1.0000\n",
      "Epoch 6/10\n",
      "69632/69687 [============================>.] - ETA: 0s - loss: 4.7061e-05 - accuracy: 1.0000WARNING:tensorflow:Early stopping conditioned on metric `val_loss` which is not available. Available metrics are: loss,accuracy\n",
      "69687/69687 [==============================] - 36s 512us/sample - loss: 4.7023e-05 - accuracy: 1.0000\n",
      "Epoch 7/10\n",
      "69632/69687 [============================>.] - ETA: 0s - loss: 5.0434e-05 - accuracy: 1.0000WARNING:tensorflow:Early stopping conditioned on metric `val_loss` which is not available. Available metrics are: loss,accuracy\n",
      "69687/69687 [==============================] - 37s 531us/sample - loss: 5.0394e-05 - accuracy: 1.0000\n",
      "Epoch 8/10\n",
      "69664/69687 [============================>.] - ETA: 0s - loss: 4.9527e-05 - accuracy: 1.0000WARNING:tensorflow:Early stopping conditioned on metric `val_loss` which is not available. Available metrics are: loss,accuracy\n",
      "69687/69687 [==============================] - 37s 534us/sample - loss: 4.9510e-05 - accuracy: 1.0000\n",
      "Epoch 9/10\n",
      "69664/69687 [============================>.] - ETA: 0s - loss: 4.7375e-05 - accuracy: 1.0000WARNING:tensorflow:Early stopping conditioned on metric `val_loss` which is not available. Available metrics are: loss,accuracy\n",
      "69687/69687 [==============================] - 37s 531us/sample - loss: 4.7359e-05 - accuracy: 1.0000\n",
      "Epoch 10/10\n",
      "69664/69687 [============================>.] - ETA: 0s - loss: 4.0844e-05 - accuracy: 1.0000 ETA: 0s - loss: 4.1338e-05 - WARNING:tensorflow:Early stopping conditioned on metric `val_loss` which is not available. Available metrics are: loss,accuracy\n",
      "69687/69687 [==============================] - 35s 506us/sample - loss: 4.0831e-05 - accuracy: 1.0000\n"
     ]
    },
    {
     "data": {
      "text/plain": [
       "<tensorflow.python.keras.callbacks.History at 0x1f9a8780f48>"
      ]
     },
     "execution_count": 11,
     "metadata": {},
     "output_type": "execute_result"
    },
    {
     "name": "stdout",
     "output_type": "stream",
     "text": [
      "accuracy_score 0.9999757845796203\n",
      "recall_score 0.999526066350711\n",
      "precision_score 0.9997629770087698\n",
      "f1_score 0.9996445076430857\n",
      "\n",
      "K-fold cross validation Accuracy: [0.9993865426837143, 0.9995721942399587, 0.9996690559214775, 0.9998466356709286, 0.9998466356709286, 0.9998304920573421, 0.9999273537388609, 0.9998789228981015, 0.9999596409660338, 0.9999757845796203]\n",
      "\n",
      "K-fold cross validation Recall: [0.9918951132300358, 0.9943957115009746, 0.9942390782525204, 0.9972235076353541, 0.9978535654662533, 0.9966329966329966, 0.9990451181666269, 0.9967128433904673, 0.9992841803865425, 0.999526066350711]\n",
      "\n",
      "K-fold cross validation Precision: [0.9900071377587437, 0.9927025054731209, 0.9959124789612888, 0.9983785035904563, 0.9976156413924654, 0.9983136593591906, 0.9988066825775657, 0.9997644842204427, 0.9995226730310263, 0.9997629770087698]\n",
      "\n",
      "K-fold cross validation F1-Score: [0.9909502262443439, 0.9935483870967742, 0.995075075075075, 0.9978006713740016, 0.9977345892452606, 0.9974726200505475, 0.9989258861439313, 0.9982363315696648, 0.9994034124806109, 0.9996445076430857]\n"
     ]
    }
   ],
   "source": [
    "# 교차검증 kfold\n",
    "from sklearn.model_selection import KFold\n",
    "\n",
    "# Accuracy, Precision, Recall, F1-Score\n",
    "from sklearn.metrics import accuracy_score, recall_score, precision_score, f1_score\n",
    "\n",
    "# Confusion Matrix, ROC Curve\n",
    "from sklearn.metrics import confusion_matrix, roc_auc_score\n",
    "\n",
    "# 최종 평가지표들 평균용\n",
    "accuracy, recall, precision, f1score, cm = [], [], [], [], []\n",
    "\n",
    "# 11. 교차검증 kfold - k.split - 10회 / K-Fold 객체 생성\n",
    "# kf = KFold(n_splits=10, shuffle=False, random_state=None) # KFold non shuffle 버전\n",
    "kf = KFold(n_splits=10, shuffle=True, random_state=None) # KFold non shuffle 버전\n",
    "\n",
    "for train, validation in kf.split(x_bc6_1, y_bc6_1):\n",
    "    model1 = models.Model(xInput, xOutput)\n",
    "    model1.compile(loss='binary_crossentropy', optimizer='rmsprop', metrics=['accuracy'])\n",
    "    model1.summary()\n",
    "    print('======Training stage======')\n",
    "    model1.fit(x_bc6_1[train],\n",
    "               y_bc6_1[train],\n",
    "               epochs = 10,\n",
    "               batch_size = 32,\n",
    "               callbacks=[early_stopping])\n",
    "    #k_accuracy = '%.4f' %(model1.evaluate(data_10000x[validation], data_10000y[validation])[1])\n",
    "\n",
    "# 12. 교차검증결과 predict - 검증셋들\n",
    "    # predict 값\n",
    "    k_pr = model1.predict(x_bc6_1[validation])\n",
    "    \n",
    "    # 테스트 predict 결과들 비교 (평가지표 보기위함)\n",
    "    pred = np.round(np.array(k_pr).flatten().tolist())\n",
    "    y_test = np.array(y_bc6_1[validation]).flatten().tolist()\n",
    "    \n",
    "# 13. 평가지표들 출력\n",
    "    ## 평가지표들\n",
    "    k_accuracy = float(accuracy_score(y_test, pred))\n",
    "    k_recall =  float(recall_score(y_test, pred))\n",
    "    k_precision = float(precision_score(y_test, pred))\n",
    "    k_f1_score = float(f1_score(y_test, pred))\n",
    "    #k_cm = float(confusion_matrix(y_test, pred))\n",
    "    \n",
    "    print('accuracy_score', k_accuracy)\n",
    "    print('recall_score', k_recall)\n",
    "    print('precision_score', k_precision)\n",
    "    print('f1_score', k_f1_score)\n",
    "    #print('\\nconfusion_matrix\\n', k_cm)\n",
    "\n",
    "    accuracy.append(k_accuracy)\n",
    "    recall.append(k_recall)\n",
    "    precision.append(k_precision)\n",
    "    f1score.append(k_f1_score)\n",
    "    #cm.append(k_cm)\n",
    "#    print('roc_curve 면적', roc_auc_score(y_test, pred))\n",
    "\n",
    "# 최종 결과지표\n",
    "print('\\nK-fold cross validation Accuracy: {}'.format(accuracy))\n",
    "print('\\nK-fold cross validation Recall: {}'.format(recall))\n",
    "print('\\nK-fold cross validation Precision: {}'.format(precision))\n",
    "print('\\nK-fold cross validation F1-Score: {}'.format(f1score))\n",
    "#print('\\nK-fold cross validation ConfusionMatrix: {}'.format(cm))"
   ]
  },
  {
   "cell_type": "markdown",
   "metadata": {},
   "source": [
    "## (9) 평가지표"
   ]
  },
  {
   "cell_type": "code",
   "execution_count": 12,
   "metadata": {},
   "outputs": [
    {
     "name": "stdout",
     "output_type": "stream",
     "text": [
      "10-Fold Cross_validation. Accuracy : 0.9997893258426966\n",
      "10-Fold Cross_validation. Recall : 0.9966808181012483\n",
      "10-Fold Cross_validation. Precision : 0.997078674337307\n",
      "10-Fold Cross_validation. F1-Score : 0.9968791706923295\n"
     ]
    }
   ],
   "source": [
    "print('10-Fold Cross_validation. Accuracy :', np.mean(accuracy))\n",
    "print('10-Fold Cross_validation. Recall :', np.mean(recall))\n",
    "print('10-Fold Cross_validation. Precision :', np.mean(precision))\n",
    "print('10-Fold Cross_validation. F1-Score :', np.mean(f1score))"
   ]
  },
  {
   "cell_type": "code",
   "execution_count": 13,
   "metadata": {},
   "outputs": [
    {
     "name": "stdout",
     "output_type": "stream",
     "text": [
      "save 완료\n"
     ]
    }
   ],
   "source": [
    "model1.save('gcc6_bin_core_s16_h24_o1.h5')\n",
    "print('save 완료')"
   ]
  }
 ],
 "metadata": {
  "kernelspec": {
   "display_name": "Python 3",
   "language": "python",
   "name": "python3"
  },
  "language_info": {
   "codemirror_mode": {
    "name": "ipython",
    "version": 3
   },
   "file_extension": ".py",
   "mimetype": "text/x-python",
   "name": "python",
   "nbconvert_exporter": "python",
   "pygments_lexer": "ipython3",
   "version": "3.7.9"
  }
 },
 "nbformat": 4,
 "nbformat_minor": 4
}
