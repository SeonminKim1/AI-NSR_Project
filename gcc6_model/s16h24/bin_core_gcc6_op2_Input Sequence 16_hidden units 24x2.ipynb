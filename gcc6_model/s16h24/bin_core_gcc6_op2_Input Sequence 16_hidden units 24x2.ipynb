{
 "cells": [
  {
   "cell_type": "markdown",
   "metadata": {},
   "source": [
    "## RNN 모델 N-Byte 방식 (함수정보 포함 vs 미포함 => 1:1 비율)\n",
    "\n",
    "## (1) 데이터로드"
   ]
  },
  {
   "cell_type": "code",
   "execution_count": 4,
   "metadata": {},
   "outputs": [
    {
     "name": "stdout",
     "output_type": "stream",
     "text": [
      "(28456104, 2)\n",
      "shape - (28456104, 2)\n",
      "reset_index 완료\n",
      "input data shape\n"
     ]
    },
    {
     "data": {
      "text/html": [
       "<div>\n",
       "<style scoped>\n",
       "    .dataframe tbody tr th:only-of-type {\n",
       "        vertical-align: middle;\n",
       "    }\n",
       "\n",
       "    .dataframe tbody tr th {\n",
       "        vertical-align: top;\n",
       "    }\n",
       "\n",
       "    .dataframe thead th {\n",
       "        text-align: right;\n",
       "    }\n",
       "</style>\n",
       "<table border=\"1\" class=\"dataframe\">\n",
       "  <thead>\n",
       "    <tr style=\"text-align: right;\">\n",
       "      <th></th>\n",
       "      <th>bin</th>\n",
       "      <th>label</th>\n",
       "    </tr>\n",
       "  </thead>\n",
       "  <tbody>\n",
       "    <tr>\n",
       "      <th>0</th>\n",
       "      <td>47</td>\n",
       "      <td>0</td>\n",
       "    </tr>\n",
       "    <tr>\n",
       "      <th>1</th>\n",
       "      <td>108</td>\n",
       "      <td>0</td>\n",
       "    </tr>\n",
       "    <tr>\n",
       "      <th>2</th>\n",
       "      <td>105</td>\n",
       "      <td>0</td>\n",
       "    </tr>\n",
       "    <tr>\n",
       "      <th>3</th>\n",
       "      <td>98</td>\n",
       "      <td>0</td>\n",
       "    </tr>\n",
       "    <tr>\n",
       "      <th>4</th>\n",
       "      <td>47</td>\n",
       "      <td>0</td>\n",
       "    </tr>\n",
       "  </tbody>\n",
       "</table>\n",
       "</div>"
      ],
      "text/plain": [
       "   bin  label\n",
       "0   47      0\n",
       "1  108      0\n",
       "2  105      0\n",
       "3   98      0\n",
       "4   47      0"
      ]
     },
     "execution_count": 4,
     "metadata": {},
     "output_type": "execute_result"
    }
   ],
   "source": [
    "# (1) 데이터로드\n",
    "import pandas as pd\n",
    "import numpy as np\n",
    "\n",
    "import warnings\n",
    "warnings.filterwarnings(action='ignore')\n",
    "\n",
    "# 여러개 쳐도 나오게\n",
    "from IPython.core.interactiveshell import InteractiveShell\n",
    "InteractiveShell.ast_node_interactivity = \"all\"\n",
    "\n",
    "# 파일읽기\n",
    "bin6_2 = pd.read_csv(\"../../바이너리_최종데이터_1004/gcc6/o2/o2_bincore6.csv\", index_col=0)\n",
    "print(bin6_2.shape)\n",
    "\n",
    "# reset_index (hex processing 하면서 값이 빠졌으니까 + n_gram 에서 index를 다루기 때문에)\n",
    "bin6_2.reset_index(inplace=True, drop=True)\n",
    "\n",
    "print('shape -', bin6_2.shape)\n",
    "print('reset_index 완료')\n",
    "print('input data shape')\n",
    "bin6_2.head()"
   ]
  },
  {
   "cell_type": "code",
   "execution_count": 5,
   "metadata": {},
   "outputs": [
    {
     "name": "stdout",
     "output_type": "stream",
     "text": [
      "256\n",
      "0    28418383\n",
      "1       37721\n",
      "Name: label, dtype: int64\n"
     ]
    }
   ],
   "source": [
    "# (2-1) 데이터체크 1 - hex(16진수)가 256 label을 가져야 dummies 변환 가능 \n",
    "# 16진수 256개 종류가 있어서 pd.get_dummies 사용 가능.\n",
    "print(len(bin6_2['bin'].unique()))\n",
    "\n",
    "# (2-2) 데이터 체크 2 - 1, 0 비율 ==> 1이 함수의 갯수를 뜻함\n",
    "# 정답 데이터 1, 0 비율 확인  ==> 1이 함수의 갯수를 뜻함\n",
    "print(bin6_2['label'].value_counts())"
   ]
  },
  {
   "cell_type": "markdown",
   "metadata": {},
   "source": [
    "## (3) N Byte씩 자르기"
   ]
  },
  {
   "cell_type": "code",
   "execution_count": 6,
   "metadata": {},
   "outputs": [
    {
     "name": "stdout",
     "output_type": "stream",
     "text": [
      "603536\n",
      "나머지 0\n",
      "최종 길이 603536\n",
      "bin6_2 603536\n"
     ]
    }
   ],
   "source": [
    "idx_bin = bin6_2[bin6_2['label']==1].index  # 407, 474 ...\n",
    "ls_bin = list(idx_bin)\n",
    "\n",
    "# 최종 뽑을 행에 대한 index\n",
    "ls_idx_bin = []\n",
    "\n",
    "# n byte 자르기 방식\n",
    "left_idx, right_idx = 0, 16 # 3개씩\n",
    "\n",
    "# n byte 자르기\n",
    "for k in range(left_idx, right_idx):\n",
    "    ls_idx_bin.extend(list(idx_bin + k)) # index 형이라서 가능\n",
    "\n",
    "#ls_idx = list(set(ls_idx)) \n",
    "ls_idx_bin.sort() # 인덱스 정렬\n",
    "\n",
    "# 1차 index 해당범위 초과한 것들 없애기\n",
    "ls_idx_bin = list(filter(lambda x: x<len(bin6_2), ls_idx_bin))\n",
    "print(len(ls_idx_bin))\n",
    "\n",
    "# 2차 남은 index들 중 right_idx 나눈 나머지 없애기\n",
    "sub_bin = len(ls_idx_bin)%(right_idx)\n",
    "print('나머지', sub_bin)\n",
    "\n",
    "ls_idx_bin = ls_idx_bin[:len(ls_idx_bin)-sub_bin]\n",
    "print('최종 길이', len(ls_idx_bin))\n",
    "\n",
    "print('bin6_2', len(ls_idx_bin))\n",
    "\n",
    "# loc 로 수정필요\n",
    "bin6_2_Ngram = bin6_2.loc[ls_idx_bin,:].copy()"
   ]
  },
  {
   "cell_type": "markdown",
   "metadata": {},
   "source": [
    "## (4) false data 만들기"
   ]
  },
  {
   "cell_type": "code",
   "execution_count": 7,
   "metadata": {},
   "outputs": [
    {
     "name": "stdout",
     "output_type": "stream",
     "text": [
      "37721.0\n",
      "0 14748411\n",
      "1000 27221543\n",
      "2000 14826566\n",
      "3000 20208139\n",
      "4000 9748657\n",
      "5000 6174335\n",
      "6000 4118303\n",
      "7000 431740\n",
      "8000 20528\n",
      "9000 8758456\n",
      "10000 15815265\n",
      "11000 8232840\n",
      "12000 2149443\n",
      "13000 9801926\n",
      "14000 17587109\n",
      "15000 18671048\n",
      "16000 1437841\n",
      "17000 24736137\n",
      "18000 9747657\n",
      "19000 3667935\n",
      "20000 9803032\n",
      "21000 19587665\n",
      "22000 11186014\n",
      "23000 17568253\n",
      "24000 26884767\n",
      "25000 28317260\n",
      "26000 13128686\n",
      "27000 14518406\n",
      "28000 10032934\n",
      "29000 7856337\n",
      "30000 10015393\n",
      "31000 17103688\n",
      "32000 21363540\n",
      "33000 5930660\n",
      "34000 24869966\n",
      "35000 4150278\n",
      "36000 3545643\n",
      "37000 19828391\n",
      "완료\n",
      "37721\n"
     ]
    }
   ],
   "source": [
    "# false data 만들기 - False 데이터 랜덤 생성\n",
    "\n",
    "# 목표치\n",
    "goal_bin = len(bin6_2_Ngram)/right_idx\n",
    "count_bin = 0\n",
    "\n",
    "print(goal_bin)\n",
    "\n",
    "# 최종 데이터 Frame\n",
    "d_bin = pd.DataFrame(columns = bin6_2.columns)\n",
    "\n",
    "binutils_df = []\n",
    "# goal 에 도달할 때까지\n",
    "while True:\n",
    "    if (count_bin == goal_bin):\n",
    "            break\n",
    "    # 진행상황 살펴보기 위함\n",
    "            \n",
    "    # 랜덤 N 바이트씩 뽑음\n",
    "    # random index\n",
    "    random_idx_bin = np.random.randint(len(bin6_2)-right_idx)\n",
    "\n",
    "    if count_bin % 1000==0:\n",
    "        print(count_bin, end=' ')\n",
    "        print(random_idx_bin)\n",
    "\n",
    "    df_bin = bin6_2[random_idx_bin : random_idx_bin + right_idx]\n",
    "    \n",
    "    # 뽑은 index의 N 바이트 중에 1이 없는 경우만\n",
    "    if 1 not in df_bin['label'] and count_bin < goal_bin:\n",
    "        binutils_df.append(df_bin)\n",
    "        count_bin+=1\n",
    "\n",
    "print('완료')\n",
    "print(len(binutils_df))"
   ]
  },
  {
   "cell_type": "code",
   "execution_count": 8,
   "metadata": {},
   "outputs": [
    {
     "name": "stdout",
     "output_type": "stream",
     "text": [
      "37721\n",
      "37721\n"
     ]
    }
   ],
   "source": [
    "# True data와 False Data 같은지 체크\n",
    "print(len(binutils_df))\n",
    "print(bin6_2['label'].value_counts()[1])"
   ]
  },
  {
   "cell_type": "markdown",
   "metadata": {},
   "source": [
    "## (5) False Data + True Data 합치기"
   ]
  },
  {
   "cell_type": "code",
   "execution_count": 9,
   "metadata": {},
   "outputs": [
    {
     "data": {
      "text/plain": [
       "(1207072, 2)"
      ]
     },
     "execution_count": 9,
     "metadata": {},
     "output_type": "execute_result"
    }
   ],
   "source": [
    "f_data = pd.concat(binutils_df)\n",
    "final = pd.concat([f_data, bin6_2_Ngram])\n",
    "final.shape"
   ]
  },
  {
   "cell_type": "markdown",
   "metadata": {},
   "source": [
    "## (6) one hot encoding"
   ]
  },
  {
   "cell_type": "code",
   "execution_count": 10,
   "metadata": {},
   "outputs": [
    {
     "name": "stdout",
     "output_type": "stream",
     "text": [
      "원핫인코딩완료\n",
      "(1207072, 257)\n"
     ]
    }
   ],
   "source": [
    "# 훈련데이터 (gcc 최적화버전 0, 1, 2, 3 one hot encoding)\n",
    "bc6_2_onehot_Ngram = pd.get_dummies(final['bin'])\n",
    "bc6_2_onehot_Ngram = pd.concat([final['label'], bc6_2_onehot_Ngram], axis=1)\n",
    "\n",
    "print('원핫인코딩완료')\n",
    "print(bc6_2_onehot_Ngram.shape)"
   ]
  },
  {
   "cell_type": "code",
   "execution_count": 11,
   "metadata": {},
   "outputs": [
    {
     "name": "stdout",
     "output_type": "stream",
     "text": [
      "(1207072, 256) (1207072, 256)\n",
      "(75442, 16, 256) (75442, 16, 1)\n"
     ]
    }
   ],
   "source": [
    "# 훈련 데이터, 훈련 라벨\n",
    "x_bc6_2 = bc6_2_onehot_Ngram.iloc[:,1:].to_numpy()\n",
    "y_bc6_2 = bc6_2_onehot_Ngram['label'].to_numpy()\n",
    "print(x_bc6_2.shape, x_bc6_2.shape)\n",
    "\n",
    "x_bc6_2 = x_bc6_2.reshape(-1, right_idx, x_bc6_2.shape[1])\n",
    "y_bc6_2 = y_bc6_2.reshape(-1, right_idx, 1)\n",
    "\n",
    "print(x_bc6_2.shape, y_bc6_2.shape)"
   ]
  },
  {
   "cell_type": "code",
   "execution_count": 12,
   "metadata": {},
   "outputs": [
    {
     "name": "stdout",
     "output_type": "stream",
     "text": [
      "(75442, 16, 256) (75442, 16, 1)\n"
     ]
    }
   ],
   "source": [
    "# numpy 행, 열 섞기\n",
    "p = np.random.permutation(x_bc6_2.shape[0])\n",
    "\n",
    "x_bc6_2 = x_bc6_2[p]\n",
    "y_bc6_2 = y_bc6_2[p]\n",
    "\n",
    "print(x_bc6_2.shape, y_bc6_2.shape)"
   ]
  },
  {
   "cell_type": "markdown",
   "metadata": {},
   "source": [
    "## (7) 모델"
   ]
  },
  {
   "cell_type": "code",
   "execution_count": 13,
   "metadata": {},
   "outputs": [],
   "source": [
    "# (10) 양방향 LSTM 모델링 작업\n",
    "from tensorflow.keras import layers, models\n",
    "#from tf.keras.models import Model, Sequential\n",
    "#from tf.keras.layers import SimpleRNN, Input, Dense, LSTM\n",
    "#from tf.keras.layers import Bidirectional, TimeDistributed\n",
    "\n",
    "# 학습\n",
    "from tensorflow.keras.callbacks import EarlyStopping\n",
    "early_stopping = EarlyStopping(patience = 3) # 조기종료 콜백함수 정의\n",
    "\n",
    "xInput = layers.Input(batch_shape=(None,right_idx, 256)) \n",
    "xBiLstm = layers.Bidirectional(layers.LSTM(24, return_sequences=True, stateful=False), merge_mode = 'concat')(xInput)\n",
    "xOutput = layers.TimeDistributed(layers.Dense(1, activation ='sigmoid'))(xBiLstm) # 각 스텝에서 cost가 전송되고, 오류가 다음 step으로 전송됨."
   ]
  },
  {
   "cell_type": "markdown",
   "metadata": {},
   "source": [
    "## (8) 학습 - 10 KFold"
   ]
  },
  {
   "cell_type": "code",
   "execution_count": 14,
   "metadata": {
    "scrolled": false
   },
   "outputs": [
    {
     "name": "stdout",
     "output_type": "stream",
     "text": [
      "Model: \"model\"\n",
      "_________________________________________________________________\n",
      "Layer (type)                 Output Shape              Param #   \n",
      "=================================================================\n",
      "input_1 (InputLayer)         [(None, 16, 256)]         0         \n",
      "_________________________________________________________________\n",
      "bidirectional (Bidirectional (None, 16, 48)            53952     \n",
      "_________________________________________________________________\n",
      "time_distributed (TimeDistri (None, 16, 1)             49        \n",
      "=================================================================\n",
      "Total params: 54,001\n",
      "Trainable params: 54,001\n",
      "Non-trainable params: 0\n",
      "_________________________________________________________________\n",
      "======Training stage======\n",
      "Train on 67897 samples\n",
      "Epoch 1/10\n",
      "67872/67897 [============================>.] - ETA: 0s - loss: 0.0195 - accuracy: 0.9954WARNING:tensorflow:Early stopping conditioned on metric `val_loss` which is not available. Available metrics are: loss,accuracy\n",
      "67897/67897 [==============================] - 44s 652us/sample - loss: 0.0195 - accuracy: 0.9954\n",
      "Epoch 2/10\n",
      "67808/67897 [============================>.] - ETA: 0s - loss: 0.0042 - accuracy: 0.9991WARNING:tensorflow:Early stopping conditioned on metric `val_loss` which is not available. Available metrics are: loss,accuracy\n",
      "67897/67897 [==============================] - 38s 553us/sample - loss: 0.0042 - accuracy: 0.9991\n",
      "Epoch 3/10\n",
      "67840/67897 [============================>.] - ETA: 0s - loss: 0.0032 - accuracy: 0.9992WARNING:tensorflow:Early stopping conditioned on metric `val_loss` which is not available. Available metrics are: loss,accuracy\n",
      "67897/67897 [==============================] - 37s 549us/sample - loss: 0.0032 - accuracy: 0.9992\n",
      "Epoch 4/10\n",
      "67808/67897 [============================>.] - ETA: 0s - loss: 0.0025 - accuracy: 0.9993WARNING:tensorflow:Early stopping conditioned on metric `val_loss` which is not available. Available metrics are: loss,accuracy\n",
      "67897/67897 [==============================] - 39s 577us/sample - loss: 0.0025 - accuracy: 0.9993\n",
      "Epoch 5/10\n",
      "67808/67897 [============================>.] - ETA: 0s - loss: 0.0020 - accuracy: 0.9994WARNING:tensorflow:Early stopping conditioned on metric `val_loss` which is not available. Available metrics are: loss,accuracy\n",
      "67897/67897 [==============================] - 37s 546us/sample - loss: 0.0020 - accuracy: 0.9994\n",
      "Epoch 6/10\n",
      "67840/67897 [============================>.] - ETA: 0s - loss: 0.0017 - accuracy: 0.9995WARNING:tensorflow:Early stopping conditioned on metric `val_loss` which is not available. Available metrics are: loss,accuracy\n",
      "67897/67897 [==============================] - 33s 484us/sample - loss: 0.0017 - accuracy: 0.9995\n",
      "Epoch 7/10\n",
      "67840/67897 [============================>.] - ETA: 0s - loss: 0.0014 - accuracy: 0.9996 ETA: 0s - loss: 0.0014 - accuracy: 0.99WARNING:tensorflow:Early stopping conditioned on metric `val_loss` which is not available. Available metrics are: loss,accuracy\n",
      "67897/67897 [==============================] - 37s 545us/sample - loss: 0.0014 - accuracy: 0.9996\n",
      "Epoch 8/10\n",
      "67872/67897 [============================>.] - ETA: 0s - loss: 0.0013 - accuracy: 0.9996WARNING:tensorflow:Early stopping conditioned on metric `val_loss` which is not available. Available metrics are: loss,accuracy\n",
      "67897/67897 [==============================] - 37s 545us/sample - loss: 0.0013 - accuracy: 0.9996\n",
      "Epoch 9/10\n",
      "67840/67897 [============================>.] - ETA: 0s - loss: 0.0011 - accuracy: 0.9997WARNING:tensorflow:Early stopping conditioned on metric `val_loss` which is not available. Available metrics are: loss,accuracy\n",
      "67897/67897 [==============================] - 35s 521us/sample - loss: 0.0011 - accuracy: 0.9997\n",
      "Epoch 10/10\n",
      "67872/67897 [============================>.] - ETA: 0s - loss: 9.9453e-04 - accuracy: 0.9997WARNING:tensorflow:Early stopping conditioned on metric `val_loss` which is not available. Available metrics are: loss,accuracy\n",
      "67897/67897 [==============================] - 37s 539us/sample - loss: 9.9419e-04 - accuracy: 0.9997\n"
     ]
    },
    {
     "data": {
      "text/plain": [
       "<tensorflow.python.keras.callbacks.History at 0x1f525712948>"
      ]
     },
     "execution_count": 14,
     "metadata": {},
     "output_type": "execute_result"
    },
    {
     "name": "stdout",
     "output_type": "stream",
     "text": [
      "accuracy_score 0.9996520874751491\n",
      "recall_score 0.9958570688762299\n",
      "precision_score 0.9932851239669421\n",
      "f1_score 0.9945694336695112\n",
      "Model: \"model_1\"\n",
      "_________________________________________________________________\n",
      "Layer (type)                 Output Shape              Param #   \n",
      "=================================================================\n",
      "input_1 (InputLayer)         [(None, 16, 256)]         0         \n",
      "_________________________________________________________________\n",
      "bidirectional (Bidirectional (None, 16, 48)            53952     \n",
      "_________________________________________________________________\n",
      "time_distributed (TimeDistri (None, 16, 1)             49        \n",
      "=================================================================\n",
      "Total params: 54,001\n",
      "Trainable params: 54,001\n",
      "Non-trainable params: 0\n",
      "_________________________________________________________________\n",
      "======Training stage======\n",
      "Train on 67897 samples\n",
      "Epoch 1/10\n",
      "67872/67897 [============================>.] - ETA: 0s - loss: 9.1602e-04 - accuracy: 0.9998WARNING:tensorflow:Early stopping conditioned on metric `val_loss` which is not available. Available metrics are: loss,accuracy\n",
      "67897/67897 [==============================] - 44s 655us/sample - loss: 9.1570e-04 - accuracy: 0.9998\n",
      "Epoch 2/10\n",
      "67808/67897 [============================>.] - ETA: 0s - loss: 8.3784e-04 - accuracy: 0.9998WARNING:tensorflow:Early stopping conditioned on metric `val_loss` which is not available. Available metrics are: loss,accuracy\n",
      "67897/67897 [==============================] - 37s 541us/sample - loss: 8.3748e-04 - accuracy: 0.9998\n",
      "Epoch 3/10\n",
      "67808/67897 [============================>.] - ETA: 0s - loss: 7.7529e-04 - accuracy: 0.9998 ETA: 0s - loss: 7.7460e-04 - accuracy: 0.99WARNING:tensorflow:Early stopping conditioned on metric `val_loss` which is not available. Available metrics are: loss,accuracy\n",
      "67897/67897 [==============================] - 37s 544us/sample - loss: 7.7442e-04 - accuracy: 0.9998\n",
      "Epoch 4/10\n",
      "67840/67897 [============================>.] - ETA: 0s - loss: 7.1555e-04 - accuracy: 0.99 - ETA: 0s - loss: 7.1479e-04 - accuracy: 0.9998WARNING:tensorflow:Early stopping conditioned on metric `val_loss` which is not available. Available metrics are: loss,accuracy\n",
      "67897/67897 [==============================] - 37s 539us/sample - loss: 7.1421e-04 - accuracy: 0.9998\n",
      "Epoch 5/10\n",
      "67808/67897 [============================>.] - ETA: 0s - loss: 6.6584e-04 - accuracy: 0.9998WARNING:tensorflow:Early stopping conditioned on metric `val_loss` which is not available. Available metrics are: loss,accuracy\n",
      "67897/67897 [==============================] - 37s 540us/sample - loss: 6.6501e-04 - accuracy: 0.9998\n",
      "Epoch 6/10\n",
      "67808/67897 [============================>.] - ETA: 0s - loss: 6.2407e-04 - accuracy: 0.9998WARNING:tensorflow:Early stopping conditioned on metric `val_loss` which is not available. Available metrics are: loss,accuracy\n",
      "67897/67897 [==============================] - 35s 508us/sample - loss: 6.2420e-04 - accuracy: 0.9998\n",
      "Epoch 7/10\n",
      "67872/67897 [============================>.] - ETA: 0s - loss: 5.8320e-04 - accuracy: 0.9999 ETA: 0s - loss: 5.8483e-04 WARNING:tensorflow:Early stopping conditioned on metric `val_loss` which is not available. Available metrics are: loss,accuracy\n",
      "67897/67897 [==============================] - 35s 511us/sample - loss: 5.8299e-04 - accuracy: 0.9999\n",
      "Epoch 8/10\n",
      "67872/67897 [============================>.] - ETA: 0s - loss: 5.6556e-04 - accuracy: 0.9999WARNING:tensorflow:Early stopping conditioned on metric `val_loss` which is not available. Available metrics are: loss,accuracy\n",
      "67897/67897 [==============================] - 37s 544us/sample - loss: 5.6536e-04 - accuracy: 0.9999\n",
      "Epoch 9/10\n",
      "67872/67897 [============================>.] - ETA: 0s - loss: 5.0990e-04 - accuracy: 0.9999 ETA: 0s - loss: 5.1337e-04 - accuWARNING:tensorflow:Early stopping conditioned on metric `val_loss` which is not available. Available metrics are: loss,accuracy\n",
      "67897/67897 [==============================] - 36s 530us/sample - loss: 5.0974e-04 - accuracy: 0.9999\n",
      "Epoch 10/10\n",
      "67872/67897 [============================>.] - ETA: 0s - loss: 5.1931e-04 - accuracy: 0.9999WARNING:tensorflow:Early stopping conditioned on metric `val_loss` which is not available. Available metrics are: loss,accuracy\n",
      "67897/67897 [==============================] - 36s 523us/sample - loss: 5.1923e-04 - accuracy: 0.9999\n"
     ]
    },
    {
     "data": {
      "text/plain": [
       "<tensorflow.python.keras.callbacks.History at 0x1f52d33b6c8>"
      ]
     },
     "execution_count": 14,
     "metadata": {},
     "output_type": "execute_result"
    },
    {
     "name": "stdout",
     "output_type": "stream",
     "text": [
      "accuracy_score 0.9998177601060305\n",
      "recall_score 0.9965897166841553\n",
      "precision_score 0.9976365546218487\n",
      "f1_score 0.9971128608923884\n",
      "Model: \"model_2\"\n",
      "_________________________________________________________________\n",
      "Layer (type)                 Output Shape              Param #   \n",
      "=================================================================\n",
      "input_1 (InputLayer)         [(None, 16, 256)]         0         \n",
      "_________________________________________________________________\n",
      "bidirectional (Bidirectional (None, 16, 48)            53952     \n",
      "_________________________________________________________________\n",
      "time_distributed (TimeDistri (None, 16, 1)             49        \n",
      "=================================================================\n",
      "Total params: 54,001\n",
      "Trainable params: 54,001\n",
      "Non-trainable params: 0\n",
      "_________________________________________________________________\n",
      "======Training stage======\n",
      "Train on 67898 samples\n",
      "Epoch 1/10\n",
      "67808/67898 [============================>.] - ETA: 0s - loss: 5.1582e-04 - accuracy: 0.9999WARNING:tensorflow:Early stopping conditioned on metric `val_loss` which is not available. Available metrics are: loss,accuracy\n",
      "67898/67898 [==============================] - 43s 637us/sample - loss: 5.1533e-04 - accuracy: 0.9999\n",
      "Epoch 2/10\n",
      "67808/67898 [============================>.] - ETA: 0s - loss: 4.7267e-04 - accuracy: 0.9999WARNING:tensorflow:Early stopping conditioned on metric `val_loss` which is not available. Available metrics are: loss,accuracy\n",
      "67898/67898 [==============================] - 37s 547us/sample - loss: 4.7207e-04 - accuracy: 0.9999\n",
      "Epoch 3/10\n",
      "67840/67898 [============================>.] - ETA: 0s - loss: 4.6193e-04 - accuracy: 0.9999WARNING:tensorflow:Early stopping conditioned on metric `val_loss` which is not available. Available metrics are: loss,accuracy\n",
      "67898/67898 [==============================] - 37s 549us/sample - loss: 4.6464e-04 - accuracy: 0.9999\n",
      "Epoch 4/10\n",
      "67808/67898 [============================>.] - ETA: 0s - loss: 4.4590e-04 - accuracy: 0.9999WARNING:tensorflow:Early stopping conditioned on metric `val_loss` which is not available. Available metrics are: loss,accuracy\n",
      "67898/67898 [==============================] - 37s 549us/sample - loss: 4.4564e-04 - accuracy: 0.9999\n",
      "Epoch 5/10\n",
      "67808/67898 [============================>.] - ETA: 0s - loss: 4.2026e-04 - accuracy: 0.9999WARNING:tensorflow:Early stopping conditioned on metric `val_loss` which is not available. Available metrics are: loss,accuracy\n",
      "67898/67898 [==============================] - 35s 517us/sample - loss: 4.2844e-04 - accuracy: 0.9999\n",
      "Epoch 6/10\n",
      "67872/67898 [============================>.] - ETA: 0s - loss: 3.9218e-04 - accuracy: 0.9999WARNING:tensorflow:Early stopping conditioned on metric `val_loss` which is not available. Available metrics are: loss,accuracy\n",
      "67898/67898 [==============================] - 37s 547us/sample - loss: 3.9203e-04 - accuracy: 0.9999\n",
      "Epoch 7/10\n",
      "67840/67898 [============================>.] - ETA: 0s - loss: 3.6660e-04 - accuracy: 0.9999 ETA: 1s - loss: 3.6 -WARNING:tensorflow:Early stopping conditioned on metric `val_loss` which is not available. Available metrics are: loss,accuracy\n",
      "67898/67898 [==============================] - 35s 517us/sample - loss: 3.6630e-04 - accuracy: 0.9999\n",
      "Epoch 8/10\n",
      "67808/67898 [============================>.] - ETA: 0s - loss: 3.6722e-04 - accuracy: 0.9999WARNING:tensorflow:Early stopping conditioned on metric `val_loss` which is not available. Available metrics are: loss,accuracy\n",
      "67898/67898 [==============================] - 38s 553us/sample - loss: 3.6680e-04 - accuracy: 0.9999\n",
      "Epoch 9/10\n",
      "67840/67898 [============================>.] - ETA: 0s - loss: 3.7167e-04 - accuracy: 0.9999WARNING:tensorflow:Early stopping conditioned on metric `val_loss` which is not available. Available metrics are: loss,accuracy\n",
      "67898/67898 [==============================] - 38s 561us/sample - loss: 3.7136e-04 - accuracy: 0.9999\n",
      "Epoch 10/10\n",
      "67808/67898 [============================>.] - ETA: 0s - loss: 3.6135e-04 - accuracy: 0.9999WARNING:tensorflow:Early stopping conditioned on metric `val_loss` which is not available. Available metrics are: loss,accuracy\n",
      "67898/67898 [==============================] - 35s 513us/sample - loss: 3.6098e-04 - accuracy: 0.9999\n"
     ]
    },
    {
     "data": {
      "text/plain": [
       "<tensorflow.python.keras.callbacks.History at 0x1f532658408>"
      ]
     },
     "execution_count": 14,
     "metadata": {},
     "output_type": "execute_result"
    },
    {
     "name": "stdout",
     "output_type": "stream",
     "text": [
      "accuracy_score 0.9998508748674443\n",
      "recall_score 0.9968404423380727\n",
      "precision_score 0.9984177215189873\n",
      "f1_score 0.9976284584980237\n",
      "Model: \"model_3\"\n",
      "_________________________________________________________________\n",
      "Layer (type)                 Output Shape              Param #   \n",
      "=================================================================\n",
      "input_1 (InputLayer)         [(None, 16, 256)]         0         \n",
      "_________________________________________________________________\n",
      "bidirectional (Bidirectional (None, 16, 48)            53952     \n",
      "_________________________________________________________________\n",
      "time_distributed (TimeDistri (None, 16, 1)             49        \n",
      "=================================================================\n",
      "Total params: 54,001\n",
      "Trainable params: 54,001\n",
      "Non-trainable params: 0\n",
      "_________________________________________________________________\n",
      "======Training stage======\n",
      "Train on 67898 samples\n",
      "Epoch 1/10\n",
      "67808/67898 [============================>.] - ETA: 0s - loss: 3.5547e-04 - accuracy: 0.9999WARNING:tensorflow:Early stopping conditioned on metric `val_loss` which is not available. Available metrics are: loss,accuracy\n",
      "67898/67898 [==============================] - 44s 649us/sample - loss: 3.5500e-04 - accuracy: 0.9999\n",
      "Epoch 2/10\n",
      "67808/67898 [============================>.] - ETA: 0s - loss: 3.2142e-04 - accuracy: 0.9999WARNING:tensorflow:Early stopping conditioned on metric `val_loss` which is not available. Available metrics are: loss,accuracy\n",
      "67898/67898 [==============================] - 37s 540us/sample - loss: 3.2106e-04 - accuracy: 0.9999\n",
      "Epoch 3/10\n",
      "67872/67898 [============================>.] - ETA: 0s - loss: 3.1157e-04 - accuracy: 0.9999 ETA: 0s - loss: 3WARNING:tensorflow:Early stopping conditioned on metric `val_loss` which is not available. Available metrics are: loss,accuracy\n",
      "67898/67898 [==============================] - 37s 543us/sample - loss: 3.1145e-04 - accuracy: 0.9999\n",
      "Epoch 4/10\n",
      "67808/67898 [============================>.] - ETA: 0s - loss: 2.9125e-04 - accuracy: 0.9999WARNING:tensorflow:Early stopping conditioned on metric `val_loss` which is not available. Available metrics are: loss,accuracy\n",
      "67898/67898 [==============================] - 37s 538us/sample - loss: 2.9436e-04 - accuracy: 0.9999\n",
      "Epoch 5/10\n",
      "67840/67898 [============================>.] - ETA: 0s - loss: 2.8898e-04 - accuracy: 0.9999WARNING:tensorflow:Early stopping conditioned on metric `val_loss` which is not available. Available metrics are: loss,accuracy\n",
      "67898/67898 [==============================] - 35s 520us/sample - loss: 2.8874e-04 - accuracy: 0.9999\n",
      "Epoch 6/10\n",
      "67808/67898 [============================>.] - ETA: 0s - loss: 2.8349e-04 - accuracy: 0.9999WARNING:tensorflow:Early stopping conditioned on metric `val_loss` which is not available. Available metrics are: loss,accuracy\n",
      "67898/67898 [==============================] - 37s 542us/sample - loss: 2.8313e-04 - accuracy: 0.9999\n",
      "Epoch 7/10\n",
      "67872/67898 [============================>.] - ETA: 0s - loss: 2.8734e-04 - accuracy: 0.9999WARNING:tensorflow:Early stopping conditioned on metric `val_loss` which is not available. Available metrics are: loss,accuracy\n",
      "67898/67898 [==============================] - 36s 533us/sample - loss: 2.8723e-04 - accuracy: 0.9999\n",
      "Epoch 8/10\n",
      "67808/67898 [============================>.] - ETA: 0s - loss: 2.6860e-04 - accuracy: 0.9999 ETA: 0s - loss: 2.730WARNING:tensorflow:Early stopping conditioned on metric `val_loss` which is not available. Available metrics are: loss,accuracy\n",
      "67898/67898 [==============================] - 34s 502us/sample - loss: 2.6825e-04 - accuracy: 0.9999\n",
      "Epoch 9/10\n",
      "67840/67898 [============================>.] - ETA: 0s - loss: 2.5209e-04 - accuracy: 0.9999WARNING:tensorflow:Early stopping conditioned on metric `val_loss` which is not available. Available metrics are: loss,accuracy\n",
      "67898/67898 [==============================] - 36s 528us/sample - loss: 2.5217e-04 - accuracy: 0.9999\n",
      "Epoch 10/10\n",
      "67776/67898 [============================>.] - ETA: 0s - loss: 2.4935e-04 - accuracy: 0.9999WARNING:tensorflow:Early stopping conditioned on metric `val_loss` which is not available. Available metrics are: loss,accuracy\n",
      "67898/67898 [==============================] - 36s 524us/sample - loss: 2.4893e-04 - accuracy: 0.9999\n"
     ]
    },
    {
     "data": {
      "text/plain": [
       "<tensorflow.python.keras.callbacks.History at 0x1f559f2eb88>"
      ]
     },
     "execution_count": 14,
     "metadata": {},
     "output_type": "execute_result"
    },
    {
     "name": "stdout",
     "output_type": "stream",
     "text": [
      "accuracy_score 0.9998177359490986\n",
      "recall_score 0.9971113445378151\n",
      "precision_score 0.9971113445378151\n",
      "f1_score 0.9971113445378151\n",
      "Model: \"model_4\"\n",
      "_________________________________________________________________\n",
      "Layer (type)                 Output Shape              Param #   \n",
      "=================================================================\n",
      "input_1 (InputLayer)         [(None, 16, 256)]         0         \n",
      "_________________________________________________________________\n",
      "bidirectional (Bidirectional (None, 16, 48)            53952     \n",
      "_________________________________________________________________\n",
      "time_distributed (TimeDistri (None, 16, 1)             49        \n",
      "=================================================================\n",
      "Total params: 54,001\n",
      "Trainable params: 54,001\n",
      "Non-trainable params: 0\n",
      "_________________________________________________________________\n",
      "======Training stage======\n",
      "Train on 67898 samples\n",
      "Epoch 1/10\n",
      "67872/67898 [============================>.] - ETA: 0s - loss: 2.9274e-04 - accuracy: 0.9999WARNING:tensorflow:Early stopping conditioned on metric `val_loss` which is not available. Available metrics are: loss,accuracy\n",
      "67898/67898 [==============================] - 42s 618us/sample - loss: 2.9263e-04 - accuracy: 0.9999\n",
      "Epoch 2/10\n",
      "67808/67898 [============================>.] - ETA: 0s - loss: 2.5813e-04 - accuracy: 0.9999WARNING:tensorflow:Early stopping conditioned on metric `val_loss` which is not available. Available metrics are: loss,accuracy\n",
      "67898/67898 [==============================] - 36s 534us/sample - loss: 2.5782e-04 - accuracy: 0.9999\n",
      "Epoch 3/10\n",
      "67776/67898 [============================>.] - ETA: 0s - loss: 2.6440e-04 - accuracy: 0.9999WARNING:tensorflow:Early stopping conditioned on metric `val_loss` which is not available. Available metrics are: loss,accuracy\n",
      "67898/67898 [==============================] - 36s 536us/sample - loss: 2.6420e-04 - accuracy: 0.9999\n",
      "Epoch 4/10\n",
      "67808/67898 [============================>.] - ETA: 0s - loss: 2.4101e-04 - accuracy: 0.9999WARNING:tensorflow:Early stopping conditioned on metric `val_loss` which is not available. Available metrics are: loss,accuracy\n",
      "67898/67898 [==============================] - 34s 497us/sample - loss: 2.4074e-04 - accuracy: 0.9999\n",
      "Epoch 5/10\n",
      "67872/67898 [============================>.] - ETA: 0s - loss: 2.1840e-04 - accuracy: 0.9999WARNING:tensorflow:Early stopping conditioned on metric `val_loss` which is not available. Available metrics are: loss,accuracy\n",
      "67898/67898 [==============================] - 36s 534us/sample - loss: 2.1832e-04 - accuracy: 0.9999\n",
      "Epoch 6/10\n",
      "67808/67898 [============================>.] - ETA: 0s - loss: 2.4686e-04 - accuracy: 0.99 - ETA: 0s - loss: 2.4642e-04 - accuracy: 0.9999WARNING:tensorflow:Early stopping conditioned on metric `val_loss` which is not available. Available metrics are: loss,accuracy\n",
      "67898/67898 [==============================] - 36s 534us/sample - loss: 2.4610e-04 - accuracy: 0.9999\n",
      "Epoch 7/10\n",
      "67808/67898 [============================>.] - ETA: 0s - loss: 2.3905e-04 - accuracy: 0.9999WARNING:tensorflow:Early stopping conditioned on metric `val_loss` which is not available. Available metrics are: loss,accuracy\n",
      "67898/67898 [==============================] - 36s 532us/sample - loss: 2.3876e-04 - accuracy: 0.9999\n",
      "Epoch 8/10\n",
      "67872/67898 [============================>.] - ETA: 0s - loss: 2.2226e-04 - accuracy: 0.9999WARNING:tensorflow:Early stopping conditioned on metric `val_loss` which is not available. Available metrics are: loss,accuracy\n",
      "67898/67898 [==============================] - 36s 536us/sample - loss: 2.2218e-04 - accuracy: 0.9999\n",
      "Epoch 9/10\n",
      "67808/67898 [============================>.] - ETA: 0s - loss: 2.1409e-04 - accuracy: 0.9999WARNING:tensorflow:Early stopping conditioned on metric `val_loss` which is not available. Available metrics are: loss,accuracy\n",
      "67898/67898 [==============================] - 36s 530us/sample - loss: 2.1381e-04 - accuracy: 0.9999\n",
      "Epoch 10/10\n",
      "67808/67898 [============================>.] - ETA: 0s - loss: 2.1742e-04 - accuracy: 0.9999WARNING:tensorflow:Early stopping conditioned on metric `val_loss` which is not available. Available metrics are: loss,accuracy\n",
      "67898/67898 [==============================] - 36s 527us/sample - loss: 2.1713e-04 - accuracy: 0.9999\n"
     ]
    },
    {
     "data": {
      "text/plain": [
       "<tensorflow.python.keras.callbacks.History at 0x1f5a052fbc8>"
      ]
     },
     "execution_count": 14,
     "metadata": {},
     "output_type": "execute_result"
    },
    {
     "name": "stdout",
     "output_type": "stream",
     "text": [
      "accuracy_score 0.9998674443266172\n",
      "recall_score 0.9978941826796526\n",
      "precision_score 0.9978941826796526\n",
      "f1_score 0.9978941826796526\n",
      "Model: \"model_5\"\n",
      "_________________________________________________________________\n",
      "Layer (type)                 Output Shape              Param #   \n",
      "=================================================================\n",
      "input_1 (InputLayer)         [(None, 16, 256)]         0         \n",
      "_________________________________________________________________\n",
      "bidirectional (Bidirectional (None, 16, 48)            53952     \n",
      "_________________________________________________________________\n",
      "time_distributed (TimeDistri (None, 16, 1)             49        \n",
      "=================================================================\n",
      "Total params: 54,001\n",
      "Trainable params: 54,001\n",
      "Non-trainable params: 0\n",
      "_________________________________________________________________\n",
      "======Training stage======\n",
      "Train on 67898 samples\n",
      "Epoch 1/10\n",
      "67840/67898 [============================>.] - ETA: 0s - loss: 2.9026e-04 - accuracy: 0.9999 ETA: 4s - loss: 2WARNING:tensorflow:Early stopping conditioned on metric `val_loss` which is not available. Available metrics are: loss,accuracy\n",
      "67898/67898 [==============================] - 44s 641us/sample - loss: 2.9001e-04 - accuracy: 0.9999\n",
      "Epoch 2/10\n",
      "67840/67898 [============================>.] - ETA: 0s - loss: 2.4772e-04 - accuracy: 0.9999WARNING:tensorflow:Early stopping conditioned on metric `val_loss` which is not available. Available metrics are: loss,accuracy\n",
      "67898/67898 [==============================] - 38s 559us/sample - loss: 2.4751e-04 - accuracy: 0.9999\n",
      "Epoch 3/10\n",
      "67872/67898 [============================>.] - ETA: 0s - loss: 2.4987e-04 - accuracy: 0.9999WARNING:tensorflow:Early stopping conditioned on metric `val_loss` which is not available. Available metrics are: loss,accuracy\n",
      "67898/67898 [==============================] - 39s 580us/sample - loss: 2.4978e-04 - accuracy: 0.9999\n",
      "Epoch 4/10\n",
      "67840/67898 [============================>.] - ETA: 0s - loss: 2.2117e-04 - accuracy: 0.9999WARNING:tensorflow:Early stopping conditioned on metric `val_loss` which is not available. Available metrics are: loss,accuracy\n",
      "67898/67898 [==============================] - 36s 532us/sample - loss: 2.2099e-04 - accuracy: 0.9999\n",
      "Epoch 5/10\n",
      "67872/67898 [============================>.] - ETA: 0s - loss: 2.3454e-04 - accuracy: 0.9999WARNING:tensorflow:Early stopping conditioned on metric `val_loss` which is not available. Available metrics are: loss,accuracy\n",
      "67898/67898 [==============================] - 38s 565us/sample - loss: 2.3445e-04 - accuracy: 0.9999\n",
      "Epoch 6/10\n",
      "67872/67898 [============================>.] - ETA: 0s - loss: 2.2648e-04 - accuracy: 0.9999WARNING:tensorflow:Early stopping conditioned on metric `val_loss` which is not available. Available metrics are: loss,accuracy\n",
      "67898/67898 [==============================] - 38s 559us/sample - loss: 2.2639e-04 - accuracy: 0.9999\n",
      "Epoch 7/10\n",
      "67808/67898 [============================>.] - ETA: 0s - loss: 2.4531e-04 - accuracy: 0.9999WARNING:tensorflow:Early stopping conditioned on metric `val_loss` which is not available. Available metrics are: loss,accuracy\n",
      "67898/67898 [==============================] - 38s 560us/sample - loss: 2.4499e-04 - accuracy: 0.9999\n",
      "Epoch 8/10\n",
      "67840/67898 [============================>.] - ETA: 0s - loss: 2.6083e-04 - accuracy: 1.0000WARNING:tensorflow:Early stopping conditioned on metric `val_loss` which is not available. Available metrics are: loss,accuracy\n",
      "67898/67898 [==============================] - 38s 562us/sample - loss: 2.6061e-04 - accuracy: 1.0000\n",
      "Epoch 9/10\n",
      "67776/67898 [============================>.] - ETA: 0s - loss: 2.2641e-04 - accuracy: 1.0000WARNING:tensorflow:Early stopping conditioned on metric `val_loss` which is not available. Available metrics are: loss,accuracy\n",
      "67898/67898 [==============================] - 38s 557us/sample - loss: 2.2604e-04 - accuracy: 1.0000\n",
      "Epoch 10/10\n",
      "67840/67898 [============================>.] - ETA: 0s - loss: 2.2034e-04 - accuracy: 1.0000WARNING:tensorflow:Early stopping conditioned on metric `val_loss` which is not available. Available metrics are: loss,accuracy\n",
      "67898/67898 [==============================] - 38s 559us/sample - loss: 2.2016e-04 - accuracy: 1.0000\n"
     ]
    },
    {
     "data": {
      "text/plain": [
       "<tensorflow.python.keras.callbacks.History at 0x1f5a9a824c8>"
      ]
     },
     "execution_count": 14,
     "metadata": {},
     "output_type": "execute_result"
    },
    {
     "name": "stdout",
     "output_type": "stream",
     "text": [
      "accuracy_score 0.9998840137857901\n",
      "recall_score 0.9976863753213367\n",
      "precision_score 0.9987133299022131\n",
      "f1_score 0.9981995884773662\n",
      "Model: \"model_6\"\n",
      "_________________________________________________________________\n",
      "Layer (type)                 Output Shape              Param #   \n",
      "=================================================================\n",
      "input_1 (InputLayer)         [(None, 16, 256)]         0         \n",
      "_________________________________________________________________\n",
      "bidirectional (Bidirectional (None, 16, 48)            53952     \n",
      "_________________________________________________________________\n",
      "time_distributed (TimeDistri (None, 16, 1)             49        \n",
      "=================================================================\n",
      "Total params: 54,001\n",
      "Trainable params: 54,001\n",
      "Non-trainable params: 0\n",
      "_________________________________________________________________\n",
      "======Training stage======\n",
      "Train on 67898 samples\n",
      "Epoch 1/10\n",
      "67872/67898 [============================>.] - ETA: 0s - loss: 2.6404e-04 - accuracy: 0.9999WARNING:tensorflow:Early stopping conditioned on metric `val_loss` which is not available. Available metrics are: loss,accuracy\n",
      "67898/67898 [==============================] - 41s 599us/sample - loss: 2.6403e-04 - accuracy: 0.9999\n",
      "Epoch 2/10\n",
      "67872/67898 [============================>.] - ETA: 0s - loss: 2.5964e-04 - accuracy: 0.9999WARNING:tensorflow:Early stopping conditioned on metric `val_loss` which is not available. Available metrics are: loss,accuracy\n",
      "67898/67898 [==============================] - 36s 532us/sample - loss: 2.5961e-04 - accuracy: 0.9999\n",
      "Epoch 3/10\n",
      "67872/67898 [============================>.] - ETA: 0s - loss: 2.4746e-04 - accuracy: 0.9999WARNING:tensorflow:Early stopping conditioned on metric `val_loss` which is not available. Available metrics are: loss,accuracy\n",
      "67898/67898 [==============================] - 34s 502us/sample - loss: 2.4738e-04 - accuracy: 0.9999\n",
      "Epoch 4/10\n",
      "67808/67898 [============================>.] - ETA: 0s - loss: 2.2119e-04 - accuracy: 0.9999 ETA: 0s - loss: 2.2185e-04 - accuracyWARNING:tensorflow:Early stopping conditioned on metric `val_loss` which is not available. Available metrics are: loss,accuracy\n",
      "67898/67898 [==============================] - 34s 503us/sample - loss: 2.2090e-04 - accuracy: 0.9999\n",
      "Epoch 5/10\n",
      "67776/67898 [============================>.] - ETA: 0s - loss: 2.0663e-04 - accuracy: 1.0000WARNING:tensorflow:Early stopping conditioned on metric `val_loss` which is not available. Available metrics are: loss,accuracy\n",
      "67898/67898 [==============================] - 36s 530us/sample - loss: 2.0628e-04 - accuracy: 1.0000\n",
      "Epoch 6/10\n",
      "67872/67898 [============================>.] - ETA: 0s - loss: 2.0008e-04 - accuracy: 1.0000WARNING:tensorflow:Early stopping conditioned on metric `val_loss` which is not available. Available metrics are: loss,accuracy\n",
      "67898/67898 [==============================] - 36s 531us/sample - loss: 2.0001e-04 - accuracy: 1.0000\n",
      "Epoch 7/10\n",
      "67872/67898 [============================>.] - ETA: 0s - loss: 2.0971e-04 - accuracy: 0.9999WARNING:tensorflow:Early stopping conditioned on metric `val_loss` which is not available. Available metrics are: loss,accuracy\n",
      "67898/67898 [==============================] - 36s 532us/sample - loss: 2.0965e-04 - accuracy: 0.9999\n",
      "Epoch 8/10\n",
      "67808/67898 [============================>.] - ETA: 0s - loss: 2.1136e-04 - accuracy: 1.0000WARNING:tensorflow:Early stopping conditioned on metric `val_loss` which is not available. Available metrics are: loss,accuracy\n",
      "67898/67898 [==============================] - 36s 532us/sample - loss: 2.1109e-04 - accuracy: 1.0000\n",
      "Epoch 9/10\n",
      "67808/67898 [============================>.] - ETA: 0s - loss: 2.0208e-04 - accuracy: 1.0000WARNING:tensorflow:Early stopping conditioned on metric `val_loss` which is not available. Available metrics are: loss,accuracy\n",
      "67898/67898 [==============================] - 36s 532us/sample - loss: 2.0182e-04 - accuracy: 1.0000\n",
      "Epoch 10/10\n",
      "67872/67898 [============================>.] - ETA: 0s - loss: 2.2699e-04 - accuracy: 0.9999WARNING:tensorflow:Early stopping conditioned on metric `val_loss` which is not available. Available metrics are: loss,accuracy\n",
      "67898/67898 [==============================] - 36s 529us/sample - loss: 2.2691e-04 - accuracy: 0.9999\n"
     ]
    },
    {
     "data": {
      "text/plain": [
       "<tensorflow.python.keras.callbacks.History at 0x1f52d6171c8>"
      ]
     },
     "execution_count": 14,
     "metadata": {},
     "output_type": "execute_result"
    },
    {
     "name": "stdout",
     "output_type": "stream",
     "text": [
      "accuracy_score 0.9999254374337222\n",
      "recall_score 0.998960498960499\n",
      "precision_score 0.9987009612886464\n",
      "f1_score 0.9988307132649085\n",
      "Model: \"model_7\"\n",
      "_________________________________________________________________\n",
      "Layer (type)                 Output Shape              Param #   \n",
      "=================================================================\n",
      "input_1 (InputLayer)         [(None, 16, 256)]         0         \n",
      "_________________________________________________________________\n",
      "bidirectional (Bidirectional (None, 16, 48)            53952     \n",
      "_________________________________________________________________\n",
      "time_distributed (TimeDistri (None, 16, 1)             49        \n",
      "=================================================================\n",
      "Total params: 54,001\n",
      "Trainable params: 54,001\n",
      "Non-trainable params: 0\n",
      "_________________________________________________________________\n",
      "======Training stage======\n",
      "Train on 67898 samples\n",
      "Epoch 1/10\n",
      "67872/67898 [============================>.] - ETA: 0s - loss: 2.0240e-04 - accuracy: 0.9999WARNING:tensorflow:Early stopping conditioned on metric `val_loss` which is not available. Available metrics are: loss,accuracy\n",
      "67898/67898 [==============================] - 51s 744us/sample - loss: 2.0232e-04 - accuracy: 0.9999\n",
      "Epoch 2/10\n",
      "67808/67898 [============================>.] - ETA: 0s - loss: 1.9786e-04 - accuracy: 1.0000 - ETA: 0s - loss: 1.9866e-04 - accuracy: WARNING:tensorflow:Early stopping conditioned on metric `val_loss` which is not available. Available metrics are: loss,accuracy\n",
      "67898/67898 [==============================] - 37s 552us/sample - loss: 1.9762e-04 - accuracy: 1.0000\n",
      "Epoch 3/10\n",
      "67840/67898 [============================>.] - ETA: 0s - loss: 1.9577e-04 - accuracy: 1.0000WARNING:tensorflow:Early stopping conditioned on metric `val_loss` which is not available. Available metrics are: loss,accuracy\n",
      "67898/67898 [==============================] - 42s 621us/sample - loss: 1.9560e-04 - accuracy: 1.0000\n",
      "Epoch 4/10\n",
      "67808/67898 [============================>.] - ETA: 0s - loss: 1.4563e-04 - accuracy: 1.0000WARNING:tensorflow:Early stopping conditioned on metric `val_loss` which is not available. Available metrics are: loss,accuracy\n",
      "67898/67898 [==============================] - 42s 621us/sample - loss: 1.4543e-04 - accuracy: 1.0000\n",
      "Epoch 5/10\n",
      "67872/67898 [============================>.] - ETA: 0s - loss: 1.9060e-04 - accuracy: 1.0000 ETA: 0s - loss: 1.9105e-04 - acWARNING:tensorflow:Early stopping conditioned on metric `val_loss` which is not available. Available metrics are: loss,accuracy\n",
      "67898/67898 [==============================] - 42s 624us/sample - loss: 1.9053e-04 - accuracy: 1.0000\n",
      "Epoch 6/10\n",
      "67808/67898 [============================>.] - ETA: 0s - loss: 1.6600e-04 - accuracy: 1.0000WARNING:tensorflow:Early stopping conditioned on metric `val_loss` which is not available. Available metrics are: loss,accuracy\n",
      "67898/67898 [==============================] - 42s 623us/sample - loss: 1.6578e-04 - accuracy: 1.0000\n",
      "Epoch 7/10\n",
      "67808/67898 [============================>.] - ETA: 0s - loss: 1.6059e-04 - accuracy: 1.0000WARNING:tensorflow:Early stopping conditioned on metric `val_loss` which is not available. Available metrics are: loss,accuracy\n",
      "67898/67898 [==============================] - 41s 606us/sample - loss: 1.6038e-04 - accuracy: 1.0000\n",
      "Epoch 8/10\n",
      "67872/67898 [============================>.] - ETA: 0s - loss: 1.6729e-04 - accuracy: 1.0000WARNING:tensorflow:Early stopping conditioned on metric `val_loss` which is not available. Available metrics are: loss,accuracy\n",
      "67898/67898 [==============================] - 42s 621us/sample - loss: 1.6722e-04 - accuracy: 1.0000\n",
      "Epoch 9/10\n",
      "67872/67898 [============================>.] - ETA: 0s - loss: 1.4363e-04 - accuracy: 1.0000WARNING:tensorflow:Early stopping conditioned on metric `val_loss` which is not available. Available metrics are: loss,accuracy\n",
      "67898/67898 [==============================] - 42s 625us/sample - loss: 1.4358e-04 - accuracy: 1.0000\n",
      "Epoch 10/10\n",
      "67872/67898 [============================>.] - ETA: 0s - loss: 1.5396e-04 - accuracy: 1.0000WARNING:tensorflow:Early stopping conditioned on metric `val_loss` which is not available. Available metrics are: loss,accuracy\n",
      "67898/67898 [==============================] - 42s 622us/sample - loss: 1.5390e-04 - accuracy: 1.0000\n"
     ]
    },
    {
     "data": {
      "text/plain": [
       "<tensorflow.python.keras.callbacks.History at 0x1f5a356e988>"
      ]
     },
     "execution_count": 14,
     "metadata": {},
     "output_type": "execute_result"
    },
    {
     "name": "stdout",
     "output_type": "stream",
     "text": [
      "accuracy_score 0.9998508748674443\n",
      "recall_score 0.9979365488779984\n",
      "precision_score 0.9974220159835009\n",
      "f1_score 0.9976792160907685\n",
      "Model: \"model_8\"\n",
      "_________________________________________________________________\n",
      "Layer (type)                 Output Shape              Param #   \n",
      "=================================================================\n",
      "input_1 (InputLayer)         [(None, 16, 256)]         0         \n",
      "_________________________________________________________________\n",
      "bidirectional (Bidirectional (None, 16, 48)            53952     \n",
      "_________________________________________________________________\n",
      "time_distributed (TimeDistri (None, 16, 1)             49        \n",
      "=================================================================\n",
      "Total params: 54,001\n",
      "Trainable params: 54,001\n",
      "Non-trainable params: 0\n",
      "_________________________________________________________________\n",
      "======Training stage======\n",
      "Train on 67898 samples\n",
      "Epoch 1/10\n",
      "67840/67898 [============================>.] - ETA: 0s - loss: 1.9545e-04 - accuracy: 1.0000WARNING:tensorflow:Early stopping conditioned on metric `val_loss` which is not available. Available metrics are: loss,accuracy\n",
      "67898/67898 [==============================] - 41s 604us/sample - loss: 1.9529e-04 - accuracy: 1.0000\n",
      "Epoch 2/10\n",
      "67808/67898 [============================>.] - ETA: 0s - loss: 1.7730e-04 - accuracy: 1.0000WARNING:tensorflow:Early stopping conditioned on metric `val_loss` which is not available. Available metrics are: loss,accuracy\n",
      "67898/67898 [==============================] - 31s 461us/sample - loss: 1.7707e-04 - accuracy: 1.0000\n",
      "Epoch 3/10\n",
      "67840/67898 [============================>.] - ETA: 0s - loss: 1.8247e-04 - accuracy: 1.0000WARNING:tensorflow:Early stopping conditioned on metric `val_loss` which is not available. Available metrics are: loss,accuracy\n",
      "67898/67898 [==============================] - 32s 471us/sample - loss: 1.8232e-04 - accuracy: 1.0000\n",
      "Epoch 4/10\n",
      "67808/67898 [============================>.] - ETA: 0s - loss: 1.7197e-04 - accuracy: 1.0000 ETA: 0s - loss: 1.7376e-04 - accuWARNING:tensorflow:Early stopping conditioned on metric `val_loss` which is not available. Available metrics are: loss,accuracy\n",
      "67898/67898 [==============================] - 32s 472us/sample - loss: 1.7174e-04 - accuracy: 1.0000\n",
      "Epoch 5/10\n",
      "67808/67898 [============================>.] - ETA: 0s - loss: 1.6097e-04 - accuracy: 1.0000 ETA: 5s - loss: 1.6648e-04 - accuracy: 1.00 - ETA: 5s - losWARNING:tensorflow:Early stopping conditioned on metric `val_loss` which is not available. Available metrics are: loss,accuracy\n",
      "67898/67898 [==============================] - 32s 472us/sample - loss: 1.6106e-04 - accuracy: 1.0000\n",
      "Epoch 6/10\n",
      "67872/67898 [============================>.] - ETA: 0s - loss: 1.6834e-04 - accuracy: 1.0000 ETA: 1s - lWARNING:tensorflow:Early stopping conditioned on metric `val_loss` which is not available. Available metrics are: loss,accuracy\n",
      "67898/67898 [==============================] - 32s 471us/sample - loss: 1.6828e-04 - accuracy: 1.0000\n",
      "Epoch 7/10\n",
      "67872/67898 [============================>.] - ETA: 0s - loss: 1.8307e-04 - accuracy: 1.0000WARNING:tensorflow:Early stopping conditioned on metric `val_loss` which is not available. Available metrics are: loss,accuracy\n",
      "67898/67898 [==============================] - 32s 472us/sample - loss: 1.8300e-04 - accuracy: 1.0000\n",
      "Epoch 8/10\n",
      "67872/67898 [============================>.] - ETA: 0s - loss: 1.8089e-04 - accuracy: 1.0000WARNING:tensorflow:Early stopping conditioned on metric `val_loss` which is not available. Available metrics are: loss,accuracy\n",
      "67898/67898 [==============================] - 32s 472us/sample - loss: 1.8082e-04 - accuracy: 1.0000\n",
      "Epoch 9/10\n",
      "67808/67898 [============================>.] - ETA: 0s - loss: 1.7508e-04 - accuracy: 1.0000WARNING:tensorflow:Early stopping conditioned on metric `val_loss` which is not available. Available metrics are: loss,accuracy\n",
      "67898/67898 [==============================] - 30s 440us/sample - loss: 1.8492e-04 - accuracy: 1.0000\n",
      "Epoch 10/10\n",
      "67808/67898 [============================>.] - ETA: 0s - loss: 1.7868e-04 - accuracy: 1.0000WARNING:tensorflow:Early stopping conditioned on metric `val_loss` which is not available. Available metrics are: loss,accuracy\n",
      "67898/67898 [==============================] - 24s 358us/sample - loss: 1.8243e-04 - accuracy: 1.0000\n"
     ]
    },
    {
     "data": {
      "text/plain": [
       "<tensorflow.python.keras.callbacks.History at 0x1f526be3e88>"
      ]
     },
     "execution_count": 14,
     "metadata": {},
     "output_type": "execute_result"
    },
    {
     "name": "stdout",
     "output_type": "stream",
     "text": [
      "accuracy_score 0.9999502916224814\n",
      "recall_score 0.9994937990382182\n",
      "precision_score 0.9989881102959778\n",
      "f1_score 0.9992408906882592\n",
      "Model: \"model_9\"\n",
      "_________________________________________________________________\n",
      "Layer (type)                 Output Shape              Param #   \n",
      "=================================================================\n",
      "input_1 (InputLayer)         [(None, 16, 256)]         0         \n",
      "_________________________________________________________________\n",
      "bidirectional (Bidirectional (None, 16, 48)            53952     \n",
      "_________________________________________________________________\n",
      "time_distributed (TimeDistri (None, 16, 1)             49        \n",
      "=================================================================\n",
      "Total params: 54,001\n",
      "Trainable params: 54,001\n",
      "Non-trainable params: 0\n",
      "_________________________________________________________________\n",
      "======Training stage======\n",
      "Train on 67898 samples\n",
      "Epoch 1/10\n",
      "67872/67898 [============================>.] - ETA: 0s - loss: 1.6363e-04 - accuracy: 1.0000WARNING:tensorflow:Early stopping conditioned on metric `val_loss` which is not available. Available metrics are: loss,accuracy\n",
      "67898/67898 [==============================] - 25s 364us/sample - loss: 1.6356e-04 - accuracy: 1.0000\n",
      "Epoch 2/10\n",
      "67744/67898 [============================>.] - ETA: 0s - loss: 1.5437e-04 - accuracy: 1.0000WARNING:tensorflow:Early stopping conditioned on metric `val_loss` which is not available. Available metrics are: loss,accuracy\n",
      "67898/67898 [==============================] - 20s 299us/sample - loss: 1.5406e-04 - accuracy: 1.0000\n",
      "Epoch 3/10\n",
      "67808/67898 [============================>.] - ETA: 0s - loss: 1.7299e-04 - accuracy: 1.0000WARNING:tensorflow:Early stopping conditioned on metric `val_loss` which is not available. Available metrics are: loss,accuracy\n",
      "67898/67898 [==============================] - 20s 298us/sample - loss: 1.7287e-04 - accuracy: 1.0000\n",
      "Epoch 4/10\n",
      "67808/67898 [============================>.] - ETA: 0s - loss: 1.5477e-04 - accuracy: 1.0000WARNING:tensorflow:Early stopping conditioned on metric `val_loss` which is not available. Available metrics are: loss,accuracy\n",
      "67898/67898 [==============================] - 20s 298us/sample - loss: 1.5457e-04 - accuracy: 1.0000\n",
      "Epoch 5/10\n",
      "67776/67898 [============================>.] - ETA: 0s - loss: 1.7696e-04 - accuracy: 1.0000WARNING:tensorflow:Early stopping conditioned on metric `val_loss` which is not available. Available metrics are: loss,accuracy\n",
      "67898/67898 [==============================] - 20s 299us/sample - loss: 1.7665e-04 - accuracy: 1.0000\n",
      "Epoch 6/10\n",
      "67776/67898 [============================>.] - ETA: 0s - loss: 1.7282e-04 - accuracy: 1.0000WARNING:tensorflow:Early stopping conditioned on metric `val_loss` which is not available. Available metrics are: loss,accuracy\n",
      "67898/67898 [==============================] - 20s 298us/sample - loss: 1.7251e-04 - accuracy: 1.0000\n",
      "Epoch 7/10\n",
      "67808/67898 [============================>.] - ETA: 0s - loss: 1.8587e-04 - accuracy: 1.0000WARNING:tensorflow:Early stopping conditioned on metric `val_loss` which is not available. Available metrics are: loss,accuracy\n",
      "67898/67898 [==============================] - 20s 297us/sample - loss: 1.8562e-04 - accuracy: 1.0000\n",
      "Epoch 8/10\n",
      "67808/67898 [============================>.] - ETA: 0s - loss: 1.3457e-04 - accuracy: 1.0000WARNING:tensorflow:Early stopping conditioned on metric `val_loss` which is not available. Available metrics are: loss,accuracy\n",
      "67898/67898 [==============================] - 20s 297us/sample - loss: 1.3556e-04 - accuracy: 1.0000\n",
      "Epoch 9/10\n",
      "67808/67898 [============================>.] - ETA: 0s - loss: 1.5651e-04 - accuracy: 1.0000WARNING:tensorflow:Early stopping conditioned on metric `val_loss` which is not available. Available metrics are: loss,accuracy\n",
      "67898/67898 [==============================] - 20s 296us/sample - loss: 1.5631e-04 - accuracy: 1.0000\n",
      "Epoch 10/10\n",
      "67776/67898 [============================>.] - ETA: 0s - loss: 1.5632e-04 - accuracy: 1.0000WARNING:tensorflow:Early stopping conditioned on metric `val_loss` which is not available. Available metrics are: loss,accuracy\n",
      "67898/67898 [==============================] - 20s 297us/sample - loss: 1.5604e-04 - accuracy: 1.0000\n"
     ]
    },
    {
     "data": {
      "text/plain": [
       "<tensorflow.python.keras.callbacks.History at 0x1f5a3fb8b08>"
      ]
     },
     "execution_count": 14,
     "metadata": {},
     "output_type": "execute_result"
    },
    {
     "name": "stdout",
     "output_type": "stream",
     "text": [
      "accuracy_score 0.9999337221633086\n",
      "recall_score 0.9989688063934004\n",
      "precision_score 0.9989688063934004\n",
      "f1_score 0.9989688063934004\n",
      "\n",
      "K-fold cross validation Accuracy: [0.9996520874751491, 0.9998177601060305, 0.9998508748674443, 0.9998177359490986, 0.9998674443266172, 0.9998840137857901, 0.9999254374337222, 0.9998508748674443, 0.9999502916224814, 0.9999337221633086]\n",
      "\n",
      "K-fold cross validation Recall: [0.9958570688762299, 0.9965897166841553, 0.9968404423380727, 0.9971113445378151, 0.9978941826796526, 0.9976863753213367, 0.998960498960499, 0.9979365488779984, 0.9994937990382182, 0.9989688063934004]\n",
      "\n",
      "K-fold cross validation Precision: [0.9932851239669421, 0.9976365546218487, 0.9984177215189873, 0.9971113445378151, 0.9978941826796526, 0.9987133299022131, 0.9987009612886464, 0.9974220159835009, 0.9989881102959778, 0.9989688063934004]\n",
      "\n",
      "K-fold cross validation F1-Score: [0.9945694336695112, 0.9971128608923884, 0.9976284584980237, 0.9971113445378151, 0.9978941826796526, 0.9981995884773662, 0.9988307132649085, 0.9976792160907685, 0.9992408906882592, 0.9989688063934004]\n"
     ]
    }
   ],
   "source": [
    "# 교차검증 kfold\n",
    "from sklearn.model_selection import KFold\n",
    "\n",
    "# Accuracy, Precision, Recall, F1-Score\n",
    "from sklearn.metrics import accuracy_score, recall_score, precision_score, f1_score\n",
    "\n",
    "# Confusion Matrix, ROC Curve\n",
    "from sklearn.metrics import confusion_matrix, roc_auc_score\n",
    "\n",
    "# 최종 평가지표들 평균용\n",
    "accuracy, recall, precision, f1score, cm = [], [], [], [], []\n",
    "\n",
    "# 11. 교차검증 kfold - k.split - 10회 / K-Fold 객체 생성\n",
    "# kf = KFold(n_splits=10, shuffle=False, random_state=None) # KFold non shuffle 버전\n",
    "kf = KFold(n_splits=10, shuffle=True, random_state=None) # KFold non shuffle 버전\n",
    "\n",
    "for train, validation in kf.split(x_bc6_2, y_bc6_2):\n",
    "    model1 = models.Model(xInput, xOutput)\n",
    "    model1.compile(loss='binary_crossentropy', optimizer='rmsprop', metrics=['accuracy'])\n",
    "    model1.summary()\n",
    "    print('======Training stage======')\n",
    "    model1.fit(x_bc6_2[train],\n",
    "               y_bc6_2[train],\n",
    "               epochs = 10,\n",
    "               batch_size = 32,\n",
    "               callbacks=[early_stopping])\n",
    "    #k_accuracy = '%.4f' %(model1.evaluate(data_10000x[validation], data_10000y[validation])[1])\n",
    "\n",
    "# 12. 교차검증결과 predict - 검증셋들\n",
    "    # predict 값\n",
    "    k_pr = model1.predict(x_bc6_2[validation])\n",
    "    \n",
    "    # 테스트 predict 결과들 비교 (평가지표 보기위함)\n",
    "    pred = np.round(np.array(k_pr).flatten().tolist())\n",
    "    y_test = np.array(y_bc6_2[validation]).flatten().tolist()\n",
    "    \n",
    "# 13. 평가지표들 출력\n",
    "    ## 평가지표들\n",
    "    k_accuracy = float(accuracy_score(y_test, pred))\n",
    "    k_recall =  float(recall_score(y_test, pred))\n",
    "    k_precision = float(precision_score(y_test, pred))\n",
    "    k_f1_score = float(f1_score(y_test, pred))\n",
    "    #k_cm = float(confusion_matrix(y_test, pred))\n",
    "    \n",
    "    print('accuracy_score', k_accuracy)\n",
    "    print('recall_score', k_recall)\n",
    "    print('precision_score', k_precision)\n",
    "    print('f1_score', k_f1_score)\n",
    "    #print('\\nconfusion_matrix\\n', k_cm)\n",
    "\n",
    "    accuracy.append(k_accuracy)\n",
    "    recall.append(k_recall)\n",
    "    precision.append(k_precision)\n",
    "    f1score.append(k_f1_score)\n",
    "    #cm.append(k_cm)\n",
    "#    print('roc_curve 면적', roc_auc_score(y_test, pred))\n",
    "\n",
    "# 최종 결과지표\n",
    "print('\\nK-fold cross validation Accuracy: {}'.format(accuracy))\n",
    "print('\\nK-fold cross validation Recall: {}'.format(recall))\n",
    "print('\\nK-fold cross validation Precision: {}'.format(precision))\n",
    "print('\\nK-fold cross validation F1-Score: {}'.format(f1score))\n",
    "#print('\\nK-fold cross validation ConfusionMatrix: {}'.format(cm))"
   ]
  },
  {
   "cell_type": "markdown",
   "metadata": {},
   "source": [
    "## (9) 평가지표"
   ]
  },
  {
   "cell_type": "code",
   "execution_count": 15,
   "metadata": {},
   "outputs": [
    {
     "name": "stdout",
     "output_type": "stream",
     "text": [
      "10-Fold Cross_validation. Accuracy : 0.9998550242597087\n",
      "10-Fold Cross_validation. Recall : 0.9977338783707378\n",
      "10-Fold Cross_validation. Precision : 0.9977138151188985\n",
      "10-Fold Cross_validation. F1-Score : 0.9977235495192094\n"
     ]
    }
   ],
   "source": [
    "print('10-Fold Cross_validation. Accuracy :', np.mean(accuracy))\n",
    "print('10-Fold Cross_validation. Recall :', np.mean(recall))\n",
    "print('10-Fold Cross_validation. Precision :', np.mean(precision))\n",
    "print('10-Fold Cross_validation. F1-Score :', np.mean(f1score))"
   ]
  },
  {
   "cell_type": "code",
   "execution_count": 16,
   "metadata": {},
   "outputs": [
    {
     "name": "stdout",
     "output_type": "stream",
     "text": [
      "save 완료\n"
     ]
    }
   ],
   "source": [
    "model1.save('gcc6_bin_core_s16_h24_o2.h5')\n",
    "print('save 완료')"
   ]
  }
 ],
 "metadata": {
  "kernelspec": {
   "display_name": "Python 3",
   "language": "python",
   "name": "python3"
  },
  "language_info": {
   "codemirror_mode": {
    "name": "ipython",
    "version": 3
   },
   "file_extension": ".py",
   "mimetype": "text/x-python",
   "name": "python",
   "nbconvert_exporter": "python",
   "pygments_lexer": "ipython3",
   "version": "3.7.9"
  }
 },
 "nbformat": 4,
 "nbformat_minor": 4
}
