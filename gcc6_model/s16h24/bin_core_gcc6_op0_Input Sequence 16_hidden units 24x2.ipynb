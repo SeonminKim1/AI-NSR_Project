{
 "cells": [
  {
   "cell_type": "markdown",
   "metadata": {},
   "source": [
    "## RNN 모델 N-Byte 방식 (함수정보 포함 vs 미포함 => 1:1 비율)\n",
    "\n",
    "## (1) 데이터로드"
   ]
  },
  {
   "cell_type": "code",
   "execution_count": 1,
   "metadata": {},
   "outputs": [
    {
     "name": "stdout",
     "output_type": "stream",
     "text": [
      "(30092946, 2)\n",
      "shape - (30092946, 2)\n",
      "reset_index 완료\n",
      "input data shape\n"
     ]
    },
    {
     "data": {
      "text/html": [
       "<div>\n",
       "<style scoped>\n",
       "    .dataframe tbody tr th:only-of-type {\n",
       "        vertical-align: middle;\n",
       "    }\n",
       "\n",
       "    .dataframe tbody tr th {\n",
       "        vertical-align: top;\n",
       "    }\n",
       "\n",
       "    .dataframe thead th {\n",
       "        text-align: right;\n",
       "    }\n",
       "</style>\n",
       "<table border=\"1\" class=\"dataframe\">\n",
       "  <thead>\n",
       "    <tr style=\"text-align: right;\">\n",
       "      <th></th>\n",
       "      <th>bin</th>\n",
       "      <th>label</th>\n",
       "    </tr>\n",
       "  </thead>\n",
       "  <tbody>\n",
       "    <tr>\n",
       "      <th>0</th>\n",
       "      <td>47</td>\n",
       "      <td>0</td>\n",
       "    </tr>\n",
       "    <tr>\n",
       "      <th>1</th>\n",
       "      <td>108</td>\n",
       "      <td>0</td>\n",
       "    </tr>\n",
       "    <tr>\n",
       "      <th>2</th>\n",
       "      <td>105</td>\n",
       "      <td>0</td>\n",
       "    </tr>\n",
       "    <tr>\n",
       "      <th>3</th>\n",
       "      <td>98</td>\n",
       "      <td>0</td>\n",
       "    </tr>\n",
       "    <tr>\n",
       "      <th>4</th>\n",
       "      <td>47</td>\n",
       "      <td>0</td>\n",
       "    </tr>\n",
       "  </tbody>\n",
       "</table>\n",
       "</div>"
      ],
      "text/plain": [
       "   bin  label\n",
       "0   47      0\n",
       "1  108      0\n",
       "2  105      0\n",
       "3   98      0\n",
       "4   47      0"
      ]
     },
     "execution_count": 1,
     "metadata": {},
     "output_type": "execute_result"
    }
   ],
   "source": [
    "# (1) 데이터로드\n",
    "import pandas as pd\n",
    "import numpy as np\n",
    "\n",
    "import warnings\n",
    "warnings.filterwarnings(action='ignore')\n",
    "\n",
    "# 여러개 쳐도 나오게\n",
    "from IPython.core.interactiveshell import InteractiveShell\n",
    "InteractiveShell.ast_node_interactivity = \"all\"\n",
    "\n",
    "# 파일읽기\n",
    "bin6_0 = pd.read_csv(\"../../바이너리_최종데이터_1004/gcc6/o0/o0_bincore6.csv\", index_col=0)\n",
    "print(bin6_0.shape)\n",
    "\n",
    "# reset_index (hex processing 하면서 값이 빠졌으니까 + n_gram 에서 index를 다루기 때문에)\n",
    "bin6_0.reset_index(inplace=True, drop=True)\n",
    "\n",
    "print('shape -', bin6_0.shape)\n",
    "print('reset_index 완료')\n",
    "print('input data shape')\n",
    "bin6_0.head()"
   ]
  },
  {
   "cell_type": "code",
   "execution_count": 2,
   "metadata": {},
   "outputs": [
    {
     "name": "stdout",
     "output_type": "stream",
     "text": [
      "256\n",
      "0    30042688\n",
      "1       50258\n",
      "Name: label, dtype: int64\n"
     ]
    }
   ],
   "source": [
    "# (2-1) 데이터체크 1 - hex(16진수)가 256 label을 가져야 dummies 변환 가능 \n",
    "# 16진수 256개 종류가 있어서 pd.get_dummies 사용 가능.\n",
    "print(len(bin6_0['bin'].unique()))\n",
    "\n",
    "# (2-2) 데이터 체크 2 - 1, 0 비율 ==> 1이 함수의 갯수를 뜻함\n",
    "# 정답 데이터 1, 0 비율 확인  ==> 1이 함수의 갯수를 뜻함\n",
    "print(bin6_0['label'].value_counts())"
   ]
  },
  {
   "cell_type": "markdown",
   "metadata": {},
   "source": [
    "## (3) N Byte씩 자르기"
   ]
  },
  {
   "cell_type": "code",
   "execution_count": 3,
   "metadata": {},
   "outputs": [
    {
     "name": "stdout",
     "output_type": "stream",
     "text": [
      "804128\n",
      "나머지 0\n",
      "최종 길이 804128\n",
      "bin6_0 804128\n"
     ]
    }
   ],
   "source": [
    "idx_bin = bin6_0[bin6_0['label']==1].index  # 407, 474 ...\n",
    "ls_bin = list(idx_bin)\n",
    "\n",
    "# 최종 뽑을 행에 대한 index\n",
    "ls_idx_bin = []\n",
    "\n",
    "# n byte 자르기 방식\n",
    "left_idx, right_idx = 0, 16 # 3개씩\n",
    "\n",
    "# n byte 자르기\n",
    "for k in range(left_idx, right_idx):\n",
    "    ls_idx_bin.extend(list(idx_bin + k)) # index 형이라서 가능\n",
    "\n",
    "#ls_idx = list(set(ls_idx)) \n",
    "ls_idx_bin.sort() # 인덱스 정렬\n",
    "\n",
    "# 1차 index 해당범위 초과한 것들 없애기\n",
    "ls_idx_bin = list(filter(lambda x: x<len(bin6_0), ls_idx_bin))\n",
    "print(len(ls_idx_bin))\n",
    "\n",
    "# 2차 남은 index들 중 right_idx 나눈 나머지 없애기\n",
    "sub_bin = len(ls_idx_bin)%(right_idx)\n",
    "print('나머지', sub_bin)\n",
    "\n",
    "ls_idx_bin = ls_idx_bin[:len(ls_idx_bin)-sub_bin]\n",
    "print('최종 길이', len(ls_idx_bin))\n",
    "\n",
    "print('bin6_0', len(ls_idx_bin))\n",
    "\n",
    "# loc 로 수정필요\n",
    "bin6_0_Ngram = bin6_0.loc[ls_idx_bin,:].copy()"
   ]
  },
  {
   "cell_type": "markdown",
   "metadata": {},
   "source": [
    "## (4) false data 만들기"
   ]
  },
  {
   "cell_type": "code",
   "execution_count": 4,
   "metadata": {},
   "outputs": [
    {
     "name": "stdout",
     "output_type": "stream",
     "text": [
      "50258.0\n",
      "0 29371349\n",
      "1000 16960659\n",
      "2000 14387330\n",
      "3000 16441457\n",
      "4000 18595709\n",
      "5000 17460781\n",
      "6000 4762414\n",
      "7000 7003024\n",
      "8000 24449591\n",
      "9000 7861935\n",
      "10000 11156373\n",
      "11000 21629183\n",
      "12000 28547265\n",
      "13000 26903801\n",
      "14000 15663539\n",
      "15000 19833548\n",
      "16000 17269803\n",
      "17000 5446724\n",
      "18000 28313580\n",
      "19000 17375310\n",
      "20000 14519415\n",
      "21000 23592409\n",
      "22000 18020431\n",
      "23000 21233792\n",
      "24000 15023365\n",
      "25000 25545981\n",
      "26000 18464465\n",
      "27000 12035482\n",
      "28000 6257685\n",
      "29000 26892054\n",
      "30000 28194752\n",
      "31000 15681970\n",
      "32000 26150312\n",
      "33000 54500\n",
      "34000 13265371\n",
      "35000 24167953\n",
      "36000 4040979\n",
      "37000 1878064\n",
      "38000 24237954\n",
      "39000 22658415\n",
      "40000 26371308\n",
      "41000 5678589\n",
      "42000 22523871\n",
      "43000 5135834\n",
      "44000 9150785\n",
      "45000 10250050\n",
      "46000 17512458\n",
      "47000 27108502\n",
      "48000 13038070\n",
      "49000 15564983\n",
      "50000 29923311\n",
      "완료\n",
      "50258\n"
     ]
    }
   ],
   "source": [
    "# false data 만들기 - False 데이터 랜덤 생성\n",
    "\n",
    "# 목표치\n",
    "goal_bin = len(bin6_0_Ngram)/right_idx\n",
    "count_bin = 0\n",
    "\n",
    "print(goal_bin)\n",
    "\n",
    "# 최종 데이터 Frame\n",
    "d_bin = pd.DataFrame(columns = bin6_0.columns)\n",
    "\n",
    "binutils_df = []\n",
    "# goal 에 도달할 때까지\n",
    "while True:\n",
    "    if (count_bin == goal_bin):\n",
    "            break\n",
    "    # 진행상황 살펴보기 위함\n",
    "            \n",
    "    # 랜덤 N 바이트씩 뽑음\n",
    "    # random index\n",
    "    random_idx_bin = np.random.randint(len(bin6_0)-right_idx)\n",
    "\n",
    "    if count_bin % 1000==0:\n",
    "        print(count_bin, end=' ')\n",
    "        print(random_idx_bin)\n",
    "\n",
    "    df_bin = bin6_0[random_idx_bin : random_idx_bin + right_idx]\n",
    "    \n",
    "    # 뽑은 index의 N 바이트 중에 1이 없는 경우만\n",
    "    if 1 not in df_bin['label'] and count_bin < goal_bin:\n",
    "        binutils_df.append(df_bin)\n",
    "        count_bin+=1\n",
    "\n",
    "print('완료')\n",
    "print(len(binutils_df))"
   ]
  },
  {
   "cell_type": "code",
   "execution_count": 5,
   "metadata": {},
   "outputs": [
    {
     "name": "stdout",
     "output_type": "stream",
     "text": [
      "50258\n",
      "50258\n"
     ]
    }
   ],
   "source": [
    "# True data와 False Data 같은지 체크\n",
    "print(len(binutils_df))\n",
    "print(bin6_0['label'].value_counts()[1])"
   ]
  },
  {
   "cell_type": "markdown",
   "metadata": {},
   "source": [
    "## (5) False Data + True Data 합치기"
   ]
  },
  {
   "cell_type": "code",
   "execution_count": 6,
   "metadata": {},
   "outputs": [
    {
     "data": {
      "text/plain": [
       "(1608256, 2)"
      ]
     },
     "execution_count": 6,
     "metadata": {},
     "output_type": "execute_result"
    }
   ],
   "source": [
    "f_data = pd.concat(binutils_df)\n",
    "final = pd.concat([f_data, bin6_0_Ngram])\n",
    "final.shape"
   ]
  },
  {
   "cell_type": "markdown",
   "metadata": {},
   "source": [
    "## (6) one hot encoding"
   ]
  },
  {
   "cell_type": "code",
   "execution_count": 7,
   "metadata": {},
   "outputs": [
    {
     "name": "stdout",
     "output_type": "stream",
     "text": [
      "원핫인코딩완료\n",
      "(1608256, 257)\n"
     ]
    }
   ],
   "source": [
    "# 훈련데이터 (gcc 최적화버전 0, 1, 2, 3 one hot encoding)\n",
    "bc6_0_onehot_Ngram = pd.get_dummies(final['bin'])\n",
    "bc6_0_onehot_Ngram = pd.concat([final['label'], bc6_0_onehot_Ngram], axis=1)\n",
    "\n",
    "print('원핫인코딩완료')\n",
    "print(bc6_0_onehot_Ngram.shape)"
   ]
  },
  {
   "cell_type": "code",
   "execution_count": 8,
   "metadata": {},
   "outputs": [
    {
     "name": "stdout",
     "output_type": "stream",
     "text": [
      "(1608256, 256) (1608256, 256)\n",
      "(100516, 16, 256) (100516, 16, 1)\n"
     ]
    }
   ],
   "source": [
    "# 훈련 데이터, 훈련 라벨\n",
    "x_bc6_0 = bc6_0_onehot_Ngram.iloc[:,1:].to_numpy()\n",
    "y_bc6_0 = bc6_0_onehot_Ngram['label'].to_numpy()\n",
    "print(x_bc6_0.shape, x_bc6_0.shape)\n",
    "\n",
    "x_bc6_0 = x_bc6_0.reshape(-1, right_idx, x_bc6_0.shape[1])\n",
    "y_bc6_0 = y_bc6_0.reshape(-1, right_idx, 1)\n",
    "\n",
    "print(x_bc6_0.shape, y_bc6_0.shape)"
   ]
  },
  {
   "cell_type": "code",
   "execution_count": 9,
   "metadata": {},
   "outputs": [
    {
     "name": "stdout",
     "output_type": "stream",
     "text": [
      "(100516, 16, 256) (100516, 16, 1)\n"
     ]
    }
   ],
   "source": [
    "# numpy 행, 열 섞기\n",
    "p = np.random.permutation(x_bc6_0.shape[0])\n",
    "\n",
    "x_bc6_0 = x_bc6_0[p]\n",
    "y_bc6_0 = y_bc6_0[p]\n",
    "\n",
    "print(x_bc6_0.shape, y_bc6_0.shape)"
   ]
  },
  {
   "cell_type": "markdown",
   "metadata": {},
   "source": [
    "## (7) 모델"
   ]
  },
  {
   "cell_type": "code",
   "execution_count": 10,
   "metadata": {},
   "outputs": [],
   "source": [
    "# (10) 양방향 LSTM 모델링 작업\n",
    "from tensorflow.keras import layers, models\n",
    "#from tf.keras.models import Model, Sequential\n",
    "#from tf.keras.layers import SimpleRNN, Input, Dense, LSTM\n",
    "#from tf.keras.layers import Bidirectional, TimeDistributed\n",
    "\n",
    "# 학습\n",
    "from tensorflow.keras.callbacks import EarlyStopping\n",
    "early_stopping = EarlyStopping(patience = 3) # 조기종료 콜백함수 정의\n",
    "\n",
    "xInput = layers.Input(batch_shape=(None,right_idx, 256)) \n",
    "xBiLstm = layers.Bidirectional(layers.LSTM(24, return_sequences=True, stateful=False), merge_mode = 'concat')(xInput)\n",
    "xOutput = layers.TimeDistributed(layers.Dense(1, activation ='sigmoid'))(xBiLstm) # 각 스텝에서 cost가 전송되고, 오류가 다음 step으로 전송됨."
   ]
  },
  {
   "cell_type": "markdown",
   "metadata": {},
   "source": [
    "## (8) 학습 - 10 KFold"
   ]
  },
  {
   "cell_type": "code",
   "execution_count": 11,
   "metadata": {
    "scrolled": false
   },
   "outputs": [
    {
     "name": "stdout",
     "output_type": "stream",
     "text": [
      "Model: \"model\"\n",
      "_________________________________________________________________\n",
      "Layer (type)                 Output Shape              Param #   \n",
      "=================================================================\n",
      "input_1 (InputLayer)         [(None, 16, 256)]         0         \n",
      "_________________________________________________________________\n",
      "bidirectional (Bidirectional (None, 16, 48)            53952     \n",
      "_________________________________________________________________\n",
      "time_distributed (TimeDistri (None, 16, 1)             49        \n",
      "=================================================================\n",
      "Total params: 54,001\n",
      "Trainable params: 54,001\n",
      "Non-trainable params: 0\n",
      "_________________________________________________________________\n",
      "======Training stage======\n",
      "Train on 90464 samples\n",
      "Epoch 1/10\n",
      "90208/90464 [============================>.] - ETA: 0s - loss: 0.0106 - accuracy: 0.9978WARNING:tensorflow:Early stopping conditioned on metric `val_loss` which is not available. Available metrics are: loss,accuracy\n",
      "90464/90464 [==============================] - 21s 230us/sample - loss: 0.0106 - accuracy: 0.9978\n",
      "Epoch 2/10\n",
      "90336/90464 [============================>.] - ETA: 0s - loss: 3.8399e-04 - accuracy: 0.9999WARNING:tensorflow:Early stopping conditioned on metric `val_loss` which is not available. Available metrics are: loss,accuracy\n",
      "90464/90464 [==============================] - 18s 202us/sample - loss: 3.8345e-04 - accuracy: 0.9999\n",
      "Epoch 3/10\n",
      "90240/90464 [============================>.] - ETA: 0s - loss: 3.0182e-04 - accuracy: 0.9999WARNING:tensorflow:Early stopping conditioned on metric `val_loss` which is not available. Available metrics are: loss,accuracy\n",
      "90464/90464 [==============================] - 19s 209us/sample - loss: 3.0108e-04 - accuracy: 0.9999\n",
      "Epoch 4/10\n",
      "90304/90464 [============================>.] - ETA: 0s - loss: 2.9094e-04 - accuracy: 0.9999WARNING:tensorflow:Early stopping conditioned on metric `val_loss` which is not available. Available metrics are: loss,accuracy\n",
      "90464/90464 [==============================] - 20s 226us/sample - loss: 2.9043e-04 - accuracy: 0.9999\n",
      "Epoch 5/10\n",
      "90432/90464 [============================>.] - ETA: 0s - loss: 2.6439e-04 - accuracy: 0.9999WARNING:tensorflow:Early stopping conditioned on metric `val_loss` which is not available. Available metrics are: loss,accuracy\n",
      "90464/90464 [==============================] - 23s 253us/sample - loss: 2.6430e-04 - accuracy: 0.9999\n",
      "Epoch 6/10\n",
      "90272/90464 [============================>.] - ETA: 0s - loss: 2.6527e-04 - accuracy: 0.9999WARNING:tensorflow:Early stopping conditioned on metric `val_loss` which is not available. Available metrics are: loss,accuracy\n",
      "90464/90464 [==============================] - 23s 257us/sample - loss: 2.6471e-04 - accuracy: 0.9999\n",
      "Epoch 7/10\n",
      "90272/90464 [============================>.] - ETA: 0s - loss: 2.5683e-04 - accuracy: 0.9999WARNING:tensorflow:Early stopping conditioned on metric `val_loss` which is not available. Available metrics are: loss,accuracy\n",
      "90464/90464 [==============================] - 23s 256us/sample - loss: 2.5629e-04 - accuracy: 0.9999\n",
      "Epoch 8/10\n",
      "90272/90464 [============================>.] - ETA: 0s - loss: 2.4868e-04 - accuracy: 0.9999WARNING:tensorflow:Early stopping conditioned on metric `val_loss` which is not available. Available metrics are: loss,accuracy\n",
      "90464/90464 [==============================] - 23s 255us/sample - loss: 2.4816e-04 - accuracy: 0.9999\n",
      "Epoch 9/10\n",
      "90400/90464 [============================>.] - ETA: 0s - loss: 2.5169e-04 - accuracy: 0.9999 ETAWARNING:tensorflow:Early stopping conditioned on metric `val_loss` which is not available. Available metrics are: loss,accuracy\n",
      "90464/90464 [==============================] - 23s 257us/sample - loss: 2.5151e-04 - accuracy: 0.9999\n",
      "Epoch 10/10\n",
      "90304/90464 [============================>.] - ETA: 0s - loss: 2.3931e-04 - accuracy: 1.0000WARNING:tensorflow:Early stopping conditioned on metric `val_loss` which is not available. Available metrics are: loss,accuracy\n",
      "90464/90464 [==============================] - 23s 257us/sample - loss: 2.3889e-04 - accuracy: 1.0000\n"
     ]
    },
    {
     "data": {
      "text/plain": [
       "<tensorflow.python.keras.callbacks.History at 0x1ad175b4248>"
      ]
     },
     "execution_count": 11,
     "metadata": {},
     "output_type": "execute_result"
    },
    {
     "name": "stdout",
     "output_type": "stream",
     "text": [
      "accuracy_score 0.9999005173099881\n",
      "recall_score 0.9982527664531159\n",
      "precision_score 0.9986405127209167\n",
      "f1_score 0.9984466019417476\n",
      "Model: \"model_1\"\n",
      "_________________________________________________________________\n",
      "Layer (type)                 Output Shape              Param #   \n",
      "=================================================================\n",
      "input_1 (InputLayer)         [(None, 16, 256)]         0         \n",
      "_________________________________________________________________\n",
      "bidirectional (Bidirectional (None, 16, 48)            53952     \n",
      "_________________________________________________________________\n",
      "time_distributed (TimeDistri (None, 16, 1)             49        \n",
      "=================================================================\n",
      "Total params: 54,001\n",
      "Trainable params: 54,001\n",
      "Non-trainable params: 0\n",
      "_________________________________________________________________\n",
      "======Training stage======\n",
      "Train on 90464 samples\n",
      "Epoch 1/10\n",
      "90400/90464 [============================>.] - ETA: 0s - loss: 2.5338e-04 - accuracy: 0.9999WARNING:tensorflow:Early stopping conditioned on metric `val_loss` which is not available. Available metrics are: loss,accuracy\n",
      "90464/90464 [==============================] - 27s 296us/sample - loss: 2.5320e-04 - accuracy: 0.9999\n",
      "Epoch 2/10\n",
      "90304/90464 [============================>.] - ETA: 0s - loss: 2.3568e-04 - accuracy: 0.9999WARNING:tensorflow:Early stopping conditioned on metric `val_loss` which is not available. Available metrics are: loss,accuracy\n",
      "90464/90464 [==============================] - 23s 257us/sample - loss: 2.3527e-04 - accuracy: 0.9999\n",
      "Epoch 3/10\n",
      "90240/90464 [============================>.] - ETA: 0s - loss: 2.2155e-04 - accuracy: 0.9999WARNING:tensorflow:Early stopping conditioned on metric `val_loss` which is not available. Available metrics are: loss,accuracy\n",
      "90464/90464 [==============================] - 23s 256us/sample - loss: 2.2103e-04 - accuracy: 0.9999\n",
      "Epoch 4/10\n",
      "90400/90464 [============================>.] - ETA: 0s - loss: 2.4566e-04 - accuracy: 0.9999WARNING:tensorflow:Early stopping conditioned on metric `val_loss` which is not available. Available metrics are: loss,accuracy\n",
      "90464/90464 [==============================] - 22s 241us/sample - loss: 2.4549e-04 - accuracy: 0.9999\n",
      "Epoch 5/10\n",
      "90304/90464 [============================>.] - ETA: 0s - loss: 2.1571e-04 - accuracy: 1.0000WARNING:tensorflow:Early stopping conditioned on metric `val_loss` which is not available. Available metrics are: loss,accuracy\n",
      "90464/90464 [==============================] - 24s 264us/sample - loss: 2.1601e-04 - accuracy: 1.0000\n",
      "Epoch 6/10\n",
      "90400/90464 [============================>.] - ETA: 0s - loss: 2.1519e-04 - accuracy: 1.0000WARNING:tensorflow:Early stopping conditioned on metric `val_loss` which is not available. Available metrics are: loss,accuracy\n",
      "90464/90464 [==============================] - 24s 263us/sample - loss: 2.1504e-04 - accuracy: 1.0000\n",
      "Epoch 7/10\n",
      "90336/90464 [============================>.] - ETA: 0s - loss: 2.0365e-04 - accuracy: 1.0000WARNING:tensorflow:Early stopping conditioned on metric `val_loss` which is not available. Available metrics are: loss,accuracy\n",
      "90464/90464 [==============================] - 23s 253us/sample - loss: 2.1000e-04 - accuracy: 1.0000\n",
      "Epoch 8/10\n",
      "90336/90464 [============================>.] - ETA: 0s - loss: 2.4192e-04 - accuracy: 0.9999WARNING:tensorflow:Early stopping conditioned on metric `val_loss` which is not available. Available metrics are: loss,accuracy\n",
      "90464/90464 [==============================] - 23s 255us/sample - loss: 2.4158e-04 - accuracy: 0.9999\n",
      "Epoch 9/10\n",
      "90336/90464 [============================>.] - ETA: 0s - loss: 2.1237e-04 - accuracy: 1.0000WARNING:tensorflow:Early stopping conditioned on metric `val_loss` which is not available. Available metrics are: loss,accuracy\n",
      "90464/90464 [==============================] - 23s 255us/sample - loss: 2.1207e-04 - accuracy: 1.0000\n",
      "Epoch 10/10\n",
      "90336/90464 [============================>.] - ETA: 0s - loss: 2.1087e-04 - accuracy: 1.0000WARNING:tensorflow:Early stopping conditioned on metric `val_loss` which is not available. Available metrics are: loss,accuracy\n",
      "90464/90464 [==============================] - 24s 261us/sample - loss: 2.1058e-04 - accuracy: 1.0000\n"
     ]
    },
    {
     "data": {
      "text/plain": [
       "<tensorflow.python.keras.callbacks.History at 0x1ad00f10848>"
      ]
     },
     "execution_count": 11,
     "metadata": {},
     "output_type": "execute_result"
    },
    {
     "name": "stdout",
     "output_type": "stream",
     "text": [
      "accuracy_score 0.9999689116593713\n",
      "recall_score 0.9996222138269739\n",
      "precision_score 0.9994334277620397\n",
      "f1_score 0.9995278118802531\n",
      "Model: \"model_2\"\n",
      "_________________________________________________________________\n",
      "Layer (type)                 Output Shape              Param #   \n",
      "=================================================================\n",
      "input_1 (InputLayer)         [(None, 16, 256)]         0         \n",
      "_________________________________________________________________\n",
      "bidirectional (Bidirectional (None, 16, 48)            53952     \n",
      "_________________________________________________________________\n",
      "time_distributed (TimeDistri (None, 16, 1)             49        \n",
      "=================================================================\n",
      "Total params: 54,001\n",
      "Trainable params: 54,001\n",
      "Non-trainable params: 0\n",
      "_________________________________________________________________\n",
      "======Training stage======\n",
      "Train on 90464 samples\n",
      "Epoch 1/10\n",
      "90336/90464 [============================>.] - ETA: 0s - loss: 2.2781e-04 - accuracy: 1.0000WARNING:tensorflow:Early stopping conditioned on metric `val_loss` which is not available. Available metrics are: loss,accuracy\n",
      "90464/90464 [==============================] - 29s 318us/sample - loss: 2.2749e-04 - accuracy: 1.0000\n",
      "Epoch 2/10\n",
      "90400/90464 [============================>.] - ETA: 0s - loss: 2.1046e-04 - accuracy: 1.0000WARNING:tensorflow:Early stopping conditioned on metric `val_loss` which is not available. Available metrics are: loss,accuracy\n",
      "90464/90464 [==============================] - 30s 333us/sample - loss: 2.1031e-04 - accuracy: 1.0000\n",
      "Epoch 3/10\n",
      "90368/90464 [============================>.] - ETA: 0s - loss: 2.2803e-04 - accuracy: 1.0000WARNING:tensorflow:Early stopping conditioned on metric `val_loss` which is not available. Available metrics are: loss,accuracy\n",
      "90464/90464 [==============================] - 29s 325us/sample - loss: 2.2782e-04 - accuracy: 1.0000\n",
      "Epoch 4/10\n",
      "90368/90464 [============================>.] - ETA: 0s - loss: 2.1018e-04 - accuracy: 1.0000WARNING:tensorflow:Early stopping conditioned on metric `val_loss` which is not available. Available metrics are: loss,accuracy\n",
      "90464/90464 [==============================] - 31s 341us/sample - loss: 2.0995e-04 - accuracy: 1.0000\n",
      "Epoch 5/10\n",
      "90400/90464 [============================>.] - ETA: 0s - loss: 2.0606e-04 - accuracy: 1.0000WARNING:tensorflow:Early stopping conditioned on metric `val_loss` which is not available. Available metrics are: loss,accuracy\n",
      "90464/90464 [==============================] - 35s 391us/sample - loss: 2.0985e-04 - accuracy: 1.0000\n",
      "Epoch 6/10\n",
      "90368/90464 [============================>.] - ETA: 0s - loss: 1.9827e-04 - accuracy: 1.0000WARNING:tensorflow:Early stopping conditioned on metric `val_loss` which is not available. Available metrics are: loss,accuracy\n",
      "90464/90464 [==============================] - 39s 429us/sample - loss: 2.0098e-04 - accuracy: 1.0000\n",
      "Epoch 7/10\n",
      "90368/90464 [============================>.] - ETA: 0s - loss: 2.0439e-04 - accuracy: 1.0000WARNING:tensorflow:Early stopping conditioned on metric `val_loss` which is not available. Available metrics are: loss,accuracy\n",
      "90464/90464 [==============================] - 39s 428us/sample - loss: 2.0417e-04 - accuracy: 1.0000\n",
      "Epoch 8/10\n",
      "90368/90464 [============================>.] - ETA: 0s - loss: 1.9951e-04 - accuracy: 1.0000WARNING:tensorflow:Early stopping conditioned on metric `val_loss` which is not available. Available metrics are: loss,accuracy\n",
      "90464/90464 [==============================] - 40s 447us/sample - loss: 1.9930e-04 - accuracy: 1.0000\n",
      "Epoch 9/10\n",
      "90336/90464 [============================>.] - ETA: 0s - loss: 2.0103e-04 - accuracy: 1.0000WARNING:tensorflow:Early stopping conditioned on metric `val_loss` which is not available. Available metrics are: loss,accuracy\n",
      "90464/90464 [==============================] - 39s 433us/sample - loss: 2.0075e-04 - accuracy: 1.0000\n",
      "Epoch 10/10\n",
      "90368/90464 [============================>.] - ETA: 0s - loss: 2.0075e-04 - accuracy: 1.0000WARNING:tensorflow:Early stopping conditioned on metric `val_loss` which is not available. Available metrics are: loss,accuracy\n",
      "90464/90464 [==============================] - 38s 425us/sample - loss: 2.0054e-04 - accuracy: 1.0000\n"
     ]
    },
    {
     "data": {
      "text/plain": [
       "<tensorflow.python.keras.callbacks.History at 0x1ad018d08c8>"
      ]
     },
     "execution_count": 11,
     "metadata": {},
     "output_type": "execute_result"
    },
    {
     "name": "stdout",
     "output_type": "stream",
     "text": [
      "accuracy_score 0.9999440409868683\n",
      "recall_score 0.9990188383045526\n",
      "precision_score 0.9992149165848871\n",
      "f1_score 0.9991168678245511\n",
      "Model: \"model_3\"\n",
      "_________________________________________________________________\n",
      "Layer (type)                 Output Shape              Param #   \n",
      "=================================================================\n",
      "input_1 (InputLayer)         [(None, 16, 256)]         0         \n",
      "_________________________________________________________________\n",
      "bidirectional (Bidirectional (None, 16, 48)            53952     \n",
      "_________________________________________________________________\n",
      "time_distributed (TimeDistri (None, 16, 1)             49        \n",
      "=================================================================\n",
      "Total params: 54,001\n",
      "Trainable params: 54,001\n",
      "Non-trainable params: 0\n",
      "_________________________________________________________________\n",
      "======Training stage======\n",
      "Train on 90464 samples\n",
      "Epoch 1/10\n",
      "90400/90464 [============================>.] - ETA: 0s - loss: 2.0550e-04 - accuracy: 1.0000WARNING:tensorflow:Early stopping conditioned on metric `val_loss` which is not available. Available metrics are: loss,accuracy\n",
      "90464/90464 [==============================] - 43s 477us/sample - loss: 2.0536e-04 - accuracy: 1.0000\n",
      "Epoch 2/10\n",
      "90304/90464 [============================>.] - ETA: 0s - loss: 1.8242e-04 - accuracy: 1.0000WARNING:tensorflow:Early stopping conditioned on metric `val_loss` which is not available. Available metrics are: loss,accuracy\n",
      "90464/90464 [==============================] - 38s 425us/sample - loss: 1.8210e-04 - accuracy: 1.0000\n",
      "Epoch 3/10\n",
      "90368/90464 [============================>.] - ETA: 0s - loss: 1.8772e-04 - accuracy: 1.0000WARNING:tensorflow:Early stopping conditioned on metric `val_loss` which is not available. Available metrics are: loss,accuracy\n",
      "90464/90464 [==============================] - 37s 409us/sample - loss: 1.8753e-04 - accuracy: 1.0000\n",
      "Epoch 4/10\n",
      "90368/90464 [============================>.] - ETA: 0s - loss: 1.7110e-04 - accuracy: 1.0000WARNING:tensorflow:Early stopping conditioned on metric `val_loss` which is not available. Available metrics are: loss,accuracy\n",
      "90464/90464 [==============================] - 38s 419us/sample - loss: 1.7092e-04 - accuracy: 1.0000\n",
      "Epoch 5/10\n",
      "90336/90464 [============================>.] - ETA: 0s - loss: 1.7302e-04 - accuracy: 1.0000 ETA: 0s - loss: 1WARNING:tensorflow:Early stopping conditioned on metric `val_loss` which is not available. Available metrics are: loss,accuracy\n",
      "90464/90464 [==============================] - 37s 410us/sample - loss: 1.7279e-04 - accuracy: 1.0000\n",
      "Epoch 6/10\n",
      "90400/90464 [============================>.] - ETA: 0s - loss: 1.7666e-04 - accuracy: 1.0000WARNING:tensorflow:Early stopping conditioned on metric `val_loss` which is not available. Available metrics are: loss,accuracy\n",
      "90464/90464 [==============================] - 38s 425us/sample - loss: 1.7654e-04 - accuracy: 1.0000\n",
      "Epoch 7/10\n",
      "90336/90464 [============================>.] - ETA: 0s - loss: 1.6304e-04 - accuracy: 1.0000WARNING:tensorflow:Early stopping conditioned on metric `val_loss` which is not available. Available metrics are: loss,accuracy\n",
      "90464/90464 [==============================] - 38s 426us/sample - loss: 1.6281e-04 - accuracy: 1.0000\n",
      "Epoch 8/10\n",
      "90400/90464 [============================>.] - ETA: 0s - loss: 1.7036e-04 - accuracy: 1.0000 ETAWARNING:tensorflow:Early stopping conditioned on metric `val_loss` which is not available. Available metrics are: loss,accuracy\n",
      "90464/90464 [==============================] - 39s 427us/sample - loss: 1.7024e-04 - accuracy: 1.0000\n",
      "Epoch 9/10\n",
      "90400/90464 [============================>.] - ETA: 0s - loss: 1.7023e-04 - accuracy: 1.0000WARNING:tensorflow:Early stopping conditioned on metric `val_loss` which is not available. Available metrics are: loss,accuracy\n",
      "90464/90464 [==============================] - 38s 424us/sample - loss: 1.7011e-04 - accuracy: 1.0000\n",
      "Epoch 10/10\n",
      "90432/90464 [============================>.] - ETA: 0s - loss: 1.5170e-04 - accuracy: 1.0000WARNING:tensorflow:Early stopping conditioned on metric `val_loss` which is not available. Available metrics are: loss,accuracy\n",
      "90464/90464 [==============================] - 36s 403us/sample - loss: 1.5165e-04 - accuracy: 1.0000\n"
     ]
    },
    {
     "data": {
      "text/plain": [
       "<tensorflow.python.keras.callbacks.History at 0x1ad012cd048>"
      ]
     },
     "execution_count": 11,
     "metadata": {},
     "output_type": "execute_result"
    },
    {
     "name": "stdout",
     "output_type": "stream",
     "text": [
      "accuracy_score 0.999975129327497\n",
      "recall_score 0.9998061639852684\n",
      "precision_score 0.9994187173028483\n",
      "f1_score 0.9996124031007751\n",
      "Model: \"model_4\"\n",
      "_________________________________________________________________\n",
      "Layer (type)                 Output Shape              Param #   \n",
      "=================================================================\n",
      "input_1 (InputLayer)         [(None, 16, 256)]         0         \n",
      "_________________________________________________________________\n",
      "bidirectional (Bidirectional (None, 16, 48)            53952     \n",
      "_________________________________________________________________\n",
      "time_distributed (TimeDistri (None, 16, 1)             49        \n",
      "=================================================================\n",
      "Total params: 54,001\n",
      "Trainable params: 54,001\n",
      "Non-trainable params: 0\n",
      "_________________________________________________________________\n",
      "======Training stage======\n",
      "Train on 90464 samples\n",
      "Epoch 1/10\n",
      "90336/90464 [============================>.] - ETA: 0s - loss: 1.5702e-04 - accuracy: 1.0000WARNING:tensorflow:Early stopping conditioned on metric `val_loss` which is not available. Available metrics are: loss,accuracy\n",
      "90464/90464 [==============================] - 46s 509us/sample - loss: 1.5679e-04 - accuracy: 1.0000\n",
      "Epoch 2/10\n",
      "90432/90464 [============================>.] - ETA: 0s - loss: 1.5289e-04 - accuracy: 1.0000WARNING:tensorflow:Early stopping conditioned on metric `val_loss` which is not available. Available metrics are: loss,accuracy\n",
      "90464/90464 [==============================] - 39s 429us/sample - loss: 1.5283e-04 - accuracy: 1.0000\n",
      "Epoch 3/10\n",
      "90368/90464 [============================>.] - ETA: 0s - loss: 1.5985e-04 - accuracy: 1.0000WARNING:tensorflow:Early stopping conditioned on metric `val_loss` which is not available. Available metrics are: loss,accuracy\n",
      "90464/90464 [==============================] - 37s 406us/sample - loss: 1.5968e-04 - accuracy: 1.0000\n",
      "Epoch 4/10\n",
      "90432/90464 [============================>.] - ETA: 0s - loss: 1.4323e-04 - accuracy: 1.0000WARNING:tensorflow:Early stopping conditioned on metric `val_loss` which is not available. Available metrics are: loss,accuracy\n",
      "90464/90464 [==============================] - 37s 408us/sample - loss: 1.4318e-04 - accuracy: 1.0000\n",
      "Epoch 5/10\n",
      "90432/90464 [============================>.] - ETA: 0s - loss: 1.3937e-04 - accuracy: 1.0000 ETAWARNING:tensorflow:Early stopping conditioned on metric `val_loss` which is not available. Available metrics are: loss,accuracy\n",
      "90464/90464 [==============================] - 39s 427us/sample - loss: 1.3932e-04 - accuracy: 1.0000\n",
      "Epoch 6/10\n",
      "90368/90464 [============================>.] - ETA: 0s - loss: 1.4879e-04 - accuracy: 1.0000WARNING:tensorflow:Early stopping conditioned on metric `val_loss` which is not available. Available metrics are: loss,accuracy\n",
      "90464/90464 [==============================] - 39s 426us/sample - loss: 1.4863e-04 - accuracy: 1.0000\n",
      "Epoch 7/10\n",
      "90432/90464 [============================>.] - ETA: 0s - loss: 1.3442e-04 - accuracy: 1.0000WARNING:tensorflow:Early stopping conditioned on metric `val_loss` which is not available. Available metrics are: loss,accuracy\n",
      "90464/90464 [==============================] - 38s 425us/sample - loss: 1.3438e-04 - accuracy: 1.0000\n",
      "Epoch 8/10\n",
      "90368/90464 [============================>.] - ETA: 0s - loss: 1.2279e-04 - accuracy: 1.0000WARNING:tensorflow:Early stopping conditioned on metric `val_loss` which is not available. Available metrics are: loss,accuracy\n",
      "90464/90464 [==============================] - 38s 423us/sample - loss: 1.2266e-04 - accuracy: 1.0000\n",
      "Epoch 9/10\n",
      "90368/90464 [============================>.] - ETA: 0s - loss: 1.4028e-04 - accuracy: 1.0000WARNING:tensorflow:Early stopping conditioned on metric `val_loss` which is not available. Available metrics are: loss,accuracy\n",
      "90464/90464 [==============================] - 36s 400us/sample - loss: 1.4013e-04 - accuracy: 1.0000\n",
      "Epoch 10/10\n",
      "90432/90464 [============================>.] - ETA: 0s - loss: 1.2252e-04 - accuracy: 1.0000WARNING:tensorflow:Early stopping conditioned on metric `val_loss` which is not available. Available metrics are: loss,accuracy\n",
      "90464/90464 [==============================] - 39s 426us/sample - loss: 1.2248e-04 - accuracy: 1.0000\n"
     ]
    },
    {
     "data": {
      "text/plain": [
       "<tensorflow.python.keras.callbacks.History at 0x1ad1021ac88>"
      ]
     },
     "execution_count": 11,
     "metadata": {},
     "output_type": "execute_result"
    },
    {
     "name": "stdout",
     "output_type": "stream",
     "text": [
      "accuracy_score 0.999950258654994\n",
      "recall_score 0.999804228660924\n",
      "precision_score 0.9986312084473993\n",
      "f1_score 0.9992173742907454\n",
      "Model: \"model_5\"\n",
      "_________________________________________________________________\n",
      "Layer (type)                 Output Shape              Param #   \n",
      "=================================================================\n",
      "input_1 (InputLayer)         [(None, 16, 256)]         0         \n",
      "_________________________________________________________________\n",
      "bidirectional (Bidirectional (None, 16, 48)            53952     \n",
      "_________________________________________________________________\n",
      "time_distributed (TimeDistri (None, 16, 1)             49        \n",
      "=================================================================\n",
      "Total params: 54,001\n",
      "Trainable params: 54,001\n",
      "Non-trainable params: 0\n",
      "_________________________________________________________________\n",
      "======Training stage======\n",
      "Train on 90464 samples\n",
      "Epoch 1/10\n",
      "90336/90464 [============================>.] - ETA: 0s - loss: 1.3337e-04 - accuracy: 1.0000WARNING:tensorflow:Early stopping conditioned on metric `val_loss` which is not available. Available metrics are: loss,accuracy\n",
      "90464/90464 [==============================] - 44s 486us/sample - loss: 1.3318e-04 - accuracy: 1.0000\n",
      "Epoch 2/10\n",
      "90400/90464 [============================>.] - ETA: 0s - loss: 1.2960e-04 - accuracy: 1.0000WARNING:tensorflow:Early stopping conditioned on metric `val_loss` which is not available. Available metrics are: loss,accuracy\n",
      "90464/90464 [==============================] - 40s 444us/sample - loss: 1.2989e-04 - accuracy: 1.0000\n",
      "Epoch 3/10\n",
      "90336/90464 [============================>.] - ETA: 0s - loss: 1.1736e-04 - accuracy: 1.0000WARNING:tensorflow:Early stopping conditioned on metric `val_loss` which is not available. Available metrics are: loss,accuracy\n",
      "90464/90464 [==============================] - 36s 399us/sample - loss: 1.1720e-04 - accuracy: 1.0000\n",
      "Epoch 4/10\n",
      "90400/90464 [============================>.] - ETA: 0s - loss: 1.2282e-04 - accuracy: 1.0000WARNING:tensorflow:Early stopping conditioned on metric `val_loss` which is not available. Available metrics are: loss,accuracy\n",
      "90464/90464 [==============================] - 36s 401us/sample - loss: 1.2274e-04 - accuracy: 1.0000\n",
      "Epoch 5/10\n",
      "90368/90464 [============================>.] - ETA: 0s - loss: 1.1275e-04 - accuracy: 1.0000WARNING:tensorflow:Early stopping conditioned on metric `val_loss` which is not available. Available metrics are: loss,accuracy\n",
      "90464/90464 [==============================] - 38s 425us/sample - loss: 1.1263e-04 - accuracy: 1.0000\n",
      "Epoch 6/10\n",
      "90400/90464 [============================>.] - ETA: 0s - loss: 1.2052e-04 - accuracy: 1.0000 ETA: 0s - loss: 1.2225e-0WARNING:tensorflow:Early stopping conditioned on metric `val_loss` which is not available. Available metrics are: loss,accuracy\n",
      "90464/90464 [==============================] - 38s 423us/sample - loss: 1.2044e-04 - accuracy: 1.0000\n",
      "Epoch 7/10\n",
      "90368/90464 [============================>.] - ETA: 0s - loss: 9.9130e-05 - accuracy: 1.0000WARNING:tensorflow:Early stopping conditioned on metric `val_loss` which is not available. Available metrics are: loss,accuracy\n",
      "90464/90464 [==============================] - 38s 423us/sample - loss: 9.9025e-05 - accuracy: 1.0000\n",
      "Epoch 8/10\n",
      "90432/90464 [============================>.] - ETA: 0s - loss: 1.0977e-04 - accuracy: 1.0000WARNING:tensorflow:Early stopping conditioned on metric `val_loss` which is not available. Available metrics are: loss,accuracy\n",
      "90464/90464 [==============================] - 36s 400us/sample - loss: 1.0973e-04 - accuracy: 1.0000\n",
      "Epoch 9/10\n",
      "90368/90464 [============================>.] - ETA: 0s - loss: 1.0132e-04 - accuracy: 1.0000WARNING:tensorflow:Early stopping conditioned on metric `val_loss` which is not available. Available metrics are: loss,accuracy\n",
      "90464/90464 [==============================] - 38s 422us/sample - loss: 1.0121e-04 - accuracy: 1.0000\n",
      "Epoch 10/10\n",
      "90336/90464 [============================>.] - ETA: 0s - loss: 1.1085e-04 - accuracy: 1.0000WARNING:tensorflow:Early stopping conditioned on metric `val_loss` which is not available. Available metrics are: loss,accuracy\n",
      "90464/90464 [==============================] - 38s 420us/sample - loss: 1.1069e-04 - accuracy: 1.0000\n"
     ]
    },
    {
     "data": {
      "text/plain": [
       "<tensorflow.python.keras.callbacks.History at 0x1ad0e8c4a08>"
      ]
     },
     "execution_count": 11,
     "metadata": {},
     "output_type": "execute_result"
    },
    {
     "name": "stdout",
     "output_type": "stream",
     "text": [
      "accuracy_score 0.999975129327497\n",
      "recall_score 0.9998058629392351\n",
      "precision_score 0.9994178148651272\n",
      "f1_score 0.9996118012422361\n",
      "Model: \"model_6\"\n",
      "_________________________________________________________________\n",
      "Layer (type)                 Output Shape              Param #   \n",
      "=================================================================\n",
      "input_1 (InputLayer)         [(None, 16, 256)]         0         \n",
      "_________________________________________________________________\n",
      "bidirectional (Bidirectional (None, 16, 48)            53952     \n",
      "_________________________________________________________________\n",
      "time_distributed (TimeDistri (None, 16, 1)             49        \n",
      "=================================================================\n",
      "Total params: 54,001\n",
      "Trainable params: 54,001\n",
      "Non-trainable params: 0\n",
      "_________________________________________________________________\n",
      "======Training stage======\n",
      "Train on 90465 samples\n",
      "Epoch 1/10\n",
      "90400/90465 [============================>.] - ETA: 0s - loss: 9.0068e-05 - accuracy: 1.0000 ETA: 0s - loss: 9.126WARNING:tensorflow:Early stopping conditioned on metric `val_loss` which is not available. Available metrics are: loss,accuracy\n",
      "90465/90465 [==============================] - 61s 669us/sample - loss: 9.0003e-05 - accuracy: 1.0000\n",
      "Epoch 2/10\n",
      "90368/90465 [============================>.] - ETA: 0s - loss: 9.2273e-05 - accuracy: 1.0000WARNING:tensorflow:Early stopping conditioned on metric `val_loss` which is not available. Available metrics are: loss,accuracy\n",
      "90465/90465 [==============================] - 49s 537us/sample - loss: 9.2174e-05 - accuracy: 1.0000\n",
      "Epoch 3/10\n",
      "90432/90465 [============================>.] - ETA: 0s - loss: 9.0253e-05 - accuracy: 1.0000WARNING:tensorflow:Early stopping conditioned on metric `val_loss` which is not available. Available metrics are: loss,accuracy\n",
      "90465/90465 [==============================] - 49s 545us/sample - loss: 9.0220e-05 - accuracy: 1.0000\n",
      "Epoch 4/10\n",
      "90464/90465 [============================>.] - ETA: 0s - loss: 8.6131e-05 - accuracy: 1.0000WARNING:tensorflow:Early stopping conditioned on metric `val_loss` which is not available. Available metrics are: loss,accuracy\n",
      "90465/90465 [==============================] - 51s 567us/sample - loss: 8.6130e-05 - accuracy: 1.0000\n",
      "Epoch 5/10\n",
      "90432/90465 [============================>.] - ETA: 0s - loss: 8.0500e-05 - accuracy: 1.0000WARNING:tensorflow:Early stopping conditioned on metric `val_loss` which is not available. Available metrics are: loss,accuracy\n",
      "90465/90465 [==============================] - 48s 535us/sample - loss: 8.0471e-05 - accuracy: 1.0000\n",
      "Epoch 6/10\n",
      "90432/90465 [============================>.] - ETA: 0s - loss: 8.3434e-05 - accuracy: 1.0000WARNING:tensorflow:Early stopping conditioned on metric `val_loss` which is not available. Available metrics are: loss,accuracy\n",
      "90465/90465 [==============================] - 51s 560us/sample - loss: 8.3404e-05 - accuracy: 1.0000\n",
      "Epoch 7/10\n",
      "90432/90465 [============================>.] - ETA: 0s - loss: 8.5367e-05 - accuracy: 1.0000WARNING:tensorflow:Early stopping conditioned on metric `val_loss` which is not available. Available metrics are: loss,accuracy\n",
      "90465/90465 [==============================] - 51s 559us/sample - loss: 8.5336e-05 - accuracy: 1.0000\n",
      "Epoch 8/10\n",
      "90400/90465 [============================>.] - ETA: 0s - loss: 7.6007e-05 - accuracy: 1.0000 ETA: 0s - loss: 7.6304e-05 - accuracy: WARNING:tensorflow:Early stopping conditioned on metric `val_loss` which is not available. Available metrics are: loss,accuracy\n",
      "90465/90465 [==============================] - 51s 564us/sample - loss: 7.5952e-05 - accuracy: 1.0000\n",
      "Epoch 9/10\n",
      "90400/90465 [============================>.] - ETA: 0s - loss: 7.4699e-05 - accuracy: 1.0000WARNING:tensorflow:Early stopping conditioned on metric `val_loss` which is not available. Available metrics are: loss,accuracy\n",
      "90465/90465 [==============================] - 50s 557us/sample - loss: 7.4645e-05 - accuracy: 1.0000\n",
      "Epoch 10/10\n",
      "90432/90465 [============================>.] - ETA: 0s - loss: 7.2642e-05 - accuracy: 1.0000WARNING:tensorflow:Early stopping conditioned on metric `val_loss` which is not available. Available metrics are: loss,accuracy\n",
      "90465/90465 [==============================] - 45s 499us/sample - loss: 7.2615e-05 - accuracy: 1.0000\n"
     ]
    },
    {
     "data": {
      "text/plain": [
       "<tensorflow.python.keras.callbacks.History at 0x1ad0e5d6a88>"
      ]
     },
     "execution_count": 11,
     "metadata": {},
     "output_type": "execute_result"
    },
    {
     "name": "stdout",
     "output_type": "stream",
     "text": [
      "accuracy_score 0.9999875634265247\n",
      "recall_score 1.0\n",
      "precision_score 0.9996130030959752\n",
      "f1_score 0.9998064640990905\n",
      "Model: \"model_7\"\n",
      "_________________________________________________________________\n",
      "Layer (type)                 Output Shape              Param #   \n",
      "=================================================================\n",
      "input_1 (InputLayer)         [(None, 16, 256)]         0         \n",
      "_________________________________________________________________\n",
      "bidirectional (Bidirectional (None, 16, 48)            53952     \n",
      "_________________________________________________________________\n",
      "time_distributed (TimeDistri (None, 16, 1)             49        \n",
      "=================================================================\n",
      "Total params: 54,001\n",
      "Trainable params: 54,001\n",
      "Non-trainable params: 0\n",
      "_________________________________________________________________\n",
      "======Training stage======\n",
      "Train on 90465 samples\n",
      "Epoch 1/10\n",
      "90464/90465 [============================>.] - ETA: 0s - loss: 9.1792e-05 - accuracy: 1.0000WARNING:tensorflow:Early stopping conditioned on metric `val_loss` which is not available. Available metrics are: loss,accuracy\n",
      "90465/90465 [==============================] - 56s 619us/sample - loss: 9.1791e-05 - accuracy: 1.0000\n",
      "Epoch 2/10\n",
      "90400/90465 [============================>.] - ETA: 0s - loss: 7.2784e-05 - accuracy: 1.0000WARNING:tensorflow:Early stopping conditioned on metric `val_loss` which is not available. Available metrics are: loss,accuracy\n",
      "90465/90465 [==============================] - 48s 532us/sample - loss: 7.2732e-05 - accuracy: 1.0000\n",
      "Epoch 3/10\n",
      "90464/90465 [============================>.] - ETA: 0s - loss: 6.4607e-05 - accuracy: 1.0000WARNING:tensorflow:Early stopping conditioned on metric `val_loss` which is not available. Available metrics are: loss,accuracy\n",
      "90465/90465 [==============================] - 49s 543us/sample - loss: 6.4607e-05 - accuracy: 1.0000\n",
      "Epoch 4/10\n",
      "90464/90465 [============================>.] - ETA: 0s - loss: 7.0725e-05 - accuracy: 1.0000WARNING:tensorflow:Early stopping conditioned on metric `val_loss` which is not available. Available metrics are: loss,accuracy\n",
      "90465/90465 [==============================] - 49s 541us/sample - loss: 7.0724e-05 - accuracy: 1.0000\n",
      "Epoch 5/10\n",
      "90432/90465 [============================>.] - ETA: 0s - loss: 6.5866e-05 - accuracy: 1.0000WARNING:tensorflow:Early stopping conditioned on metric `val_loss` which is not available. Available metrics are: loss,accuracy\n",
      "90465/90465 [==============================] - 49s 542us/sample - loss: 6.5842e-05 - accuracy: 1.0000\n",
      "Epoch 6/10\n",
      "90464/90465 [============================>.] - ETA: 0s - loss: 6.8501e-05 - accuracy: 1.0000WARNING:tensorflow:Early stopping conditioned on metric `val_loss` which is not available. Available metrics are: loss,accuracy\n",
      "90465/90465 [==============================] - 49s 542us/sample - loss: 6.8500e-05 - accuracy: 1.0000\n",
      "Epoch 7/10\n",
      "90432/90465 [============================>.] - ETA: 0s - loss: 6.1897e-05 - accuracy: 1.0000WARNING:tensorflow:Early stopping conditioned on metric `val_loss` which is not available. Available metrics are: loss,accuracy\n",
      "90465/90465 [==============================] - 49s 538us/sample - loss: 6.1874e-05 - accuracy: 1.0000\n",
      "Epoch 8/10\n",
      "90432/90465 [============================>.] - ETA: 0s - loss: 7.2448e-05 - accuracy: 1.0000WARNING:tensorflow:Early stopping conditioned on metric `val_loss` which is not available. Available metrics are: loss,accuracy\n",
      "90465/90465 [==============================] - 45s 495us/sample - loss: 7.2421e-05 - accuracy: 1.0000\n",
      "Epoch 9/10\n",
      "90464/90465 [============================>.] - ETA: 0s - loss: 5.3568e-05 - accuracy: 1.0000WARNING:tensorflow:Early stopping conditioned on metric `val_loss` which is not available. Available metrics are: loss,accuracy\n",
      "90465/90465 [==============================] - 49s 539us/sample - loss: 5.3568e-05 - accuracy: 1.0000\n",
      "Epoch 10/10\n",
      "90464/90465 [============================>.] - ETA: 0s - loss: 5.2652e-05 - accuracy: 1.0000WARNING:tensorflow:Early stopping conditioned on metric `val_loss` which is not available. Available metrics are: loss,accuracy\n",
      "90465/90465 [==============================] - 47s 514us/sample - loss: 5.2651e-05 - accuracy: 1.0000\n"
     ]
    },
    {
     "data": {
      "text/plain": [
       "<tensorflow.python.keras.callbacks.History at 0x1ad02563148>"
      ]
     },
     "execution_count": 11,
     "metadata": {},
     "output_type": "execute_result"
    },
    {
     "name": "stdout",
     "output_type": "stream",
     "text": [
      "accuracy_score 0.9999813451397871\n",
      "recall_score 1.0\n",
      "precision_score 0.9994209612044007\n",
      "f1_score 0.9997103967564437\n",
      "Model: \"model_8\"\n",
      "_________________________________________________________________\n",
      "Layer (type)                 Output Shape              Param #   \n",
      "=================================================================\n",
      "input_1 (InputLayer)         [(None, 16, 256)]         0         \n",
      "_________________________________________________________________\n",
      "bidirectional (Bidirectional (None, 16, 48)            53952     \n",
      "_________________________________________________________________\n",
      "time_distributed (TimeDistri (None, 16, 1)             49        \n",
      "=================================================================\n",
      "Total params: 54,001\n",
      "Trainable params: 54,001\n",
      "Non-trainable params: 0\n",
      "_________________________________________________________________\n",
      "======Training stage======\n",
      "Train on 90465 samples\n",
      "Epoch 1/10\n",
      "90432/90465 [============================>.] - ETA: 0s - loss: 7.8656e-05 - accuracy: 1.0000 ETA: 1s - ETA: 0s - loss: 7.8935e-05 - accuracy: WARNING:tensorflow:Early stopping conditioned on metric `val_loss` which is not available. Available metrics are: loss,accuracy\n",
      "90465/90465 [==============================] - 57s 625us/sample - loss: 7.8627e-05 - accuracy: 1.0000\n",
      "Epoch 2/10\n",
      "90400/90465 [============================>.] - ETA: 0s - loss: 6.7986e-05 - accuracy: 1.0000WARNING:tensorflow:Early stopping conditioned on metric `val_loss` which is not available. Available metrics are: loss,accuracy\n",
      "90465/90465 [==============================] - 50s 549us/sample - loss: 6.7937e-05 - accuracy: 1.0000\n",
      "Epoch 3/10\n",
      "90400/90465 [============================>.] - ETA: 0s - loss: 6.5682e-05 - accuracy: 1.0000WARNING:tensorflow:Early stopping conditioned on metric `val_loss` which is not available. Available metrics are: loss,accuracy\n",
      "90465/90465 [==============================] - 50s 548us/sample - loss: 6.5634e-05 - accuracy: 1.0000\n",
      "Epoch 4/10\n",
      "90464/90465 [============================>.] - ETA: 0s - loss: 6.2799e-05 - accuracy: 1.0000WARNING:tensorflow:Early stopping conditioned on metric `val_loss` which is not available. Available metrics are: loss,accuracy\n",
      "90465/90465 [==============================] - 49s 547us/sample - loss: 6.2799e-05 - accuracy: 1.0000\n",
      "Epoch 5/10\n",
      "90368/90465 [============================>.] - ETA: 0s - loss: 6.1091e-05 - accuracy: 1.0000WARNING:tensorflow:Early stopping conditioned on metric `val_loss` which is not available. Available metrics are: loss,accuracy\n",
      "90465/90465 [==============================] - 47s 520us/sample - loss: 6.1026e-05 - accuracy: 1.0000\n",
      "Epoch 6/10\n",
      "90432/90465 [============================>.] - ETA: 0s - loss: 6.2205e-05 - accuracy: 1.0000WARNING:tensorflow:Early stopping conditioned on metric `val_loss` which is not available. Available metrics are: loss,accuracy\n",
      "90465/90465 [==============================] - 47s 523us/sample - loss: 6.2182e-05 - accuracy: 1.0000\n",
      "Epoch 7/10\n",
      "90400/90465 [============================>.] - ETA: 0s - loss: 6.3937e-05 - accuracy: 1.0000WARNING:tensorflow:Early stopping conditioned on metric `val_loss` which is not available. Available metrics are: loss,accuracy\n",
      "90465/90465 [==============================] - 45s 502us/sample - loss: 6.3891e-05 - accuracy: 1.0000\n",
      "Epoch 8/10\n",
      "90464/90465 [============================>.] - ETA: 0s - loss: 6.4301e-05 - accuracy: 1.0000 ETA: 2s - loss:WARNING:tensorflow:Early stopping conditioned on metric `val_loss` which is not available. Available metrics are: loss,accuracy\n",
      "90465/90465 [==============================] - 49s 542us/sample - loss: 6.4300e-05 - accuracy: 1.0000\n",
      "Epoch 9/10\n",
      "90464/90465 [============================>.] - ETA: 0s - loss: 5.6322e-05 - accuracy: 1.0000WARNING:tensorflow:Early stopping conditioned on metric `val_loss` which is not available. Available metrics are: loss,accuracy\n",
      "90465/90465 [==============================] - 49s 542us/sample - loss: 5.6321e-05 - accuracy: 1.0000\n",
      "Epoch 10/10\n",
      "90464/90465 [============================>.] - ETA: 0s - loss: 6.1497e-05 - accuracy: 1.0000WARNING:tensorflow:Early stopping conditioned on metric `val_loss` which is not available. Available metrics are: loss,accuracy\n",
      "90465/90465 [==============================] - 50s 549us/sample - loss: 6.1496e-05 - accuracy: 1.0000\n"
     ]
    },
    {
     "data": {
      "text/plain": [
       "<tensorflow.python.keras.callbacks.History at 0x1ad0529ed08>"
      ]
     },
     "execution_count": 11,
     "metadata": {},
     "output_type": "execute_result"
    },
    {
     "name": "stdout",
     "output_type": "stream",
     "text": [
      "accuracy_score 0.9999875634265247\n",
      "recall_score 1.0\n",
      "precision_score 0.9996172248803827\n",
      "f1_score 0.9998085758039816\n",
      "Model: \"model_9\"\n",
      "_________________________________________________________________\n",
      "Layer (type)                 Output Shape              Param #   \n",
      "=================================================================\n",
      "input_1 (InputLayer)         [(None, 16, 256)]         0         \n",
      "_________________________________________________________________\n",
      "bidirectional (Bidirectional (None, 16, 48)            53952     \n",
      "_________________________________________________________________\n",
      "time_distributed (TimeDistri (None, 16, 1)             49        \n",
      "=================================================================\n",
      "Total params: 54,001\n",
      "Trainable params: 54,001\n",
      "Non-trainable params: 0\n",
      "_________________________________________________________________\n",
      "======Training stage======\n",
      "Train on 90465 samples\n",
      "Epoch 1/10\n",
      "90400/90465 [============================>.] - ETA: 0s - loss: 6.3687e-05 - accuracy: 1.0000WARNING:tensorflow:Early stopping conditioned on metric `val_loss` which is not available. Available metrics are: loss,accuracy\n",
      "90465/90465 [==============================] - 62s 687us/sample - loss: 6.3641e-05 - accuracy: 1.0000\n",
      "Epoch 2/10\n",
      "90400/90465 [============================>.] - ETA: 0s - loss: 4.7449e-05 - accuracy: 1.0000 ETA: 0s - loss: 4.8WARNING:tensorflow:Early stopping conditioned on metric `val_loss` which is not available. Available metrics are: loss,accuracy\n",
      "90465/90465 [==============================] - 52s 579us/sample - loss: 4.7415e-05 - accuracy: 1.0000\n",
      "Epoch 3/10\n",
      "90400/90465 [============================>.] - ETA: 0s - loss: 4.4909e-05 - accuracy: 1.0000WARNING:tensorflow:Early stopping conditioned on metric `val_loss` which is not available. Available metrics are: loss,accuracy\n",
      "90465/90465 [==============================] - 50s 557us/sample - loss: 4.4877e-05 - accuracy: 1.0000\n",
      "Epoch 4/10\n",
      "90368/90465 [============================>.] - ETA: 0s - loss: 4.9113e-05 - accuracy: 1.0000WARNING:tensorflow:Early stopping conditioned on metric `val_loss` which is not available. Available metrics are: loss,accuracy\n",
      "90465/90465 [==============================] - 42s 462us/sample - loss: 4.9061e-05 - accuracy: 1.0000\n",
      "Epoch 5/10\n",
      "90368/90465 [============================>.] - ETA: 0s - loss: 4.4244e-05 - accuracy: 1.0000WARNING:tensorflow:Early stopping conditioned on metric `val_loss` which is not available. Available metrics are: loss,accuracy\n",
      "90465/90465 [==============================] - 40s 437us/sample - loss: 4.4196e-05 - accuracy: 1.0000\n",
      "Epoch 6/10\n",
      "90368/90465 [============================>.] - ETA: 0s - loss: 4.4930e-05 - accuracy: 1.0000WARNING:tensorflow:Early stopping conditioned on metric `val_loss` which is not available. Available metrics are: loss,accuracy\n",
      "90465/90465 [==============================] - 40s 437us/sample - loss: 4.4882e-05 - accuracy: 1.0000\n",
      "Epoch 7/10\n",
      "90400/90465 [============================>.] - ETA: 0s - loss: 4.4742e-05 - accuracy: 1.0000WARNING:tensorflow:Early stopping conditioned on metric `val_loss` which is not available. Available metrics are: loss,accuracy\n",
      "90465/90465 [==============================] - 40s 437us/sample - loss: 4.4710e-05 - accuracy: 1.0000\n",
      "Epoch 8/10\n",
      "90464/90465 [============================>.] - ETA: 0s - loss: 4.3786e-05 - accuracy: 1.0000 ETA: 0s - loss: 3.9192eWARNING:tensorflow:Early stopping conditioned on metric `val_loss` which is not available. Available metrics are: loss,accuracy\n",
      "90465/90465 [==============================] - 40s 437us/sample - loss: 4.3785e-05 - accuracy: 1.0000\n",
      "Epoch 9/10\n",
      "90400/90465 [============================>.] - ETA: 0s - loss: 5.0779e-05 - accuracy: 1.0000WARNING:tensorflow:Early stopping conditioned on metric `val_loss` which is not available. Available metrics are: loss,accuracy\n",
      "90465/90465 [==============================] - 40s 439us/sample - loss: 5.0742e-05 - accuracy: 1.0000\n",
      "Epoch 10/10\n",
      "90464/90465 [============================>.] - ETA: 0s - loss: 4.6580e-05 - accuracy: 1.0000 ETA: 0s - loss: 4WARNING:tensorflow:Early stopping conditioned on metric `val_loss` which is not available. Available metrics are: loss,accuracy\n",
      "90465/90465 [==============================] - 40s 437us/sample - loss: 4.6579e-05 - accuracy: 1.0000\n"
     ]
    },
    {
     "data": {
      "text/plain": [
       "<tensorflow.python.keras.callbacks.History at 0x1ad0c0cbf48>"
      ]
     },
     "execution_count": 11,
     "metadata": {},
     "output_type": "execute_result"
    },
    {
     "name": "stdout",
     "output_type": "stream",
     "text": [
      "accuracy_score 0.9999813451397871\n",
      "recall_score 1.0\n",
      "precision_score 0.9994161152199299\n",
      "f1_score 0.9997079723547162\n",
      "\n",
      "K-fold cross validation Accuracy: [0.9999005173099881, 0.9999689116593713, 0.9999440409868683, 0.999975129327497, 0.999950258654994, 0.999975129327497, 0.9999875634265247, 0.9999813451397871, 0.9999875634265247, 0.9999813451397871]\n",
      "\n",
      "K-fold cross validation Recall: [0.9982527664531159, 0.9996222138269739, 0.9990188383045526, 0.9998061639852684, 0.999804228660924, 0.9998058629392351, 1.0, 1.0, 1.0, 1.0]\n",
      "\n",
      "K-fold cross validation Precision: [0.9986405127209167, 0.9994334277620397, 0.9992149165848871, 0.9994187173028483, 0.9986312084473993, 0.9994178148651272, 0.9996130030959752, 0.9994209612044007, 0.9996172248803827, 0.9994161152199299]\n",
      "\n",
      "K-fold cross validation F1-Score: [0.9984466019417476, 0.9995278118802531, 0.9991168678245511, 0.9996124031007751, 0.9992173742907454, 0.9996118012422361, 0.9998064640990905, 0.9997103967564437, 0.9998085758039816, 0.9997079723547162]\n"
     ]
    }
   ],
   "source": [
    "# 교차검증 kfold\n",
    "from sklearn.model_selection import KFold\n",
    "\n",
    "# Accuracy, Precision, Recall, F1-Score\n",
    "from sklearn.metrics import accuracy_score, recall_score, precision_score, f1_score\n",
    "\n",
    "# Confusion Matrix, ROC Curve\n",
    "from sklearn.metrics import confusion_matrix, roc_auc_score\n",
    "\n",
    "# 최종 평가지표들 평균용\n",
    "accuracy, recall, precision, f1score, cm = [], [], [], [], []\n",
    "\n",
    "# 11. 교차검증 kfold - k.split - 10회 / K-Fold 객체 생성\n",
    "# kf = KFold(n_splits=10, shuffle=False, random_state=None) # KFold non shuffle 버전\n",
    "kf = KFold(n_splits=10, shuffle=True, random_state=None) # KFold non shuffle 버전\n",
    "\n",
    "for train, validation in kf.split(x_bc6_0, y_bc6_0):\n",
    "    model1 = models.Model(xInput, xOutput)\n",
    "    model1.compile(loss='binary_crossentropy', optimizer='rmsprop', metrics=['accuracy'])\n",
    "    model1.summary()\n",
    "    print('======Training stage======')\n",
    "    model1.fit(x_bc6_0[train],\n",
    "               y_bc6_0[train],\n",
    "               epochs = 10,\n",
    "               batch_size = 32,\n",
    "               callbacks=[early_stopping])\n",
    "    #k_accuracy = '%.4f' %(model1.evaluate(data_10000x[validation], data_10000y[validation])[1])\n",
    "\n",
    "# 12. 교차검증결과 predict - 검증셋들\n",
    "    # predict 값\n",
    "    k_pr = model1.predict(x_bc6_0[validation])\n",
    "    \n",
    "    # 테스트 predict 결과들 비교 (평가지표 보기위함)\n",
    "    pred = np.round(np.array(k_pr).flatten().tolist())\n",
    "    y_test = np.array(y_bc6_0[validation]).flatten().tolist()\n",
    "    \n",
    "# 13. 평가지표들 출력\n",
    "    ## 평가지표들\n",
    "    k_accuracy = float(accuracy_score(y_test, pred))\n",
    "    k_recall =  float(recall_score(y_test, pred))\n",
    "    k_precision = float(precision_score(y_test, pred))\n",
    "    k_f1_score = float(f1_score(y_test, pred))\n",
    "    #k_cm = float(confusion_matrix(y_test, pred))\n",
    "    \n",
    "    print('accuracy_score', k_accuracy)\n",
    "    print('recall_score', k_recall)\n",
    "    print('precision_score', k_precision)\n",
    "    print('f1_score', k_f1_score)\n",
    "    #print('\\nconfusion_matrix\\n', k_cm)\n",
    "\n",
    "    accuracy.append(k_accuracy)\n",
    "    recall.append(k_recall)\n",
    "    precision.append(k_precision)\n",
    "    f1score.append(k_f1_score)\n",
    "    #cm.append(k_cm)\n",
    "#    print('roc_curve 면적', roc_auc_score(y_test, pred))\n",
    "\n",
    "# 최종 결과지표\n",
    "print('\\nK-fold cross validation Accuracy: {}'.format(accuracy))\n",
    "print('\\nK-fold cross validation Recall: {}'.format(recall))\n",
    "print('\\nK-fold cross validation Precision: {}'.format(precision))\n",
    "print('\\nK-fold cross validation F1-Score: {}'.format(f1score))\n",
    "#print('\\nK-fold cross validation ConfusionMatrix: {}'.format(cm))"
   ]
  },
  {
   "cell_type": "markdown",
   "metadata": {},
   "source": [
    "## (9) 평가지표"
   ]
  },
  {
   "cell_type": "code",
   "execution_count": 12,
   "metadata": {},
   "outputs": [
    {
     "name": "stdout",
     "output_type": "stream",
     "text": [
      "10-Fold Cross_validation. Accuracy : 0.9999651804398839\n",
      "10-Fold Cross_validation. Recall : 0.9996310074170071\n",
      "10-Fold Cross_validation. Precision : 0.9992823902083907\n",
      "10-Fold Cross_validation. F1-Score : 0.9994566269294541\n"
     ]
    }
   ],
   "source": [
    "print('10-Fold Cross_validation. Accuracy :', np.mean(accuracy))\n",
    "print('10-Fold Cross_validation. Recall :', np.mean(recall))\n",
    "print('10-Fold Cross_validation. Precision :', np.mean(precision))\n",
    "print('10-Fold Cross_validation. F1-Score :', np.mean(f1score))"
   ]
  },
  {
   "cell_type": "code",
   "execution_count": 13,
   "metadata": {},
   "outputs": [
    {
     "name": "stdout",
     "output_type": "stream",
     "text": [
      "save 완료\n"
     ]
    }
   ],
   "source": [
    "model1.save('gcc6_bin_core_s16_h24_o0.h5')\n",
    "print('save 완료')"
   ]
  }
 ],
 "metadata": {
  "kernelspec": {
   "display_name": "Python 3",
   "language": "python",
   "name": "python3"
  },
  "language_info": {
   "codemirror_mode": {
    "name": "ipython",
    "version": 3
   },
   "file_extension": ".py",
   "mimetype": "text/x-python",
   "name": "python",
   "nbconvert_exporter": "python",
   "pygments_lexer": "ipython3",
   "version": "3.7.9"
  }
 },
 "nbformat": 4,
 "nbformat_minor": 4
}
