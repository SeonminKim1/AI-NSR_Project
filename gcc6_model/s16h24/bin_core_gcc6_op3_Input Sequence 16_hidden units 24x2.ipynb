{
 "cells": [
  {
   "cell_type": "markdown",
   "metadata": {},
   "source": [
    "## RNN 모델 N-Byte 방식 (함수정보 포함 vs 미포함 => 1:1 비율)\n",
    "\n",
    "## (1) 데이터로드"
   ]
  },
  {
   "cell_type": "code",
   "execution_count": 2,
   "metadata": {},
   "outputs": [
    {
     "name": "stdout",
     "output_type": "stream",
     "text": [
      "(33250757, 2)\n",
      "shape - (33250757, 2)\n",
      "reset_index 완료\n",
      "input data shape\n"
     ]
    },
    {
     "data": {
      "text/html": [
       "<div>\n",
       "<style scoped>\n",
       "    .dataframe tbody tr th:only-of-type {\n",
       "        vertical-align: middle;\n",
       "    }\n",
       "\n",
       "    .dataframe tbody tr th {\n",
       "        vertical-align: top;\n",
       "    }\n",
       "\n",
       "    .dataframe thead th {\n",
       "        text-align: right;\n",
       "    }\n",
       "</style>\n",
       "<table border=\"1\" class=\"dataframe\">\n",
       "  <thead>\n",
       "    <tr style=\"text-align: right;\">\n",
       "      <th></th>\n",
       "      <th>bin</th>\n",
       "      <th>label</th>\n",
       "    </tr>\n",
       "  </thead>\n",
       "  <tbody>\n",
       "    <tr>\n",
       "      <th>0</th>\n",
       "      <td>47</td>\n",
       "      <td>0</td>\n",
       "    </tr>\n",
       "    <tr>\n",
       "      <th>1</th>\n",
       "      <td>108</td>\n",
       "      <td>0</td>\n",
       "    </tr>\n",
       "    <tr>\n",
       "      <th>2</th>\n",
       "      <td>105</td>\n",
       "      <td>0</td>\n",
       "    </tr>\n",
       "    <tr>\n",
       "      <th>3</th>\n",
       "      <td>98</td>\n",
       "      <td>0</td>\n",
       "    </tr>\n",
       "    <tr>\n",
       "      <th>4</th>\n",
       "      <td>47</td>\n",
       "      <td>0</td>\n",
       "    </tr>\n",
       "  </tbody>\n",
       "</table>\n",
       "</div>"
      ],
      "text/plain": [
       "   bin  label\n",
       "0   47      0\n",
       "1  108      0\n",
       "2  105      0\n",
       "3   98      0\n",
       "4   47      0"
      ]
     },
     "execution_count": 2,
     "metadata": {},
     "output_type": "execute_result"
    }
   ],
   "source": [
    "# (1) 데이터로드\n",
    "import pandas as pd\n",
    "import numpy as np\n",
    "\n",
    "import warnings\n",
    "warnings.filterwarnings(action='ignore')\n",
    "\n",
    "# 여러개 쳐도 나오게\n",
    "from IPython.core.interactiveshell import InteractiveShell\n",
    "InteractiveShell.ast_node_interactivity = \"all\"\n",
    "\n",
    "# 파일읽기\n",
    "bin6_3 = pd.read_csv(\"../../바이너리_최종데이터_1004/gcc6/o3/o3_bincore6.csv\", index_col=0)\n",
    "print(bin6_3.shape)\n",
    "\n",
    "# reset_index (hex processing 하면서 값이 빠졌으니까 + n_gram 에서 index를 다루기 때문에)\n",
    "bin6_3.reset_index(inplace=True, drop=True)\n",
    "\n",
    "print('shape -', bin6_3.shape)\n",
    "print('reset_index 완료')\n",
    "print('input data shape')\n",
    "bin6_3.head()"
   ]
  },
  {
   "cell_type": "code",
   "execution_count": 3,
   "metadata": {},
   "outputs": [
    {
     "name": "stdout",
     "output_type": "stream",
     "text": [
      "256\n",
      "0    33215560\n",
      "1       35197\n",
      "Name: label, dtype: int64\n"
     ]
    }
   ],
   "source": [
    "# (2-1) 데이터체크 1 - hex(16진수)가 256 label을 가져야 dummies 변환 가능 \n",
    "# 16진수 256개 종류가 있어서 pd.get_dummies 사용 가능.\n",
    "print(len(bin6_3['bin'].unique()))\n",
    "\n",
    "# (2-2) 데이터 체크 2 - 1, 0 비율 ==> 1이 함수의 갯수를 뜻함\n",
    "# 정답 데이터 1, 0 비율 확인  ==> 1이 함수의 갯수를 뜻함\n",
    "print(bin6_3['label'].value_counts())"
   ]
  },
  {
   "cell_type": "markdown",
   "metadata": {},
   "source": [
    "## (3) N Byte씩 자르기"
   ]
  },
  {
   "cell_type": "code",
   "execution_count": 4,
   "metadata": {},
   "outputs": [
    {
     "name": "stdout",
     "output_type": "stream",
     "text": [
      "563152\n",
      "나머지 0\n",
      "최종 길이 563152\n",
      "bin6_3 563152\n"
     ]
    }
   ],
   "source": [
    "idx_bin = bin6_3[bin6_3['label']==1].index  # 407, 474 ...\n",
    "ls_bin = list(idx_bin)\n",
    "\n",
    "# 최종 뽑을 행에 대한 index\n",
    "ls_idx_bin = []\n",
    "\n",
    "# n byte 자르기 방식\n",
    "left_idx, right_idx = 0, 16 # 3개씩\n",
    "\n",
    "# n byte 자르기\n",
    "for k in range(left_idx, right_idx):\n",
    "    ls_idx_bin.extend(list(idx_bin + k)) # index 형이라서 가능\n",
    "\n",
    "#ls_idx = list(set(ls_idx)) \n",
    "ls_idx_bin.sort() # 인덱스 정렬\n",
    "\n",
    "# 1차 index 해당범위 초과한 것들 없애기\n",
    "ls_idx_bin = list(filter(lambda x: x<len(bin6_3), ls_idx_bin))\n",
    "print(len(ls_idx_bin))\n",
    "\n",
    "# 2차 남은 index들 중 right_idx 나눈 나머지 없애기\n",
    "sub_bin = len(ls_idx_bin)%(right_idx)\n",
    "print('나머지', sub_bin)\n",
    "\n",
    "ls_idx_bin = ls_idx_bin[:len(ls_idx_bin)-sub_bin]\n",
    "print('최종 길이', len(ls_idx_bin))\n",
    "\n",
    "print('bin6_3', len(ls_idx_bin))\n",
    "\n",
    "# loc 로 수정필요\n",
    "bin6_3_Ngram = bin6_3.loc[ls_idx_bin,:].copy()"
   ]
  },
  {
   "cell_type": "markdown",
   "metadata": {},
   "source": [
    "## (4) false data 만들기"
   ]
  },
  {
   "cell_type": "code",
   "execution_count": 5,
   "metadata": {},
   "outputs": [
    {
     "name": "stdout",
     "output_type": "stream",
     "text": [
      "35197.0\n",
      "0 28341794\n",
      "1000 25715993\n",
      "2000 11125925\n",
      "3000 13226190\n",
      "4000 25786151\n",
      "5000 25222344\n",
      "6000 6891848\n",
      "7000 2753812\n",
      "8000 3256910\n",
      "9000 24952955\n",
      "10000 23931091\n",
      "11000 1432182\n",
      "12000 25275703\n",
      "13000 15135256\n",
      "14000 29559246\n",
      "15000 14025487\n",
      "16000 26475422\n",
      "17000 6008987\n",
      "18000 1774997\n",
      "19000 26798192\n",
      "20000 16841374\n",
      "21000 14913956\n",
      "22000 3861693\n",
      "23000 31835048\n",
      "24000 5861113\n",
      "25000 6699265\n",
      "26000 12485795\n",
      "27000 21039053\n",
      "28000 28680439\n",
      "29000 9236961\n",
      "30000 3982853\n",
      "31000 20768837\n",
      "32000 12005495\n",
      "33000 32263610\n",
      "34000 11501511\n",
      "35000 1264915\n",
      "완료\n",
      "35197\n"
     ]
    }
   ],
   "source": [
    "# false data 만들기 - False 데이터 랜덤 생성\n",
    "\n",
    "# 목표치\n",
    "goal_bin = len(bin6_3_Ngram)/right_idx\n",
    "count_bin = 0\n",
    "\n",
    "print(goal_bin)\n",
    "\n",
    "# 최종 데이터 Frame\n",
    "d_bin = pd.DataFrame(columns = bin6_3.columns)\n",
    "\n",
    "binutils_df = []\n",
    "# goal 에 도달할 때까지\n",
    "while True:\n",
    "    if (count_bin == goal_bin):\n",
    "            break\n",
    "    # 진행상황 살펴보기 위함\n",
    "            \n",
    "    # 랜덤 N 바이트씩 뽑음\n",
    "    # random index\n",
    "    random_idx_bin = np.random.randint(len(bin6_3)-right_idx)\n",
    "\n",
    "    if count_bin % 1000==0:\n",
    "        print(count_bin, end=' ')\n",
    "        print(random_idx_bin)\n",
    "\n",
    "    df_bin = bin6_3[random_idx_bin : random_idx_bin + right_idx]\n",
    "    \n",
    "    # 뽑은 index의 N 바이트 중에 1이 없는 경우만\n",
    "    if 1 not in df_bin['label'] and count_bin < goal_bin:\n",
    "        binutils_df.append(df_bin)\n",
    "        count_bin+=1\n",
    "\n",
    "print('완료')\n",
    "print(len(binutils_df))"
   ]
  },
  {
   "cell_type": "code",
   "execution_count": 6,
   "metadata": {},
   "outputs": [
    {
     "name": "stdout",
     "output_type": "stream",
     "text": [
      "35197\n",
      "35197\n"
     ]
    }
   ],
   "source": [
    "# True data와 False Data 같은지 체크\n",
    "print(len(binutils_df))\n",
    "print(bin6_3['label'].value_counts()[1])"
   ]
  },
  {
   "cell_type": "markdown",
   "metadata": {},
   "source": [
    "## (5) False Data + True Data 합치기"
   ]
  },
  {
   "cell_type": "code",
   "execution_count": 7,
   "metadata": {},
   "outputs": [
    {
     "data": {
      "text/plain": [
       "(1126304, 2)"
      ]
     },
     "execution_count": 7,
     "metadata": {},
     "output_type": "execute_result"
    }
   ],
   "source": [
    "f_data = pd.concat(binutils_df)\n",
    "final = pd.concat([f_data, bin6_3_Ngram])\n",
    "final.shape"
   ]
  },
  {
   "cell_type": "markdown",
   "metadata": {},
   "source": [
    "## (6) one hot encoding"
   ]
  },
  {
   "cell_type": "code",
   "execution_count": 8,
   "metadata": {},
   "outputs": [
    {
     "name": "stdout",
     "output_type": "stream",
     "text": [
      "원핫인코딩완료\n",
      "(1126304, 257)\n"
     ]
    }
   ],
   "source": [
    "# 훈련데이터 (gcc 최적화버전 0, 1, 2, 3 one hot encoding)\n",
    "bc6_3_onehot_Ngram = pd.get_dummies(final['bin'])\n",
    "bc6_3_onehot_Ngram = pd.concat([final['label'], bc6_3_onehot_Ngram], axis=1)\n",
    "\n",
    "print('원핫인코딩완료')\n",
    "print(bc6_3_onehot_Ngram.shape)"
   ]
  },
  {
   "cell_type": "code",
   "execution_count": 9,
   "metadata": {},
   "outputs": [
    {
     "name": "stdout",
     "output_type": "stream",
     "text": [
      "(1126304, 256) (1126304, 256)\n",
      "(70394, 16, 256) (70394, 16, 1)\n"
     ]
    }
   ],
   "source": [
    "# 훈련 데이터, 훈련 라벨\n",
    "x_bc6_3 = bc6_3_onehot_Ngram.iloc[:,1:].to_numpy()\n",
    "y_bc6_3 = bc6_3_onehot_Ngram['label'].to_numpy()\n",
    "print(x_bc6_3.shape, x_bc6_3.shape)\n",
    "\n",
    "x_bc6_3 = x_bc6_3.reshape(-1, right_idx, x_bc6_3.shape[1])\n",
    "y_bc6_3 = y_bc6_3.reshape(-1, right_idx, 1)\n",
    "\n",
    "print(x_bc6_3.shape, y_bc6_3.shape)"
   ]
  },
  {
   "cell_type": "code",
   "execution_count": 10,
   "metadata": {},
   "outputs": [
    {
     "name": "stdout",
     "output_type": "stream",
     "text": [
      "(70394, 16, 256) (70394, 16, 1)\n"
     ]
    }
   ],
   "source": [
    "# numpy 행, 열 섞기\n",
    "p = np.random.permutation(x_bc6_3.shape[0])\n",
    "\n",
    "x_bc6_3 = x_bc6_3[p]\n",
    "y_bc6_3 = y_bc6_3[p]\n",
    "\n",
    "print(x_bc6_3.shape, y_bc6_3.shape)"
   ]
  },
  {
   "cell_type": "markdown",
   "metadata": {},
   "source": [
    "## (7) 모델"
   ]
  },
  {
   "cell_type": "code",
   "execution_count": 11,
   "metadata": {},
   "outputs": [],
   "source": [
    "# (10) 양방향 LSTM 모델링 작업\n",
    "from tensorflow.keras import layers, models\n",
    "#from tf.keras.models import Model, Sequential\n",
    "#from tf.keras.layers import SimpleRNN, Input, Dense, LSTM\n",
    "#from tf.keras.layers import Bidirectional, TimeDistributed\n",
    "\n",
    "# 학습\n",
    "from tensorflow.keras.callbacks import EarlyStopping\n",
    "early_stopping = EarlyStopping(patience = 3) # 조기종료 콜백함수 정의\n",
    "\n",
    "xInput = layers.Input(batch_shape=(None,right_idx, 256)) \n",
    "xBiLstm = layers.Bidirectional(layers.LSTM(24, return_sequences=True, stateful=False), merge_mode = 'concat')(xInput)\n",
    "xOutput = layers.TimeDistributed(layers.Dense(1, activation ='sigmoid'))(xBiLstm) # 각 스텝에서 cost가 전송되고, 오류가 다음 step으로 전송됨."
   ]
  },
  {
   "cell_type": "markdown",
   "metadata": {},
   "source": [
    "## (8) 학습 - 10 KFold"
   ]
  },
  {
   "cell_type": "code",
   "execution_count": 12,
   "metadata": {
    "scrolled": false
   },
   "outputs": [
    {
     "name": "stdout",
     "output_type": "stream",
     "text": [
      "Model: \"model\"\n",
      "_________________________________________________________________\n",
      "Layer (type)                 Output Shape              Param #   \n",
      "=================================================================\n",
      "input_1 (InputLayer)         [(None, 16, 256)]         0         \n",
      "_________________________________________________________________\n",
      "bidirectional (Bidirectional (None, 16, 48)            53952     \n",
      "_________________________________________________________________\n",
      "time_distributed (TimeDistri (None, 16, 1)             49        \n",
      "=================================================================\n",
      "Total params: 54,001\n",
      "Trainable params: 54,001\n",
      "Non-trainable params: 0\n",
      "_________________________________________________________________\n",
      "======Training stage======\n",
      "Train on 63354 samples\n",
      "Epoch 1/10\n",
      "63328/63354 [============================>.] - ETA: 0s - loss: 0.0189 - accuracy: 0.9956WARNING:tensorflow:Early stopping conditioned on metric `val_loss` which is not available. Available metrics are: loss,accuracy\n",
      "63354/63354 [==============================] - 33s 521us/sample - loss: 0.0189 - accuracy: 0.9956\n",
      "Epoch 2/10\n",
      "63232/63354 [============================>.] - ETA: 0s - loss: 0.0032 - accuracy: 0.9993WARNING:tensorflow:Early stopping conditioned on metric `val_loss` which is not available. Available metrics are: loss,accuracy\n",
      "63354/63354 [==============================] - 27s 431us/sample - loss: 0.0032 - accuracy: 0.9993\n",
      "Epoch 3/10\n",
      "63328/63354 [============================>.] - ETA: 0s - loss: 0.0026 - accuracy: 0.9994WARNING:tensorflow:Early stopping conditioned on metric `val_loss` which is not available. Available metrics are: loss,accuracy\n",
      "63354/63354 [==============================] - 26s 415us/sample - loss: 0.0026 - accuracy: 0.9994\n",
      "Epoch 4/10\n",
      "63232/63354 [============================>.] - ETA: 0s - loss: 0.0023 - accuracy: 0.9995WARNING:tensorflow:Early stopping conditioned on metric `val_loss` which is not available. Available metrics are: loss,accuracy\n",
      "63354/63354 [==============================] - 29s 459us/sample - loss: 0.0023 - accuracy: 0.9995\n",
      "Epoch 5/10\n",
      "63296/63354 [============================>.] - ETA: 0s - loss: 0.0020 - accuracy: 0.9995WARNING:tensorflow:Early stopping conditioned on metric `val_loss` which is not available. Available metrics are: loss,accuracy\n",
      "63354/63354 [==============================] - 35s 557us/sample - loss: 0.0020 - accuracy: 0.9995\n",
      "Epoch 6/10\n",
      "63328/63354 [============================>.] - ETA: 0s - loss: 0.0018 - accuracy: 0.9996WARNING:tensorflow:Early stopping conditioned on metric `val_loss` which is not available. Available metrics are: loss,accuracy\n",
      "63354/63354 [==============================] - 35s 550us/sample - loss: 0.0018 - accuracy: 0.9996\n",
      "Epoch 7/10\n",
      "63328/63354 [============================>.] - ETA: 0s - loss: 0.0017 - accuracy: 0.9996WARNING:tensorflow:Early stopping conditioned on metric `val_loss` which is not available. Available metrics are: loss,accuracy\n",
      "63354/63354 [==============================] - 35s 552us/sample - loss: 0.0017 - accuracy: 0.9996\n",
      "Epoch 8/10\n",
      "63232/63354 [============================>.] - ETA: 0s - loss: 0.0015 - accuracy: 0.9996WARNING:tensorflow:Early stopping conditioned on metric `val_loss` which is not available. Available metrics are: loss,accuracy\n",
      "63354/63354 [==============================] - 37s 578us/sample - loss: 0.0015 - accuracy: 0.9996\n",
      "Epoch 9/10\n",
      "63328/63354 [============================>.] - ETA: 0s - loss: 0.0014 - accuracy: 0.9997 ETA: 0s - loss: 0.0014 - accuraWARNING:tensorflow:Early stopping conditioned on metric `val_loss` which is not available. Available metrics are: loss,accuracy\n",
      "63354/63354 [==============================] - 34s 544us/sample - loss: 0.0014 - accuracy: 0.9997\n",
      "Epoch 10/10\n",
      "63264/63354 [============================>.] - ETA: 0s - loss: 0.0014 - accuracy: 0.9997WARNING:tensorflow:Early stopping conditioned on metric `val_loss` which is not available. Available metrics are: loss,accuracy\n",
      "63354/63354 [==============================] - 35s 551us/sample - loss: 0.0014 - accuracy: 0.9997\n"
     ]
    },
    {
     "data": {
      "text/plain": [
       "<tensorflow.python.keras.callbacks.History at 0x2621d4462c8>"
      ]
     },
     "execution_count": 12,
     "metadata": {},
     "output_type": "execute_result"
    },
    {
     "name": "stdout",
     "output_type": "stream",
     "text": [
      "accuracy_score 0.9995649857954545\n",
      "recall_score 0.9882159495752261\n",
      "precision_score 0.9983388704318937\n",
      "f1_score 0.993251618234403\n",
      "Model: \"model_1\"\n",
      "_________________________________________________________________\n",
      "Layer (type)                 Output Shape              Param #   \n",
      "=================================================================\n",
      "input_1 (InputLayer)         [(None, 16, 256)]         0         \n",
      "_________________________________________________________________\n",
      "bidirectional (Bidirectional (None, 16, 48)            53952     \n",
      "_________________________________________________________________\n",
      "time_distributed (TimeDistri (None, 16, 1)             49        \n",
      "=================================================================\n",
      "Total params: 54,001\n",
      "Trainable params: 54,001\n",
      "Non-trainable params: 0\n",
      "_________________________________________________________________\n",
      "======Training stage======\n",
      "Train on 63354 samples\n",
      "Epoch 1/10\n",
      "63264/63354 [============================>.] - ETA: 0s - loss: 0.0013 - accuracy: 0.9997 ETA: 0s - loss: 0.0013 - accuracy: WARNING:tensorflow:Early stopping conditioned on metric `val_loss` which is not available. Available metrics are: loss,accuracy\n",
      "63354/63354 [==============================] - 41s 641us/sample - loss: 0.0013 - accuracy: 0.9997\n",
      "Epoch 2/10\n",
      "63328/63354 [============================>.] - ETA: 0s - loss: 0.0013 - accuracy: 0.99 - ETA: 0s - loss: 0.0013 - accuracy: 0.9997WARNING:tensorflow:Early stopping conditioned on metric `val_loss` which is not available. Available metrics are: loss,accuracy\n",
      "63354/63354 [==============================] - 35s 546us/sample - loss: 0.0013 - accuracy: 0.9997\n",
      "Epoch 3/10\n",
      "63328/63354 [============================>.] - ETA: 0s - loss: 0.0012 - accuracy: 0.9997WARNING:tensorflow:Early stopping conditioned on metric `val_loss` which is not available. Available metrics are: loss,accuracy\n",
      "63354/63354 [==============================] - 34s 544us/sample - loss: 0.0012 - accuracy: 0.9997\n",
      "Epoch 4/10\n",
      "63296/63354 [============================>.] - ETA: 0s - loss: 0.0011 - accuracy: 0.9997WARNING:tensorflow:Early stopping conditioned on metric `val_loss` which is not available. Available metrics are: loss,accuracy\n",
      "63354/63354 [==============================] - 34s 530us/sample - loss: 0.0011 - accuracy: 0.9997\n",
      "Epoch 5/10\n",
      "63328/63354 [============================>.] - ETA: 0s - loss: 0.0011 - accuracy: 0.9997WARNING:tensorflow:Early stopping conditioned on metric `val_loss` which is not available. Available metrics are: loss,accuracy\n",
      "63354/63354 [==============================] - 33s 515us/sample - loss: 0.0011 - accuracy: 0.9997\n",
      "Epoch 6/10\n",
      "63328/63354 [============================>.] - ETA: 0s - loss: 0.0011 - accuracy: 0.9998WARNING:tensorflow:Early stopping conditioned on metric `val_loss` which is not available. Available metrics are: loss,accuracy\n",
      "63354/63354 [==============================] - 35s 546us/sample - loss: 0.0011 - accuracy: 0.9998\n",
      "Epoch 7/10\n",
      "63264/63354 [============================>.] - ETA: 0s - loss: 0.0010 - accuracy: 0.9998WARNING:tensorflow:Early stopping conditioned on metric `val_loss` which is not available. Available metrics are: loss,accuracy\n",
      "63354/63354 [==============================] - 34s 544us/sample - loss: 0.0010 - accuracy: 0.9998\n",
      "Epoch 8/10\n",
      "63264/63354 [============================>.] - ETA: 0s - loss: 9.6682e-04 - accuracy: 0.9998WARNING:tensorflow:Early stopping conditioned on metric `val_loss` which is not available. Available metrics are: loss,accuracy\n",
      "63354/63354 [==============================] - 35s 548us/sample - loss: 9.6568e-04 - accuracy: 0.9998\n",
      "Epoch 9/10\n",
      "63264/63354 [============================>.] - ETA: 0s - loss: 9.6339e-04 - accuracy: 0.9998WARNING:tensorflow:Early stopping conditioned on metric `val_loss` which is not available. Available metrics are: loss,accuracy\n",
      "63354/63354 [==============================] - 35s 549us/sample - loss: 9.6251e-04 - accuracy: 0.9998\n",
      "Epoch 10/10\n",
      "63232/63354 [============================>.] - ETA: 0s - loss: 9.0133e-04 - accuracy: 0.9998WARNING:tensorflow:Early stopping conditioned on metric `val_loss` which is not available. Available metrics are: loss,accuracy\n",
      "63354/63354 [==============================] - 35s 551us/sample - loss: 9.0014e-04 - accuracy: 0.9998\n"
     ]
    },
    {
     "data": {
      "text/plain": [
       "<tensorflow.python.keras.callbacks.History at 0x2620d4c7b48>"
      ]
     },
     "execution_count": 12,
     "metadata": {},
     "output_type": "execute_result"
    },
    {
     "name": "stdout",
     "output_type": "stream",
     "text": [
      "accuracy_score 0.9996537642045454\n",
      "recall_score 0.9922502075837254\n",
      "precision_score 0.9969410456062291\n",
      "f1_score 0.9945900957136912\n",
      "Model: \"model_2\"\n",
      "_________________________________________________________________\n",
      "Layer (type)                 Output Shape              Param #   \n",
      "=================================================================\n",
      "input_1 (InputLayer)         [(None, 16, 256)]         0         \n",
      "_________________________________________________________________\n",
      "bidirectional (Bidirectional (None, 16, 48)            53952     \n",
      "_________________________________________________________________\n",
      "time_distributed (TimeDistri (None, 16, 1)             49        \n",
      "=================================================================\n",
      "Total params: 54,001\n",
      "Trainable params: 54,001\n",
      "Non-trainable params: 0\n",
      "_________________________________________________________________\n",
      "======Training stage======\n",
      "Train on 63354 samples\n",
      "Epoch 1/10\n",
      "63232/63354 [============================>.] - ETA: 0s - loss: 9.3105e-04 - accuracy: 0.9998WARNING:tensorflow:Early stopping conditioned on metric `val_loss` which is not available. Available metrics are: loss,accuracy\n",
      "63354/63354 [==============================] - 40s 626us/sample - loss: 9.2934e-04 - accuracy: 0.9998\n",
      "Epoch 2/10\n",
      "63232/63354 [============================>.] - ETA: 0s - loss: 8.9111e-04 - accuracy: 0.9998WARNING:tensorflow:Early stopping conditioned on metric `val_loss` which is not available. Available metrics are: loss,accuracy\n",
      "63354/63354 [==============================] - 35s 546us/sample - loss: 8.9251e-04 - accuracy: 0.9998\n",
      "Epoch 3/10\n",
      "63296/63354 [============================>.] - ETA: 0s - loss: 8.6724e-04 - accuracy: 0.9998WARNING:tensorflow:Early stopping conditioned on metric `val_loss` which is not available. Available metrics are: loss,accuracy\n",
      "63354/63354 [==============================] - 35s 553us/sample - loss: 8.6647e-04 - accuracy: 0.9998\n",
      "Epoch 4/10\n",
      "63296/63354 [============================>.] - ETA: 0s - loss: 8.3898e-04 - accuracy: 0.9998WARNING:tensorflow:Early stopping conditioned on metric `val_loss` which is not available. Available metrics are: loss,accuracy\n",
      "63354/63354 [==============================] - 33s 523us/sample - loss: 8.3825e-04 - accuracy: 0.9998\n",
      "Epoch 5/10\n",
      "63328/63354 [============================>.] - ETA: 0s - loss: 8.1610e-04 - accuracy: 0.9998 ETA: 0s - loss: 8.2754eWARNING:tensorflow:Early stopping conditioned on metric `val_loss` which is not available. Available metrics are: loss,accuracy\n",
      "63354/63354 [==============================] - 34s 539us/sample - loss: 8.1594e-04 - accuracy: 0.9998\n",
      "Epoch 6/10\n",
      "63328/63354 [============================>.] - ETA: 0s - loss: 8.1924e-04 - accuracy: 0.9998WARNING:tensorflow:Early stopping conditioned on metric `val_loss` which is not available. Available metrics are: loss,accuracy\n",
      "63354/63354 [==============================] - 33s 529us/sample - loss: 8.1892e-04 - accuracy: 0.9998\n",
      "Epoch 7/10\n",
      "63328/63354 [============================>.] - ETA: 0s - loss: 7.8833e-04 - accuracy: 0.9998WARNING:tensorflow:Early stopping conditioned on metric `val_loss` which is not available. Available metrics are: loss,accuracy\n",
      "63354/63354 [==============================] - 35s 552us/sample - loss: 7.8803e-04 - accuracy: 0.9998\n",
      "Epoch 8/10\n",
      "63328/63354 [============================>.] - ETA: 0s - loss: 7.7500e-04 - accuracy: 0.9998 ETA: 0s - loss: 7.7245e-04 - WARNING:tensorflow:Early stopping conditioned on metric `val_loss` which is not available. Available metrics are: loss,accuracy\n",
      "63354/63354 [==============================] - 35s 552us/sample - loss: 7.7469e-04 - accuracy: 0.9998\n",
      "Epoch 9/10\n",
      "63264/63354 [============================>.] - ETA: 0s - loss: 7.5519e-04 - accuracy: 0.9998WARNING:tensorflow:Early stopping conditioned on metric `val_loss` which is not available. Available metrics are: loss,accuracy\n",
      "63354/63354 [==============================] - 35s 552us/sample - loss: 7.5943e-04 - accuracy: 0.9998\n",
      "Epoch 10/10\n",
      "63264/63354 [============================>.] - ETA: 0s - loss: 7.4405e-04 - accuracy: 0.9998WARNING:tensorflow:Early stopping conditioned on metric `val_loss` which is not available. Available metrics are: loss,accuracy\n",
      "63354/63354 [==============================] - 35s 548us/sample - loss: 7.4758e-04 - accuracy: 0.9998\n"
     ]
    },
    {
     "data": {
      "text/plain": [
       "<tensorflow.python.keras.callbacks.History at 0x2620edc85c8>"
      ]
     },
     "execution_count": 12,
     "metadata": {},
     "output_type": "execute_result"
    },
    {
     "name": "stdout",
     "output_type": "stream",
     "text": [
      "accuracy_score 0.9996360085227273\n",
      "recall_score 0.9902152641878669\n",
      "precision_score 0.9983089064261556\n",
      "f1_score 0.9942456140350877\n",
      "Model: \"model_3\"\n",
      "_________________________________________________________________\n",
      "Layer (type)                 Output Shape              Param #   \n",
      "=================================================================\n",
      "input_1 (InputLayer)         [(None, 16, 256)]         0         \n",
      "_________________________________________________________________\n",
      "bidirectional (Bidirectional (None, 16, 48)            53952     \n",
      "_________________________________________________________________\n",
      "time_distributed (TimeDistri (None, 16, 1)             49        \n",
      "=================================================================\n",
      "Total params: 54,001\n",
      "Trainable params: 54,001\n",
      "Non-trainable params: 0\n",
      "_________________________________________________________________\n",
      "======Training stage======\n",
      "Train on 63354 samples\n",
      "Epoch 1/10\n",
      "63264/63354 [============================>.] - ETA: 0s - loss: 7.8516e-04 - accuracy: 0.9998WARNING:tensorflow:Early stopping conditioned on metric `val_loss` which is not available. Available metrics are: loss,accuracy\n",
      "63354/63354 [==============================] - 42s 664us/sample - loss: 7.8410e-04 - accuracy: 0.9998\n",
      "Epoch 2/10\n",
      "63232/63354 [============================>.] - ETA: 0s - loss: 7.4389e-04 - accuracy: 0.9998WARNING:tensorflow:Early stopping conditioned on metric `val_loss` which is not available. Available metrics are: loss,accuracy\n",
      "63354/63354 [==============================] - 34s 535us/sample - loss: 7.4362e-04 - accuracy: 0.9998\n",
      "Epoch 3/10\n",
      "63232/63354 [============================>.] - ETA: 0s - loss: 7.0191e-04 - accuracy: 0.9998 EWARNING:tensorflow:Early stopping conditioned on metric `val_loss` which is not available. Available metrics are: loss,accuracy\n",
      "63354/63354 [==============================] - 34s 537us/sample - loss: 7.1049e-04 - accuracy: 0.9998\n",
      "Epoch 4/10\n",
      "63296/63354 [============================>.] - ETA: 0s - loss: 6.7091e-04 - accuracy: 0.9998WARNING:tensorflow:Early stopping conditioned on metric `val_loss` which is not available. Available metrics are: loss,accuracy\n",
      "63354/63354 [==============================] - 36s 571us/sample - loss: 6.7344e-04 - accuracy: 0.9998\n",
      "Epoch 5/10\n",
      "63296/63354 [============================>.] - ETA: 0s - loss: 6.2292e-04 - accuracy: 0.9998WARNING:tensorflow:Early stopping conditioned on metric `val_loss` which is not available. Available metrics are: loss,accuracy\n",
      "63354/63354 [==============================] - 33s 515us/sample - loss: 6.2236e-04 - accuracy: 0.9999\n",
      "Epoch 6/10\n",
      "63328/63354 [============================>.] - ETA: 0s - loss: 6.1047e-04 - accuracy: 0.9999WARNING:tensorflow:Early stopping conditioned on metric `val_loss` which is not available. Available metrics are: loss,accuracy\n",
      "63354/63354 [==============================] - 33s 517us/sample - loss: 6.1024e-04 - accuracy: 0.9999\n",
      "Epoch 7/10\n",
      "63328/63354 [============================>.] - ETA: 0s - loss: 5.7576e-04 - accuracy: 0.9999WARNING:tensorflow:Early stopping conditioned on metric `val_loss` which is not available. Available metrics are: loss,accuracy\n",
      "63354/63354 [==============================] - 35s 551us/sample - loss: 5.7554e-04 - accuracy: 0.9999\n",
      "Epoch 8/10\n",
      "63328/63354 [============================>.] - ETA: 0s - loss: 5.7572e-04 - accuracy: 0.9999WARNING:tensorflow:Early stopping conditioned on metric `val_loss` which is not available. Available metrics are: loss,accuracy\n",
      "63354/63354 [==============================] - 35s 555us/sample - loss: 5.8455e-04 - accuracy: 0.9999\n",
      "Epoch 9/10\n",
      "63296/63354 [============================>.] - ETA: 0s - loss: 5.2360e-04 - accuracy: 0.9999WARNING:tensorflow:Early stopping conditioned on metric `val_loss` which is not available. Available metrics are: loss,accuracy\n",
      "63354/63354 [==============================] - 35s 553us/sample - loss: 5.2335e-04 - accuracy: 0.9999\n",
      "Epoch 10/10\n",
      "63328/63354 [============================>.] - ETA: 0s - loss: 5.1198e-04 - accuracy: 0.9999WARNING:tensorflow:Early stopping conditioned on metric `val_loss` which is not available. Available metrics are: loss,accuracy\n",
      "63354/63354 [==============================] - 35s 549us/sample - loss: 5.1177e-04 - accuracy: 0.9999\n"
     ]
    },
    {
     "data": {
      "text/plain": [
       "<tensorflow.python.keras.callbacks.History at 0x2621d3f0588>"
      ]
     },
     "execution_count": 12,
     "metadata": {},
     "output_type": "execute_result"
    },
    {
     "name": "stdout",
     "output_type": "stream",
     "text": [
      "accuracy_score 0.9998224431818182\n",
      "recall_score 0.9955094021891664\n",
      "precision_score 0.998873556744579\n",
      "f1_score 0.9971886421141412\n",
      "Model: \"model_4\"\n",
      "_________________________________________________________________\n",
      "Layer (type)                 Output Shape              Param #   \n",
      "=================================================================\n",
      "input_1 (InputLayer)         [(None, 16, 256)]         0         \n",
      "_________________________________________________________________\n",
      "bidirectional (Bidirectional (None, 16, 48)            53952     \n",
      "_________________________________________________________________\n",
      "time_distributed (TimeDistri (None, 16, 1)             49        \n",
      "=================================================================\n",
      "Total params: 54,001\n",
      "Trainable params: 54,001\n",
      "Non-trainable params: 0\n",
      "_________________________________________________________________\n",
      "======Training stage======\n",
      "Train on 63355 samples\n",
      "Epoch 1/10\n",
      "63296/63355 [============================>.] - ETA: 0s - loss: 5.0326e-04 - accuracy: 0.9999WARNING:tensorflow:Early stopping conditioned on metric `val_loss` which is not available. Available metrics are: loss,accuracy\n",
      "63355/63355 [==============================] - 41s 652us/sample - loss: 5.0280e-04 - accuracy: 0.9999\n",
      "Epoch 2/10\n",
      "63328/63355 [============================>.] - ETA: 0s - loss: 4.7332e-04 - accuracy: 0.9999WARNING:tensorflow:Early stopping conditioned on metric `val_loss` which is not available. Available metrics are: loss,accuracy\n",
      "63355/63355 [==============================] - 35s 550us/sample - loss: 4.7323e-04 - accuracy: 0.9999\n",
      "Epoch 3/10\n",
      "63328/63355 [============================>.] - ETA: 0s - loss: 4.7550e-04 - accuracy: 0.9999WARNING:tensorflow:Early stopping conditioned on metric `val_loss` which is not available. Available metrics are: loss,accuracy\n",
      "63355/63355 [==============================] - 34s 531us/sample - loss: 4.7532e-04 - accuracy: 0.9999\n",
      "Epoch 4/10\n",
      "63328/63355 [============================>.] - ETA: 0s - loss: 4.5942e-04 - accuracy: 0.9999WARNING:tensorflow:Early stopping conditioned on metric `val_loss` which is not available. Available metrics are: loss,accuracy\n",
      "63355/63355 [==============================] - 33s 515us/sample - loss: 4.5923e-04 - accuracy: 0.9999\n",
      "Epoch 5/10\n",
      "63328/63355 [============================>.] - ETA: 0s - loss: 4.4558e-04 - accuracy: 0.9999WARNING:tensorflow:Early stopping conditioned on metric `val_loss` which is not available. Available metrics are: loss,accuracy\n",
      "63355/63355 [==============================] - 34s 534us/sample - loss: 4.4540e-04 - accuracy: 0.9999\n",
      "Epoch 6/10\n",
      "63296/63355 [============================>.] - ETA: 0s - loss: 4.3294e-04 - accuracy: 0.9999WARNING:tensorflow:Early stopping conditioned on metric `val_loss` which is not available. Available metrics are: loss,accuracy\n",
      "63355/63355 [==============================] - 34s 537us/sample - loss: 4.3260e-04 - accuracy: 0.9999\n",
      "Epoch 7/10\n",
      "63264/63355 [============================>.] - ETA: 0s - loss: 4.1310e-04 - accuracy: 0.9999 ETA: 0s - loss: 4.1441e-04 - accuWARNING:tensorflow:Early stopping conditioned on metric `val_loss` which is not available. Available metrics are: loss,accuracy\n",
      "63355/63355 [==============================] - 30s 474us/sample - loss: 4.1260e-04 - accuracy: 0.9999\n",
      "Epoch 8/10\n",
      "63264/63355 [============================>.] - ETA: 0s - loss: 3.8492e-04 - accuracy: 0.9999WARNING:tensorflow:Early stopping conditioned on metric `val_loss` which is not available. Available metrics are: loss,accuracy\n",
      "63355/63355 [==============================] - 34s 537us/sample - loss: 3.8439e-04 - accuracy: 0.9999\n",
      "Epoch 9/10\n",
      "63264/63355 [============================>.] - ETA: 0s - loss: 4.0530e-04 - accuracy: 0.9999 ETA: 0s - loss: 4.0605e-04 - accuracy: 0.99WARNING:tensorflow:Early stopping conditioned on metric `val_loss` which is not available. Available metrics are: loss,accuracy\n",
      "63355/63355 [==============================] - 34s 534us/sample - loss: 4.0510e-04 - accuracy: 0.9999\n",
      "Epoch 10/10\n",
      "63328/63355 [============================>.] - ETA: 0s - loss: 3.7666e-04 - accuracy: 0.9999 ETA: 2s - loss: 3.6129e-04 - ac - ETA:  - ETA: WARNING:tensorflow:Early stopping conditioned on metric `val_loss` which is not available. Available metrics are: loss,accuracy\n",
      "63355/63355 [==============================] - 34s 536us/sample - loss: 3.7650e-04 - accuracy: 0.9999\n"
     ]
    },
    {
     "data": {
      "text/plain": [
       "<tensorflow.python.keras.callbacks.History at 0x26219c45f48>"
      ]
     },
     "execution_count": 12,
     "metadata": {},
     "output_type": "execute_result"
    },
    {
     "name": "stdout",
     "output_type": "stream",
     "text": [
      "accuracy_score 0.9997780224463703\n",
      "recall_score 0.9953180941889287\n",
      "precision_score 0.9977912755383765\n",
      "f1_score 0.9965531504205156\n",
      "Model: \"model_5\"\n",
      "_________________________________________________________________\n",
      "Layer (type)                 Output Shape              Param #   \n",
      "=================================================================\n",
      "input_1 (InputLayer)         [(None, 16, 256)]         0         \n",
      "_________________________________________________________________\n",
      "bidirectional (Bidirectional (None, 16, 48)            53952     \n",
      "_________________________________________________________________\n",
      "time_distributed (TimeDistri (None, 16, 1)             49        \n",
      "=================================================================\n",
      "Total params: 54,001\n",
      "Trainable params: 54,001\n",
      "Non-trainable params: 0\n",
      "_________________________________________________________________\n",
      "======Training stage======\n",
      "Train on 63355 samples\n",
      "Epoch 1/10\n",
      "63232/63355 [============================>.] - ETA: 0s - loss: 4.4662e-04 - accuracy: 0.9999WARNING:tensorflow:Early stopping conditioned on metric `val_loss` which is not available. Available metrics are: loss,accuracy\n",
      "63355/63355 [==============================] - 45s 705us/sample - loss: 4.4960e-04 - accuracy: 0.9999\n",
      "Epoch 2/10\n",
      "63264/63355 [============================>.] - ETA: 0s - loss: 4.1013e-04 - accuracy: 0.9999WARNING:tensorflow:Early stopping conditioned on metric `val_loss` which is not available. Available metrics are: loss,accuracy\n",
      "63355/63355 [==============================] - 36s 575us/sample - loss: 4.0964e-04 - accuracy: 0.9999\n",
      "Epoch 3/10\n",
      "63264/63355 [============================>.] - ETA: 0s - loss: 3.9438e-04 - accuracy: 0.9999WARNING:tensorflow:Early stopping conditioned on metric `val_loss` which is not available. Available metrics are: loss,accuracy\n",
      "63355/63355 [==============================] - 36s 571us/sample - loss: 3.9437e-04 - accuracy: 0.9999\n",
      "Epoch 4/10\n",
      "63328/63355 [============================>.] - ETA: 0s - loss: 3.7834e-04 - accuracy: 0.9999WARNING:tensorflow:Early stopping conditioned on metric `val_loss` which is not available. Available metrics are: loss,accuracy\n",
      "63355/63355 [==============================] - 36s 570us/sample - loss: 3.7820e-04 - accuracy: 0.9999\n",
      "Epoch 5/10\n",
      "63264/63355 [============================>.] - ETA: 0s - loss: 3.5927e-04 - accuracy: 0.9999WARNING:tensorflow:Early stopping conditioned on metric `val_loss` which is not available. Available metrics are: loss,accuracy\n",
      "63355/63355 [==============================] - 36s 567us/sample - loss: 3.5880e-04 - accuracy: 0.9999\n",
      "Epoch 6/10\n",
      "63328/63355 [============================>.] - ETA: 0s - loss: 3.5867e-04 - accuracy: 0.9999WARNING:tensorflow:Early stopping conditioned on metric `val_loss` which is not available. Available metrics are: loss,accuracy\n",
      "63355/63355 [==============================] - 36s 567us/sample - loss: 3.5852e-04 - accuracy: 0.9999\n",
      "Epoch 7/10\n",
      "63264/63355 [============================>.] - ETA: 0s - loss: 3.5334e-04 - accuracy: 0.9999 ETA: 0s - losWARNING:tensorflow:Early stopping conditioned on metric `val_loss` which is not available. Available metrics are: loss,accuracy\n",
      "63355/63355 [==============================] - 31s 484us/sample - loss: 3.5285e-04 - accuracy: 0.9999\n",
      "Epoch 8/10\n",
      "63296/63355 [============================>.] - ETA: 0s - loss: 3.4742e-04 - accuracy: 0.9999WARNING:tensorflow:Early stopping conditioned on metric `val_loss` which is not available. Available metrics are: loss,accuracy\n",
      "63355/63355 [==============================] - 34s 532us/sample - loss: 3.4790e-04 - accuracy: 0.9999\n",
      "Epoch 9/10\n",
      "63328/63355 [============================>.] - ETA: 0s - loss: 3.5021e-04 - accuracy: 0.9999WARNING:tensorflow:Early stopping conditioned on metric `val_loss` which is not available. Available metrics are: loss,accuracy\n",
      "63355/63355 [==============================] - 36s 560us/sample - loss: 3.5011e-04 - accuracy: 0.9999\n",
      "Epoch 10/10\n",
      "63328/63355 [============================>.] - ETA: 0s - loss: 3.3410e-04 - accuracy: 0.9999WARNING:tensorflow:Early stopping conditioned on metric `val_loss` which is not available. Available metrics are: loss,accuracy\n",
      "63355/63355 [==============================] - 37s 578us/sample - loss: 3.3396e-04 - accuracy: 0.9999\n"
     ]
    },
    {
     "data": {
      "text/plain": [
       "<tensorflow.python.keras.callbacks.History at 0x262955b4b08>"
      ]
     },
     "execution_count": 12,
     "metadata": {},
     "output_type": "execute_result"
    },
    {
     "name": "stdout",
     "output_type": "stream",
     "text": [
      "accuracy_score 0.9998312970592413\n",
      "recall_score 0.9972144846796658\n",
      "precision_score 0.9974923376985233\n",
      "f1_score 0.9973533918373033\n",
      "Model: \"model_6\"\n",
      "_________________________________________________________________\n",
      "Layer (type)                 Output Shape              Param #   \n",
      "=================================================================\n",
      "input_1 (InputLayer)         [(None, 16, 256)]         0         \n",
      "_________________________________________________________________\n",
      "bidirectional (Bidirectional (None, 16, 48)            53952     \n",
      "_________________________________________________________________\n",
      "time_distributed (TimeDistri (None, 16, 1)             49        \n",
      "=================================================================\n",
      "Total params: 54,001\n",
      "Trainable params: 54,001\n",
      "Non-trainable params: 0\n",
      "_________________________________________________________________\n",
      "======Training stage======\n",
      "Train on 63355 samples\n",
      "Epoch 1/10\n",
      "63328/63355 [============================>.] - ETA: 0s - loss: 4.2326e-04 - accuracy: 0.9999WARNING:tensorflow:Early stopping conditioned on metric `val_loss` which is not available. Available metrics are: loss,accuracy\n",
      "63355/63355 [==============================] - 40s 638us/sample - loss: 4.2309e-04 - accuracy: 0.9999\n",
      "Epoch 2/10\n",
      "63296/63355 [============================>.] - ETA: 0s - loss: 3.9502e-04 - accuracy: 0.9999WARNING:tensorflow:Early stopping conditioned on metric `val_loss` which is not available. Available metrics are: loss,accuracy\n",
      "63355/63355 [==============================] - 35s 550us/sample - loss: 3.9610e-04 - accuracy: 0.9999\n",
      "Epoch 3/10\n",
      "63264/63355 [============================>.] - ETA: 0s - loss: 3.6123e-04 - accuracy: 0.9999WARNING:tensorflow:Early stopping conditioned on metric `val_loss` which is not available. Available metrics are: loss,accuracy\n",
      "63355/63355 [==============================] - 35s 551us/sample - loss: 3.6160e-04 - accuracy: 0.9999\n",
      "Epoch 4/10\n",
      "63232/63355 [============================>.] - ETA: 0s - loss: 3.6232e-04 - accuracy: 0.9999WARNING:tensorflow:Early stopping conditioned on metric `val_loss` which is not available. Available metrics are: loss,accuracy\n",
      "63355/63355 [==============================] - 35s 551us/sample - loss: 3.6165e-04 - accuracy: 0.9999\n",
      "Epoch 5/10\n",
      "63296/63355 [============================>.] - ETA: 0s - loss: 3.5159e-04 - accuracy: 0.9999WARNING:tensorflow:Early stopping conditioned on metric `val_loss` which is not available. Available metrics are: loss,accuracy\n",
      "63355/63355 [==============================] - 35s 548us/sample - loss: 3.5127e-04 - accuracy: 0.9999\n",
      "Epoch 6/10\n",
      "63328/63355 [============================>.] - ETA: 0s - loss: 3.5006e-04 - accuracy: 0.9999WARNING:tensorflow:Early stopping conditioned on metric `val_loss` which is not available. Available metrics are: loss,accuracy\n",
      "63355/63355 [==============================] - 35s 551us/sample - loss: 3.4993e-04 - accuracy: 0.9999\n",
      "Epoch 7/10\n",
      "63296/63355 [============================>.] - ETA: 0s - loss: 3.4070e-04 - accuracy: 0.9999WARNING:tensorflow:Early stopping conditioned on metric `val_loss` which is not available. Available metrics are: loss,accuracy\n",
      "63355/63355 [==============================] - 35s 553us/sample - loss: 3.4039e-04 - accuracy: 0.9999\n",
      "Epoch 8/10\n",
      "63328/63355 [============================>.] - ETA: 0s - loss: 3.4100e-04 - accuracy: 0.9999WARNING:tensorflow:Early stopping conditioned on metric `val_loss` which is not available. Available metrics are: loss,accuracy\n",
      "63355/63355 [==============================] - 33s 520us/sample - loss: 3.4146e-04 - accuracy: 0.9999\n",
      "Epoch 9/10\n",
      "63296/63355 [============================>.] - ETA: 0s - loss: 3.4202e-04 - accuracy: 0.9999WARNING:tensorflow:Early stopping conditioned on metric `val_loss` which is not available. Available metrics are: loss,accuracy\n",
      "63355/63355 [==============================] - 33s 524us/sample - loss: 3.4171e-04 - accuracy: 0.9999\n",
      "Epoch 10/10\n",
      "63328/63355 [============================>.] - ETA: 0s - loss: 3.4064e-04 - accuracy: 0.9999WARNING:tensorflow:Early stopping conditioned on metric `val_loss` which is not available. Available metrics are: loss,accuracy\n",
      "63355/63355 [==============================] - 35s 549us/sample - loss: 3.4051e-04 - accuracy: 0.9999\n"
     ]
    },
    {
     "data": {
      "text/plain": [
       "<tensorflow.python.keras.callbacks.History at 0x26211271908>"
      ]
     },
     "execution_count": 12,
     "metadata": {},
     "output_type": "execute_result"
    },
    {
     "name": "stdout",
     "output_type": "stream",
     "text": [
      "accuracy_score 0.9998401761613865\n",
      "recall_score 0.9980414101846671\n",
      "precision_score 0.9969256567915036\n",
      "f1_score 0.99748322147651\n",
      "Model: \"model_7\"\n",
      "_________________________________________________________________\n",
      "Layer (type)                 Output Shape              Param #   \n",
      "=================================================================\n",
      "input_1 (InputLayer)         [(None, 16, 256)]         0         \n",
      "_________________________________________________________________\n",
      "bidirectional (Bidirectional (None, 16, 48)            53952     \n",
      "_________________________________________________________________\n",
      "time_distributed (TimeDistri (None, 16, 1)             49        \n",
      "=================================================================\n",
      "Total params: 54,001\n",
      "Trainable params: 54,001\n",
      "Non-trainable params: 0\n",
      "_________________________________________________________________\n",
      "======Training stage======\n",
      "Train on 63355 samples\n",
      "Epoch 1/10\n",
      "63296/63355 [============================>.] - ETA: 0s - loss: 3.4631e-04 - accuracy: 0.9999 ETA: WARNING:tensorflow:Early stopping conditioned on metric `val_loss` which is not available. Available metrics are: loss,accuracy\n",
      "63355/63355 [==============================] - 41s 649us/sample - loss: 3.4962e-04 - accuracy: 0.9999\n",
      "Epoch 2/10\n",
      "63328/63355 [============================>.] - ETA: 0s - loss: 3.4164e-04 - accuracy: 0.9999WARNING:tensorflow:Early stopping conditioned on metric `val_loss` which is not available. Available metrics are: loss,accuracy\n",
      "63355/63355 [==============================] - 32s 508us/sample - loss: 3.4152e-04 - accuracy: 0.9999\n",
      "Epoch 3/10\n",
      "63328/63355 [============================>.] - ETA: 0s - loss: 3.2343e-04 - accuracy: 0.9999WARNING:tensorflow:Early stopping conditioned on metric `val_loss` which is not available. Available metrics are: loss,accuracy\n",
      "63355/63355 [==============================] - 34s 533us/sample - loss: 3.2330e-04 - accuracy: 0.9999\n",
      "Epoch 4/10\n",
      "63328/63355 [============================>.] - ETA: 0s - loss: 3.1019e-04 - accuracy: 0.9999 EWARNING:tensorflow:Early stopping conditioned on metric `val_loss` which is not available. Available metrics are: loss,accuracy\n",
      "63355/63355 [==============================] - 34s 533us/sample - loss: 3.1007e-04 - accuracy: 0.9999\n",
      "Epoch 5/10\n",
      "63264/63355 [============================>.] - ETA: 0s - loss: 3.1009e-04 - accuracy: 0.9999WARNING:tensorflow:Early stopping conditioned on metric `val_loss` which is not available. Available metrics are: loss,accuracy\n",
      "63355/63355 [==============================] - 34s 538us/sample - loss: 3.0965e-04 - accuracy: 0.9999\n",
      "Epoch 6/10\n",
      "63232/63355 [============================>.] - ETA: 0s - loss: 3.2243e-04 - accuracy: 0.9999 ETA: 0s - loss:WARNING:tensorflow:Early stopping conditioned on metric `val_loss` which is not available. Available metrics are: loss,accuracy\n",
      "63355/63355 [==============================] - 34s 531us/sample - loss: 3.2182e-04 - accuracy: 0.9999\n",
      "Epoch 7/10\n",
      "63328/63355 [============================>.] - ETA: 0s - loss: 3.1144e-04 - accuracy: 0.9999WARNING:tensorflow:Early stopping conditioned on metric `val_loss` which is not available. Available metrics are: loss,accuracy\n",
      "63355/63355 [==============================] - 34s 533us/sample - loss: 3.1131e-04 - accuracy: 0.9999\n",
      "Epoch 8/10\n",
      "63296/63355 [============================>.] - ETA: 0s - loss: 3.0919e-04 - accuracy: 0.9999WARNING:tensorflow:Early stopping conditioned on metric `val_loss` which is not available. Available metrics are: loss,accuracy\n",
      "63355/63355 [==============================] - 33s 520us/sample - loss: 3.0898e-04 - accuracy: 0.9999\n",
      "Epoch 9/10\n",
      "63296/63355 [============================>.] - ETA: 0s - loss: 2.9864e-04 - accuracy: 0.9999WARNING:tensorflow:Early stopping conditioned on metric `val_loss` which is not available. Available metrics are: loss,accuracy\n",
      "63355/63355 [==============================] - 32s 511us/sample - loss: 2.9843e-04 - accuracy: 0.9999\n",
      "Epoch 10/10\n",
      "63296/63355 [============================>.] - ETA: 0s - loss: 3.0803e-04 - accuracy: 0.9999WARNING:tensorflow:Early stopping conditioned on metric `val_loss` which is not available. Available metrics are: loss,accuracy\n",
      "63355/63355 [==============================] - 34s 532us/sample - loss: 3.0776e-04 - accuracy: 0.9999\n"
     ]
    },
    {
     "data": {
      "text/plain": [
       "<tensorflow.python.keras.callbacks.History at 0x262149efec8>"
      ]
     },
     "execution_count": 12,
     "metadata": {},
     "output_type": "execute_result"
    },
    {
     "name": "stdout",
     "output_type": "stream",
     "text": [
      "accuracy_score 0.9998668134678221\n",
      "recall_score 0.9977691020635806\n",
      "precision_score 0.998047419804742\n",
      "f1_score 0.9979082415283782\n",
      "Model: \"model_8\"\n",
      "_________________________________________________________________\n",
      "Layer (type)                 Output Shape              Param #   \n",
      "=================================================================\n",
      "input_1 (InputLayer)         [(None, 16, 256)]         0         \n",
      "_________________________________________________________________\n",
      "bidirectional (Bidirectional (None, 16, 48)            53952     \n",
      "_________________________________________________________________\n",
      "time_distributed (TimeDistri (None, 16, 1)             49        \n",
      "=================================================================\n",
      "Total params: 54,001\n",
      "Trainable params: 54,001\n",
      "Non-trainable params: 0\n",
      "_________________________________________________________________\n",
      "======Training stage======\n",
      "Train on 63355 samples\n",
      "Epoch 1/10\n",
      "63264/63355 [============================>.] - ETA: 0s - loss: 3.3811e-04 - accuracy: 0.9999WARNING:tensorflow:Early stopping conditioned on metric `val_loss` which is not available. Available metrics are: loss,accuracy\n",
      "63355/63355 [==============================] - 46s 734us/sample - loss: 3.3763e-04 - accuracy: 0.9999\n",
      "Epoch 2/10\n",
      "63328/63355 [============================>.] - ETA: 0s - loss: 3.2747e-04 - accuracy: 0.9999WARNING:tensorflow:Early stopping conditioned on metric `val_loss` which is not available. Available metrics are: loss,accuracy\n",
      "63355/63355 [==============================] - 39s 618us/sample - loss: 3.2733e-04 - accuracy: 0.9999\n",
      "Epoch 3/10\n",
      "63296/63355 [============================>.] - ETA: 0s - loss: 3.1295e-04 - accuracy: 0.9999WARNING:tensorflow:Early stopping conditioned on metric `val_loss` which is not available. Available metrics are: loss,accuracy\n",
      "63355/63355 [==============================] - 39s 622us/sample - loss: 3.1276e-04 - accuracy: 0.9999\n",
      "Epoch 4/10\n",
      "63328/63355 [============================>.] - ETA: 0s - loss: 3.0664e-04 - accuracy: 0.9999WARNING:tensorflow:Early stopping conditioned on metric `val_loss` which is not available. Available metrics are: loss,accuracy\n",
      "63355/63355 [==============================] - 39s 618us/sample - loss: 3.0651e-04 - accuracy: 0.9999\n",
      "Epoch 5/10\n",
      "63264/63355 [============================>.] - ETA: 0s - loss: 3.0692e-04 - accuracy: 0.9999WARNING:tensorflow:Early stopping conditioned on metric `val_loss` which is not available. Available metrics are: loss,accuracy\n",
      "63355/63355 [==============================] - 39s 620us/sample - loss: 3.0708e-04 - accuracy: 0.9999\n",
      "Epoch 6/10\n",
      "63296/63355 [============================>.] - ETA: 0s - loss: 2.9558e-04 - accuracy: 0.9999WARNING:tensorflow:Early stopping conditioned on metric `val_loss` which is not available. Available metrics are: loss,accuracy\n",
      "63355/63355 [==============================] - 38s 606us/sample - loss: 2.9530e-04 - accuracy: 0.9999\n",
      "Epoch 7/10\n",
      "63264/63355 [============================>.] - ETA: 0s - loss: 2.6556e-04 - accuracy: 0.9999WARNING:tensorflow:Early stopping conditioned on metric `val_loss` which is not available. Available metrics are: loss,accuracy\n",
      "63355/63355 [==============================] - 39s 619us/sample - loss: 2.6519e-04 - accuracy: 0.9999\n",
      "Epoch 8/10\n",
      "63296/63355 [============================>.] - ETA: 0s - loss: 2.8096e-04 - accuracy: 0.9999 ETA: 0s - loss: 2.8442e-04 WARNING:tensorflow:Early stopping conditioned on metric `val_loss` which is not available. Available metrics are: loss,accuracy\n",
      "63355/63355 [==============================] - 39s 617us/sample - loss: 2.8070e-04 - accuracy: 0.9999\n",
      "Epoch 9/10\n",
      "63232/63355 [============================>.] - ETA: 0s - loss: 2.6359e-04 - accuracy: 0.9999WARNING:tensorflow:Early stopping conditioned on metric `val_loss` which is not available. Available metrics are: loss,accuracy\n",
      "63355/63355 [==============================] - 38s 603us/sample - loss: 2.6309e-04 - accuracy: 0.9999\n",
      "Epoch 10/10\n",
      "63296/63355 [============================>.] - ETA: 0s - loss: 2.7963e-04 - accuracy: 0.9999WARNING:tensorflow:Early stopping conditioned on metric `val_loss` which is not available. Available metrics are: loss,accuracy\n",
      "63355/63355 [==============================] - 35s 547us/sample - loss: 2.7947e-04 - accuracy: 0.9999\n"
     ]
    },
    {
     "data": {
      "text/plain": [
       "<tensorflow.python.keras.callbacks.History at 0x262a152a7c8>"
      ]
     },
     "execution_count": 12,
     "metadata": {},
     "output_type": "execute_result"
    },
    {
     "name": "stdout",
     "output_type": "stream",
     "text": [
      "accuracy_score 0.9998934507742577\n",
      "recall_score 0.9977298524404086\n",
      "precision_score 0.9988636363636364\n",
      "f1_score 0.9982964224872231\n",
      "Model: \"model_9\"\n",
      "_________________________________________________________________\n",
      "Layer (type)                 Output Shape              Param #   \n",
      "=================================================================\n",
      "input_1 (InputLayer)         [(None, 16, 256)]         0         \n",
      "_________________________________________________________________\n",
      "bidirectional (Bidirectional (None, 16, 48)            53952     \n",
      "_________________________________________________________________\n",
      "time_distributed (TimeDistri (None, 16, 1)             49        \n",
      "=================================================================\n",
      "Total params: 54,001\n",
      "Trainable params: 54,001\n",
      "Non-trainable params: 0\n",
      "_________________________________________________________________\n",
      "======Training stage======\n",
      "Train on 63355 samples\n",
      "Epoch 1/10\n",
      "63232/63355 [============================>.] - ETA: 0s - loss: 2.9981e-04 - accuracy: 0.9999WARNING:tensorflow:Early stopping conditioned on metric `val_loss` which is not available. Available metrics are: loss,accuracy\n",
      "63355/63355 [==============================] - 35s 556us/sample - loss: 2.9927e-04 - accuracy: 0.9999\n",
      "Epoch 2/10\n",
      "63296/63355 [============================>.] - ETA: 0s - loss: 2.7232e-04 - accuracy: 0.9999 ETA: 0s - losWARNING:tensorflow:Early stopping conditioned on metric `val_loss` which is not available. Available metrics are: loss,accuracy\n",
      "63355/63355 [==============================] - 30s 477us/sample - loss: 2.7207e-04 - accuracy: 0.9999\n",
      "Epoch 3/10\n",
      "63296/63355 [============================>.] - ETA: 0s - loss: 2.6535e-04 - accuracy: 0.9999 ETA: 0s - loss: 2.6588e-04 - accuracy: 0.99WARNING:tensorflow:Early stopping conditioned on metric `val_loss` which is not available. Available metrics are: loss,accuracy\n",
      "63355/63355 [==============================] - 30s 476us/sample - loss: 2.6511e-04 - accuracy: 0.9999\n",
      "Epoch 4/10\n",
      "63232/63355 [============================>.] - ETA: 0s - loss: 2.9464e-04 - accuracy: 0.9999 ETA:  - ETA: 0s - loss: 2.8823e-04 - accuracy: 0.99 - ETA: 0s - loss: 2.8WARNING:tensorflow:Early stopping conditioned on metric `val_loss` which is not available. Available metrics are: loss,accuracy\n",
      "63355/63355 [==============================] - 30s 470us/sample - loss: 2.9409e-04 - accuracy: 0.9999\n",
      "Epoch 5/10\n",
      "63264/63355 [============================>.] - ETA: 0s - loss: 2.7601e-04 - accuracy: 0.9999WARNING:tensorflow:Early stopping conditioned on metric `val_loss` which is not available. Available metrics are: loss,accuracy\n",
      "63355/63355 [==============================] - 30s 469us/sample - loss: 2.7562e-04 - accuracy: 0.9999\n",
      "Epoch 6/10\n",
      "63296/63355 [============================>.] - ETA: 0s - loss: 2.5616e-04 - accuracy: 0.9999 ETA: 0s - loss: 2.5WARNING:tensorflow:Early stopping conditioned on metric `val_loss` which is not available. Available metrics are: loss,accuracy\n",
      "63355/63355 [==============================] - 30s 470us/sample - loss: 2.5592e-04 - accuracy: 0.9999\n",
      "Epoch 7/10\n",
      "63264/63355 [============================>.] - ETA: 0s - loss: 2.5069e-04 - accuracy: 0.9999WARNING:tensorflow:Early stopping conditioned on metric `val_loss` which is not available. Available metrics are: loss,accuracy\n",
      "63355/63355 [==============================] - 30s 468us/sample - loss: 2.6555e-04 - accuracy: 0.9999\n",
      "Epoch 8/10\n",
      "63328/63355 [============================>.] - ETA: 0s - loss: 2.6020e-04 - accuracy: 0.9999WARNING:tensorflow:Early stopping conditioned on metric `val_loss` which is not available. Available metrics are: loss,accuracy\n",
      "63355/63355 [==============================] - 30s 469us/sample - loss: 2.6009e-04 - accuracy: 0.9999\n",
      "Epoch 9/10\n",
      "63264/63355 [============================>.] - ETA: 0s - loss: 2.7568e-04 - accuracy: 0.9999WARNING:tensorflow:Early stopping conditioned on metric `val_loss` which is not available. Available metrics are: loss,accuracy\n",
      "63355/63355 [==============================] - 24s 373us/sample - loss: 2.7578e-04 - accuracy: 0.9999\n",
      "Epoch 10/10\n",
      "63264/63355 [============================>.] - ETA: 0s - loss: 2.5133e-04 - accuracy: 0.9999WARNING:tensorflow:Early stopping conditioned on metric `val_loss` which is not available. Available metrics are: loss,accuracy\n",
      "63355/63355 [==============================] - 21s 335us/sample - loss: 2.5097e-04 - accuracy: 0.9999\n"
     ]
    },
    {
     "data": {
      "text/plain": [
       "<tensorflow.python.keras.callbacks.History at 0x262170fd948>"
      ]
     },
     "execution_count": 12,
     "metadata": {},
     "output_type": "execute_result"
    },
    {
     "name": "stdout",
     "output_type": "stream",
     "text": [
      "accuracy_score 0.9998490552635317\n",
      "recall_score 0.9953837276399308\n",
      "precision_score 0.9997102289191538\n",
      "f1_score 0.997542287118693\n",
      "\n",
      "K-fold cross validation Accuracy: [0.9995649857954545, 0.9996537642045454, 0.9996360085227273, 0.9998224431818182, 0.9997780224463703, 0.9998312970592413, 0.9998401761613865, 0.9998668134678221, 0.9998934507742577, 0.9998490552635317]\n",
      "\n",
      "K-fold cross validation Recall: [0.9882159495752261, 0.9922502075837254, 0.9902152641878669, 0.9955094021891664, 0.9953180941889287, 0.9972144846796658, 0.9980414101846671, 0.9977691020635806, 0.9977298524404086, 0.9953837276399308]\n",
      "\n",
      "K-fold cross validation Precision: [0.9983388704318937, 0.9969410456062291, 0.9983089064261556, 0.998873556744579, 0.9977912755383765, 0.9974923376985233, 0.9969256567915036, 0.998047419804742, 0.9988636363636364, 0.9997102289191538]\n",
      "\n",
      "K-fold cross validation F1-Score: [0.993251618234403, 0.9945900957136912, 0.9942456140350877, 0.9971886421141412, 0.9965531504205156, 0.9973533918373033, 0.99748322147651, 0.9979082415283782, 0.9982964224872231, 0.997542287118693]\n"
     ]
    }
   ],
   "source": [
    "# 교차검증 kfold\n",
    "from sklearn.model_selection import KFold\n",
    "\n",
    "# Accuracy, Precision, Recall, F1-Score\n",
    "from sklearn.metrics import accuracy_score, recall_score, precision_score, f1_score\n",
    "\n",
    "# Confusion Matrix, ROC Curve\n",
    "from sklearn.metrics import confusion_matrix, roc_auc_score\n",
    "\n",
    "# 최종 평가지표들 평균용\n",
    "accuracy, recall, precision, f1score, cm = [], [], [], [], []\n",
    "\n",
    "# 11. 교차검증 kfold - k.split - 10회 / K-Fold 객체 생성\n",
    "# kf = KFold(n_splits=10, shuffle=False, random_state=None) # KFold non shuffle 버전\n",
    "kf = KFold(n_splits=10, shuffle=True, random_state=None) # KFold non shuffle 버전\n",
    "\n",
    "for train, validation in kf.split(x_bc6_3, y_bc6_3):\n",
    "    model1 = models.Model(xInput, xOutput)\n",
    "    model1.compile(loss='binary_crossentropy', optimizer='rmsprop', metrics=['accuracy'])\n",
    "    model1.summary()\n",
    "    print('======Training stage======')\n",
    "    model1.fit(x_bc6_3[train],\n",
    "               y_bc6_3[train],\n",
    "               epochs = 10,\n",
    "               batch_size = 32,\n",
    "               callbacks=[early_stopping])\n",
    "    #k_accuracy = '%.4f' %(model1.evaluate(data_10000x[validation], data_10000y[validation])[1])\n",
    "\n",
    "# 12. 교차검증결과 predict - 검증셋들\n",
    "    # predict 값\n",
    "    k_pr = model1.predict(x_bc6_3[validation])\n",
    "    \n",
    "    # 테스트 predict 결과들 비교 (평가지표 보기위함)\n",
    "    pred = np.round(np.array(k_pr).flatten().tolist())\n",
    "    y_test = np.array(y_bc6_3[validation]).flatten().tolist()\n",
    "    \n",
    "# 13. 평가지표들 출력\n",
    "    ## 평가지표들\n",
    "    k_accuracy = float(accuracy_score(y_test, pred))\n",
    "    k_recall =  float(recall_score(y_test, pred))\n",
    "    k_precision = float(precision_score(y_test, pred))\n",
    "    k_f1_score = float(f1_score(y_test, pred))\n",
    "    #k_cm = float(confusion_matrix(y_test, pred))\n",
    "    \n",
    "    print('accuracy_score', k_accuracy)\n",
    "    print('recall_score', k_recall)\n",
    "    print('precision_score', k_precision)\n",
    "    print('f1_score', k_f1_score)\n",
    "    #print('\\nconfusion_matrix\\n', k_cm)\n",
    "\n",
    "    accuracy.append(k_accuracy)\n",
    "    recall.append(k_recall)\n",
    "    precision.append(k_precision)\n",
    "    f1score.append(k_f1_score)\n",
    "    #cm.append(k_cm)\n",
    "#    print('roc_curve 면적', roc_auc_score(y_test, pred))\n",
    "\n",
    "# 최종 결과지표\n",
    "print('\\nK-fold cross validation Accuracy: {}'.format(accuracy))\n",
    "print('\\nK-fold cross validation Recall: {}'.format(recall))\n",
    "print('\\nK-fold cross validation Precision: {}'.format(precision))\n",
    "print('\\nK-fold cross validation F1-Score: {}'.format(f1score))\n",
    "#print('\\nK-fold cross validation ConfusionMatrix: {}'.format(cm))"
   ]
  },
  {
   "cell_type": "markdown",
   "metadata": {},
   "source": [
    "## (9) 평가지표"
   ]
  },
  {
   "cell_type": "code",
   "execution_count": 13,
   "metadata": {},
   "outputs": [
    {
     "name": "stdout",
     "output_type": "stream",
     "text": [
      "10-Fold Cross_validation. Accuracy : 0.9997736016877156\n",
      "10-Fold Cross_validation. Recall : 0.9947647494733166\n",
      "10-Fold Cross_validation. Precision : 0.9981292934324794\n",
      "10-Fold Cross_validation. F1-Score : 0.9964412684965946\n"
     ]
    }
   ],
   "source": [
    "print('10-Fold Cross_validation. Accuracy :', np.mean(accuracy))\n",
    "print('10-Fold Cross_validation. Recall :', np.mean(recall))\n",
    "print('10-Fold Cross_validation. Precision :', np.mean(precision))\n",
    "print('10-Fold Cross_validation. F1-Score :', np.mean(f1score))"
   ]
  },
  {
   "cell_type": "code",
   "execution_count": 14,
   "metadata": {},
   "outputs": [
    {
     "name": "stdout",
     "output_type": "stream",
     "text": [
      "save 완료\n"
     ]
    }
   ],
   "source": [
    "model1.save('gcc6_bin_core_s16_h24_o3.h5')\n",
    "print('save 완료')"
   ]
  }
 ],
 "metadata": {
  "kernelspec": {
   "display_name": "Python 3",
   "language": "python",
   "name": "python3"
  },
  "language_info": {
   "codemirror_mode": {
    "name": "ipython",
    "version": 3
   },
   "file_extension": ".py",
   "mimetype": "text/x-python",
   "name": "python",
   "nbconvert_exporter": "python",
   "pygments_lexer": "ipython3",
   "version": "3.7.9"
  }
 },
 "nbformat": 4,
 "nbformat_minor": 4
}
